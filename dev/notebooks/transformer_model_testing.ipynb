{
 "cells": [
  {
   "cell_type": "markdown",
   "id": "093fc20d",
   "metadata": {},
   "source": [
    "# Transformer Model\n",
    "\n",
    "My idea here is to use the TF expression, RE availability, and the distance from RE to TG TSS as the input to a transformer model which predicts TG expression. The output of the transformer will be the predicted expression of each TG, which will be compared to the expression in the dataset."
   ]
  },
  {
   "cell_type": "code",
   "execution_count": 1,
   "id": "9f5461be",
   "metadata": {},
   "outputs": [
    {
     "name": "stdout",
     "output_type": "stream",
     "text": [
      "   Static hostname: psh01com1hcom34\n",
      "         Icon name: computer-server\n",
      "           Chassis: server\n",
      "        Machine ID: 4232d1115a5548e982021ba5a27af5c3\n",
      "           Boot ID: 7722405a22e04dd3b701e19ac5a96705\n",
      "  Operating System: \u001b]8;;https://www.redhat.com/\u0007Red Hat Enterprise Linux 8.10 (Ootpa)\u001b]8;;\u0007\n",
      "       CPE OS Name: cpe:/o:redhat:enterprise_linux:8::baseos\n",
      "            Kernel: Linux 4.18.0-553.22.1.el8_10.x86_64\n",
      "      Architecture: x86-64\n"
     ]
    }
   ],
   "source": [
    "!hostnamectl"
   ]
  },
  {
   "cell_type": "code",
   "execution_count": 14,
   "id": "01f752da",
   "metadata": {},
   "outputs": [],
   "source": [
    "\n",
    "import os\n",
    "import torch\n",
    "import torch.nn as nn\n",
    "import torch.nn.functional as F\n",
    "import torch.optim as optim\n",
    "import numpy as np\n",
    "import pandas as pd\n",
    "import pybedtools\n",
    "from grn_inference import utils\n",
    "\n",
    "torch.manual_seed(1)\n",
    "np.random.seed(42)\n",
    "\n",
    "project_dir = \"/gpfs/Labs/Uzun/SCRIPTS/PROJECTS/2024.SINGLE_CELL_GRN_INFERENCE.MOELLER\"\n",
    "mm10_genome_dir = os.path.join(project_dir, \"data/reference_genome/mm10\")\n",
    "mm10_gene_tss_file = os.path.join(project_dir, \"data/genome_annotation/mm10/mm10_TSS.bed\")\n",
    "ground_truth_dir = os.path.join(project_dir, \"ground_truth_files\")\n",
    "sample_input_dir = os.path.join(project_dir, \"input/mESC/filtered_L2_E7.5_rep1\")\n",
    "output_dir = os.path.join(project_dir, \"output/transformer_testing_output\")"
   ]
  },
  {
   "cell_type": "markdown",
   "id": "879169c6",
   "metadata": {},
   "source": [
    "### Splitting the mm10 genome into ranges\n",
    "\n",
    "Peak locations are going to be different for every sample. If I want to allow my method to work across multiple samples, I will need to split peaks into genomic ranges to allow the model to learn. If the peak overlaps with two genomic ranges, they will be counted as being located in the range which overlaps with the majority of the peak. If a peak is evenly split between two ranges, it will be randomly assigned."
   ]
  },
  {
   "cell_type": "markdown",
   "id": "6dec0778",
   "metadata": {},
   "source": [
    "#### Read in the mm10 gene TSS bed file"
   ]
  },
  {
   "cell_type": "code",
   "execution_count": 4,
   "id": "e5fbf2c0",
   "metadata": {},
   "outputs": [],
   "source": [
    "mm10_fasta_file = os.path.join(mm10_genome_dir, \"chr1.fa\")\n",
    "mm10_chrom_sizes_file = os.path.join(mm10_genome_dir, \"chrom.sizes\")"
   ]
  },
  {
   "cell_type": "code",
   "execution_count": 48,
   "id": "b6b725b1",
   "metadata": {},
   "outputs": [
    {
     "name": "stdout",
     "output_type": "stream",
     "text": [
      "Reading and formatting TSS bed file\n"
     ]
    },
    {
     "data": {
      "text/html": [
       "<div>\n",
       "<style scoped>\n",
       "    .dataframe tbody tr th:only-of-type {\n",
       "        vertical-align: middle;\n",
       "    }\n",
       "\n",
       "    .dataframe tbody tr th {\n",
       "        vertical-align: top;\n",
       "    }\n",
       "\n",
       "    .dataframe thead th {\n",
       "        text-align: right;\n",
       "    }\n",
       "</style>\n",
       "<table border=\"1\" class=\"dataframe\">\n",
       "  <thead>\n",
       "    <tr style=\"text-align: right;\">\n",
       "      <th></th>\n",
       "      <th>chrom</th>\n",
       "      <th>start</th>\n",
       "      <th>end</th>\n",
       "      <th>name</th>\n",
       "      <th>score</th>\n",
       "      <th>strand</th>\n",
       "    </tr>\n",
       "  </thead>\n",
       "  <tbody>\n",
       "    <tr>\n",
       "      <th>0</th>\n",
       "      <td>chr1</td>\n",
       "      <td>3671498</td>\n",
       "      <td>3671498</td>\n",
       "      <td>Xkr4</td>\n",
       "      <td>.</td>\n",
       "      <td>-</td>\n",
       "    </tr>\n",
       "    <tr>\n",
       "      <th>1</th>\n",
       "      <td>chr1</td>\n",
       "      <td>4360303</td>\n",
       "      <td>4360303</td>\n",
       "      <td>Rp1</td>\n",
       "      <td>.</td>\n",
       "      <td>-</td>\n",
       "    </tr>\n",
       "    <tr>\n",
       "      <th>2</th>\n",
       "      <td>chr1</td>\n",
       "      <td>4360314</td>\n",
       "      <td>4360314</td>\n",
       "      <td>Rp1</td>\n",
       "      <td>.</td>\n",
       "      <td>-</td>\n",
       "    </tr>\n",
       "    <tr>\n",
       "      <th>3</th>\n",
       "      <td>chr1</td>\n",
       "      <td>4409241</td>\n",
       "      <td>4409241</td>\n",
       "      <td>Rp1</td>\n",
       "      <td>.</td>\n",
       "      <td>-</td>\n",
       "    </tr>\n",
       "    <tr>\n",
       "      <th>4</th>\n",
       "      <td>chr1</td>\n",
       "      <td>4497354</td>\n",
       "      <td>4497354</td>\n",
       "      <td>Sox17</td>\n",
       "      <td>.</td>\n",
       "      <td>-</td>\n",
       "    </tr>\n",
       "  </tbody>\n",
       "</table>\n",
       "</div>"
      ],
      "text/plain": [
       "  chrom    start      end   name score strand\n",
       "0  chr1  3671498  3671498   Xkr4     .      -\n",
       "1  chr1  4360303  4360303    Rp1     .      -\n",
       "2  chr1  4360314  4360314    Rp1     .      -\n",
       "3  chr1  4409241  4409241    Rp1     .      -\n",
       "4  chr1  4497354  4497354  Sox17     .      -"
      ]
     },
     "execution_count": 48,
     "metadata": {},
     "output_type": "execute_result"
    }
   ],
   "source": [
    "print(\"Reading and formatting TSS bed file\")\n",
    "mm10_gene_tss_bed = pybedtools.BedTool(mm10_gene_tss_file)\n",
    "gene_tss_df = (\n",
    "    mm10_gene_tss_bed\n",
    "    .filter(lambda x: x.chrom == \"chr1\")\n",
    "    .saveas(os.path.join(mm10_genome_dir, \"mm10_ch1_gene_tss.bed\"))\n",
    "    .to_dataframe()\n",
    "    .sort_values(by=\"start\", ascending=True)\n",
    "    )\n",
    "gene_tss_df.head()\n",
    "\n"
   ]
  },
  {
   "cell_type": "markdown",
   "id": "5603ad8f",
   "metadata": {},
   "source": [
    "#### Read in the scATAC-seq dataset"
   ]
  },
  {
   "cell_type": "markdown",
   "id": "2c487120",
   "metadata": {},
   "source": [
    "We will also need the ATAC-seq dataset that we will use for training. We will load in the scATAC-seq counts csv file."
   ]
  },
  {
   "cell_type": "code",
   "execution_count": 43,
   "id": "bac27da5",
   "metadata": {},
   "outputs": [
    {
     "data": {
      "text/html": [
       "<div>\n",
       "<style scoped>\n",
       "    .dataframe tbody tr th:only-of-type {\n",
       "        vertical-align: middle;\n",
       "    }\n",
       "\n",
       "    .dataframe tbody tr th {\n",
       "        vertical-align: top;\n",
       "    }\n",
       "\n",
       "    .dataframe thead th {\n",
       "        text-align: right;\n",
       "    }\n",
       "</style>\n",
       "<table border=\"1\" class=\"dataframe\">\n",
       "  <thead>\n",
       "    <tr style=\"text-align: right;\">\n",
       "      <th></th>\n",
       "      <th>chrom</th>\n",
       "      <th>start</th>\n",
       "      <th>end</th>\n",
       "      <th>strand</th>\n",
       "      <th>peak_id</th>\n",
       "    </tr>\n",
       "  </thead>\n",
       "  <tbody>\n",
       "    <tr>\n",
       "      <th>0</th>\n",
       "      <td>chr1</td>\n",
       "      <td>3035602</td>\n",
       "      <td>3036202</td>\n",
       "      <td>.</td>\n",
       "      <td>chr1:3035602-3036202</td>\n",
       "    </tr>\n",
       "    <tr>\n",
       "      <th>1</th>\n",
       "      <td>chr1</td>\n",
       "      <td>3062653</td>\n",
       "      <td>3063253</td>\n",
       "      <td>.</td>\n",
       "      <td>chr1:3062653-3063253</td>\n",
       "    </tr>\n",
       "    <tr>\n",
       "      <th>2</th>\n",
       "      <td>chr1</td>\n",
       "      <td>3072313</td>\n",
       "      <td>3072913</td>\n",
       "      <td>.</td>\n",
       "      <td>chr1:3072313-3072913</td>\n",
       "    </tr>\n",
       "    <tr>\n",
       "      <th>3</th>\n",
       "      <td>chr1</td>\n",
       "      <td>3191496</td>\n",
       "      <td>3192096</td>\n",
       "      <td>.</td>\n",
       "      <td>chr1:3191496-3192096</td>\n",
       "    </tr>\n",
       "    <tr>\n",
       "      <th>4</th>\n",
       "      <td>chr1</td>\n",
       "      <td>3340575</td>\n",
       "      <td>3341175</td>\n",
       "      <td>.</td>\n",
       "      <td>chr1:3340575-3341175</td>\n",
       "    </tr>\n",
       "  </tbody>\n",
       "</table>\n",
       "</div>"
      ],
      "text/plain": [
       "  chrom    start      end strand               peak_id\n",
       "0  chr1  3035602  3036202      .  chr1:3035602-3036202\n",
       "1  chr1  3062653  3063253      .  chr1:3062653-3063253\n",
       "2  chr1  3072313  3072913      .  chr1:3072313-3072913\n",
       "3  chr1  3191496  3192096      .  chr1:3191496-3192096\n",
       "4  chr1  3340575  3341175      .  chr1:3340575-3341175"
      ]
     },
     "execution_count": 43,
     "metadata": {},
     "output_type": "execute_result"
    }
   ],
   "source": [
    "mesc_atac_data = pd.read_csv(\n",
    "    os.path.join(sample_input_dir, \"mESC_filtered_L2_E7.5_rep1_ATAC.csv\"), \n",
    "    header=0, \n",
    "    index_col=0\n",
    "    )\n",
    "mesc_atac_peak_loc = mesc_atac_data.index\n",
    "mesc_atac_peak_loc = utils.format_peaks(mesc_atac_peak_loc)\n",
    "mesc_atac_peak_loc = mesc_atac_peak_loc[mesc_atac_peak_loc[\"chromosome\"] == \"chr1\"]\n",
    "mesc_atac_peak_loc = mesc_atac_peak_loc.rename(columns={\"chromosome\":\"chrom\"})\n",
    "mesc_atac_peak_loc.head()"
   ]
  },
  {
   "cell_type": "markdown",
   "id": "984ceb6e",
   "metadata": {},
   "source": [
    "We will also restrict the scATAC-seq data to only use chromatin accessibility data for chromosome 1 for now."
   ]
  },
  {
   "cell_type": "code",
   "execution_count": 47,
   "id": "6f0c0239",
   "metadata": {},
   "outputs": [
    {
     "data": {
      "text/html": [
       "<div>\n",
       "<style scoped>\n",
       "    .dataframe tbody tr th:only-of-type {\n",
       "        vertical-align: middle;\n",
       "    }\n",
       "\n",
       "    .dataframe tbody tr th {\n",
       "        vertical-align: top;\n",
       "    }\n",
       "\n",
       "    .dataframe thead th {\n",
       "        text-align: right;\n",
       "    }\n",
       "</style>\n",
       "<table border=\"1\" class=\"dataframe\">\n",
       "  <thead>\n",
       "    <tr style=\"text-align: right;\">\n",
       "      <th></th>\n",
       "      <th>E7.5_rep1#AAACATGCAATGAATG-1</th>\n",
       "      <th>E7.5_rep1#AAACATGCAATTATGC-1</th>\n",
       "      <th>E7.5_rep1#AAACATGCACCTATAG-1</th>\n",
       "    </tr>\n",
       "  </thead>\n",
       "  <tbody>\n",
       "    <tr>\n",
       "      <th>chr1:3035602-3036202</th>\n",
       "      <td>0</td>\n",
       "      <td>0</td>\n",
       "      <td>0</td>\n",
       "    </tr>\n",
       "    <tr>\n",
       "      <th>chr1:3062653-3063253</th>\n",
       "      <td>0</td>\n",
       "      <td>0</td>\n",
       "      <td>0</td>\n",
       "    </tr>\n",
       "    <tr>\n",
       "      <th>chr1:3072313-3072913</th>\n",
       "      <td>0</td>\n",
       "      <td>0</td>\n",
       "      <td>0</td>\n",
       "    </tr>\n",
       "    <tr>\n",
       "      <th>chr1:3191496-3192096</th>\n",
       "      <td>0</td>\n",
       "      <td>0</td>\n",
       "      <td>0</td>\n",
       "    </tr>\n",
       "    <tr>\n",
       "      <th>chr1:3340575-3341175</th>\n",
       "      <td>0</td>\n",
       "      <td>0</td>\n",
       "      <td>0</td>\n",
       "    </tr>\n",
       "  </tbody>\n",
       "</table>\n",
       "</div>"
      ],
      "text/plain": [
       "                      E7.5_rep1#AAACATGCAATGAATG-1  \\\n",
       "chr1:3035602-3036202                             0   \n",
       "chr1:3062653-3063253                             0   \n",
       "chr1:3072313-3072913                             0   \n",
       "chr1:3191496-3192096                             0   \n",
       "chr1:3340575-3341175                             0   \n",
       "\n",
       "                      E7.5_rep1#AAACATGCAATTATGC-1  \\\n",
       "chr1:3035602-3036202                             0   \n",
       "chr1:3062653-3063253                             0   \n",
       "chr1:3072313-3072913                             0   \n",
       "chr1:3191496-3192096                             0   \n",
       "chr1:3340575-3341175                             0   \n",
       "\n",
       "                      E7.5_rep1#AAACATGCACCTATAG-1  \n",
       "chr1:3035602-3036202                             0  \n",
       "chr1:3062653-3063253                             0  \n",
       "chr1:3072313-3072913                             0  \n",
       "chr1:3191496-3192096                             0  \n",
       "chr1:3340575-3341175                             0  "
      ]
     },
     "execution_count": 47,
     "metadata": {},
     "output_type": "execute_result"
    }
   ],
   "source": [
    "mesc_atac_data_chr1 = mesc_atac_data[mesc_atac_data.index.isin(mesc_atac_peak_loc.peak_id)]\n",
    "mesc_atac_data_chr1.iloc[:5, :3].head()"
   ]
  },
  {
   "cell_type": "markdown",
   "id": "285a4989",
   "metadata": {},
   "source": [
    "#### Read in the scRNA-seq dataset\n",
    "\n",
    "In addition to the ATAC-seq dataset, we will also need the corresponding gene expression from the scRNA-seq counts csv file."
   ]
  },
  {
   "cell_type": "code",
   "execution_count": 40,
   "id": "5a5c35e1",
   "metadata": {},
   "outputs": [
    {
     "data": {
      "text/html": [
       "<div>\n",
       "<style scoped>\n",
       "    .dataframe tbody tr th:only-of-type {\n",
       "        vertical-align: middle;\n",
       "    }\n",
       "\n",
       "    .dataframe tbody tr th {\n",
       "        vertical-align: top;\n",
       "    }\n",
       "\n",
       "    .dataframe thead th {\n",
       "        text-align: right;\n",
       "    }\n",
       "</style>\n",
       "<table border=\"1\" class=\"dataframe\">\n",
       "  <thead>\n",
       "    <tr style=\"text-align: right;\">\n",
       "      <th></th>\n",
       "      <th>E7.5_rep1#AAACATGCAATGAATG-1</th>\n",
       "      <th>E7.5_rep1#AAACATGCAATTATGC-1</th>\n",
       "      <th>E7.5_rep1#AAACATGCACCTATAG-1</th>\n",
       "    </tr>\n",
       "  </thead>\n",
       "  <tbody>\n",
       "    <tr>\n",
       "      <th>Xkr4</th>\n",
       "      <td>0</td>\n",
       "      <td>0</td>\n",
       "      <td>2</td>\n",
       "    </tr>\n",
       "    <tr>\n",
       "      <th>Sox17</th>\n",
       "      <td>0</td>\n",
       "      <td>0</td>\n",
       "      <td>0</td>\n",
       "    </tr>\n",
       "    <tr>\n",
       "      <th>Mrpl15</th>\n",
       "      <td>1</td>\n",
       "      <td>0</td>\n",
       "      <td>0</td>\n",
       "    </tr>\n",
       "    <tr>\n",
       "      <th>Lypla1</th>\n",
       "      <td>0</td>\n",
       "      <td>1</td>\n",
       "      <td>0</td>\n",
       "    </tr>\n",
       "    <tr>\n",
       "      <th>Tcea1</th>\n",
       "      <td>1</td>\n",
       "      <td>1</td>\n",
       "      <td>1</td>\n",
       "    </tr>\n",
       "  </tbody>\n",
       "</table>\n",
       "</div>"
      ],
      "text/plain": [
       "        E7.5_rep1#AAACATGCAATGAATG-1  E7.5_rep1#AAACATGCAATTATGC-1  \\\n",
       "Xkr4                               0                             0   \n",
       "Sox17                              0                             0   \n",
       "Mrpl15                             1                             0   \n",
       "Lypla1                             0                             1   \n",
       "Tcea1                              1                             1   \n",
       "\n",
       "        E7.5_rep1#AAACATGCACCTATAG-1  \n",
       "Xkr4                               2  \n",
       "Sox17                              0  \n",
       "Mrpl15                             0  \n",
       "Lypla1                             0  \n",
       "Tcea1                              1  "
      ]
     },
     "execution_count": 40,
     "metadata": {},
     "output_type": "execute_result"
    }
   ],
   "source": [
    "mesc_rna_data = pd.read_csv(\n",
    "    os.path.join(sample_input_dir, \"mESC_filtered_L2_E7.5_rep1_RNA.csv\"),\n",
    "    header=0,\n",
    "    index_col=0\n",
    ")\n",
    "mesc_rna_data.iloc[0:5, 0:3].head()"
   ]
  },
  {
   "cell_type": "markdown",
   "id": "4fa8ebbc",
   "metadata": {},
   "source": [
    "#### Create genomic windows"
   ]
  },
  {
   "cell_type": "markdown",
   "id": "fd2855f4",
   "metadata": {},
   "source": [
    "Next, we will tile the mm10 genome using the mm10 `chrom.sizes` file and a window size of 1 kb. We will use this to create our genomic ranges for mapping peaks to potential TGs."
   ]
  },
  {
   "cell_type": "code",
   "execution_count": 8,
   "id": "b0a84168",
   "metadata": {},
   "outputs": [
    {
     "data": {
      "text/html": [
       "<div>\n",
       "<style scoped>\n",
       "    .dataframe tbody tr th:only-of-type {\n",
       "        vertical-align: middle;\n",
       "    }\n",
       "\n",
       "    .dataframe tbody tr th {\n",
       "        vertical-align: top;\n",
       "    }\n",
       "\n",
       "    .dataframe thead th {\n",
       "        text-align: right;\n",
       "    }\n",
       "</style>\n",
       "<table border=\"1\" class=\"dataframe\">\n",
       "  <thead>\n",
       "    <tr style=\"text-align: right;\">\n",
       "      <th></th>\n",
       "      <th>chrom</th>\n",
       "      <th>start</th>\n",
       "      <th>end</th>\n",
       "    </tr>\n",
       "  </thead>\n",
       "  <tbody>\n",
       "    <tr>\n",
       "      <th>0</th>\n",
       "      <td>chr1</td>\n",
       "      <td>0</td>\n",
       "      <td>1000</td>\n",
       "    </tr>\n",
       "    <tr>\n",
       "      <th>1</th>\n",
       "      <td>chr1</td>\n",
       "      <td>1000</td>\n",
       "      <td>2000</td>\n",
       "    </tr>\n",
       "    <tr>\n",
       "      <th>2</th>\n",
       "      <td>chr1</td>\n",
       "      <td>2000</td>\n",
       "      <td>3000</td>\n",
       "    </tr>\n",
       "    <tr>\n",
       "      <th>3</th>\n",
       "      <td>chr1</td>\n",
       "      <td>3000</td>\n",
       "      <td>4000</td>\n",
       "    </tr>\n",
       "    <tr>\n",
       "      <th>4</th>\n",
       "      <td>chr1</td>\n",
       "      <td>4000</td>\n",
       "      <td>5000</td>\n",
       "    </tr>\n",
       "    <tr>\n",
       "      <th>...</th>\n",
       "      <td>...</td>\n",
       "      <td>...</td>\n",
       "      <td>...</td>\n",
       "    </tr>\n",
       "    <tr>\n",
       "      <th>195467</th>\n",
       "      <td>chr1</td>\n",
       "      <td>195467000</td>\n",
       "      <td>195468000</td>\n",
       "    </tr>\n",
       "    <tr>\n",
       "      <th>195468</th>\n",
       "      <td>chr1</td>\n",
       "      <td>195468000</td>\n",
       "      <td>195469000</td>\n",
       "    </tr>\n",
       "    <tr>\n",
       "      <th>195469</th>\n",
       "      <td>chr1</td>\n",
       "      <td>195469000</td>\n",
       "      <td>195470000</td>\n",
       "    </tr>\n",
       "    <tr>\n",
       "      <th>195470</th>\n",
       "      <td>chr1</td>\n",
       "      <td>195470000</td>\n",
       "      <td>195471000</td>\n",
       "    </tr>\n",
       "    <tr>\n",
       "      <th>195471</th>\n",
       "      <td>chr1</td>\n",
       "      <td>195471000</td>\n",
       "      <td>195471971</td>\n",
       "    </tr>\n",
       "  </tbody>\n",
       "</table>\n",
       "<p>195472 rows × 3 columns</p>\n",
       "</div>"
      ],
      "text/plain": [
       "       chrom      start        end\n",
       "0       chr1          0       1000\n",
       "1       chr1       1000       2000\n",
       "2       chr1       2000       3000\n",
       "3       chr1       3000       4000\n",
       "4       chr1       4000       5000\n",
       "...      ...        ...        ...\n",
       "195467  chr1  195467000  195468000\n",
       "195468  chr1  195468000  195469000\n",
       "195469  chr1  195469000  195470000\n",
       "195470  chr1  195470000  195471000\n",
       "195471  chr1  195471000  195471971\n",
       "\n",
       "[195472 rows x 3 columns]"
      ]
     },
     "execution_count": 8,
     "metadata": {},
     "output_type": "execute_result"
    }
   ],
   "source": [
    "window_size = 1000\n",
    "mm10_genome_windows = pybedtools.bedtool.BedTool().window_maker(g=mm10_chrom_sizes_file, w=window_size)\n",
    "mm10_chr1_windows = (\n",
    "    mm10_genome_windows\n",
    "    .filter(lambda x: x.chrom == \"chr1\")\n",
    "    .saveas(os.path.join(mm10_genome_dir, f\"mm10_chr1_windows_{window_size // 1000}kb.bed\"))\n",
    "    .to_dataframe()\n",
    "    )\n",
    "mm10_chr1_windows"
   ]
  },
  {
   "cell_type": "markdown",
   "id": "8880d86f",
   "metadata": {},
   "source": [
    "#### Calculate the distance score between peaks and potential target genes\n",
    "\n",
    "Only keep peak-TG rows where the distance between the peak and the gene TSS is less than 1 Mb."
   ]
  },
  {
   "cell_type": "markdown",
   "id": "34883982",
   "metadata": {},
   "source": [
    "Now that we have the ATAC peak locations and the gene locations, we can calculate the distance between peaks within 1 Mb of the gene TSS."
   ]
  },
  {
   "cell_type": "code",
   "execution_count": null,
   "id": "eb3a7ccf",
   "metadata": {},
   "outputs": [
    {
     "name": "stdout",
     "output_type": "stream",
     "text": [
      "  peak_chr  peak_start  peak_end               peak_id gene_chr  gene_start  \\\n",
      "0     chr1     3035602   3036202  chr1:3035602-3036202     chr1     3671498   \n",
      "1     chr1     3062653   3063253  chr1:3062653-3063253     chr1     3671498   \n",
      "2     chr1     3072313   3072913  chr1:3072313-3072913     chr1     3671498   \n",
      "3     chr1     3191496   3192096  chr1:3191496-3192096     chr1     3671498   \n",
      "4     chr1     3340575   3341175  chr1:3340575-3341175     chr1     3671498   \n",
      "\n",
      "   gene_end target_id  \n",
      "0   3671498      Xkr4  \n",
      "1   3671498      Xkr4  \n",
      "2   3671498      Xkr4  \n",
      "3   3671498      Xkr4  \n",
      "4   3671498      Xkr4  \n"
     ]
    },
    {
     "data": {
      "text/html": [
       "<div>\n",
       "<style scoped>\n",
       "    .dataframe tbody tr th:only-of-type {\n",
       "        vertical-align: middle;\n",
       "    }\n",
       "\n",
       "    .dataframe tbody tr th {\n",
       "        vertical-align: top;\n",
       "    }\n",
       "\n",
       "    .dataframe thead th {\n",
       "        text-align: right;\n",
       "    }\n",
       "</style>\n",
       "<table border=\"1\" class=\"dataframe\">\n",
       "  <thead>\n",
       "    <tr style=\"text-align: right;\">\n",
       "      <th></th>\n",
       "      <th>peak_chr</th>\n",
       "      <th>peak_start</th>\n",
       "      <th>peak_end</th>\n",
       "      <th>peak_id</th>\n",
       "      <th>gene_chr</th>\n",
       "      <th>gene_start</th>\n",
       "      <th>gene_end</th>\n",
       "      <th>target_id</th>\n",
       "      <th>TSS_dist</th>\n",
       "    </tr>\n",
       "  </thead>\n",
       "  <tbody>\n",
       "    <tr>\n",
       "      <th>400</th>\n",
       "      <td>chr1</td>\n",
       "      <td>4496754</td>\n",
       "      <td>4497354</td>\n",
       "      <td>chr1:4496754-4497354</td>\n",
       "      <td>chr1</td>\n",
       "      <td>4497354</td>\n",
       "      <td>4497354</td>\n",
       "      <td>Sox17</td>\n",
       "      <td>0</td>\n",
       "    </tr>\n",
       "    <tr>\n",
       "      <th>87149</th>\n",
       "      <td>chr1</td>\n",
       "      <td>74542289</td>\n",
       "      <td>74542889</td>\n",
       "      <td>chr1:74542289-74542889</td>\n",
       "      <td>chr1</td>\n",
       "      <td>74542888</td>\n",
       "      <td>74542888</td>\n",
       "      <td>Plcd4</td>\n",
       "      <td>1</td>\n",
       "    </tr>\n",
       "    <tr>\n",
       "      <th>333683</th>\n",
       "      <td>chr1</td>\n",
       "      <td>190169693</td>\n",
       "      <td>190170293</td>\n",
       "      <td>chr1:190169693-190170293</td>\n",
       "      <td>chr1</td>\n",
       "      <td>190170295</td>\n",
       "      <td>190170295</td>\n",
       "      <td>Prox1os</td>\n",
       "      <td>2</td>\n",
       "    </tr>\n",
       "    <tr>\n",
       "      <th>50111</th>\n",
       "      <td>chr1</td>\n",
       "      <td>55363149</td>\n",
       "      <td>55363749</td>\n",
       "      <td>chr1:55363149-55363749</td>\n",
       "      <td>chr1</td>\n",
       "      <td>55363753</td>\n",
       "      <td>55363753</td>\n",
       "      <td>Boll</td>\n",
       "      <td>4</td>\n",
       "    </tr>\n",
       "    <tr>\n",
       "      <th>110386</th>\n",
       "      <td>chr1</td>\n",
       "      <td>84839235</td>\n",
       "      <td>84839835</td>\n",
       "      <td>chr1:84839235-84839835</td>\n",
       "      <td>chr1</td>\n",
       "      <td>84839840</td>\n",
       "      <td>84839840</td>\n",
       "      <td>Fbxo36</td>\n",
       "      <td>5</td>\n",
       "    </tr>\n",
       "  </tbody>\n",
       "</table>\n",
       "</div>"
      ],
      "text/plain": [
       "       peak_chr  peak_start   peak_end                   peak_id gene_chr  \\\n",
       "400        chr1     4496754    4497354      chr1:4496754-4497354     chr1   \n",
       "87149      chr1    74542289   74542889    chr1:74542289-74542889     chr1   \n",
       "333683     chr1   190169693  190170293  chr1:190169693-190170293     chr1   \n",
       "50111      chr1    55363149   55363749    chr1:55363149-55363749     chr1   \n",
       "110386     chr1    84839235   84839835    chr1:84839235-84839835     chr1   \n",
       "\n",
       "        gene_start   gene_end target_id  TSS_dist  \n",
       "400        4497354    4497354     Sox17         0  \n",
       "87149     74542888   74542888     Plcd4         1  \n",
       "333683   190170295  190170295   Prox1os         2  \n",
       "50111     55363753   55363753      Boll         4  \n",
       "110386    84839840   84839840    Fbxo36         5  "
      ]
     },
     "execution_count": 20,
     "metadata": {},
     "output_type": "execute_result"
    }
   ],
   "source": [
    "peak_bed = pybedtools.BedTool.from_dataframe(\n",
    "    mesc_atac_peak_loc[[\"chrom\", \"start\", \"end\", \"peak_id\"]]\n",
    "    ).saveas(os.path.join(output_dir, \"peak_tmp.bed\"))\n",
    "\n",
    "tss_bed = pybedtools.BedTool.from_dataframe(\n",
    "    gene_tss_df[[\"chrom\", \"start\", \"end\", \"name\"]]\n",
    "    ).saveas(os.path.join(output_dir, \"tss_tmp.bed\"))\n",
    "\n",
    "genes_near_peaks = utils.find_genes_near_peaks(peak_bed, tss_bed)\n",
    "genes_near_peaks = genes_near_peaks[genes_near_peaks[\"TSS_dist\"] <= 1e6]"
   ]
  },
  {
   "cell_type": "markdown",
   "id": "7fa5378f",
   "metadata": {},
   "source": [
    "Now that we have the distance between each peak and gene TSS, we will calculate an exponential dropoff score."
   ]
  },
  {
   "cell_type": "code",
   "execution_count": 26,
   "id": "0cb76631",
   "metadata": {},
   "outputs": [
    {
     "data": {
      "text/html": [
       "<div>\n",
       "<style scoped>\n",
       "    .dataframe tbody tr th:only-of-type {\n",
       "        vertical-align: middle;\n",
       "    }\n",
       "\n",
       "    .dataframe tbody tr th {\n",
       "        vertical-align: top;\n",
       "    }\n",
       "\n",
       "    .dataframe thead th {\n",
       "        text-align: right;\n",
       "    }\n",
       "</style>\n",
       "<table border=\"1\" class=\"dataframe\">\n",
       "  <thead>\n",
       "    <tr style=\"text-align: right;\">\n",
       "      <th></th>\n",
       "      <th>peak_chr</th>\n",
       "      <th>peak_start</th>\n",
       "      <th>peak_end</th>\n",
       "      <th>peak_id</th>\n",
       "      <th>gene_chr</th>\n",
       "      <th>gene_start</th>\n",
       "      <th>gene_end</th>\n",
       "      <th>target_id</th>\n",
       "      <th>TSS_dist</th>\n",
       "      <th>TSS_dist_score</th>\n",
       "    </tr>\n",
       "  </thead>\n",
       "  <tbody>\n",
       "    <tr>\n",
       "      <th>400</th>\n",
       "      <td>chr1</td>\n",
       "      <td>4496754</td>\n",
       "      <td>4497354</td>\n",
       "      <td>chr1:4496754-4497354</td>\n",
       "      <td>chr1</td>\n",
       "      <td>4497354</td>\n",
       "      <td>4497354</td>\n",
       "      <td>Sox17</td>\n",
       "      <td>0</td>\n",
       "      <td>1.000000</td>\n",
       "    </tr>\n",
       "    <tr>\n",
       "      <th>87149</th>\n",
       "      <td>chr1</td>\n",
       "      <td>74542289</td>\n",
       "      <td>74542889</td>\n",
       "      <td>chr1:74542289-74542889</td>\n",
       "      <td>chr1</td>\n",
       "      <td>74542888</td>\n",
       "      <td>74542888</td>\n",
       "      <td>Plcd4</td>\n",
       "      <td>1</td>\n",
       "      <td>0.999996</td>\n",
       "    </tr>\n",
       "    <tr>\n",
       "      <th>333683</th>\n",
       "      <td>chr1</td>\n",
       "      <td>190169693</td>\n",
       "      <td>190170293</td>\n",
       "      <td>chr1:190169693-190170293</td>\n",
       "      <td>chr1</td>\n",
       "      <td>190170295</td>\n",
       "      <td>190170295</td>\n",
       "      <td>Prox1os</td>\n",
       "      <td>2</td>\n",
       "      <td>0.999992</td>\n",
       "    </tr>\n",
       "    <tr>\n",
       "      <th>50111</th>\n",
       "      <td>chr1</td>\n",
       "      <td>55363149</td>\n",
       "      <td>55363749</td>\n",
       "      <td>chr1:55363149-55363749</td>\n",
       "      <td>chr1</td>\n",
       "      <td>55363753</td>\n",
       "      <td>55363753</td>\n",
       "      <td>Boll</td>\n",
       "      <td>4</td>\n",
       "      <td>0.999984</td>\n",
       "    </tr>\n",
       "    <tr>\n",
       "      <th>110386</th>\n",
       "      <td>chr1</td>\n",
       "      <td>84839235</td>\n",
       "      <td>84839835</td>\n",
       "      <td>chr1:84839235-84839835</td>\n",
       "      <td>chr1</td>\n",
       "      <td>84839840</td>\n",
       "      <td>84839840</td>\n",
       "      <td>Fbxo36</td>\n",
       "      <td>5</td>\n",
       "      <td>0.999980</td>\n",
       "    </tr>\n",
       "  </tbody>\n",
       "</table>\n",
       "</div>"
      ],
      "text/plain": [
       "       peak_chr  peak_start   peak_end                   peak_id gene_chr  \\\n",
       "400        chr1     4496754    4497354      chr1:4496754-4497354     chr1   \n",
       "87149      chr1    74542289   74542889    chr1:74542289-74542889     chr1   \n",
       "333683     chr1   190169693  190170293  chr1:190169693-190170293     chr1   \n",
       "50111      chr1    55363149   55363749    chr1:55363149-55363749     chr1   \n",
       "110386     chr1    84839235   84839835    chr1:84839235-84839835     chr1   \n",
       "\n",
       "        gene_start   gene_end target_id  TSS_dist  TSS_dist_score  \n",
       "400        4497354    4497354     Sox17         0        1.000000  \n",
       "87149     74542888   74542888     Plcd4         1        0.999996  \n",
       "333683   190170295  190170295   Prox1os         2        0.999992  \n",
       "50111     55363753   55363753      Boll         4        0.999984  \n",
       "110386    84839840   84839840    Fbxo36         5        0.999980  "
      ]
     },
     "execution_count": 26,
     "metadata": {},
     "output_type": "execute_result"
    }
   ],
   "source": [
    "# Scale the TSS distance using an exponential drop-off function\n",
    "# e^-dist/25000, same scaling function used in LINGER Cis-regulatory potential calculation\n",
    "# https://github.com/Durenlab/LINGER\n",
    "genes_near_peaks = genes_near_peaks.copy()\n",
    "genes_near_peaks[\"TSS_dist_score\"] = np.exp(-genes_near_peaks[\"TSS_dist\"] / 250000)\n",
    "genes_near_peaks.head()"
   ]
  },
  {
   "cell_type": "markdown",
   "id": "d4bd7660",
   "metadata": {},
   "source": [
    "#### Find TF-peak binding sites using Homer"
   ]
  },
  {
   "cell_type": "markdown",
   "id": "9094ffd6",
   "metadata": {},
   "source": [
    "Next, we need to format the peaks to use the Homer peak file format to find TFs matching to peaks."
   ]
  },
  {
   "cell_type": "code",
   "execution_count": 35,
   "id": "511cb2ef",
   "metadata": {},
   "outputs": [
    {
     "data": {
      "text/html": [
       "<div>\n",
       "<style scoped>\n",
       "    .dataframe tbody tr th:only-of-type {\n",
       "        vertical-align: middle;\n",
       "    }\n",
       "\n",
       "    .dataframe tbody tr th {\n",
       "        vertical-align: top;\n",
       "    }\n",
       "\n",
       "    .dataframe thead th {\n",
       "        text-align: right;\n",
       "    }\n",
       "</style>\n",
       "<table border=\"1\" class=\"dataframe\">\n",
       "  <thead>\n",
       "    <tr style=\"text-align: right;\">\n",
       "      <th></th>\n",
       "      <th>PeakID</th>\n",
       "      <th>chr</th>\n",
       "      <th>start</th>\n",
       "      <th>end</th>\n",
       "      <th>strand</th>\n",
       "    </tr>\n",
       "  </thead>\n",
       "  <tbody>\n",
       "    <tr>\n",
       "      <th>400</th>\n",
       "      <td>chr1:4496754-4497354</td>\n",
       "      <td>chr1</td>\n",
       "      <td>4496754</td>\n",
       "      <td>4497354</td>\n",
       "      <td>.</td>\n",
       "    </tr>\n",
       "    <tr>\n",
       "      <th>87149</th>\n",
       "      <td>chr1:74542289-74542889</td>\n",
       "      <td>chr1</td>\n",
       "      <td>74542289</td>\n",
       "      <td>74542889</td>\n",
       "      <td>.</td>\n",
       "    </tr>\n",
       "    <tr>\n",
       "      <th>333683</th>\n",
       "      <td>chr1:190169693-190170293</td>\n",
       "      <td>chr1</td>\n",
       "      <td>190169693</td>\n",
       "      <td>190170293</td>\n",
       "      <td>.</td>\n",
       "    </tr>\n",
       "    <tr>\n",
       "      <th>50111</th>\n",
       "      <td>chr1:55363149-55363749</td>\n",
       "      <td>chr1</td>\n",
       "      <td>55363149</td>\n",
       "      <td>55363749</td>\n",
       "      <td>.</td>\n",
       "    </tr>\n",
       "    <tr>\n",
       "      <th>110386</th>\n",
       "      <td>chr1:84839235-84839835</td>\n",
       "      <td>chr1</td>\n",
       "      <td>84839235</td>\n",
       "      <td>84839835</td>\n",
       "      <td>.</td>\n",
       "    </tr>\n",
       "  </tbody>\n",
       "</table>\n",
       "</div>"
      ],
      "text/plain": [
       "                          PeakID   chr      start        end strand\n",
       "400         chr1:4496754-4497354  chr1    4496754    4497354      .\n",
       "87149     chr1:74542289-74542889  chr1   74542289   74542889      .\n",
       "333683  chr1:190169693-190170293  chr1  190169693  190170293      .\n",
       "50111     chr1:55363149-55363749  chr1   55363149   55363749      .\n",
       "110386    chr1:84839235-84839835  chr1   84839235   84839835      ."
      ]
     },
     "execution_count": 35,
     "metadata": {},
     "output_type": "execute_result"
    }
   ],
   "source": [
    "homer_peaks = genes_near_peaks[[\"peak_id\", \"peak_chr\", \"peak_start\", \"peak_end\"]]\n",
    "homer_peaks = homer_peaks.rename(columns={\n",
    "    \"peak_id\":\"PeakID\", \n",
    "    \"peak_chr\":\"chr\",\n",
    "    \"peak_start\":\"start\",\n",
    "    \"peak_end\":\"end\"\n",
    "    })\n",
    "homer_peaks[\"strand\"] = [\".\"] * len(homer_peaks)\n",
    "homer_peaks[\"start\"] = round(homer_peaks[\"start\"].astype(int),0)\n",
    "homer_peaks[\"end\"] = round(homer_peaks[\"end\"].astype(int),0)\n",
    "homer_peaks = homer_peaks.drop_duplicates(subset=\"PeakID\")\n",
    "\n",
    "os.makedirs(os.path.join(output_dir, \"tmp\"), exist_ok=True)\n",
    "homer_peak_path = os.path.join(output_dir, \"tmp/homer_peaks.txt\")\n",
    "homer_peaks.to_csv(homer_peak_path, sep=\"\\t\", header=False, index=False)\n",
    "homer_peaks.head()"
   ]
  },
  {
   "cell_type": "code",
   "execution_count": 36,
   "id": "8cbb83ec",
   "metadata": {},
   "outputs": [
    {
     "name": "stdout",
     "output_type": "stream",
     "text": [
      "12940\n",
      "12940\n"
     ]
    }
   ],
   "source": [
    "print(len(homer_peaks))\n",
    "print(len(homer_peaks.drop_duplicates(subset=\"PeakID\")))"
   ]
  },
  {
   "cell_type": "markdown",
   "id": "c7f6fb78",
   "metadata": {},
   "source": [
    "Next, we need to run homer on these peaks. I created a `run_homer.sh` script to handle running `findMotifsGenome.pl`, `annotatePeaks.pl`, and the pipeline script `homer_tf_peak_motifs.py`. `homer_tf_peak_motifs.py` calculates Homer TF to peak scores by counting the number of motifs found in each peak for a given TF in the output file from `annotatePeaks.pl`."
   ]
  },
  {
   "cell_type": "code",
   "execution_count": 38,
   "id": "81a5aadd",
   "metadata": {
    "vscode": {
     "languageId": "shellscript"
    }
   },
   "outputs": [
    {
     "name": "stdout",
     "output_type": "stream",
     "text": [
      "Submitted batch job 3389915\n"
     ]
    }
   ],
   "source": [
    "!sbatch /gpfs/Labs/Uzun/SCRIPTS/PROJECTS/2024.SINGLE_CELL_GRN_INFERENCE.MOELLER/dev/testing_scripts/run_homer.sh"
   ]
  },
  {
   "cell_type": "markdown",
   "id": "be8644d1",
   "metadata": {},
   "source": [
    "Once Homer has finished running, we will load the results. We are interested in the number of binding sites for each TF to peak."
   ]
  },
  {
   "cell_type": "code",
   "execution_count": 50,
   "id": "a0fb9542",
   "metadata": {},
   "outputs": [
    {
     "data": {
      "text/html": [
       "<div>\n",
       "<style scoped>\n",
       "    .dataframe tbody tr th:only-of-type {\n",
       "        vertical-align: middle;\n",
       "    }\n",
       "\n",
       "    .dataframe tbody tr th {\n",
       "        vertical-align: top;\n",
       "    }\n",
       "\n",
       "    .dataframe thead th {\n",
       "        text-align: right;\n",
       "    }\n",
       "</style>\n",
       "<table border=\"1\" class=\"dataframe\">\n",
       "  <thead>\n",
       "    <tr style=\"text-align: right;\">\n",
       "      <th></th>\n",
       "      <th>peak_id</th>\n",
       "      <th>source_id</th>\n",
       "      <th>tf_motifs_in_peak</th>\n",
       "      <th>homer_binding_score</th>\n",
       "    </tr>\n",
       "  </thead>\n",
       "  <tbody>\n",
       "    <tr>\n",
       "      <th>0</th>\n",
       "      <td>chr1:22805812-22806412</td>\n",
       "      <td>Amyb</td>\n",
       "      <td>1.0</td>\n",
       "      <td>0.000148</td>\n",
       "    </tr>\n",
       "    <tr>\n",
       "      <th>1</th>\n",
       "      <td>chr1:36251342-36251942</td>\n",
       "      <td>Amyb</td>\n",
       "      <td>1.0</td>\n",
       "      <td>0.000148</td>\n",
       "    </tr>\n",
       "    <tr>\n",
       "      <th>2</th>\n",
       "      <td>chr1:36021079-36021679</td>\n",
       "      <td>Amyb</td>\n",
       "      <td>1.0</td>\n",
       "      <td>0.000148</td>\n",
       "    </tr>\n",
       "    <tr>\n",
       "      <th>3</th>\n",
       "      <td>chr1:119082498-119083098</td>\n",
       "      <td>Amyb</td>\n",
       "      <td>2.0</td>\n",
       "      <td>0.000295</td>\n",
       "    </tr>\n",
       "    <tr>\n",
       "      <th>4</th>\n",
       "      <td>chr1:178684866-178685466</td>\n",
       "      <td>Amyb</td>\n",
       "      <td>1.0</td>\n",
       "      <td>0.000148</td>\n",
       "    </tr>\n",
       "  </tbody>\n",
       "</table>\n",
       "</div>"
      ],
      "text/plain": [
       "                    peak_id source_id  tf_motifs_in_peak  homer_binding_score\n",
       "0    chr1:22805812-22806412      Amyb                1.0             0.000148\n",
       "1    chr1:36251342-36251942      Amyb                1.0             0.000148\n",
       "2    chr1:36021079-36021679      Amyb                1.0             0.000148\n",
       "3  chr1:119082498-119083098      Amyb                2.0             0.000295\n",
       "4  chr1:178684866-178685466      Amyb                1.0             0.000148"
      ]
     },
     "execution_count": 50,
     "metadata": {},
     "output_type": "execute_result"
    }
   ],
   "source": [
    "homer_results = pd.read_parquet(os.path.join(output_dir, \"homer_tf_to_peak.parquet\"), engine=\"pyarrow\")\n",
    "homer_results = homer_results.reset_index(drop=True)\n",
    "homer_results[\"source_id\"] = homer_results[\"source_id\"].str.capitalize()\n",
    "homer_results.head()"
   ]
  },
  {
   "cell_type": "markdown",
   "id": "ae6448bd",
   "metadata": {},
   "source": [
    "Let's review what we have so far:\n",
    "\n",
    "- scRNA-seq gene expression of the TFs and TGs\n",
    "- scATAC-seq chromatin accessibility of the peaks\n",
    "- TSS start site of each gene\n",
    "- A distance score between each peak and TG within 1 Mb of one another\n",
    "- A TF-peak binding score from Homer\n",
    "- Genomic bins of 1Kb\n",
    "\n",
    "Next, we need to combine the "
   ]
  },
  {
   "cell_type": "code",
   "execution_count": 74,
   "id": "ea70e885",
   "metadata": {},
   "outputs": [
    {
     "name": "stdout",
     "output_type": "stream",
     "text": [
      "\n",
      "mesc_rna_data\n",
      "        E7.5_rep1#AAACATGCAATGAATG-1\n",
      "Xkr4                               0\n",
      "Sox17                              0\n",
      "Mrpl15                             1\n",
      "Lypla1                             0\n",
      "Tcea1                              1\n",
      "\n",
      "mesc_atac_data_chr1\n",
      "                      E7.5_rep1#AAACATGCAATGAATG-1\n",
      "chr1:3035602-3036202                             0\n",
      "chr1:3062653-3063253                             0\n",
      "chr1:3072313-3072913                             0\n",
      "chr1:3191496-3192096                             0\n",
      "chr1:3340575-3341175                             0\n",
      "\n",
      "gene_tss_df\n",
      "  chrom    start      end   name score strand\n",
      "0  chr1  3671498  3671498   Xkr4     .      -\n",
      "1  chr1  4360303  4360303    Rp1     .      -\n",
      "2  chr1  4360314  4360314    Rp1     .      -\n",
      "3  chr1  4409241  4409241    Rp1     .      -\n",
      "4  chr1  4497354  4497354  Sox17     .      -\n",
      "\n",
      "genes_near_peaks\n",
      "       peak_chr  peak_start   peak_end                   peak_id gene_chr  \\\n",
      "400        chr1     4496754    4497354      chr1:4496754-4497354     chr1   \n",
      "87149      chr1    74542289   74542889    chr1:74542289-74542889     chr1   \n",
      "333683     chr1   190169693  190170293  chr1:190169693-190170293     chr1   \n",
      "50111      chr1    55363149   55363749    chr1:55363149-55363749     chr1   \n",
      "110386     chr1    84839235   84839835    chr1:84839235-84839835     chr1   \n",
      "\n",
      "        gene_start   gene_end target_id  TSS_dist  TSS_dist_score  \n",
      "400        4497354    4497354     Sox17         0        1.000000  \n",
      "87149     74542888   74542888     Plcd4         1        0.999996  \n",
      "333683   190170295  190170295   Prox1os         2        0.999992  \n",
      "50111     55363753   55363753      Boll         4        0.999984  \n",
      "110386    84839840   84839840    Fbxo36         5        0.999980  \n",
      "\n",
      "homer_results\n",
      "                    peak_id source_id  tf_motifs_in_peak  homer_binding_score\n",
      "0    chr1:22805812-22806412      Amyb                1.0             0.000148\n",
      "1    chr1:36251342-36251942      Amyb                1.0             0.000148\n",
      "2    chr1:36021079-36021679      Amyb                1.0             0.000148\n",
      "3  chr1:119082498-119083098      Amyb                2.0             0.000295\n",
      "4  chr1:178684866-178685466      Amyb                1.0             0.000148\n",
      "\n",
      "mm10_chr1_windows\n",
      "  chrom  start   end\n",
      "0  chr1      0  1000\n",
      "1  chr1   1000  2000\n",
      "2  chr1   2000  3000\n",
      "3  chr1   3000  4000\n",
      "4  chr1   4000  5000\n"
     ]
    }
   ],
   "source": [
    "print(f\"\\nmesc_rna_data\\n{mesc_rna_data.iloc[0:5, 0:1].head()}\")\n",
    "print(f\"\\nmesc_atac_data_chr1\\n{mesc_atac_data_chr1.iloc[0:5, :1].head()}\")\n",
    "print(f\"\\ngene_tss_df\\n{gene_tss_df.head()}\")\n",
    "print(f\"\\ngenes_near_peaks\\n{genes_near_peaks.head()}\")\n",
    "print(f\"\\nhomer_results\\n{homer_results.head()}\")\n",
    "print(f\"\\nmm10_chr1_windows\\n{mm10_chr1_windows.head()}\")"
   ]
  },
  {
   "cell_type": "markdown",
   "id": "68b9e9be",
   "metadata": {},
   "source": [
    "We only want genes that are either in the potential TG list or in the unique TF list and cells that are present in both the RNA and ATAC datasets."
   ]
  },
  {
   "cell_type": "code",
   "execution_count": 64,
   "id": "9fe91544",
   "metadata": {},
   "outputs": [],
   "source": [
    "atac_cell_barcodes = mesc_atac_data_chr1.columns.to_list()\n",
    "rna_cell_barcodes = mesc_rna_data.columns.to_list()\n",
    "atac_in_rna_shared_barcodes = [i for i in atac_cell_barcodes if i in rna_cell_barcodes]\n",
    "\n",
    "# Make sure that the cell names are in the same order and in both datasets\n",
    "shared_barcodes = sorted(set(atac_in_rna_shared_barcodes))\n",
    "\n",
    "mesc_atac_data_chr1_shared = mesc_atac_data_chr1[shared_barcodes]\n",
    "mesc_rna_data_shared = mesc_rna_data[shared_barcodes]"
   ]
  },
  {
   "cell_type": "code",
   "execution_count": null,
   "id": "bedb9ae4",
   "metadata": {},
   "outputs": [
    {
     "name": "stdout",
     "output_type": "stream",
     "text": [
      "E7.5_rep1#AAACATGCAATGAATG-1 E7.5_rep1#AAACATGCAATGAATG-1\n"
     ]
    }
   ],
   "source": [
    "rna_first_cell = mesc_rna_data_shared.iloc[:, 0]\n",
    "atac_first_cell = mesc_atac_data_chr1_shared.loc[:, rna_first_cell.name] # Makes sure the barcodes match\n",
    "print(rna_first_cell.name, atac_first_cell.name)"
   ]
  },
  {
   "cell_type": "code",
   "execution_count": 69,
   "id": "64736e90",
   "metadata": {},
   "outputs": [
    {
     "name": "stdout",
     "output_type": "stream",
     "text": [
      "Number of potential TGs: 1425\n",
      "Number of unique TFs: 298\n",
      "Number of unique peaks: 12940\n"
     ]
    }
   ],
   "source": [
    "potential_tgs = genes_near_peaks[\"target_id\"].unique()\n",
    "print(f\"Number of potential TGs: {len(potential_tgs)}\")\n",
    "\n",
    "unique_tfs = homer_results[\"source_id\"].unique()\n",
    "print(f\"Number of unique TFs: {len(unique_tfs)}\")\n",
    "\n",
    "unique_peaks = homer_results[\"peak_id\"].unique()\n",
    "print(f\"Number of unique peaks: {len(unique_peaks)}\")"
   ]
  },
  {
   "cell_type": "code",
   "execution_count": null,
   "id": "e71f6415",
   "metadata": {},
   "outputs": [],
   "source": []
  },
  {
   "cell_type": "markdown",
   "id": "259ee8ec",
   "metadata": {},
   "source": [
    "The scores that we are interested in are the:\n",
    "\n",
    "- `TSS_dist_score` between each peak and each potential TG from `genes_near_peaks`\n",
    "- `tf_motifs_in_peak` between each TF and each peak from `homer_results`\n",
    "- RNA expression values for TFs and potential TGs from `rna_first_cell`\n",
    "- ATAC accessibility values for peaks from `atac_first_cell`\n",
    "\n",
    "We want \n",
    "- Matrix 1: (RE accessibility * RE distance score) mapped to the genomic windows\n",
    "- Matrix 2: (RE accessibility * RE distance score) x potential TG\n",
    "- Matrix 3: (TF expression * Homer binding score) x Matrix 2\n"
   ]
  },
  {
   "cell_type": "code",
   "execution_count": 82,
   "id": "0180f393",
   "metadata": {},
   "outputs": [
    {
     "name": "stdout",
     "output_type": "stream",
     "text": [
      "Peak to Potential TG Distance Score\n",
      "                         peak_id target_id  TSS_dist_score\n",
      "400         chr1:4496754-4497354     Sox17        1.000000\n",
      "87149     chr1:74542289-74542889     Plcd4        0.999996\n",
      "333683  chr1:190169693-190170293   Prox1os        0.999992\n",
      "50111     chr1:55363149-55363749      Boll        0.999984\n",
      "110386    chr1:84839235-84839835    Fbxo36        0.999980\n",
      "\n",
      "Homer TF to Peak Binding Motifs\n",
      "  source_id                   peak_id  tf_motifs_in_peak\n",
      "0      Amyb    chr1:22805812-22806412                1.0\n",
      "1      Amyb    chr1:36251342-36251942                1.0\n",
      "2      Amyb    chr1:36021079-36021679                1.0\n",
      "3      Amyb  chr1:119082498-119083098                2.0\n",
      "4      Amyb  chr1:178684866-178685466                1.0\n",
      "\n",
      "scRNA-seq Gene Expression\n",
      "Xkr4      0\n",
      "Sox17     0\n",
      "Mrpl15    1\n",
      "Lypla1    0\n",
      "Tcea1     1\n",
      "Name: E7.5_rep1#AAACATGCAATGAATG-1, dtype: int64\n",
      "\n",
      "scATAC-seq Peak Accessibility\n",
      "chr1:3035602-3036202    0\n",
      "chr1:3062653-3063253    0\n",
      "chr1:3072313-3072913    0\n",
      "chr1:3191496-3192096    0\n",
      "chr1:3340575-3341175    0\n",
      "Name: E7.5_rep1#AAACATGCAATGAATG-1, dtype: int64\n"
     ]
    }
   ],
   "source": [
    "print(\"Peak to Potential TG Distance Score\")\n",
    "print(genes_near_peaks[[\"peak_id\", \"target_id\", \"TSS_dist_score\"]].head())\n",
    "\n",
    "print(\"\\nHomer TF to Peak Binding Motifs\")\n",
    "print(homer_results[[\"source_id\", \"peak_id\", \"tf_motifs_in_peak\"]].head())\n",
    "\n",
    "print(\"\\nscRNA-seq Gene Expression\")\n",
    "print(rna_first_cell.head())\n",
    "\n",
    "print(\"\\nscATAC-seq Peak Accessibility\")\n",
    "print(atac_first_cell.head())"
   ]
  },
  {
   "cell_type": "markdown",
   "id": "d060d4d3",
   "metadata": {},
   "source": [
    "#### TF-peak Binding Potential\n",
    "\n",
    "We calculate the TF-peak binding potential as the TF to peak binding score from homer * the gene expression of each TF"
   ]
  },
  {
   "cell_type": "code",
   "execution_count": 89,
   "id": "a9af7041",
   "metadata": {},
   "outputs": [
    {
     "data": {
      "text/html": [
       "<div>\n",
       "<style scoped>\n",
       "    .dataframe tbody tr th:only-of-type {\n",
       "        vertical-align: middle;\n",
       "    }\n",
       "\n",
       "    .dataframe tbody tr th {\n",
       "        vertical-align: top;\n",
       "    }\n",
       "\n",
       "    .dataframe thead th {\n",
       "        text-align: right;\n",
       "    }\n",
       "</style>\n",
       "<table border=\"1\" class=\"dataframe\">\n",
       "  <thead>\n",
       "    <tr style=\"text-align: right;\">\n",
       "      <th></th>\n",
       "      <th>source_id</th>\n",
       "      <th>peak_id</th>\n",
       "      <th>tf_peak_binding_potential</th>\n",
       "    </tr>\n",
       "  </thead>\n",
       "  <tbody>\n",
       "    <tr>\n",
       "      <th>7792</th>\n",
       "      <td>Atf4</td>\n",
       "      <td>chr1:33026581-33027181</td>\n",
       "      <td>0.002384</td>\n",
       "    </tr>\n",
       "    <tr>\n",
       "      <th>7793</th>\n",
       "      <td>Atf4</td>\n",
       "      <td>chr1:107878563-107879163</td>\n",
       "      <td>0.002384</td>\n",
       "    </tr>\n",
       "    <tr>\n",
       "      <th>7794</th>\n",
       "      <td>Atf4</td>\n",
       "      <td>chr1:37698121-37698721</td>\n",
       "      <td>0.002384</td>\n",
       "    </tr>\n",
       "    <tr>\n",
       "      <th>7795</th>\n",
       "      <td>Atf4</td>\n",
       "      <td>chr1:23263694-23264294</td>\n",
       "      <td>0.002384</td>\n",
       "    </tr>\n",
       "    <tr>\n",
       "      <th>7796</th>\n",
       "      <td>Atf4</td>\n",
       "      <td>chr1:72867374-72867974</td>\n",
       "      <td>0.002384</td>\n",
       "    </tr>\n",
       "  </tbody>\n",
       "</table>\n",
       "</div>"
      ],
      "text/plain": [
       "     source_id                   peak_id  tf_peak_binding_potential\n",
       "7792      Atf4    chr1:33026581-33027181                   0.002384\n",
       "7793      Atf4  chr1:107878563-107879163                   0.002384\n",
       "7794      Atf4    chr1:37698121-37698721                   0.002384\n",
       "7795      Atf4    chr1:23263694-23264294                   0.002384\n",
       "7796      Atf4    chr1:72867374-72867974                   0.002384"
      ]
     },
     "execution_count": 89,
     "metadata": {},
     "output_type": "execute_result"
    }
   ],
   "source": [
    "tf_peak_binding_potential = pd.merge(homer_results, rna_first_cell, left_on=\"source_id\", right_index=True, how=\"inner\")\n",
    "tf_peak_binding_potential[\"tf_peak_binding_potential\"] = tf_peak_binding_potential[\"homer_binding_score\"] * tf_peak_binding_potential.iloc[:,-1]\n",
    "tf_peak_binding_potential = tf_peak_binding_potential[[\"source_id\", \"peak_id\", \"tf_peak_binding_potential\"]]\n",
    "tf_peak_binding_potential.head()"
   ]
  },
  {
   "cell_type": "markdown",
   "id": "5b1bd0b6",
   "metadata": {},
   "source": [
    "#### Peak-TG Regulatory Potential\n",
    "\n",
    "We calculate the peak-TG regulatory potential as the peak accessibility * the peak to potential TG TSS distance score"
   ]
  },
  {
   "cell_type": "code",
   "execution_count": 88,
   "id": "807411bf",
   "metadata": {},
   "outputs": [
    {
     "data": {
      "text/html": [
       "<div>\n",
       "<style scoped>\n",
       "    .dataframe tbody tr th:only-of-type {\n",
       "        vertical-align: middle;\n",
       "    }\n",
       "\n",
       "    .dataframe tbody tr th {\n",
       "        vertical-align: top;\n",
       "    }\n",
       "\n",
       "    .dataframe thead th {\n",
       "        text-align: right;\n",
       "    }\n",
       "</style>\n",
       "<table border=\"1\" class=\"dataframe\">\n",
       "  <thead>\n",
       "    <tr style=\"text-align: right;\">\n",
       "      <th></th>\n",
       "      <th>peak_id</th>\n",
       "      <th>target_id</th>\n",
       "      <th>peak_tg_regulatory_potential</th>\n",
       "    </tr>\n",
       "  </thead>\n",
       "  <tbody>\n",
       "    <tr>\n",
       "      <th>400</th>\n",
       "      <td>chr1:4496754-4497354</td>\n",
       "      <td>Sox17</td>\n",
       "      <td>0.00000</td>\n",
       "    </tr>\n",
       "    <tr>\n",
       "      <th>87149</th>\n",
       "      <td>chr1:74542289-74542889</td>\n",
       "      <td>Plcd4</td>\n",
       "      <td>0.00000</td>\n",
       "    </tr>\n",
       "    <tr>\n",
       "      <th>333683</th>\n",
       "      <td>chr1:190169693-190170293</td>\n",
       "      <td>Prox1os</td>\n",
       "      <td>0.00000</td>\n",
       "    </tr>\n",
       "    <tr>\n",
       "      <th>50111</th>\n",
       "      <td>chr1:55363149-55363749</td>\n",
       "      <td>Boll</td>\n",
       "      <td>0.00000</td>\n",
       "    </tr>\n",
       "    <tr>\n",
       "      <th>110386</th>\n",
       "      <td>chr1:84839235-84839835</td>\n",
       "      <td>Fbxo36</td>\n",
       "      <td>3.99992</td>\n",
       "    </tr>\n",
       "  </tbody>\n",
       "</table>\n",
       "</div>"
      ],
      "text/plain": [
       "                         peak_id target_id  peak_tg_regulatory_potential\n",
       "400         chr1:4496754-4497354     Sox17                       0.00000\n",
       "87149     chr1:74542289-74542889     Plcd4                       0.00000\n",
       "333683  chr1:190169693-190170293   Prox1os                       0.00000\n",
       "50111     chr1:55363149-55363749      Boll                       0.00000\n",
       "110386    chr1:84839235-84839835    Fbxo36                       3.99992"
      ]
     },
     "execution_count": 88,
     "metadata": {},
     "output_type": "execute_result"
    }
   ],
   "source": [
    "peak_tg_regulatory_potential = pd.merge(genes_near_peaks, atac_first_cell, left_on=\"peak_id\", right_index=True, how=\"inner\")\n",
    "peak_tg_regulatory_potential[\"peak_tg_regulatory_potential\"] = peak_tg_regulatory_potential[\"TSS_dist_score\"] * peak_tg_regulatory_potential.iloc[:, -1]\n",
    "peak_tg_regulatory_potential = peak_tg_regulatory_potential[[\"peak_id\", \"target_id\", \"peak_tg_regulatory_potential\"]]\n",
    "peak_tg_regulatory_potential.head()"
   ]
  },
  {
   "cell_type": "markdown",
   "id": "214f3526",
   "metadata": {},
   "source": [
    "#### TF-Peak-TG Regulatory Potential\n",
    "\n",
    "Finally, we get the TF-Peak-TG regulatory potential by multiplying the TF-peak binding potential scores with the peak-TG regulatory potential scores for each shared peak."
   ]
  },
  {
   "cell_type": "code",
   "execution_count": 91,
   "id": "deb354d4",
   "metadata": {},
   "outputs": [
    {
     "name": "stdout",
     "output_type": "stream",
     "text": [
      "  source_id                 peak_id target_id  tf_peak_tg_score\n",
      "0     Hnf4a  chr1:10007124-10007724   Ppp1r42               0.0\n",
      "1     Hnf4a  chr1:10007124-10007724     Cops5               0.0\n",
      "2     Hnf4a  chr1:10007124-10007724     Cspp1               0.0\n",
      "3     Hnf4a  chr1:10007124-10007724     Cspp1               0.0\n",
      "4     Hnf4a  chr1:10007124-10007724     Tcf24               0.0\n"
     ]
    }
   ],
   "source": [
    "tf_peak_tg_regulatory_potential = pd.merge(tf_peak_binding_potential, peak_tg_regulatory_potential, on=\"peak_id\", how=\"outer\")\n",
    "tf_peak_tg_regulatory_potential[\"tf_peak_tg_score\"] = tf_peak_tg_regulatory_potential[\"tf_peak_binding_potential\"] * tf_peak_tg_regulatory_potential[\"peak_tg_regulatory_potential\"]\n",
    "tf_peak_tg_regulatory_potential = tf_peak_tg_regulatory_potential[[\"source_id\", \"peak_id\", \"target_id\", \"tf_peak_tg_score\"]]\n",
    "print(tf_peak_tg_regulatory_potential.head())"
   ]
  },
  {
   "cell_type": "markdown",
   "id": "a8c3b476",
   "metadata": {},
   "source": [
    "#### Aggregate the TF-peak-TG scores into genomic coordinate windows\n",
    "\n",
    "We will not aggregate the peaks based on the 1 Kb windows that we created earlier. The peak scores for a window will be summed to get a final score. By aggregating the peaks into windows with a static size, we ensure that the transformer architecture will work with any mm10 data."
   ]
  },
  {
   "cell_type": "code",
   "execution_count": 95,
   "id": "a42d1f2f",
   "metadata": {},
   "outputs": [
    {
     "name": "stdout",
     "output_type": "stream",
     "text": [
      "  source_id               window_id      target_id  tf_window_tg_score\n",
      "0      Atf1  chr1:10009000-10010000  1700034P13Rik                 0.0\n",
      "1      Atf1  chr1:10009000-10010000  2610203C22Rik                 0.0\n",
      "2      Atf1  chr1:10009000-10010000         Adhfe1                 0.0\n",
      "3      Atf1  chr1:10009000-10010000        Arfgef1                 0.0\n",
      "4      Atf1  chr1:10009000-10010000          Cops5                 0.0\n"
     ]
    }
   ],
   "source": [
    "# Parse peak_id into genomic coords (chrom, start, end)\n",
    "coords = tf_peak_tg_regulatory_potential[\"peak_id\"].str.extract(\n",
    "    r\"(?P<chrom>[^:]+):(?P<start>\\d+)-(?P<end>\\d+)\"\n",
    ").astype({\"start\":\"int64\",\"end\":\"int64\"})\n",
    "\n",
    "df = pd.concat([tf_peak_tg_regulatory_potential, coords], axis=1)\n",
    "\n",
    "df = df[df[\"chrom\"] == \"chr1\"].copy()\n",
    "\n",
    "window_size = int((mm10_chr1_windows[\"end\"] - mm10_chr1_windows[\"start\"]).mode().iloc[0])\n",
    "\n",
    "# Build a quick lookup of window_id strings from window indices\n",
    "# window index k -> [start=k*w, end=(k+1)*w)\n",
    "win_lut = {}\n",
    "for _, row in mm10_chr1_windows.iterrows():\n",
    "    k = row[\"start\"] // window_size\n",
    "    win_lut[k] = f'{row[\"chrom\"]}:{row[\"start\"]}-{row[\"end\"]}'\n",
    "\n",
    "# --- Assign each unique peak to the window with maximal overlap (random ties) ---\n",
    "rng = np.random.default_rng(0)  # set a seed for reproducibility; change/remove if you want different random choices\n",
    "\n",
    "peaks_unique = (\n",
    "    df.loc[:, [\"peak_id\", \"chrom\", \"start\", \"end\"]]\n",
    "      .drop_duplicates(subset=[\"peak_id\"])\n",
    "      .reset_index(drop=True)\n",
    ")\n",
    "\n",
    "def assign_best_window(start, end, w):\n",
    "    # windows indices spanned by the peak (inclusive)\n",
    "    i0 = start // w\n",
    "    i1 = (end - 1) // w  # subtract 1 so exact boundary end==k*w goes to k-1 window\n",
    "    if i1 < i0:\n",
    "        i1 = i0\n",
    "    # compute overlaps with all spanned windows\n",
    "    overlaps = []\n",
    "    for k in range(i0, i1 + 1):\n",
    "        bin_start = k * w\n",
    "        bin_end = bin_start + w\n",
    "        ov = max(0, min(end, bin_end) - max(start, bin_start))\n",
    "        overlaps.append((k, ov))\n",
    "    # choose the k with max overlap; break ties randomly\n",
    "    ov_vals = [ov for _, ov in overlaps]\n",
    "    max_ov = max(ov_vals)\n",
    "    candidates = [k for (k, ov) in overlaps if ov == max_ov]\n",
    "    if len(candidates) == 1:\n",
    "        return candidates[0]\n",
    "    else:\n",
    "        return rng.choice(candidates)\n",
    "\n",
    "peak_to_window_idx = peaks_unique.apply(\n",
    "    lambda r: assign_best_window(r[\"start\"], r[\"end\"], window_size), axis=1\n",
    ")\n",
    "peaks_unique[\"window_idx\"] = peak_to_window_idx\n",
    "peaks_unique[\"window_id\"] = peaks_unique[\"window_idx\"].map(win_lut)\n",
    "\n",
    "# Map window assignment back to the full TF–peak–gene table and aggregate\n",
    "df = df.merge(\n",
    "    peaks_unique.loc[:, [\"peak_id\", \"window_id\"]],\n",
    "    on=\"peak_id\",\n",
    "    how=\"left\"\n",
    ")\n",
    "\n",
    "# Aggregate scores per TF × window × gene\n",
    "binned_scores = (\n",
    "    df.groupby([\"source_id\", \"window_id\", \"target_id\"], observed=True)[\"tf_peak_tg_score\"]\n",
    "      .sum()\n",
    "      .reset_index()\n",
    ").rename(columns={\"tf_peak_tg_score\":\"tf_window_tg_score\"})\n",
    "\n",
    "print(binned_scores.head())\n"
   ]
  },
  {
   "cell_type": "markdown",
   "id": "6e02a160",
   "metadata": {},
   "source": [
    "Next, we need to pivot the long dataframe into a 3D TF x window x TG NumPy array."
   ]
  },
  {
   "cell_type": "code",
   "execution_count": null,
   "id": "24d758bc",
   "metadata": {},
   "outputs": [],
   "source": [
    "# Get unique IDs\n",
    "tfs = binned_scores[\"source_id\"].unique()\n",
    "windows = binned_scores[\"window_id\"].unique()\n",
    "genes = binned_scores[\"target_id\"].unique()\n",
    "\n",
    "# Create index maps\n",
    "tf_idx = {tf: i for i, tf in enumerate(tfs)}\n",
    "window_idx = {p: i for i, p in enumerate(windows)}\n",
    "gene_idx = {g: i for i, g in enumerate(genes)}\n",
    "\n",
    "# Initialize 3D matrix\n",
    "tensor_np = np.zeros((len(tfs), len(windows), len(genes)), dtype=float)\n",
    "\n",
    "# Fill values\n",
    "for _, row in binned_scores.iterrows():\n",
    "    i = tf_idx[row[\"source_id\"]]\n",
    "    j = window_idx[row[\"window_id\"]]\n",
    "    k = gene_idx[row[\"target_id\"]]\n",
    "    tensor_np[i, j, k] = row[\"tf_window_tg_score\"]\n",
    "\n",
    "print(tensor_np.shape)  # (n_TFs, n_peaks, n_genes)"
   ]
  },
  {
   "cell_type": "markdown",
   "id": "226a01eb",
   "metadata": {},
   "source": [
    "To recap, the scores in this array represnts the TF-peak regulatory potentials for each TG based on the Homer TF-peak binding scores, the peak-TG regulatory potential scores, the peak accessibility values, and the TF RNA expression values"
   ]
  },
  {
   "cell_type": "markdown",
   "id": "04d39a68",
   "metadata": {},
   "source": [
    "### Genomic range distance to TG TSS\n",
    "\n",
    "The distance between each genomic range and each potential TG TSS within 1MB of the range will be calculated using the exponential drop-off function:\n",
    "\n",
    "$$\\text{Scaling Factor} = e^{-\\frac{\\text{peak to TSS Distance}}{25000}}$$\n",
    "\n",
    "This will reduce the regulatory effect that peaks in a genomic range can exert on a potential TG. The values in this matrix will be multiplied by the log1p normalized and min-max scaled RE accessibility."
   ]
  },
  {
   "cell_type": "code",
   "execution_count": null,
   "id": "1568f712",
   "metadata": {},
   "outputs": [],
   "source": []
  },
  {
   "cell_type": "markdown",
   "id": "2c6fea6b",
   "metadata": {},
   "source": [
    "### TF-RE Binding Potential\n",
    "\n",
    "Homer will be used to calculate the ability for a TF to bind to each peak. Values for TF-RE edges where the TF is not predicted to bind will have a value of 0. We will map the TF-RE binding potential to the genomic ranges by taking the average TF binding potential for peaks within a genomic range. The TF-RE binding potential matrix will be multiplied by a log1p normalized and min-max scaled vector of TF expression."
   ]
  },
  {
   "cell_type": "code",
   "execution_count": null,
   "id": "d241c5a9",
   "metadata": {},
   "outputs": [],
   "source": []
  },
  {
   "cell_type": "markdown",
   "id": "9c3184bf",
   "metadata": {},
   "source": [
    "### Combining TF-RE binding potential with RE regulatory potential values\n",
    "\n",
    "The (genomic range accessibility * genomic range distance) x TG and (TF expression * TF-genomic range binding potential) x TG matrices will be matrix multiplied to get the final TF x genomic range x TG matrix. This matrix will be the input to the transformer model.\n"
   ]
  },
  {
   "cell_type": "code",
   "execution_count": null,
   "id": "f1025692",
   "metadata": {},
   "outputs": [],
   "source": []
  },
  {
   "cell_type": "markdown",
   "id": "86ef21a4",
   "metadata": {},
   "source": []
  }
 ],
 "metadata": {
  "kernelspec": {
   "display_name": "my_env",
   "language": "python",
   "name": "my_env"
  },
  "language_info": {
   "codemirror_mode": {
    "name": "ipython",
    "version": 3
   },
   "file_extension": ".py",
   "mimetype": "text/x-python",
   "name": "python",
   "nbconvert_exporter": "python",
   "pygments_lexer": "ipython3",
   "version": "3.9.18"
  }
 },
 "nbformat": 4,
 "nbformat_minor": 5
}
