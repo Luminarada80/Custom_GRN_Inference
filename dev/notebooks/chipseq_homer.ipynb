{
 "cells": [
  {
   "cell_type": "markdown",
   "id": "6b81b439",
   "metadata": {},
   "source": [
    "## Evaluating the Homer TF-peak scoring method\n",
    "\n",
    "Homer `annotatePeaks.pl` attempts to find TF motif binding sites in a provided set of peak locations. The output of `annotatePeaks.pl` is a file for each TF with information about its binding potential to the peaks in your dataset. The columns are:\n",
    "\n",
    "- PeakID\n",
    "- Chromosome\n",
    "- Peak start position\n",
    "- Peak end position\n",
    "- Strand\n",
    "- Peak Score\n",
    "- FDR/Peak Focus Ratio/Region Size\n",
    "- Annotation (i.e. Exon, Intron, ...)\n",
    "- Detailed Annotation (Exon, Intron etc. + CpG Islands, repeats, etc.)\n",
    "- Distance to nearest RefSeq TSS\n",
    "- Nearest TSS: Native ID of annotation file\n",
    "- Nearest TSS: Entrez Gene ID\n",
    "- Nearest TSS: Unigene ID\n",
    "- Nearest TSS: RefSeq ID\n",
    "- Nearest TSS: Ensembl ID\n",
    "- Nearest TSS: Gene Symbol\n",
    "- Nearest TSS: Gene Aliases\n",
    "- Nearest TSS: Gene description\n",
    "- Additional columns depend on options selected when running the program.\n",
    "\n",
    "To test the Homer scoring method, we can have Homer predict the TF binding sites in ChIP-seq peaks with known TF binding interactions. We can compare the Homer predictions to the known TFs that bind to assess how well Homer identifies correct TF-peak binding partners.\n",
    "\n",
    "So far, we have been evaluating our results against the mESC ground truth from the BEELINE paper. The paper does not provide the TF-peak ChIP-seq file, but rather the direct TF-TG mapping. The paper states that the ChIP-seq dataset was downloaded from ChIP-Atlas, so we are using the mm10 embryo ChIP: TFs and others dataset from ChIP-Atlas."
   ]
  },
  {
   "cell_type": "code",
   "execution_count": 24,
   "id": "80c06068",
   "metadata": {},
   "outputs": [],
   "source": [
    "import os\n",
    "import pandas as pd\n",
    "import pybedtools\n",
    "import seaborn as sns\n",
    "import matplotlib.pyplot as plt\n",
    "\n",
    "base_dir = \"/gpfs/Labs/Uzun/SCRIPTS/PROJECTS/2024.SINGLE_CELL_GRN_INFERENCE.MOELLER/\"\n",
    "ground_truth_dir = os.path.join(base_dir, \"ground_truth_files\")\n",
    "output_dir = os.path.join(base_dir, \"output/chipseq_homer\")\n",
    "tmp_dir = os.path.join(output_dir, \"tmp\")\n",
    "\n",
    "os.makedirs(ground_truth_dir, exist_ok=True)\n",
    "os.makedirs(output_dir, exist_ok=True)\n",
    "os.makedirs(tmp_dir, exist_ok=True)"
   ]
  },
  {
   "cell_type": "markdown",
   "id": "2b8b9ec8",
   "metadata": {},
   "source": [
    "### ChIP-Atlas data\n",
    "\n",
    "The ChIP-Atlas dataset we are using can be downloaded from:\n",
    "\n",
    "`wget https://chip-atlas.dbcls.jp/data/mm10/assembled/Oth.Emb.05.AllAg.AllCell.bed`\n",
    "\n",
    "This file corresponds to the following settings in the Peak Browser:\n",
    "- Species -> M. musculus (mm10)\n",
    "- Track type class -> ChIP: TFs and others\n",
    "- Cell type class -> Embryo\n",
    "- Threshold for Significance -> 50\n",
    "- Track type -> All\n",
    "- Cell type -> all\n",
    "\n",
    "The first step here is to extract the relevant information from the ChIP-Atlas dataset to create a TF-peak ground truth DataFrame and a `homer_peaks.txt` DataFrame."
   ]
  },
  {
   "cell_type": "code",
   "execution_count": 15,
   "id": "f38ea796",
   "metadata": {},
   "outputs": [
    {
     "name": "stderr",
     "output_type": "stream",
     "text": [
      "/tmp/ipykernel_4068925/611637189.py:18: SettingWithCopyWarning: \n",
      "A value is trying to be set on a copy of a slice from a DataFrame.\n",
      "Try using .loc[row_indexer,col_indexer] = value instead\n",
      "\n",
      "See the caveats in the documentation: https://pandas.pydata.org/pandas-docs/stable/user_guide/indexing.html#returning-a-view-versus-a-copy\n",
      "  chip_bed_cleaned[\"peak_id\"] = chip_bed_cleaned.apply(lambda x: format_peak_id(x.chrom, x.start, x.end), axis=1)\n"
     ]
    },
    {
     "data": {
      "application/vnd.microsoft.datawrangler.viewer.v0+json": {
       "columns": [
        {
         "name": "index",
         "rawType": "int64",
         "type": "integer"
        },
        {
         "name": "gene_id",
         "rawType": "object",
         "type": "string"
        },
        {
         "name": "peak_id",
         "rawType": "object",
         "type": "string"
        }
       ],
       "ref": "ff7d98bd-8932-4c01-9757-0a0a4deb2904",
       "rows": [
        [
         "1",
         "Smad4",
         "chr1:3003564-3003922"
        ],
        [
         "2",
         "Ctcf",
         "chr1:3012605-3012815"
        ],
        [
         "3",
         "Ctcf",
         "chr1:3012635-3012824"
        ],
        [
         "4",
         "Epitope",
         "chr1:3031387-3031654"
        ],
        [
         "5",
         "Smad4",
         "chr1:3031454-3031677"
        ],
        [
         "6",
         "Epitope",
         "chr1:3037813-3037977"
        ],
        [
         "7",
         "Epitope",
         "chr1:3037831-3038014"
        ],
        [
         "8",
         "Creb1",
         "chr1:3042056-3042107"
        ],
        [
         "9",
         "Chd4",
         "chr1:3042840-3042993"
        ],
        [
         "10",
         "Hand2",
         "chr1:3042840-3043210"
        ],
        [
         "11",
         "Chd4",
         "chr1:3042845-3042974"
        ],
        [
         "12",
         "Klf1",
         "chr1:3042893-3043261"
        ],
        [
         "13",
         "Chd4",
         "chr1:3043042-3043236"
        ],
        [
         "14",
         "Hira",
         "chr1:3043048-3043364"
        ],
        [
         "15",
         "Chd4",
         "chr1:3043056-3043246"
        ],
        [
         "16",
         "Chd4",
         "chr1:3043095-3043239"
        ],
        [
         "17",
         "Smad1",
         "chr1:3048848-3049240"
        ],
        [
         "18",
         "Smad1",
         "chr1:3048884-3049204"
        ],
        [
         "19",
         "Smad1",
         "chr1:3048892-3049123"
        ],
        [
         "20",
         "Smad1",
         "chr1:3048924-3049137"
        ],
        [
         "21",
         "Smad1",
         "chr1:3048985-3049197"
        ],
        [
         "22",
         "Epitope",
         "chr1:3050139-3050342"
        ],
        [
         "23",
         "Epitope",
         "chr1:3050160-3050251"
        ],
        [
         "24",
         "Isl1",
         "chr1:3050169-3050323"
        ],
        [
         "25",
         "Smarca4",
         "chr1:3050170-3050252"
        ],
        [
         "26",
         "Prdm13",
         "chr1:3051439-3051494"
        ],
        [
         "27",
         "Hoxa13",
         "chr1:3054989-3055130"
        ],
        [
         "28",
         "Hoxa13",
         "chr1:3055034-3055478"
        ],
        [
         "29",
         "Hoxa13",
         "chr1:3055062-3055329"
        ],
        [
         "30",
         "Cebpa",
         "chr1:3059708-3059807"
        ],
        [
         "31",
         "Epitope",
         "chr1:3062849-3063111"
        ],
        [
         "32",
         "Hnf1b",
         "chr1:3063257-3063401"
        ],
        [
         "33",
         "Pax5",
         "chr1:3068096-3068380"
        ],
        [
         "34",
         "Gata6",
         "chr1:3072534-3072701"
        ],
        [
         "35",
         "Gata1",
         "chr1:3077207-3077399"
        ],
        [
         "36",
         "Smarca4",
         "chr1:3083162-3083320"
        ],
        [
         "37",
         "Epitope",
         "chr1:3083182-3083313"
        ],
        [
         "38",
         "Isl1",
         "chr1:3083187-3083305"
        ],
        [
         "39",
         "Epitope",
         "chr1:3083189-3083280"
        ],
        [
         "40",
         "Pax5",
         "chr1:3091675-3091891"
        ],
        [
         "41",
         "Ncor2",
         "chr1:3094752-3095214"
        ],
        [
         "42",
         "Cebpa",
         "chr1:3094760-3094900"
        ],
        [
         "43",
         "Ncor2",
         "chr1:3094784-3095161"
        ],
        [
         "44",
         "Ncor2",
         "chr1:3094789-3095260"
        ],
        [
         "45",
         "Ncor2",
         "chr1:3094795-3095175"
        ],
        [
         "46",
         "Ncor2",
         "chr1:3094799-3095182"
        ],
        [
         "47",
         "Ncor2",
         "chr1:3094823-3095143"
        ],
        [
         "48",
         "Neurog2",
         "chr1:3094824-3095063"
        ],
        [
         "49",
         "Ncor2",
         "chr1:3094827-3095149"
        ],
        [
         "50",
         "Ncor2",
         "chr1:3094854-3095103"
        ]
       ],
       "shape": {
        "columns": 2,
        "rows": 7624391
       }
      },
      "text/html": [
       "<div>\n",
       "<style scoped>\n",
       "    .dataframe tbody tr th:only-of-type {\n",
       "        vertical-align: middle;\n",
       "    }\n",
       "\n",
       "    .dataframe tbody tr th {\n",
       "        vertical-align: top;\n",
       "    }\n",
       "\n",
       "    .dataframe thead th {\n",
       "        text-align: right;\n",
       "    }\n",
       "</style>\n",
       "<table border=\"1\" class=\"dataframe\">\n",
       "  <thead>\n",
       "    <tr style=\"text-align: right;\">\n",
       "      <th></th>\n",
       "      <th>gene_id</th>\n",
       "      <th>peak_id</th>\n",
       "    </tr>\n",
       "  </thead>\n",
       "  <tbody>\n",
       "    <tr>\n",
       "      <th>1</th>\n",
       "      <td>Smad4</td>\n",
       "      <td>chr1:3003564-3003922</td>\n",
       "    </tr>\n",
       "    <tr>\n",
       "      <th>2</th>\n",
       "      <td>Ctcf</td>\n",
       "      <td>chr1:3012605-3012815</td>\n",
       "    </tr>\n",
       "    <tr>\n",
       "      <th>3</th>\n",
       "      <td>Ctcf</td>\n",
       "      <td>chr1:3012635-3012824</td>\n",
       "    </tr>\n",
       "    <tr>\n",
       "      <th>4</th>\n",
       "      <td>Epitope</td>\n",
       "      <td>chr1:3031387-3031654</td>\n",
       "    </tr>\n",
       "    <tr>\n",
       "      <th>5</th>\n",
       "      <td>Smad4</td>\n",
       "      <td>chr1:3031454-3031677</td>\n",
       "    </tr>\n",
       "    <tr>\n",
       "      <th>...</th>\n",
       "      <td>...</td>\n",
       "      <td>...</td>\n",
       "    </tr>\n",
       "    <tr>\n",
       "      <th>7624387</th>\n",
       "      <td>Rest</td>\n",
       "      <td>chrY_JH584303_random:135985-136047</td>\n",
       "    </tr>\n",
       "    <tr>\n",
       "      <th>7624388</th>\n",
       "      <td>Rest</td>\n",
       "      <td>chrY_JH584303_random:135985-136048</td>\n",
       "    </tr>\n",
       "    <tr>\n",
       "      <th>7624389</th>\n",
       "      <td>Rest</td>\n",
       "      <td>chrY_JH584303_random:135986-136045</td>\n",
       "    </tr>\n",
       "    <tr>\n",
       "      <th>7624390</th>\n",
       "      <td>Rest</td>\n",
       "      <td>chrY_JH584303_random:135989-136043</td>\n",
       "    </tr>\n",
       "    <tr>\n",
       "      <th>7624391</th>\n",
       "      <td>Rest</td>\n",
       "      <td>chrY_JH584303_random:135989-136046</td>\n",
       "    </tr>\n",
       "  </tbody>\n",
       "</table>\n",
       "<p>7624391 rows × 2 columns</p>\n",
       "</div>"
      ],
      "text/plain": [
       "         gene_id                             peak_id\n",
       "1          Smad4                chr1:3003564-3003922\n",
       "2           Ctcf                chr1:3012605-3012815\n",
       "3           Ctcf                chr1:3012635-3012824\n",
       "4        Epitope                chr1:3031387-3031654\n",
       "5          Smad4                chr1:3031454-3031677\n",
       "...          ...                                 ...\n",
       "7624387     Rest  chrY_JH584303_random:135985-136047\n",
       "7624388     Rest  chrY_JH584303_random:135985-136048\n",
       "7624389     Rest  chrY_JH584303_random:135986-136045\n",
       "7624390     Rest  chrY_JH584303_random:135989-136043\n",
       "7624391     Rest  chrY_JH584303_random:135989-136046\n",
       "\n",
       "[7624391 rows x 2 columns]"
      ]
     },
     "execution_count": 15,
     "metadata": {},
     "output_type": "execute_result"
    }
   ],
   "source": [
    "def extract_gene_name(name):\n",
    "    return name.split(\"Name=\")[1].split(\"%\")[0]\n",
    "\n",
    "def format_peak_id(chrom, start, end):\n",
    "    start = str(int(start))\n",
    "    end = str(int(end))\n",
    "    return \"%s:%s-%s\" % (chrom, start, end)\n",
    "\n",
    "chip_bed_file = os.path.join(ground_truth_dir, \"Oth.Emb.05.AllAg.AllCell.bed\")\n",
    "chip_bed = pybedtools.BedTool(chip_bed_file)\n",
    "chip_bed_df = chip_bed.to_dataframe()\n",
    "chip_bed_nohead = chip_bed_df.iloc[1:, :].dropna()\n",
    "\n",
    "chip_bed_nohead[\"gene_id\"] = chip_bed_nohead[\"name\"].apply(extract_gene_name)\n",
    "chip_bed_cleaned = chip_bed_nohead[[\"chrom\", \"start\", \"end\", \"gene_id\"]]\n",
    "\n",
    "# Set the peak_id as the formatted peak location\n",
    "chip_bed_cleaned[\"peak_id\"] = chip_bed_cleaned.apply(lambda x: format_peak_id(x.chrom, x.start, x.end), axis=1)\n",
    "\n",
    "chip_tf_to_peak = chip_bed_cleaned[[\"gene_id\", \"peak_id\"]]\n",
    "chip_tf_to_peak"
   ]
  },
  {
   "cell_type": "markdown",
   "id": "b83ef420",
   "metadata": {},
   "source": [
    "Now that we have the ChIP-Atlas peaks in the format that we want, we can save it to the ground truth directory for later"
   ]
  },
  {
   "cell_type": "code",
   "execution_count": null,
   "id": "5b056093",
   "metadata": {},
   "outputs": [],
   "source": [
    "chip_tf_to_peak.to_csv(os.path.join(ground_truth_dir, \"chipatlas_mESC.csv\"), header=True, index=False)"
   ]
  },
  {
   "cell_type": "markdown",
   "id": "582c3b9c",
   "metadata": {},
   "source": [
    "### Creating the Homer peaks file"
   ]
  },
  {
   "cell_type": "markdown",
   "id": "0da7b39c",
   "metadata": {},
   "source": [
    "Next, we need to format the peaks to follow the requirements for the Homer peaks file.\n",
    "\n",
    "> HOMER peak files should have at minimum 5 columns (separated by TABs, additional columns will be ignored:\n",
    "> - Column1: Unique Peak ID\n",
    "> - Column2: chromosome\n",
    "> - Column3: starting position\n",
    "> - Column4: ending position\n",
    "> - Column5: Strand (+/- or 0/1, where 0=\"+\", 1=\"-\")"
   ]
  },
  {
   "cell_type": "code",
   "execution_count": null,
   "id": "42705f62",
   "metadata": {},
   "outputs": [
    {
     "data": {
      "application/vnd.microsoft.datawrangler.viewer.v0+json": {
       "columns": [
        {
         "name": "index",
         "rawType": "int64",
         "type": "integer"
        },
        {
         "name": "PeakID",
         "rawType": "object",
         "type": "string"
        },
        {
         "name": "chr",
         "rawType": "object",
         "type": "string"
        },
        {
         "name": "start",
         "rawType": "int64",
         "type": "integer"
        },
        {
         "name": "end",
         "rawType": "int64",
         "type": "integer"
        },
        {
         "name": "strand",
         "rawType": "object",
         "type": "string"
        }
       ],
       "ref": "80001ed8-e1d8-467c-9241-a06662cf0f13",
       "rows": [
        [
         "1",
         "chr1:3003564-3003922",
         "chr1",
         "3003564",
         "3003922",
         "."
        ],
        [
         "2",
         "chr1:3012605-3012815",
         "chr1",
         "3012605",
         "3012815",
         "."
        ],
        [
         "3",
         "chr1:3012635-3012824",
         "chr1",
         "3012635",
         "3012824",
         "."
        ],
        [
         "4",
         "chr1:3031387-3031654",
         "chr1",
         "3031387",
         "3031654",
         "."
        ],
        [
         "5",
         "chr1:3031454-3031677",
         "chr1",
         "3031454",
         "3031677",
         "."
        ],
        [
         "6",
         "chr1:3037813-3037977",
         "chr1",
         "3037813",
         "3037977",
         "."
        ],
        [
         "7",
         "chr1:3037831-3038014",
         "chr1",
         "3037831",
         "3038014",
         "."
        ],
        [
         "8",
         "chr1:3042056-3042107",
         "chr1",
         "3042056",
         "3042107",
         "."
        ],
        [
         "9",
         "chr1:3042840-3042993",
         "chr1",
         "3042840",
         "3042993",
         "."
        ],
        [
         "10",
         "chr1:3042840-3043210",
         "chr1",
         "3042840",
         "3043210",
         "."
        ],
        [
         "11",
         "chr1:3042845-3042974",
         "chr1",
         "3042845",
         "3042974",
         "."
        ],
        [
         "12",
         "chr1:3042893-3043261",
         "chr1",
         "3042893",
         "3043261",
         "."
        ],
        [
         "13",
         "chr1:3043042-3043236",
         "chr1",
         "3043042",
         "3043236",
         "."
        ],
        [
         "14",
         "chr1:3043048-3043364",
         "chr1",
         "3043048",
         "3043364",
         "."
        ],
        [
         "15",
         "chr1:3043056-3043246",
         "chr1",
         "3043056",
         "3043246",
         "."
        ],
        [
         "16",
         "chr1:3043095-3043239",
         "chr1",
         "3043095",
         "3043239",
         "."
        ],
        [
         "17",
         "chr1:3048848-3049240",
         "chr1",
         "3048848",
         "3049240",
         "."
        ],
        [
         "18",
         "chr1:3048884-3049204",
         "chr1",
         "3048884",
         "3049204",
         "."
        ],
        [
         "19",
         "chr1:3048892-3049123",
         "chr1",
         "3048892",
         "3049123",
         "."
        ],
        [
         "20",
         "chr1:3048924-3049137",
         "chr1",
         "3048924",
         "3049137",
         "."
        ],
        [
         "21",
         "chr1:3048985-3049197",
         "chr1",
         "3048985",
         "3049197",
         "."
        ],
        [
         "22",
         "chr1:3050139-3050342",
         "chr1",
         "3050139",
         "3050342",
         "."
        ],
        [
         "23",
         "chr1:3050160-3050251",
         "chr1",
         "3050160",
         "3050251",
         "."
        ],
        [
         "24",
         "chr1:3050169-3050323",
         "chr1",
         "3050169",
         "3050323",
         "."
        ],
        [
         "25",
         "chr1:3050170-3050252",
         "chr1",
         "3050170",
         "3050252",
         "."
        ],
        [
         "26",
         "chr1:3051439-3051494",
         "chr1",
         "3051439",
         "3051494",
         "."
        ],
        [
         "27",
         "chr1:3054989-3055130",
         "chr1",
         "3054989",
         "3055130",
         "."
        ],
        [
         "28",
         "chr1:3055034-3055478",
         "chr1",
         "3055034",
         "3055478",
         "."
        ],
        [
         "29",
         "chr1:3055062-3055329",
         "chr1",
         "3055062",
         "3055329",
         "."
        ],
        [
         "30",
         "chr1:3059708-3059807",
         "chr1",
         "3059708",
         "3059807",
         "."
        ],
        [
         "31",
         "chr1:3062849-3063111",
         "chr1",
         "3062849",
         "3063111",
         "."
        ],
        [
         "32",
         "chr1:3063257-3063401",
         "chr1",
         "3063257",
         "3063401",
         "."
        ],
        [
         "33",
         "chr1:3068096-3068380",
         "chr1",
         "3068096",
         "3068380",
         "."
        ],
        [
         "34",
         "chr1:3072534-3072701",
         "chr1",
         "3072534",
         "3072701",
         "."
        ],
        [
         "35",
         "chr1:3077207-3077399",
         "chr1",
         "3077207",
         "3077399",
         "."
        ],
        [
         "36",
         "chr1:3083162-3083320",
         "chr1",
         "3083162",
         "3083320",
         "."
        ],
        [
         "37",
         "chr1:3083182-3083313",
         "chr1",
         "3083182",
         "3083313",
         "."
        ],
        [
         "38",
         "chr1:3083187-3083305",
         "chr1",
         "3083187",
         "3083305",
         "."
        ],
        [
         "39",
         "chr1:3083189-3083280",
         "chr1",
         "3083189",
         "3083280",
         "."
        ],
        [
         "40",
         "chr1:3091675-3091891",
         "chr1",
         "3091675",
         "3091891",
         "."
        ],
        [
         "41",
         "chr1:3094752-3095214",
         "chr1",
         "3094752",
         "3095214",
         "."
        ],
        [
         "42",
         "chr1:3094760-3094900",
         "chr1",
         "3094760",
         "3094900",
         "."
        ],
        [
         "43",
         "chr1:3094784-3095161",
         "chr1",
         "3094784",
         "3095161",
         "."
        ],
        [
         "44",
         "chr1:3094789-3095260",
         "chr1",
         "3094789",
         "3095260",
         "."
        ],
        [
         "45",
         "chr1:3094795-3095175",
         "chr1",
         "3094795",
         "3095175",
         "."
        ],
        [
         "46",
         "chr1:3094799-3095182",
         "chr1",
         "3094799",
         "3095182",
         "."
        ],
        [
         "47",
         "chr1:3094823-3095143",
         "chr1",
         "3094823",
         "3095143",
         "."
        ],
        [
         "48",
         "chr1:3094824-3095063",
         "chr1",
         "3094824",
         "3095063",
         "."
        ],
        [
         "49",
         "chr1:3094827-3095149",
         "chr1",
         "3094827",
         "3095149",
         "."
        ],
        [
         "50",
         "chr1:3094854-3095103",
         "chr1",
         "3094854",
         "3095103",
         "."
        ]
       ],
       "shape": {
        "columns": 5,
        "rows": 7624391
       }
      },
      "text/html": [
       "<div>\n",
       "<style scoped>\n",
       "    .dataframe tbody tr th:only-of-type {\n",
       "        vertical-align: middle;\n",
       "    }\n",
       "\n",
       "    .dataframe tbody tr th {\n",
       "        vertical-align: top;\n",
       "    }\n",
       "\n",
       "    .dataframe thead th {\n",
       "        text-align: right;\n",
       "    }\n",
       "</style>\n",
       "<table border=\"1\" class=\"dataframe\">\n",
       "  <thead>\n",
       "    <tr style=\"text-align: right;\">\n",
       "      <th></th>\n",
       "      <th>PeakID</th>\n",
       "      <th>chr</th>\n",
       "      <th>start</th>\n",
       "      <th>end</th>\n",
       "      <th>strand</th>\n",
       "    </tr>\n",
       "  </thead>\n",
       "  <tbody>\n",
       "    <tr>\n",
       "      <th>1</th>\n",
       "      <td>chr1:3003564-3003922</td>\n",
       "      <td>chr1</td>\n",
       "      <td>3003564</td>\n",
       "      <td>3003922</td>\n",
       "      <td>.</td>\n",
       "    </tr>\n",
       "    <tr>\n",
       "      <th>2</th>\n",
       "      <td>chr1:3012605-3012815</td>\n",
       "      <td>chr1</td>\n",
       "      <td>3012605</td>\n",
       "      <td>3012815</td>\n",
       "      <td>.</td>\n",
       "    </tr>\n",
       "    <tr>\n",
       "      <th>3</th>\n",
       "      <td>chr1:3012635-3012824</td>\n",
       "      <td>chr1</td>\n",
       "      <td>3012635</td>\n",
       "      <td>3012824</td>\n",
       "      <td>.</td>\n",
       "    </tr>\n",
       "    <tr>\n",
       "      <th>4</th>\n",
       "      <td>chr1:3031387-3031654</td>\n",
       "      <td>chr1</td>\n",
       "      <td>3031387</td>\n",
       "      <td>3031654</td>\n",
       "      <td>.</td>\n",
       "    </tr>\n",
       "    <tr>\n",
       "      <th>5</th>\n",
       "      <td>chr1:3031454-3031677</td>\n",
       "      <td>chr1</td>\n",
       "      <td>3031454</td>\n",
       "      <td>3031677</td>\n",
       "      <td>.</td>\n",
       "    </tr>\n",
       "    <tr>\n",
       "      <th>...</th>\n",
       "      <td>...</td>\n",
       "      <td>...</td>\n",
       "      <td>...</td>\n",
       "      <td>...</td>\n",
       "      <td>...</td>\n",
       "    </tr>\n",
       "    <tr>\n",
       "      <th>7624387</th>\n",
       "      <td>chrY_JH584303_random:135985-136047</td>\n",
       "      <td>chrY_JH584303_random</td>\n",
       "      <td>135985</td>\n",
       "      <td>136047</td>\n",
       "      <td>.</td>\n",
       "    </tr>\n",
       "    <tr>\n",
       "      <th>7624388</th>\n",
       "      <td>chrY_JH584303_random:135985-136048</td>\n",
       "      <td>chrY_JH584303_random</td>\n",
       "      <td>135985</td>\n",
       "      <td>136048</td>\n",
       "      <td>.</td>\n",
       "    </tr>\n",
       "    <tr>\n",
       "      <th>7624389</th>\n",
       "      <td>chrY_JH584303_random:135986-136045</td>\n",
       "      <td>chrY_JH584303_random</td>\n",
       "      <td>135986</td>\n",
       "      <td>136045</td>\n",
       "      <td>.</td>\n",
       "    </tr>\n",
       "    <tr>\n",
       "      <th>7624390</th>\n",
       "      <td>chrY_JH584303_random:135989-136043</td>\n",
       "      <td>chrY_JH584303_random</td>\n",
       "      <td>135989</td>\n",
       "      <td>136043</td>\n",
       "      <td>.</td>\n",
       "    </tr>\n",
       "    <tr>\n",
       "      <th>7624391</th>\n",
       "      <td>chrY_JH584303_random:135989-136046</td>\n",
       "      <td>chrY_JH584303_random</td>\n",
       "      <td>135989</td>\n",
       "      <td>136046</td>\n",
       "      <td>.</td>\n",
       "    </tr>\n",
       "  </tbody>\n",
       "</table>\n",
       "<p>7624391 rows × 5 columns</p>\n",
       "</div>"
      ],
      "text/plain": [
       "                                     PeakID                   chr    start  \\\n",
       "1                      chr1:3003564-3003922                  chr1  3003564   \n",
       "2                      chr1:3012605-3012815                  chr1  3012605   \n",
       "3                      chr1:3012635-3012824                  chr1  3012635   \n",
       "4                      chr1:3031387-3031654                  chr1  3031387   \n",
       "5                      chr1:3031454-3031677                  chr1  3031454   \n",
       "...                                     ...                   ...      ...   \n",
       "7624387  chrY_JH584303_random:135985-136047  chrY_JH584303_random   135985   \n",
       "7624388  chrY_JH584303_random:135985-136048  chrY_JH584303_random   135985   \n",
       "7624389  chrY_JH584303_random:135986-136045  chrY_JH584303_random   135986   \n",
       "7624390  chrY_JH584303_random:135989-136043  chrY_JH584303_random   135989   \n",
       "7624391  chrY_JH584303_random:135989-136046  chrY_JH584303_random   135989   \n",
       "\n",
       "             end strand  \n",
       "1        3003922      .  \n",
       "2        3012815      .  \n",
       "3        3012824      .  \n",
       "4        3031654      .  \n",
       "5        3031677      .  \n",
       "...          ...    ...  \n",
       "7624387   136047      .  \n",
       "7624388   136048      .  \n",
       "7624389   136045      .  \n",
       "7624390   136043      .  \n",
       "7624391   136046      .  \n",
       "\n",
       "[7624391 rows x 5 columns]"
      ]
     },
     "execution_count": 6,
     "metadata": {},
     "output_type": "execute_result"
    }
   ],
   "source": [
    "# Format the DataFrame to follow the requirements for the Homer peaks file (used for both Homer and sliding window)\n",
    "homer_peaks = chip_bed_cleaned[[\"peak_id\", \"chrom\", \"start\", \"end\"]]\n",
    "homer_peaks = homer_peaks.rename(columns={\"peak_id\":\"PeakID\", \"chrom\":\"chr\"})\n",
    "homer_peaks[\"strand\"] = [\".\"] * len(homer_peaks)\n",
    "homer_peaks[\"start\"] = round(homer_peaks[\"start\"].astype(int),0)\n",
    "homer_peaks[\"end\"] = round(homer_peaks[\"end\"].astype(int),0)\n",
    "homer_peaks"
   ]
  },
  {
   "cell_type": "markdown",
   "id": "1d907624",
   "metadata": {},
   "source": [
    "This is a huge file - we dont need to test the method using all of them. We will take a sample to run the scoring on."
   ]
  },
  {
   "cell_type": "code",
   "execution_count": 7,
   "id": "f0243ae8",
   "metadata": {},
   "outputs": [],
   "source": [
    "homer_peaks_sample = homer_peaks.sample(frac=0.05)"
   ]
  },
  {
   "cell_type": "markdown",
   "id": "769e6955",
   "metadata": {},
   "source": [
    "If we save the ChIP-seq peaks as `homer_peaks.txt` to the `tmp` directory of the output folder, then they will be used to calculate the sliding window and Homer scores"
   ]
  },
  {
   "cell_type": "code",
   "execution_count": 11,
   "id": "65ac491d",
   "metadata": {},
   "outputs": [],
   "source": [
    "homer_peak_path = os.path.join(tmp_dir, \"homer_peaks.txt\")\n",
    "homer_peaks_sample.to_csv(homer_peak_path, sep=\"\\t\", header=False, index=False)"
   ]
  },
  {
   "cell_type": "markdown",
   "id": "a5442251",
   "metadata": {},
   "source": [
    "### Running Homer\n",
    "\n",
    "Now that we have created the ground truth TF-peak and `homer_peaks.txt` files, we can run Homer on the ChIP-seq peaks"
   ]
  },
  {
   "cell_type": "code",
   "execution_count": null,
   "id": "6c599214",
   "metadata": {
    "vscode": {
     "languageId": "shellscript"
    }
   },
   "outputs": [],
   "source": [
    "!sbatch /gpfs/Labs/Uzun/SCRIPTS/PROJECTS/2024.SINGLE_CELL_GRN_INFERENCE.MOELLER/dev/testing_scripts/run_homer_on_chipseq.sh"
   ]
  },
  {
   "cell_type": "markdown",
   "id": "94bc5371",
   "metadata": {},
   "source": [
    "This bash script runs three processes:\n",
    "1. Homer `findMotifsGenome.pl`, which identifies enriched TF binding motifs in the genome.\n",
    "2. Homer `annotatePeaks.pl`, which matches TFs to a given set of peaks and provides mapping to the closet gene's TSS.\n",
    "3. `homer_tf_peak_motifs.py`, which uses the output of `annotatePeaks.pl` to calculate a binding score between each TF and peak. The TF binding score for a peak is calculated by taking the number of TF binding motifs for the peak / total TF motifs across all peaks.\n",
    "\n",
    "Once the bash script has finished, we can read in the output of `homer_tf_peak_motifs.py`, `homer_tf_to_peak.parquet`\n",
    "\n",
    "### Comparing Homer TF-peak predictions vs ChIP-seq"
   ]
  },
  {
   "cell_type": "code",
   "execution_count": 13,
   "id": "e0249309",
   "metadata": {},
   "outputs": [
    {
     "data": {
      "application/vnd.microsoft.datawrangler.viewer.v0+json": {
       "columns": [
        {
         "name": "index",
         "rawType": "int64",
         "type": "integer"
        },
        {
         "name": "peak_id",
         "rawType": "string",
         "type": "string"
        },
        {
         "name": "source_id",
         "rawType": "string",
         "type": "string"
        },
        {
         "name": "homer_binding_score",
         "rawType": "float64",
         "type": "float"
        }
       ],
       "ref": "ca4ade3a-7ac2-4405-aaff-be8fc7cb888a",
       "rows": [
        [
         "0",
         "chr7:83900579-83900792",
         "AMYB",
         "0.31026120805778323"
        ],
        [
         "1",
         "chr7:101620490-101620805",
         "AMYB",
         "0.11748185951685766"
        ],
        [
         "2",
         "chr7:34991075-34991272",
         "AMYB",
         "0.11748185951685766"
        ],
        [
         "3",
         "chr1:128671539-128671848",
         "AMYB",
         "0.11748185951685766"
        ],
        [
         "4",
         "chr18:77277089-77277325",
         "AMYB",
         "0.11748185951685766"
        ],
        [
         "5",
         "chr4:43724733-43725211",
         "AMYB",
         "0.11748185951685766"
        ],
        [
         "6",
         "chr10:30167600-30168049",
         "AMYB",
         "0.11748185951685766"
        ],
        [
         "7",
         "chr15:79834008-79834582",
         "AMYB",
         "0.11748185951685766"
        ],
        [
         "8",
         "chr5:25179356-25179656",
         "AMYB",
         "0.11748185951685766"
        ],
        [
         "9",
         "chr2:132601712-132602766",
         "AMYB",
         "0.31026120805778323"
        ],
        [
         "10",
         "chr1:105168421-105168646",
         "AMYB",
         "0.11748185951685766"
        ],
        [
         "11",
         "chr1:34867178-34867571",
         "AMYB",
         "0.31026120805778323"
        ],
        [
         "12",
         "chr5:32016489-32016837",
         "AMYB",
         "0.11748185951685766"
        ],
        [
         "13",
         "chr6:124686587-124687073",
         "AMYB",
         "0.31026120805778323"
        ],
        [
         "14",
         "chr13:51284713-51285040",
         "AMYB",
         "0.4802906335489917"
        ],
        [
         "15",
         "chr12:112976413-112976974",
         "AMYB",
         "0.31026120805778323"
        ],
        [
         "16",
         "chr5:134901114-134901586",
         "AMYB",
         "0.11748185951685766"
        ],
        [
         "17",
         "chr9:25174985-25175456",
         "AMYB",
         "0.11748185951685766"
        ],
        [
         "18",
         "chr3:51321085-51321298",
         "AMYB",
         "0.11748185951685766"
        ],
        [
         "19",
         "chr2:33427135-33427256",
         "AMYB",
         "0.11748185951685766"
        ],
        [
         "20",
         "chr5:14952079-14952449",
         "AMYB",
         "0.11748185951685766"
        ],
        [
         "21",
         "chr11:81996169-81996526",
         "AMYB",
         "0.11748185951685766"
        ],
        [
         "22",
         "chr2:139634535-139634882",
         "AMYB",
         "0.4802906335489917"
        ],
        [
         "23",
         "chr6:99784381-99784781",
         "AMYB",
         "0.11748185951685766"
        ],
        [
         "24",
         "chr11:87883534-87883789",
         "AMYB",
         "0.11748185951685766"
        ],
        [
         "25",
         "chr10:43487124-43487540",
         "AMYB",
         "0.11748185951685766"
        ],
        [
         "26",
         "chr5:130222138-130222434",
         "AMYB",
         "0.11748185951685766"
        ],
        [
         "27",
         "chr11:46733408-46733917",
         "AMYB",
         "0.11748185951685766"
        ],
        [
         "28",
         "chr1:161963037-161963320",
         "AMYB",
         "0.31026120805778323"
        ],
        [
         "29",
         "chr6:28135678-28136309",
         "AMYB",
         "0.11748185951685766"
        ],
        [
         "30",
         "chr10:23777442-23777644",
         "AMYB",
         "0.11748185951685766"
        ],
        [
         "31",
         "chr17:12534826-12535066",
         "AMYB",
         "0.11748185951685766"
        ],
        [
         "32",
         "chr18:61489567-61490002",
         "AMYB",
         "0.4802906335489917"
        ],
        [
         "33",
         "chr12:105497661-105498411",
         "AMYB",
         "0.11748185951685766"
        ],
        [
         "34",
         "chr18:84951454-84951697",
         "AMYB",
         "0.11748185951685766"
        ],
        [
         "35",
         "chr4:83303522-83303713",
         "AMYB",
         "0.11748185951685766"
        ],
        [
         "36",
         "chr9:44326178-44326475",
         "AMYB",
         "0.11748185951685766"
        ],
        [
         "37",
         "chr3:95132474-95132685",
         "AMYB",
         "0.11748185951685766"
        ],
        [
         "38",
         "chr3:145989526-145989934",
         "AMYB",
         "0.11748185951685766"
        ],
        [
         "39",
         "chr5:63627904-63628141",
         "AMYB",
         "0.11748185951685766"
        ],
        [
         "40",
         "chr6:94340529-94340897",
         "AMYB",
         "0.31026120805778323"
        ],
        [
         "41",
         "chr7:110624224-110624366",
         "AMYB",
         "0.11748185951685766"
        ],
        [
         "42",
         "chr1:165651212-165651407",
         "AMYB",
         "0.11748185951685766"
        ],
        [
         "43",
         "chr6:91105622-91105794",
         "AMYB",
         "0.11748185951685766"
        ],
        [
         "44",
         "chr10:19297755-19297982",
         "AMYB",
         "0.11748185951685766"
        ],
        [
         "45",
         "chr9:77461684-77461937",
         "AMYB",
         "0.11748185951685766"
        ],
        [
         "46",
         "chr4_JH584293_random:158018-158349",
         "AMYB",
         "0.31026120805778323"
        ],
        [
         "47",
         "chr17:86125882-86126254",
         "AMYB",
         "0.11748185951685766"
        ],
        [
         "48",
         "chr5:5266509-5266841",
         "AMYB",
         "0.11748185951685766"
        ],
        [
         "49",
         "chr17:5679270-5679785",
         "AMYB",
         "0.11748185951685766"
        ]
       ],
       "shape": {
        "columns": 3,
        "rows": 13799782
       }
      },
      "text/html": [
       "<div>\n",
       "<style scoped>\n",
       "    .dataframe tbody tr th:only-of-type {\n",
       "        vertical-align: middle;\n",
       "    }\n",
       "\n",
       "    .dataframe tbody tr th {\n",
       "        vertical-align: top;\n",
       "    }\n",
       "\n",
       "    .dataframe thead th {\n",
       "        text-align: right;\n",
       "    }\n",
       "</style>\n",
       "<table border=\"1\" class=\"dataframe\">\n",
       "  <thead>\n",
       "    <tr style=\"text-align: right;\">\n",
       "      <th></th>\n",
       "      <th>peak_id</th>\n",
       "      <th>source_id</th>\n",
       "      <th>homer_binding_score</th>\n",
       "    </tr>\n",
       "  </thead>\n",
       "  <tbody>\n",
       "    <tr>\n",
       "      <th>0</th>\n",
       "      <td>chr7:83900579-83900792</td>\n",
       "      <td>AMYB</td>\n",
       "      <td>0.310261</td>\n",
       "    </tr>\n",
       "    <tr>\n",
       "      <th>1</th>\n",
       "      <td>chr7:101620490-101620805</td>\n",
       "      <td>AMYB</td>\n",
       "      <td>0.117482</td>\n",
       "    </tr>\n",
       "    <tr>\n",
       "      <th>2</th>\n",
       "      <td>chr7:34991075-34991272</td>\n",
       "      <td>AMYB</td>\n",
       "      <td>0.117482</td>\n",
       "    </tr>\n",
       "    <tr>\n",
       "      <th>3</th>\n",
       "      <td>chr1:128671539-128671848</td>\n",
       "      <td>AMYB</td>\n",
       "      <td>0.117482</td>\n",
       "    </tr>\n",
       "    <tr>\n",
       "      <th>4</th>\n",
       "      <td>chr18:77277089-77277325</td>\n",
       "      <td>AMYB</td>\n",
       "      <td>0.117482</td>\n",
       "    </tr>\n",
       "    <tr>\n",
       "      <th>...</th>\n",
       "      <td>...</td>\n",
       "      <td>...</td>\n",
       "      <td>...</td>\n",
       "    </tr>\n",
       "    <tr>\n",
       "      <th>13799777</th>\n",
       "      <td>chr1:93306294-93306671</td>\n",
       "      <td>GATA</td>\n",
       "      <td>1.000000</td>\n",
       "    </tr>\n",
       "    <tr>\n",
       "      <th>13799778</th>\n",
       "      <td>chr12:118643377-118643660</td>\n",
       "      <td>GATA</td>\n",
       "      <td>1.000000</td>\n",
       "    </tr>\n",
       "    <tr>\n",
       "      <th>13799779</th>\n",
       "      <td>chrX:111696748-111697080</td>\n",
       "      <td>GATA</td>\n",
       "      <td>1.000000</td>\n",
       "    </tr>\n",
       "    <tr>\n",
       "      <th>13799780</th>\n",
       "      <td>chr2:18027413-18027746</td>\n",
       "      <td>GATA</td>\n",
       "      <td>1.000000</td>\n",
       "    </tr>\n",
       "    <tr>\n",
       "      <th>13799781</th>\n",
       "      <td>chr12:24892556-24892778</td>\n",
       "      <td>GATA</td>\n",
       "      <td>1.000000</td>\n",
       "    </tr>\n",
       "  </tbody>\n",
       "</table>\n",
       "<p>13799782 rows × 3 columns</p>\n",
       "</div>"
      ],
      "text/plain": [
       "                            peak_id source_id  homer_binding_score\n",
       "0            chr7:83900579-83900792      AMYB             0.310261\n",
       "1          chr7:101620490-101620805      AMYB             0.117482\n",
       "2            chr7:34991075-34991272      AMYB             0.117482\n",
       "3          chr1:128671539-128671848      AMYB             0.117482\n",
       "4           chr18:77277089-77277325      AMYB             0.117482\n",
       "...                             ...       ...                  ...\n",
       "13799777     chr1:93306294-93306671      GATA             1.000000\n",
       "13799778  chr12:118643377-118643660      GATA             1.000000\n",
       "13799779   chrX:111696748-111697080      GATA             1.000000\n",
       "13799780     chr2:18027413-18027746      GATA             1.000000\n",
       "13799781    chr12:24892556-24892778      GATA             1.000000\n",
       "\n",
       "[13799782 rows x 3 columns]"
      ]
     },
     "execution_count": 13,
     "metadata": {},
     "output_type": "execute_result"
    }
   ],
   "source": [
    "homer_results = pd.read_parquet(os.path.join(output_dir, \"homer_tf_to_peak.parquet\"), engine=\"pyarrow\")\n",
    "homer_results = homer_results.reset_index(drop=True)\n",
    "homer_results"
   ]
  },
  {
   "cell_type": "markdown",
   "id": "817e1280",
   "metadata": {},
   "source": [
    "We can use the `chip_tf_to_peak` object that we created from the ChIP-Atlas file to check our work. Since we sampled the ChIP-Atlas peaks before we ran Homer, we need to subset `chip_tf_to_peak` to only contain those peaks."
   ]
  },
  {
   "cell_type": "code",
   "execution_count": 16,
   "id": "1e2851b9",
   "metadata": {},
   "outputs": [
    {
     "data": {
      "application/vnd.microsoft.datawrangler.viewer.v0+json": {
       "columns": [
        {
         "name": "index",
         "rawType": "int64",
         "type": "integer"
        },
        {
         "name": "gene_id",
         "rawType": "object",
         "type": "string"
        },
        {
         "name": "peak_id",
         "rawType": "object",
         "type": "string"
        }
       ],
       "ref": "b6db0c81-31dd-400f-914c-d3d9113692e2",
       "rows": [
        [
         "16",
         "Chd4",
         "chr1:3043095-3043239"
        ],
        [
         "54",
         "Neurog2",
         "chr1:3094902-3095185"
        ],
        [
         "63",
         "Ncor2",
         "chr1:3113649-3113870"
        ],
        [
         "69",
         "Hoxa13",
         "chr1:3113912-3114136"
        ],
        [
         "114",
         "Hoxa13",
         "chr1:3139162-3139303"
        ],
        [
         "127",
         "Smad4",
         "chr1:3143207-3143394"
        ],
        [
         "167",
         "Smarca4",
         "chr1:3287327-3287460"
        ],
        [
         "169",
         "Kdm6b",
         "chr1:3292540-3293106"
        ],
        [
         "175",
         "Ncor2",
         "chr1:3292591-3293003"
        ],
        [
         "179",
         "Kdm6b",
         "chr1:3293034-3293208"
        ],
        [
         "184",
         "Ncor2",
         "chr1:3309877-3310263"
        ],
        [
         "190",
         "Ncor2",
         "chr1:3322427-3322871"
        ],
        [
         "198",
         "Hnf4a",
         "chr1:3369005-3369137"
        ],
        [
         "208",
         "Isl1",
         "chr1:3378135-3378200"
        ],
        [
         "220",
         "Six2",
         "chr1:3395666-3395838"
        ],
        [
         "241",
         "Six2",
         "chr1:3400050-3400266"
        ],
        [
         "269",
         "Six2",
         "chr1:3433910-3434230"
        ],
        [
         "297",
         "Cebpa",
         "chr1:3477838-3477950"
        ],
        [
         "304",
         "Isl1",
         "chr1:3506801-3506889"
        ],
        [
         "308",
         "Hnf4a",
         "chr1:3514947-3515246"
        ],
        [
         "366",
         "Epitope",
         "chr1:3648973-3649274"
        ],
        [
         "426",
         "Ctcf",
         "chr1:3671411-3671749"
        ],
        [
         "434",
         "Ctcf",
         "chr1:3671451-3671685"
        ],
        [
         "481",
         "Nr2f2",
         "chr1:3671893-3672090"
        ],
        [
         "492",
         "Epitope",
         "chr1:3681512-3681830"
        ],
        [
         "493",
         "Hmga2",
         "chr1:3702178-3702404"
        ],
        [
         "505",
         "Eomes",
         "chr1:3764845-3765039"
        ],
        [
         "550",
         "Ncor2",
         "chr1:3900406-3900642"
        ],
        [
         "566",
         "Ncor2",
         "chr1:3903574-3903876"
        ],
        [
         "601",
         "Hoxa13",
         "chr1:4051395-4051632"
        ],
        [
         "638",
         "Ctcf",
         "chr1:4142518-4142911"
        ],
        [
         "641",
         "Rad21",
         "chr1:4142534-4142820"
        ],
        [
         "648",
         "Ctcf",
         "chr1:4142560-4142939"
        ],
        [
         "659",
         "Ctcf",
         "chr1:4142580-4142841"
        ],
        [
         "685",
         "Ctcf",
         "chr1:4142650-4142826"
        ],
        [
         "690",
         "Smarca4",
         "chr1:4151336-4151423"
        ],
        [
         "710",
         "Smarca4",
         "chr1:4228121-4228260"
        ],
        [
         "712",
         "Ctcf",
         "chr1:4228149-4228540"
        ],
        [
         "766",
         "Hoxa13",
         "chr1:4245289-4245574"
        ],
        [
         "777",
         "Hoxa13",
         "chr1:4255393-4255738"
        ],
        [
         "794",
         "Smad4",
         "chr1:4258265-4258365"
        ],
        [
         "811",
         "Tal1",
         "chr1:4298337-4298417"
        ],
        [
         "855",
         "Ctcf",
         "chr1:4332495-4332895"
        ],
        [
         "860",
         "Ctcf",
         "chr1:4332501-4332794"
        ],
        [
         "911",
         "Ctcf",
         "chr1:4332567-4332825"
        ],
        [
         "915",
         "Ctcf",
         "chr1:4332573-4332791"
        ],
        [
         "971",
         "Ctcf",
         "chr1:4346280-4346495"
        ],
        [
         "982",
         "Ctcf",
         "chr1:4346311-4346452"
        ],
        [
         "991",
         "Hoxa13",
         "chr1:4376701-4377001"
        ],
        [
         "995",
         "Ctcf",
         "chr1:4382795-4383150"
        ]
       ],
       "shape": {
        "columns": 2,
        "rows": 374016
       }
      },
      "text/html": [
       "<div>\n",
       "<style scoped>\n",
       "    .dataframe tbody tr th:only-of-type {\n",
       "        vertical-align: middle;\n",
       "    }\n",
       "\n",
       "    .dataframe tbody tr th {\n",
       "        vertical-align: top;\n",
       "    }\n",
       "\n",
       "    .dataframe thead th {\n",
       "        text-align: right;\n",
       "    }\n",
       "</style>\n",
       "<table border=\"1\" class=\"dataframe\">\n",
       "  <thead>\n",
       "    <tr style=\"text-align: right;\">\n",
       "      <th></th>\n",
       "      <th>gene_id</th>\n",
       "      <th>peak_id</th>\n",
       "    </tr>\n",
       "  </thead>\n",
       "  <tbody>\n",
       "    <tr>\n",
       "      <th>16</th>\n",
       "      <td>Chd4</td>\n",
       "      <td>chr1:3043095-3043239</td>\n",
       "    </tr>\n",
       "    <tr>\n",
       "      <th>54</th>\n",
       "      <td>Neurog2</td>\n",
       "      <td>chr1:3094902-3095185</td>\n",
       "    </tr>\n",
       "    <tr>\n",
       "      <th>63</th>\n",
       "      <td>Ncor2</td>\n",
       "      <td>chr1:3113649-3113870</td>\n",
       "    </tr>\n",
       "    <tr>\n",
       "      <th>69</th>\n",
       "      <td>Hoxa13</td>\n",
       "      <td>chr1:3113912-3114136</td>\n",
       "    </tr>\n",
       "    <tr>\n",
       "      <th>114</th>\n",
       "      <td>Hoxa13</td>\n",
       "      <td>chr1:3139162-3139303</td>\n",
       "    </tr>\n",
       "    <tr>\n",
       "      <th>...</th>\n",
       "      <td>...</td>\n",
       "      <td>...</td>\n",
       "    </tr>\n",
       "    <tr>\n",
       "      <th>7624250</th>\n",
       "      <td>Ctcf</td>\n",
       "      <td>chrY:90839663-90839892</td>\n",
       "    </tr>\n",
       "    <tr>\n",
       "      <th>7624251</th>\n",
       "      <td>Ctcf</td>\n",
       "      <td>chrY:90839664-90839927</td>\n",
       "    </tr>\n",
       "    <tr>\n",
       "      <th>7624263</th>\n",
       "      <td>Ctcf</td>\n",
       "      <td>chrY:90839682-90839933</td>\n",
       "    </tr>\n",
       "    <tr>\n",
       "      <th>7624276</th>\n",
       "      <td>Ctcf</td>\n",
       "      <td>chrY:90839691-90839888</td>\n",
       "    </tr>\n",
       "    <tr>\n",
       "      <th>7624288</th>\n",
       "      <td>Foxa2</td>\n",
       "      <td>chrY:90841573-90841784</td>\n",
       "    </tr>\n",
       "  </tbody>\n",
       "</table>\n",
       "<p>374016 rows × 2 columns</p>\n",
       "</div>"
      ],
      "text/plain": [
       "         gene_id                 peak_id\n",
       "16          Chd4    chr1:3043095-3043239\n",
       "54       Neurog2    chr1:3094902-3095185\n",
       "63         Ncor2    chr1:3113649-3113870\n",
       "69        Hoxa13    chr1:3113912-3114136\n",
       "114       Hoxa13    chr1:3139162-3139303\n",
       "...          ...                     ...\n",
       "7624250     Ctcf  chrY:90839663-90839892\n",
       "7624251     Ctcf  chrY:90839664-90839927\n",
       "7624263     Ctcf  chrY:90839682-90839933\n",
       "7624276     Ctcf  chrY:90839691-90839888\n",
       "7624288    Foxa2  chrY:90841573-90841784\n",
       "\n",
       "[374016 rows x 2 columns]"
      ]
     },
     "execution_count": 16,
     "metadata": {},
     "output_type": "execute_result"
    }
   ],
   "source": [
    "chip_tf_to_peak_sub = chip_tf_to_peak[chip_tf_to_peak[\"peak_id\"].isin(homer_results[\"peak_id\"])]\n",
    "chip_tf_to_peak_sub"
   ]
  },
  {
   "cell_type": "markdown",
   "id": "43e31378",
   "metadata": {},
   "source": [
    "We then combine the TF-peak mapping from ChIP-Atlas with the TF-peak mapping from the Homer score by merging the two DataFrames on `peak_id`."
   ]
  },
  {
   "cell_type": "code",
   "execution_count": 17,
   "id": "21f68eba",
   "metadata": {},
   "outputs": [
    {
     "data": {
      "application/vnd.microsoft.datawrangler.viewer.v0+json": {
       "columns": [
        {
         "name": "index",
         "rawType": "int64",
         "type": "integer"
        },
        {
         "name": "chip_gene",
         "rawType": "object",
         "type": "string"
        },
        {
         "name": "homer_gene",
         "rawType": "string",
         "type": "string"
        },
        {
         "name": "peak_id",
         "rawType": "object",
         "type": "string"
        },
        {
         "name": "homer_binding_score",
         "rawType": "float64",
         "type": "float"
        }
       ],
       "ref": "0ef02b9e-b657-4f83-9a88-56c0b46ef587",
       "rows": [
        [
         "0",
         "Chd4",
         "Atoh1",
         "chr1:3043095-3043239",
         "0.19084834450456686"
        ],
        [
         "1",
         "Chd4",
         "Hoxa11",
         "chr1:3043095-3043239",
         "0.029914999566684315"
        ],
        [
         "2",
         "Chd4",
         "BHLHA15",
         "chr1:3043095-3043239",
         "0.010247510494708387"
        ],
        [
         "3",
         "Chd4",
         "BMAL1",
         "chr1:3043095-3043239",
         "0.0840444227458538"
        ],
        [
         "4",
         "Chd4",
         "MITF",
         "chr1:3043095-3043239",
         "0.2462873892484954"
        ],
        [
         "5",
         "Chd4",
         "MNT",
         "chr1:3043095-3043239",
         "0.1576467179939646"
        ],
        [
         "6",
         "Chd4",
         "Max",
         "chr1:3043095-3043239",
         "0.4225044505100748"
        ],
        [
         "7",
         "Chd4",
         "NPAS",
         "chr1:3043095-3043239",
         "0.16627563570840262"
        ],
        [
         "8",
         "Chd4",
         "Nanog",
         "chr1:3043095-3043239",
         "0.0"
        ],
        [
         "9",
         "Chd4",
         "Bcl11a",
         "chr1:3043095-3043239",
         "0.2564855338703769"
        ],
        [
         "10",
         "Chd4",
         "RBPJ",
         "chr1:3043095-3043239",
         "0.8452699009802354"
        ],
        [
         "11",
         "Chd4",
         "SCL",
         "chr1:3043095-3043239",
         "0.0"
        ],
        [
         "12",
         "Chd4",
         "TCF4",
         "chr1:3043095-3043239",
         "0.053463567303300936"
        ],
        [
         "13",
         "Chd4",
         "Twist2",
         "chr1:3043095-3043239",
         "0.05510999445598101"
        ],
        [
         "14",
         "Chd4",
         "Zac1",
         "chr1:3043095-3043239",
         "0.007473678678929521"
        ],
        [
         "15",
         "Chd4",
         "Ascl1",
         "chr1:3043095-3043239",
         "0.032595527550122856"
        ],
        [
         "16",
         "Chd4",
         "FOXK1",
         "chr1:3043095-3043239",
         "0.21849701429857354"
        ],
        [
         "17",
         "Chd4",
         "FoxL2",
         "chr1:3043095-3043239",
         "0.20798529462798418"
        ],
        [
         "18",
         "Chd4",
         "Foxf1",
         "chr1:3043095-3043239",
         "0.17271603010606235"
        ],
        [
         "19",
         "Neurog2",
         "Gsx2",
         "chr1:3094902-3095185",
         "0.39331563192943186"
        ],
        [
         "20",
         "Neurog2",
         "HIC1",
         "chr1:3094902-3095185",
         "0.02098675970237575"
        ],
        [
         "21",
         "Neurog2",
         "Hoxc6",
         "chr1:3094902-3095185",
         "0.07369004304361255"
        ],
        [
         "22",
         "Neurog2",
         "Isl1",
         "chr1:3094902-3095185",
         "0.2289899747111213"
        ],
        [
         "23",
         "Neurog2",
         "BHLHA15",
         "chr1:3094902-3095185",
         "0.11704261941076849"
        ],
        [
         "24",
         "Neurog2",
         "LEF1",
         "chr1:3094902-3095185",
         "0.43504473544735794"
        ],
        [
         "25",
         "Neurog2",
         "LHX9",
         "chr1:3094902-3095185",
         "0.37524882820147526"
        ],
        [
         "26",
         "Neurog2",
         "Lhx1",
         "chr1:3094902-3095185",
         "0.3846926214872749"
        ],
        [
         "27",
         "Neurog2",
         "Lhx2",
         "chr1:3094902-3095185",
         "0.31800831571382304"
        ],
        [
         "28",
         "Neurog2",
         "Lhx3",
         "chr1:3094902-3095185",
         "0.2413738103598255"
        ],
        [
         "29",
         "Neurog2",
         "Lhx6",
         "chr1:3094902-3095185",
         "0.29385432439011033"
        ],
        [
         "30",
         "Neurog2",
         "MafB",
         "chr1:3094902-3095185",
         "1.0"
        ],
        [
         "31",
         "Neurog2",
         "Meis1",
         "chr1:3094902-3095185",
         "0.044934484481587565"
        ],
        [
         "32",
         "Neurog2",
         "Mixl1",
         "chr1:3094902-3095185",
         "0.3588536404959318"
        ],
        [
         "33",
         "Neurog2",
         "NF1-halfsite",
         "chr1:3094902-3095185",
         "0.46464920277283495"
        ],
        [
         "34",
         "Neurog2",
         "Nanog",
         "chr1:3094902-3095185",
         "0.17164258750993136"
        ],
        [
         "35",
         "Neurog2",
         "NeuroG2",
         "chr1:3094902-3095185",
         "0.04999314907911257"
        ],
        [
         "36",
         "Neurog2",
         "Nkx2.2",
         "chr1:3094902-3095185",
         "0.07175662751284473"
        ],
        [
         "37",
         "Neurog2",
         "Nkx6.1",
         "chr1:3094902-3095185",
         "0.27591103952523266"
        ],
        [
         "38",
         "Neurog2",
         "Pdx1",
         "chr1:3094902-3095185",
         "0.2652959217381716"
        ],
        [
         "39",
         "Neurog2",
         "Ptf1a",
         "chr1:3094902-3095185",
         "0.007967895072112648"
        ],
        [
         "40",
         "Neurog2",
         "RUNX-AML",
         "chr1:3094902-3095185",
         "0.36900759544949474"
        ],
        [
         "41",
         "Neurog2",
         "SCL",
         "chr1:3094902-3095185",
         "0.04634083301186611"
        ],
        [
         "42",
         "Neurog2",
         "Sox9",
         "chr1:3094902-3095185",
         "0.2973408848513586"
        ],
        [
         "43",
         "Neurog2",
         "TCF4",
         "chr1:3094902-3095185",
         "0.053463567303300936"
        ],
        [
         "44",
         "Neurog2",
         "Tcf7",
         "chr1:3094902-3095185",
         "0.8741755900781129"
        ],
        [
         "45",
         "Neurog2",
         "Tgif1",
         "chr1:3094902-3095185",
         "0.040152469932519974"
        ],
        [
         "46",
         "Neurog2",
         "Tgif2",
         "chr1:3094902-3095185",
         "0.044010863886366894"
        ],
        [
         "47",
         "Neurog2",
         "Twist2",
         "chr1:3094902-3095185",
         "0.05510999445598101"
        ],
        [
         "48",
         "Neurog2",
         "ZBTB18",
         "chr1:3094902-3095185",
         "0.4800561788386965"
        ],
        [
         "49",
         "Neurog2",
         "Ap4",
         "chr1:3094902-3095185",
         "0.2828529996642006"
        ]
       ],
       "shape": {
        "columns": 4,
        "rows": 14038581
       }
      },
      "text/html": [
       "<div>\n",
       "<style scoped>\n",
       "    .dataframe tbody tr th:only-of-type {\n",
       "        vertical-align: middle;\n",
       "    }\n",
       "\n",
       "    .dataframe tbody tr th {\n",
       "        vertical-align: top;\n",
       "    }\n",
       "\n",
       "    .dataframe thead th {\n",
       "        text-align: right;\n",
       "    }\n",
       "</style>\n",
       "<table border=\"1\" class=\"dataframe\">\n",
       "  <thead>\n",
       "    <tr style=\"text-align: right;\">\n",
       "      <th></th>\n",
       "      <th>chip_gene</th>\n",
       "      <th>homer_gene</th>\n",
       "      <th>peak_id</th>\n",
       "      <th>homer_binding_score</th>\n",
       "    </tr>\n",
       "  </thead>\n",
       "  <tbody>\n",
       "    <tr>\n",
       "      <th>0</th>\n",
       "      <td>Chd4</td>\n",
       "      <td>Atoh1</td>\n",
       "      <td>chr1:3043095-3043239</td>\n",
       "      <td>0.190848</td>\n",
       "    </tr>\n",
       "    <tr>\n",
       "      <th>1</th>\n",
       "      <td>Chd4</td>\n",
       "      <td>Hoxa11</td>\n",
       "      <td>chr1:3043095-3043239</td>\n",
       "      <td>0.029915</td>\n",
       "    </tr>\n",
       "    <tr>\n",
       "      <th>2</th>\n",
       "      <td>Chd4</td>\n",
       "      <td>BHLHA15</td>\n",
       "      <td>chr1:3043095-3043239</td>\n",
       "      <td>0.010248</td>\n",
       "    </tr>\n",
       "    <tr>\n",
       "      <th>3</th>\n",
       "      <td>Chd4</td>\n",
       "      <td>BMAL1</td>\n",
       "      <td>chr1:3043095-3043239</td>\n",
       "      <td>0.084044</td>\n",
       "    </tr>\n",
       "    <tr>\n",
       "      <th>4</th>\n",
       "      <td>Chd4</td>\n",
       "      <td>MITF</td>\n",
       "      <td>chr1:3043095-3043239</td>\n",
       "      <td>0.246287</td>\n",
       "    </tr>\n",
       "    <tr>\n",
       "      <th>...</th>\n",
       "      <td>...</td>\n",
       "      <td>...</td>\n",
       "      <td>...</td>\n",
       "      <td>...</td>\n",
       "    </tr>\n",
       "    <tr>\n",
       "      <th>14038576</th>\n",
       "      <td>Foxa2</td>\n",
       "      <td>Foxa2</td>\n",
       "      <td>chrY:90841573-90841784</td>\n",
       "      <td>0.318534</td>\n",
       "    </tr>\n",
       "    <tr>\n",
       "      <th>14038577</th>\n",
       "      <td>Foxa2</td>\n",
       "      <td>Foxa3</td>\n",
       "      <td>chrY:90841573-90841784</td>\n",
       "      <td>0.776944</td>\n",
       "    </tr>\n",
       "    <tr>\n",
       "      <th>14038578</th>\n",
       "      <td>Foxa2</td>\n",
       "      <td>Foxf1</td>\n",
       "      <td>chrY:90841573-90841784</td>\n",
       "      <td>0.172716</td>\n",
       "    </tr>\n",
       "    <tr>\n",
       "      <th>14038579</th>\n",
       "      <td>Foxa2</td>\n",
       "      <td>Foxo1</td>\n",
       "      <td>chrY:90841573-90841784</td>\n",
       "      <td>0.075228</td>\n",
       "    </tr>\n",
       "    <tr>\n",
       "      <th>14038580</th>\n",
       "      <td>Foxa2</td>\n",
       "      <td>Foxo3</td>\n",
       "      <td>chrY:90841573-90841784</td>\n",
       "      <td>0.320916</td>\n",
       "    </tr>\n",
       "  </tbody>\n",
       "</table>\n",
       "<p>14038581 rows × 4 columns</p>\n",
       "</div>"
      ],
      "text/plain": [
       "         chip_gene homer_gene                 peak_id  homer_binding_score\n",
       "0             Chd4      Atoh1    chr1:3043095-3043239             0.190848\n",
       "1             Chd4     Hoxa11    chr1:3043095-3043239             0.029915\n",
       "2             Chd4    BHLHA15    chr1:3043095-3043239             0.010248\n",
       "3             Chd4      BMAL1    chr1:3043095-3043239             0.084044\n",
       "4             Chd4       MITF    chr1:3043095-3043239             0.246287\n",
       "...            ...        ...                     ...                  ...\n",
       "14038576     Foxa2      Foxa2  chrY:90841573-90841784             0.318534\n",
       "14038577     Foxa2      Foxa3  chrY:90841573-90841784             0.776944\n",
       "14038578     Foxa2      Foxf1  chrY:90841573-90841784             0.172716\n",
       "14038579     Foxa2      Foxo1  chrY:90841573-90841784             0.075228\n",
       "14038580     Foxa2      Foxo3  chrY:90841573-90841784             0.320916\n",
       "\n",
       "[14038581 rows x 4 columns]"
      ]
     },
     "execution_count": 17,
     "metadata": {},
     "output_type": "execute_result"
    }
   ],
   "source": [
    "merged_df = pd.merge(chip_tf_to_peak_sub, homer_results, on=\"peak_id\", how=\"inner\")\n",
    "merged_df = merged_df.rename(columns={\"gene_id\": \"chip_gene\", \"source_id\": \"homer_gene\"})\n",
    "merged_df = merged_df[[\"chip_gene\", \"homer_gene\", \"peak_id\", \"homer_binding_score\"]]\n",
    "merged_df"
   ]
  },
  {
   "cell_type": "code",
   "execution_count": 18,
   "id": "05f352a7",
   "metadata": {},
   "outputs": [],
   "source": [
    "merged_df.to_csv(os.path.join(output_dir, \"chipseq_homer_merged.csv\"), header=True, index=False)"
   ]
  },
  {
   "cell_type": "markdown",
   "id": "83b7592f",
   "metadata": {},
   "source": [
    "We can extract the correct predictions and the incorrect predictions, and see how the Homer binding scores vary between them."
   ]
  },
  {
   "cell_type": "code",
   "execution_count": 21,
   "id": "5d86c337",
   "metadata": {},
   "outputs": [
    {
     "name": "stdout",
     "output_type": "stream",
     "text": [
      "Num correct predictions: 33255\n",
      "Num incorrect predictions: 14005326\n"
     ]
    }
   ],
   "source": [
    "correct_predictions = merged_df[merged_df[\"chip_gene\"] == merged_df[\"homer_gene\"]]\n",
    "incorrect_predictions = merged_df[merged_df[\"chip_gene\"] != merged_df[\"homer_gene\"]]\n",
    "\n",
    "print(f\"Num correct predictions: {len(correct_predictions)}\")\n",
    "print(f\"Num incorrect predictions: {len(incorrect_predictions)}\")"
   ]
  },
  {
   "cell_type": "markdown",
   "id": "552a3d6a",
   "metadata": {},
   "source": [
    "There are a lot more incorrect predictions than correct predictions. We will sample each DataFrame by the one with the minimum number of rows so they are equal in length."
   ]
  },
  {
   "cell_type": "code",
   "execution_count": 22,
   "id": "6606421e",
   "metadata": {},
   "outputs": [
    {
     "name": "stdout",
     "output_type": "stream",
     "text": [
      "Num correct predictions: 33255\n",
      "Num incorrect predictions: 33255\n"
     ]
    }
   ],
   "source": [
    "correct_prediction_scores = correct_predictions[\"homer_binding_score\"].sample(\n",
    "    min(len(correct_predictions), len(incorrect_predictions))\n",
    "    ).rename(\"Correct TF Binding Predictions\").reset_index(drop=True)\n",
    "\n",
    "incorrect_prediction_scores = incorrect_predictions[\"homer_binding_score\"].sample(\n",
    "    min(len(correct_predictions), len(incorrect_predictions))\n",
    "    ).rename(\"Incorrect TF Binding Predictions\").reset_index(drop=True)\n",
    "\n",
    "print(f\"Num correct predictions: {len(correct_prediction_scores)}\")\n",
    "print(f\"Num incorrect predictions: {len(incorrect_prediction_scores)}\")"
   ]
  },
  {
   "cell_type": "markdown",
   "id": "a52b995d",
   "metadata": {},
   "source": [
    "Now that we have extracted the correct and incorrect scores, we will merge them to create a new dataframe containing just the correct and incorrect scores."
   ]
  },
  {
   "cell_type": "code",
   "execution_count": 23,
   "id": "5dc7b163",
   "metadata": {},
   "outputs": [],
   "source": [
    "pred_df = pd.merge(correct_prediction_scores, incorrect_prediction_scores, left_index=True, right_index=True)"
   ]
  },
  {
   "cell_type": "code",
   "execution_count": 25,
   "id": "0bf78461",
   "metadata": {},
   "outputs": [
    {
     "data": {
      "image/png": "[encoded data removed]",
      "text/plain": [
       "<Figure size 640x480 with 1 Axes>"
      ]
     },
     "metadata": {},
     "output_type": "display_data"
    }
   ],
   "source": [
    "fig = plt.Figure()\n",
    "a = sns.boxplot(data=pred_df)\n",
    "a.set_ylabel(\"Homer Binding Score\")\n",
    "a.set_title(\"Homer Binding Scores for ChIP-seq TF Binding Predictions\")\n",
    "plt.savefig(os.path.join(output_dir, \"chipseq_homer_boxplot.png\"), dpi=200)"
   ]
  },
  {
   "cell_type": "code",
   "execution_count": 26,
   "id": "db974505",
   "metadata": {},
   "outputs": [
    {
     "data": {
      "image/png": "[encoded data removed]",
      "text/plain": [
       "<Figure size 1000x800 with 1 Axes>"
      ]
     },
     "metadata": {},
     "output_type": "display_data"
    }
   ],
   "source": [
    "plt.figure(figsize=(10,8))\n",
    "plt.hist(\n",
    "    pred_df[\"Correct TF Binding Predictions\"],\n",
    "    bins=150,\n",
    "    alpha=0.7,\n",
    "    color='#4195df',\n",
    "    label=\"Correct TF Binding Predictions\"\n",
    ")\n",
    "plt.hist(\n",
    "    pred_df[\"Incorrect TF Binding Predictions\"],\n",
    "    bins=150,\n",
    "    alpha=0.7,\n",
    "    color='#dc8634',\n",
    "    label=\"Incorrect TF Binding Predictions\"\n",
    ")\n",
    "plt.title(\"Homer Binding Scores for ChIP-seq TF Binding Predictions\", fontsize=16)\n",
    "plt.xlabel(\"Homer Binding Score\", fontsize=14)\n",
    "plt.ylabel(\"Frequency\", fontsize=14)\n",
    "plt.xticks(fontsize=12)\n",
    "plt.yticks(fontsize=12)\n",
    "plt.legend(bbox_to_anchor=(1.05, 1), loc='upper left', borderaxespad=0., fontsize=14)\n",
    "plt.savefig(os.path.join(output_dir, \"chipseq_homer_histogram.png\"), dpi=200)"
   ]
  }
 ],
 "metadata": {
  "kernelspec": {
   "display_name": "my_env",
   "language": "python",
   "name": "python3"
  },
  "language_info": {
   "codemirror_mode": {
    "name": "ipython",
    "version": 3
   },
   "file_extension": ".py",
   "mimetype": "text/x-python",
   "name": "python",
   "nbconvert_exporter": "python",
   "pygments_lexer": "ipython3",
   "version": "3.9.18"
  }
 },
 "nbformat": 4,
 "nbformat_minor": 5
}
