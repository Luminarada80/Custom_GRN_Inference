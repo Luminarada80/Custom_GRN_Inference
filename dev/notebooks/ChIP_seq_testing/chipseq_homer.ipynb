{
 "cells": [
  {
   "cell_type": "markdown",
   "id": "6b81b439",
   "metadata": {},
   "source": [
    "## Evaluating the Homer TF-peak scoring method\n",
    "\n",
    "Homer `annotatePeaks.pl` attempts to find TF motif binding sites in a provided set of peak locations. The output of `annotatePeaks.pl` is a file for each TF with information about its binding potential to the peaks in your dataset. The columns are:\n",
    "\n",
    "- PeakID\n",
    "- Chromosome\n",
    "- Peak start position\n",
    "- Peak end position\n",
    "- Strand\n",
    "- Peak Score\n",
    "- FDR/Peak Focus Ratio/Region Size\n",
    "- Annotation (i.e. Exon, Intron, ...)\n",
    "- Detailed Annotation (Exon, Intron etc. + CpG Islands, repeats, etc.)\n",
    "- Distance to nearest RefSeq TSS\n",
    "- Nearest TSS: Native ID of annotation file\n",
    "- Nearest TSS: Entrez Gene ID\n",
    "- Nearest TSS: Unigene ID\n",
    "- Nearest TSS: RefSeq ID\n",
    "- Nearest TSS: Ensembl ID\n",
    "- Nearest TSS: Gene Symbol\n",
    "- Nearest TSS: Gene Aliases\n",
    "- Nearest TSS: Gene description\n",
    "- Additional columns depend on options selected when running the program.\n",
    "\n",
    "To test the accuracy of Homer, we can have it predict the TF binding sites for ChIP-seq TF-DNA binding interactions. We can compare the TF-DNA Homer predictions to the known binding interactions to determine how well Homer identifies correct TF-DNA binding partners.\n",
    "\n",
    "So far, we have been evaluating our results against the mESC ground truth from the BEELINE paper. The paper does not provide the TF-peak ChIP-seq file, but rather the direct TF-TG mapping. The paper states that the ChIP-seq dataset was downloaded from ChIP-Atlas, so we are using the **mm10 embryo ChIP: TFs and others** dataset from ChIP-Atlas."
   ]
  },
  {
   "cell_type": "code",
   "execution_count": null,
   "id": "bf491f0d",
   "metadata": {},
   "outputs": [
    {
     "name": "stdout",
     "output_type": "stream",
     "text": [
      "   Static hostname: psh01com1hcom34\n",
      "         Icon name: computer-server\n",
      "           Chassis: server\n",
      "        Machine ID: 4232d1115a5548e982021ba5a27af5c3\n",
      "           Boot ID: 7722405a22e04dd3b701e19ac5a96705\n",
      "  Operating System: \u001b]8;;https://www.redhat.com/\u0007Red Hat Enterprise Linux 8.10 (Ootpa)\u001b]8;;\u0007\n",
      "       CPE OS Name: cpe:/o:redhat:enterprise_linux:8::baseos\n",
      "            Kernel: Linux 4.18.0-553.22.1.el8_10.x86_64\n",
      "      Architecture: x86-64\n"
     ]
    }
   ],
   "source": [
    "!hostnamectl"
   ]
  },
  {
   "cell_type": "code",
   "execution_count": 3,
   "id": "80c06068",
   "metadata": {},
   "outputs": [],
   "source": [
    "import os\n",
    "import pandas as pd\n",
    "import pybedtools\n",
    "import seaborn as sns\n",
    "import matplotlib.pyplot as plt\n",
    "\n",
    "base_dir = \"/gpfs/Labs/Uzun/SCRIPTS/PROJECTS/2024.SINGLE_CELL_GRN_INFERENCE.MOELLER/\"\n",
    "ground_truth_dir = os.path.join(base_dir, \"ground_truth_files\")\n",
    "output_dir = os.path.join(base_dir, \"output/chipseq_homer\")\n",
    "tmp_dir = os.path.join(output_dir, \"tmp\")\n",
    "\n",
    "os.makedirs(ground_truth_dir, exist_ok=True)\n",
    "os.makedirs(output_dir, exist_ok=True)\n",
    "os.makedirs(tmp_dir, exist_ok=True)"
   ]
  },
  {
   "cell_type": "markdown",
   "id": "2b8b9ec8",
   "metadata": {},
   "source": [
    "### ChIP-Atlas data\n",
    "\n",
    "The ChIP-Atlas dataset we are using can be downloaded from:\n",
    "\n",
    "`wget https://chip-atlas.dbcls.jp/data/mm10/assembled/Oth.Emb.05.AllAg.AllCell.bed`\n",
    "\n",
    "This file corresponds to the following settings in the Peak Browser:\n",
    "- Species -> M. musculus (mm10)\n",
    "- Track type class -> ChIP: TFs and others\n",
    "- Cell type class -> Embryo\n",
    "- Threshold for Significance -> 50\n",
    "- Track type -> All\n",
    "- Cell type -> all\n",
    "\n",
    "The first step here is to extract the relevant information from the ChIP-Atlas dataset to create a TF-peak ground truth DataFrame and a `homer_peaks.txt` DataFrame."
   ]
  },
  {
   "cell_type": "code",
   "execution_count": 3,
   "id": "278853a4",
   "metadata": {},
   "outputs": [],
   "source": [
    "def extract_gene_name(name):\n",
    "    return name.split(\"Name=\")[1].split(\"%\")[0]\n",
    "\n",
    "def format_peak_id(chrom, start, end):\n",
    "    start = str(int(start))\n",
    "    end = str(int(end))\n",
    "    return \"%s:%s-%s\" % (chrom, start, end)"
   ]
  },
  {
   "cell_type": "code",
   "execution_count": 5,
   "id": "f38ea796",
   "metadata": {},
   "outputs": [
    {
     "name": "stderr",
     "output_type": "stream",
     "text": [
      "/tmp/ipykernel_442203/3085763299.py:10: SettingWithCopyWarning: \n",
      "A value is trying to be set on a copy of a slice from a DataFrame.\n",
      "Try using .loc[row_indexer,col_indexer] = value instead\n",
      "\n",
      "See the caveats in the documentation: https://pandas.pydata.org/pandas-docs/stable/user_guide/indexing.html#returning-a-view-versus-a-copy\n",
      "  chip_bed_cleaned[\"peak_id\"] = chip_bed_cleaned.apply(lambda x: format_peak_id(x.chrom, x.start, x.end), axis=1)\n"
     ]
    },
    {
     "data": {
      "application/vnd.microsoft.datawrangler.viewer.v0+json": {
       "columns": [
        {
         "name": "index",
         "rawType": "int64",
         "type": "integer"
        },
        {
         "name": "gene_id",
         "rawType": "object",
         "type": "string"
        },
        {
         "name": "peak_id",
         "rawType": "object",
         "type": "string"
        }
       ],
       "ref": "a87b9e50-1e8d-4b4d-afda-e5f4d381108e",
       "rows": [
        [
         "1",
         "Smad4",
         "chr1:3003564-3003922"
        ],
        [
         "2",
         "Ctcf",
         "chr1:3012605-3012815"
        ],
        [
         "3",
         "Ctcf",
         "chr1:3012635-3012824"
        ],
        [
         "4",
         "Epitope",
         "chr1:3031387-3031654"
        ],
        [
         "5",
         "Smad4",
         "chr1:3031454-3031677"
        ],
        [
         "6",
         "Epitope",
         "chr1:3037813-3037977"
        ],
        [
         "7",
         "Epitope",
         "chr1:3037831-3038014"
        ],
        [
         "8",
         "Creb1",
         "chr1:3042056-3042107"
        ],
        [
         "9",
         "Chd4",
         "chr1:3042840-3042993"
        ],
        [
         "10",
         "Hand2",
         "chr1:3042840-3043210"
        ],
        [
         "11",
         "Chd4",
         "chr1:3042845-3042974"
        ],
        [
         "12",
         "Klf1",
         "chr1:3042893-3043261"
        ],
        [
         "13",
         "Chd4",
         "chr1:3043042-3043236"
        ],
        [
         "14",
         "Hira",
         "chr1:3043048-3043364"
        ],
        [
         "15",
         "Chd4",
         "chr1:3043056-3043246"
        ],
        [
         "16",
         "Chd4",
         "chr1:3043095-3043239"
        ],
        [
         "17",
         "Smad1",
         "chr1:3048848-3049240"
        ],
        [
         "18",
         "Smad1",
         "chr1:3048884-3049204"
        ],
        [
         "19",
         "Smad1",
         "chr1:3048892-3049123"
        ],
        [
         "20",
         "Smad1",
         "chr1:3048924-3049137"
        ],
        [
         "21",
         "Smad1",
         "chr1:3048985-3049197"
        ],
        [
         "22",
         "Epitope",
         "chr1:3050139-3050342"
        ],
        [
         "23",
         "Epitope",
         "chr1:3050160-3050251"
        ],
        [
         "24",
         "Isl1",
         "chr1:3050169-3050323"
        ],
        [
         "25",
         "Smarca4",
         "chr1:3050170-3050252"
        ],
        [
         "26",
         "Prdm13",
         "chr1:3051439-3051494"
        ],
        [
         "27",
         "Hoxa13",
         "chr1:3054989-3055130"
        ],
        [
         "28",
         "Hoxa13",
         "chr1:3055034-3055478"
        ],
        [
         "29",
         "Hoxa13",
         "chr1:3055062-3055329"
        ],
        [
         "30",
         "Cebpa",
         "chr1:3059708-3059807"
        ],
        [
         "31",
         "Epitope",
         "chr1:3062849-3063111"
        ],
        [
         "32",
         "Hnf1b",
         "chr1:3063257-3063401"
        ],
        [
         "33",
         "Pax5",
         "chr1:3068096-3068380"
        ],
        [
         "34",
         "Gata6",
         "chr1:3072534-3072701"
        ],
        [
         "35",
         "Gata1",
         "chr1:3077207-3077399"
        ],
        [
         "36",
         "Smarca4",
         "chr1:3083162-3083320"
        ],
        [
         "37",
         "Epitope",
         "chr1:3083182-3083313"
        ],
        [
         "38",
         "Isl1",
         "chr1:3083187-3083305"
        ],
        [
         "39",
         "Epitope",
         "chr1:3083189-3083280"
        ],
        [
         "40",
         "Pax5",
         "chr1:3091675-3091891"
        ],
        [
         "41",
         "Ncor2",
         "chr1:3094752-3095214"
        ],
        [
         "42",
         "Cebpa",
         "chr1:3094760-3094900"
        ],
        [
         "43",
         "Ncor2",
         "chr1:3094784-3095161"
        ],
        [
         "44",
         "Ncor2",
         "chr1:3094789-3095260"
        ],
        [
         "45",
         "Ncor2",
         "chr1:3094795-3095175"
        ],
        [
         "46",
         "Ncor2",
         "chr1:3094799-3095182"
        ],
        [
         "47",
         "Ncor2",
         "chr1:3094823-3095143"
        ],
        [
         "48",
         "Neurog2",
         "chr1:3094824-3095063"
        ],
        [
         "49",
         "Ncor2",
         "chr1:3094827-3095149"
        ],
        [
         "50",
         "Ncor2",
         "chr1:3094854-3095103"
        ]
       ],
       "shape": {
        "columns": 2,
        "rows": 7624391
       }
      },
      "text/html": [
       "<div>\n",
       "<style scoped>\n",
       "    .dataframe tbody tr th:only-of-type {\n",
       "        vertical-align: middle;\n",
       "    }\n",
       "\n",
       "    .dataframe tbody tr th {\n",
       "        vertical-align: top;\n",
       "    }\n",
       "\n",
       "    .dataframe thead th {\n",
       "        text-align: right;\n",
       "    }\n",
       "</style>\n",
       "<table border=\"1\" class=\"dataframe\">\n",
       "  <thead>\n",
       "    <tr style=\"text-align: right;\">\n",
       "      <th></th>\n",
       "      <th>gene_id</th>\n",
       "      <th>peak_id</th>\n",
       "    </tr>\n",
       "  </thead>\n",
       "  <tbody>\n",
       "    <tr>\n",
       "      <th>1</th>\n",
       "      <td>Smad4</td>\n",
       "      <td>chr1:3003564-3003922</td>\n",
       "    </tr>\n",
       "    <tr>\n",
       "      <th>2</th>\n",
       "      <td>Ctcf</td>\n",
       "      <td>chr1:3012605-3012815</td>\n",
       "    </tr>\n",
       "    <tr>\n",
       "      <th>3</th>\n",
       "      <td>Ctcf</td>\n",
       "      <td>chr1:3012635-3012824</td>\n",
       "    </tr>\n",
       "    <tr>\n",
       "      <th>4</th>\n",
       "      <td>Epitope</td>\n",
       "      <td>chr1:3031387-3031654</td>\n",
       "    </tr>\n",
       "    <tr>\n",
       "      <th>5</th>\n",
       "      <td>Smad4</td>\n",
       "      <td>chr1:3031454-3031677</td>\n",
       "    </tr>\n",
       "    <tr>\n",
       "      <th>...</th>\n",
       "      <td>...</td>\n",
       "      <td>...</td>\n",
       "    </tr>\n",
       "    <tr>\n",
       "      <th>7624387</th>\n",
       "      <td>Rest</td>\n",
       "      <td>chrY_JH584303_random:135985-136047</td>\n",
       "    </tr>\n",
       "    <tr>\n",
       "      <th>7624388</th>\n",
       "      <td>Rest</td>\n",
       "      <td>chrY_JH584303_random:135985-136048</td>\n",
       "    </tr>\n",
       "    <tr>\n",
       "      <th>7624389</th>\n",
       "      <td>Rest</td>\n",
       "      <td>chrY_JH584303_random:135986-136045</td>\n",
       "    </tr>\n",
       "    <tr>\n",
       "      <th>7624390</th>\n",
       "      <td>Rest</td>\n",
       "      <td>chrY_JH584303_random:135989-136043</td>\n",
       "    </tr>\n",
       "    <tr>\n",
       "      <th>7624391</th>\n",
       "      <td>Rest</td>\n",
       "      <td>chrY_JH584303_random:135989-136046</td>\n",
       "    </tr>\n",
       "  </tbody>\n",
       "</table>\n",
       "<p>7624391 rows × 2 columns</p>\n",
       "</div>"
      ],
      "text/plain": [
       "         gene_id                             peak_id\n",
       "1          Smad4                chr1:3003564-3003922\n",
       "2           Ctcf                chr1:3012605-3012815\n",
       "3           Ctcf                chr1:3012635-3012824\n",
       "4        Epitope                chr1:3031387-3031654\n",
       "5          Smad4                chr1:3031454-3031677\n",
       "...          ...                                 ...\n",
       "7624387     Rest  chrY_JH584303_random:135985-136047\n",
       "7624388     Rest  chrY_JH584303_random:135985-136048\n",
       "7624389     Rest  chrY_JH584303_random:135986-136045\n",
       "7624390     Rest  chrY_JH584303_random:135989-136043\n",
       "7624391     Rest  chrY_JH584303_random:135989-136046\n",
       "\n",
       "[7624391 rows x 2 columns]"
      ]
     },
     "execution_count": 5,
     "metadata": {},
     "output_type": "execute_result"
    }
   ],
   "source": [
    "chip_bed_file = os.path.join(ground_truth_dir, \"Oth.Emb.05.AllAg.AllCell.bed\")\n",
    "chip_bed = pybedtools.BedTool(chip_bed_file)\n",
    "chip_bed_df = chip_bed.to_dataframe()\n",
    "chip_bed_nohead = chip_bed_df.iloc[1:, :].dropna()\n",
    "\n",
    "chip_bed_nohead[\"gene_id\"] = chip_bed_nohead[\"name\"].apply(extract_gene_name)\n",
    "chip_bed_cleaned = chip_bed_nohead[[\"chrom\", \"start\", \"end\", \"gene_id\"]]\n",
    "\n",
    "# Set the peak_id as the formatted peak location\n",
    "chip_bed_cleaned[\"peak_id\"] = chip_bed_cleaned.apply(lambda x: format_peak_id(x.chrom, x.start, x.end), axis=1)\n",
    "\n",
    "chip_tf_to_peak = chip_bed_cleaned[[\"gene_id\", \"peak_id\"]]\n",
    "chip_tf_to_peak"
   ]
  },
  {
   "cell_type": "markdown",
   "id": "b83ef420",
   "metadata": {},
   "source": [
    "Now that we have the ChIP-Atlas peaks in the format that we want, we can save it to the ground truth directory for later"
   ]
  },
  {
   "cell_type": "code",
   "execution_count": 5,
   "id": "5b056093",
   "metadata": {},
   "outputs": [],
   "source": [
    "chip_bed_cleaned.to_csv(os.path.join(output_dir, \"chipatlas_peaks.csv\"), header=True, index=False)\n",
    "chip_tf_to_peak.to_csv(os.path.join(ground_truth_dir, \"chipatlas_mESC.csv\"), header=True, index=False)"
   ]
  },
  {
   "cell_type": "markdown",
   "id": "582c3b9c",
   "metadata": {},
   "source": [
    "### Creating the Homer peaks file"
   ]
  },
  {
   "cell_type": "markdown",
   "id": "0da7b39c",
   "metadata": {},
   "source": [
    "Next, we need to format the peaks to follow the requirements for the Homer peaks file.\n",
    "\n",
    "> HOMER peak files should have at minimum 5 columns (separated by TABs, additional columns will be ignored:\n",
    "> - Column1: Unique Peak ID\n",
    "> - Column2: chromosome\n",
    "> - Column3: starting position\n",
    "> - Column4: ending position\n",
    "> - Column5: Strand (+/- or 0/1, where 0=\"+\", 1=\"-\")"
   ]
  },
  {
   "cell_type": "code",
   "execution_count": 4,
   "id": "25f1d89c",
   "metadata": {},
   "outputs": [
    {
     "data": {
      "application/vnd.microsoft.datawrangler.viewer.v0+json": {
       "columns": [
        {
         "name": "index",
         "rawType": "int64",
         "type": "integer"
        },
        {
         "name": "gene_id",
         "rawType": "object",
         "type": "string"
        },
        {
         "name": "peak_id",
         "rawType": "object",
         "type": "string"
        }
       ],
       "ref": "c2845d79-1ee0-4789-9f13-019d08b9172a",
       "rows": [
        [
         "0",
         "SMAD4",
         "chr1:3003564-3003922"
        ],
        [
         "1",
         "CTCF",
         "chr1:3012605-3012815"
        ],
        [
         "2",
         "CTCF",
         "chr1:3012635-3012824"
        ],
        [
         "3",
         "EPITOPE",
         "chr1:3031387-3031654"
        ],
        [
         "4",
         "SMAD4",
         "chr1:3031454-3031677"
        ],
        [
         "5",
         "EPITOPE",
         "chr1:3037813-3037977"
        ],
        [
         "6",
         "EPITOPE",
         "chr1:3037831-3038014"
        ],
        [
         "7",
         "CREB1",
         "chr1:3042056-3042107"
        ],
        [
         "8",
         "CHD4",
         "chr1:3042840-3042993"
        ],
        [
         "9",
         "HAND2",
         "chr1:3042840-3043210"
        ],
        [
         "10",
         "CHD4",
         "chr1:3042845-3042974"
        ],
        [
         "11",
         "KLF1",
         "chr1:3042893-3043261"
        ],
        [
         "12",
         "CHD4",
         "chr1:3043042-3043236"
        ],
        [
         "13",
         "HIRA",
         "chr1:3043048-3043364"
        ],
        [
         "14",
         "CHD4",
         "chr1:3043056-3043246"
        ],
        [
         "15",
         "CHD4",
         "chr1:3043095-3043239"
        ],
        [
         "16",
         "SMAD1",
         "chr1:3048848-3049240"
        ],
        [
         "17",
         "SMAD1",
         "chr1:3048884-3049204"
        ],
        [
         "18",
         "SMAD1",
         "chr1:3048892-3049123"
        ],
        [
         "19",
         "SMAD1",
         "chr1:3048924-3049137"
        ],
        [
         "20",
         "SMAD1",
         "chr1:3048985-3049197"
        ],
        [
         "21",
         "EPITOPE",
         "chr1:3050139-3050342"
        ],
        [
         "22",
         "EPITOPE",
         "chr1:3050160-3050251"
        ],
        [
         "23",
         "ISL1",
         "chr1:3050169-3050323"
        ],
        [
         "24",
         "SMARCA4",
         "chr1:3050170-3050252"
        ],
        [
         "25",
         "PRDM13",
         "chr1:3051439-3051494"
        ],
        [
         "26",
         "HOXA13",
         "chr1:3054989-3055130"
        ],
        [
         "27",
         "HOXA13",
         "chr1:3055034-3055478"
        ],
        [
         "28",
         "HOXA13",
         "chr1:3055062-3055329"
        ],
        [
         "29",
         "CEBPA",
         "chr1:3059708-3059807"
        ],
        [
         "30",
         "EPITOPE",
         "chr1:3062849-3063111"
        ],
        [
         "31",
         "HNF1B",
         "chr1:3063257-3063401"
        ],
        [
         "32",
         "PAX5",
         "chr1:3068096-3068380"
        ],
        [
         "33",
         "GATA6",
         "chr1:3072534-3072701"
        ],
        [
         "34",
         "GATA1",
         "chr1:3077207-3077399"
        ],
        [
         "35",
         "SMARCA4",
         "chr1:3083162-3083320"
        ],
        [
         "36",
         "EPITOPE",
         "chr1:3083182-3083313"
        ],
        [
         "37",
         "ISL1",
         "chr1:3083187-3083305"
        ],
        [
         "38",
         "EPITOPE",
         "chr1:3083189-3083280"
        ],
        [
         "39",
         "PAX5",
         "chr1:3091675-3091891"
        ],
        [
         "40",
         "NCOR2",
         "chr1:3094752-3095214"
        ],
        [
         "41",
         "CEBPA",
         "chr1:3094760-3094900"
        ],
        [
         "42",
         "NCOR2",
         "chr1:3094784-3095161"
        ],
        [
         "43",
         "NCOR2",
         "chr1:3094789-3095260"
        ],
        [
         "44",
         "NCOR2",
         "chr1:3094795-3095175"
        ],
        [
         "45",
         "NCOR2",
         "chr1:3094799-3095182"
        ],
        [
         "46",
         "NCOR2",
         "chr1:3094823-3095143"
        ],
        [
         "47",
         "NEUROG2",
         "chr1:3094824-3095063"
        ],
        [
         "48",
         "NCOR2",
         "chr1:3094827-3095149"
        ],
        [
         "49",
         "NCOR2",
         "chr1:3094854-3095103"
        ]
       ],
       "shape": {
        "columns": 2,
        "rows": 7734466
       }
      },
      "text/html": [
       "<div>\n",
       "<style scoped>\n",
       "    .dataframe tbody tr th:only-of-type {\n",
       "        vertical-align: middle;\n",
       "    }\n",
       "\n",
       "    .dataframe tbody tr th {\n",
       "        vertical-align: top;\n",
       "    }\n",
       "\n",
       "    .dataframe thead th {\n",
       "        text-align: right;\n",
       "    }\n",
       "</style>\n",
       "<table border=\"1\" class=\"dataframe\">\n",
       "  <thead>\n",
       "    <tr style=\"text-align: right;\">\n",
       "      <th></th>\n",
       "      <th>gene_id</th>\n",
       "      <th>peak_id</th>\n",
       "    </tr>\n",
       "  </thead>\n",
       "  <tbody>\n",
       "    <tr>\n",
       "      <th>0</th>\n",
       "      <td>SMAD4</td>\n",
       "      <td>chr1:3003564-3003922</td>\n",
       "    </tr>\n",
       "    <tr>\n",
       "      <th>1</th>\n",
       "      <td>CTCF</td>\n",
       "      <td>chr1:3012605-3012815</td>\n",
       "    </tr>\n",
       "    <tr>\n",
       "      <th>2</th>\n",
       "      <td>CTCF</td>\n",
       "      <td>chr1:3012635-3012824</td>\n",
       "    </tr>\n",
       "    <tr>\n",
       "      <th>3</th>\n",
       "      <td>EPITOPE</td>\n",
       "      <td>chr1:3031387-3031654</td>\n",
       "    </tr>\n",
       "    <tr>\n",
       "      <th>4</th>\n",
       "      <td>SMAD4</td>\n",
       "      <td>chr1:3031454-3031677</td>\n",
       "    </tr>\n",
       "    <tr>\n",
       "      <th>...</th>\n",
       "      <td>...</td>\n",
       "      <td>...</td>\n",
       "    </tr>\n",
       "    <tr>\n",
       "      <th>7734461</th>\n",
       "      <td>REST</td>\n",
       "      <td>chrY_JH584303_random:135985-136047</td>\n",
       "    </tr>\n",
       "    <tr>\n",
       "      <th>7734462</th>\n",
       "      <td>REST</td>\n",
       "      <td>chrY_JH584303_random:135985-136048</td>\n",
       "    </tr>\n",
       "    <tr>\n",
       "      <th>7734463</th>\n",
       "      <td>REST</td>\n",
       "      <td>chrY_JH584303_random:135986-136045</td>\n",
       "    </tr>\n",
       "    <tr>\n",
       "      <th>7734464</th>\n",
       "      <td>REST</td>\n",
       "      <td>chrY_JH584303_random:135989-136043</td>\n",
       "    </tr>\n",
       "    <tr>\n",
       "      <th>7734465</th>\n",
       "      <td>REST</td>\n",
       "      <td>chrY_JH584303_random:135989-136046</td>\n",
       "    </tr>\n",
       "  </tbody>\n",
       "</table>\n",
       "<p>7734466 rows × 2 columns</p>\n",
       "</div>"
      ],
      "text/plain": [
       "         gene_id                             peak_id\n",
       "0          SMAD4                chr1:3003564-3003922\n",
       "1           CTCF                chr1:3012605-3012815\n",
       "2           CTCF                chr1:3012635-3012824\n",
       "3        EPITOPE                chr1:3031387-3031654\n",
       "4          SMAD4                chr1:3031454-3031677\n",
       "...          ...                                 ...\n",
       "7734461     REST  chrY_JH584303_random:135985-136047\n",
       "7734462     REST  chrY_JH584303_random:135985-136048\n",
       "7734463     REST  chrY_JH584303_random:135986-136045\n",
       "7734464     REST  chrY_JH584303_random:135989-136043\n",
       "7734465     REST  chrY_JH584303_random:135989-136046\n",
       "\n",
       "[7734466 rows x 2 columns]"
      ]
     },
     "execution_count": 4,
     "metadata": {},
     "output_type": "execute_result"
    }
   ],
   "source": [
    "chip_bed_cleaned = pd.read_csv(os.path.join(ground_truth_dir, \"chip_atlas_tf_peak_tg_dist.csv\"), header=0, index_col=False)\n",
    "chip_tf_to_peak = chip_bed_cleaned[[\"source_id\", \"peak_id\"]].rename(columns={\"source_id\":\"gene_id\"})\n",
    "chip_tf_to_peak"
   ]
  },
  {
   "cell_type": "code",
   "execution_count": null,
   "id": "42705f62",
   "metadata": {},
   "outputs": [
    {
     "data": {
      "application/vnd.microsoft.datawrangler.viewer.v0+json": {
       "columns": [
        {
         "name": "index",
         "rawType": "int64",
         "type": "integer"
        },
        {
         "name": "PeakID",
         "rawType": "object",
         "type": "string"
        },
        {
         "name": "chr",
         "rawType": "object",
         "type": "string"
        },
        {
         "name": "start",
         "rawType": "int64",
         "type": "integer"
        },
        {
         "name": "end",
         "rawType": "int64",
         "type": "integer"
        },
        {
         "name": "strand",
         "rawType": "object",
         "type": "string"
        }
       ],
       "ref": "3fbd4240-1731-4a0d-9f4b-144313d2d74d",
       "rows": [
        [
         "1",
         "chr1:3003564-3003922",
         "chr1",
         "3003564",
         "3003922",
         "."
        ],
        [
         "2",
         "chr1:3012605-3012815",
         "chr1",
         "3012605",
         "3012815",
         "."
        ],
        [
         "3",
         "chr1:3012635-3012824",
         "chr1",
         "3012635",
         "3012824",
         "."
        ],
        [
         "4",
         "chr1:3031387-3031654",
         "chr1",
         "3031387",
         "3031654",
         "."
        ],
        [
         "5",
         "chr1:3031454-3031677",
         "chr1",
         "3031454",
         "3031677",
         "."
        ],
        [
         "6",
         "chr1:3037813-3037977",
         "chr1",
         "3037813",
         "3037977",
         "."
        ],
        [
         "7",
         "chr1:3037831-3038014",
         "chr1",
         "3037831",
         "3038014",
         "."
        ],
        [
         "8",
         "chr1:3042056-3042107",
         "chr1",
         "3042056",
         "3042107",
         "."
        ],
        [
         "9",
         "chr1:3042840-3042993",
         "chr1",
         "3042840",
         "3042993",
         "."
        ],
        [
         "10",
         "chr1:3042840-3043210",
         "chr1",
         "3042840",
         "3043210",
         "."
        ],
        [
         "11",
         "chr1:3042845-3042974",
         "chr1",
         "3042845",
         "3042974",
         "."
        ],
        [
         "12",
         "chr1:3042893-3043261",
         "chr1",
         "3042893",
         "3043261",
         "."
        ],
        [
         "13",
         "chr1:3043042-3043236",
         "chr1",
         "3043042",
         "3043236",
         "."
        ],
        [
         "14",
         "chr1:3043048-3043364",
         "chr1",
         "3043048",
         "3043364",
         "."
        ],
        [
         "15",
         "chr1:3043056-3043246",
         "chr1",
         "3043056",
         "3043246",
         "."
        ],
        [
         "16",
         "chr1:3043095-3043239",
         "chr1",
         "3043095",
         "3043239",
         "."
        ],
        [
         "17",
         "chr1:3048848-3049240",
         "chr1",
         "3048848",
         "3049240",
         "."
        ],
        [
         "18",
         "chr1:3048884-3049204",
         "chr1",
         "3048884",
         "3049204",
         "."
        ],
        [
         "19",
         "chr1:3048892-3049123",
         "chr1",
         "3048892",
         "3049123",
         "."
        ],
        [
         "20",
         "chr1:3048924-3049137",
         "chr1",
         "3048924",
         "3049137",
         "."
        ],
        [
         "21",
         "chr1:3048985-3049197",
         "chr1",
         "3048985",
         "3049197",
         "."
        ],
        [
         "22",
         "chr1:3050139-3050342",
         "chr1",
         "3050139",
         "3050342",
         "."
        ],
        [
         "23",
         "chr1:3050160-3050251",
         "chr1",
         "3050160",
         "3050251",
         "."
        ],
        [
         "24",
         "chr1:3050169-3050323",
         "chr1",
         "3050169",
         "3050323",
         "."
        ],
        [
         "25",
         "chr1:3050170-3050252",
         "chr1",
         "3050170",
         "3050252",
         "."
        ],
        [
         "26",
         "chr1:3051439-3051494",
         "chr1",
         "3051439",
         "3051494",
         "."
        ],
        [
         "27",
         "chr1:3054989-3055130",
         "chr1",
         "3054989",
         "3055130",
         "."
        ],
        [
         "28",
         "chr1:3055034-3055478",
         "chr1",
         "3055034",
         "3055478",
         "."
        ],
        [
         "29",
         "chr1:3055062-3055329",
         "chr1",
         "3055062",
         "3055329",
         "."
        ],
        [
         "30",
         "chr1:3059708-3059807",
         "chr1",
         "3059708",
         "3059807",
         "."
        ],
        [
         "31",
         "chr1:3062849-3063111",
         "chr1",
         "3062849",
         "3063111",
         "."
        ],
        [
         "32",
         "chr1:3063257-3063401",
         "chr1",
         "3063257",
         "3063401",
         "."
        ],
        [
         "33",
         "chr1:3068096-3068380",
         "chr1",
         "3068096",
         "3068380",
         "."
        ],
        [
         "34",
         "chr1:3072534-3072701",
         "chr1",
         "3072534",
         "3072701",
         "."
        ],
        [
         "35",
         "chr1:3077207-3077399",
         "chr1",
         "3077207",
         "3077399",
         "."
        ],
        [
         "36",
         "chr1:3083162-3083320",
         "chr1",
         "3083162",
         "3083320",
         "."
        ],
        [
         "37",
         "chr1:3083182-3083313",
         "chr1",
         "3083182",
         "3083313",
         "."
        ],
        [
         "38",
         "chr1:3083187-3083305",
         "chr1",
         "3083187",
         "3083305",
         "."
        ],
        [
         "39",
         "chr1:3083189-3083280",
         "chr1",
         "3083189",
         "3083280",
         "."
        ],
        [
         "40",
         "chr1:3091675-3091891",
         "chr1",
         "3091675",
         "3091891",
         "."
        ],
        [
         "41",
         "chr1:3094752-3095214",
         "chr1",
         "3094752",
         "3095214",
         "."
        ],
        [
         "42",
         "chr1:3094760-3094900",
         "chr1",
         "3094760",
         "3094900",
         "."
        ],
        [
         "43",
         "chr1:3094784-3095161",
         "chr1",
         "3094784",
         "3095161",
         "."
        ],
        [
         "44",
         "chr1:3094789-3095260",
         "chr1",
         "3094789",
         "3095260",
         "."
        ],
        [
         "45",
         "chr1:3094795-3095175",
         "chr1",
         "3094795",
         "3095175",
         "."
        ],
        [
         "46",
         "chr1:3094799-3095182",
         "chr1",
         "3094799",
         "3095182",
         "."
        ],
        [
         "47",
         "chr1:3094823-3095143",
         "chr1",
         "3094823",
         "3095143",
         "."
        ],
        [
         "48",
         "chr1:3094824-3095063",
         "chr1",
         "3094824",
         "3095063",
         "."
        ],
        [
         "49",
         "chr1:3094827-3095149",
         "chr1",
         "3094827",
         "3095149",
         "."
        ],
        [
         "50",
         "chr1:3094854-3095103",
         "chr1",
         "3094854",
         "3095103",
         "."
        ]
       ],
       "shape": {
        "columns": 5,
        "rows": 7624391
       }
      },
      "text/html": [
       "<div>\n",
       "<style scoped>\n",
       "    .dataframe tbody tr th:only-of-type {\n",
       "        vertical-align: middle;\n",
       "    }\n",
       "\n",
       "    .dataframe tbody tr th {\n",
       "        vertical-align: top;\n",
       "    }\n",
       "\n",
       "    .dataframe thead th {\n",
       "        text-align: right;\n",
       "    }\n",
       "</style>\n",
       "<table border=\"1\" class=\"dataframe\">\n",
       "  <thead>\n",
       "    <tr style=\"text-align: right;\">\n",
       "      <th></th>\n",
       "      <th>PeakID</th>\n",
       "      <th>chr</th>\n",
       "      <th>start</th>\n",
       "      <th>end</th>\n",
       "      <th>strand</th>\n",
       "    </tr>\n",
       "  </thead>\n",
       "  <tbody>\n",
       "    <tr>\n",
       "      <th>1</th>\n",
       "      <td>chr1:3003564-3003922</td>\n",
       "      <td>chr1</td>\n",
       "      <td>3003564</td>\n",
       "      <td>3003922</td>\n",
       "      <td>.</td>\n",
       "    </tr>\n",
       "    <tr>\n",
       "      <th>2</th>\n",
       "      <td>chr1:3012605-3012815</td>\n",
       "      <td>chr1</td>\n",
       "      <td>3012605</td>\n",
       "      <td>3012815</td>\n",
       "      <td>.</td>\n",
       "    </tr>\n",
       "    <tr>\n",
       "      <th>3</th>\n",
       "      <td>chr1:3012635-3012824</td>\n",
       "      <td>chr1</td>\n",
       "      <td>3012635</td>\n",
       "      <td>3012824</td>\n",
       "      <td>.</td>\n",
       "    </tr>\n",
       "    <tr>\n",
       "      <th>4</th>\n",
       "      <td>chr1:3031387-3031654</td>\n",
       "      <td>chr1</td>\n",
       "      <td>3031387</td>\n",
       "      <td>3031654</td>\n",
       "      <td>.</td>\n",
       "    </tr>\n",
       "    <tr>\n",
       "      <th>5</th>\n",
       "      <td>chr1:3031454-3031677</td>\n",
       "      <td>chr1</td>\n",
       "      <td>3031454</td>\n",
       "      <td>3031677</td>\n",
       "      <td>.</td>\n",
       "    </tr>\n",
       "    <tr>\n",
       "      <th>...</th>\n",
       "      <td>...</td>\n",
       "      <td>...</td>\n",
       "      <td>...</td>\n",
       "      <td>...</td>\n",
       "      <td>...</td>\n",
       "    </tr>\n",
       "    <tr>\n",
       "      <th>7624387</th>\n",
       "      <td>chrY_JH584303_random:135985-136047</td>\n",
       "      <td>chrY_JH584303_random</td>\n",
       "      <td>135985</td>\n",
       "      <td>136047</td>\n",
       "      <td>.</td>\n",
       "    </tr>\n",
       "    <tr>\n",
       "      <th>7624388</th>\n",
       "      <td>chrY_JH584303_random:135985-136048</td>\n",
       "      <td>chrY_JH584303_random</td>\n",
       "      <td>135985</td>\n",
       "      <td>136048</td>\n",
       "      <td>.</td>\n",
       "    </tr>\n",
       "    <tr>\n",
       "      <th>7624389</th>\n",
       "      <td>chrY_JH584303_random:135986-136045</td>\n",
       "      <td>chrY_JH584303_random</td>\n",
       "      <td>135986</td>\n",
       "      <td>136045</td>\n",
       "      <td>.</td>\n",
       "    </tr>\n",
       "    <tr>\n",
       "      <th>7624390</th>\n",
       "      <td>chrY_JH584303_random:135989-136043</td>\n",
       "      <td>chrY_JH584303_random</td>\n",
       "      <td>135989</td>\n",
       "      <td>136043</td>\n",
       "      <td>.</td>\n",
       "    </tr>\n",
       "    <tr>\n",
       "      <th>7624391</th>\n",
       "      <td>chrY_JH584303_random:135989-136046</td>\n",
       "      <td>chrY_JH584303_random</td>\n",
       "      <td>135989</td>\n",
       "      <td>136046</td>\n",
       "      <td>.</td>\n",
       "    </tr>\n",
       "  </tbody>\n",
       "</table>\n",
       "<p>7624391 rows × 5 columns</p>\n",
       "</div>"
      ],
      "text/plain": [
       "                                     PeakID                   chr    start  \\\n",
       "1                      chr1:3003564-3003922                  chr1  3003564   \n",
       "2                      chr1:3012605-3012815                  chr1  3012605   \n",
       "3                      chr1:3012635-3012824                  chr1  3012635   \n",
       "4                      chr1:3031387-3031654                  chr1  3031387   \n",
       "5                      chr1:3031454-3031677                  chr1  3031454   \n",
       "...                                     ...                   ...      ...   \n",
       "7624387  chrY_JH584303_random:135985-136047  chrY_JH584303_random   135985   \n",
       "7624388  chrY_JH584303_random:135985-136048  chrY_JH584303_random   135985   \n",
       "7624389  chrY_JH584303_random:135986-136045  chrY_JH584303_random   135986   \n",
       "7624390  chrY_JH584303_random:135989-136043  chrY_JH584303_random   135989   \n",
       "7624391  chrY_JH584303_random:135989-136046  chrY_JH584303_random   135989   \n",
       "\n",
       "             end strand  \n",
       "1        3003922      .  \n",
       "2        3012815      .  \n",
       "3        3012824      .  \n",
       "4        3031654      .  \n",
       "5        3031677      .  \n",
       "...          ...    ...  \n",
       "7624387   136047      .  \n",
       "7624388   136048      .  \n",
       "7624389   136045      .  \n",
       "7624390   136043      .  \n",
       "7624391   136046      .  \n",
       "\n",
       "[7624391 rows x 5 columns]"
      ]
     },
     "execution_count": 6,
     "metadata": {},
     "output_type": "execute_result"
    }
   ],
   "source": [
    "# Format the DataFrame to follow the requirements for the Homer peaks file (used for both Homer and Homer Binding)\n",
    "homer_peaks = chip_bed_cleaned[[\"peak_id\", \"chrom\", \"start\", \"end\"]]\n",
    "homer_peaks = homer_peaks.rename(columns={\"peak_id\":\"PeakID\", \"chrom\":\"chr\"})\n",
    "homer_peaks[\"strand\"] = [\".\"] * len(homer_peaks)\n",
    "homer_peaks[\"start\"] = round(homer_peaks[\"start\"].astype(int),0)\n",
    "homer_peaks[\"end\"] = round(homer_peaks[\"end\"].astype(int),0)\n",
    "homer_peaks"
   ]
  },
  {
   "cell_type": "markdown",
   "id": "1d907624",
   "metadata": {},
   "source": [
    "This is a huge file - we dont need to test the method using all of them. We will take a sample to run the scoring on."
   ]
  },
  {
   "cell_type": "code",
   "execution_count": 88,
   "id": "f0243ae8",
   "metadata": {},
   "outputs": [
    {
     "data": {
      "text/plain": [
       "258219"
      ]
     },
     "execution_count": 88,
     "metadata": {},
     "output_type": "execute_result"
    }
   ],
   "source": [
    "homer_peaks_sample = homer_peaks.sample(frac=0.15)\n",
    "homer_peaks_sample.shape[0]"
   ]
  },
  {
   "cell_type": "markdown",
   "id": "769e6955",
   "metadata": {},
   "source": [
    "If we save the ChIP-seq peaks as `homer_peaks.txt` to the `tmp` directory of the output folder, then they will be used to calculate the Homer Binding and Homer scores"
   ]
  },
  {
   "cell_type": "code",
   "execution_count": 8,
   "id": "65ac491d",
   "metadata": {},
   "outputs": [],
   "source": [
    "homer_peak_path = os.path.join(tmp_dir, \"homer_peaks.txt\")\n",
    "homer_peaks.to_csv(homer_peak_path, sep=\"\\t\", header=False, index=False)"
   ]
  },
  {
   "cell_type": "markdown",
   "id": "a5442251",
   "metadata": {},
   "source": [
    "### Running Homer\n",
    "\n",
    "Now that we have created the ground truth TF-peak and `homer_peaks.txt` files, we can run Homer on the ChIP-seq peaks"
   ]
  },
  {
   "cell_type": "code",
   "execution_count": 11,
   "id": "6c599214",
   "metadata": {
    "vscode": {
     "languageId": "shellscript"
    }
   },
   "outputs": [
    {
     "name": "stdout",
     "output_type": "stream",
     "text": [
      "Submitted batch job 3388167\n"
     ]
    }
   ],
   "source": [
    "!sbatch /gpfs/Labs/Uzun/SCRIPTS/PROJECTS/2024.SINGLE_CELL_GRN_INFERENCE.MOELLER/dev/testing_scripts/run_homer_on_chipseq.sh"
   ]
  },
  {
   "cell_type": "markdown",
   "id": "94bc5371",
   "metadata": {},
   "source": [
    "This bash script runs three processes:\n",
    "1. Homer `findMotifsGenome.pl`, which identifies enriched TF binding motifs in the genome.\n",
    "2. Homer `annotatePeaks.pl`, which matches TFs to a given set of peaks and provides mapping to the closet gene's TSS.\n",
    "3. `homer_tf_peak_motifs.py`, which uses the output of `annotatePeaks.pl` to calculate a binding score between each TF and peak. The TF binding score for a peak is calculated by taking the number of TF binding motifs for the peak / total TF motifs across all peaks.\n",
    "\n",
    "Once the bash script has finished, we can read in the output of `homer_tf_peak_motifs.py`, `homer_tf_to_peak.parquet`\n",
    "\n",
    "### Comparing Homer TF-peak predictions vs ChIP-seq"
   ]
  },
  {
   "cell_type": "code",
   "execution_count": 5,
   "id": "e0249309",
   "metadata": {},
   "outputs": [
    {
     "data": {
      "application/vnd.microsoft.datawrangler.viewer.v0+json": {
       "columns": [
        {
         "name": "index",
         "rawType": "int64",
         "type": "integer"
        },
        {
         "name": "peak_id",
         "rawType": "string",
         "type": "string"
        },
        {
         "name": "source_id",
         "rawType": "string",
         "type": "string"
        },
        {
         "name": "homer_binding_score",
         "rawType": "float64",
         "type": "float"
        }
       ],
       "ref": "3f92c520-bdfc-4d34-bbc9-ef8a14a5ff35",
       "rows": [
        [
         "0",
         "chrX:105069965-105070449",
         "AMYB",
         "4.867641525460443e-07"
        ],
        [
         "1",
         "chr5:59956009-59956370",
         "AMYB",
         "4.867641525460443e-07"
        ],
        [
         "2",
         "chr3:99913459-99914013",
         "AMYB",
         "4.867641525460443e-07"
        ],
        [
         "3",
         "chr11:87126722-87127805",
         "AMYB",
         "4.867641525460443e-07"
        ],
        [
         "4",
         "chr5:148073521-148073748",
         "AMYB",
         "4.867641525460443e-07"
        ],
        [
         "5",
         "chr8:115095627-115095842",
         "AMYB",
         "4.867641525460443e-07"
        ],
        [
         "6",
         "chr12:10183785-10184036",
         "AMYB",
         "4.867641525460443e-07"
        ],
        [
         "7",
         "chr11:101127189-101127356",
         "AMYB",
         "4.867641525460443e-07"
        ],
        [
         "8",
         "chr3:42074466-42074832",
         "AMYB",
         "4.867641525460443e-07"
        ],
        [
         "9",
         "chr11:5919642-5919872",
         "AMYB",
         "4.867641525460443e-07"
        ],
        [
         "10",
         "chr18:73674207-73674473",
         "AMYB",
         "4.867641525460443e-07"
        ],
        [
         "11",
         "chr11:35283860-35284169",
         "AMYB",
         "4.867641525460443e-07"
        ],
        [
         "12",
         "chr9:75541627-75541830",
         "AMYB",
         "4.867641525460443e-07"
        ],
        [
         "13",
         "chr10:84019510-84019717",
         "AMYB",
         "4.867641525460443e-07"
        ],
        [
         "14",
         "chr10:67247142-67247507",
         "AMYB",
         "4.867641525460443e-07"
        ],
        [
         "15",
         "chr15:103943498-103943706",
         "AMYB",
         "4.867641525460443e-07"
        ],
        [
         "16",
         "chr10:86278620-86278886",
         "AMYB",
         "4.867641525460443e-07"
        ],
        [
         "17",
         "chrX:21295512-21295821",
         "AMYB",
         "4.867641525460443e-07"
        ],
        [
         "18",
         "chr2:119872255-119873426",
         "AMYB",
         "4.867641525460443e-07"
        ],
        [
         "19",
         "chr7:100274586-100274791",
         "AMYB",
         "4.867641525460443e-07"
        ],
        [
         "20",
         "chr2:139925089-139925404",
         "AMYB",
         "4.867641525460443e-07"
        ],
        [
         "21",
         "chr1:159396437-159396825",
         "AMYB",
         "4.867641525460443e-07"
        ],
        [
         "22",
         "chr10:34282003-34282327",
         "AMYB",
         "4.867641525460443e-07"
        ],
        [
         "23",
         "chr6:121214838-121215295",
         "AMYB",
         "4.867641525460443e-07"
        ],
        [
         "24",
         "chr19:24153316-24153597",
         "AMYB",
         "4.867641525460443e-07"
        ],
        [
         "25",
         "chr8:105685782-105686068",
         "AMYB",
         "9.735283050920885e-07"
        ],
        [
         "26",
         "chr18:57259040-57259296",
         "AMYB",
         "4.867641525460443e-07"
        ],
        [
         "27",
         "chr5:21272026-21272317",
         "AMYB",
         "4.867641525460443e-07"
        ],
        [
         "28",
         "chr9:57708421-57708763",
         "AMYB",
         "4.867641525460443e-07"
        ],
        [
         "29",
         "chr3:95042856-95043197",
         "AMYB",
         "4.867641525460443e-07"
        ],
        [
         "30",
         "chr2:154916080-154916530",
         "AMYB",
         "4.867641525460443e-07"
        ],
        [
         "31",
         "chr15:80142200-80142495",
         "AMYB",
         "4.867641525460443e-07"
        ],
        [
         "32",
         "chr15:101182772-101182934",
         "AMYB",
         "4.867641525460443e-07"
        ],
        [
         "33",
         "chr8:114074103-114074476",
         "AMYB",
         "4.867641525460443e-07"
        ],
        [
         "34",
         "chr1:14184829-14185310",
         "AMYB",
         "4.867641525460443e-07"
        ],
        [
         "35",
         "chr17:87289544-87289664",
         "AMYB",
         "4.867641525460443e-07"
        ],
        [
         "36",
         "chrX:145487509-145487629",
         "AMYB",
         "4.867641525460443e-07"
        ],
        [
         "37",
         "chr14:20082816-20083336",
         "AMYB",
         "4.867641525460443e-07"
        ],
        [
         "38",
         "chr11:96396997-96397140",
         "AMYB",
         "4.867641525460443e-07"
        ],
        [
         "39",
         "chr8:123628283-123628544",
         "AMYB",
         "9.735283050920885e-07"
        ],
        [
         "40",
         "chr2:21275364-21275595",
         "AMYB",
         "4.867641525460443e-07"
        ],
        [
         "41",
         "chr3:84004712-84005064",
         "AMYB",
         "9.735283050920885e-07"
        ],
        [
         "42",
         "chr8:35389340-35389702",
         "AMYB",
         "4.867641525460443e-07"
        ],
        [
         "43",
         "chr11:100622549-100623042",
         "AMYB",
         "4.867641525460443e-07"
        ],
        [
         "44",
         "chr19:53084747-53084959",
         "AMYB",
         "4.867641525460443e-07"
        ],
        [
         "45",
         "chr10:120168246-120168533",
         "AMYB",
         "4.867641525460443e-07"
        ],
        [
         "46",
         "chr10:81483921-81484569",
         "AMYB",
         "2.433820762730221e-06"
        ],
        [
         "47",
         "chr2:128125602-128126167",
         "AMYB",
         "4.867641525460443e-07"
        ],
        [
         "48",
         "chr13:28959643-28959923",
         "AMYB",
         "9.735283050920885e-07"
        ],
        [
         "49",
         "chr11:118443288-118443491",
         "AMYB",
         "4.867641525460443e-07"
        ]
       ],
       "shape": {
        "columns": 3,
        "rows": 286963217
       }
      },
      "text/html": [
       "<div>\n",
       "<style scoped>\n",
       "    .dataframe tbody tr th:only-of-type {\n",
       "        vertical-align: middle;\n",
       "    }\n",
       "\n",
       "    .dataframe tbody tr th {\n",
       "        vertical-align: top;\n",
       "    }\n",
       "\n",
       "    .dataframe thead th {\n",
       "        text-align: right;\n",
       "    }\n",
       "</style>\n",
       "<table border=\"1\" class=\"dataframe\">\n",
       "  <thead>\n",
       "    <tr style=\"text-align: right;\">\n",
       "      <th></th>\n",
       "      <th>peak_id</th>\n",
       "      <th>source_id</th>\n",
       "      <th>homer_binding_score</th>\n",
       "    </tr>\n",
       "  </thead>\n",
       "  <tbody>\n",
       "    <tr>\n",
       "      <th>0</th>\n",
       "      <td>chrX:105069965-105070449</td>\n",
       "      <td>AMYB</td>\n",
       "      <td>4.867642e-07</td>\n",
       "    </tr>\n",
       "    <tr>\n",
       "      <th>1</th>\n",
       "      <td>chr5:59956009-59956370</td>\n",
       "      <td>AMYB</td>\n",
       "      <td>4.867642e-07</td>\n",
       "    </tr>\n",
       "    <tr>\n",
       "      <th>2</th>\n",
       "      <td>chr3:99913459-99914013</td>\n",
       "      <td>AMYB</td>\n",
       "      <td>4.867642e-07</td>\n",
       "    </tr>\n",
       "    <tr>\n",
       "      <th>3</th>\n",
       "      <td>chr11:87126722-87127805</td>\n",
       "      <td>AMYB</td>\n",
       "      <td>4.867642e-07</td>\n",
       "    </tr>\n",
       "    <tr>\n",
       "      <th>4</th>\n",
       "      <td>chr5:148073521-148073748</td>\n",
       "      <td>AMYB</td>\n",
       "      <td>4.867642e-07</td>\n",
       "    </tr>\n",
       "    <tr>\n",
       "      <th>...</th>\n",
       "      <td>...</td>\n",
       "      <td>...</td>\n",
       "      <td>...</td>\n",
       "    </tr>\n",
       "    <tr>\n",
       "      <th>286963212</th>\n",
       "      <td>chr5:97898104-97898163</td>\n",
       "      <td>GATA3</td>\n",
       "      <td>2.426051e-05</td>\n",
       "    </tr>\n",
       "    <tr>\n",
       "      <th>286963213</th>\n",
       "      <td>chr4:42945991-42946279</td>\n",
       "      <td>GATA3</td>\n",
       "      <td>3.032564e-06</td>\n",
       "    </tr>\n",
       "    <tr>\n",
       "      <th>286963214</th>\n",
       "      <td>chr18:61975675-61975856</td>\n",
       "      <td>GATA3</td>\n",
       "      <td>3.032564e-06</td>\n",
       "    </tr>\n",
       "    <tr>\n",
       "      <th>286963215</th>\n",
       "      <td>chr10:80433744-80434239</td>\n",
       "      <td>GATA3</td>\n",
       "      <td>3.032564e-06</td>\n",
       "    </tr>\n",
       "    <tr>\n",
       "      <th>286963216</th>\n",
       "      <td>chr12:25311284-25311417</td>\n",
       "      <td>GATA3</td>\n",
       "      <td>3.032564e-05</td>\n",
       "    </tr>\n",
       "  </tbody>\n",
       "</table>\n",
       "<p>286963217 rows × 3 columns</p>\n",
       "</div>"
      ],
      "text/plain": [
       "                            peak_id source_id  homer_binding_score\n",
       "0          chrX:105069965-105070449      AMYB         4.867642e-07\n",
       "1            chr5:59956009-59956370      AMYB         4.867642e-07\n",
       "2            chr3:99913459-99914013      AMYB         4.867642e-07\n",
       "3           chr11:87126722-87127805      AMYB         4.867642e-07\n",
       "4          chr5:148073521-148073748      AMYB         4.867642e-07\n",
       "...                             ...       ...                  ...\n",
       "286963212    chr5:97898104-97898163     GATA3         2.426051e-05\n",
       "286963213    chr4:42945991-42946279     GATA3         3.032564e-06\n",
       "286963214   chr18:61975675-61975856     GATA3         3.032564e-06\n",
       "286963215   chr10:80433744-80434239     GATA3         3.032564e-06\n",
       "286963216   chr12:25311284-25311417     GATA3         3.032564e-05\n",
       "\n",
       "[286963217 rows x 3 columns]"
      ]
     },
     "execution_count": 5,
     "metadata": {},
     "output_type": "execute_result"
    }
   ],
   "source": [
    "homer_results = pd.read_parquet(os.path.join(output_dir, \"homer_tf_to_peak.parquet\"), engine=\"pyarrow\")\n",
    "homer_results = homer_results.reset_index(drop=True)\n",
    "homer_results"
   ]
  },
  {
   "cell_type": "code",
   "execution_count": 6,
   "id": "8997fa77",
   "metadata": {},
   "outputs": [],
   "source": [
    "# Load in the TF-peak-nearest gene TSS distance ChIP-Atlas edge file\n",
    "chip_atlas_edges_full = pd.read_csv(os.path.join(ground_truth_dir, \"chip_atlas_tf_peak_tg_dist.csv\"), header=0, index_col=None)\n",
    "chip_atlas_edges_full = chip_atlas_edges_full[[\"source_id\", \"peak_id\", \"target_id\", \"distance\"]]"
   ]
  },
  {
   "cell_type": "markdown",
   "id": "f75ea95c",
   "metadata": {},
   "source": [
    "We will read in the TF-peak-nearest gene TSS distance file for ChIP-Atlas and merge the edges with Homer's TF-peak scores. We merge on the peaks so that  we get a dataframe with Homer's prediction for the TF-peak edge, the ChIP-Atlas TF-peak edge, the nearest gene TSS to the peak, and the distance from the peak to the TSS.\n",
    "\n",
    "Assuming the ChIP-Atlas edges are correct, we can classify the Homer results as True or False based on whether they match the ChIP-Atlas prediction. If Homer accurately predicts TF-peak binding interactions, then we would expect to see higher scores for True interactions compared to False interactions."
   ]
  },
  {
   "cell_type": "code",
   "execution_count": 6,
   "id": "22553e1c",
   "metadata": {},
   "outputs": [
    {
     "data": {
      "application/vnd.microsoft.datawrangler.viewer.v0+json": {
       "columns": [
        {
         "name": "index",
         "rawType": "int64",
         "type": "integer"
        },
        {
         "name": "peak_id",
         "rawType": "object",
         "type": "string"
        },
        {
         "name": "source_id_x",
         "rawType": "string",
         "type": "string"
        },
        {
         "name": "homer_binding_score",
         "rawType": "float64",
         "type": "float"
        },
        {
         "name": "source_id_y",
         "rawType": "object",
         "type": "string"
        },
        {
         "name": "target_id",
         "rawType": "object",
         "type": "string"
        },
        {
         "name": "distance",
         "rawType": "int64",
         "type": "integer"
        }
       ],
       "ref": "2213b312-3a05-462f-bffd-ece11d8ef7e5",
       "rows": [
        [
         "0",
         "chrX:105069965-105070449",
         "AMYB",
         "4.867641525460443e-07",
         "Pbx1",
         "5530601h04rik",
         "0"
        ],
        [
         "1",
         "chr5:59956009-59956370",
         "AMYB",
         "4.867641525460443e-07",
         "Epitope",
         "4933402j10rik",
         "29632"
        ],
        [
         "2",
         "chr3:99913459-99914013",
         "AMYB",
         "4.867641525460443e-07",
         "Hoxa11",
         "Spag17",
         "28043"
        ],
        [
         "3",
         "chr11:87126722-87127805",
         "AMYB",
         "4.867641525460443e-07",
         "Smarca4",
         "Trim37",
         "0"
        ],
        [
         "4",
         "chr5:148073521-148073748",
         "AMYB",
         "4.867641525460443e-07",
         "Ctcf",
         "Mtus2",
         "116202"
        ]
       ],
       "shape": {
        "columns": 6,
        "rows": 5
       }
      },
      "text/html": [
       "<div>\n",
       "<style scoped>\n",
       "    .dataframe tbody tr th:only-of-type {\n",
       "        vertical-align: middle;\n",
       "    }\n",
       "\n",
       "    .dataframe tbody tr th {\n",
       "        vertical-align: top;\n",
       "    }\n",
       "\n",
       "    .dataframe thead th {\n",
       "        text-align: right;\n",
       "    }\n",
       "</style>\n",
       "<table border=\"1\" class=\"dataframe\">\n",
       "  <thead>\n",
       "    <tr style=\"text-align: right;\">\n",
       "      <th></th>\n",
       "      <th>peak_id</th>\n",
       "      <th>source_id_x</th>\n",
       "      <th>homer_binding_score</th>\n",
       "      <th>source_id_y</th>\n",
       "      <th>target_id</th>\n",
       "      <th>distance</th>\n",
       "    </tr>\n",
       "  </thead>\n",
       "  <tbody>\n",
       "    <tr>\n",
       "      <th>0</th>\n",
       "      <td>chrX:105069965-105070449</td>\n",
       "      <td>AMYB</td>\n",
       "      <td>4.867642e-07</td>\n",
       "      <td>Pbx1</td>\n",
       "      <td>5530601h04rik</td>\n",
       "      <td>0</td>\n",
       "    </tr>\n",
       "    <tr>\n",
       "      <th>1</th>\n",
       "      <td>chr5:59956009-59956370</td>\n",
       "      <td>AMYB</td>\n",
       "      <td>4.867642e-07</td>\n",
       "      <td>Epitope</td>\n",
       "      <td>4933402j10rik</td>\n",
       "      <td>29632</td>\n",
       "    </tr>\n",
       "    <tr>\n",
       "      <th>2</th>\n",
       "      <td>chr3:99913459-99914013</td>\n",
       "      <td>AMYB</td>\n",
       "      <td>4.867642e-07</td>\n",
       "      <td>Hoxa11</td>\n",
       "      <td>Spag17</td>\n",
       "      <td>28043</td>\n",
       "    </tr>\n",
       "    <tr>\n",
       "      <th>3</th>\n",
       "      <td>chr11:87126722-87127805</td>\n",
       "      <td>AMYB</td>\n",
       "      <td>4.867642e-07</td>\n",
       "      <td>Smarca4</td>\n",
       "      <td>Trim37</td>\n",
       "      <td>0</td>\n",
       "    </tr>\n",
       "    <tr>\n",
       "      <th>4</th>\n",
       "      <td>chr5:148073521-148073748</td>\n",
       "      <td>AMYB</td>\n",
       "      <td>4.867642e-07</td>\n",
       "      <td>Ctcf</td>\n",
       "      <td>Mtus2</td>\n",
       "      <td>116202</td>\n",
       "    </tr>\n",
       "  </tbody>\n",
       "</table>\n",
       "</div>"
      ],
      "text/plain": [
       "                    peak_id source_id_x  homer_binding_score source_id_y  \\\n",
       "0  chrX:105069965-105070449        AMYB         4.867642e-07        Pbx1   \n",
       "1    chr5:59956009-59956370        AMYB         4.867642e-07     Epitope   \n",
       "2    chr3:99913459-99914013        AMYB         4.867642e-07      Hoxa11   \n",
       "3   chr11:87126722-87127805        AMYB         4.867642e-07     Smarca4   \n",
       "4  chr5:148073521-148073748        AMYB         4.867642e-07        Ctcf   \n",
       "\n",
       "       target_id  distance  \n",
       "0  5530601h04rik         0  \n",
       "1  4933402j10rik     29632  \n",
       "2         Spag17     28043  \n",
       "3         Trim37         0  \n",
       "4          Mtus2    116202  "
      ]
     },
     "execution_count": 6,
     "metadata": {},
     "output_type": "execute_result"
    }
   ],
   "source": [
    "chipseq_gene_tss_homer_df = pd.merge(homer_results, chip_atlas_edges_full, on=\"peak_id\", how=\"inner\")\n",
    "chipseq_gene_tss_homer_df.head()"
   ]
  },
  {
   "cell_type": "code",
   "execution_count": 7,
   "id": "0d0eb865",
   "metadata": {},
   "outputs": [],
   "source": [
    "chipseq_gene_tss_homer_df[\"source_id_y\"] = chipseq_gene_tss_homer_df[\"source_id_y\"].str.upper()"
   ]
  },
  {
   "cell_type": "code",
   "execution_count": 8,
   "id": "35b42a68",
   "metadata": {},
   "outputs": [],
   "source": [
    "tf_peak_edges_in_chipatlas = chipseq_gene_tss_homer_df[chipseq_gene_tss_homer_df[\"source_id_x\"] == chipseq_gene_tss_homer_df[\"source_id_y\"]]\n",
    "tf_peak_edges_not_in_chipatlas = chipseq_gene_tss_homer_df[chipseq_gene_tss_homer_df[\"source_id_x\"] != chipseq_gene_tss_homer_df[\"source_id_y\"]]"
   ]
  },
  {
   "cell_type": "code",
   "execution_count": 12,
   "id": "9cf8fa3d",
   "metadata": {},
   "outputs": [],
   "source": [
    "true_scores = tf_peak_edges_in_chipatlas[\"homer_binding_score\"].rename(\"Homer Binding Scores for\\n Edges in ChIP-Atlas\")\n",
    "false_scores = tf_peak_edges_not_in_chipatlas[\"homer_binding_score\"].rename(\"Homer Binding Scores for\\n Edges Not in ChIP-Atlas\")\n",
    "false_scores_balanced = false_scores.sample(len(true_scores))\n",
    "true_false_chip_atlas_scores_merged = pd.merge(\n",
    "    true_scores,\n",
    "    false_scores_balanced,\n",
    "    left_index=True,\n",
    "    right_index=True,\n",
    "    how=\"outer\"\n",
    ")"
   ]
  },
  {
   "cell_type": "code",
   "execution_count": 21,
   "id": "35506c56",
   "metadata": {},
   "outputs": [
    {
     "name": "stdout",
     "output_type": "stream",
     "text": [
      "2400952\n",
      "2400952\n"
     ]
    }
   ],
   "source": [
    "print(len(true_false_chip_atlas_scores_merged[\"Homer Binding Scores for\\n Edges Not in ChIP-Atlas\"].dropna()))\n",
    "print(len(true_false_chip_atlas_scores_merged[\"Homer Binding Scores for\\n Edges in ChIP-Atlas\"].dropna()))"
   ]
  },
  {
   "cell_type": "code",
   "execution_count": 18,
   "id": "393d68bb",
   "metadata": {},
   "outputs": [],
   "source": [
    "true_false_sample = true_false_chip_atlas_scores_merged.sample(10000)"
   ]
  },
  {
   "cell_type": "code",
   "execution_count": 22,
   "id": "738a41e6",
   "metadata": {},
   "outputs": [
    {
     "name": "stdout",
     "output_type": "stream",
     "text": [
      "5002\n",
      "4998\n"
     ]
    }
   ],
   "source": [
    "print(len(true_false_sample[\"Homer Binding Scores for\\n Edges Not in ChIP-Atlas\"].dropna()))\n",
    "print(len(true_false_sample[\"Homer Binding Scores for\\n Edges in ChIP-Atlas\"].dropna()))"
   ]
  },
  {
   "cell_type": "code",
   "execution_count": 23,
   "id": "e294e314",
   "metadata": {},
   "outputs": [
    {
     "data": {
      "text/plain": [
       "Text(0.5, 1.0, 'Homer Binding Scores for ChIP-Atlas TFs and peaks')"
      ]
     },
     "execution_count": 23,
     "metadata": {},
     "output_type": "execute_result"
    },
    {
     "data": {
      "image/png": "[encoded data removed]",
      "text/plain": [
       "<Figure size 640x480 with 1 Axes>"
      ]
     },
     "metadata": {},
     "output_type": "display_data"
    }
   ],
   "source": [
    "import seaborn as sns\n",
    "import matplotlib.pyplot as plt\n",
    "\n",
    "fig = plt.Figure()\n",
    "a = sns.boxplot(data=true_false_sample, showfliers=False)\n",
    "a.set_ylabel(\"Homer Binding Score\")\n",
    "a.set_title(\"Homer Binding Scores for ChIP-Atlas TFs and peaks\")"
   ]
  },
  {
   "cell_type": "code",
   "execution_count": 36,
   "id": "b95b7485",
   "metadata": {},
   "outputs": [
    {
     "data": {
      "text/plain": [
       "<module 'dev.notebooks.plotting' from '/gpfs/Labs/Uzun/SCRIPTS/PROJECTS/2024.SINGLE_CELL_GRN_INFERENCE.MOELLER/dev/notebooks/plotting.py'>"
      ]
     },
     "execution_count": 36,
     "metadata": {},
     "output_type": "execute_result"
    }
   ],
   "source": [
    "import importlib\n",
    "\n",
    "importlib.reload(dev_plots)"
   ]
  },
  {
   "cell_type": "code",
   "execution_count": 26,
   "id": "1fd86a81",
   "metadata": {},
   "outputs": [],
   "source": [
    "import dev.notebooks.plotting as dev_plots"
   ]
  },
  {
   "cell_type": "code",
   "execution_count": 39,
   "id": "5edbd629",
   "metadata": {},
   "outputs": [
    {
     "data": {
      "image/png": "[encoded data removed]",
      "text/plain": [
       "<Figure size 600x400 with 1 Axes>"
      ]
     },
     "metadata": {},
     "output_type": "display_data"
    }
   ],
   "source": [
    "fig = dev_plots.plot_true_false_distribution(\n",
    "    true_series=true_false_sample[\"Homer Binding Scores for\\n Edges in ChIP-Atlas\"],\n",
    "    false_series=true_false_sample[\"Homer Binding Scores for\\n Edges Not in ChIP-Atlas\"],\n",
    "    log=True\n",
    ")\n",
    "fig.show()"
   ]
  },
  {
   "cell_type": "code",
   "execution_count": 31,
   "id": "3a4888f1",
   "metadata": {},
   "outputs": [
    {
     "ename": "AttributeError",
     "evalue": "'str' object has no attribute 'str'",
     "output_type": "error",
     "traceback": [
      "\u001b[0;31m---------------------------------------------------------------------------\u001b[0m",
      "\u001b[0;31mAttributeError\u001b[0m                            Traceback (most recent call last)",
      "Cell \u001b[0;32mIn[31], line 1\u001b[0m\n\u001b[0;32m----> 1\u001b[0m \u001b[43mtrue_false_sample\u001b[49m\u001b[43m[\u001b[49m\u001b[38;5;124;43m\"\u001b[39;49m\u001b[38;5;124;43mHomer Binding Scores for\u001b[39;49m\u001b[38;5;130;43;01m\\n\u001b[39;49;00m\u001b[38;5;124;43m Edges in ChIP-Atlas\u001b[39;49m\u001b[38;5;124;43m\"\u001b[39;49m\u001b[43m]\u001b[49m\u001b[38;5;241;43m.\u001b[39;49m\u001b[43mname\u001b[49m\u001b[38;5;241;43m.\u001b[39;49m\u001b[43mstr\u001b[49m\n",
      "\u001b[0;31mAttributeError\u001b[0m: 'str' object has no attribute 'str'"
     ]
    }
   ],
   "source": [
    "true_false_sample[\"Homer Binding Scores for\\n Edges in ChIP-Atlas\"].name"
   ]
  },
  {
   "cell_type": "code",
   "execution_count": null,
   "id": "70cabed5",
   "metadata": {},
   "outputs": [
    {
     "data": {
      "image/png": "[encoded data removed]",
      "text/plain": [
       "<Figure size 800x600 with 1 Axes>"
      ]
     },
     "metadata": {},
     "output_type": "display_data"
    }
   ],
   "source": [
    "import numpy as np\n",
    "plt.figure(figsize=(8,6))\n",
    "plt.hist(\n",
    "    np.log1p(true_false_sample[\"Homer Binding Scores for\\n Edges in ChIP-Atlas\"]),\n",
    "    bins=25,\n",
    "    alpha=0.7,\n",
    "    color='#4195df',\n",
    "    label=\"Correct TF Binding Predictions\"\n",
    ")\n",
    "plt.hist(\n",
    "    np.log1p(true_false_sample[\"Homer Binding Scores for\\n Edges Not in ChIP-Atlas\"]),\n",
    "    bins=150,\n",
    "    alpha=0.7,\n",
    "    color='#747474',\n",
    "    label=\"Incorrect TF Binding Predictions\"\n",
    ")\n",
    "plt.title(\"Homer Binding Scores for ChIP-seq TF Binding Predictions\", fontsize=16)\n",
    "plt.xlabel(\"Homer Binding Score\", fontsize=14)\n",
    "plt.ylabel(\"Frequency\", fontsize=14)\n",
    "plt.xticks(fontsize=12)\n",
    "plt.yticks(fontsize=12)\n",
    "plt.legend(bbox_to_anchor=(1.05, 1), loc='upper left', borderaxespad=0., fontsize=12)\n",
    "plt.xlim(0,1.5e-5)\n",
    "# plt.savefig(\"/gpfs/Labs/Uzun/SCRIPTS/PROJECTS/2024.SINGLE_CELL_GRN_INFERENCE.MOELLER/output/chipseq_sliding_window/chipseq_sliding_window_histogram.png\", dpi=200)\n",
    "\n",
    "plt.show()"
   ]
  },
  {
   "cell_type": "code",
   "execution_count": 54,
   "id": "59e2beb0",
   "metadata": {},
   "outputs": [
    {
     "data": {
      "application/vnd.microsoft.datawrangler.viewer.v0+json": {
       "columns": [
        {
         "name": "index",
         "rawType": "int64",
         "type": "integer"
        },
        {
         "name": "peak_id",
         "rawType": "object",
         "type": "string"
        },
        {
         "name": "source_id_x",
         "rawType": "string",
         "type": "string"
        },
        {
         "name": "homer_binding_score",
         "rawType": "float64",
         "type": "float"
        },
        {
         "name": "source_id_y",
         "rawType": "object",
         "type": "string"
        },
        {
         "name": "target_id",
         "rawType": "object",
         "type": "string"
        },
        {
         "name": "distance",
         "rawType": "int64",
         "type": "integer"
        },
        {
         "name": "peak_length",
         "rawType": "int64",
         "type": "integer"
        }
       ],
       "ref": "9a95a707-8162-4c80-a8c1-6d1f6f520331",
       "rows": [
        [
         "281325329",
         "chr8:68839422-68839663",
         "FOXA1",
         "5.131523513410467e-07",
         "NEUROD2",
         "Lpl",
         "40891",
         "241"
        ],
        [
         "107584166",
         "chr4:33846200-33846398",
         "Nanog",
         "4.6370474744011797e-07",
         "SIX2",
         "Cnr1",
         "77865",
         "198"
        ],
        [
         "213162968",
         "chr12:93088096-93088533",
         "ZBTB18",
         "2.959678815654925e-06",
         "TWIST1",
         "4930559c10rik",
         "356290",
         "437"
        ],
        [
         "206179363",
         "chrX:162915790-162915934",
         "USF1",
         "1.3233289663477444e-06",
         "CTCF",
         "Ctps2",
         "13620",
         "144"
        ],
        [
         "77990338",
         "chr13:107675087-107675371",
         "BMAL1",
         "4.0845068121404614e-07",
         "CTCF",
         "1700006h21rik",
         "12025",
         "284"
        ],
        [
         "164309671",
         "chr10:108446054-108446515",
         "Sox15",
         "8.658271029858048e-07",
         "CTCF",
         "Gm36283",
         "28804",
         "461"
        ],
        [
         "181112709",
         "chr12:86241903-86242133",
         "THRb",
         "9.542449107733296e-07",
         "SP1",
         "Gpatch2l",
         "46",
         "230"
        ],
        [
         "253750165",
         "chr1:178964336-178964479",
         "EHF",
         "1.1883244743743769e-06",
         "EPITOPE",
         "Kif26b",
         "435212",
         "143"
        ],
        [
         "289177070",
         "chr2:120866680-120866822",
         "Fos",
         "1.7996308957032913e-06",
         "CTCF",
         "Av039307",
         "16025",
         "142"
        ],
        [
         "118580805",
         "chr4:43957639-43958053",
         "Olig2",
         "7.325960811970425e-07",
         "PBX1",
         "Glipr2",
         "0",
         "414"
        ],
        [
         "26495710",
         "chr2:48601837-48602268",
         "Hoxa11",
         "1.1452412078400923e-06",
         "HOXA11",
         "Acvr2a",
         "211840",
         "431"
        ],
        [
         "267622773",
         "chr12:85532688-85532875",
         "Elf4",
         "7.011378766600316e-07",
         "SMAD3",
         "Fos",
         "58799",
         "187"
        ],
        [
         "223298809",
         "chr11:60454405-60454655",
         "Zfp541",
         "7.475456208403758e-07",
         "RNF2",
         "Drg2",
         "0",
         "250"
        ],
        [
         "35030597",
         "chr6:143320416-143320752",
         "Hoxc10",
         "1.0539728981408973e-06",
         "CTCF",
         "D6ertd474e",
         "74529",
         "336"
        ],
        [
         "206029486",
         "chr19:6141104-6141385",
         "USF1",
         "2.646657932695489e-06",
         "CTCF",
         "Arl2",
         "0",
         "281"
        ],
        [
         "187688142",
         "chr14:29134715-29135296",
         "Tbx6",
         "8.36997288965781e-07",
         "TWIST1",
         "Lrtm1",
         "116508",
         "581"
        ],
        [
         "229425966",
         "chr11:20143774-20144034",
         "COUP-TFII",
         "4.0122856185640433e-07",
         "CTCF",
         "Actr2",
         "30823",
         "260"
        ],
        [
         "40815958",
         "chr6:121167703-121167930",
         "Hoxd11",
         "2.8287382837196214e-07",
         "SOX10",
         "Pex26",
         "15736",
         "227"
        ],
        [
         "174768801",
         "chr16:40555752-40556132",
         "TEAD1",
         "9.010129187232287e-07",
         "SIX2",
         "Lsamp",
         "571389",
         "380"
        ],
        [
         "108506917",
         "chr8:113984813-113985212",
         "NeuroD1",
         "6.313669409956026e-07",
         "CTCF",
         "Adamts18",
         "135974",
         "399"
        ],
        [
         "250723033",
         "chrX:12087429-12087696",
         "EBF1",
         "9.254589119379573e-07",
         "CTCF",
         "Bcor",
         "6876",
         "267"
        ],
        [
         "85667705",
         "chr15:97665351-97665644",
         "Mixl1",
         "3.3299959374049566e-06",
         "CTCF",
         "Rpap3",
         "40178",
         "293"
        ],
        [
         "172180787",
         "chr3:151716306-151716572",
         "TCF4",
         "3.4279164027171036e-07",
         "CTCF",
         "Ifi44",
         "33338",
         "266"
        ],
        [
         "32984270",
         "chr11:48775462-48775809",
         "Hoxc6",
         "1.9297404653453348e-07",
         "CTCF",
         "Rack1",
         "24550",
         "347"
        ],
        [
         "297984727",
         "chr1:172562687-172563636",
         "Foxo1",
         "3.884899744334748e-07",
         "CTCF",
         "Vsig8",
         "2782",
         "949"
        ],
        [
         "179656086",
         "chr4:108619654-108619978",
         "TFE3",
         "6.101728009372254e-06",
         "SIX2",
         "Cc2d1b",
         "0",
         "324"
        ],
        [
         "292388716",
         "chr17:43158727-43159207",
         "FoxL2",
         "7.155747711234095e-07",
         "EPITOPE",
         "E130008d07rik",
         "436",
         "480"
        ],
        [
         "165265760",
         "chr5:37289330-37289637",
         "Sox17",
         "1.3835794029301445e-06",
         "CTCF",
         "Crmp1",
         "43567",
         "307"
        ],
        [
         "75581663",
         "chr13:90310325-90310586",
         "MYB",
         "4.195322467168455e-07",
         "SOX2",
         "Tmem167",
         "220659",
         "261"
        ],
        [
         "124199075",
         "chr1:84128590-84128839",
         "PU.1-IRF",
         "5.587703476222087e-07",
         "RAD21",
         "Mir6353",
         "90122",
         "249"
        ],
        [
         "160962040",
         "chr5:117693639-117693914",
         "Sox7",
         "3.5202343067954604e-06",
         "CTCF",
         "Nos1",
         "172924",
         "275"
        ],
        [
         "59854177",
         "chr3:121093408-121094001",
         "LEF1",
         "1.3184089440862767e-06",
         "CTCF",
         "Rwdd3",
         "77694",
         "593"
        ],
        [
         "82621008",
         "chr14:21894958-21895156",
         "Meis1",
         "3.2084590380847297e-07",
         "SIX2",
         "Comtd1",
         "46048",
         "198"
        ],
        [
         "148325572",
         "chr2:101905826-101906073",
         "SCL",
         "7.133592274086104e-07",
         "CTCF",
         "Commd9",
         "19565",
         "247"
        ],
        [
         "272603300",
         "chr3:105704427-105704884",
         "En1",
         "4.502743972176644e-07",
         "FOXA2",
         "Inka2",
         "0",
         "457"
        ],
        [
         "288499703",
         "chr14:5149885-5150181",
         "Fli1",
         "1.1081535723546713e-06",
         "CTCF",
         "Gm3317",
         "13460",
         "296"
        ],
        [
         "92791599",
         "chr4:95185465-95185981",
         "NF1-halfsite",
         "1.1350989040052533e-06",
         "NCOR2",
         "Jun",
         "133243",
         "516"
        ],
        [
         "21271128",
         "chr19:25450901-25451188",
         "Hoxa9",
         "5.230088595085757e-07",
         "CTCF",
         "Dmrt1",
         "54517",
         "287"
        ],
        [
         "144485741",
         "chr11:87214227-87214606",
         "SCL",
         "1.2970167771065643e-07",
         "RAD21",
         "Trim37",
         "87153",
         "379"
        ],
        [
         "23895913",
         "chr4:83570562-83570854",
         "Hoxa10",
         "1.7130503602544907e-06",
         "CTCF",
         "Ccdc171",
         "44987",
         "292"
        ],
        [
         "279819000",
         "chr15:77762074-77762300",
         "Etv2",
         "7.851222474595407e-07",
         "CTCF",
         "Apol8",
         "5064",
         "226"
        ],
        [
         "140189695",
         "chr7:67630897-67631246",
         "Rbpj1",
         "5.371584746418227e-07",
         "CTCF",
         "Lrrc28",
         "13990",
         "349"
        ],
        [
         "32898424",
         "chr10:121868308-121868607",
         "Hoxc6",
         "1.9297404653453348e-07",
         "CTCF",
         "Bc048403",
         "128379",
         "299"
        ],
        [
         "124997094",
         "chr16:25376745-25376964",
         "Barx1",
         "1.910730663405686e-06",
         "CTCF",
         "Tprg",
         "89929",
         "219"
        ],
        [
         "137532243",
         "chr16:10454691-10455126",
         "Brachyury",
         "4.268724761164849e-06",
         "PITX1",
         "Tvp23a",
         "7329",
         "435"
        ],
        [
         "146933366",
         "chr3:9594472-9595024",
         "SCL",
         "1.9455251656598466e-07",
         "NCOR2",
         "Zfp704",
         "15061",
         "552"
        ],
        [
         "33197076",
         "chr5:28094035-28094277",
         "Hoxc6",
         "1.9297404653453348e-07",
         "RAD21",
         "Insig1",
         "22624",
         "242"
        ],
        [
         "269508775",
         "chr12:54729409-54729805",
         "Elk4",
         "9.6360372375023e-07",
         "EPITOPE",
         "Eapp",
         "33515",
         "396"
        ],
        [
         "211781938",
         "chrX:114816479-114816692",
         "ZBTB9",
         "3.8252986123729284e-07",
         "TCF7L2",
         "Ube2dnl1",
         "88319",
         "213"
        ],
        [
         "213805520",
         "chr19:8818990-8820338",
         "ZNF7",
         "1.6870291080002294e-06",
         "SMARCA4",
         "Hnrnpul2",
         "0",
         "1348"
        ]
       ],
       "shape": {
        "columns": 7,
        "rows": 1000
       }
      },
      "text/html": [
       "<div>\n",
       "<style scoped>\n",
       "    .dataframe tbody tr th:only-of-type {\n",
       "        vertical-align: middle;\n",
       "    }\n",
       "\n",
       "    .dataframe tbody tr th {\n",
       "        vertical-align: top;\n",
       "    }\n",
       "\n",
       "    .dataframe thead th {\n",
       "        text-align: right;\n",
       "    }\n",
       "</style>\n",
       "<table border=\"1\" class=\"dataframe\">\n",
       "  <thead>\n",
       "    <tr style=\"text-align: right;\">\n",
       "      <th></th>\n",
       "      <th>peak_id</th>\n",
       "      <th>source_id_x</th>\n",
       "      <th>homer_binding_score</th>\n",
       "      <th>source_id_y</th>\n",
       "      <th>target_id</th>\n",
       "      <th>distance</th>\n",
       "      <th>peak_length</th>\n",
       "    </tr>\n",
       "  </thead>\n",
       "  <tbody>\n",
       "    <tr>\n",
       "      <th>281325329</th>\n",
       "      <td>chr8:68839422-68839663</td>\n",
       "      <td>FOXA1</td>\n",
       "      <td>5.131524e-07</td>\n",
       "      <td>NEUROD2</td>\n",
       "      <td>Lpl</td>\n",
       "      <td>40891</td>\n",
       "      <td>241</td>\n",
       "    </tr>\n",
       "    <tr>\n",
       "      <th>107584166</th>\n",
       "      <td>chr4:33846200-33846398</td>\n",
       "      <td>Nanog</td>\n",
       "      <td>4.637047e-07</td>\n",
       "      <td>SIX2</td>\n",
       "      <td>Cnr1</td>\n",
       "      <td>77865</td>\n",
       "      <td>198</td>\n",
       "    </tr>\n",
       "    <tr>\n",
       "      <th>213162968</th>\n",
       "      <td>chr12:93088096-93088533</td>\n",
       "      <td>ZBTB18</td>\n",
       "      <td>2.959679e-06</td>\n",
       "      <td>TWIST1</td>\n",
       "      <td>4930559c10rik</td>\n",
       "      <td>356290</td>\n",
       "      <td>437</td>\n",
       "    </tr>\n",
       "    <tr>\n",
       "      <th>206179363</th>\n",
       "      <td>chrX:162915790-162915934</td>\n",
       "      <td>USF1</td>\n",
       "      <td>1.323329e-06</td>\n",
       "      <td>CTCF</td>\n",
       "      <td>Ctps2</td>\n",
       "      <td>13620</td>\n",
       "      <td>144</td>\n",
       "    </tr>\n",
       "    <tr>\n",
       "      <th>77990338</th>\n",
       "      <td>chr13:107675087-107675371</td>\n",
       "      <td>BMAL1</td>\n",
       "      <td>4.084507e-07</td>\n",
       "      <td>CTCF</td>\n",
       "      <td>1700006h21rik</td>\n",
       "      <td>12025</td>\n",
       "      <td>284</td>\n",
       "    </tr>\n",
       "    <tr>\n",
       "      <th>...</th>\n",
       "      <td>...</td>\n",
       "      <td>...</td>\n",
       "      <td>...</td>\n",
       "      <td>...</td>\n",
       "      <td>...</td>\n",
       "      <td>...</td>\n",
       "      <td>...</td>\n",
       "    </tr>\n",
       "    <tr>\n",
       "      <th>81475807</th>\n",
       "      <td>chr11:106980508-106980765</td>\n",
       "      <td>Mef2b</td>\n",
       "      <td>1.123177e-06</td>\n",
       "      <td>CTCF</td>\n",
       "      <td>Kpna2</td>\n",
       "      <td>18760</td>\n",
       "      <td>257</td>\n",
       "    </tr>\n",
       "    <tr>\n",
       "      <th>89778197</th>\n",
       "      <td>chr7:44246115-44246377</td>\n",
       "      <td>MyoG</td>\n",
       "      <td>9.588252e-07</td>\n",
       "      <td>SMARCA4</td>\n",
       "      <td>2410002f23rik</td>\n",
       "      <td>344</td>\n",
       "      <td>262</td>\n",
       "    </tr>\n",
       "    <tr>\n",
       "      <th>250706780</th>\n",
       "      <td>chr6:124662544-124662827</td>\n",
       "      <td>EBF1</td>\n",
       "      <td>9.254589e-07</td>\n",
       "      <td>SIX2</td>\n",
       "      <td>Lpcat3</td>\n",
       "      <td>276</td>\n",
       "      <td>283</td>\n",
       "    </tr>\n",
       "    <tr>\n",
       "      <th>100319389</th>\n",
       "      <td>chr15:76671474-76671587</td>\n",
       "      <td>NFY</td>\n",
       "      <td>1.023094e-06</td>\n",
       "      <td>PKNOX1</td>\n",
       "      <td>Ppp1r16a</td>\n",
       "      <td>55</td>\n",
       "      <td>113</td>\n",
       "    </tr>\n",
       "    <tr>\n",
       "      <th>69155427</th>\n",
       "      <td>chr17:7079524-7079888</td>\n",
       "      <td>Lhx3</td>\n",
       "      <td>2.654938e-07</td>\n",
       "      <td>CTCF</td>\n",
       "      <td>Gm1604b</td>\n",
       "      <td>53982</td>\n",
       "      <td>364</td>\n",
       "    </tr>\n",
       "  </tbody>\n",
       "</table>\n",
       "<p>1000 rows × 7 columns</p>\n",
       "</div>"
      ],
      "text/plain": [
       "                             peak_id source_id_x  homer_binding_score  \\\n",
       "281325329     chr8:68839422-68839663       FOXA1         5.131524e-07   \n",
       "107584166     chr4:33846200-33846398       Nanog         4.637047e-07   \n",
       "213162968    chr12:93088096-93088533      ZBTB18         2.959679e-06   \n",
       "206179363   chrX:162915790-162915934        USF1         1.323329e-06   \n",
       "77990338   chr13:107675087-107675371       BMAL1         4.084507e-07   \n",
       "...                              ...         ...                  ...   \n",
       "81475807   chr11:106980508-106980765       Mef2b         1.123177e-06   \n",
       "89778197      chr7:44246115-44246377        MyoG         9.588252e-07   \n",
       "250706780   chr6:124662544-124662827        EBF1         9.254589e-07   \n",
       "100319389    chr15:76671474-76671587         NFY         1.023094e-06   \n",
       "69155427       chr17:7079524-7079888        Lhx3         2.654938e-07   \n",
       "\n",
       "          source_id_y      target_id  distance  peak_length  \n",
       "281325329     NEUROD2            Lpl     40891          241  \n",
       "107584166        SIX2           Cnr1     77865          198  \n",
       "213162968      TWIST1  4930559c10rik    356290          437  \n",
       "206179363        CTCF          Ctps2     13620          144  \n",
       "77990338         CTCF  1700006h21rik     12025          284  \n",
       "...               ...            ...       ...          ...  \n",
       "81475807         CTCF          Kpna2     18760          257  \n",
       "89778197      SMARCA4  2410002f23rik       344          262  \n",
       "250706780        SIX2         Lpcat3       276          283  \n",
       "100319389      PKNOX1       Ppp1r16a        55          113  \n",
       "69155427         CTCF        Gm1604b     53982          364  \n",
       "\n",
       "[1000 rows x 7 columns]"
      ]
     },
     "execution_count": 54,
     "metadata": {},
     "output_type": "execute_result"
    }
   ],
   "source": [
    "import numpy as np\n",
    "def find_peak_length(df: pd.DataFrame, peak_col_name: str = \"peak_id\"):\n",
    "    df = df.copy()\n",
    "    \n",
    "    peak_col = df[peak_col_name]\n",
    "    \n",
    "    peak_col_split = peak_col.str.extract(r'(chr[\\w]+):([0-9]+)-([0-9]+)').dropna()\n",
    "    df[\"peak_length\"] = np.abs(peak_col_split[2].astype(int) - peak_col_split[1].astype(int))\n",
    "    \n",
    "    return df\n",
    "\n",
    "peak_len_df = find_peak_length(chipseq_gene_tss_homer_df.sample(50000).drop_duplicates())\n",
    "peak_len_df.head(1000)"
   ]
  },
  {
   "cell_type": "code",
   "execution_count": 81,
   "id": "79420e54",
   "metadata": {},
   "outputs": [
    {
     "data": {
      "image/png": "[encoded data removed]",
      "text/plain": [
       "<Figure size 800x800 with 1 Axes>"
      ]
     },
     "metadata": {},
     "output_type": "display_data"
    },
    {
     "name": "stdout",
     "output_type": "stream",
     "text": [
      "Edges in ChIP-Atlas: y = 6.43e-11x + 3.96e-07, r=0.03, p=0.5474\n",
      "False Values: Correlation = 0.09, p-value = 0.0000\n",
      "True Values: Correlation = 0.03, p-value = 0.5474\n"
     ]
    }
   ],
   "source": [
    "from scipy.stats import pearsonr, linregress\n",
    "import numpy as np\n",
    "\n",
    "pos_peak_len_df = peak_len_df[peak_len_df[\"homer_binding_score\"] > 0]\n",
    "true_df = pos_peak_len_df[pos_peak_len_df[\"source_id_x\"] == pos_peak_len_df[\"source_id_y\"]]\n",
    "false_df = pos_peak_len_df[pos_peak_len_df[\"source_id_x\"] != pos_peak_len_df[\"source_id_y\"]]\n",
    "\n",
    "fig = plt.figure(figsize=(8,8))\n",
    "false_correlation = pearsonr(false_df[\"peak_length\"], false_df[\"homer_binding_score\"])\n",
    "true_correlation = pearsonr(true_df[\"peak_length\"], true_df[\"homer_binding_score\"])\n",
    "\n",
    "true_slope, true_intercept, true_r, true_p, true_stderr = linregress(true_df[\"peak_length\"], true_df[\"homer_binding_score\"])\n",
    "true_line = f'Edges in ChIP-Atlas: y = {true_slope:.2e}x + {true_intercept:.2e}, r={true_r:.2f}, p={true_p:.4f}'\n",
    "\n",
    "false_slope, false_intercept, false_r, false_p, false_stderr = linregress(false_df[\"peak_length\"], false_df[\"homer_binding_score\"])\n",
    "false_line = f'Edges Not in ChIP-Atlas: y = {false_slope:.2e}x + {false_intercept:.2e}, r={false_r:.2f}, p={false_p:.4f}'\n",
    "\n",
    "sc_false = plt.scatter(x=false_df[\"peak_length\"], y=false_df[\"homer_binding_score\"], s=28,  c=\"#747474\", edgecolors=\"#2D2D2D\", label=false_line, alpha=0.3, rasterized=True)\n",
    "sc_true = plt.scatter(x=true_df[\"peak_length\"], y=true_df[\"homer_binding_score\"], s=28, edgecolors=\"#032b5f\", label=true_line, c=\"#4195df\",  rasterized=True)\n",
    "\n",
    "max_x = max(max(true_df[\"peak_length\"]), max(false_df[\"peak_length\"])) * 0.9\n",
    "\n",
    "plt.plot(np.arange(0, max_x), true_intercept + true_slope * np.arange(0, max_x), c=\"#4195df\", linewidth=2, linestyle=\"--\")\n",
    "plt.plot(np.arange(0, max_x), false_intercept + false_slope * np.arange(0, max_x), c=\"#2D2D2D\", linewidth=2, linestyle=\"--\")\n",
    "\n",
    "plt.title(\"Homer Binding Score vs Peak Length\", fontsize=16)\n",
    "plt.xlabel(\"Peak Length (bp)\", fontsize=14)\n",
    "plt.ylabel(\"Homer Binding Score\", fontsize=14)\n",
    "plt.ylim(0, 1e-4)\n",
    "plt.xlim(0, 3000)\n",
    "plt.legend()\n",
    "plt.tight_layout()\n",
    "plt.show()\n",
    "\n",
    "\n",
    "print(true_line)\n",
    "print(f\"False Values: Correlation = {false_correlation.statistic:.2f}, p-value = {false_correlation.pvalue:.4f}\")\n",
    "print(f\"True Values: Correlation = {true_correlation.statistic:.2f}, p-value = {true_correlation.pvalue:.4f}\")"
   ]
  },
  {
   "cell_type": "markdown",
   "id": "817e1280",
   "metadata": {},
   "source": [
    "We can use the `chip_tf_to_peak` object that we created from the ChIP-Atlas file to check our work. Since we sampled the ChIP-Atlas peaks before we ran Homer, we need to subset `chip_tf_to_peak` to only contain those peaks."
   ]
  },
  {
   "cell_type": "code",
   "execution_count": 7,
   "id": "ec5063b3",
   "metadata": {},
   "outputs": [],
   "source": [
    "homer_results[\"source_id\"] = homer_results[\"source_id\"].str.upper()\n",
    "chip_tf_to_peak[\"gene_id\"] = chip_tf_to_peak[\"gene_id\"].str.upper()"
   ]
  },
  {
   "cell_type": "code",
   "execution_count": 8,
   "id": "4fee11e4",
   "metadata": {},
   "outputs": [
    {
     "name": "stdout",
     "output_type": "stream",
     "text": [
      "Number of ChIP-Atlas peaks: 7508129\n",
      "Number of ChIP-Atlas TFs: 131\n"
     ]
    }
   ],
   "source": [
    "print(f\"Number of ChIP-Atlas peaks: {chip_tf_to_peak['peak_id'].nunique()}\")\n",
    "print(f\"Number of ChIP-Atlas TFs: {chip_tf_to_peak['gene_id'].nunique()}\")"
   ]
  },
  {
   "cell_type": "code",
   "execution_count": 9,
   "id": "1e2851b9",
   "metadata": {},
   "outputs": [
    {
     "name": "stdout",
     "output_type": "stream",
     "text": [
      "Number of Homer peaks: 7432863\n",
      "Number of Homer TFs: 318\n"
     ]
    },
    {
     "data": {
      "application/vnd.microsoft.datawrangler.viewer.v0+json": {
       "columns": [
        {
         "name": "index",
         "rawType": "int64",
         "type": "integer"
        },
        {
         "name": "gene_id",
         "rawType": "object",
         "type": "string"
        },
        {
         "name": "peak_id",
         "rawType": "object",
         "type": "string"
        }
       ],
       "ref": "9dcc0eb1-c492-4821-a7af-addd9d9574f0",
       "rows": [
        [
         "0",
         "SMAD4",
         "chr1:3003564-3003922"
        ],
        [
         "1",
         "CTCF",
         "chr1:3012605-3012815"
        ],
        [
         "2",
         "CTCF",
         "chr1:3012635-3012824"
        ],
        [
         "4",
         "SMAD4",
         "chr1:3031454-3031677"
        ],
        [
         "9",
         "HAND2",
         "chr1:3042840-3043210"
        ],
        [
         "11",
         "KLF1",
         "chr1:3042893-3043261"
        ],
        [
         "23",
         "ISL1",
         "chr1:3050169-3050323"
        ],
        [
         "26",
         "HOXA13",
         "chr1:3054989-3055130"
        ],
        [
         "27",
         "HOXA13",
         "chr1:3055034-3055478"
        ],
        [
         "28",
         "HOXA13",
         "chr1:3055062-3055329"
        ],
        [
         "31",
         "HNF1B",
         "chr1:3063257-3063401"
        ],
        [
         "32",
         "PAX5",
         "chr1:3068096-3068380"
        ],
        [
         "34",
         "GATA1",
         "chr1:3077207-3077399"
        ],
        [
         "37",
         "ISL1",
         "chr1:3083187-3083305"
        ],
        [
         "39",
         "PAX5",
         "chr1:3091675-3091891"
        ],
        [
         "47",
         "NEUROG2",
         "chr1:3094824-3095063"
        ],
        [
         "52",
         "EOMES",
         "chr1:3094875-3095044"
        ],
        [
         "53",
         "NEUROG2",
         "chr1:3094902-3095185"
        ],
        [
         "68",
         "HOXA13",
         "chr1:3113912-3114136"
        ],
        [
         "69",
         "SIX2",
         "chr1:3116979-3117198"
        ],
        [
         "70",
         "SIX2",
         "chr1:3116985-3117168"
        ],
        [
         "71",
         "SIX2",
         "chr1:3116988-3117189"
        ],
        [
         "72",
         "SIX2",
         "chr1:3117006-3117191"
        ],
        [
         "73",
         "SIX2",
         "chr1:3117012-3117256"
        ],
        [
         "74",
         "SIX2",
         "chr1:3117018-3117164"
        ],
        [
         "75",
         "SIX2",
         "chr1:3117043-3117201"
        ],
        [
         "76",
         "SIX2",
         "chr1:3117047-3117232"
        ],
        [
         "77",
         "SIX2",
         "chr1:3117059-3117236"
        ],
        [
         "78",
         "SIX2",
         "chr1:3117387-3117633"
        ],
        [
         "111",
         "SOX9",
         "chr1:3139145-3139369"
        ],
        [
         "112",
         "SOX9",
         "chr1:3139151-3139377"
        ],
        [
         "113",
         "HOXA13",
         "chr1:3139162-3139303"
        ],
        [
         "116",
         "CTCF",
         "chr1:3139175-3139430"
        ],
        [
         "117",
         "TBR1",
         "chr1:3139180-3139364"
        ],
        [
         "123",
         "GATA1",
         "chr1:3139192-3139248"
        ],
        [
         "124",
         "NEUROG2",
         "chr1:3139197-3139241"
        ],
        [
         "125",
         "PTF1A",
         "chr1:3139200-3139307"
        ],
        [
         "126",
         "SMAD4",
         "chr1:3143207-3143394"
        ],
        [
         "127",
         "HOXA13",
         "chr1:3151585-3152119"
        ],
        [
         "129",
         "HOXA13",
         "chr1:3152888-3153154"
        ],
        [
         "131",
         "GATA1",
         "chr1:3175772-3175945"
        ],
        [
         "132",
         "EOMES",
         "chr1:3181110-3181301"
        ],
        [
         "133",
         "TBR1",
         "chr1:3181178-3181328"
        ],
        [
         "138",
         "HAND2",
         "chr1:3191738-3192068"
        ],
        [
         "142",
         "HAND2",
         "chr1:3191838-3192042"
        ],
        [
         "158",
         "HOXA13",
         "chr1:3263466-3263769"
        ],
        [
         "162",
         "SMAD4",
         "chr1:3276043-3276417"
        ],
        [
         "163",
         "SMAD4",
         "chr1:3276144-3276409"
        ],
        [
         "165",
         "ISL1",
         "chr1:3287311-3287462"
        ],
        [
         "187",
         "SMAD4",
         "chr1:3311488-3311792"
        ]
       ],
       "shape": {
        "columns": 2,
        "rows": 4741850
       }
      },
      "text/html": [
       "<div>\n",
       "<style scoped>\n",
       "    .dataframe tbody tr th:only-of-type {\n",
       "        vertical-align: middle;\n",
       "    }\n",
       "\n",
       "    .dataframe tbody tr th {\n",
       "        vertical-align: top;\n",
       "    }\n",
       "\n",
       "    .dataframe thead th {\n",
       "        text-align: right;\n",
       "    }\n",
       "</style>\n",
       "<table border=\"1\" class=\"dataframe\">\n",
       "  <thead>\n",
       "    <tr style=\"text-align: right;\">\n",
       "      <th></th>\n",
       "      <th>gene_id</th>\n",
       "      <th>peak_id</th>\n",
       "    </tr>\n",
       "  </thead>\n",
       "  <tbody>\n",
       "    <tr>\n",
       "      <th>0</th>\n",
       "      <td>SMAD4</td>\n",
       "      <td>chr1:3003564-3003922</td>\n",
       "    </tr>\n",
       "    <tr>\n",
       "      <th>1</th>\n",
       "      <td>CTCF</td>\n",
       "      <td>chr1:3012605-3012815</td>\n",
       "    </tr>\n",
       "    <tr>\n",
       "      <th>2</th>\n",
       "      <td>CTCF</td>\n",
       "      <td>chr1:3012635-3012824</td>\n",
       "    </tr>\n",
       "    <tr>\n",
       "      <th>4</th>\n",
       "      <td>SMAD4</td>\n",
       "      <td>chr1:3031454-3031677</td>\n",
       "    </tr>\n",
       "    <tr>\n",
       "      <th>9</th>\n",
       "      <td>HAND2</td>\n",
       "      <td>chr1:3042840-3043210</td>\n",
       "    </tr>\n",
       "    <tr>\n",
       "      <th>...</th>\n",
       "      <td>...</td>\n",
       "      <td>...</td>\n",
       "    </tr>\n",
       "    <tr>\n",
       "      <th>7734371</th>\n",
       "      <td>TCF12</td>\n",
       "      <td>chrY_JH584300_random:1327-1457</td>\n",
       "    </tr>\n",
       "    <tr>\n",
       "      <th>7734386</th>\n",
       "      <td>SIX2</td>\n",
       "      <td>chrY_JH584300_random:29200-29402</td>\n",
       "    </tr>\n",
       "    <tr>\n",
       "      <th>7734391</th>\n",
       "      <td>CTCF</td>\n",
       "      <td>chrY_JH584300_random:125580-125924</td>\n",
       "    </tr>\n",
       "    <tr>\n",
       "      <th>7734451</th>\n",
       "      <td>ISL1</td>\n",
       "      <td>chrY_JH584303_random:27542-27608</td>\n",
       "    </tr>\n",
       "    <tr>\n",
       "      <th>7734454</th>\n",
       "      <td>SMAD4</td>\n",
       "      <td>chrY_JH584303_random:32038-32409</td>\n",
       "    </tr>\n",
       "  </tbody>\n",
       "</table>\n",
       "<p>4741850 rows × 2 columns</p>\n",
       "</div>"
      ],
      "text/plain": [
       "        gene_id                             peak_id\n",
       "0         SMAD4                chr1:3003564-3003922\n",
       "1          CTCF                chr1:3012605-3012815\n",
       "2          CTCF                chr1:3012635-3012824\n",
       "4         SMAD4                chr1:3031454-3031677\n",
       "9         HAND2                chr1:3042840-3043210\n",
       "...         ...                                 ...\n",
       "7734371   TCF12      chrY_JH584300_random:1327-1457\n",
       "7734386    SIX2    chrY_JH584300_random:29200-29402\n",
       "7734391    CTCF  chrY_JH584300_random:125580-125924\n",
       "7734451    ISL1    chrY_JH584303_random:27542-27608\n",
       "7734454   SMAD4    chrY_JH584303_random:32038-32409\n",
       "\n",
       "[4741850 rows x 2 columns]"
      ]
     },
     "execution_count": 9,
     "metadata": {},
     "output_type": "execute_result"
    }
   ],
   "source": [
    "homer_peak_set = set(homer_results[\"peak_id\"])\n",
    "homer_gene_set = set(homer_results[\"source_id\"])\n",
    "\n",
    "print(f\"Number of Homer peaks: {len(homer_peak_set)}\")\n",
    "print(f\"Number of Homer TFs: {len(homer_gene_set)}\")\n",
    "\n",
    "chip_tf_to_peak_sub = chip_tf_to_peak[\n",
    "    chip_tf_to_peak[\"peak_id\"].isin(homer_peak_set) &\n",
    "    chip_tf_to_peak[\"gene_id\"].isin(homer_gene_set)\n",
    "]\n",
    "chip_tf_to_peak_sub"
   ]
  },
  {
   "cell_type": "code",
   "execution_count": 20,
   "id": "f97d6fac",
   "metadata": {},
   "outputs": [
    {
     "name": "stdout",
     "output_type": "stream",
     "text": [
      "Number of shared peaks: 235613\n",
      "Number of shared TFs: 50\n"
     ]
    }
   ],
   "source": [
    "print(f\"Number of shared peaks: {chip_tf_to_peak_sub['peak_id'].nunique()}\")\n",
    "print(f\"Number of shared TFs: {chip_tf_to_peak_sub['gene_id'].nunique()}\")"
   ]
  },
  {
   "cell_type": "markdown",
   "id": "43e31378",
   "metadata": {},
   "source": [
    "We then combine the TF-peak mapping from ChIP-Atlas with the TF-peak mapping from the Homer score by merging the two DataFrames on `peak_id`."
   ]
  },
  {
   "cell_type": "code",
   "execution_count": 10,
   "id": "21f68eba",
   "metadata": {},
   "outputs": [
    {
     "data": {
      "application/vnd.microsoft.datawrangler.viewer.v0+json": {
       "columns": [
        {
         "name": "index",
         "rawType": "int64",
         "type": "integer"
        },
        {
         "name": "chip_gene",
         "rawType": "object",
         "type": "string"
        },
        {
         "name": "homer_gene",
         "rawType": "string",
         "type": "string"
        },
        {
         "name": "peak_id",
         "rawType": "object",
         "type": "string"
        },
        {
         "name": "homer_binding_score",
         "rawType": "float64",
         "type": "float"
        }
       ],
       "ref": "82e28f11-3f68-4d7a-9c0f-8fbbd618130c",
       "rows": [
        [
         "0",
         "SMAD4",
         "GLIS3",
         "chr1:3003564-3003922",
         "8.127061733973637e-07"
        ],
        [
         "1",
         "SMAD4",
         "HIC1",
         "chr1:3003564-3003922",
         "2.672861289992353e-07"
        ],
        [
         "2",
         "SMAD4",
         "MNT",
         "chr1:3003564-3003922",
         "5.847771969640707e-07"
        ],
        [
         "3",
         "SMAD4",
         "BMAL1",
         "chr1:3003564-3003922",
         "4.0845068121404614e-07"
        ],
        [
         "4",
         "SMAD4",
         "MAX",
         "chr1:3003564-3003922",
         "6.490383523252772e-07"
        ],
        [
         "5",
         "SMAD4",
         "NF1-HALFSITE",
         "chr1:3003564-3003922",
         "8.513241780039399e-07"
        ],
        [
         "6",
         "SMAD4",
         "NPAS",
         "chr1:3003564-3003922",
         "6.04673704463913e-07"
        ],
        [
         "7",
         "SMAD4",
         "NANOG",
         "chr1:3003564-3003922",
         "1.54568249146706e-07"
        ],
        [
         "8",
         "SMAD4",
         "ARE",
         "chr1:3003564-3003922",
         "3.387344542056423e-06"
        ],
        [
         "9",
         "SMAD4",
         "OLIG2",
         "chr1:3003564-3003922",
         "2.441986937323475e-07"
        ],
        [
         "10",
         "SMAD4",
         "RBPJ1",
         "chr1:3003564-3003922",
         "5.371584746418227e-07"
        ],
        [
         "11",
         "SMAD4",
         "RFX6",
         "chr1:3003564-3003922",
         "6.336067557686727e-07"
        ],
        [
         "12",
         "SMAD4",
         "SCL",
         "chr1:3003564-3003922",
         "1.9455251656598466e-07"
        ],
        [
         "13",
         "SMAD4",
         "SPDEF",
         "chr1:3003564-3003922",
         "1.5152422001013696e-06"
        ],
        [
         "14",
         "SMAD4",
         "SMAD3",
         "chr1:3003564-3003922",
         "9.3847366642892e-07"
        ],
        [
         "15",
         "SMAD4",
         "SMAD4",
         "chr1:3003564-3003922",
         "1.1861908407088044e-06"
        ],
        [
         "16",
         "SMAD4",
         "TBX5",
         "chr1:3003564-3003922",
         "2.0615632256702555e-07"
        ],
        [
         "17",
         "SMAD4",
         "TGIF2",
         "chr1:3003564-3003922",
         "1.595682975450896e-07"
        ],
        [
         "18",
         "SMAD4",
         "TWIST",
         "chr1:3003564-3003922",
         "5.127048255778183e-06"
        ],
        [
         "19",
         "SMAD4",
         "ZNF7",
         "chr1:3003564-3003922",
         "1.6870291080002294e-06"
        ],
        [
         "20",
         "SMAD4",
         "ZNF91",
         "chr1:3003564-3003922",
         "1.429708046468371e-06"
        ],
        [
         "21",
         "SMAD4",
         "ZNF264",
         "chr1:3003564-3003922",
         "1.299126467363345e-06"
        ],
        [
         "22",
         "SMAD4",
         "ZIC",
         "chr1:3003564-3003922",
         "8.624050060885794e-07"
        ],
        [
         "23",
         "SMAD4",
         "COUP-TFII",
         "chr1:3003564-3003922",
         "4.0122856185640433e-07"
        ],
        [
         "24",
         "SMAD4",
         "C-MYC",
         "chr1:3003564-3003922",
         "9.069217172381332e-07"
        ],
        [
         "25",
         "SMAD4",
         "C-MYC",
         "chr1:3003564-3003922",
         "9.069217172381332e-07"
        ],
        [
         "26",
         "SMAD4",
         "N-MYC",
         "chr1:3003564-3003922",
         "6.09757584774597e-07"
        ],
        [
         "27",
         "SMAD4",
         "EBF1",
         "chr1:3003564-3003922",
         "1.388188367906936e-06"
        ],
        [
         "28",
         "SMAD4",
         "EBF2",
         "chr1:3003564-3003922",
         "1.03601659905795e-06"
        ],
        [
         "29",
         "SMAD4",
         "EBF",
         "chr1:3003564-3003922",
         "4.709661163427597e-06"
        ],
        [
         "30",
         "SMAD4",
         "EHF",
         "chr1:3003564-3003922",
         "5.941622371871884e-07"
        ],
        [
         "31",
         "SMAD4",
         "ELF3",
         "chr1:3003564-3003922",
         "1.152453458167092e-06"
        ],
        [
         "32",
         "SMAD4",
         "ERG",
         "chr1:3003564-3003922",
         "4.4753862705890145e-07"
        ],
        [
         "33",
         "SMAD4",
         "ETS1",
         "chr1:3003564-3003922",
         "6.737277829841964e-07"
        ],
        [
         "34",
         "SMAD4",
         "ETV1",
         "chr1:3003564-3003922",
         "9.591590093805752e-07"
        ],
        [
         "35",
         "SMAD4",
         "ETV4",
         "chr1:3003564-3003922",
         "1.0849034598656238e-06"
        ],
        [
         "36",
         "SMAD4",
         "EWS",
         "chr1:3003564-3003922",
         "1.155919695946883e-06"
        ],
        [
         "37",
         "SMAD4",
         "EWS",
         "chr1:3003564-3003922",
         "1.155919695946883e-06"
        ],
        [
         "38",
         "SMAD4",
         "ELK4",
         "chr1:3003564-3003922",
         "9.6360372375023e-07"
        ],
        [
         "39",
         "SMAD4",
         "ETV2",
         "chr1:3003564-3003922",
         "7.851222474595407e-07"
        ],
        [
         "40",
         "SMAD4",
         "FLI1",
         "chr1:3003564-3003922",
         "5.540767861773356e-07"
        ],
        [
         "41",
         "SMAD4",
         "FOXH1",
         "chr1:3003564-3003922",
         "1.48633243013866e-06"
        ],
        [
         "42",
         "CTCF",
         "AMYB",
         "chr1:3012605-3012815",
         "4.867641525460443e-07"
        ],
        [
         "43",
         "CTCF",
         "GSX2",
         "chr1:3012605-3012815",
         "1.2100999784602203e-06"
        ],
        [
         "44",
         "CTCF",
         "HLF",
         "chr1:3012605-3012815",
         "1.0033995175655119e-06"
        ],
        [
         "45",
         "CTCF",
         "HOXA9",
         "chr1:3012605-3012815",
         "2.6150442975428785e-07"
        ],
        [
         "46",
         "CTCF",
         "HOXA10",
         "chr1:3012605-3012815",
         "1.7130503602544907e-06"
        ],
        [
         "47",
         "CTCF",
         "HOXA11",
         "chr1:3012605-3012815",
         "2.8631030196002307e-07"
        ],
        [
         "48",
         "CTCF",
         "HOXD10",
         "chr1:3012605-3012815",
         "7.177184591445944e-07"
        ],
        [
         "49",
         "CTCF",
         "HOXD11",
         "chr1:3012605-3012815",
         "5.657476567439243e-07"
        ]
       ],
       "shape": {
        "columns": 4,
        "rows": 190297935
       }
      },
      "text/html": [
       "<div>\n",
       "<style scoped>\n",
       "    .dataframe tbody tr th:only-of-type {\n",
       "        vertical-align: middle;\n",
       "    }\n",
       "\n",
       "    .dataframe tbody tr th {\n",
       "        vertical-align: top;\n",
       "    }\n",
       "\n",
       "    .dataframe thead th {\n",
       "        text-align: right;\n",
       "    }\n",
       "</style>\n",
       "<table border=\"1\" class=\"dataframe\">\n",
       "  <thead>\n",
       "    <tr style=\"text-align: right;\">\n",
       "      <th></th>\n",
       "      <th>chip_gene</th>\n",
       "      <th>homer_gene</th>\n",
       "      <th>peak_id</th>\n",
       "      <th>homer_binding_score</th>\n",
       "    </tr>\n",
       "  </thead>\n",
       "  <tbody>\n",
       "    <tr>\n",
       "      <th>0</th>\n",
       "      <td>SMAD4</td>\n",
       "      <td>GLIS3</td>\n",
       "      <td>chr1:3003564-3003922</td>\n",
       "      <td>8.127062e-07</td>\n",
       "    </tr>\n",
       "    <tr>\n",
       "      <th>1</th>\n",
       "      <td>SMAD4</td>\n",
       "      <td>HIC1</td>\n",
       "      <td>chr1:3003564-3003922</td>\n",
       "      <td>2.672861e-07</td>\n",
       "    </tr>\n",
       "    <tr>\n",
       "      <th>2</th>\n",
       "      <td>SMAD4</td>\n",
       "      <td>MNT</td>\n",
       "      <td>chr1:3003564-3003922</td>\n",
       "      <td>5.847772e-07</td>\n",
       "    </tr>\n",
       "    <tr>\n",
       "      <th>3</th>\n",
       "      <td>SMAD4</td>\n",
       "      <td>BMAL1</td>\n",
       "      <td>chr1:3003564-3003922</td>\n",
       "      <td>4.084507e-07</td>\n",
       "    </tr>\n",
       "    <tr>\n",
       "      <th>4</th>\n",
       "      <td>SMAD4</td>\n",
       "      <td>MAX</td>\n",
       "      <td>chr1:3003564-3003922</td>\n",
       "      <td>6.490384e-07</td>\n",
       "    </tr>\n",
       "    <tr>\n",
       "      <th>...</th>\n",
       "      <td>...</td>\n",
       "      <td>...</td>\n",
       "      <td>...</td>\n",
       "      <td>...</td>\n",
       "    </tr>\n",
       "    <tr>\n",
       "      <th>190297930</th>\n",
       "      <td>SMAD4</td>\n",
       "      <td>ETV1</td>\n",
       "      <td>chrY_JH584303_random:32038-32409</td>\n",
       "      <td>4.795795e-07</td>\n",
       "    </tr>\n",
       "    <tr>\n",
       "      <th>190297931</th>\n",
       "      <td>SMAD4</td>\n",
       "      <td>ELF4</td>\n",
       "      <td>chrY_JH584303_random:32038-32409</td>\n",
       "      <td>7.011379e-07</td>\n",
       "    </tr>\n",
       "    <tr>\n",
       "      <th>190297932</th>\n",
       "      <td>SMAD4</td>\n",
       "      <td>ERRA</td>\n",
       "      <td>chrY_JH584303_random:32038-32409</td>\n",
       "      <td>3.108876e-07</td>\n",
       "    </tr>\n",
       "    <tr>\n",
       "      <th>190297933</th>\n",
       "      <td>SMAD4</td>\n",
       "      <td>FOXD3</td>\n",
       "      <td>chrY_JH584303_random:32038-32409</td>\n",
       "      <td>8.902500e-07</td>\n",
       "    </tr>\n",
       "    <tr>\n",
       "      <th>190297934</th>\n",
       "      <td>SMAD4</td>\n",
       "      <td>FOXO1</td>\n",
       "      <td>chrY_JH584303_random:32038-32409</td>\n",
       "      <td>3.884900e-07</td>\n",
       "    </tr>\n",
       "  </tbody>\n",
       "</table>\n",
       "<p>190297935 rows × 4 columns</p>\n",
       "</div>"
      ],
      "text/plain": [
       "          chip_gene homer_gene                           peak_id  \\\n",
       "0             SMAD4      GLIS3              chr1:3003564-3003922   \n",
       "1             SMAD4       HIC1              chr1:3003564-3003922   \n",
       "2             SMAD4        MNT              chr1:3003564-3003922   \n",
       "3             SMAD4      BMAL1              chr1:3003564-3003922   \n",
       "4             SMAD4        MAX              chr1:3003564-3003922   \n",
       "...             ...        ...                               ...   \n",
       "190297930     SMAD4       ETV1  chrY_JH584303_random:32038-32409   \n",
       "190297931     SMAD4       ELF4  chrY_JH584303_random:32038-32409   \n",
       "190297932     SMAD4       ERRA  chrY_JH584303_random:32038-32409   \n",
       "190297933     SMAD4      FOXD3  chrY_JH584303_random:32038-32409   \n",
       "190297934     SMAD4      FOXO1  chrY_JH584303_random:32038-32409   \n",
       "\n",
       "           homer_binding_score  \n",
       "0                 8.127062e-07  \n",
       "1                 2.672861e-07  \n",
       "2                 5.847772e-07  \n",
       "3                 4.084507e-07  \n",
       "4                 6.490384e-07  \n",
       "...                        ...  \n",
       "190297930         4.795795e-07  \n",
       "190297931         7.011379e-07  \n",
       "190297932         3.108876e-07  \n",
       "190297933         8.902500e-07  \n",
       "190297934         3.884900e-07  \n",
       "\n",
       "[190297935 rows x 4 columns]"
      ]
     },
     "execution_count": 10,
     "metadata": {},
     "output_type": "execute_result"
    }
   ],
   "source": [
    "merged_df = pd.merge(chip_tf_to_peak_sub, homer_results, on=\"peak_id\", how=\"inner\")\n",
    "merged_df = merged_df.rename(columns={\"gene_id\": \"chip_gene\", \"source_id\": \"homer_gene\"})\n",
    "merged_df = merged_df[[\"chip_gene\", \"homer_gene\", \"peak_id\", \"homer_binding_score\"]]\n",
    "merged_df"
   ]
  },
  {
   "cell_type": "code",
   "execution_count": 11,
   "id": "05f352a7",
   "metadata": {},
   "outputs": [],
   "source": [
    "merged_df.to_csv(os.path.join(output_dir, \"chipseq_homer_merged.csv\"), header=True, index=False)"
   ]
  },
  {
   "cell_type": "markdown",
   "id": "83b7592f",
   "metadata": {},
   "source": [
    "We can extract the correct and incorrect predictions to see how the Homer binding scores vary between them."
   ]
  },
  {
   "cell_type": "code",
   "execution_count": 12,
   "id": "5d86c337",
   "metadata": {},
   "outputs": [
    {
     "name": "stdout",
     "output_type": "stream",
     "text": [
      "Num correct predictions: 3143066\n",
      "Num incorrect predictions: 187154869\n",
      "Num unique correct TFs: 52\n",
      "Num unique incorrect TFs: 52\n"
     ]
    }
   ],
   "source": [
    "correct_predictions = merged_df[merged_df[\"chip_gene\"] == merged_df[\"homer_gene\"]]\n",
    "incorrect_predictions = merged_df[merged_df[\"chip_gene\"] != merged_df[\"homer_gene\"]]\n",
    "\n",
    "print(f\"Num correct predictions: {len(correct_predictions)}\")\n",
    "print(f\"Num incorrect predictions: {len(incorrect_predictions)}\")\n",
    "\n",
    "print(f\"Num unique correct TFs: {correct_predictions['chip_gene'].nunique()}\")\n",
    "print(f\"Num unique incorrect TFs: {incorrect_predictions['chip_gene'].nunique()}\")"
   ]
  },
  {
   "cell_type": "code",
   "execution_count": 35,
   "id": "c5d61b03",
   "metadata": {},
   "outputs": [
    {
     "data": {
      "application/vnd.microsoft.datawrangler.viewer.v0+json": {
       "columns": [
        {
         "name": "index",
         "rawType": "int64",
         "type": "integer"
        },
        {
         "name": "chip_gene",
         "rawType": "object",
         "type": "string"
        },
        {
         "name": "homer_gene",
         "rawType": "string",
         "type": "string"
        },
        {
         "name": "peak_id",
         "rawType": "object",
         "type": "string"
        },
        {
         "name": "homer_binding_score",
         "rawType": "float64",
         "type": "float"
        },
        {
         "name": "chip_gene_norm",
         "rawType": "object",
         "type": "string"
        },
        {
         "name": "homer_gene_norm",
         "rawType": "string",
         "type": "string"
        }
       ],
       "ref": "882a6f5e-046a-416f-810b-5201a36a12ff",
       "rows": [
        [
         "59",
         "SIX2",
         "SIX2",
         "chr1:3117059-3117236",
         "0.21236963795205838",
         "SIX2",
         "SIX2"
        ],
        [
         "88",
         "SIX2",
         "SIX2",
         "chr1:3372710-3372882",
         "0.21236963795205838",
         "SIX2",
         "SIX2"
        ],
        [
         "126",
         "SIX2",
         "SIX2",
         "chr1:3400044-3400224",
         "0.21236963795205838",
         "SIX2",
         "SIX2"
        ],
        [
         "306",
         "HOXA13",
         "HOXA13",
         "chr1:3495185-3495539",
         "0.44342409223561036",
         "HOXA13",
         "HOXA13"
        ],
        [
         "432",
         "SMAD4",
         "SMAD4",
         "chr1:3584028-3584333",
         "0.2533288971250972",
         "SMAD4",
         "SMAD4"
        ],
        [
         "467",
         "HOXA13",
         "HOXA13",
         "chr1:3793894-3794214",
         "0.44342409223561036",
         "HOXA13",
         "HOXA13"
        ],
        [
         "504",
         "HOXA13",
         "HOXA13",
         "chr1:3899917-3900194",
         "0.44342409223561036",
         "HOXA13",
         "HOXA13"
        ],
        [
         "623",
         "CTCF",
         "CTCF",
         "chr1:4228175-4228396",
         "0.07121488568309588",
         "CTCF",
         "CTCF"
        ],
        [
         "663",
         "CTCF",
         "CTCF",
         "chr1:4228246-4228546",
         "0.07121488568309588",
         "CTCF",
         "CTCF"
        ],
        [
         "697",
         "CTCF",
         "CTCF",
         "chr1:4228253-4228458",
         "0.07121488568309588",
         "CTCF",
         "CTCF"
        ],
        [
         "728",
         "CTCF",
         "CTCF",
         "chr1:4228278-4228467",
         "0.07121488568309588",
         "CTCF",
         "CTCF"
        ],
        [
         "764",
         "CTCF",
         "CTCF",
         "chr1:4228284-4228516",
         "0.07121488568309588",
         "CTCF",
         "CTCF"
        ],
        [
         "832",
         "CTCF",
         "CTCF",
         "chr1:4332419-4332834",
         "0.07121488568309588",
         "CTCF",
         "CTCF"
        ],
        [
         "891",
         "CTCF",
         "CTCF",
         "chr1:4332438-4332876",
         "0.07121488568309588",
         "CTCF",
         "CTCF"
        ],
        [
         "951",
         "CTCF",
         "CTCF",
         "chr1:4332439-4332902",
         "0.07121488568309588",
         "CTCF",
         "CTCF"
        ],
        [
         "998",
         "CTCF",
         "CTCF",
         "chr1:4332501-4332794",
         "0.07121488568309588",
         "CTCF",
         "CTCF"
        ],
        [
         "1054",
         "CTCF",
         "CTCF",
         "chr1:4332558-4332823",
         "0.07121488568309588",
         "CTCF",
         "CTCF"
        ],
        [
         "1093",
         "CTCF",
         "CTCF",
         "chr1:4332561-4332738",
         "0.07121488568309588",
         "CTCF",
         "CTCF"
        ],
        [
         "1145",
         "CTCF",
         "CTCF",
         "chr1:4332577-4332844",
         "0.07121488568309588",
         "CTCF",
         "CTCF"
        ],
        [
         "1295",
         "CTCF",
         "CTCF",
         "chr1:4382911-4383095",
         "0.07121488568309588",
         "CTCF",
         "CTCF"
        ],
        [
         "1337",
         "CTCF",
         "CTCF",
         "chr1:4382919-4383102",
         "0.07121488568309588",
         "CTCF",
         "CTCF"
        ],
        [
         "1378",
         "CTCF",
         "CTCF",
         "chr1:4416728-4417092",
         "0.07121488568309588",
         "CTCF",
         "CTCF"
        ],
        [
         "1402",
         "CTCF",
         "CTCF",
         "chr1:4416788-4416984",
         "0.07121488568309588",
         "CTCF",
         "CTCF"
        ],
        [
         "1532",
         "CTCF",
         "CTCF",
         "chr1:4516424-4517082",
         "0.07121488568309588",
         "CTCF",
         "CTCF"
        ],
        [
         "1569",
         "CTCF",
         "CTCF",
         "chr1:4516609-4516881",
         "0.07121488568309588",
         "CTCF",
         "CTCF"
        ],
        [
         "1592",
         "CTCF",
         "CTCF",
         "chr1:4516631-4516889",
         "0.07121488568309588",
         "CTCF",
         "CTCF"
        ],
        [
         "1615",
         "CTCF",
         "CTCF",
         "chr1:4516654-4516885",
         "0.07121488568309588",
         "CTCF",
         "CTCF"
        ],
        [
         "1637",
         "CTCF",
         "CTCF",
         "chr1:4516661-4516851",
         "0.07121488568309588",
         "CTCF",
         "CTCF"
        ],
        [
         "1792",
         "HOXA11",
         "HOXA11",
         "chr1:4571790-4572233",
         "0.030992369363996422",
         "HOXA11",
         "HOXA11"
        ],
        [
         "1846",
         "CTCF",
         "CTCF",
         "chr1:4768436-4768692",
         "0.07121488568309588",
         "CTCF",
         "CTCF"
        ],
        [
         "1871",
         "CTCF",
         "CTCF",
         "chr1:4768438-4768681",
         "0.07121488568309588",
         "CTCF",
         "CTCF"
        ],
        [
         "1897",
         "CTCF",
         "CTCF",
         "chr1:4768453-4768706",
         "0.07121488568309588",
         "CTCF",
         "CTCF"
        ],
        [
         "1952",
         "CTCF",
         "CTCF",
         "chr1:4769849-4770346",
         "0.07121488568309588",
         "CTCF",
         "CTCF"
        ],
        [
         "1988",
         "CTCF",
         "CTCF",
         "chr1:4769925-4770156",
         "0.07121488568309588",
         "CTCF",
         "CTCF"
        ],
        [
         "2024",
         "CTCF",
         "CTCF",
         "chr1:4769930-4770191",
         "0.07121488568309588",
         "CTCF",
         "CTCF"
        ],
        [
         "2062",
         "CTCF",
         "CTCF",
         "chr1:4769941-4770205",
         "0.07121488568309588",
         "CTCF",
         "CTCF"
        ],
        [
         "2146",
         "CTCF",
         "CTCF",
         "chr1:4780147-4780446",
         "0.07121488568309588",
         "CTCF",
         "CTCF"
        ],
        [
         "2214",
         "SIX2",
         "SIX2",
         "chr1:4819558-4819855",
         "0.21236963795205838",
         "SIX2",
         "SIX2"
        ],
        [
         "2258",
         "SIX2",
         "SIX2",
         "chr1:4829429-4829711",
         "0.21236963795205838",
         "SIX2",
         "SIX2"
        ],
        [
         "2303",
         "CTCF",
         "CTCF",
         "chr1:4836676-4836846",
         "0.07121488568309588",
         "CTCF",
         "CTCF"
        ],
        [
         "2398",
         "HOXA13",
         "HOXA13",
         "chr1:4899848-4900201",
         "0.44342409223561036",
         "HOXA13",
         "HOXA13"
        ],
        [
         "2542",
         "CTCF",
         "CTCF",
         "chr1:4914489-4914643",
         "0.07121488568309588",
         "CTCF",
         "CTCF"
        ],
        [
         "2591",
         "NEUROG2",
         "NEUROG2",
         "chr1:4970726-4971353",
         "0.3352152557060258",
         "NEUROG2",
         "NEUROG2"
        ],
        [
         "2664",
         "CTCF",
         "CTCF",
         "chr1:5017961-5018159",
         "0.07121488568309588",
         "CTCF",
         "CTCF"
        ],
        [
         "2818",
         "CTCF",
         "CTCF",
         "chr1:5103243-5103440",
         "0.07121488568309588",
         "CTCF",
         "CTCF"
        ],
        [
         "2840",
         "CTCF",
         "CTCF",
         "chr1:5103270-5103449",
         "0.07121488568309588",
         "CTCF",
         "CTCF"
        ],
        [
         "2861",
         "CTCF",
         "CTCF",
         "chr1:5103292-5103433",
         "0.07121488568309588",
         "CTCF",
         "CTCF"
        ],
        [
         "2919",
         "CTCF",
         "CTCF",
         "chr1:5138557-5138754",
         "0.07121488568309588",
         "CTCF",
         "CTCF"
        ],
        [
         "2936",
         "SMAD4",
         "SMAD4",
         "chr1:5189499-5189734",
         "0.2533288971250972",
         "SMAD4",
         "SMAD4"
        ],
        [
         "2976",
         "HOXA11",
         "HOXA11",
         "chr1:5467682-5467874",
         "0.1598724440692475",
         "HOXA11",
         "HOXA11"
        ]
       ],
       "shape": {
        "columns": 6,
        "rows": 155450
       }
      },
      "text/html": [
       "<div>\n",
       "<style scoped>\n",
       "    .dataframe tbody tr th:only-of-type {\n",
       "        vertical-align: middle;\n",
       "    }\n",
       "\n",
       "    .dataframe tbody tr th {\n",
       "        vertical-align: top;\n",
       "    }\n",
       "\n",
       "    .dataframe thead th {\n",
       "        text-align: right;\n",
       "    }\n",
       "</style>\n",
       "<table border=\"1\" class=\"dataframe\">\n",
       "  <thead>\n",
       "    <tr style=\"text-align: right;\">\n",
       "      <th></th>\n",
       "      <th>chip_gene</th>\n",
       "      <th>homer_gene</th>\n",
       "      <th>peak_id</th>\n",
       "      <th>homer_binding_score</th>\n",
       "      <th>chip_gene_norm</th>\n",
       "      <th>homer_gene_norm</th>\n",
       "    </tr>\n",
       "  </thead>\n",
       "  <tbody>\n",
       "    <tr>\n",
       "      <th>59</th>\n",
       "      <td>SIX2</td>\n",
       "      <td>SIX2</td>\n",
       "      <td>chr1:3117059-3117236</td>\n",
       "      <td>0.212370</td>\n",
       "      <td>SIX2</td>\n",
       "      <td>SIX2</td>\n",
       "    </tr>\n",
       "    <tr>\n",
       "      <th>88</th>\n",
       "      <td>SIX2</td>\n",
       "      <td>SIX2</td>\n",
       "      <td>chr1:3372710-3372882</td>\n",
       "      <td>0.212370</td>\n",
       "      <td>SIX2</td>\n",
       "      <td>SIX2</td>\n",
       "    </tr>\n",
       "    <tr>\n",
       "      <th>126</th>\n",
       "      <td>SIX2</td>\n",
       "      <td>SIX2</td>\n",
       "      <td>chr1:3400044-3400224</td>\n",
       "      <td>0.212370</td>\n",
       "      <td>SIX2</td>\n",
       "      <td>SIX2</td>\n",
       "    </tr>\n",
       "    <tr>\n",
       "      <th>306</th>\n",
       "      <td>HOXA13</td>\n",
       "      <td>HOXA13</td>\n",
       "      <td>chr1:3495185-3495539</td>\n",
       "      <td>0.443424</td>\n",
       "      <td>HOXA13</td>\n",
       "      <td>HOXA13</td>\n",
       "    </tr>\n",
       "    <tr>\n",
       "      <th>432</th>\n",
       "      <td>SMAD4</td>\n",
       "      <td>SMAD4</td>\n",
       "      <td>chr1:3584028-3584333</td>\n",
       "      <td>0.253329</td>\n",
       "      <td>SMAD4</td>\n",
       "      <td>SMAD4</td>\n",
       "    </tr>\n",
       "    <tr>\n",
       "      <th>...</th>\n",
       "      <td>...</td>\n",
       "      <td>...</td>\n",
       "      <td>...</td>\n",
       "      <td>...</td>\n",
       "      <td>...</td>\n",
       "      <td>...</td>\n",
       "    </tr>\n",
       "    <tr>\n",
       "      <th>9233563</th>\n",
       "      <td>CTCF</td>\n",
       "      <td>CTCF</td>\n",
       "      <td>chrY:90839467-90840036</td>\n",
       "      <td>0.071215</td>\n",
       "      <td>CTCF</td>\n",
       "      <td>CTCF</td>\n",
       "    </tr>\n",
       "    <tr>\n",
       "      <th>9233638</th>\n",
       "      <td>CTCF</td>\n",
       "      <td>CTCF</td>\n",
       "      <td>chrY:90839518-90840074</td>\n",
       "      <td>0.071215</td>\n",
       "      <td>CTCF</td>\n",
       "      <td>CTCF</td>\n",
       "    </tr>\n",
       "    <tr>\n",
       "      <th>9233713</th>\n",
       "      <td>CTCF</td>\n",
       "      <td>CTCF</td>\n",
       "      <td>chrY:90839526-90840044</td>\n",
       "      <td>0.071215</td>\n",
       "      <td>CTCF</td>\n",
       "      <td>CTCF</td>\n",
       "    </tr>\n",
       "    <tr>\n",
       "      <th>9233793</th>\n",
       "      <td>CTCF</td>\n",
       "      <td>CTCF</td>\n",
       "      <td>chrY:90839540-90840122</td>\n",
       "      <td>0.071215</td>\n",
       "      <td>CTCF</td>\n",
       "      <td>CTCF</td>\n",
       "    </tr>\n",
       "    <tr>\n",
       "      <th>9233861</th>\n",
       "      <td>CTCF</td>\n",
       "      <td>CTCF</td>\n",
       "      <td>chrY:90839635-90840106</td>\n",
       "      <td>0.071215</td>\n",
       "      <td>CTCF</td>\n",
       "      <td>CTCF</td>\n",
       "    </tr>\n",
       "  </tbody>\n",
       "</table>\n",
       "<p>155450 rows × 6 columns</p>\n",
       "</div>"
      ],
      "text/plain": [
       "        chip_gene homer_gene                 peak_id  homer_binding_score  \\\n",
       "59           SIX2       SIX2    chr1:3117059-3117236             0.212370   \n",
       "88           SIX2       SIX2    chr1:3372710-3372882             0.212370   \n",
       "126          SIX2       SIX2    chr1:3400044-3400224             0.212370   \n",
       "306        HOXA13     HOXA13    chr1:3495185-3495539             0.443424   \n",
       "432         SMAD4      SMAD4    chr1:3584028-3584333             0.253329   \n",
       "...           ...        ...                     ...                  ...   \n",
       "9233563      CTCF       CTCF  chrY:90839467-90840036             0.071215   \n",
       "9233638      CTCF       CTCF  chrY:90839518-90840074             0.071215   \n",
       "9233713      CTCF       CTCF  chrY:90839526-90840044             0.071215   \n",
       "9233793      CTCF       CTCF  chrY:90839540-90840122             0.071215   \n",
       "9233861      CTCF       CTCF  chrY:90839635-90840106             0.071215   \n",
       "\n",
       "        chip_gene_norm homer_gene_norm  \n",
       "59                SIX2            SIX2  \n",
       "88                SIX2            SIX2  \n",
       "126               SIX2            SIX2  \n",
       "306             HOXA13          HOXA13  \n",
       "432              SMAD4           SMAD4  \n",
       "...                ...             ...  \n",
       "9233563           CTCF            CTCF  \n",
       "9233638           CTCF            CTCF  \n",
       "9233713           CTCF            CTCF  \n",
       "9233793           CTCF            CTCF  \n",
       "9233861           CTCF            CTCF  \n",
       "\n",
       "[155450 rows x 6 columns]"
      ]
     },
     "execution_count": 35,
     "metadata": {},
     "output_type": "execute_result"
    }
   ],
   "source": [
    "correct_predictions"
   ]
  },
  {
   "cell_type": "markdown",
   "id": "32be2e9e",
   "metadata": {},
   "source": [
    "Now that we have split the predictions by correct / incorrect TF to peak binding, we can find the average Homer binding scores when the TF binding is correct vs incorrect"
   ]
  },
  {
   "cell_type": "code",
   "execution_count": 13,
   "id": "622a11d8",
   "metadata": {},
   "outputs": [
    {
     "ename": "KeyError",
     "evalue": "\"['homer_gene_norm', 'chip_gene_norm'] not found in axis\"",
     "output_type": "error",
     "traceback": [
      "\u001b[0;31m---------------------------------------------------------------------------\u001b[0m",
      "\u001b[0;31mKeyError\u001b[0m                                  Traceback (most recent call last)",
      "Cell \u001b[0;32mIn[13], line 10\u001b[0m\n\u001b[1;32m      7\u001b[0m     df \u001b[38;5;241m=\u001b[39m df\u001b[38;5;241m.\u001b[39msort_values([\u001b[38;5;124m'\u001b[39m\u001b[38;5;124mhomer_binding_score_mean\u001b[39m\u001b[38;5;124m'\u001b[39m], ascending\u001b[38;5;241m=\u001b[39m[\u001b[38;5;28;01mFalse\u001b[39;00m])\n\u001b[1;32m      8\u001b[0m     \u001b[38;5;28;01mreturn\u001b[39;00m df\n\u001b[0;32m---> 10\u001b[0m correct_prediction_scores \u001b[38;5;241m=\u001b[39m \u001b[43mclean_data\u001b[49m\u001b[43m(\u001b[49m\u001b[43mcorrect_predictions\u001b[49m\u001b[38;5;241;43m.\u001b[39;49m\u001b[43mcopy\u001b[49m\u001b[43m(\u001b[49m\u001b[43m)\u001b[49m\u001b[43m)\u001b[49m\n\u001b[1;32m     11\u001b[0m correct_prediction_scores \u001b[38;5;241m=\u001b[39m correct_prediction_scores\u001b[38;5;241m.\u001b[39mrename(columns\u001b[38;5;241m=\u001b[39m{\n\u001b[1;32m     12\u001b[0m     \u001b[38;5;124m\"\u001b[39m\u001b[38;5;124mhomer_binding_score_mean\u001b[39m\u001b[38;5;124m\"\u001b[39m:\u001b[38;5;124m\"\u001b[39m\u001b[38;5;124mCorrect TF Binding Prediction\u001b[39m\u001b[38;5;124m\"\u001b[39m\n\u001b[1;32m     13\u001b[0m })\n\u001b[1;32m     14\u001b[0m correct_prediction_scores\u001b[38;5;241m.\u001b[39mhead()\n",
      "Cell \u001b[0;32mIn[13], line 3\u001b[0m, in \u001b[0;36mclean_data\u001b[0;34m(df)\u001b[0m\n\u001b[1;32m      1\u001b[0m \u001b[38;5;28;01mdef\u001b[39;00m\u001b[38;5;250m \u001b[39m\u001b[38;5;21mclean_data\u001b[39m(df):\n\u001b[1;32m      2\u001b[0m     \u001b[38;5;66;03m# Drop columns: 'homer_gene_norm', 'chip_gene_norm'\u001b[39;00m\n\u001b[0;32m----> 3\u001b[0m     df \u001b[38;5;241m=\u001b[39m \u001b[43mdf\u001b[49m\u001b[38;5;241;43m.\u001b[39;49m\u001b[43mdrop\u001b[49m\u001b[43m(\u001b[49m\u001b[43mcolumns\u001b[49m\u001b[38;5;241;43m=\u001b[39;49m\u001b[43m[\u001b[49m\u001b[38;5;124;43m'\u001b[39;49m\u001b[38;5;124;43mhomer_gene_norm\u001b[39;49m\u001b[38;5;124;43m'\u001b[39;49m\u001b[43m,\u001b[49m\u001b[43m \u001b[49m\u001b[38;5;124;43m'\u001b[39;49m\u001b[38;5;124;43mchip_gene_norm\u001b[39;49m\u001b[38;5;124;43m'\u001b[39;49m\u001b[43m]\u001b[49m\u001b[43m)\u001b[49m\n\u001b[1;32m      4\u001b[0m     \u001b[38;5;66;03m# Performed 1 aggregation grouped on column: 'chip_gene'\u001b[39;00m\n\u001b[1;32m      5\u001b[0m     df \u001b[38;5;241m=\u001b[39m df\u001b[38;5;241m.\u001b[39mgroupby([\u001b[38;5;124m'\u001b[39m\u001b[38;5;124mchip_gene\u001b[39m\u001b[38;5;124m'\u001b[39m])\u001b[38;5;241m.\u001b[39magg(homer_binding_score_mean\u001b[38;5;241m=\u001b[39m(\u001b[38;5;124m'\u001b[39m\u001b[38;5;124mhomer_binding_score\u001b[39m\u001b[38;5;124m'\u001b[39m, \u001b[38;5;124m'\u001b[39m\u001b[38;5;124mmean\u001b[39m\u001b[38;5;124m'\u001b[39m))\u001b[38;5;241m.\u001b[39mreset_index()\n",
      "File \u001b[0;32m~/.conda/envs/my_env/lib/python3.9/site-packages/pandas/core/frame.py:5588\u001b[0m, in \u001b[0;36mDataFrame.drop\u001b[0;34m(self, labels, axis, index, columns, level, inplace, errors)\u001b[0m\n\u001b[1;32m   5440\u001b[0m \u001b[38;5;28;01mdef\u001b[39;00m\u001b[38;5;250m \u001b[39m\u001b[38;5;21mdrop\u001b[39m(\n\u001b[1;32m   5441\u001b[0m     \u001b[38;5;28mself\u001b[39m,\n\u001b[1;32m   5442\u001b[0m     labels: IndexLabel \u001b[38;5;241m|\u001b[39m \u001b[38;5;28;01mNone\u001b[39;00m \u001b[38;5;241m=\u001b[39m \u001b[38;5;28;01mNone\u001b[39;00m,\n\u001b[0;32m   (...)\u001b[0m\n\u001b[1;32m   5449\u001b[0m     errors: IgnoreRaise \u001b[38;5;241m=\u001b[39m \u001b[38;5;124m\"\u001b[39m\u001b[38;5;124mraise\u001b[39m\u001b[38;5;124m\"\u001b[39m,\n\u001b[1;32m   5450\u001b[0m ) \u001b[38;5;241m-\u001b[39m\u001b[38;5;241m>\u001b[39m DataFrame \u001b[38;5;241m|\u001b[39m \u001b[38;5;28;01mNone\u001b[39;00m:\n\u001b[1;32m   5451\u001b[0m \u001b[38;5;250m    \u001b[39m\u001b[38;5;124;03m\"\"\"\u001b[39;00m\n\u001b[1;32m   5452\u001b[0m \u001b[38;5;124;03m    Drop specified labels from rows or columns.\u001b[39;00m\n\u001b[1;32m   5453\u001b[0m \n\u001b[0;32m   (...)\u001b[0m\n\u001b[1;32m   5586\u001b[0m \u001b[38;5;124;03m            weight  1.0     0.8\u001b[39;00m\n\u001b[1;32m   5587\u001b[0m \u001b[38;5;124;03m    \"\"\"\u001b[39;00m\n\u001b[0;32m-> 5588\u001b[0m     \u001b[38;5;28;01mreturn\u001b[39;00m \u001b[38;5;28;43msuper\u001b[39;49m\u001b[43m(\u001b[49m\u001b[43m)\u001b[49m\u001b[38;5;241;43m.\u001b[39;49m\u001b[43mdrop\u001b[49m\u001b[43m(\u001b[49m\n\u001b[1;32m   5589\u001b[0m \u001b[43m        \u001b[49m\u001b[43mlabels\u001b[49m\u001b[38;5;241;43m=\u001b[39;49m\u001b[43mlabels\u001b[49m\u001b[43m,\u001b[49m\n\u001b[1;32m   5590\u001b[0m \u001b[43m        \u001b[49m\u001b[43maxis\u001b[49m\u001b[38;5;241;43m=\u001b[39;49m\u001b[43maxis\u001b[49m\u001b[43m,\u001b[49m\n\u001b[1;32m   5591\u001b[0m \u001b[43m        \u001b[49m\u001b[43mindex\u001b[49m\u001b[38;5;241;43m=\u001b[39;49m\u001b[43mindex\u001b[49m\u001b[43m,\u001b[49m\n\u001b[1;32m   5592\u001b[0m \u001b[43m        \u001b[49m\u001b[43mcolumns\u001b[49m\u001b[38;5;241;43m=\u001b[39;49m\u001b[43mcolumns\u001b[49m\u001b[43m,\u001b[49m\n\u001b[1;32m   5593\u001b[0m \u001b[43m        \u001b[49m\u001b[43mlevel\u001b[49m\u001b[38;5;241;43m=\u001b[39;49m\u001b[43mlevel\u001b[49m\u001b[43m,\u001b[49m\n\u001b[1;32m   5594\u001b[0m \u001b[43m        \u001b[49m\u001b[43minplace\u001b[49m\u001b[38;5;241;43m=\u001b[39;49m\u001b[43minplace\u001b[49m\u001b[43m,\u001b[49m\n\u001b[1;32m   5595\u001b[0m \u001b[43m        \u001b[49m\u001b[43merrors\u001b[49m\u001b[38;5;241;43m=\u001b[39;49m\u001b[43merrors\u001b[49m\u001b[43m,\u001b[49m\n\u001b[1;32m   5596\u001b[0m \u001b[43m    \u001b[49m\u001b[43m)\u001b[49m\n",
      "File \u001b[0;32m~/.conda/envs/my_env/lib/python3.9/site-packages/pandas/core/generic.py:4807\u001b[0m, in \u001b[0;36mNDFrame.drop\u001b[0;34m(self, labels, axis, index, columns, level, inplace, errors)\u001b[0m\n\u001b[1;32m   4805\u001b[0m \u001b[38;5;28;01mfor\u001b[39;00m axis, labels \u001b[38;5;129;01min\u001b[39;00m axes\u001b[38;5;241m.\u001b[39mitems():\n\u001b[1;32m   4806\u001b[0m     \u001b[38;5;28;01mif\u001b[39;00m labels \u001b[38;5;129;01mis\u001b[39;00m \u001b[38;5;129;01mnot\u001b[39;00m \u001b[38;5;28;01mNone\u001b[39;00m:\n\u001b[0;32m-> 4807\u001b[0m         obj \u001b[38;5;241m=\u001b[39m \u001b[43mobj\u001b[49m\u001b[38;5;241;43m.\u001b[39;49m\u001b[43m_drop_axis\u001b[49m\u001b[43m(\u001b[49m\u001b[43mlabels\u001b[49m\u001b[43m,\u001b[49m\u001b[43m \u001b[49m\u001b[43maxis\u001b[49m\u001b[43m,\u001b[49m\u001b[43m \u001b[49m\u001b[43mlevel\u001b[49m\u001b[38;5;241;43m=\u001b[39;49m\u001b[43mlevel\u001b[49m\u001b[43m,\u001b[49m\u001b[43m \u001b[49m\u001b[43merrors\u001b[49m\u001b[38;5;241;43m=\u001b[39;49m\u001b[43merrors\u001b[49m\u001b[43m)\u001b[49m\n\u001b[1;32m   4809\u001b[0m \u001b[38;5;28;01mif\u001b[39;00m inplace:\n\u001b[1;32m   4810\u001b[0m     \u001b[38;5;28mself\u001b[39m\u001b[38;5;241m.\u001b[39m_update_inplace(obj)\n",
      "File \u001b[0;32m~/.conda/envs/my_env/lib/python3.9/site-packages/pandas/core/generic.py:4849\u001b[0m, in \u001b[0;36mNDFrame._drop_axis\u001b[0;34m(self, labels, axis, level, errors, only_slice)\u001b[0m\n\u001b[1;32m   4847\u001b[0m         new_axis \u001b[38;5;241m=\u001b[39m axis\u001b[38;5;241m.\u001b[39mdrop(labels, level\u001b[38;5;241m=\u001b[39mlevel, errors\u001b[38;5;241m=\u001b[39merrors)\n\u001b[1;32m   4848\u001b[0m     \u001b[38;5;28;01melse\u001b[39;00m:\n\u001b[0;32m-> 4849\u001b[0m         new_axis \u001b[38;5;241m=\u001b[39m \u001b[43maxis\u001b[49m\u001b[38;5;241;43m.\u001b[39;49m\u001b[43mdrop\u001b[49m\u001b[43m(\u001b[49m\u001b[43mlabels\u001b[49m\u001b[43m,\u001b[49m\u001b[43m \u001b[49m\u001b[43merrors\u001b[49m\u001b[38;5;241;43m=\u001b[39;49m\u001b[43merrors\u001b[49m\u001b[43m)\u001b[49m\n\u001b[1;32m   4850\u001b[0m     indexer \u001b[38;5;241m=\u001b[39m axis\u001b[38;5;241m.\u001b[39mget_indexer(new_axis)\n\u001b[1;32m   4852\u001b[0m \u001b[38;5;66;03m# Case for non-unique axis\u001b[39;00m\n\u001b[1;32m   4853\u001b[0m \u001b[38;5;28;01melse\u001b[39;00m:\n",
      "File \u001b[0;32m~/.conda/envs/my_env/lib/python3.9/site-packages/pandas/core/indexes/base.py:7098\u001b[0m, in \u001b[0;36mIndex.drop\u001b[0;34m(self, labels, errors)\u001b[0m\n\u001b[1;32m   7096\u001b[0m \u001b[38;5;28;01mif\u001b[39;00m mask\u001b[38;5;241m.\u001b[39many():\n\u001b[1;32m   7097\u001b[0m     \u001b[38;5;28;01mif\u001b[39;00m errors \u001b[38;5;241m!=\u001b[39m \u001b[38;5;124m\"\u001b[39m\u001b[38;5;124mignore\u001b[39m\u001b[38;5;124m\"\u001b[39m:\n\u001b[0;32m-> 7098\u001b[0m         \u001b[38;5;28;01mraise\u001b[39;00m \u001b[38;5;167;01mKeyError\u001b[39;00m(\u001b[38;5;124mf\u001b[39m\u001b[38;5;124m\"\u001b[39m\u001b[38;5;132;01m{\u001b[39;00mlabels[mask]\u001b[38;5;241m.\u001b[39mtolist()\u001b[38;5;132;01m}\u001b[39;00m\u001b[38;5;124m not found in axis\u001b[39m\u001b[38;5;124m\"\u001b[39m)\n\u001b[1;32m   7099\u001b[0m     indexer \u001b[38;5;241m=\u001b[39m indexer[\u001b[38;5;241m~\u001b[39mmask]\n\u001b[1;32m   7100\u001b[0m \u001b[38;5;28;01mreturn\u001b[39;00m \u001b[38;5;28mself\u001b[39m\u001b[38;5;241m.\u001b[39mdelete(indexer)\n",
      "\u001b[0;31mKeyError\u001b[0m: \"['homer_gene_norm', 'chip_gene_norm'] not found in axis\""
     ]
    }
   ],
   "source": [
    "def clean_data(df):\n",
    "    # Drop columns: 'homer_gene_norm', 'chip_gene_norm'\n",
    "    df = df.drop(columns=['homer_gene_norm', 'chip_gene_norm'])\n",
    "    # Performed 1 aggregation grouped on column: 'chip_gene'\n",
    "    df = df.groupby(['chip_gene']).agg(homer_binding_score_mean=('homer_binding_score', 'mean')).reset_index()\n",
    "    # Sort by column: 'homer_binding_score_mean' (descending)\n",
    "    df = df.sort_values(['homer_binding_score_mean'], ascending=[False])\n",
    "    return df\n",
    "\n",
    "correct_prediction_scores = clean_data(correct_predictions.copy())\n",
    "correct_prediction_scores = correct_prediction_scores.rename(columns={\n",
    "    \"homer_binding_score_mean\":\"Correct TF Binding Prediction\"\n",
    "})\n",
    "correct_prediction_scores.head()"
   ]
  },
  {
   "cell_type": "code",
   "execution_count": null,
   "id": "c31c7d36",
   "metadata": {},
   "outputs": [
    {
     "data": {
      "application/vnd.microsoft.datawrangler.viewer.v0+json": {
       "columns": [
        {
         "name": "index",
         "rawType": "int64",
         "type": "integer"
        },
        {
         "name": "chip_gene",
         "rawType": "object",
         "type": "string"
        },
        {
         "name": "Incorrect TF Binding Prediction",
         "rawType": "float64",
         "type": "float"
        }
       ],
       "ref": "3b20eba0-0276-41fb-8ae0-6e693c6e0059",
       "rows": [
        [
         "10",
         "HNF1B",
         "0.3845178879904767"
        ],
        [
         "5",
         "FLI1",
         "0.37824531352800095"
        ],
        [
         "8",
         "FOXL2",
         "0.3642430626763068"
        ],
        [
         "3",
         "DLX1",
         "0.3599071967701038"
        ],
        [
         "17",
         "JUND",
         "0.3572431380773054"
        ]
       ],
       "shape": {
        "columns": 2,
        "rows": 5
       }
      },
      "text/html": [
       "<div>\n",
       "<style scoped>\n",
       "    .dataframe tbody tr th:only-of-type {\n",
       "        vertical-align: middle;\n",
       "    }\n",
       "\n",
       "    .dataframe tbody tr th {\n",
       "        vertical-align: top;\n",
       "    }\n",
       "\n",
       "    .dataframe thead th {\n",
       "        text-align: right;\n",
       "    }\n",
       "</style>\n",
       "<table border=\"1\" class=\"dataframe\">\n",
       "  <thead>\n",
       "    <tr style=\"text-align: right;\">\n",
       "      <th></th>\n",
       "      <th>chip_gene</th>\n",
       "      <th>Incorrect TF Binding Prediction</th>\n",
       "    </tr>\n",
       "  </thead>\n",
       "  <tbody>\n",
       "    <tr>\n",
       "      <th>10</th>\n",
       "      <td>HNF1B</td>\n",
       "      <td>0.384518</td>\n",
       "    </tr>\n",
       "    <tr>\n",
       "      <th>5</th>\n",
       "      <td>FLI1</td>\n",
       "      <td>0.378245</td>\n",
       "    </tr>\n",
       "    <tr>\n",
       "      <th>8</th>\n",
       "      <td>FOXL2</td>\n",
       "      <td>0.364243</td>\n",
       "    </tr>\n",
       "    <tr>\n",
       "      <th>3</th>\n",
       "      <td>DLX1</td>\n",
       "      <td>0.359907</td>\n",
       "    </tr>\n",
       "    <tr>\n",
       "      <th>17</th>\n",
       "      <td>JUND</td>\n",
       "      <td>0.357243</td>\n",
       "    </tr>\n",
       "  </tbody>\n",
       "</table>\n",
       "</div>"
      ],
      "text/plain": [
       "   chip_gene  Incorrect TF Binding Prediction\n",
       "10     HNF1B                         0.384518\n",
       "5       FLI1                         0.378245\n",
       "8      FOXL2                         0.364243\n",
       "3       DLX1                         0.359907\n",
       "17      JUND                         0.357243"
      ]
     },
     "execution_count": 45,
     "metadata": {},
     "output_type": "execute_result"
    }
   ],
   "source": [
    "incorrect_prediction_scores = clean_data(incorrect_predictions.copy())\n",
    "incorrect_prediction_scores = incorrect_prediction_scores.rename(columns={\n",
    "    \"homer_binding_score_mean\":\"Incorrect TF Binding Prediction\"\n",
    "})\n",
    "incorrect_prediction_scores.head()"
   ]
  },
  {
   "cell_type": "markdown",
   "id": "a52b995d",
   "metadata": {},
   "source": [
    "Now that we have extracted the correct and incorrect scores, we will merge them to create a new dataframe containing just the correct and incorrect scores."
   ]
  },
  {
   "cell_type": "code",
   "execution_count": null,
   "id": "5dc7b163",
   "metadata": {},
   "outputs": [
    {
     "data": {
      "application/vnd.microsoft.datawrangler.viewer.v0+json": {
       "columns": [
        {
         "name": "index",
         "rawType": "int64",
         "type": "integer"
        },
        {
         "name": "chip_gene",
         "rawType": "object",
         "type": "string"
        },
        {
         "name": "Correct TF Binding Prediction",
         "rawType": "float64",
         "type": "float"
        },
        {
         "name": "Incorrect TF Binding Prediction",
         "rawType": "float64",
         "type": "float"
        }
       ],
       "ref": "61ea60ef-1808-4548-ac04-ff2e80c109fd",
       "rows": [
        [
         "0",
         "ASCL1",
         "0.2290142357403693",
         "0.27727121456353376"
        ],
        [
         "1",
         "CDX2",
         "0.5080335281993791",
         "0.2943953866921876"
        ],
        [
         "2",
         "CTCF",
         "0.07776430159283632",
         "0.2684978262372722"
        ],
        [
         "3",
         "DLX1",
         "0.212262764029476",
         "0.3599071967701038"
        ],
        [
         "4",
         "EBF1",
         "0.39586712905482957",
         "0.3027237177428389"
        ],
        [
         "5",
         "FLI1",
         "0.35326771872348245",
         "0.37824531352800095"
        ],
        [
         "6",
         "FOSL2",
         "0.8278378139148802",
         "0.35073090289903325"
        ],
        [
         "7",
         "FOXA2",
         "0.40054376714776596",
         "0.3002218483995283"
        ],
        [
         "8",
         "FOXL2",
         "0.2459368381251795",
         "0.3642430626763068"
        ],
        [
         "9",
         "HAND2",
         "0.669219246673882",
         "0.27351943632503034"
        ],
        [
         "10",
         "HNF1B",
         "1.0",
         "0.3845178879904767"
        ],
        [
         "11",
         "HNF4A",
         "0.7119873506107827",
         "0.2744051661484573"
        ],
        [
         "12",
         "HOXA11",
         "0.16940312404222124",
         "0.3009712371148296"
        ],
        [
         "13",
         "HOXA13",
         "0.23722311700601567",
         "0.335177306851646"
        ],
        [
         "14",
         "HOXC10",
         "0.2518699349770343",
         "0.3056454677877372"
        ],
        [
         "15",
         "HOXD13",
         "0.2706856901242751",
         "0.3066763912778683"
        ],
        [
         "16",
         "ISL1",
         "0.13918447279240118",
         "0.2972902297440967"
        ],
        [
         "17",
         "JUND",
         "1.0",
         "0.3572431380773054"
        ],
        [
         "18",
         "KLF1",
         "0.3705281838386357",
         "0.3053627809385202"
        ],
        [
         "19",
         "LEF1",
         "0.5550598533536222",
         "0.3031961635551945"
        ],
        [
         "20",
         "LHX6",
         "0.3047018169435948",
         "0.2991409352698928"
        ],
        [
         "21",
         "MEIS1",
         "0.19617075317771532",
         "0.31362421771766996"
        ],
        [
         "22",
         "MYB",
         "0.14032257987849361",
         "0.26673047610699263"
        ],
        [
         "23",
         "NEUROD1",
         "0.18726571754000612",
         "0.34066135995766345"
        ],
        [
         "24",
         "NEUROG2",
         "0.22340486614889146",
         "0.3009332388179872"
        ],
        [
         "25",
         "NRF1",
         "0.9202670590747043",
         "0.3322698832422444"
        ],
        [
         "26",
         "OLIG2",
         "0.11932734996798312",
         "0.29009044505171466"
        ],
        [
         "27",
         "PAX5",
         "0.7344969701401537",
         "0.2828822009813449"
        ],
        [
         "28",
         "PAX6",
         "1.0",
         "0.29263436155868255"
        ],
        [
         "29",
         "PBX1",
         "1.0",
         "0.3317773235728274"
        ],
        [
         "30",
         "PITX1",
         "0.9872108123841085",
         "0.2930497881152797"
        ],
        [
         "31",
         "PKNOX1",
         "1.0",
         "0.299119469362679"
        ],
        [
         "32",
         "PTF1A",
         "0.07966325322371101",
         "0.26965431054981226"
        ],
        [
         "33",
         "RBPJ",
         "0.8973734654828789",
         "0.2723574340351721"
        ],
        [
         "34",
         "RFX1",
         "0.938968027023642",
         "0.318476760926408"
        ],
        [
         "35",
         "RFX2",
         "0.9974204885421164",
         "0.3376517823804576"
        ],
        [
         "36",
         "RUNX1",
         "0.25130008957184435",
         "0.31937317872399706"
        ],
        [
         "37",
         "SIX1",
         "0.8282293159229793",
         "0.2832232580019725"
        ],
        [
         "38",
         "SIX2",
         "0.2888633714818336",
         "0.28618431217338797"
        ],
        [
         "39",
         "SMAD3",
         "0.05654628998755178",
         "0.3152328069233722"
        ],
        [
         "40",
         "SMAD4",
         "0.1657430575271754",
         "0.30377857177998735"
        ],
        [
         "41",
         "SOX10",
         "0.23147070714535867",
         "0.3025011348207075"
        ],
        [
         "42",
         "SOX9",
         "0.3911845934525496",
         "0.3189731370399423"
        ],
        [
         "43",
         "SP1",
         "0.6844173404545679",
         "0.3265210536428041"
        ],
        [
         "44",
         "TBR1",
         "0.2631919473250246",
         "0.25287543235811577"
        ],
        [
         "45",
         "TBX5",
         "0.07148872092397768",
         "0.293965178328803"
        ],
        [
         "46",
         "TCF12",
         "0.4262401027532454",
         "0.3262262140872723"
        ],
        [
         "47",
         "TCF3",
         null,
         "0.34104532592589365"
        ],
        [
         "48",
         "TCF7",
         "0.9188198922790304",
         "0.30608326471169767"
        ],
        [
         "49",
         "WT1",
         "0.47711771767359085",
         "0.2768241646659561"
        ]
       ],
       "shape": {
        "columns": 3,
        "rows": 50
       }
      },
      "text/html": [
       "<div>\n",
       "<style scoped>\n",
       "    .dataframe tbody tr th:only-of-type {\n",
       "        vertical-align: middle;\n",
       "    }\n",
       "\n",
       "    .dataframe tbody tr th {\n",
       "        vertical-align: top;\n",
       "    }\n",
       "\n",
       "    .dataframe thead th {\n",
       "        text-align: right;\n",
       "    }\n",
       "</style>\n",
       "<table border=\"1\" class=\"dataframe\">\n",
       "  <thead>\n",
       "    <tr style=\"text-align: right;\">\n",
       "      <th></th>\n",
       "      <th>chip_gene</th>\n",
       "      <th>Correct TF Binding Prediction</th>\n",
       "      <th>Incorrect TF Binding Prediction</th>\n",
       "    </tr>\n",
       "  </thead>\n",
       "  <tbody>\n",
       "    <tr>\n",
       "      <th>0</th>\n",
       "      <td>ASCL1</td>\n",
       "      <td>0.229014</td>\n",
       "      <td>0.277271</td>\n",
       "    </tr>\n",
       "    <tr>\n",
       "      <th>1</th>\n",
       "      <td>CDX2</td>\n",
       "      <td>0.508034</td>\n",
       "      <td>0.294395</td>\n",
       "    </tr>\n",
       "    <tr>\n",
       "      <th>2</th>\n",
       "      <td>CTCF</td>\n",
       "      <td>0.077764</td>\n",
       "      <td>0.268498</td>\n",
       "    </tr>\n",
       "    <tr>\n",
       "      <th>3</th>\n",
       "      <td>DLX1</td>\n",
       "      <td>0.212263</td>\n",
       "      <td>0.359907</td>\n",
       "    </tr>\n",
       "    <tr>\n",
       "      <th>4</th>\n",
       "      <td>EBF1</td>\n",
       "      <td>0.395867</td>\n",
       "      <td>0.302724</td>\n",
       "    </tr>\n",
       "    <tr>\n",
       "      <th>5</th>\n",
       "      <td>FLI1</td>\n",
       "      <td>0.353268</td>\n",
       "      <td>0.378245</td>\n",
       "    </tr>\n",
       "    <tr>\n",
       "      <th>6</th>\n",
       "      <td>FOSL2</td>\n",
       "      <td>0.827838</td>\n",
       "      <td>0.350731</td>\n",
       "    </tr>\n",
       "    <tr>\n",
       "      <th>7</th>\n",
       "      <td>FOXA2</td>\n",
       "      <td>0.400544</td>\n",
       "      <td>0.300222</td>\n",
       "    </tr>\n",
       "    <tr>\n",
       "      <th>8</th>\n",
       "      <td>FOXL2</td>\n",
       "      <td>0.245937</td>\n",
       "      <td>0.364243</td>\n",
       "    </tr>\n",
       "    <tr>\n",
       "      <th>9</th>\n",
       "      <td>HAND2</td>\n",
       "      <td>0.669219</td>\n",
       "      <td>0.273519</td>\n",
       "    </tr>\n",
       "    <tr>\n",
       "      <th>10</th>\n",
       "      <td>HNF1B</td>\n",
       "      <td>1.000000</td>\n",
       "      <td>0.384518</td>\n",
       "    </tr>\n",
       "    <tr>\n",
       "      <th>11</th>\n",
       "      <td>HNF4A</td>\n",
       "      <td>0.711987</td>\n",
       "      <td>0.274405</td>\n",
       "    </tr>\n",
       "    <tr>\n",
       "      <th>12</th>\n",
       "      <td>HOXA11</td>\n",
       "      <td>0.169403</td>\n",
       "      <td>0.300971</td>\n",
       "    </tr>\n",
       "    <tr>\n",
       "      <th>13</th>\n",
       "      <td>HOXA13</td>\n",
       "      <td>0.237223</td>\n",
       "      <td>0.335177</td>\n",
       "    </tr>\n",
       "    <tr>\n",
       "      <th>14</th>\n",
       "      <td>HOXC10</td>\n",
       "      <td>0.251870</td>\n",
       "      <td>0.305645</td>\n",
       "    </tr>\n",
       "    <tr>\n",
       "      <th>15</th>\n",
       "      <td>HOXD13</td>\n",
       "      <td>0.270686</td>\n",
       "      <td>0.306676</td>\n",
       "    </tr>\n",
       "    <tr>\n",
       "      <th>16</th>\n",
       "      <td>ISL1</td>\n",
       "      <td>0.139184</td>\n",
       "      <td>0.297290</td>\n",
       "    </tr>\n",
       "    <tr>\n",
       "      <th>17</th>\n",
       "      <td>JUND</td>\n",
       "      <td>1.000000</td>\n",
       "      <td>0.357243</td>\n",
       "    </tr>\n",
       "    <tr>\n",
       "      <th>18</th>\n",
       "      <td>KLF1</td>\n",
       "      <td>0.370528</td>\n",
       "      <td>0.305363</td>\n",
       "    </tr>\n",
       "    <tr>\n",
       "      <th>19</th>\n",
       "      <td>LEF1</td>\n",
       "      <td>0.555060</td>\n",
       "      <td>0.303196</td>\n",
       "    </tr>\n",
       "    <tr>\n",
       "      <th>20</th>\n",
       "      <td>LHX6</td>\n",
       "      <td>0.304702</td>\n",
       "      <td>0.299141</td>\n",
       "    </tr>\n",
       "    <tr>\n",
       "      <th>21</th>\n",
       "      <td>MEIS1</td>\n",
       "      <td>0.196171</td>\n",
       "      <td>0.313624</td>\n",
       "    </tr>\n",
       "    <tr>\n",
       "      <th>22</th>\n",
       "      <td>MYB</td>\n",
       "      <td>0.140323</td>\n",
       "      <td>0.266730</td>\n",
       "    </tr>\n",
       "    <tr>\n",
       "      <th>23</th>\n",
       "      <td>NEUROD1</td>\n",
       "      <td>0.187266</td>\n",
       "      <td>0.340661</td>\n",
       "    </tr>\n",
       "    <tr>\n",
       "      <th>24</th>\n",
       "      <td>NEUROG2</td>\n",
       "      <td>0.223405</td>\n",
       "      <td>0.300933</td>\n",
       "    </tr>\n",
       "    <tr>\n",
       "      <th>25</th>\n",
       "      <td>NRF1</td>\n",
       "      <td>0.920267</td>\n",
       "      <td>0.332270</td>\n",
       "    </tr>\n",
       "    <tr>\n",
       "      <th>26</th>\n",
       "      <td>OLIG2</td>\n",
       "      <td>0.119327</td>\n",
       "      <td>0.290090</td>\n",
       "    </tr>\n",
       "    <tr>\n",
       "      <th>27</th>\n",
       "      <td>PAX5</td>\n",
       "      <td>0.734497</td>\n",
       "      <td>0.282882</td>\n",
       "    </tr>\n",
       "    <tr>\n",
       "      <th>28</th>\n",
       "      <td>PAX6</td>\n",
       "      <td>1.000000</td>\n",
       "      <td>0.292634</td>\n",
       "    </tr>\n",
       "    <tr>\n",
       "      <th>29</th>\n",
       "      <td>PBX1</td>\n",
       "      <td>1.000000</td>\n",
       "      <td>0.331777</td>\n",
       "    </tr>\n",
       "    <tr>\n",
       "      <th>30</th>\n",
       "      <td>PITX1</td>\n",
       "      <td>0.987211</td>\n",
       "      <td>0.293050</td>\n",
       "    </tr>\n",
       "    <tr>\n",
       "      <th>31</th>\n",
       "      <td>PKNOX1</td>\n",
       "      <td>1.000000</td>\n",
       "      <td>0.299119</td>\n",
       "    </tr>\n",
       "    <tr>\n",
       "      <th>32</th>\n",
       "      <td>PTF1A</td>\n",
       "      <td>0.079663</td>\n",
       "      <td>0.269654</td>\n",
       "    </tr>\n",
       "    <tr>\n",
       "      <th>33</th>\n",
       "      <td>RBPJ</td>\n",
       "      <td>0.897373</td>\n",
       "      <td>0.272357</td>\n",
       "    </tr>\n",
       "    <tr>\n",
       "      <th>34</th>\n",
       "      <td>RFX1</td>\n",
       "      <td>0.938968</td>\n",
       "      <td>0.318477</td>\n",
       "    </tr>\n",
       "    <tr>\n",
       "      <th>35</th>\n",
       "      <td>RFX2</td>\n",
       "      <td>0.997420</td>\n",
       "      <td>0.337652</td>\n",
       "    </tr>\n",
       "    <tr>\n",
       "      <th>36</th>\n",
       "      <td>RUNX1</td>\n",
       "      <td>0.251300</td>\n",
       "      <td>0.319373</td>\n",
       "    </tr>\n",
       "    <tr>\n",
       "      <th>37</th>\n",
       "      <td>SIX1</td>\n",
       "      <td>0.828229</td>\n",
       "      <td>0.283223</td>\n",
       "    </tr>\n",
       "    <tr>\n",
       "      <th>38</th>\n",
       "      <td>SIX2</td>\n",
       "      <td>0.288863</td>\n",
       "      <td>0.286184</td>\n",
       "    </tr>\n",
       "    <tr>\n",
       "      <th>39</th>\n",
       "      <td>SMAD3</td>\n",
       "      <td>0.056546</td>\n",
       "      <td>0.315233</td>\n",
       "    </tr>\n",
       "    <tr>\n",
       "      <th>40</th>\n",
       "      <td>SMAD4</td>\n",
       "      <td>0.165743</td>\n",
       "      <td>0.303779</td>\n",
       "    </tr>\n",
       "    <tr>\n",
       "      <th>41</th>\n",
       "      <td>SOX10</td>\n",
       "      <td>0.231471</td>\n",
       "      <td>0.302501</td>\n",
       "    </tr>\n",
       "    <tr>\n",
       "      <th>42</th>\n",
       "      <td>SOX9</td>\n",
       "      <td>0.391185</td>\n",
       "      <td>0.318973</td>\n",
       "    </tr>\n",
       "    <tr>\n",
       "      <th>43</th>\n",
       "      <td>SP1</td>\n",
       "      <td>0.684417</td>\n",
       "      <td>0.326521</td>\n",
       "    </tr>\n",
       "    <tr>\n",
       "      <th>44</th>\n",
       "      <td>TBR1</td>\n",
       "      <td>0.263192</td>\n",
       "      <td>0.252875</td>\n",
       "    </tr>\n",
       "    <tr>\n",
       "      <th>45</th>\n",
       "      <td>TBX5</td>\n",
       "      <td>0.071489</td>\n",
       "      <td>0.293965</td>\n",
       "    </tr>\n",
       "    <tr>\n",
       "      <th>46</th>\n",
       "      <td>TCF12</td>\n",
       "      <td>0.426240</td>\n",
       "      <td>0.326226</td>\n",
       "    </tr>\n",
       "    <tr>\n",
       "      <th>47</th>\n",
       "      <td>TCF3</td>\n",
       "      <td>NaN</td>\n",
       "      <td>0.341045</td>\n",
       "    </tr>\n",
       "    <tr>\n",
       "      <th>48</th>\n",
       "      <td>TCF7</td>\n",
       "      <td>0.918820</td>\n",
       "      <td>0.306083</td>\n",
       "    </tr>\n",
       "    <tr>\n",
       "      <th>49</th>\n",
       "      <td>WT1</td>\n",
       "      <td>0.477118</td>\n",
       "      <td>0.276824</td>\n",
       "    </tr>\n",
       "  </tbody>\n",
       "</table>\n",
       "</div>"
      ],
      "text/plain": [
       "   chip_gene  Correct TF Binding Prediction  Incorrect TF Binding Prediction\n",
       "0      ASCL1                       0.229014                         0.277271\n",
       "1       CDX2                       0.508034                         0.294395\n",
       "2       CTCF                       0.077764                         0.268498\n",
       "3       DLX1                       0.212263                         0.359907\n",
       "4       EBF1                       0.395867                         0.302724\n",
       "5       FLI1                       0.353268                         0.378245\n",
       "6      FOSL2                       0.827838                         0.350731\n",
       "7      FOXA2                       0.400544                         0.300222\n",
       "8      FOXL2                       0.245937                         0.364243\n",
       "9      HAND2                       0.669219                         0.273519\n",
       "10     HNF1B                       1.000000                         0.384518\n",
       "11     HNF4A                       0.711987                         0.274405\n",
       "12    HOXA11                       0.169403                         0.300971\n",
       "13    HOXA13                       0.237223                         0.335177\n",
       "14    HOXC10                       0.251870                         0.305645\n",
       "15    HOXD13                       0.270686                         0.306676\n",
       "16      ISL1                       0.139184                         0.297290\n",
       "17      JUND                       1.000000                         0.357243\n",
       "18      KLF1                       0.370528                         0.305363\n",
       "19      LEF1                       0.555060                         0.303196\n",
       "20      LHX6                       0.304702                         0.299141\n",
       "21     MEIS1                       0.196171                         0.313624\n",
       "22       MYB                       0.140323                         0.266730\n",
       "23   NEUROD1                       0.187266                         0.340661\n",
       "24   NEUROG2                       0.223405                         0.300933\n",
       "25      NRF1                       0.920267                         0.332270\n",
       "26     OLIG2                       0.119327                         0.290090\n",
       "27      PAX5                       0.734497                         0.282882\n",
       "28      PAX6                       1.000000                         0.292634\n",
       "29      PBX1                       1.000000                         0.331777\n",
       "30     PITX1                       0.987211                         0.293050\n",
       "31    PKNOX1                       1.000000                         0.299119\n",
       "32     PTF1A                       0.079663                         0.269654\n",
       "33      RBPJ                       0.897373                         0.272357\n",
       "34      RFX1                       0.938968                         0.318477\n",
       "35      RFX2                       0.997420                         0.337652\n",
       "36     RUNX1                       0.251300                         0.319373\n",
       "37      SIX1                       0.828229                         0.283223\n",
       "38      SIX2                       0.288863                         0.286184\n",
       "39     SMAD3                       0.056546                         0.315233\n",
       "40     SMAD4                       0.165743                         0.303779\n",
       "41     SOX10                       0.231471                         0.302501\n",
       "42      SOX9                       0.391185                         0.318973\n",
       "43       SP1                       0.684417                         0.326521\n",
       "44      TBR1                       0.263192                         0.252875\n",
       "45      TBX5                       0.071489                         0.293965\n",
       "46     TCF12                       0.426240                         0.326226\n",
       "47      TCF3                            NaN                         0.341045\n",
       "48      TCF7                       0.918820                         0.306083\n",
       "49       WT1                       0.477118                         0.276824"
      ]
     },
     "execution_count": 46,
     "metadata": {},
     "output_type": "execute_result"
    }
   ],
   "source": [
    "pred_df = pd.merge(correct_prediction_scores, incorrect_prediction_scores, on=\"chip_gene\", how=\"outer\")\n",
    "pred_df"
   ]
  },
  {
   "cell_type": "code",
   "execution_count": null,
   "id": "0bf78461",
   "metadata": {},
   "outputs": [
    {
     "data": {
      "image/png": "[encoded data removed]",
      "text/plain": [
       "<Figure size 640x480 with 1 Axes>"
      ]
     },
     "metadata": {},
     "output_type": "display_data"
    }
   ],
   "source": [
    "fig = plt.Figure()\n",
    "a = sns.boxplot(data=pred_df, showfliers=False)\n",
    "a.set_ylabel(\"Homer Binding Score\")\n",
    "a.set_title(\"Homer Binding Scores for ChIP-seq TF Binding Predictions\")\n",
    "plt.savefig(os.path.join(output_dir, \"chipseq_homer_boxplot.png\"), dpi=200)"
   ]
  },
  {
   "cell_type": "code",
   "execution_count": null,
   "id": "db974505",
   "metadata": {},
   "outputs": [
    {
     "data": {
      "image/png": "[encoded data removed]",
      "text/plain": [
       "<Figure size 1000x800 with 1 Axes>"
      ]
     },
     "metadata": {},
     "output_type": "display_data"
    }
   ],
   "source": [
    "plt.figure(figsize=(10,8))\n",
    "plt.hist(\n",
    "    pred_df[\"Correct TF Binding Prediction\"],\n",
    "    bins=50,\n",
    "    alpha=0.7,\n",
    "    color='#4195df',\n",
    "    label=\"Correct TF Binding Predictions\"\n",
    ")\n",
    "plt.hist(\n",
    "    pred_df[\"Incorrect TF Binding Prediction\"],\n",
    "    bins=7,\n",
    "    alpha=0.7,\n",
    "    color='#dc8634',\n",
    "    label=\"Incorrect TF Binding Predictions\"\n",
    ")\n",
    "plt.title(\"Homer Binding Scores for ChIP-seq TF Binding Predictions\", fontsize=16)\n",
    "plt.xlabel(\"Homer Binding Score\", fontsize=14)\n",
    "plt.ylabel(\"Frequency\", fontsize=14)\n",
    "plt.xticks(fontsize=12)\n",
    "plt.yticks(fontsize=12)\n",
    "plt.legend(bbox_to_anchor=(1.05, 1), loc='upper left', borderaxespad=0., fontsize=14)\n",
    "plt.savefig(os.path.join(output_dir, \"chipseq_homer_histogram.png\"), dpi=200)"
   ]
  },
  {
   "cell_type": "code",
   "execution_count": 82,
   "id": "f50d170d",
   "metadata": {},
   "outputs": [
    {
     "data": {
      "image/png": "[encoded data removed]",
      "text/plain": [
       "<Figure size 1200x800 with 1 Axes>"
      ]
     },
     "metadata": {},
     "output_type": "display_data"
    }
   ],
   "source": [
    "import matplotlib.pyplot as plt\n",
    "import numpy as np\n",
    "import os\n",
    "\n",
    "# Step 1: Sort by total predictions (optional but helps with visual clarity)\n",
    "pred_df[\"total\"] = pred_df[\"Correct TF Binding Prediction\"] + pred_df[\"Incorrect TF Binding Prediction\"]\n",
    "pred_df = pred_df.sort_values(by=\"total\", ascending=False)\n",
    "\n",
    "# Step 2: Setup positions for grouped bars\n",
    "x = np.arange(len(pred_df))  # numeric x-axis\n",
    "width = 0.4  # width of each bar\n",
    "\n",
    "# Step 3: Plot grouped bars\n",
    "plt.figure(figsize=(12, 8))\n",
    "\n",
    "plt.bar(\n",
    "    x,\n",
    "    pred_df[\"Correct TF Binding Prediction\"],\n",
    "    alpha=0.7,\n",
    "    color='#4195df',\n",
    "    label=\"Correct TF Binding Predictions\"\n",
    ")\n",
    "\n",
    "plt.bar(\n",
    "    x,\n",
    "    pred_df[\"Incorrect TF Binding Prediction\"],\n",
    "    alpha=0.7,\n",
    "    color='#dc8634',\n",
    "    label=\"Incorrect TF Binding Predictions\"\n",
    ")\n",
    "\n",
    "# Step 4: Format\n",
    "plt.title(\"Homer Binding Scores for ChIP-seq TF Binding Predictions\", fontsize=16)\n",
    "plt.xlabel(\"TF (from ChIP-seq)\", fontsize=14)\n",
    "plt.ylabel(\"Prediction Count\", fontsize=14)\n",
    "plt.xticks(ticks=x, labels=pred_df[\"chip_gene\"], rotation=45, ha=\"right\", fontsize=10)\n",
    "plt.yticks(fontsize=12)\n",
    "plt.legend(fontsize=14, loc=\"upper right\")\n",
    "plt.tight_layout()\n",
    "\n",
    "# Step 5: Save\n",
    "plt.savefig(os.path.join(output_dir, \"chipseq_homer_grouped_barplot.png\"), dpi=200)\n",
    "plt.show()\n"
   ]
  }
 ],
 "metadata": {
  "kernelspec": {
   "display_name": "my_env",
   "language": "python",
   "name": "my_env"
  },
  "language_info": {
   "codemirror_mode": {
    "name": "ipython",
    "version": 3
   },
   "file_extension": ".py",
   "mimetype": "text/x-python",
   "name": "python",
   "nbconvert_exporter": "python",
   "pygments_lexer": "ipython3",
   "version": "3.9.18"
  }
 },
 "nbformat": 4,
 "nbformat_minor": 5
}
