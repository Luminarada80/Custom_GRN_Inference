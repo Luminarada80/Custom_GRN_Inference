{
 "cells": [
  {
   "cell_type": "code",
   "execution_count": null,
   "id": "9c51c3ec",
   "metadata": {},
   "outputs": [],
   "source": [
    "import dask.dataframe as dd\n",
    "import pandas as pd\n",
    "import matplotlib.pyplot as plt\n",
    "import numpy as np\n",
    "import os\n",
    "\n",
    "from ...src.python_scripts.dataset import pivot_melted_inferred_network\n",
    "from ...src.python_scripts.plotting import plot_multi_sample_feature_score_histograms\n",
    "\n",
    "output_dir_main = \"/gpfs/Labs/Uzun/SCRIPTS/PROJECTS/2024.SINGLE_CELL_GRN_INFERENCE.MOELLER/output\"\n",
    "ds011_inferred_net_file = os.path.join(output_dir_main, \"DS011_mESC/DS011_mESC_sample1/inferred_grns/inferred_score_df.parquet\")\n",
    "mesc_inferred_net_file = os.path.join(output_dir_main, \"mESC/filtered_L2_E8.0_rep1/inferred_grns/inferred_score_df.parquet\")\n",
    "\n",
    "ds011_melted_ddf = dd.read_parquet(ds011_inferred_net_file, engine=\"pyarrow\")\n",
    "mesc_melted_ddf = dd.read_parquet(mesc_inferred_net_file, engine=\"pyarrow\")"
   ]
  },
  {
   "cell_type": "code",
   "execution_count": null,
   "id": "ef5ef895",
   "metadata": {},
   "outputs": [],
   "source": [
    "print(\"Pivoting melted DS011 dataset\")\n",
    "ds011_wide_ddf = pivot_melted_inferred_network(ds011_melted_ddf)\n",
    "print(\"\\tDone!\")\n",
    "\n",
    "print(\"Pivoting mESC_wide_ddf\")\n",
    "mesc_wide_ddf = pivot_melted_inferred_network(mesc_melted_ddf)\n",
    "print(\"\\tDone!\")"
   ]
  },
  {
   "cell_type": "code",
   "execution_count": null,
   "id": "13982304",
   "metadata": {},
   "outputs": [],
   "source": [
    "feature_names = [\n",
    "    'mean_TF_expression',\n",
    "    'mean_peak_accessibility',\n",
    "    'mean_TG_expression',\n",
    "    'cicero_score',\n",
    "    'TSS_dist_score', \n",
    "    'correlation',\n",
    "    'homer_binding_score', \n",
    "    'sliding_window_score', \n",
    "    'string_combined_score', \n",
    "    'string_experimental_score', \n",
    "    'string_textmining_score'\n",
    "    ]\n",
    "\n",
    "plot_multi_sample_feature_score_histograms(\n",
    "    feature_names, \n",
    "    inferred_network1=mesc_wide_ddf, \n",
    "    inferred_network2=ds011_wide_ddf,\n",
    "    label1_name=\"mESC filtered_L2_E8.0_rep1\",\n",
    "    label2_name=\"mESC DS011\"\n",
    "    )"
   ]
  }
 ],
 "metadata": {
  "language_info": {
   "name": "python"
  }
 },
 "nbformat": 4,
 "nbformat_minor": 5
}
