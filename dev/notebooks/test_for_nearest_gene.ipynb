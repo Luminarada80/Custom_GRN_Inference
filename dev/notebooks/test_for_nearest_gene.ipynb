{
 "cells": [
  {
   "cell_type": "markdown",
   "id": "65dd39d7",
   "metadata": {},
   "source": [
    "## Testing if Ground Truth Peaks are Mapped to Nearest Gene\n",
    "\n",
    "For some of the ground truth files, I am not sure if the TF-TG edges are mapped to the nearest gene."
   ]
  },
  {
   "cell_type": "code",
   "execution_count": 2,
   "id": "2a327919",
   "metadata": {},
   "outputs": [
    {
     "name": "stdout",
     "output_type": "stream",
     "text": [
      "Reading and formatting ChIP-Atlas peaks\n"
     ]
    },
    {
     "ename": "KeyError",
     "evalue": "'peak_id'",
     "output_type": "error",
     "traceback": [
      "\u001b[0;31m---------------------------------------------------------------------------\u001b[0m",
      "\u001b[0;31mKeyError\u001b[0m                                  Traceback (most recent call last)",
      "File \u001b[0;32m~/.conda/envs/my_env/lib/python3.9/site-packages/pandas/core/indexes/base.py:3812\u001b[0m, in \u001b[0;36mIndex.get_loc\u001b[0;34m(self, key)\u001b[0m\n\u001b[1;32m   3811\u001b[0m \u001b[38;5;28;01mtry\u001b[39;00m:\n\u001b[0;32m-> 3812\u001b[0m     \u001b[38;5;28;01mreturn\u001b[39;00m \u001b[38;5;28;43mself\u001b[39;49m\u001b[38;5;241;43m.\u001b[39;49m\u001b[43m_engine\u001b[49m\u001b[38;5;241;43m.\u001b[39;49m\u001b[43mget_loc\u001b[49m\u001b[43m(\u001b[49m\u001b[43mcasted_key\u001b[49m\u001b[43m)\u001b[49m\n\u001b[1;32m   3813\u001b[0m \u001b[38;5;28;01mexcept\u001b[39;00m \u001b[38;5;167;01mKeyError\u001b[39;00m \u001b[38;5;28;01mas\u001b[39;00m err:\n",
      "File \u001b[0;32mpandas/_libs/index.pyx:167\u001b[0m, in \u001b[0;36mpandas._libs.index.IndexEngine.get_loc\u001b[0;34m()\u001b[0m\n",
      "File \u001b[0;32mpandas/_libs/index.pyx:196\u001b[0m, in \u001b[0;36mpandas._libs.index.IndexEngine.get_loc\u001b[0;34m()\u001b[0m\n",
      "File \u001b[0;32mpandas/_libs/hashtable_class_helper.pxi:7088\u001b[0m, in \u001b[0;36mpandas._libs.hashtable.PyObjectHashTable.get_item\u001b[0;34m()\u001b[0m\n",
      "File \u001b[0;32mpandas/_libs/hashtable_class_helper.pxi:7096\u001b[0m, in \u001b[0;36mpandas._libs.hashtable.PyObjectHashTable.get_item\u001b[0;34m()\u001b[0m\n",
      "\u001b[0;31mKeyError\u001b[0m: 'peak_id'",
      "\nThe above exception was the direct cause of the following exception:\n",
      "\u001b[0;31mKeyError\u001b[0m                                  Traceback (most recent call last)",
      "Cell \u001b[0;32mIn[2], line 8\u001b[0m\n\u001b[1;32m      6\u001b[0m \u001b[38;5;28mprint\u001b[39m(\u001b[38;5;124m\"\u001b[39m\u001b[38;5;124mReading and formatting ChIP-Atlas peaks\u001b[39m\u001b[38;5;124m\"\u001b[39m)\n\u001b[1;32m      7\u001b[0m chipatlas_peaks \u001b[38;5;241m=\u001b[39m pd\u001b[38;5;241m.\u001b[39mread_csv(\u001b[38;5;124m\"\u001b[39m\u001b[38;5;124m/gpfs/Labs/Uzun/SCRIPTS/PROJECTS/2024.SINGLE_CELL_GRN_INFERENCE.MOELLER/output/chipseq_homer/tmp/homer_peaks.txt\u001b[39m\u001b[38;5;124m\"\u001b[39m, header\u001b[38;5;241m=\u001b[39m\u001b[38;5;241m0\u001b[39m)\n\u001b[0;32m----> 8\u001b[0m chipatlas_bed_df \u001b[38;5;241m=\u001b[39m format_peaks(\u001b[43mchipatlas_peaks\u001b[49m\u001b[43m[\u001b[49m\u001b[38;5;124;43m\"\u001b[39;49m\u001b[38;5;124;43mpeak_id\u001b[39;49m\u001b[38;5;124;43m\"\u001b[39;49m\u001b[43m]\u001b[49m)\u001b[38;5;241m.\u001b[39mrename(columns\u001b[38;5;241m=\u001b[39m{\u001b[38;5;124m\"\u001b[39m\u001b[38;5;124mchromosome\u001b[39m\u001b[38;5;124m\"\u001b[39m:\u001b[38;5;124m\"\u001b[39m\u001b[38;5;124mchrom\u001b[39m\u001b[38;5;124m\"\u001b[39m})\u001b[38;5;241m.\u001b[39mdrop_duplicates()\n\u001b[1;32m      9\u001b[0m \u001b[38;5;28mprint\u001b[39m(chipatlas_bed_df\u001b[38;5;241m.\u001b[39mhead())\n\u001b[1;32m     11\u001b[0m \u001b[38;5;28mprint\u001b[39m(\u001b[38;5;124m\"\u001b[39m\u001b[38;5;124mReading and formatting TSS bed file\u001b[39m\u001b[38;5;124m\"\u001b[39m)\n",
      "File \u001b[0;32m~/.conda/envs/my_env/lib/python3.9/site-packages/pandas/core/frame.py:4107\u001b[0m, in \u001b[0;36mDataFrame.__getitem__\u001b[0;34m(self, key)\u001b[0m\n\u001b[1;32m   4105\u001b[0m \u001b[38;5;28;01mif\u001b[39;00m \u001b[38;5;28mself\u001b[39m\u001b[38;5;241m.\u001b[39mcolumns\u001b[38;5;241m.\u001b[39mnlevels \u001b[38;5;241m>\u001b[39m \u001b[38;5;241m1\u001b[39m:\n\u001b[1;32m   4106\u001b[0m     \u001b[38;5;28;01mreturn\u001b[39;00m \u001b[38;5;28mself\u001b[39m\u001b[38;5;241m.\u001b[39m_getitem_multilevel(key)\n\u001b[0;32m-> 4107\u001b[0m indexer \u001b[38;5;241m=\u001b[39m \u001b[38;5;28;43mself\u001b[39;49m\u001b[38;5;241;43m.\u001b[39;49m\u001b[43mcolumns\u001b[49m\u001b[38;5;241;43m.\u001b[39;49m\u001b[43mget_loc\u001b[49m\u001b[43m(\u001b[49m\u001b[43mkey\u001b[49m\u001b[43m)\u001b[49m\n\u001b[1;32m   4108\u001b[0m \u001b[38;5;28;01mif\u001b[39;00m is_integer(indexer):\n\u001b[1;32m   4109\u001b[0m     indexer \u001b[38;5;241m=\u001b[39m [indexer]\n",
      "File \u001b[0;32m~/.conda/envs/my_env/lib/python3.9/site-packages/pandas/core/indexes/base.py:3819\u001b[0m, in \u001b[0;36mIndex.get_loc\u001b[0;34m(self, key)\u001b[0m\n\u001b[1;32m   3814\u001b[0m     \u001b[38;5;28;01mif\u001b[39;00m \u001b[38;5;28misinstance\u001b[39m(casted_key, \u001b[38;5;28mslice\u001b[39m) \u001b[38;5;129;01mor\u001b[39;00m (\n\u001b[1;32m   3815\u001b[0m         \u001b[38;5;28misinstance\u001b[39m(casted_key, abc\u001b[38;5;241m.\u001b[39mIterable)\n\u001b[1;32m   3816\u001b[0m         \u001b[38;5;129;01mand\u001b[39;00m \u001b[38;5;28many\u001b[39m(\u001b[38;5;28misinstance\u001b[39m(x, \u001b[38;5;28mslice\u001b[39m) \u001b[38;5;28;01mfor\u001b[39;00m x \u001b[38;5;129;01min\u001b[39;00m casted_key)\n\u001b[1;32m   3817\u001b[0m     ):\n\u001b[1;32m   3818\u001b[0m         \u001b[38;5;28;01mraise\u001b[39;00m InvalidIndexError(key)\n\u001b[0;32m-> 3819\u001b[0m     \u001b[38;5;28;01mraise\u001b[39;00m \u001b[38;5;167;01mKeyError\u001b[39;00m(key) \u001b[38;5;28;01mfrom\u001b[39;00m\u001b[38;5;250m \u001b[39m\u001b[38;5;21;01merr\u001b[39;00m\n\u001b[1;32m   3820\u001b[0m \u001b[38;5;28;01mexcept\u001b[39;00m \u001b[38;5;167;01mTypeError\u001b[39;00m:\n\u001b[1;32m   3821\u001b[0m     \u001b[38;5;66;03m# If we have a listlike key, _check_indexing_error will raise\u001b[39;00m\n\u001b[1;32m   3822\u001b[0m     \u001b[38;5;66;03m#  InvalidIndexError. Otherwise we fall through and re-raise\u001b[39;00m\n\u001b[1;32m   3823\u001b[0m     \u001b[38;5;66;03m#  the TypeError.\u001b[39;00m\n\u001b[1;32m   3824\u001b[0m     \u001b[38;5;28mself\u001b[39m\u001b[38;5;241m.\u001b[39m_check_indexing_error(key)\n",
      "\u001b[0;31mKeyError\u001b[0m: 'peak_id'"
     ]
    }
   ],
   "source": [
    "import pandas as pd\n",
    "from grn_inference.utils import find_genes_near_peaks, format_peaks\n",
    "import pybedtools\n",
    "\n",
    "\n",
    "print(\"Reading and formatting ChIP-Atlas peaks\")\n",
    "chipatlas_peaks = pd.read_csv(\"/gpfs/Labs/Uzun/SCRIPTS/PROJECTS/2024.SINGLE_CELL_GRN_INFERENCE.MOELLER/output/chipseq_homer/tmp/homer_peaks.txt\", header=0)\n",
    "chipatlas_bed_df = format_peaks(chipatlas_peaks[\"peak_id\"]).rename(columns={\"chromosome\":\"chrom\"}).drop_duplicates()\n",
    "print(chipatlas_bed_df.head())\n",
    "\n",
    "print(\"Reading and formatting TSS bed file\")\n",
    "tss_bed_df = pd.read_parquet(\"output/DS011_mESC/DS011_mESC_sample1/tmp/ensembl.parquet\")\n",
    "tss_bed_df = tss_bed_df.rename(columns={\"chr\":\"chrom\", \"gene_id\":\"name\"})\n",
    "print(tss_bed_df.head())"
   ]
  },
  {
   "cell_type": "code",
   "execution_count": 44,
   "id": "5066965b",
   "metadata": {},
   "outputs": [],
   "source": [
    "# Ensure valid BED format and correct dtypes\n",
    "required_cols = [\"chrom\", \"start\", \"end\"]\n",
    "chipatlas_bed_df = chipatlas_bed_df[required_cols].copy()\n",
    "tss_bed_df = tss_bed_df[required_cols + [\"name\"]].copy()  # Include gene_id column as name\n",
    "\n",
    "# Ensure all start/end values are integers\n",
    "for df in [chipatlas_bed_df, tss_bed_df]:\n",
    "    df[\"start\"] = pd.to_numeric(df[\"start\"], errors=\"coerce\").astype(\"Int64\")\n",
    "    df[\"end\"] = pd.to_numeric(df[\"end\"], errors=\"coerce\").astype(\"Int64\")\n",
    "    df.dropna(subset=[\"start\", \"end\"], inplace=True)\n",
    "\n",
    "chipatlas_bed_df = chipatlas_bed_df[chipatlas_bed_df[\"end\"] > chipatlas_bed_df[\"start\"]]\n",
    "tss_bed_df = tss_bed_df[tss_bed_df[\"end\"] > tss_bed_df[\"start\"]]\n",
    "\n",
    "chipatlas_bed_df.to_csv(\"chipatlas_tmp.bed\", sep=\"\\t\", header=False, index=False)\n",
    "tss_bed_df.to_csv(\"tss_tmp.bed\", sep=\"\\t\", header=False, index=False)\n",
    "\n",
    "chipatlas_bed = pybedtools.BedTool(\"chipatlas_tmp.bed\")\n",
    "tss_bed = pybedtools.BedTool(\"tss_tmp.bed\")"
   ]
  },
  {
   "cell_type": "code",
   "execution_count": 45,
   "id": "b69cd6ef",
   "metadata": {},
   "outputs": [],
   "source": [
    "peak_tss_overlap = chipatlas_bed.window(tss_bed, w=1e6)"
   ]
  },
  {
   "cell_type": "code",
   "execution_count": 50,
   "id": "a22b94cb",
   "metadata": {},
   "outputs": [
    {
     "data": {
      "text/html": [
       "<div>\n",
       "<style scoped>\n",
       "    .dataframe tbody tr th:only-of-type {\n",
       "        vertical-align: middle;\n",
       "    }\n",
       "\n",
       "    .dataframe tbody tr th {\n",
       "        vertical-align: top;\n",
       "    }\n",
       "\n",
       "    .dataframe thead th {\n",
       "        text-align: right;\n",
       "    }\n",
       "</style>\n",
       "<table border=\"1\" class=\"dataframe\">\n",
       "  <thead>\n",
       "    <tr style=\"text-align: right;\">\n",
       "      <th></th>\n",
       "    </tr>\n",
       "  </thead>\n",
       "  <tbody>\n",
       "  </tbody>\n",
       "</table>\n",
       "</div>"
      ],
      "text/plain": [
       "Empty DataFrame\n",
       "Columns: []\n",
       "Index: []"
      ]
     },
     "execution_count": 50,
     "metadata": {},
     "output_type": "execute_result"
    }
   ],
   "source": [
    "peak_tss_overlap_df  = peak_tss_overlap.to_dataframe()\n",
    "peak_tss_overlap_df.head()"
   ]
  },
  {
   "cell_type": "code",
   "execution_count": 51,
   "id": "3105d070",
   "metadata": {},
   "outputs": [],
   "source": [
    "# Define the column types for conversion to DataFrame\n",
    "dtype_dict = {\n",
    "    \"peak_chr\": str,\n",
    "    \"peak_start\": int,\n",
    "    \"peak_end\": int,\n",
    "    \"peak_id\": str,\n",
    "    \"gene_chr\": str,\n",
    "    \"gene_start\": int,\n",
    "    \"gene_end\": int,\n",
    "    \"gene_id\": str\n",
    "}\n",
    "\n",
    "# Convert the BedTool result to a DataFrame for further processing.\n",
    "peak_tss_overlap_df = peak_tss_overlap.to_dataframe(\n",
    "    names = [\n",
    "        \"peak_chr\", \"peak_start\", \"peak_end\", \"peak_id\",\n",
    "        \"gene_chr\", \"gene_start\", \"gene_end\", \"gene_id\"\n",
    "    ],\n",
    "    dtype=dtype_dict,\n",
    "    low_memory=False  # ensures the entire file is read in one go\n",
    ").rename(columns={\"gene_id\": \"target_id\"}).dropna()"
   ]
  },
  {
   "cell_type": "code",
   "execution_count": 52,
   "id": "d82ea2fd",
   "metadata": {},
   "outputs": [
    {
     "data": {
      "text/html": [
       "<div>\n",
       "<style scoped>\n",
       "    .dataframe tbody tr th:only-of-type {\n",
       "        vertical-align: middle;\n",
       "    }\n",
       "\n",
       "    .dataframe tbody tr th {\n",
       "        vertical-align: top;\n",
       "    }\n",
       "\n",
       "    .dataframe thead th {\n",
       "        text-align: right;\n",
       "    }\n",
       "</style>\n",
       "<table border=\"1\" class=\"dataframe\">\n",
       "  <thead>\n",
       "    <tr style=\"text-align: right;\">\n",
       "      <th></th>\n",
       "    </tr>\n",
       "  </thead>\n",
       "  <tbody>\n",
       "  </tbody>\n",
       "</table>\n",
       "</div>"
      ],
      "text/plain": [
       "Empty DataFrame\n",
       "Columns: []\n",
       "Index: []"
      ]
     },
     "execution_count": 52,
     "metadata": {},
     "output_type": "execute_result"
    }
   ],
   "source": [
    "peak_tss_overlap_df"
   ]
  }
 ],
 "metadata": {
  "kernelspec": {
   "display_name": "my_env",
   "language": "python",
   "name": "my_env"
  },
  "language_info": {
   "codemirror_mode": {
    "name": "ipython",
    "version": 3
   },
   "file_extension": ".py",
   "mimetype": "text/x-python",
   "name": "python",
   "nbconvert_exporter": "python",
   "pygments_lexer": "ipython3",
   "version": "3.9.18"
  }
 },
 "nbformat": 4,
 "nbformat_minor": 5
}
