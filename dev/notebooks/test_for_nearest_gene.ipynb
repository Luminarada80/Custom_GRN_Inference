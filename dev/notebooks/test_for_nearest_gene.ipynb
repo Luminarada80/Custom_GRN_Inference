{
 "cells": [
  {
   "cell_type": "markdown",
   "id": "65dd39d7",
   "metadata": {},
   "source": [
    "## Testing if Ground Truth Peaks are Mapped to Nearest Gene\n",
    "\n",
    "For some of the ground truth files, I am not sure if the TF-TG edges are mapped to the nearest gene."
   ]
  },
  {
   "cell_type": "code",
   "execution_count": null,
   "id": "2a327919",
   "metadata": {},
   "outputs": [],
   "source": []
  }
 ],
 "metadata": {
  "language_info": {
   "name": "python"
  }
 },
 "nbformat": 4,
 "nbformat_minor": 5
}
