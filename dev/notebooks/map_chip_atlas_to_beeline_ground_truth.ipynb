{
 "cells": [
  {
   "cell_type": "markdown",
   "id": "bea27171",
   "metadata": {},
   "source": [
    "## Map the ChIP-Atlas TF-peak file to nearest TSS and see if it overlaps with the BEELINE ground truth\n",
    "\n",
    "The BEELINE paper says that it used TF-TG annotations from ChIP-Atlas for their mESC ChIP-seq dataset. However, they do not specify what files they downloaded or how they mapped peak to target genes. We are validating our TF-peak scoring methods using ChIP-seq TF-peak binding data from ChIP-Atlas, and want to see if the dataset we downloaded matches the BEELINE ground truth.\n",
    "\n",
    "### ChIP-Atlas data\n",
    "\n",
    "The ChIP-Atlas dataset we are using can be downloaded from:\n",
    "\n",
    "`wget https://chip-atlas.dbcls.jp/data/mm10/assembled/Oth.Emb.05.AllAg.AllCell.bed`\n",
    "\n",
    "This file corresponds to the following settings in the Peak Browser:\n",
    "- Species -> M. musculus (mm10)\n",
    "- Track type class -> ChIP: TFs and others\n",
    "- Cell type class -> Embryo\n",
    "- Threshold for Significance -> 50\n",
    "- Track type -> All\n",
    "- Cell type -> all\n",
    "\n",
    "### BEELINE Networks\n",
    "\n",
    "The BEELINE paper's supplementary table 4 contains information about the networks used for their ground truth. The mESC dataset contains the following entry:\n",
    "\n",
    "| Source | #TFs | #Genes (incl. TFs) | #Edges | Density | Gene expression dataset |\n",
    "|:------:|:----:|:------------------:|:------:|:-------:|:-----------------------:|\n",
    "|mESC, ESCAPE+ ChIP-Atlas | 247 | 25,703 | 6,348,394 | 0.154 | mESC, Hayashi et al.^{2} |\n",
    "\n",
    "2. Hayashi, T. et al. Single-cell full-length total RNA sequencing uncovers dynamics of recursive splicing and enhancer RNAs. Nat. Commun. 9, 619 (2018).\n",
    "\n",
    "I am also going to re-download the ground truth network from the BEELINE paper to ensure that our RN111 ground truth file and their file are the same.\n",
    "\n",
    "The `BEELINE-Networks.zip` file containing the `mESC-ChIP-seq-network.csv` file can be downloaded from `https://zenodo.org/records/3701939/files/BEELINE-Networks.zip?download=1`\n",
    "\n",
    "### Downloading the BEELINE ChIP-seq network for mESC"
   ]
  },
  {
   "cell_type": "code",
   "execution_count": null,
   "id": "25b40c91",
   "metadata": {
    "vscode": {
     "languageId": "shellscript"
    }
   },
   "outputs": [],
   "source": [
    "GROUND_TRUTH_DIR=\"/gpfs/Labs/Uzun/SCRIPTS/PROJECTS/2024.SINGLE_CELL_GRN_INFERENCE.MOELLER/ground_truth_files\"\n",
    "\n",
    "!wget \"https://zenodo.org/records/3701939/files/BEELINE-Networks.zip?download=1\" -O \"$GROUND_TRUTH_DIR/beeline_networks.zip\"\n",
    "!unzip \"$GROUND_TRUTH_DIR/beeline_networks.zip\" -d \"$GROUND_TRUTH_DIR/beeline_networks\"\n",
    "!mv \"$GROUND_TRUTH_DIR/beeline_networks/Networks/mouse/mESC-ChIP-seq-network.csv\" \"$GROUND_TRUTH_DIR/mESC_beeline_ChIP-seq.csv\"\n",
    "!rm -rf \"$GROUND_TRUTH_DIR/beeline_networks\"\n",
    "!rm \"$GROUND_TRUTH_DIR/beeline_networks.zip\""
   ]
  },
  {
   "cell_type": "code",
   "execution_count": null,
   "id": "7e6e9bef",
   "metadata": {},
   "outputs": [],
   "source": [
    "import os\n",
    "import pandas as pd\n",
    "import csv\n",
    "import pybedtools\n",
    "\n",
    "ground_truth_dir = \"/gpfs/Labs/Uzun/SCRIPTS/PROJECTS/2024.SINGLE_CELL_GRN_INFERENCE.MOELLER/ground_truth_files\"\n",
    "\n",
    "mesc_rn111_path = \"/gpfs/Labs/Uzun/DATA/PROJECTS/2024.SC_MO_TRN_DB.MIRA/REPOSITORY/CURRENT/REFERENCE_NETWORKS/RN111_ChIPSeq_BEELINE_Mouse_ESC.tsv\"\n",
    "chip_atlas_bed_file = os.path.join(ground_truth_dir, \"Oth.Emb.05.AllAg.AllCell.bed\")\n",
    "chip_atlas_path = os.path.join(ground_truth_dir, \"chipatlas_mESC.csv\")\n",
    "beeline_path = os.path.join(ground_truth_dir, \"mESC_beeline_ChIP-seq.csv\")"
   ]
  },
  {
   "cell_type": "markdown",
   "id": "dccbab46",
   "metadata": {},
   "source": [
    "## Comparing BEELINE to mESC RN111"
   ]
  },
  {
   "cell_type": "code",
   "execution_count": null,
   "id": "3169a13b",
   "metadata": {},
   "outputs": [],
   "source": [
    "mesc_rn111 = pd.read_csv(mesc_rn111_path, sep='\\t', quoting=csv.QUOTE_NONE, on_bad_lines='skip', header=0)\n",
    "mesc_rn111 = mesc_rn111.rename(columns={\"Source\": \"source_id\", \"Target\": \"target_id\"})\n",
    "mesc_rn111 = mesc_rn111[[\"source_id\", \"target_id\"]]\n",
    "mesc_rn111.head()"
   ]
  },
  {
   "cell_type": "code",
   "execution_count": null,
   "id": "10e44a29",
   "metadata": {},
   "outputs": [],
   "source": [
    "beeline = pd.read_csv(beeline_path)\n",
    "beeline = beeline.rename(columns={\"Gene1\": \"source_id\", \"Gene2\": \"target_id\"})\n",
    "beeline.head()"
   ]
  },
  {
   "cell_type": "code",
   "execution_count": null,
   "id": "0f673f0c",
   "metadata": {},
   "outputs": [],
   "source": [
    "merged_df = pd.merge(beeline, mesc_rn111, on=[\"source_id\", \"target_id\"], how=\"outer\", indicator=True)\n",
    "beeline_only = len(merged_df[merged_df[\"_merge\"] == \"left_only\"])\n",
    "rn111_only = len(merged_df[merged_df[\"_merge\"] == \"right_only\"])\n",
    "both = len(merged_df[merged_df[\"_merge\"] == \"both\"])\n",
    "print(f\"Edges only in BEELINE {beeline_only}\")\n",
    "print(f\"Edges only in RN111 {rn111_only}\")\n",
    "print(f\"Edges present in both {both}\")"
   ]
  },
  {
   "cell_type": "markdown",
   "id": "adc9b11d",
   "metadata": {},
   "source": [
    "7 of the edges were not found in both datasets. However, looking more closely this is because the BEELINE dataset had multiple gene names separated by a comma and they were mis-handled when the gene names were standardized"
   ]
  },
  {
   "cell_type": "code",
   "execution_count": null,
   "id": "f4edca9d",
   "metadata": {},
   "outputs": [],
   "source": [
    "merged_df[merged_df[\"_merge\"] == \"left_only\"]"
   ]
  },
  {
   "cell_type": "code",
   "execution_count": null,
   "id": "5d79e096",
   "metadata": {},
   "outputs": [],
   "source": [
    "merged_df[merged_df[\"_merge\"] == \"right_only\"]"
   ]
  },
  {
   "cell_type": "markdown",
   "id": "0698d6c6",
   "metadata": {},
   "source": [
    "All of edges are the same between BEELINE and RN111.\n",
    "\n",
    "## Comparing ChIP-Atlas to BEELINE"
   ]
  },
  {
   "cell_type": "markdown",
   "id": "64900890",
   "metadata": {},
   "source": [
    "First, we need to map the peaks in the ChIP-Atlas bed file to the nearest gene TSS for each peak.\n",
    "\n",
    "The mm10 tss_reference_file can be downloaded from here:\n",
    "\n",
    "[RefGenie mm10 TSS annotation file](http://awspds.refgenie.databio.org/refgenomes.databio.org/0f10d83b1050c08dd53189986f60970b92a315aa7a16a6f1/ensembl_gtf__default/0f10d83b1050c08dd53189986f60970b92a315aa7a16a6f1_ensembl_gene_body.bed)"
   ]
  },
  {
   "cell_type": "code",
   "execution_count": null,
   "id": "475bb9ed",
   "metadata": {},
   "outputs": [],
   "source": [
    "\n",
    "chip_bed = pybedtools.BedTool(chip_atlas_bed_file)\n",
    "tss_bed = pybedtools.BedTool(\"/gpfs/Labs/Uzun/SCRIPTS/PROJECTS/2024.SINGLE_CELL_GRN_INFERENCE.MOELLER/data/genome_annotation/mm10/mm10_TSS.bed\")\n",
    "chip_closest_tss = chip_bed.closest(tss_bed, d=True)\n",
    "chip_closest_tss_df = chip_closest_tss.to_dataframe(\n",
    "    names=[\"peak_chr\", \"peak_start\", \"peak_end\", \"peak_gene\",\n",
    "           \"tss_chr\", \"tss_start\", \"tss_end\", \"tss_gene\", \"strand\", \"strand2\", \"distance\"]\n",
    ")\n"
   ]
  },
  {
   "cell_type": "markdown",
   "id": "63f7e2ba",
   "metadata": {},
   "source": [
    "We need to extract the TF name from the index and the TG name from the `tss_gene` column"
   ]
  },
  {
   "cell_type": "code",
   "execution_count": null,
   "id": "f3313f54",
   "metadata": {},
   "outputs": [],
   "source": [
    "chip_closest_tss_df = chip_closest_tss_df.reset_index()\n",
    "chip_closest_tss_df[\"source_id\"] = (\n",
    "    chip_closest_tss_df[\"level_3\"]\n",
    "    .str.extract(r'Name=([^%]+)')\n",
    ")"
   ]
  },
  {
   "cell_type": "code",
   "execution_count": null,
   "id": "ee5a8eba",
   "metadata": {},
   "outputs": [],
   "source": [
    "chip_closest_tss_df[\"source_id\"] = chip_closest_tss_df[\"source_id\"].str.upper()\n",
    "chip_closest_tss_df[\"target_id\"] = chip_closest_tss_df[\"tss_gene\"].str.upper()\n",
    "\n",
    "chip_closest_tss_df = chip_closest_tss_df[[\"source_id\", \"target_id\"]]\n",
    "chip_closest_tss_df"
   ]
  },
  {
   "cell_type": "code",
   "execution_count": null,
   "id": "e14d0717",
   "metadata": {},
   "outputs": [],
   "source": [
    "merged_df = pd.merge(beeline, chip_closest_tss_df, on=[\"source_id\", \"target_id\"], how=\"outer\", indicator=True)\n",
    "beeline_only = len(merged_df[merged_df[\"_merge\"] == \"left_only\"])\n",
    "chip_atlas_only = len(merged_df[merged_df[\"_merge\"] == \"right_only\"])\n",
    "both = len(merged_df[merged_df[\"_merge\"] == \"both\"])\n",
    "print(f\"Edges only in BEELINE {beeline_only}\")\n",
    "print(f\"Edges only in ChIP-Atlas {chip_atlas_only}\")\n",
    "print(f\"Edges present in both {both}\")"
   ]
  }
 ],
 "metadata": {
  "kernelspec": {
   "display_name": "my_env",
   "language": "python",
   "name": "python3"
  },
  "language_info": {
   "codemirror_mode": {
    "name": "ipython",
    "version": 3
   },
   "file_extension": ".py",
   "mimetype": "text/x-python",
   "name": "python",
   "nbconvert_exporter": "python",
   "pygments_lexer": "ipython3",
   "version": "3.9.18"
  }
 },
 "nbformat": 4,
 "nbformat_minor": 5
}
