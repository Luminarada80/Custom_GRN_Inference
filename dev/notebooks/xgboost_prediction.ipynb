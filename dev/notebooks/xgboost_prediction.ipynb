{
 "cells": [
  {
   "cell_type": "code",
   "execution_count": null,
   "id": "54f4512a-02da-46a1-92bb-78617ae07f43",
   "metadata": {},
   "outputs": [
    {
     "name": "stderr",
     "output_type": "stream",
     "text": [
      "usage: ipykernel_launcher.py [-h] --output_dir OUTPUT_DIR --model MODEL\n",
      "                             --target TARGET --save_name SAVE_NAME\n",
      "ipykernel_launcher.py: error: the following arguments are required: --output_dir, --model, --target, --save_name\n"
     ]
    },
    {
     "ename": "SystemExit",
     "evalue": "2",
     "output_type": "error",
     "traceback": [
      "An exception has occurred, use %tb to see the full traceback.\n",
      "\u001b[0;31mSystemExit\u001b[0m\u001b[0;31m:\u001b[0m 2\n"
     ]
    },
    {
     "name": "stderr",
     "output_type": "stream",
     "text": [
      "/gpfs/Home/esm5360/.conda/envs/my_env/lib/python3.9/site-packages/IPython/core/interactiveshell.py:3558: UserWarning: To exit: use 'exit', 'quit', or Ctrl-D.\n",
      "  warn(\"To exit: use 'exit', 'quit', or Ctrl-D.\", stacklevel=1)\n"
     ]
    }
   ],
   "source": [
    "import dask.dataframe as dd\n",
    "from dask.distributed import Client\n",
    "import xgboost as xgb\n",
    "import pandas as pd\n",
    "import os\n",
    "import logging\n",
    "import argparse\n",
    "\n",
    "def parse_args() -> argparse.Namespace:\n",
    "    parser = argparse.ArgumentParser(description=\"Apply Dask-trained XGBoost model to a new network\")\n",
    "    parser.add_argument(\"--output_dir\", type=str, required=True, help=\"Directory to save predictions\")\n",
    "    parser.add_argument(\"--model\", type=str, required=True, help=\"Path to trained XGBoost .json Booster model\")\n",
    "    parser.add_argument(\"--target\", type=str, required=True, help=\"Path to .parquet file for inference\")\n",
    "    parser.add_argument(\"--save_name\", type=str, required=True, help=\"Filename for output\")\n",
    "    return parser.parse_args()\n",
    "\n",
    "def read_inferred_network(inferred_network_file: str) -> dd.DataFrame:\n",
    "    \"\"\"\n",
    "    Loads a melted sparse inferred network from Parquet and pivots it into a Dask DataFrame\n",
    "    where each row is (source_id, target_id) and columns are score_types (mean-aggregated).\n",
    "    \"\"\"\n",
    "    logging.info(f\"Loading melted sparse network from: {inferred_network_file}\")\n",
    "    melted_ddf = dd.read_parquet(inferred_network_file, engine=\"pyarrow\")\n",
    "\n",
    "    # Standardize IDs\n",
    "    melted_ddf[\"source_id\"] = melted_ddf[\"source_id\"].str.upper()\n",
    "    melted_ddf[\"target_id\"] = melted_ddf[\"target_id\"].str.upper()\n",
    "\n",
    "    # Aggregate scores\n",
    "    grouped_ddf = (\n",
    "        melted_ddf\n",
    "        .groupby([\"source_id\", \"peak_id\", \"target_id\", \"score_type\"])[\"score_value\"]\n",
    "        .mean()\n",
    "        .reset_index()\n",
    "    )\n",
    "\n",
    "    # Pivot manually by converting to pandas (if dataset is small enough)\n",
    "    def pivot_partition(df):\n",
    "        return df.pivot_table(\n",
    "            index=[\"source_id\", \"peak_id\", \"target_id\"],\n",
    "            columns=\"score_type\",\n",
    "            values=\"score_value\",\n",
    "            aggfunc=\"first\"\n",
    "        ).reset_index()\n",
    "\n",
    "    # Apply pivot in a single partition (best if you've already aggregated)\n",
    "    pivot_df = grouped_ddf.compute()  # convert to Pandas here\n",
    "    pivot_df = pivot_partition(pivot_df)\n",
    "    return dd.from_pandas(pivot_df, npartitions=1)\n",
    "\n",
    "def main():\n",
    "    args = parse_args()\n",
    "\n",
    "    model_path = args.model\n",
    "    target_path = args.target\n",
    "    output_dir = args.output_dir\n",
    "    save_name = args.save_name\n",
    "\n",
    "    logging.info(\"Loading XGBoost Booster\")\n",
    "    booster = xgb.Booster()\n",
    "    booster.load_model(model_path)\n",
    "\n",
    "    logging.info(\"Reading inferred network\")\n",
    "    inferred_dd = read_inferred_network(target_path)\n",
    "    \n",
    "    feature_names = booster.feature_names\n",
    "    \n",
    "    X_dd = inferred_dd[feature_names]\n",
    "\n",
    "    logging.info(\"Converting to DaskDMatrix\")\n",
    "    client = Client()\n",
    "    dtest = xgb.dask.DaskDMatrix(data=X_dd, feature_names=feature_names, client=client)\n",
    "\n",
    "    logging.info(\"Running distributed prediction\")\n",
    "    y_pred = xgb.dask.predict(client=client, model=booster, data=dtest)\n",
    "\n",
    "    # Convert to pandas (merging Dask DataFrame + Dask array)\n",
    "    logging.info(\"Joining predictions back to source-target pairs\")\n",
    "    result_df = inferred_dd[[\"source_id\", \"peak_id\", \"target_id\"]].compute()\n",
    "    result_df[\"score\"] = y_pred.compute()\n",
    "    result_df = result_df.drop_duplicates()\n",
    "\n",
    "    if not os.path.exists(output_dir):\n",
    "        os.makedirs(output_dir)\n",
    "\n",
    "    output_path = os.path.join(output_dir, save_name)\n",
    "    logging.info(f\"Saving to {output_path}\")\n",
    "    result_df.to_csv(output_path, sep=\"\\t\", index=False)\n",
    "    logging.info(\"Done!\")\n",
    "\n",
    "if __name__ == \"__main__\":\n",
    "    logging.basicConfig(level=logging.INFO, format=\"%(message)s\")\n",
    "    main()"
   ]
  },
  {
   "cell_type": "code",
   "execution_count": null,
   "metadata": {},
   "outputs": [],
   "source": [
    "import dask.dataframe as dd\n",
    "from dask.distributed import Client\n",
    "import xgboost as xgb\n",
    "import pandas as pd\n",
    "import os\n",
    "import logging\n",
    "import argparse\n",
    "\n",
    "def read_inferred_network(inferred_network_file: str) -> dd.DataFrame:\n",
    "    \"\"\"\n",
    "    Loads a melted sparse inferred network from Parquet and pivots it into a Dask DataFrame\n",
    "    where each row is (source_id, target_id) and columns are score_types (mean-aggregated).\n",
    "    \"\"\"\n",
    "    logging.info(f\"Loading melted sparse network from: {inferred_network_file}\")\n",
    "    melted_ddf = dd.read_parquet(inferred_network_file, engine=\"pyarrow\")\n",
    "\n",
    "    # Standardize IDs\n",
    "    melted_ddf[\"source_id\"] = melted_ddf[\"source_id\"].str.upper()\n",
    "    melted_ddf[\"target_id\"] = melted_ddf[\"target_id\"].str.upper()\n",
    "\n",
    "    # Aggregate scores\n",
    "    grouped_ddf = (\n",
    "        melted_ddf\n",
    "        .groupby([\"source_id\", \"peak_id\", \"target_id\", \"score_type\"])[\"score_value\"]\n",
    "        .mean()\n",
    "        .reset_index()\n",
    "    )\n",
    "\n",
    "    # Pivot manually by converting to pandas (if dataset is small enough)\n",
    "    def pivot_partition(df):\n",
    "        return df.pivot_table(\n",
    "            index=[\"source_id\", \"peak_id\", \"target_id\"],\n",
    "            columns=\"score_type\",\n",
    "            values=\"score_value\",\n",
    "            aggfunc=\"first\"\n",
    "        ).reset_index()\n",
    "\n",
    "    # Apply pivot in a single partition (best if you've already aggregated)\n",
    "    pivot_df = grouped_ddf.compute()  # convert to Pandas here\n",
    "    pivot_df = pivot_partition(pivot_df)\n",
    "    return dd.from_pandas(pivot_df, npartitions=1)\n",
    "\n",
    "model_path = \"/gpfs/Labs/Uzun/SCRIPTS/PROJECTS/2024.SINGLE_CELL_GRN_INFERENCE.MOELLER/output/DS011_mESC/DS011_mESC_sample1_old/trained_models/xgb_DS011_mESC_sample1_old_model.json\"\n",
    "target_path = \"/gpfs/Labs/Uzun/SCRIPTS/PROJECTS/2024.SINGLE_CELL_GRN_INFERENCE.MOELLER/output/mESC/filtered_L2_E7.5_rep2_old/inferred_grns/inferred_score_df.parquet\"\n",
    "output_dir = \"/gpfs/Labs/Uzun/SCRIPTS/PROJECTS/2024.SINGLE_CELL_GRN_INFERENCE.MOELLER/output/DS011_mESC/DS011_mESC_sample1_old/model_predictions\"\n",
    "save_name = \"testing_aggregation_predictions.tsv\"\n"
   ]
  },
  {
   "cell_type": "code",
   "execution_count": null,
   "metadata": {},
   "outputs": [
    {
     "name": "stderr",
     "output_type": "stream",
     "text": [
      "Loading XGBoost Booster\n"
     ]
    }
   ],
   "source": [
    "logging.info(\"Loading XGBoost Booster\")\n",
    "booster = xgb.Booster()\n",
    "booster.load_model(model_path)"
   ]
  },
  {
   "cell_type": "code",
   "execution_count": null,
   "metadata": {},
   "outputs": [
    {
     "name": "stderr",
     "output_type": "stream",
     "text": [
      "Reading inferred network\n",
      "Loading melted sparse network from: /gpfs/Labs/Uzun/SCRIPTS/PROJECTS/2024.SINGLE_CELL_GRN_INFERENCE.MOELLER/output/mESC/filtered_L2_E7.5_rep2_old/inferred_grns/inferred_score_df.parquet\n",
      "Loading melted sparse network from: /gpfs/Labs/Uzun/SCRIPTS/PROJECTS/2024.SINGLE_CELL_GRN_INFERENCE.MOELLER/output/mESC/filtered_L2_E7.5_rep2_old/inferred_grns/inferred_score_df.parquet\n"
     ]
    }
   ],
   "source": [
    "logging.info(\"Reading inferred network\")\n",
    "inferred_dd = read_inferred_network(target_path)"
   ]
  },
  {
   "cell_type": "code",
   "execution_count": null,
   "metadata": {},
   "outputs": [],
   "source": [
    "feature_names = booster.feature_names"
   ]
  },
  {
   "cell_type": "code",
   "execution_count": null,
   "metadata": {},
   "outputs": [
    {
     "data": {
      "text/plain": [
       "['mean_TF_expression',\n",
       " 'mean_peak_accessibility',\n",
       " 'mean_TG_expression',\n",
       " 'cicero_score',\n",
       " 'TSS_dist_score',\n",
       " 'correlation',\n",
       " 'homer_binding_score',\n",
       " 'sliding_window_score',\n",
       " 'string_combined_score',\n",
       " 'string_experimental_score',\n",
       " 'string_textmining_score']"
      ]
     },
     "execution_count": 6,
     "metadata": {},
     "output_type": "execute_result"
    }
   ],
   "source": [
    "feature_names"
   ]
  },
  {
   "cell_type": "code",
   "execution_count": null,
   "metadata": {},
   "outputs": [],
   "source": [
    "X_dd = inferred_dd[feature_names]"
   ]
  },
  {
   "cell_type": "code",
   "execution_count": null,
   "metadata": {},
   "outputs": [
    {
     "name": "stderr",
     "output_type": "stream",
     "text": [
      "Converting to DaskDMatrix\n",
      "/gpfs/Home/esm5360/.conda/envs/my_env/lib/python3.9/site-packages/distributed/client.py:3362: UserWarning: Sending large graph of size 747.48 MiB.\n",
      "This may cause some slowdown.\n",
      "Consider loading the data with Dask directly\n",
      " or using futures or delayed objects to embed the data into the graph without repetition.\n",
      "See also https://docs.dask.org/en/stable/best-practices.html#load-data-with-dask for more information.\n",
      "  warnings.warn(\n"
     ]
    }
   ],
   "source": [
    "logging.info(\"Converting to DaskDMatrix\")\n",
    "client = Client()\n",
    "dtest = xgb.dask.DaskDMatrix(data=X_dd, feature_names=feature_names, client=client)"
   ]
  },
  {
   "cell_type": "code",
   "execution_count": null,
   "metadata": {},
   "outputs": [
    {
     "name": "stderr",
     "output_type": "stream",
     "text": [
      "Running distributed prediction\n"
     ]
    }
   ],
   "source": [
    "logging.info(\"Running distributed prediction\")\n",
    "y_pred = xgb.dask.predict(client=client, model=booster, data=dtest)"
   ]
  },
  {
   "cell_type": "code",
   "execution_count": null,
   "metadata": {},
   "outputs": [
    {
     "data": {
      "text/html": [
       "<table>\n",
       "    <tr>\n",
       "        <td>\n",
       "            <table style=\"border-collapse: collapse;\">\n",
       "                <thead>\n",
       "                    <tr>\n",
       "                        <td> </td>\n",
       "                        <th> Array </th>\n",
       "                        <th> Chunk </th>\n",
       "                    </tr>\n",
       "                </thead>\n",
       "                <tbody>\n",
       "                    \n",
       "                    <tr>\n",
       "                        <th> Bytes </th>\n",
       "                        <td> 20.68 MiB </td>\n",
       "                        <td> 20.68 MiB </td>\n",
       "                    </tr>\n",
       "                    \n",
       "                    <tr>\n",
       "                        <th> Shape </th>\n",
       "                        <td> (5420215,) </td>\n",
       "                        <td> (5420215,) </td>\n",
       "                    </tr>\n",
       "                    <tr>\n",
       "                        <th> Dask graph </th>\n",
       "                        <td colspan=\"2\"> 1 chunks in 2 graph layers </td>\n",
       "                    </tr>\n",
       "                    <tr>\n",
       "                        <th> Data type </th>\n",
       "                        <td colspan=\"2\"> float32 numpy.ndarray </td>\n",
       "                    </tr>\n",
       "                </tbody>\n",
       "            </table>\n",
       "        </td>\n",
       "        <td>\n",
       "        <svg width=\"170\" height=\"75\" style=\"stroke:rgb(0,0,0);stroke-width:1\" >\n",
       "\n",
       "  <!-- Horizontal lines -->\n",
       "  <line x1=\"0\" y1=\"0\" x2=\"120\" y2=\"0\" style=\"stroke-width:2\" />\n",
       "  <line x1=\"0\" y1=\"25\" x2=\"120\" y2=\"25\" style=\"stroke-width:2\" />\n",
       "\n",
       "  <!-- Vertical lines -->\n",
       "  <line x1=\"0\" y1=\"0\" x2=\"0\" y2=\"25\" style=\"stroke-width:2\" />\n",
       "  <line x1=\"120\" y1=\"0\" x2=\"120\" y2=\"25\" style=\"stroke-width:2\" />\n",
       "\n",
       "  <!-- Colored Rectangle -->\n",
       "  <polygon points=\"0.0,0.0 120.0,0.0 120.0,25.412616514582485 0.0,25.412616514582485\" style=\"fill:#ECB172A0;stroke-width:0\"/>\n",
       "\n",
       "  <!-- Text -->\n",
       "  <text x=\"60.000000\" y=\"45.412617\" font-size=\"1.0rem\" font-weight=\"100\" text-anchor=\"middle\" >5420215</text>\n",
       "  <text x=\"140.000000\" y=\"12.706308\" font-size=\"1.0rem\" font-weight=\"100\" text-anchor=\"middle\" transform=\"rotate(0,140.000000,12.706308)\">1</text>\n",
       "</svg>\n",
       "        </td>\n",
       "    </tr>\n",
       "</table>"
      ],
      "text/plain": [
       "dask.array<from-value, shape=(5420215,), dtype=float32, chunksize=(5420215,), chunktype=numpy.ndarray>"
      ]
     },
     "execution_count": 10,
     "metadata": {},
     "output_type": "execute_result"
    }
   ],
   "source": [
    "y_pred"
   ]
  },
  {
   "cell_type": "code",
   "execution_count": null,
   "metadata": {},
   "outputs": [
    {
     "name": "stderr",
     "output_type": "stream",
     "text": [
      "Joining predictions back to source-target pairs\n",
      "/gpfs/Home/esm5360/.conda/envs/my_env/lib/python3.9/site-packages/distributed/client.py:3362: UserWarning: Sending large graph of size 292.60 MiB.\n",
      "This may cause some slowdown.\n",
      "Consider loading the data with Dask directly\n",
      " or using futures or delayed objects to embed the data into the graph without repetition.\n",
      "See also https://docs.dask.org/en/stable/best-practices.html#load-data-with-dask for more information.\n",
      "  warnings.warn(\n"
     ]
    }
   ],
   "source": [
    "# Convert to pandas (merging Dask DataFrame + Dask array)\n",
    "logging.info(\"Joining predictions back to source-target pairs\")\n",
    "result_df = inferred_dd[[\"source_id\", \"peak_id\", \"target_id\"]].compute()\n",
    "result_df[\"score\"] = y_pred.compute()\n",
    "result_df = result_df.drop_duplicates()"
   ]
  },
  {
   "cell_type": "code",
   "execution_count": null,
   "metadata": {},
   "outputs": [
    {
     "data": {
      "application/vnd.microsoft.datawrangler.viewer.v0+json": {
       "columns": [
        {
         "name": "index",
         "rawType": "int64",
         "type": "integer"
        },
        {
         "name": "source_id",
         "rawType": "string",
         "type": "string"
        },
        {
         "name": "peak_id",
         "rawType": "string",
         "type": "string"
        },
        {
         "name": "target_id",
         "rawType": "string",
         "type": "string"
        },
        {
         "name": "score",
         "rawType": "float32",
         "type": "float"
        }
       ],
       "ref": "69d91459-72b2-4479-841f-863edabc6a66",
       "rows": [
        [
         "0",
         "AHCTF1",
         "chr10:110317230-110317830",
         "NAP1L1",
         "0.12505205"
        ],
        [
         "1",
         "AHCTF1",
         "chr10:110534362-110534962",
         "NAP1L1",
         "0.14226116"
        ],
        [
         "2",
         "AHCTF1",
         "chr10:110600132-110600732",
         "NAP1L1",
         "0.15363993"
        ],
        [
         "3",
         "AHCTF1",
         "chr10:110782584-110783184",
         "NAP1L1",
         "0.12505205"
        ],
        [
         "4",
         "AHCTF1",
         "chr10:110794392-110794992",
         "NAP1L1",
         "0.15363993"
        ],
        [
         "5",
         "AHCTF1",
         "chr10:110899604-110900204",
         "NAP1L1",
         "0.13527143"
        ],
        [
         "6",
         "AHCTF1",
         "chr10:111031276-111031876",
         "NAP1L1",
         "0.14226116"
        ],
        [
         "7",
         "AHCTF1",
         "chr10:111205799-111206399",
         "NAP1L1",
         "0.15588541"
        ],
        [
         "8",
         "AHCTF1",
         "chr10:111298279-111298879",
         "NAP1L1",
         "0.056261368"
        ],
        [
         "9",
         "AHCTF1",
         "chr10:111317872-111318472",
         "NAP1L1",
         "0.14226116"
        ],
        [
         "10",
         "AHCTF1",
         "chr10:111867446-111868046",
         "NAP1L1",
         "0.15588541"
        ],
        [
         "11",
         "AHCTF1",
         "chr10:111897203-111897803",
         "NAP1L1",
         "0.15588541"
        ],
        [
         "12",
         "AHCTF1",
         "chr10:111936817-111937417",
         "NAP1L1",
         "0.14226116"
        ],
        [
         "13",
         "AHCTF1",
         "chr10:112059864-112060464",
         "NAP1L1",
         "0.13527143"
        ],
        [
         "14",
         "AHCTF1",
         "chr10:112105688-112106288",
         "NAP1L1",
         "0.14226116"
        ],
        [
         "15",
         "AHCTF1",
         "chr10:112228971-112229571",
         "NAP1L1",
         "0.15588541"
        ],
        [
         "16",
         "AHCTF1",
         "chr10:116104947-116105547",
         "ZFC3H1",
         "0.12199766"
        ],
        [
         "17",
         "AHCTF1",
         "chr10:116418020-116418620",
         "CPSF6",
         "0.087333925"
        ],
        [
         "18",
         "AHCTF1",
         "chr10:116534203-116534803",
         "CPSF6",
         "0.14970534"
        ],
        [
         "19",
         "AHCTF1",
         "chr10:116697730-116698330",
         "CPSF6",
         "0.14970534"
        ],
        [
         "20",
         "AHCTF1",
         "chr10:116697730-116698330",
         "NUP107",
         "0.20053929"
        ],
        [
         "21",
         "AHCTF1",
         "chr10:116714895-116715495",
         "CPSF6",
         "0.13173403"
        ],
        [
         "22",
         "AHCTF1",
         "chr10:116714895-116715495",
         "NUP107",
         "0.20053929"
        ],
        [
         "23",
         "AHCTF1",
         "chr10:116827926-116828526",
         "CPSF6",
         "0.13173403"
        ],
        [
         "24",
         "AHCTF1",
         "chr10:116827926-116828526",
         "NUP107",
         "0.20053929"
        ],
        [
         "25",
         "AHCTF1",
         "chr10:116890506-116891106",
         "CPSF6",
         "0.13173403"
        ],
        [
         "26",
         "AHCTF1",
         "chr10:116890506-116891106",
         "NUP107",
         "0.20053929"
        ],
        [
         "27",
         "AHCTF1",
         "chr10:117078199-117078799",
         "CPSF6",
         "0.13173403"
        ],
        [
         "28",
         "AHCTF1",
         "chr10:117078199-117078799",
         "NUP107",
         "0.20053929"
        ],
        [
         "29",
         "AHCTF1",
         "chr10:117259819-117260419",
         "CPSF6",
         "0.13173403"
        ],
        [
         "30",
         "AHCTF1",
         "chr10:117259819-117260419",
         "NUP107",
         "0.16349687"
        ],
        [
         "31",
         "AHCTF1",
         "chr10:117284963-117285563",
         "CPSF6",
         "0.13173403"
        ],
        [
         "32",
         "AHCTF1",
         "chr10:117284963-117285563",
         "NUP107",
         "0.20053929"
        ],
        [
         "33",
         "AHCTF1",
         "chr10:117342305-117342905",
         "CPSF6",
         "0.14970534"
        ],
        [
         "34",
         "AHCTF1",
         "chr10:117342305-117342905",
         "NUP107",
         "0.21832424"
        ],
        [
         "35",
         "AHCTF1",
         "chr10:117362984-117363584",
         "CPSF6",
         "0.1475665"
        ],
        [
         "36",
         "AHCTF1",
         "chr10:117362984-117363584",
         "NUP107",
         "0.21832424"
        ],
        [
         "37",
         "AHCTF1",
         "chr10:117775669-117776269",
         "CPSF6",
         "0.13173403"
        ],
        [
         "38",
         "AHCTF1",
         "chr10:117775669-117776269",
         "NUP107",
         "0.20053929"
        ],
        [
         "39",
         "AHCTF1",
         "chr10:118159613-118160213",
         "CPSF6",
         "0.13173403"
        ],
        [
         "40",
         "AHCTF1",
         "chr10:118159613-118160213",
         "NUP107",
         "0.20053929"
        ],
        [
         "41",
         "AHCTF1",
         "chr10:119326823-119327423",
         "HMGA2",
         "0.12890173"
        ],
        [
         "42",
         "AHCTF1",
         "chr10:119367408-119368008",
         "HMGA2",
         "0.12890173"
        ],
        [
         "43",
         "AHCTF1",
         "chr10:119660599-119661199",
         "HMGA2",
         "0.12890173"
        ],
        [
         "44",
         "AHCTF1",
         "chr10:119705260-119705860",
         "HMGA2",
         "0.12890173"
        ],
        [
         "45",
         "AHCTF1",
         "chr10:119716258-119716858",
         "HMGA2",
         "0.12890173"
        ],
        [
         "46",
         "AHCTF1",
         "chr10:119839693-119840293",
         "HMGA2",
         "0.09978695"
        ],
        [
         "47",
         "AHCTF1",
         "chr10:119839693-119840293",
         "LEMD3",
         "0.077733755"
        ],
        [
         "48",
         "AHCTF1",
         "chr10:119878281-119878881",
         "HMGA2",
         "0.12418676"
        ],
        [
         "49",
         "AHCTF1",
         "chr10:119878281-119878881",
         "LEMD3",
         "0.13013569"
        ]
       ],
       "shape": {
        "columns": 4,
        "rows": 5420215
       }
      },
      "text/html": [
       "<div>\n",
       "<style scoped>\n",
       "    .dataframe tbody tr th:only-of-type {\n",
       "        vertical-align: middle;\n",
       "    }\n",
       "\n",
       "    .dataframe tbody tr th {\n",
       "        vertical-align: top;\n",
       "    }\n",
       "\n",
       "    .dataframe thead th {\n",
       "        text-align: right;\n",
       "    }\n",
       "</style>\n",
       "<table border=\"1\" class=\"dataframe\">\n",
       "  <thead>\n",
       "    <tr style=\"text-align: right;\">\n",
       "      <th>score_type</th>\n",
       "      <th>source_id</th>\n",
       "      <th>peak_id</th>\n",
       "      <th>target_id</th>\n",
       "      <th>score</th>\n",
       "    </tr>\n",
       "  </thead>\n",
       "  <tbody>\n",
       "    <tr>\n",
       "      <th>0</th>\n",
       "      <td>AHCTF1</td>\n",
       "      <td>chr10:110317230-110317830</td>\n",
       "      <td>NAP1L1</td>\n",
       "      <td>0.125052</td>\n",
       "    </tr>\n",
       "    <tr>\n",
       "      <th>1</th>\n",
       "      <td>AHCTF1</td>\n",
       "      <td>chr10:110534362-110534962</td>\n",
       "      <td>NAP1L1</td>\n",
       "      <td>0.142261</td>\n",
       "    </tr>\n",
       "    <tr>\n",
       "      <th>2</th>\n",
       "      <td>AHCTF1</td>\n",
       "      <td>chr10:110600132-110600732</td>\n",
       "      <td>NAP1L1</td>\n",
       "      <td>0.153640</td>\n",
       "    </tr>\n",
       "    <tr>\n",
       "      <th>3</th>\n",
       "      <td>AHCTF1</td>\n",
       "      <td>chr10:110782584-110783184</td>\n",
       "      <td>NAP1L1</td>\n",
       "      <td>0.125052</td>\n",
       "    </tr>\n",
       "    <tr>\n",
       "      <th>4</th>\n",
       "      <td>AHCTF1</td>\n",
       "      <td>chr10:110794392-110794992</td>\n",
       "      <td>NAP1L1</td>\n",
       "      <td>0.153640</td>\n",
       "    </tr>\n",
       "    <tr>\n",
       "      <th>...</th>\n",
       "      <td>...</td>\n",
       "      <td>...</td>\n",
       "      <td>...</td>\n",
       "      <td>...</td>\n",
       "    </tr>\n",
       "    <tr>\n",
       "      <th>5420210</th>\n",
       "      <td>ZZZ3</td>\n",
       "      <td>chrX:99853079-99853679</td>\n",
       "      <td>OGT</td>\n",
       "      <td>0.535019</td>\n",
       "    </tr>\n",
       "    <tr>\n",
       "      <th>5420211</th>\n",
       "      <td>ZZZ3</td>\n",
       "      <td>chrX:99853079-99853679</td>\n",
       "      <td>TAF1</td>\n",
       "      <td>0.513381</td>\n",
       "    </tr>\n",
       "    <tr>\n",
       "      <th>5420212</th>\n",
       "      <td>ZZZ3</td>\n",
       "      <td>chrX:99959435-99960035</td>\n",
       "      <td>OGT</td>\n",
       "      <td>0.451607</td>\n",
       "    </tr>\n",
       "    <tr>\n",
       "      <th>5420213</th>\n",
       "      <td>ZZZ3</td>\n",
       "      <td>chrX:99959435-99960035</td>\n",
       "      <td>SLC23A1</td>\n",
       "      <td>0.220922</td>\n",
       "    </tr>\n",
       "    <tr>\n",
       "      <th>5420214</th>\n",
       "      <td>ZZZ3</td>\n",
       "      <td>chrX:99959435-99960035</td>\n",
       "      <td>TAF1</td>\n",
       "      <td>0.387344</td>\n",
       "    </tr>\n",
       "  </tbody>\n",
       "</table>\n",
       "<p>5420215 rows × 4 columns</p>\n",
       "</div>"
      ],
      "text/plain": [
       "score_type source_id                    peak_id target_id     score\n",
       "0             AHCTF1  chr10:110317230-110317830    NAP1L1  0.125052\n",
       "1             AHCTF1  chr10:110534362-110534962    NAP1L1  0.142261\n",
       "2             AHCTF1  chr10:110600132-110600732    NAP1L1  0.153640\n",
       "3             AHCTF1  chr10:110782584-110783184    NAP1L1  0.125052\n",
       "4             AHCTF1  chr10:110794392-110794992    NAP1L1  0.153640\n",
       "...              ...                        ...       ...       ...\n",
       "5420210         ZZZ3     chrX:99853079-99853679       OGT  0.535019\n",
       "5420211         ZZZ3     chrX:99853079-99853679      TAF1  0.513381\n",
       "5420212         ZZZ3     chrX:99959435-99960035       OGT  0.451607\n",
       "5420213         ZZZ3     chrX:99959435-99960035   SLC23A1  0.220922\n",
       "5420214         ZZZ3     chrX:99959435-99960035      TAF1  0.387344\n",
       "\n",
       "[5420215 rows x 4 columns]"
      ]
     },
     "execution_count": 12,
     "metadata": {},
     "output_type": "execute_result"
    }
   ],
   "source": [
    "result_df"
   ]
  }
 ],
 "metadata": {
  "language_info": {
   "codemirror_mode": {
    "name": "ipython",
    "version": 3
   },
   "file_extension": ".py",
   "mimetype": "text/x-python",
   "name": "python",
   "nbconvert_exporter": "python",
   "pygments_lexer": "ipython3",
   "version": 3
  }
 },
 "nbformat": 4,
 "nbformat_minor": 2
}
