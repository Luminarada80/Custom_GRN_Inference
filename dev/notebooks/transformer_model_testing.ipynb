{
 "cells": [
  {
   "cell_type": "markdown",
   "id": "093fc20d",
   "metadata": {},
   "source": [
    "# Transformer Model\n",
    "\n",
    "My idea here is to use the TF expression, RE availability, and the distance from RE to TG TSS as the input to a transformer model which predicts TG expression. The output of the transformer will be the predicted expression of each TG, which will be compared to the expression in the dataset."
   ]
  },
  {
   "cell_type": "code",
   "execution_count": 1,
   "id": "9f5461be",
   "metadata": {},
   "outputs": [
    {
     "name": "stdout",
     "output_type": "stream",
     "text": [
      "   Static hostname: psh01com1hcom35\n",
      "         Icon name: computer-server\n",
      "           Chassis: server\n",
      "        Machine ID: 6860da98c8574f44be8f2ea25abdb7fb\n",
      "           Boot ID: bbdde321ce964aff96f74d2bfdfe077c\n",
      "  Operating System: \u001b]8;;https://www.redhat.com/\u0007Red Hat Enterprise Linux 8.10 (Ootpa)\u001b]8;;\u0007\n",
      "       CPE OS Name: cpe:/o:redhat:enterprise_linux:8::baseos\n",
      "            Kernel: Linux 4.18.0-553.22.1.el8_10.x86_64\n",
      "      Architecture: x86-64\n"
     ]
    }
   ],
   "source": [
    "!hostnamectl"
   ]
  },
  {
   "cell_type": "code",
   "execution_count": 2,
   "id": "01f752da",
   "metadata": {},
   "outputs": [],
   "source": [
    "\n",
    "import os\n",
    "import torch\n",
    "import torch.nn as nn\n",
    "import torch.nn.functional as F\n",
    "import torch.optim as optim\n",
    "import numpy as np\n",
    "import pandas as pd\n",
    "import pybedtools\n",
    "from grn_inference import utils\n",
    "\n",
    "torch.manual_seed(1)\n",
    "np.random.seed(42)\n",
    "\n",
    "project_dir = \"/gpfs/Labs/Uzun/SCRIPTS/PROJECTS/2024.SINGLE_CELL_GRN_INFERENCE.MOELLER\"\n",
    "mm10_genome_dir = os.path.join(project_dir, \"data/reference_genome/mm10\")\n",
    "mm10_gene_tss_file = os.path.join(project_dir, \"data/genome_annotation/mm10/mm10_TSS.bed\")\n",
    "ground_truth_dir = os.path.join(project_dir, \"ground_truth_files\")\n",
    "sample_input_dir = os.path.join(project_dir, \"input/mESC/filtered_L2_E7.5_rep1\")\n",
    "output_dir = os.path.join(project_dir, \"output/transformer_testing_output\")"
   ]
  },
  {
   "cell_type": "markdown",
   "id": "879169c6",
   "metadata": {},
   "source": [
    "### Splitting the mm10 genome into ranges\n",
    "\n",
    "Peak locations are going to be different for every sample. If I want to allow my method to work across multiple samples, I will need to split peaks into genomic ranges to allow the model to learn. If the peak overlaps with two genomic ranges, they will be counted as being located in the range which overlaps with the majority of the peak. If a peak is evenly split between two ranges, it will be randomly assigned."
   ]
  },
  {
   "cell_type": "markdown",
   "id": "6dec0778",
   "metadata": {},
   "source": [
    "#### Read in the mm10 gene TSS bed file"
   ]
  },
  {
   "cell_type": "code",
   "execution_count": 60,
   "id": "e5fbf2c0",
   "metadata": {},
   "outputs": [],
   "source": [
    "mm10_fasta_file = os.path.join(mm10_genome_dir, \"chr19.fa\")\n",
    "mm10_chrom_sizes_file = os.path.join(mm10_genome_dir, \"chrom.sizes\")"
   ]
  },
  {
   "cell_type": "code",
   "execution_count": 61,
   "id": "b6b725b1",
   "metadata": {},
   "outputs": [
    {
     "name": "stdout",
     "output_type": "stream",
     "text": [
      "Reading and formatting TSS bed file\n"
     ]
    },
    {
     "data": {
      "application/vnd.microsoft.datawrangler.viewer.v0+json": {
       "columns": [
        {
         "name": "index",
         "rawType": "int64",
         "type": "integer"
        },
        {
         "name": "chrom",
         "rawType": "object",
         "type": "string"
        },
        {
         "name": "start",
         "rawType": "int64",
         "type": "integer"
        },
        {
         "name": "end",
         "rawType": "int64",
         "type": "integer"
        },
        {
         "name": "name",
         "rawType": "object",
         "type": "string"
        },
        {
         "name": "score",
         "rawType": "object",
         "type": "string"
        },
        {
         "name": "strand",
         "rawType": "object",
         "type": "string"
        }
       ],
       "ref": "c6a6e0b1-18e9-49ab-94f8-74c022c679d4",
       "rows": [
        [
         "0",
         "chr19",
         "3197703",
         "3197703",
         "1700030N03Rik",
         ".",
         "-"
        ],
        [
         "1",
         "chr19",
         "3283010",
         "3283010",
         "Ighmbp2",
         ".",
         "-"
        ],
        [
         "2",
         "chr19",
         "3283041",
         "3283041",
         "Mrpl21",
         ".",
         "+"
        ],
        [
         "3",
         "chr19",
         "3288919",
         "3288919",
         "Mir6984",
         ".",
         "+"
        ],
        [
         "4",
         "chr19",
         "3323300",
         "3323300",
         "Cpt1a",
         ".",
         "+"
        ]
       ],
       "shape": {
        "columns": 6,
        "rows": 5
       }
      },
      "text/html": [
       "<div>\n",
       "<style scoped>\n",
       "    .dataframe tbody tr th:only-of-type {\n",
       "        vertical-align: middle;\n",
       "    }\n",
       "\n",
       "    .dataframe tbody tr th {\n",
       "        vertical-align: top;\n",
       "    }\n",
       "\n",
       "    .dataframe thead th {\n",
       "        text-align: right;\n",
       "    }\n",
       "</style>\n",
       "<table border=\"1\" class=\"dataframe\">\n",
       "  <thead>\n",
       "    <tr style=\"text-align: right;\">\n",
       "      <th></th>\n",
       "      <th>chrom</th>\n",
       "      <th>start</th>\n",
       "      <th>end</th>\n",
       "      <th>name</th>\n",
       "      <th>score</th>\n",
       "      <th>strand</th>\n",
       "    </tr>\n",
       "  </thead>\n",
       "  <tbody>\n",
       "    <tr>\n",
       "      <th>0</th>\n",
       "      <td>chr19</td>\n",
       "      <td>3197703</td>\n",
       "      <td>3197703</td>\n",
       "      <td>1700030N03Rik</td>\n",
       "      <td>.</td>\n",
       "      <td>-</td>\n",
       "    </tr>\n",
       "    <tr>\n",
       "      <th>1</th>\n",
       "      <td>chr19</td>\n",
       "      <td>3283010</td>\n",
       "      <td>3283010</td>\n",
       "      <td>Ighmbp2</td>\n",
       "      <td>.</td>\n",
       "      <td>-</td>\n",
       "    </tr>\n",
       "    <tr>\n",
       "      <th>2</th>\n",
       "      <td>chr19</td>\n",
       "      <td>3283041</td>\n",
       "      <td>3283041</td>\n",
       "      <td>Mrpl21</td>\n",
       "      <td>.</td>\n",
       "      <td>+</td>\n",
       "    </tr>\n",
       "    <tr>\n",
       "      <th>3</th>\n",
       "      <td>chr19</td>\n",
       "      <td>3288919</td>\n",
       "      <td>3288919</td>\n",
       "      <td>Mir6984</td>\n",
       "      <td>.</td>\n",
       "      <td>+</td>\n",
       "    </tr>\n",
       "    <tr>\n",
       "      <th>4</th>\n",
       "      <td>chr19</td>\n",
       "      <td>3323300</td>\n",
       "      <td>3323300</td>\n",
       "      <td>Cpt1a</td>\n",
       "      <td>.</td>\n",
       "      <td>+</td>\n",
       "    </tr>\n",
       "  </tbody>\n",
       "</table>\n",
       "</div>"
      ],
      "text/plain": [
       "   chrom    start      end           name score strand\n",
       "0  chr19  3197703  3197703  1700030N03Rik     .      -\n",
       "1  chr19  3283010  3283010        Ighmbp2     .      -\n",
       "2  chr19  3283041  3283041         Mrpl21     .      +\n",
       "3  chr19  3288919  3288919        Mir6984     .      +\n",
       "4  chr19  3323300  3323300          Cpt1a     .      +"
      ]
     },
     "execution_count": 61,
     "metadata": {},
     "output_type": "execute_result"
    }
   ],
   "source": [
    "print(\"Reading and formatting TSS bed file\")\n",
    "mm10_gene_tss_bed = pybedtools.BedTool(mm10_gene_tss_file)\n",
    "gene_tss_df = (\n",
    "    mm10_gene_tss_bed\n",
    "    .filter(lambda x: x.chrom == \"chr19\")\n",
    "    .saveas(os.path.join(mm10_genome_dir, \"mm10_ch19_gene_tss.bed\"))\n",
    "    .to_dataframe()\n",
    "    .sort_values(by=\"start\", ascending=True)\n",
    "    )\n",
    "gene_tss_df.head()\n",
    "\n"
   ]
  },
  {
   "cell_type": "markdown",
   "id": "5603ad8f",
   "metadata": {},
   "source": [
    "#### Read in the scATAC-seq dataset"
   ]
  },
  {
   "cell_type": "markdown",
   "id": "2c487120",
   "metadata": {},
   "source": [
    "We will also need the ATAC-seq dataset that we will use for training. We will load in the scATAC-seq counts csv file."
   ]
  },
  {
   "cell_type": "code",
   "execution_count": 62,
   "id": "bac27da5",
   "metadata": {},
   "outputs": [
    {
     "data": {
      "application/vnd.microsoft.datawrangler.viewer.v0+json": {
       "columns": [
        {
         "name": "index",
         "rawType": "int64",
         "type": "integer"
        },
        {
         "name": "chrom",
         "rawType": "object",
         "type": "string"
        },
        {
         "name": "start",
         "rawType": "int64",
         "type": "integer"
        },
        {
         "name": "end",
         "rawType": "int64",
         "type": "integer"
        },
        {
         "name": "strand",
         "rawType": "object",
         "type": "string"
        },
        {
         "name": "peak_id",
         "rawType": "object",
         "type": "string"
        }
       ],
       "ref": "f55ab291-b47f-429a-a5dc-376ec7fd0d42",
       "rows": [
        [
         "84361",
         "chr19",
         "3282721",
         "3283321",
         ".",
         "chr19:3282721-3283321"
        ],
        [
         "84362",
         "chr19",
         "3291918",
         "3292518",
         ".",
         "chr19:3291918-3292518"
        ],
        [
         "84363",
         "chr19",
         "3306995",
         "3307595",
         ".",
         "chr19:3306995-3307595"
        ],
        [
         "84364",
         "chr19",
         "3308573",
         "3309173",
         ".",
         "chr19:3308573-3309173"
        ],
        [
         "84365",
         "chr19",
         "3321460",
         "3322060",
         ".",
         "chr19:3321460-3322060"
        ]
       ],
       "shape": {
        "columns": 5,
        "rows": 5
       }
      },
      "text/html": [
       "<div>\n",
       "<style scoped>\n",
       "    .dataframe tbody tr th:only-of-type {\n",
       "        vertical-align: middle;\n",
       "    }\n",
       "\n",
       "    .dataframe tbody tr th {\n",
       "        vertical-align: top;\n",
       "    }\n",
       "\n",
       "    .dataframe thead th {\n",
       "        text-align: right;\n",
       "    }\n",
       "</style>\n",
       "<table border=\"1\" class=\"dataframe\">\n",
       "  <thead>\n",
       "    <tr style=\"text-align: right;\">\n",
       "      <th></th>\n",
       "      <th>chrom</th>\n",
       "      <th>start</th>\n",
       "      <th>end</th>\n",
       "      <th>strand</th>\n",
       "      <th>peak_id</th>\n",
       "    </tr>\n",
       "  </thead>\n",
       "  <tbody>\n",
       "    <tr>\n",
       "      <th>84361</th>\n",
       "      <td>chr19</td>\n",
       "      <td>3282721</td>\n",
       "      <td>3283321</td>\n",
       "      <td>.</td>\n",
       "      <td>chr19:3282721-3283321</td>\n",
       "    </tr>\n",
       "    <tr>\n",
       "      <th>84362</th>\n",
       "      <td>chr19</td>\n",
       "      <td>3291918</td>\n",
       "      <td>3292518</td>\n",
       "      <td>.</td>\n",
       "      <td>chr19:3291918-3292518</td>\n",
       "    </tr>\n",
       "    <tr>\n",
       "      <th>84363</th>\n",
       "      <td>chr19</td>\n",
       "      <td>3306995</td>\n",
       "      <td>3307595</td>\n",
       "      <td>.</td>\n",
       "      <td>chr19:3306995-3307595</td>\n",
       "    </tr>\n",
       "    <tr>\n",
       "      <th>84364</th>\n",
       "      <td>chr19</td>\n",
       "      <td>3308573</td>\n",
       "      <td>3309173</td>\n",
       "      <td>.</td>\n",
       "      <td>chr19:3308573-3309173</td>\n",
       "    </tr>\n",
       "    <tr>\n",
       "      <th>84365</th>\n",
       "      <td>chr19</td>\n",
       "      <td>3321460</td>\n",
       "      <td>3322060</td>\n",
       "      <td>.</td>\n",
       "      <td>chr19:3321460-3322060</td>\n",
       "    </tr>\n",
       "  </tbody>\n",
       "</table>\n",
       "</div>"
      ],
      "text/plain": [
       "       chrom    start      end strand                peak_id\n",
       "84361  chr19  3282721  3283321      .  chr19:3282721-3283321\n",
       "84362  chr19  3291918  3292518      .  chr19:3291918-3292518\n",
       "84363  chr19  3306995  3307595      .  chr19:3306995-3307595\n",
       "84364  chr19  3308573  3309173      .  chr19:3308573-3309173\n",
       "84365  chr19  3321460  3322060      .  chr19:3321460-3322060"
      ]
     },
     "execution_count": 62,
     "metadata": {},
     "output_type": "execute_result"
    }
   ],
   "source": [
    "mesc_atac_data = pd.read_parquet(os.path.join(sample_input_dir, \"mESC_filtered_L2_E7.5_rep1_ATAC_processed.parquet\")).set_index(\"peak_id\")\n",
    "mesc_atac_peak_loc = mesc_atac_data.index\n",
    "mesc_atac_peak_loc = utils.format_peaks(mesc_atac_peak_loc)\n",
    "mesc_atac_peak_loc = mesc_atac_peak_loc[mesc_atac_peak_loc[\"chromosome\"] == \"chr19\"]\n",
    "mesc_atac_peak_loc = mesc_atac_peak_loc.rename(columns={\"chromosome\":\"chrom\"})\n",
    "mesc_atac_peak_loc.head()"
   ]
  },
  {
   "cell_type": "markdown",
   "id": "984ceb6e",
   "metadata": {},
   "source": [
    "We will also restrict the scATAC-seq data to only use chromatin accessibility data for chromosome 19 for now."
   ]
  },
  {
   "cell_type": "code",
   "execution_count": 63,
   "id": "6f0c0239",
   "metadata": {},
   "outputs": [
    {
     "data": {
      "application/vnd.microsoft.datawrangler.viewer.v0+json": {
       "columns": [
        {
         "name": "peak_id",
         "rawType": "object",
         "type": "string"
        },
        {
         "name": "E7.5_rep1#AAACCGGCAGAAATGC-1",
         "rawType": "float64",
         "type": "float"
        },
        {
         "name": "E7.5_rep1#AAACGGATCATAACTG-1",
         "rawType": "float64",
         "type": "float"
        },
        {
         "name": "E7.5_rep1#AAAGCACCATTAGCGC-1",
         "rawType": "float64",
         "type": "float"
        }
       ],
       "ref": "cd8d7f63-61ba-4e59-b618-23551db5fe0f",
       "rows": [
        [
         "chr19:3282721-3283321",
         "0.0",
         "3.431040228556267",
         "0.0"
        ],
        [
         "chr19:3291918-3292518",
         "0.0",
         "0.0",
         "0.0"
        ],
        [
         "chr19:3306995-3307595",
         "0.0",
         "0.0",
         "0.0"
        ],
        [
         "chr19:3308573-3309173",
         "0.0",
         "0.0",
         "0.0"
        ],
        [
         "chr19:3321460-3322060",
         "0.0",
         "0.0",
         "0.0"
        ]
       ],
       "shape": {
        "columns": 3,
        "rows": 5
       }
      },
      "text/html": [
       "<div>\n",
       "<style scoped>\n",
       "    .dataframe tbody tr th:only-of-type {\n",
       "        vertical-align: middle;\n",
       "    }\n",
       "\n",
       "    .dataframe tbody tr th {\n",
       "        vertical-align: top;\n",
       "    }\n",
       "\n",
       "    .dataframe thead th {\n",
       "        text-align: right;\n",
       "    }\n",
       "</style>\n",
       "<table border=\"1\" class=\"dataframe\">\n",
       "  <thead>\n",
       "    <tr style=\"text-align: right;\">\n",
       "      <th></th>\n",
       "      <th>E7.5_rep1#AAACCGGCAGAAATGC-1</th>\n",
       "      <th>E7.5_rep1#AAACGGATCATAACTG-1</th>\n",
       "      <th>E7.5_rep1#AAAGCACCATTAGCGC-1</th>\n",
       "    </tr>\n",
       "    <tr>\n",
       "      <th>peak_id</th>\n",
       "      <th></th>\n",
       "      <th></th>\n",
       "      <th></th>\n",
       "    </tr>\n",
       "  </thead>\n",
       "  <tbody>\n",
       "    <tr>\n",
       "      <th>chr19:3282721-3283321</th>\n",
       "      <td>0.0</td>\n",
       "      <td>3.43104</td>\n",
       "      <td>0.0</td>\n",
       "    </tr>\n",
       "    <tr>\n",
       "      <th>chr19:3291918-3292518</th>\n",
       "      <td>0.0</td>\n",
       "      <td>0.00000</td>\n",
       "      <td>0.0</td>\n",
       "    </tr>\n",
       "    <tr>\n",
       "      <th>chr19:3306995-3307595</th>\n",
       "      <td>0.0</td>\n",
       "      <td>0.00000</td>\n",
       "      <td>0.0</td>\n",
       "    </tr>\n",
       "    <tr>\n",
       "      <th>chr19:3308573-3309173</th>\n",
       "      <td>0.0</td>\n",
       "      <td>0.00000</td>\n",
       "      <td>0.0</td>\n",
       "    </tr>\n",
       "    <tr>\n",
       "      <th>chr19:3321460-3322060</th>\n",
       "      <td>0.0</td>\n",
       "      <td>0.00000</td>\n",
       "      <td>0.0</td>\n",
       "    </tr>\n",
       "  </tbody>\n",
       "</table>\n",
       "</div>"
      ],
      "text/plain": [
       "                       E7.5_rep1#AAACCGGCAGAAATGC-1  \\\n",
       "peak_id                                               \n",
       "chr19:3282721-3283321                           0.0   \n",
       "chr19:3291918-3292518                           0.0   \n",
       "chr19:3306995-3307595                           0.0   \n",
       "chr19:3308573-3309173                           0.0   \n",
       "chr19:3321460-3322060                           0.0   \n",
       "\n",
       "                       E7.5_rep1#AAACGGATCATAACTG-1  \\\n",
       "peak_id                                               \n",
       "chr19:3282721-3283321                       3.43104   \n",
       "chr19:3291918-3292518                       0.00000   \n",
       "chr19:3306995-3307595                       0.00000   \n",
       "chr19:3308573-3309173                       0.00000   \n",
       "chr19:3321460-3322060                       0.00000   \n",
       "\n",
       "                       E7.5_rep1#AAAGCACCATTAGCGC-1  \n",
       "peak_id                                              \n",
       "chr19:3282721-3283321                           0.0  \n",
       "chr19:3291918-3292518                           0.0  \n",
       "chr19:3306995-3307595                           0.0  \n",
       "chr19:3308573-3309173                           0.0  \n",
       "chr19:3321460-3322060                           0.0  "
      ]
     },
     "execution_count": 63,
     "metadata": {},
     "output_type": "execute_result"
    }
   ],
   "source": [
    "mesc_atac_data_chr19 = mesc_atac_data[mesc_atac_data.index.isin(mesc_atac_peak_loc.peak_id)]\n",
    "mesc_atac_data_chr19.iloc[:5, :3].head()"
   ]
  },
  {
   "cell_type": "markdown",
   "id": "285a4989",
   "metadata": {},
   "source": [
    "#### Read in the scRNA-seq dataset\n",
    "\n",
    "In addition to the ATAC-seq dataset, we will also need the corresponding gene expression from the scRNA-seq counts csv file."
   ]
  },
  {
   "cell_type": "code",
   "execution_count": 64,
   "id": "5a5c35e1",
   "metadata": {},
   "outputs": [
    {
     "data": {
      "application/vnd.microsoft.datawrangler.viewer.v0+json": {
       "columns": [
        {
         "name": "gene_id",
         "rawType": "object",
         "type": "string"
        },
        {
         "name": "E7.5_rep1#AAACCGGCAGAAATGC-1",
         "rawType": "float64",
         "type": "float"
        },
        {
         "name": "E7.5_rep1#AAACGGATCATAACTG-1",
         "rawType": "float64",
         "type": "float"
        },
        {
         "name": "E7.5_rep1#AAAGCACCATTAGCGC-1",
         "rawType": "float64",
         "type": "float"
        }
       ],
       "ref": "604d9d3d-a2c1-438d-a71f-176db987d521",
       "rows": [
        [
         "Xkr4",
         "0.0",
         "0.0",
         "0.0"
        ],
        [
         "Sox17",
         "0.0",
         "0.0",
         "0.0"
        ],
        [
         "Mrpl15",
         "0.0",
         "0.0",
         "0.0"
        ],
        [
         "Lypla1",
         "0.0",
         "0.0",
         "0.0"
        ],
        [
         "Tcea1",
         "5.930212676548389",
         "0.0",
         "0.0"
        ]
       ],
       "shape": {
        "columns": 3,
        "rows": 5
       }
      },
      "text/html": [
       "<div>\n",
       "<style scoped>\n",
       "    .dataframe tbody tr th:only-of-type {\n",
       "        vertical-align: middle;\n",
       "    }\n",
       "\n",
       "    .dataframe tbody tr th {\n",
       "        vertical-align: top;\n",
       "    }\n",
       "\n",
       "    .dataframe thead th {\n",
       "        text-align: right;\n",
       "    }\n",
       "</style>\n",
       "<table border=\"1\" class=\"dataframe\">\n",
       "  <thead>\n",
       "    <tr style=\"text-align: right;\">\n",
       "      <th></th>\n",
       "      <th>E7.5_rep1#AAACCGGCAGAAATGC-1</th>\n",
       "      <th>E7.5_rep1#AAACGGATCATAACTG-1</th>\n",
       "      <th>E7.5_rep1#AAAGCACCATTAGCGC-1</th>\n",
       "    </tr>\n",
       "    <tr>\n",
       "      <th>gene_id</th>\n",
       "      <th></th>\n",
       "      <th></th>\n",
       "      <th></th>\n",
       "    </tr>\n",
       "  </thead>\n",
       "  <tbody>\n",
       "    <tr>\n",
       "      <th>Xkr4</th>\n",
       "      <td>0.000000</td>\n",
       "      <td>0.0</td>\n",
       "      <td>0.0</td>\n",
       "    </tr>\n",
       "    <tr>\n",
       "      <th>Sox17</th>\n",
       "      <td>0.000000</td>\n",
       "      <td>0.0</td>\n",
       "      <td>0.0</td>\n",
       "    </tr>\n",
       "    <tr>\n",
       "      <th>Mrpl15</th>\n",
       "      <td>0.000000</td>\n",
       "      <td>0.0</td>\n",
       "      <td>0.0</td>\n",
       "    </tr>\n",
       "    <tr>\n",
       "      <th>Lypla1</th>\n",
       "      <td>0.000000</td>\n",
       "      <td>0.0</td>\n",
       "      <td>0.0</td>\n",
       "    </tr>\n",
       "    <tr>\n",
       "      <th>Tcea1</th>\n",
       "      <td>5.930213</td>\n",
       "      <td>0.0</td>\n",
       "      <td>0.0</td>\n",
       "    </tr>\n",
       "  </tbody>\n",
       "</table>\n",
       "</div>"
      ],
      "text/plain": [
       "         E7.5_rep1#AAACCGGCAGAAATGC-1  E7.5_rep1#AAACGGATCATAACTG-1  \\\n",
       "gene_id                                                               \n",
       "Xkr4                         0.000000                           0.0   \n",
       "Sox17                        0.000000                           0.0   \n",
       "Mrpl15                       0.000000                           0.0   \n",
       "Lypla1                       0.000000                           0.0   \n",
       "Tcea1                        5.930213                           0.0   \n",
       "\n",
       "         E7.5_rep1#AAAGCACCATTAGCGC-1  \n",
       "gene_id                                \n",
       "Xkr4                              0.0  \n",
       "Sox17                             0.0  \n",
       "Mrpl15                            0.0  \n",
       "Lypla1                            0.0  \n",
       "Tcea1                             0.0  "
      ]
     },
     "execution_count": 64,
     "metadata": {},
     "output_type": "execute_result"
    }
   ],
   "source": [
    "mesc_rna_data = pd.read_parquet(os.path.join(sample_input_dir, \"mESC_filtered_L2_E7.5_rep1_RNA_processed.parquet\")).set_index(\"gene_id\")\n",
    "mesc_rna_data.iloc[0:5, 0:3].head()"
   ]
  },
  {
   "cell_type": "markdown",
   "id": "4fa8ebbc",
   "metadata": {},
   "source": [
    "### Genomic range distance to TG TSS\n",
    "\n",
    "The distance between each genomic range and each potential TG TSS within 1MB of the range will be calculated using the exponential drop-off function:\n",
    "\n",
    "$$\\text{Scaling Factor} = e^{-\\frac{\\text{peak to TSS Distance}}{25000}}$$\n",
    "\n",
    "This will reduce the regulatory effect that peaks in a genomic range can exert on a potential TG. The values in this matrix will be multiplied by the log1p normalized and min-max scaled RE accessibility.\n",
    "\n",
    "We will tile the mm10 genome using the mm10 `chrom.sizes` file and a window size of 1 kb. We will use this to create our genomic ranges for mapping peaks to potential TGs."
   ]
  },
  {
   "cell_type": "code",
   "execution_count": 65,
   "id": "b0a84168",
   "metadata": {},
   "outputs": [
    {
     "data": {
      "application/vnd.microsoft.datawrangler.viewer.v0+json": {
       "columns": [
        {
         "name": "index",
         "rawType": "int64",
         "type": "integer"
        },
        {
         "name": "chrom",
         "rawType": "object",
         "type": "string"
        },
        {
         "name": "start",
         "rawType": "int64",
         "type": "integer"
        },
        {
         "name": "end",
         "rawType": "int64",
         "type": "integer"
        }
       ],
       "ref": "fa3ab4ca-a7fd-46d9-8c22-7f028fa115b9",
       "rows": [
        [
         "0",
         "chr19",
         "0",
         "1000"
        ],
        [
         "1",
         "chr19",
         "1000",
         "2000"
        ],
        [
         "2",
         "chr19",
         "2000",
         "3000"
        ],
        [
         "3",
         "chr19",
         "3000",
         "4000"
        ],
        [
         "4",
         "chr19",
         "4000",
         "5000"
        ],
        [
         "5",
         "chr19",
         "5000",
         "6000"
        ],
        [
         "6",
         "chr19",
         "6000",
         "7000"
        ],
        [
         "7",
         "chr19",
         "7000",
         "8000"
        ],
        [
         "8",
         "chr19",
         "8000",
         "9000"
        ],
        [
         "9",
         "chr19",
         "9000",
         "10000"
        ],
        [
         "10",
         "chr19",
         "10000",
         "11000"
        ],
        [
         "11",
         "chr19",
         "11000",
         "12000"
        ],
        [
         "12",
         "chr19",
         "12000",
         "13000"
        ],
        [
         "13",
         "chr19",
         "13000",
         "14000"
        ],
        [
         "14",
         "chr19",
         "14000",
         "15000"
        ],
        [
         "15",
         "chr19",
         "15000",
         "16000"
        ],
        [
         "16",
         "chr19",
         "16000",
         "17000"
        ],
        [
         "17",
         "chr19",
         "17000",
         "18000"
        ],
        [
         "18",
         "chr19",
         "18000",
         "19000"
        ],
        [
         "19",
         "chr19",
         "19000",
         "20000"
        ],
        [
         "20",
         "chr19",
         "20000",
         "21000"
        ],
        [
         "21",
         "chr19",
         "21000",
         "22000"
        ],
        [
         "22",
         "chr19",
         "22000",
         "23000"
        ],
        [
         "23",
         "chr19",
         "23000",
         "24000"
        ],
        [
         "24",
         "chr19",
         "24000",
         "25000"
        ],
        [
         "25",
         "chr19",
         "25000",
         "26000"
        ],
        [
         "26",
         "chr19",
         "26000",
         "27000"
        ],
        [
         "27",
         "chr19",
         "27000",
         "28000"
        ],
        [
         "28",
         "chr19",
         "28000",
         "29000"
        ],
        [
         "29",
         "chr19",
         "29000",
         "30000"
        ],
        [
         "30",
         "chr19",
         "30000",
         "31000"
        ],
        [
         "31",
         "chr19",
         "31000",
         "32000"
        ],
        [
         "32",
         "chr19",
         "32000",
         "33000"
        ],
        [
         "33",
         "chr19",
         "33000",
         "34000"
        ],
        [
         "34",
         "chr19",
         "34000",
         "35000"
        ],
        [
         "35",
         "chr19",
         "35000",
         "36000"
        ],
        [
         "36",
         "chr19",
         "36000",
         "37000"
        ],
        [
         "37",
         "chr19",
         "37000",
         "38000"
        ],
        [
         "38",
         "chr19",
         "38000",
         "39000"
        ],
        [
         "39",
         "chr19",
         "39000",
         "40000"
        ],
        [
         "40",
         "chr19",
         "40000",
         "41000"
        ],
        [
         "41",
         "chr19",
         "41000",
         "42000"
        ],
        [
         "42",
         "chr19",
         "42000",
         "43000"
        ],
        [
         "43",
         "chr19",
         "43000",
         "44000"
        ],
        [
         "44",
         "chr19",
         "44000",
         "45000"
        ],
        [
         "45",
         "chr19",
         "45000",
         "46000"
        ],
        [
         "46",
         "chr19",
         "46000",
         "47000"
        ],
        [
         "47",
         "chr19",
         "47000",
         "48000"
        ],
        [
         "48",
         "chr19",
         "48000",
         "49000"
        ],
        [
         "49",
         "chr19",
         "49000",
         "50000"
        ]
       ],
       "shape": {
        "columns": 3,
        "rows": 61432
       }
      },
      "text/html": [
       "<div>\n",
       "<style scoped>\n",
       "    .dataframe tbody tr th:only-of-type {\n",
       "        vertical-align: middle;\n",
       "    }\n",
       "\n",
       "    .dataframe tbody tr th {\n",
       "        vertical-align: top;\n",
       "    }\n",
       "\n",
       "    .dataframe thead th {\n",
       "        text-align: right;\n",
       "    }\n",
       "</style>\n",
       "<table border=\"1\" class=\"dataframe\">\n",
       "  <thead>\n",
       "    <tr style=\"text-align: right;\">\n",
       "      <th></th>\n",
       "      <th>chrom</th>\n",
       "      <th>start</th>\n",
       "      <th>end</th>\n",
       "    </tr>\n",
       "  </thead>\n",
       "  <tbody>\n",
       "    <tr>\n",
       "      <th>0</th>\n",
       "      <td>chr19</td>\n",
       "      <td>0</td>\n",
       "      <td>1000</td>\n",
       "    </tr>\n",
       "    <tr>\n",
       "      <th>1</th>\n",
       "      <td>chr19</td>\n",
       "      <td>1000</td>\n",
       "      <td>2000</td>\n",
       "    </tr>\n",
       "    <tr>\n",
       "      <th>2</th>\n",
       "      <td>chr19</td>\n",
       "      <td>2000</td>\n",
       "      <td>3000</td>\n",
       "    </tr>\n",
       "    <tr>\n",
       "      <th>3</th>\n",
       "      <td>chr19</td>\n",
       "      <td>3000</td>\n",
       "      <td>4000</td>\n",
       "    </tr>\n",
       "    <tr>\n",
       "      <th>4</th>\n",
       "      <td>chr19</td>\n",
       "      <td>4000</td>\n",
       "      <td>5000</td>\n",
       "    </tr>\n",
       "    <tr>\n",
       "      <th>...</th>\n",
       "      <td>...</td>\n",
       "      <td>...</td>\n",
       "      <td>...</td>\n",
       "    </tr>\n",
       "    <tr>\n",
       "      <th>61427</th>\n",
       "      <td>chr19</td>\n",
       "      <td>61427000</td>\n",
       "      <td>61428000</td>\n",
       "    </tr>\n",
       "    <tr>\n",
       "      <th>61428</th>\n",
       "      <td>chr19</td>\n",
       "      <td>61428000</td>\n",
       "      <td>61429000</td>\n",
       "    </tr>\n",
       "    <tr>\n",
       "      <th>61429</th>\n",
       "      <td>chr19</td>\n",
       "      <td>61429000</td>\n",
       "      <td>61430000</td>\n",
       "    </tr>\n",
       "    <tr>\n",
       "      <th>61430</th>\n",
       "      <td>chr19</td>\n",
       "      <td>61430000</td>\n",
       "      <td>61431000</td>\n",
       "    </tr>\n",
       "    <tr>\n",
       "      <th>61431</th>\n",
       "      <td>chr19</td>\n",
       "      <td>61431000</td>\n",
       "      <td>61431566</td>\n",
       "    </tr>\n",
       "  </tbody>\n",
       "</table>\n",
       "<p>61432 rows × 3 columns</p>\n",
       "</div>"
      ],
      "text/plain": [
       "       chrom     start       end\n",
       "0      chr19         0      1000\n",
       "1      chr19      1000      2000\n",
       "2      chr19      2000      3000\n",
       "3      chr19      3000      4000\n",
       "4      chr19      4000      5000\n",
       "...      ...       ...       ...\n",
       "61427  chr19  61427000  61428000\n",
       "61428  chr19  61428000  61429000\n",
       "61429  chr19  61429000  61430000\n",
       "61430  chr19  61430000  61431000\n",
       "61431  chr19  61431000  61431566\n",
       "\n",
       "[61432 rows x 3 columns]"
      ]
     },
     "execution_count": 65,
     "metadata": {},
     "output_type": "execute_result"
    }
   ],
   "source": [
    "window_size = 1000\n",
    "mm10_genome_windows = pybedtools.bedtool.BedTool().window_maker(g=mm10_chrom_sizes_file, w=window_size)\n",
    "mm10_chr19_windows = (\n",
    "    mm10_genome_windows\n",
    "    .filter(lambda x: x.chrom == \"chr19\")\n",
    "    .saveas(os.path.join(mm10_genome_dir, f\"mm10_chr1_windows_{window_size // 1000}kb.bed\"))\n",
    "    .to_dataframe()\n",
    "    )\n",
    "mm10_chr19_windows"
   ]
  },
  {
   "cell_type": "markdown",
   "id": "8880d86f",
   "metadata": {},
   "source": [
    "#### Calculate the distance score between peaks and potential target genes\n",
    "\n",
    "Only keep peak-TG rows where the distance between the peak and the gene TSS is less than 1 Mb."
   ]
  },
  {
   "cell_type": "markdown",
   "id": "34883982",
   "metadata": {},
   "source": [
    "Now that we have the ATAC peak locations and the gene locations, we can calculate the distance between peaks within 1 Mb of the gene TSS."
   ]
  },
  {
   "cell_type": "code",
   "execution_count": 66,
   "id": "eb3a7ccf",
   "metadata": {},
   "outputs": [],
   "source": [
    "peak_bed = pybedtools.BedTool.from_dataframe(\n",
    "    mesc_atac_peak_loc[[\"chrom\", \"start\", \"end\", \"peak_id\"]]\n",
    "    ).saveas(os.path.join(output_dir, \"peak_tmp.bed\"))\n",
    "\n",
    "tss_bed = pybedtools.BedTool.from_dataframe(\n",
    "    gene_tss_df[[\"chrom\", \"start\", \"end\", \"name\"]]\n",
    "    ).saveas(os.path.join(output_dir, \"tss_tmp.bed\"))\n",
    "\n",
    "genes_near_peaks = utils.find_genes_near_peaks(peak_bed, tss_bed)\n",
    "genes_near_peaks = genes_near_peaks[genes_near_peaks[\"TSS_dist\"] <= 1e6]"
   ]
  },
  {
   "cell_type": "markdown",
   "id": "7fa5378f",
   "metadata": {},
   "source": [
    "Now that we have the distance between each peak and gene TSS, we will calculate an exponential dropoff score."
   ]
  },
  {
   "cell_type": "code",
   "execution_count": 67,
   "id": "0cb76631",
   "metadata": {},
   "outputs": [
    {
     "data": {
      "application/vnd.microsoft.datawrangler.viewer.v0+json": {
       "columns": [
        {
         "name": "index",
         "rawType": "int64",
         "type": "integer"
        },
        {
         "name": "peak_chr",
         "rawType": "object",
         "type": "string"
        },
        {
         "name": "peak_start",
         "rawType": "int64",
         "type": "integer"
        },
        {
         "name": "peak_end",
         "rawType": "int64",
         "type": "integer"
        },
        {
         "name": "peak_id",
         "rawType": "object",
         "type": "string"
        },
        {
         "name": "gene_chr",
         "rawType": "object",
         "type": "string"
        },
        {
         "name": "gene_start",
         "rawType": "int64",
         "type": "integer"
        },
        {
         "name": "gene_end",
         "rawType": "int64",
         "type": "integer"
        },
        {
         "name": "target_id",
         "rawType": "object",
         "type": "string"
        },
        {
         "name": "TSS_dist",
         "rawType": "int64",
         "type": "integer"
        },
        {
         "name": "TSS_dist_score",
         "rawType": "float64",
         "type": "float"
        }
       ],
       "ref": "af4d3392-4a69-4c86-84b7-a0774e2bdb28",
       "rows": [
        [
         "146647",
         "chr19",
         "32387451",
         "32388051",
         "chr19:32387451-32388051",
         "chr19",
         "32388049",
         "32388049",
         "Sgms1",
         "2",
         "0.999992000032"
        ],
        [
         "188509",
         "chr19",
         "44756302",
         "44756902",
         "chr19:44756302-44756902",
         "chr19",
         "44756905",
         "44756905",
         "Pax2",
         "3",
         "0.9999880000719997"
        ],
        [
         "176071",
         "chr19",
         "42779374",
         "42779974",
         "chr19:42779374-42779974",
         "chr19",
         "42779978",
         "42779978",
         "Hps1",
         "4",
         "0.9999840001279993"
        ],
        [
         "80777",
         "chr19",
         "6941265",
         "6941865",
         "chr19:6941265-6941865",
         "chr19",
         "6941860",
         "6941860",
         "Bad",
         "5",
         "0.9999800001999987"
        ],
        [
         "224759",
         "chr19",
         "53142146",
         "53142746",
         "chr19:53142146-53142746",
         "chr19",
         "53142755",
         "53142755",
         "Add3",
         "9",
         "0.9999640006479922"
        ]
       ],
       "shape": {
        "columns": 10,
        "rows": 5
       }
      },
      "text/html": [
       "<div>\n",
       "<style scoped>\n",
       "    .dataframe tbody tr th:only-of-type {\n",
       "        vertical-align: middle;\n",
       "    }\n",
       "\n",
       "    .dataframe tbody tr th {\n",
       "        vertical-align: top;\n",
       "    }\n",
       "\n",
       "    .dataframe thead th {\n",
       "        text-align: right;\n",
       "    }\n",
       "</style>\n",
       "<table border=\"1\" class=\"dataframe\">\n",
       "  <thead>\n",
       "    <tr style=\"text-align: right;\">\n",
       "      <th></th>\n",
       "      <th>peak_chr</th>\n",
       "      <th>peak_start</th>\n",
       "      <th>peak_end</th>\n",
       "      <th>peak_id</th>\n",
       "      <th>gene_chr</th>\n",
       "      <th>gene_start</th>\n",
       "      <th>gene_end</th>\n",
       "      <th>target_id</th>\n",
       "      <th>TSS_dist</th>\n",
       "      <th>TSS_dist_score</th>\n",
       "    </tr>\n",
       "  </thead>\n",
       "  <tbody>\n",
       "    <tr>\n",
       "      <th>146647</th>\n",
       "      <td>chr19</td>\n",
       "      <td>32387451</td>\n",
       "      <td>32388051</td>\n",
       "      <td>chr19:32387451-32388051</td>\n",
       "      <td>chr19</td>\n",
       "      <td>32388049</td>\n",
       "      <td>32388049</td>\n",
       "      <td>Sgms1</td>\n",
       "      <td>2</td>\n",
       "      <td>0.999992</td>\n",
       "    </tr>\n",
       "    <tr>\n",
       "      <th>188509</th>\n",
       "      <td>chr19</td>\n",
       "      <td>44756302</td>\n",
       "      <td>44756902</td>\n",
       "      <td>chr19:44756302-44756902</td>\n",
       "      <td>chr19</td>\n",
       "      <td>44756905</td>\n",
       "      <td>44756905</td>\n",
       "      <td>Pax2</td>\n",
       "      <td>3</td>\n",
       "      <td>0.999988</td>\n",
       "    </tr>\n",
       "    <tr>\n",
       "      <th>176071</th>\n",
       "      <td>chr19</td>\n",
       "      <td>42779374</td>\n",
       "      <td>42779974</td>\n",
       "      <td>chr19:42779374-42779974</td>\n",
       "      <td>chr19</td>\n",
       "      <td>42779978</td>\n",
       "      <td>42779978</td>\n",
       "      <td>Hps1</td>\n",
       "      <td>4</td>\n",
       "      <td>0.999984</td>\n",
       "    </tr>\n",
       "    <tr>\n",
       "      <th>80777</th>\n",
       "      <td>chr19</td>\n",
       "      <td>6941265</td>\n",
       "      <td>6941865</td>\n",
       "      <td>chr19:6941265-6941865</td>\n",
       "      <td>chr19</td>\n",
       "      <td>6941860</td>\n",
       "      <td>6941860</td>\n",
       "      <td>Bad</td>\n",
       "      <td>5</td>\n",
       "      <td>0.999980</td>\n",
       "    </tr>\n",
       "    <tr>\n",
       "      <th>224759</th>\n",
       "      <td>chr19</td>\n",
       "      <td>53142146</td>\n",
       "      <td>53142746</td>\n",
       "      <td>chr19:53142146-53142746</td>\n",
       "      <td>chr19</td>\n",
       "      <td>53142755</td>\n",
       "      <td>53142755</td>\n",
       "      <td>Add3</td>\n",
       "      <td>9</td>\n",
       "      <td>0.999964</td>\n",
       "    </tr>\n",
       "  </tbody>\n",
       "</table>\n",
       "</div>"
      ],
      "text/plain": [
       "       peak_chr  peak_start  peak_end                  peak_id gene_chr  \\\n",
       "146647    chr19    32387451  32388051  chr19:32387451-32388051    chr19   \n",
       "188509    chr19    44756302  44756902  chr19:44756302-44756902    chr19   \n",
       "176071    chr19    42779374  42779974  chr19:42779374-42779974    chr19   \n",
       "80777     chr19     6941265   6941865    chr19:6941265-6941865    chr19   \n",
       "224759    chr19    53142146  53142746  chr19:53142146-53142746    chr19   \n",
       "\n",
       "        gene_start  gene_end target_id  TSS_dist  TSS_dist_score  \n",
       "146647    32388049  32388049     Sgms1         2        0.999992  \n",
       "188509    44756905  44756905      Pax2         3        0.999988  \n",
       "176071    42779978  42779978      Hps1         4        0.999984  \n",
       "80777      6941860   6941860       Bad         5        0.999980  \n",
       "224759    53142755  53142755      Add3         9        0.999964  "
      ]
     },
     "execution_count": 67,
     "metadata": {},
     "output_type": "execute_result"
    }
   ],
   "source": [
    "# Scale the TSS distance using an exponential drop-off function\n",
    "# e^-dist/25000, same scaling function used in LINGER Cis-regulatory potential calculation\n",
    "# https://github.com/Durenlab/LINGER\n",
    "genes_near_peaks = genes_near_peaks.copy()\n",
    "genes_near_peaks[\"TSS_dist_score\"] = np.exp(-genes_near_peaks[\"TSS_dist\"] / 250000)\n",
    "genes_near_peaks.head()"
   ]
  },
  {
   "cell_type": "markdown",
   "id": "d4bd7660",
   "metadata": {},
   "source": [
    "### TF-RE Binding Potential\n",
    "\n",
    "Homer will be used to calculate the ability for a TF to bind to each peak. Values for TF-RE edges where the TF is not predicted to bind will have a value of 0. We will map the TF-RE binding potential to the genomic ranges by taking the average TF binding potential for peaks within a genomic range. The TF-RE binding potential matrix will be multiplied by a log1p normalized and min-max scaled vector of TF expression."
   ]
  },
  {
   "cell_type": "markdown",
   "id": "9094ffd6",
   "metadata": {},
   "source": [
    "Next, we need to format the peaks to use the Homer peak file format to find TFs matching to peaks."
   ]
  },
  {
   "cell_type": "markdown",
   "id": "2b9988f9",
   "metadata": {},
   "source": [
    "#### Building the Homer peaks file"
   ]
  },
  {
   "cell_type": "code",
   "execution_count": 68,
   "id": "511cb2ef",
   "metadata": {},
   "outputs": [
    {
     "data": {
      "application/vnd.microsoft.datawrangler.viewer.v0+json": {
       "columns": [
        {
         "name": "index",
         "rawType": "int64",
         "type": "integer"
        },
        {
         "name": "PeakID",
         "rawType": "object",
         "type": "string"
        },
        {
         "name": "chr",
         "rawType": "object",
         "type": "string"
        },
        {
         "name": "start",
         "rawType": "int64",
         "type": "integer"
        },
        {
         "name": "end",
         "rawType": "int64",
         "type": "integer"
        },
        {
         "name": "strand",
         "rawType": "object",
         "type": "string"
        }
       ],
       "ref": "9c791129-450e-496b-8e3c-62e06ba5617a",
       "rows": [
        [
         "146647",
         "chr19:32387451-32388051",
         "chr19",
         "32387451",
         "32388051",
         "."
        ],
        [
         "188509",
         "chr19:44756302-44756902",
         "chr19",
         "44756302",
         "44756902",
         "."
        ],
        [
         "176071",
         "chr19:42779374-42779974",
         "chr19",
         "42779374",
         "42779974",
         "."
        ],
        [
         "80777",
         "chr19:6941265-6941865",
         "chr19",
         "6941265",
         "6941865",
         "."
        ],
        [
         "224759",
         "chr19:53142146-53142746",
         "chr19",
         "53142146",
         "53142746",
         "."
        ]
       ],
       "shape": {
        "columns": 5,
        "rows": 5
       }
      },
      "text/html": [
       "<div>\n",
       "<style scoped>\n",
       "    .dataframe tbody tr th:only-of-type {\n",
       "        vertical-align: middle;\n",
       "    }\n",
       "\n",
       "    .dataframe tbody tr th {\n",
       "        vertical-align: top;\n",
       "    }\n",
       "\n",
       "    .dataframe thead th {\n",
       "        text-align: right;\n",
       "    }\n",
       "</style>\n",
       "<table border=\"1\" class=\"dataframe\">\n",
       "  <thead>\n",
       "    <tr style=\"text-align: right;\">\n",
       "      <th></th>\n",
       "      <th>PeakID</th>\n",
       "      <th>chr</th>\n",
       "      <th>start</th>\n",
       "      <th>end</th>\n",
       "      <th>strand</th>\n",
       "    </tr>\n",
       "  </thead>\n",
       "  <tbody>\n",
       "    <tr>\n",
       "      <th>146647</th>\n",
       "      <td>chr19:32387451-32388051</td>\n",
       "      <td>chr19</td>\n",
       "      <td>32387451</td>\n",
       "      <td>32388051</td>\n",
       "      <td>.</td>\n",
       "    </tr>\n",
       "    <tr>\n",
       "      <th>188509</th>\n",
       "      <td>chr19:44756302-44756902</td>\n",
       "      <td>chr19</td>\n",
       "      <td>44756302</td>\n",
       "      <td>44756902</td>\n",
       "      <td>.</td>\n",
       "    </tr>\n",
       "    <tr>\n",
       "      <th>176071</th>\n",
       "      <td>chr19:42779374-42779974</td>\n",
       "      <td>chr19</td>\n",
       "      <td>42779374</td>\n",
       "      <td>42779974</td>\n",
       "      <td>.</td>\n",
       "    </tr>\n",
       "    <tr>\n",
       "      <th>80777</th>\n",
       "      <td>chr19:6941265-6941865</td>\n",
       "      <td>chr19</td>\n",
       "      <td>6941265</td>\n",
       "      <td>6941865</td>\n",
       "      <td>.</td>\n",
       "    </tr>\n",
       "    <tr>\n",
       "      <th>224759</th>\n",
       "      <td>chr19:53142146-53142746</td>\n",
       "      <td>chr19</td>\n",
       "      <td>53142146</td>\n",
       "      <td>53142746</td>\n",
       "      <td>.</td>\n",
       "    </tr>\n",
       "  </tbody>\n",
       "</table>\n",
       "</div>"
      ],
      "text/plain": [
       "                         PeakID    chr     start       end strand\n",
       "146647  chr19:32387451-32388051  chr19  32387451  32388051      .\n",
       "188509  chr19:44756302-44756902  chr19  44756302  44756902      .\n",
       "176071  chr19:42779374-42779974  chr19  42779374  42779974      .\n",
       "80777     chr19:6941265-6941865  chr19   6941265   6941865      .\n",
       "224759  chr19:53142146-53142746  chr19  53142146  53142746      ."
      ]
     },
     "execution_count": 68,
     "metadata": {},
     "output_type": "execute_result"
    }
   ],
   "source": [
    "homer_peaks = genes_near_peaks[[\"peak_id\", \"peak_chr\", \"peak_start\", \"peak_end\"]]\n",
    "homer_peaks = homer_peaks.rename(columns={\n",
    "    \"peak_id\":\"PeakID\", \n",
    "    \"peak_chr\":\"chr\",\n",
    "    \"peak_start\":\"start\",\n",
    "    \"peak_end\":\"end\"\n",
    "    })\n",
    "homer_peaks[\"strand\"] = [\".\"] * len(homer_peaks)\n",
    "homer_peaks[\"start\"] = round(homer_peaks[\"start\"].astype(int),0)\n",
    "homer_peaks[\"end\"] = round(homer_peaks[\"end\"].astype(int),0)\n",
    "homer_peaks = homer_peaks.drop_duplicates(subset=\"PeakID\")\n",
    "\n",
    "os.makedirs(os.path.join(output_dir, \"tmp\"), exist_ok=True)\n",
    "homer_peak_path = os.path.join(output_dir, \"tmp/homer_peaks.txt\")\n",
    "homer_peaks.to_csv(homer_peak_path, sep=\"\\t\", header=False, index=False)\n",
    "homer_peaks.head()"
   ]
  },
  {
   "cell_type": "code",
   "execution_count": 69,
   "id": "8cbb83ec",
   "metadata": {},
   "outputs": [
    {
     "name": "stdout",
     "output_type": "stream",
     "text": [
      "5585\n",
      "5585\n"
     ]
    }
   ],
   "source": [
    "print(len(homer_peaks))\n",
    "print(len(homer_peaks.drop_duplicates(subset=\"PeakID\")))"
   ]
  },
  {
   "cell_type": "markdown",
   "id": "c7f6fb78",
   "metadata": {},
   "source": [
    "Next, we need to run homer on these peaks. I created a `run_homer.sh` script to handle running `findMotifsGenome.pl`, `annotatePeaks.pl`, and the pipeline script `homer_tf_peak_motifs.py`. `homer_tf_peak_motifs.py` calculates Homer TF to peak scores by counting the number of motifs found in each peak for a given TF in the output file from `annotatePeaks.pl`."
   ]
  },
  {
   "cell_type": "markdown",
   "id": "a66a863a",
   "metadata": {},
   "source": [
    "#### Running Homer"
   ]
  },
  {
   "cell_type": "code",
   "execution_count": 72,
   "id": "81a5aadd",
   "metadata": {
    "vscode": {
     "languageId": "shellscript"
    }
   },
   "outputs": [
    {
     "name": "stdout",
     "output_type": "stream",
     "text": [
      "Submitted batch job 3390268\n"
     ]
    }
   ],
   "source": [
    "!sbatch /gpfs/Labs/Uzun/SCRIPTS/PROJECTS/2024.SINGLE_CELL_GRN_INFERENCE.MOELLER/dev/testing_scripts/run_homer.sh"
   ]
  },
  {
   "cell_type": "markdown",
   "id": "be8644d1",
   "metadata": {},
   "source": [
    "Once Homer has finished running, we will load the results. We are interested in the number of binding sites for each TF to peak."
   ]
  },
  {
   "cell_type": "code",
   "execution_count": 93,
   "id": "a0fb9542",
   "metadata": {},
   "outputs": [
    {
     "data": {
      "application/vnd.microsoft.datawrangler.viewer.v0+json": {
       "columns": [
        {
         "name": "index",
         "rawType": "int64",
         "type": "integer"
        },
        {
         "name": "peak_id",
         "rawType": "string",
         "type": "string"
        },
        {
         "name": "source_id",
         "rawType": "string",
         "type": "string"
        },
        {
         "name": "tf_motifs_in_peak",
         "rawType": "float64",
         "type": "float"
        },
        {
         "name": "homer_binding_score",
         "rawType": "float64",
         "type": "float"
        }
       ],
       "ref": "dd1fbad5-856b-4886-8f54-8943efeed44d",
       "rows": [
        [
         "0",
         "chr19:11807651-11808251",
         "Amyb",
         "1.0",
         "0.0003252032520325203"
        ],
        [
         "1",
         "chr19:19058520-19059120",
         "Amyb",
         "1.0",
         "0.0003252032520325203"
        ],
        [
         "2",
         "chr19:46528570-46529170",
         "Amyb",
         "1.0",
         "0.0003252032520325203"
        ],
        [
         "3",
         "chr19:41666775-41667375",
         "Amyb",
         "1.0",
         "0.0003252032520325203"
        ],
        [
         "4",
         "chr19:10719611-10720211",
         "Amyb",
         "2.0",
         "0.0006504065040650406"
        ]
       ],
       "shape": {
        "columns": 4,
        "rows": 5
       }
      },
      "text/html": [
       "<div>\n",
       "<style scoped>\n",
       "    .dataframe tbody tr th:only-of-type {\n",
       "        vertical-align: middle;\n",
       "    }\n",
       "\n",
       "    .dataframe tbody tr th {\n",
       "        vertical-align: top;\n",
       "    }\n",
       "\n",
       "    .dataframe thead th {\n",
       "        text-align: right;\n",
       "    }\n",
       "</style>\n",
       "<table border=\"1\" class=\"dataframe\">\n",
       "  <thead>\n",
       "    <tr style=\"text-align: right;\">\n",
       "      <th></th>\n",
       "      <th>peak_id</th>\n",
       "      <th>source_id</th>\n",
       "      <th>tf_motifs_in_peak</th>\n",
       "      <th>homer_binding_score</th>\n",
       "    </tr>\n",
       "  </thead>\n",
       "  <tbody>\n",
       "    <tr>\n",
       "      <th>0</th>\n",
       "      <td>chr19:11807651-11808251</td>\n",
       "      <td>Amyb</td>\n",
       "      <td>1.0</td>\n",
       "      <td>0.000325</td>\n",
       "    </tr>\n",
       "    <tr>\n",
       "      <th>1</th>\n",
       "      <td>chr19:19058520-19059120</td>\n",
       "      <td>Amyb</td>\n",
       "      <td>1.0</td>\n",
       "      <td>0.000325</td>\n",
       "    </tr>\n",
       "    <tr>\n",
       "      <th>2</th>\n",
       "      <td>chr19:46528570-46529170</td>\n",
       "      <td>Amyb</td>\n",
       "      <td>1.0</td>\n",
       "      <td>0.000325</td>\n",
       "    </tr>\n",
       "    <tr>\n",
       "      <th>3</th>\n",
       "      <td>chr19:41666775-41667375</td>\n",
       "      <td>Amyb</td>\n",
       "      <td>1.0</td>\n",
       "      <td>0.000325</td>\n",
       "    </tr>\n",
       "    <tr>\n",
       "      <th>4</th>\n",
       "      <td>chr19:10719611-10720211</td>\n",
       "      <td>Amyb</td>\n",
       "      <td>2.0</td>\n",
       "      <td>0.000650</td>\n",
       "    </tr>\n",
       "  </tbody>\n",
       "</table>\n",
       "</div>"
      ],
      "text/plain": [
       "                   peak_id source_id  tf_motifs_in_peak  homer_binding_score\n",
       "0  chr19:11807651-11808251      Amyb                1.0             0.000325\n",
       "1  chr19:19058520-19059120      Amyb                1.0             0.000325\n",
       "2  chr19:46528570-46529170      Amyb                1.0             0.000325\n",
       "3  chr19:41666775-41667375      Amyb                1.0             0.000325\n",
       "4  chr19:10719611-10720211      Amyb                2.0             0.000650"
      ]
     },
     "execution_count": 93,
     "metadata": {},
     "output_type": "execute_result"
    }
   ],
   "source": [
    "homer_results = pd.read_parquet(os.path.join(output_dir, \"homer_tf_to_peak.parquet\"), engine=\"pyarrow\")\n",
    "homer_results = homer_results.reset_index(drop=True)\n",
    "homer_results[\"source_id\"] = homer_results[\"source_id\"].str.capitalize()\n",
    "homer_results.head()"
   ]
  },
  {
   "cell_type": "markdown",
   "id": "ae6448bd",
   "metadata": {},
   "source": [
    "Let's review what we have so far:\n",
    "\n",
    "- scRNA-seq gene expression of the TFs and TGs\n",
    "- scATAC-seq chromatin accessibility of the peaks\n",
    "- TSS start site of each gene\n",
    "- A distance score between each peak and TG within 1 Mb of one another\n",
    "- A TF-peak binding score from Homer\n",
    "- Genomic bins of 1Kb"
   ]
  },
  {
   "cell_type": "code",
   "execution_count": 94,
   "id": "ea70e885",
   "metadata": {},
   "outputs": [
    {
     "name": "stdout",
     "output_type": "stream",
     "text": [
      "\n",
      "mesc_rna_data\n",
      "         E7.5_rep1#AAACCGGCAGAAATGC-1\n",
      "gene_id                              \n",
      "Xkr4                         0.000000\n",
      "Sox17                        0.000000\n",
      "Mrpl15                       0.000000\n",
      "Lypla1                       0.000000\n",
      "Tcea1                        5.930213\n",
      "\n",
      "mesc_atac_data_chr1\n",
      "                       E7.5_rep1#AAACCGGCAGAAATGC-1\n",
      "peak_id                                            \n",
      "chr19:3282721-3283321                           0.0\n",
      "chr19:3291918-3292518                           0.0\n",
      "chr19:3306995-3307595                           0.0\n",
      "chr19:3308573-3309173                           0.0\n",
      "chr19:3321460-3322060                           0.0\n",
      "\n",
      "gene_tss_df\n",
      "   chrom    start      end           name score strand\n",
      "0  chr19  3197703  3197703  1700030N03Rik     .      -\n",
      "1  chr19  3283010  3283010        Ighmbp2     .      -\n",
      "2  chr19  3283041  3283041         Mrpl21     .      +\n",
      "3  chr19  3288919  3288919        Mir6984     .      +\n",
      "4  chr19  3323300  3323300          Cpt1a     .      +\n",
      "\n",
      "genes_near_peaks\n",
      "       peak_chr  peak_start  peak_end                  peak_id gene_chr  \\\n",
      "146647    chr19    32387451  32388051  chr19:32387451-32388051    chr19   \n",
      "188509    chr19    44756302  44756902  chr19:44756302-44756902    chr19   \n",
      "176071    chr19    42779374  42779974  chr19:42779374-42779974    chr19   \n",
      "80777     chr19     6941265   6941865    chr19:6941265-6941865    chr19   \n",
      "224759    chr19    53142146  53142746  chr19:53142146-53142746    chr19   \n",
      "\n",
      "        gene_start  gene_end target_id  TSS_dist  TSS_dist_score  \n",
      "146647    32388049  32388049     Sgms1         2        0.999992  \n",
      "188509    44756905  44756905      Pax2         3        0.999988  \n",
      "176071    42779978  42779978      Hps1         4        0.999984  \n",
      "80777      6941860   6941860       Bad         5        0.999980  \n",
      "224759    53142755  53142755      Add3         9        0.999964  \n",
      "\n",
      "homer_results\n",
      "                   peak_id source_id  tf_motifs_in_peak  homer_binding_score\n",
      "0  chr19:11807651-11808251      Amyb                1.0             0.000325\n",
      "1  chr19:19058520-19059120      Amyb                1.0             0.000325\n",
      "2  chr19:46528570-46529170      Amyb                1.0             0.000325\n",
      "3  chr19:41666775-41667375      Amyb                1.0             0.000325\n",
      "4  chr19:10719611-10720211      Amyb                2.0             0.000650\n",
      "\n",
      "mm10_chr1_windows\n",
      "   chrom  start   end\n",
      "0  chr19      0  1000\n",
      "1  chr19   1000  2000\n",
      "2  chr19   2000  3000\n",
      "3  chr19   3000  4000\n",
      "4  chr19   4000  5000\n"
     ]
    }
   ],
   "source": [
    "print(f\"\\nmesc_rna_data\\n{mesc_rna_data.iloc[0:5, 0:1].head()}\")\n",
    "print(f\"\\nmesc_atac_data_chr1\\n{mesc_atac_data_chr19.iloc[0:5, :1].head()}\")\n",
    "print(f\"\\ngene_tss_df\\n{gene_tss_df.head()}\")\n",
    "print(f\"\\ngenes_near_peaks\\n{genes_near_peaks.head()}\")\n",
    "print(f\"\\nhomer_results\\n{homer_results.head()}\")\n",
    "print(f\"\\nmm10_chr1_windows\\n{mm10_chr19_windows.head()}\")"
   ]
  },
  {
   "cell_type": "code",
   "execution_count": 112,
   "id": "64736e90",
   "metadata": {},
   "outputs": [
    {
     "name": "stdout",
     "output_type": "stream",
     "text": [
      "Number of potential TGs: 809\n",
      "Number of unique TFs: 262\n",
      "Number of unique peaks: 5585\n"
     ]
    }
   ],
   "source": [
    "potential_tgs = genes_near_peaks[\"target_id\"].unique()\n",
    "print(f\"Number of potential TGs: {len(potential_tgs)}\")\n",
    "\n",
    "unique_tfs = homer_results[\"source_id\"].unique()\n",
    "print(f\"Number of unique TFs: {len(unique_tfs)}\")\n",
    "\n",
    "unique_peaks = homer_results[\"peak_id\"].unique()\n",
    "print(f\"Number of unique peaks: {len(unique_peaks)}\")"
   ]
  },
  {
   "cell_type": "markdown",
   "id": "259ee8ec",
   "metadata": {},
   "source": [
    "The scores that we are interested in are the:\n",
    "\n",
    "- `TSS_dist_score` between each peak and each potential TG from `genes_near_peaks`\n",
    "- `tf_motifs_in_peak` between each TF and each peak from `homer_results`\n",
    "- RNA expression values for TFs and potential TGs from `rna_first_cell`\n",
    "- ATAC accessibility values for peaks from `atac_first_cell`\n",
    "\n",
    "We want \n",
    "- Matrix 1: (RE accessibility * RE distance score) mapped to the genomic windows\n",
    "- Matrix 2: (RE accessibility * RE distance score) x potential TG\n",
    "- Matrix 3: (TF expression * Homer binding score) x Matrix 2\n"
   ]
  },
  {
   "cell_type": "markdown",
   "id": "be7efc21",
   "metadata": {},
   "source": [
    "### Combining TF-RE binding potential with RE regulatory potential values\n",
    "\n",
    "The (peak accessibility * peak distance) x TG and (TF expression * TF-peak binding potential) x TG matrices will be matrix multiplied to get the final TF x peak x TG matrix.\n"
   ]
  },
  {
   "cell_type": "markdown",
   "id": "e8435530",
   "metadata": {},
   "source": [
    "We need to get a unique list of each window and TG to create a standard index mapping of the mouse chromosome 19"
   ]
  },
  {
   "cell_type": "code",
   "execution_count": 99,
   "id": "24717878",
   "metadata": {},
   "outputs": [
    {
     "name": "stdout",
     "output_type": "stream",
     "text": [
      "{0: '1700030n03rik', 1: 'Ighmbp2', 2: 'Mrpl21', 3: 'Mir6984', 4: 'Cpt1a', 5: 'Tesmin', 6: 'Tesmin', 7: 'Gal', 8: 'Ppp6r3', 9: 'Lrp5', 10: '1810055g02rik', 11: '1810055g02rik', 12: 'Kmt5b', 13: 'Gm51271', 14: 'Chka', 15: 'Tcirg1', 16: 'Tcirg1', 17: 'Tcirg1', 18: 'Ndufs8', 19: 'Aldh3b1', 20: 'Unc93b1', 21: 'Aldh3b3', 22: 'Aldh3b2', 23: 'Acy3', 24: 'Tbx10', 25: 'Nudt8', 26: 'Doc2g', 27: 'Ndufv1', 28: 'Gstp1', 29: 'Gstp2', 30: 'Gstp3', 31: 'Cabp2', 32: 'Cabp2', 33: 'Cdk2ap2', 34: 'Pitpnm1', 35: 'Pitpnm1', 36: 'Aip', 37: 'Aip', 38: 'Tmem134', 39: 'Cabp4', 40: 'Gpr152', 41: 'Coro1b', 42: 'Ptprcap', 43: 'Rps6kb2', 44: 'Carns1', 45: 'Tbc1d10c', 46: 'Ppp1ca', 47: 'Rad9a', 48: 'Clcf1', 49: 'Clcf1', 50: 'Pold4', 51: 'Pold4', 52: 'Mir6985', 53: 'Ssh3', 54: 'Ssh3', 55: 'Ankrd13d', 56: 'Grk2', 57: 'Kdm2a', 58: 'A930001c03rik', 59: 'Rhod', 60: 'A930001c03rik', 61: 'Syt12', 62: '2010003k11rik', 63: 'Pcx', 64: 'Pcx', 65: 'Lrfn4', 66: 'Mir6986', 67: 'Rce1', 68: 'Rce1', 69: 'Gm960', 70: 'Sptbn2', 71: 'Rbm4b', 72: 'Rbm4', 73: 'Rbm4', 74: 'Gm21992', 75: 'Gm21992', 76: 'Ccs', 77: 'Ccdc87', 78: 'Ctsf', 79: 'Actn3', 80: 'Zdhhc24', 81: 'Zdhhc24', 82: 'Bbs1', 83: 'Dpp3', 84: 'Dpp3', 85: 'Peli3', 86: 'Peli3', 87: 'Mrpl11', 88: 'Npas4', 89: 'Slc29a2', 90: 'B4gat1', 91: 'Brms1', 92: 'Rin1', 93: 'Cd248', 94: 'Tmem151a', 95: 'Yif1a', 96: 'Cnih2', 97: 'Rab1b', 98: 'Klc2', 99: 'Pacs1', 100: 'Pacs1', 101: 'Sf3b2', 102: 'Sf3b2', 103: 'Gal3st3', 104: 'Catsper1', 105: 'Cst6', 106: 'Banf1', 107: 'Eif1ad', 108: 'Banf1', 109: 'D330050i16rik', 110: 'Sart1', 111: 'Tsga10ip', 112: '4930481a15rik', 113: 'Drap1', 114: 'Ai837181', 115: 'Fosl1', 116: 'Ccdc85b', 117: 'Fibp', 118: 'Ctsw', 119: 'Efemp2', 120: 'Efemp2', 121: 'Efemp2', 122: 'Mus81', 123: 'Cfl1', 124: '1700020d05rik', 125: 'Snx32', 126: 'Ovol1', 127: 'Ap5b1', 128: 'Rnaseh2c', 129: 'Kat5', 130: 'Kat5', 131: 'Rela', 132: 'Sipa1', 133: 'Mir6987', 134: 'Pcnx3', 135: 'Map3k11', 136: 'Kcnk7', 137: 'Ehbp1l1', 138: 'Fam89b', 139: 'Znrd2', 140: 'Ltbp3', 141: 'Scyl1', 142: 'Mascrna', 143: 'Malat1', 144: 'Neat1', 145: 'Neat1', 146: 'Frmd8', 147: 'Slc25a45', 148: 'Tigd3', 149: 'Dpf2', 150: 'Cdc42ep2', 151: 'Pola2', 152: 'Slc22a20', 153: 'Gm10814', 154: 'Capn1', 155: 'Capn1', 156: 'Syvn1', 157: 'Syvn1', 158: 'Mir6988', 159: 'Mrpl49', 160: 'Fau', 161: 'Znhit2', 162: 'Tm7sf2', 163: 'Vps51', 164: 'Tmem262', 165: 'Zfpl1', 166: 'Cdca5', 167: 'Gm550', 168: 'Naaladl1', 169: 'Sac3d1', 170: 'Snx15', 171: 'Mir12193', 172: 'Arl2', 173: 'Batf2', 174: 'Majin', 175: 'Gpha2', 176: 'Ppp2r5b', 177: 'Atg2a', 178: 'Mir194-2', 179: 'Mir192', 180: 'Ehd1', 181: 'Cdc42bpg', 182: 'Men1', 183: 'Men1', 184: 'Men1', 185: 'Map4k2', 186: 'Mir6989', 187: 'Sf1', 188: 'Pygm', 189: 'Rasgrp2', 190: 'Rasgrp2', 191: 'Rasgrp2', 192: 'Nrxn2', 193: 'Slc22a12', 194: 'Mir5046', 195: 'Rps6ka4', 196: 'Ccdc88b', 197: 'Trmt112', 198: 'Prdx5', 199: 'Mir6990', 200: 'Esrra', 201: 'Catsperz', 202: 'Kcnk4', 203: 'Gpr137', 204: 'Gpr137', 205: 'Bad', 206: 'Gpr137', 207: 'Bad', 208: 'Plcb3', 209: 'Ppp1r14b', 210: 'Fkbp2', 211: 'Fkbp2', 212: 'Loc114841036', 213: 'Fkbp2', 214: 'Vegfb', 215: 'Dnajc4', 216: 'Dnajc4', 217: 'Nudt22', 218: 'Trpt1', 219: 'Fermt3', 220: 'Stip1', 221: 'Macrod1', 222: 'Flrt1', 223: 'Otub1', 224: 'Cox8a', 225: 'Naa40', 226: 'Rcor2', 227: 'Rcor2', 228: 'Mark2', 229: 'Mark2', 230: '1700105p06rik', 231: 'Spindoc', 232: '2700081o15rik', 233: 'Mir6991', 234: 'Rtn3', 235: 'Atl3', 236: 'Atl3', 237: 'Plaat3', 238: 'Plaat3', 239: 'Lgals12', 240: 'Plaat5', 241: 'Slc22a19', 242: 'Slc22a26', 243: 'Slc22a27', 244: 'Slc22a28', 245: 'Slc22a29', 246: 'Slc22a30', 247: 'Slc22a8', 248: 'Slc22a8', 249: 'Slc22a6', 250: '9830166k06rik', 251: 'Chrm1', 252: 'Slc3a2', 253: 'Slc3a2', 254: 'Snhg1', 255: 'Snord22', 256: 'Wdr74', 257: '1700092m07rik', 258: 'Stx5a', 259: 'Stx5a', 260: 'Mir6992', 261: '1700023d09rik', 262: 'Nxf1', 263: 'Nxf1', 264: 'Tmem223', 265: 'Tmem179b', 266: 'Gm2518', 267: 'Taf6l', 268: 'Taf6l', 269: 'Polr2g', 270: 'Zbtb3', 271: 'Zbtb3', 272: 'Ttc9c', 273: 'Hnrnpul2', 274: 'Bscl2', 275: 'Gng3', 276: 'Bscl2', 277: 'Bscl2', 278: 'Lrrn4cl', 279: 'Ubxn1', 280: 'Uqcc3', 281: 'Lbhd1', 282: '5730408k05rik', 283: 'Mir5136', 284: '1810009a15rik', 285: 'Ints5', 286: 'Ganab', 287: 'B3gat3', 288: 'Rom1', 289: 'Eml3', 290: 'Eml3', 291: 'Mta2', 292: 'Tut1', 293: 'Eef1g', 294: 'Ahnak', 295: 'Scgb1a1', 296: 'Asrgl1', 297: 'Stxbp3-ps', 298: 'Incenp', 299: 'Fth1', 300: 'Fth1', 301: 'Best1', 302: 'Rab3il1', 303: 'Rab3il1', 304: 'Fads3', 305: 'Fads2', 306: 'Fads1', 307: 'Mir6993', 308: 'Fen1', 309: 'Tmem258', 310: 'Fen1', 311: 'Tmem258', 312: 'Myrf', 313: 'Dagla', 314: 'Syt7', 315: 'Syt7', 316: 'Lrrc10b', 317: 'Ppp1r32', 318: 'Sdhaf2', 319: 'Cpsf7', 320: 'Tmem216', 321: 'Tmem216', 322: 'Tmem138', 323: 'Cyb561a3', 324: 'Tmem138', 325: 'Cyb561a3', 326: 'Tkfc', 327: 'Ddb1', 328: 'Vwce', 329: '4930524o05rik', 330: 'Pga5', 331: '2210404e10rik', 332: 'Vps37c', 333: 'Vps37c', 334: 'Cd5', 335: 'A430093f15rik', 336: 'Cd6', 337: 'Slc15a3', 338: 'Tmem132a', 339: 'Tmem109', 340: 'Prpf19', 341: 'Prpf19', 342: 'Zp1', 343: 'Ptgdr2', 344: 'Ccdc86', 345: 'Ms4a10', 346: 'Ms4a15', 347: 'Ms4a18', 348: 'Aw112010', 349: 'Ms4a8a', 350: 'Ms4a20', 351: 'Ms4a19', 352: 'Ms4a13', 353: 'Ms4a13', 354: '4930526l06rik', 355: 'Ms4a12', 356: 'Ms4a1', 357: 'Ms4a5', 358: 'Ms4a14', 359: 'Ms4a7', 360: 'Ms4a7', 361: 'Ms4a4a', 362: 'Ms4a4c', 363: 'Ms4a4b', 364: 'Ms4a6c', 365: 'Gm8369', 366: 'Ms4a6b', 367: 'Ms4a4d', 368: 'Ms4a6d', 369: 'Ms4a2', 370: 'Ms4a3', 371: 'Oosp2', 372: 'Oosp1', 373: 'Oosp3', 374: 'Cblif', 375: 'Mrpl16', 376: 'Stx3', 377: 'Olfr1417', 378: 'Olfr1418', 379: 'Olfr1419', 380: 'Olfr1420', 381: 'Patl1', 382: 'Mir6994', 383: 'Osbp', 384: 'Olfr1423', 385: 'Olfr1424', 386: 'Mir466f-1', 387: 'Olfr1425', 388: 'Olfr1426', 389: 'Olfr1427', 390: 'Olfr1428', 391: 'Olfr76', 392: 'Olfr1431', 393: 'Olfr1432', 394: 'Olfr262', 395: 'Olfr235', 396: 'Olfr1434', 397: 'Olfr1436', 398: 'Olfr1437', 399: 'Olfr1440', 400: 'Olfr1441', 401: 'Pfpl', 402: 'Mpeg1', 403: 'Dtx4', 404: 'Fam111a', 405: 'Fam111a', 406: 'A330040f15rik', 407: 'Gm4952', 408: 'Gm4952', 409: 'Glyat', 410: 'Olfr1442', 411: 'Olfr1443', 412: 'Keg1', 413: 'Cntf', 414: 'Zfp91', 415: 'Lpxn', 416: 'Lpxn', 417: 'Olfr1444', 418: 'Olfr1445', 419: 'Olfr1446', 420: 'Olfr1447', 421: 'Gm5512', 422: 'Olfr1448', 423: 'Olfr1449', 424: 'Olfr1450', 425: 'Olfr1451', 426: 'Olfr1453', 427: 'Olfr1454', 428: 'Olfr1457', 429: 'Olfr1459', 430: 'Olfr1461', 431: 'Olfr1462', 432: 'Olfr1463', 433: 'Olfr1465', 434: 'Olfr1466', 435: 'Olfr1467', 436: 'Olfr1469', 437: 'Olfr1471', 438: 'Olfr1472', 439: 'Olfr1474', 440: 'Olfr1475', 441: 'Olfr1477', 442: 'Olfr1480', 443: 'Olfr1484', 444: 'Olfr1487', 445: 'Olfr1489', 446: 'Olfr1490', 447: 'Olfr1491', 448: 'Olfr1494', 449: 'Olfr1495', 450: 'Olfr1496', 451: 'Olfr1497', 452: 'Olfr1499', 453: 'Olfr1500', 454: 'Olfr1501', 455: 'Olfr1502', 456: 'Olfr1504', 457: 'Olfr1505', 458: 'Gm8630', 459: 'Rnu6', 460: 'Tle4', 461: 'Tle4', 462: 'Psat1', 463: 'Psat1', 464: 'Cep78', 465: 'C130060c02rik', 466: 'Gnaq', 467: 'E030024n20rik', 468: 'Mir496b', 469: 'Gna14', 470: 'Vps13a', 471: 'Foxb2', 472: 'Prune2', 473: 'Gcnt1', 474: 'Gcnt1', 475: 'Gcnt1', 476: 'Rfk', 477: 'Pcsk5', 478: 'Ostf1', 479: 'Nmrk1', 480: 'Carnmt1', 481: 'D030056l22rik', 482: 'D030056l22rik', 483: 'Trpm6', 484: 'Rorb', 485: 'Rorb', 486: 'Anxa1', 487: '1500015l24rik', 488: 'Aldh1a1', 489: 'E030003e18rik', 490: 'C730002l08rik', 491: 'Aldh1a1', 492: 'Aldh1a7', 493: 'Tmc1', 494: '4930554i06rik', 495: 'Zfand5', 496: 'Gda', 497: '1110059e24rik', 498: 'Abhd17b', 499: 'Cemip2', 500: 'Trpm3', 501: 'Trpm3', 502: 'Trpm3', 503: 'Mir204', 504: 'Trpm3', 505: 'Klf9', 506: 'Mir1192', 507: 'Smc5', 508: 'Smc5', 509: 'Mamdc2', 510: '1700028p14rik', 511: 'Ptar1', 512: 'Apba1', 513: 'Fam189a2', 514: 'Tjp2', 515: 'Tjp2', 516: 'Tjp2', 517: 'Tjp2', 518: 'Fxn', 519: 'Fam122a', 520: 'Pip5k1b', 521: 'Tmem252', 522: 'Pgm5', 523: 'Foxd4', 524: 'Snora19', 525: 'Mir3084-2', 526: 'Cbwd1', 527: 'Dock8', 528: 'Kank1', 529: 'Dmrt1', 530: 'Dmrt3', 531: '2610016a17rik', 532: 'Dmrt2', 533: 'Smarca2', 534: 'Smarca2', 535: 'Smarca2', 536: '4931403e22rik', 537: 'Gm815', 538: 'Vldlr', 539: 'Vldlr', 540: 'Kcnv2', 541: 'Pum3', 542: 'C030016d13rik', 543: 'Rfx3', 544: 'Rfx3', 545: 'D930032p07rik', 546: 'Glis3', 547: 'Slc1a1', 548: '4430402i18rik', 549: 'Plpp6', 550: '4430402i18rik', 551: '4430402i18rik', 552: 'Cdc37l1', 553: '1700018l02rik', 554: 'Ak3', 555: 'Gm9895', 556: 'Rcl1', 557: 'Mir101b', 558: 'Jak2', 559: 'Insl6', 560: 'Rln1', 561: 'Plgrkt', 562: 'Cd274', 563: 'Pdcd1lg2', 564: 'A930007i19rik', 565: 'Ric1', 566: 'Ermp1', 567: 'Mlana', 568: '9930021j03rik', 569: 'Ranbp6', 570: 'Il33', 571: 'Il33', 572: 'Trpd52l3', 573: 'Uhrf2', 574: 'Gldc', 575: 'Mbl2', 576: 'Ppp1r2-ps3', 577: 'Dkk1', 578: 'Gm6642', 579: 'Cstf2t', 580: '8430431k14rik', 581: 'Prkg1', 582: 'Prkg1', 583: 'A1cf', 584: 'Asah2', 585: 'Sgms1', 586: 'Sgms1', 587: 'Sgms1', 588: 'Sgms1', 589: '2700046g09rik', 590: 'Minpp1', 591: 'Papss2', 592: 'Papss2', 593: 'Atad1', 594: 'Pten', 595: 'Mir3970', 596: 'Rnls', 597: 'Lipo4', 598: 'Lipo3', 599: 'Gm8978', 600: 'Lipo2', 601: 'Lipo1', 602: 'Lipf', 603: 'Lipk', 604: 'Lipn', 605: 'Lipm', 606: 'Ankrd22', 607: 'Stambpl1', 608: 'Stambpl1', 609: 'Stambpl1', 610: 'Stambpl1', 611: 'Acta2', 612: 'Fas', 613: 'Ch25h', 614: 'Lipa', 615: 'Ifit2', 616: 'Ifit2', 617: 'Ifit3', 618: 'Ifit1bl1', 619: 'Ifit1bl1', 620: 'Ifit3b', 621: 'Ifit1bl2', 622: 'Ifit1bl2', 623: 'Ifit1', 624: 'Slc16a12', 625: 'Mir107', 626: 'Pank1', 627: 'Pank1', 628: 'Kif20b', 629: 'Mir1950', 630: 'A830019p07rik', 631: 'Htr7', 632: 'Htr7', 633: 'Rpp30', 634: 'Ankrd1', 635: 'Pcgf5', 636: 'Pcgf5', 637: 'Pcgf5', 638: 'Hectd2', 639: 'Hectd2os', 640: 'Ppp1r3c', 641: 'Tnks2', 642: 'Fgfbp3', 643: 'Btaf1', 644: 'A330032b11rik', 645: 'Cpeb3', 646: 'Cpeb3', 647: 'Cpeb3', 648: 'Marchf5', 649: '4931408d14rik', 650: 'Ide', 651: 'Kif11', 652: 'Hhex', 653: '1700122c19rik', 654: 'Exoc6', 655: 'Cyp26c1', 656: 'Cyp26a1', 657: 'Myof', 658: 'Cep55', 659: 'Cep55', 660: 'Ffar4', 661: 'Rbp4', 662: 'Rbp4', 663: 'Pde6c', 664: 'Fra10ac1', 665: 'Lgi1', 666: 'Lgi1', 667: 'Slc35g1', 668: 'Plce1', 669: 'Noc3l', 670: 'Tbc1d12', 671: 'Hells', 672: 'Cyp2c55', 673: 'Cyp2c65', 674: 'Cyp2c66', 675: 'Cyp2c53-ps', 676: 'Cyp2c29', 677: 'Cyp2c39', 678: 'Cyp2c38', 679: 'Cyp2c39', 680: 'Cyp2c67', 681: 'Cyp2c68', 682: 'Cyp2c40', 683: 'Cyp2c69', 684: 'Cyp2c37', 685: 'Cyp2c54', 686: 'Cyp2c50', 687: 'Cyp2c70', 688: 'Pdlim1', 689: 'Sorbs1', 690: 'Sorbs1', 691: 'Sorbs1', 692: 'Sorbs1', 693: 'Aldh18a1', 694: 'Tctn3', 695: 'Entpd1', 696: 'Entpd1', 697: 'Cc2d2b', 698: 'Ccnj', 699: 'E030044b06rik', 700: 'Mir8092', 701: 'Zfp518a', 702: 'Blnk', 703: 'C330026h20rik', 704: 'Dntt', 705: 'Opalin', 706: 'Tll2', 707: 'Tm9sf3', 708: 'Pik3ap1', 709: 'Lcor', 710: 'Morf4l1b', 711: 'Lcor', 712: 'Mir8091', 713: 'Slit1', 714: 'Gm19424', 715: 'Arhgap19', 716: 'Frat1', 717: 'Frat2', 718: 'Rrp12', 719: 'Pgam1', 720: 'Exosc1', 721: 'Zdhhc16', 722: 'Mms19', 723: 'Mms19', 724: 'Ubtd1', 725: 'Ankrd2', 726: 'Hoga1', 727: '4933411k16rik', 728: 'Morn4', 729: 'Pi4k2a', 730: 'Avpi1', 731: 'Marveld1', 732: 'Zfyve27', 733: 'Sfrp5', 734: 'Golga7b', 735: 'Golga7b', 736: 'Mir3085', 737: 'Crtac1', 738: 'Crtac1', 739: 'R3hcc1l', 740: 'Loxl4', 741: 'Pyroxd2', 742: 'Hps1', 743: 'Hps1', 744: 'Hpse2', 745: 'Cnnm1', 746: 'Got1', 747: 'Nkx2-3', 748: 'Gm4311', 749: 'Slc25a28', 750: 'Bc037704', 751: 'Entpd7', 752: 'Cox15', 753: 'Cutc', 754: 'Abcc2', 755: 'Gm10768', 756: 'Dnmbp', 757: 'Dnmbp', 758: 'Cpn1', 759: 'Cyp2c23', 760: 'Erlin1', 761: 'Erlin1', 762: 'Erlin1', 763: 'Chuk', 764: 'Cwf19l1', 765: 'Cwf19l1', 766: 'Bloc1s2', 767: 'Pkd2l1', 768: 'Scd3', 769: 'Scd2', 770: 'Mir5114', 771: 'Scd4', 772: 'Scd1', 773: 'Wnt8b', 774: 'Sec31b', 775: 'Ndufb8', 776: 'Hif1an', 777: 'Pax2', 778: 'Pax2', 779: 'Pax2', 780: 'Mir6405', 781: '1700039e22rik', 782: 'Slf2', 783: '4930414n06rik', 784: 'Sema4g', 785: 'Twnk', 786: 'Mrpl43', 787: 'Twnk', 788: 'Twnk', 789: 'Lzts2', 790: 'Lzts2', 791: 'Lzts2', 792: 'Pdzd7', 793: 'Sfxn3', 794: 'Kazald1', 795: 'Kazald1', 796: 'Tlx1', 797: 'Lbx1', 798: 'Btrc', 799: 'Poll', 800: 'Dpcd', 801: 'Fbxw4', 802: '4933429k18rik', 803: 'Fgf8', 804: 'Npm3', 805: 'Oga', 806: 'Kcnip2', 807: 'Kcnip2', 808: '4930505n22rik', 809: 'Armh3', 810: 'Hps6', 811: 'Ldb1', 812: 'Ldb1', 813: 'Ldb1', 814: 'Pprc1', 815: 'Nolc1', 816: 'Elovl3', 817: 'Elovl3', 818: 'Pitx3', 819: 'Gbf1', 820: 'Nfkb2', 821: '4833438c02rik', 822: 'Nfkb2', 823: 'Nfkb2', 824: 'Psd', 825: 'Psd', 826: 'Fbxl15', 827: 'Cuedc2', 828: 'Mir146b', 829: '2310034g01rik', 830: 'Mfsd13a', 831: 'Actr1a', 832: 'Sufu', 833: 'Trim8', 834: 'Arl3', 835: 'Sfxn2', 836: 'Wbp1l', 837: 'Wbp1l', 838: 'Cyp17a1', 839: 'Borcs7', 840: 'As3mt', 841: 'Cnnm2', 842: 'Nt5c2', 843: 'Nt5c2', 844: 'Nt5c2', 845: 'Nt5c2', 846: 'Nt5c2', 847: 'Nt5c2', 848: 'Ina', 849: 'Nt5c2', 850: 'Pcgf6', 851: 'Taf5', 852: 'Atp5md', 853: 'Pdcd11', 854: 'Calhm2', 855: 'Calhm1', 856: 'Neurl1a', 857: 'Neurl1a', 858: 'Mir6995', 859: 'Sh3pxd2a', 860: 'Gm19557', 861: 'Stn1', 862: 'Slk', 863: 'Col17a1', 864: 'Sfr1', 865: 'Mir8090', 866: 'Cfap43', 867: 'Gsto1', 868: 'Gsto2', 869: 'Gsto2', 870: 'Itprip', 871: 'Cfap58', 872: 'Sorcs3', 873: 'Sorcs1', 874: 'Ins1', 875: 'Aa387883', 876: 'Mir6407', 877: 'Xpnpep1', 878: 'Xpnpep1', 879: '1700054a03rik', 880: 'Add3', 881: 'Add3', 882: 'Add3', 883: '1700001k23rik', 884: 'Mxi1', 885: 'Mxi1', 886: 'Mxi1', 887: 'Mxi1', 888: 'Mxi1', 889: 'Smndc1', 890: 'Smndc1', 891: 'Mirt1', 892: 'Dusp5', 893: 'Smc3', 894: 'Rbm20', 895: 'Pdcd4', 896: 'Pdcd4', 897: 'Shoc2', 898: 'Bbip1', 899: 'Shoc2', 900: 'Adra2a', 901: 'Gpam', 902: 'Gpam', 903: 'Tectb', 904: 'Mir6715', 905: 'Gucy2g', 906: 'Gucy2g', 907: 'Acsl5', 908: 'Zdhhc6', 909: 'Vti1a', 910: '4930552p12rik', 911: 'Tcf7l2', 912: 'Tcf7l2', 913: 'Habp2', 914: 'Nrap', 915: 'Casp7', 916: 'Plekhs1', 917: 'Dclre1a', 918: 'Dclre1a', 919: 'Nhlrc2', 920: 'Adrb1', 921: 'Ccdc186', 922: 'Tdrd1', 923: 'Tdrd1', 924: 'Tdrd1', 925: 'Tdrd1', 926: 'Vwa2', 927: 'Afap1l2', 928: 'Ablim1', 929: 'Ablim1', 930: 'Ablim1', 931: '4930449e18rik', 932: 'Ablim1', 933: 'Ablim1', 934: 'B230217o12rik', 935: 'Fam160b1', 936: 'Trub1', 937: '6720468p15rik', 938: '6720468p15rik', 939: 'Atrnl1', 940: 'Mir5623', 941: 'Gm10007', 942: 'Gfra1', 943: 'Ccdc172', 944: '1810007d17rik', 945: 'Pnlip', 946: '1810018f18rik', 947: 'Pnliprp1', 948: 'Pnliprp2', 949: '1700019n19rik', 950: '1700019n19rik', 951: '1700019n19rik', 952: 'Hspa12a', 953: 'Mir3086', 954: 'Eno4', 955: 'Hspa12a', 956: 'Shtn1', 957: 'Vax1', 958: 'Kcnk18', 959: 'Slc18a2', 960: 'Pdzd8', 961: 'Emx2os', 962: 'Emx2', 963: '2700089i24rik', 964: 'Rab11fip2', 965: 'Rab11fip2', 966: 'E330013p04rik', 967: 'Fam204a', 968: 'Prlhr', 969: 'Cacul1', 970: 'Nanos1', 971: 'Snora19', 972: 'Mir3084-2', 973: 'Eif3a', 974: 'Fam45a', 975: 'Sfxn4', 976: 'Prdx3', 977: 'Grk5', 978: 'Zfp950', 979: 'Gm7102', 980: 'Csf2ra'}\n",
      "981\n",
      "       chrom     start       end\n",
      "0      chr19         0      1000\n",
      "1      chr19      1000      2000\n",
      "2      chr19      2000      3000\n",
      "3      chr19      3000      4000\n",
      "4      chr19      4000      5000\n",
      "...      ...       ...       ...\n",
      "61427  chr19  61427000  61428000\n",
      "61428  chr19  61428000  61429000\n",
      "61429  chr19  61429000  61430000\n",
      "61430  chr19  61430000  61431000\n",
      "61431  chr19  61431000  61431566\n",
      "\n",
      "[61432 rows x 3 columns]\n"
     ]
    }
   ],
   "source": [
    "chr19_gene_dict = tss_bed.to_dataframe()[\"name\"].str.capitalize().to_dict()\n",
    "print(chr19_gene_dict)\n",
    "print(len(chr19_gene_dict))\n",
    "chr19_windows = mm10_chr19_windows\n",
    "print(chr19_windows)"
   ]
  },
  {
   "cell_type": "markdown",
   "id": "f4909081",
   "metadata": {},
   "source": [
    "To test that the model can learn under favorable circumstances, we will test how well the model can predict TG expression for the most commonly-expressed TG"
   ]
  },
  {
   "cell_type": "code",
   "execution_count": 105,
   "id": "e884c78f",
   "metadata": {},
   "outputs": [
    {
     "data": {
      "text/plain": [
       "array(['Fau', 'Malat1', 'Eif3a', 'Eef1g', 'Cfl1', 'Fth1', 'Pgam1',\n",
       "       'Snhg1', 'Tnks2', 'Hells', 'Cox8a', 'Ddb1', 'Btaf1', 'Scd2',\n",
       "       'Stip1', 'Tcf7l2', 'Gldc', 'Sf3b2', 'Nolc1', 'Atp5md', 'Ppp1r14b',\n",
       "       'Rtn3', 'Uhrf2', 'Smc3', 'Smc5', 'Oga', 'Sf1', 'Rbp4', 'Mark2',\n",
       "       'Banf1', 'Rfx3', 'Pten', 'Ganab', 'Gnaq', 'Kdm2a', 'Ppp1ca',\n",
       "       'Tm9sf3', 'Pdcd11', 'Tmem132a', 'Ppp6r3', 'Tjp2', 'Tle4', 'Incenp',\n",
       "       'Vti1a', 'Atrnl1', 'Kif11', 'Lcor', 'Pum3', 'Slc3a2', 'Chka'],\n",
       "      dtype=object)"
      ]
     },
     "execution_count": 105,
     "metadata": {},
     "output_type": "execute_result"
    }
   ],
   "source": [
    "chr19_genes = gene_tss_df[\"name\"].str.capitalize().to_list()\n",
    "rna_df_chr19 = mesc_rna_data[mesc_rna_data.index.isin(chr19_genes)]\n",
    "rna_df_chr19_most_common_genes = rna_df_chr19.fillna(0).ne(0).sum(axis=1).sort_values(ascending=False)\n",
    "top_50_expressed_genes = rna_df_chr19_most_common_genes.index[:50].to_numpy()\n",
    "top_50_expressed_genes"
   ]
  },
  {
   "cell_type": "code",
   "execution_count": 109,
   "id": "28c68e21",
   "metadata": {},
   "outputs": [],
   "source": [
    "# Restrict the peak to gene distance dataframe to only include the top 50 TGs\n",
    "top_50_genes_near_peaks = genes_near_peaks[genes_near_peaks[\"target_id\"].isin(top_50_expressed_genes)]\n",
    "\n",
    "# Subset the Homer results for peaks within range of the top 50 TGs\n",
    "top_50_genes_homer_results = homer_results[homer_results[\"peak_id\"].isin(top_50_genes_near_peaks[\"peak_id\"])]\n",
    "\n",
    "# Restrict RNA expression to the top 50 TGs and TFs binding to peaks within range of the top 50 TGs\n",
    "top_50_genes_rna_df = rna_df_chr19[\n",
    "    (rna_df_chr19.index.isin(top_50_expressed_genes)) |\n",
    "    (rna_df_chr19.index.isin(top_50_genes_homer_results[\"source_id\"]))\n",
    "    ]\n",
    "\n",
    "top_50_genes_atac_df = mesc_atac_data_chr19[mesc_atac_data_chr19.index.isin(top_50_genes_near_peaks[\"peak_id\"])]"
   ]
  },
  {
   "cell_type": "code",
   "execution_count": 111,
   "id": "2c828b0b",
   "metadata": {},
   "outputs": [
    {
     "name": "stdout",
     "output_type": "stream",
     "text": [
      "Number of potential TGs: 50\n",
      "Number of unique TFs: 262\n",
      "Number of unique peaks: 4931\n"
     ]
    }
   ],
   "source": [
    "top_50_potential_tgs = top_50_genes_near_peaks[\"target_id\"].unique()\n",
    "print(f\"Number of potential TGs: {len(top_50_potential_tgs)}\")\n",
    "\n",
    "top_50_unique_tfs = top_50_genes_homer_results[\"source_id\"].unique()\n",
    "print(f\"Number of unique TFs: {len(top_50_unique_tfs)}\")\n",
    "\n",
    "top_50_unique_peaks = top_50_genes_atac_df.index.unique()\n",
    "print(f\"Number of unique peaks: {len(top_50_unique_peaks)}\")"
   ]
  },
  {
   "cell_type": "markdown",
   "id": "5fc11aec",
   "metadata": {},
   "source": [
    "We only want genes that are either in the potential TG list or in the unique TF list and cells that are present in both the RNA and ATAC datasets."
   ]
  },
  {
   "cell_type": "code",
   "execution_count": 114,
   "id": "c81b82b1",
   "metadata": {},
   "outputs": [],
   "source": [
    "atac_cell_barcodes = top_50_genes_atac_df.columns.to_list()\n",
    "rna_cell_barcodes = top_50_genes_rna_df.columns.to_list()\n",
    "atac_in_rna_shared_barcodes = [i for i in atac_cell_barcodes if i in rna_cell_barcodes]\n",
    "\n",
    "# Make sure that the cell names are in the same order and in both datasets\n",
    "shared_barcodes = sorted(set(atac_in_rna_shared_barcodes))\n",
    "\n",
    "mesc_atac_data_chr1_shared = top_50_genes_atac_df[shared_barcodes]\n",
    "mesc_rna_data_shared = top_50_genes_rna_df[shared_barcodes]"
   ]
  },
  {
   "cell_type": "code",
   "execution_count": 115,
   "id": "9d79e28b",
   "metadata": {},
   "outputs": [
    {
     "name": "stdout",
     "output_type": "stream",
     "text": [
      "E7.5_rep1#AAACCGGCAGAAATGC-1 E7.5_rep1#AAACCGGCAGAAATGC-1\n"
     ]
    }
   ],
   "source": [
    "rna_first_cell = mesc_rna_data_shared.iloc[:, 0]\n",
    "atac_first_cell = mesc_atac_data_chr1_shared.loc[:, rna_first_cell.name] # Makes sure the barcodes match\n",
    "print(rna_first_cell.name, atac_first_cell.name)"
   ]
  },
  {
   "cell_type": "markdown",
   "id": "d060d4d3",
   "metadata": {},
   "source": [
    "#### TF-peak Binding Potential\n",
    "\n",
    "We calculate the TF-peak binding potential as the TF to peak binding score from homer * the gene expression of each TF"
   ]
  },
  {
   "cell_type": "code",
   "execution_count": 117,
   "id": "a9af7041",
   "metadata": {},
   "outputs": [
    {
     "data": {
      "application/vnd.microsoft.datawrangler.viewer.v0+json": {
       "columns": [
        {
         "name": "index",
         "rawType": "int64",
         "type": "integer"
        },
        {
         "name": "source_id",
         "rawType": "object",
         "type": "string"
        },
        {
         "name": "peak_id",
         "rawType": "string",
         "type": "string"
        },
        {
         "name": "tf_peak_binding_potential",
         "rawType": "float64",
         "type": "float"
        }
       ],
       "ref": "81837187-c8f4-4a3f-a83d-c9ce4d827f4e",
       "rows": [
        [
         "61296",
         "Klf9",
         "chr19:38352670-38353270",
         "0.0"
        ],
        [
         "61298",
         "Klf9",
         "chr19:5151209-5151809",
         "0.0"
        ],
        [
         "61300",
         "Klf9",
         "chr19:7483054-7483654",
         "0.0"
        ],
        [
         "61301",
         "Klf9",
         "chr19:46624034-46624634",
         "0.0"
        ],
        [
         "61302",
         "Klf9",
         "chr19:4300344-4300944",
         "0.0"
        ]
       ],
       "shape": {
        "columns": 3,
        "rows": 5
       }
      },
      "text/html": [
       "<div>\n",
       "<style scoped>\n",
       "    .dataframe tbody tr th:only-of-type {\n",
       "        vertical-align: middle;\n",
       "    }\n",
       "\n",
       "    .dataframe tbody tr th {\n",
       "        vertical-align: top;\n",
       "    }\n",
       "\n",
       "    .dataframe thead th {\n",
       "        text-align: right;\n",
       "    }\n",
       "</style>\n",
       "<table border=\"1\" class=\"dataframe\">\n",
       "  <thead>\n",
       "    <tr style=\"text-align: right;\">\n",
       "      <th></th>\n",
       "      <th>source_id</th>\n",
       "      <th>peak_id</th>\n",
       "      <th>tf_peak_binding_potential</th>\n",
       "    </tr>\n",
       "  </thead>\n",
       "  <tbody>\n",
       "    <tr>\n",
       "      <th>61296</th>\n",
       "      <td>Klf9</td>\n",
       "      <td>chr19:38352670-38353270</td>\n",
       "      <td>0.0</td>\n",
       "    </tr>\n",
       "    <tr>\n",
       "      <th>61298</th>\n",
       "      <td>Klf9</td>\n",
       "      <td>chr19:5151209-5151809</td>\n",
       "      <td>0.0</td>\n",
       "    </tr>\n",
       "    <tr>\n",
       "      <th>61300</th>\n",
       "      <td>Klf9</td>\n",
       "      <td>chr19:7483054-7483654</td>\n",
       "      <td>0.0</td>\n",
       "    </tr>\n",
       "    <tr>\n",
       "      <th>61301</th>\n",
       "      <td>Klf9</td>\n",
       "      <td>chr19:46624034-46624634</td>\n",
       "      <td>0.0</td>\n",
       "    </tr>\n",
       "    <tr>\n",
       "      <th>61302</th>\n",
       "      <td>Klf9</td>\n",
       "      <td>chr19:4300344-4300944</td>\n",
       "      <td>0.0</td>\n",
       "    </tr>\n",
       "  </tbody>\n",
       "</table>\n",
       "</div>"
      ],
      "text/plain": [
       "      source_id                  peak_id  tf_peak_binding_potential\n",
       "61296      Klf9  chr19:38352670-38353270                        0.0\n",
       "61298      Klf9    chr19:5151209-5151809                        0.0\n",
       "61300      Klf9    chr19:7483054-7483654                        0.0\n",
       "61301      Klf9  chr19:46624034-46624634                        0.0\n",
       "61302      Klf9    chr19:4300344-4300944                        0.0"
      ]
     },
     "execution_count": 117,
     "metadata": {},
     "output_type": "execute_result"
    }
   ],
   "source": [
    "tf_peak_binding_potential = pd.merge(top_50_genes_homer_results, rna_first_cell, left_on=\"source_id\", right_index=True, how=\"inner\")\n",
    "tf_peak_binding_potential[\"tf_peak_binding_potential\"] = tf_peak_binding_potential[\"homer_binding_score\"] * tf_peak_binding_potential.iloc[:,-1]\n",
    "tf_peak_binding_potential = tf_peak_binding_potential[[\"source_id\", \"peak_id\", \"tf_peak_binding_potential\"]]\n",
    "tf_peak_binding_potential.head()"
   ]
  },
  {
   "cell_type": "markdown",
   "id": "5b1bd0b6",
   "metadata": {},
   "source": [
    "#### Peak-TG Regulatory Potential\n",
    "\n",
    "We calculate the peak-TG regulatory potential as the peak accessibility * the peak to potential TG TSS distance score"
   ]
  },
  {
   "cell_type": "code",
   "execution_count": 118,
   "id": "807411bf",
   "metadata": {},
   "outputs": [
    {
     "data": {
      "application/vnd.microsoft.datawrangler.viewer.v0+json": {
       "columns": [
        {
         "name": "index",
         "rawType": "int64",
         "type": "integer"
        },
        {
         "name": "peak_id",
         "rawType": "object",
         "type": "string"
        },
        {
         "name": "target_id",
         "rawType": "object",
         "type": "string"
        },
        {
         "name": "peak_tg_regulatory_potential",
         "rawType": "float64",
         "type": "float"
        }
       ],
       "ref": "eb914159-f062-4a88-9fb2-7fbebee5eba0",
       "rows": [
        [
         "227332",
         "chr19:53599784-53600384",
         "Smc3",
         "0.0"
        ],
        [
         "132396",
         "chr19:24142459-24143059",
         "Tjp2",
         "0.0"
        ],
        [
         "125654",
         "chr19:14596667-14597267",
         "Tle4",
         "0.0"
        ],
        [
         "137892",
         "chr19:28010498-28011098",
         "Rfx3",
         "0.0"
        ],
        [
         "158167",
         "chr19:38124843-38125443",
         "Rbp4",
         "0.0"
        ]
       ],
       "shape": {
        "columns": 3,
        "rows": 5
       }
      },
      "text/html": [
       "<div>\n",
       "<style scoped>\n",
       "    .dataframe tbody tr th:only-of-type {\n",
       "        vertical-align: middle;\n",
       "    }\n",
       "\n",
       "    .dataframe tbody tr th {\n",
       "        vertical-align: top;\n",
       "    }\n",
       "\n",
       "    .dataframe thead th {\n",
       "        text-align: right;\n",
       "    }\n",
       "</style>\n",
       "<table border=\"1\" class=\"dataframe\">\n",
       "  <thead>\n",
       "    <tr style=\"text-align: right;\">\n",
       "      <th></th>\n",
       "      <th>peak_id</th>\n",
       "      <th>target_id</th>\n",
       "      <th>peak_tg_regulatory_potential</th>\n",
       "    </tr>\n",
       "  </thead>\n",
       "  <tbody>\n",
       "    <tr>\n",
       "      <th>227332</th>\n",
       "      <td>chr19:53599784-53600384</td>\n",
       "      <td>Smc3</td>\n",
       "      <td>0.0</td>\n",
       "    </tr>\n",
       "    <tr>\n",
       "      <th>132396</th>\n",
       "      <td>chr19:24142459-24143059</td>\n",
       "      <td>Tjp2</td>\n",
       "      <td>0.0</td>\n",
       "    </tr>\n",
       "    <tr>\n",
       "      <th>125654</th>\n",
       "      <td>chr19:14596667-14597267</td>\n",
       "      <td>Tle4</td>\n",
       "      <td>0.0</td>\n",
       "    </tr>\n",
       "    <tr>\n",
       "      <th>137892</th>\n",
       "      <td>chr19:28010498-28011098</td>\n",
       "      <td>Rfx3</td>\n",
       "      <td>0.0</td>\n",
       "    </tr>\n",
       "    <tr>\n",
       "      <th>158167</th>\n",
       "      <td>chr19:38124843-38125443</td>\n",
       "      <td>Rbp4</td>\n",
       "      <td>0.0</td>\n",
       "    </tr>\n",
       "  </tbody>\n",
       "</table>\n",
       "</div>"
      ],
      "text/plain": [
       "                        peak_id target_id  peak_tg_regulatory_potential\n",
       "227332  chr19:53599784-53600384      Smc3                           0.0\n",
       "132396  chr19:24142459-24143059      Tjp2                           0.0\n",
       "125654  chr19:14596667-14597267      Tle4                           0.0\n",
       "137892  chr19:28010498-28011098      Rfx3                           0.0\n",
       "158167  chr19:38124843-38125443      Rbp4                           0.0"
      ]
     },
     "execution_count": 118,
     "metadata": {},
     "output_type": "execute_result"
    }
   ],
   "source": [
    "peak_tg_regulatory_potential = pd.merge(top_50_genes_near_peaks, atac_first_cell, left_on=\"peak_id\", right_index=True, how=\"inner\")\n",
    "peak_tg_regulatory_potential[\"peak_tg_regulatory_potential\"] = peak_tg_regulatory_potential[\"TSS_dist_score\"] * peak_tg_regulatory_potential.iloc[:, -1]\n",
    "peak_tg_regulatory_potential = peak_tg_regulatory_potential[[\"peak_id\", \"target_id\", \"peak_tg_regulatory_potential\"]]\n",
    "peak_tg_regulatory_potential.head()"
   ]
  },
  {
   "cell_type": "markdown",
   "id": "214f3526",
   "metadata": {},
   "source": [
    "#### TF-Peak-TG Regulatory Potential\n",
    "\n",
    "Finally, we get the TF-Peak-TG regulatory potential by multiplying the TF-peak binding potential scores with the peak-TG regulatory potential scores for each shared peak."
   ]
  },
  {
   "cell_type": "code",
   "execution_count": 123,
   "id": "deb354d4",
   "metadata": {},
   "outputs": [
    {
     "name": "stdout",
     "output_type": "stream",
     "text": [
      "  source_id                  peak_id target_id  tf_peak_tg_score\n",
      "5     Glis3  chr19:10012839-10013439      Fth1               0.0\n",
      "6     Glis3  chr19:10012839-10013439      Fth1               0.0\n",
      "7     Glis3  chr19:10012839-10013439    Incenp               0.0\n",
      "8     Glis3  chr19:10012839-10013439      Ddb1               0.0\n",
      "9     Glis3  chr19:10012839-10013439  Tmem132a               0.0\n",
      "(11431, 4)\n"
     ]
    }
   ],
   "source": [
    "tf_peak_tg_regulatory_potential = pd.merge(tf_peak_binding_potential, peak_tg_regulatory_potential, on=\"peak_id\", how=\"outer\").dropna()\n",
    "tf_peak_tg_regulatory_potential[\"tf_peak_tg_score\"] = tf_peak_tg_regulatory_potential[\"tf_peak_binding_potential\"] * tf_peak_tg_regulatory_potential[\"peak_tg_regulatory_potential\"]\n",
    "tf_peak_tg_regulatory_potential = tf_peak_tg_regulatory_potential[[\"source_id\", \"peak_id\", \"target_id\", \"tf_peak_tg_score\"]]\n",
    "print(tf_peak_tg_regulatory_potential.head())\n",
    "print(tf_peak_tg_regulatory_potential.shape)"
   ]
  },
  {
   "cell_type": "markdown",
   "id": "a8c3b476",
   "metadata": {},
   "source": [
    "### Aggregate the TF-peak-TG scores into genomic coordinate windows\n",
    "\n",
    "We will not aggregate the peaks based on the 1 Kb windows that we created earlier. The peak scores for a window will be summed to get a final score. By aggregating the peaks into windows with a static size, we ensure that the transformer architecture will work with any mm10 data."
   ]
  },
  {
   "cell_type": "code",
   "execution_count": 127,
   "id": "a42d1f2f",
   "metadata": {},
   "outputs": [
    {
     "name": "stdout",
     "output_type": "stream",
     "text": [
      "  source_id                window_id target_id  tf_window_tg_score\n",
      "0     Glis3  chr19:10013000-10014000      Ddb1                 0.0\n",
      "1     Glis3  chr19:10013000-10014000      Fth1                 0.0\n",
      "2     Glis3  chr19:10013000-10014000    Incenp                 0.0\n",
      "3     Glis3  chr19:10013000-10014000  Tmem132a                 0.0\n",
      "4     Glis3  chr19:10015000-10016000      Ddb1                 0.0\n"
     ]
    }
   ],
   "source": [
    "# Parse peak_id into genomic coords (chrom, start, end)\n",
    "coords = tf_peak_tg_regulatory_potential[\"peak_id\"].str.extract(\n",
    "    r\"(?P<chrom>[^:]+):(?P<start>\\d+)-(?P<end>\\d+)\"\n",
    ").astype({\"start\":\"int64\",\"end\":\"int64\"})\n",
    "\n",
    "df = pd.concat([tf_peak_tg_regulatory_potential, coords], axis=1)\n",
    "\n",
    "df = df[df[\"chrom\"] == \"chr19\"].copy()\n",
    "\n",
    "window_size = int((mm10_chr19_windows[\"end\"] - mm10_chr19_windows[\"start\"]).mode().iloc[0])\n",
    "\n",
    "# Build a quick lookup of window_id strings from window indices\n",
    "# window index k -> [start=k*w, end=(k+1)*w)\n",
    "win_lut = {}\n",
    "for _, row in mm10_chr19_windows.iterrows():\n",
    "    k = row[\"start\"] // window_size\n",
    "    win_lut[k] = f'{row[\"chrom\"]}:{row[\"start\"]}-{row[\"end\"]}'\n",
    "\n",
    "# --- Assign each unique peak to the window with maximal overlap (random ties) ---\n",
    "rng = np.random.default_rng(0)  # set a seed for reproducibility; change/remove if you want different random choices\n",
    "\n",
    "peaks_unique = (\n",
    "    df.loc[:, [\"peak_id\", \"chrom\", \"start\", \"end\"]]\n",
    "      .drop_duplicates(subset=[\"peak_id\"])\n",
    "      .reset_index(drop=True)\n",
    ")\n",
    "\n",
    "def assign_best_window(start, end, w):\n",
    "    # windows indices spanned by the peak (inclusive)\n",
    "    i0 = start // w\n",
    "    i1 = (end - 1) // w  # subtract 1 so exact boundary end==k*w goes to k-1 window\n",
    "    if i1 < i0:\n",
    "        i1 = i0\n",
    "    # compute overlaps with all spanned windows\n",
    "    overlaps = []\n",
    "    for k in range(i0, i1 + 1):\n",
    "        bin_start = k * w\n",
    "        bin_end = bin_start + w\n",
    "        ov = max(0, min(end, bin_end) - max(start, bin_start))\n",
    "        overlaps.append((k, ov))\n",
    "    # choose the k with max overlap; break ties randomly\n",
    "    ov_vals = [ov for _, ov in overlaps]\n",
    "    max_ov = max(ov_vals)\n",
    "    candidates = [k for (k, ov) in overlaps if ov == max_ov]\n",
    "    if len(candidates) == 1:\n",
    "        return candidates[0]\n",
    "    else:\n",
    "        return rng.choice(candidates)\n",
    "\n",
    "peak_to_window_idx = peaks_unique.apply(\n",
    "    lambda r: assign_best_window(r[\"start\"], r[\"end\"], window_size), axis=1\n",
    ")\n",
    "peaks_unique[\"window_idx\"] = peak_to_window_idx\n",
    "peaks_unique[\"window_id\"] = peaks_unique[\"window_idx\"].map(win_lut)\n",
    "\n",
    "# Map window assignment back to the full TF–peak–gene table and aggregate\n",
    "df = df.merge(\n",
    "    peaks_unique.loc[:, [\"peak_id\", \"window_id\"]],\n",
    "    on=\"peak_id\",\n",
    "    how=\"left\"\n",
    ")\n",
    "\n",
    "# Aggregate scores per TF × window × gene\n",
    "binned_scores = (\n",
    "    df.groupby([\"source_id\", \"window_id\", \"target_id\"], observed=True)[\"tf_peak_tg_score\"]\n",
    "      .sum()\n",
    "      .reset_index()\n",
    ").rename(columns={\"tf_peak_tg_score\":\"tf_window_tg_score\"})\n",
    "\n",
    "print(binned_scores.head())\n"
   ]
  },
  {
   "cell_type": "markdown",
   "id": "6e02a160",
   "metadata": {},
   "source": [
    "Next, we need to pivot the long dataframe into a 3D TF x window x TG NumPy array."
   ]
  },
  {
   "cell_type": "code",
   "execution_count": 128,
   "id": "24d758bc",
   "metadata": {},
   "outputs": [
    {
     "name": "stdout",
     "output_type": "stream",
     "text": [
      "(2, 2484, 50)\n"
     ]
    }
   ],
   "source": [
    "# Get unique IDs\n",
    "tfs = binned_scores[\"source_id\"].unique()\n",
    "windows = binned_scores[\"window_id\"].unique()\n",
    "genes = binned_scores[\"target_id\"].unique()\n",
    "\n",
    "# Create index maps\n",
    "tf_idx = {tf: i for i, tf in enumerate(tfs)}\n",
    "window_idx = {p: i for i, p in enumerate(windows)}\n",
    "gene_idx = {g: i for i, g in enumerate(genes)}\n",
    "\n",
    "# Initialize 3D matrix\n",
    "tensor_np = np.zeros((len(tfs), len(windows), len(genes)), dtype=float)\n",
    "\n",
    "# Fill values\n",
    "for _, row in binned_scores.iterrows():\n",
    "    i = tf_idx[row[\"source_id\"]]\n",
    "    j = window_idx[row[\"window_id\"]]\n",
    "    k = gene_idx[row[\"target_id\"]]\n",
    "    tensor_np[i, j, k] = row[\"tf_window_tg_score\"]\n",
    "\n",
    "print(tensor_np.shape)  # (n_TFs, n_windows, n_genes)"
   ]
  },
  {
   "cell_type": "markdown",
   "id": "669f5ada",
   "metadata": {},
   "source": [
    "Now that we have the input matrix, we will store it in case the kernel crashes"
   ]
  },
  {
   "cell_type": "code",
   "execution_count": 124,
   "id": "dab5f582",
   "metadata": {},
   "outputs": [],
   "source": [
    "np.savez_compressed(\n",
    "    os.path.join(output_dir, \"tf_window_gene_tensor.npz\"),\n",
    "    tensor=tensor_np,\n",
    "    tfs=tfs,\n",
    "    windows=windows,\n",
    "    genes=genes\n",
    ")"
   ]
  },
  {
   "cell_type": "code",
   "execution_count": 129,
   "id": "b4c1c1d4",
   "metadata": {},
   "outputs": [
    {
     "name": "stdout",
     "output_type": "stream",
     "text": [
      "Number of TFs: 2\n",
      "Number of Windows: 2484\n",
      "Number of TGs: 50\n"
     ]
    }
   ],
   "source": [
    "print(f\"Number of TFs: {tensor_np.shape[0]}\")\n",
    "print(f\"Number of Windows: {tensor_np.shape[1]}\")\n",
    "print(f\"Number of TGs: {tensor_np.shape[2]}\")"
   ]
  },
  {
   "cell_type": "markdown",
   "id": "226a01eb",
   "metadata": {},
   "source": [
    "To recap, the scores in this array represnts the TF-peak regulatory potentials for each TG based on the Homer TF-peak binding scores, the peak-TG regulatory potential scores, the peak accessibility values, and the TF RNA expression values"
   ]
  },
  {
   "cell_type": "markdown",
   "id": "2e381ea8",
   "metadata": {},
   "source": [
    "---"
   ]
  },
  {
   "cell_type": "markdown",
   "id": "a9f4c841",
   "metadata": {},
   "source": [
    "## Transformer Architecture"
   ]
  },
  {
   "cell_type": "markdown",
   "id": "137d2a59",
   "metadata": {},
   "source": [
    "We will use the genomic windows as the sequence and let each gene query the windows for evidence to predict its gene expression. The tokens will be the 12,480 windows for Chr1. The features for the tokens will be set using a learned linear projection of the TF x TG axis."
   ]
  },
  {
   "cell_type": "markdown",
   "id": "53037b4b",
   "metadata": {},
   "source": [
    "### Data Normalization and Range Clamping\n",
    "\n",
    "We convert the numpy array into a PyTorch tensor, then standardize the distribution of the data using Z-score normalization and clamp the min and max values between -5 and 5"
   ]
  },
  {
   "cell_type": "code",
   "execution_count": 140,
   "id": "51d969b1",
   "metadata": {},
   "outputs": [],
   "source": [
    "X = torch.from_numpy(tensor_np).float()     # 106 TF x 12,480 windows x 1,425 TGs\n",
    "\n",
    "# Normalize the window data per TF across the TGs\n",
    "X = (X - X.mean(dim=2, keepdim=True)) / (X.std(dim=2, keepdim=True) + 1e-6)\n",
    "X = torch.clamp(X, -5, 5)"
   ]
  },
  {
   "cell_type": "markdown",
   "id": "8e23c346",
   "metadata": {},
   "source": [
    "### Linear projecting of the TF and TG features\n",
    "\n",
    "Running a transformer model on a 106 x 12480 x 1425 matrix will be too computationally heavy. Instead, we will use trainable linear projections to reduce the dimenisonality of the TF and TG features down to a 256-dimension embedding."
   ]
  },
  {
   "cell_type": "code",
   "execution_count": 141,
   "id": "1568f712",
   "metadata": {},
   "outputs": [],
   "source": [
    "# We will use a dimension 256 features per window\n",
    "TF, W, TG = X.shape\n",
    "d_model = 256\n",
    "\n",
    "# Project the TG dimension down to 64 using a linear projection\n",
    "tg_channels = 64 \n",
    "proj_tg = nn.Linear(TG, tg_channels, bias=False)\n",
    "Xg = proj_tg(X)             # TF, W, 64\n",
    "\n",
    "# Project the TF dimension down to 64 using a linear projection\n",
    "tf_channels = 32\n",
    "proj_tf = nn.Linear(TF, tf_channels, bias=False)\n",
    "\n",
    "# Need to permute Xg to get the TFs as the last dimension before projecting\n",
    "Xg = Xg.permute(1, 2, 0)    # W, 64, TF\n",
    "Xg = proj_tf(Xg)            # W, 64, 32\n",
    "\n",
    "# Next, we flatten the 64 tg_channels x 32 tf_channels\n",
    "window_features = Xg.reshape(W, tg_channels * tf_channels)\n",
    "\n",
    "# Now we project the window features to the shape of d_model\n",
    "proj_window = nn.Linear(tg_channels * tf_channels, d_model)\n",
    "tokens = proj_window(window_features)   # W, 256\n"
   ]
  },
  {
   "cell_type": "code",
   "execution_count": 142,
   "id": "64c569cd",
   "metadata": {},
   "outputs": [
    {
     "data": {
      "text/plain": [
       "torch.Size([2484, 256])"
      ]
     },
     "execution_count": 142,
     "metadata": {},
     "output_type": "execute_result"
    }
   ],
   "source": [
    "tokens.shape"
   ]
  },
  {
   "cell_type": "markdown",
   "id": "1ffffa22",
   "metadata": {},
   "source": [
    "### Downsampling the Windows\n",
    "\n",
    "A window size of 12480 is still too large to run, given that the computational resources required to run attention scale exponentially with the dimensionality of the window size. We will pool the tokens using a kernel size of 8 and a stride of 8. This bins and averages the values to reduce the dimensionality."
   ]
  },
  {
   "cell_type": "code",
   "execution_count": 133,
   "id": "bccfcc62",
   "metadata": {},
   "outputs": [],
   "source": [
    "# Downsample by average pooling across windows\n",
    "pool = nn.AvgPool1d(kernel_size=8, stride=8)  # along sequence length, bins and pools the data\n",
    "tokens = tokens.unsqueeze(0)\n",
    "tokens_ds = pool(tokens.transpose(1,2)).transpose(1,2)   # [1, W', d_model]\n",
    "W_ds = tokens_ds.size(1)"
   ]
  },
  {
   "cell_type": "code",
   "execution_count": 134,
   "id": "0f4efa37",
   "metadata": {},
   "outputs": [
    {
     "data": {
      "text/plain": [
       "torch.Size([1, 310, 256])"
      ]
     },
     "execution_count": 134,
     "metadata": {},
     "output_type": "execute_result"
    }
   ],
   "source": [
    "tokens_ds.shape"
   ]
  },
  {
   "cell_type": "markdown",
   "id": "74d82c8d",
   "metadata": {},
   "source": [
    "### Building the transformer encoder layer\n",
    "\n",
    "Next, we set up a transformer with 8 heads and a feedforward dimension of 512."
   ]
  },
  {
   "cell_type": "code",
   "execution_count": 135,
   "id": "426b7711",
   "metadata": {},
   "outputs": [],
   "source": [
    "encoder_layer = nn.TransformerEncoderLayer(\n",
    "    d_model=d_model, nhead=8, dim_feedforward=512, batch_first=True\n",
    ")\n",
    "encoder = nn.TransformerEncoder(encoder_layer, num_layers=4)\n",
    "\n",
    "H = encoder(tokens_ds)   # [1, W', d_model]"
   ]
  },
  {
   "cell_type": "markdown",
   "id": "41b67c2d",
   "metadata": {},
   "source": [
    "### Positional Encoding (Not used for now)"
   ]
  },
  {
   "cell_type": "markdown",
   "id": "0ba734f4",
   "metadata": {},
   "source": [
    "Next, we use a positional encoder to encode the positions of the genomic windows. This will allow the model to learn context about whether a gene should be expressed using information about the regulatory potential landscape around it.\n",
    "\n",
    "We will use a local relative position bias (RPB) to add a learnable bias for windows within 10 Kb of each gene. This will help the attention mechanism to learn how much it should bias closer windows compared to further windows. "
   ]
  },
  {
   "cell_type": "code",
   "execution_count": null,
   "id": "f2862779",
   "metadata": {},
   "outputs": [],
   "source": [
    "class RelativePositionBias(nn.Module):\n",
    "    \"\"\"\n",
    "    Learned relative position bias for self-attention over windows.\n",
    "    - max_kb: e.g., 10 (±10 kb neighborhood)\n",
    "    - window_size_bp: e.g., 1000 for 1kb windows\n",
    "    - n_heads: attention heads to broadcast the bias over\n",
    "    \"\"\"\n",
    "    def __init__(self, n_heads: int, window_size_bp: int, max_kb: int):\n",
    "        super().__init__()\n",
    "        self.n_heads = n_heads\n",
    "        self.window_size_bp = window_size_bp\n",
    "        self.max_offset = max(1, (max_kb * 1000) // window_size_bp)  # in window units\n",
    "        n_buckets = 2 * self.max_offset + 1  # offsets from -max..+max\n",
    "        self.bias = nn.Parameter(torch.zeros(n_heads, n_buckets))     # [H, 2*max+1]\n",
    "        nn.init.zeros_(self.bias)\n",
    "\n",
    "    def forward(self, seq_len: int, device=None):\n",
    "        \"\"\"\n",
    "        Returns an additive bias tensor for attention scores:\n",
    "        shape [H, L, L], to be added to the (H, L, L) logits.\n",
    "        \"\"\"\n",
    "        device = device or self.bias.device\n",
    "        # offsets[i,j] = j - i  in window units\n",
    "        idx = torch.arange(seq_len, device=device)\n",
    "        off = idx[None, :] - idx[:, None]   # [L, L] in windows\n",
    "\n",
    "        # clip to [-max_offset, +max_offset]\n",
    "        off = off.clamp(-self.max_offset, self.max_offset)\n",
    "        # map offset -> bucket index [0..2*max_offset], center at 0 offset\n",
    "        buckets = (off + self.max_offset).long()  # [L, L]\n",
    "\n",
    "        # gather per-head bias\n",
    "        # bias: [H, B], buckets: [L, L] -> out [H, L, L]\n",
    "        out = self.bias[:, buckets]  # advanced indexing\n",
    "        return out  # [H, L, L]"
   ]
  },
  {
   "cell_type": "markdown",
   "id": "2434fed4",
   "metadata": {},
   "source": [
    "### Cross-attention from the gene queries to the window tokens\n",
    "\n",
    "Each TG has a learned Query vector, and the window tokens each have Key, Value vectors. This allows the model to learn to predict the TG expression using context about the values of the windows around it."
   ]
  },
  {
   "cell_type": "markdown",
   "id": "c1926120",
   "metadata": {},
   "source": [
    "#### Set up the multi-headed attention"
   ]
  },
  {
   "cell_type": "code",
   "execution_count": 136,
   "id": "b778def0",
   "metadata": {},
   "outputs": [],
   "source": [
    "n_genes = len(genes)  # 1425\n",
    "gene_embed = nn.Embedding(n_genes, d_model)\n",
    "\n",
    "cross_attn = nn.MultiheadAttention(embed_dim=d_model, num_heads=8, batch_first=True)\n",
    "readout = nn.Sequential(\n",
    "    nn.LayerNorm(d_model),\n",
    "    nn.Linear(d_model, 1)\n",
    ")\n",
    "\n",
    "# Build gene queries (index 0..n_genes-1)\n",
    "gene_ids = torch.arange(n_genes)\n",
    "GQ = gene_embed(gene_ids).unsqueeze(0)  # [1, n_genes, d_model]\n",
    "\n",
    "# Cross-attention: (Q=genes, K/V=windows)\n",
    "Z, _ = cross_attn(query=GQ, key=H, value=H)  # [1, n_genes, d_model]\n",
    "\n",
    "pred_expr = readout(Z).squeeze(-1)           # [1, n_genes]"
   ]
  },
  {
   "cell_type": "markdown",
   "id": "cac708ce",
   "metadata": {},
   "source": [
    "#### Register Parameters"
   ]
  },
  {
   "cell_type": "code",
   "execution_count": 137,
   "id": "fb661b17",
   "metadata": {},
   "outputs": [],
   "source": [
    "params = (\n",
    "    list(proj_tg.parameters()) +\n",
    "    list(proj_tf.parameters()) +\n",
    "    list(proj_window.parameters()) +\n",
    "    list(encoder.parameters()) +\n",
    "    list(gene_embed.parameters()) +\n",
    "    list(cross_attn.parameters()) +\n",
    "    list(readout.parameters())\n",
    "    # + list(rpb.parameters())  # if you use the custom RPB blocks\n",
    ")\n",
    "opt = torch.optim.AdamW(params, lr=1e-3, weight_decay=1e-4)"
   ]
  },
  {
   "cell_type": "markdown",
   "id": "388aab80",
   "metadata": {},
   "source": [
    "#### Move everything to the same CUDA device"
   ]
  },
  {
   "cell_type": "code",
   "execution_count": null,
   "id": "06920ea4",
   "metadata": {},
   "outputs": [],
   "source": [
    "device = torch.device(\"cuda\" if torch.cuda.is_available() else \"cpu\")\n",
    "X = X.to(device)\n",
    "proj_tg, proj_tf, proj_window, encoder = proj_tg.to(device), proj_tf.to(device), proj_window.to(device), encoder.to(device)\n",
    "gene_embed, cross_attn, readout = gene_embed.to(device), cross_attn.to(device), readout.to(device)\n",
    "tokens_ds = tokens_ds.to(device)"
   ]
  },
  {
   "cell_type": "markdown",
   "id": "fd28188a",
   "metadata": {},
   "source": [
    "#### Get the true TG expression values to calculate error\n",
    "\n",
    "The TG expression vector needs to be in the same order and have the same length as the TG predictions (genes dictionary)"
   ]
  },
  {
   "cell_type": "code",
   "execution_count": 138,
   "id": "74563ef7",
   "metadata": {},
   "outputs": [],
   "source": [
    "dup = pd.Index(genes).duplicated()\n",
    "assert not dup.any(), f\"Duplicate gene IDs in prediction axis at: {np.where(dup)[0][:10]}\"\n",
    "\n",
    "# Align counts to prediction order from the gene to index mapping (same length and order as genes)\n",
    "true_counts = rna_first_cell.reindex(genes)\n",
    "\n",
    "# build mask for missing genes (not present in RNA)\n",
    "mask = ~true_counts.isna().to_numpy()\n",
    "\n",
    "# Handle missing genes using a masked loss \n",
    "y_true_vec = true_counts.to_numpy(dtype=float)        # shape (n_genes,)\n",
    "\n",
    "y_true = torch.tensor(y_true_vec, dtype=torch.float32).unsqueeze(0)   # [1, n_genes]\n",
    "mask_t = torch.tensor(mask, dtype=torch.bool).unsqueeze(0)            # [1, n_genes]"
   ]
  },
  {
   "cell_type": "markdown",
   "id": "97d0daf1",
   "metadata": {},
   "source": [
    "### Loss Calculation\n",
    "\n",
    "We will calculate the MSE between the true expression values of the TGs and the predicted TG expression values."
   ]
  },
  {
   "cell_type": "code",
   "execution_count": 139,
   "id": "f8828a1f",
   "metadata": {},
   "outputs": [
    {
     "name": "stdout",
     "output_type": "stream",
     "text": [
      "tensor(21.2766, grad_fn=<MeanBackward0>)\n"
     ]
    }
   ],
   "source": [
    "def masked_mse(pred, y, m):\n",
    "    diff2 = (pred - y)**2\n",
    "    return diff2[m].mean()\n",
    "\n",
    "# pred_expr: [1, n_genes] from the model\n",
    "loss = masked_mse(pred_expr, y_true, mask_t)\n",
    "print(loss)"
   ]
  }
 ],
 "metadata": {
  "kernelspec": {
   "display_name": "my_env",
   "language": "python",
   "name": "my_env"
  },
  "language_info": {
   "codemirror_mode": {
    "name": "ipython",
    "version": 3
   },
   "file_extension": ".py",
   "mimetype": "text/x-python",
   "name": "python",
   "nbconvert_exporter": "python",
   "pygments_lexer": "ipython3",
   "version": "3.9.18"
  }
 },
 "nbformat": 4,
 "nbformat_minor": 5
}
