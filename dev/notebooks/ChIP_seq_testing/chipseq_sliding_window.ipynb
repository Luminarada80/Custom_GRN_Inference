{
 "cells": [
  {
   "cell_type": "markdown",
   "metadata": {},
   "source": [
    "Connected to my_env (Python 3.9.18)"
   ]
  },
  {
   "cell_type": "markdown",
   "metadata": {},
   "source": [
    "### Comparing ChIP-seq TF to genomic location with sliding window method predictions\n",
    "\n",
    "This notebook uses ChIP-seq peaks from ChIP-Atlas as the input for calculating sliding window TF to peak binding scores. As the sliding window score attempts to match TFs to peaks, we can check the accuracy of our methods by comparing which TFs are predicted to bind the ChIP-seq peaks against the TFs that actually bound those locations.\n",
    "\n",
    "The first thing that we need to do is to download and clean the ChIP-seq dataset to only contain the TF `gene_id`s and the formatted `peak_id`s.\n",
    "\n",
    "The ChIP-Atlas dataset we are using can be downloaded from:\n",
    "\n",
    "`wget https://chip-atlas.dbcls.jp/data/mm10/assembled/Oth.Emb.05.AllAg.AllCell.bed`\n",
    "\n",
    "This file corresponds to the following settings in the Peak Browser:\n",
    "- Species -> M. musculus (mm10)\n",
    "- Track type class -> ChIP: TFs and others\n",
    "- Cell type class -> Embryo\n",
    "- Threshold for Significance -> 50\n",
    "- Track type -> All\n",
    "- Cell type -> all"
   ]
  },
  {
   "cell_type": "code",
   "execution_count": 1,
   "metadata": {},
   "outputs": [
    {
     "name": "stdout",
     "output_type": "stream",
     "text": [
      "   Static hostname: psh01com1hcom37\n",
      "         Icon name: computer-server\n",
      "           Chassis: server\n",
      "        Machine ID: a0e3b195026b4efbba9be5cc7fb6b874\n",
      "           Boot ID: ae5b7b962cc94cd09ec7e54c81aed21f\n",
      "  Operating System: \u001b]8;;https://www.redhat.com/\u0007Red Hat Enterprise Linux 8.10 (Ootpa)\u001b]8;;\u0007\n",
      "       CPE OS Name: cpe:/o:redhat:enterprise_linux:8::baseos\n",
      "            Kernel: Linux 4.18.0-553.22.1.el8_10.x86_64\n",
      "      Architecture: x86-64\n"
     ]
    }
   ],
   "source": [
    "!hostnamectl"
   ]
  },
  {
   "cell_type": "code",
   "execution_count": 2,
   "metadata": {},
   "outputs": [],
   "source": [
    "import os\n",
    "import pandas as pd\n",
    "import pybedtools\n",
    "import seaborn as sns\n",
    "import matplotlib.pyplot as plt\n",
    "from grn_inference.utils import read_ground_truth, merge_dataset_with_ground_truth\n",
    "\n",
    "base_dir = \"/gpfs/Labs/Uzun/SCRIPTS/PROJECTS/2024.SINGLE_CELL_GRN_INFERENCE.MOELLER/\"\n",
    "ground_truth_dir = os.path.join(base_dir, \"ground_truth_files\")\n",
    "output_dir = os.path.join(base_dir, \"output/chipseq_sliding_window\")\n",
    "tmp_dir = os.path.join(output_dir, \"tmp\")\n",
    "\n",
    "os.makedirs(ground_truth_dir, exist_ok=True)\n",
    "os.makedirs(output_dir, exist_ok=True)\n",
    "os.makedirs(tmp_dir, exist_ok=True)"
   ]
  },
  {
   "cell_type": "code",
   "execution_count": 6,
   "metadata": {},
   "outputs": [],
   "source": [
    "def extract_gene_name(name):\n",
    "    return name.split(\"Name=\")[1].split(\"%\")[0]\n",
    "\n",
    "def format_peak_id(chrom, start, end):\n",
    "    start = str(int(start))\n",
    "    end = str(int(end))\n",
    "    return \"%s:%s-%s\" % (chrom, start, end)"
   ]
  },
  {
   "cell_type": "code",
   "execution_count": null,
   "metadata": {},
   "outputs": [],
   "source": [
    "chip_bed_file = os.path.join(ground_truth_dir, \"Oth.Emb.05.AllAg.AllCell.bed\")\n",
    "chip_bed = pybedtools.BedTool(chip_bed_file)\n",
    "chip_bed_df = chip_bed.to_dataframe()\n",
    "chip_bed_nohead = chip_bed_df.iloc[1:, :].dropna()\n",
    "\n",
    "chip_bed_nohead[\"gene_id\"] = chip_bed_nohead[\"name\"].apply(extract_gene_name)\n",
    "chip_bed_cleaned = chip_bed_nohead[[\"chrom\", \"start\", \"end\", \"gene_id\"]]\n",
    "\n",
    "# Set the peak_id as the formatted peak location\n",
    "chip_bed_cleaned[\"peak_id\"] = chip_bed_cleaned.apply(lambda x: format_peak_id(x.chrom, x.start, x.end), axis=1)\n",
    "\n",
    "chip_tf_to_peak = chip_bed_cleaned[[\"gene_id\", \"peak_id\"]]\n",
    "chip_tf_to_peak"
   ]
  },
  {
   "cell_type": "markdown",
   "metadata": {},
   "source": [
    "Now that we have the ChIP-Atlas peaks in the format that we want, we can save it to the ground truth directory for later"
   ]
  },
  {
   "cell_type": "code",
   "execution_count": 5,
   "metadata": {},
   "outputs": [],
   "source": [
    "chip_tf_to_peak.to_csv(os.path.join(ground_truth_dir, \"chipatlas_mESC.csv\"), header=True, index=False)"
   ]
  },
  {
   "cell_type": "markdown",
   "metadata": {},
   "source": [
    "### Creating the Homer peaks file"
   ]
  },
  {
   "cell_type": "markdown",
   "metadata": {},
   "source": [
    "Next, we need to format the peaks to follow the same requirements as the Homer peaks file. The sliding window method also uses this format for convenience.\n",
    "\n",
    "> HOMER peak files should have at minimum 5 columns (separated by TABs, additional columns will be ignored:\n",
    "> - Column1: Unique Peak ID\n",
    "> - Column2: chromosome\n",
    "> - Column3: starting position\n",
    "> - Column4: ending position\n",
    "> - Column5: Strand (+/- or 0/1, where 0=\"+\", 1=\"-\")"
   ]
  },
  {
   "cell_type": "code",
   "execution_count": 4,
   "metadata": {},
   "outputs": [
    {
     "data": {
      "application/vnd.microsoft.datawrangler.viewer.v0+json": {
       "columns": [
        {
         "name": "index",
         "rawType": "int64",
         "type": "integer"
        },
        {
         "name": "gene_id",
         "rawType": "object",
         "type": "string"
        },
        {
         "name": "peak_id",
         "rawType": "object",
         "type": "string"
        }
       ],
       "ref": "0ada8b56-091c-4ce7-b314-d2bf99dca00f",
       "rows": [
        [
         "0",
         "SMAD4",
         "chr1:3003564-3003922"
        ],
        [
         "1",
         "CTCF",
         "chr1:3012605-3012815"
        ],
        [
         "2",
         "CTCF",
         "chr1:3012635-3012824"
        ],
        [
         "3",
         "EPITOPE",
         "chr1:3031387-3031654"
        ],
        [
         "4",
         "SMAD4",
         "chr1:3031454-3031677"
        ],
        [
         "5",
         "EPITOPE",
         "chr1:3037813-3037977"
        ],
        [
         "6",
         "EPITOPE",
         "chr1:3037831-3038014"
        ],
        [
         "7",
         "CREB1",
         "chr1:3042056-3042107"
        ],
        [
         "8",
         "CHD4",
         "chr1:3042840-3042993"
        ],
        [
         "9",
         "HAND2",
         "chr1:3042840-3043210"
        ],
        [
         "10",
         "CHD4",
         "chr1:3042845-3042974"
        ],
        [
         "11",
         "KLF1",
         "chr1:3042893-3043261"
        ],
        [
         "12",
         "CHD4",
         "chr1:3043042-3043236"
        ],
        [
         "13",
         "HIRA",
         "chr1:3043048-3043364"
        ],
        [
         "14",
         "CHD4",
         "chr1:3043056-3043246"
        ],
        [
         "15",
         "CHD4",
         "chr1:3043095-3043239"
        ],
        [
         "16",
         "SMAD1",
         "chr1:3048848-3049240"
        ],
        [
         "17",
         "SMAD1",
         "chr1:3048884-3049204"
        ],
        [
         "18",
         "SMAD1",
         "chr1:3048892-3049123"
        ],
        [
         "19",
         "SMAD1",
         "chr1:3048924-3049137"
        ],
        [
         "20",
         "SMAD1",
         "chr1:3048985-3049197"
        ],
        [
         "21",
         "EPITOPE",
         "chr1:3050139-3050342"
        ],
        [
         "22",
         "EPITOPE",
         "chr1:3050160-3050251"
        ],
        [
         "23",
         "ISL1",
         "chr1:3050169-3050323"
        ],
        [
         "24",
         "SMARCA4",
         "chr1:3050170-3050252"
        ],
        [
         "25",
         "PRDM13",
         "chr1:3051439-3051494"
        ],
        [
         "26",
         "HOXA13",
         "chr1:3054989-3055130"
        ],
        [
         "27",
         "HOXA13",
         "chr1:3055034-3055478"
        ],
        [
         "28",
         "HOXA13",
         "chr1:3055062-3055329"
        ],
        [
         "29",
         "CEBPA",
         "chr1:3059708-3059807"
        ],
        [
         "30",
         "EPITOPE",
         "chr1:3062849-3063111"
        ],
        [
         "31",
         "HNF1B",
         "chr1:3063257-3063401"
        ],
        [
         "32",
         "PAX5",
         "chr1:3068096-3068380"
        ],
        [
         "33",
         "GATA6",
         "chr1:3072534-3072701"
        ],
        [
         "34",
         "GATA1",
         "chr1:3077207-3077399"
        ],
        [
         "35",
         "SMARCA4",
         "chr1:3083162-3083320"
        ],
        [
         "36",
         "EPITOPE",
         "chr1:3083182-3083313"
        ],
        [
         "37",
         "ISL1",
         "chr1:3083187-3083305"
        ],
        [
         "38",
         "EPITOPE",
         "chr1:3083189-3083280"
        ],
        [
         "39",
         "PAX5",
         "chr1:3091675-3091891"
        ],
        [
         "40",
         "NCOR2",
         "chr1:3094752-3095214"
        ],
        [
         "41",
         "CEBPA",
         "chr1:3094760-3094900"
        ],
        [
         "42",
         "NCOR2",
         "chr1:3094784-3095161"
        ],
        [
         "43",
         "NCOR2",
         "chr1:3094789-3095260"
        ],
        [
         "44",
         "NCOR2",
         "chr1:3094795-3095175"
        ],
        [
         "45",
         "NCOR2",
         "chr1:3094799-3095182"
        ],
        [
         "46",
         "NCOR2",
         "chr1:3094823-3095143"
        ],
        [
         "47",
         "NEUROG2",
         "chr1:3094824-3095063"
        ],
        [
         "48",
         "NCOR2",
         "chr1:3094827-3095149"
        ],
        [
         "49",
         "NCOR2",
         "chr1:3094854-3095103"
        ]
       ],
       "shape": {
        "columns": 2,
        "rows": 7734466
       }
      },
      "text/html": [
       "<div>\n",
       "<style scoped>\n",
       "    .dataframe tbody tr th:only-of-type {\n",
       "        vertical-align: middle;\n",
       "    }\n",
       "\n",
       "    .dataframe tbody tr th {\n",
       "        vertical-align: top;\n",
       "    }\n",
       "\n",
       "    .dataframe thead th {\n",
       "        text-align: right;\n",
       "    }\n",
       "</style>\n",
       "<table border=\"1\" class=\"dataframe\">\n",
       "  <thead>\n",
       "    <tr style=\"text-align: right;\">\n",
       "      <th></th>\n",
       "      <th>gene_id</th>\n",
       "      <th>peak_id</th>\n",
       "    </tr>\n",
       "  </thead>\n",
       "  <tbody>\n",
       "    <tr>\n",
       "      <th>0</th>\n",
       "      <td>SMAD4</td>\n",
       "      <td>chr1:3003564-3003922</td>\n",
       "    </tr>\n",
       "    <tr>\n",
       "      <th>1</th>\n",
       "      <td>CTCF</td>\n",
       "      <td>chr1:3012605-3012815</td>\n",
       "    </tr>\n",
       "    <tr>\n",
       "      <th>2</th>\n",
       "      <td>CTCF</td>\n",
       "      <td>chr1:3012635-3012824</td>\n",
       "    </tr>\n",
       "    <tr>\n",
       "      <th>3</th>\n",
       "      <td>EPITOPE</td>\n",
       "      <td>chr1:3031387-3031654</td>\n",
       "    </tr>\n",
       "    <tr>\n",
       "      <th>4</th>\n",
       "      <td>SMAD4</td>\n",
       "      <td>chr1:3031454-3031677</td>\n",
       "    </tr>\n",
       "    <tr>\n",
       "      <th>...</th>\n",
       "      <td>...</td>\n",
       "      <td>...</td>\n",
       "    </tr>\n",
       "    <tr>\n",
       "      <th>7734461</th>\n",
       "      <td>REST</td>\n",
       "      <td>chrY_JH584303_random:135985-136047</td>\n",
       "    </tr>\n",
       "    <tr>\n",
       "      <th>7734462</th>\n",
       "      <td>REST</td>\n",
       "      <td>chrY_JH584303_random:135985-136048</td>\n",
       "    </tr>\n",
       "    <tr>\n",
       "      <th>7734463</th>\n",
       "      <td>REST</td>\n",
       "      <td>chrY_JH584303_random:135986-136045</td>\n",
       "    </tr>\n",
       "    <tr>\n",
       "      <th>7734464</th>\n",
       "      <td>REST</td>\n",
       "      <td>chrY_JH584303_random:135989-136043</td>\n",
       "    </tr>\n",
       "    <tr>\n",
       "      <th>7734465</th>\n",
       "      <td>REST</td>\n",
       "      <td>chrY_JH584303_random:135989-136046</td>\n",
       "    </tr>\n",
       "  </tbody>\n",
       "</table>\n",
       "<p>7734466 rows × 2 columns</p>\n",
       "</div>"
      ],
      "text/plain": [
       "         gene_id                             peak_id\n",
       "0          SMAD4                chr1:3003564-3003922\n",
       "1           CTCF                chr1:3012605-3012815\n",
       "2           CTCF                chr1:3012635-3012824\n",
       "3        EPITOPE                chr1:3031387-3031654\n",
       "4          SMAD4                chr1:3031454-3031677\n",
       "...          ...                                 ...\n",
       "7734461     REST  chrY_JH584303_random:135985-136047\n",
       "7734462     REST  chrY_JH584303_random:135985-136048\n",
       "7734463     REST  chrY_JH584303_random:135986-136045\n",
       "7734464     REST  chrY_JH584303_random:135989-136043\n",
       "7734465     REST  chrY_JH584303_random:135989-136046\n",
       "\n",
       "[7734466 rows x 2 columns]"
      ]
     },
     "execution_count": 4,
     "metadata": {},
     "output_type": "execute_result"
    }
   ],
   "source": [
    "chip_bed_cleaned = pd.read_csv(os.path.join(ground_truth_dir, \"chip_atlas_tf_peak_tg_dist.csv\"), header=0, index_col=False)\n",
    "chip_tf_to_peak = chip_bed_cleaned[[\"source_id\", \"peak_id\"]].rename(columns={\"source_id\":\"gene_id\"})\n",
    "chip_tf_to_peak"
   ]
  },
  {
   "cell_type": "code",
   "execution_count": 31,
   "metadata": {},
   "outputs": [
    {
     "name": "stderr",
     "output_type": "stream",
     "text": [
      "/tmp/ipykernel_462216/2201842266.py:3: SettingWithCopyWarning: \n",
      "A value is trying to be set on a copy of a slice from a DataFrame.\n",
      "Try using .loc[row_indexer,col_indexer] = value instead\n",
      "\n",
      "See the caveats in the documentation: https://pandas.pydata.org/pandas-docs/stable/user_guide/indexing.html#returning-a-view-versus-a-copy\n",
      "  homer_peaks[\"start\"] = round(homer_peaks[\"start\"].astype(int),0)\n",
      "/tmp/ipykernel_462216/2201842266.py:4: SettingWithCopyWarning: \n",
      "A value is trying to be set on a copy of a slice from a DataFrame.\n",
      "Try using .loc[row_indexer,col_indexer] = value instead\n",
      "\n",
      "See the caveats in the documentation: https://pandas.pydata.org/pandas-docs/stable/user_guide/indexing.html#returning-a-view-versus-a-copy\n",
      "  homer_peaks[\"end\"] = round(homer_peaks[\"end\"].astype(int),0)\n"
     ]
    },
    {
     "data": {
      "application/vnd.microsoft.datawrangler.viewer.v0+json": {
       "columns": [
        {
         "name": "index",
         "rawType": "int64",
         "type": "integer"
        },
        {
         "name": "chrom",
         "rawType": "object",
         "type": "string"
        },
        {
         "name": "start",
         "rawType": "int64",
         "type": "integer"
        },
        {
         "name": "end",
         "rawType": "int64",
         "type": "integer"
        },
        {
         "name": "peak_id",
         "rawType": "object",
         "type": "string"
        }
       ],
       "ref": "4cabfa4c-66ab-489e-adcc-2fdceccb7fe7",
       "rows": [
        [
         "1",
         "chr1",
         "3003564",
         "3003922",
         "chr1:3003564-3003922"
        ],
        [
         "2",
         "chr1",
         "3012605",
         "3012815",
         "chr1:3012605-3012815"
        ],
        [
         "3",
         "chr1",
         "3012635",
         "3012824",
         "chr1:3012635-3012824"
        ],
        [
         "4",
         "chr1",
         "3031387",
         "3031654",
         "chr1:3031387-3031654"
        ],
        [
         "5",
         "chr1",
         "3031454",
         "3031677",
         "chr1:3031454-3031677"
        ],
        [
         "6",
         "chr1",
         "3037813",
         "3037977",
         "chr1:3037813-3037977"
        ],
        [
         "7",
         "chr1",
         "3037831",
         "3038014",
         "chr1:3037831-3038014"
        ],
        [
         "8",
         "chr1",
         "3042056",
         "3042107",
         "chr1:3042056-3042107"
        ],
        [
         "9",
         "chr1",
         "3042840",
         "3042993",
         "chr1:3042840-3042993"
        ],
        [
         "10",
         "chr1",
         "3042840",
         "3043210",
         "chr1:3042840-3043210"
        ],
        [
         "11",
         "chr1",
         "3042845",
         "3042974",
         "chr1:3042845-3042974"
        ],
        [
         "12",
         "chr1",
         "3042893",
         "3043261",
         "chr1:3042893-3043261"
        ],
        [
         "13",
         "chr1",
         "3043042",
         "3043236",
         "chr1:3043042-3043236"
        ],
        [
         "14",
         "chr1",
         "3043048",
         "3043364",
         "chr1:3043048-3043364"
        ],
        [
         "15",
         "chr1",
         "3043056",
         "3043246",
         "chr1:3043056-3043246"
        ],
        [
         "16",
         "chr1",
         "3043095",
         "3043239",
         "chr1:3043095-3043239"
        ],
        [
         "17",
         "chr1",
         "3048848",
         "3049240",
         "chr1:3048848-3049240"
        ],
        [
         "18",
         "chr1",
         "3048884",
         "3049204",
         "chr1:3048884-3049204"
        ],
        [
         "19",
         "chr1",
         "3048892",
         "3049123",
         "chr1:3048892-3049123"
        ],
        [
         "20",
         "chr1",
         "3048924",
         "3049137",
         "chr1:3048924-3049137"
        ],
        [
         "21",
         "chr1",
         "3048985",
         "3049197",
         "chr1:3048985-3049197"
        ],
        [
         "22",
         "chr1",
         "3050139",
         "3050342",
         "chr1:3050139-3050342"
        ],
        [
         "23",
         "chr1",
         "3050160",
         "3050251",
         "chr1:3050160-3050251"
        ],
        [
         "24",
         "chr1",
         "3050169",
         "3050323",
         "chr1:3050169-3050323"
        ],
        [
         "25",
         "chr1",
         "3050170",
         "3050252",
         "chr1:3050170-3050252"
        ],
        [
         "26",
         "chr1",
         "3051439",
         "3051494",
         "chr1:3051439-3051494"
        ],
        [
         "27",
         "chr1",
         "3054989",
         "3055130",
         "chr1:3054989-3055130"
        ],
        [
         "28",
         "chr1",
         "3055034",
         "3055478",
         "chr1:3055034-3055478"
        ],
        [
         "29",
         "chr1",
         "3055062",
         "3055329",
         "chr1:3055062-3055329"
        ],
        [
         "30",
         "chr1",
         "3059708",
         "3059807",
         "chr1:3059708-3059807"
        ],
        [
         "31",
         "chr1",
         "3062849",
         "3063111",
         "chr1:3062849-3063111"
        ],
        [
         "32",
         "chr1",
         "3063257",
         "3063401",
         "chr1:3063257-3063401"
        ],
        [
         "33",
         "chr1",
         "3068096",
         "3068380",
         "chr1:3068096-3068380"
        ],
        [
         "34",
         "chr1",
         "3072534",
         "3072701",
         "chr1:3072534-3072701"
        ],
        [
         "35",
         "chr1",
         "3077207",
         "3077399",
         "chr1:3077207-3077399"
        ],
        [
         "36",
         "chr1",
         "3083162",
         "3083320",
         "chr1:3083162-3083320"
        ],
        [
         "37",
         "chr1",
         "3083182",
         "3083313",
         "chr1:3083182-3083313"
        ],
        [
         "38",
         "chr1",
         "3083187",
         "3083305",
         "chr1:3083187-3083305"
        ],
        [
         "39",
         "chr1",
         "3083189",
         "3083280",
         "chr1:3083189-3083280"
        ],
        [
         "40",
         "chr1",
         "3091675",
         "3091891",
         "chr1:3091675-3091891"
        ],
        [
         "41",
         "chr1",
         "3094752",
         "3095214",
         "chr1:3094752-3095214"
        ],
        [
         "42",
         "chr1",
         "3094760",
         "3094900",
         "chr1:3094760-3094900"
        ],
        [
         "43",
         "chr1",
         "3094784",
         "3095161",
         "chr1:3094784-3095161"
        ],
        [
         "44",
         "chr1",
         "3094789",
         "3095260",
         "chr1:3094789-3095260"
        ],
        [
         "45",
         "chr1",
         "3094795",
         "3095175",
         "chr1:3094795-3095175"
        ],
        [
         "46",
         "chr1",
         "3094799",
         "3095182",
         "chr1:3094799-3095182"
        ],
        [
         "47",
         "chr1",
         "3094823",
         "3095143",
         "chr1:3094823-3095143"
        ],
        [
         "48",
         "chr1",
         "3094824",
         "3095063",
         "chr1:3094824-3095063"
        ],
        [
         "49",
         "chr1",
         "3094827",
         "3095149",
         "chr1:3094827-3095149"
        ],
        [
         "50",
         "chr1",
         "3094854",
         "3095103",
         "chr1:3094854-3095103"
        ]
       ],
       "shape": {
        "columns": 4,
        "rows": 7624391
       }
      },
      "text/html": [
       "<div>\n",
       "<style scoped>\n",
       "    .dataframe tbody tr th:only-of-type {\n",
       "        vertical-align: middle;\n",
       "    }\n",
       "\n",
       "    .dataframe tbody tr th {\n",
       "        vertical-align: top;\n",
       "    }\n",
       "\n",
       "    .dataframe thead th {\n",
       "        text-align: right;\n",
       "    }\n",
       "</style>\n",
       "<table border=\"1\" class=\"dataframe\">\n",
       "  <thead>\n",
       "    <tr style=\"text-align: right;\">\n",
       "      <th></th>\n",
       "      <th>chrom</th>\n",
       "      <th>start</th>\n",
       "      <th>end</th>\n",
       "      <th>peak_id</th>\n",
       "    </tr>\n",
       "  </thead>\n",
       "  <tbody>\n",
       "    <tr>\n",
       "      <th>1</th>\n",
       "      <td>chr1</td>\n",
       "      <td>3003564</td>\n",
       "      <td>3003922</td>\n",
       "      <td>chr1:3003564-3003922</td>\n",
       "    </tr>\n",
       "    <tr>\n",
       "      <th>2</th>\n",
       "      <td>chr1</td>\n",
       "      <td>3012605</td>\n",
       "      <td>3012815</td>\n",
       "      <td>chr1:3012605-3012815</td>\n",
       "    </tr>\n",
       "    <tr>\n",
       "      <th>3</th>\n",
       "      <td>chr1</td>\n",
       "      <td>3012635</td>\n",
       "      <td>3012824</td>\n",
       "      <td>chr1:3012635-3012824</td>\n",
       "    </tr>\n",
       "    <tr>\n",
       "      <th>4</th>\n",
       "      <td>chr1</td>\n",
       "      <td>3031387</td>\n",
       "      <td>3031654</td>\n",
       "      <td>chr1:3031387-3031654</td>\n",
       "    </tr>\n",
       "    <tr>\n",
       "      <th>5</th>\n",
       "      <td>chr1</td>\n",
       "      <td>3031454</td>\n",
       "      <td>3031677</td>\n",
       "      <td>chr1:3031454-3031677</td>\n",
       "    </tr>\n",
       "    <tr>\n",
       "      <th>...</th>\n",
       "      <td>...</td>\n",
       "      <td>...</td>\n",
       "      <td>...</td>\n",
       "      <td>...</td>\n",
       "    </tr>\n",
       "    <tr>\n",
       "      <th>7624387</th>\n",
       "      <td>chrY_JH584303_random</td>\n",
       "      <td>135985</td>\n",
       "      <td>136047</td>\n",
       "      <td>chrY_JH584303_random:135985-136047</td>\n",
       "    </tr>\n",
       "    <tr>\n",
       "      <th>7624388</th>\n",
       "      <td>chrY_JH584303_random</td>\n",
       "      <td>135985</td>\n",
       "      <td>136048</td>\n",
       "      <td>chrY_JH584303_random:135985-136048</td>\n",
       "    </tr>\n",
       "    <tr>\n",
       "      <th>7624389</th>\n",
       "      <td>chrY_JH584303_random</td>\n",
       "      <td>135986</td>\n",
       "      <td>136045</td>\n",
       "      <td>chrY_JH584303_random:135986-136045</td>\n",
       "    </tr>\n",
       "    <tr>\n",
       "      <th>7624390</th>\n",
       "      <td>chrY_JH584303_random</td>\n",
       "      <td>135989</td>\n",
       "      <td>136043</td>\n",
       "      <td>chrY_JH584303_random:135989-136043</td>\n",
       "    </tr>\n",
       "    <tr>\n",
       "      <th>7624391</th>\n",
       "      <td>chrY_JH584303_random</td>\n",
       "      <td>135989</td>\n",
       "      <td>136046</td>\n",
       "      <td>chrY_JH584303_random:135989-136046</td>\n",
       "    </tr>\n",
       "  </tbody>\n",
       "</table>\n",
       "<p>7624391 rows × 4 columns</p>\n",
       "</div>"
      ],
      "text/plain": [
       "                        chrom    start      end  \\\n",
       "1                        chr1  3003564  3003922   \n",
       "2                        chr1  3012605  3012815   \n",
       "3                        chr1  3012635  3012824   \n",
       "4                        chr1  3031387  3031654   \n",
       "5                        chr1  3031454  3031677   \n",
       "...                       ...      ...      ...   \n",
       "7624387  chrY_JH584303_random   135985   136047   \n",
       "7624388  chrY_JH584303_random   135985   136048   \n",
       "7624389  chrY_JH584303_random   135986   136045   \n",
       "7624390  chrY_JH584303_random   135989   136043   \n",
       "7624391  chrY_JH584303_random   135989   136046   \n",
       "\n",
       "                                    peak_id  \n",
       "1                      chr1:3003564-3003922  \n",
       "2                      chr1:3012605-3012815  \n",
       "3                      chr1:3012635-3012824  \n",
       "4                      chr1:3031387-3031654  \n",
       "5                      chr1:3031454-3031677  \n",
       "...                                     ...  \n",
       "7624387  chrY_JH584303_random:135985-136047  \n",
       "7624388  chrY_JH584303_random:135985-136048  \n",
       "7624389  chrY_JH584303_random:135986-136045  \n",
       "7624390  chrY_JH584303_random:135989-136043  \n",
       "7624391  chrY_JH584303_random:135989-136046  \n",
       "\n",
       "[7624391 rows x 4 columns]"
      ]
     },
     "execution_count": 31,
     "metadata": {},
     "output_type": "execute_result"
    }
   ],
   "source": [
    "# Format the DataFrame to follow the requirements for the Homer peaks file (used for both Homer and sliding window)\n",
    "homer_peaks = chip_bed_cleaned[[\"peak_id\", \"chrom\", \"start\", \"end\"]]\n",
    "homer_peaks[\"start\"] = round(homer_peaks[\"start\"].astype(int),0)\n",
    "homer_peaks[\"end\"] = round(homer_peaks[\"end\"].astype(int),0)\n",
    "homer_peaks = homer_peaks[[\"chrom\", \"start\", \"end\", \"peak_id\"]]\n",
    "homer_peaks"
   ]
  },
  {
   "cell_type": "markdown",
   "metadata": {},
   "source": [
    "This is a huge file - we dont need to test the method using all of them. We will take a sample to run the scoring on."
   ]
  },
  {
   "cell_type": "code",
   "execution_count": 24,
   "metadata": {},
   "outputs": [],
   "source": [
    "homer_peaks_sample = homer_peaks.sample(frac=0.05)"
   ]
  },
  {
   "cell_type": "markdown",
   "metadata": {},
   "source": [
    "If we save the ChIP-seq peaks as `homer_peaks.txt` to the `tmp` directory of the output folder, then they will be used to calculate the sliding window and Homer scores"
   ]
  },
  {
   "cell_type": "code",
   "execution_count": 4,
   "metadata": {},
   "outputs": [],
   "source": [
    "homer_peak_path = os.path.join(tmp_dir, \"homer_peaks.txt\")"
   ]
  },
  {
   "cell_type": "code",
   "execution_count": 16,
   "metadata": {},
   "outputs": [],
   "source": [
    "homer_peaks.to_csv(homer_peak_path, sep=\"\\t\", header=True, index=False)"
   ]
  },
  {
   "cell_type": "markdown",
   "metadata": {},
   "source": [
    "Reload `homer_peaks` if needed"
   ]
  },
  {
   "cell_type": "code",
   "execution_count": 13,
   "metadata": {},
   "outputs": [],
   "source": [
    "homer_peaks = pd.read_csv(homer_peak_path, sep=\"\\t\", header=0, index_col=None)"
   ]
  },
  {
   "cell_type": "code",
   "execution_count": 32,
   "metadata": {},
   "outputs": [
    {
     "data": {
      "application/vnd.microsoft.datawrangler.viewer.v0+json": {
       "columns": [
        {
         "name": "index",
         "rawType": "int64",
         "type": "integer"
        },
        {
         "name": "chrom",
         "rawType": "object",
         "type": "string"
        },
        {
         "name": "start",
         "rawType": "int64",
         "type": "integer"
        },
        {
         "name": "end",
         "rawType": "int64",
         "type": "integer"
        },
        {
         "name": "peak_id",
         "rawType": "object",
         "type": "string"
        }
       ],
       "ref": "6c7c639a-d007-4352-9ec7-438b28ea77c2",
       "rows": [
        [
         "1",
         "chr1",
         "3003564",
         "3003922",
         "chr1:3003564-3003922"
        ],
        [
         "2",
         "chr1",
         "3012605",
         "3012815",
         "chr1:3012605-3012815"
        ],
        [
         "3",
         "chr1",
         "3012635",
         "3012824",
         "chr1:3012635-3012824"
        ],
        [
         "4",
         "chr1",
         "3031387",
         "3031654",
         "chr1:3031387-3031654"
        ],
        [
         "5",
         "chr1",
         "3031454",
         "3031677",
         "chr1:3031454-3031677"
        ],
        [
         "6",
         "chr1",
         "3037813",
         "3037977",
         "chr1:3037813-3037977"
        ],
        [
         "7",
         "chr1",
         "3037831",
         "3038014",
         "chr1:3037831-3038014"
        ],
        [
         "8",
         "chr1",
         "3042056",
         "3042107",
         "chr1:3042056-3042107"
        ],
        [
         "9",
         "chr1",
         "3042840",
         "3042993",
         "chr1:3042840-3042993"
        ],
        [
         "10",
         "chr1",
         "3042840",
         "3043210",
         "chr1:3042840-3043210"
        ],
        [
         "11",
         "chr1",
         "3042845",
         "3042974",
         "chr1:3042845-3042974"
        ],
        [
         "12",
         "chr1",
         "3042893",
         "3043261",
         "chr1:3042893-3043261"
        ],
        [
         "13",
         "chr1",
         "3043042",
         "3043236",
         "chr1:3043042-3043236"
        ],
        [
         "14",
         "chr1",
         "3043048",
         "3043364",
         "chr1:3043048-3043364"
        ],
        [
         "15",
         "chr1",
         "3043056",
         "3043246",
         "chr1:3043056-3043246"
        ],
        [
         "16",
         "chr1",
         "3043095",
         "3043239",
         "chr1:3043095-3043239"
        ],
        [
         "17",
         "chr1",
         "3048848",
         "3049240",
         "chr1:3048848-3049240"
        ],
        [
         "18",
         "chr1",
         "3048884",
         "3049204",
         "chr1:3048884-3049204"
        ],
        [
         "19",
         "chr1",
         "3048892",
         "3049123",
         "chr1:3048892-3049123"
        ],
        [
         "20",
         "chr1",
         "3048924",
         "3049137",
         "chr1:3048924-3049137"
        ],
        [
         "21",
         "chr1",
         "3048985",
         "3049197",
         "chr1:3048985-3049197"
        ],
        [
         "22",
         "chr1",
         "3050139",
         "3050342",
         "chr1:3050139-3050342"
        ],
        [
         "23",
         "chr1",
         "3050160",
         "3050251",
         "chr1:3050160-3050251"
        ],
        [
         "24",
         "chr1",
         "3050169",
         "3050323",
         "chr1:3050169-3050323"
        ],
        [
         "25",
         "chr1",
         "3050170",
         "3050252",
         "chr1:3050170-3050252"
        ],
        [
         "26",
         "chr1",
         "3051439",
         "3051494",
         "chr1:3051439-3051494"
        ],
        [
         "27",
         "chr1",
         "3054989",
         "3055130",
         "chr1:3054989-3055130"
        ],
        [
         "28",
         "chr1",
         "3055034",
         "3055478",
         "chr1:3055034-3055478"
        ],
        [
         "29",
         "chr1",
         "3055062",
         "3055329",
         "chr1:3055062-3055329"
        ],
        [
         "30",
         "chr1",
         "3059708",
         "3059807",
         "chr1:3059708-3059807"
        ],
        [
         "31",
         "chr1",
         "3062849",
         "3063111",
         "chr1:3062849-3063111"
        ],
        [
         "32",
         "chr1",
         "3063257",
         "3063401",
         "chr1:3063257-3063401"
        ],
        [
         "33",
         "chr1",
         "3068096",
         "3068380",
         "chr1:3068096-3068380"
        ],
        [
         "34",
         "chr1",
         "3072534",
         "3072701",
         "chr1:3072534-3072701"
        ],
        [
         "35",
         "chr1",
         "3077207",
         "3077399",
         "chr1:3077207-3077399"
        ],
        [
         "36",
         "chr1",
         "3083162",
         "3083320",
         "chr1:3083162-3083320"
        ],
        [
         "37",
         "chr1",
         "3083182",
         "3083313",
         "chr1:3083182-3083313"
        ],
        [
         "38",
         "chr1",
         "3083187",
         "3083305",
         "chr1:3083187-3083305"
        ],
        [
         "39",
         "chr1",
         "3083189",
         "3083280",
         "chr1:3083189-3083280"
        ],
        [
         "40",
         "chr1",
         "3091675",
         "3091891",
         "chr1:3091675-3091891"
        ],
        [
         "41",
         "chr1",
         "3094752",
         "3095214",
         "chr1:3094752-3095214"
        ],
        [
         "42",
         "chr1",
         "3094760",
         "3094900",
         "chr1:3094760-3094900"
        ],
        [
         "43",
         "chr1",
         "3094784",
         "3095161",
         "chr1:3094784-3095161"
        ],
        [
         "44",
         "chr1",
         "3094789",
         "3095260",
         "chr1:3094789-3095260"
        ],
        [
         "45",
         "chr1",
         "3094795",
         "3095175",
         "chr1:3094795-3095175"
        ],
        [
         "46",
         "chr1",
         "3094799",
         "3095182",
         "chr1:3094799-3095182"
        ],
        [
         "47",
         "chr1",
         "3094823",
         "3095143",
         "chr1:3094823-3095143"
        ],
        [
         "48",
         "chr1",
         "3094824",
         "3095063",
         "chr1:3094824-3095063"
        ],
        [
         "49",
         "chr1",
         "3094827",
         "3095149",
         "chr1:3094827-3095149"
        ],
        [
         "50",
         "chr1",
         "3094854",
         "3095103",
         "chr1:3094854-3095103"
        ]
       ],
       "shape": {
        "columns": 4,
        "rows": 7624391
       }
      },
      "text/html": [
       "<div>\n",
       "<style scoped>\n",
       "    .dataframe tbody tr th:only-of-type {\n",
       "        vertical-align: middle;\n",
       "    }\n",
       "\n",
       "    .dataframe tbody tr th {\n",
       "        vertical-align: top;\n",
       "    }\n",
       "\n",
       "    .dataframe thead th {\n",
       "        text-align: right;\n",
       "    }\n",
       "</style>\n",
       "<table border=\"1\" class=\"dataframe\">\n",
       "  <thead>\n",
       "    <tr style=\"text-align: right;\">\n",
       "      <th></th>\n",
       "      <th>chrom</th>\n",
       "      <th>start</th>\n",
       "      <th>end</th>\n",
       "      <th>peak_id</th>\n",
       "    </tr>\n",
       "  </thead>\n",
       "  <tbody>\n",
       "    <tr>\n",
       "      <th>1</th>\n",
       "      <td>chr1</td>\n",
       "      <td>3003564</td>\n",
       "      <td>3003922</td>\n",
       "      <td>chr1:3003564-3003922</td>\n",
       "    </tr>\n",
       "    <tr>\n",
       "      <th>2</th>\n",
       "      <td>chr1</td>\n",
       "      <td>3012605</td>\n",
       "      <td>3012815</td>\n",
       "      <td>chr1:3012605-3012815</td>\n",
       "    </tr>\n",
       "    <tr>\n",
       "      <th>3</th>\n",
       "      <td>chr1</td>\n",
       "      <td>3012635</td>\n",
       "      <td>3012824</td>\n",
       "      <td>chr1:3012635-3012824</td>\n",
       "    </tr>\n",
       "    <tr>\n",
       "      <th>4</th>\n",
       "      <td>chr1</td>\n",
       "      <td>3031387</td>\n",
       "      <td>3031654</td>\n",
       "      <td>chr1:3031387-3031654</td>\n",
       "    </tr>\n",
       "    <tr>\n",
       "      <th>5</th>\n",
       "      <td>chr1</td>\n",
       "      <td>3031454</td>\n",
       "      <td>3031677</td>\n",
       "      <td>chr1:3031454-3031677</td>\n",
       "    </tr>\n",
       "    <tr>\n",
       "      <th>...</th>\n",
       "      <td>...</td>\n",
       "      <td>...</td>\n",
       "      <td>...</td>\n",
       "      <td>...</td>\n",
       "    </tr>\n",
       "    <tr>\n",
       "      <th>7624387</th>\n",
       "      <td>chrY_JH584303_random</td>\n",
       "      <td>135985</td>\n",
       "      <td>136047</td>\n",
       "      <td>chrY_JH584303_random:135985-136047</td>\n",
       "    </tr>\n",
       "    <tr>\n",
       "      <th>7624388</th>\n",
       "      <td>chrY_JH584303_random</td>\n",
       "      <td>135985</td>\n",
       "      <td>136048</td>\n",
       "      <td>chrY_JH584303_random:135985-136048</td>\n",
       "    </tr>\n",
       "    <tr>\n",
       "      <th>7624389</th>\n",
       "      <td>chrY_JH584303_random</td>\n",
       "      <td>135986</td>\n",
       "      <td>136045</td>\n",
       "      <td>chrY_JH584303_random:135986-136045</td>\n",
       "    </tr>\n",
       "    <tr>\n",
       "      <th>7624390</th>\n",
       "      <td>chrY_JH584303_random</td>\n",
       "      <td>135989</td>\n",
       "      <td>136043</td>\n",
       "      <td>chrY_JH584303_random:135989-136043</td>\n",
       "    </tr>\n",
       "    <tr>\n",
       "      <th>7624391</th>\n",
       "      <td>chrY_JH584303_random</td>\n",
       "      <td>135989</td>\n",
       "      <td>136046</td>\n",
       "      <td>chrY_JH584303_random:135989-136046</td>\n",
       "    </tr>\n",
       "  </tbody>\n",
       "</table>\n",
       "<p>7624391 rows × 4 columns</p>\n",
       "</div>"
      ],
      "text/plain": [
       "                        chrom    start      end  \\\n",
       "1                        chr1  3003564  3003922   \n",
       "2                        chr1  3012605  3012815   \n",
       "3                        chr1  3012635  3012824   \n",
       "4                        chr1  3031387  3031654   \n",
       "5                        chr1  3031454  3031677   \n",
       "...                       ...      ...      ...   \n",
       "7624387  chrY_JH584303_random   135985   136047   \n",
       "7624388  chrY_JH584303_random   135985   136048   \n",
       "7624389  chrY_JH584303_random   135986   136045   \n",
       "7624390  chrY_JH584303_random   135989   136043   \n",
       "7624391  chrY_JH584303_random   135989   136046   \n",
       "\n",
       "                                    peak_id  \n",
       "1                      chr1:3003564-3003922  \n",
       "2                      chr1:3012605-3012815  \n",
       "3                      chr1:3012635-3012824  \n",
       "4                      chr1:3031387-3031654  \n",
       "5                      chr1:3031454-3031677  \n",
       "...                                     ...  \n",
       "7624387  chrY_JH584303_random:135985-136047  \n",
       "7624388  chrY_JH584303_random:135985-136048  \n",
       "7624389  chrY_JH584303_random:135986-136045  \n",
       "7624390  chrY_JH584303_random:135989-136043  \n",
       "7624391  chrY_JH584303_random:135989-136046  \n",
       "\n",
       "[7624391 rows x 4 columns]"
      ]
     },
     "execution_count": 32,
     "metadata": {},
     "output_type": "execute_result"
    }
   ],
   "source": [
    "homer_peaks"
   ]
  },
  {
   "cell_type": "markdown",
   "metadata": {},
   "source": [
    "Next, we run `run_sliding_window_on_chipseq_peaks.sh` in the `dev/testing_scripts` directory"
   ]
  },
  {
   "cell_type": "code",
   "execution_count": 38,
   "metadata": {
    "vscode": {
     "languageId": "shellscript"
    }
   },
   "outputs": [
    {
     "name": "stdout",
     "output_type": "stream",
     "text": [
      "Submitted batch job 3384960\n"
     ]
    }
   ],
   "source": [
    "!sbatch /gpfs/Labs/Uzun/SCRIPTS/PROJECTS/2024.SINGLE_CELL_GRN_INFERENCE.MOELLER/dev/testing_scripts/run_sliding_window_on_chipseq_peaks.sh"
   ]
  },
  {
   "cell_type": "markdown",
   "metadata": {},
   "source": [
    "Once the sliding window calculation is done, we can read in the output."
   ]
  },
  {
   "cell_type": "code",
   "execution_count": 3,
   "metadata": {},
   "outputs": [
    {
     "data": {
      "application/vnd.microsoft.datawrangler.viewer.v0+json": {
       "columns": [
        {
         "name": "index",
         "rawType": "int64",
         "type": "integer"
        },
        {
         "name": "peak_id",
         "rawType": "string",
         "type": "string"
        },
        {
         "name": "source_id",
         "rawType": "string",
         "type": "string"
        },
        {
         "name": "sliding_window_score",
         "rawType": "float64",
         "type": "float"
        }
       ],
       "ref": "a248214e-331e-4171-befc-6d2fbedcb689",
       "rows": [
        [
         "0",
         "chr17:46704666-46705502",
         "Ascl1",
         "18836.15778403197"
        ],
        [
         "1",
         "chr17:3456010-3456318",
         "Ascl1",
         "6543.452178075161"
        ],
        [
         "2",
         "chr17:56255512-56256229",
         "Ascl1",
         "15508.13375354141"
        ],
        [
         "3",
         "chr17:69382560-69382744",
         "Ascl1",
         "4256.191542079553"
        ],
        [
         "4",
         "chr17:86555341-86555555",
         "Ascl1",
         "4312.891573704562"
        ],
        [
         "5",
         "chr17:44261838-44262175",
         "Ascl1",
         "7177.730538504027"
        ],
        [
         "6",
         "chr17:56700233-56700292",
         "Ascl1",
         "1178.673701268108"
        ],
        [
         "7",
         "chr17:27908721-27909052",
         "Ascl1",
         "7008.981092690075"
        ],
        [
         "8",
         "chr17:94553443-94553848",
         "Ascl1",
         "8126.636266935853"
        ],
        [
         "9",
         "chr17:28232449-28232704",
         "Ascl1",
         "5679.633775138152"
        ],
        [
         "10",
         "chr17:36231269-36231810",
         "Ascl1",
         "12186.63725487651"
        ],
        [
         "11",
         "chr17:56010696-56011050",
         "Ascl1",
         "7778.109033523234"
        ],
        [
         "12",
         "chr17:58701475-58701587",
         "Ascl1",
         "2294.297042890067"
        ],
        [
         "13",
         "chr17:70527243-70527495",
         "Ascl1",
         "5191.873754412414"
        ],
        [
         "14",
         "chr17:81655915-81655965",
         "Ascl1",
         "953.0206402336735"
        ],
        [
         "15",
         "chr17:56036563-56037048",
         "Ascl1",
         "10666.161770478739"
        ],
        [
         "16",
         "chr17:33843026-33843460",
         "Ascl1",
         "9845.041518371303"
        ],
        [
         "17",
         "chr17:46576167-46576363",
         "Ascl1",
         "4224.8454094243"
        ],
        [
         "18",
         "chr17:35235591-35236537",
         "Ascl1",
         "20731.738714858526"
        ],
        [
         "19",
         "chr17:56201642-56201928",
         "Ascl1",
         "6126.845030028055"
        ],
        [
         "20",
         "chr17:84790139-84791058",
         "Ascl1",
         "20957.26122352681"
        ],
        [
         "21",
         "chr17:12036136-12036687",
         "Ascl1",
         "11464.519932838055"
        ],
        [
         "22",
         "chr17:67779922-67780038",
         "Ascl1",
         "2407.015609548793"
        ],
        [
         "23",
         "chr17:47033712-47033983",
         "Ascl1",
         "5600.06801314008"
        ],
        [
         "24",
         "chr17:35232099-35232325",
         "Ascl1",
         "4771.974379401634"
        ],
        [
         "25",
         "chr17:28079729-28079889",
         "Ascl1",
         "3461.9077015287526"
        ],
        [
         "26",
         "chr17:26120099-26120485",
         "Ascl1",
         "8458.400093217657"
        ],
        [
         "27",
         "chr17:45548531-45548950",
         "Ascl1",
         "9031.588282607257"
        ],
        [
         "28",
         "chr17:44261838-44262147",
         "Ascl1",
         "6526.872303017126"
        ],
        [
         "29",
         "chr17:56950907-56951321",
         "Ascl1",
         "8630.272564235098"
        ],
        [
         "30",
         "chr17:8147517-8147918",
         "Ascl1",
         "9313.982503682722"
        ],
        [
         "31",
         "chr17:33033172-33033348",
         "Ascl1",
         "3675.962873050475"
        ],
        [
         "32",
         "chr17:31018289-31018662",
         "Ascl1",
         "7922.1968986316515"
        ],
        [
         "33",
         "chr17:84874601-84874984",
         "Ascl1",
         "8156.938307387184"
        ],
        [
         "34",
         "chr17:27702555-27703014",
         "Ascl1",
         "10313.540362634682"
        ],
        [
         "35",
         "chr17:24039984-24040305",
         "Ascl1",
         "6671.690644058816"
        ],
        [
         "36",
         "chr17:26276773-26277029",
         "Ascl1",
         "5220.843663598118"
        ],
        [
         "37",
         "chr17:28084960-28085304",
         "Ascl1",
         "7470.8044350650225"
        ],
        [
         "38",
         "chr17:21534595-21534734",
         "Ascl1",
         "2782.0027961010433"
        ],
        [
         "39",
         "chr17:56036581-56036972",
         "Ascl1",
         "8594.745290084733"
        ],
        [
         "40",
         "chr17:30590828-30591216",
         "Ascl1",
         "8290.63268079807"
        ],
        [
         "41",
         "chr17:71671893-71672226",
         "Ascl1",
         "7258.035804302437"
        ],
        [
         "42",
         "chr17:43016243-43016628",
         "Ascl1",
         "8258.903602343895"
        ],
        [
         "43",
         "chr17:31492577-31492864",
         "Ascl1",
         "6165.043332871626"
        ],
        [
         "44",
         "chr17:86906061-86906517",
         "Ascl1",
         "9582.259837254882"
        ],
        [
         "45",
         "chr17:8988120-8988382",
         "Ascl1",
         "5633.902360290947"
        ],
        [
         "46",
         "chr17:29032393-29032615",
         "Ascl1",
         "5114.325867761621"
        ],
        [
         "47",
         "chr17:86535840-86536141",
         "Ascl1",
         "6145.217875682351"
        ],
        [
         "48",
         "chr17:79354761-79355048",
         "Ascl1",
         "6562.654028055989"
        ],
        [
         "49",
         "chr17:24676212-24676526",
         "Ascl1",
         "6724.402009240674"
        ]
       ],
       "shape": {
        "columns": 3,
        "rows": 7488351
       }
      },
      "text/html": [
       "<div>\n",
       "<style scoped>\n",
       "    .dataframe tbody tr th:only-of-type {\n",
       "        vertical-align: middle;\n",
       "    }\n",
       "\n",
       "    .dataframe tbody tr th {\n",
       "        vertical-align: top;\n",
       "    }\n",
       "\n",
       "    .dataframe thead th {\n",
       "        text-align: right;\n",
       "    }\n",
       "</style>\n",
       "<table border=\"1\" class=\"dataframe\">\n",
       "  <thead>\n",
       "    <tr style=\"text-align: right;\">\n",
       "      <th></th>\n",
       "      <th>peak_id</th>\n",
       "      <th>source_id</th>\n",
       "      <th>sliding_window_score</th>\n",
       "    </tr>\n",
       "  </thead>\n",
       "  <tbody>\n",
       "    <tr>\n",
       "      <th>0</th>\n",
       "      <td>chr17:46704666-46705502</td>\n",
       "      <td>Ascl1</td>\n",
       "      <td>18836.157784</td>\n",
       "    </tr>\n",
       "    <tr>\n",
       "      <th>1</th>\n",
       "      <td>chr17:3456010-3456318</td>\n",
       "      <td>Ascl1</td>\n",
       "      <td>6543.452178</td>\n",
       "    </tr>\n",
       "    <tr>\n",
       "      <th>2</th>\n",
       "      <td>chr17:56255512-56256229</td>\n",
       "      <td>Ascl1</td>\n",
       "      <td>15508.133754</td>\n",
       "    </tr>\n",
       "    <tr>\n",
       "      <th>3</th>\n",
       "      <td>chr17:69382560-69382744</td>\n",
       "      <td>Ascl1</td>\n",
       "      <td>4256.191542</td>\n",
       "    </tr>\n",
       "    <tr>\n",
       "      <th>4</th>\n",
       "      <td>chr17:86555341-86555555</td>\n",
       "      <td>Ascl1</td>\n",
       "      <td>4312.891574</td>\n",
       "    </tr>\n",
       "    <tr>\n",
       "      <th>...</th>\n",
       "      <td>...</td>\n",
       "      <td>...</td>\n",
       "      <td>...</td>\n",
       "    </tr>\n",
       "    <tr>\n",
       "      <th>7488346</th>\n",
       "      <td>chr11:51936197-51936397</td>\n",
       "      <td>Zfp335</td>\n",
       "      <td>7371.634079</td>\n",
       "    </tr>\n",
       "    <tr>\n",
       "      <th>7488347</th>\n",
       "      <td>chr11:100846598-100846664</td>\n",
       "      <td>Zfp335</td>\n",
       "      <td>2121.398070</td>\n",
       "    </tr>\n",
       "    <tr>\n",
       "      <th>7488348</th>\n",
       "      <td>chr11:108891288-108891643</td>\n",
       "      <td>Zfp335</td>\n",
       "      <td>13014.262983</td>\n",
       "    </tr>\n",
       "    <tr>\n",
       "      <th>7488349</th>\n",
       "      <td>chr11:87771063-87771282</td>\n",
       "      <td>Zfp335</td>\n",
       "      <td>8039.550073</td>\n",
       "    </tr>\n",
       "    <tr>\n",
       "      <th>7488350</th>\n",
       "      <td>chr11:81983172-81983477</td>\n",
       "      <td>Zfp335</td>\n",
       "      <td>10882.620457</td>\n",
       "    </tr>\n",
       "  </tbody>\n",
       "</table>\n",
       "<p>7488351 rows × 3 columns</p>\n",
       "</div>"
      ],
      "text/plain": [
       "                           peak_id source_id  sliding_window_score\n",
       "0          chr17:46704666-46705502     Ascl1          18836.157784\n",
       "1            chr17:3456010-3456318     Ascl1           6543.452178\n",
       "2          chr17:56255512-56256229     Ascl1          15508.133754\n",
       "3          chr17:69382560-69382744     Ascl1           4256.191542\n",
       "4          chr17:86555341-86555555     Ascl1           4312.891574\n",
       "...                            ...       ...                   ...\n",
       "7488346    chr11:51936197-51936397    Zfp335           7371.634079\n",
       "7488347  chr11:100846598-100846664    Zfp335           2121.398070\n",
       "7488348  chr11:108891288-108891643    Zfp335          13014.262983\n",
       "7488349    chr11:87771063-87771282    Zfp335           8039.550073\n",
       "7488350    chr11:81983172-81983477    Zfp335          10882.620457\n",
       "\n",
       "[7488351 rows x 3 columns]"
      ]
     },
     "execution_count": 3,
     "metadata": {},
     "output_type": "execute_result"
    }
   ],
   "source": [
    "\n",
    "sliding_window_df = pd.read_parquet(os.path.join(output_dir, \"no_norm_sliding_window_tf_to_peak_score.parquet\"), engine=\"pyarrow\")\n",
    "sliding_window_df = sliding_window_df.reset_index(drop=True)\n",
    "sliding_window_df"
   ]
  },
  {
   "cell_type": "markdown",
   "metadata": {},
   "source": [
    "We can use the `chip_tf_to_peak` object that we created from the ChIP-Atlas file to check our work. Since we sampled the ChIP-Atlas peaks before running the sliding window calculations, we need to subset `chip_tf_to_peak` to only contain those peaks."
   ]
  },
  {
   "cell_type": "code",
   "execution_count": 5,
   "metadata": {},
   "outputs": [],
   "source": [
    "sliding_window_df[\"source_id\"] = sliding_window_df[\"source_id\"].str.upper()\n",
    "chip_tf_to_peak[\"gene_id\"] = chip_tf_to_peak[\"gene_id\"].str.upper()"
   ]
  },
  {
   "cell_type": "code",
   "execution_count": 6,
   "metadata": {},
   "outputs": [
    {
     "data": {
      "application/vnd.microsoft.datawrangler.viewer.v0+json": {
       "columns": [
        {
         "name": "index",
         "rawType": "int64",
         "type": "integer"
        },
        {
         "name": "gene_id",
         "rawType": "object",
         "type": "string"
        },
        {
         "name": "peak_id",
         "rawType": "object",
         "type": "string"
        }
       ],
       "ref": "2ebfc411-798b-4e66-85ed-f43053b64c8b",
       "rows": [
        [
         "400",
         "REST",
         "chr1:3670770-3670855"
        ],
        [
         "483",
         "CTCF",
         "chr1:3672215-3672538"
        ],
        [
         "1830",
         "TCF3",
         "chr1:4779120-4779177"
        ],
        [
         "2514",
         "CTCF",
         "chr1:5017906-5018204"
        ],
        [
         "2654",
         "CTCF",
         "chr1:5070240-5070596"
        ],
        [
         "2655",
         "CTCF",
         "chr1:5070240-5070596"
        ],
        [
         "2802",
         "CTCF",
         "chr1:5083145-5083527"
        ],
        [
         "2837",
         "CTCF",
         "chr1:5103213-5103544"
        ],
        [
         "2847",
         "CTCF",
         "chr1:5103223-5103491"
        ],
        [
         "2947",
         "CTCF",
         "chr1:5183555-5183796"
        ],
        [
         "2951",
         "CTCF",
         "chr1:5183572-5183766"
        ],
        [
         "2959",
         "CTCF",
         "chr1:5183603-5183771"
        ],
        [
         "2996",
         "CTCF",
         "chr1:5238563-5238711"
        ],
        [
         "3319",
         "CTCF",
         "chr1:5915388-5915645"
        ],
        [
         "3481",
         "CTCF",
         "chr1:6135095-6135443"
        ],
        [
         "3513",
         "CTCF",
         "chr1:6135154-6135533"
        ],
        [
         "3583",
         "CTCF",
         "chr1:6143944-6144224"
        ],
        [
         "3609",
         "CTCF",
         "chr1:6143992-6144234"
        ],
        [
         "3613",
         "CTCF",
         "chr1:6143998-6144198"
        ],
        [
         "3646",
         "CTCF",
         "chr1:6152441-6152823"
        ],
        [
         "3653",
         "CTCF",
         "chr1:6152468-6152905"
        ],
        [
         "3667",
         "CTCF",
         "chr1:6152500-6152797"
        ],
        [
         "3839",
         "CTCF",
         "chr1:6214740-6215104"
        ],
        [
         "3944",
         "CTCF",
         "chr1:6272246-6272570"
        ],
        [
         "3949",
         "CTCF",
         "chr1:6272258-6272723"
        ],
        [
         "3954",
         "CTCF",
         "chr1:6272263-6272613"
        ],
        [
         "3966",
         "CTCF",
         "chr1:6272295-6272592"
        ],
        [
         "3969",
         "CTCF",
         "chr1:6272300-6272583"
        ],
        [
         "3978",
         "CTCF",
         "chr1:6272315-6272520"
        ],
        [
         "4016",
         "CTCF",
         "chr1:6272378-6272590"
        ],
        [
         "5015",
         "CTCF",
         "chr1:6979676-6979893"
        ],
        [
         "5052",
         "CTCF",
         "chr1:6997729-6997916"
        ],
        [
         "5069",
         "CTCF",
         "chr1:7010215-7010463"
        ],
        [
         "5090",
         "CTCF",
         "chr1:7010253-7010427"
        ],
        [
         "5104",
         "CTCF",
         "chr1:7010315-7010430"
        ],
        [
         "5214",
         "CTCF",
         "chr1:7088549-7089027"
        ],
        [
         "5426",
         "CTCF",
         "chr1:7141578-7141743"
        ],
        [
         "5438",
         "CTCF",
         "chr1:7141631-7141762"
        ],
        [
         "5509",
         "CTCF",
         "chr1:7204681-7205172"
        ],
        [
         "5528",
         "CTCF",
         "chr1:7204778-7205117"
        ],
        [
         "5555",
         "CTCF",
         "chr1:7204828-7205105"
        ],
        [
         "5592",
         "CTCF",
         "chr1:7204884-7205061"
        ],
        [
         "5651",
         "CTCF",
         "chr1:7218988-7219246"
        ],
        [
         "5765",
         "CTCF",
         "chr1:7360573-7360887"
        ],
        [
         "5869",
         "CTCF",
         "chr1:7396961-7397177"
        ],
        [
         "5874",
         "CTCF",
         "chr1:7396962-7397591"
        ],
        [
         "5884",
         "CTCF",
         "chr1:7396975-7397623"
        ],
        [
         "5887",
         "CTCF",
         "chr1:7396982-7397555"
        ],
        [
         "5903",
         "CTCF",
         "chr1:7397081-7397556"
        ],
        [
         "5918",
         "CTCF",
         "chr1:7397300-7397606"
        ]
       ],
       "shape": {
        "columns": 2,
        "rows": 71603
       }
      },
      "text/html": [
       "<div>\n",
       "<style scoped>\n",
       "    .dataframe tbody tr th:only-of-type {\n",
       "        vertical-align: middle;\n",
       "    }\n",
       "\n",
       "    .dataframe tbody tr th {\n",
       "        vertical-align: top;\n",
       "    }\n",
       "\n",
       "    .dataframe thead th {\n",
       "        text-align: right;\n",
       "    }\n",
       "</style>\n",
       "<table border=\"1\" class=\"dataframe\">\n",
       "  <thead>\n",
       "    <tr style=\"text-align: right;\">\n",
       "      <th></th>\n",
       "      <th>gene_id</th>\n",
       "      <th>peak_id</th>\n",
       "    </tr>\n",
       "  </thead>\n",
       "  <tbody>\n",
       "    <tr>\n",
       "      <th>400</th>\n",
       "      <td>REST</td>\n",
       "      <td>chr1:3670770-3670855</td>\n",
       "    </tr>\n",
       "    <tr>\n",
       "      <th>483</th>\n",
       "      <td>CTCF</td>\n",
       "      <td>chr1:3672215-3672538</td>\n",
       "    </tr>\n",
       "    <tr>\n",
       "      <th>1830</th>\n",
       "      <td>TCF3</td>\n",
       "      <td>chr1:4779120-4779177</td>\n",
       "    </tr>\n",
       "    <tr>\n",
       "      <th>2514</th>\n",
       "      <td>CTCF</td>\n",
       "      <td>chr1:5017906-5018204</td>\n",
       "    </tr>\n",
       "    <tr>\n",
       "      <th>2654</th>\n",
       "      <td>CTCF</td>\n",
       "      <td>chr1:5070240-5070596</td>\n",
       "    </tr>\n",
       "    <tr>\n",
       "      <th>...</th>\n",
       "      <td>...</td>\n",
       "      <td>...</td>\n",
       "    </tr>\n",
       "    <tr>\n",
       "      <th>7717530</th>\n",
       "      <td>CTCF</td>\n",
       "      <td>chrY:11857983-11858300</td>\n",
       "    </tr>\n",
       "    <tr>\n",
       "      <th>7721383</th>\n",
       "      <td>CTCF</td>\n",
       "      <td>chrY:35978139-35978355</td>\n",
       "    </tr>\n",
       "    <tr>\n",
       "      <th>7721390</th>\n",
       "      <td>CTCF</td>\n",
       "      <td>chrY:35978154-35978351</td>\n",
       "    </tr>\n",
       "    <tr>\n",
       "      <th>7721566</th>\n",
       "      <td>CTCF</td>\n",
       "      <td>chrY:37551909-37552175</td>\n",
       "    </tr>\n",
       "    <tr>\n",
       "      <th>7725235</th>\n",
       "      <td>CTCF</td>\n",
       "      <td>chrY:63471202-63471366</td>\n",
       "    </tr>\n",
       "  </tbody>\n",
       "</table>\n",
       "<p>71603 rows × 2 columns</p>\n",
       "</div>"
      ],
      "text/plain": [
       "        gene_id                 peak_id\n",
       "400        REST    chr1:3670770-3670855\n",
       "483        CTCF    chr1:3672215-3672538\n",
       "1830       TCF3    chr1:4779120-4779177\n",
       "2514       CTCF    chr1:5017906-5018204\n",
       "2654       CTCF    chr1:5070240-5070596\n",
       "...         ...                     ...\n",
       "7717530    CTCF  chrY:11857983-11858300\n",
       "7721383    CTCF  chrY:35978139-35978355\n",
       "7721390    CTCF  chrY:35978154-35978351\n",
       "7721566    CTCF  chrY:37551909-37552175\n",
       "7725235    CTCF  chrY:63471202-63471366\n",
       "\n",
       "[71603 rows x 2 columns]"
      ]
     },
     "execution_count": 6,
     "metadata": {},
     "output_type": "execute_result"
    }
   ],
   "source": [
    "chip_tf_to_peak_sub = chip_tf_to_peak[\n",
    "    (chip_tf_to_peak[\"peak_id\"].isin(sliding_window_df[\"peak_id\"])) &\n",
    "    (chip_tf_to_peak[\"gene_id\"].isin(sliding_window_df[\"source_id\"]))\n",
    "    ]\n",
    "chip_tf_to_peak_sub"
   ]
  },
  {
   "cell_type": "markdown",
   "metadata": {},
   "source": [
    "We then combine the TF-peak mapping from ChIP-Atlas with the TF-peak mapping from the sliding window score by merging the two DataFrames on `peak_id`."
   ]
  },
  {
   "cell_type": "code",
   "execution_count": 7,
   "metadata": {},
   "outputs": [
    {
     "data": {
      "application/vnd.microsoft.datawrangler.viewer.v0+json": {
       "columns": [
        {
         "name": "index",
         "rawType": "int64",
         "type": "integer"
        },
        {
         "name": "chip_gene",
         "rawType": "object",
         "type": "string"
        },
        {
         "name": "sliding_window_gene",
         "rawType": "string",
         "type": "string"
        },
        {
         "name": "peak_id",
         "rawType": "object",
         "type": "string"
        },
        {
         "name": "sliding_window_score",
         "rawType": "float64",
         "type": "float"
        }
       ],
       "ref": "c581a3de-fdfe-46da-aa09-5a3709a39e36",
       "rows": [
        [
         "0",
         "REST",
         "ASCL1",
         "chr1:3670770-3670855",
         "1776.7502197686406"
        ],
        [
         "1",
         "REST",
         "CDX2",
         "chr1:3670770-3670855",
         "1051.8049071369612"
        ],
        [
         "2",
         "REST",
         "CEBPA",
         "chr1:3670770-3670855",
         "1003.0057892131122"
        ],
        [
         "3",
         "REST",
         "CREB1",
         "chr1:3670770-3670855",
         "1227.6336366909588"
        ],
        [
         "4",
         "REST",
         "CTCF",
         "chr1:3670770-3670855",
         "1944.0252674316573"
        ],
        [
         "5",
         "REST",
         "DLX1",
         "chr1:3670770-3670855",
         "1245.4966389368135"
        ],
        [
         "6",
         "REST",
         "EBF1",
         "chr1:3670770-3670855",
         "1555.8628717897986"
        ],
        [
         "7",
         "REST",
         "EOMES",
         "chr1:3670770-3670855",
         "1385.3405804560682"
        ],
        [
         "8",
         "REST",
         "FLI1",
         "chr1:3670770-3670855",
         "1955.4799363857037"
        ],
        [
         "9",
         "REST",
         "FOSL2",
         "chr1:3670770-3670855",
         "1686.9200162832487"
        ],
        [
         "10",
         "REST",
         "FOXA2",
         "chr1:3670770-3670855",
         "807.6448129583895"
        ],
        [
         "11",
         "REST",
         "GATA1",
         "chr1:3670770-3670855",
         "2637.8058337081447"
        ],
        [
         "12",
         "REST",
         "GATA4",
         "chr1:3670770-3670855",
         "1300.594629934066"
        ],
        [
         "13",
         "REST",
         "GATA6",
         "chr1:3670770-3670855",
         "988.4193710909386"
        ],
        [
         "14",
         "REST",
         "GLI2",
         "chr1:3670770-3670855",
         "1318.0456614867196"
        ],
        [
         "15",
         "REST",
         "GLI3",
         "chr1:3670770-3670855",
         "1498.0758968648543"
        ],
        [
         "16",
         "REST",
         "HIF1A",
         "chr1:3670770-3670855",
         "1051.3110846851662"
        ],
        [
         "17",
         "REST",
         "HMGA2",
         "chr1:3670770-3670855",
         "1500.7742277732473"
        ],
        [
         "18",
         "REST",
         "HNF1B",
         "chr1:3670770-3670855",
         "1689.2532590713104"
        ],
        [
         "19",
         "REST",
         "HNF4A",
         "chr1:3670770-3670855",
         "1515.8034926620915"
        ],
        [
         "20",
         "REST",
         "HOXC10",
         "chr1:3670770-3670855",
         "866.7343041374753"
        ],
        [
         "21",
         "REST",
         "HOXD13",
         "chr1:3670770-3670855",
         "1097.8274142772689"
        ],
        [
         "22",
         "REST",
         "ISL1",
         "chr1:3670770-3670855",
         "936.9251552350722"
        ],
        [
         "23",
         "REST",
         "JUND",
         "chr1:3670770-3670855",
         "1066.2567224116451"
        ],
        [
         "24",
         "REST",
         "KLF1",
         "chr1:3670770-3670855",
         "1406.9416161832753"
        ],
        [
         "25",
         "REST",
         "KLF5",
         "chr1:3670770-3670855",
         "2080.583580092707"
        ],
        [
         "26",
         "REST",
         "LEF1",
         "chr1:3670770-3670855",
         "1332.3325299956603"
        ],
        [
         "27",
         "REST",
         "LHX6",
         "chr1:3670770-3670855",
         "993.2627745598026"
        ],
        [
         "28",
         "REST",
         "LMX1B",
         "chr1:3670770-3670855",
         "1002.6741297118475"
        ],
        [
         "29",
         "REST",
         "MECP2",
         "chr1:3670770-3670855",
         "1556.7504558290534"
        ],
        [
         "30",
         "REST",
         "MEIS1",
         "chr1:3670770-3670855",
         "1317.4680311639981"
        ],
        [
         "31",
         "REST",
         "MYB",
         "chr1:3670770-3670855",
         "962.3449037265103"
        ],
        [
         "32",
         "REST",
         "MYC",
         "chr1:3670770-3670855",
         "1313.3273150584505"
        ],
        [
         "33",
         "REST",
         "NEUROD1",
         "chr1:3670770-3670855",
         "1236.4352279979946"
        ],
        [
         "34",
         "REST",
         "NEUROD2",
         "chr1:3670770-3670855",
         "1270.1145031257715"
        ],
        [
         "35",
         "REST",
         "NEUROG2",
         "chr1:3670770-3670855",
         "1570.1228349751132"
        ],
        [
         "36",
         "REST",
         "NFIA",
         "chr1:3670770-3670855",
         "2075.8850921801536"
        ],
        [
         "37",
         "REST",
         "NFYC",
         "chr1:3670770-3670855",
         "1778.1673802293662"
        ],
        [
         "38",
         "REST",
         "NKX2-5",
         "chr1:3670770-3670855",
         "1390.2754977430145"
        ],
        [
         "39",
         "REST",
         "NKX3-2",
         "chr1:3670770-3670855",
         "1128.6888450067404"
        ],
        [
         "40",
         "REST",
         "NR2F2",
         "chr1:3670770-3670855",
         "1037.4801007250403"
        ],
        [
         "41",
         "REST",
         "NRF1",
         "chr1:3670770-3670855",
         "2274.6696230912435"
        ],
        [
         "42",
         "REST",
         "OLIG2",
         "chr1:3670770-3670855",
         "1335.2774583560122"
        ],
        [
         "43",
         "REST",
         "OTX2",
         "chr1:3670770-3670855",
         "1108.4430209571856"
        ],
        [
         "44",
         "REST",
         "PAX5",
         "chr1:3670770-3670855",
         "2697.062726117457"
        ],
        [
         "45",
         "REST",
         "PAX6",
         "chr1:3670770-3670855",
         "811.2395966512668"
        ],
        [
         "46",
         "REST",
         "PBX1",
         "chr1:3670770-3670855",
         "1414.7413784714902"
        ],
        [
         "47",
         "REST",
         "PITX1",
         "chr1:3670770-3670855",
         "1197.0639790086461"
        ],
        [
         "48",
         "REST",
         "PKNOX1",
         "chr1:3670770-3670855",
         "1147.9583234622755"
        ],
        [
         "49",
         "REST",
         "PRDM15",
         "chr1:3670770-3670855",
         "0.0"
        ]
       ],
       "shape": {
        "columns": 4,
        "rows": 6252255
       }
      },
      "text/html": [
       "<div>\n",
       "<style scoped>\n",
       "    .dataframe tbody tr th:only-of-type {\n",
       "        vertical-align: middle;\n",
       "    }\n",
       "\n",
       "    .dataframe tbody tr th {\n",
       "        vertical-align: top;\n",
       "    }\n",
       "\n",
       "    .dataframe thead th {\n",
       "        text-align: right;\n",
       "    }\n",
       "</style>\n",
       "<table border=\"1\" class=\"dataframe\">\n",
       "  <thead>\n",
       "    <tr style=\"text-align: right;\">\n",
       "      <th></th>\n",
       "      <th>chip_gene</th>\n",
       "      <th>sliding_window_gene</th>\n",
       "      <th>peak_id</th>\n",
       "      <th>sliding_window_score</th>\n",
       "    </tr>\n",
       "  </thead>\n",
       "  <tbody>\n",
       "    <tr>\n",
       "      <th>0</th>\n",
       "      <td>REST</td>\n",
       "      <td>ASCL1</td>\n",
       "      <td>chr1:3670770-3670855</td>\n",
       "      <td>1776.750220</td>\n",
       "    </tr>\n",
       "    <tr>\n",
       "      <th>1</th>\n",
       "      <td>REST</td>\n",
       "      <td>CDX2</td>\n",
       "      <td>chr1:3670770-3670855</td>\n",
       "      <td>1051.804907</td>\n",
       "    </tr>\n",
       "    <tr>\n",
       "      <th>2</th>\n",
       "      <td>REST</td>\n",
       "      <td>CEBPA</td>\n",
       "      <td>chr1:3670770-3670855</td>\n",
       "      <td>1003.005789</td>\n",
       "    </tr>\n",
       "    <tr>\n",
       "      <th>3</th>\n",
       "      <td>REST</td>\n",
       "      <td>CREB1</td>\n",
       "      <td>chr1:3670770-3670855</td>\n",
       "      <td>1227.633637</td>\n",
       "    </tr>\n",
       "    <tr>\n",
       "      <th>4</th>\n",
       "      <td>REST</td>\n",
       "      <td>CTCF</td>\n",
       "      <td>chr1:3670770-3670855</td>\n",
       "      <td>1944.025267</td>\n",
       "    </tr>\n",
       "    <tr>\n",
       "      <th>...</th>\n",
       "      <td>...</td>\n",
       "      <td>...</td>\n",
       "      <td>...</td>\n",
       "      <td>...</td>\n",
       "    </tr>\n",
       "    <tr>\n",
       "      <th>6252250</th>\n",
       "      <td>CTCF</td>\n",
       "      <td>TWIST1</td>\n",
       "      <td>chrY:63471202-63471366</td>\n",
       "      <td>4365.138945</td>\n",
       "    </tr>\n",
       "    <tr>\n",
       "      <th>6252251</th>\n",
       "      <td>CTCF</td>\n",
       "      <td>WT1</td>\n",
       "      <td>chrY:63471202-63471366</td>\n",
       "      <td>4966.008166</td>\n",
       "    </tr>\n",
       "    <tr>\n",
       "      <th>6252252</th>\n",
       "      <td>CTCF</td>\n",
       "      <td>ZEB1</td>\n",
       "      <td>chrY:63471202-63471366</td>\n",
       "      <td>2478.835532</td>\n",
       "    </tr>\n",
       "    <tr>\n",
       "      <th>6252253</th>\n",
       "      <td>CTCF</td>\n",
       "      <td>ZFP281</td>\n",
       "      <td>chrY:63471202-63471366</td>\n",
       "      <td>2482.208951</td>\n",
       "    </tr>\n",
       "    <tr>\n",
       "      <th>6252254</th>\n",
       "      <td>CTCF</td>\n",
       "      <td>ZFP335</td>\n",
       "      <td>chrY:63471202-63471366</td>\n",
       "      <td>5638.483755</td>\n",
       "    </tr>\n",
       "  </tbody>\n",
       "</table>\n",
       "<p>6252255 rows × 4 columns</p>\n",
       "</div>"
      ],
      "text/plain": [
       "        chip_gene sliding_window_gene                 peak_id  \\\n",
       "0            REST               ASCL1    chr1:3670770-3670855   \n",
       "1            REST                CDX2    chr1:3670770-3670855   \n",
       "2            REST               CEBPA    chr1:3670770-3670855   \n",
       "3            REST               CREB1    chr1:3670770-3670855   \n",
       "4            REST                CTCF    chr1:3670770-3670855   \n",
       "...           ...                 ...                     ...   \n",
       "6252250      CTCF              TWIST1  chrY:63471202-63471366   \n",
       "6252251      CTCF                 WT1  chrY:63471202-63471366   \n",
       "6252252      CTCF                ZEB1  chrY:63471202-63471366   \n",
       "6252253      CTCF              ZFP281  chrY:63471202-63471366   \n",
       "6252254      CTCF              ZFP335  chrY:63471202-63471366   \n",
       "\n",
       "         sliding_window_score  \n",
       "0                 1776.750220  \n",
       "1                 1051.804907  \n",
       "2                 1003.005789  \n",
       "3                 1227.633637  \n",
       "4                 1944.025267  \n",
       "...                       ...  \n",
       "6252250           4365.138945  \n",
       "6252251           4966.008166  \n",
       "6252252           2478.835532  \n",
       "6252253           2482.208951  \n",
       "6252254           5638.483755  \n",
       "\n",
       "[6252255 rows x 4 columns]"
      ]
     },
     "execution_count": 7,
     "metadata": {},
     "output_type": "execute_result"
    }
   ],
   "source": [
    "\n",
    "merged_df = pd.merge(chip_tf_to_peak_sub, sliding_window_df, on=\"peak_id\", how=\"inner\")\n",
    "merged_df = merged_df.rename(columns={\"gene_id\": \"chip_gene\", \"source_id\": \"sliding_window_gene\"})\n",
    "merged_df = merged_df[[\"chip_gene\", \"sliding_window_gene\", \"peak_id\", \"sliding_window_score\"]]\n",
    "merged_df"
   ]
  },
  {
   "cell_type": "code",
   "execution_count": 8,
   "metadata": {},
   "outputs": [],
   "source": [
    "merged_df.to_csv(os.path.join(output_dir, \"chipseq_sliding_window_merged.csv\"), header=True, index=False)"
   ]
  },
  {
   "cell_type": "markdown",
   "metadata": {},
   "source": [
    "We can extract the correct predictions and the incorrect predictions, and see how the sliding window scores vary between them."
   ]
  },
  {
   "cell_type": "code",
   "execution_count": null,
   "metadata": {},
   "outputs": [],
   "source": [
    "merged_df = pd.read_csv(os.path.join(output_dir, \"chipseq_sliding_window_merged.csv\"), header=0, index_col=None)"
   ]
  },
  {
   "cell_type": "code",
   "execution_count": 9,
   "metadata": {},
   "outputs": [
    {
     "name": "stdout",
     "output_type": "stream",
     "text": [
      "Num correct predictions: 3554\n",
      "Num incorrect predictions: 309046\n",
      "Num unique correct TFs: 15\n",
      "Num unique incorrect TFs: 1227\n"
     ]
    }
   ],
   "source": [
    "import dask.dataframe as dd\n",
    "\n",
    "\n",
    "merged_ddf = dd.from_pandas(merged_df, npartitions=100)\n",
    "merged_df_sample = merged_ddf.sample(frac=0.05, random_state=42).compute()\n",
    "\n",
    "\n",
    "correct_predictions = merged_df_sample[merged_df_sample[\"chip_gene\"].str.upper() == merged_df_sample[\"sliding_window_gene\"].str.upper()]\n",
    "incorrect_predictions = merged_df_sample[merged_df_sample[\"chip_gene\"].str.upper() != merged_df_sample[\"sliding_window_gene\"].str.upper()]\n",
    "\n",
    "print(f\"Num correct predictions: {len(correct_predictions)}\")\n",
    "print(f\"Num incorrect predictions: {len(incorrect_predictions)}\")\n",
    "\n",
    "print(f\"Num unique correct TFs: {len(correct_predictions.drop_duplicates(subset=['chip_gene', 'sliding_window_gene']))}\")\n",
    "print(f\"Num unique incorrect TFs: {len(incorrect_predictions.drop_duplicates(subset=['chip_gene', 'sliding_window_gene']))}\")"
   ]
  },
  {
   "cell_type": "markdown",
   "metadata": {},
   "source": [
    "Since each TF and peak has a potential binding score, there will be a lot more incorrect predictions than correct predictions. We will sample each DataFrame by the one with the minimum number of rows so they are equal in length."
   ]
  },
  {
   "cell_type": "code",
   "execution_count": 10,
   "metadata": {},
   "outputs": [
    {
     "name": "stdout",
     "output_type": "stream",
     "text": [
      "Num correct predictions: 3554\n",
      "Num incorrect predictions: 3554\n"
     ]
    }
   ],
   "source": [
    "correct_prediction_scores = correct_predictions[\"sliding_window_score\"].sample(\n",
    "    min(len(correct_predictions), len(incorrect_predictions))\n",
    "    ).rename(\"Correct TF Binding Predictions\").reset_index(drop=True)\n",
    "\n",
    "incorrect_prediction_scores = incorrect_predictions[\"sliding_window_score\"].sample(\n",
    "    min(len(correct_predictions), len(incorrect_predictions))\n",
    "    ).rename(\"Incorrect TF Binding Predictions\").reset_index(drop=True)\n",
    "\n",
    "print(f\"Num correct predictions: {len(correct_prediction_scores)}\")\n",
    "print(f\"Num incorrect predictions: {len(incorrect_prediction_scores)}\")"
   ]
  },
  {
   "cell_type": "markdown",
   "metadata": {},
   "source": [
    "Now that we have extracted the correct and incorrect scores, we will merge them to create a new dataframe containing just the correct and incorrect scores."
   ]
  },
  {
   "cell_type": "code",
   "execution_count": 11,
   "metadata": {},
   "outputs": [],
   "source": [
    "pred_df = pd.merge(correct_prediction_scores, incorrect_prediction_scores, left_index=True, right_index=True)"
   ]
  },
  {
   "cell_type": "code",
   "execution_count": 26,
   "metadata": {},
   "outputs": [
    {
     "data": {
      "image/png": "[encoded data removed]",
      "text/plain": [
       "<Figure size 800x600 with 1 Axes>"
      ]
     },
     "metadata": {},
     "output_type": "display_data"
    }
   ],
   "source": [
    "order = [\"Correct TF Binding Predictions\", \"Incorrect TF Binding Predictions\"]\n",
    "plt.figure(figsize=(8, 6))\n",
    "ax = sns.boxplot(\n",
    "    data=pred_df[order],\n",
    "    showfliers=False,\n",
    "    palette=[\"#4195df\", \"#747474\"],  # same colors as the hist\n",
    ")\n",
    "ax.set_ylabel(\"Sliding Window Score\", fontsize=14)\n",
    "ax.set_title(\"Sliding Window Scores for ChIP-seq TF Binding Predictions\", fontsize=14)\n",
    "ax.tick_params(axis=\"both\", labelsize=14)\n",
    "\n",
    "plt.tight_layout()\n",
    "plt.show()"
   ]
  },
  {
   "cell_type": "code",
   "execution_count": 27,
   "metadata": {},
   "outputs": [
    {
     "data": {
      "image/png": "[encoded data removed]",
      "text/plain": [
       "<Figure size 1000x800 with 1 Axes>"
      ]
     },
     "metadata": {},
     "output_type": "display_data"
    }
   ],
   "source": [
    "plt.figure(figsize=(10,8))\n",
    "plt.hist(\n",
    "    pred_df[\"Correct TF Binding Predictions\"],\n",
    "    bins=150,\n",
    "    alpha=0.7,\n",
    "    color='#4195df',\n",
    "    label=\"Correct TF Binding Predictions\"\n",
    ")\n",
    "plt.hist(\n",
    "    pred_df[\"Incorrect TF Binding Predictions\"],\n",
    "    bins=150,\n",
    "    alpha=0.7,\n",
    "    color='#747474',\n",
    "    label=\"Incorrect TF Binding Predictions\"\n",
    ")\n",
    "plt.title(\"Sliding Window Scores for ChIP-seq TF Binding Predictions\", fontsize=18)\n",
    "plt.xlabel(\"Sliding Window Score\", fontsize=16)\n",
    "plt.ylabel(\"Frequency\", fontsize=16)\n",
    "plt.xticks(fontsize=14)\n",
    "plt.yticks(fontsize=14)\n",
    "plt.legend(bbox_to_anchor=(1.05, 1), loc='upper left', borderaxespad=0., fontsize=14)\n",
    "plt.savefig(\"/gpfs/Labs/Uzun/SCRIPTS/PROJECTS/2024.SINGLE_CELL_GRN_INFERENCE.MOELLER/output/chipseq_sliding_window/chipseq_sliding_window_histogram.png\", dpi=200)"
   ]
  }
 ],
 "metadata": {
  "kernelspec": {
   "display_name": "my_env",
   "language": "python",
   "name": "my_env"
  },
  "language_info": {
   "codemirror_mode": {
    "name": "ipython",
    "version": 3
   },
   "file_extension": ".py",
   "mimetype": "text/x-python",
   "name": "python",
   "nbconvert_exporter": "python",
   "pygments_lexer": "ipython3",
   "version": "3.9.18"
  }
 },
 "nbformat": 4,
 "nbformat_minor": 2
}
