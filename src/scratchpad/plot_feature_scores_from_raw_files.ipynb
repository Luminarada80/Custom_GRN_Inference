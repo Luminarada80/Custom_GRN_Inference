{
 "cells": [
  {
   "cell_type": "code",
   "execution_count": null,
   "id": "c46ee069",
   "metadata": {},
   "outputs": [],
   "source": [
    "import pandas as pd\n",
    "import numpy as np\n",
    "import dask.dataframe as dd\n",
    "import matplotlib.pyplot as plt\n",
    "import os\n",
    "\n",
    "COMBINED_SCORE_DF_FEATURES = [\n",
    "    \"mean_TF_expression\", \n",
    "    \"mean_peak_accessibility\", \n",
    "    \"mean_TG_expression\",\n",
    "    \"string_combined_score\",\n",
    "    \"string_experimental_score\",\n",
    "    \"string_textmining_score\"\n",
    "    ]\n",
    "\n",
    "main_input_dir = \"/gpfs/Labs/Uzun/SCRIPTS/PROJECTS/2024.SINGLE_CELL_GRN_INFERENCE.MOELLER/input\"\n",
    "main_output_dir = \"/gpfs/Labs/Uzun/SCRIPTS/PROJECTS/2024.SINGLE_CELL_GRN_INFERENCE.MOELLER/output\"\n",
    "\n",
    "ds011_input_dir = os.path.join(main_input_dir, \"DS011_mESC/DS011_mESC_sample1\")\n",
    "ds011_output_dir = os.path.join(main_output_dir, \"DS011_mESC/DS011_mESC_sample1\")\n",
    "\n",
    "mesc_input_dir = os.path.join(main_input_dir, \"mESC/filtered_L2_E7.5_rep2\")\n",
    "mesc_output_dir = os.path.join(main_output_dir, \"mESC/filtered_L2_E7.5_rep2\")\n",
    "\n",
    "def create_score_path_dict(\n",
    "    selected_features: list[str], \n",
    "    output_dir: str\n",
    "    ) -> dict[str, str]:\n",
    "    \"\"\"\n",
    "    Creates a dictionary of file paths to each score file for a given set of selected features.\n",
    "\n",
    "    Arguments:\n",
    "        selected_features (list[str]): List of selected feature score names\n",
    "        output_dir (str): Output directory for the sample\n",
    "\n",
    "    Returns:\n",
    "        selected_feature_path_dict (dict[str:str]): A dictionary containing the selected feature names\n",
    "        along with the path to the data file for that feature\n",
    "    \"\"\"\n",
    "    \n",
    "    feature_score_file_path_dict = {\n",
    "        'mean_TF_expression' : os.path.join(output_dir, \"inferred_grns/inferred_score_df.parquet\"),\n",
    "        'mean_peak_accessibility' : os.path.join(output_dir, \"inferred_grns/inferred_score_df.parquet\"),\n",
    "        'mean_TG_expression' : os.path.join(output_dir, \"inferred_grns/inferred_score_df.parquet\"),\n",
    "        'cicero_score' : os.path.join(output_dir, \"cicero_peak_to_tg_scores.parquet\"),\n",
    "        'TSS_dist_score' : os.path.join(output_dir, \"peak_to_gene_correlation.parquet\"), \n",
    "        'correlation' : os.path.join(output_dir, \"peak_to_gene_correlation.parquet\"),\n",
    "        'homer_binding_score' : os.path.join(output_dir, \"homer_tf_to_peak.parquet\"), \n",
    "        'sliding_window_score' : os.path.join(output_dir, \"sliding_window_tf_to_peak_score.parquet\"), \n",
    "        'string_combined_score' : os.path.join(output_dir, \"inferred_grns/inferred_score_df.parquet\"), \n",
    "        'string_experimental_score' : os.path.join(output_dir, \"inferred_grns/inferred_score_df.parquet\"), \n",
    "        'string_textmining_score' : os.path.join(output_dir, \"inferred_grns/inferred_score_df.parquet\")\n",
    "    }\n",
    "\n",
    "    selected_feature_path_dict = {}\n",
    "    for feature_name in selected_features:\n",
    "        if feature_name in feature_score_file_path_dict.keys():\n",
    "            selected_feature_path_dict[feature_name] = feature_score_file_path_dict[feature_name]\n",
    "            \n",
    "    for feature_name, path in selected_feature_path_dict.items():\n",
    "        assert os.path.isfile(path) | os.path.isdir(path), f'Error: {path} is not a file or directory'\n",
    "        \n",
    "    return selected_feature_path_dict\n",
    "\n",
    "def check_for_features_in_combined_score_df(feature_score_dict: dict[str,str]):\n",
    "    features = []\n",
    "    for score_name in feature_score_dict.keys():\n",
    "        if score_name in COMBINED_SCORE_DF_FEATURES:\n",
    "            print(f'  - {score_name} in feature score path')\n",
    "            features.append(score_name)\n",
    "            \n",
    "    return features\n",
    "\n",
    "def load_melted_inferred_grn_ddf(inferred_net_path: str, feature_scores: list[str]):\n",
    "\n",
    "    melted_tf_score_ddf = dd.read_parquet(inferred_net_path, engine=\"pyarrow\")\n",
    "    \n",
    "    melted_tf_score_ddf = melted_tf_score_ddf[melted_tf_score_ddf[\"score_type\"].isin(feature_scores)]\n",
    "    \n",
    "    grouped = (\n",
    "        melted_tf_score_ddf\n",
    "        .groupby([\"source_id\", \"peak_id\", \"target_id\", \"score_type\"])\n",
    "        [\"score_value\"]\n",
    "        .mean()\n",
    "        .reset_index()\n",
    "    )\n",
    "    \n",
    "    pdf = grouped.compute()\n",
    "    \n",
    "    wide_df = pdf.pivot_table(\n",
    "        index=[\"source_id\", \"peak_id\", \"target_id\"],\n",
    "        columns=\"score_type\",\n",
    "        values=\"score_value\",\n",
    "        aggfunc=\"first\"\n",
    "    ).reset_index()\n",
    "    \n",
    "    \n",
    "    return wide_df\n",
    "\n",
    "def load_individual_score_dataframes(score_path_dict):\n",
    "    individual_feature_score_dataframes = {}\n",
    "    for feature_name, path in score_path_dict.items():\n",
    "        if feature_name not in COMBINED_SCORE_DF_FEATURES:\n",
    "            print(f'  - Loading {feature_name} DataFrame')\n",
    "            df = pd.read_parquet(path, engine=\"pyarrow\")\n",
    "            df = df.reset_index(drop=True)\n",
    "            individual_feature_score_dataframes[feature_name] = df\n",
    "\n",
    "    return individual_feature_score_dataframes"
   ]
  },
  {
   "cell_type": "code",
   "execution_count": 45,
   "id": "69d268a5",
   "metadata": {},
   "outputs": [
    {
     "name": "stdout",
     "output_type": "stream",
     "text": [
      "\n",
      "Loading and combining individual feature scores\n",
      "  - Loading cicero_score DataFrame\n",
      "  - Loading TSS_dist_score DataFrame\n",
      "  - Loading correlation DataFrame\n",
      "  - Loading homer_binding_score DataFrame\n",
      "  - Loading sliding_window_score DataFrame\n",
      "Checking for scores originating from the combined feature score DataFrame\n",
      "  - mean_TF_expression in feature score path\n",
      "  - mean_peak_accessibility in feature score path\n",
      "  - mean_TG_expression in feature score path\n",
      "  - string_combined_score in feature score path\n",
      "  - string_experimental_score in feature score path\n",
      "  - string_textmining_score in feature score path\n",
      "\n",
      "Loading combined feature score dataframe\n",
      "\tDone!\n",
      "\n",
      "Splitting off combined scores into individual dataframes\n",
      "cicero_score\n",
      "                peak_id target_id  cicero_score\n",
      "0  chr1:9747331-9756094     Tcf24      0.774205\n",
      "1  chr1:9767609-9800330     Tcf24      0.795169\n",
      "2  chr1:9816059-9816659     Tcf24      0.563231\n",
      "3  chr1:9830375-9830975     Tcf24      0.481638\n",
      "4  chr1:9847961-9859633     Tcf24      0.587297\n",
      "TSS_dist_score\n",
      "                     peak_id target_id  correlation  TSS_dist_score\n",
      "0  chr10:100042137-100042737     Abcc2     0.000000             NaN\n",
      "1  chr10:105500351-105500951      Fli1     0.448403             NaN\n",
      "2  chr10:108067535-108068135     Abcc2     1.000000             NaN\n",
      "3  chr10:108067535-108068135  Arhgap18     0.068769             NaN\n",
      "4  chr10:108067535-108068135     Atp7b     0.057510             NaN\n",
      "correlation\n",
      "                     peak_id target_id  correlation  TSS_dist_score\n",
      "0  chr10:100042137-100042737     Abcc2     0.000000             NaN\n",
      "1  chr10:105500351-105500951      Fli1     0.448403             NaN\n",
      "2  chr10:108067535-108068135     Abcc2     1.000000             NaN\n",
      "3  chr10:108067535-108068135  Arhgap18     0.068769             NaN\n",
      "4  chr10:108067535-108068135     Atp7b     0.057510             NaN\n",
      "homer_binding_score\n",
      "                    peak_id source_id  homer_binding_score\n",
      "0   chr13:43719228-43719828      AMYB             0.100277\n",
      "1   chr19:59988977-59989577      AMYB             0.288676\n",
      "2   chr11:31634178-31634778      AMYB             0.100277\n",
      "3  chr4:140218333-140218933      AMYB             0.100277\n",
      "4     chr11:6000192-6000792      AMYB             0.100277\n",
      "sliding_window_score\n",
      "                 peak_id source_id  sliding_window_score\n",
      "0  chr17:3054703-3055303    Ahctf1              0.504474\n",
      "1  chr17:3102194-3102794    Ahctf1              0.461231\n",
      "2  chr17:3162106-3162706    Ahctf1              0.514663\n",
      "3  chr17:3375042-3375642    Ahctf1              0.486698\n",
      "4  chr17:3616249-3616849    Ahctf1              0.511283\n",
      "mean_TF_expression\n",
      "score_type source_id                    peak_id target_id  mean_TF_expression\n",
      "0             Ahctf1  chr10:110317230-110317830    Nap1l1            0.362082\n",
      "1             Ahctf1  chr10:110534362-110534962    Nap1l1            0.362082\n",
      "2             Ahctf1  chr10:110600132-110600732    Nap1l1            0.362082\n",
      "3             Ahctf1  chr10:110782584-110783184    Nap1l1            0.362082\n",
      "4             Ahctf1  chr10:110794392-110794992    Nap1l1            0.362082\n",
      "mean_peak_accessibility\n",
      "score_type source_id                    peak_id target_id  \\\n",
      "0             Ahctf1  chr10:110317230-110317830    Nap1l1   \n",
      "1             Ahctf1  chr10:110534362-110534962    Nap1l1   \n",
      "2             Ahctf1  chr10:110600132-110600732    Nap1l1   \n",
      "3             Ahctf1  chr10:110782584-110783184    Nap1l1   \n",
      "4             Ahctf1  chr10:110794392-110794992    Nap1l1   \n",
      "\n",
      "score_type  mean_peak_accessibility  \n",
      "0                          0.031983  \n",
      "1                          0.015584  \n",
      "2                          0.090564  \n",
      "3                          0.040185  \n",
      "4                          0.090688  \n",
      "mean_TG_expression\n",
      "score_type source_id                    peak_id target_id  mean_TG_expression\n",
      "0             Ahctf1  chr10:110317230-110317830    Nap1l1            0.627839\n",
      "1             Ahctf1  chr10:110534362-110534962    Nap1l1            0.627839\n",
      "2             Ahctf1  chr10:110600132-110600732    Nap1l1            0.627839\n",
      "3             Ahctf1  chr10:110782584-110783184    Nap1l1            0.627839\n",
      "4             Ahctf1  chr10:110794392-110794992    Nap1l1            0.627839\n",
      "string_combined_score\n",
      "score_type source_id                    peak_id target_id  \\\n",
      "0             Ahctf1  chr10:110317230-110317830    Nap1l1   \n",
      "1             Ahctf1  chr10:110534362-110534962    Nap1l1   \n",
      "2             Ahctf1  chr10:110600132-110600732    Nap1l1   \n",
      "3             Ahctf1  chr10:110782584-110783184    Nap1l1   \n",
      "4             Ahctf1  chr10:110794392-110794992    Nap1l1   \n",
      "\n",
      "score_type  string_combined_score  \n",
      "0                        0.160465  \n",
      "1                        0.160465  \n",
      "2                        0.160465  \n",
      "3                        0.160465  \n",
      "4                        0.160465  \n",
      "string_experimental_score\n",
      "score_type source_id                    peak_id target_id  \\\n",
      "0             Ahctf1  chr10:110317230-110317830    Nap1l1   \n",
      "1             Ahctf1  chr10:110534362-110534962    Nap1l1   \n",
      "2             Ahctf1  chr10:110600132-110600732    Nap1l1   \n",
      "3             Ahctf1  chr10:110782584-110783184    Nap1l1   \n",
      "4             Ahctf1  chr10:110794392-110794992    Nap1l1   \n",
      "\n",
      "score_type  string_experimental_score  \n",
      "0                                 0.0  \n",
      "1                                 0.0  \n",
      "2                                 0.0  \n",
      "3                                 0.0  \n",
      "4                                 0.0  \n",
      "string_textmining_score\n",
      "score_type source_id                    peak_id target_id  \\\n",
      "0             Ahctf1  chr10:110317230-110317830    Nap1l1   \n",
      "1             Ahctf1  chr10:110534362-110534962    Nap1l1   \n",
      "2             Ahctf1  chr10:110600132-110600732    Nap1l1   \n",
      "3             Ahctf1  chr10:110782584-110783184    Nap1l1   \n",
      "4             Ahctf1  chr10:110794392-110794992    Nap1l1   \n",
      "\n",
      "score_type  string_textmining_score  \n",
      "0                          0.415038  \n",
      "1                          0.415038  \n",
      "2                          0.415038  \n",
      "3                          0.415038  \n",
      "4                          0.415038  \n"
     ]
    }
   ],
   "source": [
    "selected_features = [\n",
    "    'mean_TF_expression',\n",
    "    'mean_peak_accessibility',\n",
    "    'mean_TG_expression',\n",
    "    'cicero_score',\n",
    "    'TSS_dist_score', \n",
    "    'correlation',\n",
    "    'homer_binding_score', \n",
    "    'sliding_window_score', \n",
    "    'string_combined_score', \n",
    "    'string_experimental_score', \n",
    "    'string_textmining_score'\n",
    "    ]\n",
    "\n",
    "mesc_score_paths: dict = create_score_path_dict(selected_features, mesc_output_dir)\n",
    "\n",
    "print(\"\\nLoading and combining individual feature scores\")\n",
    "feature_score_dataframes: dict = load_individual_score_dataframes(mesc_score_paths)\n",
    "\n",
    "print('\\nChecking for scores originating from the combined feature score DataFrame')\n",
    "combined_df_features: list[str] = check_for_features_in_combined_score_df(mesc_score_paths)\n",
    "\n",
    "if len(combined_df_features) > 0:\n",
    "    print('\\nLoading combined feature score dataframe')\n",
    "    inferred_df_path = mesc_score_paths[combined_df_features[0]] # get path for the first feature name in combined_df_feature\n",
    "    inferred_df = load_melted_inferred_grn_ddf(inferred_df_path, combined_df_features)\n",
    "    print('\\tDone!')\n",
    "    \n",
    "    print(\"\\nSplitting off combined scores into individual dataframes\")\n",
    "    for feature_name in combined_df_features:\n",
    "        feature_df = inferred_df[[\"source_id\", \"peak_id\", \"target_id\", feature_name]]\n",
    "        feature_score_dataframes[feature_name] = feature_df\n",
    "    \n",
    "else:\n",
    "    print('  - No scores from the combined feature score DataFrame')\n",
    "\n"
   ]
  },
  {
   "cell_type": "code",
   "execution_count": 50,
   "id": "6e62d659",
   "metadata": {},
   "outputs": [],
   "source": [
    "cicero_peak_to_tg = feature_score_dataframes[\"cicero_score\"][[\"peak_id\", \"target_id\"]]\n",
    "corr_peak_to_tg = feature_score_dataframes[\"correlation\"][[\"peak_id\", \"target_id\"]]\n",
    "peak_to_tg_edges = pd.merge(cicero_peak_to_tg, corr_peak_to_tg, how=\"outer\")"
   ]
  },
  {
   "cell_type": "code",
   "execution_count": 51,
   "id": "4de1fa9c",
   "metadata": {},
   "outputs": [
    {
     "data": {
      "application/vnd.microsoft.datawrangler.viewer.v0+json": {
       "columns": [
        {
         "name": "index",
         "rawType": "int64",
         "type": "integer"
        },
        {
         "name": "peak_id",
         "rawType": "object",
         "type": "string"
        },
        {
         "name": "target_id",
         "rawType": "object",
         "type": "string"
        }
       ],
       "ref": "fbfc2db4-91b1-4c52-8b29-f7120002b351",
       "rows": [
        [
         "0",
         "chr1:9747331-9756094",
         "Tcf24"
        ],
        [
         "1",
         "chr1:9767609-9800330",
         "Tcf24"
        ],
        [
         "2",
         "chr1:9816059-9816659",
         "Tcf24"
        ],
        [
         "3",
         "chr1:9830375-9830975",
         "Tcf24"
        ],
        [
         "4",
         "chr1:9847961-9859633",
         "Tcf24"
        ],
        [
         "5",
         "chr1:9902607-9908930",
         "Tcf24"
        ],
        [
         "6",
         "chr1:9921252-9948085",
         "Tcf24"
        ],
        [
         "7",
         "chr1:9967002-9968296",
         "Tcf24"
        ],
        [
         "8",
         "chr1:9981549-9992287",
         "Tcf24"
        ],
        [
         "9",
         "chr1:10007124-10012640",
         "Tcf24"
        ],
        [
         "10",
         "chr1:10084275-10090033",
         "Tcf24"
        ],
        [
         "11",
         "chr1:10108975-10124515",
         "Tcf24"
        ],
        [
         "12",
         "chr1:10143794-10144394",
         "Tcf24"
        ],
        [
         "13",
         "chr1:10158147-10158747",
         "Tcf24"
        ],
        [
         "14",
         "chr1:10170125-10171555",
         "Tcf24"
        ],
        [
         "15",
         "chr1:10226753-10237515",
         "Tcf24"
        ],
        [
         "16",
         "chr1:10259346-10259946",
         "Tcf24"
        ],
        [
         "17",
         "chr1:10278322-10285975",
         "Tcf24"
        ],
        [
         "18",
         "chr1:10325273-10325873",
         "Tcf24"
        ],
        [
         "19",
         "chr1:10348405-10349005",
         "Tcf24"
        ],
        [
         "20",
         "chr1:10037631-10049942",
         "Tcf24"
        ],
        [
         "21",
         "chr1:9747331-9756094",
         "Gm54899"
        ],
        [
         "22",
         "chr1:9767609-9800330",
         "Gm54899"
        ],
        [
         "23",
         "chr1:9816059-9816659",
         "Gm54899"
        ],
        [
         "24",
         "chr1:9830375-9830975",
         "Gm54899"
        ],
        [
         "25",
         "chr1:9847961-9859633",
         "Gm54899"
        ],
        [
         "26",
         "chr1:9902607-9908930",
         "Gm54899"
        ],
        [
         "27",
         "chr1:9921252-9948085",
         "Gm54899"
        ],
        [
         "28",
         "chr1:9967002-9968296",
         "Gm54899"
        ],
        [
         "29",
         "chr1:9981549-9992287",
         "Gm54899"
        ],
        [
         "30",
         "chr1:10007124-10012640",
         "Gm54899"
        ],
        [
         "31",
         "chr1:10037631-10049942",
         "Gm54899"
        ],
        [
         "32",
         "chr1:10084275-10090033",
         "Gm54899"
        ],
        [
         "33",
         "chr1:10108975-10124515",
         "Gm54899"
        ],
        [
         "34",
         "chr1:10143794-10144394",
         "Gm54899"
        ],
        [
         "35",
         "chr1:10158147-10158747",
         "Gm54899"
        ],
        [
         "36",
         "chr1:10170125-10171555",
         "Gm54899"
        ],
        [
         "37",
         "chr1:10259346-10259946",
         "Gm54899"
        ],
        [
         "38",
         "chr1:10278322-10285975",
         "Gm54899"
        ],
        [
         "39",
         "chr1:10325273-10325873",
         "Gm54899"
        ],
        [
         "40",
         "chr1:10348405-10349005",
         "Gm54899"
        ],
        [
         "41",
         "chr1:10226753-10237515",
         "Gm54899"
        ],
        [
         "42",
         "chr1:105169338-105189053",
         "Gm29013"
        ],
        [
         "43",
         "chr1:105088651-105093545",
         "Rnf152"
        ],
        [
         "44",
         "chr1:105310396-105314685",
         "Rnf152"
        ],
        [
         "45",
         "chr1:105355352-105363224",
         "Rnf152"
        ],
        [
         "46",
         "chr1:105524974-105525574",
         "Rnf152"
        ],
        [
         "47",
         "chr1:105555226-105567151",
         "Rnf152"
        ],
        [
         "48",
         "chr1:105663438-105664932",
         "Rnf152"
        ],
        [
         "49",
         "chr1:105284066-105284666",
         "Rnf152"
        ]
       ],
       "shape": {
        "columns": 2,
        "rows": 2039892
       }
      },
      "text/html": [
       "<div>\n",
       "<style scoped>\n",
       "    .dataframe tbody tr th:only-of-type {\n",
       "        vertical-align: middle;\n",
       "    }\n",
       "\n",
       "    .dataframe tbody tr th {\n",
       "        vertical-align: top;\n",
       "    }\n",
       "\n",
       "    .dataframe thead th {\n",
       "        text-align: right;\n",
       "    }\n",
       "</style>\n",
       "<table border=\"1\" class=\"dataframe\">\n",
       "  <thead>\n",
       "    <tr style=\"text-align: right;\">\n",
       "      <th></th>\n",
       "      <th>peak_id</th>\n",
       "      <th>target_id</th>\n",
       "    </tr>\n",
       "  </thead>\n",
       "  <tbody>\n",
       "    <tr>\n",
       "      <th>0</th>\n",
       "      <td>chr1:9747331-9756094</td>\n",
       "      <td>Tcf24</td>\n",
       "    </tr>\n",
       "    <tr>\n",
       "      <th>1</th>\n",
       "      <td>chr1:9767609-9800330</td>\n",
       "      <td>Tcf24</td>\n",
       "    </tr>\n",
       "    <tr>\n",
       "      <th>2</th>\n",
       "      <td>chr1:9816059-9816659</td>\n",
       "      <td>Tcf24</td>\n",
       "    </tr>\n",
       "    <tr>\n",
       "      <th>3</th>\n",
       "      <td>chr1:9830375-9830975</td>\n",
       "      <td>Tcf24</td>\n",
       "    </tr>\n",
       "    <tr>\n",
       "      <th>4</th>\n",
       "      <td>chr1:9847961-9859633</td>\n",
       "      <td>Tcf24</td>\n",
       "    </tr>\n",
       "    <tr>\n",
       "      <th>...</th>\n",
       "      <td>...</td>\n",
       "      <td>...</td>\n",
       "    </tr>\n",
       "    <tr>\n",
       "      <th>2039887</th>\n",
       "      <td>chr11:22763395-22763995</td>\n",
       "      <td>Wdpcp</td>\n",
       "    </tr>\n",
       "    <tr>\n",
       "      <th>2039888</th>\n",
       "      <td>chr4:148592054-148592654</td>\n",
       "      <td>Zfp982</td>\n",
       "    </tr>\n",
       "    <tr>\n",
       "      <th>2039889</th>\n",
       "      <td>chr1:165285923-165286523</td>\n",
       "      <td>Atp1b1</td>\n",
       "    </tr>\n",
       "    <tr>\n",
       "      <th>2039890</th>\n",
       "      <td>chr15:38335981-38336581</td>\n",
       "      <td>Grhl2</td>\n",
       "    </tr>\n",
       "    <tr>\n",
       "      <th>2039891</th>\n",
       "      <td>chr17:47593952-47594552</td>\n",
       "      <td>Tjap1</td>\n",
       "    </tr>\n",
       "  </tbody>\n",
       "</table>\n",
       "<p>2039892 rows × 2 columns</p>\n",
       "</div>"
      ],
      "text/plain": [
       "                          peak_id target_id\n",
       "0            chr1:9747331-9756094     Tcf24\n",
       "1            chr1:9767609-9800330     Tcf24\n",
       "2            chr1:9816059-9816659     Tcf24\n",
       "3            chr1:9830375-9830975     Tcf24\n",
       "4            chr1:9847961-9859633     Tcf24\n",
       "...                           ...       ...\n",
       "2039887   chr11:22763395-22763995     Wdpcp\n",
       "2039888  chr4:148592054-148592654    Zfp982\n",
       "2039889  chr1:165285923-165286523    Atp1b1\n",
       "2039890   chr15:38335981-38336581     Grhl2\n",
       "2039891   chr17:47593952-47594552     Tjap1\n",
       "\n",
       "[2039892 rows x 2 columns]"
      ]
     },
     "execution_count": 51,
     "metadata": {},
     "output_type": "execute_result"
    }
   ],
   "source": [
    "peak_to_tg_edges"
   ]
  },
  {
   "cell_type": "code",
   "execution_count": 52,
   "id": "65882f3c",
   "metadata": {},
   "outputs": [],
   "source": [
    "sliding_window_tf_to_peak = feature_score_dataframes[\"sliding_window_score\"][[\"source_id\", \"peak_id\"]]\n",
    "homer_tf_to_peak = feature_score_dataframes[\"homer_binding_score\"][[\"source_id\", \"peak_id\"]]\n",
    "tf_to_peak_edges = pd.merge(sliding_window_tf_to_peak, homer_tf_to_peak, how=\"outer\")"
   ]
  },
  {
   "cell_type": "code",
   "execution_count": 53,
   "id": "a7d3ce0f",
   "metadata": {},
   "outputs": [
    {
     "data": {
      "application/vnd.microsoft.datawrangler.viewer.v0+json": {
       "columns": [
        {
         "name": "index",
         "rawType": "int64",
         "type": "integer"
        },
        {
         "name": "source_id",
         "rawType": "string",
         "type": "string"
        },
        {
         "name": "peak_id",
         "rawType": "string",
         "type": "string"
        }
       ],
       "ref": "b0abca1a-ab25-460e-a722-401b08778699",
       "rows": [
        [
         "0",
         "Ahctf1",
         "chr17:3054703-3055303"
        ],
        [
         "1",
         "Ahctf1",
         "chr17:3102194-3102794"
        ],
        [
         "2",
         "Ahctf1",
         "chr17:3162106-3162706"
        ],
        [
         "3",
         "Ahctf1",
         "chr17:3375042-3375642"
        ],
        [
         "4",
         "Ahctf1",
         "chr17:3616249-3616849"
        ],
        [
         "5",
         "Ahctf1",
         "chr17:4529553-4530153"
        ],
        [
         "6",
         "Ahctf1",
         "chr17:4576880-4577480"
        ],
        [
         "7",
         "Ahctf1",
         "chr17:4590685-4591285"
        ],
        [
         "8",
         "Ahctf1",
         "chr17:4803786-4804386"
        ],
        [
         "9",
         "Ahctf1",
         "chr17:4964440-4965040"
        ],
        [
         "10",
         "Ahctf1",
         "chr17:5583757-5584357"
        ],
        [
         "11",
         "Ahctf1",
         "chr17:5594839-5595439"
        ],
        [
         "12",
         "Ahctf1",
         "chr17:5660281-5660881"
        ],
        [
         "13",
         "Ahctf1",
         "chr17:5752916-5753516"
        ],
        [
         "14",
         "Ahctf1",
         "chr17:6035516-6036116"
        ],
        [
         "15",
         "Ahctf1",
         "chr17:6144267-6144867"
        ],
        [
         "16",
         "Ahctf1",
         "chr17:6202997-6203597"
        ],
        [
         "17",
         "Ahctf1",
         "chr17:7074436-7075036"
        ],
        [
         "18",
         "Ahctf1",
         "chr17:7146047-7146647"
        ],
        [
         "19",
         "Ahctf1",
         "chr17:7221152-7221752"
        ],
        [
         "20",
         "Ahctf1",
         "chr17:7562838-7563438"
        ],
        [
         "21",
         "Ahctf1",
         "chr17:7642049-7642649"
        ],
        [
         "22",
         "Ahctf1",
         "chr17:7827018-7827618"
        ],
        [
         "23",
         "Ahctf1",
         "chr17:7945608-7946208"
        ],
        [
         "24",
         "Ahctf1",
         "chr17:8328381-8328981"
        ],
        [
         "25",
         "Ahctf1",
         "chr17:8480488-8481088"
        ],
        [
         "26",
         "Ahctf1",
         "chr17:8728527-8729127"
        ],
        [
         "27",
         "Ahctf1",
         "chr17:8751009-8751609"
        ],
        [
         "28",
         "Ahctf1",
         "chr17:9202469-9203069"
        ],
        [
         "29",
         "Ahctf1",
         "chr17:9580186-9580786"
        ],
        [
         "30",
         "Ahctf1",
         "chr17:9640291-9640891"
        ],
        [
         "31",
         "Ahctf1",
         "chr17:9977303-9977903"
        ],
        [
         "32",
         "Ahctf1",
         "chr17:11092810-11093410"
        ],
        [
         "33",
         "Ahctf1",
         "chr17:11218739-11219339"
        ],
        [
         "34",
         "Ahctf1",
         "chr17:11230824-11231424"
        ],
        [
         "35",
         "Ahctf1",
         "chr17:11513835-11514435"
        ],
        [
         "36",
         "Ahctf1",
         "chr17:11561109-11561709"
        ],
        [
         "37",
         "Ahctf1",
         "chr17:11765557-11766157"
        ],
        [
         "38",
         "Ahctf1",
         "chr17:11780976-11781576"
        ],
        [
         "39",
         "Ahctf1",
         "chr17:11793920-11794520"
        ],
        [
         "40",
         "Ahctf1",
         "chr17:11818326-11818926"
        ],
        [
         "41",
         "Ahctf1",
         "chr17:12446706-12447306"
        ],
        [
         "42",
         "Ahctf1",
         "chr17:12700267-12700867"
        ],
        [
         "43",
         "Ahctf1",
         "chr17:12960137-12960737"
        ],
        [
         "44",
         "Ahctf1",
         "chr17:13572017-13572617"
        ],
        [
         "45",
         "Ahctf1",
         "chr17:13898669-13899269"
        ],
        [
         "46",
         "Ahctf1",
         "chr17:13946070-13946670"
        ],
        [
         "47",
         "Ahctf1",
         "chr17:13993344-13993944"
        ],
        [
         "48",
         "Ahctf1",
         "chr17:14439976-14440576"
        ],
        [
         "49",
         "Ahctf1",
         "chr17:14672291-14672891"
        ]
       ],
       "shape": {
        "columns": 2,
        "rows": 18438866
       }
      },
      "text/html": [
       "<div>\n",
       "<style scoped>\n",
       "    .dataframe tbody tr th:only-of-type {\n",
       "        vertical-align: middle;\n",
       "    }\n",
       "\n",
       "    .dataframe tbody tr th {\n",
       "        vertical-align: top;\n",
       "    }\n",
       "\n",
       "    .dataframe thead th {\n",
       "        text-align: right;\n",
       "    }\n",
       "</style>\n",
       "<table border=\"1\" class=\"dataframe\">\n",
       "  <thead>\n",
       "    <tr style=\"text-align: right;\">\n",
       "      <th></th>\n",
       "      <th>source_id</th>\n",
       "      <th>peak_id</th>\n",
       "    </tr>\n",
       "  </thead>\n",
       "  <tbody>\n",
       "    <tr>\n",
       "      <th>0</th>\n",
       "      <td>Ahctf1</td>\n",
       "      <td>chr17:3054703-3055303</td>\n",
       "    </tr>\n",
       "    <tr>\n",
       "      <th>1</th>\n",
       "      <td>Ahctf1</td>\n",
       "      <td>chr17:3102194-3102794</td>\n",
       "    </tr>\n",
       "    <tr>\n",
       "      <th>2</th>\n",
       "      <td>Ahctf1</td>\n",
       "      <td>chr17:3162106-3162706</td>\n",
       "    </tr>\n",
       "    <tr>\n",
       "      <th>3</th>\n",
       "      <td>Ahctf1</td>\n",
       "      <td>chr17:3375042-3375642</td>\n",
       "    </tr>\n",
       "    <tr>\n",
       "      <th>4</th>\n",
       "      <td>Ahctf1</td>\n",
       "      <td>chr17:3616249-3616849</td>\n",
       "    </tr>\n",
       "    <tr>\n",
       "      <th>...</th>\n",
       "      <td>...</td>\n",
       "      <td>...</td>\n",
       "    </tr>\n",
       "    <tr>\n",
       "      <th>18438861</th>\n",
       "      <td>Fosl2</td>\n",
       "      <td>chr13:3746587-3747187</td>\n",
       "    </tr>\n",
       "    <tr>\n",
       "      <th>18438862</th>\n",
       "      <td>Fosl2</td>\n",
       "      <td>chr7:133012640-133013240</td>\n",
       "    </tr>\n",
       "    <tr>\n",
       "      <th>18438863</th>\n",
       "      <td>Fosl2</td>\n",
       "      <td>chr2:170160109-170160709</td>\n",
       "    </tr>\n",
       "    <tr>\n",
       "      <th>18438864</th>\n",
       "      <td>Fosl2</td>\n",
       "      <td>chr2:165329517-165330117</td>\n",
       "    </tr>\n",
       "    <tr>\n",
       "      <th>18438865</th>\n",
       "      <td>Fosl2</td>\n",
       "      <td>chr11:44417241-44417841</td>\n",
       "    </tr>\n",
       "  </tbody>\n",
       "</table>\n",
       "<p>18438866 rows × 2 columns</p>\n",
       "</div>"
      ],
      "text/plain": [
       "         source_id                   peak_id\n",
       "0           Ahctf1     chr17:3054703-3055303\n",
       "1           Ahctf1     chr17:3102194-3102794\n",
       "2           Ahctf1     chr17:3162106-3162706\n",
       "3           Ahctf1     chr17:3375042-3375642\n",
       "4           Ahctf1     chr17:3616249-3616849\n",
       "...            ...                       ...\n",
       "18438861     Fosl2     chr13:3746587-3747187\n",
       "18438862     Fosl2  chr7:133012640-133013240\n",
       "18438863     Fosl2  chr2:170160109-170160709\n",
       "18438864     Fosl2  chr2:165329517-165330117\n",
       "18438865     Fosl2   chr11:44417241-44417841\n",
       "\n",
       "[18438866 rows x 2 columns]"
      ]
     },
     "execution_count": 53,
     "metadata": {},
     "output_type": "execute_result"
    }
   ],
   "source": [
    "tf_to_peak_edges"
   ]
  },
  {
   "cell_type": "code",
   "execution_count": 54,
   "id": "c946a395",
   "metadata": {},
   "outputs": [],
   "source": [
    "tf_peak_tg_edges = pd.merge(tf_to_peak_edges, peak_to_tg_edges, on=[\"peak_id\"], how=\"inner\")"
   ]
  },
  {
   "cell_type": "code",
   "execution_count": 55,
   "id": "7cf745c6",
   "metadata": {},
   "outputs": [
    {
     "data": {
      "application/vnd.microsoft.datawrangler.viewer.v0+json": {
       "columns": [
        {
         "name": "index",
         "rawType": "int64",
         "type": "integer"
        },
        {
         "name": "source_id",
         "rawType": "string",
         "type": "string"
        },
        {
         "name": "peak_id",
         "rawType": "object",
         "type": "string"
        },
        {
         "name": "target_id",
         "rawType": "object",
         "type": "string"
        }
       ],
       "ref": "29e90394-a628-48ad-a4b3-031f4d0872d8",
       "rows": [
        [
         "0",
         "Ahctf1",
         "chr17:3054703-3055303",
         "Gm5679"
        ],
        [
         "1",
         "Ahctf1",
         "chr17:3054703-3055303",
         "Gm49797"
        ],
        [
         "2",
         "Ahctf1",
         "chr17:3054703-3055303",
         "Gm49221"
        ],
        [
         "3",
         "Ahctf1",
         "chr17:3054703-3055303",
         "Scaf8"
        ],
        [
         "4",
         "Ahctf1",
         "chr17:3054703-3055303",
         "Tiam2"
        ],
        [
         "5",
         "Arid2",
         "chr17:3054703-3055303",
         "Gm5679"
        ],
        [
         "6",
         "Arid2",
         "chr17:3054703-3055303",
         "Gm49797"
        ],
        [
         "7",
         "Arid2",
         "chr17:3054703-3055303",
         "Gm49221"
        ],
        [
         "8",
         "Arid2",
         "chr17:3054703-3055303",
         "Scaf8"
        ],
        [
         "9",
         "Arid2",
         "chr17:3054703-3055303",
         "Tiam2"
        ],
        [
         "10",
         "Atf6",
         "chr17:3054703-3055303",
         "Gm5679"
        ],
        [
         "11",
         "Atf6",
         "chr17:3054703-3055303",
         "Gm49797"
        ],
        [
         "12",
         "Atf6",
         "chr17:3054703-3055303",
         "Gm49221"
        ],
        [
         "13",
         "Atf6",
         "chr17:3054703-3055303",
         "Scaf8"
        ],
        [
         "14",
         "Atf6",
         "chr17:3054703-3055303",
         "Tiam2"
        ],
        [
         "15",
         "Hnf4a",
         "chr17:3054703-3055303",
         "Gm5679"
        ],
        [
         "16",
         "Hnf4a",
         "chr17:3054703-3055303",
         "Gm49797"
        ],
        [
         "17",
         "Hnf4a",
         "chr17:3054703-3055303",
         "Gm49221"
        ],
        [
         "18",
         "Hnf4a",
         "chr17:3054703-3055303",
         "Scaf8"
        ],
        [
         "19",
         "Hnf4a",
         "chr17:3054703-3055303",
         "Tiam2"
        ],
        [
         "20",
         "Hsf1",
         "chr17:3054703-3055303",
         "Gm5679"
        ],
        [
         "21",
         "Hsf1",
         "chr17:3054703-3055303",
         "Gm49797"
        ],
        [
         "22",
         "Hsf1",
         "chr17:3054703-3055303",
         "Gm49221"
        ],
        [
         "23",
         "Hsf1",
         "chr17:3054703-3055303",
         "Scaf8"
        ],
        [
         "24",
         "Hsf1",
         "chr17:3054703-3055303",
         "Tiam2"
        ],
        [
         "25",
         "Hsf2",
         "chr17:3054703-3055303",
         "Gm5679"
        ],
        [
         "26",
         "Hsf2",
         "chr17:3054703-3055303",
         "Gm49797"
        ],
        [
         "27",
         "Hsf2",
         "chr17:3054703-3055303",
         "Gm49221"
        ],
        [
         "28",
         "Hsf2",
         "chr17:3054703-3055303",
         "Scaf8"
        ],
        [
         "29",
         "Hsf2",
         "chr17:3054703-3055303",
         "Tiam2"
        ],
        [
         "30",
         "Ikzf2",
         "chr17:3054703-3055303",
         "Gm5679"
        ],
        [
         "31",
         "Ikzf2",
         "chr17:3054703-3055303",
         "Gm49797"
        ],
        [
         "32",
         "Ikzf2",
         "chr17:3054703-3055303",
         "Gm49221"
        ],
        [
         "33",
         "Ikzf2",
         "chr17:3054703-3055303",
         "Scaf8"
        ],
        [
         "34",
         "Ikzf2",
         "chr17:3054703-3055303",
         "Tiam2"
        ],
        [
         "35",
         "Irf2",
         "chr17:3054703-3055303",
         "Gm5679"
        ],
        [
         "36",
         "Irf2",
         "chr17:3054703-3055303",
         "Gm49797"
        ],
        [
         "37",
         "Irf2",
         "chr17:3054703-3055303",
         "Gm49221"
        ],
        [
         "38",
         "Irf2",
         "chr17:3054703-3055303",
         "Scaf8"
        ],
        [
         "39",
         "Irf2",
         "chr17:3054703-3055303",
         "Tiam2"
        ],
        [
         "40",
         "Irf3",
         "chr17:3054703-3055303",
         "Gm5679"
        ],
        [
         "41",
         "Irf3",
         "chr17:3054703-3055303",
         "Gm49797"
        ],
        [
         "42",
         "Irf3",
         "chr17:3054703-3055303",
         "Gm49221"
        ],
        [
         "43",
         "Irf3",
         "chr17:3054703-3055303",
         "Scaf8"
        ],
        [
         "44",
         "Irf3",
         "chr17:3054703-3055303",
         "Tiam2"
        ],
        [
         "45",
         "Irf9",
         "chr17:3054703-3055303",
         "Gm5679"
        ],
        [
         "46",
         "Irf9",
         "chr17:3054703-3055303",
         "Gm49797"
        ],
        [
         "47",
         "Irf9",
         "chr17:3054703-3055303",
         "Gm49221"
        ],
        [
         "48",
         "Irf9",
         "chr17:3054703-3055303",
         "Scaf8"
        ],
        [
         "49",
         "Irf9",
         "chr17:3054703-3055303",
         "Tiam2"
        ]
       ],
       "shape": {
        "columns": 3,
        "rows": 187610273
       }
      },
      "text/html": [
       "<div>\n",
       "<style scoped>\n",
       "    .dataframe tbody tr th:only-of-type {\n",
       "        vertical-align: middle;\n",
       "    }\n",
       "\n",
       "    .dataframe tbody tr th {\n",
       "        vertical-align: top;\n",
       "    }\n",
       "\n",
       "    .dataframe thead th {\n",
       "        text-align: right;\n",
       "    }\n",
       "</style>\n",
       "<table border=\"1\" class=\"dataframe\">\n",
       "  <thead>\n",
       "    <tr style=\"text-align: right;\">\n",
       "      <th></th>\n",
       "      <th>source_id</th>\n",
       "      <th>peak_id</th>\n",
       "      <th>target_id</th>\n",
       "    </tr>\n",
       "  </thead>\n",
       "  <tbody>\n",
       "    <tr>\n",
       "      <th>0</th>\n",
       "      <td>Ahctf1</td>\n",
       "      <td>chr17:3054703-3055303</td>\n",
       "      <td>Gm5679</td>\n",
       "    </tr>\n",
       "    <tr>\n",
       "      <th>1</th>\n",
       "      <td>Ahctf1</td>\n",
       "      <td>chr17:3054703-3055303</td>\n",
       "      <td>Gm49797</td>\n",
       "    </tr>\n",
       "    <tr>\n",
       "      <th>2</th>\n",
       "      <td>Ahctf1</td>\n",
       "      <td>chr17:3054703-3055303</td>\n",
       "      <td>Gm49221</td>\n",
       "    </tr>\n",
       "    <tr>\n",
       "      <th>3</th>\n",
       "      <td>Ahctf1</td>\n",
       "      <td>chr17:3054703-3055303</td>\n",
       "      <td>Scaf8</td>\n",
       "    </tr>\n",
       "    <tr>\n",
       "      <th>4</th>\n",
       "      <td>Ahctf1</td>\n",
       "      <td>chr17:3054703-3055303</td>\n",
       "      <td>Tiam2</td>\n",
       "    </tr>\n",
       "    <tr>\n",
       "      <th>...</th>\n",
       "      <td>...</td>\n",
       "      <td>...</td>\n",
       "      <td>...</td>\n",
       "    </tr>\n",
       "    <tr>\n",
       "      <th>187610268</th>\n",
       "      <td>Smad4</td>\n",
       "      <td>chr2:69374194-69374794</td>\n",
       "      <td>Ssb</td>\n",
       "    </tr>\n",
       "    <tr>\n",
       "      <th>187610269</th>\n",
       "      <td>Smad4</td>\n",
       "      <td>chr2:69374194-69374794</td>\n",
       "      <td>Mettl5</td>\n",
       "    </tr>\n",
       "    <tr>\n",
       "      <th>187610270</th>\n",
       "      <td>Smad4</td>\n",
       "      <td>chr2:69374194-69374794</td>\n",
       "      <td>Spc25</td>\n",
       "    </tr>\n",
       "    <tr>\n",
       "      <th>187610271</th>\n",
       "      <td>Smad4</td>\n",
       "      <td>chr2:69374194-69374794</td>\n",
       "      <td>Ubr3</td>\n",
       "    </tr>\n",
       "    <tr>\n",
       "      <th>187610272</th>\n",
       "      <td>Smad4</td>\n",
       "      <td>chr2:69374194-69374794</td>\n",
       "      <td>Cers6</td>\n",
       "    </tr>\n",
       "  </tbody>\n",
       "</table>\n",
       "<p>187610273 rows × 3 columns</p>\n",
       "</div>"
      ],
      "text/plain": [
       "          source_id                 peak_id target_id\n",
       "0            Ahctf1   chr17:3054703-3055303    Gm5679\n",
       "1            Ahctf1   chr17:3054703-3055303   Gm49797\n",
       "2            Ahctf1   chr17:3054703-3055303   Gm49221\n",
       "3            Ahctf1   chr17:3054703-3055303     Scaf8\n",
       "4            Ahctf1   chr17:3054703-3055303     Tiam2\n",
       "...             ...                     ...       ...\n",
       "187610268     Smad4  chr2:69374194-69374794       Ssb\n",
       "187610269     Smad4  chr2:69374194-69374794    Mettl5\n",
       "187610270     Smad4  chr2:69374194-69374794     Spc25\n",
       "187610271     Smad4  chr2:69374194-69374794      Ubr3\n",
       "187610272     Smad4  chr2:69374194-69374794     Cers6\n",
       "\n",
       "[187610273 rows x 3 columns]"
      ]
     },
     "execution_count": 55,
     "metadata": {},
     "output_type": "execute_result"
    }
   ],
   "source": [
    "tf_peak_tg_edges"
   ]
  },
  {
   "cell_type": "markdown",
   "id": "49fefe30",
   "metadata": {},
   "source": [
    "Aggregating the TF-TG edges by the number of peaks between them"
   ]
  },
  {
   "cell_type": "code",
   "execution_count": 70,
   "id": "75a76dee",
   "metadata": {},
   "outputs": [
    {
     "ename": "",
     "evalue": "",
     "output_type": "error",
     "traceback": [
      "\u001b[1;31mThe Kernel crashed while executing code in the current cell or a previous cell. \n",
      "\u001b[1;31mPlease review the code in the cell(s) to identify a possible cause of the failure. \n",
      "\u001b[1;31mClick <a href='https://aka.ms/vscodeJupyterKernelCrash'>here</a> for more info. \n",
      "\u001b[1;31mView Jupyter <a href='command:jupyter.viewOutput'>log</a> for further details."
     ]
    }
   ],
   "source": [
    "tf_tg_edges = tf_peak_tg_edges.groupby(by=[\"source_id\", \"target_id\"]).size().reset_index(name=\"edge_count\")"
   ]
  },
  {
   "cell_type": "code",
   "execution_count": 2,
   "id": "0eab9177",
   "metadata": {},
   "outputs": [],
   "source": [
    "import csv\n",
    "import pandas as pd\n",
    "def read_ground_truth(ground_truth_file):\n",
    "    ground_truth = pd.read_csv(ground_truth_file, sep='\\t', quoting=csv.QUOTE_NONE, on_bad_lines='skip', header=0)\n",
    "    ground_truth = ground_truth.rename(columns={\"Source\": \"source_id\", \"Target\": \"target_id\"})\n",
    "    return ground_truth\n",
    "\n",
    "\n",
    "ground_truth_file = \"/gpfs/Labs/Uzun/DATA/PROJECTS/2024.SC_MO_TRN_DB.MIRA/REPOSITORY/CURRENT/REFERENCE_NETWORKS/RN111_ChIPSeq_BEELINE_Mouse_ESC.tsv\"\n",
    "ground_truth_df = read_ground_truth(ground_truth_file)\n",
    "\n"
   ]
  },
  {
   "cell_type": "code",
   "execution_count": 4,
   "id": "b27f8cb7",
   "metadata": {},
   "outputs": [],
   "source": [
    "import dask.dataframe as dd\n",
    "inferred_network_df = dd.read_parquet(\"/gpfs/Labs/Uzun/SCRIPTS/PROJECTS/2024.SINGLE_CELL_GRN_INFERENCE.MOELLER/src/testing_scripts/tmp/tf_peak_tg_edges.parquet\", engine=\"pyarrow\")\n"
   ]
  },
  {
   "cell_type": "code",
   "execution_count": null,
   "id": "93078abd",
   "metadata": {},
   "outputs": [],
   "source": [
    "def label_edges_with_ground_truth(inferred_network_dd, ground_truth_df):\n",
    "    import dask.dataframe as dd\n",
    "    import numpy as np\n",
    "    ground_truth_pairs = set(zip(\n",
    "        ground_truth_df[\"source_id\"].str.upper(),\n",
    "        ground_truth_df[\"target_id\"].str.upper()\n",
    "    ))\n",
    "\n",
    "\n",
    "    def label_partition(df):\n",
    "        df = df.copy()  # <-- avoids SettingWithCopyWarning\n",
    "        tf_tg_tuples = list(zip(df[\"source_id\"], df[\"target_id\"]))\n",
    "        df.loc[:, \"label\"] = [1 if pair in ground_truth_pairs else 0 for pair in tf_tg_tuples]\n",
    "        return df\n",
    "\n",
    "    inferred_network_dd = inferred_network_dd.map_partitions(\n",
    "        label_partition,\n",
    "        meta=inferred_network_dd._meta.assign(label=np.int64(0))\n",
    "    )\n",
    "\n",
    "    return inferred_network_dd\n",
    "\n",
    "tf_tg_edges_in_gt = label_edges_with_ground_truth(inferred_network_df, ground_truth_df)"
   ]
  },
  {
   "cell_type": "code",
   "execution_count": null,
   "id": "3d984a20",
   "metadata": {},
   "outputs": [],
   "source": [
    "tf_tg_edges_in_gt_df = tf_tg_edges_in_gt.compute()"
   ]
  },
  {
   "cell_type": "code",
   "execution_count": null,
   "id": "058db516",
   "metadata": {},
   "outputs": [],
   "source": [
    "tf_tg_edges_in_gt_df"
   ]
  }
 ],
 "metadata": {
  "kernelspec": {
   "display_name": "my_env",
   "language": "python",
   "name": "python3"
  },
  "language_info": {
   "codemirror_mode": {
    "name": "ipython",
    "version": 3
   },
   "file_extension": ".py",
   "mimetype": "text/x-python",
   "name": "python",
   "nbconvert_exporter": "python",
   "pygments_lexer": "ipython3",
   "version": "3.9.18"
  }
 },
 "nbformat": 4,
 "nbformat_minor": 5
}
