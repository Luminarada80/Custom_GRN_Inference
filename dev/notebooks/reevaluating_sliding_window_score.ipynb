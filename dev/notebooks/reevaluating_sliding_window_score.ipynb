{
 "cells": [
  {
   "cell_type": "markdown",
   "id": "4e7f53f7",
   "metadata": {},
   "source": [
    "# Investigating Sliding Window Scores\n",
    "\n",
    "The sliding window scores should have more overlap with the ground truth datasets than they do. I am going to go step-by-step to re-run the analysis, using the raw non-normalized sliding window scores from the method output file."
   ]
  },
  {
   "cell_type": "code",
   "execution_count": null,
   "id": "6027ba04",
   "metadata": {},
   "outputs": [],
   "source": [
    "!hostnamectl"
   ]
  },
  {
   "cell_type": "code",
   "execution_count": null,
   "id": "6fd562ad",
   "metadata": {},
   "outputs": [],
   "source": [
    "import os\n",
    "import pandas as pd\n",
    "import pandas as pd\n",
    "import matplotlib.pyplot as plt\n",
    "import seaborn as sns\n",
    "import random\n",
    "from sklearn.metrics import roc_curve, auc, precision_recall_curve, average_precision_score\n",
    "import dev.notebooks.plotting as dev_plots\n",
    "output_dir = \"/gpfs/Labs/Uzun/SCRIPTS/PROJECTS/2024.SINGLE_CELL_GRN_INFERENCE.MOELLER/output/DS011_mESC/DS011_mESC_sample1/\""
   ]
  },
  {
   "cell_type": "code",
   "execution_count": null,
   "id": "13409934",
   "metadata": {},
   "outputs": [],
   "source": [
    "import importlib\n",
    "importlib.reload(dev_plots)"
   ]
  },
  {
   "cell_type": "markdown",
   "id": "b25375a7",
   "metadata": {},
   "source": [
    "## Loading Sliding Window scores and adding closest gene as the target"
   ]
  },
  {
   "cell_type": "markdown",
   "id": "40000ed2",
   "metadata": {},
   "source": [
    "First, we load in the raw sliding window scores from the direct output of the sliding window score calculation method, without normalization or scaling. \n",
    "\n",
    "To get TF-TG edges, we load in the dataframe of all peaks within 1 Mb of each gene and find the closest gene for each peak. We use the closest gene to each peak as the TG for each TF-peak edge in the sliding window scores."
   ]
  },
  {
   "cell_type": "code",
   "execution_count": null,
   "id": "c642fa86",
   "metadata": {},
   "outputs": [],
   "source": [
    "# Load sliding window scores, associate with the nearest gene TSS\n",
    "raw_sliding_window_scores = pd.read_parquet(os.path.join(output_dir, \"no_norm_sliding_window_tf_to_peak_score.parquet\"), engine=\"pyarrow\")\n",
    "\n",
    "# Read in the peaks to TG data and pick the closest gene for each peak (maximum TSS distance score)\n",
    "peaks_near_genes_df = pd.read_parquet(os.path.join(output_dir, \"peaks_near_genes.parquet\"), engine=\"pyarrow\")\n",
    "closest_gene_to_peak_df = peaks_near_genes_df.sort_values(\"TSS_dist_score\", ascending=False).groupby(\"peak_id\").first()\n",
    "closest_gene_to_peak_df = closest_gene_to_peak_df[[\"target_id\"]].reset_index()\n",
    "\n",
    "# Set the TG for each TF-peak edge as the closest gene to the peak\n",
    "sliding_window_with_targets = pd.merge(raw_sliding_window_scores, closest_gene_to_peak_df, on=[\"peak_id\"], how=\"left\")\n",
    "sliding_window_tf_tg = sliding_window_with_targets[[\"source_id\", \"target_id\", \"sliding_window_score\"]].drop_duplicates()\n",
    "unique_sliding_window_tf_tg_edges = sliding_window_tf_tg[[\"source_id\", \"target_id\"]].drop_duplicates()"
   ]
  },
  {
   "cell_type": "code",
   "execution_count": null,
   "id": "694aec63",
   "metadata": {},
   "outputs": [],
   "source": [
    "print(f\"Sliding Window scores\")\n",
    "print(f\"  - TFs: {sliding_window_tf_tg['source_id'].nunique():,}\")\n",
    "print(f\"  - TGs: {sliding_window_tf_tg['target_id'].nunique():,}\")\n",
    "print(f\"  - TF-peak-TG Edges: {len(sliding_window_with_targets):,}\")\n",
    "print(f\"  - TF-TG-Score Edges: {len(sliding_window_tf_tg):,}\")\n",
    "print(f\"  - TF-TG Edges: {len(unique_sliding_window_tf_tg_edges):,}\")"
   ]
  },
  {
   "cell_type": "markdown",
   "id": "1c1644db",
   "metadata": {},
   "source": [
    "Next, we load in the RN115 LOGOF ESCAPE ground truth data and ensure that the TF and TG column names match the sliding window DataFrame columns"
   ]
  },
  {
   "cell_type": "code",
   "execution_count": null,
   "id": "dd6997fa",
   "metadata": {},
   "outputs": [],
   "source": [
    "# Load the RN115 LOGOG ESCAPE ground truth\n",
    "rn115_ko_ground_truth = pd.read_csv(\"/gpfs/Labs/Uzun/DATA/PROJECTS/2024.SC_MO_TRN_DB.MIRA/REPOSITORY/CURRENT/REFERENCE_NETWORKS/RN115_LOGOF_ESCAPE_Mouse_ESC.tsv\", sep=\"\\t\")\n",
    "rn115_ko_ground_truth = rn115_ko_ground_truth[[\"Source\", \"Target\"]].rename(columns={\"Source\":\"source_id\", \"Target\":\"target_id\"})\n",
    "rn115_ko_ground_truth[\"source_id\"] = rn115_ko_ground_truth[\"source_id\"].str.capitalize()\n",
    "rn115_ko_ground_truth[\"target_id\"] = rn115_ko_ground_truth[\"target_id\"].str.capitalize()"
   ]
  },
  {
   "cell_type": "code",
   "execution_count": null,
   "id": "635e0331",
   "metadata": {},
   "outputs": [],
   "source": [
    "print(\"RN115 LOGOF Ground Truth\")\n",
    "print(f\"  - TFs: {rn115_ko_ground_truth['source_id'].nunique():,}\")\n",
    "print(f\"  - TGs: {rn115_ko_ground_truth['target_id'].nunique():,}\")\n",
    "print(f\"  - Edges: {len(rn115_ko_ground_truth):,}\")"
   ]
  },
  {
   "cell_type": "markdown",
   "id": "9f832fac",
   "metadata": {},
   "source": [
    "### Number of targets per TF in RN115"
   ]
  },
  {
   "cell_type": "code",
   "execution_count": null,
   "id": "9cbdaf0f",
   "metadata": {},
   "outputs": [],
   "source": [
    "rn115_targets_per_tf = rn115_ko_ground_truth.groupby(\"source_id\").count().sort_values(by=\"target_id\", ascending=False)\n",
    "print(\"Number of RN115 TGs per TF\")\n",
    "rn115_targets_per_tf"
   ]
  },
  {
   "cell_type": "markdown",
   "id": "605f5723",
   "metadata": {},
   "source": [
    "### Number of targets per TF in the sliding window scores"
   ]
  },
  {
   "cell_type": "code",
   "execution_count": null,
   "id": "6eda933c",
   "metadata": {},
   "outputs": [],
   "source": [
    "sliding_window_tf_tg"
   ]
  },
  {
   "cell_type": "code",
   "execution_count": null,
   "id": "a33a7e43",
   "metadata": {},
   "outputs": [],
   "source": [
    "sliding_window_targets_per_tf = sliding_window_tf_tg.groupby(\"source_id\")[\"target_id\"].count().sort_values(ascending=False)\n",
    "print(\"Number of Sliding Window TGs per TF\")\n",
    "sliding_window_targets_per_tf"
   ]
  },
  {
   "cell_type": "markdown",
   "id": "17fad805",
   "metadata": {},
   "source": [
    "## Overlap between RN115 and DS011 Sliding Window Scores"
   ]
  },
  {
   "cell_type": "markdown",
   "id": "10425602",
   "metadata": {},
   "source": [
    "Merge the datasets together. By doing a full outer join and using `inticator=True`, we can separate out the edges in both datasets along with the edges only in the sliding window scores and the edges only in RN115"
   ]
  },
  {
   "cell_type": "code",
   "execution_count": null,
   "id": "67d1a2d4",
   "metadata": {},
   "outputs": [],
   "source": [
    "merged_edges = pd.merge(\n",
    "    sliding_window_tf_tg, \n",
    "    rn115_ko_ground_truth, \n",
    "    on=[\"source_id\", \"target_id\"], \n",
    "    how=\"outer\",\n",
    "    indicator=True\n",
    "    )\n",
    "merged_edges"
   ]
  },
  {
   "cell_type": "code",
   "execution_count": null,
   "id": "7ced7be7",
   "metadata": {},
   "outputs": [],
   "source": [
    "edges_in_both = merged_edges[merged_edges[\"_merge\"] == \"both\"].drop(columns=\"_merge\")\n",
    "sliding_window_edges_only = merged_edges[merged_edges[\"_merge\"] == \"left_only\"].drop(columns=\"_merge\")\n",
    "rn115_edges_only = merged_edges[merged_edges[\"_merge\"] == \"right_only\"].drop(columns=\"_merge\")"
   ]
  },
  {
   "cell_type": "code",
   "execution_count": null,
   "id": "8f488192",
   "metadata": {},
   "outputs": [],
   "source": [
    "tfs_in_both = edges_in_both[\"source_id\"].drop_duplicates()\n",
    "tgs_in_both = edges_in_both[\"target_id\"].drop_duplicates()\n",
    "\n",
    "print(\"Edges in both RN115 and Sliding Window:\")\n",
    "print(f\"  - TFs in both: {len(tfs_in_both):,}\")\n",
    "print(f\"  - TGs in both: {len(tgs_in_both):,}\")\n",
    "print(f\"  - TF-TG-Score Edges in both: {len(edges_in_both):,}\")\n",
    "print(f\"  - TF-TG Edges in both: {len(edges_in_both.drop_duplicates(subset=['source_id', 'target_id'])):,}\")"
   ]
  },
  {
   "cell_type": "code",
   "execution_count": null,
   "id": "844a75e7",
   "metadata": {},
   "outputs": [],
   "source": [
    "tfs_only_in_sliding_window = sliding_window_tf_tg[~sliding_window_tf_tg[\"source_id\"].isin(rn115_ko_ground_truth[\"source_id\"])][\"source_id\"].drop_duplicates()\n",
    "tgs_only_in_sliding_window = sliding_window_tf_tg[~sliding_window_tf_tg[\"target_id\"].isin(rn115_ko_ground_truth[\"target_id\"])][\"target_id\"].drop_duplicates()\n",
    "\n",
    "print(\"Only in Sliding Window:\")\n",
    "print(f\"  - TFs only in Sliding Window: {len(tfs_only_in_sliding_window):,}\")\n",
    "print(f\"  - TGs only in Sliding Window: {len(tgs_only_in_sliding_window):,}\")\n",
    "print(f\"  - TF-peak-TG Edges only in Sliding Window: {len(sliding_window_edges_only):,}\")\n",
    "print(f\"  - TF-TG Edges only in Sliding Window: {len(sliding_window_edges_only.drop_duplicates(subset=['source_id', 'target_id'])):,}\")"
   ]
  },
  {
   "cell_type": "code",
   "execution_count": null,
   "id": "9ab5015a",
   "metadata": {},
   "outputs": [],
   "source": [
    "tfs_only_in_rn115 = rn115_ko_ground_truth[~rn115_ko_ground_truth[\"source_id\"].isin(sliding_window_tf_tg[\"source_id\"])][\"source_id\"].drop_duplicates()\n",
    "tgs_only_in_rn115 = rn115_ko_ground_truth[~rn115_ko_ground_truth[\"target_id\"].isin(sliding_window_tf_tg[\"target_id\"])][\"target_id\"].drop_duplicates()\n",
    "\n",
    "print(\"Only in RN115:\")\n",
    "print(f\"  - TFs only in RN115: {len(tfs_only_in_rn115):,}\")\n",
    "print(f\"  - TGs only in RN115: {len(tgs_only_in_rn115):,}\")\n",
    "print(f\"  - Edges only in Sliding Window: {len(rn115_edges_only):,}\")"
   ]
  },
  {
   "cell_type": "code",
   "execution_count": null,
   "id": "cb143d58",
   "metadata": {},
   "outputs": [],
   "source": [
    "dev_plots.plot_true_false_distribution(\n",
    "    true_series=edges_in_both[\"sliding_window_score\"], \n",
    "    false_series=sliding_window_edges_only[\"sliding_window_score\"],\n",
    "    xlabel=\"Sliding Window Score\",\n",
    "    title=\"Sliding Window Scores\",\n",
    "    balance=True\n",
    "    )"
   ]
  },
  {
   "cell_type": "markdown",
   "id": "978f6daf",
   "metadata": {},
   "source": [
    "### Number of scores per TF-TG Edge (number of peaks)"
   ]
  },
  {
   "cell_type": "markdown",
   "id": "30990d6e",
   "metadata": {},
   "source": [
    "#### Both Sliding Window and RN115"
   ]
  },
  {
   "cell_type": "code",
   "execution_count": null,
   "id": "93e94d50",
   "metadata": {},
   "outputs": [],
   "source": [
    "edges_in_both_by_tf_tg = (\n",
    "    edges_in_both.groupby([\"source_id\", \"target_id\"])\n",
    "    .count()\n",
    "    .sort_values(by=\"sliding_window_score\", ascending=False)\n",
    "    .reset_index()\n",
    "    .rename(columns={'sliding_window_score':'Num Scores per TF-TG Edge'})\n",
    ")\n",
    "edges_in_both_by_tf_tg"
   ]
  },
  {
   "cell_type": "markdown",
   "id": "48947e33",
   "metadata": {},
   "source": [
    "#### Only in Sliding Window"
   ]
  },
  {
   "cell_type": "code",
   "execution_count": null,
   "id": "7e0a961b",
   "metadata": {},
   "outputs": [],
   "source": [
    "sliding_window_edges_only_only_by_tf_tg = (\n",
    "    sliding_window_edges_only.groupby([\"source_id\", \"target_id\"])\n",
    "    .count()\n",
    "    .sort_values(by=\"sliding_window_score\", ascending=False)\n",
    "    .reset_index()\n",
    "    .rename(columns={'sliding_window_score':'Num Scores per TF-TG Edge'})\n",
    ")\n",
    "sliding_window_edges_only_only_by_tf_tg"
   ]
  },
  {
   "cell_type": "markdown",
   "id": "aea64c25",
   "metadata": {},
   "source": [
    "### Number of scores per TF"
   ]
  },
  {
   "cell_type": "markdown",
   "id": "9427d2cb",
   "metadata": {},
   "source": [
    "#### Both Sliding Window and RN115"
   ]
  },
  {
   "cell_type": "code",
   "execution_count": null,
   "id": "3449a8a0",
   "metadata": {},
   "outputs": [],
   "source": [
    "edges_in_both_by_tf = (\n",
    "    edges_in_both\n",
    "    .groupby(\"source_id\")\n",
    "    .count()\n",
    "    .sort_values(\"target_id\", ascending=False)\n",
    "    .rename(columns={'sliding_window_score':'Num Scores per TF'})\n",
    "    ['Num Scores per TF']\n",
    "    .reset_index()\n",
    "    )\n",
    "edges_in_both_by_tf"
   ]
  },
  {
   "cell_type": "markdown",
   "id": "68c6ba21",
   "metadata": {},
   "source": [
    "#### Only in Sliding Window"
   ]
  },
  {
   "cell_type": "code",
   "execution_count": null,
   "id": "748f7769",
   "metadata": {},
   "outputs": [],
   "source": [
    "sliding_window_edges_only_by_tf = (\n",
    "    sliding_window_edges_only\n",
    "    .groupby(\"source_id\")\n",
    "    .count()\n",
    "    .sort_values(\"target_id\", ascending=False)\n",
    "    .rename(columns={'sliding_window_score':'Num Scores per TF'})\n",
    "    ['Num Scores per TF']\n",
    "    .reset_index()\n",
    "    )\n",
    "sliding_window_edges_only_by_tf"
   ]
  },
  {
   "cell_type": "markdown",
   "id": "a36ff999",
   "metadata": {},
   "source": [
    "#### Only in RN115"
   ]
  },
  {
   "cell_type": "code",
   "execution_count": null,
   "id": "20817ebb",
   "metadata": {},
   "outputs": [],
   "source": [
    "rn115_edges_only_by_tf = (\n",
    "    rn115_edges_only\n",
    "    .groupby(\"source_id\")\n",
    "    .count()\n",
    "    .sort_values(\"target_id\", ascending=False)\n",
    "    .reset_index()\n",
    "    .rename(columns={'target_id':'Number of TGs per TF'})\n",
    "    [['source_id', 'Number of TGs per TF']]\n",
    "    )\n",
    "rn115_edges_only_by_tf"
   ]
  },
  {
   "cell_type": "code",
   "execution_count": null,
   "id": "714c4312",
   "metadata": {},
   "outputs": [],
   "source": [
    "dev_plots.plot_scores_grouped_by_tf(edges_in_both_by_tf, title=\"Sliding Window Scores in RN115 - Number of Targets per TF\", height_col=\"Num Scores per TF\")"
   ]
  },
  {
   "cell_type": "code",
   "execution_count": null,
   "id": "48bad8ee",
   "metadata": {},
   "outputs": [],
   "source": [
    "edges_in_both.hist(\"sliding_window_score\", bins=150, grid=False)"
   ]
  },
  {
   "cell_type": "code",
   "execution_count": null,
   "id": "969a1faf",
   "metadata": {},
   "outputs": [],
   "source": [
    "edges_in_both.sort_values"
   ]
  },
  {
   "cell_type": "code",
   "execution_count": null,
   "id": "530691d3",
   "metadata": {},
   "outputs": [],
   "source": [
    "importlib.reload(dev_plots)\n",
    "tfs_of_interest = edges_in_both[\"source_id\"].drop_duplicates().to_list()\n",
    "dev_plots.plot_score_distribution_by_tf(\n",
    "    edges_in_both, \n",
    "    \"sliding_window_score\", \n",
    "    tfs_of_interest, \n",
    "    limit_x=False\n",
    "    )"
   ]
  },
  {
   "cell_type": "markdown",
   "id": "72d585da",
   "metadata": {},
   "source": []
  }
 ],
 "metadata": {
  "kernelspec": {
   "display_name": "my_env",
   "language": "python",
   "name": "my_env"
  },
  "language_info": {
   "codemirror_mode": {
    "name": "ipython",
    "version": 3
   },
   "file_extension": ".py",
   "mimetype": "text/x-python",
   "name": "python",
   "nbconvert_exporter": "python",
   "pygments_lexer": "ipython3",
   "version": "3.9.18"
  }
 },
 "nbformat": 4,
 "nbformat_minor": 5
}
