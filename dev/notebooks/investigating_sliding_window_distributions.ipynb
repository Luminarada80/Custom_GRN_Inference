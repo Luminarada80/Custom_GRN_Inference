{
 "cells": [
  {
   "cell_type": "markdown",
   "id": "7814650b",
   "metadata": {},
   "source": [
    "### Investigating the bimodal distribution of True scores\n",
    "\n",
    "We now have the True and False sliding window scores between the 5th and 95th percentiles. The False scores have a single broad distribution around 0.6, while the True scores are bimodal with a lower distribution around 0.375 - 0.425 and a higher distribution around 0.8 - 0.9. Next, we want to look at the lower distribution to see what is causing the high number of True values around 0.4."
   ]
  },
  {
   "cell_type": "code",
   "execution_count": null,
   "id": "76c70322",
   "metadata": {},
   "outputs": [],
   "source": [
    "!hostnamectl"
   ]
  },
  {
   "cell_type": "code",
   "execution_count": null,
   "id": "b824583e",
   "metadata": {},
   "outputs": [],
   "source": []
  },
  {
   "cell_type": "code",
   "execution_count": null,
   "id": "6bd003a2",
   "metadata": {},
   "outputs": [],
   "source": [
    "import pandas as pd\n",
    "import pandas as pd\n",
    "import matplotlib.pyplot as plt\n",
    "import random\n",
    "from sklearn.metrics import roc_curve, auc, precision_recall_curve, average_precision_score\n",
    "\n",
    "inferred_df = pd.read_parquet(\"/gpfs/Labs/Uzun/SCRIPTS/PROJECTS/2024.SINGLE_CELL_GRN_INFERENCE.MOELLER/output/DS011_mESC/DS011_mESC_sample1/labeled_inferred_grn.parquet\", engine=\"pyarrow\")\n",
    "sliding_window_score_df = inferred_df[[\"source_id\", \"peak_id\", \"target_id\", \"sliding_window_score\", \"label\"]]\n",
    "sliding_window_score_df"
   ]
  },
  {
   "cell_type": "code",
   "execution_count": null,
   "id": "0a941532",
   "metadata": {},
   "outputs": [],
   "source": [
    "def balance_dataset(df):\n",
    "    true_rows = df[df[\"label\"] == 1]\n",
    "    false_rows = df[df[\"label\"] == 0]\n",
    "\n",
    "    print(\"Before Balancing:\")\n",
    "    print(f\"  - Number of True values: {len(true_rows)}\")\n",
    "    print(f\"  - Number of False values: {len(false_rows)}\")\n",
    "\n",
    "    min_rows = min(len(true_rows), len(false_rows))\n",
    "    print(f\"\\nSubsampling down to {min_rows} rows\")\n",
    "\n",
    "    true_rows_sampled = true_rows.sample(min_rows)\n",
    "    false_rows_sampled = false_rows.sample(min_rows)\n",
    "\n",
    "    balanced_df = pd.concat([true_rows_sampled, false_rows_sampled])\n",
    "\n",
    "    balanced_true_rows = balanced_df[balanced_df[\"label\"] == 1]\n",
    "    balanced_false_rows = balanced_df[balanced_df[\"label\"] == 0]\n",
    "\n",
    "    print(\"\\nAfter Balancing:\")\n",
    "    print(f\"  - Number of True values: {len(balanced_true_rows)}\")\n",
    "    print(f\"  - Number of False values: {len(balanced_false_rows)}\")\n",
    "\n",
    "    return balanced_df"
   ]
  },
  {
   "cell_type": "code",
   "execution_count": null,
   "id": "2d8fcaf8",
   "metadata": {},
   "outputs": [],
   "source": [
    "def plot_true_false_feature_histogram(\n",
    "    df,\n",
    "    feature_col,\n",
    "    limit_x = True\n",
    "):\n",
    "\n",
    "    fig = plt.figure(figsize=(5, 4))\n",
    "    \n",
    "    true_values = df[df[\"label\"] == 1]\n",
    "    false_values = df[df[\"label\"] == 0]\n",
    "\n",
    "    plt.hist(\n",
    "        false_values[feature_col].dropna(),\n",
    "        bins=50, alpha=0.7,\n",
    "        color='#1682b1', edgecolor=\"#032b5f\",\n",
    "        label=\"False\",\n",
    "    )\n",
    "    plt.hist(\n",
    "        true_values[feature_col].dropna(),\n",
    "        bins=50, alpha=0.7,\n",
    "        color=\"#cb5f17\", edgecolor=\"#b13301\",\n",
    "        label=\"True\",\n",
    "    )\n",
    "\n",
    "    # set titles/labels on the same ax\n",
    "    plt.title(feature_col, fontsize=14)\n",
    "    plt.xlabel(feature_col, fontsize=14)\n",
    "    plt.ylabel(\"Frequency\", fontsize=14)\n",
    "    if limit_x:\n",
    "        plt.xlim(0, 1)\n",
    "\n",
    "    fig.legend(\n",
    "        loc=\"lower center\",\n",
    "        ncol=2,\n",
    "        fontsize=14,\n",
    "        bbox_to_anchor=(0.5, -0.02)\n",
    "    )\n",
    "    fig.tight_layout(rect=[0, 0.05, 1, 1])\n",
    "    plt.show()"
   ]
  }
 ],
 "metadata": {
  "kernelspec": {
   "display_name": "my_env",
   "language": "python",
   "name": "my_env"
  },
  "language_info": {
   "codemirror_mode": {
    "name": "ipython",
    "version": 3
   },
   "file_extension": ".py",
   "mimetype": "text/x-python",
   "name": "python",
   "nbconvert_exporter": "python",
   "pygments_lexer": "ipython3",
   "version": "3.9.18"
  }
 },
 "nbformat": 4,
 "nbformat_minor": 5
}
