{
 "cells": [
  {
   "cell_type": "markdown",
   "metadata": {},
   "source": [
    "Connected to my_env (Python 3.9.18)"
   ]
  },
  {
   "cell_type": "markdown",
   "metadata": {},
   "source": [
    "### Comparing ChIP-seq TF to genomic location with sliding window method predictions\n",
    "\n",
    "This notebook uses ChIP-seq peaks from ChIP-Atlas as the input for calculating sliding window TF to peak binding scores. As the sliding window score attempts to match TFs to peaks, we can check the accuracy of our methods by comparing which TFs are predicted to bind the ChIP-seq peaks against the TFs that actually bound those locations.\n",
    "\n",
    "The first thing that we need to do is to download and clean the ChIP-seq dataset to only contain the TF `gene_id`s and the formatted `peak_id`s.\n",
    "\n",
    "The ChIP-Atlas dataset we are using can be downloaded from:\n",
    "\n",
    "`wget https://chip-atlas.dbcls.jp/data/mm10/assembled/Oth.Emb.05.AllAg.AllCell.bed`\n",
    "\n",
    "This file corresponds to the following settings in the Peak Browser:\n",
    "- Species -> M. musculus (mm10)\n",
    "- Track type class -> ChIP: TFs and others\n",
    "- Cell type class -> Embryo\n",
    "- Threshold for Significance -> 50\n",
    "- Track type -> All\n",
    "- Cell type -> all"
   ]
  },
  {
   "cell_type": "code",
   "execution_count": 3,
   "metadata": {},
   "outputs": [
    {
     "name": "stdout",
     "output_type": "stream",
     "text": [
      "   Static hostname: psh01com1hcom34\n",
      "         Icon name: computer-server\n",
      "           Chassis: server\n",
      "        Machine ID: d82627f3a1704c039360f0e50457a01e\n",
      "           Boot ID: 50b0727749f04af69390482cfafad02b\n",
      "  Operating System: \u001b]8;;https://www.redhat.com/\u0007Red Hat Enterprise Linux 8.10 (Ootpa)\u001b]8;;\u0007\n",
      "       CPE OS Name: cpe:/o:redhat:enterprise_linux:8::baseos\n",
      "            Kernel: Linux 4.18.0-553.22.1.el8_10.x86_64\n",
      "      Architecture: x86-64\n"
     ]
    }
   ],
   "source": [
    "!hostnamectl"
   ]
  },
  {
   "cell_type": "code",
   "execution_count": 4,
   "metadata": {},
   "outputs": [],
   "source": [
    "import os\n",
    "import pandas as pd\n",
    "import pybedtools\n",
    "import seaborn as sns\n",
    "import matplotlib.pyplot as plt\n",
    "from grn_inference.utils import read_ground_truth, merge_dataset_with_ground_truth\n",
    "\n",
    "base_dir = \"/gpfs/Labs/Uzun/SCRIPTS/PROJECTS/2024.SINGLE_CELL_GRN_INFERENCE.MOELLER/\"\n",
    "ground_truth_dir = os.path.join(base_dir, \"ground_truth_files\")\n",
    "output_dir = os.path.join(base_dir, \"output/chipseq_sliding_window\")\n",
    "tmp_dir = os.path.join(output_dir, \"tmp\")\n",
    "\n",
    "os.makedirs(ground_truth_dir, exist_ok=True)\n",
    "os.makedirs(output_dir, exist_ok=True)\n",
    "os.makedirs(tmp_dir, exist_ok=True)"
   ]
  },
  {
   "cell_type": "code",
   "execution_count": 5,
   "metadata": {},
   "outputs": [],
   "source": [
    "def extract_gene_name(name):\n",
    "    return name.split(\"Name=\")[1].split(\"%\")[0]\n",
    "\n",
    "def format_peak_id(chrom, start, end):\n",
    "    start = str(int(start))\n",
    "    end = str(int(end))\n",
    "    return \"%s:%s-%s\" % (chrom, start, end)"
   ]
  },
  {
   "cell_type": "code",
   "execution_count": 30,
   "metadata": {},
   "outputs": [
    {
     "name": "stderr",
     "output_type": "stream",
     "text": [
      "/tmp/ipykernel_462216/3085763299.py:10: SettingWithCopyWarning: \n",
      "A value is trying to be set on a copy of a slice from a DataFrame.\n",
      "Try using .loc[row_indexer,col_indexer] = value instead\n",
      "\n",
      "See the caveats in the documentation: https://pandas.pydata.org/pandas-docs/stable/user_guide/indexing.html#returning-a-view-versus-a-copy\n",
      "  chip_bed_cleaned[\"peak_id\"] = chip_bed_cleaned.apply(lambda x: format_peak_id(x.chrom, x.start, x.end), axis=1)\n"
     ]
    },
    {
     "data": {
      "application/vnd.microsoft.datawrangler.viewer.v0+json": {
       "columns": [
        {
         "name": "index",
         "rawType": "int64",
         "type": "integer"
        },
        {
         "name": "gene_id",
         "rawType": "object",
         "type": "string"
        },
        {
         "name": "peak_id",
         "rawType": "object",
         "type": "string"
        }
       ],
       "ref": "843777b8-7f05-4ee7-b8b0-1f3603f41acd",
       "rows": [
        [
         "1",
         "Smad4",
         "chr1:3003564-3003922"
        ],
        [
         "2",
         "Ctcf",
         "chr1:3012605-3012815"
        ],
        [
         "3",
         "Ctcf",
         "chr1:3012635-3012824"
        ],
        [
         "4",
         "Epitope",
         "chr1:3031387-3031654"
        ],
        [
         "5",
         "Smad4",
         "chr1:3031454-3031677"
        ],
        [
         "6",
         "Epitope",
         "chr1:3037813-3037977"
        ],
        [
         "7",
         "Epitope",
         "chr1:3037831-3038014"
        ],
        [
         "8",
         "Creb1",
         "chr1:3042056-3042107"
        ],
        [
         "9",
         "Chd4",
         "chr1:3042840-3042993"
        ],
        [
         "10",
         "Hand2",
         "chr1:3042840-3043210"
        ],
        [
         "11",
         "Chd4",
         "chr1:3042845-3042974"
        ],
        [
         "12",
         "Klf1",
         "chr1:3042893-3043261"
        ],
        [
         "13",
         "Chd4",
         "chr1:3043042-3043236"
        ],
        [
         "14",
         "Hira",
         "chr1:3043048-3043364"
        ],
        [
         "15",
         "Chd4",
         "chr1:3043056-3043246"
        ],
        [
         "16",
         "Chd4",
         "chr1:3043095-3043239"
        ],
        [
         "17",
         "Smad1",
         "chr1:3048848-3049240"
        ],
        [
         "18",
         "Smad1",
         "chr1:3048884-3049204"
        ],
        [
         "19",
         "Smad1",
         "chr1:3048892-3049123"
        ],
        [
         "20",
         "Smad1",
         "chr1:3048924-3049137"
        ],
        [
         "21",
         "Smad1",
         "chr1:3048985-3049197"
        ],
        [
         "22",
         "Epitope",
         "chr1:3050139-3050342"
        ],
        [
         "23",
         "Epitope",
         "chr1:3050160-3050251"
        ],
        [
         "24",
         "Isl1",
         "chr1:3050169-3050323"
        ],
        [
         "25",
         "Smarca4",
         "chr1:3050170-3050252"
        ],
        [
         "26",
         "Prdm13",
         "chr1:3051439-3051494"
        ],
        [
         "27",
         "Hoxa13",
         "chr1:3054989-3055130"
        ],
        [
         "28",
         "Hoxa13",
         "chr1:3055034-3055478"
        ],
        [
         "29",
         "Hoxa13",
         "chr1:3055062-3055329"
        ],
        [
         "30",
         "Cebpa",
         "chr1:3059708-3059807"
        ],
        [
         "31",
         "Epitope",
         "chr1:3062849-3063111"
        ],
        [
         "32",
         "Hnf1b",
         "chr1:3063257-3063401"
        ],
        [
         "33",
         "Pax5",
         "chr1:3068096-3068380"
        ],
        [
         "34",
         "Gata6",
         "chr1:3072534-3072701"
        ],
        [
         "35",
         "Gata1",
         "chr1:3077207-3077399"
        ],
        [
         "36",
         "Smarca4",
         "chr1:3083162-3083320"
        ],
        [
         "37",
         "Epitope",
         "chr1:3083182-3083313"
        ],
        [
         "38",
         "Isl1",
         "chr1:3083187-3083305"
        ],
        [
         "39",
         "Epitope",
         "chr1:3083189-3083280"
        ],
        [
         "40",
         "Pax5",
         "chr1:3091675-3091891"
        ],
        [
         "41",
         "Ncor2",
         "chr1:3094752-3095214"
        ],
        [
         "42",
         "Cebpa",
         "chr1:3094760-3094900"
        ],
        [
         "43",
         "Ncor2",
         "chr1:3094784-3095161"
        ],
        [
         "44",
         "Ncor2",
         "chr1:3094789-3095260"
        ],
        [
         "45",
         "Ncor2",
         "chr1:3094795-3095175"
        ],
        [
         "46",
         "Ncor2",
         "chr1:3094799-3095182"
        ],
        [
         "47",
         "Ncor2",
         "chr1:3094823-3095143"
        ],
        [
         "48",
         "Neurog2",
         "chr1:3094824-3095063"
        ],
        [
         "49",
         "Ncor2",
         "chr1:3094827-3095149"
        ],
        [
         "50",
         "Ncor2",
         "chr1:3094854-3095103"
        ]
       ],
       "shape": {
        "columns": 2,
        "rows": 7624391
       }
      },
      "text/html": [
       "<div>\n",
       "<style scoped>\n",
       "    .dataframe tbody tr th:only-of-type {\n",
       "        vertical-align: middle;\n",
       "    }\n",
       "\n",
       "    .dataframe tbody tr th {\n",
       "        vertical-align: top;\n",
       "    }\n",
       "\n",
       "    .dataframe thead th {\n",
       "        text-align: right;\n",
       "    }\n",
       "</style>\n",
       "<table border=\"1\" class=\"dataframe\">\n",
       "  <thead>\n",
       "    <tr style=\"text-align: right;\">\n",
       "      <th></th>\n",
       "      <th>gene_id</th>\n",
       "      <th>peak_id</th>\n",
       "    </tr>\n",
       "  </thead>\n",
       "  <tbody>\n",
       "    <tr>\n",
       "      <th>1</th>\n",
       "      <td>Smad4</td>\n",
       "      <td>chr1:3003564-3003922</td>\n",
       "    </tr>\n",
       "    <tr>\n",
       "      <th>2</th>\n",
       "      <td>Ctcf</td>\n",
       "      <td>chr1:3012605-3012815</td>\n",
       "    </tr>\n",
       "    <tr>\n",
       "      <th>3</th>\n",
       "      <td>Ctcf</td>\n",
       "      <td>chr1:3012635-3012824</td>\n",
       "    </tr>\n",
       "    <tr>\n",
       "      <th>4</th>\n",
       "      <td>Epitope</td>\n",
       "      <td>chr1:3031387-3031654</td>\n",
       "    </tr>\n",
       "    <tr>\n",
       "      <th>5</th>\n",
       "      <td>Smad4</td>\n",
       "      <td>chr1:3031454-3031677</td>\n",
       "    </tr>\n",
       "    <tr>\n",
       "      <th>...</th>\n",
       "      <td>...</td>\n",
       "      <td>...</td>\n",
       "    </tr>\n",
       "    <tr>\n",
       "      <th>7624387</th>\n",
       "      <td>Rest</td>\n",
       "      <td>chrY_JH584303_random:135985-136047</td>\n",
       "    </tr>\n",
       "    <tr>\n",
       "      <th>7624388</th>\n",
       "      <td>Rest</td>\n",
       "      <td>chrY_JH584303_random:135985-136048</td>\n",
       "    </tr>\n",
       "    <tr>\n",
       "      <th>7624389</th>\n",
       "      <td>Rest</td>\n",
       "      <td>chrY_JH584303_random:135986-136045</td>\n",
       "    </tr>\n",
       "    <tr>\n",
       "      <th>7624390</th>\n",
       "      <td>Rest</td>\n",
       "      <td>chrY_JH584303_random:135989-136043</td>\n",
       "    </tr>\n",
       "    <tr>\n",
       "      <th>7624391</th>\n",
       "      <td>Rest</td>\n",
       "      <td>chrY_JH584303_random:135989-136046</td>\n",
       "    </tr>\n",
       "  </tbody>\n",
       "</table>\n",
       "<p>7624391 rows × 2 columns</p>\n",
       "</div>"
      ],
      "text/plain": [
       "         gene_id                             peak_id\n",
       "1          Smad4                chr1:3003564-3003922\n",
       "2           Ctcf                chr1:3012605-3012815\n",
       "3           Ctcf                chr1:3012635-3012824\n",
       "4        Epitope                chr1:3031387-3031654\n",
       "5          Smad4                chr1:3031454-3031677\n",
       "...          ...                                 ...\n",
       "7624387     Rest  chrY_JH584303_random:135985-136047\n",
       "7624388     Rest  chrY_JH584303_random:135985-136048\n",
       "7624389     Rest  chrY_JH584303_random:135986-136045\n",
       "7624390     Rest  chrY_JH584303_random:135989-136043\n",
       "7624391     Rest  chrY_JH584303_random:135989-136046\n",
       "\n",
       "[7624391 rows x 2 columns]"
      ]
     },
     "execution_count": 30,
     "metadata": {},
     "output_type": "execute_result"
    }
   ],
   "source": [
    "chip_bed_file = os.path.join(ground_truth_dir, \"Oth.Emb.05.AllAg.AllCell.bed\")\n",
    "chip_bed = pybedtools.BedTool(chip_bed_file)\n",
    "chip_bed_df = chip_bed.to_dataframe()\n",
    "chip_bed_nohead = chip_bed_df.iloc[1:, :].dropna()\n",
    "\n",
    "chip_bed_nohead[\"gene_id\"] = chip_bed_nohead[\"name\"].apply(extract_gene_name)\n",
    "chip_bed_cleaned = chip_bed_nohead[[\"chrom\", \"start\", \"end\", \"gene_id\"]]\n",
    "\n",
    "# Set the peak_id as the formatted peak location\n",
    "chip_bed_cleaned[\"peak_id\"] = chip_bed_cleaned.apply(lambda x: format_peak_id(x.chrom, x.start, x.end), axis=1)\n",
    "\n",
    "chip_tf_to_peak = chip_bed_cleaned[[\"gene_id\", \"peak_id\"]]\n",
    "chip_tf_to_peak"
   ]
  },
  {
   "cell_type": "markdown",
   "metadata": {},
   "source": [
    "Now that we have the ChIP-Atlas peaks in the format that we want, we can save it to the ground truth directory for later"
   ]
  },
  {
   "cell_type": "code",
   "execution_count": 5,
   "metadata": {},
   "outputs": [],
   "source": [
    "chip_tf_to_peak.to_csv(os.path.join(ground_truth_dir, \"chipatlas_mESC.csv\"), header=True, index=False)"
   ]
  },
  {
   "cell_type": "markdown",
   "metadata": {},
   "source": [
    "### Creating the Homer peaks file"
   ]
  },
  {
   "cell_type": "markdown",
   "metadata": {},
   "source": [
    "Next, we need to format the peaks to follow the same requirements as the Homer peaks file. The sliding window method also uses this format for convenience.\n",
    "\n",
    "> HOMER peak files should have at minimum 5 columns (separated by TABs, additional columns will be ignored:\n",
    "> - Column1: Unique Peak ID\n",
    "> - Column2: chromosome\n",
    "> - Column3: starting position\n",
    "> - Column4: ending position\n",
    "> - Column5: Strand (+/- or 0/1, where 0=\"+\", 1=\"-\")"
   ]
  },
  {
   "cell_type": "code",
   "execution_count": 6,
   "metadata": {},
   "outputs": [
    {
     "data": {
      "application/vnd.microsoft.datawrangler.viewer.v0+json": {
       "columns": [
        {
         "name": "index",
         "rawType": "int64",
         "type": "integer"
        },
        {
         "name": "gene_id",
         "rawType": "object",
         "type": "string"
        },
        {
         "name": "peak_id",
         "rawType": "object",
         "type": "string"
        }
       ],
       "ref": "ff06bbe6-b206-4743-9949-ef1b902058d7",
       "rows": [
        [
         "0",
         "ASCL1",
         "chr5:114173037-114173222"
        ],
        [
         "1",
         "ASCL1",
         "chr5:114173103-114173157"
        ],
        [
         "2",
         "ASCL1",
         "chr11:114795327-114795552"
        ],
        [
         "3",
         "ASCL1",
         "chr11:114795386-114795436"
        ],
        [
         "4",
         "ASCL1",
         "chr7:28302269-28302413"
        ],
        [
         "5",
         "ASCL1",
         "chr7:28302297-28302333"
        ],
        [
         "6",
         "ASCL1",
         "chr4:45165638-45165690"
        ],
        [
         "7",
         "ASCL1",
         "chr1:91414164-91414296"
        ],
        [
         "8",
         "ASCL1",
         "chr11:99948882-99948990"
        ],
        [
         "9",
         "ASCL1",
         "chr11:99949354-99949471"
        ],
        [
         "10",
         "ASCL1",
         "chr7:16944450-16944602"
        ],
        [
         "11",
         "ASCL1",
         "chr7:16944543-16944579"
        ],
        [
         "12",
         "ASCL1",
         "chr16:17208887-17209158"
        ],
        [
         "13",
         "ASCL1",
         "chr16:17208911-17209098"
        ],
        [
         "14",
         "ASCL1",
         "chr12:69159305-69159352"
        ],
        [
         "15",
         "ASCL1",
         "chr12:69159541-69159585"
        ],
        [
         "16",
         "ASCL1",
         "chr7:109439436-109439650"
        ],
        [
         "17",
         "ASCL1",
         "chr7:109439484-109439607"
        ],
        [
         "18",
         "ATRX",
         "chr10:83727061-83727120"
        ],
        [
         "19",
         "ATRX",
         "chr10:83875137-83875269"
        ],
        [
         "20",
         "ATRX",
         "chr10:83899670-83899815"
        ],
        [
         "21",
         "ATRX",
         "chr17:46770156-46770208"
        ],
        [
         "22",
         "ATRX",
         "chr7:81797437-81797516"
        ],
        [
         "23",
         "ATRX",
         "chr16:64690908-64690961"
        ],
        [
         "24",
         "ATRX",
         "chr16:64774085-64774142"
        ],
        [
         "25",
         "ATRX",
         "chr11:31922592-31922858"
        ],
        [
         "26",
         "ATRX",
         "chr1:26454612-26454858"
        ],
        [
         "27",
         "ATRX",
         "chr1:26788148-26788220"
        ],
        [
         "28",
         "ATRX",
         "chr1:26965028-26965100"
        ],
        [
         "29",
         "ATRX",
         "chr1:27008311-27008380"
        ],
        [
         "30",
         "ATRX",
         "chr11:110311096-110311159"
        ],
        [
         "31",
         "ATRX",
         "chr7:84233572-84233661"
        ],
        [
         "32",
         "ATRX",
         "chr4:40019431-40019505"
        ],
        [
         "33",
         "ATRX",
         "chr4:40029845-40029975"
        ],
        [
         "34",
         "ATRX",
         "chr4:40040074-40040125"
        ],
        [
         "35",
         "ATRX",
         "chr1:78626637-78626730"
        ],
        [
         "36",
         "ATRX",
         "chr3:32662921-32662985"
        ],
        [
         "37",
         "ATRX",
         "chr1:124915771-124915833"
        ],
        [
         "38",
         "ATRX",
         "chr1:124936584-124936658"
        ],
        [
         "39",
         "ATRX",
         "chr1:125018583-125018641"
        ],
        [
         "40",
         "ATRX",
         "chr8:88307728-88307793"
        ],
        [
         "41",
         "ATRX",
         "chr19:53117157-53117214"
        ],
        [
         "42",
         "ATRX",
         "chr5:49687498-49687612"
        ],
        [
         "43",
         "ATRX",
         "chr9:59183703-59183760"
        ],
        [
         "44",
         "ATRX",
         "chr9:59220986-59221040"
        ],
        [
         "45",
         "ATRX",
         "chr8:53449138-53449188"
        ],
        [
         "46",
         "ATRX",
         "chr8:53464376-53464438"
        ],
        [
         "47",
         "ATRX",
         "chr8:53548993-53549052"
        ],
        [
         "48",
         "ATRX",
         "chr13:95396143-95396193"
        ],
        [
         "49",
         "ATRX",
         "chr3:116833375-116833464"
        ]
       ],
       "shape": {
        "columns": 2,
        "rows": 1721462
       }
      },
      "text/html": [
       "<div>\n",
       "<style scoped>\n",
       "    .dataframe tbody tr th:only-of-type {\n",
       "        vertical-align: middle;\n",
       "    }\n",
       "\n",
       "    .dataframe tbody tr th {\n",
       "        vertical-align: top;\n",
       "    }\n",
       "\n",
       "    .dataframe thead th {\n",
       "        text-align: right;\n",
       "    }\n",
       "</style>\n",
       "<table border=\"1\" class=\"dataframe\">\n",
       "  <thead>\n",
       "    <tr style=\"text-align: right;\">\n",
       "      <th></th>\n",
       "      <th>gene_id</th>\n",
       "      <th>peak_id</th>\n",
       "    </tr>\n",
       "  </thead>\n",
       "  <tbody>\n",
       "    <tr>\n",
       "      <th>0</th>\n",
       "      <td>ASCL1</td>\n",
       "      <td>chr5:114173037-114173222</td>\n",
       "    </tr>\n",
       "    <tr>\n",
       "      <th>1</th>\n",
       "      <td>ASCL1</td>\n",
       "      <td>chr5:114173103-114173157</td>\n",
       "    </tr>\n",
       "    <tr>\n",
       "      <th>2</th>\n",
       "      <td>ASCL1</td>\n",
       "      <td>chr11:114795327-114795552</td>\n",
       "    </tr>\n",
       "    <tr>\n",
       "      <th>3</th>\n",
       "      <td>ASCL1</td>\n",
       "      <td>chr11:114795386-114795436</td>\n",
       "    </tr>\n",
       "    <tr>\n",
       "      <th>4</th>\n",
       "      <td>ASCL1</td>\n",
       "      <td>chr7:28302269-28302413</td>\n",
       "    </tr>\n",
       "    <tr>\n",
       "      <th>...</th>\n",
       "      <td>...</td>\n",
       "      <td>...</td>\n",
       "    </tr>\n",
       "    <tr>\n",
       "      <th>1721457</th>\n",
       "      <td>ZFP281</td>\n",
       "      <td>chr4:119422622-119422859</td>\n",
       "    </tr>\n",
       "    <tr>\n",
       "      <th>1721458</th>\n",
       "      <td>ZFP281</td>\n",
       "      <td>chr2:165900305-165900542</td>\n",
       "    </tr>\n",
       "    <tr>\n",
       "      <th>1721459</th>\n",
       "      <td>ZFP281</td>\n",
       "      <td>chr2:165906423-165906828</td>\n",
       "    </tr>\n",
       "    <tr>\n",
       "      <th>1721460</th>\n",
       "      <td>ZFP281</td>\n",
       "      <td>chr2:165922264-165922501</td>\n",
       "    </tr>\n",
       "    <tr>\n",
       "      <th>1721461</th>\n",
       "      <td>ZFP281</td>\n",
       "      <td>chr13:107861369-107861692</td>\n",
       "    </tr>\n",
       "  </tbody>\n",
       "</table>\n",
       "<p>1721462 rows × 2 columns</p>\n",
       "</div>"
      ],
      "text/plain": [
       "        gene_id                    peak_id\n",
       "0         ASCL1   chr5:114173037-114173222\n",
       "1         ASCL1   chr5:114173103-114173157\n",
       "2         ASCL1  chr11:114795327-114795552\n",
       "3         ASCL1  chr11:114795386-114795436\n",
       "4         ASCL1     chr7:28302269-28302413\n",
       "...         ...                        ...\n",
       "1721457  ZFP281   chr4:119422622-119422859\n",
       "1721458  ZFP281   chr2:165900305-165900542\n",
       "1721459  ZFP281   chr2:165906423-165906828\n",
       "1721460  ZFP281   chr2:165922264-165922501\n",
       "1721461  ZFP281  chr13:107861369-107861692\n",
       "\n",
       "[1721462 rows x 2 columns]"
      ]
     },
     "execution_count": 6,
     "metadata": {},
     "output_type": "execute_result"
    }
   ],
   "source": [
    "# NOTE: I am overriding the workflow to load in the dataset of overlapping ChIP-Atlas and BEELINE edges\n",
    "# See \"map_chip_atlas_to_beeline_ground_truth.ipynb\" for how this was created.\n",
    "chip_bed_cleaned = pd.read_csv(os.path.join(ground_truth_dir, \"chipatlas_beeline_mESC_shared_edges.csv\"), header=0, index_col=False)\n",
    "chip_bed_cleaned[\"peak_id\"] = chip_bed_cleaned.apply(lambda x: format_peak_id(x.chrom, x.start, x.end), axis=1)\n",
    "chip_tf_to_peak = chip_bed_cleaned[[\"source_id\", \"peak_id\"]].rename(columns={\"source_id\":\"gene_id\"})\n",
    "chip_tf_to_peak"
   ]
  },
  {
   "cell_type": "code",
   "execution_count": 31,
   "metadata": {},
   "outputs": [
    {
     "name": "stderr",
     "output_type": "stream",
     "text": [
      "/tmp/ipykernel_462216/2201842266.py:3: SettingWithCopyWarning: \n",
      "A value is trying to be set on a copy of a slice from a DataFrame.\n",
      "Try using .loc[row_indexer,col_indexer] = value instead\n",
      "\n",
      "See the caveats in the documentation: https://pandas.pydata.org/pandas-docs/stable/user_guide/indexing.html#returning-a-view-versus-a-copy\n",
      "  homer_peaks[\"start\"] = round(homer_peaks[\"start\"].astype(int),0)\n",
      "/tmp/ipykernel_462216/2201842266.py:4: SettingWithCopyWarning: \n",
      "A value is trying to be set on a copy of a slice from a DataFrame.\n",
      "Try using .loc[row_indexer,col_indexer] = value instead\n",
      "\n",
      "See the caveats in the documentation: https://pandas.pydata.org/pandas-docs/stable/user_guide/indexing.html#returning-a-view-versus-a-copy\n",
      "  homer_peaks[\"end\"] = round(homer_peaks[\"end\"].astype(int),0)\n"
     ]
    },
    {
     "data": {
      "application/vnd.microsoft.datawrangler.viewer.v0+json": {
       "columns": [
        {
         "name": "index",
         "rawType": "int64",
         "type": "integer"
        },
        {
         "name": "chrom",
         "rawType": "object",
         "type": "string"
        },
        {
         "name": "start",
         "rawType": "int64",
         "type": "integer"
        },
        {
         "name": "end",
         "rawType": "int64",
         "type": "integer"
        },
        {
         "name": "peak_id",
         "rawType": "object",
         "type": "string"
        }
       ],
       "ref": "4cabfa4c-66ab-489e-adcc-2fdceccb7fe7",
       "rows": [
        [
         "1",
         "chr1",
         "3003564",
         "3003922",
         "chr1:3003564-3003922"
        ],
        [
         "2",
         "chr1",
         "3012605",
         "3012815",
         "chr1:3012605-3012815"
        ],
        [
         "3",
         "chr1",
         "3012635",
         "3012824",
         "chr1:3012635-3012824"
        ],
        [
         "4",
         "chr1",
         "3031387",
         "3031654",
         "chr1:3031387-3031654"
        ],
        [
         "5",
         "chr1",
         "3031454",
         "3031677",
         "chr1:3031454-3031677"
        ],
        [
         "6",
         "chr1",
         "3037813",
         "3037977",
         "chr1:3037813-3037977"
        ],
        [
         "7",
         "chr1",
         "3037831",
         "3038014",
         "chr1:3037831-3038014"
        ],
        [
         "8",
         "chr1",
         "3042056",
         "3042107",
         "chr1:3042056-3042107"
        ],
        [
         "9",
         "chr1",
         "3042840",
         "3042993",
         "chr1:3042840-3042993"
        ],
        [
         "10",
         "chr1",
         "3042840",
         "3043210",
         "chr1:3042840-3043210"
        ],
        [
         "11",
         "chr1",
         "3042845",
         "3042974",
         "chr1:3042845-3042974"
        ],
        [
         "12",
         "chr1",
         "3042893",
         "3043261",
         "chr1:3042893-3043261"
        ],
        [
         "13",
         "chr1",
         "3043042",
         "3043236",
         "chr1:3043042-3043236"
        ],
        [
         "14",
         "chr1",
         "3043048",
         "3043364",
         "chr1:3043048-3043364"
        ],
        [
         "15",
         "chr1",
         "3043056",
         "3043246",
         "chr1:3043056-3043246"
        ],
        [
         "16",
         "chr1",
         "3043095",
         "3043239",
         "chr1:3043095-3043239"
        ],
        [
         "17",
         "chr1",
         "3048848",
         "3049240",
         "chr1:3048848-3049240"
        ],
        [
         "18",
         "chr1",
         "3048884",
         "3049204",
         "chr1:3048884-3049204"
        ],
        [
         "19",
         "chr1",
         "3048892",
         "3049123",
         "chr1:3048892-3049123"
        ],
        [
         "20",
         "chr1",
         "3048924",
         "3049137",
         "chr1:3048924-3049137"
        ],
        [
         "21",
         "chr1",
         "3048985",
         "3049197",
         "chr1:3048985-3049197"
        ],
        [
         "22",
         "chr1",
         "3050139",
         "3050342",
         "chr1:3050139-3050342"
        ],
        [
         "23",
         "chr1",
         "3050160",
         "3050251",
         "chr1:3050160-3050251"
        ],
        [
         "24",
         "chr1",
         "3050169",
         "3050323",
         "chr1:3050169-3050323"
        ],
        [
         "25",
         "chr1",
         "3050170",
         "3050252",
         "chr1:3050170-3050252"
        ],
        [
         "26",
         "chr1",
         "3051439",
         "3051494",
         "chr1:3051439-3051494"
        ],
        [
         "27",
         "chr1",
         "3054989",
         "3055130",
         "chr1:3054989-3055130"
        ],
        [
         "28",
         "chr1",
         "3055034",
         "3055478",
         "chr1:3055034-3055478"
        ],
        [
         "29",
         "chr1",
         "3055062",
         "3055329",
         "chr1:3055062-3055329"
        ],
        [
         "30",
         "chr1",
         "3059708",
         "3059807",
         "chr1:3059708-3059807"
        ],
        [
         "31",
         "chr1",
         "3062849",
         "3063111",
         "chr1:3062849-3063111"
        ],
        [
         "32",
         "chr1",
         "3063257",
         "3063401",
         "chr1:3063257-3063401"
        ],
        [
         "33",
         "chr1",
         "3068096",
         "3068380",
         "chr1:3068096-3068380"
        ],
        [
         "34",
         "chr1",
         "3072534",
         "3072701",
         "chr1:3072534-3072701"
        ],
        [
         "35",
         "chr1",
         "3077207",
         "3077399",
         "chr1:3077207-3077399"
        ],
        [
         "36",
         "chr1",
         "3083162",
         "3083320",
         "chr1:3083162-3083320"
        ],
        [
         "37",
         "chr1",
         "3083182",
         "3083313",
         "chr1:3083182-3083313"
        ],
        [
         "38",
         "chr1",
         "3083187",
         "3083305",
         "chr1:3083187-3083305"
        ],
        [
         "39",
         "chr1",
         "3083189",
         "3083280",
         "chr1:3083189-3083280"
        ],
        [
         "40",
         "chr1",
         "3091675",
         "3091891",
         "chr1:3091675-3091891"
        ],
        [
         "41",
         "chr1",
         "3094752",
         "3095214",
         "chr1:3094752-3095214"
        ],
        [
         "42",
         "chr1",
         "3094760",
         "3094900",
         "chr1:3094760-3094900"
        ],
        [
         "43",
         "chr1",
         "3094784",
         "3095161",
         "chr1:3094784-3095161"
        ],
        [
         "44",
         "chr1",
         "3094789",
         "3095260",
         "chr1:3094789-3095260"
        ],
        [
         "45",
         "chr1",
         "3094795",
         "3095175",
         "chr1:3094795-3095175"
        ],
        [
         "46",
         "chr1",
         "3094799",
         "3095182",
         "chr1:3094799-3095182"
        ],
        [
         "47",
         "chr1",
         "3094823",
         "3095143",
         "chr1:3094823-3095143"
        ],
        [
         "48",
         "chr1",
         "3094824",
         "3095063",
         "chr1:3094824-3095063"
        ],
        [
         "49",
         "chr1",
         "3094827",
         "3095149",
         "chr1:3094827-3095149"
        ],
        [
         "50",
         "chr1",
         "3094854",
         "3095103",
         "chr1:3094854-3095103"
        ]
       ],
       "shape": {
        "columns": 4,
        "rows": 7624391
       }
      },
      "text/html": [
       "<div>\n",
       "<style scoped>\n",
       "    .dataframe tbody tr th:only-of-type {\n",
       "        vertical-align: middle;\n",
       "    }\n",
       "\n",
       "    .dataframe tbody tr th {\n",
       "        vertical-align: top;\n",
       "    }\n",
       "\n",
       "    .dataframe thead th {\n",
       "        text-align: right;\n",
       "    }\n",
       "</style>\n",
       "<table border=\"1\" class=\"dataframe\">\n",
       "  <thead>\n",
       "    <tr style=\"text-align: right;\">\n",
       "      <th></th>\n",
       "      <th>chrom</th>\n",
       "      <th>start</th>\n",
       "      <th>end</th>\n",
       "      <th>peak_id</th>\n",
       "    </tr>\n",
       "  </thead>\n",
       "  <tbody>\n",
       "    <tr>\n",
       "      <th>1</th>\n",
       "      <td>chr1</td>\n",
       "      <td>3003564</td>\n",
       "      <td>3003922</td>\n",
       "      <td>chr1:3003564-3003922</td>\n",
       "    </tr>\n",
       "    <tr>\n",
       "      <th>2</th>\n",
       "      <td>chr1</td>\n",
       "      <td>3012605</td>\n",
       "      <td>3012815</td>\n",
       "      <td>chr1:3012605-3012815</td>\n",
       "    </tr>\n",
       "    <tr>\n",
       "      <th>3</th>\n",
       "      <td>chr1</td>\n",
       "      <td>3012635</td>\n",
       "      <td>3012824</td>\n",
       "      <td>chr1:3012635-3012824</td>\n",
       "    </tr>\n",
       "    <tr>\n",
       "      <th>4</th>\n",
       "      <td>chr1</td>\n",
       "      <td>3031387</td>\n",
       "      <td>3031654</td>\n",
       "      <td>chr1:3031387-3031654</td>\n",
       "    </tr>\n",
       "    <tr>\n",
       "      <th>5</th>\n",
       "      <td>chr1</td>\n",
       "      <td>3031454</td>\n",
       "      <td>3031677</td>\n",
       "      <td>chr1:3031454-3031677</td>\n",
       "    </tr>\n",
       "    <tr>\n",
       "      <th>...</th>\n",
       "      <td>...</td>\n",
       "      <td>...</td>\n",
       "      <td>...</td>\n",
       "      <td>...</td>\n",
       "    </tr>\n",
       "    <tr>\n",
       "      <th>7624387</th>\n",
       "      <td>chrY_JH584303_random</td>\n",
       "      <td>135985</td>\n",
       "      <td>136047</td>\n",
       "      <td>chrY_JH584303_random:135985-136047</td>\n",
       "    </tr>\n",
       "    <tr>\n",
       "      <th>7624388</th>\n",
       "      <td>chrY_JH584303_random</td>\n",
       "      <td>135985</td>\n",
       "      <td>136048</td>\n",
       "      <td>chrY_JH584303_random:135985-136048</td>\n",
       "    </tr>\n",
       "    <tr>\n",
       "      <th>7624389</th>\n",
       "      <td>chrY_JH584303_random</td>\n",
       "      <td>135986</td>\n",
       "      <td>136045</td>\n",
       "      <td>chrY_JH584303_random:135986-136045</td>\n",
       "    </tr>\n",
       "    <tr>\n",
       "      <th>7624390</th>\n",
       "      <td>chrY_JH584303_random</td>\n",
       "      <td>135989</td>\n",
       "      <td>136043</td>\n",
       "      <td>chrY_JH584303_random:135989-136043</td>\n",
       "    </tr>\n",
       "    <tr>\n",
       "      <th>7624391</th>\n",
       "      <td>chrY_JH584303_random</td>\n",
       "      <td>135989</td>\n",
       "      <td>136046</td>\n",
       "      <td>chrY_JH584303_random:135989-136046</td>\n",
       "    </tr>\n",
       "  </tbody>\n",
       "</table>\n",
       "<p>7624391 rows × 4 columns</p>\n",
       "</div>"
      ],
      "text/plain": [
       "                        chrom    start      end  \\\n",
       "1                        chr1  3003564  3003922   \n",
       "2                        chr1  3012605  3012815   \n",
       "3                        chr1  3012635  3012824   \n",
       "4                        chr1  3031387  3031654   \n",
       "5                        chr1  3031454  3031677   \n",
       "...                       ...      ...      ...   \n",
       "7624387  chrY_JH584303_random   135985   136047   \n",
       "7624388  chrY_JH584303_random   135985   136048   \n",
       "7624389  chrY_JH584303_random   135986   136045   \n",
       "7624390  chrY_JH584303_random   135989   136043   \n",
       "7624391  chrY_JH584303_random   135989   136046   \n",
       "\n",
       "                                    peak_id  \n",
       "1                      chr1:3003564-3003922  \n",
       "2                      chr1:3012605-3012815  \n",
       "3                      chr1:3012635-3012824  \n",
       "4                      chr1:3031387-3031654  \n",
       "5                      chr1:3031454-3031677  \n",
       "...                                     ...  \n",
       "7624387  chrY_JH584303_random:135985-136047  \n",
       "7624388  chrY_JH584303_random:135985-136048  \n",
       "7624389  chrY_JH584303_random:135986-136045  \n",
       "7624390  chrY_JH584303_random:135989-136043  \n",
       "7624391  chrY_JH584303_random:135989-136046  \n",
       "\n",
       "[7624391 rows x 4 columns]"
      ]
     },
     "execution_count": 31,
     "metadata": {},
     "output_type": "execute_result"
    }
   ],
   "source": [
    "# Format the DataFrame to follow the requirements for the Homer peaks file (used for both Homer and sliding window)\n",
    "homer_peaks = chip_bed_cleaned[[\"peak_id\", \"chrom\", \"start\", \"end\"]]\n",
    "homer_peaks[\"start\"] = round(homer_peaks[\"start\"].astype(int),0)\n",
    "homer_peaks[\"end\"] = round(homer_peaks[\"end\"].astype(int),0)\n",
    "homer_peaks = homer_peaks[[\"chrom\", \"start\", \"end\", \"peak_id\"]]\n",
    "homer_peaks"
   ]
  },
  {
   "cell_type": "code",
   "execution_count": 11,
   "metadata": {},
   "outputs": [
    {
     "data": {
      "application/vnd.microsoft.datawrangler.viewer.v0+json": {
       "columns": [
        {
         "name": "index",
         "rawType": "int64",
         "type": "integer"
        },
        {
         "name": "source_id",
         "rawType": "object",
         "type": "string"
        },
        {
         "name": "target_id",
         "rawType": "object",
         "type": "string"
        }
       ],
       "ref": "97203270-0adb-4d4c-9086-74764c757374",
       "rows": [
        [
         "0",
         "ADNP",
         "MIS18BP1"
        ],
        [
         "1",
         "ADNP",
         "EXD1"
        ],
        [
         "2",
         "ADNP",
         "CHP1"
        ],
        [
         "3",
         "ADNP",
         "OSCAR"
        ],
        [
         "4",
         "ADNP",
         "NDUFA3"
        ],
        [
         "5",
         "ADNP",
         "BSPRY"
        ],
        [
         "6",
         "ADNP",
         "RFWD3"
        ],
        [
         "7",
         "ADNP",
         "IGFBP4"
        ],
        [
         "8",
         "ADNP",
         "LRCH1"
        ],
        [
         "9",
         "ADNP",
         "ZPR1"
        ],
        [
         "10",
         "ADNP",
         "ZDHHC6"
        ],
        [
         "11",
         "ADNP",
         "VTI1A"
        ],
        [
         "12",
         "ADNP",
         "CYP21A1"
        ],
        [
         "13",
         "ADNP",
         "SRF"
        ],
        [
         "14",
         "ADNP",
         "RAMAC"
        ],
        [
         "15",
         "ADNP",
         "DNM1L"
        ],
        [
         "16",
         "ADNP",
         "CRTAC1"
        ],
        [
         "17",
         "ADNP",
         "GNE"
        ],
        [
         "18",
         "ADNP",
         "GPCPD1"
        ],
        [
         "19",
         "ADNP",
         "TMEM51"
        ],
        [
         "20",
         "ADNP",
         "CWF19L2"
        ],
        [
         "21",
         "ADNP",
         "JUP"
        ],
        [
         "22",
         "ADNP",
         "PRSS50"
        ],
        [
         "23",
         "ADNP",
         "SNHG11"
        ],
        [
         "24",
         "ADNP",
         "TJP2"
        ],
        [
         "25",
         "ADNP",
         "CLCN4"
        ],
        [
         "26",
         "ADNP",
         "PFAS"
        ],
        [
         "27",
         "ADNP",
         "RTN2"
        ],
        [
         "28",
         "ADNP",
         "TMEM221"
        ],
        [
         "29",
         "ADNP",
         "ABHD16A"
        ],
        [
         "30",
         "ADNP",
         "LSM10"
        ],
        [
         "31",
         "ADNP",
         "PIEZO1"
        ],
        [
         "32",
         "ADNP",
         "PLEKHG4"
        ],
        [
         "33",
         "ADNP",
         "PADI4"
        ],
        [
         "34",
         "ADNP",
         "DPEP3"
        ],
        [
         "35",
         "ADNP",
         "MED16"
        ],
        [
         "36",
         "ADNP",
         "RSL1D1"
        ],
        [
         "37",
         "ADNP",
         "ANKRD33"
        ],
        [
         "38",
         "ADNP",
         "MKRN2"
        ],
        [
         "39",
         "ADNP",
         "AP4E1"
        ],
        [
         "40",
         "ADNP",
         "ZFP647"
        ],
        [
         "41",
         "ADNP",
         "FBXO4"
        ],
        [
         "42",
         "ADNP",
         "B230219D22RIK"
        ],
        [
         "43",
         "ADNP",
         "DDX59"
        ],
        [
         "44",
         "ADNP",
         "GABPB2"
        ],
        [
         "45",
         "ADNP",
         "ALOX12"
        ],
        [
         "46",
         "ADNP",
         "FAM198B"
        ],
        [
         "47",
         "ADNP",
         "RNF135"
        ],
        [
         "48",
         "ADNP",
         "MESP1"
        ],
        [
         "49",
         "ADNP",
         "NLRX1"
        ]
       ],
       "shape": {
        "columns": 2,
        "rows": 977841
       }
      },
      "text/html": [
       "<div>\n",
       "<style scoped>\n",
       "    .dataframe tbody tr th:only-of-type {\n",
       "        vertical-align: middle;\n",
       "    }\n",
       "\n",
       "    .dataframe tbody tr th {\n",
       "        vertical-align: top;\n",
       "    }\n",
       "\n",
       "    .dataframe thead th {\n",
       "        text-align: right;\n",
       "    }\n",
       "</style>\n",
       "<table border=\"1\" class=\"dataframe\">\n",
       "  <thead>\n",
       "    <tr style=\"text-align: right;\">\n",
       "      <th></th>\n",
       "      <th>source_id</th>\n",
       "      <th>target_id</th>\n",
       "    </tr>\n",
       "  </thead>\n",
       "  <tbody>\n",
       "    <tr>\n",
       "      <th>0</th>\n",
       "      <td>ADNP</td>\n",
       "      <td>MIS18BP1</td>\n",
       "    </tr>\n",
       "    <tr>\n",
       "      <th>1</th>\n",
       "      <td>ADNP</td>\n",
       "      <td>EXD1</td>\n",
       "    </tr>\n",
       "    <tr>\n",
       "      <th>2</th>\n",
       "      <td>ADNP</td>\n",
       "      <td>CHP1</td>\n",
       "    </tr>\n",
       "    <tr>\n",
       "      <th>3</th>\n",
       "      <td>ADNP</td>\n",
       "      <td>OSCAR</td>\n",
       "    </tr>\n",
       "    <tr>\n",
       "      <th>4</th>\n",
       "      <td>ADNP</td>\n",
       "      <td>NDUFA3</td>\n",
       "    </tr>\n",
       "    <tr>\n",
       "      <th>...</th>\n",
       "      <td>...</td>\n",
       "      <td>...</td>\n",
       "    </tr>\n",
       "    <tr>\n",
       "      <th>977836</th>\n",
       "      <td>ZIC3</td>\n",
       "      <td>ZFP36L3</td>\n",
       "    </tr>\n",
       "    <tr>\n",
       "      <th>977837</th>\n",
       "      <td>ZIC3</td>\n",
       "      <td>ZFP499</td>\n",
       "    </tr>\n",
       "    <tr>\n",
       "      <th>977838</th>\n",
       "      <td>ZIC3</td>\n",
       "      <td>ZFP57</td>\n",
       "    </tr>\n",
       "    <tr>\n",
       "      <th>977839</th>\n",
       "      <td>ZIC3</td>\n",
       "      <td>ZFP91</td>\n",
       "    </tr>\n",
       "    <tr>\n",
       "      <th>977840</th>\n",
       "      <td>ZIC3</td>\n",
       "      <td>ZIC5</td>\n",
       "    </tr>\n",
       "  </tbody>\n",
       "</table>\n",
       "<p>977841 rows × 2 columns</p>\n",
       "</div>"
      ],
      "text/plain": [
       "       source_id target_id\n",
       "0           ADNP  MIS18BP1\n",
       "1           ADNP      EXD1\n",
       "2           ADNP      CHP1\n",
       "3           ADNP     OSCAR\n",
       "4           ADNP    NDUFA3\n",
       "...          ...       ...\n",
       "977836      ZIC3   ZFP36L3\n",
       "977837      ZIC3    ZFP499\n",
       "977838      ZIC3     ZFP57\n",
       "977839      ZIC3     ZFP91\n",
       "977840      ZIC3      ZIC5\n",
       "\n",
       "[977841 rows x 2 columns]"
      ]
     },
     "execution_count": 11,
     "metadata": {},
     "output_type": "execute_result"
    }
   ],
   "source": [
    "from grn_inference.utils import read_ground_truth\n",
    "rn111_chipseq_ground_truth = read_ground_truth(\"/gpfs/Labs/Uzun/DATA/PROJECTS/2024.SC_MO_TRN_DB.MIRA/REPOSITORY/CURRENT/REFERENCE_NETWORKS/RN111_ChIPSeq_BEELINE_Mouse_ESC.tsv\").drop(columns=[\"Relationship\"])\n",
    "rn111_chipseq_ground_truth['source_id'] = rn111_chipseq_ground_truth['source_id'].str.upper()\n",
    "rn111_chipseq_ground_truth['target_id'] = rn111_chipseq_ground_truth['target_id'].str.upper()\n",
    "rn111_chipseq_ground_truth"
   ]
  },
  {
   "cell_type": "markdown",
   "metadata": {},
   "source": [
    "This is a huge file - we dont need to test the method using all of them. We will take a sample to run the scoring on."
   ]
  },
  {
   "cell_type": "code",
   "execution_count": 24,
   "metadata": {},
   "outputs": [],
   "source": [
    "homer_peaks_sample = homer_peaks.sample(frac=0.05)"
   ]
  },
  {
   "cell_type": "markdown",
   "metadata": {},
   "source": [
    "If we save the ChIP-seq peaks as `homer_peaks.txt` to the `tmp` directory of the output folder, then they will be used to calculate the sliding window and Homer scores"
   ]
  },
  {
   "cell_type": "code",
   "execution_count": 4,
   "metadata": {},
   "outputs": [],
   "source": [
    "homer_peak_path = os.path.join(tmp_dir, \"homer_peaks.txt\")"
   ]
  },
  {
   "cell_type": "code",
   "execution_count": 16,
   "metadata": {},
   "outputs": [],
   "source": [
    "homer_peaks.to_csv(homer_peak_path, sep=\"\\t\", header=True, index=False)"
   ]
  },
  {
   "cell_type": "markdown",
   "metadata": {},
   "source": [
    "Reload `homer_peaks` if needed"
   ]
  },
  {
   "cell_type": "code",
   "execution_count": 13,
   "metadata": {},
   "outputs": [],
   "source": [
    "homer_peaks = pd.read_csv(homer_peak_path, sep=\"\\t\", header=0, index_col=None)"
   ]
  },
  {
   "cell_type": "code",
   "execution_count": 32,
   "metadata": {},
   "outputs": [
    {
     "data": {
      "application/vnd.microsoft.datawrangler.viewer.v0+json": {
       "columns": [
        {
         "name": "index",
         "rawType": "int64",
         "type": "integer"
        },
        {
         "name": "chrom",
         "rawType": "object",
         "type": "string"
        },
        {
         "name": "start",
         "rawType": "int64",
         "type": "integer"
        },
        {
         "name": "end",
         "rawType": "int64",
         "type": "integer"
        },
        {
         "name": "peak_id",
         "rawType": "object",
         "type": "string"
        }
       ],
       "ref": "6c7c639a-d007-4352-9ec7-438b28ea77c2",
       "rows": [
        [
         "1",
         "chr1",
         "3003564",
         "3003922",
         "chr1:3003564-3003922"
        ],
        [
         "2",
         "chr1",
         "3012605",
         "3012815",
         "chr1:3012605-3012815"
        ],
        [
         "3",
         "chr1",
         "3012635",
         "3012824",
         "chr1:3012635-3012824"
        ],
        [
         "4",
         "chr1",
         "3031387",
         "3031654",
         "chr1:3031387-3031654"
        ],
        [
         "5",
         "chr1",
         "3031454",
         "3031677",
         "chr1:3031454-3031677"
        ],
        [
         "6",
         "chr1",
         "3037813",
         "3037977",
         "chr1:3037813-3037977"
        ],
        [
         "7",
         "chr1",
         "3037831",
         "3038014",
         "chr1:3037831-3038014"
        ],
        [
         "8",
         "chr1",
         "3042056",
         "3042107",
         "chr1:3042056-3042107"
        ],
        [
         "9",
         "chr1",
         "3042840",
         "3042993",
         "chr1:3042840-3042993"
        ],
        [
         "10",
         "chr1",
         "3042840",
         "3043210",
         "chr1:3042840-3043210"
        ],
        [
         "11",
         "chr1",
         "3042845",
         "3042974",
         "chr1:3042845-3042974"
        ],
        [
         "12",
         "chr1",
         "3042893",
         "3043261",
         "chr1:3042893-3043261"
        ],
        [
         "13",
         "chr1",
         "3043042",
         "3043236",
         "chr1:3043042-3043236"
        ],
        [
         "14",
         "chr1",
         "3043048",
         "3043364",
         "chr1:3043048-3043364"
        ],
        [
         "15",
         "chr1",
         "3043056",
         "3043246",
         "chr1:3043056-3043246"
        ],
        [
         "16",
         "chr1",
         "3043095",
         "3043239",
         "chr1:3043095-3043239"
        ],
        [
         "17",
         "chr1",
         "3048848",
         "3049240",
         "chr1:3048848-3049240"
        ],
        [
         "18",
         "chr1",
         "3048884",
         "3049204",
         "chr1:3048884-3049204"
        ],
        [
         "19",
         "chr1",
         "3048892",
         "3049123",
         "chr1:3048892-3049123"
        ],
        [
         "20",
         "chr1",
         "3048924",
         "3049137",
         "chr1:3048924-3049137"
        ],
        [
         "21",
         "chr1",
         "3048985",
         "3049197",
         "chr1:3048985-3049197"
        ],
        [
         "22",
         "chr1",
         "3050139",
         "3050342",
         "chr1:3050139-3050342"
        ],
        [
         "23",
         "chr1",
         "3050160",
         "3050251",
         "chr1:3050160-3050251"
        ],
        [
         "24",
         "chr1",
         "3050169",
         "3050323",
         "chr1:3050169-3050323"
        ],
        [
         "25",
         "chr1",
         "3050170",
         "3050252",
         "chr1:3050170-3050252"
        ],
        [
         "26",
         "chr1",
         "3051439",
         "3051494",
         "chr1:3051439-3051494"
        ],
        [
         "27",
         "chr1",
         "3054989",
         "3055130",
         "chr1:3054989-3055130"
        ],
        [
         "28",
         "chr1",
         "3055034",
         "3055478",
         "chr1:3055034-3055478"
        ],
        [
         "29",
         "chr1",
         "3055062",
         "3055329",
         "chr1:3055062-3055329"
        ],
        [
         "30",
         "chr1",
         "3059708",
         "3059807",
         "chr1:3059708-3059807"
        ],
        [
         "31",
         "chr1",
         "3062849",
         "3063111",
         "chr1:3062849-3063111"
        ],
        [
         "32",
         "chr1",
         "3063257",
         "3063401",
         "chr1:3063257-3063401"
        ],
        [
         "33",
         "chr1",
         "3068096",
         "3068380",
         "chr1:3068096-3068380"
        ],
        [
         "34",
         "chr1",
         "3072534",
         "3072701",
         "chr1:3072534-3072701"
        ],
        [
         "35",
         "chr1",
         "3077207",
         "3077399",
         "chr1:3077207-3077399"
        ],
        [
         "36",
         "chr1",
         "3083162",
         "3083320",
         "chr1:3083162-3083320"
        ],
        [
         "37",
         "chr1",
         "3083182",
         "3083313",
         "chr1:3083182-3083313"
        ],
        [
         "38",
         "chr1",
         "3083187",
         "3083305",
         "chr1:3083187-3083305"
        ],
        [
         "39",
         "chr1",
         "3083189",
         "3083280",
         "chr1:3083189-3083280"
        ],
        [
         "40",
         "chr1",
         "3091675",
         "3091891",
         "chr1:3091675-3091891"
        ],
        [
         "41",
         "chr1",
         "3094752",
         "3095214",
         "chr1:3094752-3095214"
        ],
        [
         "42",
         "chr1",
         "3094760",
         "3094900",
         "chr1:3094760-3094900"
        ],
        [
         "43",
         "chr1",
         "3094784",
         "3095161",
         "chr1:3094784-3095161"
        ],
        [
         "44",
         "chr1",
         "3094789",
         "3095260",
         "chr1:3094789-3095260"
        ],
        [
         "45",
         "chr1",
         "3094795",
         "3095175",
         "chr1:3094795-3095175"
        ],
        [
         "46",
         "chr1",
         "3094799",
         "3095182",
         "chr1:3094799-3095182"
        ],
        [
         "47",
         "chr1",
         "3094823",
         "3095143",
         "chr1:3094823-3095143"
        ],
        [
         "48",
         "chr1",
         "3094824",
         "3095063",
         "chr1:3094824-3095063"
        ],
        [
         "49",
         "chr1",
         "3094827",
         "3095149",
         "chr1:3094827-3095149"
        ],
        [
         "50",
         "chr1",
         "3094854",
         "3095103",
         "chr1:3094854-3095103"
        ]
       ],
       "shape": {
        "columns": 4,
        "rows": 7624391
       }
      },
      "text/html": [
       "<div>\n",
       "<style scoped>\n",
       "    .dataframe tbody tr th:only-of-type {\n",
       "        vertical-align: middle;\n",
       "    }\n",
       "\n",
       "    .dataframe tbody tr th {\n",
       "        vertical-align: top;\n",
       "    }\n",
       "\n",
       "    .dataframe thead th {\n",
       "        text-align: right;\n",
       "    }\n",
       "</style>\n",
       "<table border=\"1\" class=\"dataframe\">\n",
       "  <thead>\n",
       "    <tr style=\"text-align: right;\">\n",
       "      <th></th>\n",
       "      <th>chrom</th>\n",
       "      <th>start</th>\n",
       "      <th>end</th>\n",
       "      <th>peak_id</th>\n",
       "    </tr>\n",
       "  </thead>\n",
       "  <tbody>\n",
       "    <tr>\n",
       "      <th>1</th>\n",
       "      <td>chr1</td>\n",
       "      <td>3003564</td>\n",
       "      <td>3003922</td>\n",
       "      <td>chr1:3003564-3003922</td>\n",
       "    </tr>\n",
       "    <tr>\n",
       "      <th>2</th>\n",
       "      <td>chr1</td>\n",
       "      <td>3012605</td>\n",
       "      <td>3012815</td>\n",
       "      <td>chr1:3012605-3012815</td>\n",
       "    </tr>\n",
       "    <tr>\n",
       "      <th>3</th>\n",
       "      <td>chr1</td>\n",
       "      <td>3012635</td>\n",
       "      <td>3012824</td>\n",
       "      <td>chr1:3012635-3012824</td>\n",
       "    </tr>\n",
       "    <tr>\n",
       "      <th>4</th>\n",
       "      <td>chr1</td>\n",
       "      <td>3031387</td>\n",
       "      <td>3031654</td>\n",
       "      <td>chr1:3031387-3031654</td>\n",
       "    </tr>\n",
       "    <tr>\n",
       "      <th>5</th>\n",
       "      <td>chr1</td>\n",
       "      <td>3031454</td>\n",
       "      <td>3031677</td>\n",
       "      <td>chr1:3031454-3031677</td>\n",
       "    </tr>\n",
       "    <tr>\n",
       "      <th>...</th>\n",
       "      <td>...</td>\n",
       "      <td>...</td>\n",
       "      <td>...</td>\n",
       "      <td>...</td>\n",
       "    </tr>\n",
       "    <tr>\n",
       "      <th>7624387</th>\n",
       "      <td>chrY_JH584303_random</td>\n",
       "      <td>135985</td>\n",
       "      <td>136047</td>\n",
       "      <td>chrY_JH584303_random:135985-136047</td>\n",
       "    </tr>\n",
       "    <tr>\n",
       "      <th>7624388</th>\n",
       "      <td>chrY_JH584303_random</td>\n",
       "      <td>135985</td>\n",
       "      <td>136048</td>\n",
       "      <td>chrY_JH584303_random:135985-136048</td>\n",
       "    </tr>\n",
       "    <tr>\n",
       "      <th>7624389</th>\n",
       "      <td>chrY_JH584303_random</td>\n",
       "      <td>135986</td>\n",
       "      <td>136045</td>\n",
       "      <td>chrY_JH584303_random:135986-136045</td>\n",
       "    </tr>\n",
       "    <tr>\n",
       "      <th>7624390</th>\n",
       "      <td>chrY_JH584303_random</td>\n",
       "      <td>135989</td>\n",
       "      <td>136043</td>\n",
       "      <td>chrY_JH584303_random:135989-136043</td>\n",
       "    </tr>\n",
       "    <tr>\n",
       "      <th>7624391</th>\n",
       "      <td>chrY_JH584303_random</td>\n",
       "      <td>135989</td>\n",
       "      <td>136046</td>\n",
       "      <td>chrY_JH584303_random:135989-136046</td>\n",
       "    </tr>\n",
       "  </tbody>\n",
       "</table>\n",
       "<p>7624391 rows × 4 columns</p>\n",
       "</div>"
      ],
      "text/plain": [
       "                        chrom    start      end  \\\n",
       "1                        chr1  3003564  3003922   \n",
       "2                        chr1  3012605  3012815   \n",
       "3                        chr1  3012635  3012824   \n",
       "4                        chr1  3031387  3031654   \n",
       "5                        chr1  3031454  3031677   \n",
       "...                       ...      ...      ...   \n",
       "7624387  chrY_JH584303_random   135985   136047   \n",
       "7624388  chrY_JH584303_random   135985   136048   \n",
       "7624389  chrY_JH584303_random   135986   136045   \n",
       "7624390  chrY_JH584303_random   135989   136043   \n",
       "7624391  chrY_JH584303_random   135989   136046   \n",
       "\n",
       "                                    peak_id  \n",
       "1                      chr1:3003564-3003922  \n",
       "2                      chr1:3012605-3012815  \n",
       "3                      chr1:3012635-3012824  \n",
       "4                      chr1:3031387-3031654  \n",
       "5                      chr1:3031454-3031677  \n",
       "...                                     ...  \n",
       "7624387  chrY_JH584303_random:135985-136047  \n",
       "7624388  chrY_JH584303_random:135985-136048  \n",
       "7624389  chrY_JH584303_random:135986-136045  \n",
       "7624390  chrY_JH584303_random:135989-136043  \n",
       "7624391  chrY_JH584303_random:135989-136046  \n",
       "\n",
       "[7624391 rows x 4 columns]"
      ]
     },
     "execution_count": 32,
     "metadata": {},
     "output_type": "execute_result"
    }
   ],
   "source": [
    "homer_peaks"
   ]
  },
  {
   "cell_type": "code",
   "execution_count": 35,
   "metadata": {},
   "outputs": [
    {
     "name": "stdout",
     "output_type": "stream",
     "text": [
      "Ensembl gene TSS BED file exists, loading...\n",
      "  Loading /gpfs/Labs/Uzun/SCRIPTS/PROJECTS/2024.SINGLE_CELL_GRN_INFERENCE.MOELLER/output/chipseq_sliding_window/tmp/ensembl.parquet\n",
      "   chrom  start   end  gene_id\n",
      "0  chrMT      1     2    mt-Tf\n",
      "1  chrMT     70    71  mt-Rnr1\n",
      "2  chrMT   1025  1026    mt-Tv\n",
      "3  chrMT   1094  1095  mt-Rnr2\n",
      "4  chrMT   2676  2677   mt-Tl1\n",
      "  chrom    start      end               peak_id\n",
      "1  chr1  3003564  3003922  chr1:3003564-3003922\n",
      "2  chr1  3012605  3012815  chr1:3012605-3012815\n",
      "3  chr1  3012635  3012824  chr1:3012635-3012824\n",
      "4  chr1  3031387  3031654  chr1:3031387-3031654\n",
      "5  chr1  3031454  3031677  chr1:3031454-3031677\n",
      "(7624391, 4)\n",
      "\t- Peaks with a nearby TSS: 23,201\n"
     ]
    }
   ],
   "source": [
    "from pybiomart import Server\n",
    "import numpy as np\n",
    "from typing import Union\n",
    "import grn_inference.utils as utils\n",
    "\n",
    "import importlib\n",
    "importlib.reload(utils)\n",
    "\n",
    "def load_ensembl_organism_tss(organism, tmp_dir):\n",
    "    if not os.path.exists(os.path.join(tmp_dir, \"ensembl.parquet\")):\n",
    "        print(f\"Loading Ensembl TSS locations for {organism}\")\n",
    "        # Connect to the Ensembl BioMart server\n",
    "        server = Server(host='http://www.ensembl.org')\n",
    "\n",
    "        gene_ensembl_name = f'{organism}_gene_ensembl'\n",
    "        \n",
    "        # Select the Ensembl Mart dataset\n",
    "        mart = server['ENSEMBL_MART_ENSEMBL']\n",
    "        try:\n",
    "            dataset = mart[gene_ensembl_name]\n",
    "        except KeyError:\n",
    "            raise RuntimeError(f\"BioMart dataset {gene_ensembl_name} not found. Check if ‘{organism}’ is correct.\")\n",
    "\n",
    "        # Query for attributes: Ensembl gene ID, gene name, strand, and transcription start site (TSS)\n",
    "        ensembl_df = dataset.query(attributes=[\n",
    "            'external_gene_name', \n",
    "            'strand', \n",
    "            'chromosome_name',\n",
    "            'transcription_start_site'\n",
    "        ])\n",
    "\n",
    "        ensembl_df.rename(columns={\n",
    "            \"Chromosome/scaffold name\": \"chr\",\n",
    "            \"Transcription start site (TSS)\": \"tss\",\n",
    "            \"Gene name\": \"gene_id\"\n",
    "        }, inplace=True)\n",
    "        \n",
    "        # Make sure TSS is integer (some might be floats).\n",
    "        ensembl_df[\"tss\"] = ensembl_df[\"tss\"].astype(int)\n",
    "\n",
    "        # In a BED file, we’ll store TSS as [start, end) = [tss, tss+1)\n",
    "        ensembl_df[\"start\"] = ensembl_df[\"tss\"].astype(int)\n",
    "        ensembl_df[\"end\"] = ensembl_df[\"tss\"].astype(int) + 1\n",
    "\n",
    "        # Re-order columns for clarity: [chr, start, end, gene]\n",
    "        ensembl_df = ensembl_df[[\"chr\", \"start\", \"end\", \"gene_id\"]]\n",
    "        \n",
    "        ensembl_df[\"chr\"] = ensembl_df[\"chr\"].astype(str)\n",
    "        ensembl_df[\"gene_id\"] = ensembl_df[\"gene_id\"].astype(str)\n",
    "        \n",
    "        # Write the peak DataFrame to a file\n",
    "        ensembl_df.to_parquet(os.path.join(tmp_dir, \"ensembl.parquet\"), engine=\"pyarrow\", index=False, compression=\"snappy\")\n",
    "        \n",
    "    else:\n",
    "        print(\"Ensembl gene TSS BED file exists, loading...\")\n",
    "        print(f\"  Loading {os.path.join(tmp_dir, 'ensembl.parquet')}\")\n",
    "        ensembl_df = pd.read_parquet(os.path.join(tmp_dir, \"ensembl.parquet\"), engine=\"pyarrow\")\n",
    "    \n",
    "    return ensembl_df\n",
    "\n",
    "def calculate_tss_distance_score(\n",
    "    peak_bed: pybedtools.BedTool, \n",
    "    tss_bed: pybedtools.BedTool, \n",
    "    gene_names: set[str], \n",
    "    tss_distance_cutoff: Union[int, float] = 1e6\n",
    "    ):\n",
    "    \"\"\"\n",
    "    Identify genes whose transcription start sites (TSS) are near scATAC-seq peaks.\n",
    "    \n",
    "    This function:\n",
    "        1. Calculates the absolute distances between peaks and gene TSSs within `tss_distance_cutoff`.\n",
    "        2. Scales peak to gene distances using an exponential drop-off function (e^-dist/250000),\n",
    "           the same method used in the LINGER cis-regulatory potential calculation.\n",
    "        3. Deduplicates the data to keep the minimum (i.e., best) peak-to-gene connection.\n",
    "        4. Only keeps genes that are present in the RNA-seq dataset.\n",
    "        \n",
    "    Args:\n",
    "        peak_bed (pybedtools.BedTool):\n",
    "            BedTool object representing scATAC-seq peaks.\n",
    "        tss_bed (pybedtools.BedTool):\n",
    "            BedTool object representing gene TSS locations.\n",
    "        gene_names (set[str]):\n",
    "            Set of gene names from the scRNA-seq dataset.\n",
    "        tss_distance_cutoff (int): \n",
    "            The maximum distance (in bp) from a TSS to consider a peak as potentially regulatory.\n",
    "        \n",
    "    Returns:\n",
    "        peak_tss_subset_df (pandas.DataFrame): \n",
    "            A DataFrame containing columns \"peak_id\", \"target_id\", and the scaled TSS distance \"TSS_dist\"\n",
    "            for peak–gene pairs.\n",
    "    \"\"\"\n",
    "                \n",
    "    \n",
    "    # sort on the fly to enable bedtools streaming\n",
    "    peak_bed = peak_bed.sort(stream=True)\n",
    "    tss_bed  = tss_bed.sort(stream=True)\n",
    "\n",
    "    # nearest TSS only, with distance column appended\n",
    "    # (bedtools closest -d -t first)\n",
    "    res = peak_bed.closest(tss_bed, d=True, t=\"first\")\n",
    "\n",
    "    df = res.to_dataframe(\n",
    "        names=[\n",
    "            \"peak_chr\",\"peak_start\",\"peak_end\",\"peak_id\",\n",
    "            \"gene_chr\",\"gene_start\",\"gene_end\",\"target_id\",\n",
    "            \"TSS_dist\"\n",
    "        ],\n",
    "        # let pandas infer dtypes to avoid costly coercions\n",
    "        low_memory=True,\n",
    "    )\n",
    "\n",
    "    # keep only genes present in your RNA data (case-insensitive)\n",
    "    if gene_names:\n",
    "        gset = {g.upper() for g in gene_names}\n",
    "        df = df[df[\"target_id\"].str.upper().isin(gset)]\n",
    "\n",
    "    # enforce cutoff (closest may be farther than cutoff)\n",
    "    df = df[df[\"TSS_dist\"] <= tss_distance_cutoff]\n",
    "\n",
    "    # score = exp(-dist/250000) like LINGER\n",
    "    df[\"TSS_dist_score\"] = np.exp(-df[\"TSS_dist\"] / 250_000.0)\n",
    "\n",
    "    # keep minimal columns (already nearest, so no dedupe needed)\n",
    "    out = df.loc[:, [\"peak_id\", \"target_id\", \"TSS_dist_score\"]].copy()\n",
    "\n",
    "    print(f\"\\t- Peaks with a nearby TSS: {out['peak_id'].nunique():,}\")\n",
    "    return out\n",
    "\n",
    "organism = \"mmusculus\"\n",
    "\n",
    "if not os.path.exists(os.path.join(output_dir, \"tss_distance_score.parquet\")):\n",
    "        \n",
    "        tss_df: pd.DataFrame = load_ensembl_organism_tss(organism, tmp_dir)\n",
    "        \n",
    "        if \"chr\" in tss_df.columns:\n",
    "            tss_df = tss_df.rename(columns={\"chr\": \"chrom\"})\n",
    "        \n",
    "        # Make sure that each chromosome starts with \"chr\"\n",
    "        tss_df[\"chrom\"] = np.where(\n",
    "            tss_df[\"chrom\"].astype(str).str.startswith(\"chr\"),\n",
    "            tss_df[\"chrom\"],\n",
    "            \"chr\" + tss_df[\"chrom\"].astype(str)\n",
    "        )\n",
    "        \n",
    "        tss_df = tss_df.rename(columns={\"chr\": \"chrom\"})\n",
    "        print(tss_df.head())\n",
    "        print(homer_peaks.head())\n",
    "        print(homer_peaks.shape)\n",
    "                \n",
    "        homer_peaks = homer_peaks[[\"chrom\", \"start\", \"end\", \"peak_id\"]]\n",
    "        tss_df = tss_df[[\"chrom\", \"start\", \"end\", \"gene_id\"]]\n",
    "\n",
    "        pybedtools.set_tempdir(tmp_dir)\n",
    "        try:\n",
    "            peak_bed = pybedtools.BedTool.from_dataframe(homer_peaks)\n",
    "            tss_bed = pybedtools.BedTool.from_dataframe(tss_df)\n",
    "            \n",
    "            assert os.path.isdir(output_dir), \"`output_dir` is not a directory\"\n",
    "            \n",
    "            gene_names = set([gene for gene in chip_tf_to_peak[\"gene_id\"]])\n",
    "\n",
    "\n",
    "            peak_tss_subset_df = calculate_tss_distance_score(\n",
    "                peak_bed,\n",
    "                tss_bed,\n",
    "                gene_names,\n",
    "                1_000_000\n",
    "            )\n",
    "            \n",
    "            # peak_tss_subset_df = minmax_normalize_pandas(\n",
    "            #     df=peak_tss_subset_df, \n",
    "            #     score_cols=[\"TSS_dist_score\"], \n",
    "            #     )\n",
    "                \n",
    "            peak_tss_subset_df.to_parquet(os.path.join(output_dir, \"tss_distance_score.parquet\"), index=False, engine=\"pyarrow\", compression=\"snappy\")\n",
    "        finally:\n",
    "            pybedtools.helpers.cleanup(verbose=False, remove_all=True) \n",
    "else:\n",
    "    print('TSS distance file exists, loading...')\n",
    "    peak_tss_subset_df = pd.read_parquet(os.path.join(output_dir, \"tss_distance_score.parquet\"), engine=\"pyarrow\")"
   ]
  },
  {
   "cell_type": "markdown",
   "metadata": {},
   "source": [
    "Next, we run `run_sliding_window_on_chipseq_peaks.sh` in the `dev/testing_scripts` directory"
   ]
  },
  {
   "cell_type": "code",
   "execution_count": 38,
   "metadata": {
    "vscode": {
     "languageId": "shellscript"
    }
   },
   "outputs": [
    {
     "name": "stdout",
     "output_type": "stream",
     "text": [
      "Submitted batch job 3384960\n"
     ]
    }
   ],
   "source": [
    "!sbatch /gpfs/Labs/Uzun/SCRIPTS/PROJECTS/2024.SINGLE_CELL_GRN_INFERENCE.MOELLER/dev/testing_scripts/run_sliding_window_on_chipseq_peaks.sh"
   ]
  },
  {
   "cell_type": "markdown",
   "metadata": {},
   "source": [
    "Once the sliding window calculation is done, we can read in the output."
   ]
  },
  {
   "cell_type": "code",
   "execution_count": 39,
   "metadata": {},
   "outputs": [
    {
     "data": {
      "application/vnd.microsoft.datawrangler.viewer.v0+json": {
       "columns": [
        {
         "name": "index",
         "rawType": "int64",
         "type": "integer"
        },
        {
         "name": "peak_id",
         "rawType": "string",
         "type": "string"
        },
        {
         "name": "source_id",
         "rawType": "string",
         "type": "string"
        },
        {
         "name": "sliding_window_score",
         "rawType": "float64",
         "type": "float"
        }
       ],
       "ref": "e0016731-0173-4059-91b1-00b36d097c79",
       "rows": [
        [
         "0",
         "chr17:46704666-46705502",
         "Ascl1",
         "18836.15778403197"
        ],
        [
         "1",
         "chr17:3456010-3456318",
         "Ascl1",
         "6543.452178075161"
        ],
        [
         "2",
         "chr17:56255512-56256229",
         "Ascl1",
         "15508.13375354141"
        ],
        [
         "3",
         "chr17:69382560-69382744",
         "Ascl1",
         "4256.191542079553"
        ],
        [
         "4",
         "chr17:86555341-86555555",
         "Ascl1",
         "4312.891573704562"
        ],
        [
         "5",
         "chr17:44261838-44262175",
         "Ascl1",
         "7177.730538504027"
        ],
        [
         "6",
         "chr17:56700233-56700292",
         "Ascl1",
         "1178.673701268108"
        ],
        [
         "7",
         "chr17:27908721-27909052",
         "Ascl1",
         "7008.981092690075"
        ],
        [
         "8",
         "chr17:94553443-94553848",
         "Ascl1",
         "8126.636266935853"
        ],
        [
         "9",
         "chr17:28232449-28232704",
         "Ascl1",
         "5679.633775138152"
        ],
        [
         "10",
         "chr17:36231269-36231810",
         "Ascl1",
         "12186.63725487651"
        ],
        [
         "11",
         "chr17:56010696-56011050",
         "Ascl1",
         "7778.109033523234"
        ],
        [
         "12",
         "chr17:58701475-58701587",
         "Ascl1",
         "2294.297042890067"
        ],
        [
         "13",
         "chr17:70527243-70527495",
         "Ascl1",
         "5191.873754412414"
        ],
        [
         "14",
         "chr17:81655915-81655965",
         "Ascl1",
         "953.0206402336735"
        ],
        [
         "15",
         "chr17:56036563-56037048",
         "Ascl1",
         "10666.161770478739"
        ],
        [
         "16",
         "chr17:33843026-33843460",
         "Ascl1",
         "9845.041518371303"
        ],
        [
         "17",
         "chr17:46576167-46576363",
         "Ascl1",
         "4224.8454094243"
        ],
        [
         "18",
         "chr17:35235591-35236537",
         "Ascl1",
         "20731.738714858526"
        ],
        [
         "19",
         "chr17:56201642-56201928",
         "Ascl1",
         "6126.845030028055"
        ],
        [
         "20",
         "chr17:84790139-84791058",
         "Ascl1",
         "20957.26122352681"
        ],
        [
         "21",
         "chr17:12036136-12036687",
         "Ascl1",
         "11464.519932838055"
        ],
        [
         "22",
         "chr17:67779922-67780038",
         "Ascl1",
         "2407.015609548793"
        ],
        [
         "23",
         "chr17:47033712-47033983",
         "Ascl1",
         "5600.06801314008"
        ],
        [
         "24",
         "chr17:35232099-35232325",
         "Ascl1",
         "4771.974379401634"
        ],
        [
         "25",
         "chr17:28079729-28079889",
         "Ascl1",
         "3461.9077015287526"
        ],
        [
         "26",
         "chr17:26120099-26120485",
         "Ascl1",
         "8458.400093217657"
        ],
        [
         "27",
         "chr17:45548531-45548950",
         "Ascl1",
         "9031.588282607257"
        ],
        [
         "28",
         "chr17:44261838-44262147",
         "Ascl1",
         "6526.872303017126"
        ],
        [
         "29",
         "chr17:56950907-56951321",
         "Ascl1",
         "8630.272564235098"
        ],
        [
         "30",
         "chr17:8147517-8147918",
         "Ascl1",
         "9313.982503682722"
        ],
        [
         "31",
         "chr17:33033172-33033348",
         "Ascl1",
         "3675.962873050475"
        ],
        [
         "32",
         "chr17:31018289-31018662",
         "Ascl1",
         "7922.1968986316515"
        ],
        [
         "33",
         "chr17:84874601-84874984",
         "Ascl1",
         "8156.938307387184"
        ],
        [
         "34",
         "chr17:27702555-27703014",
         "Ascl1",
         "10313.540362634682"
        ],
        [
         "35",
         "chr17:24039984-24040305",
         "Ascl1",
         "6671.690644058816"
        ],
        [
         "36",
         "chr17:26276773-26277029",
         "Ascl1",
         "5220.843663598118"
        ],
        [
         "37",
         "chr17:28084960-28085304",
         "Ascl1",
         "7470.8044350650225"
        ],
        [
         "38",
         "chr17:21534595-21534734",
         "Ascl1",
         "2782.0027961010433"
        ],
        [
         "39",
         "chr17:56036581-56036972",
         "Ascl1",
         "8594.745290084733"
        ],
        [
         "40",
         "chr17:30590828-30591216",
         "Ascl1",
         "8290.63268079807"
        ],
        [
         "41",
         "chr17:71671893-71672226",
         "Ascl1",
         "7258.035804302437"
        ],
        [
         "42",
         "chr17:43016243-43016628",
         "Ascl1",
         "8258.903602343895"
        ],
        [
         "43",
         "chr17:31492577-31492864",
         "Ascl1",
         "6165.043332871626"
        ],
        [
         "44",
         "chr17:86906061-86906517",
         "Ascl1",
         "9582.259837254882"
        ],
        [
         "45",
         "chr17:8988120-8988382",
         "Ascl1",
         "5633.902360290947"
        ],
        [
         "46",
         "chr17:29032393-29032615",
         "Ascl1",
         "5114.325867761621"
        ],
        [
         "47",
         "chr17:86535840-86536141",
         "Ascl1",
         "6145.217875682351"
        ],
        [
         "48",
         "chr17:79354761-79355048",
         "Ascl1",
         "6562.654028055989"
        ],
        [
         "49",
         "chr17:24676212-24676526",
         "Ascl1",
         "6724.402009240674"
        ]
       ],
       "shape": {
        "columns": 3,
        "rows": 7488351
       }
      },
      "text/html": [
       "<div>\n",
       "<style scoped>\n",
       "    .dataframe tbody tr th:only-of-type {\n",
       "        vertical-align: middle;\n",
       "    }\n",
       "\n",
       "    .dataframe tbody tr th {\n",
       "        vertical-align: top;\n",
       "    }\n",
       "\n",
       "    .dataframe thead th {\n",
       "        text-align: right;\n",
       "    }\n",
       "</style>\n",
       "<table border=\"1\" class=\"dataframe\">\n",
       "  <thead>\n",
       "    <tr style=\"text-align: right;\">\n",
       "      <th></th>\n",
       "      <th>peak_id</th>\n",
       "      <th>source_id</th>\n",
       "      <th>sliding_window_score</th>\n",
       "    </tr>\n",
       "  </thead>\n",
       "  <tbody>\n",
       "    <tr>\n",
       "      <th>0</th>\n",
       "      <td>chr17:46704666-46705502</td>\n",
       "      <td>Ascl1</td>\n",
       "      <td>18836.157784</td>\n",
       "    </tr>\n",
       "    <tr>\n",
       "      <th>1</th>\n",
       "      <td>chr17:3456010-3456318</td>\n",
       "      <td>Ascl1</td>\n",
       "      <td>6543.452178</td>\n",
       "    </tr>\n",
       "    <tr>\n",
       "      <th>2</th>\n",
       "      <td>chr17:56255512-56256229</td>\n",
       "      <td>Ascl1</td>\n",
       "      <td>15508.133754</td>\n",
       "    </tr>\n",
       "    <tr>\n",
       "      <th>3</th>\n",
       "      <td>chr17:69382560-69382744</td>\n",
       "      <td>Ascl1</td>\n",
       "      <td>4256.191542</td>\n",
       "    </tr>\n",
       "    <tr>\n",
       "      <th>4</th>\n",
       "      <td>chr17:86555341-86555555</td>\n",
       "      <td>Ascl1</td>\n",
       "      <td>4312.891574</td>\n",
       "    </tr>\n",
       "    <tr>\n",
       "      <th>...</th>\n",
       "      <td>...</td>\n",
       "      <td>...</td>\n",
       "      <td>...</td>\n",
       "    </tr>\n",
       "    <tr>\n",
       "      <th>7488346</th>\n",
       "      <td>chr11:51936197-51936397</td>\n",
       "      <td>Zfp335</td>\n",
       "      <td>7371.634079</td>\n",
       "    </tr>\n",
       "    <tr>\n",
       "      <th>7488347</th>\n",
       "      <td>chr11:100846598-100846664</td>\n",
       "      <td>Zfp335</td>\n",
       "      <td>2121.398070</td>\n",
       "    </tr>\n",
       "    <tr>\n",
       "      <th>7488348</th>\n",
       "      <td>chr11:108891288-108891643</td>\n",
       "      <td>Zfp335</td>\n",
       "      <td>13014.262983</td>\n",
       "    </tr>\n",
       "    <tr>\n",
       "      <th>7488349</th>\n",
       "      <td>chr11:87771063-87771282</td>\n",
       "      <td>Zfp335</td>\n",
       "      <td>8039.550073</td>\n",
       "    </tr>\n",
       "    <tr>\n",
       "      <th>7488350</th>\n",
       "      <td>chr11:81983172-81983477</td>\n",
       "      <td>Zfp335</td>\n",
       "      <td>10882.620457</td>\n",
       "    </tr>\n",
       "  </tbody>\n",
       "</table>\n",
       "<p>7488351 rows × 3 columns</p>\n",
       "</div>"
      ],
      "text/plain": [
       "                           peak_id source_id  sliding_window_score\n",
       "0          chr17:46704666-46705502     Ascl1          18836.157784\n",
       "1            chr17:3456010-3456318     Ascl1           6543.452178\n",
       "2          chr17:56255512-56256229     Ascl1          15508.133754\n",
       "3          chr17:69382560-69382744     Ascl1           4256.191542\n",
       "4          chr17:86555341-86555555     Ascl1           4312.891574\n",
       "...                            ...       ...                   ...\n",
       "7488346    chr11:51936197-51936397    Zfp335           7371.634079\n",
       "7488347  chr11:100846598-100846664    Zfp335           2121.398070\n",
       "7488348  chr11:108891288-108891643    Zfp335          13014.262983\n",
       "7488349    chr11:87771063-87771282    Zfp335           8039.550073\n",
       "7488350    chr11:81983172-81983477    Zfp335          10882.620457\n",
       "\n",
       "[7488351 rows x 3 columns]"
      ]
     },
     "execution_count": 39,
     "metadata": {},
     "output_type": "execute_result"
    }
   ],
   "source": [
    "\n",
    "sliding_window_df = pd.read_parquet(os.path.join(output_dir, \"no_norm_sliding_window_tf_to_peak_score.parquet\"), engine=\"pyarrow\")\n",
    "sliding_window_df = sliding_window_df.reset_index(drop=True)\n",
    "sliding_window_df"
   ]
  },
  {
   "cell_type": "markdown",
   "metadata": {},
   "source": [
    "We can use the `chip_tf_to_peak` object that we created from the ChIP-Atlas file to check our work. Since we sampled the ChIP-Atlas peaks before running the sliding window calculations, we need to subset `chip_tf_to_peak` to only contain those peaks."
   ]
  },
  {
   "cell_type": "code",
   "execution_count": 40,
   "metadata": {},
   "outputs": [
    {
     "name": "stderr",
     "output_type": "stream",
     "text": [
      "/gpfs/Labs/Uzun/SCRIPTS/PROJECTS/2024.SINGLE_CELL_GRN_INFERENCE.MOELLER/output/chipseq_sliding_window/tmp/ipykernel_462216/3625471141.py:2: SettingWithCopyWarning: \n",
      "A value is trying to be set on a copy of a slice from a DataFrame.\n",
      "Try using .loc[row_indexer,col_indexer] = value instead\n",
      "\n",
      "See the caveats in the documentation: https://pandas.pydata.org/pandas-docs/stable/user_guide/indexing.html#returning-a-view-versus-a-copy\n",
      "  chip_tf_to_peak[\"gene_id\"] = chip_tf_to_peak[\"gene_id\"].str.upper()\n"
     ]
    }
   ],
   "source": [
    "sliding_window_df[\"source_id\"] = sliding_window_df[\"source_id\"].str.upper()\n",
    "chip_tf_to_peak[\"gene_id\"] = chip_tf_to_peak[\"gene_id\"].str.upper()"
   ]
  },
  {
   "cell_type": "code",
   "execution_count": 41,
   "metadata": {},
   "outputs": [
    {
     "data": {
      "application/vnd.microsoft.datawrangler.viewer.v0+json": {
       "columns": [
        {
         "name": "index",
         "rawType": "int64",
         "type": "integer"
        },
        {
         "name": "gene_id",
         "rawType": "object",
         "type": "string"
        },
        {
         "name": "peak_id",
         "rawType": "object",
         "type": "string"
        }
       ],
       "ref": "9eddb2f8-36fb-4317-b3c2-048fa82cee40",
       "rows": [
        [
         "401",
         "REST",
         "chr1:3670770-3670855"
        ],
        [
         "484",
         "CTCF",
         "chr1:3672215-3672538"
        ],
        [
         "1831",
         "TCF3",
         "chr1:4779120-4779177"
        ],
        [
         "2510",
         "CTCF",
         "chr1:5017906-5018204"
        ],
        [
         "2650",
         "CTCF",
         "chr1:5070240-5070596"
        ],
        [
         "2651",
         "CTCF",
         "chr1:5070240-5070596"
        ],
        [
         "2798",
         "CTCF",
         "chr1:5083145-5083527"
        ],
        [
         "2833",
         "CTCF",
         "chr1:5103213-5103544"
        ],
        [
         "2843",
         "CTCF",
         "chr1:5103223-5103491"
        ],
        [
         "2943",
         "CTCF",
         "chr1:5183555-5183796"
        ],
        [
         "2947",
         "CTCF",
         "chr1:5183572-5183766"
        ],
        [
         "2955",
         "CTCF",
         "chr1:5183603-5183771"
        ],
        [
         "2992",
         "CTCF",
         "chr1:5238563-5238711"
        ],
        [
         "3315",
         "CTCF",
         "chr1:5915388-5915645"
        ],
        [
         "3477",
         "CTCF",
         "chr1:6135095-6135443"
        ],
        [
         "3509",
         "CTCF",
         "chr1:6135154-6135533"
        ],
        [
         "3579",
         "CTCF",
         "chr1:6143944-6144224"
        ],
        [
         "3605",
         "CTCF",
         "chr1:6143992-6144234"
        ],
        [
         "3609",
         "CTCF",
         "chr1:6143998-6144198"
        ],
        [
         "3642",
         "CTCF",
         "chr1:6152441-6152823"
        ],
        [
         "3649",
         "CTCF",
         "chr1:6152468-6152905"
        ],
        [
         "3663",
         "CTCF",
         "chr1:6152500-6152797"
        ],
        [
         "3835",
         "CTCF",
         "chr1:6214740-6215104"
        ],
        [
         "3940",
         "CTCF",
         "chr1:6272246-6272570"
        ],
        [
         "3945",
         "CTCF",
         "chr1:6272258-6272723"
        ],
        [
         "3950",
         "CTCF",
         "chr1:6272263-6272613"
        ],
        [
         "3962",
         "CTCF",
         "chr1:6272295-6272592"
        ],
        [
         "3965",
         "CTCF",
         "chr1:6272300-6272583"
        ],
        [
         "3974",
         "CTCF",
         "chr1:6272315-6272520"
        ],
        [
         "4012",
         "CTCF",
         "chr1:6272378-6272590"
        ],
        [
         "5011",
         "CTCF",
         "chr1:6979676-6979893"
        ],
        [
         "5048",
         "CTCF",
         "chr1:6997729-6997916"
        ],
        [
         "5065",
         "CTCF",
         "chr1:7010215-7010463"
        ],
        [
         "5086",
         "CTCF",
         "chr1:7010253-7010427"
        ],
        [
         "5100",
         "CTCF",
         "chr1:7010315-7010430"
        ],
        [
         "5210",
         "CTCF",
         "chr1:7088549-7089027"
        ],
        [
         "5422",
         "CTCF",
         "chr1:7141578-7141743"
        ],
        [
         "5434",
         "CTCF",
         "chr1:7141631-7141762"
        ],
        [
         "5505",
         "CTCF",
         "chr1:7204681-7205172"
        ],
        [
         "5524",
         "CTCF",
         "chr1:7204778-7205117"
        ],
        [
         "5551",
         "CTCF",
         "chr1:7204828-7205105"
        ],
        [
         "5588",
         "CTCF",
         "chr1:7204884-7205061"
        ],
        [
         "5647",
         "CTCF",
         "chr1:7218988-7219246"
        ],
        [
         "5761",
         "CTCF",
         "chr1:7360573-7360887"
        ],
        [
         "5865",
         "CTCF",
         "chr1:7396961-7397177"
        ],
        [
         "5870",
         "CTCF",
         "chr1:7396962-7397591"
        ],
        [
         "5880",
         "CTCF",
         "chr1:7396975-7397623"
        ],
        [
         "5883",
         "CTCF",
         "chr1:7396982-7397555"
        ],
        [
         "5899",
         "CTCF",
         "chr1:7397081-7397556"
        ],
        [
         "5914",
         "CTCF",
         "chr1:7397300-7397606"
        ]
       ],
       "shape": {
        "columns": 2,
        "rows": 70356
       }
      },
      "text/html": [
       "<div>\n",
       "<style scoped>\n",
       "    .dataframe tbody tr th:only-of-type {\n",
       "        vertical-align: middle;\n",
       "    }\n",
       "\n",
       "    .dataframe tbody tr th {\n",
       "        vertical-align: top;\n",
       "    }\n",
       "\n",
       "    .dataframe thead th {\n",
       "        text-align: right;\n",
       "    }\n",
       "</style>\n",
       "<table border=\"1\" class=\"dataframe\">\n",
       "  <thead>\n",
       "    <tr style=\"text-align: right;\">\n",
       "      <th></th>\n",
       "      <th>gene_id</th>\n",
       "      <th>peak_id</th>\n",
       "    </tr>\n",
       "  </thead>\n",
       "  <tbody>\n",
       "    <tr>\n",
       "      <th>401</th>\n",
       "      <td>REST</td>\n",
       "      <td>chr1:3670770-3670855</td>\n",
       "    </tr>\n",
       "    <tr>\n",
       "      <th>484</th>\n",
       "      <td>CTCF</td>\n",
       "      <td>chr1:3672215-3672538</td>\n",
       "    </tr>\n",
       "    <tr>\n",
       "      <th>1831</th>\n",
       "      <td>TCF3</td>\n",
       "      <td>chr1:4779120-4779177</td>\n",
       "    </tr>\n",
       "    <tr>\n",
       "      <th>2510</th>\n",
       "      <td>CTCF</td>\n",
       "      <td>chr1:5017906-5018204</td>\n",
       "    </tr>\n",
       "    <tr>\n",
       "      <th>2650</th>\n",
       "      <td>CTCF</td>\n",
       "      <td>chr1:5070240-5070596</td>\n",
       "    </tr>\n",
       "    <tr>\n",
       "      <th>...</th>\n",
       "      <td>...</td>\n",
       "      <td>...</td>\n",
       "    </tr>\n",
       "    <tr>\n",
       "      <th>7607456</th>\n",
       "      <td>CTCF</td>\n",
       "      <td>chrY:11857983-11858300</td>\n",
       "    </tr>\n",
       "    <tr>\n",
       "      <th>7611309</th>\n",
       "      <td>CTCF</td>\n",
       "      <td>chrY:35978139-35978355</td>\n",
       "    </tr>\n",
       "    <tr>\n",
       "      <th>7611316</th>\n",
       "      <td>CTCF</td>\n",
       "      <td>chrY:35978154-35978351</td>\n",
       "    </tr>\n",
       "    <tr>\n",
       "      <th>7611492</th>\n",
       "      <td>CTCF</td>\n",
       "      <td>chrY:37551909-37552175</td>\n",
       "    </tr>\n",
       "    <tr>\n",
       "      <th>7615161</th>\n",
       "      <td>CTCF</td>\n",
       "      <td>chrY:63471202-63471366</td>\n",
       "    </tr>\n",
       "  </tbody>\n",
       "</table>\n",
       "<p>70356 rows × 2 columns</p>\n",
       "</div>"
      ],
      "text/plain": [
       "        gene_id                 peak_id\n",
       "401        REST    chr1:3670770-3670855\n",
       "484        CTCF    chr1:3672215-3672538\n",
       "1831       TCF3    chr1:4779120-4779177\n",
       "2510       CTCF    chr1:5017906-5018204\n",
       "2650       CTCF    chr1:5070240-5070596\n",
       "...         ...                     ...\n",
       "7607456    CTCF  chrY:11857983-11858300\n",
       "7611309    CTCF  chrY:35978139-35978355\n",
       "7611316    CTCF  chrY:35978154-35978351\n",
       "7611492    CTCF  chrY:37551909-37552175\n",
       "7615161    CTCF  chrY:63471202-63471366\n",
       "\n",
       "[70356 rows x 2 columns]"
      ]
     },
     "execution_count": 41,
     "metadata": {},
     "output_type": "execute_result"
    }
   ],
   "source": [
    "chip_tf_to_peak_sub = chip_tf_to_peak[\n",
    "    (chip_tf_to_peak[\"peak_id\"].isin(sliding_window_df[\"peak_id\"])) &\n",
    "    (chip_tf_to_peak[\"gene_id\"].isin(sliding_window_df[\"source_id\"]))\n",
    "    ]\n",
    "chip_tf_to_peak_sub"
   ]
  },
  {
   "cell_type": "markdown",
   "metadata": {},
   "source": [
    "We then combine the TF-peak mapping from ChIP-Atlas with the TF-peak mapping from the sliding window score by merging the two DataFrames on `peak_id`."
   ]
  },
  {
   "cell_type": "code",
   "execution_count": 42,
   "metadata": {},
   "outputs": [
    {
     "data": {
      "application/vnd.microsoft.datawrangler.viewer.v0+json": {
       "columns": [
        {
         "name": "index",
         "rawType": "int64",
         "type": "integer"
        },
        {
         "name": "chip_gene",
         "rawType": "object",
         "type": "string"
        },
        {
         "name": "sliding_window_gene",
         "rawType": "string",
         "type": "string"
        },
        {
         "name": "peak_id",
         "rawType": "object",
         "type": "string"
        },
        {
         "name": "sliding_window_score",
         "rawType": "float64",
         "type": "float"
        }
       ],
       "ref": "f600d6ed-a900-44f2-aa7a-9ad8fd2b5ad2",
       "rows": [
        [
         "0",
         "REST",
         "ASCL1",
         "chr1:3670770-3670855",
         "1776.7502197686406"
        ],
        [
         "1",
         "REST",
         "CDX2",
         "chr1:3670770-3670855",
         "1051.8049071369612"
        ],
        [
         "2",
         "REST",
         "CEBPA",
         "chr1:3670770-3670855",
         "1003.0057892131122"
        ],
        [
         "3",
         "REST",
         "CREB1",
         "chr1:3670770-3670855",
         "1227.6336366909588"
        ],
        [
         "4",
         "REST",
         "CTCF",
         "chr1:3670770-3670855",
         "1944.0252674316573"
        ],
        [
         "5",
         "REST",
         "DLX1",
         "chr1:3670770-3670855",
         "1245.4966389368135"
        ],
        [
         "6",
         "REST",
         "EBF1",
         "chr1:3670770-3670855",
         "1555.8628717897986"
        ],
        [
         "7",
         "REST",
         "EOMES",
         "chr1:3670770-3670855",
         "1385.3405804560682"
        ],
        [
         "8",
         "REST",
         "FLI1",
         "chr1:3670770-3670855",
         "1955.4799363857037"
        ],
        [
         "9",
         "REST",
         "FOSL2",
         "chr1:3670770-3670855",
         "1686.9200162832487"
        ],
        [
         "10",
         "REST",
         "FOXA2",
         "chr1:3670770-3670855",
         "807.6448129583895"
        ],
        [
         "11",
         "REST",
         "GATA1",
         "chr1:3670770-3670855",
         "2637.8058337081447"
        ],
        [
         "12",
         "REST",
         "GATA4",
         "chr1:3670770-3670855",
         "1300.594629934066"
        ],
        [
         "13",
         "REST",
         "GATA6",
         "chr1:3670770-3670855",
         "988.4193710909386"
        ],
        [
         "14",
         "REST",
         "GLI2",
         "chr1:3670770-3670855",
         "1318.0456614867196"
        ],
        [
         "15",
         "REST",
         "GLI3",
         "chr1:3670770-3670855",
         "1498.0758968648543"
        ],
        [
         "16",
         "REST",
         "HIF1A",
         "chr1:3670770-3670855",
         "1051.3110846851662"
        ],
        [
         "17",
         "REST",
         "HMGA2",
         "chr1:3670770-3670855",
         "1500.7742277732473"
        ],
        [
         "18",
         "REST",
         "HNF1B",
         "chr1:3670770-3670855",
         "1689.2532590713104"
        ],
        [
         "19",
         "REST",
         "HNF4A",
         "chr1:3670770-3670855",
         "1515.8034926620915"
        ],
        [
         "20",
         "REST",
         "HOXC10",
         "chr1:3670770-3670855",
         "866.7343041374753"
        ],
        [
         "21",
         "REST",
         "HOXD13",
         "chr1:3670770-3670855",
         "1097.8274142772689"
        ],
        [
         "22",
         "REST",
         "ISL1",
         "chr1:3670770-3670855",
         "936.9251552350722"
        ],
        [
         "23",
         "REST",
         "JUND",
         "chr1:3670770-3670855",
         "1066.2567224116451"
        ],
        [
         "24",
         "REST",
         "KLF1",
         "chr1:3670770-3670855",
         "1406.9416161832753"
        ],
        [
         "25",
         "REST",
         "KLF5",
         "chr1:3670770-3670855",
         "2080.583580092707"
        ],
        [
         "26",
         "REST",
         "LEF1",
         "chr1:3670770-3670855",
         "1332.3325299956603"
        ],
        [
         "27",
         "REST",
         "LHX6",
         "chr1:3670770-3670855",
         "993.2627745598026"
        ],
        [
         "28",
         "REST",
         "LMX1B",
         "chr1:3670770-3670855",
         "1002.6741297118475"
        ],
        [
         "29",
         "REST",
         "MECP2",
         "chr1:3670770-3670855",
         "1556.7504558290534"
        ],
        [
         "30",
         "REST",
         "MEIS1",
         "chr1:3670770-3670855",
         "1317.4680311639981"
        ],
        [
         "31",
         "REST",
         "MYB",
         "chr1:3670770-3670855",
         "962.3449037265103"
        ],
        [
         "32",
         "REST",
         "MYC",
         "chr1:3670770-3670855",
         "1313.3273150584505"
        ],
        [
         "33",
         "REST",
         "NEUROD1",
         "chr1:3670770-3670855",
         "1236.4352279979946"
        ],
        [
         "34",
         "REST",
         "NEUROD2",
         "chr1:3670770-3670855",
         "1270.1145031257715"
        ],
        [
         "35",
         "REST",
         "NEUROG2",
         "chr1:3670770-3670855",
         "1570.1228349751132"
        ],
        [
         "36",
         "REST",
         "NFIA",
         "chr1:3670770-3670855",
         "2075.8850921801536"
        ],
        [
         "37",
         "REST",
         "NFYC",
         "chr1:3670770-3670855",
         "1778.1673802293662"
        ],
        [
         "38",
         "REST",
         "NKX2-5",
         "chr1:3670770-3670855",
         "1390.2754977430145"
        ],
        [
         "39",
         "REST",
         "NKX3-2",
         "chr1:3670770-3670855",
         "1128.6888450067404"
        ],
        [
         "40",
         "REST",
         "NR2F2",
         "chr1:3670770-3670855",
         "1037.4801007250403"
        ],
        [
         "41",
         "REST",
         "NRF1",
         "chr1:3670770-3670855",
         "2274.6696230912435"
        ],
        [
         "42",
         "REST",
         "OLIG2",
         "chr1:3670770-3670855",
         "1335.2774583560122"
        ],
        [
         "43",
         "REST",
         "OTX2",
         "chr1:3670770-3670855",
         "1108.4430209571856"
        ],
        [
         "44",
         "REST",
         "PAX5",
         "chr1:3670770-3670855",
         "2697.062726117457"
        ],
        [
         "45",
         "REST",
         "PAX6",
         "chr1:3670770-3670855",
         "811.2395966512668"
        ],
        [
         "46",
         "REST",
         "PBX1",
         "chr1:3670770-3670855",
         "1414.7413784714902"
        ],
        [
         "47",
         "REST",
         "PITX1",
         "chr1:3670770-3670855",
         "1197.0639790086461"
        ],
        [
         "48",
         "REST",
         "PKNOX1",
         "chr1:3670770-3670855",
         "1147.9583234622755"
        ],
        [
         "49",
         "REST",
         "PRDM15",
         "chr1:3670770-3670855",
         "0.0"
        ]
       ],
       "shape": {
        "columns": 4,
        "rows": 6140895
       }
      },
      "text/html": [
       "<div>\n",
       "<style scoped>\n",
       "    .dataframe tbody tr th:only-of-type {\n",
       "        vertical-align: middle;\n",
       "    }\n",
       "\n",
       "    .dataframe tbody tr th {\n",
       "        vertical-align: top;\n",
       "    }\n",
       "\n",
       "    .dataframe thead th {\n",
       "        text-align: right;\n",
       "    }\n",
       "</style>\n",
       "<table border=\"1\" class=\"dataframe\">\n",
       "  <thead>\n",
       "    <tr style=\"text-align: right;\">\n",
       "      <th></th>\n",
       "      <th>chip_gene</th>\n",
       "      <th>sliding_window_gene</th>\n",
       "      <th>peak_id</th>\n",
       "      <th>sliding_window_score</th>\n",
       "    </tr>\n",
       "  </thead>\n",
       "  <tbody>\n",
       "    <tr>\n",
       "      <th>0</th>\n",
       "      <td>REST</td>\n",
       "      <td>ASCL1</td>\n",
       "      <td>chr1:3670770-3670855</td>\n",
       "      <td>1776.750220</td>\n",
       "    </tr>\n",
       "    <tr>\n",
       "      <th>1</th>\n",
       "      <td>REST</td>\n",
       "      <td>CDX2</td>\n",
       "      <td>chr1:3670770-3670855</td>\n",
       "      <td>1051.804907</td>\n",
       "    </tr>\n",
       "    <tr>\n",
       "      <th>2</th>\n",
       "      <td>REST</td>\n",
       "      <td>CEBPA</td>\n",
       "      <td>chr1:3670770-3670855</td>\n",
       "      <td>1003.005789</td>\n",
       "    </tr>\n",
       "    <tr>\n",
       "      <th>3</th>\n",
       "      <td>REST</td>\n",
       "      <td>CREB1</td>\n",
       "      <td>chr1:3670770-3670855</td>\n",
       "      <td>1227.633637</td>\n",
       "    </tr>\n",
       "    <tr>\n",
       "      <th>4</th>\n",
       "      <td>REST</td>\n",
       "      <td>CTCF</td>\n",
       "      <td>chr1:3670770-3670855</td>\n",
       "      <td>1944.025267</td>\n",
       "    </tr>\n",
       "    <tr>\n",
       "      <th>...</th>\n",
       "      <td>...</td>\n",
       "      <td>...</td>\n",
       "      <td>...</td>\n",
       "      <td>...</td>\n",
       "    </tr>\n",
       "    <tr>\n",
       "      <th>6140890</th>\n",
       "      <td>CTCF</td>\n",
       "      <td>TWIST1</td>\n",
       "      <td>chrY:63471202-63471366</td>\n",
       "      <td>4365.138945</td>\n",
       "    </tr>\n",
       "    <tr>\n",
       "      <th>6140891</th>\n",
       "      <td>CTCF</td>\n",
       "      <td>WT1</td>\n",
       "      <td>chrY:63471202-63471366</td>\n",
       "      <td>4966.008166</td>\n",
       "    </tr>\n",
       "    <tr>\n",
       "      <th>6140892</th>\n",
       "      <td>CTCF</td>\n",
       "      <td>ZEB1</td>\n",
       "      <td>chrY:63471202-63471366</td>\n",
       "      <td>2478.835532</td>\n",
       "    </tr>\n",
       "    <tr>\n",
       "      <th>6140893</th>\n",
       "      <td>CTCF</td>\n",
       "      <td>ZFP281</td>\n",
       "      <td>chrY:63471202-63471366</td>\n",
       "      <td>2482.208951</td>\n",
       "    </tr>\n",
       "    <tr>\n",
       "      <th>6140894</th>\n",
       "      <td>CTCF</td>\n",
       "      <td>ZFP335</td>\n",
       "      <td>chrY:63471202-63471366</td>\n",
       "      <td>5638.483755</td>\n",
       "    </tr>\n",
       "  </tbody>\n",
       "</table>\n",
       "<p>6140895 rows × 4 columns</p>\n",
       "</div>"
      ],
      "text/plain": [
       "        chip_gene sliding_window_gene                 peak_id  \\\n",
       "0            REST               ASCL1    chr1:3670770-3670855   \n",
       "1            REST                CDX2    chr1:3670770-3670855   \n",
       "2            REST               CEBPA    chr1:3670770-3670855   \n",
       "3            REST               CREB1    chr1:3670770-3670855   \n",
       "4            REST                CTCF    chr1:3670770-3670855   \n",
       "...           ...                 ...                     ...   \n",
       "6140890      CTCF              TWIST1  chrY:63471202-63471366   \n",
       "6140891      CTCF                 WT1  chrY:63471202-63471366   \n",
       "6140892      CTCF                ZEB1  chrY:63471202-63471366   \n",
       "6140893      CTCF              ZFP281  chrY:63471202-63471366   \n",
       "6140894      CTCF              ZFP335  chrY:63471202-63471366   \n",
       "\n",
       "         sliding_window_score  \n",
       "0                 1776.750220  \n",
       "1                 1051.804907  \n",
       "2                 1003.005789  \n",
       "3                 1227.633637  \n",
       "4                 1944.025267  \n",
       "...                       ...  \n",
       "6140890           4365.138945  \n",
       "6140891           4966.008166  \n",
       "6140892           2478.835532  \n",
       "6140893           2482.208951  \n",
       "6140894           5638.483755  \n",
       "\n",
       "[6140895 rows x 4 columns]"
      ]
     },
     "execution_count": 42,
     "metadata": {},
     "output_type": "execute_result"
    }
   ],
   "source": [
    "\n",
    "merged_df = pd.merge(chip_tf_to_peak_sub, sliding_window_df, on=\"peak_id\", how=\"inner\")\n",
    "merged_df = merged_df.rename(columns={\"gene_id\": \"chip_gene\", \"source_id\": \"sliding_window_gene\"})\n",
    "merged_df = merged_df[[\"chip_gene\", \"sliding_window_gene\", \"peak_id\", \"sliding_window_score\"]]\n",
    "merged_df"
   ]
  },
  {
   "cell_type": "code",
   "execution_count": 43,
   "metadata": {},
   "outputs": [],
   "source": [
    "merged_df.to_csv(os.path.join(output_dir, \"chipseq_sliding_window_merged.csv\"), header=True, index=False)"
   ]
  },
  {
   "cell_type": "markdown",
   "metadata": {},
   "source": [
    "We can extract the correct predictions and the incorrect predictions, and see how the sliding window scores vary between them."
   ]
  },
  {
   "cell_type": "code",
   "execution_count": 44,
   "metadata": {},
   "outputs": [
    {
     "name": "stdout",
     "output_type": "stream",
     "text": [
      "Num correct predictions: 3436\n",
      "Num incorrect predictions: 303564\n",
      "Num unique correct TFs: 13\n",
      "Num unique inorrect TFs: 1252\n"
     ]
    }
   ],
   "source": [
    "import dask.dataframe as dd\n",
    "\n",
    "\n",
    "merged_ddf = dd.from_pandas(merged_df, npartitions=100)\n",
    "merged_df_sample = merged_ddf.sample(frac=0.05, random_state=42).compute()\n",
    "\n",
    "\n",
    "correct_predictions = merged_df_sample[merged_df_sample[\"chip_gene\"].str.upper() == merged_df_sample[\"sliding_window_gene\"].str.upper()]\n",
    "incorrect_predictions = merged_df_sample[merged_df_sample[\"chip_gene\"].str.upper() != merged_df_sample[\"sliding_window_gene\"].str.upper()]\n",
    "\n",
    "print(f\"Num correct predictions: {len(correct_predictions)}\")\n",
    "print(f\"Num incorrect predictions: {len(incorrect_predictions)}\")\n",
    "\n",
    "print(f\"Num unique correct TFs: {len(correct_predictions.drop_duplicates(subset=['chip_gene', 'sliding_window_gene']))}\")\n",
    "print(f\"Num unique inorrect TFs: {len(incorrect_predictions.drop_duplicates(subset=['chip_gene', 'sliding_window_gene']))}\")"
   ]
  },
  {
   "cell_type": "markdown",
   "metadata": {},
   "source": [
    "Since each TF and peak has a potential binding score, there will be a lot more incorrect predictions than correct predictions. We will sample each DataFrame by the one with the minimum number of rows so they are equal in length."
   ]
  },
  {
   "cell_type": "code",
   "execution_count": 45,
   "metadata": {},
   "outputs": [
    {
     "name": "stdout",
     "output_type": "stream",
     "text": [
      "Num correct predictions: 3436\n",
      "Num incorrect predictions: 3436\n"
     ]
    }
   ],
   "source": [
    "correct_prediction_scores = correct_predictions[\"sliding_window_score\"].sample(\n",
    "    min(len(correct_predictions), len(incorrect_predictions))\n",
    "    ).rename(\"Correct TF Binding Predictions\").reset_index(drop=True)\n",
    "\n",
    "incorrect_prediction_scores = incorrect_predictions[\"sliding_window_score\"].sample(\n",
    "    min(len(correct_predictions), len(incorrect_predictions))\n",
    "    ).rename(\"Incorrect TF Binding Predictions\").reset_index(drop=True)\n",
    "\n",
    "print(f\"Num correct predictions: {len(correct_prediction_scores)}\")\n",
    "print(f\"Num incorrect predictions: {len(incorrect_prediction_scores)}\")"
   ]
  },
  {
   "cell_type": "markdown",
   "metadata": {},
   "source": [
    "Now that we have extracted the correct and incorrect scores, we will merge them to create a new dataframe containing just the correct and incorrect scores."
   ]
  },
  {
   "cell_type": "code",
   "execution_count": 46,
   "metadata": {},
   "outputs": [],
   "source": [
    "pred_df = pd.merge(correct_prediction_scores, incorrect_prediction_scores, left_index=True, right_index=True)"
   ]
  },
  {
   "cell_type": "code",
   "execution_count": 47,
   "metadata": {},
   "outputs": [
    {
     "data": {
      "image/png": "[encoded data removed]",
      "text/plain": [
       "<Figure size 640x480 with 1 Axes>"
      ]
     },
     "metadata": {},
     "output_type": "display_data"
    }
   ],
   "source": [
    "fig = plt.Figure()\n",
    "a = sns.boxplot(data=pred_df)\n",
    "a.set_ylabel(\"Sliding Window Score\")\n",
    "a.set_title(\"Sliding Window Scores for ChIP-seq TF Binding Predictions\")\n",
    "plt.savefig(\"/gpfs/Labs/Uzun/SCRIPTS/PROJECTS/2024.SINGLE_CELL_GRN_INFERENCE.MOELLER/output/chipseq_sliding_window/chipseq_sliding_window_boxplot.png\", dpi=200)"
   ]
  },
  {
   "cell_type": "code",
   "execution_count": 48,
   "metadata": {},
   "outputs": [
    {
     "data": {
      "image/png": "[encoded data removed]",
      "text/plain": [
       "<Figure size 1000x800 with 1 Axes>"
      ]
     },
     "metadata": {},
     "output_type": "display_data"
    }
   ],
   "source": [
    "plt.figure(figsize=(10,8))\n",
    "plt.hist(\n",
    "    pred_df[\"Correct TF Binding Predictions\"],\n",
    "    bins=150,\n",
    "    alpha=0.7,\n",
    "    color='#4195df',\n",
    "    label=\"Correct TF Binding Predictions\"\n",
    ")\n",
    "plt.hist(\n",
    "    pred_df[\"Incorrect TF Binding Predictions\"],\n",
    "    bins=150,\n",
    "    alpha=0.7,\n",
    "    color='#dc8634',\n",
    "    label=\"Incorrect TF Binding Predictions\"\n",
    ")\n",
    "plt.title(\"Sliding Window Scores for ChIP-seq TF Binding Predictions\", fontsize=16)\n",
    "plt.xlabel(\"Sliding Window Score\", fontsize=14)\n",
    "plt.ylabel(\"Frequency\", fontsize=14)\n",
    "plt.xticks(fontsize=12)\n",
    "plt.yticks(fontsize=12)\n",
    "plt.legend(bbox_to_anchor=(1.05, 1), loc='upper left', borderaxespad=0., fontsize=14)\n",
    "plt.savefig(\"/gpfs/Labs/Uzun/SCRIPTS/PROJECTS/2024.SINGLE_CELL_GRN_INFERENCE.MOELLER/output/chipseq_sliding_window/chipseq_sliding_window_histogram.png\", dpi=200)"
   ]
  }
 ],
 "metadata": {
  "kernelspec": {
   "display_name": "my_env",
   "language": "python",
   "name": "my_env"
  },
  "language_info": {
   "codemirror_mode": {
    "name": "ipython",
    "version": 3
   },
   "file_extension": ".py",
   "mimetype": "text/x-python",
   "name": "python",
   "nbconvert_exporter": "python",
   "pygments_lexer": "ipython3",
   "version": "3.9.18"
  }
 },
 "nbformat": 4,
 "nbformat_minor": 2
}
