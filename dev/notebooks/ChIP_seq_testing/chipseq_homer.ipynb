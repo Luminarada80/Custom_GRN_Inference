{
 "cells": [
  {
   "cell_type": "markdown",
   "id": "6b81b439",
   "metadata": {},
   "source": [
    "## Evaluating the Homer TF-peak scoring method\n",
    "\n",
    "Homer `annotatePeaks.pl` attempts to find TF motif binding sites in a provided set of peak locations. The output of `annotatePeaks.pl` is a file for each TF with information about its binding potential to the peaks in your dataset. The columns are:\n",
    "\n",
    "- PeakID\n",
    "- Chromosome\n",
    "- Peak start position\n",
    "- Peak end position\n",
    "- Strand\n",
    "- Peak Score\n",
    "- FDR/Peak Focus Ratio/Region Size\n",
    "- Annotation (i.e. Exon, Intron, ...)\n",
    "- Detailed Annotation (Exon, Intron etc. + CpG Islands, repeats, etc.)\n",
    "- Distance to nearest RefSeq TSS\n",
    "- Nearest TSS: Native ID of annotation file\n",
    "- Nearest TSS: Entrez Gene ID\n",
    "- Nearest TSS: Unigene ID\n",
    "- Nearest TSS: RefSeq ID\n",
    "- Nearest TSS: Ensembl ID\n",
    "- Nearest TSS: Gene Symbol\n",
    "- Nearest TSS: Gene Aliases\n",
    "- Nearest TSS: Gene description\n",
    "- Additional columns depend on options selected when running the program.\n",
    "\n",
    "To test the accuracy of Homer, we can have it predict the TF binding sites for ChIP-seq TF-DNA binding interactions. We can compare the TF-DNA Homer predictions to the known binding interactions to determine how well Homer identifies correct TF-DNA binding partners.\n",
    "\n",
    "So far, we have been evaluating our results against the mESC ground truth from the BEELINE paper. The paper does not provide the TF-peak ChIP-seq file, but rather the direct TF-TG mapping. The paper states that the ChIP-seq dataset was downloaded from ChIP-Atlas, so we are using the **mm10 embryo ChIP: TFs and others** dataset from ChIP-Atlas."
   ]
  },
  {
   "cell_type": "code",
   "execution_count": 1,
   "id": "bf491f0d",
   "metadata": {},
   "outputs": [
    {
     "name": "stdout",
     "output_type": "stream",
     "text": [
      "   Static hostname: psh01com1hcom34\n",
      "         Icon name: computer-server\n",
      "           Chassis: server\n",
      "        Machine ID: 4232d1115a5548e982021ba5a27af5c3\n",
      "           Boot ID: 7722405a22e04dd3b701e19ac5a96705\n",
      "  Operating System: \u001b]8;;https://www.redhat.com/\u0007Red Hat Enterprise Linux 8.10 (Ootpa)\u001b]8;;\u0007\n",
      "       CPE OS Name: cpe:/o:redhat:enterprise_linux:8::baseos\n",
      "            Kernel: Linux 4.18.0-553.22.1.el8_10.x86_64\n",
      "      Architecture: x86-64\n"
     ]
    }
   ],
   "source": [
    "!hostnamectl"
   ]
  },
  {
   "cell_type": "code",
   "execution_count": 2,
   "id": "80c06068",
   "metadata": {},
   "outputs": [],
   "source": [
    "import os\n",
    "import pandas as pd\n",
    "import pybedtools\n",
    "import seaborn as sns\n",
    "import matplotlib.pyplot as plt\n",
    "\n",
    "base_dir = \"/gpfs/Labs/Uzun/SCRIPTS/PROJECTS/2024.SINGLE_CELL_GRN_INFERENCE.MOELLER/\"\n",
    "ground_truth_dir = os.path.join(base_dir, \"ground_truth_files\")\n",
    "output_dir = os.path.join(base_dir, \"output/chipseq_homer\")\n",
    "tmp_dir = os.path.join(output_dir, \"tmp\")\n",
    "\n",
    "os.makedirs(ground_truth_dir, exist_ok=True)\n",
    "os.makedirs(output_dir, exist_ok=True)\n",
    "os.makedirs(tmp_dir, exist_ok=True)"
   ]
  },
  {
   "cell_type": "markdown",
   "id": "2b8b9ec8",
   "metadata": {},
   "source": [
    "### ChIP-Atlas data\n",
    "\n",
    "The ChIP-Atlas dataset we are using can be downloaded from:\n",
    "\n",
    "`wget https://chip-atlas.dbcls.jp/data/mm10/assembled/Oth.Emb.05.AllAg.AllCell.bed`\n",
    "\n",
    "This file corresponds to the following settings in the Peak Browser:\n",
    "- Species -> M. musculus (mm10)\n",
    "- Track type class -> ChIP: TFs and others\n",
    "- Cell type class -> Embryo\n",
    "- Threshold for Significance -> 50\n",
    "- Track type -> All\n",
    "- Cell type -> all\n",
    "\n",
    "The first step here is to extract the relevant information from the ChIP-Atlas dataset to create a TF-peak ground truth DataFrame and a `homer_peaks.txt` DataFrame."
   ]
  },
  {
   "cell_type": "code",
   "execution_count": 3,
   "id": "278853a4",
   "metadata": {},
   "outputs": [],
   "source": [
    "def extract_gene_name(name):\n",
    "    return name.split(\"Name=\")[1].split(\"%\")[0]\n",
    "\n",
    "def format_peak_id(chrom, start, end):\n",
    "    start = str(int(start))\n",
    "    end = str(int(end))\n",
    "    return \"%s:%s-%s\" % (chrom, start, end)"
   ]
  },
  {
   "cell_type": "code",
   "execution_count": 5,
   "id": "f38ea796",
   "metadata": {},
   "outputs": [
    {
     "name": "stderr",
     "output_type": "stream",
     "text": [
      "/tmp/ipykernel_442203/3085763299.py:10: SettingWithCopyWarning: \n",
      "A value is trying to be set on a copy of a slice from a DataFrame.\n",
      "Try using .loc[row_indexer,col_indexer] = value instead\n",
      "\n",
      "See the caveats in the documentation: https://pandas.pydata.org/pandas-docs/stable/user_guide/indexing.html#returning-a-view-versus-a-copy\n",
      "  chip_bed_cleaned[\"peak_id\"] = chip_bed_cleaned.apply(lambda x: format_peak_id(x.chrom, x.start, x.end), axis=1)\n"
     ]
    },
    {
     "data": {
      "application/vnd.microsoft.datawrangler.viewer.v0+json": {
       "columns": [
        {
         "name": "index",
         "rawType": "int64",
         "type": "integer"
        },
        {
         "name": "gene_id",
         "rawType": "object",
         "type": "string"
        },
        {
         "name": "peak_id",
         "rawType": "object",
         "type": "string"
        }
       ],
       "ref": "a87b9e50-1e8d-4b4d-afda-e5f4d381108e",
       "rows": [
        [
         "1",
         "Smad4",
         "chr1:3003564-3003922"
        ],
        [
         "2",
         "Ctcf",
         "chr1:3012605-3012815"
        ],
        [
         "3",
         "Ctcf",
         "chr1:3012635-3012824"
        ],
        [
         "4",
         "Epitope",
         "chr1:3031387-3031654"
        ],
        [
         "5",
         "Smad4",
         "chr1:3031454-3031677"
        ],
        [
         "6",
         "Epitope",
         "chr1:3037813-3037977"
        ],
        [
         "7",
         "Epitope",
         "chr1:3037831-3038014"
        ],
        [
         "8",
         "Creb1",
         "chr1:3042056-3042107"
        ],
        [
         "9",
         "Chd4",
         "chr1:3042840-3042993"
        ],
        [
         "10",
         "Hand2",
         "chr1:3042840-3043210"
        ],
        [
         "11",
         "Chd4",
         "chr1:3042845-3042974"
        ],
        [
         "12",
         "Klf1",
         "chr1:3042893-3043261"
        ],
        [
         "13",
         "Chd4",
         "chr1:3043042-3043236"
        ],
        [
         "14",
         "Hira",
         "chr1:3043048-3043364"
        ],
        [
         "15",
         "Chd4",
         "chr1:3043056-3043246"
        ],
        [
         "16",
         "Chd4",
         "chr1:3043095-3043239"
        ],
        [
         "17",
         "Smad1",
         "chr1:3048848-3049240"
        ],
        [
         "18",
         "Smad1",
         "chr1:3048884-3049204"
        ],
        [
         "19",
         "Smad1",
         "chr1:3048892-3049123"
        ],
        [
         "20",
         "Smad1",
         "chr1:3048924-3049137"
        ],
        [
         "21",
         "Smad1",
         "chr1:3048985-3049197"
        ],
        [
         "22",
         "Epitope",
         "chr1:3050139-3050342"
        ],
        [
         "23",
         "Epitope",
         "chr1:3050160-3050251"
        ],
        [
         "24",
         "Isl1",
         "chr1:3050169-3050323"
        ],
        [
         "25",
         "Smarca4",
         "chr1:3050170-3050252"
        ],
        [
         "26",
         "Prdm13",
         "chr1:3051439-3051494"
        ],
        [
         "27",
         "Hoxa13",
         "chr1:3054989-3055130"
        ],
        [
         "28",
         "Hoxa13",
         "chr1:3055034-3055478"
        ],
        [
         "29",
         "Hoxa13",
         "chr1:3055062-3055329"
        ],
        [
         "30",
         "Cebpa",
         "chr1:3059708-3059807"
        ],
        [
         "31",
         "Epitope",
         "chr1:3062849-3063111"
        ],
        [
         "32",
         "Hnf1b",
         "chr1:3063257-3063401"
        ],
        [
         "33",
         "Pax5",
         "chr1:3068096-3068380"
        ],
        [
         "34",
         "Gata6",
         "chr1:3072534-3072701"
        ],
        [
         "35",
         "Gata1",
         "chr1:3077207-3077399"
        ],
        [
         "36",
         "Smarca4",
         "chr1:3083162-3083320"
        ],
        [
         "37",
         "Epitope",
         "chr1:3083182-3083313"
        ],
        [
         "38",
         "Isl1",
         "chr1:3083187-3083305"
        ],
        [
         "39",
         "Epitope",
         "chr1:3083189-3083280"
        ],
        [
         "40",
         "Pax5",
         "chr1:3091675-3091891"
        ],
        [
         "41",
         "Ncor2",
         "chr1:3094752-3095214"
        ],
        [
         "42",
         "Cebpa",
         "chr1:3094760-3094900"
        ],
        [
         "43",
         "Ncor2",
         "chr1:3094784-3095161"
        ],
        [
         "44",
         "Ncor2",
         "chr1:3094789-3095260"
        ],
        [
         "45",
         "Ncor2",
         "chr1:3094795-3095175"
        ],
        [
         "46",
         "Ncor2",
         "chr1:3094799-3095182"
        ],
        [
         "47",
         "Ncor2",
         "chr1:3094823-3095143"
        ],
        [
         "48",
         "Neurog2",
         "chr1:3094824-3095063"
        ],
        [
         "49",
         "Ncor2",
         "chr1:3094827-3095149"
        ],
        [
         "50",
         "Ncor2",
         "chr1:3094854-3095103"
        ]
       ],
       "shape": {
        "columns": 2,
        "rows": 7624391
       }
      },
      "text/html": [
       "<div>\n",
       "<style scoped>\n",
       "    .dataframe tbody tr th:only-of-type {\n",
       "        vertical-align: middle;\n",
       "    }\n",
       "\n",
       "    .dataframe tbody tr th {\n",
       "        vertical-align: top;\n",
       "    }\n",
       "\n",
       "    .dataframe thead th {\n",
       "        text-align: right;\n",
       "    }\n",
       "</style>\n",
       "<table border=\"1\" class=\"dataframe\">\n",
       "  <thead>\n",
       "    <tr style=\"text-align: right;\">\n",
       "      <th></th>\n",
       "      <th>gene_id</th>\n",
       "      <th>peak_id</th>\n",
       "    </tr>\n",
       "  </thead>\n",
       "  <tbody>\n",
       "    <tr>\n",
       "      <th>1</th>\n",
       "      <td>Smad4</td>\n",
       "      <td>chr1:3003564-3003922</td>\n",
       "    </tr>\n",
       "    <tr>\n",
       "      <th>2</th>\n",
       "      <td>Ctcf</td>\n",
       "      <td>chr1:3012605-3012815</td>\n",
       "    </tr>\n",
       "    <tr>\n",
       "      <th>3</th>\n",
       "      <td>Ctcf</td>\n",
       "      <td>chr1:3012635-3012824</td>\n",
       "    </tr>\n",
       "    <tr>\n",
       "      <th>4</th>\n",
       "      <td>Epitope</td>\n",
       "      <td>chr1:3031387-3031654</td>\n",
       "    </tr>\n",
       "    <tr>\n",
       "      <th>5</th>\n",
       "      <td>Smad4</td>\n",
       "      <td>chr1:3031454-3031677</td>\n",
       "    </tr>\n",
       "    <tr>\n",
       "      <th>...</th>\n",
       "      <td>...</td>\n",
       "      <td>...</td>\n",
       "    </tr>\n",
       "    <tr>\n",
       "      <th>7624387</th>\n",
       "      <td>Rest</td>\n",
       "      <td>chrY_JH584303_random:135985-136047</td>\n",
       "    </tr>\n",
       "    <tr>\n",
       "      <th>7624388</th>\n",
       "      <td>Rest</td>\n",
       "      <td>chrY_JH584303_random:135985-136048</td>\n",
       "    </tr>\n",
       "    <tr>\n",
       "      <th>7624389</th>\n",
       "      <td>Rest</td>\n",
       "      <td>chrY_JH584303_random:135986-136045</td>\n",
       "    </tr>\n",
       "    <tr>\n",
       "      <th>7624390</th>\n",
       "      <td>Rest</td>\n",
       "      <td>chrY_JH584303_random:135989-136043</td>\n",
       "    </tr>\n",
       "    <tr>\n",
       "      <th>7624391</th>\n",
       "      <td>Rest</td>\n",
       "      <td>chrY_JH584303_random:135989-136046</td>\n",
       "    </tr>\n",
       "  </tbody>\n",
       "</table>\n",
       "<p>7624391 rows × 2 columns</p>\n",
       "</div>"
      ],
      "text/plain": [
       "         gene_id                             peak_id\n",
       "1          Smad4                chr1:3003564-3003922\n",
       "2           Ctcf                chr1:3012605-3012815\n",
       "3           Ctcf                chr1:3012635-3012824\n",
       "4        Epitope                chr1:3031387-3031654\n",
       "5          Smad4                chr1:3031454-3031677\n",
       "...          ...                                 ...\n",
       "7624387     Rest  chrY_JH584303_random:135985-136047\n",
       "7624388     Rest  chrY_JH584303_random:135985-136048\n",
       "7624389     Rest  chrY_JH584303_random:135986-136045\n",
       "7624390     Rest  chrY_JH584303_random:135989-136043\n",
       "7624391     Rest  chrY_JH584303_random:135989-136046\n",
       "\n",
       "[7624391 rows x 2 columns]"
      ]
     },
     "execution_count": 5,
     "metadata": {},
     "output_type": "execute_result"
    }
   ],
   "source": [
    "chip_bed_file = os.path.join(ground_truth_dir, \"Oth.Emb.05.AllAg.AllCell.bed\")\n",
    "chip_bed = pybedtools.BedTool(chip_bed_file)\n",
    "chip_bed_df = chip_bed.to_dataframe()\n",
    "chip_bed_nohead = chip_bed_df.iloc[1:, :].dropna()\n",
    "\n",
    "chip_bed_nohead[\"gene_id\"] = chip_bed_nohead[\"name\"].apply(extract_gene_name)\n",
    "chip_bed_cleaned = chip_bed_nohead[[\"chrom\", \"start\", \"end\", \"gene_id\"]]\n",
    "\n",
    "# Set the peak_id as the formatted peak location\n",
    "chip_bed_cleaned[\"peak_id\"] = chip_bed_cleaned.apply(lambda x: format_peak_id(x.chrom, x.start, x.end), axis=1)\n",
    "\n",
    "chip_tf_to_peak = chip_bed_cleaned[[\"gene_id\", \"peak_id\"]]\n",
    "chip_tf_to_peak"
   ]
  },
  {
   "cell_type": "markdown",
   "id": "b83ef420",
   "metadata": {},
   "source": [
    "Now that we have the ChIP-Atlas peaks in the format that we want, we can save it to the ground truth directory for later"
   ]
  },
  {
   "cell_type": "code",
   "execution_count": 5,
   "id": "5b056093",
   "metadata": {},
   "outputs": [],
   "source": [
    "chip_bed_cleaned.to_csv(os.path.join(output_dir, \"chipatlas_peaks.csv\"), header=True, index=False)\n",
    "chip_tf_to_peak.to_csv(os.path.join(ground_truth_dir, \"chipatlas_mESC.csv\"), header=True, index=False)"
   ]
  },
  {
   "cell_type": "markdown",
   "id": "582c3b9c",
   "metadata": {},
   "source": [
    "### Creating the Homer peaks file"
   ]
  },
  {
   "cell_type": "markdown",
   "id": "0da7b39c",
   "metadata": {},
   "source": [
    "Next, we need to format the peaks to follow the requirements for the Homer peaks file.\n",
    "\n",
    "> HOMER peak files should have at minimum 5 columns (separated by TABs, additional columns will be ignored:\n",
    "> - Column1: Unique Peak ID\n",
    "> - Column2: chromosome\n",
    "> - Column3: starting position\n",
    "> - Column4: ending position\n",
    "> - Column5: Strand (+/- or 0/1, where 0=\"+\", 1=\"-\")"
   ]
  },
  {
   "cell_type": "code",
   "execution_count": 4,
   "id": "25f1d89c",
   "metadata": {},
   "outputs": [
    {
     "data": {
      "application/vnd.microsoft.datawrangler.viewer.v0+json": {
       "columns": [
        {
         "name": "index",
         "rawType": "int64",
         "type": "integer"
        },
        {
         "name": "gene_id",
         "rawType": "object",
         "type": "string"
        },
        {
         "name": "peak_id",
         "rawType": "object",
         "type": "string"
        }
       ],
       "ref": "24a0a2df-a767-42a5-a0e9-f3d8ea6d9e1a",
       "rows": [
        [
         "0",
         "SMAD4",
         "chr1:3003564-3003922"
        ],
        [
         "1",
         "CTCF",
         "chr1:3012605-3012815"
        ],
        [
         "2",
         "CTCF",
         "chr1:3012635-3012824"
        ],
        [
         "3",
         "EPITOPE",
         "chr1:3031387-3031654"
        ],
        [
         "4",
         "SMAD4",
         "chr1:3031454-3031677"
        ],
        [
         "5",
         "EPITOPE",
         "chr1:3037813-3037977"
        ],
        [
         "6",
         "EPITOPE",
         "chr1:3037831-3038014"
        ],
        [
         "7",
         "CREB1",
         "chr1:3042056-3042107"
        ],
        [
         "8",
         "CHD4",
         "chr1:3042840-3042993"
        ],
        [
         "9",
         "HAND2",
         "chr1:3042840-3043210"
        ],
        [
         "10",
         "CHD4",
         "chr1:3042845-3042974"
        ],
        [
         "11",
         "KLF1",
         "chr1:3042893-3043261"
        ],
        [
         "12",
         "CHD4",
         "chr1:3043042-3043236"
        ],
        [
         "13",
         "HIRA",
         "chr1:3043048-3043364"
        ],
        [
         "14",
         "CHD4",
         "chr1:3043056-3043246"
        ],
        [
         "15",
         "CHD4",
         "chr1:3043095-3043239"
        ],
        [
         "16",
         "SMAD1",
         "chr1:3048848-3049240"
        ],
        [
         "17",
         "SMAD1",
         "chr1:3048884-3049204"
        ],
        [
         "18",
         "SMAD1",
         "chr1:3048892-3049123"
        ],
        [
         "19",
         "SMAD1",
         "chr1:3048924-3049137"
        ],
        [
         "20",
         "SMAD1",
         "chr1:3048985-3049197"
        ],
        [
         "21",
         "EPITOPE",
         "chr1:3050139-3050342"
        ],
        [
         "22",
         "EPITOPE",
         "chr1:3050160-3050251"
        ],
        [
         "23",
         "ISL1",
         "chr1:3050169-3050323"
        ],
        [
         "24",
         "SMARCA4",
         "chr1:3050170-3050252"
        ],
        [
         "25",
         "PRDM13",
         "chr1:3051439-3051494"
        ],
        [
         "26",
         "HOXA13",
         "chr1:3054989-3055130"
        ],
        [
         "27",
         "HOXA13",
         "chr1:3055034-3055478"
        ],
        [
         "28",
         "HOXA13",
         "chr1:3055062-3055329"
        ],
        [
         "29",
         "CEBPA",
         "chr1:3059708-3059807"
        ],
        [
         "30",
         "EPITOPE",
         "chr1:3062849-3063111"
        ],
        [
         "31",
         "HNF1B",
         "chr1:3063257-3063401"
        ],
        [
         "32",
         "PAX5",
         "chr1:3068096-3068380"
        ],
        [
         "33",
         "GATA6",
         "chr1:3072534-3072701"
        ],
        [
         "34",
         "GATA1",
         "chr1:3077207-3077399"
        ],
        [
         "35",
         "SMARCA4",
         "chr1:3083162-3083320"
        ],
        [
         "36",
         "EPITOPE",
         "chr1:3083182-3083313"
        ],
        [
         "37",
         "ISL1",
         "chr1:3083187-3083305"
        ],
        [
         "38",
         "EPITOPE",
         "chr1:3083189-3083280"
        ],
        [
         "39",
         "PAX5",
         "chr1:3091675-3091891"
        ],
        [
         "40",
         "NCOR2",
         "chr1:3094752-3095214"
        ],
        [
         "41",
         "CEBPA",
         "chr1:3094760-3094900"
        ],
        [
         "42",
         "NCOR2",
         "chr1:3094784-3095161"
        ],
        [
         "43",
         "NCOR2",
         "chr1:3094789-3095260"
        ],
        [
         "44",
         "NCOR2",
         "chr1:3094795-3095175"
        ],
        [
         "45",
         "NCOR2",
         "chr1:3094799-3095182"
        ],
        [
         "46",
         "NCOR2",
         "chr1:3094823-3095143"
        ],
        [
         "47",
         "NEUROG2",
         "chr1:3094824-3095063"
        ],
        [
         "48",
         "NCOR2",
         "chr1:3094827-3095149"
        ],
        [
         "49",
         "NCOR2",
         "chr1:3094854-3095103"
        ]
       ],
       "shape": {
        "columns": 2,
        "rows": 7734466
       }
      },
      "text/html": [
       "<div>\n",
       "<style scoped>\n",
       "    .dataframe tbody tr th:only-of-type {\n",
       "        vertical-align: middle;\n",
       "    }\n",
       "\n",
       "    .dataframe tbody tr th {\n",
       "        vertical-align: top;\n",
       "    }\n",
       "\n",
       "    .dataframe thead th {\n",
       "        text-align: right;\n",
       "    }\n",
       "</style>\n",
       "<table border=\"1\" class=\"dataframe\">\n",
       "  <thead>\n",
       "    <tr style=\"text-align: right;\">\n",
       "      <th></th>\n",
       "      <th>gene_id</th>\n",
       "      <th>peak_id</th>\n",
       "    </tr>\n",
       "  </thead>\n",
       "  <tbody>\n",
       "    <tr>\n",
       "      <th>0</th>\n",
       "      <td>SMAD4</td>\n",
       "      <td>chr1:3003564-3003922</td>\n",
       "    </tr>\n",
       "    <tr>\n",
       "      <th>1</th>\n",
       "      <td>CTCF</td>\n",
       "      <td>chr1:3012605-3012815</td>\n",
       "    </tr>\n",
       "    <tr>\n",
       "      <th>2</th>\n",
       "      <td>CTCF</td>\n",
       "      <td>chr1:3012635-3012824</td>\n",
       "    </tr>\n",
       "    <tr>\n",
       "      <th>3</th>\n",
       "      <td>EPITOPE</td>\n",
       "      <td>chr1:3031387-3031654</td>\n",
       "    </tr>\n",
       "    <tr>\n",
       "      <th>4</th>\n",
       "      <td>SMAD4</td>\n",
       "      <td>chr1:3031454-3031677</td>\n",
       "    </tr>\n",
       "    <tr>\n",
       "      <th>...</th>\n",
       "      <td>...</td>\n",
       "      <td>...</td>\n",
       "    </tr>\n",
       "    <tr>\n",
       "      <th>7734461</th>\n",
       "      <td>REST</td>\n",
       "      <td>chrY_JH584303_random:135985-136047</td>\n",
       "    </tr>\n",
       "    <tr>\n",
       "      <th>7734462</th>\n",
       "      <td>REST</td>\n",
       "      <td>chrY_JH584303_random:135985-136048</td>\n",
       "    </tr>\n",
       "    <tr>\n",
       "      <th>7734463</th>\n",
       "      <td>REST</td>\n",
       "      <td>chrY_JH584303_random:135986-136045</td>\n",
       "    </tr>\n",
       "    <tr>\n",
       "      <th>7734464</th>\n",
       "      <td>REST</td>\n",
       "      <td>chrY_JH584303_random:135989-136043</td>\n",
       "    </tr>\n",
       "    <tr>\n",
       "      <th>7734465</th>\n",
       "      <td>REST</td>\n",
       "      <td>chrY_JH584303_random:135989-136046</td>\n",
       "    </tr>\n",
       "  </tbody>\n",
       "</table>\n",
       "<p>7734466 rows × 2 columns</p>\n",
       "</div>"
      ],
      "text/plain": [
       "         gene_id                             peak_id\n",
       "0          SMAD4                chr1:3003564-3003922\n",
       "1           CTCF                chr1:3012605-3012815\n",
       "2           CTCF                chr1:3012635-3012824\n",
       "3        EPITOPE                chr1:3031387-3031654\n",
       "4          SMAD4                chr1:3031454-3031677\n",
       "...          ...                                 ...\n",
       "7734461     REST  chrY_JH584303_random:135985-136047\n",
       "7734462     REST  chrY_JH584303_random:135985-136048\n",
       "7734463     REST  chrY_JH584303_random:135986-136045\n",
       "7734464     REST  chrY_JH584303_random:135989-136043\n",
       "7734465     REST  chrY_JH584303_random:135989-136046\n",
       "\n",
       "[7734466 rows x 2 columns]"
      ]
     },
     "execution_count": 4,
     "metadata": {},
     "output_type": "execute_result"
    }
   ],
   "source": [
    "chip_bed_cleaned = pd.read_csv(os.path.join(ground_truth_dir, \"chip_atlas_tf_peak_tg_dist.csv\"), header=0, index_col=False)\n",
    "chip_tf_to_peak = chip_bed_cleaned[[\"source_id\", \"peak_id\"]].rename(columns={\"source_id\":\"gene_id\"})\n",
    "chip_tf_to_peak"
   ]
  },
  {
   "cell_type": "code",
   "execution_count": 84,
   "id": "42705f62",
   "metadata": {},
   "outputs": [
    {
     "data": {
      "application/vnd.microsoft.datawrangler.viewer.v0+json": {
       "columns": [
        {
         "name": "index",
         "rawType": "int64",
         "type": "integer"
        },
        {
         "name": "PeakID",
         "rawType": "object",
         "type": "string"
        },
        {
         "name": "chr",
         "rawType": "object",
         "type": "string"
        },
        {
         "name": "start",
         "rawType": "int64",
         "type": "integer"
        },
        {
         "name": "end",
         "rawType": "int64",
         "type": "integer"
        },
        {
         "name": "strand",
         "rawType": "object",
         "type": "string"
        }
       ],
       "ref": "79cea5a0-6cc6-464e-9b0d-146a5398f98e",
       "rows": [
        [
         "0",
         "chr5:114173037-114173222",
         "chr5",
         "114173037",
         "114173222",
         "."
        ],
        [
         "1",
         "chr5:114173103-114173157",
         "chr5",
         "114173103",
         "114173157",
         "."
        ],
        [
         "2",
         "chr11:114795327-114795552",
         "chr11",
         "114795327",
         "114795552",
         "."
        ],
        [
         "3",
         "chr11:114795386-114795436",
         "chr11",
         "114795386",
         "114795436",
         "."
        ],
        [
         "4",
         "chr7:28302269-28302413",
         "chr7",
         "28302269",
         "28302413",
         "."
        ],
        [
         "5",
         "chr7:28302297-28302333",
         "chr7",
         "28302297",
         "28302333",
         "."
        ],
        [
         "6",
         "chr4:45165638-45165690",
         "chr4",
         "45165638",
         "45165690",
         "."
        ],
        [
         "7",
         "chr1:91414164-91414296",
         "chr1",
         "91414164",
         "91414296",
         "."
        ],
        [
         "8",
         "chr11:99948882-99948990",
         "chr11",
         "99948882",
         "99948990",
         "."
        ],
        [
         "9",
         "chr11:99949354-99949471",
         "chr11",
         "99949354",
         "99949471",
         "."
        ],
        [
         "10",
         "chr7:16944450-16944602",
         "chr7",
         "16944450",
         "16944602",
         "."
        ],
        [
         "11",
         "chr7:16944543-16944579",
         "chr7",
         "16944543",
         "16944579",
         "."
        ],
        [
         "12",
         "chr16:17208887-17209158",
         "chr16",
         "17208887",
         "17209158",
         "."
        ],
        [
         "13",
         "chr16:17208911-17209098",
         "chr16",
         "17208911",
         "17209098",
         "."
        ],
        [
         "14",
         "chr12:69159305-69159352",
         "chr12",
         "69159305",
         "69159352",
         "."
        ],
        [
         "15",
         "chr12:69159541-69159585",
         "chr12",
         "69159541",
         "69159585",
         "."
        ],
        [
         "16",
         "chr7:109439436-109439650",
         "chr7",
         "109439436",
         "109439650",
         "."
        ],
        [
         "17",
         "chr7:109439484-109439607",
         "chr7",
         "109439484",
         "109439607",
         "."
        ],
        [
         "18",
         "chr10:83727061-83727120",
         "chr10",
         "83727061",
         "83727120",
         "."
        ],
        [
         "19",
         "chr10:83875137-83875269",
         "chr10",
         "83875137",
         "83875269",
         "."
        ],
        [
         "20",
         "chr10:83899670-83899815",
         "chr10",
         "83899670",
         "83899815",
         "."
        ],
        [
         "21",
         "chr17:46770156-46770208",
         "chr17",
         "46770156",
         "46770208",
         "."
        ],
        [
         "22",
         "chr7:81797437-81797516",
         "chr7",
         "81797437",
         "81797516",
         "."
        ],
        [
         "23",
         "chr16:64690908-64690961",
         "chr16",
         "64690908",
         "64690961",
         "."
        ],
        [
         "24",
         "chr16:64774085-64774142",
         "chr16",
         "64774085",
         "64774142",
         "."
        ],
        [
         "25",
         "chr11:31922592-31922858",
         "chr11",
         "31922592",
         "31922858",
         "."
        ],
        [
         "26",
         "chr1:26454612-26454858",
         "chr1",
         "26454612",
         "26454858",
         "."
        ],
        [
         "27",
         "chr1:26788148-26788220",
         "chr1",
         "26788148",
         "26788220",
         "."
        ],
        [
         "28",
         "chr1:26965028-26965100",
         "chr1",
         "26965028",
         "26965100",
         "."
        ],
        [
         "29",
         "chr1:27008311-27008380",
         "chr1",
         "27008311",
         "27008380",
         "."
        ],
        [
         "30",
         "chr11:110311096-110311159",
         "chr11",
         "110311096",
         "110311159",
         "."
        ],
        [
         "31",
         "chr7:84233572-84233661",
         "chr7",
         "84233572",
         "84233661",
         "."
        ],
        [
         "32",
         "chr4:40019431-40019505",
         "chr4",
         "40019431",
         "40019505",
         "."
        ],
        [
         "33",
         "chr4:40029845-40029975",
         "chr4",
         "40029845",
         "40029975",
         "."
        ],
        [
         "34",
         "chr4:40040074-40040125",
         "chr4",
         "40040074",
         "40040125",
         "."
        ],
        [
         "35",
         "chr1:78626637-78626730",
         "chr1",
         "78626637",
         "78626730",
         "."
        ],
        [
         "36",
         "chr3:32662921-32662985",
         "chr3",
         "32662921",
         "32662985",
         "."
        ],
        [
         "37",
         "chr1:124915771-124915833",
         "chr1",
         "124915771",
         "124915833",
         "."
        ],
        [
         "38",
         "chr1:124936584-124936658",
         "chr1",
         "124936584",
         "124936658",
         "."
        ],
        [
         "39",
         "chr1:125018583-125018641",
         "chr1",
         "125018583",
         "125018641",
         "."
        ],
        [
         "40",
         "chr8:88307728-88307793",
         "chr8",
         "88307728",
         "88307793",
         "."
        ],
        [
         "41",
         "chr19:53117157-53117214",
         "chr19",
         "53117157",
         "53117214",
         "."
        ],
        [
         "42",
         "chr5:49687498-49687612",
         "chr5",
         "49687498",
         "49687612",
         "."
        ],
        [
         "43",
         "chr9:59183703-59183760",
         "chr9",
         "59183703",
         "59183760",
         "."
        ],
        [
         "44",
         "chr9:59220986-59221040",
         "chr9",
         "59220986",
         "59221040",
         "."
        ],
        [
         "45",
         "chr8:53449138-53449188",
         "chr8",
         "53449138",
         "53449188",
         "."
        ],
        [
         "46",
         "chr8:53464376-53464438",
         "chr8",
         "53464376",
         "53464438",
         "."
        ],
        [
         "47",
         "chr8:53548993-53549052",
         "chr8",
         "53548993",
         "53549052",
         "."
        ],
        [
         "48",
         "chr13:95396143-95396193",
         "chr13",
         "95396143",
         "95396193",
         "."
        ],
        [
         "49",
         "chr3:116833375-116833464",
         "chr3",
         "116833375",
         "116833464",
         "."
        ]
       ],
       "shape": {
        "columns": 5,
        "rows": 1721462
       }
      },
      "text/html": [
       "<div>\n",
       "<style scoped>\n",
       "    .dataframe tbody tr th:only-of-type {\n",
       "        vertical-align: middle;\n",
       "    }\n",
       "\n",
       "    .dataframe tbody tr th {\n",
       "        vertical-align: top;\n",
       "    }\n",
       "\n",
       "    .dataframe thead th {\n",
       "        text-align: right;\n",
       "    }\n",
       "</style>\n",
       "<table border=\"1\" class=\"dataframe\">\n",
       "  <thead>\n",
       "    <tr style=\"text-align: right;\">\n",
       "      <th></th>\n",
       "      <th>PeakID</th>\n",
       "      <th>chr</th>\n",
       "      <th>start</th>\n",
       "      <th>end</th>\n",
       "      <th>strand</th>\n",
       "    </tr>\n",
       "  </thead>\n",
       "  <tbody>\n",
       "    <tr>\n",
       "      <th>0</th>\n",
       "      <td>chr5:114173037-114173222</td>\n",
       "      <td>chr5</td>\n",
       "      <td>114173037</td>\n",
       "      <td>114173222</td>\n",
       "      <td>.</td>\n",
       "    </tr>\n",
       "    <tr>\n",
       "      <th>1</th>\n",
       "      <td>chr5:114173103-114173157</td>\n",
       "      <td>chr5</td>\n",
       "      <td>114173103</td>\n",
       "      <td>114173157</td>\n",
       "      <td>.</td>\n",
       "    </tr>\n",
       "    <tr>\n",
       "      <th>2</th>\n",
       "      <td>chr11:114795327-114795552</td>\n",
       "      <td>chr11</td>\n",
       "      <td>114795327</td>\n",
       "      <td>114795552</td>\n",
       "      <td>.</td>\n",
       "    </tr>\n",
       "    <tr>\n",
       "      <th>3</th>\n",
       "      <td>chr11:114795386-114795436</td>\n",
       "      <td>chr11</td>\n",
       "      <td>114795386</td>\n",
       "      <td>114795436</td>\n",
       "      <td>.</td>\n",
       "    </tr>\n",
       "    <tr>\n",
       "      <th>4</th>\n",
       "      <td>chr7:28302269-28302413</td>\n",
       "      <td>chr7</td>\n",
       "      <td>28302269</td>\n",
       "      <td>28302413</td>\n",
       "      <td>.</td>\n",
       "    </tr>\n",
       "    <tr>\n",
       "      <th>...</th>\n",
       "      <td>...</td>\n",
       "      <td>...</td>\n",
       "      <td>...</td>\n",
       "      <td>...</td>\n",
       "      <td>...</td>\n",
       "    </tr>\n",
       "    <tr>\n",
       "      <th>1721457</th>\n",
       "      <td>chr4:119422622-119422859</td>\n",
       "      <td>chr4</td>\n",
       "      <td>119422622</td>\n",
       "      <td>119422859</td>\n",
       "      <td>.</td>\n",
       "    </tr>\n",
       "    <tr>\n",
       "      <th>1721458</th>\n",
       "      <td>chr2:165900305-165900542</td>\n",
       "      <td>chr2</td>\n",
       "      <td>165900305</td>\n",
       "      <td>165900542</td>\n",
       "      <td>.</td>\n",
       "    </tr>\n",
       "    <tr>\n",
       "      <th>1721459</th>\n",
       "      <td>chr2:165906423-165906828</td>\n",
       "      <td>chr2</td>\n",
       "      <td>165906423</td>\n",
       "      <td>165906828</td>\n",
       "      <td>.</td>\n",
       "    </tr>\n",
       "    <tr>\n",
       "      <th>1721460</th>\n",
       "      <td>chr2:165922264-165922501</td>\n",
       "      <td>chr2</td>\n",
       "      <td>165922264</td>\n",
       "      <td>165922501</td>\n",
       "      <td>.</td>\n",
       "    </tr>\n",
       "    <tr>\n",
       "      <th>1721461</th>\n",
       "      <td>chr13:107861369-107861692</td>\n",
       "      <td>chr13</td>\n",
       "      <td>107861369</td>\n",
       "      <td>107861692</td>\n",
       "      <td>.</td>\n",
       "    </tr>\n",
       "  </tbody>\n",
       "</table>\n",
       "<p>1721462 rows × 5 columns</p>\n",
       "</div>"
      ],
      "text/plain": [
       "                            PeakID    chr      start        end strand\n",
       "0         chr5:114173037-114173222   chr5  114173037  114173222      .\n",
       "1         chr5:114173103-114173157   chr5  114173103  114173157      .\n",
       "2        chr11:114795327-114795552  chr11  114795327  114795552      .\n",
       "3        chr11:114795386-114795436  chr11  114795386  114795436      .\n",
       "4           chr7:28302269-28302413   chr7   28302269   28302413      .\n",
       "...                            ...    ...        ...        ...    ...\n",
       "1721457   chr4:119422622-119422859   chr4  119422622  119422859      .\n",
       "1721458   chr2:165900305-165900542   chr2  165900305  165900542      .\n",
       "1721459   chr2:165906423-165906828   chr2  165906423  165906828      .\n",
       "1721460   chr2:165922264-165922501   chr2  165922264  165922501      .\n",
       "1721461  chr13:107861369-107861692  chr13  107861369  107861692      .\n",
       "\n",
       "[1721462 rows x 5 columns]"
      ]
     },
     "execution_count": 84,
     "metadata": {},
     "output_type": "execute_result"
    }
   ],
   "source": [
    "# Format the DataFrame to follow the requirements for the Homer peaks file (used for both Homer and sliding window)\n",
    "homer_peaks = chip_bed_cleaned[[\"peak_id\", \"chrom\", \"start\", \"end\"]]\n",
    "homer_peaks = homer_peaks.rename(columns={\"peak_id\":\"PeakID\", \"chrom\":\"chr\"})\n",
    "homer_peaks[\"strand\"] = [\".\"] * len(homer_peaks)\n",
    "homer_peaks[\"start\"] = round(homer_peaks[\"start\"].astype(int),0)\n",
    "homer_peaks[\"end\"] = round(homer_peaks[\"end\"].astype(int),0)\n",
    "homer_peaks"
   ]
  },
  {
   "cell_type": "markdown",
   "id": "1d907624",
   "metadata": {},
   "source": [
    "This is a huge file - we dont need to test the method using all of them. We will take a sample to run the scoring on."
   ]
  },
  {
   "cell_type": "code",
   "execution_count": 88,
   "id": "f0243ae8",
   "metadata": {},
   "outputs": [
    {
     "data": {
      "text/plain": [
       "258219"
      ]
     },
     "execution_count": 88,
     "metadata": {},
     "output_type": "execute_result"
    }
   ],
   "source": [
    "homer_peaks_sample = homer_peaks.sample(frac=0.15)\n",
    "homer_peaks_sample.shape[0]"
   ]
  },
  {
   "cell_type": "markdown",
   "id": "769e6955",
   "metadata": {},
   "source": [
    "If we save the ChIP-seq peaks as `homer_peaks.txt` to the `tmp` directory of the output folder, then they will be used to calculate the sliding window and Homer scores"
   ]
  },
  {
   "cell_type": "code",
   "execution_count": 89,
   "id": "65ac491d",
   "metadata": {},
   "outputs": [],
   "source": [
    "homer_peak_path = os.path.join(tmp_dir, \"homer_peaks.txt\")\n",
    "homer_peaks_sample.to_csv(homer_peak_path, sep=\"\\t\", header=False, index=False)"
   ]
  },
  {
   "cell_type": "markdown",
   "id": "a5442251",
   "metadata": {},
   "source": [
    "### Running Homer\n",
    "\n",
    "Now that we have created the ground truth TF-peak and `homer_peaks.txt` files, we can run Homer on the ChIP-seq peaks"
   ]
  },
  {
   "cell_type": "code",
   "execution_count": 90,
   "id": "6c599214",
   "metadata": {
    "vscode": {
     "languageId": "shellscript"
    }
   },
   "outputs": [
    {
     "name": "stdout",
     "output_type": "stream",
     "text": [
      "Submitted batch job 3373645\n"
     ]
    }
   ],
   "source": [
    "!sbatch /gpfs/Labs/Uzun/SCRIPTS/PROJECTS/2024.SINGLE_CELL_GRN_INFERENCE.MOELLER/dev/testing_scripts/run_homer_on_chipseq.sh"
   ]
  },
  {
   "cell_type": "markdown",
   "id": "94bc5371",
   "metadata": {},
   "source": [
    "This bash script runs three processes:\n",
    "1. Homer `findMotifsGenome.pl`, which identifies enriched TF binding motifs in the genome.\n",
    "2. Homer `annotatePeaks.pl`, which matches TFs to a given set of peaks and provides mapping to the closet gene's TSS.\n",
    "3. `homer_tf_peak_motifs.py`, which uses the output of `annotatePeaks.pl` to calculate a binding score between each TF and peak. The TF binding score for a peak is calculated by taking the number of TF binding motifs for the peak / total TF motifs across all peaks.\n",
    "\n",
    "Once the bash script has finished, we can read in the output of `homer_tf_peak_motifs.py`, `homer_tf_to_peak.parquet`\n",
    "\n",
    "### Comparing Homer TF-peak predictions vs ChIP-seq"
   ]
  },
  {
   "cell_type": "code",
   "execution_count": 29,
   "id": "e0249309",
   "metadata": {},
   "outputs": [
    {
     "data": {
      "application/vnd.microsoft.datawrangler.viewer.v0+json": {
       "columns": [
        {
         "name": "index",
         "rawType": "int64",
         "type": "integer"
        },
        {
         "name": "peak_id",
         "rawType": "string",
         "type": "string"
        },
        {
         "name": "source_id",
         "rawType": "string",
         "type": "string"
        },
        {
         "name": "homer_binding_score",
         "rawType": "float64",
         "type": "float"
        }
       ],
       "ref": "a5f958f5-5936-4aea-8cbc-f1f344f16891",
       "rows": [
        [
         "0",
         "chr4:54740225-54740387",
         "AMYB",
         "0.12347251350844746"
        ],
        [
         "1",
         "chr11:22230932-22231308",
         "AMYB",
         "0.12347251350844746"
        ],
        [
         "2",
         "chr3:103914219-103914748",
         "AMYB",
         "0.12347251350844746"
        ],
        [
         "3",
         "chr17:66769860-66770121",
         "AMYB",
         "0.12347251350844746"
        ],
        [
         "4",
         "chr19:8984377-8984823",
         "AMYB",
         "0.12347251350844746"
        ],
        [
         "5",
         "chr16:17557904-17558377",
         "AMYB",
         "0.12347251350844746"
        ],
        [
         "6",
         "chr11:73172343-73172466",
         "AMYB",
         "0.12347251350844746"
        ],
        [
         "7",
         "chr5:75736343-75736699",
         "AMYB",
         "0.32477200115432825"
        ],
        [
         "8",
         "chr7:112728177-112728672",
         "AMYB",
         "0.12347251350844746"
        ],
        [
         "9",
         "chr3:101462119-101462695",
         "AMYB",
         "0.12347251350844746"
        ],
        [
         "10",
         "chr15:25959402-25959618",
         "AMYB",
         "0.12347251350844746"
        ],
        [
         "11",
         "chr7:123964607-123964896",
         "AMYB",
         "0.12347251350844746"
        ],
        [
         "12",
         "chr4:154492803-154493052",
         "AMYB",
         "0.12347251350844746"
        ],
        [
         "13",
         "chr7:98962593-98962968",
         "AMYB",
         "0.12347251350844746"
        ],
        [
         "14",
         "chr2:91101387-91101803",
         "AMYB",
         "0.12347251350844746"
        ],
        [
         "15",
         "chr10:126853320-126853501",
         "AMYB",
         "0.12347251350844746"
        ],
        [
         "16",
         "chr10:9071667-9072070",
         "AMYB",
         "0.12347251350844746"
        ],
        [
         "17",
         "chr3:90490959-90491165",
         "AMYB",
         "0.12347251350844746"
        ],
        [
         "18",
         "chr14:87181901-87182141",
         "AMYB",
         "0.12347251350844746"
        ],
        [
         "19",
         "chr11:49243683-49244656",
         "AMYB",
         "0.5013925000899923"
        ],
        [
         "20",
         "chr3:75164915-75165489",
         "AMYB",
         "0.12347251350844746"
        ],
        [
         "21",
         "chr9:106104461-106104750",
         "AMYB",
         "0.32477200115432825"
        ],
        [
         "22",
         "chr6:87042314-87042755",
         "AMYB",
         "0.12347251350844746"
        ],
        [
         "23",
         "chr1:38757462-38758186",
         "AMYB",
         "0.32477200115432825"
        ],
        [
         "24",
         "chr2:180806035-180806357",
         "AMYB",
         "0.32477200115432825"
        ],
        [
         "25",
         "chr1:187448333-187448663",
         "AMYB",
         "0.12347251350844746"
        ],
        [
         "26",
         "chr10:104219528-104219841",
         "AMYB",
         "0.12347251350844746"
        ],
        [
         "27",
         "chr14:21750362-21751308",
         "AMYB",
         "0.12347251350844746"
        ],
        [
         "28",
         "chrX:70369867-70370043",
         "AMYB",
         "0.12347251350844746"
        ],
        [
         "29",
         "chr5:121094835-121095046",
         "AMYB",
         "0.12347251350844746"
        ],
        [
         "30",
         "chr2:47295579-47295942",
         "AMYB",
         "0.12347251350844746"
        ],
        [
         "31",
         "chr14:45399931-45400145",
         "AMYB",
         "0.12347251350844746"
        ],
        [
         "32",
         "chr2:144368859-144368995",
         "AMYB",
         "0.12347251350844746"
        ],
        [
         "33",
         "chr11:100425930-100426160",
         "AMYB",
         "0.12347251350844746"
        ],
        [
         "34",
         "chr6:88893636-88894091",
         "AMYB",
         "0.12347251350844746"
        ],
        [
         "35",
         "chr1:183299049-183299665",
         "AMYB",
         "0.32477200115432825"
        ],
        [
         "36",
         "chr14:19416883-19418316",
         "AMYB",
         "0.12347251350844746"
        ],
        [
         "37",
         "chr17:28832107-28832378",
         "AMYB",
         "0.12347251350844746"
        ],
        [
         "38",
         "chr4:99376217-99376457",
         "AMYB",
         "0.12347251350844746"
        ],
        [
         "39",
         "chr6:30896423-30896799",
         "AMYB",
         "0.12347251350844746"
        ],
        [
         "40",
         "chr5:13421308-13421747",
         "AMYB",
         "0.12347251350844746"
        ],
        [
         "41",
         "chr6:6005847-6006095",
         "AMYB",
         "0.12347251350844746"
        ],
        [
         "42",
         "chr6:54253060-54253687",
         "AMYB",
         "0.12347251350844746"
        ],
        [
         "43",
         "chr7:116514046-116514445",
         "AMYB",
         "0.12347251350844746"
        ],
        [
         "44",
         "chr6:33066399-33067022",
         "AMYB",
         "0.12347251350844746"
        ],
        [
         "45",
         "chr12:102090707-102091214",
         "AMYB",
         "0.12347251350844746"
        ],
        [
         "46",
         "chr13:69467607-69467736",
         "AMYB",
         "0.12347251350844746"
        ],
        [
         "47",
         "chr4:149719765-149720041",
         "AMYB",
         "0.12347251350844746"
        ],
        [
         "48",
         "chr6:50294218-50294478",
         "AMYB",
         "0.32477200115432825"
        ],
        [
         "49",
         "chr7:6191413-6191754",
         "AMYB",
         "0.12347251350844746"
        ]
       ],
       "shape": {
        "columns": 3,
        "rows": 13915077
       }
      },
      "text/html": [
       "<div>\n",
       "<style scoped>\n",
       "    .dataframe tbody tr th:only-of-type {\n",
       "        vertical-align: middle;\n",
       "    }\n",
       "\n",
       "    .dataframe tbody tr th {\n",
       "        vertical-align: top;\n",
       "    }\n",
       "\n",
       "    .dataframe thead th {\n",
       "        text-align: right;\n",
       "    }\n",
       "</style>\n",
       "<table border=\"1\" class=\"dataframe\">\n",
       "  <thead>\n",
       "    <tr style=\"text-align: right;\">\n",
       "      <th></th>\n",
       "      <th>peak_id</th>\n",
       "      <th>source_id</th>\n",
       "      <th>homer_binding_score</th>\n",
       "    </tr>\n",
       "  </thead>\n",
       "  <tbody>\n",
       "    <tr>\n",
       "      <th>0</th>\n",
       "      <td>chr4:54740225-54740387</td>\n",
       "      <td>AMYB</td>\n",
       "      <td>0.123473</td>\n",
       "    </tr>\n",
       "    <tr>\n",
       "      <th>1</th>\n",
       "      <td>chr11:22230932-22231308</td>\n",
       "      <td>AMYB</td>\n",
       "      <td>0.123473</td>\n",
       "    </tr>\n",
       "    <tr>\n",
       "      <th>2</th>\n",
       "      <td>chr3:103914219-103914748</td>\n",
       "      <td>AMYB</td>\n",
       "      <td>0.123473</td>\n",
       "    </tr>\n",
       "    <tr>\n",
       "      <th>3</th>\n",
       "      <td>chr17:66769860-66770121</td>\n",
       "      <td>AMYB</td>\n",
       "      <td>0.123473</td>\n",
       "    </tr>\n",
       "    <tr>\n",
       "      <th>4</th>\n",
       "      <td>chr19:8984377-8984823</td>\n",
       "      <td>AMYB</td>\n",
       "      <td>0.123473</td>\n",
       "    </tr>\n",
       "    <tr>\n",
       "      <th>...</th>\n",
       "      <td>...</td>\n",
       "      <td>...</td>\n",
       "      <td>...</td>\n",
       "    </tr>\n",
       "    <tr>\n",
       "      <th>13915072</th>\n",
       "      <td>chr5:106665333-106665540</td>\n",
       "      <td>GFY-Staf</td>\n",
       "      <td>1.000000</td>\n",
       "    </tr>\n",
       "    <tr>\n",
       "      <th>13915073</th>\n",
       "      <td>chr5:110839575-110840204</td>\n",
       "      <td>GFY-Staf</td>\n",
       "      <td>1.000000</td>\n",
       "    </tr>\n",
       "    <tr>\n",
       "      <th>13915074</th>\n",
       "      <td>chr4:116708341-116708558</td>\n",
       "      <td>GFY-Staf</td>\n",
       "      <td>1.000000</td>\n",
       "    </tr>\n",
       "    <tr>\n",
       "      <th>13915075</th>\n",
       "      <td>chr11:35058727-35058888</td>\n",
       "      <td>GFY-Staf</td>\n",
       "      <td>1.000000</td>\n",
       "    </tr>\n",
       "    <tr>\n",
       "      <th>13915076</th>\n",
       "      <td>chr4:126778366-126778537</td>\n",
       "      <td>GFY-Staf</td>\n",
       "      <td>1.000000</td>\n",
       "    </tr>\n",
       "  </tbody>\n",
       "</table>\n",
       "<p>13915077 rows × 3 columns</p>\n",
       "</div>"
      ],
      "text/plain": [
       "                           peak_id source_id  homer_binding_score\n",
       "0           chr4:54740225-54740387      AMYB             0.123473\n",
       "1          chr11:22230932-22231308      AMYB             0.123473\n",
       "2         chr3:103914219-103914748      AMYB             0.123473\n",
       "3          chr17:66769860-66770121      AMYB             0.123473\n",
       "4            chr19:8984377-8984823      AMYB             0.123473\n",
       "...                            ...       ...                  ...\n",
       "13915072  chr5:106665333-106665540  GFY-Staf             1.000000\n",
       "13915073  chr5:110839575-110840204  GFY-Staf             1.000000\n",
       "13915074  chr4:116708341-116708558  GFY-Staf             1.000000\n",
       "13915075   chr11:35058727-35058888  GFY-Staf             1.000000\n",
       "13915076  chr4:126778366-126778537  GFY-Staf             1.000000\n",
       "\n",
       "[13915077 rows x 3 columns]"
      ]
     },
     "execution_count": 29,
     "metadata": {},
     "output_type": "execute_result"
    }
   ],
   "source": [
    "homer_results = pd.read_parquet(os.path.join(output_dir, \"homer_tf_to_peak.parquet\"), engine=\"pyarrow\")\n",
    "homer_results = homer_results.reset_index(drop=True)\n",
    "homer_results"
   ]
  },
  {
   "cell_type": "markdown",
   "id": "817e1280",
   "metadata": {},
   "source": [
    "We can use the `chip_tf_to_peak` object that we created from the ChIP-Atlas file to check our work. Since we sampled the ChIP-Atlas peaks before we ran Homer, we need to subset `chip_tf_to_peak` to only contain those peaks."
   ]
  },
  {
   "cell_type": "code",
   "execution_count": 17,
   "id": "ec5063b3",
   "metadata": {},
   "outputs": [
    {
     "name": "stderr",
     "output_type": "stream",
     "text": [
      "/tmp/ipykernel_1534135/1858101594.py:2: SettingWithCopyWarning: \n",
      "A value is trying to be set on a copy of a slice from a DataFrame.\n",
      "Try using .loc[row_indexer,col_indexer] = value instead\n",
      "\n",
      "See the caveats in the documentation: https://pandas.pydata.org/pandas-docs/stable/user_guide/indexing.html#returning-a-view-versus-a-copy\n",
      "  chip_tf_to_peak[\"gene_id\"] = chip_tf_to_peak[\"gene_id\"].str.upper()\n"
     ]
    }
   ],
   "source": [
    "homer_results[\"source_id\"] = homer_results[\"source_id\"].str.upper()\n",
    "chip_tf_to_peak[\"gene_id\"] = chip_tf_to_peak[\"gene_id\"].str.upper()"
   ]
  },
  {
   "cell_type": "code",
   "execution_count": 18,
   "id": "4fee11e4",
   "metadata": {},
   "outputs": [
    {
     "name": "stdout",
     "output_type": "stream",
     "text": [
      "Number of ChIP-Atlas peaks: 7508129\n",
      "Number of ChIP-Atlas TFs: 131\n"
     ]
    }
   ],
   "source": [
    "print(f\"Number of ChIP-Atlas peaks: {chip_tf_to_peak['peak_id'].nunique()}\")\n",
    "print(f\"Number of ChIP-Atlas TFs: {chip_tf_to_peak['gene_id'].nunique()}\")"
   ]
  },
  {
   "cell_type": "code",
   "execution_count": 19,
   "id": "1e2851b9",
   "metadata": {},
   "outputs": [
    {
     "name": "stdout",
     "output_type": "stream",
     "text": [
      "Number of Homer peaks: 373676\n",
      "Number of Homer TFs: 297\n"
     ]
    },
    {
     "data": {
      "application/vnd.microsoft.datawrangler.viewer.v0+json": {
       "columns": [
        {
         "name": "index",
         "rawType": "int64",
         "type": "integer"
        },
        {
         "name": "gene_id",
         "rawType": "object",
         "type": "string"
        },
        {
         "name": "peak_id",
         "rawType": "object",
         "type": "string"
        }
       ],
       "ref": "57ebcdc4-77d9-430a-9e71-34501643a4e8",
       "rows": [
        [
         "12",
         "KLF1",
         "chr1:3042893-3043261"
        ],
        [
         "78",
         "SIX2",
         "chr1:3117059-3117236"
        ],
        [
         "206",
         "SIX2",
         "chr1:3372710-3372882"
        ],
        [
         "240",
         "SIX2",
         "chr1:3400044-3400224"
        ],
        [
         "245",
         "SIX2",
         "chr1:3405880-3406080"
        ],
        [
         "246",
         "SIX2",
         "chr1:3405880-3406080"
        ],
        [
         "260",
         "SIX2",
         "chr1:3433862-3434252"
        ],
        [
         "277",
         "SIX2",
         "chr1:3433971-3434149"
        ],
        [
         "302",
         "HOXA13",
         "chr1:3495185-3495539"
        ],
        [
         "308",
         "HNF4A",
         "chr1:3514947-3515246"
        ],
        [
         "344",
         "SMAD4",
         "chr1:3584028-3584333"
        ],
        [
         "507",
         "CTCF",
         "chr1:3767708-3767897"
        ],
        [
         "512",
         "HOXA13",
         "chr1:3793894-3794214"
        ],
        [
         "533",
         "HOXA13",
         "chr1:3899917-3900194"
        ],
        [
         "630",
         "SMAD4",
         "chr1:4132300-4132506"
        ],
        [
         "716",
         "CTCF",
         "chr1:4228175-4228396"
        ],
        [
         "740",
         "CTCF",
         "chr1:4228246-4228546"
        ],
        [
         "741",
         "CTCF",
         "chr1:4228253-4228458"
        ],
        [
         "754",
         "CTCF",
         "chr1:4228278-4228467"
        ],
        [
         "755",
         "CTCF",
         "chr1:4228284-4228516"
        ],
        [
         "786",
         "PBX1",
         "chr1:4258107-4258361"
        ],
        [
         "794",
         "SMAD4",
         "chr1:4258265-4258365"
        ],
        [
         "828",
         "CTCF",
         "chr1:4332419-4332834"
        ],
        [
         "831",
         "CTCF",
         "chr1:4332438-4332876"
        ],
        [
         "833",
         "CTCF",
         "chr1:4332439-4332902"
        ],
        [
         "860",
         "CTCF",
         "chr1:4332501-4332794"
        ],
        [
         "899",
         "CTCF",
         "chr1:4332558-4332823"
        ],
        [
         "905",
         "CTCF",
         "chr1:4332561-4332738"
        ],
        [
         "918",
         "CTCF",
         "chr1:4332577-4332844"
        ],
        [
         "934",
         "CTCF",
         "chr1:4346111-4346597"
        ],
        [
         "935",
         "CTCF",
         "chr1:4346111-4346597"
        ],
        [
         "951",
         "CTCF",
         "chr1:4346255-4346579"
        ],
        [
         "969",
         "CTCF",
         "chr1:4346274-4346549"
        ],
        [
         "1035",
         "CTCF",
         "chr1:4382911-4383095"
        ],
        [
         "1040",
         "CTCF",
         "chr1:4382919-4383102"
        ],
        [
         "1080",
         "CTCF",
         "chr1:4416728-4417092"
        ],
        [
         "1122",
         "CTCF",
         "chr1:4416788-4416984"
        ],
        [
         "1203",
         "CTCF",
         "chr1:4490650-4490848"
        ],
        [
         "1216",
         "CTCF",
         "chr1:4491873-4492382"
        ],
        [
         "1235",
         "CTCF",
         "chr1:4492000-4492243"
        ],
        [
         "1283",
         "CTCF",
         "chr1:4516424-4517082"
        ],
        [
         "1338",
         "CTCF",
         "chr1:4516609-4516881"
        ],
        [
         "1349",
         "CTCF",
         "chr1:4516631-4516889"
        ],
        [
         "1365",
         "CTCF",
         "chr1:4516654-4516885"
        ],
        [
         "1368",
         "CTCF",
         "chr1:4516661-4516851"
        ],
        [
         "1394",
         "HOXD13",
         "chr1:4544105-4544306"
        ],
        [
         "1421",
         "CTCF",
         "chr1:4571233-4571897"
        ],
        [
         "1493",
         "HOXA11",
         "chr1:4571790-4572233"
        ],
        [
         "1681",
         "CTCF",
         "chr1:4768436-4768692"
        ],
        [
         "1683",
         "CTCF",
         "chr1:4768438-4768681"
        ]
       ],
       "shape": {
        "columns": 2,
        "rows": 245868
       }
      },
      "text/html": [
       "<div>\n",
       "<style scoped>\n",
       "    .dataframe tbody tr th:only-of-type {\n",
       "        vertical-align: middle;\n",
       "    }\n",
       "\n",
       "    .dataframe tbody tr th {\n",
       "        vertical-align: top;\n",
       "    }\n",
       "\n",
       "    .dataframe thead th {\n",
       "        text-align: right;\n",
       "    }\n",
       "</style>\n",
       "<table border=\"1\" class=\"dataframe\">\n",
       "  <thead>\n",
       "    <tr style=\"text-align: right;\">\n",
       "      <th></th>\n",
       "      <th>gene_id</th>\n",
       "      <th>peak_id</th>\n",
       "    </tr>\n",
       "  </thead>\n",
       "  <tbody>\n",
       "    <tr>\n",
       "      <th>12</th>\n",
       "      <td>KLF1</td>\n",
       "      <td>chr1:3042893-3043261</td>\n",
       "    </tr>\n",
       "    <tr>\n",
       "      <th>78</th>\n",
       "      <td>SIX2</td>\n",
       "      <td>chr1:3117059-3117236</td>\n",
       "    </tr>\n",
       "    <tr>\n",
       "      <th>206</th>\n",
       "      <td>SIX2</td>\n",
       "      <td>chr1:3372710-3372882</td>\n",
       "    </tr>\n",
       "    <tr>\n",
       "      <th>240</th>\n",
       "      <td>SIX2</td>\n",
       "      <td>chr1:3400044-3400224</td>\n",
       "    </tr>\n",
       "    <tr>\n",
       "      <th>245</th>\n",
       "      <td>SIX2</td>\n",
       "      <td>chr1:3405880-3406080</td>\n",
       "    </tr>\n",
       "    <tr>\n",
       "      <th>...</th>\n",
       "      <td>...</td>\n",
       "      <td>...</td>\n",
       "    </tr>\n",
       "    <tr>\n",
       "      <th>7624183</th>\n",
       "      <td>CTCF</td>\n",
       "      <td>chrY:90839467-90840036</td>\n",
       "    </tr>\n",
       "    <tr>\n",
       "      <th>7624187</th>\n",
       "      <td>CTCF</td>\n",
       "      <td>chrY:90839518-90840074</td>\n",
       "    </tr>\n",
       "    <tr>\n",
       "      <th>7624189</th>\n",
       "      <td>CTCF</td>\n",
       "      <td>chrY:90839526-90840044</td>\n",
       "    </tr>\n",
       "    <tr>\n",
       "      <th>7624192</th>\n",
       "      <td>CTCF</td>\n",
       "      <td>chrY:90839540-90840122</td>\n",
       "    </tr>\n",
       "    <tr>\n",
       "      <th>7624237</th>\n",
       "      <td>CTCF</td>\n",
       "      <td>chrY:90839635-90840106</td>\n",
       "    </tr>\n",
       "  </tbody>\n",
       "</table>\n",
       "<p>245868 rows × 2 columns</p>\n",
       "</div>"
      ],
      "text/plain": [
       "        gene_id                 peak_id\n",
       "12         KLF1    chr1:3042893-3043261\n",
       "78         SIX2    chr1:3117059-3117236\n",
       "206        SIX2    chr1:3372710-3372882\n",
       "240        SIX2    chr1:3400044-3400224\n",
       "245        SIX2    chr1:3405880-3406080\n",
       "...         ...                     ...\n",
       "7624183    CTCF  chrY:90839467-90840036\n",
       "7624187    CTCF  chrY:90839518-90840074\n",
       "7624189    CTCF  chrY:90839526-90840044\n",
       "7624192    CTCF  chrY:90839540-90840122\n",
       "7624237    CTCF  chrY:90839635-90840106\n",
       "\n",
       "[245868 rows x 2 columns]"
      ]
     },
     "execution_count": 19,
     "metadata": {},
     "output_type": "execute_result"
    }
   ],
   "source": [
    "homer_peak_set = set(homer_results[\"peak_id\"])\n",
    "homer_gene_set = set(homer_results[\"source_id\"])\n",
    "\n",
    "print(f\"Number of Homer peaks: {len(homer_peak_set)}\")\n",
    "print(f\"Number of Homer TFs: {len(homer_gene_set)}\")\n",
    "\n",
    "chip_tf_to_peak_sub = chip_tf_to_peak[\n",
    "    chip_tf_to_peak[\"peak_id\"].isin(homer_peak_set) &\n",
    "    chip_tf_to_peak[\"gene_id\"].isin(homer_gene_set)\n",
    "]\n",
    "chip_tf_to_peak_sub"
   ]
  },
  {
   "cell_type": "code",
   "execution_count": 20,
   "id": "f97d6fac",
   "metadata": {},
   "outputs": [
    {
     "name": "stdout",
     "output_type": "stream",
     "text": [
      "Number of shared peaks: 235613\n",
      "Number of shared TFs: 50\n"
     ]
    }
   ],
   "source": [
    "print(f\"Number of shared peaks: {chip_tf_to_peak_sub['peak_id'].nunique()}\")\n",
    "print(f\"Number of shared TFs: {chip_tf_to_peak_sub['gene_id'].nunique()}\")"
   ]
  },
  {
   "cell_type": "markdown",
   "id": "43e31378",
   "metadata": {},
   "source": [
    "We then combine the TF-peak mapping from ChIP-Atlas with the TF-peak mapping from the Homer score by merging the two DataFrames on `peak_id`."
   ]
  },
  {
   "cell_type": "code",
   "execution_count": null,
   "id": "21f68eba",
   "metadata": {},
   "outputs": [
    {
     "data": {
      "application/vnd.microsoft.datawrangler.viewer.v0+json": {
       "columns": [
        {
         "name": "index",
         "rawType": "int64",
         "type": "integer"
        },
        {
         "name": "chip_gene",
         "rawType": "object",
         "type": "string"
        },
        {
         "name": "homer_gene",
         "rawType": "string",
         "type": "string"
        },
        {
         "name": "peak_id",
         "rawType": "object",
         "type": "string"
        },
        {
         "name": "homer_binding_score",
         "rawType": "float64",
         "type": "float"
        }
       ],
       "ref": "88562631-2d6f-4637-a08b-bd4e421274d1",
       "rows": [
        [
         "0",
         "KLF1",
         "ATOH1",
         "chr1:3042893-3043261",
         "0.45975405571100353"
        ],
        [
         "1",
         "KLF1",
         "HOXA9",
         "chr1:3042893-3043261",
         "0.019477718711645175"
        ],
        [
         "2",
         "KLF1",
         "ATOH7",
         "chr1:3042893-3043261",
         "0.2020803413272717"
        ],
        [
         "3",
         "KLF1",
         "HOXA11",
         "chr1:3042893-3043261",
         "0.1598724440692475"
        ],
        [
         "4",
         "KLF1",
         "HOXA13",
         "chr1:3042893-3043261",
         "0.1370782153212818"
        ],
        [
         "5",
         "KLF1",
         "HOXC6",
         "chr1:3042893-3043261",
         "0.0"
        ],
        [
         "6",
         "KLF1",
         "HOXD11",
         "chr1:3042893-3043261",
         "0.029464361024227798"
        ],
        [
         "7",
         "KLF1",
         "HOXD13",
         "chr1:3042893-3043261",
         "0.2844879271378559"
        ],
        [
         "8",
         "KLF1",
         "LEF1",
         "chr1:3042893-3043261",
         "0.451372568614718"
        ],
        [
         "9",
         "KLF1",
         "BHLHA15",
         "chr1:3042893-3043261",
         "0.012293998108120865"
        ],
        [
         "10",
         "KLF1",
         "MITF",
         "chr1:3042893-3043261",
         "0.25712712275668725"
        ],
        [
         "11",
         "KLF1",
         "MNT",
         "chr1:3042893-3043261",
         "0.16538796875441705"
        ],
        [
         "12",
         "KLF1",
         "MYB",
         "chr1:3042893-3043261",
         "0.09369369172270371"
        ],
        [
         "13",
         "KLF1",
         "BMAL1",
         "chr1:3042893-3043261",
         "0.17700994028860567"
        ],
        [
         "14",
         "KLF1",
         "MAX",
         "chr1:3042893-3043261",
         "0.4416477478381369"
        ],
        [
         "15",
         "KLF1",
         "MEIS1",
         "chr1:3042893-3043261",
         "0.18674543235845345"
        ],
        [
         "16",
         "KLF1",
         "NF1",
         "chr1:3042893-3043261",
         "0.7828117999959878"
        ],
        [
         "17",
         "KLF1",
         "NF1",
         "chr1:3042893-3043261",
         "0.7828117999959878"
        ],
        [
         "18",
         "KLF1",
         "NPAS",
         "chr1:3042893-3043261",
         "0.1744019266885092"
        ],
        [
         "19",
         "KLF1",
         "NANOG",
         "chr1:3042893-3043261",
         "0.041713095024469356"
        ],
        [
         "20",
         "KLF1",
         "NEUROG2",
         "chr1:3042893-3043261",
         "0.053828507931017"
        ],
        [
         "21",
         "KLF1",
         "OLIG2",
         "chr1:3042893-3043261",
         "0.12385902643416066"
        ],
        [
         "22",
         "KLF1",
         "BCL11A",
         "chr1:3042893-3043261",
         "0.26820253347263256"
        ],
        [
         "23",
         "KLF1",
         "PIT1+1BP",
         "chr1:3042893-3043261",
         "0.7189158844528257"
        ],
        [
         "24",
         "KLF1",
         "PTF1A",
         "chr1:3042893-3043261",
         "0.009568380830639031"
        ],
        [
         "25",
         "KLF1",
         "RBPJ",
         "chr1:3042893-3043261",
         "0.8845451486682389"
        ],
        [
         "26",
         "KLF1",
         "SCL",
         "chr1:3042893-3043261",
         "0.1085914947883166"
        ],
        [
         "27",
         "KLF1",
         "SIX2",
         "chr1:3042893-3043261",
         "0.21236963795205838"
        ],
        [
         "28",
         "KLF1",
         "SMAD3",
         "chr1:3042893-3043261",
         "0.006781021872603513"
        ],
        [
         "29",
         "KLF1",
         "SMAD4",
         "chr1:3042893-3043261",
         "0.08283559876358566"
        ],
        [
         "30",
         "KLF1",
         "SOX4",
         "chr1:3042893-3043261",
         "0.3601272206911727"
        ],
        [
         "31",
         "KLF1",
         "SOX10",
         "chr1:3042893-3043261",
         "0.34926971644460036"
        ],
        [
         "32",
         "KLF1",
         "TCF4",
         "chr1:3042893-3043261",
         "0.2098045250193954"
        ],
        [
         "33",
         "KLF1",
         "TBX5",
         "chr1:3042893-3043261",
         "0.0"
        ],
        [
         "34",
         "KLF1",
         "TGIF1",
         "chr1:3042893-3043261",
         "0.041545227281976065"
        ],
        [
         "35",
         "KLF1",
         "TGIF2",
         "chr1:3042893-3043261",
         "0.046041801037862436"
        ],
        [
         "36",
         "KLF1",
         "TWIST2",
         "chr1:3042893-3043261",
         "0.21180588018474147"
        ],
        [
         "37",
         "KLF1",
         "UNKNOWN",
         "chr1:3042893-3043261",
         "0.3877826236374645"
        ],
        [
         "38",
         "KLF1",
         "ZAC1",
         "chr1:3042893-3043261",
         "0.0075468332052421845"
        ],
        [
         "39",
         "KLF1",
         "ASCL1",
         "chr1:3042893-3043261",
         "0.1680391607308481"
        ],
        [
         "40",
         "KLF1",
         "ERG",
         "chr1:3042893-3043261",
         "0.1052927002959049"
        ],
        [
         "41",
         "KLF1",
         "EWS",
         "chr1:3042893-3043261",
         "0.3954063520677275"
        ],
        [
         "42",
         "KLF1",
         "EWS",
         "chr1:3042893-3043261",
         "0.3954063520677275"
        ],
        [
         "43",
         "KLF1",
         "ETV2",
         "chr1:3042893-3043261",
         "0.24809817318002633"
        ],
        [
         "44",
         "KLF1",
         "FOXK1",
         "chr1:3042893-3043261",
         "0.22798182744486611"
        ],
        [
         "45",
         "KLF1",
         "FOX",
         "chr1:3042893-3043261",
         "0.21571594585655723"
        ],
        [
         "46",
         "KLF1",
         "FOXL2",
         "chr1:3042893-3043261",
         "0.21879235609492198"
        ],
        [
         "47",
         "KLF1",
         "FOXF1",
         "chr1:3042893-3043261",
         "0.18245530593548037"
        ],
        [
         "48",
         "SIX2",
         "ISL1",
         "chr1:3117059-3117236",
         "0.2402029087460546"
        ],
        [
         "49",
         "SIX2",
         "MIXL1",
         "chr1:3117059-3117236",
         "0.37451541219892776"
        ]
       ],
       "shape": {
        "columns": 4,
        "rows": 9233875
       }
      },
      "text/html": [
       "<div>\n",
       "<style scoped>\n",
       "    .dataframe tbody tr th:only-of-type {\n",
       "        vertical-align: middle;\n",
       "    }\n",
       "\n",
       "    .dataframe tbody tr th {\n",
       "        vertical-align: top;\n",
       "    }\n",
       "\n",
       "    .dataframe thead th {\n",
       "        text-align: right;\n",
       "    }\n",
       "</style>\n",
       "<table border=\"1\" class=\"dataframe\">\n",
       "  <thead>\n",
       "    <tr style=\"text-align: right;\">\n",
       "      <th></th>\n",
       "      <th>chip_gene</th>\n",
       "      <th>homer_gene</th>\n",
       "      <th>peak_id</th>\n",
       "      <th>homer_binding_score</th>\n",
       "    </tr>\n",
       "  </thead>\n",
       "  <tbody>\n",
       "    <tr>\n",
       "      <th>0</th>\n",
       "      <td>KLF1</td>\n",
       "      <td>ATOH1</td>\n",
       "      <td>chr1:3042893-3043261</td>\n",
       "      <td>0.459754</td>\n",
       "    </tr>\n",
       "    <tr>\n",
       "      <th>1</th>\n",
       "      <td>KLF1</td>\n",
       "      <td>HOXA9</td>\n",
       "      <td>chr1:3042893-3043261</td>\n",
       "      <td>0.019478</td>\n",
       "    </tr>\n",
       "    <tr>\n",
       "      <th>2</th>\n",
       "      <td>KLF1</td>\n",
       "      <td>ATOH7</td>\n",
       "      <td>chr1:3042893-3043261</td>\n",
       "      <td>0.202080</td>\n",
       "    </tr>\n",
       "    <tr>\n",
       "      <th>3</th>\n",
       "      <td>KLF1</td>\n",
       "      <td>HOXA11</td>\n",
       "      <td>chr1:3042893-3043261</td>\n",
       "      <td>0.159872</td>\n",
       "    </tr>\n",
       "    <tr>\n",
       "      <th>4</th>\n",
       "      <td>KLF1</td>\n",
       "      <td>HOXA13</td>\n",
       "      <td>chr1:3042893-3043261</td>\n",
       "      <td>0.137078</td>\n",
       "    </tr>\n",
       "    <tr>\n",
       "      <th>...</th>\n",
       "      <td>...</td>\n",
       "      <td>...</td>\n",
       "      <td>...</td>\n",
       "      <td>...</td>\n",
       "    </tr>\n",
       "    <tr>\n",
       "      <th>9233870</th>\n",
       "      <td>CTCF</td>\n",
       "      <td>ELF4</td>\n",
       "      <td>chrY:90839635-90840106</td>\n",
       "      <td>0.214559</td>\n",
       "    </tr>\n",
       "    <tr>\n",
       "      <th>9233871</th>\n",
       "      <td>CTCF</td>\n",
       "      <td>ERRA</td>\n",
       "      <td>chrY:90839635-90840106</td>\n",
       "      <td>0.181344</td>\n",
       "    </tr>\n",
       "    <tr>\n",
       "      <th>9233872</th>\n",
       "      <td>CTCF</td>\n",
       "      <td>FOXH1</td>\n",
       "      <td>chrY:90839635-90840106</td>\n",
       "      <td>0.513807</td>\n",
       "    </tr>\n",
       "    <tr>\n",
       "      <th>9233873</th>\n",
       "      <td>CTCF</td>\n",
       "      <td>FOXO1</td>\n",
       "      <td>chrY:90839635-90840106</td>\n",
       "      <td>0.245625</td>\n",
       "    </tr>\n",
       "    <tr>\n",
       "      <th>9233874</th>\n",
       "      <td>CTCF</td>\n",
       "      <td>GABPA</td>\n",
       "      <td>chrY:90839635-90840106</td>\n",
       "      <td>0.231048</td>\n",
       "    </tr>\n",
       "  </tbody>\n",
       "</table>\n",
       "<p>9233875 rows × 4 columns</p>\n",
       "</div>"
      ],
      "text/plain": [
       "        chip_gene homer_gene                 peak_id  homer_binding_score\n",
       "0            KLF1      ATOH1    chr1:3042893-3043261             0.459754\n",
       "1            KLF1      HOXA9    chr1:3042893-3043261             0.019478\n",
       "2            KLF1      ATOH7    chr1:3042893-3043261             0.202080\n",
       "3            KLF1     HOXA11    chr1:3042893-3043261             0.159872\n",
       "4            KLF1     HOXA13    chr1:3042893-3043261             0.137078\n",
       "...           ...        ...                     ...                  ...\n",
       "9233870      CTCF       ELF4  chrY:90839635-90840106             0.214559\n",
       "9233871      CTCF       ERRA  chrY:90839635-90840106             0.181344\n",
       "9233872      CTCF      FOXH1  chrY:90839635-90840106             0.513807\n",
       "9233873      CTCF      FOXO1  chrY:90839635-90840106             0.245625\n",
       "9233874      CTCF      GABPA  chrY:90839635-90840106             0.231048\n",
       "\n",
       "[9233875 rows x 4 columns]"
      ]
     },
     "execution_count": 21,
     "metadata": {},
     "output_type": "execute_result"
    }
   ],
   "source": [
    "merged_df = pd.merge(chip_tf_to_peak_sub, homer_results, on=\"peak_id\", how=\"inner\")\n",
    "merged_df = merged_df.rename(columns={\"gene_id\": \"chip_gene\", \"source_id\": \"homer_gene\"})\n",
    "merged_df = merged_df[[\"chip_gene\", \"homer_gene\", \"peak_id\", \"homer_binding_score\"]]\n",
    "merged_df"
   ]
  },
  {
   "cell_type": "code",
   "execution_count": null,
   "id": "05f352a7",
   "metadata": {},
   "outputs": [],
   "source": [
    "merged_df.to_csv(os.path.join(output_dir, \"chipseq_homer_merged.csv\"), header=True, index=False)"
   ]
  },
  {
   "cell_type": "markdown",
   "id": "83b7592f",
   "metadata": {},
   "source": [
    "We can extract the correct and incorrect predictions to see how the Homer binding scores vary between them."
   ]
  },
  {
   "cell_type": "code",
   "execution_count": 31,
   "id": "5d86c337",
   "metadata": {},
   "outputs": [
    {
     "name": "stdout",
     "output_type": "stream",
     "text": [
      "Num correct predictions: 155450\n",
      "Num incorrect predictions: 9078425\n",
      "Num unique correct TFs: 49\n",
      "Num unique incorrect TFs: 50\n"
     ]
    }
   ],
   "source": [
    "correct_predictions = merged_df[merged_df[\"chip_gene\"] == merged_df[\"homer_gene\"]]\n",
    "incorrect_predictions = merged_df[merged_df[\"chip_gene\"] != merged_df[\"homer_gene\"]]\n",
    "\n",
    "print(f\"Num correct predictions: {len(correct_predictions)}\")\n",
    "print(f\"Num incorrect predictions: {len(incorrect_predictions)}\")\n",
    "\n",
    "print(f\"Num unique correct TFs: {correct_predictions['chip_gene'].nunique()}\")\n",
    "print(f\"Num unique incorrect TFs: {incorrect_predictions['chip_gene'].nunique()}\")"
   ]
  },
  {
   "cell_type": "code",
   "execution_count": 35,
   "id": "c5d61b03",
   "metadata": {},
   "outputs": [
    {
     "data": {
      "application/vnd.microsoft.datawrangler.viewer.v0+json": {
       "columns": [
        {
         "name": "index",
         "rawType": "int64",
         "type": "integer"
        },
        {
         "name": "chip_gene",
         "rawType": "object",
         "type": "string"
        },
        {
         "name": "homer_gene",
         "rawType": "string",
         "type": "string"
        },
        {
         "name": "peak_id",
         "rawType": "object",
         "type": "string"
        },
        {
         "name": "homer_binding_score",
         "rawType": "float64",
         "type": "float"
        },
        {
         "name": "chip_gene_norm",
         "rawType": "object",
         "type": "string"
        },
        {
         "name": "homer_gene_norm",
         "rawType": "string",
         "type": "string"
        }
       ],
       "ref": "882a6f5e-046a-416f-810b-5201a36a12ff",
       "rows": [
        [
         "59",
         "SIX2",
         "SIX2",
         "chr1:3117059-3117236",
         "0.21236963795205838",
         "SIX2",
         "SIX2"
        ],
        [
         "88",
         "SIX2",
         "SIX2",
         "chr1:3372710-3372882",
         "0.21236963795205838",
         "SIX2",
         "SIX2"
        ],
        [
         "126",
         "SIX2",
         "SIX2",
         "chr1:3400044-3400224",
         "0.21236963795205838",
         "SIX2",
         "SIX2"
        ],
        [
         "306",
         "HOXA13",
         "HOXA13",
         "chr1:3495185-3495539",
         "0.44342409223561036",
         "HOXA13",
         "HOXA13"
        ],
        [
         "432",
         "SMAD4",
         "SMAD4",
         "chr1:3584028-3584333",
         "0.2533288971250972",
         "SMAD4",
         "SMAD4"
        ],
        [
         "467",
         "HOXA13",
         "HOXA13",
         "chr1:3793894-3794214",
         "0.44342409223561036",
         "HOXA13",
         "HOXA13"
        ],
        [
         "504",
         "HOXA13",
         "HOXA13",
         "chr1:3899917-3900194",
         "0.44342409223561036",
         "HOXA13",
         "HOXA13"
        ],
        [
         "623",
         "CTCF",
         "CTCF",
         "chr1:4228175-4228396",
         "0.07121488568309588",
         "CTCF",
         "CTCF"
        ],
        [
         "663",
         "CTCF",
         "CTCF",
         "chr1:4228246-4228546",
         "0.07121488568309588",
         "CTCF",
         "CTCF"
        ],
        [
         "697",
         "CTCF",
         "CTCF",
         "chr1:4228253-4228458",
         "0.07121488568309588",
         "CTCF",
         "CTCF"
        ],
        [
         "728",
         "CTCF",
         "CTCF",
         "chr1:4228278-4228467",
         "0.07121488568309588",
         "CTCF",
         "CTCF"
        ],
        [
         "764",
         "CTCF",
         "CTCF",
         "chr1:4228284-4228516",
         "0.07121488568309588",
         "CTCF",
         "CTCF"
        ],
        [
         "832",
         "CTCF",
         "CTCF",
         "chr1:4332419-4332834",
         "0.07121488568309588",
         "CTCF",
         "CTCF"
        ],
        [
         "891",
         "CTCF",
         "CTCF",
         "chr1:4332438-4332876",
         "0.07121488568309588",
         "CTCF",
         "CTCF"
        ],
        [
         "951",
         "CTCF",
         "CTCF",
         "chr1:4332439-4332902",
         "0.07121488568309588",
         "CTCF",
         "CTCF"
        ],
        [
         "998",
         "CTCF",
         "CTCF",
         "chr1:4332501-4332794",
         "0.07121488568309588",
         "CTCF",
         "CTCF"
        ],
        [
         "1054",
         "CTCF",
         "CTCF",
         "chr1:4332558-4332823",
         "0.07121488568309588",
         "CTCF",
         "CTCF"
        ],
        [
         "1093",
         "CTCF",
         "CTCF",
         "chr1:4332561-4332738",
         "0.07121488568309588",
         "CTCF",
         "CTCF"
        ],
        [
         "1145",
         "CTCF",
         "CTCF",
         "chr1:4332577-4332844",
         "0.07121488568309588",
         "CTCF",
         "CTCF"
        ],
        [
         "1295",
         "CTCF",
         "CTCF",
         "chr1:4382911-4383095",
         "0.07121488568309588",
         "CTCF",
         "CTCF"
        ],
        [
         "1337",
         "CTCF",
         "CTCF",
         "chr1:4382919-4383102",
         "0.07121488568309588",
         "CTCF",
         "CTCF"
        ],
        [
         "1378",
         "CTCF",
         "CTCF",
         "chr1:4416728-4417092",
         "0.07121488568309588",
         "CTCF",
         "CTCF"
        ],
        [
         "1402",
         "CTCF",
         "CTCF",
         "chr1:4416788-4416984",
         "0.07121488568309588",
         "CTCF",
         "CTCF"
        ],
        [
         "1532",
         "CTCF",
         "CTCF",
         "chr1:4516424-4517082",
         "0.07121488568309588",
         "CTCF",
         "CTCF"
        ],
        [
         "1569",
         "CTCF",
         "CTCF",
         "chr1:4516609-4516881",
         "0.07121488568309588",
         "CTCF",
         "CTCF"
        ],
        [
         "1592",
         "CTCF",
         "CTCF",
         "chr1:4516631-4516889",
         "0.07121488568309588",
         "CTCF",
         "CTCF"
        ],
        [
         "1615",
         "CTCF",
         "CTCF",
         "chr1:4516654-4516885",
         "0.07121488568309588",
         "CTCF",
         "CTCF"
        ],
        [
         "1637",
         "CTCF",
         "CTCF",
         "chr1:4516661-4516851",
         "0.07121488568309588",
         "CTCF",
         "CTCF"
        ],
        [
         "1792",
         "HOXA11",
         "HOXA11",
         "chr1:4571790-4572233",
         "0.030992369363996422",
         "HOXA11",
         "HOXA11"
        ],
        [
         "1846",
         "CTCF",
         "CTCF",
         "chr1:4768436-4768692",
         "0.07121488568309588",
         "CTCF",
         "CTCF"
        ],
        [
         "1871",
         "CTCF",
         "CTCF",
         "chr1:4768438-4768681",
         "0.07121488568309588",
         "CTCF",
         "CTCF"
        ],
        [
         "1897",
         "CTCF",
         "CTCF",
         "chr1:4768453-4768706",
         "0.07121488568309588",
         "CTCF",
         "CTCF"
        ],
        [
         "1952",
         "CTCF",
         "CTCF",
         "chr1:4769849-4770346",
         "0.07121488568309588",
         "CTCF",
         "CTCF"
        ],
        [
         "1988",
         "CTCF",
         "CTCF",
         "chr1:4769925-4770156",
         "0.07121488568309588",
         "CTCF",
         "CTCF"
        ],
        [
         "2024",
         "CTCF",
         "CTCF",
         "chr1:4769930-4770191",
         "0.07121488568309588",
         "CTCF",
         "CTCF"
        ],
        [
         "2062",
         "CTCF",
         "CTCF",
         "chr1:4769941-4770205",
         "0.07121488568309588",
         "CTCF",
         "CTCF"
        ],
        [
         "2146",
         "CTCF",
         "CTCF",
         "chr1:4780147-4780446",
         "0.07121488568309588",
         "CTCF",
         "CTCF"
        ],
        [
         "2214",
         "SIX2",
         "SIX2",
         "chr1:4819558-4819855",
         "0.21236963795205838",
         "SIX2",
         "SIX2"
        ],
        [
         "2258",
         "SIX2",
         "SIX2",
         "chr1:4829429-4829711",
         "0.21236963795205838",
         "SIX2",
         "SIX2"
        ],
        [
         "2303",
         "CTCF",
         "CTCF",
         "chr1:4836676-4836846",
         "0.07121488568309588",
         "CTCF",
         "CTCF"
        ],
        [
         "2398",
         "HOXA13",
         "HOXA13",
         "chr1:4899848-4900201",
         "0.44342409223561036",
         "HOXA13",
         "HOXA13"
        ],
        [
         "2542",
         "CTCF",
         "CTCF",
         "chr1:4914489-4914643",
         "0.07121488568309588",
         "CTCF",
         "CTCF"
        ],
        [
         "2591",
         "NEUROG2",
         "NEUROG2",
         "chr1:4970726-4971353",
         "0.3352152557060258",
         "NEUROG2",
         "NEUROG2"
        ],
        [
         "2664",
         "CTCF",
         "CTCF",
         "chr1:5017961-5018159",
         "0.07121488568309588",
         "CTCF",
         "CTCF"
        ],
        [
         "2818",
         "CTCF",
         "CTCF",
         "chr1:5103243-5103440",
         "0.07121488568309588",
         "CTCF",
         "CTCF"
        ],
        [
         "2840",
         "CTCF",
         "CTCF",
         "chr1:5103270-5103449",
         "0.07121488568309588",
         "CTCF",
         "CTCF"
        ],
        [
         "2861",
         "CTCF",
         "CTCF",
         "chr1:5103292-5103433",
         "0.07121488568309588",
         "CTCF",
         "CTCF"
        ],
        [
         "2919",
         "CTCF",
         "CTCF",
         "chr1:5138557-5138754",
         "0.07121488568309588",
         "CTCF",
         "CTCF"
        ],
        [
         "2936",
         "SMAD4",
         "SMAD4",
         "chr1:5189499-5189734",
         "0.2533288971250972",
         "SMAD4",
         "SMAD4"
        ],
        [
         "2976",
         "HOXA11",
         "HOXA11",
         "chr1:5467682-5467874",
         "0.1598724440692475",
         "HOXA11",
         "HOXA11"
        ]
       ],
       "shape": {
        "columns": 6,
        "rows": 155450
       }
      },
      "text/html": [
       "<div>\n",
       "<style scoped>\n",
       "    .dataframe tbody tr th:only-of-type {\n",
       "        vertical-align: middle;\n",
       "    }\n",
       "\n",
       "    .dataframe tbody tr th {\n",
       "        vertical-align: top;\n",
       "    }\n",
       "\n",
       "    .dataframe thead th {\n",
       "        text-align: right;\n",
       "    }\n",
       "</style>\n",
       "<table border=\"1\" class=\"dataframe\">\n",
       "  <thead>\n",
       "    <tr style=\"text-align: right;\">\n",
       "      <th></th>\n",
       "      <th>chip_gene</th>\n",
       "      <th>homer_gene</th>\n",
       "      <th>peak_id</th>\n",
       "      <th>homer_binding_score</th>\n",
       "      <th>chip_gene_norm</th>\n",
       "      <th>homer_gene_norm</th>\n",
       "    </tr>\n",
       "  </thead>\n",
       "  <tbody>\n",
       "    <tr>\n",
       "      <th>59</th>\n",
       "      <td>SIX2</td>\n",
       "      <td>SIX2</td>\n",
       "      <td>chr1:3117059-3117236</td>\n",
       "      <td>0.212370</td>\n",
       "      <td>SIX2</td>\n",
       "      <td>SIX2</td>\n",
       "    </tr>\n",
       "    <tr>\n",
       "      <th>88</th>\n",
       "      <td>SIX2</td>\n",
       "      <td>SIX2</td>\n",
       "      <td>chr1:3372710-3372882</td>\n",
       "      <td>0.212370</td>\n",
       "      <td>SIX2</td>\n",
       "      <td>SIX2</td>\n",
       "    </tr>\n",
       "    <tr>\n",
       "      <th>126</th>\n",
       "      <td>SIX2</td>\n",
       "      <td>SIX2</td>\n",
       "      <td>chr1:3400044-3400224</td>\n",
       "      <td>0.212370</td>\n",
       "      <td>SIX2</td>\n",
       "      <td>SIX2</td>\n",
       "    </tr>\n",
       "    <tr>\n",
       "      <th>306</th>\n",
       "      <td>HOXA13</td>\n",
       "      <td>HOXA13</td>\n",
       "      <td>chr1:3495185-3495539</td>\n",
       "      <td>0.443424</td>\n",
       "      <td>HOXA13</td>\n",
       "      <td>HOXA13</td>\n",
       "    </tr>\n",
       "    <tr>\n",
       "      <th>432</th>\n",
       "      <td>SMAD4</td>\n",
       "      <td>SMAD4</td>\n",
       "      <td>chr1:3584028-3584333</td>\n",
       "      <td>0.253329</td>\n",
       "      <td>SMAD4</td>\n",
       "      <td>SMAD4</td>\n",
       "    </tr>\n",
       "    <tr>\n",
       "      <th>...</th>\n",
       "      <td>...</td>\n",
       "      <td>...</td>\n",
       "      <td>...</td>\n",
       "      <td>...</td>\n",
       "      <td>...</td>\n",
       "      <td>...</td>\n",
       "    </tr>\n",
       "    <tr>\n",
       "      <th>9233563</th>\n",
       "      <td>CTCF</td>\n",
       "      <td>CTCF</td>\n",
       "      <td>chrY:90839467-90840036</td>\n",
       "      <td>0.071215</td>\n",
       "      <td>CTCF</td>\n",
       "      <td>CTCF</td>\n",
       "    </tr>\n",
       "    <tr>\n",
       "      <th>9233638</th>\n",
       "      <td>CTCF</td>\n",
       "      <td>CTCF</td>\n",
       "      <td>chrY:90839518-90840074</td>\n",
       "      <td>0.071215</td>\n",
       "      <td>CTCF</td>\n",
       "      <td>CTCF</td>\n",
       "    </tr>\n",
       "    <tr>\n",
       "      <th>9233713</th>\n",
       "      <td>CTCF</td>\n",
       "      <td>CTCF</td>\n",
       "      <td>chrY:90839526-90840044</td>\n",
       "      <td>0.071215</td>\n",
       "      <td>CTCF</td>\n",
       "      <td>CTCF</td>\n",
       "    </tr>\n",
       "    <tr>\n",
       "      <th>9233793</th>\n",
       "      <td>CTCF</td>\n",
       "      <td>CTCF</td>\n",
       "      <td>chrY:90839540-90840122</td>\n",
       "      <td>0.071215</td>\n",
       "      <td>CTCF</td>\n",
       "      <td>CTCF</td>\n",
       "    </tr>\n",
       "    <tr>\n",
       "      <th>9233861</th>\n",
       "      <td>CTCF</td>\n",
       "      <td>CTCF</td>\n",
       "      <td>chrY:90839635-90840106</td>\n",
       "      <td>0.071215</td>\n",
       "      <td>CTCF</td>\n",
       "      <td>CTCF</td>\n",
       "    </tr>\n",
       "  </tbody>\n",
       "</table>\n",
       "<p>155450 rows × 6 columns</p>\n",
       "</div>"
      ],
      "text/plain": [
       "        chip_gene homer_gene                 peak_id  homer_binding_score  \\\n",
       "59           SIX2       SIX2    chr1:3117059-3117236             0.212370   \n",
       "88           SIX2       SIX2    chr1:3372710-3372882             0.212370   \n",
       "126          SIX2       SIX2    chr1:3400044-3400224             0.212370   \n",
       "306        HOXA13     HOXA13    chr1:3495185-3495539             0.443424   \n",
       "432         SMAD4      SMAD4    chr1:3584028-3584333             0.253329   \n",
       "...           ...        ...                     ...                  ...   \n",
       "9233563      CTCF       CTCF  chrY:90839467-90840036             0.071215   \n",
       "9233638      CTCF       CTCF  chrY:90839518-90840074             0.071215   \n",
       "9233713      CTCF       CTCF  chrY:90839526-90840044             0.071215   \n",
       "9233793      CTCF       CTCF  chrY:90839540-90840122             0.071215   \n",
       "9233861      CTCF       CTCF  chrY:90839635-90840106             0.071215   \n",
       "\n",
       "        chip_gene_norm homer_gene_norm  \n",
       "59                SIX2            SIX2  \n",
       "88                SIX2            SIX2  \n",
       "126               SIX2            SIX2  \n",
       "306             HOXA13          HOXA13  \n",
       "432              SMAD4           SMAD4  \n",
       "...                ...             ...  \n",
       "9233563           CTCF            CTCF  \n",
       "9233638           CTCF            CTCF  \n",
       "9233713           CTCF            CTCF  \n",
       "9233793           CTCF            CTCF  \n",
       "9233861           CTCF            CTCF  \n",
       "\n",
       "[155450 rows x 6 columns]"
      ]
     },
     "execution_count": 35,
     "metadata": {},
     "output_type": "execute_result"
    }
   ],
   "source": [
    "correct_predictions"
   ]
  },
  {
   "cell_type": "markdown",
   "id": "32be2e9e",
   "metadata": {},
   "source": [
    "Now that we have split the predictions by correct / incorrect TF to peak binding, we can find the average Homer binding scores when the TF binding is correct vs incorrect"
   ]
  },
  {
   "cell_type": "code",
   "execution_count": 44,
   "id": "622a11d8",
   "metadata": {},
   "outputs": [
    {
     "data": {
      "application/vnd.microsoft.datawrangler.viewer.v0+json": {
       "columns": [
        {
         "name": "index",
         "rawType": "int64",
         "type": "integer"
        },
        {
         "name": "chip_gene",
         "rawType": "object",
         "type": "string"
        },
        {
         "name": "Correct TF Binding Prediction",
         "rawType": "float64",
         "type": "float"
        }
       ],
       "ref": "d655b19a-7c50-4504-852d-a4cf030a2a07",
       "rows": [
        [
         "10",
         "HNF1B",
         "1.0"
        ],
        [
         "28",
         "PAX6",
         "1.0"
        ],
        [
         "29",
         "PBX1",
         "1.0"
        ],
        [
         "31",
         "PKNOX1",
         "1.0"
        ],
        [
         "17",
         "JUND",
         "1.0"
        ]
       ],
       "shape": {
        "columns": 2,
        "rows": 5
       }
      },
      "text/html": [
       "<div>\n",
       "<style scoped>\n",
       "    .dataframe tbody tr th:only-of-type {\n",
       "        vertical-align: middle;\n",
       "    }\n",
       "\n",
       "    .dataframe tbody tr th {\n",
       "        vertical-align: top;\n",
       "    }\n",
       "\n",
       "    .dataframe thead th {\n",
       "        text-align: right;\n",
       "    }\n",
       "</style>\n",
       "<table border=\"1\" class=\"dataframe\">\n",
       "  <thead>\n",
       "    <tr style=\"text-align: right;\">\n",
       "      <th></th>\n",
       "      <th>chip_gene</th>\n",
       "      <th>Correct TF Binding Prediction</th>\n",
       "    </tr>\n",
       "  </thead>\n",
       "  <tbody>\n",
       "    <tr>\n",
       "      <th>10</th>\n",
       "      <td>HNF1B</td>\n",
       "      <td>1.0</td>\n",
       "    </tr>\n",
       "    <tr>\n",
       "      <th>28</th>\n",
       "      <td>PAX6</td>\n",
       "      <td>1.0</td>\n",
       "    </tr>\n",
       "    <tr>\n",
       "      <th>29</th>\n",
       "      <td>PBX1</td>\n",
       "      <td>1.0</td>\n",
       "    </tr>\n",
       "    <tr>\n",
       "      <th>31</th>\n",
       "      <td>PKNOX1</td>\n",
       "      <td>1.0</td>\n",
       "    </tr>\n",
       "    <tr>\n",
       "      <th>17</th>\n",
       "      <td>JUND</td>\n",
       "      <td>1.0</td>\n",
       "    </tr>\n",
       "  </tbody>\n",
       "</table>\n",
       "</div>"
      ],
      "text/plain": [
       "   chip_gene  Correct TF Binding Prediction\n",
       "10     HNF1B                            1.0\n",
       "28      PAX6                            1.0\n",
       "29      PBX1                            1.0\n",
       "31    PKNOX1                            1.0\n",
       "17      JUND                            1.0"
      ]
     },
     "execution_count": 44,
     "metadata": {},
     "output_type": "execute_result"
    }
   ],
   "source": [
    "def clean_data(df):\n",
    "    # Drop columns: 'homer_gene_norm', 'chip_gene_norm'\n",
    "    df = df.drop(columns=['homer_gene_norm', 'chip_gene_norm'])\n",
    "    # Performed 1 aggregation grouped on column: 'chip_gene'\n",
    "    df = df.groupby(['chip_gene']).agg(homer_binding_score_mean=('homer_binding_score', 'mean')).reset_index()\n",
    "    # Sort by column: 'homer_binding_score_mean' (descending)\n",
    "    df = df.sort_values(['homer_binding_score_mean'], ascending=[False])\n",
    "    return df\n",
    "\n",
    "correct_prediction_scores = clean_data(correct_predictions.copy())\n",
    "correct_prediction_scores = correct_prediction_scores.rename(columns={\n",
    "    \"homer_binding_score_mean\":\"Correct TF Binding Prediction\"\n",
    "})\n",
    "correct_prediction_scores.head()"
   ]
  },
  {
   "cell_type": "code",
   "execution_count": 45,
   "id": "c31c7d36",
   "metadata": {},
   "outputs": [
    {
     "data": {
      "application/vnd.microsoft.datawrangler.viewer.v0+json": {
       "columns": [
        {
         "name": "index",
         "rawType": "int64",
         "type": "integer"
        },
        {
         "name": "chip_gene",
         "rawType": "object",
         "type": "string"
        },
        {
         "name": "Incorrect TF Binding Prediction",
         "rawType": "float64",
         "type": "float"
        }
       ],
       "ref": "3b20eba0-0276-41fb-8ae0-6e693c6e0059",
       "rows": [
        [
         "10",
         "HNF1B",
         "0.3845178879904767"
        ],
        [
         "5",
         "FLI1",
         "0.37824531352800095"
        ],
        [
         "8",
         "FOXL2",
         "0.3642430626763068"
        ],
        [
         "3",
         "DLX1",
         "0.3599071967701038"
        ],
        [
         "17",
         "JUND",
         "0.3572431380773054"
        ]
       ],
       "shape": {
        "columns": 2,
        "rows": 5
       }
      },
      "text/html": [
       "<div>\n",
       "<style scoped>\n",
       "    .dataframe tbody tr th:only-of-type {\n",
       "        vertical-align: middle;\n",
       "    }\n",
       "\n",
       "    .dataframe tbody tr th {\n",
       "        vertical-align: top;\n",
       "    }\n",
       "\n",
       "    .dataframe thead th {\n",
       "        text-align: right;\n",
       "    }\n",
       "</style>\n",
       "<table border=\"1\" class=\"dataframe\">\n",
       "  <thead>\n",
       "    <tr style=\"text-align: right;\">\n",
       "      <th></th>\n",
       "      <th>chip_gene</th>\n",
       "      <th>Incorrect TF Binding Prediction</th>\n",
       "    </tr>\n",
       "  </thead>\n",
       "  <tbody>\n",
       "    <tr>\n",
       "      <th>10</th>\n",
       "      <td>HNF1B</td>\n",
       "      <td>0.384518</td>\n",
       "    </tr>\n",
       "    <tr>\n",
       "      <th>5</th>\n",
       "      <td>FLI1</td>\n",
       "      <td>0.378245</td>\n",
       "    </tr>\n",
       "    <tr>\n",
       "      <th>8</th>\n",
       "      <td>FOXL2</td>\n",
       "      <td>0.364243</td>\n",
       "    </tr>\n",
       "    <tr>\n",
       "      <th>3</th>\n",
       "      <td>DLX1</td>\n",
       "      <td>0.359907</td>\n",
       "    </tr>\n",
       "    <tr>\n",
       "      <th>17</th>\n",
       "      <td>JUND</td>\n",
       "      <td>0.357243</td>\n",
       "    </tr>\n",
       "  </tbody>\n",
       "</table>\n",
       "</div>"
      ],
      "text/plain": [
       "   chip_gene  Incorrect TF Binding Prediction\n",
       "10     HNF1B                         0.384518\n",
       "5       FLI1                         0.378245\n",
       "8      FOXL2                         0.364243\n",
       "3       DLX1                         0.359907\n",
       "17      JUND                         0.357243"
      ]
     },
     "execution_count": 45,
     "metadata": {},
     "output_type": "execute_result"
    }
   ],
   "source": [
    "incorrect_prediction_scores = clean_data(incorrect_predictions.copy())\n",
    "incorrect_prediction_scores = incorrect_prediction_scores.rename(columns={\n",
    "    \"homer_binding_score_mean\":\"Incorrect TF Binding Prediction\"\n",
    "})\n",
    "incorrect_prediction_scores.head()"
   ]
  },
  {
   "cell_type": "markdown",
   "id": "a52b995d",
   "metadata": {},
   "source": [
    "Now that we have extracted the correct and incorrect scores, we will merge them to create a new dataframe containing just the correct and incorrect scores."
   ]
  },
  {
   "cell_type": "code",
   "execution_count": 46,
   "id": "5dc7b163",
   "metadata": {},
   "outputs": [
    {
     "data": {
      "application/vnd.microsoft.datawrangler.viewer.v0+json": {
       "columns": [
        {
         "name": "index",
         "rawType": "int64",
         "type": "integer"
        },
        {
         "name": "chip_gene",
         "rawType": "object",
         "type": "string"
        },
        {
         "name": "Correct TF Binding Prediction",
         "rawType": "float64",
         "type": "float"
        },
        {
         "name": "Incorrect TF Binding Prediction",
         "rawType": "float64",
         "type": "float"
        }
       ],
       "ref": "61ea60ef-1808-4548-ac04-ff2e80c109fd",
       "rows": [
        [
         "0",
         "ASCL1",
         "0.2290142357403693",
         "0.27727121456353376"
        ],
        [
         "1",
         "CDX2",
         "0.5080335281993791",
         "0.2943953866921876"
        ],
        [
         "2",
         "CTCF",
         "0.07776430159283632",
         "0.2684978262372722"
        ],
        [
         "3",
         "DLX1",
         "0.212262764029476",
         "0.3599071967701038"
        ],
        [
         "4",
         "EBF1",
         "0.39586712905482957",
         "0.3027237177428389"
        ],
        [
         "5",
         "FLI1",
         "0.35326771872348245",
         "0.37824531352800095"
        ],
        [
         "6",
         "FOSL2",
         "0.8278378139148802",
         "0.35073090289903325"
        ],
        [
         "7",
         "FOXA2",
         "0.40054376714776596",
         "0.3002218483995283"
        ],
        [
         "8",
         "FOXL2",
         "0.2459368381251795",
         "0.3642430626763068"
        ],
        [
         "9",
         "HAND2",
         "0.669219246673882",
         "0.27351943632503034"
        ],
        [
         "10",
         "HNF1B",
         "1.0",
         "0.3845178879904767"
        ],
        [
         "11",
         "HNF4A",
         "0.7119873506107827",
         "0.2744051661484573"
        ],
        [
         "12",
         "HOXA11",
         "0.16940312404222124",
         "0.3009712371148296"
        ],
        [
         "13",
         "HOXA13",
         "0.23722311700601567",
         "0.335177306851646"
        ],
        [
         "14",
         "HOXC10",
         "0.2518699349770343",
         "0.3056454677877372"
        ],
        [
         "15",
         "HOXD13",
         "0.2706856901242751",
         "0.3066763912778683"
        ],
        [
         "16",
         "ISL1",
         "0.13918447279240118",
         "0.2972902297440967"
        ],
        [
         "17",
         "JUND",
         "1.0",
         "0.3572431380773054"
        ],
        [
         "18",
         "KLF1",
         "0.3705281838386357",
         "0.3053627809385202"
        ],
        [
         "19",
         "LEF1",
         "0.5550598533536222",
         "0.3031961635551945"
        ],
        [
         "20",
         "LHX6",
         "0.3047018169435948",
         "0.2991409352698928"
        ],
        [
         "21",
         "MEIS1",
         "0.19617075317771532",
         "0.31362421771766996"
        ],
        [
         "22",
         "MYB",
         "0.14032257987849361",
         "0.26673047610699263"
        ],
        [
         "23",
         "NEUROD1",
         "0.18726571754000612",
         "0.34066135995766345"
        ],
        [
         "24",
         "NEUROG2",
         "0.22340486614889146",
         "0.3009332388179872"
        ],
        [
         "25",
         "NRF1",
         "0.9202670590747043",
         "0.3322698832422444"
        ],
        [
         "26",
         "OLIG2",
         "0.11932734996798312",
         "0.29009044505171466"
        ],
        [
         "27",
         "PAX5",
         "0.7344969701401537",
         "0.2828822009813449"
        ],
        [
         "28",
         "PAX6",
         "1.0",
         "0.29263436155868255"
        ],
        [
         "29",
         "PBX1",
         "1.0",
         "0.3317773235728274"
        ],
        [
         "30",
         "PITX1",
         "0.9872108123841085",
         "0.2930497881152797"
        ],
        [
         "31",
         "PKNOX1",
         "1.0",
         "0.299119469362679"
        ],
        [
         "32",
         "PTF1A",
         "0.07966325322371101",
         "0.26965431054981226"
        ],
        [
         "33",
         "RBPJ",
         "0.8973734654828789",
         "0.2723574340351721"
        ],
        [
         "34",
         "RFX1",
         "0.938968027023642",
         "0.318476760926408"
        ],
        [
         "35",
         "RFX2",
         "0.9974204885421164",
         "0.3376517823804576"
        ],
        [
         "36",
         "RUNX1",
         "0.25130008957184435",
         "0.31937317872399706"
        ],
        [
         "37",
         "SIX1",
         "0.8282293159229793",
         "0.2832232580019725"
        ],
        [
         "38",
         "SIX2",
         "0.2888633714818336",
         "0.28618431217338797"
        ],
        [
         "39",
         "SMAD3",
         "0.05654628998755178",
         "0.3152328069233722"
        ],
        [
         "40",
         "SMAD4",
         "0.1657430575271754",
         "0.30377857177998735"
        ],
        [
         "41",
         "SOX10",
         "0.23147070714535867",
         "0.3025011348207075"
        ],
        [
         "42",
         "SOX9",
         "0.3911845934525496",
         "0.3189731370399423"
        ],
        [
         "43",
         "SP1",
         "0.6844173404545679",
         "0.3265210536428041"
        ],
        [
         "44",
         "TBR1",
         "0.2631919473250246",
         "0.25287543235811577"
        ],
        [
         "45",
         "TBX5",
         "0.07148872092397768",
         "0.293965178328803"
        ],
        [
         "46",
         "TCF12",
         "0.4262401027532454",
         "0.3262262140872723"
        ],
        [
         "47",
         "TCF3",
         null,
         "0.34104532592589365"
        ],
        [
         "48",
         "TCF7",
         "0.9188198922790304",
         "0.30608326471169767"
        ],
        [
         "49",
         "WT1",
         "0.47711771767359085",
         "0.2768241646659561"
        ]
       ],
       "shape": {
        "columns": 3,
        "rows": 50
       }
      },
      "text/html": [
       "<div>\n",
       "<style scoped>\n",
       "    .dataframe tbody tr th:only-of-type {\n",
       "        vertical-align: middle;\n",
       "    }\n",
       "\n",
       "    .dataframe tbody tr th {\n",
       "        vertical-align: top;\n",
       "    }\n",
       "\n",
       "    .dataframe thead th {\n",
       "        text-align: right;\n",
       "    }\n",
       "</style>\n",
       "<table border=\"1\" class=\"dataframe\">\n",
       "  <thead>\n",
       "    <tr style=\"text-align: right;\">\n",
       "      <th></th>\n",
       "      <th>chip_gene</th>\n",
       "      <th>Correct TF Binding Prediction</th>\n",
       "      <th>Incorrect TF Binding Prediction</th>\n",
       "    </tr>\n",
       "  </thead>\n",
       "  <tbody>\n",
       "    <tr>\n",
       "      <th>0</th>\n",
       "      <td>ASCL1</td>\n",
       "      <td>0.229014</td>\n",
       "      <td>0.277271</td>\n",
       "    </tr>\n",
       "    <tr>\n",
       "      <th>1</th>\n",
       "      <td>CDX2</td>\n",
       "      <td>0.508034</td>\n",
       "      <td>0.294395</td>\n",
       "    </tr>\n",
       "    <tr>\n",
       "      <th>2</th>\n",
       "      <td>CTCF</td>\n",
       "      <td>0.077764</td>\n",
       "      <td>0.268498</td>\n",
       "    </tr>\n",
       "    <tr>\n",
       "      <th>3</th>\n",
       "      <td>DLX1</td>\n",
       "      <td>0.212263</td>\n",
       "      <td>0.359907</td>\n",
       "    </tr>\n",
       "    <tr>\n",
       "      <th>4</th>\n",
       "      <td>EBF1</td>\n",
       "      <td>0.395867</td>\n",
       "      <td>0.302724</td>\n",
       "    </tr>\n",
       "    <tr>\n",
       "      <th>5</th>\n",
       "      <td>FLI1</td>\n",
       "      <td>0.353268</td>\n",
       "      <td>0.378245</td>\n",
       "    </tr>\n",
       "    <tr>\n",
       "      <th>6</th>\n",
       "      <td>FOSL2</td>\n",
       "      <td>0.827838</td>\n",
       "      <td>0.350731</td>\n",
       "    </tr>\n",
       "    <tr>\n",
       "      <th>7</th>\n",
       "      <td>FOXA2</td>\n",
       "      <td>0.400544</td>\n",
       "      <td>0.300222</td>\n",
       "    </tr>\n",
       "    <tr>\n",
       "      <th>8</th>\n",
       "      <td>FOXL2</td>\n",
       "      <td>0.245937</td>\n",
       "      <td>0.364243</td>\n",
       "    </tr>\n",
       "    <tr>\n",
       "      <th>9</th>\n",
       "      <td>HAND2</td>\n",
       "      <td>0.669219</td>\n",
       "      <td>0.273519</td>\n",
       "    </tr>\n",
       "    <tr>\n",
       "      <th>10</th>\n",
       "      <td>HNF1B</td>\n",
       "      <td>1.000000</td>\n",
       "      <td>0.384518</td>\n",
       "    </tr>\n",
       "    <tr>\n",
       "      <th>11</th>\n",
       "      <td>HNF4A</td>\n",
       "      <td>0.711987</td>\n",
       "      <td>0.274405</td>\n",
       "    </tr>\n",
       "    <tr>\n",
       "      <th>12</th>\n",
       "      <td>HOXA11</td>\n",
       "      <td>0.169403</td>\n",
       "      <td>0.300971</td>\n",
       "    </tr>\n",
       "    <tr>\n",
       "      <th>13</th>\n",
       "      <td>HOXA13</td>\n",
       "      <td>0.237223</td>\n",
       "      <td>0.335177</td>\n",
       "    </tr>\n",
       "    <tr>\n",
       "      <th>14</th>\n",
       "      <td>HOXC10</td>\n",
       "      <td>0.251870</td>\n",
       "      <td>0.305645</td>\n",
       "    </tr>\n",
       "    <tr>\n",
       "      <th>15</th>\n",
       "      <td>HOXD13</td>\n",
       "      <td>0.270686</td>\n",
       "      <td>0.306676</td>\n",
       "    </tr>\n",
       "    <tr>\n",
       "      <th>16</th>\n",
       "      <td>ISL1</td>\n",
       "      <td>0.139184</td>\n",
       "      <td>0.297290</td>\n",
       "    </tr>\n",
       "    <tr>\n",
       "      <th>17</th>\n",
       "      <td>JUND</td>\n",
       "      <td>1.000000</td>\n",
       "      <td>0.357243</td>\n",
       "    </tr>\n",
       "    <tr>\n",
       "      <th>18</th>\n",
       "      <td>KLF1</td>\n",
       "      <td>0.370528</td>\n",
       "      <td>0.305363</td>\n",
       "    </tr>\n",
       "    <tr>\n",
       "      <th>19</th>\n",
       "      <td>LEF1</td>\n",
       "      <td>0.555060</td>\n",
       "      <td>0.303196</td>\n",
       "    </tr>\n",
       "    <tr>\n",
       "      <th>20</th>\n",
       "      <td>LHX6</td>\n",
       "      <td>0.304702</td>\n",
       "      <td>0.299141</td>\n",
       "    </tr>\n",
       "    <tr>\n",
       "      <th>21</th>\n",
       "      <td>MEIS1</td>\n",
       "      <td>0.196171</td>\n",
       "      <td>0.313624</td>\n",
       "    </tr>\n",
       "    <tr>\n",
       "      <th>22</th>\n",
       "      <td>MYB</td>\n",
       "      <td>0.140323</td>\n",
       "      <td>0.266730</td>\n",
       "    </tr>\n",
       "    <tr>\n",
       "      <th>23</th>\n",
       "      <td>NEUROD1</td>\n",
       "      <td>0.187266</td>\n",
       "      <td>0.340661</td>\n",
       "    </tr>\n",
       "    <tr>\n",
       "      <th>24</th>\n",
       "      <td>NEUROG2</td>\n",
       "      <td>0.223405</td>\n",
       "      <td>0.300933</td>\n",
       "    </tr>\n",
       "    <tr>\n",
       "      <th>25</th>\n",
       "      <td>NRF1</td>\n",
       "      <td>0.920267</td>\n",
       "      <td>0.332270</td>\n",
       "    </tr>\n",
       "    <tr>\n",
       "      <th>26</th>\n",
       "      <td>OLIG2</td>\n",
       "      <td>0.119327</td>\n",
       "      <td>0.290090</td>\n",
       "    </tr>\n",
       "    <tr>\n",
       "      <th>27</th>\n",
       "      <td>PAX5</td>\n",
       "      <td>0.734497</td>\n",
       "      <td>0.282882</td>\n",
       "    </tr>\n",
       "    <tr>\n",
       "      <th>28</th>\n",
       "      <td>PAX6</td>\n",
       "      <td>1.000000</td>\n",
       "      <td>0.292634</td>\n",
       "    </tr>\n",
       "    <tr>\n",
       "      <th>29</th>\n",
       "      <td>PBX1</td>\n",
       "      <td>1.000000</td>\n",
       "      <td>0.331777</td>\n",
       "    </tr>\n",
       "    <tr>\n",
       "      <th>30</th>\n",
       "      <td>PITX1</td>\n",
       "      <td>0.987211</td>\n",
       "      <td>0.293050</td>\n",
       "    </tr>\n",
       "    <tr>\n",
       "      <th>31</th>\n",
       "      <td>PKNOX1</td>\n",
       "      <td>1.000000</td>\n",
       "      <td>0.299119</td>\n",
       "    </tr>\n",
       "    <tr>\n",
       "      <th>32</th>\n",
       "      <td>PTF1A</td>\n",
       "      <td>0.079663</td>\n",
       "      <td>0.269654</td>\n",
       "    </tr>\n",
       "    <tr>\n",
       "      <th>33</th>\n",
       "      <td>RBPJ</td>\n",
       "      <td>0.897373</td>\n",
       "      <td>0.272357</td>\n",
       "    </tr>\n",
       "    <tr>\n",
       "      <th>34</th>\n",
       "      <td>RFX1</td>\n",
       "      <td>0.938968</td>\n",
       "      <td>0.318477</td>\n",
       "    </tr>\n",
       "    <tr>\n",
       "      <th>35</th>\n",
       "      <td>RFX2</td>\n",
       "      <td>0.997420</td>\n",
       "      <td>0.337652</td>\n",
       "    </tr>\n",
       "    <tr>\n",
       "      <th>36</th>\n",
       "      <td>RUNX1</td>\n",
       "      <td>0.251300</td>\n",
       "      <td>0.319373</td>\n",
       "    </tr>\n",
       "    <tr>\n",
       "      <th>37</th>\n",
       "      <td>SIX1</td>\n",
       "      <td>0.828229</td>\n",
       "      <td>0.283223</td>\n",
       "    </tr>\n",
       "    <tr>\n",
       "      <th>38</th>\n",
       "      <td>SIX2</td>\n",
       "      <td>0.288863</td>\n",
       "      <td>0.286184</td>\n",
       "    </tr>\n",
       "    <tr>\n",
       "      <th>39</th>\n",
       "      <td>SMAD3</td>\n",
       "      <td>0.056546</td>\n",
       "      <td>0.315233</td>\n",
       "    </tr>\n",
       "    <tr>\n",
       "      <th>40</th>\n",
       "      <td>SMAD4</td>\n",
       "      <td>0.165743</td>\n",
       "      <td>0.303779</td>\n",
       "    </tr>\n",
       "    <tr>\n",
       "      <th>41</th>\n",
       "      <td>SOX10</td>\n",
       "      <td>0.231471</td>\n",
       "      <td>0.302501</td>\n",
       "    </tr>\n",
       "    <tr>\n",
       "      <th>42</th>\n",
       "      <td>SOX9</td>\n",
       "      <td>0.391185</td>\n",
       "      <td>0.318973</td>\n",
       "    </tr>\n",
       "    <tr>\n",
       "      <th>43</th>\n",
       "      <td>SP1</td>\n",
       "      <td>0.684417</td>\n",
       "      <td>0.326521</td>\n",
       "    </tr>\n",
       "    <tr>\n",
       "      <th>44</th>\n",
       "      <td>TBR1</td>\n",
       "      <td>0.263192</td>\n",
       "      <td>0.252875</td>\n",
       "    </tr>\n",
       "    <tr>\n",
       "      <th>45</th>\n",
       "      <td>TBX5</td>\n",
       "      <td>0.071489</td>\n",
       "      <td>0.293965</td>\n",
       "    </tr>\n",
       "    <tr>\n",
       "      <th>46</th>\n",
       "      <td>TCF12</td>\n",
       "      <td>0.426240</td>\n",
       "      <td>0.326226</td>\n",
       "    </tr>\n",
       "    <tr>\n",
       "      <th>47</th>\n",
       "      <td>TCF3</td>\n",
       "      <td>NaN</td>\n",
       "      <td>0.341045</td>\n",
       "    </tr>\n",
       "    <tr>\n",
       "      <th>48</th>\n",
       "      <td>TCF7</td>\n",
       "      <td>0.918820</td>\n",
       "      <td>0.306083</td>\n",
       "    </tr>\n",
       "    <tr>\n",
       "      <th>49</th>\n",
       "      <td>WT1</td>\n",
       "      <td>0.477118</td>\n",
       "      <td>0.276824</td>\n",
       "    </tr>\n",
       "  </tbody>\n",
       "</table>\n",
       "</div>"
      ],
      "text/plain": [
       "   chip_gene  Correct TF Binding Prediction  Incorrect TF Binding Prediction\n",
       "0      ASCL1                       0.229014                         0.277271\n",
       "1       CDX2                       0.508034                         0.294395\n",
       "2       CTCF                       0.077764                         0.268498\n",
       "3       DLX1                       0.212263                         0.359907\n",
       "4       EBF1                       0.395867                         0.302724\n",
       "5       FLI1                       0.353268                         0.378245\n",
       "6      FOSL2                       0.827838                         0.350731\n",
       "7      FOXA2                       0.400544                         0.300222\n",
       "8      FOXL2                       0.245937                         0.364243\n",
       "9      HAND2                       0.669219                         0.273519\n",
       "10     HNF1B                       1.000000                         0.384518\n",
       "11     HNF4A                       0.711987                         0.274405\n",
       "12    HOXA11                       0.169403                         0.300971\n",
       "13    HOXA13                       0.237223                         0.335177\n",
       "14    HOXC10                       0.251870                         0.305645\n",
       "15    HOXD13                       0.270686                         0.306676\n",
       "16      ISL1                       0.139184                         0.297290\n",
       "17      JUND                       1.000000                         0.357243\n",
       "18      KLF1                       0.370528                         0.305363\n",
       "19      LEF1                       0.555060                         0.303196\n",
       "20      LHX6                       0.304702                         0.299141\n",
       "21     MEIS1                       0.196171                         0.313624\n",
       "22       MYB                       0.140323                         0.266730\n",
       "23   NEUROD1                       0.187266                         0.340661\n",
       "24   NEUROG2                       0.223405                         0.300933\n",
       "25      NRF1                       0.920267                         0.332270\n",
       "26     OLIG2                       0.119327                         0.290090\n",
       "27      PAX5                       0.734497                         0.282882\n",
       "28      PAX6                       1.000000                         0.292634\n",
       "29      PBX1                       1.000000                         0.331777\n",
       "30     PITX1                       0.987211                         0.293050\n",
       "31    PKNOX1                       1.000000                         0.299119\n",
       "32     PTF1A                       0.079663                         0.269654\n",
       "33      RBPJ                       0.897373                         0.272357\n",
       "34      RFX1                       0.938968                         0.318477\n",
       "35      RFX2                       0.997420                         0.337652\n",
       "36     RUNX1                       0.251300                         0.319373\n",
       "37      SIX1                       0.828229                         0.283223\n",
       "38      SIX2                       0.288863                         0.286184\n",
       "39     SMAD3                       0.056546                         0.315233\n",
       "40     SMAD4                       0.165743                         0.303779\n",
       "41     SOX10                       0.231471                         0.302501\n",
       "42      SOX9                       0.391185                         0.318973\n",
       "43       SP1                       0.684417                         0.326521\n",
       "44      TBR1                       0.263192                         0.252875\n",
       "45      TBX5                       0.071489                         0.293965\n",
       "46     TCF12                       0.426240                         0.326226\n",
       "47      TCF3                            NaN                         0.341045\n",
       "48      TCF7                       0.918820                         0.306083\n",
       "49       WT1                       0.477118                         0.276824"
      ]
     },
     "execution_count": 46,
     "metadata": {},
     "output_type": "execute_result"
    }
   ],
   "source": [
    "pred_df = pd.merge(correct_prediction_scores, incorrect_prediction_scores, on=\"chip_gene\", how=\"outer\")\n",
    "pred_df"
   ]
  },
  {
   "cell_type": "code",
   "execution_count": 47,
   "id": "0bf78461",
   "metadata": {},
   "outputs": [
    {
     "data": {
      "image/png": "[encoded data removed]",
      "text/plain": [
       "<Figure size 640x480 with 1 Axes>"
      ]
     },
     "metadata": {},
     "output_type": "display_data"
    }
   ],
   "source": [
    "fig = plt.Figure()\n",
    "a = sns.boxplot(data=pred_df, showfliers=False)\n",
    "a.set_ylabel(\"Homer Binding Score\")\n",
    "a.set_title(\"Homer Binding Scores for ChIP-seq TF Binding Predictions\")\n",
    "plt.savefig(os.path.join(output_dir, \"chipseq_homer_boxplot.png\"), dpi=200)"
   ]
  },
  {
   "cell_type": "code",
   "execution_count": 68,
   "id": "db974505",
   "metadata": {},
   "outputs": [
    {
     "data": {
      "image/png": "[encoded data removed]",
      "text/plain": [
       "<Figure size 1000x800 with 1 Axes>"
      ]
     },
     "metadata": {},
     "output_type": "display_data"
    }
   ],
   "source": [
    "plt.figure(figsize=(10,8))\n",
    "plt.hist(\n",
    "    pred_df[\"Correct TF Binding Prediction\"],\n",
    "    bins=50,\n",
    "    alpha=0.7,\n",
    "    color='#4195df',\n",
    "    label=\"Correct TF Binding Predictions\"\n",
    ")\n",
    "plt.hist(\n",
    "    pred_df[\"Incorrect TF Binding Prediction\"],\n",
    "    bins=7,\n",
    "    alpha=0.7,\n",
    "    color='#dc8634',\n",
    "    label=\"Incorrect TF Binding Predictions\"\n",
    ")\n",
    "plt.title(\"Homer Binding Scores for ChIP-seq TF Binding Predictions\", fontsize=16)\n",
    "plt.xlabel(\"Homer Binding Score\", fontsize=14)\n",
    "plt.ylabel(\"Frequency\", fontsize=14)\n",
    "plt.xticks(fontsize=12)\n",
    "plt.yticks(fontsize=12)\n",
    "plt.legend(bbox_to_anchor=(1.05, 1), loc='upper left', borderaxespad=0., fontsize=14)\n",
    "plt.savefig(os.path.join(output_dir, \"chipseq_homer_histogram.png\"), dpi=200)"
   ]
  },
  {
   "cell_type": "code",
   "execution_count": 82,
   "id": "f50d170d",
   "metadata": {},
   "outputs": [
    {
     "data": {
      "image/png": "[encoded data removed]",
      "text/plain": [
       "<Figure size 1200x800 with 1 Axes>"
      ]
     },
     "metadata": {},
     "output_type": "display_data"
    }
   ],
   "source": [
    "import matplotlib.pyplot as plt\n",
    "import numpy as np\n",
    "import os\n",
    "\n",
    "# Step 1: Sort by total predictions (optional but helps with visual clarity)\n",
    "pred_df[\"total\"] = pred_df[\"Correct TF Binding Prediction\"] + pred_df[\"Incorrect TF Binding Prediction\"]\n",
    "pred_df = pred_df.sort_values(by=\"total\", ascending=False)\n",
    "\n",
    "# Step 2: Setup positions for grouped bars\n",
    "x = np.arange(len(pred_df))  # numeric x-axis\n",
    "width = 0.4  # width of each bar\n",
    "\n",
    "# Step 3: Plot grouped bars\n",
    "plt.figure(figsize=(12, 8))\n",
    "\n",
    "plt.bar(\n",
    "    x,\n",
    "    pred_df[\"Correct TF Binding Prediction\"],\n",
    "    alpha=0.7,\n",
    "    color='#4195df',\n",
    "    label=\"Correct TF Binding Predictions\"\n",
    ")\n",
    "\n",
    "plt.bar(\n",
    "    x,\n",
    "    pred_df[\"Incorrect TF Binding Prediction\"],\n",
    "    alpha=0.7,\n",
    "    color='#dc8634',\n",
    "    label=\"Incorrect TF Binding Predictions\"\n",
    ")\n",
    "\n",
    "# Step 4: Format\n",
    "plt.title(\"Homer Binding Scores for ChIP-seq TF Binding Predictions\", fontsize=16)\n",
    "plt.xlabel(\"TF (from ChIP-seq)\", fontsize=14)\n",
    "plt.ylabel(\"Prediction Count\", fontsize=14)\n",
    "plt.xticks(ticks=x, labels=pred_df[\"chip_gene\"], rotation=45, ha=\"right\", fontsize=10)\n",
    "plt.yticks(fontsize=12)\n",
    "plt.legend(fontsize=14, loc=\"upper right\")\n",
    "plt.tight_layout()\n",
    "\n",
    "# Step 5: Save\n",
    "plt.savefig(os.path.join(output_dir, \"chipseq_homer_grouped_barplot.png\"), dpi=200)\n",
    "plt.show()\n"
   ]
  }
 ],
 "metadata": {
  "kernelspec": {
   "display_name": "my_env",
   "language": "python",
   "name": "my_env"
  },
  "language_info": {
   "codemirror_mode": {
    "name": "ipython",
    "version": 3
   },
   "file_extension": ".py",
   "mimetype": "text/x-python",
   "name": "python",
   "nbconvert_exporter": "python",
   "pygments_lexer": "ipython3",
   "version": "3.9.18"
  }
 },
 "nbformat": 4,
 "nbformat_minor": 5
}
