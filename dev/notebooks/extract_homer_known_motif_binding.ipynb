{
 "cells": [
  {
   "cell_type": "markdown",
   "id": "67790273",
   "metadata": {},
   "source": [
    "I am interested in comparing the Homer TF-peak nearest gene promoter and peak location to our ChIP-seq ground truth, which assumes that each peak only regulates the closest gene. The output of `annotatePeaks.pl` is a file for each TF with information about its binding potential to the peaks in your dataset. The columns are:\n",
    "\n",
    "- PeakID\n",
    "- Chromosome\n",
    "- Peak start position\n",
    "- Peak end position\n",
    "- Strand\n",
    "- Peak Score\n",
    "- FDR/Peak Focus Ratio/Region Size\n",
    "- Annotation (i.e. Exon, Intron, ...)\n",
    "- Detailed Annotation (Exon, Intron etc. + CpG Islands, repeats, etc.)\n",
    "- Distance to nearest RefSeq TSS\n",
    "- Nearest TSS: Native ID of annotation file\n",
    "- Nearest TSS: Entrez Gene ID\n",
    "- Nearest TSS: Unigene ID\n",
    "- Nearest TSS: RefSeq ID\n",
    "- Nearest TSS: Ensembl ID\n",
    "- Nearest TSS: Gene Symbol\n",
    "- Nearest TSS: Gene Aliases\n",
    "- Nearest TSS: Gene description\n",
    "- Additional columns depend on options selected when running the program.\n",
    "\n",
    "I am interested in the following columns:\n",
    "\n",
    "- PeakID\n",
    "- Chromosome\n",
    "- Peak start position\n",
    "- Peak end position\n",
    "- Annotation (i.e. Exon, Intron, ...)\n",
    "- Detailed Annotation (Exon, Intron etc. + CpG Islands, repeats, etc.)\n",
    "- Distance to nearest RefSeq TSS\n",
    "- Nearest TSS: Gene Symbol\n",
    "- CpG%\n",
    "- GC%\n",
    "\n",
    "The TF name can be found in the final column, which is structure as:\n",
    "\n",
    "> CTCF(Zf)/CD4+-CTCF-ChIP-Seq(Barski_et_al.)/Homer Distance From Peak(sequence,strand,conservation)\n",
    "\n",
    "There is some information in the literature that the likelihood of peaks regulating the nearest TSS is different based on the location of the peak, such as introns, promoter/TSS, intergenic, etc.\n",
    "\n",
    "Homer stores each TF's peak binding as a separate file. The TF name can be parsed from the last column name. We first build a DataFrame from the Homer `annotatePeak` output file containing the columns of interest."
   ]
  },
  {
   "cell_type": "code",
   "execution_count": 11,
   "id": "49136225",
   "metadata": {},
   "outputs": [
    {
     "data": {
      "application/vnd.microsoft.datawrangler.viewer.v0+json": {
       "columns": [
        {
         "name": "PeakID",
         "rawType": "object",
         "type": "string"
        },
        {
         "name": "source_id",
         "rawType": "object",
         "type": "string"
        },
        {
         "name": "peak_id",
         "rawType": "object",
         "type": "string"
        },
        {
         "name": "target_id",
         "rawType": "object",
         "type": "string"
        },
        {
         "name": "Chr",
         "rawType": "object",
         "type": "string"
        },
        {
         "name": "Start",
         "rawType": "int64",
         "type": "integer"
        },
        {
         "name": "End",
         "rawType": "int64",
         "type": "integer"
        },
        {
         "name": "Annotation",
         "rawType": "object",
         "type": "string"
        },
        {
         "name": "Distance to TSS",
         "rawType": "int64",
         "type": "integer"
        },
        {
         "name": "Gene Type",
         "rawType": "object",
         "type": "string"
        },
        {
         "name": "CpG%",
         "rawType": "float64",
         "type": "float"
        },
        {
         "name": "GC%",
         "rawType": "float64",
         "type": "float"
        }
       ],
       "ref": "22fddd25-8a91-43ff-b4c3-e1fd0402d0f3",
       "rows": [
        [
         "peak75613",
         "CTCF",
         "chr16:93932426-93933224",
         "CLDN14",
         "chr16",
         "93932426",
         "93933224",
         "intron (NM_019500, intron 2 of 2)",
         "-3008",
         "protein-coding",
         "0.018797",
         "0.518148"
        ],
        [
         "peak17901",
         "CTCF",
         "chr10:67284946-67285839",
         "NRBF2",
         "chr10",
         "67284946",
         "67285839",
         "promoter-TSS (NM_001036293)",
         "-111",
         "protein-coding",
         "0.081747",
         "0.63311"
        ],
        [
         "peak151815",
         "CTCF",
         "chr6:98435152-98436223",
         "MDFIC2",
         "chr6",
         "98435152",
         "98436223",
         "Intergenic",
         "-92933",
         "protein-coding",
         "0.014006",
         "0.455224"
        ],
        [
         "peak52902",
         "CTCF",
         "chr13:113270778-113271469",
         "CSPG4B",
         "chr13",
         "113270778",
         "113271469",
         "Intergenic",
         "-22047",
         "protein-coding",
         "0.011577",
         "0.455202"
        ],
        [
         "peak34483",
         "CTCF",
         "chr11:114764860-114765741",
         "KIF19A",
         "chr11",
         "114764860",
         "114765741",
         "promoter-TSS (NM_001102615)",
         "-89",
         "protein-coding",
         "0.057889",
         "0.626984"
        ]
       ],
       "shape": {
        "columns": 11,
        "rows": 5
       }
      },
      "text/html": [
       "<div>\n",
       "<style scoped>\n",
       "    .dataframe tbody tr th:only-of-type {\n",
       "        vertical-align: middle;\n",
       "    }\n",
       "\n",
       "    .dataframe tbody tr th {\n",
       "        vertical-align: top;\n",
       "    }\n",
       "\n",
       "    .dataframe thead th {\n",
       "        text-align: right;\n",
       "    }\n",
       "</style>\n",
       "<table border=\"1\" class=\"dataframe\">\n",
       "  <thead>\n",
       "    <tr style=\"text-align: right;\">\n",
       "      <th></th>\n",
       "      <th>source_id</th>\n",
       "      <th>peak_id</th>\n",
       "      <th>target_id</th>\n",
       "      <th>Chr</th>\n",
       "      <th>Start</th>\n",
       "      <th>End</th>\n",
       "      <th>Annotation</th>\n",
       "      <th>Distance to TSS</th>\n",
       "      <th>Gene Type</th>\n",
       "      <th>CpG%</th>\n",
       "      <th>GC%</th>\n",
       "    </tr>\n",
       "    <tr>\n",
       "      <th>PeakID</th>\n",
       "      <th></th>\n",
       "      <th></th>\n",
       "      <th></th>\n",
       "      <th></th>\n",
       "      <th></th>\n",
       "      <th></th>\n",
       "      <th></th>\n",
       "      <th></th>\n",
       "      <th></th>\n",
       "      <th></th>\n",
       "      <th></th>\n",
       "    </tr>\n",
       "  </thead>\n",
       "  <tbody>\n",
       "    <tr>\n",
       "      <th>peak75613</th>\n",
       "      <td>CTCF</td>\n",
       "      <td>chr16:93932426-93933224</td>\n",
       "      <td>CLDN14</td>\n",
       "      <td>chr16</td>\n",
       "      <td>93932426</td>\n",
       "      <td>93933224</td>\n",
       "      <td>intron (NM_019500, intron 2 of 2)</td>\n",
       "      <td>-3008</td>\n",
       "      <td>protein-coding</td>\n",
       "      <td>0.018797</td>\n",
       "      <td>0.518148</td>\n",
       "    </tr>\n",
       "    <tr>\n",
       "      <th>peak17901</th>\n",
       "      <td>CTCF</td>\n",
       "      <td>chr10:67284946-67285839</td>\n",
       "      <td>NRBF2</td>\n",
       "      <td>chr10</td>\n",
       "      <td>67284946</td>\n",
       "      <td>67285839</td>\n",
       "      <td>promoter-TSS (NM_001036293)</td>\n",
       "      <td>-111</td>\n",
       "      <td>protein-coding</td>\n",
       "      <td>0.081747</td>\n",
       "      <td>0.633110</td>\n",
       "    </tr>\n",
       "    <tr>\n",
       "      <th>peak151815</th>\n",
       "      <td>CTCF</td>\n",
       "      <td>chr6:98435152-98436223</td>\n",
       "      <td>MDFIC2</td>\n",
       "      <td>chr6</td>\n",
       "      <td>98435152</td>\n",
       "      <td>98436223</td>\n",
       "      <td>Intergenic</td>\n",
       "      <td>-92933</td>\n",
       "      <td>protein-coding</td>\n",
       "      <td>0.014006</td>\n",
       "      <td>0.455224</td>\n",
       "    </tr>\n",
       "    <tr>\n",
       "      <th>peak52902</th>\n",
       "      <td>CTCF</td>\n",
       "      <td>chr13:113270778-113271469</td>\n",
       "      <td>CSPG4B</td>\n",
       "      <td>chr13</td>\n",
       "      <td>113270778</td>\n",
       "      <td>113271469</td>\n",
       "      <td>Intergenic</td>\n",
       "      <td>-22047</td>\n",
       "      <td>protein-coding</td>\n",
       "      <td>0.011577</td>\n",
       "      <td>0.455202</td>\n",
       "    </tr>\n",
       "    <tr>\n",
       "      <th>peak34483</th>\n",
       "      <td>CTCF</td>\n",
       "      <td>chr11:114764860-114765741</td>\n",
       "      <td>KIF19A</td>\n",
       "      <td>chr11</td>\n",
       "      <td>114764860</td>\n",
       "      <td>114765741</td>\n",
       "      <td>promoter-TSS (NM_001102615)</td>\n",
       "      <td>-89</td>\n",
       "      <td>protein-coding</td>\n",
       "      <td>0.057889</td>\n",
       "      <td>0.626984</td>\n",
       "    </tr>\n",
       "  </tbody>\n",
       "</table>\n",
       "</div>"
      ],
      "text/plain": [
       "           source_id                    peak_id target_id    Chr      Start  \\\n",
       "PeakID                                                                        \n",
       "peak75613       CTCF    chr16:93932426-93933224    CLDN14  chr16   93932426   \n",
       "peak17901       CTCF    chr10:67284946-67285839     NRBF2  chr10   67284946   \n",
       "peak151815      CTCF     chr6:98435152-98436223    MDFIC2   chr6   98435152   \n",
       "peak52902       CTCF  chr13:113270778-113271469    CSPG4B  chr13  113270778   \n",
       "peak34483       CTCF  chr11:114764860-114765741    KIF19A  chr11  114764860   \n",
       "\n",
       "                  End                         Annotation  Distance to TSS  \\\n",
       "PeakID                                                                      \n",
       "peak75613    93933224  intron (NM_019500, intron 2 of 2)            -3008   \n",
       "peak17901    67285839        promoter-TSS (NM_001036293)             -111   \n",
       "peak151815   98436223                         Intergenic           -92933   \n",
       "peak52902   113271469                         Intergenic           -22047   \n",
       "peak34483   114765741        promoter-TSS (NM_001102615)              -89   \n",
       "\n",
       "                 Gene Type      CpG%       GC%  \n",
       "PeakID                                          \n",
       "peak75613   protein-coding  0.018797  0.518148  \n",
       "peak17901   protein-coding  0.081747  0.633110  \n",
       "peak151815  protein-coding  0.014006  0.455224  \n",
       "peak52902   protein-coding  0.011577  0.455202  \n",
       "peak34483   protein-coding  0.057889  0.626984  "
      ]
     },
     "execution_count": 11,
     "metadata": {},
     "output_type": "execute_result"
    }
   ],
   "source": [
    "import pandas as pd\n",
    "import numpy as np\n",
    "import os\n",
    "import matplotlib.pyplot as plt\n",
    "import matplotlib.patches as patches\n",
    "\n",
    "from typing import Tuple\n",
    "\n",
    "from grn_inference.plotting import plot_enhancer_to_target_arcs\n",
    "\n",
    "data_dir = \"/gpfs/Labs/Uzun/SCRIPTS/PROJECTS/2024.SINGLE_CELL_GRN_INFERENCE.MOELLER/dev/notebooks/sample_data/\"\n",
    "\n",
    "homer_df = pd.read_csv(\n",
    "    os.path.join(data_dir, \"sample_homer_annotatePeak_output.tsv\"), \n",
    "    sep=\"\\t\", \n",
    "    header=0, \n",
    "    index_col=0 # Setting the PeakID column as the index\n",
    "    )\n",
    "homer_df.index.names = [\"PeakID\"]\n",
    "\n",
    "TF_name = homer_df.columns[-1].split('/')[0].split('(')[0].split(':')[0].upper()\n",
    "\n",
    "homer_df[\"peak_id\"] = homer_df[\"Chr\"].astype(str) + \":\" + homer_df[\"Start\"].astype(str) + \"-\" + homer_df[\"End\"].astype(str)\n",
    "homer_df[\"source_id\"] = TF_name\n",
    "homer_df = homer_df.rename(columns={\"Gene Name\":\"target_id\"})\n",
    "\n",
    "cols_of_interest = [\n",
    "    \"source_id\",\n",
    "    \"peak_id\",\n",
    "    \"target_id\",\n",
    "    \"Chr\",\n",
    "    \"Start\",\n",
    "    \"End\",\n",
    "    \"Annotation\",\n",
    "    \"Distance to TSS\",\n",
    "    \"Gene Type\",\n",
    "    \"CpG%\",\n",
    "    \"GC%\"\n",
    "]\n",
    "homer_df = homer_df[cols_of_interest]\n",
    "homer_df[\"target_id\"] = homer_df[\"target_id\"].str.upper()\n",
    "homer_df.head()"
   ]
  },
  {
   "cell_type": "markdown",
   "id": "7725576d",
   "metadata": {},
   "source": [
    "Now we can extract the different targets for the TF predicted by Homer."
   ]
  },
  {
   "cell_type": "code",
   "execution_count": 10,
   "id": "aa1139f6",
   "metadata": {},
   "outputs": [
    {
     "data": {
      "application/vnd.microsoft.datawrangler.viewer.v0+json": {
       "columns": [
        {
         "name": "index",
         "rawType": "int64",
         "type": "integer"
        },
        {
         "name": "source_id",
         "rawType": "object",
         "type": "string"
        },
        {
         "name": "target_id",
         "rawType": "object",
         "type": "string"
        }
       ],
       "ref": "0187be00-487a-4a8d-867c-c5972070a8e6",
       "rows": [
        [
         "0",
         "CTCF",
         "CLDN14"
        ],
        [
         "1",
         "CTCF",
         "NRBF2"
        ],
        [
         "2",
         "CTCF",
         "MDFIC2"
        ],
        [
         "3",
         "CTCF",
         "CSPG4B"
        ],
        [
         "4",
         "CTCF",
         "KIF19A"
        ]
       ],
       "shape": {
        "columns": 2,
        "rows": 5
       }
      },
      "text/html": [
       "<div>\n",
       "<style scoped>\n",
       "    .dataframe tbody tr th:only-of-type {\n",
       "        vertical-align: middle;\n",
       "    }\n",
       "\n",
       "    .dataframe tbody tr th {\n",
       "        vertical-align: top;\n",
       "    }\n",
       "\n",
       "    .dataframe thead th {\n",
       "        text-align: right;\n",
       "    }\n",
       "</style>\n",
       "<table border=\"1\" class=\"dataframe\">\n",
       "  <thead>\n",
       "    <tr style=\"text-align: right;\">\n",
       "      <th></th>\n",
       "      <th>source_id</th>\n",
       "      <th>target_id</th>\n",
       "    </tr>\n",
       "  </thead>\n",
       "  <tbody>\n",
       "    <tr>\n",
       "      <th>0</th>\n",
       "      <td>CTCF</td>\n",
       "      <td>CLDN14</td>\n",
       "    </tr>\n",
       "    <tr>\n",
       "      <th>1</th>\n",
       "      <td>CTCF</td>\n",
       "      <td>NRBF2</td>\n",
       "    </tr>\n",
       "    <tr>\n",
       "      <th>2</th>\n",
       "      <td>CTCF</td>\n",
       "      <td>MDFIC2</td>\n",
       "    </tr>\n",
       "    <tr>\n",
       "      <th>3</th>\n",
       "      <td>CTCF</td>\n",
       "      <td>CSPG4B</td>\n",
       "    </tr>\n",
       "    <tr>\n",
       "      <th>4</th>\n",
       "      <td>CTCF</td>\n",
       "      <td>KIF19A</td>\n",
       "    </tr>\n",
       "  </tbody>\n",
       "</table>\n",
       "</div>"
      ],
      "text/plain": [
       "  source_id target_id\n",
       "0      CTCF    CLDN14\n",
       "1      CTCF     NRBF2\n",
       "2      CTCF    MDFIC2\n",
       "3      CTCF    CSPG4B\n",
       "4      CTCF    KIF19A"
      ]
     },
     "execution_count": 10,
     "metadata": {},
     "output_type": "execute_result"
    }
   ],
   "source": [
    "tf_to_nearest_gene = homer_df[[\"source_id\", \"target_id\"]].reset_index(drop=True).drop_duplicates()\n",
    "tf_to_nearest_gene.head()"
   ]
  },
  {
   "cell_type": "markdown",
   "id": "fb51376a",
   "metadata": {},
   "source": [
    "We can show the enhancers that are predicted to interact with a given target gene\n",
    "\n",
    "The mm10 tss_reference_file can be downloaded from here:\n",
    "\n",
    "[RefGenie mm10 TSS annotation file](http://awspds.refgenie.databio.org/refgenomes.databio.org/0f10d83b1050c08dd53189986f60970b92a315aa7a16a6f1/ensembl_gtf__default/0f10d83b1050c08dd53189986f60970b92a315aa7a16a6f1_ensembl_gene_body.bed)\n",
    "\n",
    "The mm10 gene_body_anno_file can be downloaded from here:\n",
    "\n",
    "[RefGenie mm10 gene body annotation file](http://awspds.refgenie.databio.org/refgenomes.databio.org/0f10d83b1050c08dd53189986f60970b92a315aa7a16a6f1/ensembl_gtf__default/0f10d83b1050c08dd53189986f60970b92a315aa7a16a6f1_ensembl_gene_body.bed)"
   ]
  },
  {
   "cell_type": "code",
   "execution_count": 49,
   "id": "6d3dad84",
   "metadata": {},
   "outputs": [
    {
     "data": {
      "image/png": "[encoded data removed]",
      "text/plain": [
       "<Figure size 1000x200 with 1 Axes>"
      ]
     },
     "metadata": {},
     "output_type": "display_data"
    }
   ],
   "source": [
    "tss_reference_file = \"/gpfs/Labs/Uzun/SCRIPTS/PROJECTS/2024.SINGLE_CELL_GRN_INFERENCE.MOELLER/data/genome_annotation/mm10/mm10_TSS.bed\"\n",
    "gene_body_anno_file = \"/gpfs/Labs/Uzun/SCRIPTS/PROJECTS/2024.SINGLE_CELL_GRN_INFERENCE.MOELLER/data/genome_annotation/mm10/mm10_gene_body_anno.bed\"\n",
    "plot_enhancer_to_target_arcs(homer_df, \"KIF19A\", tss_reference_file, gene_body_anno_file)"
   ]
  }
 ],
 "metadata": {
  "kernelspec": {
   "display_name": "my_env",
   "language": "python",
   "name": "python3"
  },
  "language_info": {
   "codemirror_mode": {
    "name": "ipython",
    "version": 3
   },
   "file_extension": ".py",
   "mimetype": "text/x-python",
   "name": "python",
   "nbconvert_exporter": "python",
   "pygments_lexer": "ipython3",
   "version": "3.9.18"
  }
 },
 "nbformat": 4,
 "nbformat_minor": 5
}
