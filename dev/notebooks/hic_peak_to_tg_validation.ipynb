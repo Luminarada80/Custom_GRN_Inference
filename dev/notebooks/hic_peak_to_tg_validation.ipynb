{
 "cells": [
  {
   "cell_type": "markdown",
   "id": "733eb879",
   "metadata": {},
   "source": [
    "# Validating Peak to Target Gene Predictions With Hi-C Data\n",
    "\n",
    "## Critical issues with using ChIP-seq nearest gene TSS as a ground truth datset for evaluating GRN inference results\n",
    "\n",
    "ChIP-seq datasets provide transcription factor (TF) to peak binding information, but they do not provide any information about potential enhancer (ATAC-seq peaks) to target gene (TG) regulatory interactions. A common approach when using ChIP-seq data as a validation set for TF to TG regulatory interactions (TF-TG) is to set the TG for the measured TF-peak interactions as the gene with the closest transcription start site (TSS) to the peak. However, this approach ignores long-range and multiple peak to TG interactions, which have been extensively shown to make up a large proportion - if not a majority - of enhancer-TG interactions<sup>1-14</sup>.\n",
    "\n",
    "Most peak to TG regulatory potential inference tools attempt to model both long-range and multiple peak-TG regulatory interactions. If the validation set uses nearest gene TSS to link peaks to TGs, then any peak-TG prediction other than that between the peak and the closest gene will evaluate as false according to the validation set - regardless of biological truth.\n",
    "\n",
    "If the validation sets used to train and evaluate predictions from a machine learning model contain a high proportion of biologically inaccurate TF-TG interactions, then any predictive model which is accurate compared to the validation set will be biologically inaccurate. \n",
    "\n",
    "Suppose that a gene regualtory network (GRN) inference method correctly predicts every biologically true TF-TG interaction and every biologically false TF-TG interaction. If the accuracy of these predictions were tested against a validation set containing inaccurate TF-TG interactions, then the biologically accurate predictions would be evaluated as having a low accuracy compared to the validation set.\n",
    "\n",
    "## Potential Solutions\n",
    "\n",
    "In light of these issues with building validation sets using the nearest TSS method, other validation methods must be used to evalutate the accuracy of peak-TG regualtory potential predictions. \n",
    "\n",
    "### Experimental Validation of TF-peak Binding\n",
    "\n",
    "While ChIP-seq cannot provide any information about TF-TG binding alone, it still provides valuable information about the locations for TF-peak binding.\n",
    "\n",
    "### Experimental Validation of peak-TG Regulation\n",
    "\n",
    "Hi-C data identifies locations on the genome which physically interact. This can help to validate peak-TG regulatory potential, as enhancers physically interact with the genes they regulate during transcription. We can compare peak-TG predictions on whether the region containing the peak is known to interact with the region containing the gene TSS. For regions containing more than one potential target, we can either:\n",
    "\n",
    "1. Set a potential binding score for each gene in the region, calculated as the probablility of the peak regulating a gene in the region rather than any other gene in the region. For example, if the Hi-C pair covers 10 genes, then the probability that the peak regulates any given gene in the region would be 1/10.\n",
    "\n",
    "2. Use the closest gene target within the Hi-C pair.\n",
    "\n",
    "3. Add a peak-TG pair for each gene in the region of overlap.\n",
    "\n",
    "### Creating a TF-TG Validation Set\n",
    "\n",
    "We can combine the ChIP-seq TF-peak scores with the peak-TG Hi-C chromatin interaction data by peak to create a ground truth which captures long-range and multiple peak-TG regualtory interactions.\n"
   ]
  },
  {
   "cell_type": "markdown",
   "id": "cda91c2e",
   "metadata": {},
   "source": [
    "---"
   ]
  },
  {
   "cell_type": "markdown",
   "id": "4bbe5eda",
   "metadata": {},
   "source": [
    "## Creating a Hi-C peak-TG Validation Set for mESC\n",
    "\n",
    "I downloaded an [in situ Hi-C dataset for R1 mESC cells](https://data.4dnucleome.org/experiment-set-replicates/4DNESMXBLGKA/) from the [4D Nucleosome Data Portal](https://data.4dnucleome.org/). We will use the [Cooler](https://github.com/open2c/cooler) Python package to work with the Hi-C dataset.\n",
    "\n",
    "The script `dev/testing_scripts/map_peaks_to_hic.py` uses the Hi-C dataset to find chromatin contact frequencies between each gene's TSS from an scRNA-seq parsed `peak_df.parquet` file and all peaks within 1 Mb on the same chromosome This is saved as a sparse matrix `.npz` file of non-zero peak-gene contact values. Extracting the contact values for each peak-gene pair is resource intensive but highly parallelizable, so I also created the `dev/testing_scripts/run_map_peaks_to_hic.sh` script to execute the job on the HPC.\n",
    "\n",
    "I located all peak-gene contact values between the `mm10_TSS.bed` file and the mESC DS011 `peak_df.parquet` file. Let's look at the results:"
   ]
  },
  {
   "cell_type": "code",
   "execution_count": null,
   "id": "89a3beda",
   "metadata": {},
   "outputs": [],
   "source": [
    "import os\n",
    "import scipy.sparse\n",
    "import pandas as pd\n",
    "import numpy as np\n",
    "\n",
    "project_dir = \"/gpfs/Labs/Uzun/SCRIPTS/PROJECTS/2024.SINGLE_CELL_GRN_INFERENCE.MOELLER/\"\n",
    "\n",
    "# Input files\n",
    "peak_location_file = os.path.join(project_dir, \"output/DS011_mESC/DS011_mESC_sample1/tmp/peak_df.parquet\")\n",
    "gene_tss_bedfile = os.path.join(project_dir, \"data/genome_annotation/mm10/mm10_TSS.bed\")\n",
    "\n",
    "# Output file\n",
    "contact_matrix_file = os.path.join(project_dir, 'dev/notebooks/hic_peak_to_tg_ds011_contact_matrix_peak_x_gene.npz')\n",
    "\n",
    "sparse_contact_matrix  = scipy.sparse.load_npz(contact_matrix_file)\n"
   ]
  },
  {
   "cell_type": "markdown",
   "id": "d2981b0b",
   "metadata": {},
   "source": [
    "Let's annotate the matrix with the genes and peaks. First we need to load in the genes from the gene TSS location bed file and format the peak positions to chr:start-end format."
   ]
  },
  {
   "cell_type": "code",
   "execution_count": null,
   "id": "13c4ebc3",
   "metadata": {},
   "outputs": [],
   "source": [
    "mm10_tss = pd.read_csv(\n",
    "    gene_tss_bedfile, \n",
    "    sep=\"\\t\", \n",
    "    header=None, \n",
    "    index_col=None,\n",
    "    names=[\"chrom\", \"start\", \"end\", \"name\", \"score\", \"strand\"]\n",
    "    )\n",
    "\n",
    "atac_peaks = pd.read_parquet(peak_location_file)\n",
    "atac_peaks = atac_peaks.rename(columns={\"chr\":\"chrom\"})\n",
    "atac_peaks['chrom'] = 'chr' + atac_peaks['chrom'].astype(str)\n",
    "\n",
    "\n",
    "atac_peaks[\"peak_id\"] = [\n",
    "    f\"{c}:{s}-{e}\" for c, s, e in zip(atac_peaks[\"chrom\"], atac_peaks[\"start\"], atac_peaks[\"end\"])\n",
    "]\n",
    "\n"
   ]
  },
  {
   "cell_type": "markdown",
   "id": "7c175b62",
   "metadata": {},
   "source": [
    "Next, we will extract the gene names and formatted peak genomic coordinates."
   ]
  },
  {
   "cell_type": "code",
   "execution_count": null,
   "id": "a51fdf28",
   "metadata": {},
   "outputs": [],
   "source": [
    "gene_positions = mm10_tss[\"name\"].values\n",
    "peak_positions = atac_peaks[\"peak_id\"].values"
   ]
  },
  {
   "cell_type": "markdown",
   "id": "604c4a29",
   "metadata": {},
   "source": [
    "We will create a melted DataFrame of peak-gene contacts with scores above 0."
   ]
  },
  {
   "cell_type": "code",
   "execution_count": null,
   "id": "7dfbb85a",
   "metadata": {},
   "outputs": [],
   "source": [
    "# Extract non-zero coordinates directly from sparse matrix\n",
    "coo = sparse_contact_matrix.tocoo()\n",
    "\n",
    "# Build DataFrame directly from sparse matrix coordinates\n",
    "contact_df = pd.DataFrame({\n",
    "    \"peak_id\": peak_positions[coo.row],\n",
    "    \"target_id\": gene_positions[coo.col],\n",
    "    \"contact_value\": coo.data\n",
    "})\n",
    "contact_df"
   ]
  },
  {
   "cell_type": "code",
   "execution_count": null,
   "id": "2c06ae5c",
   "metadata": {},
   "outputs": [],
   "source": [
    "hic_peak_to_gene_file = os.path.join(project_dir, 'dev/notebooks/hic_peak_to_tg.parquet')\n",
    "\n",
    "contact_df.to_parquet(hic_peak_to_gene_file)"
   ]
  },
  {
   "cell_type": "code",
   "execution_count": null,
   "id": "05948d75",
   "metadata": {},
   "outputs": [],
   "source": [
    "n_peaks = contact_df[\"peak_id\"].nunique()\n",
    "n_targets = contact_df[\"target_id\"].nunique()\n",
    "n_edges = len(contact_df)\n",
    "\n",
    "print(f\"Number of Peaks: {n_peaks:,}\")\n",
    "print(f\"Number of Targets: {n_targets:,}\")\n",
    "print(f\"Number of Edges: {n_edges:,}\")"
   ]
  },
  {
   "cell_type": "code",
   "execution_count": null,
   "id": "4a46f942",
   "metadata": {},
   "outputs": [],
   "source": [
    "from grn_inference.normalization import minmax_normalize_pandas\n",
    "\n",
    "hic_norm_df = minmax_normalize_pandas(contact_df, [\"contact_value\"])\n",
    "hic_norm_df"
   ]
  },
  {
   "cell_type": "code",
   "execution_count": null,
   "id": "ba0ad14c",
   "metadata": {},
   "outputs": [],
   "source": [
    "import matplotlib.pyplot as plt\n",
    "fig = plt.figure(figsize=(8,5))\n",
    "plt.hist(hic_norm_df[\"contact_value\"], bins=150, log=True)\n",
    "plt.title(\" Hi-C peak to gene TSS Contact Values\")\n",
    "plt.ylabel(\"Log10 Frequency of Contact Values\")\n",
    "plt.xlabel(\"Contact Value\")\n",
    "plt.show()"
   ]
  },
  {
   "cell_type": "markdown",
   "id": "bfb482b6",
   "metadata": {},
   "source": [
    "## Testing Hi-C Validation of Cicero's peak-TG Regualtory Potential Predictions"
   ]
  },
  {
   "cell_type": "code",
   "execution_count": null,
   "id": "85adfeed",
   "metadata": {},
   "outputs": [],
   "source": [
    "cicero_df = pd.read_parquet(\"/gpfs/Labs/Uzun/SCRIPTS/PROJECTS/2024.SINGLE_CELL_GRN_INFERENCE.MOELLER/output/DS011_mESC/DS011_mESC_sample1/cicero_peak_to_tg_scores.parquet\", engine=\"pyarrow\")\n",
    "cicero_df"
   ]
  },
  {
   "cell_type": "code",
   "execution_count": null,
   "id": "2cd0ef33",
   "metadata": {},
   "outputs": [],
   "source": [
    "import matplotlib.pyplot as plt\n",
    "fig = plt.figure(figsize=(8,5))\n",
    "plt.hist(cicero_df[\"cicero_score\"], bins=150)\n",
    "plt.title(\"Cicero Score Distributin\")\n",
    "plt.ylabel(\"Frequency\")\n",
    "plt.xlabel(\"Cicero Score\")\n",
    "plt.show()"
   ]
  },
  {
   "cell_type": "code",
   "execution_count": null,
   "id": "468136ec",
   "metadata": {},
   "outputs": [],
   "source": [
    "cicero_hic_merged = pd.merge(cicero_df, hic_norm_df, on=[\"peak_id\", \"target_id\"], how=\"inner\")\n",
    "cicero_hic_merged"
   ]
  },
  {
   "cell_type": "markdown",
   "id": "f43fba4d",
   "metadata": {},
   "source": [
    "Determining how well the Cicero scores correlate with the contact value"
   ]
  },
  {
   "cell_type": "code",
   "execution_count": null,
   "id": "e6d7f6f0",
   "metadata": {},
   "outputs": [],
   "source": [
    "from sklearn.metrics import roc_auc_score\n",
    "\n",
    "cicero_hic_merged = cicero_hic_merged.dropna(subset=[\"contact_value\", \"cicero_score\"])\n",
    "\n",
    "threshold = cicero_hic_merged[\"contact_value\"].quantile(0.95)  # top 5% Hi-C contacts\n",
    "cicero_hic_merged[\"label\"] = (cicero_hic_merged[\"contact_value\"] >= threshold).astype(int)\n",
    "\n",
    "auroc = roc_auc_score(cicero_hic_merged[\"label\"], cicero_hic_merged[\"cicero_score\"])\n",
    "print(\"AUROC:\", auroc)\n"
   ]
  },
  {
   "cell_type": "code",
   "execution_count": null,
   "id": "362080c1",
   "metadata": {},
   "outputs": [],
   "source": [
    "import matplotlib.pyplot as plt\n",
    "\n",
    "plt.hist2d(cicero_hic_merged[\"cicero_score\"], cicero_hic_merged[\"contact_value\"], bins=100, norm='log')\n",
    "plt.xlabel(\"Cicero Score\")\n",
    "plt.ylabel(\"Hi-C Contact Value\")\n",
    "plt.title(\"Cicero vs. Hi-C (Joint Distribution)\")\n",
    "plt.colorbar(label=\"log10 Count\")\n",
    "plt.show()"
   ]
  },
  {
   "cell_type": "markdown",
   "id": "8d71a751",
   "metadata": {},
   "source": [
    "## Testing Hi-C Validation of MIRA's peak-TG Regulatory Potential Predictions\n",
    "\n",
    "MIRA attempts to model both local (LITE) and long-range (NITE) peak-TG regulatory interactions."
   ]
  },
  {
   "cell_type": "code",
   "execution_count": null,
   "id": "657e2e42",
   "metadata": {},
   "outputs": [],
   "source": [
    "def print_dataset_size(dataset_name, df):\n",
    "    print(dataset_name)\n",
    "\n",
    "    n_peaks = df[\"peak_id\"].nunique()\n",
    "    n_targets = df[\"target_id\"].nunique()\n",
    "    n_edges = len(df)\n",
    "\n",
    "    print(f\"  - Peaks: {n_peaks:,}\")\n",
    "    print(f\"  - TGs: {n_targets:,}\")\n",
    "    print(f\"  - Edges: {n_edges:,}\")"
   ]
  },
  {
   "cell_type": "code",
   "execution_count": null,
   "id": "39ea74f2",
   "metadata": {},
   "outputs": [],
   "source": [
    "mira_peak_to_tg_df = pd.read_parquet(\"/gpfs/Home/esm5360/MIRA/mira-datasets/mESC_filtered_L2_E7.5_rep1/mESC_E7.5_rep1_mira_peak_to_tg_scores_nonzero.parquet\", engine=\"pyarrow\")\n",
    "mira_peak_to_tg_df"
   ]
  },
  {
   "cell_type": "code",
   "execution_count": null,
   "id": "ec02f1df",
   "metadata": {},
   "outputs": [],
   "source": [
    "print_dataset_size(\"MIRA Peak-TG Regulatory Potential Scores\", mira_peak_to_tg_df)"
   ]
  },
  {
   "cell_type": "code",
   "execution_count": null,
   "id": "7e6e28e6",
   "metadata": {},
   "outputs": [],
   "source": [
    "peak_location_file = \"/gpfs/Labs/Uzun/SCRIPTS/PROJECTS/2024.SINGLE_CELL_GRN_INFERENCE.MOELLER/output/mESC/filtered_L2_E7.5_rep1/tmp/peak_df.parquet\"\n",
    "\n",
    "mm10_tss = pd.read_csv(\n",
    "    gene_tss_bedfile, \n",
    "    sep=\"\\t\", \n",
    "    header=None, \n",
    "    index_col=None,\n",
    "    names=[\"chrom\", \"start\", \"end\", \"name\", \"score\", \"strand\"]\n",
    "    )\n",
    "\n",
    "atac_peaks = pd.read_parquet(peak_location_file)\n",
    "atac_peaks = atac_peaks.rename(columns={\"chr\":\"chrom\"})\n",
    "atac_peaks['chrom'] = 'chr' + atac_peaks['chrom'].astype(str)\n",
    "\n",
    "\n",
    "atac_peaks[\"peak_id\"] = [\n",
    "    f\"{c}:{s}-{e}\" for c, s, e in zip(atac_peaks[\"chrom\"], atac_peaks[\"start\"], atac_peaks[\"end\"])\n",
    "]\n",
    "\n",
    "gene_positions = mm10_tss[\"name\"].values\n",
    "peak_positions = atac_peaks[\"peak_id\"].values\n",
    "\n",
    "# Extract non-zero coordinates directly from sparse matrix\n",
    "coo = sparse_contact_matrix.tocoo()\n",
    "\n",
    "# Build DataFrame directly from sparse matrix coordinates\n",
    "contact_df = pd.DataFrame({\n",
    "    \"peak_id\": peak_positions[coo.row],\n",
    "    \"target_id\": gene_positions[coo.col],\n",
    "    \"contact_value\": coo.data\n",
    "})\n",
    "\n",
    "from grn_inference.normalization import minmax_normalize_pandas\n",
    "\n",
    "# hic_norm_df = minmax_normalize_pandas(contact_df, [\"contact_value\"])\n",
    "\n",
    "print_dataset_size(\"Hi-C Contact Values for Peaks Within 1 Mb of a TG for mESC filtered L2 E7.5 rep1\", contact_df)"
   ]
  },
  {
   "cell_type": "code",
   "execution_count": null,
   "id": "083e5f46",
   "metadata": {},
   "outputs": [],
   "source": [
    "import matplotlib.pyplot as plt\n",
    "\n",
    "fig = plt.figure(figsize=(8,5))\n",
    "plt.hist(mira_peak_to_tg_df[\"LITE_score\"], bins=50, log=True)\n",
    "plt.title(\"Distribution of MIRA LITE Scores\")\n",
    "plt.ylabel(\"Log10 Frequency of Scores\")\n",
    "plt.xlabel(\"MIRA LITE Score\")\n",
    "plt.show()"
   ]
  },
  {
   "cell_type": "code",
   "execution_count": null,
   "id": "72b67b0d",
   "metadata": {},
   "outputs": [],
   "source": [
    "fig = plt.figure(figsize=(8,5))\n",
    "plt.hist(mira_peak_to_tg_df[\"NITE_score\"], bins=50, log=True)\n",
    "plt.title(\"Distribution of MIRA NITE Scores\")\n",
    "plt.ylabel(\"Log10 Frequency of Scores\")\n",
    "plt.xlabel(\"MIRA NITE Score\")\n",
    "plt.show()"
   ]
  },
  {
   "cell_type": "code",
   "execution_count": null,
   "id": "f36dad51",
   "metadata": {},
   "outputs": [],
   "source": [
    "fig = plt.figure(figsize=(8,5))\n",
    "plt.hist(mira_peak_to_tg_df[\"avg_chromatin_differential\"], bins=50, log=True)\n",
    "plt.title(\"Distribution of MIRA Average Chromatin Differential Scores\")\n",
    "plt.ylabel(\"Log10 Frequency of Scores\")\n",
    "plt.xlabel(\"MIRA Average Chromatin Differential Score\")\n",
    "plt.show()"
   ]
  },
  {
   "cell_type": "code",
   "execution_count": null,
   "id": "570be9fa",
   "metadata": {},
   "outputs": [],
   "source": [
    "mira_hic_total_merge = pd.merge(mira_peak_to_tg_df, contact_df, on=[\"peak_id\", \"target_id\"], how=\"outer\", indicator=True)\n",
    "both_mira_and_hic = mira_hic_total_merge[mira_hic_total_merge[\"_merge\"] == \"both\"].drop(columns=\"_merge\")\n",
    "mira_not_in_hic = mira_hic_total_merge[mira_hic_total_merge[\"_merge\"] == \"left_only\"].drop(columns=\"_merge\")\n",
    "hic_not_in_mira = mira_hic_total_merge[mira_hic_total_merge[\"_merge\"] == \"right_only\"].drop(columns=\"_merge\")\n",
    "\n",
    "print_dataset_size(\"Peak-TG Edges in Both MIRA and in the Hi-C Contact Matrix\", both_mira_and_hic)\n",
    "print_dataset_size(\"Peak-TG Edges in MIRA but not in the Hi-C Contact Matrix\", mira_not_in_hic)\n",
    "print_dataset_size(\"Peak-TG Edges not in MIRA but in the Hi-C Contact Matrix\", hic_not_in_mira)"
   ]
  },
  {
   "cell_type": "code",
   "execution_count": null,
   "id": "847e9fd6",
   "metadata": {},
   "outputs": [],
   "source": [
    "both_mira_and_hic"
   ]
  },
  {
   "cell_type": "code",
   "execution_count": null,
   "id": "1cbe614d",
   "metadata": {},
   "outputs": [],
   "source": [
    "print(f\"Average LITE Score for edges NOT in Hi-C: {mira_not_in_hic['LITE_score'].mean()}\")\n",
    "print(f\"Average LITE Score for edges IN Hi-C: {both_mira_and_hic['LITE_score'].mean()}\")\n",
    "\n",
    "print(f\"Average NITE Score for edges NOT in Hi-C: {mira_not_in_hic['NITE_score'].mean()}\")\n",
    "print(f\"Average NITE Score for edges IN Hi-C: {both_mira_and_hic['NITE_score'].mean()}\")\n",
    "\n",
    "print(f\"Average Chromatin Differential Score for edges NOT in Hi-C: {mira_not_in_hic['avg_chromatin_differential'].mean()}\")\n",
    "print(f\"Average Chromatin Differential Score for edges IN Hi-C: {both_mira_and_hic['avg_chromatin_differential'].mean()}\")"
   ]
  },
  {
   "cell_type": "code",
   "execution_count": null,
   "id": "1ee60e33",
   "metadata": {},
   "outputs": [],
   "source": [
    "balanced_both_mira_and_hic = both_mira_and_hic.sample(min(len(both_mira_and_hic), len(mira_not_in_hic)))\n",
    "balanced_mira_not_in_hic = mira_not_in_hic.sample(min(len(both_mira_and_hic), len(mira_not_in_hic)))"
   ]
  },
  {
   "cell_type": "code",
   "execution_count": null,
   "id": "5e698d7b",
   "metadata": {},
   "outputs": [],
   "source": [
    "from scipy.stats import pearsonr\n",
    "\n",
    "corr_lite = pearsonr(balanced_both_mira_and_hic[\"LITE_score\"], balanced_mira_not_in_hic[\"LITE_score\"])\n",
    "corr_nite = pearsonr(balanced_both_mira_and_hic[\"NITE_score\"], balanced_mira_not_in_hic[\"NITE_score\"])\n",
    "corr_chrom = pearsonr(balanced_both_mira_and_hic[\"avg_chromatin_differential\"], balanced_mira_not_in_hic[\"avg_chromatin_differential\"])\n",
    "\n",
    "print(\"LITE Pearson Correlation:\")\n",
    "print(f\"  - Statistic: {corr_lite[0]:.4f}\")\n",
    "print(f\"  - p-value: {corr_lite[1]:.2f}\")\n",
    "\n",
    "print(\"\\nNITE Pearson Correlation:\")\n",
    "print(f\"  - Statistic: {corr_nite[0]:.4f}\")\n",
    "print(f\"  - p-value: {corr_nite[1]:.2f}\")\n",
    "\n",
    "print(\"\\nChromatin Differential Pearson Correlation:\")\n",
    "print(f\"  - Statistic: {corr_chrom[0]:.4f}\")\n",
    "print(f\"  - p-value: {corr_chrom[1]:.2f}\")"
   ]
  },
  {
   "cell_type": "code",
   "execution_count": null,
   "id": "3dbc1a0e",
   "metadata": {},
   "outputs": [],
   "source": [
    "plt.figure(figsize=(6,5))\n",
    "plt.hist(\n",
    "    balanced_both_mira_and_hic[\"LITE_score\"],\n",
    "    bins=50,\n",
    "    alpha=0.5,\n",
    "    color=\"#4195df\",\n",
    "    # label=\"Edge in both MIRA and Hi-C\",\n",
    "    log=True\n",
    ")\n",
    "plt.hist(\n",
    "    balanced_mira_not_in_hic[\"LITE_score\"],\n",
    "    bins=50,\n",
    "    alpha=0.5,\n",
    "    color=\"#747474\",\n",
    "    # label=\"Edge Only in MIRA\",\n",
    "    log=True\n",
    ")\n",
    "# plt.title(\"MIRA LITE Scores for Peak-TG Edges in Both MIRA and Hi-C vs Edges Only in MIRA\", fontsize=16)\n",
    "plt.xlabel(\"MIRA LITE Score\", fontsize=18)\n",
    "plt.ylabel(\"log10 Frequency\", fontsize=18)\n",
    "plt.xticks(fontsize=18)\n",
    "plt.yticks(fontsize=18)\n",
    "# plt.legend(bbox_to_anchor=(1.05, 1), loc='upper left', borderaxespad=0., fontsize=14)\n",
    "plt.tight_layout()\n",
    "plt.show()"
   ]
  },
  {
   "cell_type": "code",
   "execution_count": null,
   "id": "663d4726",
   "metadata": {},
   "outputs": [],
   "source": [
    "plt.figure(figsize=(6,5))\n",
    "plt.hist(\n",
    "    balanced_both_mira_and_hic[\"NITE_score\"],\n",
    "    bins=50,\n",
    "    alpha=0.5,\n",
    "    color=\"#4195df\",\n",
    "    # label=\"Edge in both MIRA and Hi-C\",\n",
    "    log=True\n",
    ")\n",
    "plt.hist(\n",
    "    balanced_mira_not_in_hic[\"NITE_score\"],\n",
    "    bins=50,\n",
    "    alpha=0.5,\n",
    "    color=\"#747474\",\n",
    "    # label=\"Edge Only in MIRA\",\n",
    "    log=True\n",
    ")\n",
    "# plt.title(\"MIRA NITE Scores for Peak-TG Edges in Both MIRA and Hi-C vs Edges Only in MIRA\", fontsize=16)\n",
    "plt.xlabel(\"MIRA NITE Score\", fontsize=18)\n",
    "plt.ylabel(\"log10 Frequency\", fontsize=18)\n",
    "plt.xticks(fontsize=18)\n",
    "plt.yticks(fontsize=18)\n",
    "# plt.legend(bbox_to_anchor=(1.05, 1), loc='upper left', borderaxespad=0., fontsize=14)\n",
    "plt.tight_layout()\n",
    "plt.show()"
   ]
  },
  {
   "cell_type": "code",
   "execution_count": null,
   "id": "710e3a20",
   "metadata": {},
   "outputs": [],
   "source": [
    "plt.figure(figsize=(6,5))\n",
    "plt.hist(\n",
    "    balanced_both_mira_and_hic[\"avg_chromatin_differential\"],\n",
    "    bins=50,\n",
    "    alpha=0.5,\n",
    "    color=\"#4195df\",\n",
    "    # label=\"Edge in both MIRA and Hi-C\",\n",
    "    log=True\n",
    ")\n",
    "plt.hist(\n",
    "    balanced_mira_not_in_hic[\"avg_chromatin_differential\"],\n",
    "    bins=50,\n",
    "    alpha=0.5,\n",
    "    color=\"#747474\",\n",
    "    # label=\"Edge Only in MIRA\",\n",
    "    log=True\n",
    ")\n",
    "# plt.title(\"MIRA Chromatin Differential Scores for Peak-TG Edges in Both MIRA and Hi-C vs Edges Only in MIRA\", fontsize=16)\n",
    "plt.xlabel(\"MIRA Chromatin Differential Score\", fontsize=18)\n",
    "plt.ylabel(\"log10 Frequency\", fontsize=18)\n",
    "plt.xticks(fontsize=18)\n",
    "plt.yticks(fontsize=18)\n",
    "# plt.legend(bbox_to_anchor=(1.05, 1), loc='upper left', borderaxespad=0., fontsize=14)\n",
    "plt.tight_layout()\n",
    "plt.show()"
   ]
  },
  {
   "cell_type": "code",
   "execution_count": null,
   "id": "103a83a9",
   "metadata": {},
   "outputs": [],
   "source": [
    "import numpy as np\n",
    "from scipy.stats import pearsonr\n",
    "\n",
    "# Make sure both series are the same length and aligned\n",
    "x_lite = balanced_both_mira_and_hic[\"LITE_score\"].reset_index(drop=True)\n",
    "x_nite = balanced_both_mira_and_hic[\"NITE_score\"].reset_index(drop=True)\n",
    "x_chrom = balanced_both_mira_and_hic[\"avg_chromatin_differential\"].reset_index(drop=True)\n",
    "y_contact = balanced_both_mira_and_hic[\"contact_value\"].reset_index(drop=True)\n",
    "\n",
    "# Combine and drop any rows with NaN or inf\n",
    "def clean(x, y):\n",
    "    df = pd.DataFrame({\"x\": x, \"y\": y})\n",
    "    df = df.replace([np.inf, -np.inf], np.nan).dropna()\n",
    "    return df[\"x\"], df[\"y\"]\n",
    "\n",
    "x_lite_clean, y_contact_clean1 = clean(x_lite, y_contact)\n",
    "x_nite_clean, y_contact_clean2 = clean(x_nite, y_contact)\n",
    "x_chrom_clean, y_contact_clean3 = clean(x_chrom, y_contact)\n",
    "\n",
    "# Correlations\n",
    "corr_lite = pearsonr(x_lite_clean, y_contact_clean1)\n",
    "corr_nite = pearsonr(x_nite_clean, y_contact_clean2)\n",
    "corr_chrom = pearsonr(x_chrom_clean, y_contact_clean3)\n",
    "\n",
    "# Print results\n",
    "print(\"MIRA LITE score vs Hi-C contact value Pearson Correlation:\")\n",
    "print(f\"  - Statistic: {corr_lite[0]:.4f}\")\n",
    "print(f\"  - p-value: {corr_lite[1]:.2f}\")\n",
    "\n",
    "print(\"\\nMIRA NITE score vs Hi-C contact value Pearson Correlation:\")\n",
    "print(f\"  - Statistic: {corr_nite[0]:.4f}\")\n",
    "print(f\"  - p-value: {corr_nite[1]:.2f}\")\n",
    "\n",
    "print(\"\\nMIRA Chromatin Differential score vs Hi-C contact value Pearson Correlation:\")\n",
    "print(f\"  - Statistic: {corr_chrom[0]:.4f}\")\n",
    "print(f\"  - p-value: {corr_chrom[1]:.2f}\")\n"
   ]
  },
  {
   "cell_type": "code",
   "execution_count": null,
   "id": "ecfc2fc7",
   "metadata": {},
   "outputs": [],
   "source": [
    "import seaborn as sns\n",
    "plt.figure(figsize=(6,5))\n",
    "\n",
    "sns.scatterplot(x=\"LITE_score\", y=\"contact_value\", data=both_mira_and_hic, alpha=0.3, s=100)\n",
    "plt.xlabel(\"MIRA LITE Score\", fontsize=18)\n",
    "plt.ylabel(\"Hi-C Contact Value\", fontsize=18)\n",
    "plt.xticks(fontsize=18)\n",
    "plt.yticks(fontsize=18)\n",
    "plt.tight_layout()\n",
    "plt.show()"
   ]
  },
  {
   "cell_type": "code",
   "execution_count": null,
   "id": "23fd2b7a",
   "metadata": {},
   "outputs": [],
   "source": [
    "plt.figure(figsize=(6,5))\n",
    "\n",
    "sns.scatterplot(x=\"NITE_score\", y=\"contact_value\", data=both_mira_and_hic, alpha=0.3, s=100)\n",
    "plt.xlabel(\"MIRA NITE Score\", fontsize=18)\n",
    "plt.ylabel(\"Hi-C Contact Value\", fontsize=18)\n",
    "plt.xticks(fontsize=18)\n",
    "plt.yticks(fontsize=18)\n",
    "plt.tight_layout()\n",
    "plt.show()"
   ]
  },
  {
   "cell_type": "code",
   "execution_count": null,
   "id": "e5716a8f",
   "metadata": {},
   "outputs": [],
   "source": [
    "plt.figure(figsize=(6,5))\n",
    "sns.scatterplot(x=\"avg_chromatin_differential\", y=\"contact_value\", data=both_mira_and_hic, alpha=0.3, s=100)\n",
    "plt.xlabel(\"MIRA Chromatin Differential Score\", fontsize=18)\n",
    "plt.ylabel(\"Hi-C Contact Value\", fontsize=18)\n",
    "plt.xticks(np.arange(0, 0.5, step=0.1), fontsize=18)\n",
    "plt.yticks(fontsize=18)\n",
    "plt.tight_layout()\n",
    "plt.show()"
   ]
  },
  {
   "cell_type": "code",
   "execution_count": null,
   "id": "5f34d6a2",
   "metadata": {},
   "outputs": [],
   "source": []
  },
  {
   "cell_type": "markdown",
   "id": "fefc0d49",
   "metadata": {},
   "source": [
    "---"
   ]
  },
  {
   "cell_type": "markdown",
   "id": "e7216a35",
   "metadata": {},
   "source": [
    "### Citations\n",
    "1. Yao, Lijing, et al. “Demystifying the Secret Mission of Enhancers: Linking Distal Regulatory Elements to Target Genes.” Critical Reviews in Biochemistry and Molecular Biology, vol. 50, no. 6, Nov. 2015, pp. 550–73. DOI.org (Crossref), https://doi.org/10.3109/10409238.2015.1087961.\n",
    "\n",
    "2. Sanyal, Amartya, et al. “The Long-Range Interaction Landscape of Gene Promoters.” Nature, vol. 489, no. 7414, Sep. 2012, pp. 109–13. DOI.org (Crossref), https://doi.org/10.1038/nature11279.\n",
    "\n",
    "3. Li, Guoliang, et al. “Extensive Promoter-Centered Chromatin Interactions Provide a Topological Basis for Transcription Regulation.” Cell, vol. 148, no. 1–2, Jan. 2012, pp. 84–98. DOI.org (Crossref), https://doi.org/10.1016/j.cell.2011.12.014.\n",
    "\n",
    "   \n",
    "4. Yao, Lijing, et al. “Inferring Regulatory Element Landscapes and Transcription Factor Networks from Cancer Methylomes.” Genome Biology, vol. 16, no. 1, May 2015, p. 105. DOI.org (Crossref), https://doi.org/10.1186/s13059-015-0668-3.\n",
    "\n",
    "\n",
    "5. Jin, Fulai, et al. “A High-Resolution Map of the Three-Dimensional Chromatin Interactome in Human Cells.” Nature, vol. 503, no. 7475, Nov. 2013, pp. 290–94. DOI.org (Crossref), https://doi.org/10.1038/nature12644.\n",
    "\n",
    "6. Mifsud, Borbala, et al. “Mapping Long-Range Promoter Contacts in Human Cells with High-Resolution Capture Hi-C.” Nature Genetics, vol. 47, no. 6, Jun. 2015, pp. 598–606. DOI.org (Crossref), https://doi.org/10.1038/ng.3286.\n",
    "\n",
    "7. Mumbach, Maxwell R., et al. “Enhancer Connectome in Primary Human Cells Identifies Target Genes of Disease-Associated DNA Elements.” Nature Genetics, vol. 49, no. 11, Nov. 2017, pp. 1602–12. DOI.org (Crossref), https://doi.org/10.1038/ng.3963.\n",
    "\n",
    "8. Javierre, Biola M., et al. “Lineage-Specific Genome Architecture Links Enhancers and Non-Coding Disease Variants to Target Gene Promoters.” Cell, vol. 167, no. 5, Nov. 2016, pp. 1369-1384.e19. DOI.org (Crossref), https://doi.org/10.1016/j.cell.2016.09.037.\n",
    "\n",
    "9. Schoenfelder, Stefan, et al. “The Pluripotent Regulatory Circuitry Connecting Promoters to Their Long-Range Interacting Elements.” Genome Research, vol. 25, no. 4, Apr. 2015, pp. 582–97. DOI.org (Crossref), https://doi.org/10.1101/gr.185272.114.\n",
    "\n",
    "10. Lettice, L. A. “A Long-Range Shh Enhancer Regulates Expression in the Developing Limb and Fin and Is Associated with Preaxial Polydactyly.” Human Molecular Genetics, vol. 12, no. 14, Jul. 2003, pp. 1725–35. DOI.org (Crossref), https://doi.org/10.1093/hmg/ddg180.\n",
    "\n",
    "11. Pennacchio, Len A., et al. “Enhancers: Five Essential Questions.” Nature Reviews Genetics, vol. 14, no. 4, Apr. 2013, pp. 288–95. DOI.org (Crossref), https://doi.org/10.1038/nrg3458.\n",
    "\n",
    "12. Kvon, Evgeny Z., et al. “Genome-Scale Functional Characterization of Drosophila Developmental Enhancers in Vivo.” Nature, vol. 512, no. 7512, Aug. 2014, pp. 91–95. DOI.org (Crossref), https://doi.org/10.1038/nature13395.\n",
    "\n",
    "13. Narita, Takeo, and Chunaram Choudhary. Mammalian Enhancers and GWASs Act Proximally and Seldom Skip Active Genes. Genomics, 3 Dec. 2024. DOI.org (Crossref), https://doi.org/10.1101/2024.11.29.625864.\n",
    "\n",
    "14. Zhang, Yubo, et al. “Chromatin Connectivity Maps Reveal Dynamic Promoter–Enhancer Long-Range Associations.” Nature, vol. 504, no. 7479, Dec. 2013, pp. 306–10. DOI.org (Crossref), https://doi.org/10.1038/nature12716."
   ]
  }
 ],
 "metadata": {
  "kernelspec": {
   "display_name": "my_env",
   "language": "python",
   "name": "my_env"
  },
  "language_info": {
   "codemirror_mode": {
    "name": "ipython",
    "version": 3
   },
   "file_extension": ".py",
   "mimetype": "text/x-python",
   "name": "python",
   "nbconvert_exporter": "python",
   "pygments_lexer": "ipython3",
   "version": "3.9.18"
  }
 },
 "nbformat": 4,
 "nbformat_minor": 5
}
