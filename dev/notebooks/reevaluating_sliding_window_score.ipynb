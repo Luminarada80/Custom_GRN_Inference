{
 "cells": [
  {
   "cell_type": "markdown",
   "id": "4e7f53f7",
   "metadata": {},
   "source": [
    "# Investigating Sliding Window Scores\n",
    "\n",
    "The sliding window scores should have more overlap with the ground truth datasets than they do. I am going to go step-by-step to re-run the analysis, using the raw non-normalized sliding window scores from the method output file."
   ]
  },
  {
   "cell_type": "code",
   "execution_count": null,
   "id": "6027ba04",
   "metadata": {},
   "outputs": [],
   "source": [
    "!hostnamectl"
   ]
  },
  {
   "cell_type": "code",
   "execution_count": null,
   "id": "6fd562ad",
   "metadata": {},
   "outputs": [],
   "source": [
    "import os\n",
    "import pandas as pd\n",
    "import pandas as pd\n",
    "import matplotlib.pyplot as plt\n",
    "import seaborn as sns\n",
    "import numpy as np\n",
    "import random\n",
    "from sklearn.metrics import roc_curve, auc, precision_recall_curve, average_precision_score\n",
    "import dev.notebooks.plotting as dev_plots\n"
   ]
  },
  {
   "cell_type": "code",
   "execution_count": null,
   "id": "13409934",
   "metadata": {},
   "outputs": [],
   "source": [
    "import importlib\n",
    "importlib.reload(dev_plots)"
   ]
  },
  {
   "cell_type": "markdown",
   "id": "1d7bd354",
   "metadata": {},
   "source": [
    "## Loading the Raw Sliding Window Scores"
   ]
  },
  {
   "cell_type": "code",
   "execution_count": null,
   "id": "cf1eff7d",
   "metadata": {},
   "outputs": [],
   "source": [
    "output_dir = \"/gpfs/Labs/Uzun/SCRIPTS/PROJECTS/2024.SINGLE_CELL_GRN_INFERENCE.MOELLER/output/DS011_mESC/DS011_mESC_sample1/\"\n",
    "\n",
    "# Load sliding window scores, associate with the nearest gene TSS\n",
    "raw_sliding_window_scores = pd.read_parquet(os.path.join(output_dir, \"no_norm_sliding_window_tf_to_peak_score.parquet\"), engine=\"pyarrow\")\n",
    "peaks_gene_distance_file = os.path.join(output_dir, \"peaks_near_genes.parquet\")"
   ]
  },
  {
   "cell_type": "markdown",
   "id": "b25375a7",
   "metadata": {},
   "source": [
    "## Mapping Sliding Window Scores to TGs"
   ]
  },
  {
   "cell_type": "markdown",
   "id": "1d93e7b8",
   "metadata": {},
   "source": [
    "### Setting the TG as the closest gene TSS"
   ]
  },
  {
   "cell_type": "markdown",
   "id": "40000ed2",
   "metadata": {},
   "source": [
    "First, we load in the raw sliding window scores from the direct output of the sliding window score calculation method, without normalization or scaling. \n",
    "\n",
    "To get TF-TG edges, we load in the dataframe of all peaks within 1 Mb of each gene and find the closest gene for each peak. We use the closest gene to each peak as the TG for each TF-peak edge in the sliding window scores."
   ]
  },
  {
   "cell_type": "code",
   "execution_count": null,
   "id": "c642fa86",
   "metadata": {},
   "outputs": [],
   "source": [
    "def set_tg_as_closest_gene_tss(raw_sliding_window_scores: pd.DataFrame, peaks_gene_distance_file: str):\n",
    "    # Read in the peaks to TG data and pick the closest gene for each peak (maximum TSS distance score)\n",
    "    peaks_near_genes_df = pd.read_parquet(peaks_gene_distance_file, engine=\"pyarrow\")\n",
    "\n",
    "    closest_gene_to_peak_df = peaks_near_genes_df.sort_values(\"TSS_dist_score\", ascending=False).groupby(\"peak_id\").first()\n",
    "    closest_gene_to_peak_df = closest_gene_to_peak_df[[\"target_id\"]].reset_index()\n",
    "\n",
    "    # Set the TG for each TF-peak edge as the closest gene to the peak\n",
    "    sliding_window_closest_gene_df = pd.merge(raw_sliding_window_scores, closest_gene_to_peak_df, on=[\"peak_id\"], how=\"left\")\n",
    "    return sliding_window_closest_gene_df"
   ]
  },
  {
   "cell_type": "code",
   "execution_count": null,
   "id": "61872321",
   "metadata": {},
   "outputs": [],
   "source": [
    "sliding_window_closest_gene_df = set_tg_as_closest_gene_tss(raw_sliding_window_scores, peaks_gene_distance_file)\n",
    "    \n",
    "sliding_window_tf_tg = sliding_window_closest_gene_df[[\"source_id\", \"target_id\", \"sliding_window_score\"]].drop_duplicates()\n",
    "unique_sliding_window_tf_tg_edges = sliding_window_tf_tg[[\"source_id\", \"target_id\"]].drop_duplicates()"
   ]
  },
  {
   "cell_type": "code",
   "execution_count": null,
   "id": "694aec63",
   "metadata": {},
   "outputs": [],
   "source": [
    "print(f\"Sliding Window scores\")\n",
    "print(f\"  - TFs: {sliding_window_tf_tg['source_id'].nunique():,}\")\n",
    "print(f\"  - TGs: {sliding_window_tf_tg['target_id'].nunique():,}\")\n",
    "print(f\"  - TF-peak-TG Edges: {len(sliding_window_closest_gene_df):,}\")\n",
    "print(f\"  - TF-TG-Score Edges: {len(sliding_window_tf_tg):,}\")\n",
    "print(f\"  - TF-TG Edges: {len(unique_sliding_window_tf_tg_edges):,}\")"
   ]
  },
  {
   "cell_type": "markdown",
   "id": "dfffcd25",
   "metadata": {},
   "source": [
    "### Setting the TG using MIRA peak-TG"
   ]
  },
  {
   "cell_type": "code",
   "execution_count": null,
   "id": "de4004fb",
   "metadata": {},
   "outputs": [],
   "source": [
    "mira_peak_to_tg_df = pd.read_parquet(\"/gpfs/Home/esm5360/MIRA/mira-datasets/ds011_full/ds011_full_mira_peak_to_tg_scores.parquet\", engine=\"pyarrow\")"
   ]
  },
  {
   "cell_type": "code",
   "execution_count": null,
   "id": "d7dd16e6",
   "metadata": {},
   "outputs": [],
   "source": [
    "def set_tg_using_mira_peak_tg_edges(raw_sliding_window_scores: pd.DataFrame, mira_df: pd.DataFrame):\n",
    "    sliding_window_mira_df = pd.merge(raw_sliding_window_scores, mira_df, on=[\"peak_id\"], how=\"left\")\n",
    "    sliding_window_mira_df = sliding_window_mira_df[[\"source_id\", \"peak_id\", \"target_id\", \"sliding_window_score\"]].dropna(subset=\"target_id\")\n",
    "    \n",
    "    return sliding_window_mira_df"
   ]
  },
  {
   "cell_type": "code",
   "execution_count": null,
   "id": "d7b8bbd1",
   "metadata": {},
   "outputs": [],
   "source": [
    "sliding_window_mira_df = set_tg_using_mira_peak_tg_edges(raw_sliding_window_scores, mira_peak_to_tg_df)\n",
    "sliding_window_mira_df"
   ]
  },
  {
   "cell_type": "markdown",
   "id": "ca97e7db",
   "metadata": {},
   "source": [
    "### Setting the TG using Cicero peak-TG"
   ]
  },
  {
   "cell_type": "code",
   "execution_count": null,
   "id": "09fe31d3",
   "metadata": {},
   "outputs": [],
   "source": [
    "cicero_peak_to_tg_df = pd.read_parquet(os.path.join(output_dir, \"cicero_peak_to_tg_scores.parquet\"), engine=\"pyarrow\")"
   ]
  },
  {
   "cell_type": "code",
   "execution_count": null,
   "id": "ce427502",
   "metadata": {},
   "outputs": [],
   "source": [
    "def set_tg_using_cicero_peak_tg_edges(raw_sliding_window_scores: pd.DataFrame, cicero_df: pd.DataFrame):\n",
    "    sliding_window_cicero_df = pd.merge(raw_sliding_window_scores, cicero_df, on=[\"peak_id\"], how=\"left\")\n",
    "    sliding_window_cicero_df = sliding_window_cicero_df[[\"source_id\", \"peak_id\", \"target_id\", \"sliding_window_score\"]].dropna(subset=\"target_id\")\n",
    "    \n",
    "    return sliding_window_cicero_df"
   ]
  },
  {
   "cell_type": "code",
   "execution_count": null,
   "id": "588beccc",
   "metadata": {},
   "outputs": [],
   "source": [
    "sliding_window_cicero_df = set_tg_using_cicero_peak_tg_edges(raw_sliding_window_scores, cicero_peak_to_tg_df)\n",
    "sliding_window_cicero_df"
   ]
  },
  {
   "cell_type": "markdown",
   "id": "e3a60fa6",
   "metadata": {},
   "source": [
    "## Loading RN115"
   ]
  },
  {
   "cell_type": "markdown",
   "id": "1c1644db",
   "metadata": {},
   "source": [
    "Next, we load in the RN115 LOGOF ESCAPE ground truth data and ensure that the TF and TG column names match the sliding window DataFrame columns"
   ]
  },
  {
   "cell_type": "code",
   "execution_count": null,
   "id": "dd6997fa",
   "metadata": {},
   "outputs": [],
   "source": [
    "# Load the RN115 LOGOG ESCAPE ground truth\n",
    "rn115_ko_ground_truth = pd.read_csv(\"/gpfs/Labs/Uzun/DATA/PROJECTS/2024.SC_MO_TRN_DB.MIRA/REPOSITORY/CURRENT/REFERENCE_NETWORKS/RN115_LOGOF_ESCAPE_Mouse_ESC.tsv\", sep=\"\\t\")\n",
    "rn115_ko_ground_truth = rn115_ko_ground_truth[[\"Source\", \"Target\"]].rename(columns={\"Source\":\"source_id\", \"Target\":\"target_id\"})\n",
    "rn115_ko_ground_truth[\"source_id\"] = rn115_ko_ground_truth[\"source_id\"].str.capitalize()\n",
    "rn115_ko_ground_truth[\"target_id\"] = rn115_ko_ground_truth[\"target_id\"].str.capitalize()"
   ]
  },
  {
   "cell_type": "code",
   "execution_count": null,
   "id": "635e0331",
   "metadata": {},
   "outputs": [],
   "source": [
    "print(\"RN115 LOGOF Ground Truth\")\n",
    "print(f\"  - TFs: {rn115_ko_ground_truth['source_id'].nunique():,}\")\n",
    "print(f\"  - TGs: {rn115_ko_ground_truth['target_id'].nunique():,}\")\n",
    "print(f\"  - Edges: {len(rn115_ko_ground_truth):,}\")"
   ]
  },
  {
   "cell_type": "markdown",
   "id": "9f832fac",
   "metadata": {},
   "source": [
    "### RN115 TGs per TF"
   ]
  },
  {
   "cell_type": "code",
   "execution_count": null,
   "id": "9cbdaf0f",
   "metadata": {},
   "outputs": [],
   "source": [
    "rn115_targets_per_tf = rn115_ko_ground_truth.groupby(\"source_id\").count().sort_values(by=\"target_id\", ascending=False)\n",
    "print(\"Number of RN115 TGs per TF\")\n",
    "rn115_targets_per_tf"
   ]
  },
  {
   "cell_type": "code",
   "execution_count": null,
   "id": "6eda933c",
   "metadata": {},
   "outputs": [],
   "source": [
    "sliding_window_tf_tg"
   ]
  },
  {
   "cell_type": "markdown",
   "id": "605f5723",
   "metadata": {},
   "source": [
    "### Sliding Window TGs per TF"
   ]
  },
  {
   "cell_type": "code",
   "execution_count": null,
   "id": "a33a7e43",
   "metadata": {},
   "outputs": [],
   "source": [
    "sliding_window_targets_per_tf = sliding_window_tf_tg.groupby(\"source_id\")[\"target_id\"].count().sort_values(ascending=False)\n",
    "print(\"Number of Sliding Window TGs per TF\")\n",
    "sliding_window_targets_per_tf"
   ]
  },
  {
   "cell_type": "code",
   "execution_count": null,
   "id": "94336266",
   "metadata": {},
   "outputs": [],
   "source": []
  },
  {
   "cell_type": "markdown",
   "id": "17fad805",
   "metadata": {},
   "source": [
    "## Overlap between RN115 and Sliding Window Scores"
   ]
  },
  {
   "cell_type": "markdown",
   "id": "10425602",
   "metadata": {},
   "source": [
    "Merge the datasets together. By doing a full outer join and using `inticator=True`, we can separate out the edges in both datasets along with the edges only in the sliding window scores and the edges only in RN115"
   ]
  },
  {
   "cell_type": "code",
   "execution_count": null,
   "id": "67d1a2d4",
   "metadata": {},
   "outputs": [],
   "source": [
    "merged_edges = pd.merge(\n",
    "    sliding_window_tf_tg, \n",
    "    rn115_ko_ground_truth, \n",
    "    on=[\"source_id\", \"target_id\"], \n",
    "    how=\"outer\",\n",
    "    indicator=True\n",
    "    )\n",
    "merged_edges"
   ]
  },
  {
   "cell_type": "code",
   "execution_count": null,
   "id": "7ced7be7",
   "metadata": {},
   "outputs": [],
   "source": [
    "edges_in_both = merged_edges[merged_edges[\"_merge\"] == \"both\"].drop(columns=\"_merge\")\n",
    "sliding_window_edges_only = merged_edges[merged_edges[\"_merge\"] == \"left_only\"].drop(columns=\"_merge\")\n",
    "rn115_edges_only = merged_edges[merged_edges[\"_merge\"] == \"right_only\"].drop(columns=\"_merge\")"
   ]
  },
  {
   "cell_type": "code",
   "execution_count": null,
   "id": "8f488192",
   "metadata": {},
   "outputs": [],
   "source": [
    "tfs_in_both = edges_in_both[\"source_id\"].drop_duplicates()\n",
    "tgs_in_both = edges_in_both[\"target_id\"].drop_duplicates()\n",
    "\n",
    "print(\"Edges in both RN115 and Sliding Window:\")\n",
    "print(f\"  - TFs in both: {len(tfs_in_both):,}\")\n",
    "print(f\"  - TGs in both: {len(tgs_in_both):,}\")\n",
    "print(f\"  - TF-TG-Score Edges in both: {len(edges_in_both):,}\")\n",
    "print(f\"  - TF-TG Edges in both: {len(edges_in_both.drop_duplicates(subset=['source_id', 'target_id'])):,}\")"
   ]
  },
  {
   "cell_type": "code",
   "execution_count": null,
   "id": "844a75e7",
   "metadata": {},
   "outputs": [],
   "source": [
    "tfs_only_in_sliding_window = sliding_window_tf_tg[~sliding_window_tf_tg[\"source_id\"].isin(rn115_ko_ground_truth[\"source_id\"])][\"source_id\"].drop_duplicates()\n",
    "tgs_only_in_sliding_window = sliding_window_tf_tg[~sliding_window_tf_tg[\"target_id\"].isin(rn115_ko_ground_truth[\"target_id\"])][\"target_id\"].drop_duplicates()\n",
    "\n",
    "print(\"Only in Sliding Window:\")\n",
    "print(f\"  - TFs only in Sliding Window: {len(tfs_only_in_sliding_window):,}\")\n",
    "print(f\"  - TGs only in Sliding Window: {len(tgs_only_in_sliding_window):,}\")\n",
    "print(f\"  - TF-peak-TG Edges only in Sliding Window: {len(sliding_window_edges_only):,}\")\n",
    "print(f\"  - TF-TG Edges only in Sliding Window: {len(sliding_window_edges_only.drop_duplicates(subset=['source_id', 'target_id'])):,}\")"
   ]
  },
  {
   "cell_type": "code",
   "execution_count": null,
   "id": "9ab5015a",
   "metadata": {},
   "outputs": [],
   "source": [
    "tfs_only_in_rn115 = rn115_ko_ground_truth[~rn115_ko_ground_truth[\"source_id\"].isin(sliding_window_tf_tg[\"source_id\"])][\"source_id\"].drop_duplicates()\n",
    "tgs_only_in_rn115 = rn115_ko_ground_truth[~rn115_ko_ground_truth[\"target_id\"].isin(sliding_window_tf_tg[\"target_id\"])][\"target_id\"].drop_duplicates()\n",
    "\n",
    "print(\"Only in RN115:\")\n",
    "print(f\"  - TFs only in RN115: {len(tfs_only_in_rn115):,}\")\n",
    "print(f\"  - TGs only in RN115: {len(tgs_only_in_rn115):,}\")\n",
    "print(f\"  - Edges only in Sliding Window: {len(rn115_edges_only):,}\")"
   ]
  },
  {
   "cell_type": "markdown",
   "id": "978f6daf",
   "metadata": {},
   "source": [
    "### Sum of sliding window scores per TF-TG edge (strength of association)"
   ]
  },
  {
   "cell_type": "markdown",
   "id": "30990d6e",
   "metadata": {},
   "source": [
    "#### Both Sliding Window and RN115"
   ]
  },
  {
   "cell_type": "code",
   "execution_count": null,
   "id": "93e94d50",
   "metadata": {},
   "outputs": [],
   "source": [
    "edges_in_both_by_tf_tg = (\n",
    "    edges_in_both.groupby([\"source_id\", \"target_id\"])\n",
    "    .count()\n",
    "    .sort_values(by=\"sliding_window_score\", ascending=False)\n",
    "    .reset_index()\n",
    "    .rename(columns={'sliding_window_score':'Num Scores per TF-TG Edge'})\n",
    ")\n",
    "edges_in_both_by_tf_tg"
   ]
  },
  {
   "cell_type": "code",
   "execution_count": null,
   "id": "220d55a3",
   "metadata": {},
   "outputs": [],
   "source": [
    "importlib.reload(dev_plots)\n",
    "dev_plots.plot_score_heatmap_by_tf_tg(\n",
    "    df=edges_in_both,\n",
    "    title=\"Sliding Window Scores in RN115 by TF-TG Edges\",\n",
    "    score_col=\"sliding_window_score\",\n",
    "    max_tfs=edges_in_both[\"source_id\"].nunique(),\n",
    "    max_tgs=edges_in_both[\"target_id\"].nunique()\n",
    "    )"
   ]
  },
  {
   "cell_type": "markdown",
   "id": "48947e33",
   "metadata": {},
   "source": [
    "#### Only in Sliding Window"
   ]
  },
  {
   "cell_type": "code",
   "execution_count": null,
   "id": "8734d862",
   "metadata": {},
   "outputs": [],
   "source": [
    "dev_plots.plot_score_heatmap_by_tf_tg(\n",
    "    df=sliding_window_edges_only,\n",
    "    title=\"Sliding Window Scores NOT in RN115 by TF-TG Edges\",\n",
    "    score_col=\"sliding_window_score\",\n",
    "    max_tfs=sliding_window_edges_only[\"source_id\"].nunique(),\n",
    "    max_tgs=sliding_window_edges_only[\"target_id\"].nunique()\n",
    "    )"
   ]
  },
  {
   "cell_type": "code",
   "execution_count": null,
   "id": "7e0a961b",
   "metadata": {},
   "outputs": [],
   "source": [
    "sliding_window_edges_only_only_by_tf_tg = (\n",
    "    sliding_window_edges_only.groupby([\"source_id\", \"target_id\"])\n",
    "    .count()\n",
    "    .sort_values(by=\"sliding_window_score\", ascending=False)\n",
    "    .reset_index()\n",
    "    .rename(columns={'sliding_window_score':'Num Scores per TF-TG Edge'})\n",
    ")\n",
    "sliding_window_edges_only_only_by_tf_tg"
   ]
  },
  {
   "cell_type": "markdown",
   "id": "aea64c25",
   "metadata": {},
   "source": [
    "### Number of scores per TF"
   ]
  },
  {
   "cell_type": "markdown",
   "id": "9427d2cb",
   "metadata": {},
   "source": [
    "#### Both Sliding Window and RN115"
   ]
  },
  {
   "cell_type": "code",
   "execution_count": null,
   "id": "84dc7ce7",
   "metadata": {},
   "outputs": [],
   "source": [
    "edges_in_both_by_tf = (\n",
    "    edges_in_both\n",
    "    .groupby(\"source_id\")\n",
    "    .count()\n",
    "    .sort_values(\"target_id\", ascending=False)\n",
    "    .rename(columns={'sliding_window_score':'Num Scores per TF'})\n",
    "    ['Num Scores per TF']\n",
    "    .reset_index()\n",
    "    )"
   ]
  },
  {
   "cell_type": "code",
   "execution_count": null,
   "id": "3449a8a0",
   "metadata": {},
   "outputs": [],
   "source": [
    "importlib.reload(dev_plots)\n",
    "dev_plots.plot_scores_grouped_by_tf(\n",
    "    edges_in_both, \n",
    "    title=\"Sliding Window Scores in RN115 - Number of Scores per TF\", \n",
    "    score_col=\"sliding_window_score\"\n",
    "    )"
   ]
  },
  {
   "cell_type": "markdown",
   "id": "68c6ba21",
   "metadata": {},
   "source": [
    "#### Only in Sliding Window"
   ]
  },
  {
   "cell_type": "code",
   "execution_count": null,
   "id": "72b8294c",
   "metadata": {},
   "outputs": [],
   "source": [
    "sliding_window_edges_only_by_tf = (\n",
    "    sliding_window_edges_only\n",
    "    .groupby(\"source_id\")\n",
    "    .count()\n",
    "    .sort_values(\"target_id\", ascending=False)\n",
    "    .rename(columns={'sliding_window_score':'Num Scores per TF'})\n",
    "    ['Num Scores per TF']\n",
    "    .reset_index()\n",
    "    )"
   ]
  },
  {
   "cell_type": "code",
   "execution_count": null,
   "id": "0ae02710",
   "metadata": {},
   "outputs": [],
   "source": [
    "importlib.reload(dev_plots)\n",
    "dev_plots.plot_scores_grouped_by_tf(\n",
    "    sliding_window_edges_only, \n",
    "    title=\"Sliding Window Scores Not in RN115 - Number of Scores per TF\", \n",
    "    score_col=\"sliding_window_score\",\n",
    "    top_tf_limit=911\n",
    "    )"
   ]
  },
  {
   "cell_type": "code",
   "execution_count": null,
   "id": "36235470",
   "metadata": {},
   "outputs": [],
   "source": [
    "edges_in_both.hist(\"sliding_window_score\", bins=150, grid=False)"
   ]
  },
  {
   "cell_type": "markdown",
   "id": "caf65c64",
   "metadata": {},
   "source": [
    "## Score Distributions - Edges in RN115 vs Edges Not in RN115"
   ]
  },
  {
   "cell_type": "code",
   "execution_count": null,
   "id": "cb143d58",
   "metadata": {},
   "outputs": [],
   "source": [
    "importlib.reload(dev_plots)\n",
    "dev_plots.plot_true_false_distribution(\n",
    "    true_series=edges_in_both[\"sliding_window_score\"], \n",
    "    false_series=sliding_window_edges_only[\"sliding_window_score\"],\n",
    "    xlabel=\"Sliding Window Score\",\n",
    "    title=\"Sliding Window Scores\",\n",
    "    balance=True\n",
    "    \n",
    "    )"
   ]
  },
  {
   "cell_type": "code",
   "execution_count": null,
   "id": "530691d3",
   "metadata": {},
   "outputs": [],
   "source": [
    "importlib.reload(dev_plots)\n",
    "\n",
    "df = (\n",
    "    edges_in_both\n",
    "    .groupby(\"source_id\")\n",
    "    .count()\n",
    "    .sort_values(\"sliding_window_score\", ascending=False)\n",
    "    .reset_index()\n",
    "    )\n",
    "tfs_of_interest = df[\"source_id\"].drop_duplicates().to_list()\n",
    "\n",
    "num_tfs = 15\n",
    "\n",
    "dev_plots.plot_score_distribution_by_tf(\n",
    "    df=edges_in_both, \n",
    "    score_col=\"sliding_window_score\", \n",
    "    title=\"Sliding window scores in RN115, colored by TF\",\n",
    "    top_tf_limit=num_tfs,\n",
    "    tfs_of_interest=tfs_of_interest\n",
    "    )\n",
    "dev_plots.plot_score_distribution_by_tf(\n",
    "    df=sliding_window_edges_only, \n",
    "    score_col=\"sliding_window_score\", \n",
    "    title=\"Sliding window scores NOT in RN115, colored by TF\",\n",
    "    top_tf_limit=num_tfs,\n",
    "    tfs_of_interest = tfs_of_interest\n",
    "    )"
   ]
  },
  {
   "cell_type": "markdown",
   "id": "72d585da",
   "metadata": {},
   "source": [
    "## Comparing Sliding Window Scores to RN111"
   ]
  },
  {
   "cell_type": "markdown",
   "id": "ba4478f6",
   "metadata": {},
   "source": [
    "### Size of RN111"
   ]
  },
  {
   "cell_type": "code",
   "execution_count": null,
   "id": "0fe663b2",
   "metadata": {},
   "outputs": [],
   "source": [
    "from grn_inference.utils import read_ground_truth\n",
    "rn111_chipseq_ground_truth = read_ground_truth(\"/gpfs/Labs/Uzun/DATA/PROJECTS/2024.SC_MO_TRN_DB.MIRA/REPOSITORY/CURRENT/REFERENCE_NETWORKS/RN111_ChIPSeq_BEELINE_Mouse_ESC.tsv\").drop(columns=[\"Relationship\"])\n",
    "rn111_chipseq_ground_truth['source_id'] = rn111_chipseq_ground_truth['source_id'].str.capitalize()\n",
    "rn111_chipseq_ground_truth['target_id'] = rn111_chipseq_ground_truth['target_id'].str.capitalize()"
   ]
  },
  {
   "cell_type": "code",
   "execution_count": null,
   "id": "b6fcb9b2",
   "metadata": {},
   "outputs": [],
   "source": [
    "print(\"RN111 ChIP-seq Ground Truth\")\n",
    "print(f\"  - TFs: {rn111_chipseq_ground_truth['source_id'].nunique():,}\")\n",
    "print(f\"  - TGs: {rn111_chipseq_ground_truth['target_id'].nunique():,}\")\n",
    "print(f\"  - Edges: {len(rn111_chipseq_ground_truth):,}\")"
   ]
  },
  {
   "cell_type": "markdown",
   "id": "f3b2bb1a",
   "metadata": {},
   "source": [
    "### RN111 TGs per TF"
   ]
  },
  {
   "cell_type": "code",
   "execution_count": null,
   "id": "8ecc77f4",
   "metadata": {},
   "outputs": [],
   "source": [
    "rn111_targets_per_tf = rn111_chipseq_ground_truth.groupby(\"source_id\").count().sort_values(by=\"target_id\", ascending=False)\n",
    "print(\"Number of RN111 TGs per TF\")\n",
    "rn111_targets_per_tf"
   ]
  },
  {
   "cell_type": "markdown",
   "id": "db7253c7",
   "metadata": {},
   "source": [
    "## Overlap between sliding window scores and RN111"
   ]
  },
  {
   "cell_type": "code",
   "execution_count": null,
   "id": "ad8a47c8",
   "metadata": {},
   "outputs": [],
   "source": [
    "merged_edges = pd.merge(\n",
    "    sliding_window_tf_tg, \n",
    "    rn111_chipseq_ground_truth, \n",
    "    on=[\"source_id\", \"target_id\"], \n",
    "    how=\"outer\",\n",
    "    indicator=True\n",
    "    )"
   ]
  },
  {
   "cell_type": "code",
   "execution_count": null,
   "id": "7ea9de9e",
   "metadata": {},
   "outputs": [],
   "source": [
    "edges_in_sliding_and_rn111 = merged_edges[merged_edges[\"_merge\"] == \"both\"].drop(columns=\"_merge\")\n",
    "sliding_window_not_rn111_edges = merged_edges[merged_edges[\"_merge\"] == \"left_only\"].drop(columns=\"_merge\")\n",
    "rn111_edges_only = merged_edges[merged_edges[\"_merge\"] == \"right_only\"].drop(columns=\"_merge\")"
   ]
  },
  {
   "cell_type": "code",
   "execution_count": null,
   "id": "e0337cfa",
   "metadata": {},
   "outputs": [],
   "source": [
    "tfs_in_both = edges_in_sliding_and_rn111[\"source_id\"].drop_duplicates()\n",
    "tgs_in_both = edges_in_sliding_and_rn111[\"target_id\"].drop_duplicates()\n",
    "\n",
    "print(\"Edges in both RN111 and Sliding Window:\")\n",
    "print(f\"  - TFs in both: {len(tfs_in_both):,}\")\n",
    "print(f\"  - TGs in both: {len(tgs_in_both):,}\")\n",
    "print(f\"  - TF-TG-Score Edges in both: {len(edges_in_sliding_and_rn111):,}\")\n",
    "print(f\"  - TF-TG Edges in both: {len(edges_in_sliding_and_rn111.drop_duplicates(subset=['source_id', 'target_id'])):,}\")"
   ]
  },
  {
   "cell_type": "code",
   "execution_count": null,
   "id": "fab30b1d",
   "metadata": {},
   "outputs": [],
   "source": [
    "tfs_only_in_sliding_window = sliding_window_tf_tg[~sliding_window_tf_tg[\"source_id\"].isin(rn111_chipseq_ground_truth[\"source_id\"])][\"source_id\"].drop_duplicates()\n",
    "tgs_only_in_sliding_window = sliding_window_tf_tg[~sliding_window_tf_tg[\"target_id\"].isin(rn111_chipseq_ground_truth[\"target_id\"])][\"target_id\"].drop_duplicates()\n",
    "\n",
    "print(\"Sliding window but NOT RN111:\")\n",
    "print(f\"  - TFs: {len(tfs_only_in_sliding_window):,}\")\n",
    "print(f\"  - TGs: {len(tgs_only_in_sliding_window):,}\")\n",
    "print(f\"  - TF-peak-TG Edges: {len(sliding_window_not_rn111_edges):,}\")\n",
    "print(f\"  - TF-TG Edges: {len(sliding_window_not_rn111_edges.drop_duplicates(subset=['source_id', 'target_id'])):,}\")"
   ]
  },
  {
   "cell_type": "code",
   "execution_count": null,
   "id": "7fb842a3",
   "metadata": {},
   "outputs": [],
   "source": [
    "tfs_only_in_rn111 = rn111_chipseq_ground_truth[~rn111_chipseq_ground_truth[\"source_id\"].isin(sliding_window_tf_tg[\"source_id\"])][\"source_id\"].drop_duplicates()\n",
    "tgs_only_in_rn111 = rn111_chipseq_ground_truth[~rn111_chipseq_ground_truth[\"target_id\"].isin(sliding_window_tf_tg[\"target_id\"])][\"target_id\"].drop_duplicates()\n",
    "\n",
    "print(\"Only in RN111:\")\n",
    "print(f\"  - TFs only in RN111: {len(tfs_only_in_rn111):,}\")\n",
    "print(f\"  - TGs only in RN111: {len(tgs_only_in_rn111):,}\")\n",
    "print(f\"  - Edges only in RN111: {len(rn111_edges_only):,}\")"
   ]
  },
  {
   "cell_type": "markdown",
   "id": "9277c7b4",
   "metadata": {},
   "source": [
    "### Sum of sliding window scores per TF-TG Edge (strength of association)"
   ]
  },
  {
   "cell_type": "code",
   "execution_count": null,
   "id": "7b3a4902",
   "metadata": {},
   "outputs": [],
   "source": [
    "dev_plots.plot_score_heatmap_by_tf_tg(\n",
    "    df=edges_in_sliding_and_rn111,\n",
    "    title=\"Sliding Window Scores in RN111 by TF-TG Edges\",\n",
    "    score_col=\"sliding_window_score\",\n",
    "    max_tfs=edges_in_sliding_and_rn111[\"source_id\"].nunique(),\n",
    "    max_tgs=edges_in_sliding_and_rn111[\"target_id\"].nunique()\n",
    "    )"
   ]
  },
  {
   "cell_type": "code",
   "execution_count": null,
   "id": "4a820a33",
   "metadata": {},
   "outputs": [],
   "source": [
    "dev_plots.plot_score_heatmap_by_tf_tg(\n",
    "    df=sliding_window_not_rn111_edges,\n",
    "    title=\"Sliding Window Scores NOT in RN111 by TF-TG Edges\",\n",
    "    score_col=\"sliding_window_score\",\n",
    "    max_tfs=sliding_window_not_rn111_edges[\"source_id\"].nunique(),\n",
    "    max_tgs=sliding_window_not_rn111_edges[\"target_id\"].nunique()\n",
    "    )"
   ]
  },
  {
   "cell_type": "markdown",
   "id": "baf6a18f",
   "metadata": {},
   "source": [
    "### Number of Scores per TF"
   ]
  },
  {
   "cell_type": "markdown",
   "id": "70100187",
   "metadata": {},
   "source": [
    "#### Both Sliding Window and RN111"
   ]
  },
  {
   "cell_type": "code",
   "execution_count": null,
   "id": "d08b54ec",
   "metadata": {},
   "outputs": [],
   "source": [
    "edges_in_sliding_and_rn111_by_tf = (\n",
    "    edges_in_sliding_and_rn111\n",
    "    .groupby(\"source_id\")\n",
    "    .count()\n",
    "    .sort_values(\"target_id\", ascending=False)\n",
    "    .rename(columns={'sliding_window_score':'Num Scores per TF'})\n",
    "    ['Num Scores per TF']\n",
    "    .reset_index()\n",
    "    )"
   ]
  },
  {
   "cell_type": "code",
   "execution_count": null,
   "id": "06dd7ccd",
   "metadata": {},
   "outputs": [],
   "source": [
    "importlib.reload(dev_plots)\n",
    "dev_plots.plot_scores_grouped_by_tf(\n",
    "    edges_in_sliding_and_rn111, \n",
    "    title=\"Sliding Window Scores in RN111 - Number of Scores per TF\", \n",
    "    score_col=\"sliding_window_score\",\n",
    "    top_tf_limit=75\n",
    "    )"
   ]
  },
  {
   "cell_type": "markdown",
   "id": "e860c4b3",
   "metadata": {},
   "source": [
    "#### Only in Sliding Window"
   ]
  },
  {
   "cell_type": "code",
   "execution_count": null,
   "id": "8679c296",
   "metadata": {},
   "outputs": [],
   "source": [
    "sliding_window_not_rn111_edges_by_tf = (\n",
    "    sliding_window_not_rn111_edges\n",
    "    .groupby(\"source_id\")\n",
    "    .count()\n",
    "    .sort_values(\"target_id\", ascending=False)\n",
    "    .rename(columns={'sliding_window_score':'Num Scores per TF'})\n",
    "    ['Num Scores per TF']\n",
    "    .reset_index()\n",
    "    )"
   ]
  },
  {
   "cell_type": "code",
   "execution_count": null,
   "id": "cf9e6a9b",
   "metadata": {},
   "outputs": [],
   "source": [
    "importlib.reload(dev_plots)\n",
    "dev_plots.plot_scores_grouped_by_tf(\n",
    "    sliding_window_not_rn111_edges, \n",
    "    title=\"Sliding Window Scores NOT in RN111 - Number of Scores per TF\", \n",
    "    score_col=\"sliding_window_score\",\n",
    "    top_tf_limit=911\n",
    "    )"
   ]
  },
  {
   "cell_type": "markdown",
   "id": "c9ddcb45",
   "metadata": {},
   "source": [
    "## Score Distributions - Edges in RN111 vs Edges Not in RN111"
   ]
  },
  {
   "cell_type": "code",
   "execution_count": null,
   "id": "ad38731f",
   "metadata": {},
   "outputs": [],
   "source": [
    "importlib.reload(dev_plots)\n",
    "dev_plots.plot_true_false_distribution(\n",
    "    true_series=edges_in_both[\"sliding_window_score\"], \n",
    "    false_series=sliding_window_edges_only[\"sliding_window_score\"],\n",
    "    xlabel=\"Sliding Window Score\",\n",
    "    title=\"Sliding Window Scores\",\n",
    "    balance=True\n",
    "    )"
   ]
  },
  {
   "cell_type": "code",
   "execution_count": null,
   "id": "a42b9d03",
   "metadata": {},
   "outputs": [],
   "source": [
    "importlib.reload(dev_plots)\n",
    "\n",
    "df = (\n",
    "    edges_in_sliding_and_rn111\n",
    "    .groupby(\"source_id\")\n",
    "    .count()\n",
    "    .sort_values(\"sliding_window_score\", ascending=False)\n",
    "    .reset_index()\n",
    "    )\n",
    "tfs_of_interest = df[\"source_id\"].drop_duplicates().to_list()\n",
    "\n",
    "num_tfs = 15\n",
    "\n",
    "dev_plots.plot_score_distribution_by_tf(\n",
    "    df=edges_in_sliding_and_rn111, \n",
    "    score_col=\"sliding_window_score\", \n",
    "    title=\"Sliding window scores in RN111, colored by TF\",\n",
    "    top_tf_limit=num_tfs,\n",
    "    tfs_of_interest=tfs_of_interest\n",
    "    )\n",
    "dev_plots.plot_score_distribution_by_tf(\n",
    "    df=sliding_window_not_rn111_edges, \n",
    "    score_col=\"sliding_window_score\", \n",
    "    title=\"Sliding window scores NOT in RN111, colored by TF\",\n",
    "    top_tf_limit=num_tfs,\n",
    "    tfs_of_interest = tfs_of_interest\n",
    "    )"
   ]
  },
  {
   "cell_type": "markdown",
   "id": "794db76a",
   "metadata": {},
   "source": [
    "# Comparing Different Methods for Calculating and Evaluating Sliding Window Scores\n",
    "\n",
    "We have two methods for calculating TF-TG binding scores: \n",
    "\n",
    "1. Sum TF binding potential for all peaks targeting the same TG\n",
    "2. Use individual TF-peak-TG scores\n",
    "\n",
    "We also have different methods for assigning peaks to TGs\n",
    "1. Nearest gene TSS to the peak\n",
    "2. MIRA peak-TG\n",
    "3. Cicero peak-TG\n",
    "\n",
    "To evaluate the accuracy of the TF-TG scores, we will use the ChIP-seq ground truth, where the TG for TF-peak edges is assigned using the closest gene's TSS.\n",
    "\n",
    "We will test the combinations of the calculation methods with the peak-TG assignments to see which are more discriminatory"
   ]
  },
  {
   "cell_type": "markdown",
   "id": "b06b3e20",
   "metadata": {},
   "source": [
    "##  Sliding Window Score Calculation\n",
    "\n",
    "The sliding window score distributions are different for each TF depending on the TF's binding motif. To determine the probability that each TF will bind to each peak, the probabilities need to be standardized to account for these differences."
   ]
  },
  {
   "cell_type": "markdown",
   "id": "ad6ff04d",
   "metadata": {},
   "source": [
    "### Summing peaks for TF-TG edges\n",
    "\n",
    "The sliding window score for a peak will be determined by dividing the sum of the sliding window scores for a given TG by the sliding window score of all other sliding window scores for the TF:\n",
    "\n",
    "$$\\text{Sliding Window Score}_{\\text{TF-TG}} = \\frac{\\sum_{\\text{peak} \\in \\text{TG Peaks}}^{\\text{TG peaks}}\\text{sliding window score}_{\\text{peak}}}{\\sum \\text{Total sliding window scores}_{\\text{TF}}}$$"
   ]
  },
  {
   "cell_type": "code",
   "execution_count": null,
   "id": "ecf62bad",
   "metadata": {},
   "outputs": [],
   "source": [
    "def calculate_summed_tf_tg_score(sliding_window_with_targets: pd.DataFrame):\n",
    "    # Group by TF and sum all sliding window scores\n",
    "    sum_of_tf_peaks = (\n",
    "        sliding_window_with_targets\n",
    "        .groupby(\"source_id\")[\"sliding_window_score\"]\n",
    "        .sum()\n",
    "        .reset_index()\n",
    "        .rename(columns={\"sliding_window_score\":\"total_tf_score\"})\n",
    "        )\n",
    "    \n",
    "    # Group by TF-TG edge and sum for all peaks for that edge\n",
    "    sum_of_tf_tg_peak_scores = (\n",
    "        sliding_window_with_targets\n",
    "        .groupby([\"source_id\", \"target_id\"])[\"sliding_window_score\"]\n",
    "        .sum()\n",
    "        .reset_index()\n",
    "        .rename(columns={\"sliding_window_score\":\"tf_to_tg_peak_scores_summed\"})\n",
    "        )\n",
    "    \n",
    "    # Merge the total TF peaks and summed TF-TG edges\n",
    "    sliding_window_sum_calculation_df = pd.merge(\n",
    "        sum_of_tf_tg_peak_scores, \n",
    "        sum_of_tf_peaks, \n",
    "        how=\"left\", \n",
    "        on=\"source_id\"\n",
    "        )\n",
    "    \n",
    "    \n",
    "    sliding_window_sum_calculation_df[\"sliding_window_score\"] = (\n",
    "        sliding_window_sum_calculation_df[\"tf_to_tg_peak_scores_summed\"] / sliding_window_sum_calculation_df[\"total_tf_score\"]\n",
    "        ) * 1e6\n",
    "    sliding_window_sum_df = sliding_window_sum_calculation_df[[\"source_id\", \"target_id\", \"sliding_window_score\"]]\n",
    "    \n",
    "    return sliding_window_sum_df"
   ]
  },
  {
   "cell_type": "markdown",
   "id": "eeb10da3",
   "metadata": {},
   "source": [
    "### Individual peaks for TF-TG edges\n",
    "\n",
    "We also want to evaluate the performance of using each TF-peak-TG score rather than aggregating. For this, we use the following formula:\n",
    "\n",
    "$$\\text{Sliding Window Score}_{\\text{TF-peak-TG}} = \\frac{\\text{sliding window score}_{\\text{TF-peak-TG}}}{\\sum \\text{Total sliding window scores}_{\\text{TF}}}$$"
   ]
  },
  {
   "cell_type": "code",
   "execution_count": null,
   "id": "433d7532",
   "metadata": {},
   "outputs": [],
   "source": [
    "def calculate_tf_peak_tg_score(sliding_window_with_targets: pd.DataFrame):\n",
    "    # Group by TF and sum all sliding window scores\n",
    "    sum_of_tf_peaks = (\n",
    "        sliding_window_with_targets\n",
    "        .groupby(\"source_id\")[\"sliding_window_score\"]\n",
    "        .sum()\n",
    "        .reset_index()\n",
    "        .rename(columns={\"sliding_window_score\":\"total_tf_score\"})\n",
    "        )\n",
    "    \n",
    "    # Merge the total TF peaks with the TF-peak-TG scores\n",
    "    sliding_window_tf_peak_tg_calculation_df = pd.merge(\n",
    "        sliding_window_with_targets, \n",
    "        sum_of_tf_peaks, \n",
    "        how=\"left\", \n",
    "        on=\"source_id\"\n",
    "        ).rename(columns={\"sliding_window_score\":\"tf_peak_tg_score\"})\n",
    "    \n",
    "    # Calculate the final sliding window score by dividing each TF-peak-TG score by the sum of scores for the TF\n",
    "    sliding_window_tf_peak_tg_calculation_df[\"sliding_window_score\"] = (\n",
    "        sliding_window_tf_peak_tg_calculation_df[\"tf_peak_tg_score\"] / sliding_window_tf_peak_tg_calculation_df[\"total_tf_score\"]\n",
    "        ) * 1e6\n",
    "    sliding_window_tf_peak_tg_df = sliding_window_tf_peak_tg_calculation_df[[\"source_id\", \"peak_id\", \"target_id\", \"sliding_window_score\"]]\n",
    "    \n",
    "    return sliding_window_tf_peak_tg_df"
   ]
  },
  {
   "cell_type": "markdown",
   "id": "10af8615",
   "metadata": {},
   "source": [
    "## Loading the RN111 and RN115 Ground Truth Datasets"
   ]
  },
  {
   "cell_type": "markdown",
   "id": "64611a7c",
   "metadata": {},
   "source": [
    "### Loading RN111"
   ]
  },
  {
   "cell_type": "code",
   "execution_count": null,
   "id": "35babb5d",
   "metadata": {},
   "outputs": [],
   "source": [
    "from grn_inference.utils import read_ground_truth\n",
    "rn111_chipseq_ground_truth = read_ground_truth(\"/gpfs/Labs/Uzun/DATA/PROJECTS/2024.SC_MO_TRN_DB.MIRA/REPOSITORY/CURRENT/REFERENCE_NETWORKS/RN111_ChIPSeq_BEELINE_Mouse_ESC.tsv\").drop(columns=[\"Relationship\"])\n",
    "rn111_chipseq_ground_truth['source_id'] = rn111_chipseq_ground_truth['source_id'].str.capitalize()\n",
    "rn111_chipseq_ground_truth['target_id'] = rn111_chipseq_ground_truth['target_id'].str.capitalize()"
   ]
  },
  {
   "cell_type": "markdown",
   "id": "286815ae",
   "metadata": {},
   "source": [
    "### Loading RN115"
   ]
  },
  {
   "cell_type": "code",
   "execution_count": null,
   "id": "000f986a",
   "metadata": {},
   "outputs": [],
   "source": [
    "rn115_ko_ground_truth = pd.read_csv(\"/gpfs/Labs/Uzun/DATA/PROJECTS/2024.SC_MO_TRN_DB.MIRA/REPOSITORY/CURRENT/REFERENCE_NETWORKS/RN115_LOGOF_ESCAPE_Mouse_ESC.tsv\", sep=\"\\t\")\n",
    "rn115_ko_ground_truth = rn115_ko_ground_truth[[\"Source\", \"Target\"]].rename(columns={\"Source\":\"source_id\", \"Target\":\"target_id\"})\n",
    "rn115_ko_ground_truth[\"source_id\"] = rn115_ko_ground_truth[\"source_id\"].str.capitalize()\n",
    "rn115_ko_ground_truth[\"target_id\"] = rn115_ko_ground_truth[\"target_id\"].str.capitalize()"
   ]
  },
  {
   "cell_type": "markdown",
   "id": "64045e41",
   "metadata": {},
   "source": [
    "### Merging TF-TG dataframes with the ground truth"
   ]
  },
  {
   "cell_type": "code",
   "execution_count": null,
   "id": "4fafeb2a",
   "metadata": {},
   "outputs": [],
   "source": [
    "def merge_dataset_with_ground_truth(df: pd.DataFrame, ground_truth: pd.DataFrame):\n",
    "    df['source_id'] = df['source_id'].str.capitalize()\n",
    "    df['target_id'] = df['target_id'].str.capitalize()\n",
    "    \n",
    "    shared_sources = set(df['source_id']) & set(ground_truth['source_id'])\n",
    "    shared_targets = set(df['target_id']) & set(ground_truth['target_id'])\n",
    "\n",
    "    df_filtered = df[\n",
    "        df['source_id'].isin(shared_sources) &\n",
    "        df['target_id'].isin(shared_targets)\n",
    "    ]\n",
    "\n",
    "    gt_filtered = ground_truth[\n",
    "        ground_truth['source_id'].isin(shared_sources) &\n",
    "        ground_truth['target_id'].isin(shared_targets)\n",
    "    ]\n",
    "    \n",
    "    df_merged = pd.merge(df_filtered, gt_filtered, on=['source_id', 'target_id'], how='outer', indicator=True)\n",
    "    \n",
    "    df_merged[\"label\"] = df_merged[\"_merge\"] == \"both\"\n",
    "    \n",
    "    df_labeled = df_merged.drop(columns=[\"_merge\"])\n",
    "    \n",
    "    return df_labeled"
   ]
  },
  {
   "cell_type": "markdown",
   "id": "54bf557a",
   "metadata": {},
   "source": [
    "## mESC Filtered L2 E7.5 Rep1\n",
    "\n",
    "We first need to read in the sliding window scores, peak to gene distances, MIRA peak-TG scores, and the Cicero peak-TG scores for the mESC filtered L2 E7.5 Rep1 dataset."
   ]
  },
  {
   "cell_type": "markdown",
   "id": "989f4c3d",
   "metadata": {},
   "source": [
    "### Reading in the peak-TG score files"
   ]
  },
  {
   "cell_type": "code",
   "execution_count": null,
   "id": "fd219615",
   "metadata": {},
   "outputs": [],
   "source": [
    "mesc_output_dir = \"/gpfs/Labs/Uzun/SCRIPTS/PROJECTS/2024.SINGLE_CELL_GRN_INFERENCE.MOELLER/output/mESC/filtered_L2_E7.5_rep1\"\n",
    "mesc_sliding_window_df = pd.read_parquet(os.path.join(mesc_output_dir, \"no_norm_sliding_window_tf_to_peak_score.parquet\"), engine=\"pyarrow\")\n",
    "\n",
    "mesc_peak_to_gene_distance_file = pd.read_parquet(os.path.join(mesc_output_dir, \"tmp/peaks_near_genes.parquet\"), engine=\"pyarrow\")\n",
    "mesc_mira_df = pd.read_parquet(\"/gpfs/Home/esm5360/MIRA/mira-datasets/mESC_filtered_L2_E7.5_rep1/mESC_E7.5_rep1_mira_peak_to_tg_scores_nonzero.parquet\", engine=\"pyarrow\")\n",
    "mesc_cicero_peak_to_tg_df = pd.read_parquet(os.path.join(mesc_output_dir, \"cicero_peak_to_tg_scores.parquet\"), engine=\"pyarrow\")"
   ]
  },
  {
   "cell_type": "markdown",
   "id": "2089b24b",
   "metadata": {},
   "source": [
    "### Setting the TGs for the TF-peak edges using closest TSS, MIRA, or Cicero"
   ]
  },
  {
   "cell_type": "code",
   "execution_count": null,
   "id": "65b7eef5",
   "metadata": {},
   "outputs": [],
   "source": [
    "mesc_gene_tss_sliding_window_df = set_tg_as_closest_gene_tss(mesc_sliding_window_df, mesc_peak_to_gene_distance_file)\n",
    "mesc_mira_sliding_window_df = set_tg_using_mira_peak_tg_edges(mesc_sliding_window_df, mesc_mira_df)\n",
    "mesc_cicero_sliding_window_df = set_tg_using_cicero_peak_tg_edges(mesc_sliding_window_df, mesc_cicero_peak_to_tg_df)"
   ]
  },
  {
   "cell_type": "markdown",
   "id": "f70554cb",
   "metadata": {},
   "source": [
    "## DS011\n",
    "\n",
    "Next, I will evaluate the combinations for DS011. We will load in the sliding window scores and the different peak to TG files we will use to set the TGs for the TF-peak edges."
   ]
  },
  {
   "cell_type": "markdown",
   "id": "10ba0211",
   "metadata": {},
   "source": [
    "### Reading in the peak-TG score files"
   ]
  },
  {
   "cell_type": "code",
   "execution_count": null,
   "id": "e4935cd5",
   "metadata": {},
   "outputs": [],
   "source": [
    "ds011_output_dir = \"/gpfs/Labs/Uzun/SCRIPTS/PROJECTS/2024.SINGLE_CELL_GRN_INFERENCE.MOELLER/output/DS011_mESC/DS011_mESC_sample1/\"\n",
    "ds011_sliding_window_df = pd.read_parquet(os.path.join(ds011_output_dir, \"no_norm_sliding_window_tf_to_peak_score.parquet\"), engine=\"pyarrow\")\n",
    "\n",
    "ds011_peak_to_gene_distance_file = os.path.join(ds011_output_dir, \"peaks_near_genes.parquet\"), engine=\"pyarrow\"\n",
    "ds011_mira_df = pd.read_parquet(\"/gpfs/Home/esm5360/MIRA/mira-datasets/ds011_full/ds011_full_mira_peak_to_tg_scores.parquet\", engine=\"pyarrow\")\n",
    "ds011_cicero_peak_to_tg_df = pd.read_parquet(os.path.join(ds011_output_dir, \"cicero_peak_to_tg_scores.parquet\"), engine=\"pyarrow\")"
   ]
  },
  {
   "cell_type": "code",
   "execution_count": null,
   "id": "5b7fccf7",
   "metadata": {},
   "outputs": [],
   "source": [
    "ds011_peak_to_gene_distance_file = os.path.join(ds011_output_dir, \"peaks_near_genes.parquet\")"
   ]
  },
  {
   "cell_type": "markdown",
   "id": "b599826b",
   "metadata": {},
   "source": [
    "#### Score Distributions"
   ]
  },
  {
   "cell_type": "code",
   "execution_count": null,
   "id": "6abe9262",
   "metadata": {},
   "outputs": [],
   "source": [
    "def plot_scores_distribution(df: pd.DataFrame, title: str):\n",
    "    assert \"label\" in df.columns, f\"label column does not exist, columns: {df.columns}\"\n",
    "    \n",
    "    true_scores = df[df[\"label\"] == True]\n",
    "    false_scores = df[df[\"label\"] == False]\n",
    "\n",
    "    dev_plots.plot_true_false_distribution(\n",
    "        true_series=true_scores[\"sliding_window_score\"], \n",
    "        false_series=false_scores[\"sliding_window_score\"],\n",
    "        xlabel=\"Sliding Window Score\",\n",
    "        title=title,\n",
    "        balance=True,\n",
    "        log=False\n",
    "        )"
   ]
  },
  {
   "cell_type": "markdown",
   "id": "1b5b9be0",
   "metadata": {},
   "source": [
    "### Setting the TGs for the TF-peak edges using closest TSS, MIRA, or Cicero"
   ]
  },
  {
   "cell_type": "code",
   "execution_count": null,
   "id": "7af2fec8",
   "metadata": {},
   "outputs": [],
   "source": [
    "ds011_gene_tss_sliding_window_df = set_tg_as_closest_gene_tss(ds011_sliding_window_df, ds011_peak_to_gene_distance_file)\n",
    "ds011_mira_sliding_window_df = set_tg_using_mira_peak_tg_edges(ds011_sliding_window_df, ds011_mira_df)\n",
    "ds011_cicero_sliding_window_df = set_tg_using_cicero_peak_tg_edges(ds011_sliding_window_df, ds011_cicero_peak_to_tg_df)"
   ]
  },
  {
   "cell_type": "code",
   "execution_count": null,
   "id": "42605c0f",
   "metadata": {},
   "outputs": [],
   "source": [
    "def compare_scoring_method_combinations(df_with_tgs: pd.DataFrame, rn111: pd.DataFrame, rn115: pd.DataFrame):    \n",
    "    # Calculate the summed and individual sliding window scores\n",
    "    tf_tg_sum_df = calculate_summed_tf_tg_score(df_with_tgs)\n",
    "    tf_peak_tg_df = calculate_tf_peak_tg_score(df_with_tgs)\n",
    "    \n",
    "    # Sum all peaks for a TG\n",
    "    tf_tg_sum_rn111_df = merge_dataset_with_ground_truth(tf_tg_sum_df, rn111)\n",
    "    tf_tg_sum_rn115_df = merge_dataset_with_ground_truth(tf_tg_sum_df, rn115)\n",
    "    \n",
    "    # Calculate individual TF-peak-TG scores\n",
    "    tf_peak_tg_rn111_df = merge_dataset_with_ground_truth(tf_peak_tg_df, rn111)\n",
    "    tf_peak_tg_rn115_df = merge_dataset_with_ground_truth(tf_peak_tg_df, rn115)\n",
    "    \n",
    "    # Compare summed TF-TG scoring method against RN111 and RN115\n",
    "    plot_scores_distribution(tf_tg_sum_rn111_df, title=\"DS011 Sliding Window Scores - Summed, RN111, nearest gene TSS\")\n",
    "    dev_plots.plot_auroc(tf_tg_sum_rn111_df, score_col=\"sliding_window_score\", title=\"DS011 Sliding Window Scores - Summed, RN111, nearest gene TSS\")\n",
    "    \n",
    "    plot_scores_distribution(tf_tg_sum_rn115_df, title=\"DS011 Sliding Window Scores - Summed, RN115, nearest gene TSS\")\n",
    "    dev_plots.plot_auroc(tf_tg_sum_rn115_df, score_col=\"sliding_window_score\", title=\"DS011 Sliding Window Scores - Summed, RN115, nearest gene TSS\")\n",
    "    \n",
    "    # Compare individual TF-peak-TG scoring method against RN111 and RN115\n",
    "    plot_scores_distribution(tf_peak_tg_rn111_df, title=\"DS011 Sliding Window Scores - Individual, RN111, nearest gene TSS\")\n",
    "    dev_plots.plot_auroc(tf_peak_tg_rn111_df, score_col=\"sliding_window_score\", title=\"DS011 Sliding Window Scores - Individual, RN111, nearest gene TSS\")\n",
    "    \n",
    "    plot_scores_distribution(tf_peak_tg_rn115_df, title=\"DS011 Sliding Window Scores - Individual, RN115, nearest gene TSS\")\n",
    "    dev_plots.plot_auroc(tf_peak_tg_rn115_df, score_col=\"sliding_window_score\", title=\"DS011 Sliding Window Scores - Individual, RN115, nearest gene TSS\")    "
   ]
  },
  {
   "cell_type": "code",
   "execution_count": null,
   "id": "f772f779",
   "metadata": {},
   "outputs": [],
   "source": [
    "compare_scoring_method_combinations(ds011_gene_tss_sliding_window_df, rn111_chipseq_ground_truth, rn115_ko_ground_truth)\n",
    "compare_scoring_method_combinations(ds011_mira_sliding_window_df, rn111_chipseq_ground_truth, rn115_ko_ground_truth)\n",
    "compare_scoring_method_combinations(ds011_cicero_sliding_window_df, rn111_chipseq_ground_truth, rn115_ko_ground_truth)"
   ]
  },
  {
   "cell_type": "markdown",
   "id": "495eba97",
   "metadata": {},
   "source": [
    "### TF-TG scores: summing across peaks for each TG"
   ]
  },
  {
   "cell_type": "code",
   "execution_count": null,
   "id": "0b2ca68c",
   "metadata": {},
   "outputs": [],
   "source": [
    "ds011_gene_tss_tf_tg_sum_df = calculate_summed_tf_tg_score(ds011_gene_tss_sliding_window_df)\n",
    "ds011_mira_tf_tg_sum_df = calculate_summed_tf_tg_score(ds011_mira_sliding_window_df)\n",
    "ds011_cicero_tf_tg_sum_df = calculate_summed_tf_tg_score(ds011_cicero_sliding_window_df)"
   ]
  },
  {
   "cell_type": "markdown",
   "id": "565709ab",
   "metadata": {},
   "source": [
    "### TF-TG scores: Individual TF-peak-TG scores"
   ]
  },
  {
   "cell_type": "code",
   "execution_count": null,
   "id": "ac3cdaea",
   "metadata": {},
   "outputs": [],
   "source": [
    "ds011_gene_tss_tf_peak_tg_df = calculate_tf_peak_tg_score(ds011_gene_tss_sliding_window_df)\n",
    "ds011_mira_tf_peak_tg_df = calculate_tf_peak_tg_score(ds011_mira_sliding_window_df)\n",
    "ds011_cicero_tf_peak_tg_df = calculate_tf_peak_tg_score(ds011_cicero_sliding_window_df)"
   ]
  },
  {
   "cell_type": "markdown",
   "id": "10940a8f",
   "metadata": {},
   "source": [
    "### Comparing summed TF-TG scores against RN111"
   ]
  },
  {
   "cell_type": "code",
   "execution_count": null,
   "id": "7f0e776a",
   "metadata": {},
   "outputs": [],
   "source": [
    "ds011_gene_tss_tf_tg_sum_rn111_df = merge_dataset_with_ground_truth(ds011_gene_tss_tf_tg_sum_df, rn111_chipseq_ground_truth)\n",
    "ds011_mira_tf_tg_sum_rn111_df = merge_dataset_with_ground_truth(ds011_mira_tf_tg_sum_df, rn111_chipseq_ground_truth)\n",
    "ds011_cicero_tf_tg_sum_rn111_df = merge_dataset_with_ground_truth(ds011_cicero_tf_tg_sum_df, rn111_chipseq_ground_truth)"
   ]
  },
  {
   "cell_type": "code",
   "execution_count": null,
   "id": "ce6c1aaf",
   "metadata": {},
   "outputs": [],
   "source": [
    "plot_scores_distribution(ds011_gene_tss_tf_tg_sum_rn111_df, title=\"DS011 Sliding Window Scores - Summed, RN111, nearest gene TSS\")\n",
    "plot_scores_distribution(ds011_mira_tf_tg_sum_rn111_df, title=\"DS011 Sliding Window Scores - Summed, RN111, MIRA\")\n",
    "plot_scores_distribution(ds011_cicero_tf_tg_sum_rn111_df, title=\"DS011 Sliding Window Scores - Summed, RN111, Cicero\")\n"
   ]
  },
  {
   "cell_type": "markdown",
   "id": "1b791b3e",
   "metadata": {},
   "source": [
    "#### AUROC Scores"
   ]
  },
  {
   "cell_type": "code",
   "execution_count": null,
   "id": "92fc3ebb",
   "metadata": {},
   "outputs": [],
   "source": [
    "dev_plots.plot_auroc(ds011_gene_tss_tf_tg_sum_rn111_df, score_col=\"sliding_window_score\", title=\"DS011 Sliding Window Scores - Summed, RN111, nearest gene TSS\")\n",
    "dev_plots.plot_auroc(ds011_mira_tf_tg_sum_rn111_df, score_col=\"sliding_window_score\", title=\"DS011 Sliding Window Scores - Summed, RN111, MIRA\")\n",
    "dev_plots.plot_auroc(ds011_cicero_tf_tg_sum_rn111_df, score_col=\"sliding_window_score\", title=\"DS011 Sliding Window Scores - Summed, RN111, Cicero\")"
   ]
  },
  {
   "cell_type": "markdown",
   "id": "f1ee89ca",
   "metadata": {},
   "source": [
    "### Comparing summed TF-TG scores against RN115"
   ]
  },
  {
   "cell_type": "code",
   "execution_count": null,
   "id": "c17dd8d6",
   "metadata": {},
   "outputs": [],
   "source": [
    "ds011_gene_tss_tf_tg_sum_rn115_df = merge_dataset_with_ground_truth(ds011_gene_tss_tf_tg_sum_df, rn115_ko_ground_truth)\n",
    "ds011_mira_tf_tg_sum_rn115_df = merge_dataset_with_ground_truth(ds011_mira_tf_tg_sum_df, rn115_ko_ground_truth)\n",
    "ds011_cicero_tf_tg_sum_rn115_df = merge_dataset_with_ground_truth(ds011_cicero_tf_tg_sum_df, rn115_ko_ground_truth)"
   ]
  },
  {
   "cell_type": "markdown",
   "id": "ddbe38d3",
   "metadata": {},
   "source": [
    "#### Score Distributions"
   ]
  },
  {
   "cell_type": "code",
   "execution_count": null,
   "id": "11a0dde5",
   "metadata": {},
   "outputs": [],
   "source": [
    "plot_scores_distribution(ds011_gene_tss_tf_tg_sum_rn115_df, title=\"DS011 Sliding Window Scores - Summed, RN115, nearest gene TSS\")\n",
    "plot_scores_distribution(ds011_mira_tf_tg_sum_rn115_df, title=\"DS011 Sliding Window Scores - Summed, RN115, MIRA\")\n",
    "plot_scores_distribution(ds011_cicero_tf_tg_sum_rn115_df, title=\"DS011 Sliding Window Scores - Summed, RN115, Cicero\")"
   ]
  },
  {
   "cell_type": "markdown",
   "id": "c058b865",
   "metadata": {},
   "source": [
    "#### AUROC Scores"
   ]
  },
  {
   "cell_type": "code",
   "execution_count": null,
   "id": "a2d88c5a",
   "metadata": {},
   "outputs": [],
   "source": [
    "dev_plots.plot_auroc(ds011_gene_tss_tf_tg_sum_rn115_df, score_col=\"sliding_window_score\", title=\"DS011 Sliding Window Scores - Summed, RN115, nearest gene TSS\")\n",
    "dev_plots.plot_auroc(ds011_mira_tf_tg_sum_rn115_df, score_col=\"sliding_window_score\", title=\"DS011 Sliding Window Scores - Summed, RN115, MIRA\")\n",
    "dev_plots.plot_auroc(ds011_cicero_tf_tg_sum_rn115_df, score_col=\"sliding_window_score\", title=\"DS011 Sliding Window Scores - Summed, RN115, Cicero\")"
   ]
  },
  {
   "cell_type": "markdown",
   "id": "66a2c9e2",
   "metadata": {},
   "source": [
    "---"
   ]
  },
  {
   "cell_type": "markdown",
   "id": "363b1c76",
   "metadata": {},
   "source": [
    "### Comparing individual TF-peak-TG scores against RN111"
   ]
  },
  {
   "cell_type": "code",
   "execution_count": null,
   "id": "010e4515",
   "metadata": {},
   "outputs": [],
   "source": [
    "ds011_gene_tss_tf_peak_tg_rn111_df = merge_dataset_with_ground_truth(ds011_gene_tss_tf_peak_tg_df, rn111_chipseq_ground_truth)\n",
    "ds011_mira_tf_peak_tg_rn111_df = merge_dataset_with_ground_truth(ds011_mira_tf_peak_tg_df, rn111_chipseq_ground_truth)\n",
    "ds011_cicero_tf_peak_tg_rn111_df = merge_dataset_with_ground_truth(ds011_cicero_tf_peak_tg_df, rn111_chipseq_ground_truth)"
   ]
  },
  {
   "cell_type": "markdown",
   "id": "b6157451",
   "metadata": {},
   "source": [
    "#### Score Distributions"
   ]
  },
  {
   "cell_type": "code",
   "execution_count": null,
   "id": "0eaa0cc3",
   "metadata": {},
   "outputs": [],
   "source": [
    "# plot_scores_distribution(ds011_gene_tss_tf_peak_tg_rn111_df, title=\"DS011 Sliding Window Scores - Individual, RN111, nearest gene TSS\")\n",
    "# plot_scores_distribution(ds011_mira_tf_peak_tg_rn111_df, title=\"DS011 Sliding Window Scores - Individual, RN111, MIRA\")\n",
    "# plot_scores_distribution(ds011_cicero_tf_peak_tg_rn111_df, title=\"DS011 Sliding Window Scores - Individual, RN111, Cicero\")\n",
    "plot_scores_distribution(ds011_gene_tss_tf_peak_tg_rn111_df, title=\"\")\n",
    "plot_scores_distribution(ds011_mira_tf_peak_tg_rn111_df, title=\"\")\n",
    "plot_scores_distribution(ds011_cicero_tf_peak_tg_rn111_df, title=\"\")"
   ]
  },
  {
   "cell_type": "markdown",
   "id": "eae72d4f",
   "metadata": {},
   "source": [
    "#### AUROC Scores"
   ]
  },
  {
   "cell_type": "code",
   "execution_count": null,
   "id": "d9021eab",
   "metadata": {},
   "outputs": [],
   "source": [
    "dev_plots.plot_auroc(ds011_gene_tss_tf_tg_sum_rn111_df, score_col=\"sliding_window_score\", title=\"DS011 Sliding Window Scores - Individual, RN111, nearest gene TSS\")\n",
    "dev_plots.plot_auroc(ds011_mira_tf_tg_sum_rn111_df, score_col=\"sliding_window_score\", title=\"DS011 Sliding Window Scores - Individual, RN111, MIRA\")\n",
    "dev_plots.plot_auroc(ds011_cicero_tf_tg_sum_rn111_df, score_col=\"sliding_window_score\", title=\"DS011 Sliding Window Scores - Individual, RN111, Cicero\")\n"
   ]
  },
  {
   "cell_type": "markdown",
   "id": "d84f11c4",
   "metadata": {},
   "source": [
    "### Comparing individual TF-peak-TG scores against RN115"
   ]
  },
  {
   "cell_type": "code",
   "execution_count": null,
   "id": "3e410828",
   "metadata": {},
   "outputs": [],
   "source": [
    "ds011_gene_tss_tf_peak_tg_rn115_df = merge_dataset_with_ground_truth(ds011_gene_tss_tf_peak_tg_df, rn115_ko_ground_truth)\n",
    "ds011_mira_tf_peak_tg_rn115_df = merge_dataset_with_ground_truth(ds011_mira_tf_peak_tg_df, rn115_ko_ground_truth)\n",
    "ds011_cicero_tf_peak_tg_rn115_df = merge_dataset_with_ground_truth(ds011_cicero_tf_peak_tg_df, rn115_ko_ground_truth)"
   ]
  },
  {
   "cell_type": "markdown",
   "id": "efc1bf61",
   "metadata": {},
   "source": [
    "#### Score Distributions"
   ]
  },
  {
   "cell_type": "code",
   "execution_count": null,
   "id": "e4d62a1e",
   "metadata": {},
   "outputs": [],
   "source": [
    "plot_scores_distribution(ds011_gene_tss_tf_peak_tg_rn115_df, title=\"DS011 Sliding Window Scores - Individual, RN115, nearest gene TSS\")\n",
    "plot_scores_distribution(ds011_mira_tf_peak_tg_rn115_df, title=\"DS011 Sliding Window Scores - Individual, RN115, MIRA\")\n",
    "plot_scores_distribution(ds011_cicero_tf_peak_tg_rn115_df, title=\"DS011 Sliding Window Scores - Individual, RN115, Cicero\")"
   ]
  },
  {
   "cell_type": "markdown",
   "id": "7170a0ee",
   "metadata": {},
   "source": [
    "#### AUROC Scores"
   ]
  },
  {
   "cell_type": "code",
   "execution_count": null,
   "id": "63126b23",
   "metadata": {},
   "outputs": [],
   "source": [
    "dev_plots.plot_auroc(ds011_gene_tss_tf_tg_sum_rn115_df, score_col=\"sliding_window_score\", title=\"DS011 Sliding Window Scores - Individual, RN115, nearest gene TSS\")\n",
    "dev_plots.plot_auroc(ds011_mira_tf_tg_sum_rn115_df, score_col=\"sliding_window_score\", title=\"DS011 Sliding Window Scores - Individual, RN115, MIRA\")\n",
    "dev_plots.plot_auroc(ds011_cicero_tf_tg_sum_rn115_df, score_col=\"sliding_window_score\", title=\"DS011 Sliding Window Scores - Individual, RN115, Cicero\")"
   ]
  }
 ],
 "metadata": {
  "kernelspec": {
   "display_name": "my_env",
   "language": "python",
   "name": "my_env"
  },
  "language_info": {
   "codemirror_mode": {
    "name": "ipython",
    "version": 3
   },
   "file_extension": ".py",
   "mimetype": "text/x-python",
   "name": "python",
   "nbconvert_exporter": "python",
   "pygments_lexer": "ipython3",
   "version": "3.9.18"
  }
 },
 "nbformat": 4,
 "nbformat_minor": 5
}
