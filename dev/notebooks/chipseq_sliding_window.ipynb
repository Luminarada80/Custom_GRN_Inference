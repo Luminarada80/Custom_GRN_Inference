{
 "cells": [
  {
   "cell_type": "markdown",
   "metadata": {},
   "source": [
    "Connected to my_env (Python 3.9.18)"
   ]
  },
  {
   "cell_type": "markdown",
   "metadata": {},
   "source": [
    "### Comparing ChIP-seq TF to genomic location with sliding window method predictions\n",
    "\n",
    "This notebook uses ChIP-seq peaks from ChIP-Atlas as the input for calculating sliding window TF to peak binding scores. As the sliding window score attempts to match TFs to peaks, we can check the accuracy of our methods by comparing which TFs are predicted to bind the ChIP-seq peaks against the TFs that actually bound those locations.\n",
    "\n",
    "The first thing that we need to do is to download and clean the ChIP-seq dataset to only contain the TF `gene_id`s and the formatted `peak_id`s.\n",
    "\n",
    "The ChIP-Atlas dataset we are using can be downloaded from:\n",
    "\n",
    "`wget https://chip-atlas.dbcls.jp/data/mm10/assembled/Oth.Emb.05.AllAg.AllCell.bed`\n",
    "\n",
    "This file corresponds to the following settings in the Peak Browser:\n",
    "- Species -> M. musculus (mm10)\n",
    "- Track type class -> ChIP: TFs and others\n",
    "- Cell type class -> Embryo\n",
    "- Threshold for Significance -> 50\n",
    "- Track type -> All\n",
    "- Cell type -> all"
   ]
  },
  {
   "cell_type": "code",
   "execution_count": null,
   "metadata": {},
   "outputs": [],
   "source": [
    "import os\n",
    "import pandas as pd\n",
    "import pybedtools\n",
    "import seaborn as sns\n",
    "import matplotlib.pyplot as plt\n",
    "\n",
    "base_dir = \"/gpfs/Labs/Uzun/SCRIPTS/PROJECTS/2024.SINGLE_CELL_GRN_INFERENCE.MOELLER/\"\n",
    "ground_truth_dir = os.path.join(base_dir, \"ground_truth_files\")\n",
    "output_dir = os.path.join(base_dir, \"output/chipseq_sliding_window\")\n",
    "tmp_dir = os.path.join(output_dir, \"tmp\")\n",
    "\n",
    "os.makedirs(ground_truth_dir, exist_ok=True)\n",
    "os.makedirs(output_dir, exist_ok=True)\n",
    "os.makedirs(tmp_dir, exist_ok=True)"
   ]
  },
  {
   "cell_type": "code",
   "execution_count": null,
   "metadata": {},
   "outputs": [
    {
     "data": {
      "application/vnd.microsoft.datawrangler.viewer.v0+json": {
       "columns": [
        {
         "name": "index",
         "rawType": "int64",
         "type": "integer"
        },
        {
         "name": "gene_id",
         "rawType": "object",
         "type": "string"
        },
        {
         "name": "peak_id",
         "rawType": "object",
         "type": "string"
        }
       ],
       "ref": "faa031a4-dca1-4ff5-865b-a65bc8540f12",
       "rows": [
        [
         "1",
         "Smad4",
         "chr1:3003564-3003922"
        ],
        [
         "2",
         "Ctcf",
         "chr1:3012605-3012815"
        ],
        [
         "3",
         "Ctcf",
         "chr1:3012635-3012824"
        ],
        [
         "4",
         "Epitope",
         "chr1:3031387-3031654"
        ],
        [
         "5",
         "Smad4",
         "chr1:3031454-3031677"
        ]
       ],
       "shape": {
        "columns": 2,
        "rows": 5
       }
      },
      "text/html": [
       "<div>\n",
       "<style scoped>\n",
       "    .dataframe tbody tr th:only-of-type {\n",
       "        vertical-align: middle;\n",
       "    }\n",
       "\n",
       "    .dataframe tbody tr th {\n",
       "        vertical-align: top;\n",
       "    }\n",
       "\n",
       "    .dataframe thead th {\n",
       "        text-align: right;\n",
       "    }\n",
       "</style>\n",
       "<table border=\"1\" class=\"dataframe\">\n",
       "  <thead>\n",
       "    <tr style=\"text-align: right;\">\n",
       "      <th></th>\n",
       "      <th>gene_id</th>\n",
       "      <th>peak_id</th>\n",
       "    </tr>\n",
       "  </thead>\n",
       "  <tbody>\n",
       "    <tr>\n",
       "      <th>1</th>\n",
       "      <td>Smad4</td>\n",
       "      <td>chr1:3003564-3003922</td>\n",
       "    </tr>\n",
       "    <tr>\n",
       "      <th>2</th>\n",
       "      <td>Ctcf</td>\n",
       "      <td>chr1:3012605-3012815</td>\n",
       "    </tr>\n",
       "    <tr>\n",
       "      <th>3</th>\n",
       "      <td>Ctcf</td>\n",
       "      <td>chr1:3012635-3012824</td>\n",
       "    </tr>\n",
       "    <tr>\n",
       "      <th>4</th>\n",
       "      <td>Epitope</td>\n",
       "      <td>chr1:3031387-3031654</td>\n",
       "    </tr>\n",
       "    <tr>\n",
       "      <th>5</th>\n",
       "      <td>Smad4</td>\n",
       "      <td>chr1:3031454-3031677</td>\n",
       "    </tr>\n",
       "  </tbody>\n",
       "</table>\n",
       "</div>"
      ],
      "text/plain": [
       "   gene_id               peak_id\n",
       "1    Smad4  chr1:3003564-3003922\n",
       "2     Ctcf  chr1:3012605-3012815\n",
       "3     Ctcf  chr1:3012635-3012824\n",
       "4  Epitope  chr1:3031387-3031654\n",
       "5    Smad4  chr1:3031454-3031677"
      ]
     },
     "execution_count": 5,
     "metadata": {},
     "output_type": "execute_result"
    }
   ],
   "source": [
    "def extract_gene_name(name):\n",
    "    return name.split(\"Name=\")[1].split(\"%\")[0]\n",
    "\n",
    "def format_peak_id(chrom, start, end):\n",
    "    start = str(int(start))\n",
    "    end = str(int(end))\n",
    "    return \"%s:%s-%s\" % (chrom, start, end)\n",
    "\n",
    "chip_bed_file = os.path.join(ground_truth_dir, \"Oth.Emb.05.AllAg.AllCell.bed\")\n",
    "chip_bed = pybedtools.BedTool(chip_bed_file)\n",
    "chip_bed_df = chip_bed.to_dataframe()\n",
    "chip_bed_nohead = chip_bed_df.iloc[1:, :].dropna()\n",
    "\n",
    "chip_bed_nohead[\"gene_id\"] = chip_bed_nohead[\"name\"].apply(extract_gene_name)\n",
    "chip_bed_cleaned = chip_bed_nohead[[\"chrom\", \"start\", \"end\", \"gene_id\"]]\n",
    "\n",
    "# Set the peak_id as the formatted peak location\n",
    "chip_bed_cleaned[\"peak_id\"] = chip_bed_cleaned.apply(lambda x: format_peak_id(x.chrom, x.start, x.end), axis=1)\n",
    "\n",
    "chip_tf_to_peak = chip_bed_cleaned[[\"gene_id\", \"peak_id\"]]\n",
    "chip_tf_to_peak"
   ]
  },
  {
   "cell_type": "markdown",
   "metadata": {},
   "source": [
    "Now that we have the ChIP-Atlas peaks in the format that we want, we can save it to the ground truth directory for later"
   ]
  },
  {
   "cell_type": "code",
   "execution_count": null,
   "metadata": {},
   "outputs": [],
   "source": [
    "chip_tf_to_peak.to_csv(os.path.join(ground_truth_dir, \"chipatlas_mESC.csv\"), header=True, index=False)"
   ]
  },
  {
   "cell_type": "markdown",
   "metadata": {},
   "source": [
    "### Creating the Homer peaks file"
   ]
  },
  {
   "cell_type": "markdown",
   "metadata": {},
   "source": [
    "Next, we need to format the peaks to follow the same requirements as the Homer peaks file. The sliding window method also uses this format for convenience.\n",
    "\n",
    "> HOMER peak files should have at minimum 5 columns (separated by TABs, additional columns will be ignored:\n",
    "> - Column1: Unique Peak ID\n",
    "> - Column2: chromosome\n",
    "> - Column3: starting position\n",
    "> - Column4: ending position\n",
    "> - Column5: Strand (+/- or 0/1, where 0=\"+\", 1=\"-\")"
   ]
  },
  {
   "cell_type": "code",
   "execution_count": null,
   "metadata": {},
   "outputs": [
    {
     "data": {
      "application/vnd.microsoft.datawrangler.viewer.v0+json": {
       "columns": [
        {
         "name": "index",
         "rawType": "int64",
         "type": "integer"
        },
        {
         "name": "PeakID",
         "rawType": "object",
         "type": "string"
        },
        {
         "name": "chr",
         "rawType": "object",
         "type": "string"
        },
        {
         "name": "start",
         "rawType": "int64",
         "type": "integer"
        },
        {
         "name": "end",
         "rawType": "int64",
         "type": "integer"
        },
        {
         "name": "strand",
         "rawType": "object",
         "type": "string"
        }
       ],
       "ref": "b141218d-9a06-4092-ba48-ca8c20e5f2aa",
       "rows": [
        [
         "1",
         "chr1:3003564-3003922",
         "chr1",
         "3003564",
         "3003922",
         "."
        ],
        [
         "2",
         "chr1:3012605-3012815",
         "chr1",
         "3012605",
         "3012815",
         "."
        ],
        [
         "3",
         "chr1:3012635-3012824",
         "chr1",
         "3012635",
         "3012824",
         "."
        ],
        [
         "4",
         "chr1:3031387-3031654",
         "chr1",
         "3031387",
         "3031654",
         "."
        ],
        [
         "5",
         "chr1:3031454-3031677",
         "chr1",
         "3031454",
         "3031677",
         "."
        ],
        [
         "6",
         "chr1:3037813-3037977",
         "chr1",
         "3037813",
         "3037977",
         "."
        ],
        [
         "7",
         "chr1:3037831-3038014",
         "chr1",
         "3037831",
         "3038014",
         "."
        ],
        [
         "8",
         "chr1:3042056-3042107",
         "chr1",
         "3042056",
         "3042107",
         "."
        ],
        [
         "9",
         "chr1:3042840-3042993",
         "chr1",
         "3042840",
         "3042993",
         "."
        ],
        [
         "10",
         "chr1:3042840-3043210",
         "chr1",
         "3042840",
         "3043210",
         "."
        ],
        [
         "11",
         "chr1:3042845-3042974",
         "chr1",
         "3042845",
         "3042974",
         "."
        ],
        [
         "12",
         "chr1:3042893-3043261",
         "chr1",
         "3042893",
         "3043261",
         "."
        ],
        [
         "13",
         "chr1:3043042-3043236",
         "chr1",
         "3043042",
         "3043236",
         "."
        ],
        [
         "14",
         "chr1:3043048-3043364",
         "chr1",
         "3043048",
         "3043364",
         "."
        ],
        [
         "15",
         "chr1:3043056-3043246",
         "chr1",
         "3043056",
         "3043246",
         "."
        ],
        [
         "16",
         "chr1:3043095-3043239",
         "chr1",
         "3043095",
         "3043239",
         "."
        ],
        [
         "17",
         "chr1:3048848-3049240",
         "chr1",
         "3048848",
         "3049240",
         "."
        ],
        [
         "18",
         "chr1:3048884-3049204",
         "chr1",
         "3048884",
         "3049204",
         "."
        ],
        [
         "19",
         "chr1:3048892-3049123",
         "chr1",
         "3048892",
         "3049123",
         "."
        ],
        [
         "20",
         "chr1:3048924-3049137",
         "chr1",
         "3048924",
         "3049137",
         "."
        ],
        [
         "21",
         "chr1:3048985-3049197",
         "chr1",
         "3048985",
         "3049197",
         "."
        ],
        [
         "22",
         "chr1:3050139-3050342",
         "chr1",
         "3050139",
         "3050342",
         "."
        ],
        [
         "23",
         "chr1:3050160-3050251",
         "chr1",
         "3050160",
         "3050251",
         "."
        ],
        [
         "24",
         "chr1:3050169-3050323",
         "chr1",
         "3050169",
         "3050323",
         "."
        ],
        [
         "25",
         "chr1:3050170-3050252",
         "chr1",
         "3050170",
         "3050252",
         "."
        ],
        [
         "26",
         "chr1:3051439-3051494",
         "chr1",
         "3051439",
         "3051494",
         "."
        ],
        [
         "27",
         "chr1:3054989-3055130",
         "chr1",
         "3054989",
         "3055130",
         "."
        ],
        [
         "28",
         "chr1:3055034-3055478",
         "chr1",
         "3055034",
         "3055478",
         "."
        ],
        [
         "29",
         "chr1:3055062-3055329",
         "chr1",
         "3055062",
         "3055329",
         "."
        ],
        [
         "30",
         "chr1:3059708-3059807",
         "chr1",
         "3059708",
         "3059807",
         "."
        ],
        [
         "31",
         "chr1:3062849-3063111",
         "chr1",
         "3062849",
         "3063111",
         "."
        ],
        [
         "32",
         "chr1:3063257-3063401",
         "chr1",
         "3063257",
         "3063401",
         "."
        ],
        [
         "33",
         "chr1:3068096-3068380",
         "chr1",
         "3068096",
         "3068380",
         "."
        ],
        [
         "34",
         "chr1:3072534-3072701",
         "chr1",
         "3072534",
         "3072701",
         "."
        ],
        [
         "35",
         "chr1:3077207-3077399",
         "chr1",
         "3077207",
         "3077399",
         "."
        ],
        [
         "36",
         "chr1:3083162-3083320",
         "chr1",
         "3083162",
         "3083320",
         "."
        ],
        [
         "37",
         "chr1:3083182-3083313",
         "chr1",
         "3083182",
         "3083313",
         "."
        ],
        [
         "38",
         "chr1:3083187-3083305",
         "chr1",
         "3083187",
         "3083305",
         "."
        ],
        [
         "39",
         "chr1:3083189-3083280",
         "chr1",
         "3083189",
         "3083280",
         "."
        ],
        [
         "40",
         "chr1:3091675-3091891",
         "chr1",
         "3091675",
         "3091891",
         "."
        ],
        [
         "41",
         "chr1:3094752-3095214",
         "chr1",
         "3094752",
         "3095214",
         "."
        ],
        [
         "42",
         "chr1:3094760-3094900",
         "chr1",
         "3094760",
         "3094900",
         "."
        ],
        [
         "43",
         "chr1:3094784-3095161",
         "chr1",
         "3094784",
         "3095161",
         "."
        ],
        [
         "44",
         "chr1:3094789-3095260",
         "chr1",
         "3094789",
         "3095260",
         "."
        ],
        [
         "45",
         "chr1:3094795-3095175",
         "chr1",
         "3094795",
         "3095175",
         "."
        ],
        [
         "46",
         "chr1:3094799-3095182",
         "chr1",
         "3094799",
         "3095182",
         "."
        ],
        [
         "47",
         "chr1:3094823-3095143",
         "chr1",
         "3094823",
         "3095143",
         "."
        ],
        [
         "48",
         "chr1:3094824-3095063",
         "chr1",
         "3094824",
         "3095063",
         "."
        ],
        [
         "49",
         "chr1:3094827-3095149",
         "chr1",
         "3094827",
         "3095149",
         "."
        ],
        [
         "50",
         "chr1:3094854-3095103",
         "chr1",
         "3094854",
         "3095103",
         "."
        ]
       ],
       "shape": {
        "columns": 5,
        "rows": 7624391
       }
      },
      "text/html": [
       "<div>\n",
       "<style scoped>\n",
       "    .dataframe tbody tr th:only-of-type {\n",
       "        vertical-align: middle;\n",
       "    }\n",
       "\n",
       "    .dataframe tbody tr th {\n",
       "        vertical-align: top;\n",
       "    }\n",
       "\n",
       "    .dataframe thead th {\n",
       "        text-align: right;\n",
       "    }\n",
       "</style>\n",
       "<table border=\"1\" class=\"dataframe\">\n",
       "  <thead>\n",
       "    <tr style=\"text-align: right;\">\n",
       "      <th></th>\n",
       "      <th>PeakID</th>\n",
       "      <th>chr</th>\n",
       "      <th>start</th>\n",
       "      <th>end</th>\n",
       "      <th>strand</th>\n",
       "    </tr>\n",
       "  </thead>\n",
       "  <tbody>\n",
       "    <tr>\n",
       "      <th>1</th>\n",
       "      <td>chr1:3003564-3003922</td>\n",
       "      <td>chr1</td>\n",
       "      <td>3003564</td>\n",
       "      <td>3003922</td>\n",
       "      <td>.</td>\n",
       "    </tr>\n",
       "    <tr>\n",
       "      <th>2</th>\n",
       "      <td>chr1:3012605-3012815</td>\n",
       "      <td>chr1</td>\n",
       "      <td>3012605</td>\n",
       "      <td>3012815</td>\n",
       "      <td>.</td>\n",
       "    </tr>\n",
       "    <tr>\n",
       "      <th>3</th>\n",
       "      <td>chr1:3012635-3012824</td>\n",
       "      <td>chr1</td>\n",
       "      <td>3012635</td>\n",
       "      <td>3012824</td>\n",
       "      <td>.</td>\n",
       "    </tr>\n",
       "    <tr>\n",
       "      <th>4</th>\n",
       "      <td>chr1:3031387-3031654</td>\n",
       "      <td>chr1</td>\n",
       "      <td>3031387</td>\n",
       "      <td>3031654</td>\n",
       "      <td>.</td>\n",
       "    </tr>\n",
       "    <tr>\n",
       "      <th>5</th>\n",
       "      <td>chr1:3031454-3031677</td>\n",
       "      <td>chr1</td>\n",
       "      <td>3031454</td>\n",
       "      <td>3031677</td>\n",
       "      <td>.</td>\n",
       "    </tr>\n",
       "    <tr>\n",
       "      <th>...</th>\n",
       "      <td>...</td>\n",
       "      <td>...</td>\n",
       "      <td>...</td>\n",
       "      <td>...</td>\n",
       "      <td>...</td>\n",
       "    </tr>\n",
       "    <tr>\n",
       "      <th>7624387</th>\n",
       "      <td>chrY_JH584303_random:135985-136047</td>\n",
       "      <td>chrY_JH584303_random</td>\n",
       "      <td>135985</td>\n",
       "      <td>136047</td>\n",
       "      <td>.</td>\n",
       "    </tr>\n",
       "    <tr>\n",
       "      <th>7624388</th>\n",
       "      <td>chrY_JH584303_random:135985-136048</td>\n",
       "      <td>chrY_JH584303_random</td>\n",
       "      <td>135985</td>\n",
       "      <td>136048</td>\n",
       "      <td>.</td>\n",
       "    </tr>\n",
       "    <tr>\n",
       "      <th>7624389</th>\n",
       "      <td>chrY_JH584303_random:135986-136045</td>\n",
       "      <td>chrY_JH584303_random</td>\n",
       "      <td>135986</td>\n",
       "      <td>136045</td>\n",
       "      <td>.</td>\n",
       "    </tr>\n",
       "    <tr>\n",
       "      <th>7624390</th>\n",
       "      <td>chrY_JH584303_random:135989-136043</td>\n",
       "      <td>chrY_JH584303_random</td>\n",
       "      <td>135989</td>\n",
       "      <td>136043</td>\n",
       "      <td>.</td>\n",
       "    </tr>\n",
       "    <tr>\n",
       "      <th>7624391</th>\n",
       "      <td>chrY_JH584303_random:135989-136046</td>\n",
       "      <td>chrY_JH584303_random</td>\n",
       "      <td>135989</td>\n",
       "      <td>136046</td>\n",
       "      <td>.</td>\n",
       "    </tr>\n",
       "  </tbody>\n",
       "</table>\n",
       "<p>7624391 rows × 5 columns</p>\n",
       "</div>"
      ],
      "text/plain": [
       "                                     PeakID                   chr    start  \\\n",
       "1                      chr1:3003564-3003922                  chr1  3003564   \n",
       "2                      chr1:3012605-3012815                  chr1  3012605   \n",
       "3                      chr1:3012635-3012824                  chr1  3012635   \n",
       "4                      chr1:3031387-3031654                  chr1  3031387   \n",
       "5                      chr1:3031454-3031677                  chr1  3031454   \n",
       "...                                     ...                   ...      ...   \n",
       "7624387  chrY_JH584303_random:135985-136047  chrY_JH584303_random   135985   \n",
       "7624388  chrY_JH584303_random:135985-136048  chrY_JH584303_random   135985   \n",
       "7624389  chrY_JH584303_random:135986-136045  chrY_JH584303_random   135986   \n",
       "7624390  chrY_JH584303_random:135989-136043  chrY_JH584303_random   135989   \n",
       "7624391  chrY_JH584303_random:135989-136046  chrY_JH584303_random   135989   \n",
       "\n",
       "             end strand  \n",
       "1        3003922      .  \n",
       "2        3012815      .  \n",
       "3        3012824      .  \n",
       "4        3031654      .  \n",
       "5        3031677      .  \n",
       "...          ...    ...  \n",
       "7624387   136047      .  \n",
       "7624388   136048      .  \n",
       "7624389   136045      .  \n",
       "7624390   136043      .  \n",
       "7624391   136046      .  \n",
       "\n",
       "[7624391 rows x 5 columns]"
      ]
     },
     "execution_count": 16,
     "metadata": {},
     "output_type": "execute_result"
    }
   ],
   "source": [
    "# Format the DataFrame to follow the requirements for the Homer peaks file (used for both Homer and sliding window)\n",
    "homer_peaks = chip_bed_cleaned[[\"peak_id\", \"chrom\", \"start\", \"end\"]]\n",
    "homer_peaks = homer_peaks.rename(columns={\"peak_id\":\"PeakID\", \"chrom\":\"chr\"})\n",
    "homer_peaks[\"strand\"] = [\".\"] * len(homer_peaks)\n",
    "homer_peaks[\"start\"] = round(homer_peaks[\"start\"].astype(int),0)\n",
    "homer_peaks[\"end\"] = round(homer_peaks[\"end\"].astype(int),0)\n",
    "homer_peaks"
   ]
  },
  {
   "cell_type": "markdown",
   "metadata": {},
   "source": [
    "This is a huge file - we dont need to test the method using all of them. We will take a sample to run the scoring on."
   ]
  },
  {
   "cell_type": "code",
   "execution_count": null,
   "metadata": {},
   "outputs": [],
   "source": [
    "homer_peaks_sample = homer_peaks.sample(frac=0.05)"
   ]
  },
  {
   "cell_type": "markdown",
   "metadata": {},
   "source": [
    "If we save the ChIP-seq peaks as `homer_peaks.txt` to the `tmp` directory of the output folder, then they will be used to calculate the sliding window and Homer scores"
   ]
  },
  {
   "cell_type": "code",
   "execution_count": null,
   "metadata": {},
   "outputs": [],
   "source": [
    "homer_peak_path = os.path.join(tmp_dir, \"homer_peaks.txt\")\n",
    "homer_peaks_sample.to_csv(homer_peak_path, sep=\"\\t\", header=False, index=False)"
   ]
  },
  {
   "cell_type": "markdown",
   "metadata": {},
   "source": [
    "Next, we run `run_sliding_window_on_chipseq_peaks.sh` in the `dev/testing_scripts` directory"
   ]
  },
  {
   "cell_type": "markdown",
   "metadata": {
    "vscode": {
     "languageId": "bat"
    }
   },
   "source": [
    "```bash\n",
    "#!/bin/bash -l\n",
    "#SBATCH --partition=memory\n",
    "#SBATCH --nodes=1\n",
    "#SBATCH -c 32\n",
    "#SBATCH --mem=124G\n",
    "#SBATCH -o /gpfs/Labs/Uzun/SCRIPTS/PROJECTS/2024.SINGLE_CELL_GRN_INFERENCE.MOELLER/LOGS/chipseq_sliding_window.log\n",
    "#SBATCH -e /gpfs/Labs/Uzun/SCRIPTS/PROJECTS/2024.SINGLE_CELL_GRN_INFERENCE.MOELLER/LOGS/chipseq_sliding_window.err\n",
    "\n",
    "set -euo pipefail\n",
    "\n",
    "source activate my_env\n",
    "\n",
    "cd \"/gpfs/Labs/Uzun/SCRIPTS/PROJECTS/2024.SINGLE_CELL_GRN_INFERENCE.MOELLER\"\n",
    "\n",
    "poetry run python \"src/grn_inference/pipeline/sliding_window_tf_peak_motifs.py\" \\\n",
    "    --tf_names_file \"/gpfs/Labs/Uzun/SCRIPTS/PROJECTS/2024.SINGLE_CELL_GRN_INFERENCE.MOELLER/data/motif_information/mm10/TF_Information_all_motifs.txt\" \\\n",
    "    --meme_dir \"/gpfs/Labs/Uzun/SCRIPTS/PROJECTS/2024.SINGLE_CELL_GRN_INFERENCE.MOELLER/data/motif_information/mm10/mm10_motif_meme_files\" \\\n",
    "    --reference_genome_dir '/gpfs/Labs/Uzun/SCRIPTS/PROJECTS/2024.SINGLE_CELL_GRN_INFERENCE.MOELLER/data/reference_genome/mm10' \\\n",
    "    --atac_data_file \"/gpfs/Labs/Uzun/SCRIPTS/PROJECTS/2024.SINGLE_CELL_GRN_INFERENCE.MOELLER/input/DS011_mESC/DS011_mESC_sample1/DS011_mESC_ATAC_processed.parquet\" \\\n",
    "    --rna_data_file \"/gpfs/Labs/Uzun/SCRIPTS/PROJECTS/2024.SINGLE_CELL_GRN_INFERENCE.MOELLER/input/DS011_mESC/DS011_mESC_sample1/DS011_mESC_RNA_processed.parquet\" \\\n",
    "    --output_dir \"/gpfs/Labs/Uzun/SCRIPTS/PROJECTS/2024.SINGLE_CELL_GRN_INFERENCE.MOELLER/output/chipseq_sliding_window\" \\\n",
    "    --species \"mm10\" \\\n",
    "    --num_cpu \"32\" \\\n",
    "    --fig_dir \"/gpfs/Labs/Uzun/SCRIPTS/PROJECTS/2024.SINGLE_CELL_GRN_INFERENCE.MOELLER/output/chipseq_sliding_window\"\n",
    "```"
   ]
  },
  {
   "cell_type": "code",
   "execution_count": 57,
   "metadata": {
    "vscode": {
     "languageId": "shellscript"
    }
   },
   "outputs": [
    {
     "name": "stdout",
     "output_type": "stream",
     "text": [
      "Submitted batch job 3373183\n"
     ]
    }
   ],
   "source": [
    "!sbatch /gpfs/Labs/Uzun/SCRIPTS/PROJECTS/2024.SINGLE_CELL_GRN_INFERENCE.MOELLER/dev/testing_scripts/run_sliding_window_on_chipseq_peaks.sh"
   ]
  },
  {
   "cell_type": "markdown",
   "metadata": {},
   "source": [
    "Once the sliding window calculation is done, we can read in the output."
   ]
  },
  {
   "cell_type": "code",
   "execution_count": 56,
   "metadata": {},
   "outputs": [
    {
     "ename": "FileNotFoundError",
     "evalue": "[Errno 2] No such file or directory: '/gpfs/Labs/Uzun/SCRIPTS/PROJECTS/2024.SINGLE_CELL_GRN_INFERENCE.MOELLER/output/chipseq_sliding_window/sliding_window_tf_to_peak_score.parquet'",
     "output_type": "error",
     "traceback": [
      "\u001b[0;31m---------------------------------------------------------------------------\u001b[0m",
      "\u001b[0;31mFileNotFoundError\u001b[0m                         Traceback (most recent call last)",
      "Cell \u001b[0;32mIn[56], line 2\u001b[0m\n\u001b[1;32m      1\u001b[0m sliding_window_output \u001b[38;5;241m=\u001b[39m \u001b[38;5;124m\"\u001b[39m\u001b[38;5;124m/gpfs/Labs/Uzun/SCRIPTS/PROJECTS/2024.SINGLE_CELL_GRN_INFERENCE.MOELLER/output/chipseq_sliding_window/sliding_window_tf_to_peak_score.parquet\u001b[39m\u001b[38;5;124m\"\u001b[39m\n\u001b[0;32m----> 2\u001b[0m sliding_window_df \u001b[38;5;241m=\u001b[39m \u001b[43mpd\u001b[49m\u001b[38;5;241;43m.\u001b[39;49m\u001b[43mread_parquet\u001b[49m\u001b[43m(\u001b[49m\u001b[43msliding_window_output\u001b[49m\u001b[43m,\u001b[49m\u001b[43m \u001b[49m\u001b[43mengine\u001b[49m\u001b[38;5;241;43m=\u001b[39;49m\u001b[38;5;124;43m\"\u001b[39;49m\u001b[38;5;124;43mpyarrow\u001b[39;49m\u001b[38;5;124;43m\"\u001b[39;49m\u001b[43m)\u001b[49m\n\u001b[1;32m      3\u001b[0m sliding_window_df \u001b[38;5;241m=\u001b[39m sliding_window_df\u001b[38;5;241m.\u001b[39mreset_index(drop\u001b[38;5;241m=\u001b[39m\u001b[38;5;28;01mTrue\u001b[39;00m)\n\u001b[1;32m      4\u001b[0m sliding_window_df\u001b[38;5;241m.\u001b[39mhead()\n",
      "File \u001b[0;32m~/.conda/envs/my_env/lib/python3.9/site-packages/pandas/io/parquet.py:669\u001b[0m, in \u001b[0;36mread_parquet\u001b[0;34m(path, engine, columns, storage_options, use_nullable_dtypes, dtype_backend, filesystem, filters, **kwargs)\u001b[0m\n\u001b[1;32m    666\u001b[0m     use_nullable_dtypes \u001b[38;5;241m=\u001b[39m \u001b[38;5;28;01mFalse\u001b[39;00m\n\u001b[1;32m    667\u001b[0m check_dtype_backend(dtype_backend)\n\u001b[0;32m--> 669\u001b[0m \u001b[38;5;28;01mreturn\u001b[39;00m \u001b[43mimpl\u001b[49m\u001b[38;5;241;43m.\u001b[39;49m\u001b[43mread\u001b[49m\u001b[43m(\u001b[49m\n\u001b[1;32m    670\u001b[0m \u001b[43m    \u001b[49m\u001b[43mpath\u001b[49m\u001b[43m,\u001b[49m\n\u001b[1;32m    671\u001b[0m \u001b[43m    \u001b[49m\u001b[43mcolumns\u001b[49m\u001b[38;5;241;43m=\u001b[39;49m\u001b[43mcolumns\u001b[49m\u001b[43m,\u001b[49m\n\u001b[1;32m    672\u001b[0m \u001b[43m    \u001b[49m\u001b[43mfilters\u001b[49m\u001b[38;5;241;43m=\u001b[39;49m\u001b[43mfilters\u001b[49m\u001b[43m,\u001b[49m\n\u001b[1;32m    673\u001b[0m \u001b[43m    \u001b[49m\u001b[43mstorage_options\u001b[49m\u001b[38;5;241;43m=\u001b[39;49m\u001b[43mstorage_options\u001b[49m\u001b[43m,\u001b[49m\n\u001b[1;32m    674\u001b[0m \u001b[43m    \u001b[49m\u001b[43muse_nullable_dtypes\u001b[49m\u001b[38;5;241;43m=\u001b[39;49m\u001b[43muse_nullable_dtypes\u001b[49m\u001b[43m,\u001b[49m\n\u001b[1;32m    675\u001b[0m \u001b[43m    \u001b[49m\u001b[43mdtype_backend\u001b[49m\u001b[38;5;241;43m=\u001b[39;49m\u001b[43mdtype_backend\u001b[49m\u001b[43m,\u001b[49m\n\u001b[1;32m    676\u001b[0m \u001b[43m    \u001b[49m\u001b[43mfilesystem\u001b[49m\u001b[38;5;241;43m=\u001b[39;49m\u001b[43mfilesystem\u001b[49m\u001b[43m,\u001b[49m\n\u001b[1;32m    677\u001b[0m \u001b[43m    \u001b[49m\u001b[38;5;241;43m*\u001b[39;49m\u001b[38;5;241;43m*\u001b[39;49m\u001b[43mkwargs\u001b[49m\u001b[43m,\u001b[49m\n\u001b[1;32m    678\u001b[0m \u001b[43m\u001b[49m\u001b[43m)\u001b[49m\n",
      "File \u001b[0;32m~/.conda/envs/my_env/lib/python3.9/site-packages/pandas/io/parquet.py:258\u001b[0m, in \u001b[0;36mPyArrowImpl.read\u001b[0;34m(self, path, columns, filters, use_nullable_dtypes, dtype_backend, storage_options, filesystem, **kwargs)\u001b[0m\n\u001b[1;32m    256\u001b[0m \u001b[38;5;28;01mif\u001b[39;00m manager \u001b[38;5;241m==\u001b[39m \u001b[38;5;124m\"\u001b[39m\u001b[38;5;124marray\u001b[39m\u001b[38;5;124m\"\u001b[39m:\n\u001b[1;32m    257\u001b[0m     to_pandas_kwargs[\u001b[38;5;124m\"\u001b[39m\u001b[38;5;124msplit_blocks\u001b[39m\u001b[38;5;124m\"\u001b[39m] \u001b[38;5;241m=\u001b[39m \u001b[38;5;28;01mTrue\u001b[39;00m\n\u001b[0;32m--> 258\u001b[0m path_or_handle, handles, filesystem \u001b[38;5;241m=\u001b[39m \u001b[43m_get_path_or_handle\u001b[49m\u001b[43m(\u001b[49m\n\u001b[1;32m    259\u001b[0m \u001b[43m    \u001b[49m\u001b[43mpath\u001b[49m\u001b[43m,\u001b[49m\n\u001b[1;32m    260\u001b[0m \u001b[43m    \u001b[49m\u001b[43mfilesystem\u001b[49m\u001b[43m,\u001b[49m\n\u001b[1;32m    261\u001b[0m \u001b[43m    \u001b[49m\u001b[43mstorage_options\u001b[49m\u001b[38;5;241;43m=\u001b[39;49m\u001b[43mstorage_options\u001b[49m\u001b[43m,\u001b[49m\n\u001b[1;32m    262\u001b[0m \u001b[43m    \u001b[49m\u001b[43mmode\u001b[49m\u001b[38;5;241;43m=\u001b[39;49m\u001b[38;5;124;43m\"\u001b[39;49m\u001b[38;5;124;43mrb\u001b[39;49m\u001b[38;5;124;43m\"\u001b[39;49m\u001b[43m,\u001b[49m\n\u001b[1;32m    263\u001b[0m \u001b[43m\u001b[49m\u001b[43m)\u001b[49m\n\u001b[1;32m    264\u001b[0m \u001b[38;5;28;01mtry\u001b[39;00m:\n\u001b[1;32m    265\u001b[0m     pa_table \u001b[38;5;241m=\u001b[39m \u001b[38;5;28mself\u001b[39m\u001b[38;5;241m.\u001b[39mapi\u001b[38;5;241m.\u001b[39mparquet\u001b[38;5;241m.\u001b[39mread_table(\n\u001b[1;32m    266\u001b[0m         path_or_handle,\n\u001b[1;32m    267\u001b[0m         columns\u001b[38;5;241m=\u001b[39mcolumns,\n\u001b[0;32m   (...)\u001b[0m\n\u001b[1;32m    270\u001b[0m         \u001b[38;5;241m*\u001b[39m\u001b[38;5;241m*\u001b[39mkwargs,\n\u001b[1;32m    271\u001b[0m     )\n",
      "File \u001b[0;32m~/.conda/envs/my_env/lib/python3.9/site-packages/pandas/io/parquet.py:141\u001b[0m, in \u001b[0;36m_get_path_or_handle\u001b[0;34m(path, fs, storage_options, mode, is_dir)\u001b[0m\n\u001b[1;32m    131\u001b[0m handles \u001b[38;5;241m=\u001b[39m \u001b[38;5;28;01mNone\u001b[39;00m\n\u001b[1;32m    132\u001b[0m \u001b[38;5;28;01mif\u001b[39;00m (\n\u001b[1;32m    133\u001b[0m     \u001b[38;5;129;01mnot\u001b[39;00m fs\n\u001b[1;32m    134\u001b[0m     \u001b[38;5;129;01mand\u001b[39;00m \u001b[38;5;129;01mnot\u001b[39;00m is_dir\n\u001b[0;32m   (...)\u001b[0m\n\u001b[1;32m    139\u001b[0m     \u001b[38;5;66;03m# fsspec resources can also point to directories\u001b[39;00m\n\u001b[1;32m    140\u001b[0m     \u001b[38;5;66;03m# this branch is used for example when reading from non-fsspec URLs\u001b[39;00m\n\u001b[0;32m--> 141\u001b[0m     handles \u001b[38;5;241m=\u001b[39m \u001b[43mget_handle\u001b[49m\u001b[43m(\u001b[49m\n\u001b[1;32m    142\u001b[0m \u001b[43m        \u001b[49m\u001b[43mpath_or_handle\u001b[49m\u001b[43m,\u001b[49m\u001b[43m \u001b[49m\u001b[43mmode\u001b[49m\u001b[43m,\u001b[49m\u001b[43m \u001b[49m\u001b[43mis_text\u001b[49m\u001b[38;5;241;43m=\u001b[39;49m\u001b[38;5;28;43;01mFalse\u001b[39;49;00m\u001b[43m,\u001b[49m\u001b[43m \u001b[49m\u001b[43mstorage_options\u001b[49m\u001b[38;5;241;43m=\u001b[39;49m\u001b[43mstorage_options\u001b[49m\n\u001b[1;32m    143\u001b[0m \u001b[43m    \u001b[49m\u001b[43m)\u001b[49m\n\u001b[1;32m    144\u001b[0m     fs \u001b[38;5;241m=\u001b[39m \u001b[38;5;28;01mNone\u001b[39;00m\n\u001b[1;32m    145\u001b[0m     path_or_handle \u001b[38;5;241m=\u001b[39m handles\u001b[38;5;241m.\u001b[39mhandle\n",
      "File \u001b[0;32m~/.conda/envs/my_env/lib/python3.9/site-packages/pandas/io/common.py:882\u001b[0m, in \u001b[0;36mget_handle\u001b[0;34m(path_or_buf, mode, encoding, compression, memory_map, is_text, errors, storage_options)\u001b[0m\n\u001b[1;32m    873\u001b[0m         handle \u001b[38;5;241m=\u001b[39m \u001b[38;5;28mopen\u001b[39m(\n\u001b[1;32m    874\u001b[0m             handle,\n\u001b[1;32m    875\u001b[0m             ioargs\u001b[38;5;241m.\u001b[39mmode,\n\u001b[0;32m   (...)\u001b[0m\n\u001b[1;32m    878\u001b[0m             newline\u001b[38;5;241m=\u001b[39m\u001b[38;5;124m\"\u001b[39m\u001b[38;5;124m\"\u001b[39m,\n\u001b[1;32m    879\u001b[0m         )\n\u001b[1;32m    880\u001b[0m     \u001b[38;5;28;01melse\u001b[39;00m:\n\u001b[1;32m    881\u001b[0m         \u001b[38;5;66;03m# Binary mode\u001b[39;00m\n\u001b[0;32m--> 882\u001b[0m         handle \u001b[38;5;241m=\u001b[39m \u001b[38;5;28;43mopen\u001b[39;49m\u001b[43m(\u001b[49m\u001b[43mhandle\u001b[49m\u001b[43m,\u001b[49m\u001b[43m \u001b[49m\u001b[43mioargs\u001b[49m\u001b[38;5;241;43m.\u001b[39;49m\u001b[43mmode\u001b[49m\u001b[43m)\u001b[49m\n\u001b[1;32m    883\u001b[0m     handles\u001b[38;5;241m.\u001b[39mappend(handle)\n\u001b[1;32m    885\u001b[0m \u001b[38;5;66;03m# Convert BytesIO or file objects passed with an encoding\u001b[39;00m\n",
      "\u001b[0;31mFileNotFoundError\u001b[0m: [Errno 2] No such file or directory: '/gpfs/Labs/Uzun/SCRIPTS/PROJECTS/2024.SINGLE_CELL_GRN_INFERENCE.MOELLER/output/chipseq_sliding_window/sliding_window_tf_to_peak_score.parquet'"
     ]
    }
   ],
   "source": [
    "sliding_window_output = \"/gpfs/Labs/Uzun/SCRIPTS/PROJECTS/2024.SINGLE_CELL_GRN_INFERENCE.MOELLER/output/chipseq_sliding_window/sliding_window_tf_to_peak_score.parquet\"\n",
    "sliding_window_df = pd.read_parquet(sliding_window_output, engine=\"pyarrow\")\n",
    "sliding_window_df = sliding_window_df.reset_index(drop=True)\n",
    "sliding_window_df.head()"
   ]
  },
  {
   "cell_type": "markdown",
   "metadata": {},
   "source": [
    "We can use the `chip_tf_to_peak` object that we created from the ChIP-Atlas file to check our work. Since we sampled the ChIP-Atlas peaks before running the sliding window calculations, we need to subset `chip_tf_to_peak` to only contain those peaks."
   ]
  },
  {
   "cell_type": "code",
   "execution_count": null,
   "metadata": {},
   "outputs": [
    {
     "data": {
      "application/vnd.microsoft.datawrangler.viewer.v0+json": {
       "columns": [
        {
         "name": "index",
         "rawType": "int64",
         "type": "integer"
        },
        {
         "name": "gene_id",
         "rawType": "object",
         "type": "string"
        },
        {
         "name": "peak_id",
         "rawType": "object",
         "type": "string"
        }
       ],
       "ref": "1875ebcf-17fa-45c8-af5c-e54f3fdbcac3",
       "rows": [
        [
         "30",
         "Cebpa",
         "chr1:3059708-3059807"
        ],
        [
         "43",
         "Ncor2",
         "chr1:3094784-3095161"
        ],
        [
         "50",
         "Ncor2",
         "chr1:3094854-3095103"
        ],
        [
         "63",
         "Ncor2",
         "chr1:3113649-3113870"
        ],
        [
         "96",
         "Ncor2",
         "chr1:3120165-3120649"
        ],
        [
         "114",
         "Hoxa13",
         "chr1:3139162-3139303"
        ],
        [
         "126",
         "Ptf1a",
         "chr1:3139200-3139307"
        ],
        [
         "128",
         "Hoxa13",
         "chr1:3151585-3152119"
        ],
        [
         "141",
         "Epitope",
         "chr1:3191769-3191996"
        ],
        [
         "145",
         "Epitope",
         "chr1:3196231-3196380"
        ],
        [
         "148",
         "Ncor2",
         "chr1:3198099-3198727"
        ],
        [
         "174",
         "Kdm6b",
         "chr1:3292591-3292851"
        ],
        [
         "238",
         "Tcf7l2",
         "chr1:3400037-3400283"
        ],
        [
         "257",
         "Epitope",
         "chr1:3433833-3434227"
        ],
        [
         "272",
         "Six2",
         "chr1:3433940-3434089"
        ],
        [
         "288",
         "Kdm5c",
         "chr1:3452506-3452596"
        ],
        [
         "289",
         "Kdm5c",
         "chr1:3452506-3452596"
        ],
        [
         "311",
         "Hnf4a",
         "chr1:3514981-3515170"
        ],
        [
         "324",
         "Ctcf",
         "chr1:3549395-3549689"
        ],
        [
         "398",
         "Rnf2",
         "chr1:3670760-3672088"
        ],
        [
         "447",
         "Pbx1",
         "chr1:3671577-3672040"
        ],
        [
         "448",
         "Smad1",
         "chr1:3671618-3671797"
        ],
        [
         "468",
         "Ncor2",
         "chr1:3671700-3671976"
        ],
        [
         "471",
         "Prdm13",
         "chr1:3671739-3671943"
        ],
        [
         "480",
         "Smad1",
         "chr1:3671886-3672144"
        ],
        [
         "481",
         "Nr2f2",
         "chr1:3671893-3672090"
        ],
        [
         "490",
         "Smarca4",
         "chr1:3673075-3673157"
        ],
        [
         "494",
         "Hmga2",
         "chr1:3706543-3706864"
        ],
        [
         "509",
         "Smad4",
         "chr1:3771958-3772208"
        ],
        [
         "517",
         "Tcf3",
         "chr1:3822702-3822753"
        ],
        [
         "550",
         "Ncor2",
         "chr1:3900406-3900642"
        ],
        [
         "584",
         "Tal1",
         "chr1:3955296-3955384"
        ],
        [
         "593",
         "Twist1",
         "chr1:3996922-3997199"
        ],
        [
         "612",
         "Smad4",
         "chr1:4085073-4085778"
        ],
        [
         "620",
         "Hmga2",
         "chr1:4100636-4100829"
        ],
        [
         "629",
         "Smad4",
         "chr1:4132254-4132472"
        ],
        [
         "657",
         "Ctcf",
         "chr1:4142579-4142831"
        ],
        [
         "683",
         "Ctcf",
         "chr1:4142646-4142878"
        ],
        [
         "686",
         "Ctcf",
         "chr1:4142658-4142818"
        ],
        [
         "762",
         "Hmga2",
         "chr1:4231077-4231875"
        ],
        [
         "768",
         "Epitope",
         "chr1:4249787-4249921"
        ],
        [
         "776",
         "Smarca4",
         "chr1:4249862-4249917"
        ],
        [
         "780",
         "Epitope",
         "chr1:4257754-4257881"
        ],
        [
         "807",
         "Isl1",
         "chr1:4285048-4285104"
        ],
        [
         "814",
         "Hmga2",
         "chr1:4311950-4312258"
        ],
        [
         "820",
         "Isl1",
         "chr1:4329619-4329675"
        ],
        [
         "833",
         "Ctcf",
         "chr1:4332439-4332902"
        ],
        [
         "885",
         "Ctcf",
         "chr1:4332543-4332760"
        ],
        [
         "897",
         "Ctcf",
         "chr1:4332555-4332834"
        ],
        [
         "907",
         "Rad21",
         "chr1:4332565-4332767"
        ]
       ],
       "shape": {
        "columns": 2,
        "rows": 400246
       }
      },
      "text/html": [
       "<div>\n",
       "<style scoped>\n",
       "    .dataframe tbody tr th:only-of-type {\n",
       "        vertical-align: middle;\n",
       "    }\n",
       "\n",
       "    .dataframe tbody tr th {\n",
       "        vertical-align: top;\n",
       "    }\n",
       "\n",
       "    .dataframe thead th {\n",
       "        text-align: right;\n",
       "    }\n",
       "</style>\n",
       "<table border=\"1\" class=\"dataframe\">\n",
       "  <thead>\n",
       "    <tr style=\"text-align: right;\">\n",
       "      <th></th>\n",
       "      <th>gene_id</th>\n",
       "      <th>peak_id</th>\n",
       "    </tr>\n",
       "  </thead>\n",
       "  <tbody>\n",
       "    <tr>\n",
       "      <th>30</th>\n",
       "      <td>Cebpa</td>\n",
       "      <td>chr1:3059708-3059807</td>\n",
       "    </tr>\n",
       "    <tr>\n",
       "      <th>43</th>\n",
       "      <td>Ncor2</td>\n",
       "      <td>chr1:3094784-3095161</td>\n",
       "    </tr>\n",
       "    <tr>\n",
       "      <th>50</th>\n",
       "      <td>Ncor2</td>\n",
       "      <td>chr1:3094854-3095103</td>\n",
       "    </tr>\n",
       "    <tr>\n",
       "      <th>63</th>\n",
       "      <td>Ncor2</td>\n",
       "      <td>chr1:3113649-3113870</td>\n",
       "    </tr>\n",
       "    <tr>\n",
       "      <th>96</th>\n",
       "      <td>Ncor2</td>\n",
       "      <td>chr1:3120165-3120649</td>\n",
       "    </tr>\n",
       "    <tr>\n",
       "      <th>...</th>\n",
       "      <td>...</td>\n",
       "      <td>...</td>\n",
       "    </tr>\n",
       "    <tr>\n",
       "      <th>7624325</th>\n",
       "      <td>Rest</td>\n",
       "      <td>chrY_JH584301_random:56821-56874</td>\n",
       "    </tr>\n",
       "    <tr>\n",
       "      <th>7624328</th>\n",
       "      <td>Rest</td>\n",
       "      <td>chrY_JH584301_random:56826-56874</td>\n",
       "    </tr>\n",
       "    <tr>\n",
       "      <th>7624342</th>\n",
       "      <td>Epitope</td>\n",
       "      <td>chrY_JH584301_random:130529-130620</td>\n",
       "    </tr>\n",
       "    <tr>\n",
       "      <th>7624360</th>\n",
       "      <td>Atrx</td>\n",
       "      <td>chrY_JH584301_random:206615-206677</td>\n",
       "    </tr>\n",
       "    <tr>\n",
       "      <th>7624374</th>\n",
       "      <td>Rest</td>\n",
       "      <td>chrY_JH584302_random:139711-139760</td>\n",
       "    </tr>\n",
       "  </tbody>\n",
       "</table>\n",
       "<p>400246 rows × 2 columns</p>\n",
       "</div>"
      ],
      "text/plain": [
       "         gene_id                             peak_id\n",
       "30         Cebpa                chr1:3059708-3059807\n",
       "43         Ncor2                chr1:3094784-3095161\n",
       "50         Ncor2                chr1:3094854-3095103\n",
       "63         Ncor2                chr1:3113649-3113870\n",
       "96         Ncor2                chr1:3120165-3120649\n",
       "...          ...                                 ...\n",
       "7624325     Rest    chrY_JH584301_random:56821-56874\n",
       "7624328     Rest    chrY_JH584301_random:56826-56874\n",
       "7624342  Epitope  chrY_JH584301_random:130529-130620\n",
       "7624360     Atrx  chrY_JH584301_random:206615-206677\n",
       "7624374     Rest  chrY_JH584302_random:139711-139760\n",
       "\n",
       "[400246 rows x 2 columns]"
      ]
     },
     "execution_count": 31,
     "metadata": {},
     "output_type": "execute_result"
    }
   ],
   "source": [
    "chip_tf_to_peak_sub = chip_tf_to_peak[chip_tf_to_peak[\"peak_id\"].isin(sliding_window_df[\"peak_id\"])]\n",
    "chip_tf_to_peak_sub"
   ]
  },
  {
   "cell_type": "markdown",
   "metadata": {},
   "source": [
    "We then combine the TF-peak mapping from ChIP-Atlas with the TF-peak mapping from the sliding window score by merging the two DataFrames on `peak_id`."
   ]
  },
  {
   "cell_type": "code",
   "execution_count": null,
   "metadata": {},
   "outputs": [
    {
     "data": {
      "application/vnd.microsoft.datawrangler.viewer.v0+json": {
       "columns": [
        {
         "name": "index",
         "rawType": "int64",
         "type": "integer"
        },
        {
         "name": "chip_gene",
         "rawType": "object",
         "type": "string"
        },
        {
         "name": "sliding_window_gene",
         "rawType": "string",
         "type": "string"
        },
        {
         "name": "peak_id",
         "rawType": "object",
         "type": "string"
        },
        {
         "name": "sliding_window_score",
         "rawType": "float64",
         "type": "float"
        }
       ],
       "ref": "8ed0ed7c-e9f7-4e03-88e9-e6b6c0903b49",
       "rows": [
        [
         "0",
         "Cebpa",
         "Arid5a",
         "chr1:3059708-3059807",
         "0.17238591156130945"
        ],
        [
         "1",
         "Cebpa",
         "Ebf4",
         "chr1:3059708-3059807",
         "0.0"
        ],
        [
         "2",
         "Cebpa",
         "Egr1",
         "chr1:3059708-3059807",
         "0.21833520466210007"
        ],
        [
         "3",
         "Cebpa",
         "Elf2",
         "chr1:3059708-3059807",
         "0.23655181758874888"
        ],
        [
         "4",
         "Cebpa",
         "Emx2",
         "chr1:3059708-3059807",
         "0.1647898249718065"
        ],
        [
         "5",
         "Cebpa",
         "Foxj3",
         "chr1:3059708-3059807",
         "0.11959787544135035"
        ],
        [
         "6",
         "Cebpa",
         "Foxl1",
         "chr1:3059708-3059807",
         "0.173960953306971"
        ],
        [
         "7",
         "Cebpa",
         "Atf6",
         "chr1:3059708-3059807",
         "0.15641022571988475"
        ],
        [
         "8",
         "Cebpa",
         "Atf6b",
         "chr1:3059708-3059807",
         "0.15641022571988475"
        ],
        [
         "9",
         "Cebpa",
         "Atoh7",
         "chr1:3059708-3059807",
         "0.16128762255839812"
        ],
        [
         "10",
         "Cebpa",
         "Hoxd3",
         "chr1:3059708-3059807",
         "0.15009177009458377"
        ],
        [
         "11",
         "Cebpa",
         "Hoxd9",
         "chr1:3059708-3059807",
         "0.1513283704191662"
        ],
        [
         "12",
         "Cebpa",
         "Hoxd11",
         "chr1:3059708-3059807",
         "0.1624163903520742"
        ],
        [
         "13",
         "Cebpa",
         "Lhx3",
         "chr1:3059708-3059807",
         "0.16325060072028785"
        ],
        [
         "14",
         "Cebpa",
         "Lin54",
         "chr1:3059708-3059807",
         "0.19227690883958476"
        ],
        [
         "15",
         "Cebpa",
         "Neurod2",
         "chr1:3059708-3059807",
         "0.1571828079446495"
        ],
        [
         "16",
         "Cebpa",
         "Nfat5",
         "chr1:3059708-3059807",
         "0.1621941597127125"
        ],
        [
         "17",
         "Cebpa",
         "Nfib",
         "chr1:3059708-3059807",
         "0.14534149341405084"
        ],
        [
         "18",
         "Cebpa",
         "Nkx2-9",
         "chr1:3059708-3059807",
         "0.18667452325680803"
        ],
        [
         "19",
         "Cebpa",
         "Alx4",
         "chr1:3059708-3059807",
         "0.14291059631700415"
        ],
        [
         "20",
         "Cebpa",
         "Cdx2",
         "chr1:3059708-3059807",
         "0.16914837783922332"
        ],
        [
         "21",
         "Cebpa",
         "Pitx1",
         "chr1:3059708-3059807",
         "0.16247765318760207"
        ],
        [
         "22",
         "Cebpa",
         "Pitx2",
         "chr1:3059708-3059807",
         "0.13447353373212662"
        ],
        [
         "23",
         "Cebpa",
         "Cebpb",
         "chr1:3059708-3059807",
         "0.17569141452056874"
        ],
        [
         "24",
         "Cebpa",
         "Rfx3",
         "chr1:3059708-3059807",
         "0.1822239118876552"
        ],
        [
         "25",
         "Cebpa",
         "Scrt1",
         "chr1:3059708-3059807",
         "0.20319318709248987"
        ],
        [
         "26",
         "Cebpa",
         "Scrt2",
         "chr1:3059708-3059807",
         "0.20319318709248987"
        ],
        [
         "27",
         "Cebpa",
         "T",
         "chr1:3059708-3059807",
         "0.3423525534088425"
        ],
        [
         "28",
         "Cebpa",
         "Tbx19",
         "chr1:3059708-3059807",
         "0.3423525534088425"
        ],
        [
         "29",
         "Cebpa",
         "Crx",
         "chr1:3059708-3059807",
         "0.14935510237465222"
        ],
        [
         "30",
         "Cebpa",
         "Vdr",
         "chr1:3059708-3059807",
         "0.26090218812110655"
        ],
        [
         "31",
         "Cebpa",
         "Zbtb18",
         "chr1:3059708-3059807",
         "0.0"
        ],
        [
         "32",
         "Cebpa",
         "Arid3a",
         "chr1:3059708-3059807",
         "0.08278281324255413"
        ],
        [
         "33",
         "Cebpa",
         "Zfp182",
         "chr1:3059708-3059807",
         "0.0"
        ],
        [
         "34",
         "Cebpa",
         "Zfp282",
         "chr1:3059708-3059807",
         "0.08447129806385653"
        ],
        [
         "35",
         "Cebpa",
         "Zfp653",
         "chr1:3059708-3059807",
         "0.3637050990072558"
        ],
        [
         "36",
         "Cebpa",
         "Zfp692",
         "chr1:3059708-3059807",
         "0.20518317522554372"
        ],
        [
         "37",
         "Cebpa",
         "Zfp787",
         "chr1:3059708-3059807",
         "0.30010778036458596"
        ],
        [
         "38",
         "Ncor2",
         "Arid5a",
         "chr1:3094784-3095161",
         "0.6147296036219958"
        ],
        [
         "39",
         "Ncor2",
         "Ebf4",
         "chr1:3094784-3095161",
         "0.0"
        ],
        [
         "40",
         "Ncor2",
         "Egr1",
         "chr1:3094784-3095161",
         "0.6832921928477474"
        ],
        [
         "41",
         "Ncor2",
         "Elf2",
         "chr1:3094784-3095161",
         "0.7652803426209237"
        ],
        [
         "42",
         "Ncor2",
         "Emx2",
         "chr1:3094784-3095161",
         "0.5710983274957929"
        ],
        [
         "43",
         "Ncor2",
         "Foxj3",
         "chr1:3094784-3095161",
         "0.4378369769623927"
        ],
        [
         "44",
         "Ncor2",
         "Foxl1",
         "chr1:3094784-3095161",
         "0.605870284744647"
        ],
        [
         "45",
         "Ncor2",
         "Atf6",
         "chr1:3094784-3095161",
         "0.5286358968931439"
        ],
        [
         "46",
         "Ncor2",
         "Atf6b",
         "chr1:3094784-3095161",
         "0.5286358968931439"
        ],
        [
         "47",
         "Ncor2",
         "Atoh7",
         "chr1:3094784-3095161",
         "0.547925452937556"
        ],
        [
         "48",
         "Ncor2",
         "Hoxd3",
         "chr1:3094784-3095161",
         "0.5228474082127216"
        ],
        [
         "49",
         "Ncor2",
         "Hoxd9",
         "chr1:3094784-3095161",
         "0.5322517402374091"
        ]
       ],
       "shape": {
        "columns": 4,
        "rows": 21845747
       }
      },
      "text/html": [
       "<div>\n",
       "<style scoped>\n",
       "    .dataframe tbody tr th:only-of-type {\n",
       "        vertical-align: middle;\n",
       "    }\n",
       "\n",
       "    .dataframe tbody tr th {\n",
       "        vertical-align: top;\n",
       "    }\n",
       "\n",
       "    .dataframe thead th {\n",
       "        text-align: right;\n",
       "    }\n",
       "</style>\n",
       "<table border=\"1\" class=\"dataframe\">\n",
       "  <thead>\n",
       "    <tr style=\"text-align: right;\">\n",
       "      <th></th>\n",
       "      <th>chip_gene</th>\n",
       "      <th>sliding_window_gene</th>\n",
       "      <th>peak_id</th>\n",
       "      <th>sliding_window_score</th>\n",
       "    </tr>\n",
       "  </thead>\n",
       "  <tbody>\n",
       "    <tr>\n",
       "      <th>0</th>\n",
       "      <td>Cebpa</td>\n",
       "      <td>Arid5a</td>\n",
       "      <td>chr1:3059708-3059807</td>\n",
       "      <td>0.172386</td>\n",
       "    </tr>\n",
       "    <tr>\n",
       "      <th>1</th>\n",
       "      <td>Cebpa</td>\n",
       "      <td>Ebf4</td>\n",
       "      <td>chr1:3059708-3059807</td>\n",
       "      <td>0.000000</td>\n",
       "    </tr>\n",
       "    <tr>\n",
       "      <th>2</th>\n",
       "      <td>Cebpa</td>\n",
       "      <td>Egr1</td>\n",
       "      <td>chr1:3059708-3059807</td>\n",
       "      <td>0.218335</td>\n",
       "    </tr>\n",
       "    <tr>\n",
       "      <th>3</th>\n",
       "      <td>Cebpa</td>\n",
       "      <td>Elf2</td>\n",
       "      <td>chr1:3059708-3059807</td>\n",
       "      <td>0.236552</td>\n",
       "    </tr>\n",
       "    <tr>\n",
       "      <th>4</th>\n",
       "      <td>Cebpa</td>\n",
       "      <td>Emx2</td>\n",
       "      <td>chr1:3059708-3059807</td>\n",
       "      <td>0.164790</td>\n",
       "    </tr>\n",
       "    <tr>\n",
       "      <th>...</th>\n",
       "      <td>...</td>\n",
       "      <td>...</td>\n",
       "      <td>...</td>\n",
       "      <td>...</td>\n",
       "    </tr>\n",
       "    <tr>\n",
       "      <th>21845742</th>\n",
       "      <td>Rest</td>\n",
       "      <td>Zfp182</td>\n",
       "      <td>chrY_JH584302_random:139711-139760</td>\n",
       "      <td>0.000000</td>\n",
       "    </tr>\n",
       "    <tr>\n",
       "      <th>21845743</th>\n",
       "      <td>Rest</td>\n",
       "      <td>Zfp282</td>\n",
       "      <td>chrY_JH584302_random:139711-139760</td>\n",
       "      <td>0.041938</td>\n",
       "    </tr>\n",
       "    <tr>\n",
       "      <th>21845744</th>\n",
       "      <td>Rest</td>\n",
       "      <td>Zfp653</td>\n",
       "      <td>chrY_JH584302_random:139711-139760</td>\n",
       "      <td>0.166139</td>\n",
       "    </tr>\n",
       "    <tr>\n",
       "      <th>21845745</th>\n",
       "      <td>Rest</td>\n",
       "      <td>Zfp692</td>\n",
       "      <td>chrY_JH584302_random:139711-139760</td>\n",
       "      <td>0.100401</td>\n",
       "    </tr>\n",
       "    <tr>\n",
       "      <th>21845746</th>\n",
       "      <td>Rest</td>\n",
       "      <td>Zfp787</td>\n",
       "      <td>chrY_JH584302_random:139711-139760</td>\n",
       "      <td>0.141668</td>\n",
       "    </tr>\n",
       "  </tbody>\n",
       "</table>\n",
       "<p>21845747 rows × 4 columns</p>\n",
       "</div>"
      ],
      "text/plain": [
       "         chip_gene sliding_window_gene                             peak_id  \\\n",
       "0            Cebpa              Arid5a                chr1:3059708-3059807   \n",
       "1            Cebpa                Ebf4                chr1:3059708-3059807   \n",
       "2            Cebpa                Egr1                chr1:3059708-3059807   \n",
       "3            Cebpa                Elf2                chr1:3059708-3059807   \n",
       "4            Cebpa                Emx2                chr1:3059708-3059807   \n",
       "...            ...                 ...                                 ...   \n",
       "21845742      Rest              Zfp182  chrY_JH584302_random:139711-139760   \n",
       "21845743      Rest              Zfp282  chrY_JH584302_random:139711-139760   \n",
       "21845744      Rest              Zfp653  chrY_JH584302_random:139711-139760   \n",
       "21845745      Rest              Zfp692  chrY_JH584302_random:139711-139760   \n",
       "21845746      Rest              Zfp787  chrY_JH584302_random:139711-139760   \n",
       "\n",
       "          sliding_window_score  \n",
       "0                     0.172386  \n",
       "1                     0.000000  \n",
       "2                     0.218335  \n",
       "3                     0.236552  \n",
       "4                     0.164790  \n",
       "...                        ...  \n",
       "21845742              0.000000  \n",
       "21845743              0.041938  \n",
       "21845744              0.166139  \n",
       "21845745              0.100401  \n",
       "21845746              0.141668  \n",
       "\n",
       "[21845747 rows x 4 columns]"
      ]
     },
     "execution_count": 35,
     "metadata": {},
     "output_type": "execute_result"
    }
   ],
   "source": [
    "merged_df = pd.merge(chip_tf_to_peak_sub, sliding_window_df, on=\"peak_id\", how=\"inner\")\n",
    "merged_df = merged_df.rename(columns={\"gene_id\": \"chip_gene\", \"source_id\": \"sliding_window_gene\"})\n",
    "merged_df = merged_df[[\"chip_gene\", \"sliding_window_gene\", \"peak_id\", \"sliding_window_score\"]]\n",
    "merged_df"
   ]
  },
  {
   "cell_type": "code",
   "execution_count": null,
   "metadata": {},
   "outputs": [],
   "source": [
    "merged_df.to_csv(os.path.join(output_dir, \"chipseq_sliding_window_merged.csv\"), header=True, index=False)"
   ]
  },
  {
   "cell_type": "markdown",
   "metadata": {},
   "source": [
    "We can extract the correct predictions and the incorrect predictions, and see how the sliding window scores vary between them."
   ]
  },
  {
   "cell_type": "code",
   "execution_count": 38,
   "metadata": {},
   "outputs": [
    {
     "name": "stdout",
     "output_type": "stream",
     "text": [
      "Num correct predictions: 12109\n",
      "Num incorrect predictions: 21833638\n"
     ]
    }
   ],
   "source": [
    "correct_predictions = merged_df[merged_df[\"chip_gene\"] == merged_df[\"sliding_window_gene\"]]\n",
    "incorrect_predictions = merged_df[merged_df[\"chip_gene\"] != merged_df[\"sliding_window_gene\"]]\n",
    "\n",
    "print(f\"Num correct predictions: {len(correct_predictions)}\")\n",
    "print(f\"Num incorrect predictions: {len(incorrect_predictions)}\")"
   ]
  },
  {
   "cell_type": "markdown",
   "metadata": {},
   "source": [
    "Since each TF and peak has a potential binding score, there will be a lot more incorrect predictions than correct predictions. We will sample each DataFrame by the one with the minimum number of rows so they are equal in length."
   ]
  },
  {
   "cell_type": "code",
   "execution_count": 43,
   "metadata": {},
   "outputs": [
    {
     "name": "stdout",
     "output_type": "stream",
     "text": [
      "Num correct predictions: 12109\n",
      "Num incorrect predictions: 12109\n"
     ]
    }
   ],
   "source": [
    "correct_prediction_scores = correct_predictions[\"sliding_window_score\"].sample(\n",
    "    min(len(correct_predictions), len(incorrect_predictions))\n",
    "    ).rename(\"Correct TF Binding Predictions\").reset_index(drop=True)\n",
    "\n",
    "incorrect_prediction_scores = incorrect_predictions[\"sliding_window_score\"].sample(\n",
    "    min(len(correct_predictions), len(incorrect_predictions))\n",
    "    ).rename(\"Incorrect TF Binding Predictions\").reset_index(drop=True)\n",
    "\n",
    "print(f\"Num correct predictions: {len(correct_prediction_scores)}\")\n",
    "print(f\"Num incorrect predictions: {len(incorrect_prediction_scores)}\")"
   ]
  },
  {
   "cell_type": "markdown",
   "metadata": {},
   "source": [
    "Now that we have extracted the correct and incorrect scores, we will merge them to create a new dataframe containing just the correct and incorrect scores."
   ]
  },
  {
   "cell_type": "code",
   "execution_count": 44,
   "metadata": {},
   "outputs": [],
   "source": [
    "pred_df = pd.merge(correct_prediction_scores, incorrect_prediction_scores, left_index=True, right_index=True)"
   ]
  },
  {
   "cell_type": "code",
   "execution_count": 48,
   "metadata": {},
   "outputs": [
    {
     "data": {
      "image/png": "[encoded data removed]",
      "text/plain": [
       "<Figure size 640x480 with 1 Axes>"
      ]
     },
     "metadata": {},
     "output_type": "display_data"
    }
   ],
   "source": [
    "fig = plt.Figure()\n",
    "a = sns.boxplot(data=pred_df)\n",
    "a.set_ylabel(\"Sliding Window Score\")\n",
    "a.set_title(\"Sliding Window Scores for ChIP-seq TF Binding Predictions\")\n",
    "plt.savefig(\"/gpfs/Labs/Uzun/SCRIPTS/PROJECTS/2024.SINGLE_CELL_GRN_INFERENCE.MOELLER/output/chipseq_sliding_window/chipseq_sliding_window_boxplot.png\", dpi=200)"
   ]
  },
  {
   "cell_type": "code",
   "execution_count": 55,
   "metadata": {},
   "outputs": [
    {
     "data": {
      "image/png": "[encoded data removed]",
      "text/plain": [
       "<Figure size 1000x800 with 1 Axes>"
      ]
     },
     "metadata": {},
     "output_type": "display_data"
    }
   ],
   "source": [
    "plt.figure(figsize=(10,8))\n",
    "plt.hist(\n",
    "    pred_df[\"Correct TF Binding Predictions\"],\n",
    "    bins=150,\n",
    "    alpha=0.7,\n",
    "    color='#4195df',\n",
    "    label=\"Correct TF Binding Predictions\"\n",
    ")\n",
    "plt.hist(\n",
    "    pred_df[\"Incorrect TF Binding Predictions\"],\n",
    "    bins=150,\n",
    "    alpha=0.7,\n",
    "    color='#dc8634',\n",
    "    label=\"Incorrect TF Binding Predictions\"\n",
    ")\n",
    "plt.title(\"Sliding Window Scores for ChIP-seq TF Binding Predictions\", fontsize=16)\n",
    "plt.xlabel(\"Sliding Window Score\", fontsize=14)\n",
    "plt.ylabel(\"Frequency\", fontsize=14)\n",
    "plt.xticks(fontsize=12)\n",
    "plt.yticks(fontsize=12)\n",
    "plt.legend(bbox_to_anchor=(1.05, 1), loc='upper left', borderaxespad=0., fontsize=14)\n",
    "plt.savefig(\"/gpfs/Labs/Uzun/SCRIPTS/PROJECTS/2024.SINGLE_CELL_GRN_INFERENCE.MOELLER/output/chipseq_sliding_window/chipseq_sliding_window_histogram.png\", dpi=200)"
   ]
  }
 ],
 "metadata": {
  "kernelspec": {
   "display_name": "my_env",
   "language": "python",
   "name": "python3"
  },
  "language_info": {
   "codemirror_mode": {
    "name": "ipython",
    "version": 3
   },
   "file_extension": ".py",
   "mimetype": "text/x-python",
   "name": "python",
   "nbconvert_exporter": "python",
   "pygments_lexer": "ipython3",
   "version": "3.9.18"
  }
 },
 "nbformat": 4,
 "nbformat_minor": 2
}
