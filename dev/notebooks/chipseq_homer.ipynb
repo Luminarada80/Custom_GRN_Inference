{
 "cells": [
  {
   "cell_type": "markdown",
   "id": "6b81b439",
   "metadata": {},
   "source": [
    "## Evaluating the Homer TF-peak scoring method\n",
    "\n",
    "Homer `annotatePeaks.pl` attempts to find TF motif binding sites in a provided set of peak locations. The output of `annotatePeaks.pl` is a file for each TF with information about its binding potential to the peaks in your dataset. The columns are:\n",
    "\n",
    "- PeakID\n",
    "- Chromosome\n",
    "- Peak start position\n",
    "- Peak end position\n",
    "- Strand\n",
    "- Peak Score\n",
    "- FDR/Peak Focus Ratio/Region Size\n",
    "- Annotation (i.e. Exon, Intron, ...)\n",
    "- Detailed Annotation (Exon, Intron etc. + CpG Islands, repeats, etc.)\n",
    "- Distance to nearest RefSeq TSS\n",
    "- Nearest TSS: Native ID of annotation file\n",
    "- Nearest TSS: Entrez Gene ID\n",
    "- Nearest TSS: Unigene ID\n",
    "- Nearest TSS: RefSeq ID\n",
    "- Nearest TSS: Ensembl ID\n",
    "- Nearest TSS: Gene Symbol\n",
    "- Nearest TSS: Gene Aliases\n",
    "- Nearest TSS: Gene description\n",
    "- Additional columns depend on options selected when running the program.\n",
    "\n",
    "To test the Homer scoring method, we can have Homer predict the TF binding sites in ChIP-seq peaks with known TF binding interactions. We can compare the Homer predictions to the known TFs that bind to assess how well Homer identifies correct TF-peak binding partners.\n",
    "\n",
    "So far, we have been evaluating our results against the mESC ground truth from the BEELINE paper. The paper does not provide the TF-peak ChIP-seq file, but rather the direct TF-TG mapping. The paper states that the ChIP-seq dataset was downloaded from ChIP-Atlas, so we are using the mm10 embryo ChIP: TFs and others dataset from ChIP-Atlas."
   ]
  },
  {
   "cell_type": "code",
   "execution_count": null,
   "id": "bf491f0d",
   "metadata": {},
   "outputs": [],
   "source": [
    "!hostnamectl"
   ]
  },
  {
   "cell_type": "code",
   "execution_count": null,
   "id": "80c06068",
   "metadata": {},
   "outputs": [],
   "source": [
    "import os\n",
    "import pandas as pd\n",
    "import pybedtools\n",
    "import seaborn as sns\n",
    "import matplotlib.pyplot as plt\n",
    "\n",
    "base_dir = \"/gpfs/Labs/Uzun/SCRIPTS/PROJECTS/2024.SINGLE_CELL_GRN_INFERENCE.MOELLER/\"\n",
    "ground_truth_dir = os.path.join(base_dir, \"ground_truth_files\")\n",
    "output_dir = os.path.join(base_dir, \"output/chipseq_homer\")\n",
    "tmp_dir = os.path.join(output_dir, \"tmp\")\n",
    "\n",
    "os.makedirs(ground_truth_dir, exist_ok=True)\n",
    "os.makedirs(output_dir, exist_ok=True)\n",
    "os.makedirs(tmp_dir, exist_ok=True)"
   ]
  },
  {
   "cell_type": "markdown",
   "id": "2b8b9ec8",
   "metadata": {},
   "source": [
    "### ChIP-Atlas data\n",
    "\n",
    "The ChIP-Atlas dataset we are using can be downloaded from:\n",
    "\n",
    "`wget https://chip-atlas.dbcls.jp/data/mm10/assembled/Oth.Emb.05.AllAg.AllCell.bed`\n",
    "\n",
    "This file corresponds to the following settings in the Peak Browser:\n",
    "- Species -> M. musculus (mm10)\n",
    "- Track type class -> ChIP: TFs and others\n",
    "- Cell type class -> Embryo\n",
    "- Threshold for Significance -> 50\n",
    "- Track type -> All\n",
    "- Cell type -> all\n",
    "\n",
    "The first step here is to extract the relevant information from the ChIP-Atlas dataset to create a TF-peak ground truth DataFrame and a `homer_peaks.txt` DataFrame."
   ]
  },
  {
   "cell_type": "code",
   "execution_count": null,
   "id": "278853a4",
   "metadata": {},
   "outputs": [],
   "source": [
    "def extract_gene_name(name):\n",
    "    return name.split(\"Name=\")[1].split(\"%\")[0]\n",
    "\n",
    "def format_peak_id(chrom, start, end):\n",
    "    start = str(int(start))\n",
    "    end = str(int(end))\n",
    "    return \"%s:%s-%s\" % (chrom, start, end)"
   ]
  },
  {
   "cell_type": "code",
   "execution_count": null,
   "id": "f38ea796",
   "metadata": {},
   "outputs": [],
   "source": [
    "chip_bed_file = os.path.join(ground_truth_dir, \"Oth.Emb.05.AllAg.AllCell.bed\")\n",
    "chip_bed = pybedtools.BedTool(chip_bed_file)\n",
    "chip_bed_df = chip_bed.to_dataframe()\n",
    "chip_bed_nohead = chip_bed_df.iloc[1:, :].dropna()\n",
    "\n",
    "chip_bed_nohead[\"gene_id\"] = chip_bed_nohead[\"name\"].apply(extract_gene_name)\n",
    "chip_bed_cleaned = chip_bed_nohead[[\"chrom\", \"start\", \"end\", \"gene_id\"]]\n",
    "\n",
    "# Set the peak_id as the formatted peak location\n",
    "chip_bed_cleaned[\"peak_id\"] = chip_bed_cleaned.apply(lambda x: format_peak_id(x.chrom, x.start, x.end), axis=1)\n",
    "\n",
    "chip_tf_to_peak = chip_bed_cleaned[[\"gene_id\", \"peak_id\"]]\n",
    "chip_tf_to_peak"
   ]
  },
  {
   "cell_type": "markdown",
   "id": "b83ef420",
   "metadata": {},
   "source": [
    "Now that we have the ChIP-Atlas peaks in the format that we want, we can save it to the ground truth directory for later"
   ]
  },
  {
   "cell_type": "code",
   "execution_count": null,
   "id": "5b056093",
   "metadata": {},
   "outputs": [],
   "source": [
    "chip_bed_cleaned.to_csv(os.path.join(output_dir, \"chipatlas_peaks.csv\"), header=True, index=False)\n",
    "chip_tf_to_peak.to_csv(os.path.join(ground_truth_dir, \"chipatlas_mESC.csv\"), header=True, index=False)"
   ]
  },
  {
   "cell_type": "markdown",
   "id": "582c3b9c",
   "metadata": {},
   "source": [
    "### Creating the Homer peaks file"
   ]
  },
  {
   "cell_type": "markdown",
   "id": "0da7b39c",
   "metadata": {},
   "source": [
    "Next, we need to format the peaks to follow the requirements for the Homer peaks file.\n",
    "\n",
    "> HOMER peak files should have at minimum 5 columns (separated by TABs, additional columns will be ignored:\n",
    "> - Column1: Unique Peak ID\n",
    "> - Column2: chromosome\n",
    "> - Column3: starting position\n",
    "> - Column4: ending position\n",
    "> - Column5: Strand (+/- or 0/1, where 0=\"+\", 1=\"-\")"
   ]
  },
  {
   "cell_type": "code",
   "execution_count": null,
   "id": "25f1d89c",
   "metadata": {},
   "outputs": [],
   "source": [
    "# NOTE: I am overriding the workflow to load in the dataset of overlapping ChIP-Atlas and BEELINE edges\n",
    "# See \"map_chip_atlas_to_beeline_ground_truth.ipynb\" for how this was created.\n",
    "chip_bed_cleaned = pd.read_csv(os.path.join(ground_truth_dir, \"chipatlas_beeline_mESC_shared_edges.csv\"), header=0, index_col=False)\n",
    "chip_bed_cleaned[\"peak_id\"] = chip_bed_cleaned.apply(lambda x: format_peak_id(x.chrom, x.start, x.end), axis=1)\n",
    "chip_tf_to_peak = chip_bed_cleaned[[\"source_id\", \"peak_id\"]].rename(columns={\"source_id\":\"gene_id\"})"
   ]
  },
  {
   "cell_type": "code",
   "execution_count": null,
   "id": "3921d98a",
   "metadata": {},
   "outputs": [],
   "source": [
    "chip_bed_cleaned = pd.read_csv(os.path.join(output_dir, \"chipatlas_peaks.csv\"), header=0, index_col=None)\n",
    "chip_tf_to_peak = pd.read_csv(os.path.join(ground_truth_dir, \"chipatlas_mESC.csv\"), header=0, index_col=None)"
   ]
  },
  {
   "cell_type": "code",
   "execution_count": null,
   "id": "42705f62",
   "metadata": {},
   "outputs": [],
   "source": [
    "# Format the DataFrame to follow the requirements for the Homer peaks file (used for both Homer and sliding window)\n",
    "homer_peaks = chip_bed_cleaned[[\"peak_id\", \"chrom\", \"start\", \"end\"]]\n",
    "homer_peaks = homer_peaks.rename(columns={\"peak_id\":\"PeakID\", \"chrom\":\"chr\"})\n",
    "homer_peaks[\"strand\"] = [\".\"] * len(homer_peaks)\n",
    "homer_peaks[\"start\"] = round(homer_peaks[\"start\"].astype(int),0)\n",
    "homer_peaks[\"end\"] = round(homer_peaks[\"end\"].astype(int),0)\n",
    "homer_peaks"
   ]
  },
  {
   "cell_type": "markdown",
   "id": "1d907624",
   "metadata": {},
   "source": [
    "This is a huge file - we dont need to test the method using all of them. We will take a sample to run the scoring on."
   ]
  },
  {
   "cell_type": "code",
   "execution_count": null,
   "id": "f0243ae8",
   "metadata": {},
   "outputs": [],
   "source": [
    "homer_peaks_sample = homer_peaks.sample(frac=0.05)"
   ]
  },
  {
   "cell_type": "markdown",
   "id": "769e6955",
   "metadata": {},
   "source": [
    "If we save the ChIP-seq peaks as `homer_peaks.txt` to the `tmp` directory of the output folder, then they will be used to calculate the sliding window and Homer scores"
   ]
  },
  {
   "cell_type": "code",
   "execution_count": null,
   "id": "65ac491d",
   "metadata": {},
   "outputs": [],
   "source": [
    "homer_peak_path = os.path.join(tmp_dir, \"homer_peaks.txt\")\n",
    "homer_peaks_sample.to_csv(homer_peak_path, sep=\"\\t\", header=False, index=False)"
   ]
  },
  {
   "cell_type": "markdown",
   "id": "a5442251",
   "metadata": {},
   "source": [
    "### Running Homer\n",
    "\n",
    "Now that we have created the ground truth TF-peak and `homer_peaks.txt` files, we can run Homer on the ChIP-seq peaks"
   ]
  },
  {
   "cell_type": "code",
   "execution_count": null,
   "id": "6c599214",
   "metadata": {
    "vscode": {
     "languageId": "shellscript"
    }
   },
   "outputs": [],
   "source": [
    "!sbatch /gpfs/Labs/Uzun/SCRIPTS/PROJECTS/2024.SINGLE_CELL_GRN_INFERENCE.MOELLER/dev/testing_scripts/run_homer_on_chipseq.sh"
   ]
  },
  {
   "cell_type": "markdown",
   "id": "94bc5371",
   "metadata": {},
   "source": [
    "This bash script runs three processes:\n",
    "1. Homer `findMotifsGenome.pl`, which identifies enriched TF binding motifs in the genome.\n",
    "2. Homer `annotatePeaks.pl`, which matches TFs to a given set of peaks and provides mapping to the closet gene's TSS.\n",
    "3. `homer_tf_peak_motifs.py`, which uses the output of `annotatePeaks.pl` to calculate a binding score between each TF and peak. The TF binding score for a peak is calculated by taking the number of TF binding motifs for the peak / total TF motifs across all peaks.\n",
    "\n",
    "Once the bash script has finished, we can read in the output of `homer_tf_peak_motifs.py`, `homer_tf_to_peak.parquet`\n",
    "\n",
    "### Comparing Homer TF-peak predictions vs ChIP-seq"
   ]
  },
  {
   "cell_type": "code",
   "execution_count": null,
   "id": "e0249309",
   "metadata": {},
   "outputs": [],
   "source": [
    "homer_results = pd.read_parquet(os.path.join(output_dir, \"homer_tf_to_peak.parquet\"), engine=\"pyarrow\")\n",
    "homer_results = homer_results.reset_index(drop=True)\n",
    "homer_results"
   ]
  },
  {
   "cell_type": "markdown",
   "id": "817e1280",
   "metadata": {},
   "source": [
    "We can use the `chip_tf_to_peak` object that we created from the ChIP-Atlas file to check our work. Since we sampled the ChIP-Atlas peaks before we ran Homer, we need to subset `chip_tf_to_peak` to only contain those peaks."
   ]
  },
  {
   "cell_type": "code",
   "execution_count": null,
   "id": "ec5063b3",
   "metadata": {},
   "outputs": [],
   "source": [
    "homer_results[\"source_id\"] = homer_results[\"source_id\"].str.upper()\n",
    "chip_tf_to_peak[\"gene_id\"] = chip_tf_to_peak[\"gene_id\"].str.upper()"
   ]
  },
  {
   "cell_type": "code",
   "execution_count": null,
   "id": "4fee11e4",
   "metadata": {},
   "outputs": [],
   "source": [
    "print(f\"Number of ChIP-Atlas peaks: {chip_tf_to_peak['peak_id'].nunique()}\")\n",
    "print(f\"Number of ChIP-Atlas TFs: {chip_tf_to_peak['gene_id'].nunique()}\")"
   ]
  },
  {
   "cell_type": "code",
   "execution_count": null,
   "id": "1e2851b9",
   "metadata": {},
   "outputs": [],
   "source": [
    "homer_peak_set = set(homer_results[\"peak_id\"])\n",
    "homer_gene_set = set(homer_results[\"source_id\"])\n",
    "\n",
    "print(f\"Number of Homer peaks: {len(homer_peak_set)}\")\n",
    "print(f\"Number of Homer TFs: {len(homer_gene_set)}\")\n",
    "\n",
    "chip_tf_to_peak_sub = chip_tf_to_peak[\n",
    "    chip_tf_to_peak[\"peak_id\"].isin(homer_peak_set) &\n",
    "    chip_tf_to_peak[\"gene_id\"].isin(homer_gene_set)\n",
    "]\n",
    "chip_tf_to_peak_sub"
   ]
  },
  {
   "cell_type": "code",
   "execution_count": null,
   "id": "f97d6fac",
   "metadata": {},
   "outputs": [],
   "source": [
    "print(f\"Number of shared peaks: {chip_tf_to_peak_sub['peak_id'].nunique()}\")\n",
    "print(f\"Number of shared TFs: {chip_tf_to_peak_sub['gene_id'].nunique()}\")"
   ]
  },
  {
   "cell_type": "markdown",
   "id": "43e31378",
   "metadata": {},
   "source": [
    "We then combine the TF-peak mapping from ChIP-Atlas with the TF-peak mapping from the Homer score by merging the two DataFrames on `peak_id`."
   ]
  },
  {
   "cell_type": "code",
   "execution_count": null,
   "id": "21f68eba",
   "metadata": {},
   "outputs": [],
   "source": [
    "merged_df = pd.merge(chip_tf_to_peak_sub, homer_results, on=\"peak_id\", how=\"inner\")\n",
    "merged_df = merged_df.rename(columns={\"gene_id\": \"chip_gene\", \"source_id\": \"homer_gene\"})\n",
    "merged_df = merged_df[[\"chip_gene\", \"homer_gene\", \"peak_id\", \"homer_binding_score\"]]\n",
    "merged_df"
   ]
  },
  {
   "cell_type": "code",
   "execution_count": null,
   "id": "05f352a7",
   "metadata": {},
   "outputs": [],
   "source": [
    "merged_df.to_csv(os.path.join(output_dir, \"chipseq_homer_merged.csv\"), header=True, index=False)"
   ]
  },
  {
   "cell_type": "markdown",
   "id": "83b7592f",
   "metadata": {},
   "source": [
    "We can extract the correct and incorrect predictions to see how the Homer binding scores vary between them."
   ]
  },
  {
   "cell_type": "code",
   "execution_count": null,
   "id": "5d86c337",
   "metadata": {},
   "outputs": [],
   "source": [
    "merged_df[\"chip_gene_norm\"] = merged_df[\"chip_gene\"].str.upper().str.strip()\n",
    "merged_df[\"homer_gene_norm\"] = merged_df[\"homer_gene\"].str.upper().str.strip()\n",
    "\n",
    "correct_predictions = merged_df[merged_df[\"chip_gene_norm\"] == merged_df[\"homer_gene_norm\"]]\n",
    "incorrect_predictions = merged_df[merged_df[\"chip_gene_norm\"] != merged_df[\"homer_gene_norm\"]]\n",
    "\n",
    "print(f\"Num correct predictions: {len(correct_predictions)}\")\n",
    "print(f\"Num incorrect predictions: {len(incorrect_predictions)}\")\n",
    "\n",
    "print(f\"Num unique correct TFs: {correct_predictions['chip_gene_norm'].nunique()}\")\n",
    "print(f\"Num unique incorrect TFs: {incorrect_predictions['chip_gene_norm'].nunique()}\")"
   ]
  },
  {
   "cell_type": "code",
   "execution_count": null,
   "id": "c5d61b03",
   "metadata": {},
   "outputs": [],
   "source": [
    "merged_df[merged_df[\"chip_gene\"].str.upper() == merged_df[\"homer_gene\"].str.upper()]"
   ]
  },
  {
   "cell_type": "markdown",
   "id": "552a3d6a",
   "metadata": {},
   "source": [
    "There are a lot more incorrect predictions than correct predictions. We will sample each DataFrame by the one with the minimum number of rows so they are equal in length."
   ]
  },
  {
   "cell_type": "code",
   "execution_count": null,
   "id": "6606421e",
   "metadata": {},
   "outputs": [],
   "source": [
    "correct_prediction_scores = correct_predictions[\"homer_binding_score\"].sample(\n",
    "    min(len(correct_predictions), len(incorrect_predictions))\n",
    "    ).rename(\"Correct TF Binding Predictions\").reset_index(drop=True)\n",
    "\n",
    "incorrect_prediction_scores = incorrect_predictions[\"homer_binding_score\"].sample(\n",
    "    min(len(correct_predictions), len(incorrect_predictions))\n",
    "    ).rename(\"Incorrect TF Binding Predictions\").reset_index(drop=True)\n",
    "\n",
    "print(f\"Num correct predictions: {len(correct_prediction_scores)}\")\n",
    "print(f\"Num incorrect predictions: {len(incorrect_prediction_scores)}\")"
   ]
  },
  {
   "cell_type": "markdown",
   "id": "a52b995d",
   "metadata": {},
   "source": [
    "Now that we have extracted the correct and incorrect scores, we will merge them to create a new dataframe containing just the correct and incorrect scores."
   ]
  },
  {
   "cell_type": "code",
   "execution_count": null,
   "id": "5dc7b163",
   "metadata": {},
   "outputs": [],
   "source": [
    "pred_df = pd.merge(correct_prediction_scores, incorrect_prediction_scores, left_index=True, right_index=True)"
   ]
  },
  {
   "cell_type": "code",
   "execution_count": null,
   "id": "0bf78461",
   "metadata": {},
   "outputs": [],
   "source": [
    "fig = plt.Figure()\n",
    "a = sns.boxplot(data=pred_df, showfliers=False)\n",
    "a.set_ylabel(\"Homer Binding Score\")\n",
    "a.set_title(\"Homer Binding Scores for ChIP-seq TF Binding Predictions\")\n",
    "plt.savefig(os.path.join(output_dir, \"chipseq_homer_boxplot.png\"), dpi=200)"
   ]
  },
  {
   "cell_type": "code",
   "execution_count": null,
   "id": "db974505",
   "metadata": {},
   "outputs": [],
   "source": [
    "plt.figure(figsize=(10,8))\n",
    "plt.hist(\n",
    "    pred_df[\"Correct TF Binding Predictions\"],\n",
    "    bins=150,\n",
    "    alpha=0.7,\n",
    "    color='#4195df',\n",
    "    label=\"Correct TF Binding Predictions\"\n",
    ")\n",
    "plt.hist(\n",
    "    pred_df[\"Incorrect TF Binding Predictions\"],\n",
    "    bins=150,\n",
    "    alpha=0.7,\n",
    "    color='#dc8634',\n",
    "    label=\"Incorrect TF Binding Predictions\"\n",
    ")\n",
    "plt.title(\"Homer Binding Scores for ChIP-seq TF Binding Predictions\", fontsize=16)\n",
    "plt.xlabel(\"Homer Binding Score\", fontsize=14)\n",
    "plt.ylabel(\"Frequency\", fontsize=14)\n",
    "plt.xticks(fontsize=12)\n",
    "plt.yticks(fontsize=12)\n",
    "plt.legend(bbox_to_anchor=(1.05, 1), loc='upper left', borderaxespad=0., fontsize=14)\n",
    "plt.savefig(os.path.join(output_dir, \"chipseq_homer_histogram.png\"), dpi=200)"
   ]
  }
 ],
 "metadata": {
  "kernelspec": {
   "display_name": "my_env",
   "language": "python",
   "name": "my_env"
  },
  "language_info": {
   "codemirror_mode": {
    "name": "ipython",
    "version": 3
   },
   "file_extension": ".py",
   "mimetype": "text/x-python",
   "name": "python",
   "nbconvert_exporter": "python",
   "pygments_lexer": "ipython3",
   "version": "3.9.18"
  }
 },
 "nbformat": 4,
 "nbformat_minor": 5
}
