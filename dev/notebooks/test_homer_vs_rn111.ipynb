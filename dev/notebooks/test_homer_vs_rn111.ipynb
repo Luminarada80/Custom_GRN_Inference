{
 "cells": [
  {
   "cell_type": "markdown",
   "id": "4ebae379",
   "metadata": {},
   "source": [
    "## Test Homer Nearest TSS from ChIP-Atlas Peaks vs RN111 BEELINE ChIP-seq Ground Truth\n",
    "\n",
    "We need to load the Homer TF-peak dataset, map the peaks to their nearest gene TSS, then compare against RN111"
   ]
  },
  {
   "cell_type": "code",
   "execution_count": null,
   "id": "8ec7e9bd",
   "metadata": {},
   "outputs": [],
   "source": [
    "import pandas as pd\n",
    "import pybedtools\n",
    "import csv"
   ]
  },
  {
   "cell_type": "code",
   "execution_count": null,
   "id": "ff6b63fb",
   "metadata": {},
   "outputs": [],
   "source": [
    "tss_reference_file = \"/gpfs/Labs/Uzun/SCRIPTS/PROJECTS/2024.SINGLE_CELL_GRN_INFERENCE.MOELLER/data/genome_annotation/mm10/mm10_TSS.bed\"\n",
    "homer_results = \"/gpfs/Labs/Uzun/SCRIPTS/PROJECTS/2024.SINGLE_CELL_GRN_INFERENCE.MOELLER/output/chipseq_homer/homer_tf_to_peak.parquet\"\n",
    "\n",
    "def read_ground_truth(ground_truth_file):\n",
    "    ground_truth = pd.read_csv(ground_truth_file, sep='\\t', quoting=csv.QUOTE_NONE, on_bad_lines='skip', header=0)\n",
    "    ground_truth = ground_truth.rename(columns={\"Source\": \"source_id\", \"Target\": \"target_id\"})\n",
    "    return ground_truth"
   ]
  },
  {
   "cell_type": "markdown",
   "id": "60180c33",
   "metadata": {},
   "source": [
    "We need to convert the peaks to a bed file"
   ]
  },
  {
   "cell_type": "code",
   "execution_count": null,
   "id": "34848128",
   "metadata": {},
   "outputs": [],
   "source": [
    "homer_df = pd.read_parquet(homer_results, engine=\"pyarrow\").reset_index(drop=True)\n",
    "homer_df"
   ]
  },
  {
   "cell_type": "code",
   "execution_count": null,
   "id": "6d00a8c5",
   "metadata": {},
   "outputs": [],
   "source": [
    "# Assume df is your DataFrame\n",
    "homer_df[[\"chrom\", \"start_end\"]] = homer_df[\"peak_id\"].str.split(\":\", expand=True)\n",
    "homer_df[[\"start\", \"end\"]] = homer_df[\"start_end\"].str.split(\"-\", expand=True)\n",
    "\n",
    "# Convert start and end to integers (BED format requires numeric positions)\n",
    "homer_df[\"start\"] = homer_df[\"start\"].astype(int)\n",
    "homer_df[\"end\"] = homer_df[\"end\"].astype(int)\n",
    "\n",
    "# Select and reorder columns for BED format\n",
    "homer_bed_df = homer_df[[\"chrom\", \"start\", \"end\", \"source_id\", \"homer_binding_score\"]]\n",
    "bed_string = homer_bed_df.to_csv(sep=\"\\t\", header=False, index=False)\n",
    "homer_bed_df.head()"
   ]
  },
  {
   "cell_type": "code",
   "execution_count": null,
   "id": "7233bad3",
   "metadata": {},
   "outputs": [],
   "source": [
    "homer_bed = pybedtools.BedTool(bed_string, from_string=True)\n",
    "nearest_tss_bed = pybedtools.BedTool(tss_reference_file)"
   ]
  },
  {
   "cell_type": "code",
   "execution_count": null,
   "id": "63175465",
   "metadata": {},
   "outputs": [],
   "source": [
    "# Ensure both BedTool objects are sorted\n",
    "homer_bed_sorted = homer_bed.sort()\n",
    "nearest_tss_bed_sorted = nearest_tss_bed.sort()\n",
    "\n",
    "# Now run closest\n",
    "homer_closest_tss = homer_bed_sorted.closest(nearest_tss_bed_sorted, d=True)"
   ]
  },
  {
   "cell_type": "code",
   "execution_count": null,
   "id": "d36f2310",
   "metadata": {},
   "outputs": [],
   "source": [
    "raw_homer_closest_tss_df = homer_closest_tss.to_dataframe(\n",
    "    names=[\"peak_start\", \"peak_end\", \"source_id\",\n",
    "           \"homer_binding_score\", \"tss_chr\", \"tss_start\", \"tss_end\", \"target_id\", \"strand\", \"strand2\", \"distance\"]\n",
    ")\n",
    "raw_homer_closest_tss_df.head()"
   ]
  },
  {
   "cell_type": "code",
   "execution_count": null,
   "id": "6a01ddf4",
   "metadata": {},
   "outputs": [],
   "source": [
    "ground_truth_file = \"/gpfs/Labs/Uzun/DATA/PROJECTS/2024.SC_MO_TRN_DB.MIRA/REPOSITORY/CURRENT/REFERENCE_NETWORKS/RN111_ChIPSeq_BEELINE_Mouse_ESC.tsv\"\n",
    "ground_truth_df = read_ground_truth(ground_truth_file)"
   ]
  },
  {
   "cell_type": "code",
   "execution_count": null,
   "id": "0124c010",
   "metadata": {},
   "outputs": [],
   "source": [
    "raw_homer_closest_tss_df[\"source_id\"] = raw_homer_closest_tss_df[\"source_id\"].str.upper()\n",
    "raw_homer_closest_tss_df[\"target_id\"] = raw_homer_closest_tss_df[\"target_id\"].str.upper()\n",
    "\n",
    "homer_closest_tss_df = raw_homer_closest_tss_df[[\"source_id\", \"target_id\", \"homer_binding_score\", \"distance\"]]\n",
    "homer_closest_tss_df"
   ]
  },
  {
   "cell_type": "code",
   "execution_count": null,
   "id": "ae2216f4",
   "metadata": {},
   "outputs": [],
   "source": [
    "valid_targets = set(homer_closest_tss_df[\"target_id\"]) & set(ground_truth_df[\"target_id\"])\n",
    "valid_sources = set(homer_closest_tss_df[\"source_id\"]) & set(ground_truth_df[\"source_id\"])\n",
    "\n",
    "homer_shared_genes = homer_closest_tss_df[\n",
    "    homer_closest_tss_df[\"source_id\"].isin(valid_sources) &\n",
    "    homer_closest_tss_df[\"target_id\"].isin(valid_targets)\n",
    "]\n",
    "\n",
    "ground_truth_shared_genes = ground_truth_df[\n",
    "    ground_truth_df[\"source_id\"].isin(valid_sources) &\n",
    "    ground_truth_df[\"target_id\"].isin(valid_targets)\n",
    "]"
   ]
  },
  {
   "cell_type": "code",
   "execution_count": null,
   "id": "a59beed0",
   "metadata": {},
   "outputs": [],
   "source": [
    "merged_df = pd.merge(\n",
    "    homer_shared_genes, \n",
    "    ground_truth_shared_genes, \n",
    "    on=[\"source_id\", \"target_id\"], \n",
    "    how=\"outer\", \n",
    "    indicator=True\n",
    "    ).convert_dtypes(convert_floating=True).drop_duplicates(subset=[\"source_id\", \"target_id\"])\n",
    "merged_df"
   ]
  },
  {
   "cell_type": "code",
   "execution_count": null,
   "id": "afa93d90",
   "metadata": {},
   "outputs": [],
   "source": [
    "only_in_ground_truth = merged_df[merged_df[\"_merge\"] == \"right_only\"]\n",
    "only_in_homer = merged_df[merged_df[\"_merge\"] == \"left_only\"]\n",
    "in_both = merged_df[merged_df[\"_merge\"] == \"both\"]"
   ]
  },
  {
   "cell_type": "code",
   "execution_count": null,
   "id": "04153eca",
   "metadata": {},
   "outputs": [],
   "source": [
    "def clean_data(df):\n",
    "    df = df.drop(columns=['distance', 'Relationship', '_merge'])\n",
    "    # Performed 1 aggregation grouped on column: 'chip_gene'\n",
    "    df = df.groupby(['source_id', 'target_id']).agg(homer_binding_score_mean=('homer_binding_score', 'mean')).reset_index()\n",
    "    # Sort by column: 'homer_binding_score_mean' (descending)\n",
    "    df = df.sort_values(['homer_binding_score_mean'], ascending=[False])\n",
    "    return df\n",
    "\n",
    "in_both_clean = clean_data(in_both).rename(columns={'homer_binding_score_mean': 'Correct TF Binding Prediction'})\n",
    "in_both_clean"
   ]
  },
  {
   "cell_type": "code",
   "execution_count": null,
   "id": "d6666485",
   "metadata": {},
   "outputs": [],
   "source": [
    "only_in_homer_clean = clean_data(only_in_homer).rename(columns={'homer_binding_score_mean': 'TF Predictions Not in Ground Truth'})\n",
    "only_in_homer_clean"
   ]
  },
  {
   "cell_type": "code",
   "execution_count": null,
   "id": "8a9d562e",
   "metadata": {},
   "outputs": [],
   "source": [
    "pred_df = pd.merge(in_both_clean, only_in_homer_clean, on=[\"source_id\", \"target_id\"], how=\"outer\")\n",
    "pred_df"
   ]
  },
  {
   "cell_type": "code",
   "execution_count": null,
   "id": "44101450",
   "metadata": {},
   "outputs": [],
   "source": [
    "import matplotlib.pyplot as plt\n",
    "import seaborn as sns\n",
    "\n",
    "fig = plt.Figure()\n",
    "a = sns.boxplot(data=pred_df, showfliers=False)\n",
    "a.set_ylabel(\"Homer Binding Score\")\n",
    "a.set_title(\"Homer Binding Scores for ChIP-seq TF Binding Predictions\")"
   ]
  },
  {
   "cell_type": "code",
   "execution_count": null,
   "id": "5008fb30",
   "metadata": {},
   "outputs": [],
   "source": [
    "plt.figure(figsize=(10,8))\n",
    "plt.hist(\n",
    "    pred_df[\"Correct TF Binding Prediction\"],\n",
    "    bins=150,\n",
    "    alpha=0.7,\n",
    "    color='#4195df',\n",
    "    label=\"Correct TF Binding Predictions\"\n",
    ")\n",
    "plt.hist(\n",
    "    pred_df[\"TF Predictions Not in Ground Truth\"],\n",
    "    bins=150,\n",
    "    alpha=0.7,\n",
    "    color='#dc8634',\n",
    "    label=\"TF Predictions Not in Ground Truth\"\n",
    ")\n",
    "plt.title(\"Homer Binding Scores for ChIP-seq TF Binding Predictions\", fontsize=16)\n",
    "plt.xlabel(\"Homer Binding Score\", fontsize=14)\n",
    "plt.ylabel(\"Frequency\", fontsize=14)\n",
    "plt.xticks(fontsize=12)\n",
    "plt.yticks(fontsize=12)\n",
    "plt.legend(bbox_to_anchor=(1.05, 1), loc='upper left', borderaxespad=0., fontsize=14)\n"
   ]
  }
 ],
 "metadata": {
  "kernelspec": {
   "display_name": "my_env",
   "language": "python",
   "name": "my_env"
  },
  "language_info": {
   "codemirror_mode": {
    "name": "ipython",
    "version": 3
   },
   "file_extension": ".py",
   "mimetype": "text/x-python",
   "name": "python",
   "nbconvert_exporter": "python",
   "pygments_lexer": "ipython3",
   "version": "3.9.18"
  }
 },
 "nbformat": 4,
 "nbformat_minor": 5
}
