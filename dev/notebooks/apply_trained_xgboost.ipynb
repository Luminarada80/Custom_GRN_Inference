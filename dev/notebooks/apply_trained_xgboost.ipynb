{
 "cells": [
  {
   "cell_type": "code",
   "execution_count": null,
   "id": "54f4512a-02da-46a1-92bb-78617ae07f43",
   "metadata": {},
   "outputs": [
    {
     "name": "stderr",
     "output_type": "stream",
     "text": [
      "usage: ipykernel_launcher.py [-h] --output_dir OUTPUT_DIR --model MODEL\n",
      "                             --target TARGET --save_name SAVE_NAME\n",
      "ipykernel_launcher.py: error: the following arguments are required: --output_dir, --model, --target, --save_name\n"
     ]
    },
    {
     "ename": "SystemExit",
     "evalue": "2",
     "output_type": "error",
     "traceback": [
      "An exception has occurred, use %tb to see the full traceback.\n",
      "\u001b[0;31mSystemExit\u001b[0m\u001b[0;31m:\u001b[0m 2\n"
     ]
    },
    {
     "name": "stderr",
     "output_type": "stream",
     "text": [
      "/gpfs/Home/esm5360/.conda/envs/my_env/lib/python3.9/site-packages/IPython/core/interactiveshell.py:3558: UserWarning: To exit: use 'exit', 'quit', or Ctrl-D.\n",
      "  warn(\"To exit: use 'exit', 'quit', or Ctrl-D.\", stacklevel=1)\n"
     ]
    }
   ],
   "source": [
    "import dask.dataframe as dd\n",
    "from dask.distributed import Client\n",
    "import xgboost as xgb\n",
    "import pandas as pd\n",
    "import os\n",
    "import logging\n",
    "import argparse\n",
    "\n",
    "def parse_args() -> argparse.Namespace:\n",
    "    parser = argparse.ArgumentParser(description=\"Apply Dask-trained XGBoost model to a new network\")\n",
    "    parser.add_argument(\"--output_dir\", type=str, required=True, help=\"Directory to save predictions\")\n",
    "    parser.add_argument(\"--model\", type=str, required=True, help=\"Path to trained XGBoost .json Booster model\")\n",
    "    parser.add_argument(\"--target\", type=str, required=True, help=\"Path to .parquet file for inference\")\n",
    "    parser.add_argument(\"--save_name\", type=str, required=True, help=\"Filename for output\")\n",
    "    return parser.parse_args()\n",
    "\n",
    "def read_inferred_network(inferred_network_file: str) -> dd.DataFrame:\n",
    "    \"\"\"\n",
    "    Loads a melted sparse inferred network from Parquet and pivots it into a Dask DataFrame\n",
    "    where each row is (source_id, target_id) and columns are score_types (mean-aggregated).\n",
    "    \"\"\"\n",
    "    logging.info(f\"Loading melted sparse network from: {inferred_network_file}\")\n",
    "    melted_ddf = dd.read_parquet(inferred_network_file, engine=\"pyarrow\")\n",
    "\n",
    "    # Standardize IDs\n",
    "    melted_ddf[\"source_id\"] = melted_ddf[\"source_id\"].str.upper()\n",
    "    melted_ddf[\"target_id\"] = melted_ddf[\"target_id\"].str.upper()\n",
    "\n",
    "    # Aggregate scores\n",
    "    grouped_ddf = (\n",
    "        melted_ddf\n",
    "        .groupby([\"source_id\", \"peak_id\", \"target_id\", \"score_type\"])[\"score_value\"]\n",
    "        .mean()\n",
    "        .reset_index()\n",
    "    )\n",
    "\n",
    "    # Pivot manually by converting to pandas (if dataset is small enough)\n",
    "    def pivot_partition(df):\n",
    "        return df.pivot_table(\n",
    "            index=[\"source_id\", \"peak_id\", \"target_id\"],\n",
    "            columns=\"score_type\",\n",
    "            values=\"score_value\",\n",
    "            aggfunc=\"first\"\n",
    "        ).reset_index()\n",
    "\n",
    "    # Apply pivot in a single partition (best if you've already aggregated)\n",
    "    pivot_df = grouped_ddf.compute()  # convert to Pandas here\n",
    "    pivot_df = pivot_partition(pivot_df)\n",
    "    return dd.from_pandas(pivot_df, npartitions=1)\n",
    "\n",
    "def main():\n",
    "    args = parse_args()\n",
    "\n",
    "    model_path = args.model\n",
    "    target_path = args.target\n",
    "    output_dir = args.output_dir\n",
    "    save_name = args.save_name\n",
    "\n",
    "    logging.info(\"Loading XGBoost Booster\")\n",
    "    booster = xgb.Booster()\n",
    "    booster.load_model(model_path)\n",
    "\n",
    "    logging.info(\"Reading inferred network\")\n",
    "    inferred_dd = read_inferred_network(target_path)\n",
    "    \n",
    "    feature_names = booster.feature_names\n",
    "    \n",
    "    X_dd = inferred_dd[feature_names]\n",
    "\n",
    "    logging.info(\"Converting to DaskDMatrix\")\n",
    "    client = Client()\n",
    "    dtest = xgb.dask.DaskDMatrix(data=X_dd, feature_names=feature_names, client=client)\n",
    "\n",
    "    logging.info(\"Running distributed prediction\")\n",
    "    y_pred = xgb.dask.predict(client=client, model=booster, data=dtest)\n",
    "\n",
    "    # Convert to pandas (merging Dask DataFrame + Dask array)\n",
    "    logging.info(\"Joining predictions back to source-target pairs\")\n",
    "    result_df = inferred_dd[[\"source_id\", \"peak_id\", \"target_id\"]].compute()\n",
    "    result_df[\"score\"] = y_pred.compute()\n",
    "    result_df = result_df.drop_duplicates()\n",
    "\n",
    "    if not os.path.exists(output_dir):\n",
    "        os.makedirs(output_dir)\n",
    "\n",
    "    output_path = os.path.join(output_dir, save_name)\n",
    "    logging.info(f\"Saving to {output_path}\")\n",
    "    result_df.to_csv(output_path, sep=\"\\t\", index=False)\n",
    "    logging.info(\"Done!\")\n",
    "\n",
    "if __name__ == \"__main__\":\n",
    "    logging.basicConfig(level=logging.INFO, format=\"%(message)s\")\n",
    "    main()"
   ]
  },
  {
   "cell_type": "code",
   "execution_count": null,
   "metadata": {},
   "outputs": [],
   "source": [
    "import dask.dataframe as dd\n",
    "from dask.distributed import Client\n",
    "import xgboost as xgb\n",
    "import pandas as pd\n",
    "import os\n",
    "import logging\n",
    "import argparse\n",
    "\n",
    "def read_inferred_network(inferred_network_file: str) -> dd.DataFrame:\n",
    "    \"\"\"\n",
    "    Loads a melted sparse inferred network from Parquet and pivots it into a Dask DataFrame\n",
    "    where each row is (source_id, target_id) and columns are score_types (mean-aggregated).\n",
    "    \"\"\"\n",
    "    logging.info(f\"Loading melted sparse network from: {inferred_network_file}\")\n",
    "    melted_ddf = dd.read_parquet(inferred_network_file, engine=\"pyarrow\")\n",
    "\n",
    "    # Standardize IDs\n",
    "    melted_ddf[\"source_id\"] = melted_ddf[\"source_id\"].str.upper()\n",
    "    melted_ddf[\"target_id\"] = melted_ddf[\"target_id\"].str.upper()\n",
    "\n",
    "    # Aggregate scores\n",
    "    grouped_ddf = (\n",
    "        melted_ddf\n",
    "        .groupby([\"source_id\", \"peak_id\", \"target_id\", \"score_type\"])[\"score_value\"]\n",
    "        .mean()\n",
    "        .reset_index()\n",
    "    )\n",
    "\n",
    "    # Pivot manually by converting to pandas (if dataset is small enough)\n",
    "    def pivot_partition(df):\n",
    "        return df.pivot_table(\n",
    "            index=[\"source_id\", \"peak_id\", \"target_id\"],\n",
    "            columns=\"score_type\",\n",
    "            values=\"score_value\",\n",
    "            aggfunc=\"first\"\n",
    "        ).reset_index()\n",
    "\n",
    "    # Apply pivot in a single partition (best if you've already aggregated)\n",
    "    pivot_df = grouped_ddf.compute()  # convert to Pandas here\n",
    "    pivot_df = pivot_partition(pivot_df)\n",
    "    return dd.from_pandas(pivot_df, npartitions=1)\n",
    "\n",
    "model_path = \"/gpfs/Labs/Uzun/SCRIPTS/PROJECTS/2024.SINGLE_CELL_GRN_INFERENCE.MOELLER/output/DS011_mESC/DS011_mESC_sample1_old/trained_models/xgb_DS011_mESC_sample1_old_model.json\"\n",
    "target_path = \"/gpfs/Labs/Uzun/SCRIPTS/PROJECTS/2024.SINGLE_CELL_GRN_INFERENCE.MOELLER/output/mESC/filtered_L2_E7.5_rep2_old/inferred_grns/inferred_score_df.parquet\"\n",
    "output_dir = \"/gpfs/Labs/Uzun/SCRIPTS/PROJECTS/2024.SINGLE_CELL_GRN_INFERENCE.MOELLER/output/DS011_mESC/DS011_mESC_sample1_old/model_predictions\"\n",
    "save_name = \"testing_aggregation_predictions.tsv\"\n"
   ]
  },
  {
   "cell_type": "code",
   "execution_count": null,
   "metadata": {},
   "outputs": [
    {
     "name": "stderr",
     "output_type": "stream",
     "text": [
      "Loading XGBoost Booster\n"
     ]
    }
   ],
   "source": [
    "logging.info(\"Loading XGBoost Booster\")\n",
    "booster = xgb.Booster()\n",
    "booster.load_model(model_path)"
   ]
  },
  {
   "cell_type": "code",
   "execution_count": null,
   "metadata": {},
   "outputs": [
    {
     "name": "stderr",
     "output_type": "stream",
     "text": [
      "Reading inferred network\n",
      "Loading melted sparse network from: /gpfs/Labs/Uzun/SCRIPTS/PROJECTS/2024.SINGLE_CELL_GRN_INFERENCE.MOELLER/output/mESC/filtered_L2_E7.5_rep2_old/inferred_grns/inferred_score_df.parquet\n",
      "Loading melted sparse network from: /gpfs/Labs/Uzun/SCRIPTS/PROJECTS/2024.SINGLE_CELL_GRN_INFERENCE.MOELLER/output/mESC/filtered_L2_E7.5_rep2_old/inferred_grns/inferred_score_df.parquet\n"
     ]
    }
   ],
   "source": [
    "logging.info(\"Reading inferred network\")\n",
    "inferred_dd = read_inferred_network(target_path)"
   ]
  },
  {
   "cell_type": "code",
   "execution_count": null,
   "metadata": {},
   "outputs": [],
   "source": [
    "feature_names = booster.feature_names"
   ]
  },
  {
   "cell_type": "code",
   "execution_count": null,
   "metadata": {},
   "outputs": [
    {
     "data": {
      "text/plain": [
       "['mean_TF_expression',\n",
       " 'mean_peak_accessibility',\n",
       " 'mean_TG_expression',\n",
       " 'cicero_score',\n",
       " 'TSS_dist_score',\n",
       " 'correlation',\n",
       " 'homer_binding_score',\n",
       " 'sliding_window_score',\n",
       " 'string_combined_score',\n",
       " 'string_experimental_score',\n",
       " 'string_textmining_score']"
      ]
     },
     "execution_count": 6,
     "metadata": {},
     "output_type": "execute_result"
    }
   ],
   "source": [
    "feature_names"
   ]
  },
  {
   "cell_type": "code",
   "execution_count": null,
   "metadata": {},
   "outputs": [],
   "source": [
    "X_dd = inferred_dd[feature_names]"
   ]
  },
  {
   "cell_type": "code",
   "execution_count": null,
   "metadata": {},
   "outputs": [
    {
     "name": "stderr",
     "output_type": "stream",
     "text": [
      "Converting to DaskDMatrix\n",
      "/gpfs/Home/esm5360/.conda/envs/my_env/lib/python3.9/site-packages/distributed/client.py:3362: UserWarning: Sending large graph of size 747.48 MiB.\n",
      "This may cause some slowdown.\n",
      "Consider loading the data with Dask directly\n",
      " or using futures or delayed objects to embed the data into the graph without repetition.\n",
      "See also https://docs.dask.org/en/stable/best-practices.html#load-data-with-dask for more information.\n",
      "  warnings.warn(\n"
     ]
    },
    {
     "name": "stderr",
     "output_type": "stream",
     "text": [
      "2025-06-06 15:06:28,762 - distributed.scheduler - WARNING - Removing worker 'tcp://127.0.0.1:32971' caused the cluster to lose already computed task(s), which will be recomputed elsewhere: {'dict-e203242b-90e0-4185-90a9-3f11fef8e217', 'dispatched_predict-7094700feb9f92b5456b23fda250cf16'} (stimulus_id='handle-worker-cleanup-1749236788.7620797')\n"
     ]
    }
   ],
   "source": [
    "logging.info(\"Converting to DaskDMatrix\")\n",
    "client = Client()\n",
    "dtest = xgb.dask.DaskDMatrix(data=X_dd, feature_names=feature_names, client=client)"
   ]
  },
  {
   "cell_type": "code",
   "execution_count": null,
   "metadata": {},
   "outputs": [
    {
     "name": "stderr",
     "output_type": "stream",
     "text": [
      "Running distributed prediction\n"
     ]
    }
   ],
   "source": [
    "logging.info(\"Running distributed prediction\")\n",
    "y_pred = xgb.dask.predict(client=client, model=booster, data=dtest)"
   ]
  },
  {
   "cell_type": "code",
   "execution_count": null,
   "metadata": {},
   "outputs": [
    {
     "data": {
      "text/html": [
       "<table>\n",
       "    <tr>\n",
       "        <td>\n",
       "            <table style=\"border-collapse: collapse;\">\n",
       "                <thead>\n",
       "                    <tr>\n",
       "                        <td> </td>\n",
       "                        <th> Array </th>\n",
       "                        <th> Chunk </th>\n",
       "                    </tr>\n",
       "                </thead>\n",
       "                <tbody>\n",
       "                    \n",
       "                    <tr>\n",
       "                        <th> Bytes </th>\n",
       "                        <td> 20.68 MiB </td>\n",
       "                        <td> 20.68 MiB </td>\n",
       "                    </tr>\n",
       "                    \n",
       "                    <tr>\n",
       "                        <th> Shape </th>\n",
       "                        <td> (5420215,) </td>\n",
       "                        <td> (5420215,) </td>\n",
       "                    </tr>\n",
       "                    <tr>\n",
       "                        <th> Dask graph </th>\n",
       "                        <td colspan=\"2\"> 1 chunks in 2 graph layers </td>\n",
       "                    </tr>\n",
       "                    <tr>\n",
       "                        <th> Data type </th>\n",
       "                        <td colspan=\"2\"> float32 numpy.ndarray </td>\n",
       "                    </tr>\n",
       "                </tbody>\n",
       "            </table>\n",
       "        </td>\n",
       "        <td>\n",
       "        <svg width=\"170\" height=\"75\" style=\"stroke:rgb(0,0,0);stroke-width:1\" >\n",
       "\n",
       "  <!-- Horizontal lines -->\n",
       "  <line x1=\"0\" y1=\"0\" x2=\"120\" y2=\"0\" style=\"stroke-width:2\" />\n",
       "  <line x1=\"0\" y1=\"25\" x2=\"120\" y2=\"25\" style=\"stroke-width:2\" />\n",
       "\n",
       "  <!-- Vertical lines -->\n",
       "  <line x1=\"0\" y1=\"0\" x2=\"0\" y2=\"25\" style=\"stroke-width:2\" />\n",
       "  <line x1=\"120\" y1=\"0\" x2=\"120\" y2=\"25\" style=\"stroke-width:2\" />\n",
       "\n",
       "  <!-- Colored Rectangle -->\n",
       "  <polygon points=\"0.0,0.0 120.0,0.0 120.0,25.412616514582485 0.0,25.412616514582485\" style=\"fill:#ECB172A0;stroke-width:0\"/>\n",
       "\n",
       "  <!-- Text -->\n",
       "  <text x=\"60.000000\" y=\"45.412617\" font-size=\"1.0rem\" font-weight=\"100\" text-anchor=\"middle\" >5420215</text>\n",
       "  <text x=\"140.000000\" y=\"12.706308\" font-size=\"1.0rem\" font-weight=\"100\" text-anchor=\"middle\" transform=\"rotate(0,140.000000,12.706308)\">1</text>\n",
       "</svg>\n",
       "        </td>\n",
       "    </tr>\n",
       "</table>"
      ],
      "text/plain": [
       "dask.array<from-value, shape=(5420215,), dtype=float32, chunksize=(5420215,), chunktype=numpy.ndarray>"
      ]
     },
     "execution_count": 10,
     "metadata": {},
     "output_type": "execute_result"
    }
   ],
   "source": [
    "y_pred"
   ]
  },
  {
   "cell_type": "code",
   "execution_count": null,
   "metadata": {},
   "outputs": [
    {
     "name": "stderr",
     "output_type": "stream",
     "text": [
      "Joining predictions back to source-target pairs\n",
      "/gpfs/Home/esm5360/.conda/envs/my_env/lib/python3.9/site-packages/distributed/client.py:3362: UserWarning: Sending large graph of size 292.60 MiB.\n",
      "This may cause some slowdown.\n",
      "Consider loading the data with Dask directly\n",
      " or using futures or delayed objects to embed the data into the graph without repetition.\n",
      "See also https://docs.dask.org/en/stable/best-practices.html#load-data-with-dask for more information.\n",
      "  warnings.warn(\n"
     ]
    }
   ],
   "source": [
    "# Convert to pandas (merging Dask DataFrame + Dask array)\n",
    "logging.info(\"Joining predictions back to source-target pairs\")\n",
    "result_df = inferred_dd[[\"source_id\", \"peak_id\", \"target_id\"]].compute()\n",
    "result_df[\"score\"] = y_pred.compute()\n",
    "result_df = result_df.drop_duplicates()"
   ]
  },
  {
   "cell_type": "code",
   "execution_count": null,
   "metadata": {},
   "outputs": [
    {
     "data": {
      "application/vnd.microsoft.datawrangler.viewer.v0+json": {
       "columns": [
        {
         "name": "index",
         "rawType": "int64",
         "type": "integer"
        },
        {
         "name": "source_id",
         "rawType": "string",
         "type": "string"
        },
        {
         "name": "peak_id",
         "rawType": "string",
         "type": "string"
        },
        {
         "name": "target_id",
         "rawType": "string",
         "type": "string"
        },
        {
         "name": "score",
         "rawType": "float32",
         "type": "float"
        }
       ],
       "ref": "69d91459-72b2-4479-841f-863edabc6a66",
       "rows": [
        [
         "0",
         "AHCTF1",
         "chr10:110317230-110317830",
         "NAP1L1",
         "0.12505205"
        ],
        [
         "1",
         "AHCTF1",
         "chr10:110534362-110534962",
         "NAP1L1",
         "0.14226116"
        ],
        [
         "2",
         "AHCTF1",
         "chr10:110600132-110600732",
         "NAP1L1",
         "0.15363993"
        ],
        [
         "3",
         "AHCTF1",
         "chr10:110782584-110783184",
         "NAP1L1",
         "0.12505205"
        ],
        [
         "4",
         "AHCTF1",
         "chr10:110794392-110794992",
         "NAP1L1",
         "0.15363993"
        ],
        [
         "5",
         "AHCTF1",
         "chr10:110899604-110900204",
         "NAP1L1",
         "0.13527143"
        ],
        [
         "6",
         "AHCTF1",
         "chr10:111031276-111031876",
         "NAP1L1",
         "0.14226116"
        ],
        [
         "7",
         "AHCTF1",
         "chr10:111205799-111206399",
         "NAP1L1",
         "0.15588541"
        ],
        [
         "8",
         "AHCTF1",
         "chr10:111298279-111298879",
         "NAP1L1",
         "0.056261368"
        ],
        [
         "9",
         "AHCTF1",
         "chr10:111317872-111318472",
         "NAP1L1",
         "0.14226116"
        ],
        [
         "10",
         "AHCTF1",
         "chr10:111867446-111868046",
         "NAP1L1",
         "0.15588541"
        ],
        [
         "11",
         "AHCTF1",
         "chr10:111897203-111897803",
         "NAP1L1",
         "0.15588541"
        ],
        [
         "12",
         "AHCTF1",
         "chr10:111936817-111937417",
         "NAP1L1",
         "0.14226116"
        ],
        [
         "13",
         "AHCTF1",
         "chr10:112059864-112060464",
         "NAP1L1",
         "0.13527143"
        ],
        [
         "14",
         "AHCTF1",
         "chr10:112105688-112106288",
         "NAP1L1",
         "0.14226116"
        ],
        [
         "15",
         "AHCTF1",
         "chr10:112228971-112229571",
         "NAP1L1",
         "0.15588541"
        ],
        [
         "16",
         "AHCTF1",
         "chr10:116104947-116105547",
         "ZFC3H1",
         "0.12199766"
        ],
        [
         "17",
         "AHCTF1",
         "chr10:116418020-116418620",
         "CPSF6",
         "0.087333925"
        ],
        [
         "18",
         "AHCTF1",
         "chr10:116534203-116534803",
         "CPSF6",
         "0.14970534"
        ],
        [
         "19",
         "AHCTF1",
         "chr10:116697730-116698330",
         "CPSF6",
         "0.14970534"
        ],
        [
         "20",
         "AHCTF1",
         "chr10:116697730-116698330",
         "NUP107",
         "0.20053929"
        ],
        [
         "21",
         "AHCTF1",
         "chr10:116714895-116715495",
         "CPSF6",
         "0.13173403"
        ],
        [
         "22",
         "AHCTF1",
         "chr10:116714895-116715495",
         "NUP107",
         "0.20053929"
        ],
        [
         "23",
         "AHCTF1",
         "chr10:116827926-116828526",
         "CPSF6",
         "0.13173403"
        ],
        [
         "24",
         "AHCTF1",
         "chr10:116827926-116828526",
         "NUP107",
         "0.20053929"
        ],
        [
         "25",
         "AHCTF1",
         "chr10:116890506-116891106",
         "CPSF6",
         "0.13173403"
        ],
        [
         "26",
         "AHCTF1",
         "chr10:116890506-116891106",
         "NUP107",
         "0.20053929"
        ],
        [
         "27",
         "AHCTF1",
         "chr10:117078199-117078799",
         "CPSF6",
         "0.13173403"
        ],
        [
         "28",
         "AHCTF1",
         "chr10:117078199-117078799",
         "NUP107",
         "0.20053929"
        ],
        [
         "29",
         "AHCTF1",
         "chr10:117259819-117260419",
         "CPSF6",
         "0.13173403"
        ],
        [
         "30",
         "AHCTF1",
         "chr10:117259819-117260419",
         "NUP107",
         "0.16349687"
        ],
        [
         "31",
         "AHCTF1",
         "chr10:117284963-117285563",
         "CPSF6",
         "0.13173403"
        ],
        [
         "32",
         "AHCTF1",
         "chr10:117284963-117285563",
         "NUP107",
         "0.20053929"
        ],
        [
         "33",
         "AHCTF1",
         "chr10:117342305-117342905",
         "CPSF6",
         "0.14970534"
        ],
        [
         "34",
         "AHCTF1",
         "chr10:117342305-117342905",
         "NUP107",
         "0.21832424"
        ],
        [
         "35",
         "AHCTF1",
         "chr10:117362984-117363584",
         "CPSF6",
         "0.1475665"
        ],
        [
         "36",
         "AHCTF1",
         "chr10:117362984-117363584",
         "NUP107",
         "0.21832424"
        ],
        [
         "37",
         "AHCTF1",
         "chr10:117775669-117776269",
         "CPSF6",
         "0.13173403"
        ],
        [
         "38",
         "AHCTF1",
         "chr10:117775669-117776269",
         "NUP107",
         "0.20053929"
        ],
        [
         "39",
         "AHCTF1",
         "chr10:118159613-118160213",
         "CPSF6",
         "0.13173403"
        ],
        [
         "40",
         "AHCTF1",
         "chr10:118159613-118160213",
         "NUP107",
         "0.20053929"
        ],
        [
         "41",
         "AHCTF1",
         "chr10:119326823-119327423",
         "HMGA2",
         "0.12890173"
        ],
        [
         "42",
         "AHCTF1",
         "chr10:119367408-119368008",
         "HMGA2",
         "0.12890173"
        ],
        [
         "43",
         "AHCTF1",
         "chr10:119660599-119661199",
         "HMGA2",
         "0.12890173"
        ],
        [
         "44",
         "AHCTF1",
         "chr10:119705260-119705860",
         "HMGA2",
         "0.12890173"
        ],
        [
         "45",
         "AHCTF1",
         "chr10:119716258-119716858",
         "HMGA2",
         "0.12890173"
        ],
        [
         "46",
         "AHCTF1",
         "chr10:119839693-119840293",
         "HMGA2",
         "0.09978695"
        ],
        [
         "47",
         "AHCTF1",
         "chr10:119839693-119840293",
         "LEMD3",
         "0.077733755"
        ],
        [
         "48",
         "AHCTF1",
         "chr10:119878281-119878881",
         "HMGA2",
         "0.12418676"
        ],
        [
         "49",
         "AHCTF1",
         "chr10:119878281-119878881",
         "LEMD3",
         "0.13013569"
        ]
       ],
       "shape": {
        "columns": 4,
        "rows": 5420215
       }
      },
      "text/html": [
       "<div>\n",
       "<style scoped>\n",
       "    .dataframe tbody tr th:only-of-type {\n",
       "        vertical-align: middle;\n",
       "    }\n",
       "\n",
       "    .dataframe tbody tr th {\n",
       "        vertical-align: top;\n",
       "    }\n",
       "\n",
       "    .dataframe thead th {\n",
       "        text-align: right;\n",
       "    }\n",
       "</style>\n",
       "<table border=\"1\" class=\"dataframe\">\n",
       "  <thead>\n",
       "    <tr style=\"text-align: right;\">\n",
       "      <th>score_type</th>\n",
       "      <th>source_id</th>\n",
       "      <th>peak_id</th>\n",
       "      <th>target_id</th>\n",
       "      <th>score</th>\n",
       "    </tr>\n",
       "  </thead>\n",
       "  <tbody>\n",
       "    <tr>\n",
       "      <th>0</th>\n",
       "      <td>AHCTF1</td>\n",
       "      <td>chr10:110317230-110317830</td>\n",
       "      <td>NAP1L1</td>\n",
       "      <td>0.125052</td>\n",
       "    </tr>\n",
       "    <tr>\n",
       "      <th>1</th>\n",
       "      <td>AHCTF1</td>\n",
       "      <td>chr10:110534362-110534962</td>\n",
       "      <td>NAP1L1</td>\n",
       "      <td>0.142261</td>\n",
       "    </tr>\n",
       "    <tr>\n",
       "      <th>2</th>\n",
       "      <td>AHCTF1</td>\n",
       "      <td>chr10:110600132-110600732</td>\n",
       "      <td>NAP1L1</td>\n",
       "      <td>0.153640</td>\n",
       "    </tr>\n",
       "    <tr>\n",
       "      <th>3</th>\n",
       "      <td>AHCTF1</td>\n",
       "      <td>chr10:110782584-110783184</td>\n",
       "      <td>NAP1L1</td>\n",
       "      <td>0.125052</td>\n",
       "    </tr>\n",
       "    <tr>\n",
       "      <th>4</th>\n",
       "      <td>AHCTF1</td>\n",
       "      <td>chr10:110794392-110794992</td>\n",
       "      <td>NAP1L1</td>\n",
       "      <td>0.153640</td>\n",
       "    </tr>\n",
       "    <tr>\n",
       "      <th>...</th>\n",
       "      <td>...</td>\n",
       "      <td>...</td>\n",
       "      <td>...</td>\n",
       "      <td>...</td>\n",
       "    </tr>\n",
       "    <tr>\n",
       "      <th>5420210</th>\n",
       "      <td>ZZZ3</td>\n",
       "      <td>chrX:99853079-99853679</td>\n",
       "      <td>OGT</td>\n",
       "      <td>0.535019</td>\n",
       "    </tr>\n",
       "    <tr>\n",
       "      <th>5420211</th>\n",
       "      <td>ZZZ3</td>\n",
       "      <td>chrX:99853079-99853679</td>\n",
       "      <td>TAF1</td>\n",
       "      <td>0.513381</td>\n",
       "    </tr>\n",
       "    <tr>\n",
       "      <th>5420212</th>\n",
       "      <td>ZZZ3</td>\n",
       "      <td>chrX:99959435-99960035</td>\n",
       "      <td>OGT</td>\n",
       "      <td>0.451607</td>\n",
       "    </tr>\n",
       "    <tr>\n",
       "      <th>5420213</th>\n",
       "      <td>ZZZ3</td>\n",
       "      <td>chrX:99959435-99960035</td>\n",
       "      <td>SLC23A1</td>\n",
       "      <td>0.220922</td>\n",
       "    </tr>\n",
       "    <tr>\n",
       "      <th>5420214</th>\n",
       "      <td>ZZZ3</td>\n",
       "      <td>chrX:99959435-99960035</td>\n",
       "      <td>TAF1</td>\n",
       "      <td>0.387344</td>\n",
       "    </tr>\n",
       "  </tbody>\n",
       "</table>\n",
       "<p>5420215 rows × 4 columns</p>\n",
       "</div>"
      ],
      "text/plain": [
       "score_type source_id                    peak_id target_id     score\n",
       "0             AHCTF1  chr10:110317230-110317830    NAP1L1  0.125052\n",
       "1             AHCTF1  chr10:110534362-110534962    NAP1L1  0.142261\n",
       "2             AHCTF1  chr10:110600132-110600732    NAP1L1  0.153640\n",
       "3             AHCTF1  chr10:110782584-110783184    NAP1L1  0.125052\n",
       "4             AHCTF1  chr10:110794392-110794992    NAP1L1  0.153640\n",
       "...              ...                        ...       ...       ...\n",
       "5420210         ZZZ3     chrX:99853079-99853679       OGT  0.535019\n",
       "5420211         ZZZ3     chrX:99853079-99853679      TAF1  0.513381\n",
       "5420212         ZZZ3     chrX:99959435-99960035       OGT  0.451607\n",
       "5420213         ZZZ3     chrX:99959435-99960035   SLC23A1  0.220922\n",
       "5420214         ZZZ3     chrX:99959435-99960035      TAF1  0.387344\n",
       "\n",
       "[5420215 rows x 4 columns]"
      ]
     },
     "execution_count": 12,
     "metadata": {},
     "output_type": "execute_result"
    }
   ],
   "source": [
    "result_df"
   ]
  },
  {
   "cell_type": "code",
   "execution_count": null,
   "metadata": {},
   "outputs": [],
   "source": [
    "tf_tg_edge_groups = result_df.groupby([\"source_id\", \"target_id\"])[\"peak_id\"]"
   ]
  },
  {
   "cell_type": "code",
   "execution_count": null,
   "metadata": {},
   "outputs": [],
   "source": [
    "tf_tg_edge_mean_peak_scores = tf_tg_edge_groups.count()\n",
    "\n"
   ]
  },
  {
   "cell_type": "code",
   "execution_count": null,
   "metadata": {},
   "outputs": [
    {
     "data": {
      "application/vnd.microsoft.datawrangler.viewer.v0+json": {
       "columns": [
        {
         "name": "('source_id', 'target_id')",
         "rawType": "object",
         "type": "unknown"
        },
        {
         "name": "peak_id",
         "rawType": "int64",
         "type": "integer"
        }
       ],
       "ref": "7218f5f2-2310-4c89-90d3-402699c37bab",
       "rows": [
        [
         "('AHCTF1', '9530068E07RIK')",
         "15"
        ],
        [
         "('AHCTF1', 'AAAS')",
         "13"
        ],
        [
         "('AHCTF1', 'ABCE1')",
         "14"
        ],
        [
         "('AHCTF1', 'ACTL6A')",
         "11"
        ],
        [
         "('AHCTF1', 'ADNP2')",
         "6"
        ],
        [
         "('AHCTF1', 'ADRM1')",
         "9"
        ],
        [
         "('AHCTF1', 'AFF1')",
         "12"
        ],
        [
         "('AHCTF1', 'AFF3')",
         "23"
        ],
        [
         "('AHCTF1', 'AFF4')",
         "17"
        ],
        [
         "('AHCTF1', 'AKR7A5')",
         "9"
        ],
        [
         "('AHCTF1', 'ALMS1')",
         "13"
        ],
        [
         "('AHCTF1', 'AMBRA1')",
         "14"
        ],
        [
         "('AHCTF1', 'ANAPC1')",
         "17"
        ],
        [
         "('AHCTF1', 'ANKHD1')",
         "1"
        ],
        [
         "('AHCTF1', 'ANKLE2')",
         "6"
        ],
        [
         "('AHCTF1', 'ANKRD17')",
         "3"
        ],
        [
         "('AHCTF1', 'ANTXR1')",
         "9"
        ],
        [
         "('AHCTF1', 'AP1G1')",
         "18"
        ],
        [
         "('AHCTF1', 'AP2B1')",
         "8"
        ],
        [
         "('AHCTF1', 'APOA5')",
         "4"
        ],
        [
         "('AHCTF1', 'AQR')",
         "4"
        ],
        [
         "('AHCTF1', 'ARFGEF1')",
         "10"
        ],
        [
         "('AHCTF1', 'ARID2')",
         "11"
        ],
        [
         "('AHCTF1', 'ASPM')",
         "8"
        ],
        [
         "('AHCTF1', 'ASXL1')",
         "13"
        ],
        [
         "('AHCTF1', 'ASXL2')",
         "12"
        ],
        [
         "('AHCTF1', 'ATAD2')",
         "7"
        ],
        [
         "('AHCTF1', 'ATAD2B')",
         "15"
        ],
        [
         "('AHCTF1', 'ATF1')",
         "7"
        ],
        [
         "('AHCTF1', 'ATF2')",
         "13"
        ],
        [
         "('AHCTF1', 'ATM')",
         "14"
        ],
        [
         "('AHCTF1', 'ATR')",
         "5"
        ],
        [
         "('AHCTF1', 'ATRX')",
         "2"
        ],
        [
         "('AHCTF1', 'AURKA')",
         "5"
        ],
        [
         "('AHCTF1', 'AURKB')",
         "4"
        ],
        [
         "('AHCTF1', 'AZIN1')",
         "13"
        ],
        [
         "('AHCTF1', 'BAHCC1')",
         "10"
        ],
        [
         "('AHCTF1', 'BANF1')",
         "9"
        ],
        [
         "('AHCTF1', 'BANF2')",
         "4"
        ],
        [
         "('AHCTF1', 'BAZ1B')",
         "11"
        ],
        [
         "('AHCTF1', 'BCCIP')",
         "8"
        ],
        [
         "('AHCTF1', 'BCLAF1')",
         "11"
        ],
        [
         "('AHCTF1', 'BDP1')",
         "11"
        ],
        [
         "('AHCTF1', 'BIRC6')",
         "14"
        ],
        [
         "('AHCTF1', 'BMS1')",
         "16"
        ],
        [
         "('AHCTF1', 'BPTF')",
         "10"
        ],
        [
         "('AHCTF1', 'BRCA1')",
         "5"
        ],
        [
         "('AHCTF1', 'BRD1')",
         "9"
        ],
        [
         "('AHCTF1', 'BRD7')",
         "14"
        ],
        [
         "('AHCTF1', 'BRD8')",
         "4"
        ]
       ],
       "shape": {
        "columns": 1,
        "rows": 224552
       }
      },
      "text/plain": [
       "source_id  target_id    \n",
       "AHCTF1     9530068E07RIK    15\n",
       "           AAAS             13\n",
       "           ABCE1            14\n",
       "           ACTL6A           11\n",
       "           ADNP2             6\n",
       "                            ..\n",
       "ZZZ3       ZMYM5            19\n",
       "           ZMYND8            5\n",
       "           ZNHIT6           11\n",
       "           ZPR1             13\n",
       "           ZSWIM2            4\n",
       "Name: peak_id, Length: 224552, dtype: int64"
      ]
     },
     "execution_count": 18,
     "metadata": {},
     "output_type": "execute_result"
    }
   ],
   "source": [
    "tf_tg_edge_mean_peak_scores"
   ]
  },
  {
   "cell_type": "code",
   "execution_count": null,
   "metadata": {},
   "outputs": [],
   "source": [
    "tf_tg_edge_scores = result_df.groupby([\"source_id\", \"target_id\"])[\"score\"]"
   ]
  },
  {
   "cell_type": "code",
   "execution_count": null,
   "metadata": {},
   "outputs": [],
   "source": [
    "tf_tg_mean_scores = tf_tg_edge_scores.mean()"
   ]
  },
  {
   "cell_type": "code",
   "execution_count": null,
   "metadata": {},
   "outputs": [
    {
     "data": {
      "application/vnd.microsoft.datawrangler.viewer.v0+json": {
       "columns": [
        {
         "name": "('source_id', 'target_id')",
         "rawType": "object",
         "type": "unknown"
        },
        {
         "name": "score",
         "rawType": "float32",
         "type": "float"
        }
       ],
       "ref": "585be97e-a6e8-4ffb-b74f-578e06ef9c1b",
       "rows": [
        [
         "('AHCTF1', '9530068E07RIK')",
         "0.070036344"
        ],
        [
         "('AHCTF1', 'AAAS')",
         "0.20460044"
        ],
        [
         "('AHCTF1', 'ABCE1')",
         "0.13652539"
        ],
        [
         "('AHCTF1', 'ACTL6A')",
         "0.14182763"
        ],
        [
         "('AHCTF1', 'ADNP2')",
         "0.090489805"
        ],
        [
         "('AHCTF1', 'ADRM1')",
         "0.06899093"
        ],
        [
         "('AHCTF1', 'AFF1')",
         "0.1435997"
        ],
        [
         "('AHCTF1', 'AFF3')",
         "0.09468899"
        ],
        [
         "('AHCTF1', 'AFF4')",
         "0.27306366"
        ],
        [
         "('AHCTF1', 'AKR7A5')",
         "0.06797662"
        ],
        [
         "('AHCTF1', 'ALMS1')",
         "0.09859732"
        ],
        [
         "('AHCTF1', 'AMBRA1')",
         "0.111284725"
        ],
        [
         "('AHCTF1', 'ANAPC1')",
         "0.14087763"
        ],
        [
         "('AHCTF1', 'ANKHD1')",
         "0.1230078"
        ],
        [
         "('AHCTF1', 'ANKLE2')",
         "0.1054655"
        ],
        [
         "('AHCTF1', 'ANKRD17')",
         "0.15917931"
        ],
        [
         "('AHCTF1', 'ANTXR1')",
         "0.048912637"
        ],
        [
         "('AHCTF1', 'AP1G1')",
         "0.100631475"
        ],
        [
         "('AHCTF1', 'AP2B1')",
         "0.11141256"
        ],
        [
         "('AHCTF1', 'APOA5')",
         "0.0016229325"
        ],
        [
         "('AHCTF1', 'AQR')",
         "0.12541345"
        ],
        [
         "('AHCTF1', 'ARFGEF1')",
         "0.13257363"
        ],
        [
         "('AHCTF1', 'ARID2')",
         "0.116001315"
        ],
        [
         "('AHCTF1', 'ASPM')",
         "0.119037196"
        ],
        [
         "('AHCTF1', 'ASXL1')",
         "0.08537435"
        ],
        [
         "('AHCTF1', 'ASXL2')",
         "0.118357174"
        ],
        [
         "('AHCTF1', 'ATAD2')",
         "0.16961892"
        ],
        [
         "('AHCTF1', 'ATAD2B')",
         "0.1278307"
        ],
        [
         "('AHCTF1', 'ATF1')",
         "0.10832529"
        ],
        [
         "('AHCTF1', 'ATF2')",
         "0.1012207"
        ],
        [
         "('AHCTF1', 'ATM')",
         "0.13112442"
        ],
        [
         "('AHCTF1', 'ATR')",
         "0.11983256"
        ],
        [
         "('AHCTF1', 'ATRX')",
         "0.07544158"
        ],
        [
         "('AHCTF1', 'AURKA')",
         "0.112725675"
        ],
        [
         "('AHCTF1', 'AURKB')",
         "0.09546794"
        ],
        [
         "('AHCTF1', 'AZIN1')",
         "0.1418202"
        ],
        [
         "('AHCTF1', 'BAHCC1')",
         "0.080330536"
        ],
        [
         "('AHCTF1', 'BANF1')",
         "0.115016595"
        ],
        [
         "('AHCTF1', 'BANF2')",
         "0.0067772563"
        ],
        [
         "('AHCTF1', 'BAZ1B')",
         "0.14335746"
        ],
        [
         "('AHCTF1', 'BCCIP')",
         "0.10959756"
        ],
        [
         "('AHCTF1', 'BCLAF1')",
         "0.14207031"
        ],
        [
         "('AHCTF1', 'BDP1')",
         "0.13952395"
        ],
        [
         "('AHCTF1', 'BIRC6')",
         "0.16606818"
        ],
        [
         "('AHCTF1', 'BMS1')",
         "0.14946547"
        ],
        [
         "('AHCTF1', 'BPTF')",
         "0.17742619"
        ],
        [
         "('AHCTF1', 'BRCA1')",
         "0.08261986"
        ],
        [
         "('AHCTF1', 'BRD1')",
         "0.088453665"
        ],
        [
         "('AHCTF1', 'BRD7')",
         "0.09408545"
        ],
        [
         "('AHCTF1', 'BRD8')",
         "0.11029549"
        ]
       ],
       "shape": {
        "columns": 1,
        "rows": 224552
       }
      },
      "text/plain": [
       "source_id  target_id    \n",
       "AHCTF1     9530068E07RIK    0.070036\n",
       "           AAAS             0.204600\n",
       "           ABCE1            0.136525\n",
       "           ACTL6A           0.141828\n",
       "           ADNP2            0.090490\n",
       "                              ...   \n",
       "ZZZ3       ZMYM5            0.290335\n",
       "           ZMYND8           0.430185\n",
       "           ZNHIT6           0.246743\n",
       "           ZPR1             0.393164\n",
       "           ZSWIM2           0.001484\n",
       "Name: score, Length: 224552, dtype: float32"
      ]
     },
     "execution_count": 28,
     "metadata": {},
     "output_type": "execute_result"
    }
   ],
   "source": [
    "tf_tg_mean_scores"
   ]
  },
  {
   "cell_type": "code",
   "execution_count": null,
   "metadata": {},
   "outputs": [],
   "source": [
    "\n",
    "def read_ground_truth(ground_truth_file):\n",
    "    ground_truth = pd.read_csv(ground_truth_file, sep='\\t', quoting=csv.QUOTE_NONE, on_bad_lines='skip', header=0)\n",
    "    ground_truth = ground_truth.rename(columns={\"Source\": \"source_id\", \"Target\": \"target_id\"})\n",
    "    return ground_truth\n",
    "\n",
    "def label_edges_with_ground_truth(inferred_network_dd, ground_truth_df):\n",
    "    import dask.dataframe as dd\n",
    "    import numpy as np\n",
    "    ground_truth_pairs = set(zip(\n",
    "        ground_truth_df[\"source_id\"].str.upper(),\n",
    "        ground_truth_df[\"target_id\"].str.upper()\n",
    "    ))\n",
    "    \n",
    "    inferred_network_dd[\"source_id\"] = inferred_network_dd[\"source_id\"].str.upper()\n",
    "    inferred_network_dd[\"target_id\"] = inferred_network_dd[\"target_id\"].str.upper()\n",
    "\n",
    "\n",
    "    def label_partition(df):\n",
    "        df = df.copy()\n",
    "        tf_tg_tuples = list(zip(df[\"source_id\"], df[\"target_id\"]))\n",
    "        df.loc[:, \"label\"] = [1 if pair in ground_truth_pairs else 0 for pair in tf_tg_tuples]\n",
    "        return df\n",
    "\n",
    "    inferred_network_dd = inferred_network_dd.map_partitions(\n",
    "        label_partition,\n",
    "        meta=inferred_network_dd._meta.assign(label=np.int64(0))\n",
    "    )\n",
    "\n",
    "    return inferred_network_dd\n",
    "\n",
    "ground_truth_file = \"/gpfs/Labs/Uzun/DATA/PROJECTS/2024.SC_MO_TRN_DB.MIRA/REPOSITORY/CURRENT/REFERENCE_NETWORKS/RN111_ChIPSeq_BEELINE_Mouse_ESC.tsv\"\n",
    "\n"
   ]
  },
  {
   "cell_type": "code",
   "execution_count": null,
   "metadata": {},
   "outputs": [],
   "source": [
    "import csv"
   ]
  },
  {
   "cell_type": "code",
   "execution_count": null,
   "metadata": {},
   "outputs": [],
   "source": [
    "ground_truth_df = read_ground_truth(ground_truth_file)"
   ]
  },
  {
   "cell_type": "code",
   "execution_count": null,
   "metadata": {},
   "outputs": [
    {
     "data": {
      "application/vnd.microsoft.datawrangler.viewer.v0+json": {
       "columns": [
        {
         "name": "index",
         "rawType": "int64",
         "type": "integer"
        },
        {
         "name": "source_id",
         "rawType": "string",
         "type": "string"
        },
        {
         "name": "target_id",
         "rawType": "string",
         "type": "string"
        },
        {
         "name": "score",
         "rawType": "float32",
         "type": "float"
        }
       ],
       "ref": "22baf11d-20ec-4ed2-a463-b0c01531aa8d",
       "rows": [
        [
         "0",
         "AHCTF1",
         "9530068E07RIK",
         "0.070036344"
        ],
        [
         "1",
         "AHCTF1",
         "AAAS",
         "0.20460044"
        ],
        [
         "2",
         "AHCTF1",
         "ABCE1",
         "0.13652539"
        ],
        [
         "3",
         "AHCTF1",
         "ACTL6A",
         "0.14182763"
        ],
        [
         "4",
         "AHCTF1",
         "ADNP2",
         "0.090489805"
        ],
        [
         "5",
         "AHCTF1",
         "ADRM1",
         "0.06899093"
        ],
        [
         "6",
         "AHCTF1",
         "AFF1",
         "0.1435997"
        ],
        [
         "7",
         "AHCTF1",
         "AFF3",
         "0.09468899"
        ],
        [
         "8",
         "AHCTF1",
         "AFF4",
         "0.27306366"
        ],
        [
         "9",
         "AHCTF1",
         "AKR7A5",
         "0.06797662"
        ],
        [
         "10",
         "AHCTF1",
         "ALMS1",
         "0.09859732"
        ],
        [
         "11",
         "AHCTF1",
         "AMBRA1",
         "0.111284725"
        ],
        [
         "12",
         "AHCTF1",
         "ANAPC1",
         "0.14087763"
        ],
        [
         "13",
         "AHCTF1",
         "ANKHD1",
         "0.1230078"
        ],
        [
         "14",
         "AHCTF1",
         "ANKLE2",
         "0.1054655"
        ],
        [
         "15",
         "AHCTF1",
         "ANKRD17",
         "0.15917931"
        ],
        [
         "16",
         "AHCTF1",
         "ANTXR1",
         "0.048912637"
        ],
        [
         "17",
         "AHCTF1",
         "AP1G1",
         "0.100631475"
        ],
        [
         "18",
         "AHCTF1",
         "AP2B1",
         "0.11141256"
        ],
        [
         "19",
         "AHCTF1",
         "APOA5",
         "0.0016229325"
        ],
        [
         "20",
         "AHCTF1",
         "AQR",
         "0.12541345"
        ],
        [
         "21",
         "AHCTF1",
         "ARFGEF1",
         "0.13257363"
        ],
        [
         "22",
         "AHCTF1",
         "ARID2",
         "0.116001315"
        ],
        [
         "23",
         "AHCTF1",
         "ASPM",
         "0.119037196"
        ],
        [
         "24",
         "AHCTF1",
         "ASXL1",
         "0.08537435"
        ],
        [
         "25",
         "AHCTF1",
         "ASXL2",
         "0.118357174"
        ],
        [
         "26",
         "AHCTF1",
         "ATAD2",
         "0.16961892"
        ],
        [
         "27",
         "AHCTF1",
         "ATAD2B",
         "0.1278307"
        ],
        [
         "28",
         "AHCTF1",
         "ATF1",
         "0.10832529"
        ],
        [
         "29",
         "AHCTF1",
         "ATF2",
         "0.1012207"
        ],
        [
         "30",
         "AHCTF1",
         "ATM",
         "0.13112442"
        ],
        [
         "31",
         "AHCTF1",
         "ATR",
         "0.11983256"
        ],
        [
         "32",
         "AHCTF1",
         "ATRX",
         "0.07544158"
        ],
        [
         "33",
         "AHCTF1",
         "AURKA",
         "0.112725675"
        ],
        [
         "34",
         "AHCTF1",
         "AURKB",
         "0.09546794"
        ],
        [
         "35",
         "AHCTF1",
         "AZIN1",
         "0.1418202"
        ],
        [
         "36",
         "AHCTF1",
         "BAHCC1",
         "0.080330536"
        ],
        [
         "37",
         "AHCTF1",
         "BANF1",
         "0.115016595"
        ],
        [
         "38",
         "AHCTF1",
         "BANF2",
         "0.0067772563"
        ],
        [
         "39",
         "AHCTF1",
         "BAZ1B",
         "0.14335746"
        ],
        [
         "40",
         "AHCTF1",
         "BCCIP",
         "0.10959756"
        ],
        [
         "41",
         "AHCTF1",
         "BCLAF1",
         "0.14207031"
        ],
        [
         "42",
         "AHCTF1",
         "BDP1",
         "0.13952395"
        ],
        [
         "43",
         "AHCTF1",
         "BIRC6",
         "0.16606818"
        ],
        [
         "44",
         "AHCTF1",
         "BMS1",
         "0.14946547"
        ],
        [
         "45",
         "AHCTF1",
         "BPTF",
         "0.17742619"
        ],
        [
         "46",
         "AHCTF1",
         "BRCA1",
         "0.08261986"
        ],
        [
         "47",
         "AHCTF1",
         "BRD1",
         "0.088453665"
        ],
        [
         "48",
         "AHCTF1",
         "BRD7",
         "0.09408545"
        ],
        [
         "49",
         "AHCTF1",
         "BRD8",
         "0.11029549"
        ]
       ],
       "shape": {
        "columns": 3,
        "rows": 224552
       }
      },
      "text/html": [
       "<div>\n",
       "<style scoped>\n",
       "    .dataframe tbody tr th:only-of-type {\n",
       "        vertical-align: middle;\n",
       "    }\n",
       "\n",
       "    .dataframe tbody tr th {\n",
       "        vertical-align: top;\n",
       "    }\n",
       "\n",
       "    .dataframe thead th {\n",
       "        text-align: right;\n",
       "    }\n",
       "</style>\n",
       "<table border=\"1\" class=\"dataframe\">\n",
       "  <thead>\n",
       "    <tr style=\"text-align: right;\">\n",
       "      <th></th>\n",
       "      <th>source_id</th>\n",
       "      <th>target_id</th>\n",
       "      <th>score</th>\n",
       "    </tr>\n",
       "  </thead>\n",
       "  <tbody>\n",
       "    <tr>\n",
       "      <th>0</th>\n",
       "      <td>AHCTF1</td>\n",
       "      <td>9530068E07RIK</td>\n",
       "      <td>0.070036</td>\n",
       "    </tr>\n",
       "    <tr>\n",
       "      <th>1</th>\n",
       "      <td>AHCTF1</td>\n",
       "      <td>AAAS</td>\n",
       "      <td>0.204600</td>\n",
       "    </tr>\n",
       "    <tr>\n",
       "      <th>2</th>\n",
       "      <td>AHCTF1</td>\n",
       "      <td>ABCE1</td>\n",
       "      <td>0.136525</td>\n",
       "    </tr>\n",
       "    <tr>\n",
       "      <th>3</th>\n",
       "      <td>AHCTF1</td>\n",
       "      <td>ACTL6A</td>\n",
       "      <td>0.141828</td>\n",
       "    </tr>\n",
       "    <tr>\n",
       "      <th>4</th>\n",
       "      <td>AHCTF1</td>\n",
       "      <td>ADNP2</td>\n",
       "      <td>0.090490</td>\n",
       "    </tr>\n",
       "    <tr>\n",
       "      <th>...</th>\n",
       "      <td>...</td>\n",
       "      <td>...</td>\n",
       "      <td>...</td>\n",
       "    </tr>\n",
       "    <tr>\n",
       "      <th>224547</th>\n",
       "      <td>ZZZ3</td>\n",
       "      <td>ZMYM5</td>\n",
       "      <td>0.290335</td>\n",
       "    </tr>\n",
       "    <tr>\n",
       "      <th>224548</th>\n",
       "      <td>ZZZ3</td>\n",
       "      <td>ZMYND8</td>\n",
       "      <td>0.430185</td>\n",
       "    </tr>\n",
       "    <tr>\n",
       "      <th>224549</th>\n",
       "      <td>ZZZ3</td>\n",
       "      <td>ZNHIT6</td>\n",
       "      <td>0.246743</td>\n",
       "    </tr>\n",
       "    <tr>\n",
       "      <th>224550</th>\n",
       "      <td>ZZZ3</td>\n",
       "      <td>ZPR1</td>\n",
       "      <td>0.393164</td>\n",
       "    </tr>\n",
       "    <tr>\n",
       "      <th>224551</th>\n",
       "      <td>ZZZ3</td>\n",
       "      <td>ZSWIM2</td>\n",
       "      <td>0.001484</td>\n",
       "    </tr>\n",
       "  </tbody>\n",
       "</table>\n",
       "<p>224552 rows × 3 columns</p>\n",
       "</div>"
      ],
      "text/plain": [
       "       source_id      target_id     score\n",
       "0         AHCTF1  9530068E07RIK  0.070036\n",
       "1         AHCTF1           AAAS  0.204600\n",
       "2         AHCTF1          ABCE1  0.136525\n",
       "3         AHCTF1         ACTL6A  0.141828\n",
       "4         AHCTF1          ADNP2  0.090490\n",
       "...          ...            ...       ...\n",
       "224547      ZZZ3          ZMYM5  0.290335\n",
       "224548      ZZZ3         ZMYND8  0.430185\n",
       "224549      ZZZ3         ZNHIT6  0.246743\n",
       "224550      ZZZ3           ZPR1  0.393164\n",
       "224551      ZZZ3         ZSWIM2  0.001484\n",
       "\n",
       "[224552 rows x 3 columns]"
      ]
     },
     "execution_count": 34,
     "metadata": {},
     "output_type": "execute_result"
    }
   ],
   "source": [
    "tf_tg_mean_scores.reset_index()"
   ]
  },
  {
   "cell_type": "code",
   "execution_count": null,
   "metadata": {},
   "outputs": [],
   "source": [
    "def label_edges_with_ground_truth(inferred_network_dd, ground_truth_df):\n",
    "    import dask.dataframe as dd\n",
    "    import numpy as np\n",
    "    ground_truth_pairs = set(zip(\n",
    "        ground_truth_df[\"source_id\"].str.upper(),\n",
    "        ground_truth_df[\"target_id\"].str.upper()\n",
    "    ))\n",
    "    \n",
    "    inferred_network_dd[\"source_id\"] = inferred_network_dd[\"source_id\"].str.upper()\n",
    "    inferred_network_dd[\"target_id\"] = inferred_network_dd[\"target_id\"].str.upper()\n",
    "\n",
    "\n",
    "    def label_partition(df):\n",
    "        df = df.copy()\n",
    "        tf_tg_tuples = list(zip(df[\"source_id\"], df[\"target_id\"]))\n",
    "        df.loc[:, \"label\"] = [1 if pair in ground_truth_pairs else 0 for pair in tf_tg_tuples]\n",
    "        return df\n",
    "\n",
    "    inferred_network_dd = inferred_network_dd.apply(\n",
    "        label_partition,\n",
    "    )\n",
    "\n",
    "    return inferred_network_dd"
   ]
  },
  {
   "cell_type": "code",
   "execution_count": null,
   "metadata": {},
   "outputs": [],
   "source": [
    "tf_tg_mean_scores = tf_tg_edge_scores.mean()"
   ]
  },
  {
   "cell_type": "code",
   "execution_count": null,
   "metadata": {},
   "outputs": [],
   "source": [
    "tf_tg_mean_scores = tf_tg_mean_scores.reset_index()"
   ]
  },
  {
   "cell_type": "code",
   "execution_count": null,
   "metadata": {},
   "outputs": [
    {
     "data": {
      "application/vnd.microsoft.datawrangler.viewer.v0+json": {
       "columns": [
        {
         "name": "index",
         "rawType": "int64",
         "type": "integer"
        },
        {
         "name": "source_id",
         "rawType": "string",
         "type": "string"
        },
        {
         "name": "target_id",
         "rawType": "string",
         "type": "string"
        },
        {
         "name": "score",
         "rawType": "float32",
         "type": "float"
        }
       ],
       "ref": "018408f8-2e82-4184-b59f-443ebf9fdbd5",
       "rows": [
        [
         "0",
         "AHCTF1",
         "9530068E07RIK",
         "0.070036344"
        ],
        [
         "1",
         "AHCTF1",
         "AAAS",
         "0.20460044"
        ],
        [
         "2",
         "AHCTF1",
         "ABCE1",
         "0.13652539"
        ],
        [
         "3",
         "AHCTF1",
         "ACTL6A",
         "0.14182763"
        ],
        [
         "4",
         "AHCTF1",
         "ADNP2",
         "0.090489805"
        ],
        [
         "5",
         "AHCTF1",
         "ADRM1",
         "0.06899093"
        ],
        [
         "6",
         "AHCTF1",
         "AFF1",
         "0.1435997"
        ],
        [
         "7",
         "AHCTF1",
         "AFF3",
         "0.09468899"
        ],
        [
         "8",
         "AHCTF1",
         "AFF4",
         "0.27306366"
        ],
        [
         "9",
         "AHCTF1",
         "AKR7A5",
         "0.06797662"
        ],
        [
         "10",
         "AHCTF1",
         "ALMS1",
         "0.09859732"
        ],
        [
         "11",
         "AHCTF1",
         "AMBRA1",
         "0.111284725"
        ],
        [
         "12",
         "AHCTF1",
         "ANAPC1",
         "0.14087763"
        ],
        [
         "13",
         "AHCTF1",
         "ANKHD1",
         "0.1230078"
        ],
        [
         "14",
         "AHCTF1",
         "ANKLE2",
         "0.1054655"
        ],
        [
         "15",
         "AHCTF1",
         "ANKRD17",
         "0.15917931"
        ],
        [
         "16",
         "AHCTF1",
         "ANTXR1",
         "0.048912637"
        ],
        [
         "17",
         "AHCTF1",
         "AP1G1",
         "0.100631475"
        ],
        [
         "18",
         "AHCTF1",
         "AP2B1",
         "0.11141256"
        ],
        [
         "19",
         "AHCTF1",
         "APOA5",
         "0.0016229325"
        ],
        [
         "20",
         "AHCTF1",
         "AQR",
         "0.12541345"
        ],
        [
         "21",
         "AHCTF1",
         "ARFGEF1",
         "0.13257363"
        ],
        [
         "22",
         "AHCTF1",
         "ARID2",
         "0.116001315"
        ],
        [
         "23",
         "AHCTF1",
         "ASPM",
         "0.119037196"
        ],
        [
         "24",
         "AHCTF1",
         "ASXL1",
         "0.08537435"
        ],
        [
         "25",
         "AHCTF1",
         "ASXL2",
         "0.118357174"
        ],
        [
         "26",
         "AHCTF1",
         "ATAD2",
         "0.16961892"
        ],
        [
         "27",
         "AHCTF1",
         "ATAD2B",
         "0.1278307"
        ],
        [
         "28",
         "AHCTF1",
         "ATF1",
         "0.10832529"
        ],
        [
         "29",
         "AHCTF1",
         "ATF2",
         "0.1012207"
        ],
        [
         "30",
         "AHCTF1",
         "ATM",
         "0.13112442"
        ],
        [
         "31",
         "AHCTF1",
         "ATR",
         "0.11983256"
        ],
        [
         "32",
         "AHCTF1",
         "ATRX",
         "0.07544158"
        ],
        [
         "33",
         "AHCTF1",
         "AURKA",
         "0.112725675"
        ],
        [
         "34",
         "AHCTF1",
         "AURKB",
         "0.09546794"
        ],
        [
         "35",
         "AHCTF1",
         "AZIN1",
         "0.1418202"
        ],
        [
         "36",
         "AHCTF1",
         "BAHCC1",
         "0.080330536"
        ],
        [
         "37",
         "AHCTF1",
         "BANF1",
         "0.115016595"
        ],
        [
         "38",
         "AHCTF1",
         "BANF2",
         "0.0067772563"
        ],
        [
         "39",
         "AHCTF1",
         "BAZ1B",
         "0.14335746"
        ],
        [
         "40",
         "AHCTF1",
         "BCCIP",
         "0.10959756"
        ],
        [
         "41",
         "AHCTF1",
         "BCLAF1",
         "0.14207031"
        ],
        [
         "42",
         "AHCTF1",
         "BDP1",
         "0.13952395"
        ],
        [
         "43",
         "AHCTF1",
         "BIRC6",
         "0.16606818"
        ],
        [
         "44",
         "AHCTF1",
         "BMS1",
         "0.14946547"
        ],
        [
         "45",
         "AHCTF1",
         "BPTF",
         "0.17742619"
        ],
        [
         "46",
         "AHCTF1",
         "BRCA1",
         "0.08261986"
        ],
        [
         "47",
         "AHCTF1",
         "BRD1",
         "0.088453665"
        ],
        [
         "48",
         "AHCTF1",
         "BRD7",
         "0.09408545"
        ],
        [
         "49",
         "AHCTF1",
         "BRD8",
         "0.11029549"
        ]
       ],
       "shape": {
        "columns": 3,
        "rows": 224552
       }
      },
      "text/html": [
       "<div>\n",
       "<style scoped>\n",
       "    .dataframe tbody tr th:only-of-type {\n",
       "        vertical-align: middle;\n",
       "    }\n",
       "\n",
       "    .dataframe tbody tr th {\n",
       "        vertical-align: top;\n",
       "    }\n",
       "\n",
       "    .dataframe thead th {\n",
       "        text-align: right;\n",
       "    }\n",
       "</style>\n",
       "<table border=\"1\" class=\"dataframe\">\n",
       "  <thead>\n",
       "    <tr style=\"text-align: right;\">\n",
       "      <th></th>\n",
       "      <th>source_id</th>\n",
       "      <th>target_id</th>\n",
       "      <th>score</th>\n",
       "    </tr>\n",
       "  </thead>\n",
       "  <tbody>\n",
       "    <tr>\n",
       "      <th>0</th>\n",
       "      <td>AHCTF1</td>\n",
       "      <td>9530068E07RIK</td>\n",
       "      <td>0.070036</td>\n",
       "    </tr>\n",
       "    <tr>\n",
       "      <th>1</th>\n",
       "      <td>AHCTF1</td>\n",
       "      <td>AAAS</td>\n",
       "      <td>0.204600</td>\n",
       "    </tr>\n",
       "    <tr>\n",
       "      <th>2</th>\n",
       "      <td>AHCTF1</td>\n",
       "      <td>ABCE1</td>\n",
       "      <td>0.136525</td>\n",
       "    </tr>\n",
       "    <tr>\n",
       "      <th>3</th>\n",
       "      <td>AHCTF1</td>\n",
       "      <td>ACTL6A</td>\n",
       "      <td>0.141828</td>\n",
       "    </tr>\n",
       "    <tr>\n",
       "      <th>4</th>\n",
       "      <td>AHCTF1</td>\n",
       "      <td>ADNP2</td>\n",
       "      <td>0.090490</td>\n",
       "    </tr>\n",
       "    <tr>\n",
       "      <th>...</th>\n",
       "      <td>...</td>\n",
       "      <td>...</td>\n",
       "      <td>...</td>\n",
       "    </tr>\n",
       "    <tr>\n",
       "      <th>224547</th>\n",
       "      <td>ZZZ3</td>\n",
       "      <td>ZMYM5</td>\n",
       "      <td>0.290335</td>\n",
       "    </tr>\n",
       "    <tr>\n",
       "      <th>224548</th>\n",
       "      <td>ZZZ3</td>\n",
       "      <td>ZMYND8</td>\n",
       "      <td>0.430185</td>\n",
       "    </tr>\n",
       "    <tr>\n",
       "      <th>224549</th>\n",
       "      <td>ZZZ3</td>\n",
       "      <td>ZNHIT6</td>\n",
       "      <td>0.246743</td>\n",
       "    </tr>\n",
       "    <tr>\n",
       "      <th>224550</th>\n",
       "      <td>ZZZ3</td>\n",
       "      <td>ZPR1</td>\n",
       "      <td>0.393164</td>\n",
       "    </tr>\n",
       "    <tr>\n",
       "      <th>224551</th>\n",
       "      <td>ZZZ3</td>\n",
       "      <td>ZSWIM2</td>\n",
       "      <td>0.001484</td>\n",
       "    </tr>\n",
       "  </tbody>\n",
       "</table>\n",
       "<p>224552 rows × 3 columns</p>\n",
       "</div>"
      ],
      "text/plain": [
       "       source_id      target_id     score\n",
       "0         AHCTF1  9530068E07RIK  0.070036\n",
       "1         AHCTF1           AAAS  0.204600\n",
       "2         AHCTF1          ABCE1  0.136525\n",
       "3         AHCTF1         ACTL6A  0.141828\n",
       "4         AHCTF1          ADNP2  0.090490\n",
       "...          ...            ...       ...\n",
       "224547      ZZZ3          ZMYM5  0.290335\n",
       "224548      ZZZ3         ZMYND8  0.430185\n",
       "224549      ZZZ3         ZNHIT6  0.246743\n",
       "224550      ZZZ3           ZPR1  0.393164\n",
       "224551      ZZZ3         ZSWIM2  0.001484\n",
       "\n",
       "[224552 rows x 3 columns]"
      ]
     },
     "execution_count": 43,
     "metadata": {},
     "output_type": "execute_result"
    }
   ],
   "source": [
    "tf_tg_mean_scores"
   ]
  },
  {
   "cell_type": "code",
   "execution_count": null,
   "metadata": {},
   "outputs": [],
   "source": [
    "ground_truth_pairs = set(zip(\n",
    "    ground_truth_df[\"source_id\"].str.upper(),\n",
    "    ground_truth_df[\"target_id\"].str.upper()\n",
    "))"
   ]
  },
  {
   "cell_type": "code",
   "execution_count": null,
   "metadata": {},
   "outputs": [],
   "source": [
    "tf_tg_mean_scores[\"source_id\"] = tf_tg_mean_scores[\"source_id\"].str.upper()\n",
    "tf_tg_mean_scores[\"target_id\"] = tf_tg_mean_scores[\"target_id\"].str.upper()"
   ]
  },
  {
   "cell_type": "code",
   "execution_count": null,
   "metadata": {},
   "outputs": [],
   "source": [
    "tf_tg_mean_scores[\"label\"] = [1 if pair in ground_truth_pairs else 0 for pair in list(zip(tf_tg_mean_scores[\"source_id\"], tf_tg_mean_scores[\"target_id\"]))]"
   ]
  },
  {
   "cell_type": "code",
   "execution_count": null,
   "metadata": {},
   "outputs": [
    {
     "data": {
      "application/vnd.microsoft.datawrangler.viewer.v0+json": {
       "columns": [
        {
         "name": "index",
         "rawType": "int64",
         "type": "integer"
        },
        {
         "name": "source_id",
         "rawType": "string",
         "type": "string"
        },
        {
         "name": "target_id",
         "rawType": "string",
         "type": "string"
        },
        {
         "name": "score",
         "rawType": "float32",
         "type": "float"
        },
        {
         "name": "label",
         "rawType": "int64",
         "type": "integer"
        }
       ],
       "ref": "13bd69e2-1c00-4697-84da-0c92cee95542",
       "rows": [
        [
         "0",
         "AHCTF1",
         "9530068E07RIK",
         "0.070036344",
         "0"
        ],
        [
         "1",
         "AHCTF1",
         "AAAS",
         "0.20460044",
         "0"
        ],
        [
         "2",
         "AHCTF1",
         "ABCE1",
         "0.13652539",
         "0"
        ],
        [
         "3",
         "AHCTF1",
         "ACTL6A",
         "0.14182763",
         "0"
        ],
        [
         "4",
         "AHCTF1",
         "ADNP2",
         "0.090489805",
         "0"
        ],
        [
         "5",
         "AHCTF1",
         "ADRM1",
         "0.06899093",
         "0"
        ],
        [
         "6",
         "AHCTF1",
         "AFF1",
         "0.1435997",
         "0"
        ],
        [
         "7",
         "AHCTF1",
         "AFF3",
         "0.09468899",
         "0"
        ],
        [
         "8",
         "AHCTF1",
         "AFF4",
         "0.27306366",
         "0"
        ],
        [
         "9",
         "AHCTF1",
         "AKR7A5",
         "0.06797662",
         "0"
        ],
        [
         "10",
         "AHCTF1",
         "ALMS1",
         "0.09859732",
         "0"
        ],
        [
         "11",
         "AHCTF1",
         "AMBRA1",
         "0.111284725",
         "0"
        ],
        [
         "12",
         "AHCTF1",
         "ANAPC1",
         "0.14087763",
         "0"
        ],
        [
         "13",
         "AHCTF1",
         "ANKHD1",
         "0.1230078",
         "0"
        ],
        [
         "14",
         "AHCTF1",
         "ANKLE2",
         "0.1054655",
         "0"
        ],
        [
         "15",
         "AHCTF1",
         "ANKRD17",
         "0.15917931",
         "0"
        ],
        [
         "16",
         "AHCTF1",
         "ANTXR1",
         "0.048912637",
         "0"
        ],
        [
         "17",
         "AHCTF1",
         "AP1G1",
         "0.100631475",
         "0"
        ],
        [
         "18",
         "AHCTF1",
         "AP2B1",
         "0.11141256",
         "0"
        ],
        [
         "19",
         "AHCTF1",
         "APOA5",
         "0.0016229325",
         "0"
        ],
        [
         "20",
         "AHCTF1",
         "AQR",
         "0.12541345",
         "0"
        ],
        [
         "21",
         "AHCTF1",
         "ARFGEF1",
         "0.13257363",
         "0"
        ],
        [
         "22",
         "AHCTF1",
         "ARID2",
         "0.116001315",
         "0"
        ],
        [
         "23",
         "AHCTF1",
         "ASPM",
         "0.119037196",
         "0"
        ],
        [
         "24",
         "AHCTF1",
         "ASXL1",
         "0.08537435",
         "0"
        ],
        [
         "25",
         "AHCTF1",
         "ASXL2",
         "0.118357174",
         "0"
        ],
        [
         "26",
         "AHCTF1",
         "ATAD2",
         "0.16961892",
         "0"
        ],
        [
         "27",
         "AHCTF1",
         "ATAD2B",
         "0.1278307",
         "0"
        ],
        [
         "28",
         "AHCTF1",
         "ATF1",
         "0.10832529",
         "0"
        ],
        [
         "29",
         "AHCTF1",
         "ATF2",
         "0.1012207",
         "0"
        ],
        [
         "30",
         "AHCTF1",
         "ATM",
         "0.13112442",
         "0"
        ],
        [
         "31",
         "AHCTF1",
         "ATR",
         "0.11983256",
         "0"
        ],
        [
         "32",
         "AHCTF1",
         "ATRX",
         "0.07544158",
         "0"
        ],
        [
         "33",
         "AHCTF1",
         "AURKA",
         "0.112725675",
         "0"
        ],
        [
         "34",
         "AHCTF1",
         "AURKB",
         "0.09546794",
         "0"
        ],
        [
         "35",
         "AHCTF1",
         "AZIN1",
         "0.1418202",
         "0"
        ],
        [
         "36",
         "AHCTF1",
         "BAHCC1",
         "0.080330536",
         "0"
        ],
        [
         "37",
         "AHCTF1",
         "BANF1",
         "0.115016595",
         "0"
        ],
        [
         "38",
         "AHCTF1",
         "BANF2",
         "0.0067772563",
         "0"
        ],
        [
         "39",
         "AHCTF1",
         "BAZ1B",
         "0.14335746",
         "0"
        ],
        [
         "40",
         "AHCTF1",
         "BCCIP",
         "0.10959756",
         "0"
        ],
        [
         "41",
         "AHCTF1",
         "BCLAF1",
         "0.14207031",
         "0"
        ],
        [
         "42",
         "AHCTF1",
         "BDP1",
         "0.13952395",
         "0"
        ],
        [
         "43",
         "AHCTF1",
         "BIRC6",
         "0.16606818",
         "0"
        ],
        [
         "44",
         "AHCTF1",
         "BMS1",
         "0.14946547",
         "0"
        ],
        [
         "45",
         "AHCTF1",
         "BPTF",
         "0.17742619",
         "0"
        ],
        [
         "46",
         "AHCTF1",
         "BRCA1",
         "0.08261986",
         "0"
        ],
        [
         "47",
         "AHCTF1",
         "BRD1",
         "0.088453665",
         "0"
        ],
        [
         "48",
         "AHCTF1",
         "BRD7",
         "0.09408545",
         "0"
        ],
        [
         "49",
         "AHCTF1",
         "BRD8",
         "0.11029549",
         "0"
        ]
       ],
       "shape": {
        "columns": 4,
        "rows": 224552
       }
      },
      "text/html": [
       "<div>\n",
       "<style scoped>\n",
       "    .dataframe tbody tr th:only-of-type {\n",
       "        vertical-align: middle;\n",
       "    }\n",
       "\n",
       "    .dataframe tbody tr th {\n",
       "        vertical-align: top;\n",
       "    }\n",
       "\n",
       "    .dataframe thead th {\n",
       "        text-align: right;\n",
       "    }\n",
       "</style>\n",
       "<table border=\"1\" class=\"dataframe\">\n",
       "  <thead>\n",
       "    <tr style=\"text-align: right;\">\n",
       "      <th></th>\n",
       "      <th>source_id</th>\n",
       "      <th>target_id</th>\n",
       "      <th>score</th>\n",
       "      <th>label</th>\n",
       "    </tr>\n",
       "  </thead>\n",
       "  <tbody>\n",
       "    <tr>\n",
       "      <th>0</th>\n",
       "      <td>AHCTF1</td>\n",
       "      <td>9530068E07RIK</td>\n",
       "      <td>0.070036</td>\n",
       "      <td>0</td>\n",
       "    </tr>\n",
       "    <tr>\n",
       "      <th>1</th>\n",
       "      <td>AHCTF1</td>\n",
       "      <td>AAAS</td>\n",
       "      <td>0.204600</td>\n",
       "      <td>0</td>\n",
       "    </tr>\n",
       "    <tr>\n",
       "      <th>2</th>\n",
       "      <td>AHCTF1</td>\n",
       "      <td>ABCE1</td>\n",
       "      <td>0.136525</td>\n",
       "      <td>0</td>\n",
       "    </tr>\n",
       "    <tr>\n",
       "      <th>3</th>\n",
       "      <td>AHCTF1</td>\n",
       "      <td>ACTL6A</td>\n",
       "      <td>0.141828</td>\n",
       "      <td>0</td>\n",
       "    </tr>\n",
       "    <tr>\n",
       "      <th>4</th>\n",
       "      <td>AHCTF1</td>\n",
       "      <td>ADNP2</td>\n",
       "      <td>0.090490</td>\n",
       "      <td>0</td>\n",
       "    </tr>\n",
       "    <tr>\n",
       "      <th>...</th>\n",
       "      <td>...</td>\n",
       "      <td>...</td>\n",
       "      <td>...</td>\n",
       "      <td>...</td>\n",
       "    </tr>\n",
       "    <tr>\n",
       "      <th>224547</th>\n",
       "      <td>ZZZ3</td>\n",
       "      <td>ZMYM5</td>\n",
       "      <td>0.290335</td>\n",
       "      <td>0</td>\n",
       "    </tr>\n",
       "    <tr>\n",
       "      <th>224548</th>\n",
       "      <td>ZZZ3</td>\n",
       "      <td>ZMYND8</td>\n",
       "      <td>0.430185</td>\n",
       "      <td>0</td>\n",
       "    </tr>\n",
       "    <tr>\n",
       "      <th>224549</th>\n",
       "      <td>ZZZ3</td>\n",
       "      <td>ZNHIT6</td>\n",
       "      <td>0.246743</td>\n",
       "      <td>0</td>\n",
       "    </tr>\n",
       "    <tr>\n",
       "      <th>224550</th>\n",
       "      <td>ZZZ3</td>\n",
       "      <td>ZPR1</td>\n",
       "      <td>0.393164</td>\n",
       "      <td>0</td>\n",
       "    </tr>\n",
       "    <tr>\n",
       "      <th>224551</th>\n",
       "      <td>ZZZ3</td>\n",
       "      <td>ZSWIM2</td>\n",
       "      <td>0.001484</td>\n",
       "      <td>0</td>\n",
       "    </tr>\n",
       "  </tbody>\n",
       "</table>\n",
       "<p>224552 rows × 4 columns</p>\n",
       "</div>"
      ],
      "text/plain": [
       "       source_id      target_id     score  label\n",
       "0         AHCTF1  9530068E07RIK  0.070036      0\n",
       "1         AHCTF1           AAAS  0.204600      0\n",
       "2         AHCTF1          ABCE1  0.136525      0\n",
       "3         AHCTF1         ACTL6A  0.141828      0\n",
       "4         AHCTF1          ADNP2  0.090490      0\n",
       "...          ...            ...       ...    ...\n",
       "224547      ZZZ3          ZMYM5  0.290335      0\n",
       "224548      ZZZ3         ZMYND8  0.430185      0\n",
       "224549      ZZZ3         ZNHIT6  0.246743      0\n",
       "224550      ZZZ3           ZPR1  0.393164      0\n",
       "224551      ZZZ3         ZSWIM2  0.001484      0\n",
       "\n",
       "[224552 rows x 4 columns]"
      ]
     },
     "execution_count": 47,
     "metadata": {},
     "output_type": "execute_result"
    }
   ],
   "source": [
    "tf_tg_mean_scores"
   ]
  },
  {
   "cell_type": "code",
   "execution_count": null,
   "metadata": {},
   "outputs": [],
   "source": [
    "import random"
   ]
  },
  {
   "cell_type": "code",
   "execution_count": null,
   "metadata": {},
   "outputs": [],
   "source": [
    "true_edges = tf_tg_mean_scores[tf_tg_mean_scores[\"label\"] == 1]\n",
    "false_edges = tf_tg_mean_scores[tf_tg_mean_scores[\"label\"] == 0]"
   ]
  },
  {
   "cell_type": "code",
   "execution_count": null,
   "metadata": {},
   "outputs": [],
   "source": [
    "from typing import Union"
   ]
  },
  {
   "cell_type": "code",
   "execution_count": null,
   "metadata": {},
   "outputs": [],
   "source": [
    "def convert_true_false_to_string(value: Union[int, str]):\n",
    "    if type(value) == int:\n",
    "        if value == 0:\n",
    "            return \"False\"\n",
    "        elif value == 1:\n",
    "            return \"True\"\n",
    "        else:\n",
    "            raise ValueError(f\"Value {value} in the ground truth label columns is not 0 or 1\")\n",
    "    elif type(value) == str:\n",
    "        return value\n",
    "    else:\n",
    "        raise TypeError(\"Value must be either of type int or str, got %s\" % value)\n",
    "        \n",
    "\n",
    "tf_tg_mean_scores[\"label\"] = tf_tg_mean_scores[\"label\"].apply(convert_true_false_to_string)\n",
    "tf_tg_pivoted: pd.DataFrame = tf_tg_mean_scores.pivot(columns=\"label\", values=\"score\")"
   ]
  },
  {
   "cell_type": "code",
   "execution_count": null,
   "metadata": {},
   "outputs": [],
   "source": [
    "n_true = len(tf_tg_mean_scores[tf_tg_mean_scores[\"label\"] == \"True\"])\n",
    "n_false = len(tf_tg_mean_scores[tf_tg_mean_scores[\"label\"] == \"False\"])\n"
   ]
  },
  {
   "cell_type": "code",
   "execution_count": null,
   "metadata": {},
   "outputs": [
    {
     "data": {
      "text/plain": [
       "201575"
      ]
     },
     "execution_count": 72,
     "metadata": {},
     "output_type": "execute_result"
    }
   ],
   "source": [
    "n_false"
   ]
  },
  {
   "cell_type": "code",
   "execution_count": null,
   "metadata": {},
   "outputs": [
    {
     "data": {
      "text/plain": [
       "22977"
      ]
     },
     "execution_count": 73,
     "metadata": {},
     "output_type": "execute_result"
    }
   ],
   "source": [
    "n_true"
   ]
  },
  {
   "cell_type": "code",
   "execution_count": null,
   "metadata": {},
   "outputs": [],
   "source": [
    "min_group_count = min(n_false, n_true)\n",
    "\n",
    "tf_tg_true = tf_tg_mean_scores[tf_tg_mean_scores[\"label\"] == \"True\"].sample(min_group_count)\n",
    "tf_tg_false = tf_tg_mean_scores[tf_tg_mean_scores[\"label\"] == \"False\"].sample(min_group_count)\n",
    "\n",
    "tf_tg_balanced = pd.concat([tf_tg_true, tf_tg_false])"
   ]
  },
  {
   "cell_type": "code",
   "execution_count": null,
   "metadata": {},
   "outputs": [
    {
     "data": {
      "text/plain": [
       "22977"
      ]
     },
     "execution_count": 81,
     "metadata": {},
     "output_type": "execute_result"
    }
   ],
   "source": [
    "len(tf_tg_balanced[tf_tg_balanced[\"label\"] == \"False\"])"
   ]
  },
  {
   "cell_type": "code",
   "execution_count": null,
   "metadata": {},
   "outputs": [
    {
     "data": {
      "text/plain": [
       "22977"
      ]
     },
     "execution_count": 82,
     "metadata": {},
     "output_type": "execute_result"
    }
   ],
   "source": [
    "len(tf_tg_balanced[tf_tg_balanced[\"label\"] == \"True\"])"
   ]
  },
  {
   "cell_type": "code",
   "execution_count": null,
   "metadata": {},
   "outputs": [
    {
     "data": {
      "image/png": "[encoded data removed]",
      "text/plain": [
       "<Figure size 800x800 with 1 Axes>"
      ]
     },
     "metadata": {},
     "output_type": "display_data"
    }
   ],
   "source": [
    "import matplotlib.pyplot as plt\n",
    "import seaborn as sns\n",
    "plt.figure(figsize=(8,8))\n",
    "sns.histplot(data=tf_tg_balanced, x=\"score\", hue=\"label\", bins=50, element=\"step\", stat=\"count\")\n",
    "plt.title(\"Distribution of peak counts for TF-TG edges\", fontsize=16)\n",
    "plt.xlabel(\"Number of peaks\", fontsize=14)\n",
    "plt.ylabel(\"Frequency\", fontsize=14)\n",
    "plt.show()"
   ]
  },
  {
   "cell_type": "code",
   "execution_count": null,
   "metadata": {},
   "outputs": [
    {
     "data": {
      "application/vnd.microsoft.datawrangler.viewer.v0+json": {
       "columns": [
        {
         "name": "index",
         "rawType": "int64",
         "type": "integer"
        },
        {
         "name": "source_id",
         "rawType": "string",
         "type": "string"
        },
        {
         "name": "target_id",
         "rawType": "string",
         "type": "string"
        },
        {
         "name": "score",
         "rawType": "float32",
         "type": "float"
        },
        {
         "name": "label",
         "rawType": "object",
         "type": "string"
        }
       ],
       "ref": "dbe287d1-04e4-440a-9325-21c1d3154822",
       "rows": [
        [
         "135326",
         "POU5F1",
         "ATG5",
         "0.1991592",
         "True"
        ],
        [
         "87749",
         "KDM2B",
         "HSPA4",
         "0.022224223",
         "True"
        ],
        [
         "61539",
         "GATA4",
         "KRAS",
         "0.7311063",
         "True"
        ],
        [
         "214459",
         "ZFP281",
         "CEP192",
         "0.025787242",
         "True"
        ],
        [
         "187393",
         "TET1",
         "SETDB2",
         "0.05230967",
         "True"
        ],
        [
         "214865",
         "ZFP281",
         "RALY",
         "0.02050976",
         "True"
        ],
        [
         "62136",
         "GATA4",
         "SDC2",
         "0.51400447",
         "True"
        ],
        [
         "191731",
         "TGIF1",
         "EPG5",
         "0.0007324643",
         "True"
        ],
        [
         "25815",
         "E2F1",
         "FZD2",
         "0.12555198",
         "True"
        ],
        [
         "87624",
         "KDM2B",
         "DHX9",
         "0.016280828",
         "True"
        ],
        [
         "177264",
         "TBP",
         "SSRP1",
         "0.030432386",
         "True"
        ],
        [
         "135319",
         "POU5F1",
         "ATF1",
         "0.11051222",
         "True"
        ],
        [
         "221145",
         "ZIC2",
         "MRPL14",
         "0.010601658",
         "True"
        ],
        [
         "27828",
         "E2F4",
         "MNT",
         "0.46045542",
         "True"
        ],
        [
         "100362",
         "MAX",
         "USF2",
         "0.553747",
         "True"
        ],
        [
         "127807",
         "NRF1",
         "DDI2",
         "0.15479605",
         "True"
        ],
        [
         "128567",
         "OTX2",
         "AURKA",
         "0.006637008",
         "True"
        ],
        [
         "38452",
         "ESRRB",
         "MYO10",
         "0.014253533",
         "True"
        ],
        [
         "180617",
         "TCF12",
         "PPP1R15B",
         "0.0024624998",
         "True"
        ],
        [
         "26358",
         "E2F1",
         "PTEN",
         "0.0966135",
         "True"
        ],
        [
         "19518",
         "CTCF",
         "BTRC",
         "0.22871551",
         "True"
        ],
        [
         "191441",
         "TGIF1",
         "AU040320",
         "0.0006569498",
         "True"
        ],
        [
         "87562",
         "KDM2B",
         "CDK1",
         "0.015818778",
         "True"
        ],
        [
         "176718",
         "TBP",
         "NDUFV2",
         "0.01983375",
         "True"
        ],
        [
         "155010",
         "SMAD3",
         "TMEM131",
         "0.15137574",
         "True"
        ],
        [
         "181300",
         "TCF3",
         "AKT1",
         "0.28040275",
         "True"
        ],
        [
         "139375",
         "RARA",
         "IRAK1",
         "0.019955993",
         "True"
        ],
        [
         "180544",
         "TCF12",
         "PALD1",
         "0.0044743847",
         "True"
        ],
        [
         "205977",
         "YY1",
         "RUNX1",
         "0.18806951",
         "True"
        ],
        [
         "38310",
         "ESRRB",
         "KLF16",
         "0.0049063615",
         "True"
        ],
        [
         "25395",
         "E2F1",
         "API5",
         "0.116678596",
         "True"
        ],
        [
         "114970",
         "MYC",
         "RPL3",
         "0.19720635",
         "True"
        ],
        [
         "217548",
         "ZFP57",
         "RBBP4",
         "0.107779555",
         "True"
        ],
        [
         "214824",
         "ZFP281",
         "PIM3",
         "0.012679304",
         "True"
        ],
        [
         "123606",
         "NFYA",
         "MAML1",
         "0.22638275",
         "True"
        ],
        [
         "26100",
         "E2F1",
         "MECP2",
         "0.22737469",
         "True"
        ],
        [
         "22261",
         "CXXC1",
         "UBA52",
         "0.023718186",
         "True"
        ],
        [
         "123350",
         "NFYA",
         "ATM",
         "0.31339413",
         "True"
        ],
        [
         "37980",
         "ESRRB",
         "CLOCK",
         "0.011149466",
         "True"
        ],
        [
         "26209",
         "E2F1",
         "NOTCH1",
         "0.10429021",
         "True"
        ],
        [
         "135954",
         "POU5F1",
         "LIFR",
         "0.24740723",
         "True"
        ],
        [
         "205312",
         "YY1",
         "CDK6",
         "0.45967644",
         "True"
        ],
        [
         "153657",
         "SMAD3",
         "ETV5",
         "0.08390975",
         "True"
        ],
        [
         "19547",
         "CTCF",
         "CCNE2",
         "0.22339456",
         "True"
        ],
        [
         "135835",
         "POU5F1",
         "IDH3G",
         "0.26788062",
         "True"
        ],
        [
         "162628",
         "SOX2",
         "TCF7L2",
         "0.006661333",
         "True"
        ],
        [
         "135490",
         "POU5F1",
         "CKB",
         "0.21715865",
         "True"
        ],
        [
         "211667",
         "ZFP143",
         "DHX38",
         "0.03980214",
         "True"
        ],
        [
         "221137",
         "ZIC2",
         "MIGA2",
         "0.0052980813",
         "True"
        ],
        [
         "87490",
         "KDM2B",
         "ARID2",
         "0.013149328",
         "True"
        ]
       ],
       "shape": {
        "columns": 4,
        "rows": 45954
       }
      },
      "text/html": [
       "<div>\n",
       "<style scoped>\n",
       "    .dataframe tbody tr th:only-of-type {\n",
       "        vertical-align: middle;\n",
       "    }\n",
       "\n",
       "    .dataframe tbody tr th {\n",
       "        vertical-align: top;\n",
       "    }\n",
       "\n",
       "    .dataframe thead th {\n",
       "        text-align: right;\n",
       "    }\n",
       "</style>\n",
       "<table border=\"1\" class=\"dataframe\">\n",
       "  <thead>\n",
       "    <tr style=\"text-align: right;\">\n",
       "      <th></th>\n",
       "      <th>source_id</th>\n",
       "      <th>target_id</th>\n",
       "      <th>score</th>\n",
       "      <th>label</th>\n",
       "    </tr>\n",
       "  </thead>\n",
       "  <tbody>\n",
       "    <tr>\n",
       "      <th>135326</th>\n",
       "      <td>POU5F1</td>\n",
       "      <td>ATG5</td>\n",
       "      <td>0.199159</td>\n",
       "      <td>True</td>\n",
       "    </tr>\n",
       "    <tr>\n",
       "      <th>87749</th>\n",
       "      <td>KDM2B</td>\n",
       "      <td>HSPA4</td>\n",
       "      <td>0.022224</td>\n",
       "      <td>True</td>\n",
       "    </tr>\n",
       "    <tr>\n",
       "      <th>61539</th>\n",
       "      <td>GATA4</td>\n",
       "      <td>KRAS</td>\n",
       "      <td>0.731106</td>\n",
       "      <td>True</td>\n",
       "    </tr>\n",
       "    <tr>\n",
       "      <th>214459</th>\n",
       "      <td>ZFP281</td>\n",
       "      <td>CEP192</td>\n",
       "      <td>0.025787</td>\n",
       "      <td>True</td>\n",
       "    </tr>\n",
       "    <tr>\n",
       "      <th>187393</th>\n",
       "      <td>TET1</td>\n",
       "      <td>SETDB2</td>\n",
       "      <td>0.052310</td>\n",
       "      <td>True</td>\n",
       "    </tr>\n",
       "    <tr>\n",
       "      <th>...</th>\n",
       "      <td>...</td>\n",
       "      <td>...</td>\n",
       "      <td>...</td>\n",
       "      <td>...</td>\n",
       "    </tr>\n",
       "    <tr>\n",
       "      <th>125156</th>\n",
       "      <td>NPAS4</td>\n",
       "      <td>OTX2</td>\n",
       "      <td>0.955253</td>\n",
       "      <td>False</td>\n",
       "    </tr>\n",
       "    <tr>\n",
       "      <th>131576</th>\n",
       "      <td>PBX3</td>\n",
       "      <td>OTX2</td>\n",
       "      <td>0.313719</td>\n",
       "      <td>False</td>\n",
       "    </tr>\n",
       "    <tr>\n",
       "      <th>110477</th>\n",
       "      <td>MSX1</td>\n",
       "      <td>MUC1</td>\n",
       "      <td>0.000045</td>\n",
       "      <td>False</td>\n",
       "    </tr>\n",
       "    <tr>\n",
       "      <th>81197</th>\n",
       "      <td>IRF3</td>\n",
       "      <td>TCF7L1</td>\n",
       "      <td>0.129048</td>\n",
       "      <td>False</td>\n",
       "    </tr>\n",
       "    <tr>\n",
       "      <th>30905</th>\n",
       "      <td>EGR1</td>\n",
       "      <td>ABCB11</td>\n",
       "      <td>0.001601</td>\n",
       "      <td>False</td>\n",
       "    </tr>\n",
       "  </tbody>\n",
       "</table>\n",
       "<p>45954 rows × 4 columns</p>\n",
       "</div>"
      ],
      "text/plain": [
       "       source_id target_id     score  label\n",
       "135326    POU5F1      ATG5  0.199159   True\n",
       "87749      KDM2B     HSPA4  0.022224   True\n",
       "61539      GATA4      KRAS  0.731106   True\n",
       "214459    ZFP281    CEP192  0.025787   True\n",
       "187393      TET1    SETDB2  0.052310   True\n",
       "...          ...       ...       ...    ...\n",
       "125156     NPAS4      OTX2  0.955253  False\n",
       "131576      PBX3      OTX2  0.313719  False\n",
       "110477      MSX1      MUC1  0.000045  False\n",
       "81197       IRF3    TCF7L1  0.129048  False\n",
       "30905       EGR1    ABCB11  0.001601  False\n",
       "\n",
       "[45954 rows x 4 columns]"
      ]
     },
     "execution_count": 85,
     "metadata": {},
     "output_type": "execute_result"
    }
   ],
   "source": [
    "tf_tg_balanced"
   ]
  },
  {
   "cell_type": "code",
   "execution_count": null,
   "metadata": {},
   "outputs": [
    {
     "data": {
      "text/plain": [
       "<pandas.core.groupby.generic.SeriesGroupBy object at 0x14b3451c5d60>"
      ]
     },
     "execution_count": 87,
     "metadata": {},
     "output_type": "execute_result"
    }
   ],
   "source": [
    "tf_tg_edge_scores"
   ]
  },
  {
   "cell_type": "code",
   "execution_count": null,
   "metadata": {},
   "outputs": [
    {
     "data": {
      "application/vnd.microsoft.datawrangler.viewer.v0+json": {
       "columns": [
        {
         "name": "('source_id', 'target_id')",
         "rawType": "object",
         "type": "unknown"
        },
        {
         "name": "score",
         "rawType": "int64",
         "type": "integer"
        }
       ],
       "ref": "88542bcd-6941-4a79-a731-53a4a1ff6186",
       "rows": [
        [
         "('AHCTF1', '9530068E07RIK')",
         "15"
        ],
        [
         "('AHCTF1', 'AAAS')",
         "13"
        ],
        [
         "('AHCTF1', 'ABCE1')",
         "14"
        ],
        [
         "('AHCTF1', 'ACTL6A')",
         "11"
        ],
        [
         "('AHCTF1', 'ADNP2')",
         "6"
        ],
        [
         "('AHCTF1', 'ADRM1')",
         "9"
        ],
        [
         "('AHCTF1', 'AFF1')",
         "12"
        ],
        [
         "('AHCTF1', 'AFF3')",
         "23"
        ],
        [
         "('AHCTF1', 'AFF4')",
         "17"
        ],
        [
         "('AHCTF1', 'AKR7A5')",
         "9"
        ],
        [
         "('AHCTF1', 'ALMS1')",
         "13"
        ],
        [
         "('AHCTF1', 'AMBRA1')",
         "14"
        ],
        [
         "('AHCTF1', 'ANAPC1')",
         "17"
        ],
        [
         "('AHCTF1', 'ANKHD1')",
         "1"
        ],
        [
         "('AHCTF1', 'ANKLE2')",
         "6"
        ],
        [
         "('AHCTF1', 'ANKRD17')",
         "3"
        ],
        [
         "('AHCTF1', 'ANTXR1')",
         "9"
        ],
        [
         "('AHCTF1', 'AP1G1')",
         "18"
        ],
        [
         "('AHCTF1', 'AP2B1')",
         "8"
        ],
        [
         "('AHCTF1', 'APOA5')",
         "4"
        ],
        [
         "('AHCTF1', 'AQR')",
         "4"
        ],
        [
         "('AHCTF1', 'ARFGEF1')",
         "10"
        ],
        [
         "('AHCTF1', 'ARID2')",
         "11"
        ],
        [
         "('AHCTF1', 'ASPM')",
         "8"
        ],
        [
         "('AHCTF1', 'ASXL1')",
         "13"
        ],
        [
         "('AHCTF1', 'ASXL2')",
         "12"
        ],
        [
         "('AHCTF1', 'ATAD2')",
         "7"
        ],
        [
         "('AHCTF1', 'ATAD2B')",
         "15"
        ],
        [
         "('AHCTF1', 'ATF1')",
         "7"
        ],
        [
         "('AHCTF1', 'ATF2')",
         "13"
        ],
        [
         "('AHCTF1', 'ATM')",
         "14"
        ],
        [
         "('AHCTF1', 'ATR')",
         "5"
        ],
        [
         "('AHCTF1', 'ATRX')",
         "2"
        ],
        [
         "('AHCTF1', 'AURKA')",
         "5"
        ],
        [
         "('AHCTF1', 'AURKB')",
         "4"
        ],
        [
         "('AHCTF1', 'AZIN1')",
         "13"
        ],
        [
         "('AHCTF1', 'BAHCC1')",
         "10"
        ],
        [
         "('AHCTF1', 'BANF1')",
         "9"
        ],
        [
         "('AHCTF1', 'BANF2')",
         "4"
        ],
        [
         "('AHCTF1', 'BAZ1B')",
         "11"
        ],
        [
         "('AHCTF1', 'BCCIP')",
         "8"
        ],
        [
         "('AHCTF1', 'BCLAF1')",
         "11"
        ],
        [
         "('AHCTF1', 'BDP1')",
         "11"
        ],
        [
         "('AHCTF1', 'BIRC6')",
         "14"
        ],
        [
         "('AHCTF1', 'BMS1')",
         "16"
        ],
        [
         "('AHCTF1', 'BPTF')",
         "10"
        ],
        [
         "('AHCTF1', 'BRCA1')",
         "5"
        ],
        [
         "('AHCTF1', 'BRD1')",
         "9"
        ],
        [
         "('AHCTF1', 'BRD7')",
         "14"
        ],
        [
         "('AHCTF1', 'BRD8')",
         "4"
        ]
       ],
       "shape": {
        "columns": 1,
        "rows": 224552
       }
      },
      "text/plain": [
       "source_id  target_id    \n",
       "AHCTF1     9530068E07RIK    15\n",
       "           AAAS             13\n",
       "           ABCE1            14\n",
       "           ACTL6A           11\n",
       "           ADNP2             6\n",
       "                            ..\n",
       "ZZZ3       ZMYM5            19\n",
       "           ZMYND8            5\n",
       "           ZNHIT6           11\n",
       "           ZPR1             13\n",
       "           ZSWIM2            4\n",
       "Name: score, Length: 224552, dtype: int64"
      ]
     },
     "execution_count": 88,
     "metadata": {},
     "output_type": "execute_result"
    }
   ],
   "source": [
    "tf_tg_edge_scores.count()"
   ]
  },
  {
   "cell_type": "code",
   "execution_count": null,
   "metadata": {},
   "outputs": [
    {
     "data": {
      "application/vnd.microsoft.datawrangler.viewer.v0+json": {
       "columns": [
        {
         "name": "index",
         "rawType": "int64",
         "type": "integer"
        },
        {
         "name": "source_id",
         "rawType": "string",
         "type": "string"
        },
        {
         "name": "target_id",
         "rawType": "string",
         "type": "string"
        },
        {
         "name": "score",
         "rawType": "int64",
         "type": "integer"
        }
       ],
       "ref": "c379eddc-1bad-4358-a7f4-28f27194c6b5",
       "rows": [
        [
         "0",
         "AHCTF1",
         "9530068E07RIK",
         "15"
        ],
        [
         "1",
         "AHCTF1",
         "AAAS",
         "13"
        ],
        [
         "2",
         "AHCTF1",
         "ABCE1",
         "14"
        ],
        [
         "3",
         "AHCTF1",
         "ACTL6A",
         "11"
        ],
        [
         "4",
         "AHCTF1",
         "ADNP2",
         "6"
        ],
        [
         "5",
         "AHCTF1",
         "ADRM1",
         "9"
        ],
        [
         "6",
         "AHCTF1",
         "AFF1",
         "12"
        ],
        [
         "7",
         "AHCTF1",
         "AFF3",
         "23"
        ],
        [
         "8",
         "AHCTF1",
         "AFF4",
         "17"
        ],
        [
         "9",
         "AHCTF1",
         "AKR7A5",
         "9"
        ],
        [
         "10",
         "AHCTF1",
         "ALMS1",
         "13"
        ],
        [
         "11",
         "AHCTF1",
         "AMBRA1",
         "14"
        ],
        [
         "12",
         "AHCTF1",
         "ANAPC1",
         "17"
        ],
        [
         "13",
         "AHCTF1",
         "ANKHD1",
         "1"
        ],
        [
         "14",
         "AHCTF1",
         "ANKLE2",
         "6"
        ],
        [
         "15",
         "AHCTF1",
         "ANKRD17",
         "3"
        ],
        [
         "16",
         "AHCTF1",
         "ANTXR1",
         "9"
        ],
        [
         "17",
         "AHCTF1",
         "AP1G1",
         "18"
        ],
        [
         "18",
         "AHCTF1",
         "AP2B1",
         "8"
        ],
        [
         "19",
         "AHCTF1",
         "APOA5",
         "4"
        ],
        [
         "20",
         "AHCTF1",
         "AQR",
         "4"
        ],
        [
         "21",
         "AHCTF1",
         "ARFGEF1",
         "10"
        ],
        [
         "22",
         "AHCTF1",
         "ARID2",
         "11"
        ],
        [
         "23",
         "AHCTF1",
         "ASPM",
         "8"
        ],
        [
         "24",
         "AHCTF1",
         "ASXL1",
         "13"
        ],
        [
         "25",
         "AHCTF1",
         "ASXL2",
         "12"
        ],
        [
         "26",
         "AHCTF1",
         "ATAD2",
         "7"
        ],
        [
         "27",
         "AHCTF1",
         "ATAD2B",
         "15"
        ],
        [
         "28",
         "AHCTF1",
         "ATF1",
         "7"
        ],
        [
         "29",
         "AHCTF1",
         "ATF2",
         "13"
        ],
        [
         "30",
         "AHCTF1",
         "ATM",
         "14"
        ],
        [
         "31",
         "AHCTF1",
         "ATR",
         "5"
        ],
        [
         "32",
         "AHCTF1",
         "ATRX",
         "2"
        ],
        [
         "33",
         "AHCTF1",
         "AURKA",
         "5"
        ],
        [
         "34",
         "AHCTF1",
         "AURKB",
         "4"
        ],
        [
         "35",
         "AHCTF1",
         "AZIN1",
         "13"
        ],
        [
         "36",
         "AHCTF1",
         "BAHCC1",
         "10"
        ],
        [
         "37",
         "AHCTF1",
         "BANF1",
         "9"
        ],
        [
         "38",
         "AHCTF1",
         "BANF2",
         "4"
        ],
        [
         "39",
         "AHCTF1",
         "BAZ1B",
         "11"
        ],
        [
         "40",
         "AHCTF1",
         "BCCIP",
         "8"
        ],
        [
         "41",
         "AHCTF1",
         "BCLAF1",
         "11"
        ],
        [
         "42",
         "AHCTF1",
         "BDP1",
         "11"
        ],
        [
         "43",
         "AHCTF1",
         "BIRC6",
         "14"
        ],
        [
         "44",
         "AHCTF1",
         "BMS1",
         "16"
        ],
        [
         "45",
         "AHCTF1",
         "BPTF",
         "10"
        ],
        [
         "46",
         "AHCTF1",
         "BRCA1",
         "5"
        ],
        [
         "47",
         "AHCTF1",
         "BRD1",
         "9"
        ],
        [
         "48",
         "AHCTF1",
         "BRD7",
         "14"
        ],
        [
         "49",
         "AHCTF1",
         "BRD8",
         "4"
        ]
       ],
       "shape": {
        "columns": 3,
        "rows": 224552
       }
      },
      "text/html": [
       "<div>\n",
       "<style scoped>\n",
       "    .dataframe tbody tr th:only-of-type {\n",
       "        vertical-align: middle;\n",
       "    }\n",
       "\n",
       "    .dataframe tbody tr th {\n",
       "        vertical-align: top;\n",
       "    }\n",
       "\n",
       "    .dataframe thead th {\n",
       "        text-align: right;\n",
       "    }\n",
       "</style>\n",
       "<table border=\"1\" class=\"dataframe\">\n",
       "  <thead>\n",
       "    <tr style=\"text-align: right;\">\n",
       "      <th></th>\n",
       "      <th>source_id</th>\n",
       "      <th>target_id</th>\n",
       "      <th>score</th>\n",
       "    </tr>\n",
       "  </thead>\n",
       "  <tbody>\n",
       "    <tr>\n",
       "      <th>0</th>\n",
       "      <td>AHCTF1</td>\n",
       "      <td>9530068E07RIK</td>\n",
       "      <td>15</td>\n",
       "    </tr>\n",
       "    <tr>\n",
       "      <th>1</th>\n",
       "      <td>AHCTF1</td>\n",
       "      <td>AAAS</td>\n",
       "      <td>13</td>\n",
       "    </tr>\n",
       "    <tr>\n",
       "      <th>2</th>\n",
       "      <td>AHCTF1</td>\n",
       "      <td>ABCE1</td>\n",
       "      <td>14</td>\n",
       "    </tr>\n",
       "    <tr>\n",
       "      <th>3</th>\n",
       "      <td>AHCTF1</td>\n",
       "      <td>ACTL6A</td>\n",
       "      <td>11</td>\n",
       "    </tr>\n",
       "    <tr>\n",
       "      <th>4</th>\n",
       "      <td>AHCTF1</td>\n",
       "      <td>ADNP2</td>\n",
       "      <td>6</td>\n",
       "    </tr>\n",
       "    <tr>\n",
       "      <th>...</th>\n",
       "      <td>...</td>\n",
       "      <td>...</td>\n",
       "      <td>...</td>\n",
       "    </tr>\n",
       "    <tr>\n",
       "      <th>224547</th>\n",
       "      <td>ZZZ3</td>\n",
       "      <td>ZMYM5</td>\n",
       "      <td>19</td>\n",
       "    </tr>\n",
       "    <tr>\n",
       "      <th>224548</th>\n",
       "      <td>ZZZ3</td>\n",
       "      <td>ZMYND8</td>\n",
       "      <td>5</td>\n",
       "    </tr>\n",
       "    <tr>\n",
       "      <th>224549</th>\n",
       "      <td>ZZZ3</td>\n",
       "      <td>ZNHIT6</td>\n",
       "      <td>11</td>\n",
       "    </tr>\n",
       "    <tr>\n",
       "      <th>224550</th>\n",
       "      <td>ZZZ3</td>\n",
       "      <td>ZPR1</td>\n",
       "      <td>13</td>\n",
       "    </tr>\n",
       "    <tr>\n",
       "      <th>224551</th>\n",
       "      <td>ZZZ3</td>\n",
       "      <td>ZSWIM2</td>\n",
       "      <td>4</td>\n",
       "    </tr>\n",
       "  </tbody>\n",
       "</table>\n",
       "<p>224552 rows × 3 columns</p>\n",
       "</div>"
      ],
      "text/plain": [
       "       source_id      target_id  score\n",
       "0         AHCTF1  9530068E07RIK     15\n",
       "1         AHCTF1           AAAS     13\n",
       "2         AHCTF1          ABCE1     14\n",
       "3         AHCTF1         ACTL6A     11\n",
       "4         AHCTF1          ADNP2      6\n",
       "...          ...            ...    ...\n",
       "224547      ZZZ3          ZMYM5     19\n",
       "224548      ZZZ3         ZMYND8      5\n",
       "224549      ZZZ3         ZNHIT6     11\n",
       "224550      ZZZ3           ZPR1     13\n",
       "224551      ZZZ3         ZSWIM2      4\n",
       "\n",
       "[224552 rows x 3 columns]"
      ]
     },
     "execution_count": 89,
     "metadata": {},
     "output_type": "execute_result"
    }
   ],
   "source": [
    "tf_tg_edge_scores.count().reset_index()"
   ]
  },
  {
   "cell_type": "code",
   "execution_count": null,
   "metadata": {},
   "outputs": [],
   "source": [
    "tf_tg_edge_count = tf_tg_edge_scores.count().reset_index()\n",
    "tf_tg_edge_count[\"label\"] = [\"True\" if pair in ground_truth_pairs else \"False\" for pair in list(zip(tf_tg_edge_count[\"source_id\"], tf_tg_edge_count[\"target_id\"]))]"
   ]
  },
  {
   "cell_type": "code",
   "execution_count": null,
   "metadata": {},
   "outputs": [],
   "source": [
    "n_true = len(tf_tg_edge_count[tf_tg_edge_count[\"label\"] == \"True\"])\n",
    "n_false = len(tf_tg_edge_count[tf_tg_edge_count[\"label\"] == \"False\"])\n",
    "\n",
    "min_group_count = min(n_false, n_true)\n",
    "\n",
    "tf_tg_true = tf_tg_edge_count[tf_tg_edge_count[\"label\"] == \"True\"].sample(min_group_count)\n",
    "tf_tg_false = tf_tg_edge_count[tf_tg_edge_count[\"label\"] == \"False\"].sample(min_group_count)\n",
    "\n",
    "tf_tg_count_balanced = pd.concat([tf_tg_true, tf_tg_false])"
   ]
  },
  {
   "cell_type": "code",
   "execution_count": null,
   "metadata": {},
   "outputs": [
    {
     "data": {
      "image/png": "[encoded data removed]",
      "text/plain": [
       "<Figure size 800x800 with 1 Axes>"
      ]
     },
     "metadata": {},
     "output_type": "display_data"
    }
   ],
   "source": [
    "import matplotlib.pyplot as plt\n",
    "import seaborn as sns\n",
    "plt.figure(figsize=(8,8))\n",
    "sns.histplot(data=tf_tg_count_balanced, x=\"score\", hue=\"label\", bins=50, element=\"step\", stat=\"count\")\n",
    "plt.title(\"Distribution of peak counts for TF-TG edges\", fontsize=16)\n",
    "plt.xlabel(\"Number of peaks\", fontsize=14)\n",
    "plt.ylabel(\"Frequency\", fontsize=14)\n",
    "plt.show()"
   ]
  },
  {
   "cell_type": "code",
   "execution_count": null,
   "metadata": {},
   "outputs": [
    {
     "data": {
      "image/png": "[encoded data removed]",
      "text/plain": [
       "<Figure size 800x800 with 1 Axes>"
      ]
     },
     "metadata": {},
     "output_type": "display_data"
    }
   ],
   "source": [
    "import matplotlib.pyplot as plt\n",
    "import seaborn as sns\n",
    "plt.figure(figsize=(8,8))\n",
    "sns.histplot(data=tf_tg_count_balanced, x=\"score\", hue=\"label\", log_scale=True, bins=50, element=\"step\", stat=\"count\")\n",
    "plt.title(\"Distribution of peak counts for TF-TG edges\", fontsize=16)\n",
    "plt.xlabel(\"Number of peaks\", fontsize=14)\n",
    "plt.ylabel(\"Frequency\", fontsize=14)\n",
    "plt.show()"
   ]
  },
  {
   "cell_type": "code",
   "execution_count": null,
   "metadata": {},
   "outputs": [],
   "source": [
    "inferred_df = pd.read_parquet(target_path, engine=\"pyarrow\")"
   ]
  },
  {
   "cell_type": "code",
   "execution_count": null,
   "metadata": {},
   "outputs": [
    {
     "data": {
      "application/vnd.microsoft.datawrangler.viewer.v0+json": {
       "columns": [
        {
         "name": "index",
         "rawType": "int64",
         "type": "integer"
        },
        {
         "name": "source_id",
         "rawType": "string",
         "type": "string"
        },
        {
         "name": "peak_id",
         "rawType": "string",
         "type": "string"
        },
        {
         "name": "target_id",
         "rawType": "string",
         "type": "string"
        },
        {
         "name": "score_type",
         "rawType": "object",
         "type": "string"
        },
        {
         "name": "score_value",
         "rawType": "float64",
         "type": "float"
        }
       ],
       "ref": "5c157ea5-23ee-4f0a-944f-5b91a42c3e5a",
       "rows": [
        [
         "0",
         "Gli2",
         "chr11:80062014-80062614",
         "Suz12",
         "sliding_window_score",
         "0.5359184741973877"
        ],
        [
         "1",
         "Trp53",
         "chr19:46223020-46223620",
         "As3mt",
         "sliding_window_score",
         "0.8201659321784973"
        ],
        [
         "2",
         "Runx1",
         "chr3:95194969-95195569",
         "Arnt",
         "sliding_window_score",
         "0.527843713760376"
        ],
        [
         "3",
         "Zeb2",
         "chr2:139906313-139906913",
         "Fli1",
         "sliding_window_score",
         "0.6537069082260132"
        ],
        [
         "4",
         "Kdm2b",
         "chr8:85857079-85857679",
         "Nacc1",
         "sliding_window_score",
         "0.4647582471370697"
        ],
        [
         "5",
         "Maf",
         "chr12:73500551-73501151",
         "Hif1a",
         "sliding_window_score",
         "0.910785436630249"
        ],
        [
         "6",
         "Satb2",
         "chr1:72141762-72142362",
         "Fn1",
         "sliding_window_score",
         "0.0"
        ],
        [
         "7",
         "Hivep1",
         "chr9:75495844-75496444",
         "Myo5a",
         "sliding_window_score",
         "0.0"
        ],
        [
         "8",
         "Taf1",
         "chr13:100455058-100455658",
         "Ak6",
         "sliding_window_score",
         "0.754714846611023"
        ],
        [
         "9",
         "Gabpa",
         "chr17:28420648-28421248",
         "Ppard",
         "sliding_window_score",
         "0.7748250961303711"
        ],
        [
         "10",
         "Klf7",
         "chr9:57054735-57055335",
         "Sin3a",
         "sliding_window_score",
         "0.5710870623588562"
        ],
        [
         "11",
         "Rara",
         "chr11:84193221-84193821",
         "Hnf1b",
         "sliding_window_score",
         "0.48321276903152466"
        ],
        [
         "12",
         "Trp53",
         "chr8:24903411-24904011",
         "Adam9",
         "sliding_window_score",
         "0.8188940286636353"
        ],
        [
         "13",
         "Setbp1",
         "chr16:48729024-48729624",
         "Cip2a",
         "sliding_window_score",
         "0.681107759475708"
        ],
        [
         "14",
         "Irx3",
         "chr5:3453886-3454486",
         "Cdk6",
         "sliding_window_score",
         "0.6187199354171753"
        ],
        [
         "15",
         "Zfp770",
         "chr2:38485845-38486445",
         "Scly",
         "sliding_window_score",
         "1.0"
        ],
        [
         "16",
         "Rela",
         "chr12:118263841-118264441",
         "Dpp4",
         "sliding_window_score",
         "1.0"
        ],
        [
         "17",
         "Gabpa",
         "chr2:74027596-74028196",
         "Atf2",
         "sliding_window_score",
         "0.758631706237793"
        ],
        [
         "18",
         "Stat3",
         "chr9:63225201-63225801",
         "Map2k1",
         "sliding_window_score",
         "0.583182692527771"
        ],
        [
         "19",
         "Irf3",
         "chr17:28451778-28452378",
         "Mapk14",
         "sliding_window_score",
         "0.6305845975875854"
        ],
        [
         "20",
         "Ppard",
         "chr12:112369862-112370462",
         "Akt1",
         "sliding_window_score",
         "0.5552611351013184"
        ],
        [
         "21",
         "Maf",
         "chr7:67878110-67878710",
         "Igf1r",
         "sliding_window_score",
         "0.9061052799224854"
        ],
        [
         "22",
         "Nr6a1",
         "chr12:76243516-76244116",
         "Hspa2",
         "sliding_window_score",
         "0.5552390813827515"
        ],
        [
         "23",
         "Foxp1",
         "chr5:117820523-117821123",
         "Wsb2",
         "sliding_window_score",
         "0.5481415390968323"
        ],
        [
         "24",
         "Bach2",
         "chr9:69894386-69894986",
         "Rora",
         "sliding_window_score",
         "0.5949291586875916"
        ],
        [
         "25",
         "Patz1",
         "chr5:33610502-33611102",
         "Rnf4",
         "sliding_window_score",
         "0.39257869124412537"
        ],
        [
         "26",
         "Rbpj",
         "chr2:9493430-9494030",
         "Gata3",
         "sliding_window_score",
         "0.6379019021987915"
        ],
        [
         "27",
         "Satb2",
         "chr2:26422874-26423474",
         "Wdr5",
         "sliding_window_score",
         "0.0"
        ],
        [
         "28",
         "Tgif2",
         "chr12:84500362-84500962",
         "Vsx2",
         "sliding_window_score",
         "0.5964614152908325"
        ],
        [
         "29",
         "Srebf1",
         "chr8:83406721-83407321",
         "Tecr",
         "sliding_window_score",
         "0.5644007325172424"
        ],
        [
         "30",
         "Myc",
         "chr19:3488285-3488885",
         "Grk2",
         "sliding_window_score",
         "0.5388203263282776"
        ],
        [
         "31",
         "Creb1",
         "chr6:125661385-125661985",
         "Phb2",
         "sliding_window_score",
         "0.5394709706306458"
        ],
        [
         "32",
         "Hivep1",
         "chr13:45672502-45673102",
         "Jarid2",
         "sliding_window_score",
         "0.0"
        ],
        [
         "33",
         "Etv5",
         "chrX:71700666-71701266",
         "Dusp9",
         "sliding_window_score",
         "0.5139784216880798"
        ],
        [
         "34",
         "Rbpj",
         "chr11:32063670-32064270",
         "Nprl3",
         "sliding_window_score",
         "0.6432303786277771"
        ],
        [
         "35",
         "Sall4",
         "chr5:142608448-142609048",
         "Actb",
         "sliding_window_score",
         "0.0"
        ],
        [
         "36",
         "Cxxc1",
         "chr8:25905598-25906198",
         "Nsd3",
         "sliding_window_score",
         "0.0"
        ],
        [
         "37",
         "Sox2",
         "chr4:3402747-3403347",
         "Rps20",
         "sliding_window_score",
         "0.3986606001853943"
        ],
        [
         "38",
         "Hbp1",
         "chr9:57485628-57486228",
         "Sin3a",
         "sliding_window_score",
         "0.5639582872390747"
        ],
        [
         "39",
         "Setdb1",
         "chr10:88548618-88549218",
         "Nup37",
         "sliding_window_score",
         "0.0"
        ],
        [
         "40",
         "Trp53",
         "chr14:121865062-121865662",
         "Zic5",
         "sliding_window_score",
         "0.8209099769592285"
        ],
        [
         "41",
         "Zeb1",
         "chr16:21755977-21756577",
         "Ephb3",
         "sliding_window_score",
         "0.5620158910751343"
        ],
        [
         "42",
         "Zeb2",
         "chr7:125918763-125919363",
         "Gtf3c1",
         "sliding_window_score",
         "0.647566556930542"
        ],
        [
         "43",
         "Tgif2",
         "chr1:166360063-166360663",
         "Pou2f1",
         "sliding_window_score",
         "0.6015786528587341"
        ],
        [
         "44",
         "E2f8",
         "chr2:121967103-121967703",
         "Wdr76",
         "sliding_window_score",
         "0.7085700035095215"
        ],
        [
         "45",
         "Dnmt1",
         "chr7:84055792-84056392",
         "Abcc2",
         "sliding_window_score",
         "0.6653796434402466"
        ],
        [
         "46",
         "Hinfp",
         "chr8:105120838-105121438",
         "E2f4",
         "sliding_window_score",
         "0.8439623713493347"
        ],
        [
         "47",
         "Zfp692",
         "chr2:167712652-167713252",
         "B4galt5",
         "sliding_window_score",
         "0.6994163393974304"
        ],
        [
         "48",
         "Mbtps2",
         "chr17:53531080-53531680",
         "Slc39a5",
         "sliding_window_score",
         "0.589884877204895"
        ],
        [
         "49",
         "Sox11",
         "chr14:33431214-33431814",
         "Bmpr1a",
         "sliding_window_score",
         "0.5585659742355347"
        ]
       ],
       "shape": {
        "columns": 5,
        "rows": 41612706
       }
      },
      "text/html": [
       "<div>\n",
       "<style scoped>\n",
       "    .dataframe tbody tr th:only-of-type {\n",
       "        vertical-align: middle;\n",
       "    }\n",
       "\n",
       "    .dataframe tbody tr th {\n",
       "        vertical-align: top;\n",
       "    }\n",
       "\n",
       "    .dataframe thead th {\n",
       "        text-align: right;\n",
       "    }\n",
       "</style>\n",
       "<table border=\"1\" class=\"dataframe\">\n",
       "  <thead>\n",
       "    <tr style=\"text-align: right;\">\n",
       "      <th></th>\n",
       "      <th>source_id</th>\n",
       "      <th>peak_id</th>\n",
       "      <th>target_id</th>\n",
       "      <th>score_type</th>\n",
       "      <th>score_value</th>\n",
       "    </tr>\n",
       "  </thead>\n",
       "  <tbody>\n",
       "    <tr>\n",
       "      <th>0</th>\n",
       "      <td>Gli2</td>\n",
       "      <td>chr11:80062014-80062614</td>\n",
       "      <td>Suz12</td>\n",
       "      <td>sliding_window_score</td>\n",
       "      <td>0.535918</td>\n",
       "    </tr>\n",
       "    <tr>\n",
       "      <th>1</th>\n",
       "      <td>Trp53</td>\n",
       "      <td>chr19:46223020-46223620</td>\n",
       "      <td>As3mt</td>\n",
       "      <td>sliding_window_score</td>\n",
       "      <td>0.820166</td>\n",
       "    </tr>\n",
       "    <tr>\n",
       "      <th>2</th>\n",
       "      <td>Runx1</td>\n",
       "      <td>chr3:95194969-95195569</td>\n",
       "      <td>Arnt</td>\n",
       "      <td>sliding_window_score</td>\n",
       "      <td>0.527844</td>\n",
       "    </tr>\n",
       "    <tr>\n",
       "      <th>3</th>\n",
       "      <td>Zeb2</td>\n",
       "      <td>chr2:139906313-139906913</td>\n",
       "      <td>Fli1</td>\n",
       "      <td>sliding_window_score</td>\n",
       "      <td>0.653707</td>\n",
       "    </tr>\n",
       "    <tr>\n",
       "      <th>4</th>\n",
       "      <td>Kdm2b</td>\n",
       "      <td>chr8:85857079-85857679</td>\n",
       "      <td>Nacc1</td>\n",
       "      <td>sliding_window_score</td>\n",
       "      <td>0.464758</td>\n",
       "    </tr>\n",
       "    <tr>\n",
       "      <th>...</th>\n",
       "      <td>...</td>\n",
       "      <td>...</td>\n",
       "      <td>...</td>\n",
       "      <td>...</td>\n",
       "      <td>...</td>\n",
       "    </tr>\n",
       "    <tr>\n",
       "      <th>41612701</th>\n",
       "      <td>Klf4</td>\n",
       "      <td>chr16:32611969-32612569</td>\n",
       "      <td>Tfrc</td>\n",
       "      <td>string_combined_score</td>\n",
       "      <td>0.228683</td>\n",
       "    </tr>\n",
       "    <tr>\n",
       "      <th>41612702</th>\n",
       "      <td>Smad3</td>\n",
       "      <td>chr4:134473617-134474217</td>\n",
       "      <td>Stmn1</td>\n",
       "      <td>string_combined_score</td>\n",
       "      <td>0.415886</td>\n",
       "    </tr>\n",
       "    <tr>\n",
       "      <th>41612703</th>\n",
       "      <td>Jund</td>\n",
       "      <td>chr4:86725067-86725667</td>\n",
       "      <td>Mllt3</td>\n",
       "      <td>string_combined_score</td>\n",
       "      <td>0.114171</td>\n",
       "    </tr>\n",
       "    <tr>\n",
       "      <th>41612704</th>\n",
       "      <td>Sox6</td>\n",
       "      <td>chr14:99616849-99617449</td>\n",
       "      <td>Klf12</td>\n",
       "      <td>string_combined_score</td>\n",
       "      <td>0.547130</td>\n",
       "    </tr>\n",
       "    <tr>\n",
       "      <th>41612705</th>\n",
       "      <td>Sox3</td>\n",
       "      <td>chr4:129224176-129224776</td>\n",
       "      <td>Kpna6</td>\n",
       "      <td>string_combined_score</td>\n",
       "      <td>0.145198</td>\n",
       "    </tr>\n",
       "  </tbody>\n",
       "</table>\n",
       "<p>41612706 rows × 5 columns</p>\n",
       "</div>"
      ],
      "text/plain": [
       "         source_id                   peak_id target_id             score_type  \\\n",
       "0             Gli2   chr11:80062014-80062614     Suz12   sliding_window_score   \n",
       "1            Trp53   chr19:46223020-46223620     As3mt   sliding_window_score   \n",
       "2            Runx1    chr3:95194969-95195569      Arnt   sliding_window_score   \n",
       "3             Zeb2  chr2:139906313-139906913      Fli1   sliding_window_score   \n",
       "4            Kdm2b    chr8:85857079-85857679     Nacc1   sliding_window_score   \n",
       "...            ...                       ...       ...                    ...   \n",
       "41612701      Klf4   chr16:32611969-32612569      Tfrc  string_combined_score   \n",
       "41612702     Smad3  chr4:134473617-134474217     Stmn1  string_combined_score   \n",
       "41612703      Jund    chr4:86725067-86725667     Mllt3  string_combined_score   \n",
       "41612704      Sox6   chr14:99616849-99617449     Klf12  string_combined_score   \n",
       "41612705      Sox3  chr4:129224176-129224776     Kpna6  string_combined_score   \n",
       "\n",
       "          score_value  \n",
       "0            0.535918  \n",
       "1            0.820166  \n",
       "2            0.527844  \n",
       "3            0.653707  \n",
       "4            0.464758  \n",
       "...               ...  \n",
       "41612701     0.228683  \n",
       "41612702     0.415886  \n",
       "41612703     0.114171  \n",
       "41612704     0.547130  \n",
       "41612705     0.145198  \n",
       "\n",
       "[41612706 rows x 5 columns]"
      ]
     },
     "execution_count": 100,
     "metadata": {},
     "output_type": "execute_result"
    }
   ],
   "source": [
    "inferred_df"
   ]
  },
  {
   "cell_type": "code",
   "execution_count": null,
   "metadata": {},
   "outputs": [],
   "source": [
    "# Aggregate scores\n",
    "grouped_ddf = (\n",
    "    inferred_df\n",
    "    .groupby([\"source_id\", \"peak_id\", \"target_id\", \"score_type\"])[\"score_value\"]\n",
    "    .mean()\n",
    "    .reset_index()\n",
    ")\n",
    "\n",
    "# Pivot manually by converting to pandas (if dataset is small enough)\n",
    "def pivot_partition(df):\n",
    "    return df.pivot_table(\n",
    "        index=[\"source_id\", \"peak_id\", \"target_id\"],\n",
    "        columns=\"score_type\",\n",
    "        values=\"score_value\",\n",
    "        aggfunc=\"first\"\n",
    "    ).reset_index()\n",
    "inferred_df_full = pivot_partition(grouped_ddf)"
   ]
  },
  {
   "cell_type": "code",
   "execution_count": null,
   "metadata": {},
   "outputs": [],
   "source": [
    "def aggregate_tf_tg_score(peak_scores):\n",
    "    return np.percentile(peak_scores, 75)\n",
    "\n",
    "def softmax_weighted_average(peak_scores, lambda_=5.0):\n",
    "    weights = np.exp(lambda_ * peak_scores)\n",
    "    return np.sum(weights * peak_scores) / np.sum(weights)"
   ]
  },
  {
   "cell_type": "code",
   "execution_count": null,
   "metadata": {},
   "outputs": [
    {
     "name": "stdout",
     "output_type": "stream",
     "text": [
      "score_type source_id                    peak_id target_id     score\n",
      "0             AHCTF1  chr10:110317230-110317830    NAP1L1  0.125052\n",
      "1             AHCTF1  chr10:110534362-110534962    NAP1L1  0.142261\n",
      "2             AHCTF1  chr10:110600132-110600732    NAP1L1  0.153640\n",
      "3             AHCTF1  chr10:110782584-110783184    NAP1L1  0.125052\n",
      "4             AHCTF1  chr10:110794392-110794992    NAP1L1  0.153640\n"
     ]
    }
   ],
   "source": [
    "print(result_df.head())"
   ]
  },
  {
   "cell_type": "code",
   "execution_count": null,
   "metadata": {},
   "outputs": [
    {
     "name": "stderr",
     "output_type": "stream",
     "text": [
      "Task exception was never retrieved\n",
      "future: <Task finished name='Task-473528' coro=<Client._gather.<locals>.wait() done, defined at /gpfs/Home/esm5360/.conda/envs/my_env/lib/python3.9/site-packages/distributed/client.py:2396> exception=AllExit()>\n",
      "Traceback (most recent call last):\n",
      "  File \"/gpfs/Home/esm5360/.conda/envs/my_env/lib/python3.9/site-packages/distributed/client.py\", line 2405, in wait\n",
      "    raise AllExit()\n",
      "distributed.client.AllExit\n"
     ]
    }
   ],
   "source": [
    "threshold = 0.5\n",
    "agg_df = result_df.groupby([\"source_id\", \"target_id\"])[\"score\"].agg(\n",
    "    tf_tg_score_75pct = lambda x: np.percentile(x, 75),\n",
    "    tf_tg_score_softmax = lambda x: softmax_weighted_average(x, lambda_=5.0),\n",
    "    tf_tg_frac_high = lambda x: np.mean(x > threshold)\n",
    ").reset_index()"
   ]
  },
  {
   "cell_type": "code",
   "execution_count": null,
   "metadata": {},
   "outputs": [
    {
     "data": {
      "application/vnd.microsoft.datawrangler.viewer.v0+json": {
       "columns": [
        {
         "name": "index",
         "rawType": "int64",
         "type": "integer"
        },
        {
         "name": "source_id",
         "rawType": "string",
         "type": "string"
        },
        {
         "name": "target_id",
         "rawType": "string",
         "type": "string"
        },
        {
         "name": "tf_tg_score_75pct",
         "rawType": "float32",
         "type": "float"
        },
        {
         "name": "tf_tg_score_softmax",
         "rawType": "float32",
         "type": "float"
        },
        {
         "name": "tf_tg_frac_high",
         "rawType": "float64",
         "type": "float"
        }
       ],
       "ref": "4ed38055-535d-4d19-b1bb-18d7e350fc81",
       "rows": [
        [
         "0",
         "AHCTF1",
         "9530068E07RIK",
         "0.06889716",
         "0.07010076",
         "0.0"
        ],
        [
         "1",
         "AHCTF1",
         "AAAS",
         "0.2274226",
         "0.2080272",
         "0.0"
        ],
        [
         "2",
         "AHCTF1",
         "ABCE1",
         "0.13865192",
         "0.13659357",
         "0.0"
        ],
        [
         "3",
         "AHCTF1",
         "ACTL6A",
         "0.14260216",
         "0.14188243",
         "0.0"
        ],
        [
         "4",
         "AHCTF1",
         "ADNP2",
         "0.090606555",
         "0.09049013",
         "0.0"
        ],
        [
         "5",
         "AHCTF1",
         "ADRM1",
         "0.06938097",
         "0.0689926",
         "0.0"
        ],
        [
         "6",
         "AHCTF1",
         "AFF1",
         "0.14608665",
         "0.14551325",
         "0.0"
        ],
        [
         "7",
         "AHCTF1",
         "AFF3",
         "0.10084102",
         "0.094895564",
         "0.0"
        ],
        [
         "8",
         "AHCTF1",
         "AFF4",
         "0.30450046",
         "0.282468",
         "0.0"
        ],
        [
         "9",
         "AHCTF1",
         "AKR7A5",
         "0.06942371",
         "0.06804899",
         "0.0"
        ],
        [
         "10",
         "AHCTF1",
         "ALMS1",
         "0.10770958",
         "0.098955736",
         "0.0"
        ],
        [
         "11",
         "AHCTF1",
         "AMBRA1",
         "0.12068095",
         "0.112910986",
         "0.0"
        ],
        [
         "12",
         "AHCTF1",
         "ANAPC1",
         "0.15371576",
         "0.144037",
         "0.0"
        ],
        [
         "13",
         "AHCTF1",
         "ANKHD1",
         "0.1230078",
         "0.1230078",
         "0.0"
        ],
        [
         "14",
         "AHCTF1",
         "ANKLE2",
         "0.11969263",
         "0.10793401",
         "0.0"
        ],
        [
         "15",
         "AHCTF1",
         "ANKRD17",
         "0.19334993",
         "0.16976996",
         "0.0"
        ],
        [
         "16",
         "AHCTF1",
         "ANTXR1",
         "0.054115046",
         "0.0490955",
         "0.0"
        ],
        [
         "17",
         "AHCTF1",
         "AP1G1",
         "0.11983441",
         "0.10286267",
         "0.0"
        ],
        [
         "18",
         "AHCTF1",
         "AP2B1",
         "0.11916593",
         "0.11188889",
         "0.0"
        ],
        [
         "19",
         "AHCTF1",
         "APOA5",
         "0.001759848",
         "0.0016230397",
         "0.0"
        ],
        [
         "20",
         "AHCTF1",
         "AQR",
         "0.14528485",
         "0.12795913",
         "0.0"
        ],
        [
         "21",
         "AHCTF1",
         "ARFGEF1",
         "0.13540293",
         "0.13260958",
         "0.0"
        ],
        [
         "22",
         "AHCTF1",
         "ARID2",
         "0.11913571",
         "0.116070524",
         "0.0"
        ],
        [
         "23",
         "AHCTF1",
         "ASPM",
         "0.12460497",
         "0.119322255",
         "0.0"
        ],
        [
         "24",
         "AHCTF1",
         "ASXL1",
         "0.08974336",
         "0.08610453",
         "0.0"
        ],
        [
         "25",
         "AHCTF1",
         "ASXL2",
         "0.1294415",
         "0.11910223",
         "0.0"
        ],
        [
         "26",
         "AHCTF1",
         "ATAD2",
         "0.19063844",
         "0.17722319",
         "0.0"
        ],
        [
         "27",
         "AHCTF1",
         "ATAD2B",
         "0.13662636",
         "0.12925911",
         "0.0"
        ],
        [
         "28",
         "AHCTF1",
         "ATF1",
         "0.11879193",
         "0.11161551",
         "0.0"
        ],
        [
         "29",
         "AHCTF1",
         "ATF2",
         "0.1083026",
         "0.10249299",
         "0.0"
        ],
        [
         "30",
         "AHCTF1",
         "ATM",
         "0.14618126",
         "0.13290994",
         "0.0"
        ],
        [
         "31",
         "AHCTF1",
         "ATR",
         "0.12151335",
         "0.11985243",
         "0.0"
        ],
        [
         "32",
         "AHCTF1",
         "ATRX",
         "0.0896977",
         "0.079479",
         "0.0"
        ],
        [
         "33",
         "AHCTF1",
         "AURKA",
         "0.10753603",
         "0.11335617",
         "0.0"
        ],
        [
         "34",
         "AHCTF1",
         "AURKB",
         "0.09593041",
         "0.095469095",
         "0.0"
        ],
        [
         "35",
         "AHCTF1",
         "AZIN1",
         "0.15634982",
         "0.14434467",
         "0.0"
        ],
        [
         "36",
         "AHCTF1",
         "BAHCC1",
         "0.0854117",
         "0.08171484",
         "0.0"
        ],
        [
         "37",
         "AHCTF1",
         "BANF1",
         "0.12277188",
         "0.11689614",
         "0.0"
        ],
        [
         "38",
         "AHCTF1",
         "BANF2",
         "0.0072343294",
         "0.0067818295",
         "0.0"
        ],
        [
         "39",
         "AHCTF1",
         "BAZ1B",
         "0.17445505",
         "0.15045272",
         "0.0"
        ],
        [
         "40",
         "AHCTF1",
         "BCCIP",
         "0.10770295",
         "0.109726794",
         "0.0"
        ],
        [
         "41",
         "AHCTF1",
         "BCLAF1",
         "0.15362823",
         "0.14558823",
         "0.0"
        ],
        [
         "42",
         "AHCTF1",
         "BDP1",
         "0.15685345",
         "0.14526895",
         "0.0"
        ],
        [
         "43",
         "AHCTF1",
         "BIRC6",
         "0.18187955",
         "0.16985758",
         "0.0"
        ],
        [
         "44",
         "AHCTF1",
         "BMS1",
         "0.17536905",
         "0.15813056",
         "0.0"
        ],
        [
         "45",
         "AHCTF1",
         "BPTF",
         "0.18078463",
         "0.17748487",
         "0.0"
        ],
        [
         "46",
         "AHCTF1",
         "BRCA1",
         "0.090480156",
         "0.08502536",
         "0.0"
        ],
        [
         "47",
         "AHCTF1",
         "BRD1",
         "0.10501946",
         "0.09171798",
         "0.0"
        ],
        [
         "48",
         "AHCTF1",
         "BRD7",
         "0.1128714",
         "0.09655021",
         "0.0"
        ],
        [
         "49",
         "AHCTF1",
         "BRD8",
         "0.12068095",
         "0.110913195",
         "0.0"
        ]
       ],
       "shape": {
        "columns": 5,
        "rows": 224552
       }
      },
      "text/html": [
       "<div>\n",
       "<style scoped>\n",
       "    .dataframe tbody tr th:only-of-type {\n",
       "        vertical-align: middle;\n",
       "    }\n",
       "\n",
       "    .dataframe tbody tr th {\n",
       "        vertical-align: top;\n",
       "    }\n",
       "\n",
       "    .dataframe thead th {\n",
       "        text-align: right;\n",
       "    }\n",
       "</style>\n",
       "<table border=\"1\" class=\"dataframe\">\n",
       "  <thead>\n",
       "    <tr style=\"text-align: right;\">\n",
       "      <th></th>\n",
       "      <th>source_id</th>\n",
       "      <th>target_id</th>\n",
       "      <th>tf_tg_score_75pct</th>\n",
       "      <th>tf_tg_score_softmax</th>\n",
       "      <th>tf_tg_frac_high</th>\n",
       "    </tr>\n",
       "  </thead>\n",
       "  <tbody>\n",
       "    <tr>\n",
       "      <th>0</th>\n",
       "      <td>AHCTF1</td>\n",
       "      <td>9530068E07RIK</td>\n",
       "      <td>0.068897</td>\n",
       "      <td>0.070101</td>\n",
       "      <td>0.0</td>\n",
       "    </tr>\n",
       "    <tr>\n",
       "      <th>1</th>\n",
       "      <td>AHCTF1</td>\n",
       "      <td>AAAS</td>\n",
       "      <td>0.227423</td>\n",
       "      <td>0.208027</td>\n",
       "      <td>0.0</td>\n",
       "    </tr>\n",
       "    <tr>\n",
       "      <th>2</th>\n",
       "      <td>AHCTF1</td>\n",
       "      <td>ABCE1</td>\n",
       "      <td>0.138652</td>\n",
       "      <td>0.136594</td>\n",
       "      <td>0.0</td>\n",
       "    </tr>\n",
       "    <tr>\n",
       "      <th>3</th>\n",
       "      <td>AHCTF1</td>\n",
       "      <td>ACTL6A</td>\n",
       "      <td>0.142602</td>\n",
       "      <td>0.141882</td>\n",
       "      <td>0.0</td>\n",
       "    </tr>\n",
       "    <tr>\n",
       "      <th>4</th>\n",
       "      <td>AHCTF1</td>\n",
       "      <td>ADNP2</td>\n",
       "      <td>0.090607</td>\n",
       "      <td>0.090490</td>\n",
       "      <td>0.0</td>\n",
       "    </tr>\n",
       "    <tr>\n",
       "      <th>...</th>\n",
       "      <td>...</td>\n",
       "      <td>...</td>\n",
       "      <td>...</td>\n",
       "      <td>...</td>\n",
       "      <td>...</td>\n",
       "    </tr>\n",
       "    <tr>\n",
       "      <th>224547</th>\n",
       "      <td>ZZZ3</td>\n",
       "      <td>ZMYM5</td>\n",
       "      <td>0.287492</td>\n",
       "      <td>0.290926</td>\n",
       "      <td>0.0</td>\n",
       "    </tr>\n",
       "    <tr>\n",
       "      <th>224548</th>\n",
       "      <td>ZZZ3</td>\n",
       "      <td>ZMYND8</td>\n",
       "      <td>0.446084</td>\n",
       "      <td>0.432690</td>\n",
       "      <td>0.0</td>\n",
       "    </tr>\n",
       "    <tr>\n",
       "      <th>224549</th>\n",
       "      <td>ZZZ3</td>\n",
       "      <td>ZNHIT6</td>\n",
       "      <td>0.247404</td>\n",
       "      <td>0.248302</td>\n",
       "      <td>0.0</td>\n",
       "    </tr>\n",
       "    <tr>\n",
       "      <th>224550</th>\n",
       "      <td>ZZZ3</td>\n",
       "      <td>ZPR1</td>\n",
       "      <td>0.407686</td>\n",
       "      <td>0.395201</td>\n",
       "      <td>0.0</td>\n",
       "    </tr>\n",
       "    <tr>\n",
       "      <th>224551</th>\n",
       "      <td>ZZZ3</td>\n",
       "      <td>ZSWIM2</td>\n",
       "      <td>0.001821</td>\n",
       "      <td>0.001485</td>\n",
       "      <td>0.0</td>\n",
       "    </tr>\n",
       "  </tbody>\n",
       "</table>\n",
       "<p>224552 rows × 5 columns</p>\n",
       "</div>"
      ],
      "text/plain": [
       "       source_id      target_id  tf_tg_score_75pct  tf_tg_score_softmax  \\\n",
       "0         AHCTF1  9530068E07RIK           0.068897             0.070101   \n",
       "1         AHCTF1           AAAS           0.227423             0.208027   \n",
       "2         AHCTF1          ABCE1           0.138652             0.136594   \n",
       "3         AHCTF1         ACTL6A           0.142602             0.141882   \n",
       "4         AHCTF1          ADNP2           0.090607             0.090490   \n",
       "...          ...            ...                ...                  ...   \n",
       "224547      ZZZ3          ZMYM5           0.287492             0.290926   \n",
       "224548      ZZZ3         ZMYND8           0.446084             0.432690   \n",
       "224549      ZZZ3         ZNHIT6           0.247404             0.248302   \n",
       "224550      ZZZ3           ZPR1           0.407686             0.395201   \n",
       "224551      ZZZ3         ZSWIM2           0.001821             0.001485   \n",
       "\n",
       "        tf_tg_frac_high  \n",
       "0                   0.0  \n",
       "1                   0.0  \n",
       "2                   0.0  \n",
       "3                   0.0  \n",
       "4                   0.0  \n",
       "...                 ...  \n",
       "224547              0.0  \n",
       "224548              0.0  \n",
       "224549              0.0  \n",
       "224550              0.0  \n",
       "224551              0.0  \n",
       "\n",
       "[224552 rows x 5 columns]"
      ]
     },
     "execution_count": 106,
     "metadata": {},
     "output_type": "execute_result"
    }
   ],
   "source": [
    "agg_df"
   ]
  },
  {
   "cell_type": "code",
   "execution_count": null,
   "metadata": {},
   "outputs": [],
   "source": [
    "agg_df[\"label\"] = [\"True\" if pair in ground_truth_pairs else \"False\" for pair in list(zip(agg_df[\"source_id\"], agg_df[\"target_id\"]))]"
   ]
  },
  {
   "cell_type": "code",
   "execution_count": null,
   "metadata": {},
   "outputs": [],
   "source": [
    "n_true = len(agg_df[agg_df[\"label\"] == \"True\"])\n",
    "n_false = len(agg_df[agg_df[\"label\"] == \"False\"])\n",
    "\n",
    "min_group_count = min(n_false, n_true)\n",
    "\n",
    "tf_tg_true = agg_df[agg_df[\"label\"] == \"True\"].sample(min_group_count)\n",
    "tf_tg_false = agg_df[agg_df[\"label\"] == \"False\"].sample(min_group_count)\n",
    "\n",
    "tf_tg_count_balanced = pd.concat([tf_tg_true, tf_tg_false])"
   ]
  }
 ],
 "metadata": {
  "language_info": {
   "codemirror_mode": {
    "name": "ipython",
    "version": 3
   },
   "file_extension": ".py",
   "mimetype": "text/x-python",
   "name": "python",
   "nbconvert_exporter": "python",
   "pygments_lexer": "ipython3",
   "version": 3
  }
 },
 "nbformat": 4,
 "nbformat_minor": 2
}
