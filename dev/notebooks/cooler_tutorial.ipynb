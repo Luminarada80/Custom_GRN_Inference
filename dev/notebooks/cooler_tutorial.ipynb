{
 "cells": [
  {
   "cell_type": "markdown",
   "id": "52b8fb61",
   "metadata": {},
   "source": [
    "# Cooler - Manage Hi-C Datasets"
   ]
  },
  {
   "cell_type": "code",
   "execution_count": null,
   "id": "09a91392",
   "metadata": {},
   "outputs": [],
   "source": [
    "import os\n",
    "import cooler\n",
    "import pandas as pd\n",
    "import numpy as np\n",
    "import h5py\n",
    "import matplotlib.pyplot as plt\n",
    "\n",
    "project_dir = \"/gpfs/Labs/Uzun/SCRIPTS/PROJECTS/2024.SINGLE_CELL_GRN_INFERENCE.MOELLER/\"\n",
    "\n",
    "file_path = os.path.join(project_dir, \"data/Hi-C_data/4DNFITHTURR9.mcool::resolutions/10000\")\n",
    "\n",
    "clr = cooler.Cooler(file_path)"
   ]
  },
  {
   "cell_type": "code",
   "execution_count": null,
   "id": "3df2d366",
   "metadata": {},
   "outputs": [],
   "source": [
    "clr.info"
   ]
  },
  {
   "cell_type": "markdown",
   "id": "e356505e",
   "metadata": {},
   "source": [
    "We can get a view of the table as a pandas DataFrame"
   ]
  },
  {
   "cell_type": "code",
   "execution_count": null,
   "id": "ab678112",
   "metadata": {},
   "outputs": [],
   "source": [
    "clr.chroms()[1:5]"
   ]
  },
  {
   "cell_type": "markdown",
   "id": "1ebde8e7",
   "metadata": {},
   "source": [
    "We can also access the chromosome names"
   ]
  },
  {
   "cell_type": "code",
   "execution_count": null,
   "id": "122196de",
   "metadata": {},
   "outputs": [],
   "source": [
    "clr.chromnames"
   ]
  },
  {
   "cell_type": "markdown",
   "id": "42a28e95",
   "metadata": {},
   "source": [
    "In the bin table, the **weight** column contains the *matrix balancing weights* computed for each genomic bin."
   ]
  },
  {
   "cell_type": "code",
   "execution_count": null,
   "id": "5695314f",
   "metadata": {},
   "outputs": [],
   "source": [
    "clr.chromsizes"
   ]
  },
  {
   "cell_type": "code",
   "execution_count": null,
   "id": "e10ae58a",
   "metadata": {},
   "outputs": [],
   "source": [
    "clr.bins()[:10]"
   ]
  },
  {
   "cell_type": "markdown",
   "id": "978ec5a2",
   "metadata": {},
   "source": [
    "The pixel table contains the non-zero upper triangle entries of the contact map."
   ]
  },
  {
   "cell_type": "code",
   "execution_count": null,
   "id": "048dfef2",
   "metadata": {},
   "outputs": [],
   "source": [
    "clr.pixels()[:10]"
   ]
  },
  {
   "cell_type": "markdown",
   "id": "145da7b5",
   "metadata": {},
   "source": [
    "Use the `join=True` option if you would like to expand the bin IDs into genomic bin coordinates by joining the output with the bin table."
   ]
  },
  {
   "cell_type": "code",
   "execution_count": null,
   "id": "6cc45019",
   "metadata": {},
   "outputs": [],
   "source": [
    "clr.pixels(join=True)[:10]"
   ]
  },
  {
   "cell_type": "markdown",
   "id": "35518be5",
   "metadata": {},
   "source": [
    "The `matrix` method provides a 2D-sliceable view of the data. It allows you to query the data on file as a full rectangular contact matrix."
   ]
  },
  {
   "cell_type": "code",
   "execution_count": null,
   "id": "44c64912",
   "metadata": {},
   "outputs": [],
   "source": [
    "clr.matrix(balance=False)[1000:1200, 1000:1200]"
   ]
  },
  {
   "cell_type": "markdown",
   "id": "738e482b",
   "metadata": {},
   "source": [
    "Use `sparse=True` to return `scipy.sparse.coo_matrix` objects instead."
   ]
  },
  {
   "cell_type": "code",
   "execution_count": null,
   "id": "085c6d64",
   "metadata": {},
   "outputs": [],
   "source": [
    "mat = clr.matrix(balance=False, sparse=True)[1000:1200, 1000:1200]\n",
    "mat"
   ]
  },
  {
   "cell_type": "markdown",
   "id": "e231b37a",
   "metadata": {},
   "source": [
    "It is straightforward to convert to a dense 2D numpy array."
   ]
  },
  {
   "cell_type": "code",
   "execution_count": null,
   "id": "9d05027b",
   "metadata": {},
   "outputs": [],
   "source": [
    "arr = mat.toarray()\n",
    "arr"
   ]
  },
  {
   "cell_type": "markdown",
   "id": "2cd49553",
   "metadata": {},
   "source": [
    "Notice that the lower triabgle has been automatically filled in."
   ]
  },
  {
   "cell_type": "code",
   "execution_count": null,
   "id": "3dc22ec6",
   "metadata": {},
   "outputs": [],
   "source": [
    "fig = plt.figure(figsize=(10,10))\n",
    "ax = fig.add_subplot(111)\n",
    "im = ax.matshow(np.log10(arr), cmap='YlOrRd')\n",
    "fig.colorbar(im)"
   ]
  },
  {
   "cell_type": "markdown",
   "id": "dc683cb6",
   "metadata": {},
   "source": [
    "Notice the light and dark \"banded\" appearance? That's because you are looking at the unnormalized counts."
   ]
  },
  {
   "cell_type": "markdown",
   "id": "1e992076",
   "metadata": {},
   "source": [
    "### Balancing your selection\n",
    "\n",
    "We usually normalize or \"correct\" Hi-C using a technique called matrix balancing. This involves finding a set of weights or biases $b_{i}$ for each bin $i$ such that\n",
    "\n",
    "$$\\text{Normalized}[i,j] = \\text{Observed}[i,j] \\times b[i]] \\times b[j]$$\n",
    "\n",
    "such that the merginals (i.e., row/column sums) of the global contact matrix are flat and equal.\n",
    "\n",
    "Cooler can store the pre-computed balancing weights in the bin table.\n",
    "\n",
    "Here's one way to manually apply them to balance your selection."
   ]
  },
  {
   "cell_type": "code",
   "execution_count": null,
   "id": "d77dd6a6",
   "metadata": {},
   "outputs": [],
   "source": [
    "# Get the balancing weights as a numpy array\n",
    "weights = clr.bins()['weight']  # view\n",
    "bias = weights[1000:1200]       # series\n",
    "bias = bias.values              # array\n",
    "\n",
    "# Fetch a sparse matrix of the range\n",
    "mat = clr.matrix(balance=False, sparse=True)[1000:1200, 1000:1200]\n",
    "\n",
    "# Apply the balancing weights\n",
    "mat.data = bias[mat.row] * bias[mat.col] * mat.data\n",
    "\n",
    "# Convert to dense numpy array\n",
    "arr = mat.toarray()"
   ]
  },
  {
   "cell_type": "markdown",
   "id": "2978f5a7",
   "metadata": {},
   "source": [
    "As a shortcut, we get the same result by passing `balance=True` to the matrix view constructor."
   ]
  },
  {
   "cell_type": "code",
   "execution_count": null,
   "id": "e8c2e8d1",
   "metadata": {},
   "outputs": [],
   "source": [
    "arr2 = clr.matrix(balance=True, sparse=True)[1000:1200, 1000:1200].toarray()\n",
    "np.allclose(arr, arr2, equal_nan=True)"
   ]
  },
  {
   "cell_type": "code",
   "execution_count": null,
   "id": "41ed9955",
   "metadata": {},
   "outputs": [],
   "source": [
    "fig = plt.figure(figsize=(10,10))\n",
    "ax = fig.add_subplot(111)\n",
    "im = ax.matshow(np.log10(arr), cmap='YlOrRd')\n",
    "fig.colorbar(im)"
   ]
  },
  {
   "cell_type": "markdown",
   "id": "4ac84c69",
   "metadata": {},
   "source": [
    "### Genomic coordinate range selection\n",
    "\n",
    "The bin table, pixel table, and matrix views also accept UCSC-style genomic range strings or (chrom, start, end) triplets."
   ]
  },
  {
   "cell_type": "code",
   "execution_count": null,
   "id": "08a4a3a3",
   "metadata": {},
   "outputs": [],
   "source": [
    "clr.bins().fetch('chr2:10,000,000-20,000,000')"
   ]
  },
  {
   "cell_type": "code",
   "execution_count": null,
   "id": "264294e9",
   "metadata": {},
   "outputs": [],
   "source": [
    "cis = clr.matrix(sparse=True).fetch('chr19')\n",
    "cis.shape"
   ]
  },
  {
   "cell_type": "code",
   "execution_count": null,
   "id": "a99e3b9c",
   "metadata": {},
   "outputs": [],
   "source": [
    "trans = clr.matrix(sparse=True).fetch('chr18', 'chr19')\n",
    "trans.shape"
   ]
  }
 ],
 "metadata": {
  "language_info": {
   "name": "python"
  }
 },
 "nbformat": 4,
 "nbformat_minor": 5
}
