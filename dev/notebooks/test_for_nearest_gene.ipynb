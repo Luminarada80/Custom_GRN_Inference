{
 "cells": [
  {
   "cell_type": "markdown",
   "id": "65dd39d7",
   "metadata": {},
   "source": [
    "## Testing if Ground Truth Peaks are Mapped to Nearest Gene\n",
    "\n",
    "For some of the ground truth files, I am not sure if the TF-TG edges are mapped to the nearest gene."
   ]
  },
  {
   "cell_type": "code",
   "execution_count": null,
   "id": "2a327919",
   "metadata": {},
   "outputs": [],
   "source": [
    "import pandas as pd\n",
    "from grn_inference.utils import find_genes_near_peaks, format_peaks\n",
    "import pybedtools\n",
    "\n",
    "\n",
    "print(\"Reading and formatting ChIP-Atlas peaks\")\n",
    "chipatlas_peaks = pd.read_csv(\"/gpfs/Labs/Uzun/SCRIPTS/PROJECTS/2024.SINGLE_CELL_GRN_INFERENCE.MOELLER/output/chipseq_homer/chipatlas_peaks.csv\", header=0)\n",
    "chipatlas_bed_df = format_peaks(chipatlas_peaks[\"peak_id\"]).rename(columns={\"chromosome\":\"chrom\"}).drop_duplicates()\n",
    "print(chipatlas_bed_df.head())\n",
    "\n",
    "print(\"Reading and formatting TSS bed file\")\n",
    "tss_bed_df = pd.read_parquet(\"output/DS011_mESC/DS011_mESC_sample1/tmp/ensembl.parquet\")\n",
    "tss_bed_df = tss_bed_df.rename(columns={\"chr\":\"chrom\", \"gene_id\":\"name\"})\n",
    "print(tss_bed_df.head())"
   ]
  },
  {
   "cell_type": "code",
   "execution_count": null,
   "id": "5066965b",
   "metadata": {},
   "outputs": [],
   "source": [
    "# Ensure valid BED format and correct dtypes\n",
    "required_cols = [\"chrom\", \"start\", \"end\"]\n",
    "chipatlas_bed_df = chipatlas_bed_df[required_cols].copy()\n",
    "tss_bed_df = tss_bed_df[required_cols + [\"name\"]].copy()  # Include gene_id column as name\n",
    "\n",
    "# Ensure all start/end values are integers\n",
    "for df in [chipatlas_bed_df, tss_bed_df]:\n",
    "    df[\"start\"] = pd.to_numeric(df[\"start\"], errors=\"coerce\").astype(\"Int64\")\n",
    "    df[\"end\"] = pd.to_numeric(df[\"end\"], errors=\"coerce\").astype(\"Int64\")\n",
    "    df.dropna(subset=[\"start\", \"end\"], inplace=True)\n",
    "\n",
    "chipatlas_bed_df = chipatlas_bed_df[chipatlas_bed_df[\"end\"] > chipatlas_bed_df[\"start\"]]\n",
    "tss_bed_df = tss_bed_df[tss_bed_df[\"end\"] > tss_bed_df[\"start\"]]\n",
    "\n",
    "chipatlas_bed_df.to_csv(\"chipatlas_tmp.bed\", sep=\"\\t\", header=False, index=False)\n",
    "tss_bed_df.to_csv(\"tss_tmp.bed\", sep=\"\\t\", header=False, index=False)\n",
    "\n",
    "chipatlas_bed = pybedtools.BedTool(\"chipatlas_tmp.bed\")\n",
    "tss_bed = pybedtools.BedTool(\"tss_tmp.bed\")"
   ]
  },
  {
   "cell_type": "code",
   "execution_count": null,
   "id": "b69cd6ef",
   "metadata": {},
   "outputs": [],
   "source": [
    "peak_tss_overlap = chipatlas_bed.window(tss_bed, w=1e6)"
   ]
  },
  {
   "cell_type": "code",
   "execution_count": null,
   "id": "a22b94cb",
   "metadata": {},
   "outputs": [],
   "source": [
    "peak_tss_overlap_df  = peak_tss_overlap.to_dataframe()\n",
    "peak_tss_overlap_df.head()"
   ]
  },
  {
   "cell_type": "code",
   "execution_count": null,
   "id": "3105d070",
   "metadata": {},
   "outputs": [],
   "source": [
    "# Define the column types for conversion to DataFrame\n",
    "dtype_dict = {\n",
    "    \"peak_chr\": str,\n",
    "    \"peak_start\": int,\n",
    "    \"peak_end\": int,\n",
    "    \"peak_id\": str,\n",
    "    \"gene_chr\": str,\n",
    "    \"gene_start\": int,\n",
    "    \"gene_end\": int,\n",
    "    \"gene_id\": str\n",
    "}\n",
    "\n",
    "# Convert the BedTool result to a DataFrame for further processing.\n",
    "peak_tss_overlap_df = peak_tss_overlap.to_dataframe(\n",
    "    names = [\n",
    "        \"peak_chr\", \"peak_start\", \"peak_end\", \"peak_id\",\n",
    "        \"gene_chr\", \"gene_start\", \"gene_end\", \"gene_id\"\n",
    "    ],\n",
    "    dtype=dtype_dict,\n",
    "    low_memory=False  # ensures the entire file is read in one go\n",
    ").rename(columns={\"gene_id\": \"target_id\"}).dropna()"
   ]
  },
  {
   "cell_type": "code",
   "execution_count": null,
   "id": "d82ea2fd",
   "metadata": {},
   "outputs": [],
   "source": [
    "peak_tss_overlap_df"
   ]
  }
 ],
 "metadata": {
  "kernelspec": {
   "display_name": "my_env",
   "language": "python",
   "name": "my_env"
  },
  "language_info": {
   "codemirror_mode": {
    "name": "ipython",
    "version": 3
   },
   "file_extension": ".py",
   "mimetype": "text/x-python",
   "name": "python",
   "nbconvert_exporter": "python",
   "pygments_lexer": "ipython3",
   "version": "3.9.18"
  }
 },
 "nbformat": 4,
 "nbformat_minor": 5
}
