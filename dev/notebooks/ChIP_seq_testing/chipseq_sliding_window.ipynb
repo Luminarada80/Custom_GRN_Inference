{
 "cells": [
  {
   "cell_type": "markdown",
   "metadata": {},
   "source": [
    "Connected to my_env (Python 3.9.18)"
   ]
  },
  {
   "cell_type": "markdown",
   "metadata": {},
   "source": [
    "### Comparing ChIP-seq TF to genomic location with sliding window method predictions\n",
    "\n",
    "This notebook uses ChIP-seq peaks from ChIP-Atlas as the input for calculating sliding window TF to peak binding scores. As the sliding window score attempts to match TFs to peaks, we can check the accuracy of our methods by comparing which TFs are predicted to bind the ChIP-seq peaks against the TFs that actually bound those locations.\n",
    "\n",
    "The first thing that we need to do is to download and clean the ChIP-seq dataset to only contain the TF `gene_id`s and the formatted `peak_id`s.\n",
    "\n",
    "The ChIP-Atlas dataset we are using can be downloaded from:\n",
    "\n",
    "`wget https://chip-atlas.dbcls.jp/data/mm10/assembled/Oth.Emb.05.AllAg.AllCell.bed`\n",
    "\n",
    "This file corresponds to the following settings in the Peak Browser:\n",
    "- Species -> M. musculus (mm10)\n",
    "- Track type class -> ChIP: TFs and others\n",
    "- Cell type class -> Embryo\n",
    "- Threshold for Significance -> 50\n",
    "- Track type -> All\n",
    "- Cell type -> all"
   ]
  },
  {
   "cell_type": "code",
   "execution_count": 1,
   "metadata": {},
   "outputs": [
    {
     "name": "stdout",
     "output_type": "stream",
     "text": [
      "   Static hostname: psh01com1hcom34\n",
      "         Icon name: computer-server\n",
      "           Chassis: server\n",
      "        Machine ID: d82627f3a1704c039360f0e50457a01e\n",
      "           Boot ID: 50b0727749f04af69390482cfafad02b\n",
      "  Operating System: \u001b]8;;https://www.redhat.com/\u0007Red Hat Enterprise Linux 8.10 (Ootpa)\u001b]8;;\u0007\n",
      "       CPE OS Name: cpe:/o:redhat:enterprise_linux:8::baseos\n",
      "            Kernel: Linux 4.18.0-553.22.1.el8_10.x86_64\n",
      "      Architecture: x86-64\n"
     ]
    }
   ],
   "source": [
    "!hostnamectl"
   ]
  },
  {
   "cell_type": "code",
   "execution_count": 2,
   "metadata": {},
   "outputs": [],
   "source": [
    "import os\n",
    "import pandas as pd\n",
    "import pybedtools\n",
    "import seaborn as sns\n",
    "import matplotlib.pyplot as plt\n",
    "from grn_inference.utils import read_ground_truth, merge_dataset_with_ground_truth\n",
    "\n",
    "base_dir = \"/gpfs/Labs/Uzun/SCRIPTS/PROJECTS/2024.SINGLE_CELL_GRN_INFERENCE.MOELLER/\"\n",
    "ground_truth_dir = os.path.join(base_dir, \"ground_truth_files\")\n",
    "output_dir = os.path.join(base_dir, \"output/chipseq_sliding_window\")\n",
    "tmp_dir = os.path.join(output_dir, \"tmp\")\n",
    "\n",
    "os.makedirs(ground_truth_dir, exist_ok=True)\n",
    "os.makedirs(output_dir, exist_ok=True)\n",
    "os.makedirs(tmp_dir, exist_ok=True)"
   ]
  },
  {
   "cell_type": "code",
   "execution_count": 3,
   "metadata": {},
   "outputs": [],
   "source": [
    "def extract_gene_name(name):\n",
    "    return name.split(\"Name=\")[1].split(\"%\")[0]\n",
    "\n",
    "def format_peak_id(chrom, start, end):\n",
    "    start = str(int(start))\n",
    "    end = str(int(end))\n",
    "    return \"%s:%s-%s\" % (chrom, start, end)"
   ]
  },
  {
   "cell_type": "code",
   "execution_count": 33,
   "metadata": {},
   "outputs": [
    {
     "name": "stderr",
     "output_type": "stream",
     "text": [
      "/gpfs/Labs/Uzun/SCRIPTS/PROJECTS/2024.SINGLE_CELL_GRN_INFERENCE.MOELLER/output/chipseq_sliding_window/tmp/ipykernel_3941178/3085763299.py:10: SettingWithCopyWarning: \n",
      "A value is trying to be set on a copy of a slice from a DataFrame.\n",
      "Try using .loc[row_indexer,col_indexer] = value instead\n",
      "\n",
      "See the caveats in the documentation: https://pandas.pydata.org/pandas-docs/stable/user_guide/indexing.html#returning-a-view-versus-a-copy\n",
      "  chip_bed_cleaned[\"peak_id\"] = chip_bed_cleaned.apply(lambda x: format_peak_id(x.chrom, x.start, x.end), axis=1)\n"
     ]
    },
    {
     "data": {
      "application/vnd.microsoft.datawrangler.viewer.v0+json": {
       "columns": [
        {
         "name": "index",
         "rawType": "int64",
         "type": "integer"
        },
        {
         "name": "gene_id",
         "rawType": "object",
         "type": "string"
        },
        {
         "name": "peak_id",
         "rawType": "object",
         "type": "string"
        }
       ],
       "ref": "42ad7f71-3545-45c9-b0ff-e8e420a0a163",
       "rows": [
        [
         "1",
         "Smad4",
         "chr1:3003564-3003922"
        ],
        [
         "2",
         "Ctcf",
         "chr1:3012605-3012815"
        ],
        [
         "3",
         "Ctcf",
         "chr1:3012635-3012824"
        ],
        [
         "4",
         "Epitope",
         "chr1:3031387-3031654"
        ],
        [
         "5",
         "Smad4",
         "chr1:3031454-3031677"
        ],
        [
         "6",
         "Epitope",
         "chr1:3037813-3037977"
        ],
        [
         "7",
         "Epitope",
         "chr1:3037831-3038014"
        ],
        [
         "8",
         "Creb1",
         "chr1:3042056-3042107"
        ],
        [
         "9",
         "Chd4",
         "chr1:3042840-3042993"
        ],
        [
         "10",
         "Hand2",
         "chr1:3042840-3043210"
        ],
        [
         "11",
         "Chd4",
         "chr1:3042845-3042974"
        ],
        [
         "12",
         "Klf1",
         "chr1:3042893-3043261"
        ],
        [
         "13",
         "Chd4",
         "chr1:3043042-3043236"
        ],
        [
         "14",
         "Hira",
         "chr1:3043048-3043364"
        ],
        [
         "15",
         "Chd4",
         "chr1:3043056-3043246"
        ],
        [
         "16",
         "Chd4",
         "chr1:3043095-3043239"
        ],
        [
         "17",
         "Smad1",
         "chr1:3048848-3049240"
        ],
        [
         "18",
         "Smad1",
         "chr1:3048884-3049204"
        ],
        [
         "19",
         "Smad1",
         "chr1:3048892-3049123"
        ],
        [
         "20",
         "Smad1",
         "chr1:3048924-3049137"
        ],
        [
         "21",
         "Smad1",
         "chr1:3048985-3049197"
        ],
        [
         "22",
         "Epitope",
         "chr1:3050139-3050342"
        ],
        [
         "23",
         "Epitope",
         "chr1:3050160-3050251"
        ],
        [
         "24",
         "Isl1",
         "chr1:3050169-3050323"
        ],
        [
         "25",
         "Smarca4",
         "chr1:3050170-3050252"
        ],
        [
         "26",
         "Prdm13",
         "chr1:3051439-3051494"
        ],
        [
         "27",
         "Hoxa13",
         "chr1:3054989-3055130"
        ],
        [
         "28",
         "Hoxa13",
         "chr1:3055034-3055478"
        ],
        [
         "29",
         "Hoxa13",
         "chr1:3055062-3055329"
        ],
        [
         "30",
         "Cebpa",
         "chr1:3059708-3059807"
        ],
        [
         "31",
         "Epitope",
         "chr1:3062849-3063111"
        ],
        [
         "32",
         "Hnf1b",
         "chr1:3063257-3063401"
        ],
        [
         "33",
         "Pax5",
         "chr1:3068096-3068380"
        ],
        [
         "34",
         "Gata6",
         "chr1:3072534-3072701"
        ],
        [
         "35",
         "Gata1",
         "chr1:3077207-3077399"
        ],
        [
         "36",
         "Smarca4",
         "chr1:3083162-3083320"
        ],
        [
         "37",
         "Epitope",
         "chr1:3083182-3083313"
        ],
        [
         "38",
         "Isl1",
         "chr1:3083187-3083305"
        ],
        [
         "39",
         "Epitope",
         "chr1:3083189-3083280"
        ],
        [
         "40",
         "Pax5",
         "chr1:3091675-3091891"
        ],
        [
         "41",
         "Ncor2",
         "chr1:3094752-3095214"
        ],
        [
         "42",
         "Cebpa",
         "chr1:3094760-3094900"
        ],
        [
         "43",
         "Ncor2",
         "chr1:3094784-3095161"
        ],
        [
         "44",
         "Ncor2",
         "chr1:3094789-3095260"
        ],
        [
         "45",
         "Ncor2",
         "chr1:3094795-3095175"
        ],
        [
         "46",
         "Ncor2",
         "chr1:3094799-3095182"
        ],
        [
         "47",
         "Ncor2",
         "chr1:3094823-3095143"
        ],
        [
         "48",
         "Neurog2",
         "chr1:3094824-3095063"
        ],
        [
         "49",
         "Ncor2",
         "chr1:3094827-3095149"
        ],
        [
         "50",
         "Ncor2",
         "chr1:3094854-3095103"
        ]
       ],
       "shape": {
        "columns": 2,
        "rows": 7624391
       }
      },
      "text/html": [
       "<div>\n",
       "<style scoped>\n",
       "    .dataframe tbody tr th:only-of-type {\n",
       "        vertical-align: middle;\n",
       "    }\n",
       "\n",
       "    .dataframe tbody tr th {\n",
       "        vertical-align: top;\n",
       "    }\n",
       "\n",
       "    .dataframe thead th {\n",
       "        text-align: right;\n",
       "    }\n",
       "</style>\n",
       "<table border=\"1\" class=\"dataframe\">\n",
       "  <thead>\n",
       "    <tr style=\"text-align: right;\">\n",
       "      <th></th>\n",
       "      <th>gene_id</th>\n",
       "      <th>peak_id</th>\n",
       "    </tr>\n",
       "  </thead>\n",
       "  <tbody>\n",
       "    <tr>\n",
       "      <th>1</th>\n",
       "      <td>Smad4</td>\n",
       "      <td>chr1:3003564-3003922</td>\n",
       "    </tr>\n",
       "    <tr>\n",
       "      <th>2</th>\n",
       "      <td>Ctcf</td>\n",
       "      <td>chr1:3012605-3012815</td>\n",
       "    </tr>\n",
       "    <tr>\n",
       "      <th>3</th>\n",
       "      <td>Ctcf</td>\n",
       "      <td>chr1:3012635-3012824</td>\n",
       "    </tr>\n",
       "    <tr>\n",
       "      <th>4</th>\n",
       "      <td>Epitope</td>\n",
       "      <td>chr1:3031387-3031654</td>\n",
       "    </tr>\n",
       "    <tr>\n",
       "      <th>5</th>\n",
       "      <td>Smad4</td>\n",
       "      <td>chr1:3031454-3031677</td>\n",
       "    </tr>\n",
       "    <tr>\n",
       "      <th>...</th>\n",
       "      <td>...</td>\n",
       "      <td>...</td>\n",
       "    </tr>\n",
       "    <tr>\n",
       "      <th>7624387</th>\n",
       "      <td>Rest</td>\n",
       "      <td>chrY_JH584303_random:135985-136047</td>\n",
       "    </tr>\n",
       "    <tr>\n",
       "      <th>7624388</th>\n",
       "      <td>Rest</td>\n",
       "      <td>chrY_JH584303_random:135985-136048</td>\n",
       "    </tr>\n",
       "    <tr>\n",
       "      <th>7624389</th>\n",
       "      <td>Rest</td>\n",
       "      <td>chrY_JH584303_random:135986-136045</td>\n",
       "    </tr>\n",
       "    <tr>\n",
       "      <th>7624390</th>\n",
       "      <td>Rest</td>\n",
       "      <td>chrY_JH584303_random:135989-136043</td>\n",
       "    </tr>\n",
       "    <tr>\n",
       "      <th>7624391</th>\n",
       "      <td>Rest</td>\n",
       "      <td>chrY_JH584303_random:135989-136046</td>\n",
       "    </tr>\n",
       "  </tbody>\n",
       "</table>\n",
       "<p>7624391 rows × 2 columns</p>\n",
       "</div>"
      ],
      "text/plain": [
       "         gene_id                             peak_id\n",
       "1          Smad4                chr1:3003564-3003922\n",
       "2           Ctcf                chr1:3012605-3012815\n",
       "3           Ctcf                chr1:3012635-3012824\n",
       "4        Epitope                chr1:3031387-3031654\n",
       "5          Smad4                chr1:3031454-3031677\n",
       "...          ...                                 ...\n",
       "7624387     Rest  chrY_JH584303_random:135985-136047\n",
       "7624388     Rest  chrY_JH584303_random:135985-136048\n",
       "7624389     Rest  chrY_JH584303_random:135986-136045\n",
       "7624390     Rest  chrY_JH584303_random:135989-136043\n",
       "7624391     Rest  chrY_JH584303_random:135989-136046\n",
       "\n",
       "[7624391 rows x 2 columns]"
      ]
     },
     "execution_count": 33,
     "metadata": {},
     "output_type": "execute_result"
    }
   ],
   "source": [
    "chip_bed_file = os.path.join(ground_truth_dir, \"Oth.Emb.05.AllAg.AllCell.bed\")\n",
    "chip_bed = pybedtools.BedTool(chip_bed_file)\n",
    "chip_bed_df = chip_bed.to_dataframe()\n",
    "chip_bed_nohead = chip_bed_df.iloc[1:, :].dropna()\n",
    "\n",
    "chip_bed_nohead[\"gene_id\"] = chip_bed_nohead[\"name\"].apply(extract_gene_name)\n",
    "chip_bed_cleaned = chip_bed_nohead[[\"chrom\", \"start\", \"end\", \"gene_id\"]]\n",
    "\n",
    "# Set the peak_id as the formatted peak location\n",
    "chip_bed_cleaned[\"peak_id\"] = chip_bed_cleaned.apply(lambda x: format_peak_id(x.chrom, x.start, x.end), axis=1)\n",
    "\n",
    "chip_tf_to_peak = chip_bed_cleaned[[\"gene_id\", \"peak_id\"]]\n",
    "chip_tf_to_peak"
   ]
  },
  {
   "cell_type": "markdown",
   "metadata": {},
   "source": [
    "Now that we have the ChIP-Atlas peaks in the format that we want, we can save it to the ground truth directory for later"
   ]
  },
  {
   "cell_type": "code",
   "execution_count": 5,
   "metadata": {},
   "outputs": [],
   "source": [
    "chip_tf_to_peak.to_csv(os.path.join(ground_truth_dir, \"chipatlas_mESC.csv\"), header=True, index=False)"
   ]
  },
  {
   "cell_type": "markdown",
   "metadata": {},
   "source": [
    "### Creating the Homer peaks file"
   ]
  },
  {
   "cell_type": "markdown",
   "metadata": {},
   "source": [
    "Next, we need to format the peaks to follow the same requirements as the Homer peaks file. The sliding window method also uses this format for convenience.\n",
    "\n",
    "> HOMER peak files should have at minimum 5 columns (separated by TABs, additional columns will be ignored:\n",
    "> - Column1: Unique Peak ID\n",
    "> - Column2: chromosome\n",
    "> - Column3: starting position\n",
    "> - Column4: ending position\n",
    "> - Column5: Strand (+/- or 0/1, where 0=\"+\", 1=\"-\")"
   ]
  },
  {
   "cell_type": "code",
   "execution_count": 22,
   "metadata": {},
   "outputs": [
    {
     "data": {
      "application/vnd.microsoft.datawrangler.viewer.v0+json": {
       "columns": [
        {
         "name": "index",
         "rawType": "int64",
         "type": "integer"
        },
        {
         "name": "gene_id",
         "rawType": "object",
         "type": "string"
        },
        {
         "name": "peak_id",
         "rawType": "object",
         "type": "string"
        }
       ],
       "ref": "c3acd447-a55a-4732-acc2-89328d20a169",
       "rows": [
        [
         "0",
         "ASCL1",
         "chr5:114173037-114173222"
        ],
        [
         "1",
         "ASCL1",
         "chr5:114173103-114173157"
        ],
        [
         "2",
         "ASCL1",
         "chr11:114795327-114795552"
        ],
        [
         "3",
         "ASCL1",
         "chr11:114795386-114795436"
        ],
        [
         "4",
         "ASCL1",
         "chr7:28302269-28302413"
        ],
        [
         "5",
         "ASCL1",
         "chr7:28302297-28302333"
        ],
        [
         "6",
         "ASCL1",
         "chr4:45165638-45165690"
        ],
        [
         "7",
         "ASCL1",
         "chr1:91414164-91414296"
        ],
        [
         "8",
         "ASCL1",
         "chr11:99948882-99948990"
        ],
        [
         "9",
         "ASCL1",
         "chr11:99949354-99949471"
        ],
        [
         "10",
         "ASCL1",
         "chr7:16944450-16944602"
        ],
        [
         "11",
         "ASCL1",
         "chr7:16944543-16944579"
        ],
        [
         "12",
         "ASCL1",
         "chr16:17208887-17209158"
        ],
        [
         "13",
         "ASCL1",
         "chr16:17208911-17209098"
        ],
        [
         "14",
         "ASCL1",
         "chr12:69159305-69159352"
        ],
        [
         "15",
         "ASCL1",
         "chr12:69159541-69159585"
        ],
        [
         "16",
         "ASCL1",
         "chr7:109439436-109439650"
        ],
        [
         "17",
         "ASCL1",
         "chr7:109439484-109439607"
        ],
        [
         "18",
         "ATRX",
         "chr10:83727061-83727120"
        ],
        [
         "19",
         "ATRX",
         "chr10:83875137-83875269"
        ],
        [
         "20",
         "ATRX",
         "chr10:83899670-83899815"
        ],
        [
         "21",
         "ATRX",
         "chr17:46770156-46770208"
        ],
        [
         "22",
         "ATRX",
         "chr7:81797437-81797516"
        ],
        [
         "23",
         "ATRX",
         "chr16:64690908-64690961"
        ],
        [
         "24",
         "ATRX",
         "chr16:64774085-64774142"
        ],
        [
         "25",
         "ATRX",
         "chr11:31922592-31922858"
        ],
        [
         "26",
         "ATRX",
         "chr1:26454612-26454858"
        ],
        [
         "27",
         "ATRX",
         "chr1:26788148-26788220"
        ],
        [
         "28",
         "ATRX",
         "chr1:26965028-26965100"
        ],
        [
         "29",
         "ATRX",
         "chr1:27008311-27008380"
        ],
        [
         "30",
         "ATRX",
         "chr11:110311096-110311159"
        ],
        [
         "31",
         "ATRX",
         "chr7:84233572-84233661"
        ],
        [
         "32",
         "ATRX",
         "chr4:40019431-40019505"
        ],
        [
         "33",
         "ATRX",
         "chr4:40029845-40029975"
        ],
        [
         "34",
         "ATRX",
         "chr4:40040074-40040125"
        ],
        [
         "35",
         "ATRX",
         "chr1:78626637-78626730"
        ],
        [
         "36",
         "ATRX",
         "chr3:32662921-32662985"
        ],
        [
         "37",
         "ATRX",
         "chr1:124915771-124915833"
        ],
        [
         "38",
         "ATRX",
         "chr1:124936584-124936658"
        ],
        [
         "39",
         "ATRX",
         "chr1:125018583-125018641"
        ],
        [
         "40",
         "ATRX",
         "chr8:88307728-88307793"
        ],
        [
         "41",
         "ATRX",
         "chr19:53117157-53117214"
        ],
        [
         "42",
         "ATRX",
         "chr5:49687498-49687612"
        ],
        [
         "43",
         "ATRX",
         "chr9:59183703-59183760"
        ],
        [
         "44",
         "ATRX",
         "chr9:59220986-59221040"
        ],
        [
         "45",
         "ATRX",
         "chr8:53449138-53449188"
        ],
        [
         "46",
         "ATRX",
         "chr8:53464376-53464438"
        ],
        [
         "47",
         "ATRX",
         "chr8:53548993-53549052"
        ],
        [
         "48",
         "ATRX",
         "chr13:95396143-95396193"
        ],
        [
         "49",
         "ATRX",
         "chr3:116833375-116833464"
        ]
       ],
       "shape": {
        "columns": 2,
        "rows": 1721462
       }
      },
      "text/html": [
       "<div>\n",
       "<style scoped>\n",
       "    .dataframe tbody tr th:only-of-type {\n",
       "        vertical-align: middle;\n",
       "    }\n",
       "\n",
       "    .dataframe tbody tr th {\n",
       "        vertical-align: top;\n",
       "    }\n",
       "\n",
       "    .dataframe thead th {\n",
       "        text-align: right;\n",
       "    }\n",
       "</style>\n",
       "<table border=\"1\" class=\"dataframe\">\n",
       "  <thead>\n",
       "    <tr style=\"text-align: right;\">\n",
       "      <th></th>\n",
       "      <th>gene_id</th>\n",
       "      <th>peak_id</th>\n",
       "    </tr>\n",
       "  </thead>\n",
       "  <tbody>\n",
       "    <tr>\n",
       "      <th>0</th>\n",
       "      <td>ASCL1</td>\n",
       "      <td>chr5:114173037-114173222</td>\n",
       "    </tr>\n",
       "    <tr>\n",
       "      <th>1</th>\n",
       "      <td>ASCL1</td>\n",
       "      <td>chr5:114173103-114173157</td>\n",
       "    </tr>\n",
       "    <tr>\n",
       "      <th>2</th>\n",
       "      <td>ASCL1</td>\n",
       "      <td>chr11:114795327-114795552</td>\n",
       "    </tr>\n",
       "    <tr>\n",
       "      <th>3</th>\n",
       "      <td>ASCL1</td>\n",
       "      <td>chr11:114795386-114795436</td>\n",
       "    </tr>\n",
       "    <tr>\n",
       "      <th>4</th>\n",
       "      <td>ASCL1</td>\n",
       "      <td>chr7:28302269-28302413</td>\n",
       "    </tr>\n",
       "    <tr>\n",
       "      <th>...</th>\n",
       "      <td>...</td>\n",
       "      <td>...</td>\n",
       "    </tr>\n",
       "    <tr>\n",
       "      <th>1721457</th>\n",
       "      <td>ZFP281</td>\n",
       "      <td>chr4:119422622-119422859</td>\n",
       "    </tr>\n",
       "    <tr>\n",
       "      <th>1721458</th>\n",
       "      <td>ZFP281</td>\n",
       "      <td>chr2:165900305-165900542</td>\n",
       "    </tr>\n",
       "    <tr>\n",
       "      <th>1721459</th>\n",
       "      <td>ZFP281</td>\n",
       "      <td>chr2:165906423-165906828</td>\n",
       "    </tr>\n",
       "    <tr>\n",
       "      <th>1721460</th>\n",
       "      <td>ZFP281</td>\n",
       "      <td>chr2:165922264-165922501</td>\n",
       "    </tr>\n",
       "    <tr>\n",
       "      <th>1721461</th>\n",
       "      <td>ZFP281</td>\n",
       "      <td>chr13:107861369-107861692</td>\n",
       "    </tr>\n",
       "  </tbody>\n",
       "</table>\n",
       "<p>1721462 rows × 2 columns</p>\n",
       "</div>"
      ],
      "text/plain": [
       "        gene_id                    peak_id\n",
       "0         ASCL1   chr5:114173037-114173222\n",
       "1         ASCL1   chr5:114173103-114173157\n",
       "2         ASCL1  chr11:114795327-114795552\n",
       "3         ASCL1  chr11:114795386-114795436\n",
       "4         ASCL1     chr7:28302269-28302413\n",
       "...         ...                        ...\n",
       "1721457  ZFP281   chr4:119422622-119422859\n",
       "1721458  ZFP281   chr2:165900305-165900542\n",
       "1721459  ZFP281   chr2:165906423-165906828\n",
       "1721460  ZFP281   chr2:165922264-165922501\n",
       "1721461  ZFP281  chr13:107861369-107861692\n",
       "\n",
       "[1721462 rows x 2 columns]"
      ]
     },
     "execution_count": 22,
     "metadata": {},
     "output_type": "execute_result"
    }
   ],
   "source": [
    "# NOTE: I am overriding the workflow to load in the dataset of overlapping ChIP-Atlas and BEELINE edges\n",
    "# See \"map_chip_atlas_to_beeline_ground_truth.ipynb\" for how this was created.\n",
    "chip_bed_cleaned = pd.read_csv(os.path.join(ground_truth_dir, \"chipatlas_beeline_mESC_shared_edges.csv\"), header=0, index_col=False)\n",
    "chip_bed_cleaned[\"peak_id\"] = chip_bed_cleaned.apply(lambda x: format_peak_id(x.chrom, x.start, x.end), axis=1)\n",
    "chip_tf_to_peak = chip_bed_cleaned[[\"source_id\", \"peak_id\"]].rename(columns={\"source_id\":\"gene_id\"})\n",
    "chip_tf_to_peak"
   ]
  },
  {
   "cell_type": "code",
   "execution_count": 23,
   "metadata": {},
   "outputs": [
    {
     "name": "stderr",
     "output_type": "stream",
     "text": [
      "/gpfs/Labs/Uzun/SCRIPTS/PROJECTS/2024.SINGLE_CELL_GRN_INFERENCE.MOELLER/output/chipseq_sliding_window/tmp/ipykernel_3941178/2201842266.py:3: SettingWithCopyWarning: \n",
      "A value is trying to be set on a copy of a slice from a DataFrame.\n",
      "Try using .loc[row_indexer,col_indexer] = value instead\n",
      "\n",
      "See the caveats in the documentation: https://pandas.pydata.org/pandas-docs/stable/user_guide/indexing.html#returning-a-view-versus-a-copy\n",
      "  homer_peaks[\"start\"] = round(homer_peaks[\"start\"].astype(int),0)\n",
      "/gpfs/Labs/Uzun/SCRIPTS/PROJECTS/2024.SINGLE_CELL_GRN_INFERENCE.MOELLER/output/chipseq_sliding_window/tmp/ipykernel_3941178/2201842266.py:4: SettingWithCopyWarning: \n",
      "A value is trying to be set on a copy of a slice from a DataFrame.\n",
      "Try using .loc[row_indexer,col_indexer] = value instead\n",
      "\n",
      "See the caveats in the documentation: https://pandas.pydata.org/pandas-docs/stable/user_guide/indexing.html#returning-a-view-versus-a-copy\n",
      "  homer_peaks[\"end\"] = round(homer_peaks[\"end\"].astype(int),0)\n"
     ]
    },
    {
     "data": {
      "application/vnd.microsoft.datawrangler.viewer.v0+json": {
       "columns": [
        {
         "name": "index",
         "rawType": "int64",
         "type": "integer"
        },
        {
         "name": "chrom",
         "rawType": "object",
         "type": "string"
        },
        {
         "name": "start",
         "rawType": "int64",
         "type": "integer"
        },
        {
         "name": "end",
         "rawType": "int64",
         "type": "integer"
        },
        {
         "name": "peak_id",
         "rawType": "object",
         "type": "string"
        }
       ],
       "ref": "717cb5e5-6187-40e1-a529-aca7a71180ef",
       "rows": [
        [
         "0",
         "chr5",
         "114173037",
         "114173222",
         "chr5:114173037-114173222"
        ],
        [
         "1",
         "chr5",
         "114173103",
         "114173157",
         "chr5:114173103-114173157"
        ],
        [
         "2",
         "chr11",
         "114795327",
         "114795552",
         "chr11:114795327-114795552"
        ],
        [
         "3",
         "chr11",
         "114795386",
         "114795436",
         "chr11:114795386-114795436"
        ],
        [
         "4",
         "chr7",
         "28302269",
         "28302413",
         "chr7:28302269-28302413"
        ],
        [
         "5",
         "chr7",
         "28302297",
         "28302333",
         "chr7:28302297-28302333"
        ],
        [
         "6",
         "chr4",
         "45165638",
         "45165690",
         "chr4:45165638-45165690"
        ],
        [
         "7",
         "chr1",
         "91414164",
         "91414296",
         "chr1:91414164-91414296"
        ],
        [
         "8",
         "chr11",
         "99948882",
         "99948990",
         "chr11:99948882-99948990"
        ],
        [
         "9",
         "chr11",
         "99949354",
         "99949471",
         "chr11:99949354-99949471"
        ],
        [
         "10",
         "chr7",
         "16944450",
         "16944602",
         "chr7:16944450-16944602"
        ],
        [
         "11",
         "chr7",
         "16944543",
         "16944579",
         "chr7:16944543-16944579"
        ],
        [
         "12",
         "chr16",
         "17208887",
         "17209158",
         "chr16:17208887-17209158"
        ],
        [
         "13",
         "chr16",
         "17208911",
         "17209098",
         "chr16:17208911-17209098"
        ],
        [
         "14",
         "chr12",
         "69159305",
         "69159352",
         "chr12:69159305-69159352"
        ],
        [
         "15",
         "chr12",
         "69159541",
         "69159585",
         "chr12:69159541-69159585"
        ],
        [
         "16",
         "chr7",
         "109439436",
         "109439650",
         "chr7:109439436-109439650"
        ],
        [
         "17",
         "chr7",
         "109439484",
         "109439607",
         "chr7:109439484-109439607"
        ],
        [
         "18",
         "chr10",
         "83727061",
         "83727120",
         "chr10:83727061-83727120"
        ],
        [
         "19",
         "chr10",
         "83875137",
         "83875269",
         "chr10:83875137-83875269"
        ],
        [
         "20",
         "chr10",
         "83899670",
         "83899815",
         "chr10:83899670-83899815"
        ],
        [
         "21",
         "chr17",
         "46770156",
         "46770208",
         "chr17:46770156-46770208"
        ],
        [
         "22",
         "chr7",
         "81797437",
         "81797516",
         "chr7:81797437-81797516"
        ],
        [
         "23",
         "chr16",
         "64690908",
         "64690961",
         "chr16:64690908-64690961"
        ],
        [
         "24",
         "chr16",
         "64774085",
         "64774142",
         "chr16:64774085-64774142"
        ],
        [
         "25",
         "chr11",
         "31922592",
         "31922858",
         "chr11:31922592-31922858"
        ],
        [
         "26",
         "chr1",
         "26454612",
         "26454858",
         "chr1:26454612-26454858"
        ],
        [
         "27",
         "chr1",
         "26788148",
         "26788220",
         "chr1:26788148-26788220"
        ],
        [
         "28",
         "chr1",
         "26965028",
         "26965100",
         "chr1:26965028-26965100"
        ],
        [
         "29",
         "chr1",
         "27008311",
         "27008380",
         "chr1:27008311-27008380"
        ],
        [
         "30",
         "chr11",
         "110311096",
         "110311159",
         "chr11:110311096-110311159"
        ],
        [
         "31",
         "chr7",
         "84233572",
         "84233661",
         "chr7:84233572-84233661"
        ],
        [
         "32",
         "chr4",
         "40019431",
         "40019505",
         "chr4:40019431-40019505"
        ],
        [
         "33",
         "chr4",
         "40029845",
         "40029975",
         "chr4:40029845-40029975"
        ],
        [
         "34",
         "chr4",
         "40040074",
         "40040125",
         "chr4:40040074-40040125"
        ],
        [
         "35",
         "chr1",
         "78626637",
         "78626730",
         "chr1:78626637-78626730"
        ],
        [
         "36",
         "chr3",
         "32662921",
         "32662985",
         "chr3:32662921-32662985"
        ],
        [
         "37",
         "chr1",
         "124915771",
         "124915833",
         "chr1:124915771-124915833"
        ],
        [
         "38",
         "chr1",
         "124936584",
         "124936658",
         "chr1:124936584-124936658"
        ],
        [
         "39",
         "chr1",
         "125018583",
         "125018641",
         "chr1:125018583-125018641"
        ],
        [
         "40",
         "chr8",
         "88307728",
         "88307793",
         "chr8:88307728-88307793"
        ],
        [
         "41",
         "chr19",
         "53117157",
         "53117214",
         "chr19:53117157-53117214"
        ],
        [
         "42",
         "chr5",
         "49687498",
         "49687612",
         "chr5:49687498-49687612"
        ],
        [
         "43",
         "chr9",
         "59183703",
         "59183760",
         "chr9:59183703-59183760"
        ],
        [
         "44",
         "chr9",
         "59220986",
         "59221040",
         "chr9:59220986-59221040"
        ],
        [
         "45",
         "chr8",
         "53449138",
         "53449188",
         "chr8:53449138-53449188"
        ],
        [
         "46",
         "chr8",
         "53464376",
         "53464438",
         "chr8:53464376-53464438"
        ],
        [
         "47",
         "chr8",
         "53548993",
         "53549052",
         "chr8:53548993-53549052"
        ],
        [
         "48",
         "chr13",
         "95396143",
         "95396193",
         "chr13:95396143-95396193"
        ],
        [
         "49",
         "chr3",
         "116833375",
         "116833464",
         "chr3:116833375-116833464"
        ]
       ],
       "shape": {
        "columns": 4,
        "rows": 1721462
       }
      },
      "text/html": [
       "<div>\n",
       "<style scoped>\n",
       "    .dataframe tbody tr th:only-of-type {\n",
       "        vertical-align: middle;\n",
       "    }\n",
       "\n",
       "    .dataframe tbody tr th {\n",
       "        vertical-align: top;\n",
       "    }\n",
       "\n",
       "    .dataframe thead th {\n",
       "        text-align: right;\n",
       "    }\n",
       "</style>\n",
       "<table border=\"1\" class=\"dataframe\">\n",
       "  <thead>\n",
       "    <tr style=\"text-align: right;\">\n",
       "      <th></th>\n",
       "      <th>chrom</th>\n",
       "      <th>start</th>\n",
       "      <th>end</th>\n",
       "      <th>peak_id</th>\n",
       "    </tr>\n",
       "  </thead>\n",
       "  <tbody>\n",
       "    <tr>\n",
       "      <th>0</th>\n",
       "      <td>chr5</td>\n",
       "      <td>114173037</td>\n",
       "      <td>114173222</td>\n",
       "      <td>chr5:114173037-114173222</td>\n",
       "    </tr>\n",
       "    <tr>\n",
       "      <th>1</th>\n",
       "      <td>chr5</td>\n",
       "      <td>114173103</td>\n",
       "      <td>114173157</td>\n",
       "      <td>chr5:114173103-114173157</td>\n",
       "    </tr>\n",
       "    <tr>\n",
       "      <th>2</th>\n",
       "      <td>chr11</td>\n",
       "      <td>114795327</td>\n",
       "      <td>114795552</td>\n",
       "      <td>chr11:114795327-114795552</td>\n",
       "    </tr>\n",
       "    <tr>\n",
       "      <th>3</th>\n",
       "      <td>chr11</td>\n",
       "      <td>114795386</td>\n",
       "      <td>114795436</td>\n",
       "      <td>chr11:114795386-114795436</td>\n",
       "    </tr>\n",
       "    <tr>\n",
       "      <th>4</th>\n",
       "      <td>chr7</td>\n",
       "      <td>28302269</td>\n",
       "      <td>28302413</td>\n",
       "      <td>chr7:28302269-28302413</td>\n",
       "    </tr>\n",
       "    <tr>\n",
       "      <th>...</th>\n",
       "      <td>...</td>\n",
       "      <td>...</td>\n",
       "      <td>...</td>\n",
       "      <td>...</td>\n",
       "    </tr>\n",
       "    <tr>\n",
       "      <th>1721457</th>\n",
       "      <td>chr4</td>\n",
       "      <td>119422622</td>\n",
       "      <td>119422859</td>\n",
       "      <td>chr4:119422622-119422859</td>\n",
       "    </tr>\n",
       "    <tr>\n",
       "      <th>1721458</th>\n",
       "      <td>chr2</td>\n",
       "      <td>165900305</td>\n",
       "      <td>165900542</td>\n",
       "      <td>chr2:165900305-165900542</td>\n",
       "    </tr>\n",
       "    <tr>\n",
       "      <th>1721459</th>\n",
       "      <td>chr2</td>\n",
       "      <td>165906423</td>\n",
       "      <td>165906828</td>\n",
       "      <td>chr2:165906423-165906828</td>\n",
       "    </tr>\n",
       "    <tr>\n",
       "      <th>1721460</th>\n",
       "      <td>chr2</td>\n",
       "      <td>165922264</td>\n",
       "      <td>165922501</td>\n",
       "      <td>chr2:165922264-165922501</td>\n",
       "    </tr>\n",
       "    <tr>\n",
       "      <th>1721461</th>\n",
       "      <td>chr13</td>\n",
       "      <td>107861369</td>\n",
       "      <td>107861692</td>\n",
       "      <td>chr13:107861369-107861692</td>\n",
       "    </tr>\n",
       "  </tbody>\n",
       "</table>\n",
       "<p>1721462 rows × 4 columns</p>\n",
       "</div>"
      ],
      "text/plain": [
       "         chrom      start        end                    peak_id\n",
       "0         chr5  114173037  114173222   chr5:114173037-114173222\n",
       "1         chr5  114173103  114173157   chr5:114173103-114173157\n",
       "2        chr11  114795327  114795552  chr11:114795327-114795552\n",
       "3        chr11  114795386  114795436  chr11:114795386-114795436\n",
       "4         chr7   28302269   28302413     chr7:28302269-28302413\n",
       "...        ...        ...        ...                        ...\n",
       "1721457   chr4  119422622  119422859   chr4:119422622-119422859\n",
       "1721458   chr2  165900305  165900542   chr2:165900305-165900542\n",
       "1721459   chr2  165906423  165906828   chr2:165906423-165906828\n",
       "1721460   chr2  165922264  165922501   chr2:165922264-165922501\n",
       "1721461  chr13  107861369  107861692  chr13:107861369-107861692\n",
       "\n",
       "[1721462 rows x 4 columns]"
      ]
     },
     "execution_count": 23,
     "metadata": {},
     "output_type": "execute_result"
    }
   ],
   "source": [
    "# Format the DataFrame to follow the requirements for the Homer peaks file (used for both Homer and sliding window)\n",
    "homer_peaks = chip_bed_cleaned[[\"peak_id\", \"chrom\", \"start\", \"end\"]]\n",
    "homer_peaks[\"start\"] = round(homer_peaks[\"start\"].astype(int),0)\n",
    "homer_peaks[\"end\"] = round(homer_peaks[\"end\"].astype(int),0)\n",
    "homer_peaks = homer_peaks[[\"chrom\", \"start\", \"end\", \"peak_id\"]]\n",
    "homer_peaks"
   ]
  },
  {
   "cell_type": "markdown",
   "metadata": {},
   "source": [
    "This is a huge file - we dont need to test the method using all of them. We will take a sample to run the scoring on."
   ]
  },
  {
   "cell_type": "code",
   "execution_count": 24,
   "metadata": {},
   "outputs": [],
   "source": [
    "homer_peaks_sample = homer_peaks.sample(frac=0.05)"
   ]
  },
  {
   "cell_type": "markdown",
   "metadata": {},
   "source": [
    "If we save the ChIP-seq peaks as `homer_peaks.txt` to the `tmp` directory of the output folder, then they will be used to calculate the sliding window and Homer scores"
   ]
  },
  {
   "cell_type": "code",
   "execution_count": 4,
   "metadata": {},
   "outputs": [],
   "source": [
    "homer_peak_path = os.path.join(tmp_dir, \"homer_peaks.txt\")"
   ]
  },
  {
   "cell_type": "code",
   "execution_count": 16,
   "metadata": {},
   "outputs": [],
   "source": [
    "homer_peaks.to_csv(homer_peak_path, sep=\"\\t\", header=True, index=False)"
   ]
  },
  {
   "cell_type": "markdown",
   "metadata": {},
   "source": [
    "Reload `homer_peaks` if needed"
   ]
  },
  {
   "cell_type": "code",
   "execution_count": 13,
   "metadata": {},
   "outputs": [],
   "source": [
    "homer_peaks = pd.read_csv(homer_peak_path, sep=\"\\t\", header=0, index_col=None)"
   ]
  },
  {
   "cell_type": "code",
   "execution_count": 25,
   "metadata": {},
   "outputs": [
    {
     "data": {
      "application/vnd.microsoft.datawrangler.viewer.v0+json": {
       "columns": [
        {
         "name": "index",
         "rawType": "int64",
         "type": "integer"
        },
        {
         "name": "chrom",
         "rawType": "object",
         "type": "string"
        },
        {
         "name": "start",
         "rawType": "int64",
         "type": "integer"
        },
        {
         "name": "end",
         "rawType": "int64",
         "type": "integer"
        },
        {
         "name": "peak_id",
         "rawType": "object",
         "type": "string"
        }
       ],
       "ref": "710fe248-7ea5-4a20-8147-123efbdeb55b",
       "rows": [
        [
         "0",
         "chr5",
         "114173037",
         "114173222",
         "chr5:114173037-114173222"
        ],
        [
         "1",
         "chr5",
         "114173103",
         "114173157",
         "chr5:114173103-114173157"
        ],
        [
         "2",
         "chr11",
         "114795327",
         "114795552",
         "chr11:114795327-114795552"
        ],
        [
         "3",
         "chr11",
         "114795386",
         "114795436",
         "chr11:114795386-114795436"
        ],
        [
         "4",
         "chr7",
         "28302269",
         "28302413",
         "chr7:28302269-28302413"
        ],
        [
         "5",
         "chr7",
         "28302297",
         "28302333",
         "chr7:28302297-28302333"
        ],
        [
         "6",
         "chr4",
         "45165638",
         "45165690",
         "chr4:45165638-45165690"
        ],
        [
         "7",
         "chr1",
         "91414164",
         "91414296",
         "chr1:91414164-91414296"
        ],
        [
         "8",
         "chr11",
         "99948882",
         "99948990",
         "chr11:99948882-99948990"
        ],
        [
         "9",
         "chr11",
         "99949354",
         "99949471",
         "chr11:99949354-99949471"
        ],
        [
         "10",
         "chr7",
         "16944450",
         "16944602",
         "chr7:16944450-16944602"
        ],
        [
         "11",
         "chr7",
         "16944543",
         "16944579",
         "chr7:16944543-16944579"
        ],
        [
         "12",
         "chr16",
         "17208887",
         "17209158",
         "chr16:17208887-17209158"
        ],
        [
         "13",
         "chr16",
         "17208911",
         "17209098",
         "chr16:17208911-17209098"
        ],
        [
         "14",
         "chr12",
         "69159305",
         "69159352",
         "chr12:69159305-69159352"
        ],
        [
         "15",
         "chr12",
         "69159541",
         "69159585",
         "chr12:69159541-69159585"
        ],
        [
         "16",
         "chr7",
         "109439436",
         "109439650",
         "chr7:109439436-109439650"
        ],
        [
         "17",
         "chr7",
         "109439484",
         "109439607",
         "chr7:109439484-109439607"
        ],
        [
         "18",
         "chr10",
         "83727061",
         "83727120",
         "chr10:83727061-83727120"
        ],
        [
         "19",
         "chr10",
         "83875137",
         "83875269",
         "chr10:83875137-83875269"
        ],
        [
         "20",
         "chr10",
         "83899670",
         "83899815",
         "chr10:83899670-83899815"
        ],
        [
         "21",
         "chr17",
         "46770156",
         "46770208",
         "chr17:46770156-46770208"
        ],
        [
         "22",
         "chr7",
         "81797437",
         "81797516",
         "chr7:81797437-81797516"
        ],
        [
         "23",
         "chr16",
         "64690908",
         "64690961",
         "chr16:64690908-64690961"
        ],
        [
         "24",
         "chr16",
         "64774085",
         "64774142",
         "chr16:64774085-64774142"
        ],
        [
         "25",
         "chr11",
         "31922592",
         "31922858",
         "chr11:31922592-31922858"
        ],
        [
         "26",
         "chr1",
         "26454612",
         "26454858",
         "chr1:26454612-26454858"
        ],
        [
         "27",
         "chr1",
         "26788148",
         "26788220",
         "chr1:26788148-26788220"
        ],
        [
         "28",
         "chr1",
         "26965028",
         "26965100",
         "chr1:26965028-26965100"
        ],
        [
         "29",
         "chr1",
         "27008311",
         "27008380",
         "chr1:27008311-27008380"
        ],
        [
         "30",
         "chr11",
         "110311096",
         "110311159",
         "chr11:110311096-110311159"
        ],
        [
         "31",
         "chr7",
         "84233572",
         "84233661",
         "chr7:84233572-84233661"
        ],
        [
         "32",
         "chr4",
         "40019431",
         "40019505",
         "chr4:40019431-40019505"
        ],
        [
         "33",
         "chr4",
         "40029845",
         "40029975",
         "chr4:40029845-40029975"
        ],
        [
         "34",
         "chr4",
         "40040074",
         "40040125",
         "chr4:40040074-40040125"
        ],
        [
         "35",
         "chr1",
         "78626637",
         "78626730",
         "chr1:78626637-78626730"
        ],
        [
         "36",
         "chr3",
         "32662921",
         "32662985",
         "chr3:32662921-32662985"
        ],
        [
         "37",
         "chr1",
         "124915771",
         "124915833",
         "chr1:124915771-124915833"
        ],
        [
         "38",
         "chr1",
         "124936584",
         "124936658",
         "chr1:124936584-124936658"
        ],
        [
         "39",
         "chr1",
         "125018583",
         "125018641",
         "chr1:125018583-125018641"
        ],
        [
         "40",
         "chr8",
         "88307728",
         "88307793",
         "chr8:88307728-88307793"
        ],
        [
         "41",
         "chr19",
         "53117157",
         "53117214",
         "chr19:53117157-53117214"
        ],
        [
         "42",
         "chr5",
         "49687498",
         "49687612",
         "chr5:49687498-49687612"
        ],
        [
         "43",
         "chr9",
         "59183703",
         "59183760",
         "chr9:59183703-59183760"
        ],
        [
         "44",
         "chr9",
         "59220986",
         "59221040",
         "chr9:59220986-59221040"
        ],
        [
         "45",
         "chr8",
         "53449138",
         "53449188",
         "chr8:53449138-53449188"
        ],
        [
         "46",
         "chr8",
         "53464376",
         "53464438",
         "chr8:53464376-53464438"
        ],
        [
         "47",
         "chr8",
         "53548993",
         "53549052",
         "chr8:53548993-53549052"
        ],
        [
         "48",
         "chr13",
         "95396143",
         "95396193",
         "chr13:95396143-95396193"
        ],
        [
         "49",
         "chr3",
         "116833375",
         "116833464",
         "chr3:116833375-116833464"
        ]
       ],
       "shape": {
        "columns": 4,
        "rows": 1721462
       }
      },
      "text/html": [
       "<div>\n",
       "<style scoped>\n",
       "    .dataframe tbody tr th:only-of-type {\n",
       "        vertical-align: middle;\n",
       "    }\n",
       "\n",
       "    .dataframe tbody tr th {\n",
       "        vertical-align: top;\n",
       "    }\n",
       "\n",
       "    .dataframe thead th {\n",
       "        text-align: right;\n",
       "    }\n",
       "</style>\n",
       "<table border=\"1\" class=\"dataframe\">\n",
       "  <thead>\n",
       "    <tr style=\"text-align: right;\">\n",
       "      <th></th>\n",
       "      <th>chrom</th>\n",
       "      <th>start</th>\n",
       "      <th>end</th>\n",
       "      <th>peak_id</th>\n",
       "    </tr>\n",
       "  </thead>\n",
       "  <tbody>\n",
       "    <tr>\n",
       "      <th>0</th>\n",
       "      <td>chr5</td>\n",
       "      <td>114173037</td>\n",
       "      <td>114173222</td>\n",
       "      <td>chr5:114173037-114173222</td>\n",
       "    </tr>\n",
       "    <tr>\n",
       "      <th>1</th>\n",
       "      <td>chr5</td>\n",
       "      <td>114173103</td>\n",
       "      <td>114173157</td>\n",
       "      <td>chr5:114173103-114173157</td>\n",
       "    </tr>\n",
       "    <tr>\n",
       "      <th>2</th>\n",
       "      <td>chr11</td>\n",
       "      <td>114795327</td>\n",
       "      <td>114795552</td>\n",
       "      <td>chr11:114795327-114795552</td>\n",
       "    </tr>\n",
       "    <tr>\n",
       "      <th>3</th>\n",
       "      <td>chr11</td>\n",
       "      <td>114795386</td>\n",
       "      <td>114795436</td>\n",
       "      <td>chr11:114795386-114795436</td>\n",
       "    </tr>\n",
       "    <tr>\n",
       "      <th>4</th>\n",
       "      <td>chr7</td>\n",
       "      <td>28302269</td>\n",
       "      <td>28302413</td>\n",
       "      <td>chr7:28302269-28302413</td>\n",
       "    </tr>\n",
       "    <tr>\n",
       "      <th>...</th>\n",
       "      <td>...</td>\n",
       "      <td>...</td>\n",
       "      <td>...</td>\n",
       "      <td>...</td>\n",
       "    </tr>\n",
       "    <tr>\n",
       "      <th>1721457</th>\n",
       "      <td>chr4</td>\n",
       "      <td>119422622</td>\n",
       "      <td>119422859</td>\n",
       "      <td>chr4:119422622-119422859</td>\n",
       "    </tr>\n",
       "    <tr>\n",
       "      <th>1721458</th>\n",
       "      <td>chr2</td>\n",
       "      <td>165900305</td>\n",
       "      <td>165900542</td>\n",
       "      <td>chr2:165900305-165900542</td>\n",
       "    </tr>\n",
       "    <tr>\n",
       "      <th>1721459</th>\n",
       "      <td>chr2</td>\n",
       "      <td>165906423</td>\n",
       "      <td>165906828</td>\n",
       "      <td>chr2:165906423-165906828</td>\n",
       "    </tr>\n",
       "    <tr>\n",
       "      <th>1721460</th>\n",
       "      <td>chr2</td>\n",
       "      <td>165922264</td>\n",
       "      <td>165922501</td>\n",
       "      <td>chr2:165922264-165922501</td>\n",
       "    </tr>\n",
       "    <tr>\n",
       "      <th>1721461</th>\n",
       "      <td>chr13</td>\n",
       "      <td>107861369</td>\n",
       "      <td>107861692</td>\n",
       "      <td>chr13:107861369-107861692</td>\n",
       "    </tr>\n",
       "  </tbody>\n",
       "</table>\n",
       "<p>1721462 rows × 4 columns</p>\n",
       "</div>"
      ],
      "text/plain": [
       "         chrom      start        end                    peak_id\n",
       "0         chr5  114173037  114173222   chr5:114173037-114173222\n",
       "1         chr5  114173103  114173157   chr5:114173103-114173157\n",
       "2        chr11  114795327  114795552  chr11:114795327-114795552\n",
       "3        chr11  114795386  114795436  chr11:114795386-114795436\n",
       "4         chr7   28302269   28302413     chr7:28302269-28302413\n",
       "...        ...        ...        ...                        ...\n",
       "1721457   chr4  119422622  119422859   chr4:119422622-119422859\n",
       "1721458   chr2  165900305  165900542   chr2:165900305-165900542\n",
       "1721459   chr2  165906423  165906828   chr2:165906423-165906828\n",
       "1721460   chr2  165922264  165922501   chr2:165922264-165922501\n",
       "1721461  chr13  107861369  107861692  chr13:107861369-107861692\n",
       "\n",
       "[1721462 rows x 4 columns]"
      ]
     },
     "execution_count": 25,
     "metadata": {},
     "output_type": "execute_result"
    }
   ],
   "source": [
    "homer_peaks"
   ]
  },
  {
   "cell_type": "code",
   "execution_count": 27,
   "metadata": {},
   "outputs": [
    {
     "name": "stdout",
     "output_type": "stream",
     "text": [
      "Ensembl gene TSS BED file exists, loading...\n",
      "  Loading /gpfs/Labs/Uzun/SCRIPTS/PROJECTS/2024.SINGLE_CELL_GRN_INFERENCE.MOELLER/output/chipseq_sliding_window/tmp/ensembl.parquet\n",
      "   chrom  start   end  gene_id\n",
      "0  chrMT      1     2    mt-Tf\n",
      "1  chrMT     70    71  mt-Rnr1\n",
      "2  chrMT   1025  1026    mt-Tv\n",
      "3  chrMT   1094  1095  mt-Rnr2\n",
      "4  chrMT   2676  2677   mt-Tl1\n",
      "   chrom      start        end                    peak_id\n",
      "0   chr5  114173037  114173222   chr5:114173037-114173222\n",
      "1   chr5  114173103  114173157   chr5:114173103-114173157\n",
      "2  chr11  114795327  114795552  chr11:114795327-114795552\n",
      "3  chr11  114795386  114795436  chr11:114795386-114795436\n",
      "4   chr7   28302269   28302413     chr7:28302269-28302413\n",
      "(1721462, 4)\n",
      "  peak_chr  peak_start   peak_end                   peak_id gene_chr  \\\n",
      "1     chr5   114173037  114173222  chr5:114173037-114173222     chr5   \n",
      "2     chr5   114173037  114173222  chr5:114173037-114173222     chr5   \n",
      "5     chr5   114173037  114173222  chr5:114173037-114173222     chr5   \n",
      "6     chr5   114173037  114173222  chr5:114173037-114173222     chr5   \n",
      "7     chr5   114173037  114173222  chr5:114173037-114173222     chr5   \n",
      "\n",
      "   gene_start   gene_end target_id  \n",
      "1   113192010  113192011   Gm22740  \n",
      "2   113208379  113208380   Gm43247  \n",
      "5   113217983  113217984    Crybb2  \n",
      "6   113216632  113216633    Crybb2  \n",
      "7   113216323  113216324    Crybb2  \n",
      "\t- Number of peaks: 91172\n"
     ]
    }
   ],
   "source": [
    "from pybiomart import Server\n",
    "import numpy as np\n",
    "from typing import Union\n",
    "import grn_inference.utils as utils\n",
    "\n",
    "import importlib\n",
    "importlib.reload(utils)\n",
    "\n",
    "def load_ensembl_organism_tss(organism, tmp_dir):\n",
    "    if not os.path.exists(os.path.join(tmp_dir, \"ensembl.parquet\")):\n",
    "        print(f\"Loading Ensembl TSS locations for {organism}\")\n",
    "        # Connect to the Ensembl BioMart server\n",
    "        server = Server(host='http://www.ensembl.org')\n",
    "\n",
    "        gene_ensembl_name = f'{organism}_gene_ensembl'\n",
    "        \n",
    "        # Select the Ensembl Mart dataset\n",
    "        mart = server['ENSEMBL_MART_ENSEMBL']\n",
    "        try:\n",
    "            dataset = mart[gene_ensembl_name]\n",
    "        except KeyError:\n",
    "            raise RuntimeError(f\"BioMart dataset {gene_ensembl_name} not found. Check if ‘{organism}’ is correct.\")\n",
    "\n",
    "        # Query for attributes: Ensembl gene ID, gene name, strand, and transcription start site (TSS)\n",
    "        ensembl_df = dataset.query(attributes=[\n",
    "            'external_gene_name', \n",
    "            'strand', \n",
    "            'chromosome_name',\n",
    "            'transcription_start_site'\n",
    "        ])\n",
    "\n",
    "        ensembl_df.rename(columns={\n",
    "            \"Chromosome/scaffold name\": \"chr\",\n",
    "            \"Transcription start site (TSS)\": \"tss\",\n",
    "            \"Gene name\": \"gene_id\"\n",
    "        }, inplace=True)\n",
    "        \n",
    "        # Make sure TSS is integer (some might be floats).\n",
    "        ensembl_df[\"tss\"] = ensembl_df[\"tss\"].astype(int)\n",
    "\n",
    "        # In a BED file, we’ll store TSS as [start, end) = [tss, tss+1)\n",
    "        ensembl_df[\"start\"] = ensembl_df[\"tss\"].astype(int)\n",
    "        ensembl_df[\"end\"] = ensembl_df[\"tss\"].astype(int) + 1\n",
    "\n",
    "        # Re-order columns for clarity: [chr, start, end, gene]\n",
    "        ensembl_df = ensembl_df[[\"chr\", \"start\", \"end\", \"gene_id\"]]\n",
    "        \n",
    "        ensembl_df[\"chr\"] = ensembl_df[\"chr\"].astype(str)\n",
    "        ensembl_df[\"gene_id\"] = ensembl_df[\"gene_id\"].astype(str)\n",
    "        \n",
    "        # Write the peak DataFrame to a file\n",
    "        ensembl_df.to_parquet(os.path.join(tmp_dir, \"ensembl.parquet\"), engine=\"pyarrow\", index=False, compression=\"snappy\")\n",
    "        \n",
    "    else:\n",
    "        print(\"Ensembl gene TSS BED file exists, loading...\")\n",
    "        print(f\"  Loading {os.path.join(tmp_dir, 'ensembl.parquet')}\")\n",
    "        ensembl_df = pd.read_parquet(os.path.join(tmp_dir, \"ensembl.parquet\"), engine=\"pyarrow\")\n",
    "    \n",
    "    return ensembl_df\n",
    "\n",
    "def calculate_tss_distance_score(\n",
    "    peak_bed: pybedtools.BedTool, \n",
    "    tss_bed: pybedtools.BedTool, \n",
    "    gene_names: set[str], \n",
    "    tss_distance_cutoff: Union[int, float] = 1e6\n",
    "    ):\n",
    "    \"\"\"\n",
    "    Identify genes whose transcription start sites (TSS) are near scATAC-seq peaks.\n",
    "    \n",
    "    This function:\n",
    "        1. Calculates the absolute distances between peaks and gene TSSs within `tss_distance_cutoff`.\n",
    "        2. Scales peak to gene distances using an exponential drop-off function (e^-dist/250000),\n",
    "           the same method used in the LINGER cis-regulatory potential calculation.\n",
    "        3. Deduplicates the data to keep the minimum (i.e., best) peak-to-gene connection.\n",
    "        4. Only keeps genes that are present in the RNA-seq dataset.\n",
    "        \n",
    "    Args:\n",
    "        peak_bed (pybedtools.BedTool):\n",
    "            BedTool object representing scATAC-seq peaks.\n",
    "        tss_bed (pybedtools.BedTool):\n",
    "            BedTool object representing gene TSS locations.\n",
    "        gene_names (set[str]):\n",
    "            Set of gene names from the scRNA-seq dataset.\n",
    "        tss_distance_cutoff (int): \n",
    "            The maximum distance (in bp) from a TSS to consider a peak as potentially regulatory.\n",
    "        \n",
    "    Returns:\n",
    "        peak_tss_subset_df (pandas.DataFrame): \n",
    "            A DataFrame containing columns \"peak_id\", \"target_id\", and the scaled TSS distance \"TSS_dist\"\n",
    "            for peak–gene pairs.\n",
    "    \"\"\"\n",
    "                \n",
    "    \n",
    "    peak_tss_overlap_df = utils.find_genes_near_peaks(\n",
    "        peak_bed, tss_bed, tss_distance_cutoff\n",
    "        )\n",
    "\n",
    "    # Scale the TSS distance using an exponential drop-off function\n",
    "    # e^-dist/25000, same scaling function used in LINGER Cis-regulatory potential calculation\n",
    "    # https://github.com/Durenlab/LINGER\n",
    "    peak_tss_overlap_df[\"TSS_dist_score\"] = np.exp(-peak_tss_overlap_df[\"TSS_dist\"] / 250000)\n",
    "    \n",
    "    # Keep only the necessary columns.\n",
    "    peak_tss_subset_df: pd.DataFrame = peak_tss_overlap_df[[\"peak_id\", \"target_id\", \"TSS_dist_score\"]]\n",
    "    \n",
    "    # Filter out any genes not found in the RNA-seq dataset.\n",
    "    gene_names_upper = set(g.upper() for g in gene_names)\n",
    "    mask = peak_tss_subset_df[\"target_id\"].str.upper().isin(gene_names_upper)\n",
    "    peak_tss_subset_df = peak_tss_subset_df[mask]\n",
    "    \n",
    "    print(f'\\t- Number of peaks: {len(peak_tss_subset_df.drop_duplicates(subset=\"peak_id\"))}')\n",
    "    \n",
    "    return peak_tss_subset_df\n",
    "\n",
    "organism = \"mmusculus\"\n",
    "\n",
    "if not os.path.exists(os.path.join(output_dir, \"tss_distance_score.parquet\")):\n",
    "        \n",
    "        tss_df: pd.DataFrame = load_ensembl_organism_tss(organism, tmp_dir)\n",
    "        \n",
    "        if \"chr\" in tss_df.columns:\n",
    "            tss_df = tss_df.rename(columns={\"chr\": \"chrom\"})\n",
    "        \n",
    "        # Make sure that each chromosome starts with \"chr\"\n",
    "        tss_df[\"chrom\"] = np.where(\n",
    "            tss_df[\"chrom\"].astype(str).str.startswith(\"chr\"),\n",
    "            tss_df[\"chrom\"],\n",
    "            \"chr\" + tss_df[\"chrom\"].astype(str)\n",
    "        )\n",
    "        \n",
    "        tss_df = tss_df.rename(columns={\"chr\": \"chrom\"})\n",
    "        print(tss_df.head())\n",
    "        print(homer_peaks.head())\n",
    "        print(homer_peaks.shape)\n",
    "                \n",
    "        homer_peaks = homer_peaks[[\"chrom\", \"start\", \"end\", \"peak_id\"]]\n",
    "        tss_df = tss_df[[\"chrom\", \"start\", \"end\", \"gene_id\"]]\n",
    "\n",
    "        pybedtools.set_tempdir(tmp_dir)\n",
    "        try:\n",
    "            peak_bed = pybedtools.BedTool.from_dataframe(homer_peaks)\n",
    "            tss_bed = pybedtools.BedTool.from_dataframe(tss_df)\n",
    "            \n",
    "            assert os.path.isdir(output_dir), \"`output_dir` is not a directory\"\n",
    "            \n",
    "            gene_names = set([gene for gene in chip_tf_to_peak[\"gene_id\"]])\n",
    "\n",
    "\n",
    "            peak_tss_subset_df = calculate_tss_distance_score(\n",
    "                peak_bed,\n",
    "                tss_bed,\n",
    "                gene_names,\n",
    "                1_000_000\n",
    "            )\n",
    "            \n",
    "            # peak_tss_subset_df = minmax_normalize_pandas(\n",
    "            #     df=peak_tss_subset_df, \n",
    "            #     score_cols=[\"TSS_dist_score\"], \n",
    "            #     )\n",
    "                \n",
    "            peak_tss_subset_df.to_parquet(os.path.join(output_dir, \"tss_distance_score.parquet\"), index=False, engine=\"pyarrow\", compression=\"snappy\")\n",
    "        finally:\n",
    "            pybedtools.helpers.cleanup(verbose=False, remove_all=True) \n",
    "else:\n",
    "    print('TSS distance file exists, loading...')\n",
    "    peak_tss_subset_df = pd.read_parquet(os.path.join(output_dir, \"tss_distance_score.parquet\"), engine=\"pyarrow\")"
   ]
  },
  {
   "cell_type": "markdown",
   "metadata": {},
   "source": [
    "Next, we run `run_sliding_window_on_chipseq_peaks.sh` in the `dev/testing_scripts` directory"
   ]
  },
  {
   "cell_type": "code",
   "execution_count": 28,
   "metadata": {
    "vscode": {
     "languageId": "shellscript"
    }
   },
   "outputs": [
    {
     "name": "stdout",
     "output_type": "stream",
     "text": [
      "Submitted batch job 3384079\n"
     ]
    }
   ],
   "source": [
    "!sbatch /gpfs/Labs/Uzun/SCRIPTS/PROJECTS/2024.SINGLE_CELL_GRN_INFERENCE.MOELLER/dev/testing_scripts/run_sliding_window_on_chipseq_peaks.sh"
   ]
  },
  {
   "cell_type": "markdown",
   "metadata": {},
   "source": [
    "Once the sliding window calculation is done, we can read in the output."
   ]
  },
  {
   "cell_type": "code",
   "execution_count": 32,
   "metadata": {},
   "outputs": [
    {
     "data": {
      "application/vnd.microsoft.datawrangler.viewer.v0+json": {
       "columns": [
        {
         "name": "index",
         "rawType": "int64",
         "type": "integer"
        },
        {
         "name": "peak_id",
         "rawType": "string",
         "type": "string"
        },
        {
         "name": "source_id",
         "rawType": "string",
         "type": "string"
        },
        {
         "name": "sliding_window_score",
         "rawType": "float64",
         "type": "float"
        }
       ],
       "ref": "afec52fc-1904-40c7-a00b-de30364385d8",
       "rows": [
        [
         "0",
         "chr17:46704666-46705502",
         "Ahctf1",
         "9500.862124441013"
        ],
        [
         "1",
         "chr17:3456010-3456318",
         "Ahctf1",
         "3878.8260416822427"
        ],
        [
         "2",
         "chr17:56255512-56256229",
         "Ahctf1",
         "8944.266472067951"
        ],
        [
         "3",
         "chr17:69382560-69382744",
         "Ahctf1",
         "1790.4396426079807"
        ],
        [
         "4",
         "chr17:86555341-86555555",
         "Ahctf1",
         "2933.1287672382227"
        ],
        [
         "5",
         "chr17:44261838-44262175",
         "Ahctf1",
         "4242.617656299414"
        ],
        [
         "6",
         "chr17:56700233-56700292",
         "Ahctf1",
         "675.6511985333829"
        ],
        [
         "7",
         "chr17:27908721-27909052",
         "Ahctf1",
         "4210.642616865068"
        ],
        [
         "8",
         "chr17:94553443-94553848",
         "Ahctf1",
         "5764.083872733028"
        ],
        [
         "9",
         "chr17:28232449-28232704",
         "Ahctf1",
         "2836.584761896886"
        ],
        [
         "10",
         "chr17:36231269-36231810",
         "Ahctf1",
         "6076.61054216871"
        ],
        [
         "11",
         "chr17:56010696-56011050",
         "Ahctf1",
         "4165.6033379669325"
        ],
        [
         "12",
         "chr17:58701475-58701587",
         "Ahctf1",
         "1394.8747837146084"
        ],
        [
         "13",
         "chr17:70527243-70527495",
         "Ahctf1",
         "3339.0169029455506"
        ],
        [
         "14",
         "chr17:81655915-81655965",
         "Ahctf1",
         "600.3941921925352"
        ],
        [
         "15",
         "chr17:56036563-56037048",
         "Ahctf1",
         "5757.418956674213"
        ],
        [
         "16",
         "chr17:33843026-33843460",
         "Ahctf1",
         "4752.736209979745"
        ],
        [
         "17",
         "chr17:46576167-46576363",
         "Ahctf1",
         "2328.051905015261"
        ],
        [
         "18",
         "chr17:35235591-35236537",
         "Ahctf1",
         "11523.002509147263"
        ],
        [
         "19",
         "chr17:56201642-56201928",
         "Ahctf1",
         "3522.638609452167"
        ],
        [
         "20",
         "chr17:84790139-84791058",
         "Ahctf1",
         "10159.8017135708"
        ],
        [
         "21",
         "chr17:12036136-12036687",
         "Ahctf1",
         "7398.4070428871155"
        ],
        [
         "22",
         "chr17:67779922-67780038",
         "Ahctf1",
         "1409.9369197140834"
        ],
        [
         "23",
         "chr17:47033712-47033983",
         "Ahctf1",
         "3595.202012247166"
        ],
        [
         "24",
         "chr17:35232099-35232325",
         "Ahctf1",
         "2823.230922652172"
        ],
        [
         "25",
         "chr17:28079729-28079889",
         "Ahctf1",
         "1841.0983894541866"
        ],
        [
         "26",
         "chr17:26120099-26120485",
         "Ahctf1",
         "4585.027026496455"
        ],
        [
         "27",
         "chr17:45548531-45548950",
         "Ahctf1",
         "5182.116531486865"
        ],
        [
         "28",
         "chr17:44261838-44262147",
         "Ahctf1",
         "3942.6023371059914"
        ],
        [
         "29",
         "chr17:56950907-56951321",
         "Ahctf1",
         "5492.982565092864"
        ],
        [
         "30",
         "chr17:8147517-8147918",
         "Ahctf1",
         "4109.337149138865"
        ],
        [
         "31",
         "chr17:33033172-33033348",
         "Ahctf1",
         "2208.3695241605596"
        ],
        [
         "32",
         "chr17:31018289-31018662",
         "Ahctf1",
         "4745.151313179851"
        ],
        [
         "33",
         "chr17:84874601-84874984",
         "Ahctf1",
         "4845.371717574448"
        ],
        [
         "34",
         "chr17:27702555-27703014",
         "Ahctf1",
         "5168.989712493543"
        ],
        [
         "35",
         "chr17:24039984-24040305",
         "Ahctf1",
         "4229.45178843401"
        ],
        [
         "36",
         "chr17:26276773-26277029",
         "Ahctf1",
         "3462.501923738903"
        ],
        [
         "37",
         "chr17:28084960-28085304",
         "Ahctf1",
         "4145.708348846397"
        ],
        [
         "38",
         "chr17:21534595-21534734",
         "Ahctf1",
         "1861.3049427358735"
        ],
        [
         "39",
         "chr17:56036581-56036972",
         "Ahctf1",
         "4601.431352484476"
        ],
        [
         "40",
         "chr17:30590828-30591216",
         "Ahctf1",
         "4876.246319495739"
        ],
        [
         "41",
         "chr17:71671893-71672226",
         "Ahctf1",
         "3973.4589731057727"
        ],
        [
         "42",
         "chr17:43016243-43016628",
         "Ahctf1",
         "4796.523456435428"
        ],
        [
         "43",
         "chr17:31492577-31492864",
         "Ahctf1",
         "3515.684850347788"
        ],
        [
         "44",
         "chr17:86906061-86906517",
         "Ahctf1",
         "5978.779956367919"
        ],
        [
         "45",
         "chr17:8988120-8988382",
         "Ahctf1",
         "3183.577102473148"
        ],
        [
         "46",
         "chr17:29032393-29032615",
         "Ahctf1",
         "2237.813534189247"
        ],
        [
         "47",
         "chr17:86535840-86536141",
         "Ahctf1",
         "4102.627435088518"
        ],
        [
         "48",
         "chr17:79354761-79355048",
         "Ahctf1",
         "3007.1200377472896"
        ],
        [
         "49",
         "chr17:24676212-24676526",
         "Ahctf1",
         "3893.4079868551776"
        ]
       ],
       "shape": {
        "columns": 3,
        "rows": 78412503
       }
      },
      "text/html": [
       "<div>\n",
       "<style scoped>\n",
       "    .dataframe tbody tr th:only-of-type {\n",
       "        vertical-align: middle;\n",
       "    }\n",
       "\n",
       "    .dataframe tbody tr th {\n",
       "        vertical-align: top;\n",
       "    }\n",
       "\n",
       "    .dataframe thead th {\n",
       "        text-align: right;\n",
       "    }\n",
       "</style>\n",
       "<table border=\"1\" class=\"dataframe\">\n",
       "  <thead>\n",
       "    <tr style=\"text-align: right;\">\n",
       "      <th></th>\n",
       "      <th>peak_id</th>\n",
       "      <th>source_id</th>\n",
       "      <th>sliding_window_score</th>\n",
       "    </tr>\n",
       "  </thead>\n",
       "  <tbody>\n",
       "    <tr>\n",
       "      <th>0</th>\n",
       "      <td>chr17:46704666-46705502</td>\n",
       "      <td>Ahctf1</td>\n",
       "      <td>9500.862124</td>\n",
       "    </tr>\n",
       "    <tr>\n",
       "      <th>1</th>\n",
       "      <td>chr17:3456010-3456318</td>\n",
       "      <td>Ahctf1</td>\n",
       "      <td>3878.826042</td>\n",
       "    </tr>\n",
       "    <tr>\n",
       "      <th>2</th>\n",
       "      <td>chr17:56255512-56256229</td>\n",
       "      <td>Ahctf1</td>\n",
       "      <td>8944.266472</td>\n",
       "    </tr>\n",
       "    <tr>\n",
       "      <th>3</th>\n",
       "      <td>chr17:69382560-69382744</td>\n",
       "      <td>Ahctf1</td>\n",
       "      <td>1790.439643</td>\n",
       "    </tr>\n",
       "    <tr>\n",
       "      <th>4</th>\n",
       "      <td>chr17:86555341-86555555</td>\n",
       "      <td>Ahctf1</td>\n",
       "      <td>2933.128767</td>\n",
       "    </tr>\n",
       "    <tr>\n",
       "      <th>...</th>\n",
       "      <td>...</td>\n",
       "      <td>...</td>\n",
       "      <td>...</td>\n",
       "    </tr>\n",
       "    <tr>\n",
       "      <th>78412498</th>\n",
       "      <td>chr11:51936197-51936397</td>\n",
       "      <td>Zzz3</td>\n",
       "      <td>3283.754416</td>\n",
       "    </tr>\n",
       "    <tr>\n",
       "      <th>78412499</th>\n",
       "      <td>chr11:100846598-100846664</td>\n",
       "      <td>Zzz3</td>\n",
       "      <td>1028.962449</td>\n",
       "    </tr>\n",
       "    <tr>\n",
       "      <th>78412500</th>\n",
       "      <td>chr11:108891288-108891643</td>\n",
       "      <td>Zzz3</td>\n",
       "      <td>5928.472005</td>\n",
       "    </tr>\n",
       "    <tr>\n",
       "      <th>78412501</th>\n",
       "      <td>chr11:87771063-87771282</td>\n",
       "      <td>Zzz3</td>\n",
       "      <td>3610.204535</td>\n",
       "    </tr>\n",
       "    <tr>\n",
       "      <th>78412502</th>\n",
       "      <td>chr11:81983172-81983477</td>\n",
       "      <td>Zzz3</td>\n",
       "      <td>5108.058024</td>\n",
       "    </tr>\n",
       "  </tbody>\n",
       "</table>\n",
       "<p>78412503 rows × 3 columns</p>\n",
       "</div>"
      ],
      "text/plain": [
       "                            peak_id source_id  sliding_window_score\n",
       "0           chr17:46704666-46705502    Ahctf1           9500.862124\n",
       "1             chr17:3456010-3456318    Ahctf1           3878.826042\n",
       "2           chr17:56255512-56256229    Ahctf1           8944.266472\n",
       "3           chr17:69382560-69382744    Ahctf1           1790.439643\n",
       "4           chr17:86555341-86555555    Ahctf1           2933.128767\n",
       "...                             ...       ...                   ...\n",
       "78412498    chr11:51936197-51936397      Zzz3           3283.754416\n",
       "78412499  chr11:100846598-100846664      Zzz3           1028.962449\n",
       "78412500  chr11:108891288-108891643      Zzz3           5928.472005\n",
       "78412501    chr11:87771063-87771282      Zzz3           3610.204535\n",
       "78412502    chr11:81983172-81983477      Zzz3           5108.058024\n",
       "\n",
       "[78412503 rows x 3 columns]"
      ]
     },
     "execution_count": 10,
     "metadata": {},
     "output_type": "execute_result"
    }
   ],
   "source": [
    "\n",
    "sliding_window_df = pd.read_parquet(os.path.join(output_dir, \"no_norm_sliding_window_tf_to_peak_score.parquet\"), engine=\"pyarrow\")\n",
    "sliding_window_df = sliding_window_df.reset_index(drop=True)\n",
    "sliding_window_df"
   ]
  },
  {
   "cell_type": "markdown",
   "metadata": {},
   "source": [
    "We can use the `chip_tf_to_peak` object that we created from the ChIP-Atlas file to check our work. Since we sampled the ChIP-Atlas peaks before running the sliding window calculations, we need to subset `chip_tf_to_peak` to only contain those peaks."
   ]
  },
  {
   "cell_type": "code",
   "execution_count": 34,
   "metadata": {},
   "outputs": [
    {
     "name": "stderr",
     "output_type": "stream",
     "text": [
      "/gpfs/Labs/Uzun/SCRIPTS/PROJECTS/2024.SINGLE_CELL_GRN_INFERENCE.MOELLER/output/chipseq_sliding_window/tmp/ipykernel_3941178/3625471141.py:2: SettingWithCopyWarning: \n",
      "A value is trying to be set on a copy of a slice from a DataFrame.\n",
      "Try using .loc[row_indexer,col_indexer] = value instead\n",
      "\n",
      "See the caveats in the documentation: https://pandas.pydata.org/pandas-docs/stable/user_guide/indexing.html#returning-a-view-versus-a-copy\n",
      "  chip_tf_to_peak[\"gene_id\"] = chip_tf_to_peak[\"gene_id\"].str.upper()\n"
     ]
    }
   ],
   "source": [
    "sliding_window_df[\"source_id\"] = sliding_window_df[\"source_id\"].str.upper()\n",
    "chip_tf_to_peak[\"gene_id\"] = chip_tf_to_peak[\"gene_id\"].str.upper()"
   ]
  },
  {
   "cell_type": "code",
   "execution_count": 35,
   "metadata": {},
   "outputs": [
    {
     "data": {
      "application/vnd.microsoft.datawrangler.viewer.v0+json": {
       "columns": [
        {
         "name": "index",
         "rawType": "int64",
         "type": "integer"
        },
        {
         "name": "gene_id",
         "rawType": "object",
         "type": "string"
        },
        {
         "name": "peak_id",
         "rawType": "object",
         "type": "string"
        }
       ],
       "ref": "a880dd24-dfe8-4079-b1c4-a63558c3b8ab",
       "rows": [
        [
         "401",
         "REST",
         "chr1:3670770-3670855"
        ],
        [
         "484",
         "CTCF",
         "chr1:3672215-3672538"
        ],
        [
         "1831",
         "TCF3",
         "chr1:4779120-4779177"
        ],
        [
         "2510",
         "CTCF",
         "chr1:5017906-5018204"
        ],
        [
         "2650",
         "CTCF",
         "chr1:5070240-5070596"
        ],
        [
         "2651",
         "CTCF",
         "chr1:5070240-5070596"
        ],
        [
         "2798",
         "CTCF",
         "chr1:5083145-5083527"
        ],
        [
         "2833",
         "CTCF",
         "chr1:5103213-5103544"
        ],
        [
         "2843",
         "CTCF",
         "chr1:5103223-5103491"
        ],
        [
         "2943",
         "CTCF",
         "chr1:5183555-5183796"
        ],
        [
         "2947",
         "CTCF",
         "chr1:5183572-5183766"
        ],
        [
         "2955",
         "CTCF",
         "chr1:5183603-5183771"
        ],
        [
         "2992",
         "CTCF",
         "chr1:5238563-5238711"
        ],
        [
         "3315",
         "CTCF",
         "chr1:5915388-5915645"
        ],
        [
         "3477",
         "CTCF",
         "chr1:6135095-6135443"
        ],
        [
         "3509",
         "CTCF",
         "chr1:6135154-6135533"
        ],
        [
         "3579",
         "CTCF",
         "chr1:6143944-6144224"
        ],
        [
         "3605",
         "CTCF",
         "chr1:6143992-6144234"
        ],
        [
         "3609",
         "CTCF",
         "chr1:6143998-6144198"
        ],
        [
         "3642",
         "CTCF",
         "chr1:6152441-6152823"
        ],
        [
         "3649",
         "CTCF",
         "chr1:6152468-6152905"
        ],
        [
         "3663",
         "CTCF",
         "chr1:6152500-6152797"
        ],
        [
         "3835",
         "CTCF",
         "chr1:6214740-6215104"
        ],
        [
         "3940",
         "CTCF",
         "chr1:6272246-6272570"
        ],
        [
         "3945",
         "CTCF",
         "chr1:6272258-6272723"
        ],
        [
         "3950",
         "CTCF",
         "chr1:6272263-6272613"
        ],
        [
         "3962",
         "CTCF",
         "chr1:6272295-6272592"
        ],
        [
         "3965",
         "CTCF",
         "chr1:6272300-6272583"
        ],
        [
         "3974",
         "CTCF",
         "chr1:6272315-6272520"
        ],
        [
         "4012",
         "CTCF",
         "chr1:6272378-6272590"
        ],
        [
         "5011",
         "CTCF",
         "chr1:6979676-6979893"
        ],
        [
         "5048",
         "CTCF",
         "chr1:6997729-6997916"
        ],
        [
         "5065",
         "CTCF",
         "chr1:7010215-7010463"
        ],
        [
         "5086",
         "CTCF",
         "chr1:7010253-7010427"
        ],
        [
         "5100",
         "CTCF",
         "chr1:7010315-7010430"
        ],
        [
         "5210",
         "CTCF",
         "chr1:7088549-7089027"
        ],
        [
         "5422",
         "CTCF",
         "chr1:7141578-7141743"
        ],
        [
         "5434",
         "CTCF",
         "chr1:7141631-7141762"
        ],
        [
         "5505",
         "CTCF",
         "chr1:7204681-7205172"
        ],
        [
         "5524",
         "CTCF",
         "chr1:7204778-7205117"
        ],
        [
         "5551",
         "CTCF",
         "chr1:7204828-7205105"
        ],
        [
         "5588",
         "CTCF",
         "chr1:7204884-7205061"
        ],
        [
         "5647",
         "CTCF",
         "chr1:7218988-7219246"
        ],
        [
         "5761",
         "CTCF",
         "chr1:7360573-7360887"
        ],
        [
         "5865",
         "CTCF",
         "chr1:7396961-7397177"
        ],
        [
         "5870",
         "CTCF",
         "chr1:7396962-7397591"
        ],
        [
         "5880",
         "CTCF",
         "chr1:7396975-7397623"
        ],
        [
         "5883",
         "CTCF",
         "chr1:7396982-7397555"
        ],
        [
         "5899",
         "CTCF",
         "chr1:7397081-7397556"
        ],
        [
         "5914",
         "CTCF",
         "chr1:7397300-7397606"
        ]
       ],
       "shape": {
        "columns": 2,
        "rows": 70363
       }
      },
      "text/html": [
       "<div>\n",
       "<style scoped>\n",
       "    .dataframe tbody tr th:only-of-type {\n",
       "        vertical-align: middle;\n",
       "    }\n",
       "\n",
       "    .dataframe tbody tr th {\n",
       "        vertical-align: top;\n",
       "    }\n",
       "\n",
       "    .dataframe thead th {\n",
       "        text-align: right;\n",
       "    }\n",
       "</style>\n",
       "<table border=\"1\" class=\"dataframe\">\n",
       "  <thead>\n",
       "    <tr style=\"text-align: right;\">\n",
       "      <th></th>\n",
       "      <th>gene_id</th>\n",
       "      <th>peak_id</th>\n",
       "    </tr>\n",
       "  </thead>\n",
       "  <tbody>\n",
       "    <tr>\n",
       "      <th>401</th>\n",
       "      <td>REST</td>\n",
       "      <td>chr1:3670770-3670855</td>\n",
       "    </tr>\n",
       "    <tr>\n",
       "      <th>484</th>\n",
       "      <td>CTCF</td>\n",
       "      <td>chr1:3672215-3672538</td>\n",
       "    </tr>\n",
       "    <tr>\n",
       "      <th>1831</th>\n",
       "      <td>TCF3</td>\n",
       "      <td>chr1:4779120-4779177</td>\n",
       "    </tr>\n",
       "    <tr>\n",
       "      <th>2510</th>\n",
       "      <td>CTCF</td>\n",
       "      <td>chr1:5017906-5018204</td>\n",
       "    </tr>\n",
       "    <tr>\n",
       "      <th>2650</th>\n",
       "      <td>CTCF</td>\n",
       "      <td>chr1:5070240-5070596</td>\n",
       "    </tr>\n",
       "    <tr>\n",
       "      <th>...</th>\n",
       "      <td>...</td>\n",
       "      <td>...</td>\n",
       "    </tr>\n",
       "    <tr>\n",
       "      <th>7607456</th>\n",
       "      <td>CTCF</td>\n",
       "      <td>chrY:11857983-11858300</td>\n",
       "    </tr>\n",
       "    <tr>\n",
       "      <th>7611309</th>\n",
       "      <td>CTCF</td>\n",
       "      <td>chrY:35978139-35978355</td>\n",
       "    </tr>\n",
       "    <tr>\n",
       "      <th>7611316</th>\n",
       "      <td>CTCF</td>\n",
       "      <td>chrY:35978154-35978351</td>\n",
       "    </tr>\n",
       "    <tr>\n",
       "      <th>7611492</th>\n",
       "      <td>CTCF</td>\n",
       "      <td>chrY:37551909-37552175</td>\n",
       "    </tr>\n",
       "    <tr>\n",
       "      <th>7615161</th>\n",
       "      <td>CTCF</td>\n",
       "      <td>chrY:63471202-63471366</td>\n",
       "    </tr>\n",
       "  </tbody>\n",
       "</table>\n",
       "<p>70363 rows × 2 columns</p>\n",
       "</div>"
      ],
      "text/plain": [
       "        gene_id                 peak_id\n",
       "401        REST    chr1:3670770-3670855\n",
       "484        CTCF    chr1:3672215-3672538\n",
       "1831       TCF3    chr1:4779120-4779177\n",
       "2510       CTCF    chr1:5017906-5018204\n",
       "2650       CTCF    chr1:5070240-5070596\n",
       "...         ...                     ...\n",
       "7607456    CTCF  chrY:11857983-11858300\n",
       "7611309    CTCF  chrY:35978139-35978355\n",
       "7611316    CTCF  chrY:35978154-35978351\n",
       "7611492    CTCF  chrY:37551909-37552175\n",
       "7615161    CTCF  chrY:63471202-63471366\n",
       "\n",
       "[70363 rows x 2 columns]"
      ]
     },
     "execution_count": 35,
     "metadata": {},
     "output_type": "execute_result"
    }
   ],
   "source": [
    "chip_tf_to_peak_sub = chip_tf_to_peak[\n",
    "    (chip_tf_to_peak[\"peak_id\"].isin(sliding_window_df[\"peak_id\"])) &\n",
    "    (chip_tf_to_peak[\"gene_id\"].isin(sliding_window_df[\"source_id\"]))\n",
    "    ]\n",
    "chip_tf_to_peak_sub"
   ]
  },
  {
   "cell_type": "markdown",
   "metadata": {},
   "source": [
    "We then combine the TF-peak mapping from ChIP-Atlas with the TF-peak mapping from the sliding window score by merging the two DataFrames on `peak_id`."
   ]
  },
  {
   "cell_type": "code",
   "execution_count": 36,
   "metadata": {},
   "outputs": [
    {
     "data": {
      "application/vnd.microsoft.datawrangler.viewer.v0+json": {
       "columns": [
        {
         "name": "index",
         "rawType": "int64",
         "type": "integer"
        },
        {
         "name": "chip_gene",
         "rawType": "object",
         "type": "string"
        },
        {
         "name": "sliding_window_gene",
         "rawType": "string",
         "type": "string"
        },
        {
         "name": "peak_id",
         "rawType": "object",
         "type": "string"
        },
        {
         "name": "sliding_window_score",
         "rawType": "float64",
         "type": "float"
        }
       ],
       "ref": "886a52fd-259c-4a81-8e5e-4863af4e4cf6",
       "rows": [
        [
         "0",
         "REST",
         "AHCTF1",
         "chr1:3670770-3670855",
         "961.8577286926705"
        ],
        [
         "1",
         "REST",
         "AHR",
         "chr1:3670770-3670855",
         "1193.1160793685794"
        ],
        [
         "2",
         "REST",
         "AIRE",
         "chr1:3670770-3670855",
         "2332.8596874612554"
        ],
        [
         "3",
         "REST",
         "ALX1",
         "chr1:3670770-3670855",
         "963.6227766452249"
        ],
        [
         "4",
         "REST",
         "ALX3",
         "chr1:3670770-3670855",
         "997.0832998749926"
        ],
        [
         "5",
         "REST",
         "ALX4",
         "chr1:3670770-3670855",
         "1515.5254474609599"
        ],
        [
         "6",
         "REST",
         "AR",
         "chr1:3670770-3670855",
         "2034.1870038382926"
        ],
        [
         "7",
         "REST",
         "ARID2",
         "chr1:3670770-3670855",
         "1218.412417810466"
        ],
        [
         "8",
         "REST",
         "ARID3A",
         "chr1:3670770-3670855",
         "1141.275361930359"
        ],
        [
         "9",
         "REST",
         "ARID3B",
         "chr1:3670770-3670855",
         "1239.6163497883995"
        ],
        [
         "10",
         "REST",
         "ARID3C",
         "chr1:3670770-3670855",
         "1236.9944526365673"
        ],
        [
         "11",
         "REST",
         "ARID5A",
         "chr1:3670770-3670855",
         "1235.450134743107"
        ],
        [
         "12",
         "REST",
         "ARID5B",
         "chr1:3670770-3670855",
         "1756.1790935154893"
        ],
        [
         "13",
         "REST",
         "ARNT2",
         "chr1:3670770-3670855",
         "1336.1148578847808"
        ],
        [
         "14",
         "REST",
         "ARNT",
         "chr1:3670770-3670855",
         "1599.5957053511536"
        ],
        [
         "15",
         "REST",
         "ARX",
         "chr1:3670770-3670855",
         "1461.8229199627044"
        ],
        [
         "16",
         "REST",
         "ASCL1",
         "chr1:3670770-3670855",
         "1776.7502197686406"
        ],
        [
         "17",
         "REST",
         "ASCL2",
         "chr1:3670770-3670855",
         "1126.3488885757713"
        ],
        [
         "18",
         "REST",
         "ATF1",
         "chr1:3670770-3670855",
         "1232.8856865260993"
        ],
        [
         "19",
         "REST",
         "ATF2",
         "chr1:3670770-3670855",
         "1661.209081700402"
        ],
        [
         "20",
         "REST",
         "ATF3",
         "chr1:3670770-3670855",
         "921.8210571648839"
        ],
        [
         "21",
         "REST",
         "ATF4",
         "chr1:3670770-3670855",
         "1547.772401760258"
        ],
        [
         "22",
         "REST",
         "ATF5",
         "chr1:3670770-3670855",
         "0.0"
        ],
        [
         "23",
         "REST",
         "ATF6",
         "chr1:3670770-3670855",
         "1412.5120264334628"
        ],
        [
         "24",
         "REST",
         "ATF6B",
         "chr1:3670770-3670855",
         "1412.5120264334628"
        ],
        [
         "25",
         "REST",
         "ATF7",
         "chr1:3670770-3670855",
         "1621.6420029272433"
        ],
        [
         "26",
         "REST",
         "ATOH1",
         "chr1:3670770-3670855",
         "1212.6473183544601"
        ],
        [
         "27",
         "REST",
         "ATOH7",
         "chr1:3670770-3670855",
         "1233.3903560852352"
        ],
        [
         "28",
         "REST",
         "BACH1",
         "chr1:3670770-3670855",
         "1564.2180899151326"
        ],
        [
         "29",
         "REST",
         "BACH2",
         "chr1:3670770-3670855",
         "1355.0946706527504"
        ],
        [
         "30",
         "REST",
         "BARHL1",
         "chr1:3670770-3670855",
         "1299.4576527948489"
        ],
        [
         "31",
         "REST",
         "BARHL2",
         "chr1:3670770-3670855",
         "1243.9082813991347"
        ],
        [
         "32",
         "REST",
         "BARX1",
         "chr1:3670770-3670855",
         "1426.2213222818389"
        ],
        [
         "33",
         "REST",
         "BARX2",
         "chr1:3670770-3670855",
         "1274.0103599326976"
        ],
        [
         "34",
         "REST",
         "BATF3",
         "chr1:3670770-3670855",
         "2172.3929525995113"
        ],
        [
         "35",
         "REST",
         "BATF",
         "chr1:3670770-3670855",
         "2368.997464308477"
        ],
        [
         "36",
         "REST",
         "BBX",
         "chr1:3670770-3670855",
         "724.0925251920784"
        ],
        [
         "37",
         "REST",
         "BCL6",
         "chr1:3670770-3670855",
         "1992.5550165719033"
        ],
        [
         "38",
         "REST",
         "BCL6B",
         "chr1:3670770-3670855",
         "1696.2801998023406"
        ],
        [
         "39",
         "REST",
         "BCL11A",
         "chr1:3670770-3670855",
         "2145.807254957688"
        ],
        [
         "40",
         "REST",
         "BCL11B",
         "chr1:3670770-3670855",
         "2145.807254957688"
        ],
        [
         "41",
         "REST",
         "BHLHA15",
         "chr1:3670770-3670855",
         "921.6359944693544"
        ],
        [
         "42",
         "REST",
         "BHLHE22",
         "chr1:3670770-3670855",
         "1166.6674878662836"
        ],
        [
         "43",
         "REST",
         "BHLHE23",
         "chr1:3670770-3670855",
         "1151.3435562787122"
        ],
        [
         "44",
         "REST",
         "BHLHE40",
         "chr1:3670770-3670855",
         "1235.3978407326792"
        ],
        [
         "45",
         "REST",
         "BHLHE41",
         "chr1:3670770-3670855",
         "1285.8408435045267"
        ],
        [
         "46",
         "REST",
         "BNC1",
         "chr1:3670770-3670855",
         "0.0"
        ],
        [
         "47",
         "REST",
         "BNC2",
         "chr1:3670770-3670855",
         "0.0"
        ],
        [
         "48",
         "REST",
         "BORCS8",
         "chr1:3670770-3670855",
         "929.0594189155863"
        ],
        [
         "49",
         "REST",
         "BSX",
         "chr1:3670770-3670855",
         "1239.6216657054647"
        ]
       ],
       "shape": {
        "columns": 4,
        "rows": 64309312
       }
      },
      "text/html": [
       "<div>\n",
       "<style scoped>\n",
       "    .dataframe tbody tr th:only-of-type {\n",
       "        vertical-align: middle;\n",
       "    }\n",
       "\n",
       "    .dataframe tbody tr th {\n",
       "        vertical-align: top;\n",
       "    }\n",
       "\n",
       "    .dataframe thead th {\n",
       "        text-align: right;\n",
       "    }\n",
       "</style>\n",
       "<table border=\"1\" class=\"dataframe\">\n",
       "  <thead>\n",
       "    <tr style=\"text-align: right;\">\n",
       "      <th></th>\n",
       "      <th>chip_gene</th>\n",
       "      <th>sliding_window_gene</th>\n",
       "      <th>peak_id</th>\n",
       "      <th>sliding_window_score</th>\n",
       "    </tr>\n",
       "  </thead>\n",
       "  <tbody>\n",
       "    <tr>\n",
       "      <th>0</th>\n",
       "      <td>REST</td>\n",
       "      <td>AHCTF1</td>\n",
       "      <td>chr1:3670770-3670855</td>\n",
       "      <td>961.857729</td>\n",
       "    </tr>\n",
       "    <tr>\n",
       "      <th>1</th>\n",
       "      <td>REST</td>\n",
       "      <td>AHR</td>\n",
       "      <td>chr1:3670770-3670855</td>\n",
       "      <td>1193.116079</td>\n",
       "    </tr>\n",
       "    <tr>\n",
       "      <th>2</th>\n",
       "      <td>REST</td>\n",
       "      <td>AIRE</td>\n",
       "      <td>chr1:3670770-3670855</td>\n",
       "      <td>2332.859687</td>\n",
       "    </tr>\n",
       "    <tr>\n",
       "      <th>3</th>\n",
       "      <td>REST</td>\n",
       "      <td>ALX1</td>\n",
       "      <td>chr1:3670770-3670855</td>\n",
       "      <td>963.622777</td>\n",
       "    </tr>\n",
       "    <tr>\n",
       "      <th>4</th>\n",
       "      <td>REST</td>\n",
       "      <td>ALX3</td>\n",
       "      <td>chr1:3670770-3670855</td>\n",
       "      <td>997.083300</td>\n",
       "    </tr>\n",
       "    <tr>\n",
       "      <th>...</th>\n",
       "      <td>...</td>\n",
       "      <td>...</td>\n",
       "      <td>...</td>\n",
       "      <td>...</td>\n",
       "    </tr>\n",
       "    <tr>\n",
       "      <th>64309307</th>\n",
       "      <td>CTCF</td>\n",
       "      <td>ZSCAN10</td>\n",
       "      <td>chrY:63471202-63471366</td>\n",
       "      <td>2395.477655</td>\n",
       "    </tr>\n",
       "    <tr>\n",
       "      <th>64309308</th>\n",
       "      <td>CTCF</td>\n",
       "      <td>ZSCAN20</td>\n",
       "      <td>chrY:63471202-63471366</td>\n",
       "      <td>2383.362302</td>\n",
       "    </tr>\n",
       "    <tr>\n",
       "      <th>64309309</th>\n",
       "      <td>CTCF</td>\n",
       "      <td>ZSCAN26</td>\n",
       "      <td>chrY:63471202-63471366</td>\n",
       "      <td>1912.732776</td>\n",
       "    </tr>\n",
       "    <tr>\n",
       "      <th>64309310</th>\n",
       "      <td>CTCF</td>\n",
       "      <td>ZSCAN29</td>\n",
       "      <td>chrY:63471202-63471366</td>\n",
       "      <td>2689.187935</td>\n",
       "    </tr>\n",
       "    <tr>\n",
       "      <th>64309311</th>\n",
       "      <td>CTCF</td>\n",
       "      <td>ZZZ3</td>\n",
       "      <td>chrY:63471202-63471366</td>\n",
       "      <td>2709.189899</td>\n",
       "    </tr>\n",
       "  </tbody>\n",
       "</table>\n",
       "<p>64309312 rows × 4 columns</p>\n",
       "</div>"
      ],
      "text/plain": [
       "         chip_gene sliding_window_gene                 peak_id  \\\n",
       "0             REST              AHCTF1    chr1:3670770-3670855   \n",
       "1             REST                 AHR    chr1:3670770-3670855   \n",
       "2             REST                AIRE    chr1:3670770-3670855   \n",
       "3             REST                ALX1    chr1:3670770-3670855   \n",
       "4             REST                ALX3    chr1:3670770-3670855   \n",
       "...            ...                 ...                     ...   \n",
       "64309307      CTCF             ZSCAN10  chrY:63471202-63471366   \n",
       "64309308      CTCF             ZSCAN20  chrY:63471202-63471366   \n",
       "64309309      CTCF             ZSCAN26  chrY:63471202-63471366   \n",
       "64309310      CTCF             ZSCAN29  chrY:63471202-63471366   \n",
       "64309311      CTCF                ZZZ3  chrY:63471202-63471366   \n",
       "\n",
       "          sliding_window_score  \n",
       "0                   961.857729  \n",
       "1                  1193.116079  \n",
       "2                  2332.859687  \n",
       "3                   963.622777  \n",
       "4                   997.083300  \n",
       "...                        ...  \n",
       "64309307           2395.477655  \n",
       "64309308           2383.362302  \n",
       "64309309           1912.732776  \n",
       "64309310           2689.187935  \n",
       "64309311           2709.189899  \n",
       "\n",
       "[64309312 rows x 4 columns]"
      ]
     },
     "execution_count": 36,
     "metadata": {},
     "output_type": "execute_result"
    }
   ],
   "source": [
    "\n",
    "merged_df = pd.merge(chip_tf_to_peak_sub, sliding_window_df, on=\"peak_id\", how=\"inner\")\n",
    "merged_df = merged_df.rename(columns={\"gene_id\": \"chip_gene\", \"source_id\": \"sliding_window_gene\"})\n",
    "merged_df = merged_df[[\"chip_gene\", \"sliding_window_gene\", \"peak_id\", \"sliding_window_score\"]]\n",
    "merged_df"
   ]
  },
  {
   "cell_type": "code",
   "execution_count": 37,
   "metadata": {},
   "outputs": [],
   "source": [
    "merged_df.to_csv(os.path.join(output_dir, \"chipseq_sliding_window_merged.csv\"), header=True, index=False)"
   ]
  },
  {
   "cell_type": "markdown",
   "metadata": {},
   "source": [
    "We can extract the correct predictions and the incorrect predictions, and see how the sliding window scores vary between them."
   ]
  },
  {
   "cell_type": "code",
   "execution_count": 38,
   "metadata": {},
   "outputs": [
    {
     "name": "stdout",
     "output_type": "stream",
     "text": [
      "Num correct predictions: 3558\n",
      "Num incorrect predictions: 3211942\n",
      "Num unique correct TFs: 13\n",
      "Num unique inorrect TFs: 13740\n"
     ]
    }
   ],
   "source": [
    "import dask.dataframe as dd\n",
    "\n",
    "\n",
    "merged_ddf = dd.from_pandas(merged_df, npartitions=100)\n",
    "merged_df_sample = merged_ddf.sample(frac=0.05, random_state=42).compute()\n",
    "\n",
    "\n",
    "correct_predictions = merged_df_sample[merged_df_sample[\"chip_gene\"].str.upper() == merged_df_sample[\"sliding_window_gene\"].str.upper()]\n",
    "incorrect_predictions = merged_df_sample[merged_df_sample[\"chip_gene\"].str.upper() != merged_df_sample[\"sliding_window_gene\"].str.upper()]\n",
    "\n",
    "print(f\"Num correct predictions: {len(correct_predictions)}\")\n",
    "print(f\"Num incorrect predictions: {len(incorrect_predictions)}\")\n",
    "\n",
    "print(f\"Num unique correct TFs: {len(correct_predictions.drop_duplicates(subset=['chip_gene', 'sliding_window_gene']))}\")\n",
    "print(f\"Num unique inorrect TFs: {len(incorrect_predictions.drop_duplicates(subset=['chip_gene', 'sliding_window_gene']))}\")"
   ]
  },
  {
   "cell_type": "markdown",
   "metadata": {},
   "source": [
    "Since each TF and peak has a potential binding score, there will be a lot more incorrect predictions than correct predictions. We will sample each DataFrame by the one with the minimum number of rows so they are equal in length."
   ]
  },
  {
   "cell_type": "code",
   "execution_count": 39,
   "metadata": {},
   "outputs": [
    {
     "name": "stdout",
     "output_type": "stream",
     "text": [
      "Num correct predictions: 3558\n",
      "Num incorrect predictions: 3558\n"
     ]
    }
   ],
   "source": [
    "correct_prediction_scores = correct_predictions[\"sliding_window_score\"].sample(\n",
    "    min(len(correct_predictions), len(incorrect_predictions))\n",
    "    ).rename(\"Correct TF Binding Predictions\").reset_index(drop=True)\n",
    "\n",
    "incorrect_prediction_scores = incorrect_predictions[\"sliding_window_score\"].sample(\n",
    "    min(len(correct_predictions), len(incorrect_predictions))\n",
    "    ).rename(\"Incorrect TF Binding Predictions\").reset_index(drop=True)\n",
    "\n",
    "print(f\"Num correct predictions: {len(correct_prediction_scores)}\")\n",
    "print(f\"Num incorrect predictions: {len(incorrect_prediction_scores)}\")"
   ]
  },
  {
   "cell_type": "markdown",
   "metadata": {},
   "source": [
    "Now that we have extracted the correct and incorrect scores, we will merge them to create a new dataframe containing just the correct and incorrect scores."
   ]
  },
  {
   "cell_type": "code",
   "execution_count": 40,
   "metadata": {},
   "outputs": [],
   "source": [
    "pred_df = pd.merge(correct_prediction_scores, incorrect_prediction_scores, left_index=True, right_index=True)"
   ]
  },
  {
   "cell_type": "code",
   "execution_count": 41,
   "metadata": {},
   "outputs": [
    {
     "data": {
      "image/png": "[encoded data removed]",
      "text/plain": [
       "<Figure size 640x480 with 1 Axes>"
      ]
     },
     "metadata": {},
     "output_type": "display_data"
    }
   ],
   "source": [
    "fig = plt.Figure()\n",
    "a = sns.boxplot(data=pred_df)\n",
    "a.set_ylabel(\"Sliding Window Score\")\n",
    "a.set_title(\"Sliding Window Scores for ChIP-seq TF Binding Predictions\")\n",
    "plt.savefig(\"/gpfs/Labs/Uzun/SCRIPTS/PROJECTS/2024.SINGLE_CELL_GRN_INFERENCE.MOELLER/output/chipseq_sliding_window/chipseq_sliding_window_boxplot.png\", dpi=200)"
   ]
  },
  {
   "cell_type": "code",
   "execution_count": 42,
   "metadata": {},
   "outputs": [
    {
     "data": {
      "image/png": "[encoded data removed]",
      "text/plain": [
       "<Figure size 1000x800 with 1 Axes>"
      ]
     },
     "metadata": {},
     "output_type": "display_data"
    }
   ],
   "source": [
    "plt.figure(figsize=(10,8))\n",
    "plt.hist(\n",
    "    pred_df[\"Correct TF Binding Predictions\"],\n",
    "    bins=150,\n",
    "    alpha=0.7,\n",
    "    color='#4195df',\n",
    "    label=\"Correct TF Binding Predictions\"\n",
    ")\n",
    "plt.hist(\n",
    "    pred_df[\"Incorrect TF Binding Predictions\"],\n",
    "    bins=150,\n",
    "    alpha=0.7,\n",
    "    color='#dc8634',\n",
    "    label=\"Incorrect TF Binding Predictions\"\n",
    ")\n",
    "plt.title(\"Sliding Window Scores for ChIP-seq TF Binding Predictions\", fontsize=16)\n",
    "plt.xlabel(\"Sliding Window Score\", fontsize=14)\n",
    "plt.ylabel(\"Frequency\", fontsize=14)\n",
    "plt.xticks(fontsize=12)\n",
    "plt.yticks(fontsize=12)\n",
    "plt.legend(bbox_to_anchor=(1.05, 1), loc='upper left', borderaxespad=0., fontsize=14)\n",
    "plt.savefig(\"/gpfs/Labs/Uzun/SCRIPTS/PROJECTS/2024.SINGLE_CELL_GRN_INFERENCE.MOELLER/output/chipseq_sliding_window/chipseq_sliding_window_histogram.png\", dpi=200)"
   ]
  }
 ],
 "metadata": {
  "kernelspec": {
   "display_name": "my_env",
   "language": "python",
   "name": "my_env"
  },
  "language_info": {
   "codemirror_mode": {
    "name": "ipython",
    "version": 3
   },
   "file_extension": ".py",
   "mimetype": "text/x-python",
   "name": "python",
   "nbconvert_exporter": "python",
   "pygments_lexer": "ipython3",
   "version": "3.9.18"
  }
 },
 "nbformat": 4,
 "nbformat_minor": 2
}
