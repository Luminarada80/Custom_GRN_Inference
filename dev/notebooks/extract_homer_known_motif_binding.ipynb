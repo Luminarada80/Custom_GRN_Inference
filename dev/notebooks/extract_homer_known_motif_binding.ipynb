{
 "cells": [
  {
   "cell_type": "markdown",
   "id": "67790273",
   "metadata": {},
   "source": [
    "I am interested in comparing the Homer TF-peak nearest gene promoter and peak location to our ChIP-seq ground truth, which assumes that each peak only regulates the closest gene. The output of `annotatePeaks.pl` is a file for each TF with information about its binding potential to the peaks in your dataset. The columns are:\n",
    "\n",
    "- PeakID\n",
    "- Chromosome\n",
    "- Peak start position\n",
    "- Peak end position\n",
    "- Strand\n",
    "- Peak Score\n",
    "- FDR/Peak Focus Ratio/Region Size\n",
    "- Annotation (i.e. Exon, Intron, ...)\n",
    "- Detailed Annotation (Exon, Intron etc. + CpG Islands, repeats, etc.)\n",
    "- Distance to nearest RefSeq TSS\n",
    "- Nearest TSS: Native ID of annotation file\n",
    "- Nearest TSS: Entrez Gene ID\n",
    "- Nearest TSS: Unigene ID\n",
    "- Nearest TSS: RefSeq ID\n",
    "- Nearest TSS: Ensembl ID\n",
    "- Nearest TSS: Gene Symbol\n",
    "- Nearest TSS: Gene Aliases\n",
    "- Nearest TSS: Gene description\n",
    "- Additional columns depend on options selected when running the program.\n",
    "\n",
    "I am interested in the following columns:\n",
    "\n",
    "- PeakID\n",
    "- Chromosome\n",
    "- Peak start position\n",
    "- Peak end position\n",
    "- Annotation (i.e. Exon, Intron, ...)\n",
    "- Detailed Annotation (Exon, Intron etc. + CpG Islands, repeats, etc.)\n",
    "- Distance to nearest RefSeq TSS\n",
    "- Nearest TSS: Gene Symbol\n",
    "- CpG%\n",
    "- GC%\n",
    "\n",
    "The TF name can be found in the final column, which is structure as:\n",
    "\n",
    "> CTCF(Zf)/CD4+-CTCF-ChIP-Seq(Barski_et_al.)/Homer Distance From Peak(sequence,strand,conservation)\n",
    "\n",
    "There is some information in the literature that the likelihood of peaks regulating the nearest TSS is different based on the location of the peak, such as introns, promoter/TSS, intergenic, etc.\n",
    "\n",
    "Homer stores each TF's peak binding as a separate file. The TF name can be parsed from the last column name. We first build a DataFrame from the Homer `annotatePeak` output file containing the columns of interest."
   ]
  },
  {
   "cell_type": "code",
   "execution_count": null,
   "id": "f2bfc1ac",
   "metadata": {},
   "outputs": [],
   "source": [
    "!hostnamectl"
   ]
  },
  {
   "cell_type": "code",
   "execution_count": null,
   "id": "49136225",
   "metadata": {},
   "outputs": [],
   "source": [
    "import pandas as pd\n",
    "import numpy as np\n",
    "import os\n",
    "import matplotlib.pyplot as plt\n",
    "import matplotlib.patches as patches\n",
    "\n",
    "from typing import Tuple\n",
    "\n",
    "from grn_inference.plotting import plot_enhancer_to_target_arcs\n",
    "\n",
    "data_dir = \"/gpfs/Labs/Uzun/SCRIPTS/PROJECTS/2024.SINGLE_CELL_GRN_INFERENCE.MOELLER/dev/notebooks/sample_data/\"\n",
    "\n",
    "homer_df = pd.read_csv(\n",
    "    os.path.join(data_dir, \"sample_homer_annotatePeak_output.tsv\"), \n",
    "    sep=\"\\t\", \n",
    "    header=0, \n",
    "    index_col=0 # Setting the PeakID column as the index\n",
    "    )\n",
    "homer_df.index.names = [\"PeakID\"]\n",
    "\n",
    "TF_name = homer_df.columns[-1].split('/')[0].split('(')[0].split(':')[0].upper()\n",
    "\n",
    "homer_df[\"peak_id\"] = homer_df[\"Chr\"].astype(str) + \":\" + homer_df[\"Start\"].astype(str) + \"-\" + homer_df[\"End\"].astype(str)\n",
    "homer_df[\"source_id\"] = TF_name\n",
    "homer_df = homer_df.rename(columns={\"Gene Name\":\"target_id\"})\n",
    "\n",
    "cols_of_interest = [\n",
    "    \"source_id\",\n",
    "    \"peak_id\",\n",
    "    \"target_id\",\n",
    "    \"Chr\",\n",
    "    \"Start\",\n",
    "    \"End\",\n",
    "    \"Annotation\",\n",
    "    \"Distance to TSS\",\n",
    "    \"Gene Type\",\n",
    "    \"CpG%\",\n",
    "    \"GC%\"\n",
    "]\n",
    "homer_df = homer_df[cols_of_interest]\n",
    "homer_df[\"target_id\"] = homer_df[\"target_id\"].str.upper()\n",
    "homer_df.head()"
   ]
  },
  {
   "cell_type": "markdown",
   "id": "7725576d",
   "metadata": {},
   "source": [
    "Now we can extract the different targets for the TF predicted by Homer."
   ]
  },
  {
   "cell_type": "code",
   "execution_count": null,
   "id": "aa1139f6",
   "metadata": {},
   "outputs": [],
   "source": [
    "tf_to_nearest_gene = homer_df[[\"source_id\", \"target_id\"]].reset_index(drop=True).drop_duplicates()\n",
    "tf_to_nearest_gene.head()"
   ]
  },
  {
   "cell_type": "markdown",
   "id": "fb51376a",
   "metadata": {},
   "source": [
    "We can show the enhancers that are predicted to interact with a given target gene\n",
    "\n",
    "The mm10 tss_reference_file can be downloaded from here:\n",
    "\n",
    "[RefGenie mm10 TSS annotation file](http://awspds.refgenie.databio.org/refgenomes.databio.org/0f10d83b1050c08dd53189986f60970b92a315aa7a16a6f1/ensembl_gtf__default/0f10d83b1050c08dd53189986f60970b92a315aa7a16a6f1_ensembl_gene_body.bed)\n",
    "\n",
    "The mm10 gene_body_anno_file can be downloaded from here:\n",
    "\n",
    "[RefGenie mm10 gene body annotation file](http://awspds.refgenie.databio.org/refgenomes.databio.org/0f10d83b1050c08dd53189986f60970b92a315aa7a16a6f1/ensembl_gtf__default/0f10d83b1050c08dd53189986f60970b92a315aa7a16a6f1_ensembl_gene_body.bed)"
   ]
  },
  {
   "cell_type": "code",
   "execution_count": null,
   "id": "6d3dad84",
   "metadata": {},
   "outputs": [],
   "source": [
    "tss_reference_file = \"/gpfs/Labs/Uzun/SCRIPTS/PROJECTS/2024.SINGLE_CELL_GRN_INFERENCE.MOELLER/data/genome_annotation/mm10/mm10_TSS.bed\"\n",
    "gene_body_anno_file = \"/gpfs/Labs/Uzun/SCRIPTS/PROJECTS/2024.SINGLE_CELL_GRN_INFERENCE.MOELLER/data/genome_annotation/mm10/mm10_gene_body_anno.bed\"\n",
    "plot_enhancer_to_target_arcs(homer_df, \"KIF19A\", tss_reference_file, gene_body_anno_file)"
   ]
  }
 ],
 "metadata": {
  "kernelspec": {
   "display_name": "my_env",
   "language": "python",
   "name": "python3"
  },
  "language_info": {
   "codemirror_mode": {
    "name": "ipython",
    "version": 3
   },
   "file_extension": ".py",
   "mimetype": "text/x-python",
   "name": "python",
   "nbconvert_exporter": "python",
   "pygments_lexer": "ipython3",
   "version": "3.9.18"
  }
 },
 "nbformat": 4,
 "nbformat_minor": 5
}
