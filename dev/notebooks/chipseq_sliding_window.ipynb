{
 "cells": [
  {
   "cell_type": "markdown",
   "metadata": {},
   "source": [
    "Connected to my_env (Python 3.9.18)"
   ]
  },
  {
   "cell_type": "code",
   "execution_count": null,
   "metadata": {},
   "outputs": [],
   "source": [
    "peak_bed_file = \"/gpfs/Labs/Uzun/SCRIPTS/PROJECTS/2024.SINGLE_CELL_GRN_INFERENCE.MOELLER/input/DS011_mESC/Oth.Emb.05.AllAg.AllCell.bed\""
   ]
  },
  {
   "cell_type": "code",
   "execution_count": null,
   "metadata": {},
   "outputs": [],
   "source": [
    "import pandas as pd"
   ]
  },
  {
   "cell_type": "code",
   "execution_count": null,
   "metadata": {},
   "outputs": [],
   "source": [
    "import pybedtools\n",
    "peak_bed = pybedtools.BedTool(peak_bed_file)\n"
   ]
  },
  {
   "cell_type": "code",
   "execution_count": null,
   "metadata": {},
   "outputs": [],
   "source": [
    "peak_bed_df = peak_bed.to_dataframe()\n",
    "peak_bed_nohead = peak_bed_df.iloc[1:, :].dropna()"
   ]
  },
  {
   "cell_type": "code",
   "execution_count": null,
   "metadata": {},
   "outputs": [],
   "source": [
    "def extract_gene_name(name):\n",
    "    return name.split(\"Name=\")[1].split(\"%\")[0]"
   ]
  },
  {
   "cell_type": "code",
   "execution_count": null,
   "metadata": {},
   "outputs": [],
   "source": [
    "peak_bed_nohead[\"gene_name\"] = peak_bed_nohead[\"name\"].apply(extract_gene_name)"
   ]
  },
  {
   "cell_type": "code",
   "execution_count": null,
   "metadata": {},
   "outputs": [],
   "source": [
    "peak_bed_cleaned = peak_bed_nohead[[\"chrom\", \"start\", \"end\", \"gene_name\"]].rename(columns={\"gene_name\": \"gene_id\"})"
   ]
  },
  {
   "cell_type": "code",
   "execution_count": null,
   "metadata": {},
   "outputs": [],
   "source": [
    "def format_peak_id(chrom, start, end):\n",
    "    start = str(int(start))\n",
    "    end = str(int(end))\n",
    "    return \"%s:%s-%s\" % (chrom, start, end)"
   ]
  },
  {
   "cell_type": "code",
   "execution_count": null,
   "metadata": {},
   "outputs": [],
   "source": [
    "peak_bed_cleaned[\"peak_id\"] = peak_bed_cleaned.apply(lambda x: format_peak_id(x.chrom, x.start, x.end), axis=1)"
   ]
  },
  {
   "cell_type": "code",
   "execution_count": null,
   "metadata": {},
   "outputs": [],
   "source": [
    "peak_bed_final = peak_bed_cleaned[[\"gene_id\", \"peak_id\"]]"
   ]
  },
  {
   "cell_type": "code",
   "execution_count": null,
   "metadata": {},
   "outputs": [
    {
     "data": {
      "application/vnd.microsoft.datawrangler.viewer.v0+json": {
       "columns": [
        {
         "name": "index",
         "rawType": "int64",
         "type": "integer"
        },
        {
         "name": "gene_id",
         "rawType": "object",
         "type": "string"
        },
        {
         "name": "peak_id",
         "rawType": "object",
         "type": "string"
        }
       ],
       "ref": "f8ced2ea-7fe6-4350-a077-4e7626d1114b",
       "rows": [
        [
         "1",
         "Smad4",
         "chr1:3003564-3003922"
        ],
        [
         "2",
         "Ctcf",
         "chr1:3012605-3012815"
        ],
        [
         "3",
         "Ctcf",
         "chr1:3012635-3012824"
        ],
        [
         "4",
         "Epitope",
         "chr1:3031387-3031654"
        ],
        [
         "5",
         "Smad4",
         "chr1:3031454-3031677"
        ]
       ],
       "shape": {
        "columns": 2,
        "rows": 5
       }
      },
      "text/html": [
       "<div>\n",
       "<style scoped>\n",
       "    .dataframe tbody tr th:only-of-type {\n",
       "        vertical-align: middle;\n",
       "    }\n",
       "\n",
       "    .dataframe tbody tr th {\n",
       "        vertical-align: top;\n",
       "    }\n",
       "\n",
       "    .dataframe thead th {\n",
       "        text-align: right;\n",
       "    }\n",
       "</style>\n",
       "<table border=\"1\" class=\"dataframe\">\n",
       "  <thead>\n",
       "    <tr style=\"text-align: right;\">\n",
       "      <th></th>\n",
       "      <th>gene_id</th>\n",
       "      <th>peak_id</th>\n",
       "    </tr>\n",
       "  </thead>\n",
       "  <tbody>\n",
       "    <tr>\n",
       "      <th>1</th>\n",
       "      <td>Smad4</td>\n",
       "      <td>chr1:3003564-3003922</td>\n",
       "    </tr>\n",
       "    <tr>\n",
       "      <th>2</th>\n",
       "      <td>Ctcf</td>\n",
       "      <td>chr1:3012605-3012815</td>\n",
       "    </tr>\n",
       "    <tr>\n",
       "      <th>3</th>\n",
       "      <td>Ctcf</td>\n",
       "      <td>chr1:3012635-3012824</td>\n",
       "    </tr>\n",
       "    <tr>\n",
       "      <th>4</th>\n",
       "      <td>Epitope</td>\n",
       "      <td>chr1:3031387-3031654</td>\n",
       "    </tr>\n",
       "    <tr>\n",
       "      <th>5</th>\n",
       "      <td>Smad4</td>\n",
       "      <td>chr1:3031454-3031677</td>\n",
       "    </tr>\n",
       "  </tbody>\n",
       "</table>\n",
       "</div>"
      ],
      "text/plain": [
       "   gene_id               peak_id\n",
       "1    Smad4  chr1:3003564-3003922\n",
       "2     Ctcf  chr1:3012605-3012815\n",
       "3     Ctcf  chr1:3012635-3012824\n",
       "4  Epitope  chr1:3031387-3031654\n",
       "5    Smad4  chr1:3031454-3031677"
      ]
     },
     "execution_count": 69,
     "metadata": {},
     "output_type": "execute_result"
    }
   ],
   "source": [
    "peak_bed_final.head()"
   ]
  },
  {
   "cell_type": "code",
   "execution_count": null,
   "metadata": {},
   "outputs": [],
   "source": [
    "peak_bed_final.to_csv(\"/gpfs/Labs/Uzun/SCRIPTS/PROJECTS/2024.SINGLE_CELL_GRN_INFERENCE.MOELLER/input/DS011_mESC/chipatlas_mESC.csv\", header=True, index=False)"
   ]
  },
  {
   "cell_type": "code",
   "execution_count": null,
   "metadata": {},
   "outputs": [],
   "source": [
    "peak_df = peak_bed_cleaned[[\"peak_id\", \"chrom\", \"start\", \"end\"]]"
   ]
  },
  {
   "cell_type": "code",
   "execution_count": null,
   "metadata": {},
   "outputs": [],
   "source": [
    "peak_df = peak_df.rename(columns={\"peak_id\":\"PeakID\", \"chrom\":\"chr\"})"
   ]
  },
  {
   "cell_type": "code",
   "execution_count": null,
   "metadata": {},
   "outputs": [],
   "source": [
    "peak_df[\"strand\"] = [\".\"] * len(peak_df)"
   ]
  },
  {
   "cell_type": "code",
   "execution_count": null,
   "metadata": {},
   "outputs": [],
   "source": [
    "peak_df.to_csv(\"/gpfs/Labs/Uzun/SCRIPTS/PROJECTS/2024.SINGLE_CELL_GRN_INFERENCE.MOELLER/input/DS011_mESC/DS011_mESC_sample1/chipatlas_peak_df.csv\", header=True, index=False)"
   ]
  },
  {
   "cell_type": "code",
   "execution_count": null,
   "metadata": {},
   "outputs": [],
   "source": [
    "peak_df[\"start\"] = peak_df[\"start\"].astype(int).astype(str)"
   ]
  },
  {
   "cell_type": "code",
   "execution_count": null,
   "metadata": {},
   "outputs": [],
   "source": [
    "peak_df[\"end\"] = peak_df[\"end\"].astype(int).astype(str)"
   ]
  },
  {
   "cell_type": "code",
   "execution_count": null,
   "metadata": {},
   "outputs": [],
   "source": [
    "peak_df.to_csv(\"/gpfs/Labs/Uzun/SCRIPTS/PROJECTS/2024.SINGLE_CELL_GRN_INFERENCE.MOELLER/input/DS011_mESC/DS011_mESC_sample1/chipatlas_peak_df.csv\", header=True, index=False)"
   ]
  },
  {
   "cell_type": "code",
   "execution_count": null,
   "metadata": {},
   "outputs": [],
   "source": [
    "from grn_inference.pipeline.sliding_window_tf_peak_motifs import (\n",
    "    find_ATAC_peak_sequence,\n",
    "    associate_tf_with_motif_pwm,\n",
    "    plot_feature_score_histogram\n",
    ")"
   ]
  },
  {
   "cell_type": "code",
   "execution_count": null,
   "metadata": {},
   "outputs": [],
   "source": [
    "reference_genome_dir = \"/gpfs/Labs/Uzun/SCRIPTS/PROJECTS/2024.SINGLE_CELL_GRN_INFERENCE.MOELLER/data/reference_genome/mm10\"\n",
    "parsed_peak_file = \"/gpfs/Labs/Uzun/SCRIPTS/PROJECTS/2024.SINGLE_CELL_GRN_INFERENCE.MOELLER/input/DS011_mESC/peak_sequences.pkl\"\n",
    "fig_dir = \"/gpfs/Labs/Uzun/SCRIPTS/PROJECTS/2024.SINGLE_CELL_GRN_INFERENCE.MOELLER/input/DS011_mESC\""
   ]
  },
  {
   "cell_type": "code",
   "execution_count": null,
   "metadata": {},
   "outputs": [],
   "source": [
    "peak_df[\"end\"] = peak_df[\"end\"].astype(int)"
   ]
  },
  {
   "cell_type": "code",
   "execution_count": null,
   "metadata": {},
   "outputs": [],
   "source": [
    "peak_df[\"start\"] = peak_df[\"start\"].astype(int)"
   ]
  },
  {
   "cell_type": "code",
   "execution_count": null,
   "metadata": {},
   "outputs": [
    {
     "name": "stderr",
     "output_type": "stream",
     "text": [
      "100%|██████████| 66/66 [01:20<00:00,  1.22s/it]\n"
     ]
    },
    {
     "data": {
      "image/png": "[encoded data removed]",
      "text/plain": [
       "<Figure size 800x600 with 1 Axes>"
      ]
     },
     "metadata": {},
     "output_type": "display_data"
    }
   ],
   "source": [
    "chr_pos_to_seq = find_ATAC_peak_sequence(peak_df, reference_genome_dir, parsed_peak_file, fig_dir)"
   ]
  },
  {
   "cell_type": "code",
   "execution_count": null,
   "metadata": {},
   "outputs": [],
   "source": [
    "chr_pos_to_seq.to_pickle(parsed_peak_file)"
   ]
  },
  {
   "cell_type": "code",
   "execution_count": null,
   "metadata": {},
   "outputs": [],
   "source": [
    "tf_names_file = \"/gpfs/Labs/Uzun/SCRIPTS/PROJECTS/2024.SINGLE_CELL_GRN_INFERENCE.MOELLER/data/motif_information/mm10/TF_Information_all_motifs.txt\"\n",
    "meme_dir = \"/gpfs/Labs/Uzun/SCRIPTS/PROJECTS/2024.SINGLE_CELL_GRN_INFERENCE.MOELLER/data/motif_information/mm10/mm10_motif_meme_files\"\n",
    "rna_data_file = \"/gpfs/Labs/Uzun/SCRIPTS/PROJECTS/2024.SINGLE_CELL_GRN_INFERENCE.MOELLER/input/DS011_mESC/DS011_mESC_sample1/DS011_mESC_RNA_processed.parquet\""
   ]
  },
  {
   "cell_type": "code",
   "execution_count": null,
   "metadata": {},
   "outputs": [],
   "source": [
    "rna_df = pd.read_parquet(rna_data_file, columns=[\"gene_id\"])"
   ]
  },
  {
   "cell_type": "code",
   "execution_count": null,
   "metadata": {},
   "outputs": [],
   "source": [
    "rna_data_genes = set(rna_df)"
   ]
  },
  {
   "cell_type": "code",
   "execution_count": null,
   "metadata": {},
   "outputs": [],
   "source": [
    "species = \"mm10\""
   ]
  },
  {
   "cell_type": "code",
   "execution_count": null,
   "metadata": {},
   "outputs": [],
   "source": [
    "num_cpu = 8"
   ]
  },
  {
   "cell_type": "code",
   "execution_count": null,
   "metadata": {},
   "outputs": [],
   "source": [
    "output_dir = \"/gpfs/Labs/Uzun/SCRIPTS/PROJECTS/2024.SINGLE_CELL_GRN_INFERENCE.MOELLER/input/DS011_mESC\""
   ]
  },
  {
   "cell_type": "code",
   "execution_count": null,
   "metadata": {},
   "outputs": [
    {
     "data": {
      "text/plain": [
       "'/gpfs/Labs/Uzun/SCRIPTS/PROJECTS/2024.SINGLE_CELL_GRN_INFERENCE.MOELLER/data/reference_genome/mm10'"
      ]
     },
     "execution_count": 99,
     "metadata": {},
     "output_type": "execute_result"
    }
   ],
   "source": [
    "reference_genome_dir"
   ]
  },
  {
   "cell_type": "code",
   "execution_count": null,
   "metadata": {},
   "outputs": [
    {
     "data": {
      "text/plain": [
       "(7624391, 6)"
      ]
     },
     "execution_count": 100,
     "metadata": {},
     "output_type": "execute_result"
    }
   ],
   "source": [
    "chr_pos_to_seq.shape"
   ]
  },
  {
   "cell_type": "code",
   "execution_count": null,
   "metadata": {},
   "outputs": [
    {
     "data": {
      "text/plain": [
       "'/gpfs/Labs/Uzun/SCRIPTS/PROJECTS/2024.SINGLE_CELL_GRN_INFERENCE.MOELLER/input/DS011_mESC/peak_sequences.pkl'"
      ]
     },
     "execution_count": 101,
     "metadata": {},
     "output_type": "execute_result"
    }
   ],
   "source": [
    "parsed_peak_file"
   ]
  },
  {
   "cell_type": "code",
   "execution_count": null,
   "metadata": {},
   "outputs": [
    {
     "data": {
      "application/vnd.microsoft.datawrangler.viewer.v0+json": {
       "columns": [
        {
         "name": "index",
         "rawType": "int64",
         "type": "integer"
        },
        {
         "name": "chr",
         "rawType": "object",
         "type": "string"
        },
        {
         "name": "start",
         "rawType": "int64",
         "type": "integer"
        },
        {
         "name": "end",
         "rawType": "int64",
         "type": "integer"
        },
        {
         "name": "+ seq",
         "rawType": "object",
         "type": "unknown"
        },
        {
         "name": "- seq",
         "rawType": "object",
         "type": "unknown"
        },
        {
         "name": "peak_len",
         "rawType": "int64",
         "type": "integer"
        }
       ],
       "ref": "ee23e596-3fb8-423d-a9dc-ebbab6257061",
       "rows": [
        [
         "7624321",
         "chrY_JH584301_random",
         "3140",
         "3201",
         "[3 2 3 2 3 2 3 2 3 2 3 2 3 2 3 2 3 2 3 2 3 2 3 2 3 2 3 2 3 2 3 2 3 2 3 2 3\n 2 3 3 3 2 3 3 3 2 3 3 3 2 3 3 3 2 3 3 3 3 3 0 3]",
         "[0 1 0 1 0 1 0 1 0 1 0 1 0 1 0 1 0 1 0 1 0 1 0 1 0 1 0 1 0 1 0 1 0 1 0 1 0\n 1 0 0 0 1 0 0 0 1 0 0 0 1 0 0 0 1 0 0 0 0 0 3 0]",
         "61"
        ],
        [
         "7624322",
         "chrY_JH584301_random",
         "10651",
         "10718",
         "[1 3 1 3 1 3 1 3 1 3 1 3 1 3 1 3 1 3 1 3 1 3 1 3 1 3 1 3 1 3 1 3 1 3 1 3 1\n 3 1 3 1 3 1 3 1 3 1 3 1 3 2 3 2 3 2 3 2 3 2 3 2 0 2 3 2 3 3]",
         "[2 0 2 0 2 0 2 0 2 0 2 0 2 0 2 0 2 0 2 0 2 0 2 0 2 0 2 0 2 0 2 0 2 0 2 0 2\n 0 2 0 2 0 2 0 2 0 2 0 2 0 1 0 1 0 1 0 1 0 1 0 1 3 1 0 1 0 0]",
         "67"
        ],
        [
         "7624323",
         "chrY_JH584301_random",
         "13373",
         "13454",
         "[3 1 3 0 3 1 3 0 3 1 3 0 3 1 3 0 3 1 3 0 3 1 3 0 3 1 3 0 3 1 3 0 3 1 3 0 3\n 1 3 0 3 1 3 0 3 1 3 0 3 1 3 0 3 1 3 0 3 1 3 0 3 1 3 0 3 1 1 0 3 1 1 0 3 1\n 1 0 3 1 1 0 3]",
         "[0 2 0 3 0 2 0 3 0 2 0 3 0 2 0 3 0 2 0 3 0 2 0 3 0 2 0 3 0 2 0 3 0 2 0 3 0\n 2 0 3 0 2 0 3 0 2 0 3 0 2 0 3 0 2 0 3 0 2 0 3 0 2 0 3 0 2 2 3 0 2 2 3 0 2\n 2 3 0 2 2 3 0]",
         "81"
        ],
        [
         "7624324",
         "chrY_JH584301_random",
         "28862",
         "28977",
         "[1 3 0 3 1 3 0 3 0 3 1 3 0 3 1 3 0 3 1 3 0 3 1 3 2 3 1 3 0 3 1 3 0 3 1 3 0\n 3 1 3 2 3 1 3 0 3 1 3 0 3 1 3 0 3 1 3 0 3 1 3 0 3 1 3 0 3 1 3 0 3 1 3 0 3\n 1 3 0 3 1 3 0 3 1 3 0 3 1 3 0 3 1 3 0 3 1 3 0 3 1 3 0 3 1 3 0 1 1 3 0 3 1\n 3 0 1 1]",
         "[2 0 3 0 2 0 3 0 3 0 2 0 3 0 2 0 3 0 2 0 3 0 2 0 1 0 2 0 3 0 2 0 3 0 2 0 3\n 0 2 0 1 0 2 0 3 0 2 0 3 0 2 0 3 0 2 0 3 0 2 0 3 0 2 0 3 0 2 0 3 0 2 0 3 0\n 2 0 3 0 2 0 3 0 2 0 3 0 2 0 3 0 2 0 3 0 2 0 3 0 2 0 3 0 2 0 3 2 2 0 3 0 2\n 0 3 2 2]",
         "115"
        ],
        [
         "7624325",
         "chrY_JH584301_random",
         "56821",
         "56874",
         "[0 1 0 1 0 1 0 1 0 1 0 1 0 1 0 1 0 1 0 1 0 1 0 1 0 1 0 1 0 1 0 1 0 1 0 1 0\n 1 0 1 0 1 0 1 0 1 0 1 0 1 0 1 0]",
         "[3 2 3 2 3 2 3 2 3 2 3 2 3 2 3 2 3 2 3 2 3 2 3 2 3 2 3 2 3 2 3 2 3 2 3 2 3\n 2 3 2 3 2 3 2 3 2 3 2 3 2 3 2 3]",
         "53"
        ],
        [
         "7624326",
         "chrY_JH584301_random",
         "56823",
         "56874",
         "[0 1 0 1 0 1 0 1 0 1 0 1 0 1 0 1 0 1 0 1 0 1 0 1 0 1 0 1 0 1 0 1 0 1 0 1 0\n 1 0 1 0 1 0 1 0 1 0 1 0 1 0]",
         "[3 2 3 2 3 2 3 2 3 2 3 2 3 2 3 2 3 2 3 2 3 2 3 2 3 2 3 2 3 2 3 2 3 2 3 2 3\n 2 3 2 3 2 3 2 3 2 3 2 3 2 3]",
         "51"
        ],
        [
         "7624327",
         "chrY_JH584301_random",
         "56824",
         "56873",
         "[1 0 1 0 1 0 1 0 1 0 1 0 1 0 1 0 1 0 1 0 1 0 1 0 1 0 1 0 1 0 1 0 1 0 1 0 1\n 0 1 0 1 0 1 0 1 0 1 0 1]",
         "[2 3 2 3 2 3 2 3 2 3 2 3 2 3 2 3 2 3 2 3 2 3 2 3 2 3 2 3 2 3 2 3 2 3 2 3 2\n 3 2 3 2 3 2 3 2 3 2 3 2]",
         "49"
        ],
        [
         "7624328",
         "chrY_JH584301_random",
         "56826",
         "56874",
         "[1 0 1 0 1 0 1 0 1 0 1 0 1 0 1 0 1 0 1 0 1 0 1 0 1 0 1 0 1 0 1 0 1 0 1 0 1\n 0 1 0 1 0 1 0 1 0 1 0]",
         "[2 3 2 3 2 3 2 3 2 3 2 3 2 3 2 3 2 3 2 3 2 3 2 3 2 3 2 3 2 3 2 3 2 3 2 3 2\n 3 2 3 2 3 2 3 2 3 2 3]",
         "48"
        ],
        [
         "7624329",
         "chrY_JH584301_random",
         "67788",
         "67893",
         "[3 1 3 1 0 1 3 3 0 2 2 1 2 3 3 0 2 2 1 3 2 2 2 1 0 2 2 3 1 1 3 1 3 1 3 1 3\n 1 3 1 3 1 3 1 3 1 3 1 3 1 3 1 3 1 3 1 3 1 3 1 3 1 3 1 3 1 3 1 3 1 3 1 3 1\n 3 1 3 1 3 1 3 1 3 1 3 1 3 1 3 1 3 1 3 1 3 1 3 1 3 1 3 1 3 1 3]",
         "[0 2 0 2 3 2 0 0 3 1 1 2 1 0 0 3 1 1 2 0 1 1 1 2 3 1 1 0 2 2 0 2 0 2 0 2 0\n 2 0 2 0 2 0 2 0 2 0 2 0 2 0 2 0 2 0 2 0 2 0 2 0 2 0 2 0 2 0 2 0 2 0 2 0 2\n 0 2 0 2 0 2 0 2 0 2 0 2 0 2 0 2 0 2 0 2 0 2 0 2 0 2 0 2 0 2 0]",
         "105"
        ],
        [
         "7624330",
         "chrY_JH584301_random",
         "67822",
         "67900",
         "[3 1 3 1 3 1 3 1 3 1 3 1 3 1 3 1 3 1 3 1 3 1 3 1 3 1 3 1 3 1 3 1 3 1 3 1 3\n 1 3 1 3 1 3 1 3 1 3 1 3 1 3 1 3 1 3 1 3 1 3 1 3 1 3 1 3 1 3 1 3 1 3 1 3 1\n 3 1 3 1]",
         "[0 2 0 2 0 2 0 2 0 2 0 2 0 2 0 2 0 2 0 2 0 2 0 2 0 2 0 2 0 2 0 2 0 2 0 2 0\n 2 0 2 0 2 0 2 0 2 0 2 0 2 0 2 0 2 0 2 0 2 0 2 0 2 0 2 0 2 0 2 0 2 0 2 0 2\n 0 2 0 2]",
         "78"
        ],
        [
         "7624331",
         "chrY_JH584301_random",
         "67828",
         "67918",
         "[3 1 3 1 3 1 3 1 3 1 3 1 3 1 3 1 3 1 3 1 3 1 3 1 3 1 3 1 3 1 3 1 3 1 3 1 3\n 1 3 1 3 1 3 1 3 1 3 1 3 1 3 1 3 1 3 1 3 1 3 1 3 1 3 1 3 1 3 1 3 1 3 1 3 1\n 3 1 3 1 3 1 3 1 3 1 3 1 3 1 3 1]",
         "[0 2 0 2 0 2 0 2 0 2 0 2 0 2 0 2 0 2 0 2 0 2 0 2 0 2 0 2 0 2 0 2 0 2 0 2 0\n 2 0 2 0 2 0 2 0 2 0 2 0 2 0 2 0 2 0 2 0 2 0 2 0 2 0 2 0 2 0 2 0 2 0 2 0 2\n 0 2 0 2 0 2 0 2 0 2 0 2 0 2 0 2]",
         "90"
        ],
        [
         "7624332",
         "chrY_JH584301_random",
         "79777",
         "79832",
         "[3 1 3 1 3 1 3 1 3 1 3 1 3 1 3 1 3 1 3 1 3 1 3 1 3 1 3 1 3 1 3 1 3 1 3 1 3\n 1 3 1 3 1 3 1 3 1 3 1 3 1 3 1 3 1 3]",
         "[0 2 0 2 0 2 0 2 0 2 0 2 0 2 0 2 0 2 0 2 0 2 0 2 0 2 0 2 0 2 0 2 0 2 0 2 0\n 2 0 2 0 2 0 2 0 2 0 2 0 2 0 2 0 2 0]",
         "55"
        ],
        [
         "7624333",
         "chrY_JH584301_random",
         "88210",
         "88356",
         "[3 1 3 1 3 1 3 1 3 1 3 1 3 1 3 1 1 1 3 1 3 1 3 1 3 1 3 1 3 1 3 1 3 1 3 1 3\n 1 3 1 3 1 3 1 1 1 3 1 3 1 3 1 1 1 3 1 3 1 3 1 1 1 3 1 3 1 3 1 1 1 3 1 3 1\n 3 1 3 1 3 1 3 1 3 1 3 1 3 3 3 1 3 1 3 1 3 1 3 1 3 1 3 1 3 1 3 1 3 1 3 1 3\n 1 3 1 3 1 3 1 3 1 3 1 3 1 3 1 3 1 3 1 3 1 3 1 3 1 3 1 3 1 3 1 3 1 3 1]",
         "[0 2 0 2 0 2 0 2 0 2 0 2 0 2 0 2 2 2 0 2 0 2 0 2 0 2 0 2 0 2 0 2 0 2 0 2 0\n 2 0 2 0 2 0 2 2 2 0 2 0 2 0 2 2 2 0 2 0 2 0 2 2 2 0 2 0 2 0 2 2 2 0 2 0 2\n 0 2 0 2 0 2 0 2 0 2 0 2 0 0 0 2 0 2 0 2 0 2 0 2 0 2 0 2 0 2 0 2 0 2 0 2 0\n 2 0 2 0 2 0 2 0 2 0 2 0 2 0 2 0 2 0 2 0 2 0 2 0 2 0 2 0 2 0 2 0 2 0 2]",
         "146"
        ],
        [
         "7624334",
         "chrY_JH584301_random",
         "88212",
         "88377",
         "[3 1 3 1 3 1 3 1 3 1 3 1 3 1 1 1 3 1 3 1 3 1 3 1 3 1 3 1 3 1 3 1 3 1 3 1 3\n 1 3 1 3 1 1 1 3 1 3 1 3 1 1 1 3 1 3 1 3 1 1 1 3 1 3 1 3 1 1 1 3 1 3 1 3 1\n 3 1 3 1 3 1 3 1 3 1 3 3 3 1 3 1 3 1 3 1 3 1 3 1 3 1 3 1 3 1 3 1 3 1 3 1 3\n 1 3 1 3 1 3 1 3 1 3 1 3 1 3 1 3 1 3 1 3 1 3 1 3 1 3 1 3 1 3 1 3 1 3 1 3 1\n 3 1 3 1 3 1 3 1 3 1 3 1 3 1 3 1 3]",
         "[0 2 0 2 0 2 0 2 0 2 0 2 0 2 2 2 0 2 0 2 0 2 0 2 0 2 0 2 0 2 0 2 0 2 0 2 0\n 2 0 2 0 2 2 2 0 2 0 2 0 2 2 2 0 2 0 2 0 2 2 2 0 2 0 2 0 2 2 2 0 2 0 2 0 2\n 0 2 0 2 0 2 0 2 0 2 0 0 0 2 0 2 0 2 0 2 0 2 0 2 0 2 0 2 0 2 0 2 0 2 0 2 0\n 2 0 2 0 2 0 2 0 2 0 2 0 2 0 2 0 2 0 2 0 2 0 2 0 2 0 2 0 2 0 2 0 2 0 2 0 2\n 0 2 0 2 0 2 0 2 0 2 0 2 0 2 0 2 0]",
         "165"
        ],
        [
         "7624335",
         "chrY_JH584301_random",
         "127553",
         "127638",
         "[2 3 2 3 3 3 2 3 2 3 2 3 2 3 2 3 2 3 2 3 2 3 2 3 2 3 2 3 2 3 2 3 2 3 2 3 2\n 3 2 3 2 3 2 3 2 3 2 3 2 3 2 3 2 3 2 3 2 3 2 3 2 3 2 3 2 3 2 3 2 3 2 3 2 3\n 2 3 2 3 2 3 2 3 2 3 2]",
         "[1 0 1 0 0 0 1 0 1 0 1 0 1 0 1 0 1 0 1 0 1 0 1 0 1 0 1 0 1 0 1 0 1 0 1 0 1\n 0 1 0 1 0 1 0 1 0 1 0 1 0 1 0 1 0 1 0 1 0 1 0 1 0 1 0 1 0 1 0 1 0 1 0 1 0\n 1 0 1 0 1 0 1 0 1 0 1]",
         "85"
        ],
        [
         "7624336",
         "chrY_JH584301_random",
         "127562",
         "127634",
         "[3 2 3 2 3 2 3 2 3 2 3 2 3 2 3 2 3 2 3 2 3 2 3 2 3 2 3 2 3 2 3 2 3 2 3 2 3\n 2 3 2 3 2 3 2 3 2 3 2 3 2 3 2 3 2 3 2 3 2 3 2 3 2 3 2 3 2 3 2 3 2 3 2]",
         "[0 1 0 1 0 1 0 1 0 1 0 1 0 1 0 1 0 1 0 1 0 1 0 1 0 1 0 1 0 1 0 1 0 1 0 1 0\n 1 0 1 0 1 0 1 0 1 0 1 0 1 0 1 0 1 0 1 0 1 0 1 0 1 0 1 0 1 0 1 0 1 0 1]",
         "72"
        ],
        [
         "7624337",
         "chrY_JH584301_random",
         "127563",
         "127633",
         "[2 3 2 3 2 3 2 3 2 3 2 3 2 3 2 3 2 3 2 3 2 3 2 3 2 3 2 3 2 3 2 3 2 3 2 3 2\n 3 2 3 2 3 2 3 2 3 2 3 2 3 2 3 2 3 2 3 2 3 2 3 2 3 2 3 2 3 2 3 2 3]",
         "[1 0 1 0 1 0 1 0 1 0 1 0 1 0 1 0 1 0 1 0 1 0 1 0 1 0 1 0 1 0 1 0 1 0 1 0 1\n 0 1 0 1 0 1 0 1 0 1 0 1 0 1 0 1 0 1 0 1 0 1 0 1 0 1 0 1 0 1 0 1 0]",
         "70"
        ],
        [
         "7624338",
         "chrY_JH584301_random",
         "127564",
         "127636",
         "[3 2 3 2 3 2 3 2 3 2 3 2 3 2 3 2 3 2 3 2 3 2 3 2 3 2 3 2 3 2 3 2 3 2 3 2 3\n 2 3 2 3 2 3 2 3 2 3 2 3 2 3 2 3 2 3 2 3 2 3 2 3 2 3 2 3 2 3 2 3 2 3 2]",
         "[0 1 0 1 0 1 0 1 0 1 0 1 0 1 0 1 0 1 0 1 0 1 0 1 0 1 0 1 0 1 0 1 0 1 0 1 0\n 1 0 1 0 1 0 1 0 1 0 1 0 1 0 1 0 1 0 1 0 1 0 1 0 1 0 1 0 1 0 1 0 1 0 1]",
         "72"
        ],
        [
         "7624339",
         "chrY_JH584301_random",
         "127567",
         "127630",
         "[2 3 2 3 2 3 2 3 2 3 2 3 2 3 2 3 2 3 2 3 2 3 2 3 2 3 2 3 2 3 2 3 2 3 2 3 2\n 3 2 3 2 3 2 3 2 3 2 3 2 3 2 3 2 3 2 3 2 3 2 3 2 3 2]",
         "[1 0 1 0 1 0 1 0 1 0 1 0 1 0 1 0 1 0 1 0 1 0 1 0 1 0 1 0 1 0 1 0 1 0 1 0 1\n 0 1 0 1 0 1 0 1 0 1 0 1 0 1 0 1 0 1 0 1 0 1 0 1 0 1]",
         "63"
        ],
        [
         "7624340",
         "chrY_JH584301_random",
         "127568",
         "127634",
         "[3 2 3 2 3 2 3 2 3 2 3 2 3 2 3 2 3 2 3 2 3 2 3 2 3 2 3 2 3 2 3 2 3 2 3 2 3\n 2 3 2 3 2 3 2 3 2 3 2 3 2 3 2 3 2 3 2 3 2 3 2 3 2 3 2 3 2]",
         "[0 1 0 1 0 1 0 1 0 1 0 1 0 1 0 1 0 1 0 1 0 1 0 1 0 1 0 1 0 1 0 1 0 1 0 1 0\n 1 0 1 0 1 0 1 0 1 0 1 0 1 0 1 0 1 0 1 0 1 0 1 0 1 0 1 0 1]",
         "66"
        ],
        [
         "7624341",
         "chrY_JH584301_random",
         "130518",
         "130625",
         "[3 3 3 3 0 0 0 0 1 0 0 0 2 1 1 1 3 2 1 0 1 3 0 0 3 0 1 0 1 0 3 0 2 0 3 2 0\n 2 0 0 0 3 0 3 0 3 3 0 0 3 0 3 1 1 1 1 1 1 1 1 1 3 1 3 1 3 1 3 1 3 1 3 1 3\n 1 3 1 3 1 3 1 3 1 3 1 3 1 3 1 3 1 3 1 3 1 3 1 3 1 3 1 3 1 3 1 3 1]",
         "[0 0 0 0 3 3 3 3 2 3 3 3 1 2 2 2 0 1 2 3 2 0 3 3 0 3 2 3 2 3 0 3 1 3 0 1 3\n 1 3 3 3 0 3 0 3 0 0 3 3 0 3 0 2 2 2 2 2 2 2 2 2 0 2 0 2 0 2 0 2 0 2 0 2 0\n 2 0 2 0 2 0 2 0 2 0 2 0 2 0 2 0 2 0 2 0 2 0 2 0 2 0 2 0 2 0 2 0 2]",
         "107"
        ],
        [
         "7624342",
         "chrY_JH584301_random",
         "130529",
         "130620",
         "[0 2 1 1 1 3 2 1 0 1 3 0 0 3 0 1 0 1 0 3 0 2 0 3 2 0 2 0 0 0 3 0 3 0 3 3 0\n 0 3 0 3 1 1 1 1 1 1 1 1 1 3 1 3 1 3 1 3 1 3 1 3 1 3 1 3 1 3 1 3 1 3 1 3 1\n 3 1 3 1 3 1 3 1 3 1 3 1 3 1 3 1 3]",
         "[3 1 2 2 2 0 1 2 3 2 0 3 3 0 3 2 3 2 3 0 3 1 3 0 1 3 1 3 3 3 0 3 0 3 0 0 3\n 3 0 3 0 2 2 2 2 2 2 2 2 2 0 2 0 2 0 2 0 2 0 2 0 2 0 2 0 2 0 2 0 2 0 2 0 2\n 0 2 0 2 0 2 0 2 0 2 0 2 0 2 0 2 0]",
         "91"
        ],
        [
         "7624343",
         "chrY_JH584301_random",
         "130563",
         "130626",
         "[3 3 0 0 3 0 3 1 1 1 1 1 1 1 1 1 3 1 3 1 3 1 3 1 3 1 3 1 3 1 3 1 3 1 3 1 3\n 1 3 1 3 1 3 1 3 1 3 1 3 1 3 1 3 1 3 1 3 1 3 1 3 1 3]",
         "[0 0 3 3 0 3 0 2 2 2 2 2 2 2 2 2 0 2 0 2 0 2 0 2 0 2 0 2 0 2 0 2 0 2 0 2 0\n 2 0 2 0 2 0 2 0 2 0 2 0 2 0 2 0 2 0 2 0 2 0 2 0 2 0]",
         "63"
        ],
        [
         "7624344",
         "chrY_JH584301_random",
         "153744",
         "153816",
         "[2 0 0 0 2 0 0 0 2 0 0 0 2 0 0 0 2 0 0 0 2 0 0 0 2 0 1 0 2 0 0 0 2 0 1 0 2\n 0 0 0 2 0 1 0 2 0 1 0 2 0 1 0 2 0 1 0 2 0 1 0 2 0 1 0 2 0 1 0 2 0 1 0]",
         "[1 3 3 3 1 3 3 3 1 3 3 3 1 3 3 3 1 3 3 3 1 3 3 3 1 3 2 3 1 3 3 3 1 3 2 3 1\n 3 3 3 1 3 2 3 1 3 2 3 1 3 2 3 1 3 2 3 1 3 2 3 1 3 2 3 1 3 2 3 1 3 2 3]",
         "72"
        ],
        [
         "7624345",
         "chrY_JH584301_random",
         "153759",
         "153819",
         "[0 2 0 0 0 2 0 0 0 2 0 1 0 2 0 0 0 2 0 1 0 2 0 0 0 2 0 1 0 2 0 1 0 2 0 1 0\n 2 0 1 0 2 0 1 0 2 0 1 0 2 0 1 0 2 0 1 0 0 0 2]",
         "[3 1 3 3 3 1 3 3 3 1 3 2 3 1 3 3 3 1 3 2 3 1 3 3 3 1 3 2 3 1 3 2 3 1 3 2 3\n 1 3 2 3 1 3 2 3 1 3 2 3 1 3 2 3 1 3 2 3 3 3 1]",
         "60"
        ],
        [
         "7624346",
         "chrY_JH584301_random",
         "156931",
         "156995",
         "[2 3 2 3 2 3 2 3 2 3 2 3 2 3 2 3 2 3 2 3 2 3 2 3 2 3 2 1 2 3 2 3 2 3 2 3 2\n 3 2 3 2 3 2 3 2 3 2 3 2 3 2 3 2 3 2 3 2 3 2 3 2 3 2 3]",
         "[1 0 1 0 1 0 1 0 1 0 1 0 1 0 1 0 1 0 1 0 1 0 1 0 1 0 1 2 1 0 1 0 1 0 1 0 1\n 0 1 0 1 0 1 0 1 0 1 0 1 0 1 0 1 0 1 0 1 0 1 0 1 0 1 0]",
         "64"
        ],
        [
         "7624347",
         "chrY_JH584301_random",
         "156932",
         "156982",
         "[3 2 3 2 3 2 3 2 3 2 3 2 3 2 3 2 3 2 3 2 3 2 3 2 3 2 1 2 3 2 3 2 3 2 3 2 3\n 2 3 2 3 2 3 2 3 2 3 2 3 2]",
         "[0 1 0 1 0 1 0 1 0 1 0 1 0 1 0 1 0 1 0 1 0 1 0 1 0 1 2 1 0 1 0 1 0 1 0 1 0\n 1 0 1 0 1 0 1 0 1 0 1 0 1]",
         "50"
        ],
        [
         "7624348",
         "chrY_JH584301_random",
         "156934",
         "157001",
         "[3 2 3 2 3 2 3 2 3 2 3 2 3 2 3 2 3 2 3 2 3 2 3 2 1 2 3 2 3 2 3 2 3 2 3 2 3\n 2 3 2 3 2 3 2 3 2 3 2 3 2 3 2 3 2 3 2 3 2 3 2 3 2 3 2 3 2 3]",
         "[0 1 0 1 0 1 0 1 0 1 0 1 0 1 0 1 0 1 0 1 0 1 0 1 2 1 0 1 0 1 0 1 0 1 0 1 0\n 1 0 1 0 1 0 1 0 1 0 1 0 1 0 1 0 1 0 1 0 1 0 1 0 1 0 1 0 1 0]",
         "67"
        ],
        [
         "7624349",
         "chrY_JH584301_random",
         "156936",
         "156987",
         "[3 2 3 2 3 2 3 2 3 2 3 2 3 2 3 2 3 2 3 2 3 2 1 2 3 2 3 2 3 2 3 2 3 2 3 2 3\n 2 3 2 3 2 3 2 3 2 3 2 3 2 3]",
         "[0 1 0 1 0 1 0 1 0 1 0 1 0 1 0 1 0 1 0 1 0 1 2 1 0 1 0 1 0 1 0 1 0 1 0 1 0\n 1 0 1 0 1 0 1 0 1 0 1 0 1 0]",
         "51"
        ],
        [
         "7624350",
         "chrY_JH584301_random",
         "173530",
         "173592",
         "[3 2 3 0 3 1 3 0 3 1 3 0 3 1 3 0 3 1 3 0 3 1 3 0 3 1 3 0 3 1 3 0 3 1 3 0 3\n 1 3 0 3 1 3 0 3 1 3 0 3 1 3 0 3 1 3 0 3 1 0 3 1 3]",
         "[0 1 0 3 0 2 0 3 0 2 0 3 0 2 0 3 0 2 0 3 0 2 0 3 0 2 0 3 0 2 0 3 0 2 0 3 0\n 2 0 3 0 2 0 3 0 2 0 3 0 2 0 3 0 2 0 3 0 2 3 0 2 0]",
         "62"
        ],
        [
         "7624351",
         "chrY_JH584301_random",
         "173903",
         "174143",
         "[0 0 3 2 3 3 1 0 0 1 0 3 1 1 3 3 0 0 3 1 0 3 1 0 2 2 2 0 0 0 3 2 1 0 0 0 3\n 1 0 0 0 0 1 0 0 1 1 1 3 2 0 2 0 3 3 1 1 0 1 1 3 1 0 1 0 1 1 0 2 3 1 0 2 0\n 0 3 2 2 1 3 0 0 2 0 3 1 0 0 0 0 0 3 3 1 0 2 2 3 2 0 1 0 2 1 0 2 0 3 2 1 3\n 2 2 1 2 3 2 2 0 3 2 3 2 2 0 2 0 0 0 2 0 2 2 0 0 1 0 1 3 1 1 3 1 1 0 3 3 2\n 3 3 2 2 3 2 2 2 0 3 3 2 1 0 2 2 1 3 3 2 3 0 1 0 0 1 1 0 1 3 1 3 2 2 0 0 0\n 3 1 0 2 3 1 3 2 2 1 2 2 3 3 1 1 3 1 0 2 0 0 0 0 3 3 2 2 0 1 0 3 0 2 3 0 1\n 3 0 1 1 2 1 0 2 2 0 3 1 1 0 2 1 0 0]",
         "[3 3 0 1 0 0 2 3 3 2 3 0 2 2 0 0 3 3 0 2 3 0 2 3 1 1 1 3 3 3 0 1 2 3 3 3 0\n 2 3 3 3 3 2 3 3 2 2 2 0 1 3 1 3 0 0 2 2 3 2 2 0 2 3 2 3 2 2 3 1 0 2 3 1 3\n 3 0 1 1 2 0 3 3 1 3 0 2 3 3 3 3 3 0 0 2 3 1 1 0 1 3 2 3 1 2 3 1 3 0 1 2 0\n 1 1 2 1 0 1 1 3 0 1 0 1 1 3 1 3 3 3 1 3 1 1 3 3 2 3 2 0 2 2 0 2 2 3 0 0 1\n 0 0 1 1 0 1 1 1 3 0 0 1 2 3 1 1 2 0 0 1 0 3 2 3 3 2 2 3 2 0 2 0 1 1 3 3 3\n 0 2 3 1 0 2 0 1 1 2 1 1 0 0 2 2 0 2 3 1 3 3 3 3 0 0 1 1 3 2 3 0 3 1 0 3 2\n 0 3 2 2 1 2 3 1 1 3 0 2 2 3 1 2 3 3]",
         "240"
        ],
        [
         "7624352",
         "chrY_JH584301_random",
         "174250",
         "174591",
         "[1 1 3 0 2 0 3 2 1 1 1 1 3 1 0 0 1 0 2 0 2 2 0 0 3 2 2 0 3 0 1 0 2 0 0 0 0\n 3 2 3 2 2 3 0 1 0 3 1 3 0 1 0 1 0 0 3 2 2 0 2 3 0 1 3 0 1 3 1 0 2 1 3 0 3\n 3 0 0 0 0 0 2 0 0 3 2 0 0 3 3 3 0 3 2 0 0 0 3 3 1 1 3 0 2 1 1 0 0 0 3 2 2\n 0 3 2 2 0 1 1 3 2 2 0 2 2 2 1 0 3 1 0 3 1 1 3 2 0 2 3 2 0 2 2 3 0 0 1 0 1\n 0 3 3 1 0 1 0 0 0 2 0 0 0 1 3 1 0 1 0 1 0 0 3 0 3 2 3 0 1 3 1 0 1 3 2 0 3\n 0 0 2 3 2 2 0 3 0 3 3 0 2 1 1 1 1 0 0 0 1 1 3 0 2 2 0 3 0 1 1 1 0 0 2 0 3\n 0 3 0 0 2 0 3 0 3 0 0 3 3 3 2 1 3 0 0 0 1 0 1 0 3 2 0 0 0 1 3 1 0 0 2 0 0\n 2 0 0 3 2 0 0 2 0 1 3 2 0 0 2 3 2 3 2 2 0 1 0 1 3 0 3 2 1 1 1 1 3 1 1 3 3\n 0 2 0 3 3 3 2 2 2 0 0 1 0 0 0 0 1 0 1 1 1 0 3 2 2 0 0 2 2 0 2 3 3 0 1 0 2\n 0 2 0 1 0 0 0 2]",
         "[2 2 0 3 1 3 0 1 2 2 2 2 0 2 3 3 2 3 1 3 1 1 3 3 0 1 1 3 0 3 2 3 1 3 3 3 3\n 0 1 0 1 1 0 3 2 3 0 2 0 3 2 3 2 3 3 0 1 1 3 1 0 3 2 0 3 2 0 2 3 1 2 0 3 0\n 0 3 3 3 3 3 1 3 3 0 1 3 3 0 0 0 3 0 1 3 3 3 0 0 2 2 0 3 1 2 2 3 3 3 0 1 1\n 3 0 1 1 3 2 2 0 1 1 3 1 1 1 2 3 0 2 3 0 2 2 0 1 3 1 0 1 3 1 1 0 3 3 2 3 2\n 3 0 0 2 3 2 3 3 3 1 3 3 3 2 0 2 3 2 3 2 3 3 0 3 0 1 0 3 2 0 2 3 2 0 1 3 0\n 3 3 1 0 1 1 3 0 3 0 0 3 1 2 2 2 2 3 3 3 2 2 0 3 1 1 3 0 3 2 2 2 3 3 1 3 0\n 3 0 3 3 1 3 0 3 0 3 3 0 0 0 1 2 0 3 3 3 2 3 2 3 0 1 3 3 3 2 0 2 3 3 1 3 3\n 1 3 3 0 1 3 3 1 3 2 0 1 3 3 1 0 1 0 1 1 3 2 3 2 0 3 0 1 2 2 2 2 0 2 2 0 0\n 3 1 3 0 0 0 1 1 1 3 3 2 3 3 3 3 2 3 2 2 2 3 0 1 1 3 3 1 1 3 1 0 0 3 2 3 1\n 3 1 3 2 3 3 3 1]",
         "341"
        ],
        [
         "7624353",
         "chrY_JH584301_random",
         "180465",
         "180520",
         "[3 3 3 2 3 2 3 2 3 2 3 2 3 2 3 2 3 2 3 2 3 2 3 2 3 2 3 2 3 2 3 2 3 2 3 2 3\n 2 3 2 3 2 3 2 3 2 3 2 3 2 3 2 3 2 3]",
         "[0 0 0 1 0 1 0 1 0 1 0 1 0 1 0 1 0 1 0 1 0 1 0 1 0 1 0 1 0 1 0 1 0 1 0 1 0\n 1 0 1 0 1 0 1 0 1 0 1 0 1 0 1 0 1 0]",
         "55"
        ],
        [
         "7624354",
         "chrY_JH584301_random",
         "180469",
         "180518",
         "[3 2 3 2 3 2 3 2 3 2 3 2 3 2 3 2 3 2 3 2 3 2 3 2 3 2 3 2 3 2 3 2 3 2 3 2 3\n 2 3 2 3 2 3 2 3 2 3 2 3]",
         "[0 1 0 1 0 1 0 1 0 1 0 1 0 1 0 1 0 1 0 1 0 1 0 1 0 1 0 1 0 1 0 1 0 1 0 1 0\n 1 0 1 0 1 0 1 0 1 0 1 0]",
         "49"
        ],
        [
         "7624355",
         "chrY_JH584301_random",
         "183400",
         "183505",
         "[3 3 3 3 3 0 0 0 0 1 0 0 0 2 1 1 1 3 2 1 0 1 3 0 0 3 0 1 0 1 0 3 0 2 0 3 2\n 0 2 0 0 0 3 0 3 0 3 3 0 0 3 0 3 1 1 1 1 1 1 1 1 1 1 3 1 3 1 3 1 3 1 3 1 3\n 1 3 1 3 1 3 1 3 1 3 1 3 1 3 1 3 1 3 1 3 1 3 1 3 1 3 1 3 1 3 1]",
         "[0 0 0 0 0 3 3 3 3 2 3 3 3 1 2 2 2 0 1 2 3 2 0 3 3 0 3 2 3 2 3 0 3 1 3 0 1\n 3 1 3 3 3 0 3 0 3 0 0 3 3 0 3 0 2 2 2 2 2 2 2 2 2 2 0 2 0 2 0 2 0 2 0 2 0\n 2 0 2 0 2 0 2 0 2 0 2 0 2 0 2 0 2 0 2 0 2 0 2 0 2 0 2 0 2 0 2]",
         "105"
        ],
        [
         "7624356",
         "chrY_JH584301_random",
         "183416",
         "183504",
         "[1 3 2 1 0 1 3 0 0 3 0 1 0 1 0 3 0 2 0 3 2 0 2 0 0 0 3 0 3 0 3 3 0 0 3 0 3\n 1 1 1 1 1 1 1 1 1 1 3 1 3 1 3 1 3 1 3 1 3 1 3 1 3 1 3 1 3 1 3 1 3 1 3 1 3\n 1 3 1 3 1 3 1 3 1 3 1 3 1 3]",
         "[2 0 1 2 3 2 0 3 3 0 3 2 3 2 3 0 3 1 3 0 1 3 1 3 3 3 0 3 0 3 0 0 3 3 0 3 0\n 2 2 2 2 2 2 2 2 2 2 0 2 0 2 0 2 0 2 0 2 0 2 0 2 0 2 0 2 0 2 0 2 0 2 0 2 0\n 2 0 2 0 2 0 2 0 2 0 2 0 2 0]",
         "88"
        ],
        [
         "7624357",
         "chrY_JH584301_random",
         "183443",
         "183507",
         "[0 3 0 3 3 0 0 3 0 3 1 1 1 1 1 1 1 1 1 1 3 1 3 1 3 1 3 1 3 1 3 1 3 1 3 1 3\n 1 3 1 3 1 3 1 3 1 3 1 3 1 3 1 3 1 3 1 3 1 3 1 3 1 3 1]",
         "[3 0 3 0 0 3 3 0 3 0 2 2 2 2 2 2 2 2 2 2 0 2 0 2 0 2 0 2 0 2 0 2 0 2 0 2 0\n 2 0 2 0 2 0 2 0 2 0 2 0 2 0 2 0 2 0 2 0 2 0 2 0 2 0 2]",
         "64"
        ],
        [
         "7624358",
         "chrY_JH584301_random",
         "183455",
         "183506",
         "[1 1 1 1 1 1 1 1 3 1 3 1 3 1 3 1 3 1 3 1 3 1 3 1 3 1 3 1 3 1 3 1 3 1 3 1 3\n 1 3 1 3 1 3 1 3 1 3 1 3 1 3]",
         "[2 2 2 2 2 2 2 2 0 2 0 2 0 2 0 2 0 2 0 2 0 2 0 2 0 2 0 2 0 2 0 2 0 2 0 2 0\n 2 0 2 0 2 0 2 0 2 0 2 0 2 0]",
         "51"
        ],
        [
         "7624359",
         "chrY_JH584301_random",
         "206600",
         "206684",
         "[2 0 0 0 2 0 0 0 2 0 0 0 2 0 0 0 2 0 0 0 2 0 0 0 2 0 1 0 2 0 0 0 2 0 1 0 2\n 0 0 0 2 0 1 0 2 0 1 0 2 0 1 0 2 0 1 0 2 0 1 0 2 0 1 0 2 0 1 0 2 0 1 0 2 0\n 1 0 0 0 2 0 2 0 2 0]",
         "[1 3 3 3 1 3 3 3 1 3 3 3 1 3 3 3 1 3 3 3 1 3 3 3 1 3 2 3 1 3 3 3 1 3 2 3 1\n 3 3 3 1 3 2 3 1 3 2 3 1 3 2 3 1 3 2 3 1 3 2 3 1 3 2 3 1 3 2 3 1 3 2 3 1 3\n 2 3 3 3 1 3 1 3 1 3]",
         "84"
        ],
        [
         "7624360",
         "chrY_JH584301_random",
         "206615",
         "206677",
         "[0 2 0 0 0 2 0 0 0 2 0 1 0 2 0 0 0 2 0 1 0 2 0 0 0 2 0 1 0 2 0 1 0 2 0 1 0\n 2 0 1 0 2 0 1 0 2 0 1 0 2 0 1 0 2 0 1 0 2 0 1 0 0]",
         "[3 1 3 3 3 1 3 3 3 1 3 2 3 1 3 3 3 1 3 2 3 1 3 3 3 1 3 2 3 1 3 2 3 1 3 2 3\n 1 3 2 3 1 3 2 3 1 3 2 3 1 3 2 3 1 3 2 3 1 3 2 3 3]",
         "62"
        ],
        [
         "7624361",
         "chrY_JH584301_random",
         "209797",
         "209875",
         "[2 3 2 3 2 3 2 3 2 3 2 3 2 3 2 3 2 3 2 3 2 3 2 1 2 3 2 3 2 3 2 3 2 3 2 3 2\n 3 2 3 2 3 2 3 2 3 2 3 2 3 2 3 2 3 2 3 2 3 2 3 2 3 2 3 2 3 2 3 2 3 2 3 2 3\n 2 3 2 3]",
         "[1 0 1 0 1 0 1 0 1 0 1 0 1 0 1 0 1 0 1 0 1 0 1 2 1 0 1 0 1 0 1 0 1 0 1 0 1\n 0 1 0 1 0 1 0 1 0 1 0 1 0 1 0 1 0 1 0 1 0 1 0 1 0 1 0 1 0 1 0 1 0 1 0 1 0\n 1 0 1 0]",
         "78"
        ],
        [
         "7624362",
         "chrY_JH584301_random",
         "209798",
         "209862",
         "[3 2 3 2 3 2 3 2 3 2 3 2 3 2 3 2 3 2 3 2 3 2 1 2 3 2 3 2 3 2 3 2 3 2 3 2 3\n 2 3 2 3 2 3 2 3 2 3 2 3 2 3 2 3 2 3 2 3 2 3 2 3 2 3 2]",
         "[0 1 0 1 0 1 0 1 0 1 0 1 0 1 0 1 0 1 0 1 0 1 2 1 0 1 0 1 0 1 0 1 0 1 0 1 0\n 1 0 1 0 1 0 1 0 1 0 1 0 1 0 1 0 1 0 1 0 1 0 1 0 1 0 1]",
         "64"
        ],
        [
         "7624363",
         "chrY_JH584301_random",
         "209798",
         "209872",
         "[3 2 3 2 3 2 3 2 3 2 3 2 3 2 3 2 3 2 3 2 3 2 1 2 3 2 3 2 3 2 3 2 3 2 3 2 3\n 2 3 2 3 2 3 2 3 2 3 2 3 2 3 2 3 2 3 2 3 2 3 2 3 2 3 2 3 2 3 2 3 2 3 2 3 2]",
         "[0 1 0 1 0 1 0 1 0 1 0 1 0 1 0 1 0 1 0 1 0 1 2 1 0 1 0 1 0 1 0 1 0 1 0 1 0\n 1 0 1 0 1 0 1 0 1 0 1 0 1 0 1 0 1 0 1 0 1 0 1 0 1 0 1 0 1 0 1 0 1 0 1 0 1]",
         "74"
        ],
        [
         "7624364",
         "chrY_JH584301_random",
         "209801",
         "209869",
         "[2 3 2 3 2 3 2 3 2 3 2 3 2 3 2 3 2 3 2 1 2 3 2 3 2 3 2 3 2 3 2 3 2 3 2 3 2\n 3 2 3 2 3 2 3 2 3 2 3 2 3 2 3 2 3 2 3 2 3 2 3 2 3 2 3 2 3 2 3]",
         "[1 0 1 0 1 0 1 0 1 0 1 0 1 0 1 0 1 0 1 2 1 0 1 0 1 0 1 0 1 0 1 0 1 0 1 0 1\n 0 1 0 1 0 1 0 1 0 1 0 1 0 1 0 1 0 1 0 1 0 1 0 1 0 1 0 1 0 1 0]",
         "68"
        ],
        [
         "7624365",
         "chrY_JH584301_random",
         "209821",
         "209870",
         "[2 3 2 3 2 3 2 3 2 3 2 3 2 3 2 3 2 3 2 3 2 3 2 3 2 3 2 3 2 3 2 3 2 3 2 3 2\n 3 2 3 2 3 2 3 2 3 2 3 2]",
         "[1 0 1 0 1 0 1 0 1 0 1 0 1 0 1 0 1 0 1 0 1 0 1 0 1 0 1 0 1 0 1 0 1 0 1 0 1\n 0 1 0 1 0 1 0 1 0 1 0 1]",
         "49"
        ],
        [
         "7624366",
         "chrY_JH584301_random",
         "226405",
         "226472",
         "[0 3 1 3 0 3 1 3 0 3 1 3 0 3 1 3 0 3 1 3 0 3 1 3 0 3 1 3 0 3 1 3 0 3 1 3 0\n 3 1 3 0 3 1 3 0 3 1 3 0 3 1 0 3 1 3 0 3 1 3 0 3 1 3 0 3 1 3]",
         "[3 0 2 0 3 0 2 0 3 0 2 0 3 0 2 0 3 0 2 0 3 0 2 0 3 0 2 0 3 0 2 0 3 0 2 0 3\n 0 2 0 3 0 2 0 3 0 2 0 3 0 2 3 0 2 0 3 0 2 0 3 0 2 0 3 0 2 0]",
         "67"
        ],
        [
         "3743312",
         "chr1_GL456221_random",
         "289",
         "444",
         "[1 3 1 1 1 0 2 2 2 1 3 2 0 0 2 1 3 0 1 0 2 2 3 2 3 2 1 2 1 3 2 3 1 0 3 2 1\n 0 3 2 2 1 3 3 2 0 2 3 3 0 1 0 2 2 3 2 3 2 1 0 1 3 2 3 1 0 3 0 1 0 3 2 2 1\n 3 2 0 2 2 3 3 2 1 0 2 2 3 2 3 2 1 3 2 3 1 0 3 2 1 0 3 2 2 1 3 3 2 0 2 3 3\n 0 1 0 2 2 3 2 3 2 1 0 1 3 2 3 1 0 3 2 1 0 3 2 2 1 3 2 0 2 2 3 2 2 2 2 0 1\n 3 0 2 1 3 2 3]",
         "[2 0 2 2 2 3 1 1 1 2 0 1 3 3 1 2 0 3 2 3 1 1 0 1 0 1 2 1 2 0 1 0 2 3 0 1 2\n 3 0 1 1 2 0 0 1 3 1 0 0 3 2 3 1 1 0 1 0 1 2 3 2 0 1 0 2 3 0 3 2 3 0 1 1 2\n 0 1 3 1 1 0 0 1 2 3 1 1 0 1 0 1 2 0 1 0 2 3 0 1 2 3 0 1 1 2 0 0 1 3 1 0 0\n 3 2 3 1 1 0 1 0 1 2 3 2 0 1 0 2 3 0 1 2 3 0 1 1 2 0 1 3 1 1 0 1 1 1 1 3 2\n 0 3 1 2 0 1 0]",
         "155"
        ],
        [
         "3743313",
         "chr1_GL456221_random",
         "314",
         "572",
         "[2 1 2 1 3 2 3 1 0 3 2 1 0 3 2 2 1 3 3 2 0 2 3 3 0 1 0 2 2 3 2 3 2 1 0 1 3\n 2 3 1 0 3 0 1 0 3 2 2 1 3 2 0 2 2 3 3 2 1 0 2 2 3 2 3 2 1 3 2 3 1 0 3 2 1\n 0 3 2 2 1 3 3 2 0 2 3 3 0 1 0 2 2 3 2 3 2 1 0 1 3 2 3 1 0 3 2 1 0 3 2 2 1\n 3 2 0 2 2 3 2 2 2 2 0 1 3 0 2 1 3 2 3 1 3 2 1 3 1 0 2 0 2 2 3 1 0 2 0 2 0\n 0 3 3 2 2 2 2 0 0 3 1 1 3 1 3 1 0 2 1 3 1 0 0 3 2 3 1 1 0 2 2 2 1 1 3 0 3\n 2 0 2 0 0 2 0 0 2 0 0 2 2 1 0 2 3 2 2 1 3 2 1 3 2 3 1 3 2 3 2 0 0 2 2 0 0\n 2 2 0 1 1 3 2 3 2 3 1 0 3 1 3 0 3 2 1 0 3 1 3 1 3 1 3 1 3 3 3 0 3 1 1 0]",
         "[1 2 1 2 0 1 0 2 3 0 1 2 3 0 1 1 2 0 0 1 3 1 0 0 3 2 3 1 1 0 1 0 1 2 3 2 0\n 1 0 2 3 0 3 2 3 0 1 1 2 0 1 3 1 1 0 0 1 2 3 1 1 0 1 0 1 2 0 1 0 2 3 0 1 2\n 3 0 1 1 2 0 0 1 3 1 0 0 3 2 3 1 1 0 1 0 1 2 3 2 0 1 0 2 3 0 1 2 3 0 1 1 2\n 0 1 3 1 1 0 1 1 1 1 3 2 0 3 1 2 0 1 0 2 0 1 2 0 2 3 1 3 1 1 0 2 3 1 3 1 3\n 3 0 0 1 1 1 1 3 3 0 2 2 0 2 0 2 3 1 2 0 2 3 3 0 1 0 2 2 3 1 1 1 2 2 0 3 0\n 1 3 1 3 3 1 3 3 1 3 3 1 1 2 3 1 0 1 1 2 0 1 2 0 1 0 2 0 1 0 1 3 3 1 1 3 3\n 1 1 3 2 2 0 1 0 1 0 2 3 0 2 0 3 0 1 2 3 0 2 0 2 0 2 0 2 0 0 0 3 0 2 2 3]",
         "258"
        ],
        [
         "3743314",
         "chr1_GL456221_random",
         "7517",
         "7808",
         "[2 1 1 1 0 0 0 0 1 0 2 2 0 3 1 3 3 3 1 1 1 0 2 0 0 2 1 3 2 3 2 3 3 2 1 3 3\n 3 2 2 1 1 0 2 2 0 0 2 2 3 2 2 1 1 0 2 3 3 2 3 1 3 2 2 0 2 1 3 3 0 0 2 0 3\n 2 2 1 2 1 1 2 1 1 3 1 0 2 0 0 2 1 3 1 3 2 3 2 2 1 3 1 3 1 2 1 1 3 2 3 3 1\n 1 0 2 0 0 0 1 3 2 1 3 2 2 1 1 3 1 3 2 3 0 3 3 1 1 0 1 0 1 1 1 3 1 0 1 1 1\n 2 3 2 1 0 2 1 1 3 2 1 1 1 3 1 1 3 1 2 2 0 2 3 1 1 1 2 2 0 2 1 1 0 0 2 2 3\n 2 2 1 3 1 1 1 2 1 1 2 2 0 2 1 1 3 2 0 2 2 1 0 2 0 0 0 1 1 3 1 3 1 2 2 2 1\n 3 2 2 2 3 2 2 0 1 1 1 1 3 2 3 2 1 3 1 3 1 0 1 1 0 2 2 0 0 2 2 3 2 2 1 1 2\n 2 3 3 2 3 1 3 1 3 1 3 1 3 1 0 2 0 2 3 3 1 3 3 0 3 1 3 1 3 3 1 1]",
         "[1 2 2 2 3 3 3 3 2 3 1 1 3 0 2 0 0 0 2 2 2 3 1 3 3 1 2 0 1 0 1 0 0 1 2 0 0\n 0 1 1 2 2 3 1 1 3 3 1 1 0 1 1 2 2 3 1 0 0 1 0 2 0 1 1 3 1 2 0 0 3 3 1 3 0\n 1 1 2 1 2 2 1 2 2 0 2 3 1 3 3 1 2 0 2 0 1 0 1 1 2 0 2 0 2 1 2 2 0 1 0 0 2\n 2 3 1 3 3 3 2 0 1 2 0 1 1 2 2 0 2 0 1 0 3 0 0 2 2 3 2 3 2 2 2 0 2 3 2 2 2\n 1 0 1 2 3 1 2 2 0 1 2 2 2 0 2 2 0 2 1 1 3 1 0 2 2 2 1 1 3 1 2 2 3 3 1 1 0\n 1 1 2 0 2 2 2 1 2 2 1 1 3 1 2 2 0 1 3 1 1 2 3 1 3 3 3 2 2 0 2 0 2 1 1 1 2\n 0 1 1 1 0 1 1 3 2 2 2 2 0 1 0 1 2 0 2 0 2 3 2 2 3 1 1 3 3 1 1 0 1 1 2 2 1\n 1 0 0 1 0 2 0 2 0 2 0 2 0 2 3 1 3 1 0 0 2 0 0 3 0 2 0 2 0 0 2 2]",
         "291"
        ],
        [
         "3743315",
         "chr1_GL456221_random",
         "7628",
         "7809",
         "[1 0 2 0 0 0 1 3 2 1 3 2 2 1 1 3 1 3 2 3 0 3 3 1 1 0 1 0 1 1 1 3 1 0 1 1 1\n 2 3 2 1 0 2 1 1 3 2 1 1 1 3 1 1 3 1 2 2 0 2 3 1 1 1 2 2 0 2 1 1 0 0 2 2 3\n 2 2 1 3 1 1 1 2 1 1 2 2 0 2 1 1 3 2 0 2 2 1 0 2 0 0 0 1 1 3 1 3 1 2 2 2 1\n 3 2 2 2 3 2 2 0 1 1 1 1 3 2 3 2 1 3 1 3 1 0 1 1 0 2 2 0 0 2 2 3 2 2 1 1 2\n 2 3 3 2 3 1 3 1 3 1 3 1 3 1 0 2 0 2 3 3 1 3 3 0 3 1 3 1 3 3 1 1 1]",
         "[2 3 1 3 3 3 2 0 1 2 0 1 1 2 2 0 2 0 1 0 3 0 0 2 2 3 2 3 2 2 2 0 2 3 2 2 2\n 1 0 1 2 3 1 2 2 0 1 2 2 2 0 2 2 0 2 1 1 3 1 0 2 2 2 1 1 3 1 2 2 3 3 1 1 0\n 1 1 2 0 2 2 2 1 2 2 1 1 3 1 2 2 0 1 3 1 1 2 3 1 3 3 3 2 2 0 2 0 2 1 1 1 2\n 0 1 1 1 0 1 1 3 2 2 2 2 0 1 0 1 2 0 2 0 2 3 2 2 3 1 1 3 3 1 1 0 1 1 2 2 1\n 1 0 0 1 0 2 0 2 0 2 0 2 0 2 3 1 3 1 0 0 2 0 0 3 0 2 0 2 0 0 2 2 2]",
         "181"
        ]
       ],
       "shape": {
        "columns": 6,
        "rows": 7624391
       }
      },
      "text/html": [
       "<div>\n",
       "<style scoped>\n",
       "    .dataframe tbody tr th:only-of-type {\n",
       "        vertical-align: middle;\n",
       "    }\n",
       "\n",
       "    .dataframe tbody tr th {\n",
       "        vertical-align: top;\n",
       "    }\n",
       "\n",
       "    .dataframe thead th {\n",
       "        text-align: right;\n",
       "    }\n",
       "</style>\n",
       "<table border=\"1\" class=\"dataframe\">\n",
       "  <thead>\n",
       "    <tr style=\"text-align: right;\">\n",
       "      <th></th>\n",
       "      <th>chr</th>\n",
       "      <th>start</th>\n",
       "      <th>end</th>\n",
       "      <th>+ seq</th>\n",
       "      <th>- seq</th>\n",
       "      <th>peak_len</th>\n",
       "    </tr>\n",
       "  </thead>\n",
       "  <tbody>\n",
       "    <tr>\n",
       "      <th>7624321</th>\n",
       "      <td>chrY_JH584301_random</td>\n",
       "      <td>3140</td>\n",
       "      <td>3201</td>\n",
       "      <td>[3, 2, 3, 2, 3, 2, 3, 2, 3, 2, 3, 2, 3, 2, 3, ...</td>\n",
       "      <td>[0, 1, 0, 1, 0, 1, 0, 1, 0, 1, 0, 1, 0, 1, 0, ...</td>\n",
       "      <td>61</td>\n",
       "    </tr>\n",
       "    <tr>\n",
       "      <th>7624322</th>\n",
       "      <td>chrY_JH584301_random</td>\n",
       "      <td>10651</td>\n",
       "      <td>10718</td>\n",
       "      <td>[1, 3, 1, 3, 1, 3, 1, 3, 1, 3, 1, 3, 1, 3, 1, ...</td>\n",
       "      <td>[2, 0, 2, 0, 2, 0, 2, 0, 2, 0, 2, 0, 2, 0, 2, ...</td>\n",
       "      <td>67</td>\n",
       "    </tr>\n",
       "    <tr>\n",
       "      <th>7624323</th>\n",
       "      <td>chrY_JH584301_random</td>\n",
       "      <td>13373</td>\n",
       "      <td>13454</td>\n",
       "      <td>[3, 1, 3, 0, 3, 1, 3, 0, 3, 1, 3, 0, 3, 1, 3, ...</td>\n",
       "      <td>[0, 2, 0, 3, 0, 2, 0, 3, 0, 2, 0, 3, 0, 2, 0, ...</td>\n",
       "      <td>81</td>\n",
       "    </tr>\n",
       "    <tr>\n",
       "      <th>7624324</th>\n",
       "      <td>chrY_JH584301_random</td>\n",
       "      <td>28862</td>\n",
       "      <td>28977</td>\n",
       "      <td>[1, 3, 0, 3, 1, 3, 0, 3, 0, 3, 1, 3, 0, 3, 1, ...</td>\n",
       "      <td>[2, 0, 3, 0, 2, 0, 3, 0, 3, 0, 2, 0, 3, 0, 2, ...</td>\n",
       "      <td>115</td>\n",
       "    </tr>\n",
       "    <tr>\n",
       "      <th>7624325</th>\n",
       "      <td>chrY_JH584301_random</td>\n",
       "      <td>56821</td>\n",
       "      <td>56874</td>\n",
       "      <td>[0, 1, 0, 1, 0, 1, 0, 1, 0, 1, 0, 1, 0, 1, 0, ...</td>\n",
       "      <td>[3, 2, 3, 2, 3, 2, 3, 2, 3, 2, 3, 2, 3, 2, 3, ...</td>\n",
       "      <td>53</td>\n",
       "    </tr>\n",
       "    <tr>\n",
       "      <th>...</th>\n",
       "      <td>...</td>\n",
       "      <td>...</td>\n",
       "      <td>...</td>\n",
       "      <td>...</td>\n",
       "      <td>...</td>\n",
       "      <td>...</td>\n",
       "    </tr>\n",
       "    <tr>\n",
       "      <th>7412181</th>\n",
       "      <td>chrUn_GL456372</td>\n",
       "      <td>28244</td>\n",
       "      <td>28554</td>\n",
       "      <td>[3, 1, 0, 2, 3, 3, 2, 2, 3, 1, 0, 1, 0, 3, 2, ...</td>\n",
       "      <td>[0, 2, 3, 1, 0, 0, 1, 1, 0, 2, 3, 2, 3, 0, 1, ...</td>\n",
       "      <td>310</td>\n",
       "    </tr>\n",
       "    <tr>\n",
       "      <th>7412182</th>\n",
       "      <td>chrUn_GL456372</td>\n",
       "      <td>28310</td>\n",
       "      <td>28538</td>\n",
       "      <td>[1, 0, 3, 3, 1, 0, 1, 0, 1, 1, 1, 1, 0, 0, 0, ...</td>\n",
       "      <td>[2, 3, 0, 0, 2, 3, 2, 3, 2, 2, 2, 2, 3, 3, 3, ...</td>\n",
       "      <td>228</td>\n",
       "    </tr>\n",
       "    <tr>\n",
       "      <th>7412183</th>\n",
       "      <td>chrUn_GL456372</td>\n",
       "      <td>28323</td>\n",
       "      <td>28499</td>\n",
       "      <td>[0, 0, 3, 0, 1, 3, 2, 1, 0, 1, 3, 1, 1, 1, 0, ...</td>\n",
       "      <td>[3, 3, 0, 3, 2, 0, 1, 2, 3, 2, 0, 2, 2, 2, 3, ...</td>\n",
       "      <td>176</td>\n",
       "    </tr>\n",
       "    <tr>\n",
       "      <th>7412184</th>\n",
       "      <td>chrUn_GL456372</td>\n",
       "      <td>28347</td>\n",
       "      <td>28543</td>\n",
       "      <td>[1, 1, 1, 3, 0, 1, 1, 1, 1, 1, 3, 3, 0, 2, 0, ...</td>\n",
       "      <td>[2, 2, 2, 0, 3, 2, 2, 2, 2, 2, 0, 0, 3, 1, 3, ...</td>\n",
       "      <td>196</td>\n",
       "    </tr>\n",
       "    <tr>\n",
       "      <th>7412185</th>\n",
       "      <td>chrUn_GL456372</td>\n",
       "      <td>28373</td>\n",
       "      <td>28497</td>\n",
       "      <td>[0, 3, 1, 1, 1, 1, 3, 3, 1, 3, 1, 1, 3, 3, 1, ...</td>\n",
       "      <td>[3, 0, 2, 2, 2, 2, 0, 0, 2, 0, 2, 2, 0, 0, 2, ...</td>\n",
       "      <td>124</td>\n",
       "    </tr>\n",
       "  </tbody>\n",
       "</table>\n",
       "<p>7624391 rows × 6 columns</p>\n",
       "</div>"
      ],
      "text/plain": [
       "                          chr  start    end  \\\n",
       "7624321  chrY_JH584301_random   3140   3201   \n",
       "7624322  chrY_JH584301_random  10651  10718   \n",
       "7624323  chrY_JH584301_random  13373  13454   \n",
       "7624324  chrY_JH584301_random  28862  28977   \n",
       "7624325  chrY_JH584301_random  56821  56874   \n",
       "...                       ...    ...    ...   \n",
       "7412181        chrUn_GL456372  28244  28554   \n",
       "7412182        chrUn_GL456372  28310  28538   \n",
       "7412183        chrUn_GL456372  28323  28499   \n",
       "7412184        chrUn_GL456372  28347  28543   \n",
       "7412185        chrUn_GL456372  28373  28497   \n",
       "\n",
       "                                                     + seq  \\\n",
       "7624321  [3, 2, 3, 2, 3, 2, 3, 2, 3, 2, 3, 2, 3, 2, 3, ...   \n",
       "7624322  [1, 3, 1, 3, 1, 3, 1, 3, 1, 3, 1, 3, 1, 3, 1, ...   \n",
       "7624323  [3, 1, 3, 0, 3, 1, 3, 0, 3, 1, 3, 0, 3, 1, 3, ...   \n",
       "7624324  [1, 3, 0, 3, 1, 3, 0, 3, 0, 3, 1, 3, 0, 3, 1, ...   \n",
       "7624325  [0, 1, 0, 1, 0, 1, 0, 1, 0, 1, 0, 1, 0, 1, 0, ...   \n",
       "...                                                    ...   \n",
       "7412181  [3, 1, 0, 2, 3, 3, 2, 2, 3, 1, 0, 1, 0, 3, 2, ...   \n",
       "7412182  [1, 0, 3, 3, 1, 0, 1, 0, 1, 1, 1, 1, 0, 0, 0, ...   \n",
       "7412183  [0, 0, 3, 0, 1, 3, 2, 1, 0, 1, 3, 1, 1, 1, 0, ...   \n",
       "7412184  [1, 1, 1, 3, 0, 1, 1, 1, 1, 1, 3, 3, 0, 2, 0, ...   \n",
       "7412185  [0, 3, 1, 1, 1, 1, 3, 3, 1, 3, 1, 1, 3, 3, 1, ...   \n",
       "\n",
       "                                                     - seq  peak_len  \n",
       "7624321  [0, 1, 0, 1, 0, 1, 0, 1, 0, 1, 0, 1, 0, 1, 0, ...        61  \n",
       "7624322  [2, 0, 2, 0, 2, 0, 2, 0, 2, 0, 2, 0, 2, 0, 2, ...        67  \n",
       "7624323  [0, 2, 0, 3, 0, 2, 0, 3, 0, 2, 0, 3, 0, 2, 0, ...        81  \n",
       "7624324  [2, 0, 3, 0, 2, 0, 3, 0, 3, 0, 2, 0, 3, 0, 2, ...       115  \n",
       "7624325  [3, 2, 3, 2, 3, 2, 3, 2, 3, 2, 3, 2, 3, 2, 3, ...        53  \n",
       "...                                                    ...       ...  \n",
       "7412181  [0, 2, 3, 1, 0, 0, 1, 1, 0, 2, 3, 2, 3, 0, 1, ...       310  \n",
       "7412182  [2, 3, 0, 0, 2, 3, 2, 3, 2, 2, 2, 2, 3, 3, 3, ...       228  \n",
       "7412183  [3, 3, 0, 3, 2, 0, 1, 2, 3, 2, 0, 2, 2, 2, 3, ...       176  \n",
       "7412184  [2, 2, 2, 0, 3, 2, 2, 2, 2, 2, 0, 0, 3, 1, 3, ...       196  \n",
       "7412185  [3, 0, 2, 2, 2, 2, 0, 0, 2, 0, 2, 2, 0, 0, 2, ...       124  \n",
       "\n",
       "[7624391 rows x 6 columns]"
      ]
     },
     "execution_count": 102,
     "metadata": {},
     "output_type": "execute_result"
    }
   ],
   "source": [
    "chr_pos_to_seq"
   ]
  },
  {
   "cell_type": "code",
   "execution_count": null,
   "metadata": {},
   "outputs": [],
   "source": [
    "chr_pos_to_seq_sample = chr_pos_to_seq.sample(frac=0.1)"
   ]
  },
  {
   "cell_type": "code",
   "execution_count": null,
   "metadata": {},
   "outputs": [
    {
     "data": {
      "application/vnd.microsoft.datawrangler.viewer.v0+json": {
       "columns": [
        {
         "name": "index",
         "rawType": "int64",
         "type": "integer"
        },
        {
         "name": "chr",
         "rawType": "object",
         "type": "string"
        },
        {
         "name": "start",
         "rawType": "int64",
         "type": "integer"
        },
        {
         "name": "end",
         "rawType": "int64",
         "type": "integer"
        },
        {
         "name": "+ seq",
         "rawType": "object",
         "type": "unknown"
        },
        {
         "name": "- seq",
         "rawType": "object",
         "type": "unknown"
        },
        {
         "name": "peak_len",
         "rawType": "int64",
         "type": "integer"
        }
       ],
       "ref": "b499137e-b783-4b51-953a-776d3dbea866",
       "rows": [
        [
         "3722124",
         "chr19",
         "56919658",
         "56919882",
         "[0 2 0 0 0 0 3 0 0 2 3 3 1 3 2 3 2 0 0 2 0 1 0 2 0 1 0 1 0 0 2 3 3 1 3 1 3\n 1 1 1 3 1 0 3 1 1 0 0 2 2 0 2 3 3 2 2 1 3 0 0 3 2 1 2 0 0 0 3 2 0 2 3 2 2\n 0 3 2 2 0 1 1 3 2 3 1 3 2 3 2 3 2 0 2 2 1 1 0 3 3 2 3 3 2 2 3 2 3 2 2 0 1\n 2 2 3 3 3 0 2 3 1 0 1 3 0 2 2 2 2 2 1 0 2 1 0 3 3 2 2 0 2 1 2 2 0 1 3 3 2\n 2 0 0 2 2 1 1 2 2 3 2 2 1 3 0 0 0 2 3 1 1 3 0 0 2 3 2 2 0 1 0 2 2 0 2 3 3\n 0 0 3 2 2 2 1 0 0 2 3 2 1 3 3 2 1 3 3 2 3 2 3 2 3 0 2 2 0 1 1 3 1 0 2 1 1\n 1 1]",
         "[3 1 3 3 3 3 0 3 3 1 0 0 2 0 1 0 1 3 3 1 3 2 3 1 3 2 3 2 3 3 1 0 0 2 0 2 0\n 2 2 2 0 2 3 0 2 2 3 3 1 1 3 1 0 0 1 1 2 0 3 3 0 1 2 1 3 3 3 0 1 3 1 0 1 1\n 3 0 1 1 3 2 2 0 1 0 2 0 1 0 1 0 1 3 1 1 2 2 3 0 0 1 0 0 1 1 0 1 0 1 1 3 2\n 1 1 0 0 0 3 1 0 2 3 2 0 3 1 1 1 1 1 2 3 1 2 3 0 0 1 1 3 1 2 1 1 3 2 0 0 1\n 1 3 3 1 1 2 2 1 1 0 1 1 2 0 3 3 3 1 0 2 2 0 3 3 1 0 1 1 3 2 3 1 1 3 1 0 0\n 3 3 0 1 1 1 2 3 3 1 0 1 2 0 0 1 2 0 0 1 0 1 0 1 0 3 1 1 3 2 2 0 2 3 1 2 2\n 2 2]",
         "224"
        ],
        [
         "319073",
         "chr1",
         "135699420",
         "135699638",
         "[2 2 1 1 2 2 1 0 3 0 3 3 0 2 0 0 3 2 2 3 2 1 1 0 0 2 2 1 1 3 1 0 2 1 0 2 2\n 0 1 0 2 1 0 1 1 1 3 1 3 0 0 3 1 1 1 1 1 0 2 1 0 2 1 1 1 3 2 2 1 0 2 1 2 1\n 1 1 2 2 0 0 2 0 2 0 3 2 2 1 2 1 0 3 2 3 2 2 1 0 2 2 1 0 2 1 2 1 1 1 1 2 1\n 1 0 2 0 3 2 3 0 2 2 0 1 0 1 3 2 1 3 2 0 1 1 1 1 3 2 1 3 2 2 3 2 3 2 2 2 1\n 2 1 2 3 1 3 2 1 2 2 0 2 2 0 2 0 2 1 1 1 3 0 2 2 2 0 2 0 0 3 3 1 0 2 0 1 3\n 2 2 0 0 0 0 0 0 1 3 1 2 1 0 0 3 1 1 2 3 1 3 2 2 2 0 2 2 2 2 3 0 2]",
         "[1 1 2 2 1 1 2 3 0 3 0 0 3 1 3 3 0 1 1 0 1 2 2 3 3 1 1 2 2 0 2 3 1 2 3 1 1\n 3 2 3 1 2 3 2 2 2 0 2 0 3 3 0 2 2 2 2 2 3 1 2 3 1 2 2 2 0 1 1 2 3 1 2 1 2\n 2 2 1 1 3 3 1 3 1 3 0 1 1 2 1 2 3 0 1 0 1 1 2 3 1 1 2 3 1 2 1 2 2 2 2 1 2\n 2 3 1 3 0 1 0 3 1 1 3 2 3 2 0 1 2 0 1 3 2 2 2 2 0 1 2 0 1 1 0 1 0 1 1 1 2\n 1 2 1 0 2 0 1 2 1 1 3 1 1 3 1 3 1 2 2 2 0 3 1 1 1 3 1 3 3 0 0 2 3 1 3 2 0\n 1 1 3 3 3 3 3 3 2 0 2 1 2 3 3 0 2 2 1 0 2 0 1 1 1 3 1 1 1 1 0 3 1]",
         "218"
        ],
        [
         "3495030",
         "chr18",
         "77986416",
         "77986691",
         "[3 3 3 3 3 3 1 0 0 0 2 3 1 1 1 3 1 2 1 0 1 2 3 3 0 0 3 3 3 2 3 3 2 0 0 0 2\n 0 1 0 3 2 0 0 2 0 2 0 1 2 1 1 3 2 0 1 2 2 0 2 2 3 2 2 1 3 2 0 1 3 3 1 1 0\n 1 3 0 3 2 1 3 2 1 1 0 2 1 0 0 2 2 1 1 1 3 1 1 2 3 2 3 3 1 1 0 2 1 0 2 0 2\n 2 2 1 0 2 3 2 0 0 2 2 2 0 1 0 1 1 0 2 0 0 2 2 2 1 0 2 2 1 3 2 2 1 0 1 1 1\n 1 3 2 2 1 3 3 1 1 3 2 0 1 3 3 1 1 1 1 0 2 0 0 1 3 2 1 0 1 0 2 2 2 0 0 1 3\n 0 2 3 2 0 2 2 3 0 0 2 0 3 2 2 2 1 3 2 1 1 3 2 1 3 2 1 3 2 2 3 3 2 3 2 1 0\n 1 0 2 0 1 0 1 3 2 1 2 1 3 0 2 0 2 1 1 2 1 3 0 2 0 2 1 3 2 1 3 2 2 1 3 3 3\n 2 0 3 0 1 0 2 0 2 1 3 3 0 2 2 3]",
         "[0 0 0 0 0 0 2 3 3 3 1 0 2 2 2 0 2 1 2 3 2 1 0 0 3 3 0 0 0 1 0 0 1 3 3 3 1\n 3 2 3 0 1 3 3 1 3 1 3 2 1 2 2 0 1 3 2 1 1 3 1 1 0 1 1 2 0 1 3 2 0 0 2 2 3\n 2 0 3 0 1 2 0 1 2 2 3 1 2 3 3 1 1 2 2 2 0 2 2 1 0 1 0 0 2 2 3 1 2 3 1 3 1\n 1 1 2 3 1 0 1 3 3 1 1 1 3 2 3 2 2 3 1 3 3 1 1 1 2 3 1 1 2 0 1 1 2 3 2 2 2\n 2 0 1 1 2 0 0 2 2 0 1 3 2 0 0 2 2 2 2 3 1 3 3 2 0 1 2 3 2 3 1 1 1 3 3 2 0\n 3 1 0 1 3 1 1 0 3 3 1 3 0 1 1 1 2 0 1 2 2 0 1 2 0 1 2 0 1 1 0 0 1 0 1 2 3\n 2 3 1 3 2 3 2 0 1 2 1 2 0 3 1 3 1 2 2 1 2 0 3 1 3 1 2 0 1 2 0 1 1 2 0 0 0\n 1 3 0 3 2 3 1 3 1 2 0 0 3 1 1 0]",
         "275"
        ],
        [
         "6967971",
         "chr8",
         "126065166",
         "126065409",
         "[0 2 1 1 0 1 0 3 2 2 3 3 3 1 3 3 3 1 0 3 2 3 2 3 0 2 0 0 1 1 1 1 0 2 0 3 3\n 3 0 0 0 0 3 2 3 3 0 1 0 1 0 1 0 3 0 0 0 1 0 1 0 2 0 2 1 0 2 2 2 2 2 0 2 0\n 0 3 0 3 2 3 0 3 2 0 1 1 3 3 2 3 3 3 0 3 3 3 3 3 3 0 3 2 3 3 3 0 0 0 0 2 0\n 3 3 0 0 0 0 0 0 0 0 0 1 3 3 3 0 0 3 2 0 3 2 0 2 3 2 3 2 3 0 3 2 3 3 3 2 0\n 0 0 2 3 0 3 3 3 2 2 2 0 2 2 2 2 3 2 3 2 3 2 1 0 1 0 3 2 0 2 1 2 1 0 2 3 3\n 2 1 0 1 3 3 2 2 0 0 2 1 1 0 2 0 0 2 2 2 2 2 3 0 3 1 0 2 0 3 1 1 1 1 3 2 0\n 0 2 1 3 2 2 0 2 3 3 0 3 0 1 0 3 2 2 1 1 2]",
         "[3 1 2 2 3 2 3 0 1 1 0 0 0 2 0 0 0 2 3 0 1 0 1 0 3 1 3 3 2 2 2 2 3 1 3 0 0\n 0 3 3 3 3 0 1 0 0 3 2 3 2 3 2 3 0 3 3 3 2 3 2 3 1 3 1 2 3 1 1 1 1 1 3 1 3\n 3 0 3 0 1 0 3 0 1 3 2 2 0 0 1 0 0 0 3 0 0 0 0 0 0 3 0 1 0 0 0 3 3 3 3 1 3\n 0 0 3 3 3 3 3 3 3 3 3 2 0 0 0 3 3 0 1 3 0 1 3 1 0 1 0 1 0 3 0 1 0 0 0 1 3\n 3 3 1 0 3 0 0 0 1 1 1 3 1 1 1 1 0 1 0 1 0 1 2 3 2 3 0 1 3 1 2 1 2 3 1 0 0\n 1 2 3 2 0 0 1 1 3 3 1 2 2 3 1 3 3 1 1 1 1 1 0 3 0 2 3 1 3 0 2 2 2 2 0 1 3\n 3 1 2 0 1 1 3 1 0 0 3 0 3 2 3 0 1 1 2 2 1]",
         "243"
        ],
        [
         "3962992",
         "chr2",
         "74683130",
         "74683378",
         "[1 1 2 2 2 2 2 0 2 2 1 2 2 2 2 2 1 1 2 0 0 0 0 2 0 2 1 2 2 1 2 2 1 0 1 0 2\n 2 3 0 2 2 1 2 1 2 2 2 2 1 2 1 2 2 2 1 1 2 0 2 2 2 2 1 3 2 2 1 1 1 2 2 2 2\n 1 2 2 1 2 2 0 2 2 2 2 2 2 2 1 2 2 3 2 2 2 2 0 1 1 3 1 1 1 3 1 3 2 1 3 3 2\n 1 2 1 1 2 3 3 3 3 0 3 2 3 2 1 3 0 1 3 3 3 0 3 0 0 2 1 0 3 3 1 2 0 2 2 2 2\n 2 3 3 3 0 3 0 1 0 3 1 1 3 0 3 0 0 2 0 3 3 3 1 1 1 2 2 2 3 1 2 3 3 2 3 0 0\n 0 2 1 2 3 2 3 3 3 0 3 2 0 3 0 2 2 0 0 0 1 1 0 0 3 3 3 0 2 2 3 2 2 2 1 3 3\n 0 0 2 2 3 0 2 0 1 3 3 1 2 0 0 2 0 2 2 0 1 0 3 3 0 0]",
         "[2 2 1 1 1 1 1 3 1 1 2 1 1 1 1 1 2 2 1 3 3 3 3 1 3 1 2 1 1 2 1 1 2 3 2 3 1\n 1 0 3 1 1 2 1 2 1 1 1 1 2 1 2 1 1 1 2 2 1 3 1 1 1 1 2 0 1 1 2 2 2 1 1 1 1\n 2 1 1 2 1 1 3 1 1 1 1 1 1 1 2 1 1 0 1 1 1 1 3 2 2 0 2 2 2 0 2 0 1 2 0 0 1\n 2 1 2 2 1 0 0 0 0 3 0 1 0 1 2 0 3 2 0 0 0 3 0 3 3 1 2 3 0 0 2 1 3 1 1 1 1\n 1 0 0 0 3 0 3 2 3 0 2 2 0 3 0 3 3 1 3 0 0 0 2 2 2 1 1 1 0 2 1 0 0 1 0 3 3\n 3 1 2 1 0 1 0 0 0 3 0 1 3 0 3 1 1 3 3 3 2 2 3 3 0 0 0 3 1 1 0 1 1 1 2 0 0\n 3 3 1 1 0 3 1 3 2 0 0 2 1 3 3 1 3 1 1 3 2 3 0 0 3 3]",
         "248"
        ],
        [
         "1461944",
         "chr12",
         "24948535",
         "24948709",
         "[2 2 2 0 1 0 2 1 0 2 3 1 1 0 1 1 3 2 3 2 3 1 0 2 1 1 3 3 3 1 3 0 2 3 2 2 1\n 3 2 0 0 1 1 3 2 1 0 2 2 1 0 3 0 1 1 0 1 3 2 3 2 3 1 1 0 2 1 3 1 0 0 2 0 2\n 3 2 1 1 1 3 1 3 3 2 0 2 2 0 3 0 3 0 3 0 2 3 2 0 0 0 2 0 1 1 2 0 2 3 0 2 0\n 0 3 1 0 2 3 1 0 3 3 3 3 2 1 0 0 0 0 2 0 0 0 3 0 1 1 3 1 1 1 1 1 1 1 0 0 2\n 3 3 1 0 3 0 3 3 1 0 0 2 2 1 1 1 0 3 3 3 3 0 3 0 0 3]",
         "[1 1 1 3 2 3 1 2 3 1 0 2 2 3 2 2 0 1 0 1 0 2 3 1 2 2 0 0 0 2 0 3 1 0 1 1 2\n 0 1 3 3 2 2 0 1 2 3 1 1 2 3 0 3 2 2 3 2 0 1 0 1 0 2 2 3 1 2 0 2 3 3 1 3 1\n 0 1 2 2 2 0 2 0 0 1 3 1 1 3 0 3 0 3 0 3 1 0 1 3 3 3 1 3 2 2 1 3 1 0 3 1 3\n 3 0 2 3 1 0 2 3 0 0 0 0 1 2 3 3 3 3 1 3 3 3 0 3 2 2 0 2 2 2 2 2 2 2 3 3 1\n 0 0 2 3 0 3 0 0 2 3 3 1 1 2 2 2 3 0 0 0 0 3 0 3 3 0]",
         "174"
        ],
        [
         "7433046",
         "chrUn_JH584304",
         "68582",
         "69765",
         "[0 3 2 ... 0 3 3]",
         "[3 0 1 ... 3 0 0]",
         "1183"
        ],
        [
         "4281544",
         "chr2",
         "170520445",
         "170520939",
         "[0 0 2 2 1 3 2 2 0 1 1 3 1 0 1 0 0 1 1 3 1 1 1 1 0 0 0 1 0 2 3 2 1 1 3 2 3\n 2 1 0 2 2 0 3 0 2 3 3 1 3 1 0 3 1 1 0 0 0 1 1 2 1 1 0 1 1 0 2 1 2 3 2 1 3\n 1 3 2 0 0 2 3 3 3 2 2 0 0 0 0 1 3 3 2 3 0 1 0 3 3 0 0 1 3 1 1 3 1 0 2 1 0\n 2 0 3 2 2 1 2 1 3 2 2 3 1 2 0 1 1 0 2 0 0 3 0 3 1 1 0 2 2 0 0 0 2 2 2 1 1\n 1 3 0 1 0 0 2 0 0 0 2 1 2 2 1 3 0 1 3 1 0 3 3 1 3 3 0 1 3 0 3 0 0 3 3 3 3\n 0 2 0 0 2 0 3 3 2 1 3 3 0 2 1 3 3 3 1 0 0 2 2 0 3 0 0 2 1 0 3 2 2 1 0 0 3\n 2 1 0 0 3 0 1 3 3 3 3 2 3 3 0 0 2 0 2 3 3 3 2 1 0 0 0 3 0 0 2 1 3 0 0 0 0\n 2 0 3 2 0 0 3 0 2 0 3 0 0 3 1 3 1 3 0 0 0 0 3 3 1 3 3 0 0 0 3 0 3 3 3 3 2\n 0 2 0 3 3 3 0 3 3 3 3 3 0 0 3 3 3 2 3 2 3 2 3 2 0 1 0 2 2 1 0 0 0 1 3 3 0\n 0 0 3 2 1 0 0 2 3 2 1 1 3 3 1 3 2 0 2 2 1 1 0 2 0 0 2 0 2 2 2 1 0 3 1 0 2\n 2 3 1 1 3 2 3 0 2 0 2 1 3 2 2 0 2 3 0 0 0 3 2 0 1 0 2 3 3 2 3 0 2 2 1 1 0\n 1 3 1 0 2 3 2 3 2 2 0 0 1 1 0 0 0 1 1 3 0 2 2 3 3 1 3 1 3 2 3 0 0 0 0 2 1\n 3 3 0 0 1 3 2 1 0 2 0 2 1 1 0 1 1 3 1 3 1 1 0 0 1 1 3 0 2 2 2 0 1 0 0 0 1\n 3 2 3 3 3 0 0 0 1 3 3 3 2]",
         "[3 3 1 1 2 0 1 1 3 2 2 0 2 3 2 3 3 2 2 0 2 2 2 2 3 3 3 2 3 1 0 1 2 2 0 1 0\n 1 2 3 1 1 3 0 3 1 0 0 2 0 2 3 0 2 2 3 3 3 2 2 1 2 2 3 2 2 3 1 2 1 0 1 2 0\n 2 0 1 3 3 1 0 0 0 1 1 3 3 3 3 2 0 0 1 0 3 2 3 0 0 3 3 2 0 2 2 0 2 3 1 2 3\n 1 3 0 1 1 2 1 2 0 1 1 0 2 1 3 2 2 3 1 3 3 0 3 0 2 2 3 1 1 3 3 3 1 1 1 2 2\n 2 0 3 2 3 3 1 3 3 3 1 2 1 1 2 0 3 2 0 2 3 0 0 2 0 0 3 2 0 3 0 3 3 0 0 0 0\n 3 1 3 3 1 3 0 0 1 2 0 0 3 1 2 0 0 0 2 3 3 1 1 3 0 3 3 1 2 3 0 1 1 2 3 3 0\n 1 2 3 3 0 3 2 0 0 0 0 1 0 0 3 3 1 3 1 0 0 0 1 2 3 3 3 0 3 3 1 2 0 3 3 3 3\n 1 3 0 1 3 3 0 3 1 3 0 3 3 0 2 0 2 0 3 3 3 3 0 0 2 0 0 3 3 3 0 3 0 0 0 0 1\n 3 1 3 0 0 0 3 0 0 0 0 0 3 3 0 0 0 1 0 1 0 1 0 1 3 2 3 1 1 2 3 3 3 2 0 0 3\n 3 3 0 1 2 3 3 1 0 1 2 2 0 0 2 0 1 3 1 1 2 2 3 1 3 3 1 3 1 1 1 2 3 0 2 3 1\n 1 0 2 2 0 1 0 3 1 3 1 2 0 1 1 3 1 0 3 3 3 0 1 3 2 3 1 0 0 1 0 3 1 1 2 2 3\n 2 0 2 3 1 0 1 0 1 1 3 3 2 2 3 3 3 2 2 0 3 1 1 0 0 2 0 2 0 1 0 3 3 3 3 1 2\n 0 0 3 3 2 0 1 2 3 1 3 1 2 2 3 2 2 0 2 0 2 2 3 3 2 2 0 3 1 1 1 3 2 3 3 3 2\n 0 1 0 0 0 3 3 3 2 0 0 0 1]",
         "494"
        ],
        [
         "4144380",
         "chr2",
         "137977812",
         "137978229",
         "[3 2 0 3 1 1 3 2 0 2 0 3 2 3 2 2 1 3 1 0 2 0 3 2 1 1 0 3 1 2 3 0 3 1 3 1 3\n 2 3 0 2 0 2 0 3 2 2 2 2 1 3 2 0 3 2 2 1 0 2 2 3 3 3 1 0 2 3 2 3 2 2 0 0 1\n 0 0 1 0 1 2 2 3 2 2 0 1 3 2 0 1 3 2 1 0 3 1 3 0 3 3 1 1 0 1 0 1 0 2 1 3 1\n 0 2 3 0 1 2 0 1 3 3 1 2 3 3 2 2 3 0 1 1 1 0 2 1 0 1 0 2 3 3 3 2 1 0 1 0 2\n 0 0 1 0 0 3 0 3 2 3 3 1 0 0 3 3 3 3 3 3 3 3 3 0 0 3 0 2 3 2 1 0 2 3 3 3 1\n 0 0 2 0 0 0 1 3 3 1 1 0 1 3 2 2 2 3 2 2 1 0 0 2 2 0 3 2 1 3 0 3 3 3 1 3 3\n 2 1 0 1 3 1 3 3 1 0 3 0 1 3 3 0 2 0 1 3 3 3 1 3 1 1 3 2 3 1 3 3 3 1 1 1 1\n 3 1 0 0 3 3 3 1 3 3 3 2 0 1 0 0 3 2 3 0 1 0 1 0 3 3 3 3 1 3 3 3 3 1 3 0 3\n 2 2 0 1 0 3 3 3 2 0 0 0 0 1 3 0 2 0 2 2 0 3 2 2 0 0 3 3 3 3 0 3 0 3 0 1 1\n 0 3 0 0 3 2 1 3 1 1 3 0 0 3 0 0 1 3 2 1 1 1 1 0 1 0 2 1 1 1 0 0 3 3 0 0 1\n 0 0 2 3 0 2 2 0 1 3 2 2 3 1 3 2 1 0 2 1 3 3 2 0 2 3 0 1 0 1 3 0 0 0 2 0 0\n 0 0 3 0 2 0 0 0 2 2]",
         "[0 1 3 0 2 2 0 1 3 1 3 0 1 0 1 1 2 0 2 3 1 3 0 1 2 2 3 0 2 1 0 3 0 2 0 2 0\n 1 0 3 1 3 1 3 0 1 1 1 1 2 0 1 3 0 1 1 2 3 1 1 0 0 0 2 3 1 0 1 0 1 1 3 3 2\n 3 3 2 3 2 1 1 0 1 1 3 2 0 1 3 2 0 1 2 3 0 2 0 3 0 0 2 2 3 2 3 2 3 1 2 0 2\n 3 1 0 3 2 1 3 2 0 0 2 1 0 0 1 1 0 3 2 2 2 3 1 2 3 2 3 1 0 0 0 1 2 3 2 3 1\n 3 3 2 3 3 0 3 0 1 0 0 2 3 3 0 0 0 0 0 0 0 0 0 3 3 0 3 1 0 1 2 3 1 0 0 0 2\n 3 3 1 3 3 3 2 0 0 2 2 3 2 0 1 1 1 0 1 1 2 3 3 1 1 3 0 1 2 0 3 0 0 0 2 0 0\n 1 2 3 2 0 2 0 0 2 3 0 3 2 0 0 3 1 3 2 0 0 0 2 0 2 2 0 1 0 2 0 0 0 2 2 2 2\n 0 2 3 3 0 0 0 2 0 0 0 1 3 2 3 3 0 1 0 3 2 3 2 3 0 0 0 0 2 0 0 0 0 2 0 3 0\n 1 1 3 2 3 0 0 0 1 3 3 3 3 2 0 3 1 3 1 1 3 0 1 1 3 3 0 0 0 0 3 0 3 0 3 2 2\n 3 0 3 3 0 1 2 0 2 2 0 3 3 0 3 3 2 0 1 2 2 2 2 3 2 3 1 2 2 2 3 3 0 0 3 3 2\n 3 3 1 0 3 1 1 3 2 0 1 1 0 2 0 1 2 3 1 2 0 0 1 3 1 0 3 2 3 2 0 3 3 3 1 3 3\n 3 3 0 3 1 3 3 3 1 1]",
         "417"
        ],
        [
         "1213070",
         "chr11",
         "88400252",
         "88400479",
         "[1 1 0 0 0 3 1 1 0 1 1 3 1 1 3 3 2 2 3 3 1 3 2 2 3 1 3 3 0 0 0 1 3 1 0 0 2\n 3 1 0 3 3 3 2 2 0 1 0 3 2 0 2 1 1 0 3 2 2 3 1 1 0 2 0 1 0 3 1 0 2 1 0 0 1\n 1 0 3 2 1 0 3 0 0 0 0 3 0 1 1 1 3 1 0 0 0 1 0 3 0 2 3 2 2 1 1 3 3 2 1 2 1\n 0 0 1 1 0 3 3 2 0 3 3 0 2 0 1 0 0 3 1 1 3 3 2 2 2 2 1 3 1 3 2 0 2 3 3 2 0\n 3 2 3 2 2 3 3 3 2 2 1 3 2 2 2 1 3 1 1 0 3 1 3 1 1 3 0 3 2 2 0 2 1 3 2 3 2\n 2 3 1 0 2 0 3 2 2 3 2 2 1 3 0 2 2 0 1 3 2 2 0 2 1 1 0 2 0 2 0 0 0 2 1 1 3\n 3 2 0 1 3]",
         "[2 2 3 3 3 0 2 2 3 2 2 0 2 2 0 0 1 1 0 0 2 0 1 1 0 2 0 0 3 3 3 2 0 2 3 3 1\n 0 2 3 0 0 0 1 1 3 2 3 0 1 3 1 2 2 3 0 1 1 0 2 2 3 1 3 2 3 0 2 3 1 2 3 3 2\n 2 3 0 1 2 3 0 3 3 3 3 0 3 2 2 2 0 2 3 3 3 2 3 0 3 1 0 1 1 2 2 0 0 1 2 1 2\n 3 3 2 2 3 0 0 1 3 0 0 3 1 3 2 3 3 0 2 2 0 0 1 1 1 1 2 0 2 0 1 3 1 0 0 1 3\n 0 1 0 1 1 0 0 0 1 1 2 0 1 1 1 2 0 2 2 3 0 2 0 2 2 0 3 0 1 1 3 1 2 0 1 0 1\n 1 0 2 3 1 3 0 1 1 0 1 1 2 0 3 1 1 3 2 0 1 1 3 1 2 2 3 1 3 1 3 3 3 1 2 2 0\n 0 1 3 2 0]",
         "227"
        ],
        [
         "3289736",
         "chr18",
         "5971282",
         "5971547",
         "[3 1 1 3 1 1 3 2 1 3 3 1 0 2 1 3 3 1 1 3 0 0 2 3 2 1 3 2 2 2 0 3 3 0 1 0 2\n 2 1 0 3 2 3 0 2 1 0 3 1 0 3 2 3 0 0 0 0 3 2 1 1 0 2 0 3 2 2 1 3 3 3 1 3 3\n 2 0 1 0 2 1 1 1 3 0 0 0 0 3 1 1 3 3 0 1 1 0 2 0 0 0 0 2 2 2 0 1 0 2 0 1 3\n 0 0 0 2 3 3 1 1 3 2 0 0 3 0 2 1 3 0 1 3 3 1 0 1 0 0 1 0 2 2 0 2 3 2 2 2 2\n 0 2 2 1 0 2 2 0 0 2 3 1 1 1 3 2 2 3 2 2 3 2 2 1 3 0 3 1 0 2 2 2 0 2 3 3 0\n 3 1 1 3 1 3 0 1 0 2 0 2 1 0 2 2 2 2 2 1 0 0 0 2 1 1 1 0 2 2 1 0 1 3 2 0 1\n 3 1 3 2 2 1 0 2 3 2 0 0 1 0 1 1 0 0 2 1 0 2 0 2 1 1 1 3 3 0 0 0 1 0 2 0 0\n 0 3 2 3 1 1]",
         "[0 2 2 0 2 2 0 1 2 0 0 2 3 1 2 0 0 2 2 0 3 3 1 0 1 2 0 1 1 1 3 0 0 3 2 3 1\n 1 2 3 0 1 0 3 1 2 3 0 2 3 0 1 0 3 3 3 3 0 1 2 2 3 1 3 0 1 1 2 0 0 0 2 0 0\n 1 3 2 3 1 2 2 2 0 3 3 3 3 0 2 2 0 0 3 2 2 3 1 3 3 3 3 1 1 1 3 2 3 1 3 2 0\n 3 3 3 1 0 0 2 2 0 1 3 3 0 3 1 2 0 3 2 0 0 2 3 2 3 3 2 3 1 1 3 1 0 1 1 1 1\n 3 1 1 2 3 1 1 3 3 1 0 2 2 2 0 1 1 0 1 1 0 1 1 2 0 3 0 2 3 1 1 1 3 1 0 0 3\n 0 2 2 0 2 0 3 2 3 1 3 1 2 3 1 1 1 1 1 2 3 3 3 1 2 2 2 3 1 1 2 3 2 0 1 3 2\n 0 2 0 1 1 2 3 1 0 1 3 3 2 3 2 2 3 3 1 2 3 1 3 1 2 2 2 0 0 3 3 3 2 3 1 3 3\n 3 0 1 0 2 2]",
         "265"
        ],
        [
         "1319598",
         "chr11",
         "106779253",
         "106779811",
         "[0 2 1 1 2 3 2 1 3 2 0 2 1 3 2 1 3 2 1 2 2 1 2 3 1 1 1 2 1 3 2 0 0 0 0 0 2\n 3 2 1 1 3 1 1 3 1 1 2 2 1 0 2 0 2 2 3 1 3 0 1 1 0 2 1 2 1 1 3 1 2 1 2 2 2\n 1 1 0 1 1 2 1 0 3 2 1 3 1 2 2 2 2 2 1 2 3 1 0 2 2 1 3 2 1 3 2 1 2 3 1 1 1\n 0 3 1 3 2 1 2 2 2 0 1 1 1 2 1 2 3 0 1 1 1 2 2 0 1 0 2 1 1 0 2 1 0 1 1 3 2\n 1 0 2 2 1 1 1 3 2 1 2 2 1 0 2 2 1 1 1 3 2 2 1 2 1 1 2 1 1 0 1 1 2 1 0 2 1\n 2 1 0 3 1 2 1 3 3 1 0 2 2 0 2 3 1 2 2 0 0 1 0 1 1 0 2 1 0 1 1 3 1 1 1 2 3\n 2 1 0 2 0 2 1 1 2 1 0 2 3 3 3 1 0 0 0 1 1 3 0 1 0 1 1 0 2 1 0 1 1 0 2 2 2\n 1 1 3 2 2 2 2 3 2 1 0 2 2 1 0 1 0 2 1 2 2 0 0 0 3 2 2 0 1 2 3 2 1 3 2 3 0\n 2 0 1 1 0 1 2 1 1 1 1 1 2 2 0 0 2 0 2 1 2 3 1 0 1 1 1 2 1 3 2 1 3 2 0 2 1\n 0 2 1 0 2 1 1 2 1 1 3 3 2 2 2 1 2 3 0 3 1 1 1 2 2 1 1 3 1 1 2 1 2 2 1 3 2\n 0 1 2 1 1 0 2 1 2 3 1 3 2 0 3 3 2 3 3 3 0 1 3 0 1 1 3 3 3 2 2 2 0 3 3 3 3\n 1 1 2 3 3 3 2 2 3 0 0 1 3 1 1 0 1 1 3 2 1 1 3 1 0 1 0 3 3 1 0 1 3 3 2 3 3\n 3 0 2 1 3 3 3 3 0 1 1 0 1 0 0 3 1 1 3 2 3 3 0 1 3 0 3 0 2 0 2 3 3 0 2 1 0\n 3 1 0 2 2 3 3 3 3 1 1 2 0 2 1 3 2 1 1 0 0 0 1 0 0 0 0 1 2 0 0 0 0 0 0 0 1\n 1 1 1 3 3 1 1 0 0 0 0 3 2 3 3 2 3 1 1 3 2 2 0 1 2 2 3 0 1 3 2 0 3 2 3 2 0\n 2 2 1]",
         "[3 1 2 2 1 0 1 2 0 1 3 1 2 0 1 2 0 1 2 1 1 2 1 0 2 2 2 1 2 0 1 3 3 3 3 3 1\n 0 1 2 2 0 2 2 0 2 2 1 1 2 3 1 3 1 1 0 2 0 3 2 2 3 1 2 1 2 2 0 2 1 2 1 1 1\n 2 2 3 2 2 1 2 3 0 1 2 0 2 1 1 1 1 1 2 1 0 2 3 1 1 2 0 1 2 0 1 2 1 0 2 2 2\n 3 0 2 0 1 2 1 1 1 3 2 2 2 1 2 1 0 3 2 2 2 1 1 3 2 3 1 2 2 3 1 2 3 2 2 0 1\n 2 3 1 1 2 2 2 0 1 2 1 1 2 3 1 1 2 2 2 0 1 1 2 1 2 2 1 2 2 3 2 2 1 2 3 1 2\n 1 2 3 0 2 1 2 0 0 2 3 1 1 3 1 0 2 1 1 3 3 2 3 2 2 3 1 2 3 2 2 0 2 2 2 1 0\n 1 2 3 1 3 1 2 2 1 2 3 1 0 0 0 2 3 3 3 2 2 0 3 2 3 2 2 3 1 2 3 2 2 3 1 1 1\n 2 2 0 1 1 1 1 0 1 2 3 1 1 2 3 2 3 1 2 1 1 3 3 3 0 1 1 3 2 1 0 1 2 0 1 0 3\n 1 3 2 2 3 2 1 2 2 2 2 2 1 1 3 3 1 3 1 2 1 0 2 3 2 2 2 1 2 0 1 2 0 1 3 1 2\n 3 1 2 3 1 2 2 1 2 2 0 0 1 1 1 2 1 0 3 0 2 2 2 1 1 2 2 0 2 2 1 2 1 1 2 0 1\n 3 2 1 2 2 3 1 2 1 0 2 0 1 3 0 0 1 0 0 0 3 2 0 3 2 2 0 0 0 1 1 1 3 0 0 0 0\n 2 2 1 0 0 0 1 1 0 3 3 2 0 2 2 3 2 2 0 1 2 2 0 2 3 2 3 0 0 2 3 2 0 0 1 0 0\n 0 3 1 2 0 0 0 0 3 2 2 3 2 3 3 0 2 2 0 1 0 0 3 2 0 3 0 3 1 3 1 0 0 3 1 2 3\n 0 2 3 1 1 0 0 0 0 2 2 1 3 1 2 0 1 2 2 3 3 3 2 3 3 3 3 2 1 3 3 3 3 3 3 3 2\n 2 2 2 0 0 2 2 3 3 3 3 0 1 0 0 1 0 2 2 0 1 1 3 2 1 1 0 3 2 0 1 3 0 1 0 1 3\n 1 1 2]",
         "558"
        ],
        [
         "5926573",
         "chr6",
         "86815085",
         "86815262",
         "[1 0 2 1 1 3 2 1 0 1 0 2 0 0 1 0 2 0 3 2 2 3 2 0 0 0 0 2 2 0 0 2 2 1 1 3 2\n 1 0 3 3 3 3 1 0 2 2 0 0 3 3 3 3 0 1 0 0 0 1 0 2 1 3 1 1 0 1 3 2 3 2 3 1 0\n 2 2 0 2 1 1 3 1 0 0 0 3 1 1 0 1 3 1 3 2 2 3 2 1 0 2 3 2 3 3 3 0 3 2 1 1 0\n 1 2 0 0 2 2 0 2 2 2 1 3 1 0 1 2 2 0 0 0 2 1 3 1 0 2 2 2 1 1 1 3 3 1 1 1 1\n 0 2 2 1 3 1 0 2 0 2 0 0 0 3 1 0 0 3 1 0 3 1 0 3 3 2 1 1 0]",
         "[2 3 1 2 2 0 1 2 3 2 3 1 3 3 2 3 1 3 0 1 1 0 1 3 3 3 3 1 1 3 3 1 1 2 2 0 1\n 2 3 0 0 0 0 2 3 1 1 3 3 0 0 0 0 3 2 3 3 3 2 3 1 2 0 2 2 3 2 0 1 0 1 0 2 3\n 1 1 3 1 2 2 0 2 3 3 3 0 2 2 3 2 0 2 0 1 1 0 1 2 3 1 0 1 0 0 0 3 0 1 2 2 3\n 2 1 3 3 1 1 3 1 1 1 2 0 2 3 2 1 1 3 3 3 1 2 0 2 3 1 1 1 2 2 2 0 0 2 2 2 2\n 3 1 1 2 0 2 3 1 3 1 3 3 3 0 2 3 3 0 2 3 0 2 3 0 0 1 2 2 3]",
         "177"
        ],
        [
         "4678001",
         "chr3",
         "141887601",
         "141887754",
         "[3 1 1 0 1 3 1 3 0 3 3 0 3 1 0 3 3 2 3 3 0 0 2 2 3 1 3 3 2 0 0 0 3 0 3 3 2\n 2 1 3 2 3 1 3 3 3 3 1 3 0 3 3 1 3 0 1 0 0 0 0 3 3 3 1 1 0 3 3 0 2 0 2 2 2\n 1 0 2 0 1 0 2 2 0 2 1 0 0 2 0 0 2 3 2 2 0 0 0 3 1 0 0 0 2 2 3 3 3 2 1 0 1\n 0 3 3 2 3 1 3 3 2 2 2 3 0 0 0 2 0 0 2 3 2 2 2 0 2 0 0 3 0 0 2 1 3 0 0 0 2\n 3 2 1 3 2]",
         "[0 2 2 3 2 0 2 0 3 0 0 3 0 2 3 0 0 1 0 0 3 3 1 1 0 2 0 0 1 3 3 3 0 3 0 0 1\n 1 2 0 1 0 2 0 0 0 0 2 0 3 0 0 2 0 3 2 3 3 3 3 0 0 0 2 2 3 0 0 3 1 3 1 1 1\n 2 3 1 3 2 3 1 1 3 1 2 3 3 1 3 3 1 0 1 1 3 3 3 0 2 3 3 3 1 1 0 0 0 1 2 3 2\n 3 0 0 1 0 2 0 0 1 1 1 0 3 3 3 1 3 3 1 0 1 1 1 3 1 3 3 0 3 3 1 2 0 3 3 3 1\n 0 1 2 0 1]",
         "153"
        ],
        [
         "140864",
         "chr1",
         "66000401",
         "66000650",
         "[1 3 3 3 0 3 2 2 2 1 1 1 3 3 3 1 1 1 3 3 2 1 3 0 1 0 1 0 1 3 3 1 1 3 3 2 1\n 3 3 0 0 0 2 0 0 0 0 0 2 0 2 0 1 0 0 1 3 0 2 0 1 2 3 3 0 0 3 3 3 0 0 0 0 3\n 0 2 2 0 3 3 0 0 2 2 0 2 2 0 3 0 0 0 3 2 3 0 1 3 1 3 0 0 0 1 0 3 0 3 2 0 0\n 2 3 0 2 2 0 2 1 3 2 3 3 3 1 3 2 3 2 0 2 0 1 3 2 1 3 0 1 3 2 0 2 1 0 2 1 3\n 2 3 1 0 1 1 1 1 0 0 0 3 2 3 0 2 0 1 3 2 3 3 3 0 3 3 2 1 3 0 1 0 2 2 2 2 0\n 1 0 2 0 2 1 3 2 2 3 2 3 3 0 0 2 1 3 0 2 1 0 2 3 0 0 0 3 1 3 3 0 1 0 2 0 0\n 3 3 0 0 2 3 1 3 1 1 3 2 1 3 1 3 1 1 0 2 3 0 2 3 3 1 1]",
         "[2 0 0 0 3 0 1 1 1 2 2 2 0 0 0 2 2 2 0 0 1 2 0 3 2 3 2 3 2 0 0 2 2 0 0 1 2\n 0 0 3 3 3 1 3 3 3 3 3 1 3 1 3 2 3 3 2 0 3 1 3 2 1 0 0 3 3 0 0 0 3 3 3 3 0\n 3 1 1 3 0 0 3 3 1 1 3 1 1 3 0 3 3 3 0 1 0 3 2 0 2 0 3 3 3 2 3 0 3 0 1 3 3\n 1 0 3 1 1 3 1 2 0 1 0 0 0 2 0 1 0 1 3 1 3 2 0 1 2 0 3 2 0 1 3 1 2 3 1 2 0\n 1 0 2 3 2 2 2 2 3 3 3 0 1 0 3 1 3 2 0 1 0 0 0 3 0 0 1 2 0 3 2 3 1 1 1 1 3\n 2 3 1 3 1 2 0 1 1 0 1 0 0 3 3 1 2 0 3 1 2 3 1 0 3 3 3 0 2 0 0 3 2 3 1 3 3\n 0 0 3 3 1 0 2 0 2 2 0 1 2 0 2 0 2 2 3 1 0 3 1 0 0 2 2]",
         "249"
        ],
        [
         "5959900",
         "chr6",
         "94774559",
         "94774793",
         "[2 3 2 3 3 2 2 2 2 0 0 1 0 3 2 0 0 3 3 1 3 3 2 0 0 0 3 3 1 0 0 0 2 2 0 2 1\n 0 0 3 0 0 3 2 3 0 3 0 1 0 3 2 1 0 0 2 3 0 3 2 3 2 0 0 3 2 1 0 3 1 3 0 0 0\n 0 0 0 1 1 0 2 0 2 3 2 0 0 1 1 3 0 3 2 2 2 3 3 3 3 1 0 1 3 0 0 1 0 2 2 0 0\n 0 3 1 3 2 0 2 0 1 2 2 2 0 0 0 2 2 1 3 2 3 3 3 3 0 1 2 2 1 0 2 2 0 0 0 2 2\n 2 0 2 0 2 3 3 0 1 3 2 1 1 1 1 1 2 0 2 0 2 1 0 0 0 1 3 2 1 3 0 2 2 2 0 1 3\n 2 1 3 1 1 3 3 1 0 0 2 2 1 0 3 0 2 2 1 0 2 3 3 3 1 0 2 3 2 2 2 3 2 0 3 2 1\n 3 0 2 3 0 2 3 1 1 0 2 0]",
         "[1 0 1 0 0 1 1 1 1 3 3 2 3 0 1 3 3 0 0 2 0 0 1 3 3 3 0 0 2 3 3 3 1 1 3 1 2\n 3 3 0 3 3 0 1 0 3 0 3 2 3 0 1 2 3 3 1 0 3 0 1 0 1 3 3 0 1 2 3 0 2 0 3 3 3\n 3 3 3 2 2 3 1 3 1 0 1 3 3 2 2 0 3 0 1 1 1 0 0 0 0 2 3 2 0 3 3 2 3 1 1 3 3\n 3 0 2 0 1 3 1 3 2 1 1 1 3 3 3 1 1 2 0 1 0 0 0 0 3 2 1 1 2 3 1 1 3 3 3 1 1\n 1 3 1 3 1 0 0 3 2 0 1 2 2 2 2 2 1 3 1 3 1 2 3 3 3 2 0 1 2 0 3 1 1 1 3 2 0\n 1 2 0 2 2 0 0 2 3 3 1 1 2 3 0 3 1 1 2 3 1 0 0 0 2 3 1 0 1 1 1 0 1 3 0 1 2\n 0 3 1 0 3 1 0 2 2 3 1 3]",
         "234"
        ],
        [
         "712368",
         "chr10",
         "77340120",
         "77340349",
         "[3 2 2 0 1 1 2 0 3 2 0 2 3 2 2 1 3 2 0 1 0 2 1 1 1 1 3 2 1 3 0 2 3 1 1 1 0\n 0 2 1 3 1 0 3 3 1 1 2 1 2 3 1 1 1 3 3 2 2 3 1 0 1 3 1 0 2 1 0 0 3 0 0 1 0\n 1 2 2 0 2 2 0 3 3 0 3 3 3 1 0 0 3 2 3 2 1 0 0 0 2 1 1 2 0 2 2 1 3 2 0 2 2\n 1 2 0 1 0 2 1 1 0 1 1 1 1 3 2 1 1 2 2 1 0 2 2 0 3 3 1 0 0 2 2 2 0 1 3 2 0\n 1 3 2 1 3 1 1 3 1 1 0 3 1 3 1 0 2 2 1 3 1 0 3 3 1 0 3 1 0 0 2 1 1 3 1 0 2\n 0 0 3 3 0 2 2 1 0 2 0 0 3 3 2 2 2 3 3 2 0 0 3 2 2 2 0 1 1 1 0 0 0 1 0 1 0\n 1 0 0 3 2 0 3]",
         "[0 1 1 3 2 2 1 3 0 1 3 1 0 1 1 2 0 1 3 2 3 1 2 2 2 2 0 1 2 0 3 1 0 2 2 2 3\n 3 1 2 0 2 3 0 0 2 2 1 2 1 0 2 2 2 0 0 1 1 0 2 3 2 0 2 3 1 2 3 3 0 3 3 2 3\n 2 1 1 3 1 1 3 0 0 3 0 0 0 2 3 3 0 1 0 1 2 3 3 3 1 2 2 1 3 1 1 2 0 1 3 1 1\n 2 1 3 2 3 1 2 2 3 2 2 2 2 0 1 2 2 1 1 2 3 1 1 3 0 0 2 3 3 1 1 1 3 2 0 1 3\n 2 0 1 2 0 2 2 0 2 2 3 0 2 0 2 3 1 1 2 0 2 3 0 0 2 3 0 2 3 3 1 2 2 0 2 3 1\n 3 3 0 0 3 1 1 2 3 1 3 3 0 0 1 1 1 0 0 1 3 3 0 1 1 1 3 2 2 2 3 3 3 2 3 2 3\n 2 3 3 0 1 3 0]",
         "229"
        ],
        [
         "2041254",
         "chr13",
         "112088239",
         "112088693",
         "[2 2 2 0 0 0 3 0 0 2 0 1 1 0 3 1 1 0 0 0 0 0 2 0 1 3 1 1 0 2 2 0 0 0 1 0 3\n 1 3 2 2 0 0 0 2 3 2 2 1 1 3 1 3 0 2 0 0 2 2 0 2 0 1 1 2 1 3 3 1 1 3 1 0 3\n 2 0 1 0 2 0 1 1 1 1 3 2 1 0 3 3 1 1 1 0 2 0 1 3 2 1 3 3 2 3 1 1 0 2 3 3 1\n 0 2 1 1 1 1 3 1 1 1 1 3 1 1 0 3 1 0 0 0 2 1 1 3 1 1 0 1 1 0 1 1 0 1 1 2 1\n 3 1 3 1 3 2 3 1 1 0 1 0 2 0 1 0 1 3 2 2 2 1 0 2 0 2 1 3 1 0 1 1 1 1 0 0 1\n 1 1 1 1 3 0 1 0 1 0 1 0 3 3 1 1 1 3 1 3 2 0 2 3 2 3 3 1 0 1 1 1 0 2 2 0 2\n 0 2 2 1 2 2 3 3 1 1 1 3 1 0 0 0 0 0 1 0 0 0 0 2 1 0 0 2 3 2 2 2 0 2 2 3 3\n 3 3 2 3 3 3 3 1 3 3 3 3 3 1 1 1 1 1 1 3 3 1 3 1 3 1 3 1 1 1 3 1 3 2 0 1 3\n 2 2 0 2 2 2 3 0 0 1 1 3 1 0 1 2 1 1 0 1 0 3 2 1 1 3 3 1 1 0 2 1 0 0 0 1 0\n 1 3 1 0 3 1 0 1 1 1 2 0 3 0 0 0 3 1 0 3 2 3 2 0 1 1 1 3 3 1 3 2 3 3 3 0 1\n 3 3 0 2 0 2 2 3 2 1 3 2 2 1 1 1 3 2 2 1 3 1 3 2 2 1 1 3 1 3 0 0 3 1 1 0 2\n 3 1 1 1 3 2 2 3 1 3 2 1 0 0 1 1 0 0 3 3 3 1 3 2 0 2 3 2 2 3 3 3 3 1 0 1 3\n 2 2 0 0 0 2 2 0 2 0]",
         "[1 1 1 3 3 3 0 3 3 1 3 2 2 3 0 2 2 3 3 3 3 3 1 3 2 0 2 2 3 1 1 3 3 3 2 3 0\n 2 0 1 1 3 3 3 1 0 1 1 2 2 0 2 0 3 1 3 3 1 1 3 1 3 2 2 1 2 0 0 2 2 0 2 3 0\n 1 3 2 3 1 3 2 2 2 2 0 1 2 3 0 0 2 2 2 3 1 3 2 0 1 2 0 0 1 0 2 2 3 1 0 0 2\n 3 1 2 2 2 2 0 2 2 2 2 0 2 2 3 0 2 3 3 3 1 2 2 0 2 2 3 2 2 3 2 2 3 2 2 1 2\n 0 2 0 2 0 1 0 2 2 3 2 3 1 3 2 3 2 0 1 1 1 2 3 1 3 1 2 0 2 3 2 2 2 2 3 3 2\n 2 2 2 2 0 3 2 3 2 3 2 3 0 0 2 2 2 0 2 0 1 3 1 0 1 0 0 2 3 2 2 2 3 1 1 3 1\n 3 1 1 2 1 1 0 0 2 2 2 0 2 3 3 3 3 3 2 3 3 3 3 1 2 3 3 1 0 1 1 1 3 1 1 0 0\n 0 0 1 0 0 0 0 2 0 0 0 0 0 2 2 2 2 2 2 0 0 2 0 2 0 2 0 2 2 2 0 2 0 1 3 2 0\n 1 1 3 1 1 1 0 3 3 2 2 0 2 3 2 1 2 2 3 2 3 0 1 2 2 0 0 2 2 3 1 2 3 3 3 2 3\n 2 0 2 3 0 2 3 2 2 2 1 3 0 3 3 3 0 2 3 0 1 0 1 3 2 2 2 0 0 2 0 1 0 0 0 3 2\n 0 0 3 1 3 1 1 0 1 2 0 1 1 2 2 2 0 1 1 2 0 2 0 1 1 2 2 0 2 0 3 3 0 2 2 3 1\n 0 2 2 2 0 1 1 0 2 0 1 2 3 3 2 2 3 3 0 0 0 2 0 1 3 1 0 1 1 0 0 0 0 2 3 2 0\n 1 1 3 3 3 1 1 3 1 3]",
         "454"
        ],
        [
         "4764546",
         "chr4",
         "22017890",
         "22018295",
         "[2 0 1 1 0 2 0 3 3 3 3 2 3 1 3 3 1 1 1 3 1 3 3 1 1 1 3 3 1 3 2 3 1 3 3 1 1\n 3 2 0 2 2 1 3 0 0 2 2 2 3 0 1 0 2 3 2 3 0 2 0 3 2 1 3 1 3 3 2 2 2 1 3 2 1\n 3 3 1 3 0 0 1 3 3 0 2 0 1 2 2 0 0 1 3 0 2 1 1 3 2 0 3 3 1 1 0 0 2 0 2 3 1\n 0 2 3 2 2 3 2 3 2 0 0 3 2 3 2 0 2 1 0 2 1 0 2 2 0 2 2 3 0 1 3 2 3 3 3 3 1\n 3 2 2 3 3 1 3 3 1 2 1 0 2 1 0 2 3 2 2 0 1 3 1 3 1 3 3 0 2 3 0 1 0 1 0 3 1\n 3 3 1 3 2 0 2 0 0 2 1 0 3 1 0 2 2 0 3 0 2 2 0 1 1 1 3 0 3 2 1 3 0 1 1 0 1\n 0 0 2 0 2 2 2 1 0 2 1 0 0 0 3 2 0 3 3 3 2 1 0 0 3 1 3 2 2 3 3 3 3 2 3 3 3\n 1 1 3 3 3 0 0 0 0 0 0 3 1 0 3 3 3 3 2 1 3 3 3 2 1 3 3 1 1 0 2 0 2 0 2 1 3\n 3 1 3 0 3 3 3 0 2 3 1 0 0 2 0 0 0 3 0 0 0 0 0 3 3 3 2 1 3 1 1 3 2 0 3 2 2\n 2 0 2 2 2 0 3 2 2 2 0 1 1 3 2 2 2 3 1 3 1 0 3 3 3 1 1 1 1 2 1 0 1 0 3 3 1\n 3 3 2 3 3 0 2 1 0 1 0 2 1 3 3 0 3 1 0 1 3 2 2 0 2 1 2 3 2 2 1 0 0 2 3]",
         "[1 3 2 2 3 1 3 0 0 0 0 1 0 2 0 0 2 2 2 0 2 0 0 2 2 2 0 0 2 0 1 0 2 0 0 2 2\n 0 1 3 1 1 2 0 3 3 1 1 1 0 3 2 3 1 0 1 0 3 1 3 0 1 2 0 2 0 0 1 1 1 2 0 1 2\n 0 0 2 0 3 3 2 0 0 3 1 3 2 1 1 3 3 2 0 3 1 2 2 0 1 3 0 0 2 2 3 3 1 3 1 0 2\n 3 1 0 1 1 0 1 0 1 3 3 0 1 0 1 3 1 2 3 1 2 3 1 1 3 1 1 0 3 2 0 1 0 0 0 0 2\n 0 1 1 0 0 2 0 0 2 1 2 3 1 2 3 1 0 1 1 3 2 0 2 0 2 0 0 3 1 0 3 2 3 2 3 0 2\n 0 0 2 0 1 3 1 3 3 1 2 3 0 2 3 1 1 3 0 3 1 1 3 2 2 2 0 3 0 1 2 0 3 2 2 3 2\n 3 3 1 3 1 1 1 2 3 1 2 3 3 3 0 1 3 0 0 0 1 2 3 3 0 2 0 1 1 0 0 0 0 1 0 0 0\n 2 2 0 0 0 3 3 3 3 3 3 0 2 3 0 0 0 0 1 2 0 0 0 1 2 0 0 2 2 3 1 3 1 3 1 2 0\n 0 2 0 3 0 0 0 3 1 0 2 3 3 1 3 3 3 0 3 3 3 3 3 0 0 0 1 2 0 2 2 0 1 3 0 1 1\n 1 3 1 1 1 3 0 1 1 1 3 2 2 0 1 1 1 0 2 0 2 3 0 0 0 2 2 2 2 1 2 3 2 3 0 0 2\n 0 0 1 0 0 3 1 2 3 2 3 1 2 0 0 3 0 2 3 2 0 1 1 3 1 2 1 0 1 1 2 3 3 1 0]",
         "405"
        ],
        [
         "3165569",
         "chr17",
         "50993482",
         "50994140",
         "[0 0 2 3 1 0 3 1 3 2 0 3 3 1 2 2 0 3 2 0 1 3 1 1 0 0 0 2 2 3 3 0 0 2 3 2 3\n 1 0 3 1 3 2 1 0 2 2 0 2 2 3 2 0 1 0 3 1 3 0 2 2 3 0 2 2 0 1 0 1 0 0 2 0 2\n 2 0 2 0 0 2 0 1 0 3 0 1 0 2 2 0 2 1 0 3 0 2 0 3 3 1 3 2 1 0 3 1 0 1 0 2 0\n 0 1 3 1 0 1 1 3 2 2 1 1 3 2 3 3 1 0 2 0 3 0 1 0 3 2 0 2 3 2 3 0 3 2 2 3 0\n 2 1 1 0 1 1 1 1 3 2 2 1 3 2 0 1 3 3 3 0 1 3 0 3 2 3 2 3 1 3 1 3 1 0 2 3 0\n 3 2 0 2 0 2 0 3 2 3 2 3 2 3 1 3 0 3 3 3 1 0 1 3 3 3 2 3 2 3 2 3 3 3 3 3 2\n 3 1 0 2 3 3 0 3 0 3 3 2 2 3 3 2 2 0 2 0 0 0 1 0 2 0 3 1 3 0 0 0 0 3 2 2 2\n 2 0 0 2 3 0 2 3 2 0 2 3 1 0 3 3 2 1 0 0 2 0 1 3 2 3 0 2 1 1 0 3 3 0 1 3 0\n 3 1 3 1 3 2 0 2 0 1 0 2 1 0 1 0 3 2 0 1 3 3 1 1 3 2 0 0 2 2 1 3 1 0 1 0 2\n 2 1 1 0 1 0 2 3 2 2 2 1 3 2 0 1 1 0 1 1 1 0 3 2 1 3 2 1 0 0 3 0 3 1 1 3 2\n 1 3 3 3 1 1 0 2 2 2 2 3 2 0 0 0 2 3 2 2 1 3 2 1 0 1 0 2 1 0 2 1 3 2 2 1 3\n 0 1 3 2 1 1 3 3 3 3 2 1 3 0 3 2 0 3 3 0 1 0 1 1 0 2 1 0 2 1 3 1 1 1 0 0 2\n 3 2 3 3 2 1 0 2 1 1 0 1 1 0 2 3 3 3 1 1 1 3 2 3 0 2 3 0 0 0 1 0 0 3 1 2 3\n 3 1 3 1 3 3 2 3 0 0 0 0 0 2 3 0 1 3 3 1 1 0 3 3 1 3 2 2 1 3 3 0 1 0 0 1 1\n 3 2 3 2 1 3 1 3 3 2 3 2 2 3 0 3 3 2 0 1 3 1 3 0 0 0 3 3 0 1 0 3 3 3 2 3 1\n 3 3 2 2 1 1 0 2 2 2 1 0 1 3 1 0 2 0 2 2 0 0 2 3 1 0 0 0 0 1 1 3 1 3 2 1 1\n 3 2 3 3 1 3 1 3 1 0 2 1 1 0 3 3 1 3 0 2 0 0 2 0 0 0 3 3 2 0 3 1 3 0 3 1 3\n 1 3 3 1 1 3 2 0 1 3 2 3 3 3 2 2 3 3 1 3 2 3 1 3 3 0 1 3 3]",
         "[3 3 1 0 2 3 0 2 0 1 3 0 0 2 1 1 3 0 1 3 2 0 2 2 3 3 3 1 1 0 0 3 3 1 0 1 0\n 2 3 0 2 0 1 2 3 1 1 3 1 1 0 1 3 2 3 0 2 0 3 1 1 0 3 1 1 3 2 3 2 3 3 1 3 1\n 1 3 1 3 3 1 3 2 3 0 3 2 3 1 1 3 1 2 3 0 3 1 3 0 0 2 0 1 2 3 0 2 3 2 3 1 3\n 3 2 0 2 3 2 2 0 1 1 2 2 0 1 0 0 2 3 1 3 0 3 2 3 0 1 3 1 0 1 0 3 0 1 1 0 3\n 1 2 2 3 2 2 2 2 0 1 1 2 0 1 3 2 0 0 0 3 2 0 3 0 1 0 1 0 2 0 2 0 2 3 1 0 3\n 0 1 3 1 3 1 3 0 1 0 1 0 1 0 2 0 3 0 0 0 2 3 2 0 0 0 1 0 1 0 1 0 0 0 0 0 1\n 0 2 3 1 0 0 3 0 3 0 0 1 1 0 0 1 1 3 1 3 3 3 2 3 1 3 0 2 0 3 3 3 3 0 1 1 1\n 1 3 3 1 0 3 1 0 1 3 1 0 2 3 0 0 1 2 3 3 1 3 2 0 1 0 3 1 2 2 3 0 0 3 2 0 3\n 0 2 0 2 0 1 3 1 3 2 3 1 2 3 2 3 0 1 3 2 0 0 2 2 0 1 3 3 1 1 2 0 2 3 2 3 1\n 1 2 2 3 2 3 1 0 1 1 1 2 0 1 3 2 2 3 2 2 2 3 0 1 2 0 1 2 3 3 0 3 0 2 2 0 1\n 2 0 0 0 2 2 3 1 1 1 1 0 1 3 3 3 1 0 1 1 2 0 1 2 3 2 3 1 2 3 1 2 0 1 1 2 0\n 3 2 0 1 2 2 0 0 0 0 1 2 0 3 0 1 3 0 0 3 2 3 2 2 3 1 2 3 1 2 0 2 2 2 3 3 1\n 0 1 0 0 1 2 3 1 2 2 3 2 2 3 1 0 0 0 2 2 2 0 1 0 3 1 0 3 3 3 2 3 3 0 2 1 0\n 0 2 0 2 0 0 1 0 3 3 3 3 3 1 0 3 2 0 0 2 2 3 0 0 2 0 1 1 2 0 0 3 2 3 3 2 2\n 0 1 0 1 2 0 2 0 0 1 0 1 1 0 3 0 0 1 3 2 0 2 0 3 3 3 0 0 3 2 3 0 0 0 1 0 2\n 0 0 1 1 2 2 3 1 1 1 2 3 2 0 2 3 1 3 1 1 3 3 1 0 2 3 3 3 3 2 2 0 2 0 1 2 2\n 0 1 0 0 2 0 2 0 2 3 1 2 2 3 0 0 2 0 3 1 3 3 1 3 3 3 0 0 1 3 0 2 0 3 0 2 0\n 2 0 0 2 2 0 1 3 2 0 1 0 0 0 1 1 0 0 2 0 1 0 2 0 0 3 2 0 0]",
         "658"
        ],
        [
         "6068974",
         "chr6",
         "128334452",
         "128334673",
         "[1 2 1 3 2 1 2 0 2 2 1 0 3 1 3 2 0 2 2 2 3 1 1 0 1 1 0 2 0 2 2 1 2 3 2 3 2\n 1 3 1 1 3 1 0 1 3 2 1 1 3 1 2 3 2 2 1 3 3 3 0 0 1 1 3 3 1 2 1 0 2 1 1 3 2\n 2 1 3 3 1 3 2 2 2 3 3 3 2 2 1 3 2 3 0 1 1 0 3 2 0 2 3 2 2 1 3 1 0 0 2 2 1\n 2 1 3 3 1 3 3 3 1 3 1 3 2 1 3 3 1 3 3 1 3 1 1 0 2 1 0 2 3 2 1 1 1 3 1 3 0\n 2 0 2 0 2 0 3 0 0 3 2 1 2 2 1 0 3 3 0 1 0 0 1 0 1 0 2 2 2 1 1 3 0 1 1 1 3\n 1 3 3 2 2 0 0 3 0 2 1 3 3 0 2 0 1 3 0 3 3 3 3 3 3 3 3 1 3 2 0 2 0 1 2 2]",
         "[2 1 2 0 1 2 1 3 1 1 2 3 0 2 0 1 3 1 1 1 0 2 2 3 2 2 3 1 3 1 1 2 1 0 1 0 1\n 2 0 2 2 0 2 3 2 0 1 2 2 0 2 1 0 1 1 2 0 0 0 3 3 2 2 0 0 2 1 2 3 1 2 2 0 1\n 1 2 0 0 2 0 1 1 1 0 0 0 1 1 2 0 1 0 3 2 2 3 0 1 3 1 0 1 1 2 0 2 3 3 1 1 2\n 1 2 0 0 2 0 0 0 2 0 2 0 1 2 0 0 2 0 0 2 0 2 2 3 1 2 3 1 0 1 2 2 2 0 2 0 3\n 1 3 1 3 1 3 0 3 3 0 1 2 1 1 2 3 0 0 3 2 3 3 2 3 2 3 1 1 1 2 2 0 3 2 2 2 0\n 2 0 0 1 1 3 3 0 3 1 2 0 0 3 1 3 2 0 3 0 0 0 0 0 0 0 0 2 0 1 3 1 3 2 1 1]",
         "221"
        ],
        [
         "141590",
         "chr1",
         "66340373",
         "66340495",
         "[2 1 0 0 0 2 1 1 1 0 2 0 2 1 0 2 0 2 3 2 1 3 3 1 3 2 1 0 2 0 1 3 2 2 0 0 3\n 2 0 0 1 3 3 1 1 0 0 2 2 1 3 0 0 3 2 2 1 1 3 3 3 1 1 0 3 0 1 0 0 0 3 2 1 3\n 0 1 0 0 0 3 3 1 1 0 2 2 0 2 1 3 2 3 3 2 0 2 0 0 2 0 1 3 3 2 0 3 2 2 3 3 0\n 3 2 2 3 0 3 0 0 2 1 0]",
         "[1 2 3 3 3 1 2 2 2 3 1 3 1 2 3 1 3 1 0 1 2 0 0 2 0 1 2 3 1 3 2 0 1 1 3 3 0\n 1 3 3 2 0 0 2 2 3 3 1 1 2 0 3 3 0 1 1 2 2 0 0 0 2 2 3 0 3 2 3 3 3 0 1 2 0\n 3 2 3 3 3 0 0 2 2 3 1 1 3 1 2 0 1 0 0 1 3 1 3 3 1 3 2 0 0 1 3 0 1 1 0 0 3\n 0 1 1 0 3 0 3 3 1 2 3]",
         "122"
        ],
        [
         "1428464",
         "chr12",
         "9898455",
         "9898708",
         "[0 0 2 1 3 2 0 0 0 3 2 3 0 3 2 1 1 0 1 0 1 0 3 1 3 2 2 3 2 1 3 0 2 2 2 0 2\n 0 3 3 2 2 2 0 2 0 2 1 3 2 1 3 2 3 2 2 3 1 0 2 1 0 2 1 1 0 2 2 2 2 0 2 1 0\n 0 2 2 1 1 0 3 3 3 1 0 2 2 2 1 2 2 3 3 0 0 2 1 3 2 0 0 2 3 0 0 1 3 1 2 0 2\n 3 0 1 0 2 1 0 1 0 2 3 1 3 2 0 2 3 1 0 3 1 1 3 1 1 3 1 0 0 2 2 2 2 0 2 1 3\n 3 1 1 0 1 3 3 2 2 2 3 2 2 0 0 1 1 3 2 0 1 0 1 1 3 2 0 0 1 1 1 0 3 1 3 2 3\n 2 2 1 3 3 3 2 1 1 1 3 2 2 1 3 2 2 1 3 1 3 2 3 0 1 3 2 1 1 1 3 0 3 1 1 3 2\n 3 1 1 0 2 2 0 1 0 2 1 3 1 0 0 1 3 3 2 2 0 1 0 3 2 0 1 0 2 2 0]",
         "[3 3 1 2 0 1 3 3 3 0 1 0 3 0 1 2 2 3 2 3 2 3 0 2 0 1 1 0 1 2 0 3 1 1 1 3 1\n 3 0 0 1 1 1 3 1 3 1 2 0 1 2 0 1 0 1 1 0 2 3 1 2 3 1 2 2 3 1 1 1 1 3 1 2 3\n 3 1 1 2 2 3 0 0 0 2 3 1 1 1 2 1 1 0 0 3 3 1 2 0 1 3 3 1 0 3 3 2 0 2 1 3 1\n 0 3 2 3 1 2 3 2 3 1 0 2 0 1 3 1 0 2 3 0 2 2 0 2 2 0 2 3 3 1 1 1 1 3 1 2 0\n 0 2 2 3 2 0 0 1 1 1 0 1 1 3 3 2 2 0 1 3 2 3 2 2 0 1 3 3 2 2 2 3 0 2 0 1 0\n 1 1 2 0 0 0 1 2 2 2 0 1 1 2 0 1 1 2 0 2 0 1 0 3 2 0 1 2 2 2 0 3 0 2 2 0 1\n 0 2 2 3 1 1 3 2 3 1 2 0 2 3 3 2 0 0 1 1 3 2 3 0 1 3 2 3 1 1 3]",
         "253"
        ],
        [
         "6323274",
         "chr7",
         "71581904",
         "71582100",
         "[0 1 3 0 0 0 3 3 1 1 0 2 0 3 0 0 3 3 1 3 3 3 0 0 0 3 0 2 2 1 0 1 0 1 3 2 1\n 3 2 2 1 1 3 1 3 1 3 3 2 1 3 1 1 1 0 0 2 2 0 2 1 3 0 3 3 3 3 3 0 0 1 0 3 1\n 0 3 2 3 2 0 1 3 3 3 2 1 3 2 1 1 1 3 1 1 3 2 3 2 2 1 3 2 1 3 1 1 3 3 0 2 2\n 2 3 3 1 1 1 1 2 0 1 1 3 3 2 1 3 3 3 0 2 2 3 1 3 2 3 2 2 2 3 3 1 1 0 2 3 2\n 0 1 1 1 3 3 3 1 1 0 3 0 2 2 1 1 0 3 1 1 0 1 0 1 3 1 1 0 2 3 0 1 3 2 0 1 3\n 0 3 3 1 1 3 3 2 1 1 0]",
         "[3 2 0 3 3 3 0 0 2 2 3 1 3 0 3 3 0 0 2 0 0 0 3 3 3 0 3 1 1 2 3 2 3 2 0 1 2\n 0 1 1 2 2 0 2 0 2 0 0 1 2 0 2 2 2 3 3 1 1 3 1 2 0 3 0 0 0 0 0 3 3 2 3 0 2\n 3 0 1 0 1 3 2 0 0 0 1 2 0 1 2 2 2 0 2 2 0 1 0 1 1 2 0 1 2 0 2 2 0 0 3 1 1\n 1 0 0 2 2 2 2 1 3 2 2 0 0 1 2 0 0 0 3 1 1 0 2 0 1 0 1 1 1 0 0 2 2 3 1 0 1\n 3 2 2 2 0 0 0 2 2 3 0 3 1 1 2 2 3 0 2 2 3 2 3 2 0 2 2 3 1 0 3 2 0 1 3 2 0\n 3 0 0 2 2 0 0 1 2 2 3]",
         "196"
        ],
        [
         "3712370",
         "chr19",
         "54533882",
         "54534270",
         "[1 0 2 3 0 3 3 3 2 0 3 1 3 1 1 3 3 2 0 1 3 3 3 2 3 3 1 3 0 2 2 0 1 3 3 3 2\n 2 0 0 0 3 2 3 3 2 2 0 3 1 1 0 0 3 3 3 3 1 0 1 0 0 0 0 1 1 3 1 3 0 1 1 3 1\n 0 3 1 1 3 2 0 2 3 2 2 1 0 3 2 2 1 3 1 3 3 0 2 2 0 0 2 1 3 2 3 2 3 0 0 2 3\n 0 1 3 2 1 3 0 3 2 0 2 3 1 1 3 3 3 2 1 0 3 1 0 2 1 1 0 1 3 3 0 2 3 2 0 1 0\n 2 0 0 2 0 0 1 3 1 0 3 0 3 1 1 0 3 3 1 1 0 3 1 1 0 3 0 2 1 1 0 2 2 0 2 2 2\n 2 0 0 2 3 1 3 0 2 3 2 1 1 0 1 1 3 0 1 3 2 1 0 0 2 1 0 0 2 0 1 0 0 0 1 3 2\n 3 1 3 3 1 3 3 3 0 3 0 3 0 0 2 0 0 0 0 3 0 0 0 1 0 3 0 2 3 1 3 0 3 2 0 3 2\n 2 1 0 2 3 0 0 3 0 0 2 2 3 2 3 2 1 0 3 2 3 2 3 2 3 2 3 2 3 2 3 2 3 2 3 2 3\n 2 3 2 3 2 3 2 3 2 3 2 3 2 3 2 3 2 3 2 3 2 3 2 3 2 3 0 2 1 0 3 0 3 2 3 0 3\n 0 1 3 2 3 3 3 0 1 0 1 1 3 0 3 0 3 2 3 1 0 1 3 2 3 0 3 3 1 1 3 3 3 2 0 2 0\n 0 0 0 2 2 3 1 1 1 3 1 0 1 3 1 0 0 3]",
         "[2 3 1 0 3 0 0 0 1 3 0 2 0 2 2 0 0 1 3 2 0 0 0 1 0 0 2 0 3 1 1 3 2 0 0 0 1\n 1 3 3 3 0 1 0 0 1 1 3 0 2 2 3 3 0 0 0 0 2 3 2 3 3 3 3 2 2 0 2 0 3 2 2 0 2\n 3 0 2 2 0 1 3 1 0 1 1 2 3 0 1 1 2 0 2 0 0 3 1 1 3 3 1 2 0 1 0 1 0 3 3 1 0\n 3 2 0 1 2 0 3 0 1 3 1 0 2 2 0 0 0 1 2 3 0 2 3 1 2 2 3 2 0 0 3 1 0 1 3 2 3\n 1 3 3 1 3 3 2 0 2 3 0 3 0 2 2 3 0 0 2 2 3 0 2 2 3 0 3 1 2 2 3 1 1 3 1 1 1\n 1 3 3 1 0 2 0 3 1 0 1 2 2 3 2 2 0 3 2 0 1 2 3 3 1 2 3 3 1 3 2 3 3 3 2 0 1\n 0 2 0 0 2 0 0 0 3 0 3 0 3 3 1 3 3 3 3 0 3 3 3 2 3 0 3 1 0 2 0 3 0 1 3 0 1\n 1 2 3 1 0 3 3 0 3 3 1 1 0 1 0 1 2 3 0 1 0 1 0 1 0 1 0 1 0 1 0 1 0 1 0 1 0\n 1 0 1 0 1 0 1 0 1 0 1 0 1 0 1 0 1 0 1 0 1 0 1 0 1 0 3 1 2 3 0 3 0 1 0 3 0\n 3 2 0 1 0 0 0 3 2 3 2 2 0 3 0 3 0 1 0 2 3 2 0 1 0 3 0 0 2 2 0 0 0 1 3 1 3\n 3 3 3 1 1 0 2 2 2 0 2 3 2 0 2 3 3 0]",
         "388"
        ],
        [
         "3620697",
         "chr19",
         "29390631",
         "29391053",
         "[1 0 1 0 1 3 1 2 2 1 3 1 1 3 2 1 1 1 1 2 3 2 0 2 2 3 3 2 1 3 1 0 1 3 1 3 2\n 1 3 3 3 2 0 3 2 1 1 0 3 1 0 2 0 2 2 1 3 2 3 3 2 1 1 0 2 2 3 2 3 1 2 0 2 3\n 2 1 1 0 0 0 3 3 2 2 0 1 3 1 3 2 0 3 2 1 1 3 1 3 2 0 0 0 2 1 0 1 0 0 2 0 3\n 0 0 0 3 0 0 0 1 3 1 1 3 3 3 3 1 1 3 3 2 3 0 0 2 0 3 0 0 1 1 0 3 1 1 3 0 0\n 0 0 3 3 3 0 0 0 1 3 2 0 0 0 2 3 1 0 0 3 1 3 2 0 0 2 2 2 1 1 0 2 1 1 2 3 1\n 1 3 3 1 0 1 0 2 0 2 2 0 1 0 2 1 0 2 3 1 3 1 3 2 0 0 2 1 0 3 2 0 0 2 0 0 2\n 0 3 2 1 1 0 0 1 1 1 3 3 2 0 3 0 2 1 0 1 0 2 0 0 0 2 3 2 0 1 3 3 1 3 3 1 1\n 0 2 0 1 0 2 3 2 2 2 2 0 3 0 3 1 0 0 0 3 2 2 1 0 1 2 2 1 1 1 1 3 2 3 0 1 3\n 2 2 0 3 2 2 3 1 3 2 2 1 0 0 3 3 3 1 3 0 3 1 0 2 1 3 3 0 1 0 0 0 3 2 0 1 1\n 3 0 2 1 0 3 3 3 1 3 2 1 0 0 0 3 3 2 3 1 0 1 0 1 2 3 0 3 0 1 2 1 3 3 0 3 1\n 1 0 3 3 2 1 0 1 3 3 3 3 0 3 3 1 2 2 2 0 2 3 2 2 1 1 0 0 0 1 0 3 3 0 0 0 0\n 0 1 3 3 1 0 1 3 3 2 3 0 0 3 3]",
         "[2 3 2 3 2 0 2 1 1 2 0 2 2 0 1 2 2 2 2 1 0 1 3 1 1 0 0 1 2 0 2 3 2 0 2 0 1\n 2 0 0 0 1 3 0 1 2 2 3 0 2 3 1 3 1 1 2 0 1 0 0 1 2 2 3 1 1 0 1 0 2 1 3 1 0\n 1 2 2 3 3 3 0 0 1 1 3 2 0 2 0 1 3 0 1 2 2 0 2 0 1 3 3 3 1 2 3 2 3 3 1 3 0\n 3 3 3 0 3 3 3 2 0 2 2 0 0 0 0 2 2 0 0 1 0 3 3 1 3 0 3 3 2 2 3 0 2 2 0 3 3\n 3 3 0 0 0 3 3 3 2 0 1 3 3 3 1 0 2 3 3 0 2 0 1 3 3 1 1 1 2 2 3 1 2 2 1 0 2\n 2 0 0 2 3 2 3 1 3 1 1 3 2 3 1 2 3 1 0 2 0 2 0 1 3 3 1 2 3 0 1 3 3 1 3 3 1\n 3 0 1 2 2 3 3 2 2 2 0 0 1 3 0 3 1 2 3 2 3 1 3 3 3 1 0 1 3 2 0 0 2 0 0 2 2\n 3 1 3 2 3 1 0 1 1 1 1 3 0 3 0 2 3 3 3 0 1 1 2 3 2 1 1 2 2 2 2 0 1 0 3 2 0\n 1 1 3 0 1 1 0 2 0 1 1 2 3 3 0 0 0 2 0 3 0 2 3 1 2 0 0 3 2 3 3 3 0 1 3 2 2\n 0 3 1 2 3 0 0 0 2 0 1 2 3 3 3 0 0 1 0 2 3 2 3 2 1 0 3 0 3 2 1 2 0 0 3 0 2\n 2 3 0 0 1 2 3 2 0 0 0 0 3 0 0 2 1 1 1 3 1 0 1 1 2 2 3 3 3 2 3 0 0 3 3 3 3\n 3 2 0 0 2 3 2 0 0 1 0 3 3 0 0]",
         "422"
        ],
        [
         "7422739",
         "chrUn_GL456390",
         "23963",
         "24218",
         "[0 0 0 0 3 3 2 0 0 0 0 0 3 2 3 2 2 0 0 0 3 3 1 0 2 0 0 0 1 0 1 0 3 0 1 2 3\n 3 0 3 2 0 3 0 3 2 0 0 0 3 0 3 2 3 1 0 0 0 0 0 0 1 0 2 3 2 0 0 0 0 0 1 0 3\n 2 2 0 0 0 0 3 2 0 2 0 0 0 3 2 3 0 1 0 1 3 2 3 0 2 2 0 1 1 3 2 2 0 1 3 0 3\n 2 2 2 2 0 2 0 0 0 0 1 3 2 0 0 0 0 3 1 0 3 2 2 0 0 0 0 3 2 0 2 0 0 0 1 0 1\n 0 1 0 1 3 2 3 0 2 0 0 1 2 3 2 0 0 0 3 0 3 2 3 1 2 0 2 0 0 0 1 0 1 3 2 0 0\n 0 0 0 1 2 3 0 0 0 0 0 0 3 2 0 2 0 0 0 3 0 3 0 1 0 1 3 2 3 0 2 2 0 3 1 3 2\n 2 0 3 3 0 3 2 2 1 0 0 1 0 0 0 0 1 3 2 0 0 0 0 2 1 2 3 2 2 0 0 0 0]",
         "[3 3 3 3 0 0 1 3 3 3 3 3 0 1 0 1 1 3 3 3 0 0 2 3 1 3 3 3 2 3 2 3 0 3 2 1 0\n 0 3 0 1 3 0 3 0 1 3 3 3 0 3 0 1 0 2 3 3 3 3 3 3 2 3 1 0 1 3 3 3 3 3 2 3 0\n 1 1 3 3 3 3 0 1 3 1 3 3 3 0 1 0 3 2 3 2 0 1 0 3 1 1 3 2 2 0 1 1 3 2 0 3 0\n 1 1 1 1 3 1 3 3 3 3 2 0 1 3 3 3 3 0 2 3 0 1 1 3 3 3 3 0 1 3 1 3 3 3 2 3 2\n 3 2 3 2 0 1 0 3 1 3 3 2 1 0 1 3 3 3 0 3 0 1 0 2 1 3 1 3 3 3 2 3 2 0 1 3 3\n 3 3 3 2 1 0 3 3 3 3 3 3 0 1 3 1 3 3 3 0 3 0 3 2 3 2 0 1 0 3 1 1 3 0 2 0 1\n 1 3 0 0 3 0 1 1 2 3 3 2 3 3 3 3 2 0 1 3 3 3 3 1 2 1 0 1 1 3 3 3 3]",
         "255"
        ],
        [
         "6847969",
         "chr8",
         "95806791",
         "95807470",
         "[0 0 0 2 1 2 1 3 0 1 2 0 0 3 1 2 2 1 0 2 1 0 0 1 3 1 1 0 0 0 1 1 1 2 1 1 1\n 1 1 3 2 2 1 1 1 2 1 1 1 2 1 1 1 0 2 1 2 0 2 2 0 0 1 1 3 0 2 2 3 0 2 2 1 1\n 2 1 2 2 2 1 2 1 1 1 2 1 2 1 1 1 0 3 0 2 1 1 1 1 1 1 0 3 1 1 2 2 2 0 2 1 1\n 1 2 2 2 0 2 2 0 0 0 2 2 2 0 1 0 2 3 3 2 0 2 2 0 2 1 3 1 2 3 2 1 2 1 3 1 1\n 2 0 2 2 0 2 2 1 3 2 1 0 2 1 1 1 3 2 1 2 1 2 1 2 1 2 2 1 2 0 2 1 1 2 0 2 2\n 1 1 1 3 2 2 2 0 3 1 1 2 0 0 1 3 2 1 1 0 1 1 3 1 1 2 1 1 2 1 1 2 1 1 0 3 1\n 1 3 1 2 0 0 2 1 1 3 1 1 0 2 2 1 0 0 2 2 1 1 3 1 1 0 2 2 1 1 2 0 2 1 1 2 1\n 3 1 1 2 2 0 2 1 3 2 1 3 1 0 1 1 1 2 1 2 1 1 1 2 2 2 1 2 1 3 1 1 2 0 0 3 1\n 1 0 2 2 0 0 1 2 3 2 0 2 1 1 1 1 1 2 2 3 1 3 1 1 1 3 3 1 3 1 1 0 0 2 0 2 0\n 2 1 0 0 0 2 1 1 2 1 1 2 1 2 0 2 1 2 2 2 1 1 2 0 2 3 1 1 2 3 1 1 1 1 3 1 1\n 1 2 1 1 3 3 2 2 1 3 1 1 0 1 2 3 1 3 1 1 2 2 1 3 1 2 1 1 3 2 1 1 1 2 0 2 3\n 1 1 1 2 0 1 2 1 1 1 1 2 2 2 0 0 0 0 2 2 1 3 3 1 1 0 2 2 2 3 1 1 1 1 0 2 3\n 1 1 0 1 1 1 1 0 1 1 1 1 1 2 2 3 0 1 1 2 1 3 1 1 1 0 1 1 1 2 2 0 1 1 1 2 1\n 2 3 1 1 1 2 0 2 1 3 3 2 0 1 0 1 3 1 1 1 0 2 1 1 3 1 1 2 1 1 0 1 1 3 1 1 0\n 0 1 1 2 1 0 2 1 1 1 1 0 2 1 1 1 2 1 1 3 1 0 1 1 3 1 0 2 3 1 2 2 1 3 1 1 1\n 2 1 0 2 1 2 1 3 2 2 0 1 0 1 0 2 2 0 0 0 1 3 1 1 3 2 2 2 3 1 1 3 1 2 0 1 3\n 1 1 2 2 1 3 1 3 1 1 3 1 2 0 1 1 1 1 1 1 3 1 3 3 1 2 2 3 3 0 0 1 3 1 1 2 1\n 3 3 2 3 3 3 3 1 3 1 2 0 1 0 0 0 0 3 2 2 1 2 1 1 1 2 0 2 2 3 1 2 1 2 1 2 1\n 3 1 0 1 2 3 1 2 1 2 2 1 1]",
         "[3 3 3 1 2 1 2 0 3 2 1 3 3 0 2 1 1 2 3 1 2 3 3 2 0 2 2 3 3 3 2 2 2 1 2 2 2\n 2 2 0 1 1 2 2 2 1 2 2 2 1 2 2 2 3 1 2 1 3 1 1 3 3 2 2 0 3 1 1 0 3 1 1 2 2\n 1 2 1 1 1 2 1 2 2 2 1 2 1 2 2 2 3 0 3 1 2 2 2 2 2 2 3 0 2 2 1 1 1 3 1 2 2\n 2 1 1 1 3 1 1 3 3 3 1 1 1 3 2 3 1 0 0 1 3 1 1 3 1 2 0 2 1 0 1 2 1 2 0 2 2\n 1 3 1 1 3 1 1 2 0 1 2 3 1 2 2 2 0 1 2 1 2 1 2 1 2 1 1 2 1 3 1 2 2 1 3 1 1\n 2 2 2 0 1 1 1 3 0 2 2 1 3 3 2 0 1 2 2 3 2 2 0 2 2 1 2 2 1 2 2 1 2 2 3 0 2\n 2 0 2 1 3 3 1 2 2 0 2 2 3 1 1 2 3 3 1 1 2 2 0 2 2 3 1 1 2 2 1 3 1 2 2 1 2\n 0 2 2 1 1 3 1 2 0 1 2 0 2 3 2 2 2 1 2 1 2 2 2 1 1 1 2 1 2 0 2 2 1 3 3 0 2\n 2 3 1 1 3 3 2 1 0 1 3 1 2 2 2 2 2 1 1 0 2 0 2 2 2 0 0 2 0 2 2 3 3 1 3 1 3\n 1 2 3 3 3 1 2 2 1 2 2 1 2 1 3 1 2 1 1 1 2 2 1 3 1 0 2 2 1 0 2 2 2 2 0 2 2\n 2 1 2 2 0 0 1 1 2 0 2 2 3 2 1 0 2 0 2 2 1 1 2 0 2 1 2 2 0 1 2 2 2 1 3 1 0\n 2 2 2 1 3 2 1 2 2 2 2 1 1 1 3 3 3 3 1 1 2 0 0 2 2 3 1 1 1 0 2 2 2 2 3 1 0\n 2 2 3 2 2 2 2 3 2 2 2 2 2 1 1 0 3 2 2 1 2 0 2 2 2 3 2 2 2 1 1 3 2 2 2 1 2\n 1 0 2 2 2 1 3 1 2 0 0 1 3 2 3 2 0 2 2 2 3 1 2 2 0 2 2 1 2 2 3 2 2 0 2 2 3\n 3 2 2 1 2 3 1 2 2 2 2 3 1 2 2 2 1 2 2 0 2 3 2 2 0 2 3 1 0 2 1 1 2 0 2 2 2\n 1 2 3 1 2 1 2 0 1 1 3 2 3 2 3 1 1 3 3 3 2 0 2 2 0 1 1 1 0 2 2 0 2 1 3 2 0\n 2 2 1 1 2 0 2 0 2 2 0 2 1 3 2 2 2 2 2 2 0 2 0 0 2 1 1 0 0 3 3 2 0 2 2 1 2\n 0 0 1 0 0 0 0 2 0 2 1 3 2 3 3 3 3 0 1 1 2 1 2 2 2 1 3 1 1 0 2 1 2 1 2 1 2\n 0 2 3 2 1 0 2 1 2 1 1 2 2]",
         "679"
        ],
        [
         "3093192",
         "chr17",
         "33668528",
         "33668767",
         "[1 0 0 1 0 0 0 0 2 0 2 0 0 3 0 2 3 2 3 3 1 3 2 2 3 3 2 2 3 2 2 0 3 0 3 0 0\n 0 2 0 1 3 3 1 1 3 0 0 1 0 1 0 0 3 3 1 1 0 0 3 3 1 3 0 0 0 0 3 1 1 0 2 0 2\n 2 1 3 1 0 2 2 3 3 3 3 2 3 0 3 3 3 1 3 0 0 2 0 1 0 2 1 0 0 2 2 0 3 3 2 0 0\n 2 0 2 3 2 2 3 1 0 2 1 3 1 0 2 2 3 3 0 1 3 1 0 2 2 0 3 1 3 2 1 3 0 3 3 0 1\n 0 0 0 2 3 1 0 1 3 0 3 1 3 3 1 3 0 3 3 0 0 0 0 1 0 3 1 0 2 0 1 3 2 0 2 3 0\n 1 0 3 0 2 1 0 0 3 3 0 0 0 0 2 0 1 0 0 0 2 0 0 0 2 0 0 0 2 0 3 1 0 0 2 2 3\n 1 0 0 3 1 3 3 2 0 1 3 0 1 0 2 2 2]",
         "[2 3 3 2 3 3 3 3 1 3 1 3 3 0 3 1 0 1 0 0 2 0 1 1 0 0 1 1 0 1 1 3 0 3 0 3 3\n 3 1 3 2 0 0 2 2 0 3 3 2 3 2 3 3 0 0 2 2 3 3 0 0 2 0 3 3 3 3 0 2 2 3 1 3 1\n 1 2 0 2 3 1 1 0 0 0 0 1 0 3 0 0 0 2 0 3 3 1 3 2 3 1 2 3 3 1 1 3 0 0 1 3 3\n 1 3 1 0 1 1 0 2 3 1 2 0 2 3 1 1 0 0 3 2 0 2 3 1 1 3 0 2 0 1 2 0 3 0 0 3 2\n 3 3 3 1 0 2 3 2 0 3 0 2 0 0 2 0 3 0 0 3 3 3 3 2 3 0 2 3 1 3 2 0 1 3 1 0 3\n 2 3 0 3 1 2 3 3 0 0 3 3 3 3 1 3 2 3 3 3 1 3 3 3 1 3 3 3 1 3 0 2 3 3 1 1 0\n 2 3 3 0 2 0 0 1 3 2 0 3 2 3 1 1 1]",
         "239"
        ],
        [
         "7172207",
         "chr9",
         "61510435",
         "61510878",
         "[1 3 0 2 1 3 0 0 2 3 2 0 2 0 0 0 1 0 2 1 3 3 0 2 1 0 3 2 2 0 2 1 0 2 0 0 2\n 0 2 0 3 3 3 3 0 0 3 3 1 0 1 0 3 0 2 3 2 0 1 3 1 1 2 1 0 2 1 1 0 3 3 3 0 0\n 3 3 0 3 3 3 3 0 0 3 3 0 2 2 1 3 3 0 0 3 3 0 2 3 2 2 3 0 0 0 3 3 3 0 1 0 0\n 3 2 0 3 0 3 2 1 3 3 2 0 3 0 1 1 3 2 2 1 0 3 3 0 0 0 3 1 3 3 3 1 0 3 2 1 0\n 3 0 0 0 3 2 3 3 3 3 2 3 3 0 0 0 0 3 2 0 2 0 0 0 0 0 0 2 2 1 0 2 2 3 2 2 1\n 0 3 3 3 1 2 1 1 0 2 1 0 0 3 3 0 1 3 2 1 1 2 0 0 3 2 3 3 1 3 0 0 3 2 0 0 2\n 2 0 3 3 0 2 2 1 3 1 2 2 3 2 2 3 2 0 3 3 1 0 3 2 0 0 2 0 1 0 2 1 1 2 2 2 1\n 0 1 1 0 2 0 1 3 3 2 3 3 3 2 3 2 0 2 2 1 2 1 1 1 3 1 0 1 1 1 1 0 3 0 0 1 3\n 1 0 3 2 1 2 1 2 1 1 3 2 1 3 2 1 0 1 1 1 3 2 0 2 2 1 0 2 1 1 3 3 2 1 3 2 3\n 3 3 1 0 2 2 2 0 2 1 0 1 1 3 2 3 3 3 3 2 2 2 3 2 0 2 2 0 1 0 2 2 0 2 0 2 2\n 3 2 2 2 2 2 0 2 1 0 3 3 3 2 2 1 3 1 0 2 0 2 1 1 3 3 2 0 2 2 2 3 1 3 1 0 2\n 3 2 2 0 3 2 0 0 2 0 2 0 1 3 1 1 0 0 2 1 3 2 3 3 1 1 3 1 3 1 3 1 3 1 3 1]",
         "[2 0 3 1 2 0 3 3 1 0 1 3 1 3 3 3 2 3 1 2 0 0 3 1 2 3 0 1 1 3 1 2 3 1 3 3 1\n 3 1 3 0 0 0 0 3 3 0 0 2 3 2 3 0 3 1 0 1 3 2 0 2 2 1 2 3 1 2 2 3 0 0 0 3 3\n 0 0 3 0 0 0 0 3 3 0 0 3 1 1 2 0 0 3 3 0 0 3 1 0 1 1 0 3 3 3 0 0 0 3 2 3 3\n 0 1 3 0 3 0 1 2 0 0 1 3 0 3 2 2 0 1 1 2 3 0 0 3 3 3 0 2 0 0 0 2 3 0 1 2 3\n 0 3 3 3 0 1 0 0 0 0 1 0 0 3 3 3 3 0 1 3 1 3 3 3 3 3 3 1 1 2 3 1 1 0 1 1 2\n 3 0 0 0 2 1 2 2 3 1 2 3 3 0 0 3 2 0 1 2 2 1 3 3 0 1 0 0 2 0 3 3 0 1 3 3 1\n 1 3 0 0 3 1 1 2 0 2 1 1 0 1 1 0 1 3 0 0 2 3 0 1 3 3 1 3 2 3 1 2 2 1 1 1 2\n 3 2 2 3 1 3 2 0 0 1 0 0 0 1 0 1 3 1 1 2 1 2 2 2 0 2 3 2 2 2 2 3 0 3 3 2 0\n 2 3 0 1 2 1 2 1 2 2 0 1 2 0 1 2 3 2 2 2 0 1 3 1 1 2 3 1 2 2 0 0 1 2 0 1 0\n 0 0 2 3 1 1 1 3 1 2 3 2 2 0 1 0 0 0 0 1 1 1 0 1 3 1 1 3 2 3 1 1 3 1 3 1 1\n 0 1 1 1 1 1 3 1 2 3 0 0 0 1 1 2 0 2 3 1 3 1 2 2 0 0 1 3 1 1 1 0 2 0 2 3 1\n 0 1 1 3 0 1 3 3 1 3 1 3 2 0 2 2 3 3 1 2 0 1 0 0 2 2 0 2 0 2 0 2 0 2 0 2]",
         "443"
        ],
        [
         "3116452",
         "chr17",
         "36786430",
         "36786962",
         "[0 0 3 1 3 1 3 2 2 0 1 0 0 0 2 1 0 1 0 1 1 0 0 1 0 1 1 0 2 0 2 3 2 1 0 0 2\n 0 2 0 2 2 1 0 3 0 2 2 1 0 1 1 0 2 3 2 2 0 3 3 3 0 0 0 0 0 1 1 0 2 2 2 3 0\n 3 1 3 1 1 3 0 0 0 0 0 2 2 1 1 3 0 3 3 3 1 3 2 2 3 3 3 2 1 0 3 3 1 3 1 0 3\n 3 3 3 2 3 0 1 3 1 3 0 0 2 0 1 1 0 1 0 0 2 2 3 2 2 2 2 1 3 0 0 1 0 0 2 1 0\n 0 3 3 3 3 0 1 0 0 3 3 3 0 3 2 0 2 1 1 0 2 1 0 2 2 3 0 3 3 0 0 2 2 2 0 0 0\n 3 2 0 2 2 1 0 3 3 2 3 3 3 1 0 2 1 3 0 1 3 3 1 3 1 1 0 2 2 3 3 0 3 3 1 3 2\n 3 3 1 1 0 3 2 3 2 2 1 0 0 2 3 2 0 2 2 3 3 0 0 3 1 3 3 0 3 0 0 1 3 2 0 2 3\n 0 3 1 0 1 3 1 0 2 3 2 1 3 3 3 0 1 2 3 0 0 0 1 3 0 3 3 0 0 0 3 0 0 3 3 1 0\n 0 3 2 3 0 3 1 0 2 3 1 0 2 3 0 3 1 3 3 0 2 3 3 3 0 1 1 1 1 0 0 1 0 2 3 1 3\n 2 3 0 2 1 3 1 1 0 2 3 3 1 1 0 2 2 0 3 2 3 1 3 2 3 3 2 1 1 0 1 1 3 3 1 3 2\n 2 3 1 3 1 1 3 2 3 2 2 3 0 1 3 2 1 0 3 2 1 0 3 2 3 2 2 3 0 1 0 1 3 2 2 1 0\n 0 0 1 0 3 2 1 0 2 2 1 0 0 0 0 3 0 2 1 1 0 3 0 1 0 3 2 1 0 0 0 2 3 0 0 0 0\n 3 0 0 0 0 1 3 3 3 0 0 0 0 2 2 1 2 3 1 0 2 2 1 0 1 3 3 0 1 3 3 0 3 1 0 2 2\n 3 3 3 3 0 1 3 2 2 2 2 3 1 0 1 2 1 0 2 0 0 2 0 1 0 2 2 3 0 3 3 3 0 0 3 3 1\n 0 3 1 3 3 0 3 2 0 0 1 3 0 3]",
         "[3 3 0 2 0 2 0 1 1 3 2 3 3 3 1 2 3 2 3 2 2 3 3 2 3 2 2 3 1 3 1 0 1 2 3 3 1\n 3 1 3 1 1 2 3 0 3 1 1 2 3 2 2 3 1 0 1 1 3 0 0 0 3 3 3 3 3 2 2 3 1 1 1 0 3\n 0 2 0 2 2 0 3 3 3 3 3 1 1 2 2 0 3 0 0 0 2 0 1 1 0 0 0 1 2 3 0 0 2 0 2 3 0\n 0 0 0 1 0 3 2 0 2 0 3 3 1 3 2 2 3 2 3 3 1 1 0 1 1 1 1 2 0 3 3 2 3 3 1 2 3\n 3 0 0 0 0 3 2 3 3 0 0 0 3 0 1 3 1 2 2 3 1 2 3 1 1 0 3 0 0 3 3 1 1 1 3 3 3\n 0 1 3 1 1 2 3 0 0 1 0 0 0 2 3 1 2 0 3 2 0 0 2 0 2 2 3 1 1 0 0 3 0 0 2 0 1\n 0 0 2 2 3 0 1 0 1 1 2 3 3 1 0 1 3 1 1 0 0 3 3 0 2 0 0 3 0 3 3 2 0 1 3 1 0\n 3 0 2 3 2 0 2 3 1 0 1 2 0 0 0 3 2 1 0 3 3 3 2 0 3 0 0 3 3 3 0 3 3 0 0 2 3\n 3 0 1 0 3 0 2 3 1 0 2 3 1 0 3 0 2 0 0 3 1 0 0 0 3 2 2 2 2 3 3 2 3 1 0 2 0\n 1 0 3 1 2 0 2 2 3 1 0 0 2 2 3 1 1 3 0 1 0 2 0 1 0 0 1 2 2 3 2 2 0 0 2 0 1\n 1 0 2 0 2 2 0 1 0 1 1 0 3 2 0 1 2 3 0 1 2 3 0 1 0 1 1 0 3 2 3 2 0 1 1 2 3\n 3 3 2 3 0 1 2 3 1 1 2 3 3 3 3 0 3 1 2 2 3 0 3 2 3 0 1 2 3 3 3 1 0 3 3 3 3\n 0 3 3 3 3 2 0 0 0 3 3 3 3 1 1 2 1 0 2 3 1 1 2 3 2 0 0 3 2 0 0 3 0 2 3 1 1\n 0 0 0 0 3 2 0 1 1 1 1 0 2 3 2 1 2 3 1 3 3 1 3 2 3 1 1 0 3 0 0 0 3 3 0 0 2\n 3 0 2 0 0 3 0 1 3 3 2 0 3 0]",
         "532"
        ],
        [
         "4721214",
         "chr3",
         "157876652",
         "157877150",
         "[1 3 2 1 0 2 1 3 2 1 3 0 1 3 2 3 2 1 3 2 0 1 1 2 3 3 2 3 1 3 2 1 3 2 3 2 0\n 3 2 0 1 1 2 2 2 3 0 2 1 2 1 3 2 3 1 3 1 0 1 3 2 3 1 1 1 3 3 3 0 0 2 3 3 1\n 1 2 2 1 3 2 3 3 2 2 0 3 2 0 1 3 0 3 3 3 3 2 2 3 3 3 1 0 3 2 3 3 1 1 3 3 1\n 1 3 3 3 1 1 0 3 0 0 0 1 3 1 1 1 0 3 2 2 3 1 3 2 0 0 2 1 1 0 1 1 3 0 0 0 1\n 0 3 0 3 1 3 1 1 2 3 3 3 2 3 2 1 3 3 3 1 3 2 2 0 0 2 0 0 1 1 3 0 0 1 0 2 1\n 0 1 0 2 0 2 3 2 0 0 0 3 2 0 1 0 0 2 3 0 1 3 3 3 3 1 1 0 3 2 2 3 3 1 3 1 1\n 1 1 0 3 3 3 2 0 2 3 0 0 3 3 3 0 0 1 0 0 3 2 1 1 0 0 1 1 1 3 0 0 0 1 0 0 2\n 3 2 2 2 2 1 0 1 0 2 1 2 1 3 3 0 0 0 0 0 0 1 0 2 1 1 1 0 2 3 2 1 3 3 1 3 2\n 2 1 3 2 3 1 2 0 1 3 1 3 3 1 1 3 3 3 0 0 2 2 0 1 1 0 1 3 0 2 2 3 2 3 1 2 1\n 3 3 3 1 3 2 1 3 2 0 3 3 0 0 2 0 2 0 1 3 1 3 1 1 3 3 3 2 3 2 3 1 3 0 0 2 2\n 3 3 2 2 0 2 3 3 3 2 2 1 3 3 1 1 3 2 3 2 0 0 1 1 1 0 0 2 0 2 3 2 0 3 2 3 3\n 1 3 3 2 3 2 3 3 3 3 2 0 2 0 0 1 3 0 2 1 3 1 0 0 1 3 3 2 3 3 3 3 3 1 3 3 3\n 3 1 3 1 3 3 1 3 3 3 3 1 3 3 3 3 1 3 1 3 3 1 3 1 3 3 1 3 3 3 3 1 3 3 3 3 1\n 3 1 3 3 1 3 1 3 3 1 3 3 3 3 1 3 3]",
         "[2 0 1 2 3 1 2 0 1 2 0 3 2 0 1 0 1 2 0 1 3 2 2 1 0 0 1 0 2 0 1 2 0 1 0 1 3\n 0 1 3 2 2 1 1 1 0 3 1 2 1 2 0 1 0 2 0 2 3 2 0 1 0 2 2 2 0 0 0 3 3 1 0 0 2\n 2 1 1 2 0 1 0 0 1 1 3 0 1 3 2 0 3 0 0 0 0 1 1 0 0 0 2 3 0 1 0 0 2 2 0 0 2\n 2 0 0 0 2 2 3 0 3 3 3 2 0 2 2 2 3 0 1 1 0 2 0 1 3 3 1 2 2 3 2 2 0 3 3 3 2\n 3 0 3 0 2 0 2 2 1 0 0 0 1 0 1 2 0 0 0 2 0 1 1 3 3 1 3 3 2 2 0 3 3 2 3 1 2\n 3 2 3 1 3 1 0 1 3 3 3 0 1 3 2 3 3 1 0 3 2 0 0 0 0 2 2 3 0 1 1 0 0 2 0 2 2\n 2 2 3 0 0 0 1 3 1 0 3 3 0 0 0 3 3 2 3 3 0 1 2 2 3 3 2 2 2 0 3 3 3 2 3 3 1\n 0 1 1 1 1 2 3 2 3 1 2 1 2 0 0 3 3 3 3 3 3 2 3 1 2 2 2 3 1 0 1 2 0 0 2 0 1\n 1 2 0 1 0 2 1 3 2 0 2 0 0 2 2 0 0 0 3 3 1 1 3 2 2 3 2 0 3 1 1 0 1 0 2 1 2\n 0 0 0 2 0 1 2 0 1 3 0 0 3 3 1 3 1 3 2 0 2 0 2 2 0 0 0 1 0 1 0 2 0 3 3 1 1\n 0 0 1 1 3 1 0 0 0 1 1 2 0 0 2 2 0 1 0 1 3 3 2 2 2 3 3 1 3 1 0 1 3 0 1 0 0\n 2 0 0 1 0 1 0 0 0 0 1 3 1 3 3 2 0 3 1 2 0 2 3 3 2 0 0 1 0 0 0 0 0 2 0 0 0\n 0 2 0 2 0 0 2 0 0 0 0 2 0 0 0 0 2 0 2 0 0 2 0 2 0 0 2 0 0 0 0 2 0 0 0 0 2\n 0 2 0 0 2 0 2 0 0 2 0 0 0 0 2 0 0]",
         "498"
        ],
        [
         "6437573",
         "chr7",
         "109892581",
         "109892837",
         "[2 3 2 3 2 1 1 1 0 2 2 1 3 3 0 0 2 1 3 1 0 1 2 0 1 0 3 0 1 0 2 1 3 2 0 0 1\n 0 3 1 0 3 2 1 3 0 2 1 1 3 3 3 1 3 0 2 2 2 2 0 1 1 0 0 0 0 0 3 3 1 3 1 1 3\n 3 1 3 2 3 0 1 3 1 1 0 2 0 2 0 1 0 1 0 2 1 1 1 0 0 1 1 3 1 3 3 1 3 1 3 1 3\n 3 1 1 3 1 3 1 3 3 1 3 1 1 1 3 2 1 0 0 0 2 2 0 2 1 3 2 0 2 2 3 1 3 1 0 2 3\n 1 3 2 3 0 2 1 1 1 0 1 3 1 0 1 3 1 1 1 1 1 3 2 1 1 2 2 1 0 2 2 0 1 0 1 1 0\n 1 0 0 3 2 3 2 2 1 3 3 3 1 1 3 2 0 0 2 1 1 3 1 1 3 1 1 3 1 0 3 1 3 1 3 3 2\n 1 0 0 0 0 0 1 0 3 1 1 3 2 3 2 1 0 1 3 1 0 1 0 0 2 1 3 2 1 3 1 0 1 0]",
         "[1 0 1 0 1 2 2 2 3 1 1 2 0 0 3 3 1 2 0 2 3 2 1 3 2 3 0 3 2 3 1 2 0 1 3 3 2\n 3 0 2 3 0 1 2 0 3 1 2 2 0 0 0 2 0 3 1 1 1 1 3 2 2 3 3 3 3 3 0 0 2 0 2 2 0\n 0 2 0 1 0 3 2 0 2 2 3 1 3 1 3 2 3 2 3 1 2 2 2 3 3 2 2 0 2 0 0 2 0 2 0 2 0\n 0 2 2 0 2 0 2 0 0 2 0 2 2 2 0 1 2 3 3 3 1 1 3 1 2 0 1 3 1 1 0 2 0 2 3 1 0\n 2 0 1 0 3 1 2 2 2 3 2 0 2 3 2 0 2 2 2 2 2 0 1 2 2 1 1 2 3 1 1 3 2 3 2 2 3\n 2 3 3 0 1 0 1 1 2 0 0 0 2 2 0 1 3 3 1 2 2 0 2 2 0 2 2 0 2 3 0 2 0 2 0 0 1\n 2 3 3 3 3 3 2 3 0 2 2 0 1 0 1 2 3 2 0 2 3 2 3 3 1 2 0 1 2 0 2 3 2 3]",
         "256"
        ],
        [
         "6018433",
         "chr6",
         "116338023",
         "116338391",
         "[3 1 2 2 1 2 3 1 1 3 1 3 1 2 1 3 2 2 2 3 2 2 3 2 3 0 2 2 1 3 2 1 2 1 2 1 3\n 2 0 1 1 1 0 2 1 2 2 1 1 1 3 2 1 3 2 1 2 3 1 1 2 2 1 1 1 2 2 2 3 1 0 3 2 1\n 0 2 2 0 0 2 1 2 2 2 1 1 2 1 2 1 2 3 2 2 0 2 1 3 1 1 2 1 2 1 1 1 0 1 1 3 2\n 0 2 1 3 2 1 3 1 2 1 2 1 1 2 0 2 2 3 2 1 2 2 1 2 3 2 2 1 2 2 2 2 1 1 2 1 2\n 1 2 1 3 1 1 2 2 2 1 1 0 1 1 0 2 2 2 2 3 2 3 2 2 1 1 2 1 3 2 2 2 0 2 2 1 1\n 2 1 2 0 1 0 2 2 3 2 2 2 3 2 1 2 1 2 2 0 2 2 3 1 3 1 2 2 2 1 1 2 2 2 2 0 2\n 0 2 2 1 1 2 1 2 3 2 1 3 2 1 2 2 2 2 1 2 2 2 2 3 1 1 2 2 3 1 0 1 1 1 3 0 3\n 1 2 2 1 2 2 2 1 2 2 1 1 2 0 0 2 2 3 1 3 1 2 2 2 1 3 1 3 1 3 1 0 2 2 3 2 0\n 0 2 3 1 1 3 2 1 1 1 2 2 2 1 3 2 2 2 1 3 2 3 2 0 2 2 2 1 2 1 2 1 0 1 1 2 2\n 2 1 0 0 1 1 1 3 1 1 1 3 1 1 1 3 2 1 1 3 1 3 2 1 3 3 1 0 2 3 1 3 1 1 2]",
         "[0 2 1 1 2 1 0 2 2 0 2 0 2 1 2 0 1 1 1 0 1 1 0 1 0 3 1 1 2 0 1 2 1 2 1 2 0\n 1 3 2 2 2 3 1 2 1 1 2 2 2 0 1 2 0 1 2 1 0 2 2 1 1 2 2 2 1 1 1 0 2 3 0 1 2\n 3 1 1 3 3 1 2 1 1 1 2 2 1 2 1 2 1 0 1 1 3 1 2 0 2 2 1 2 1 2 2 2 3 2 2 0 1\n 3 1 2 0 1 2 0 2 1 2 1 2 2 1 3 1 1 0 1 2 1 1 2 1 0 1 1 2 1 1 1 1 2 2 1 2 1\n 2 1 2 0 2 2 1 1 1 2 2 3 2 2 3 1 1 1 1 0 1 0 1 1 2 2 1 2 0 1 1 1 3 1 1 2 2\n 1 2 1 3 2 3 1 1 0 1 1 1 0 1 2 1 2 1 1 3 1 1 0 2 0 2 1 1 1 2 2 1 1 1 1 3 1\n 3 1 1 2 2 1 2 1 0 1 2 0 1 2 1 1 1 1 2 1 1 1 1 0 2 2 1 1 0 2 3 2 2 2 0 3 0\n 2 1 1 2 1 1 1 2 1 1 2 2 1 3 3 1 1 0 2 0 2 1 1 1 2 0 2 0 2 0 2 3 1 1 0 1 3\n 3 1 0 2 2 0 1 2 2 2 1 1 1 2 0 1 1 1 2 0 1 0 1 3 1 1 1 2 1 2 1 2 3 2 2 1 1\n 1 2 3 3 2 2 2 0 2 2 2 0 2 2 2 0 1 2 2 0 2 0 1 2 0 0 2 3 1 0 2 0 2 2 1]",
         "368"
        ],
        [
         "4441748",
         "chr3",
         "59059288",
         "59059717",
         "[1 1 0 3 3 3 0 3 2 3 0 3 3 2 2 0 3 1 1 3 2 2 3 0 1 3 1 1 3 3 3 2 0 1 1 0 2\n 0 0 3 3 1 3 3 1 0 2 3 2 1 1 3 3 3 3 0 0 0 1 0 3 3 3 2 3 2 0 0 0 2 2 1 3 2\n 3 0 1 3 1 1 1 2 3 2 0 0 2 3 1 2 1 3 2 1 1 3 2 2 2 3 3 2 1 3 2 2 1 3 3 2 0\n 2 0 1 1 2 3 3 1 3 3 2 2 0 3 2 2 0 3 2 0 0 3 2 3 3 3 1 0 1 3 0 2 3 2 1 1 1\n 3 1 3 3 2 3 2 2 3 1 0 3 3 3 3 0 1 0 0 3 1 2 1 3 3 2 2 2 0 0 1 1 3 1 3 0 2\n 1 3 2 1 3 2 2 0 2 1 1 3 1 3 2 1 3 3 1 1 0 3 3 2 1 3 2 1 3 3 1 3 2 1 1 3 2\n 3 2 0 0 0 1 3 1 0 3 3 3 2 3 2 1 3 3 1 1 1 3 3 1 3 0 2 0 0 2 3 2 0 1 0 2 0\n 1 3 2 1 1 0 1 1 1 3 3 1 0 3 1 3 1 1 1 1 3 1 1 1 2 0 2 3 1 1 1 0 1 0 2 1 0\n 1 0 1 1 0 2 0 2 1 0 3 1 3 1 3 1 1 1 0 1 3 2 1 3 2 1 3 2 2 3 1 1 1 3 1 3 2\n 1 0 1 0 1 1 1 0 3 2 3 1 3 1 3 1 3 2 2 0 1 1 3 1 0 3 1 0 0 3 2 0 1 2 3 2 1\n 1 3 1 2 2 2 3 2 2 3 3 3 1 3 1 3 1 3 3 0 0 3 3 1 3 1 3 3 0 2 0 0 2 3 3 1 1\n 1 0 2 2 0 2 0 0 1 1 3 1 1 0 2 1 1 1 2 3 2 3]",
         "[2 2 3 0 0 0 3 0 1 0 3 0 0 1 1 3 0 2 2 0 1 1 0 3 2 0 2 2 0 0 0 1 3 2 2 3 1\n 3 3 0 0 2 0 0 2 3 1 0 1 2 2 0 0 0 0 3 3 3 2 3 0 0 0 1 0 1 3 3 3 1 1 2 0 1\n 0 3 2 0 2 2 2 1 0 1 3 3 1 0 2 1 2 0 1 2 2 0 1 1 1 0 0 1 2 0 1 1 2 0 0 1 3\n 1 3 2 2 1 0 0 2 0 0 1 1 3 0 1 1 3 0 1 3 3 0 1 0 0 0 2 3 2 0 3 1 0 1 2 2 2\n 0 2 0 0 1 0 1 1 0 2 3 0 0 0 0 3 2 3 3 0 2 1 2 0 0 1 1 1 3 3 2 2 0 2 0 3 1\n 2 0 1 2 0 1 1 3 1 2 2 0 2 0 1 2 0 0 2 2 3 0 0 1 2 0 1 2 0 0 2 0 1 2 2 0 1\n 0 1 3 3 3 2 0 2 3 0 0 0 1 0 1 2 0 0 2 2 2 0 0 2 0 3 1 3 3 1 0 1 3 2 3 1 3\n 2 0 1 2 2 3 2 2 2 0 0 2 3 0 2 0 2 2 2 2 0 2 2 2 1 3 1 0 2 2 2 3 2 3 1 2 3\n 2 3 2 2 3 1 3 1 2 3 0 2 0 2 0 2 2 2 3 2 0 1 2 0 1 2 0 1 1 0 2 2 2 0 2 0 1\n 2 3 2 3 2 2 2 3 0 1 0 2 0 2 0 2 0 1 1 3 2 2 0 2 3 0 2 3 3 0 1 3 2 1 0 1 2\n 2 0 2 1 1 1 0 1 1 0 0 0 2 0 2 0 2 0 0 3 3 0 0 2 0 2 0 0 3 1 3 3 1 0 0 2 2\n 2 3 1 1 3 1 3 3 2 2 0 2 2 3 1 2 2 2 1 0 1 0]",
         "429"
        ],
        [
         "5759701",
         "chr6",
         "29658474",
         "29658662",
         "[3 1 0 2 3 2 2 2 3 0 0 2 0 2 1 0 1 1 1 2 0 1 3 2 1 3 1 3 3 1 1 0 0 0 2 2 3\n 1 0 2 2 0 2 3 3 1 0 0 0 3 1 1 1 0 2 1 0 0 1 1 0 1 0 3 2 2 3 2 2 1 3 1 0 1\n 0 0 1 1 0 3 1 1 2 3 0 0 1 2 0 2 0 3 1 3 2 0 1 3 1 1 1 3 1 3 3 1 3 2 2 0 2\n 3 2 3 1 3 2 0 2 2 0 1 0 2 1 3 0 1 0 2 3 2 3 0 1 3 3 0 1 0 0 3 0 0 0 3 0 0\n 0 3 0 0 0 3 0 0 0 3 0 0 0 3 1 3 3 0 0 0 0 0 0 0 0 0 0 0 0 0 0 0 0 0 0 0 0\n 0 0 0]",
         "[0 2 3 1 0 1 1 1 0 3 3 1 3 1 2 3 2 2 2 1 3 2 0 1 2 0 2 0 0 2 2 3 3 3 1 1 0\n 2 3 1 1 3 1 0 0 2 3 3 3 0 2 2 2 3 1 2 3 3 2 2 3 2 3 0 1 1 0 1 1 2 0 2 3 2\n 3 3 2 2 3 0 2 2 1 0 3 3 2 1 3 1 3 0 2 0 1 3 2 0 2 2 2 0 2 0 0 2 0 1 1 3 1\n 0 1 0 2 0 1 3 1 1 3 2 3 1 2 0 3 2 3 1 0 1 0 3 2 0 0 3 2 3 3 0 3 3 3 0 3 3\n 3 0 3 3 3 0 3 3 3 0 3 3 3 0 2 0 0 3 3 3 3 3 3 3 3 3 3 3 3 3 3 3 3 3 3 3 3\n 3 3 3]",
         "188"
        ],
        [
         "1661380",
         "chr12",
         "102112623",
         "102112811",
         "[1 3 2 2 1 3 1 1 3 1 0 1 3 3 1 0 1 3 2 3 3 3 1 1 0 3 0 2 1 0 0 1 0 1 3 1 1\n 3 1 0 0 0 1 0 1 1 0 1 3 3 1 1 3 0 1 3 1 3 2 0 0 3 0 1 0 1 0 0 3 2 3 0 0 0\n 1 0 0 3 1 3 2 1 3 2 3 3 2 0 0 1 0 3 3 3 1 1 1 0 0 3 3 3 0 2 2 2 2 0 3 3 2\n 2 0 2 1 1 0 0 0 2 1 3 2 0 2 0 2 2 1 1 3 2 3 2 0 3 3 0 2 0 2 0 2 2 0 0 2 2\n 3 2 0 2 1 3 2 1 3 2 0 2 0 0 2 3 2 2 2 0 3 3 1 3 2 2 3 0 3 1 1 0 1 3 1 0 2\n 1 2 2]",
         "[2 0 1 1 2 0 2 2 0 2 3 2 0 0 2 3 2 0 1 0 0 0 2 2 3 0 3 1 2 3 3 2 3 2 0 2 2\n 0 2 3 3 3 2 3 2 2 3 2 0 0 2 2 0 3 2 0 2 0 1 3 3 0 3 2 3 2 3 3 0 1 0 3 3 3\n 2 3 3 0 2 0 1 2 0 1 0 0 1 3 3 2 3 0 0 0 2 2 2 3 3 0 0 0 3 1 1 1 1 3 0 0 1\n 1 3 1 2 2 3 3 3 1 2 0 1 3 1 3 1 1 2 2 0 1 0 1 3 0 0 3 1 3 1 3 1 1 3 3 1 1\n 0 1 3 1 2 0 1 2 0 1 3 1 3 3 1 0 1 1 1 3 0 0 2 0 1 1 0 3 0 2 2 3 2 0 2 3 1\n 2 1 1]",
         "188"
        ],
        [
         "7411482",
         "chrUn_GL456370",
         "26173",
         "26731",
         "[3 2 2 3 2 3 3 3 3 3 0 3 1 2 3 0 2 0 0 0 0 0 3 3 2 3 1 0 2 0 0 0 0 0 3 1 0\n 3 3 3 3 0 3 3 0 3 0 2 0 2 3 2 3 2 3 1 2 3 0 3 0 0 1 0 1 3 2 3 0 3 2 3 2 1\n 0 2 0 1 0 1 3 0 0 2 3 1 1 2 3 1 1 0 2 0 2 2 3 1 1 0 3 1 1 3 2 3 1 2 1 2 2\n 2 2 3 1 0 0 2 1 3 3 1 0 2 0 0 0 0 3 1 0 1 3 1 0 1 0 2 3 1 0 3 2 1 1 1 1 3\n 2 1 1 3 1 0 2 0 0 0 0 3 1 0 1 3 1 0 1 3 2 3 1 0 3 1 1 1 1 1 3 2 1 1 3 1 0\n 2 0 0 0 0 3 1 0 1 3 1 0 1 2 2 3 1 0 1 1 1 1 1 3 2 1 1 3 1 0 2 0 0 0 0 3 0\n 0 1 3 1 0 1 2 2 3 1 0 3 1 1 1 1 1 3 2 1 1 3 1 0 2 0 0 0 0 3 1 0 1 3 1 0 1\n 3 2 3 1 0 3 1 1 1 1 1 3 2 1 1 3 1 0 2 0 0 0 0 3 1 0 1 3 1 0 1 0 2 3 1 0 3\n 1 1 1 1 1 3 1 1 1 3 1 0 2 0 0 0 0 3 1 0 1 3 1 0 1 0 2 3 1 0 3 1 1 1 3 1 3\n 2 1 1 3 1 0 2 0 0 0 0 3 1 0 1 3 1 0 1 0 2 3 1 0 3 2 1 1 1 1 3 2 1 1 3 1 0\n 2 0 0 0 0 3 1 0 1 3 1 0 1 0 2 3 1 0 3 1 1 1 1 1 3 2 1 1 3 1 0 2 0 0 0 0 3\n 1 0 1 3 1 0 1 0 2 3 1 0 3 1 1 1 1 1 3 2 1 1 3 0 2 1 3 3 1 3 2 1 3 0 2 2 3\n 0 0 0 1 3 0 2 0 3 0 3 0 2 0 2 1 0 3 3 3 0 1 0 2 0 3 1 0 3 3 3 1 1 1 0 0 2\n 3 1 3 1 1 3 3 0 2 0 1 0 1 0 3 2 3 2 0 1 2 1 3 1 3 1 3 2 1 3 0 3 3 2 3 1 3\n 3 2 3 2 0 1 0 3 0 3 0 3 3 0 1 0 3 1 3 0 3 3 0 3 0 1 0 3 0 3 3 0 0 0 3 0 3\n 2 1 3]",
         "[0 1 1 0 1 0 0 0 0 0 3 0 2 1 0 3 1 3 3 3 3 3 0 0 1 0 2 3 1 3 3 3 3 3 0 2 3\n 0 0 0 0 3 0 0 3 0 3 1 3 1 0 1 0 1 0 2 1 0 3 0 3 3 2 3 2 0 1 0 3 0 1 0 1 2\n 3 1 3 2 3 2 0 3 3 1 0 2 2 1 0 2 2 3 1 3 1 1 0 2 2 3 0 2 2 0 1 0 2 1 2 1 1\n 1 1 0 2 3 3 1 2 0 0 2 3 1 3 3 3 3 0 2 3 2 0 2 3 2 3 1 0 2 3 0 1 2 2 2 2 0\n 1 2 2 0 2 3 1 3 3 3 3 0 2 3 2 0 2 3 2 0 1 0 2 3 0 2 2 2 2 2 0 1 2 2 0 2 3\n 1 3 3 3 3 0 2 3 2 0 2 3 2 1 1 0 2 3 2 2 2 2 2 0 1 2 2 0 2 3 1 3 3 3 3 0 3\n 3 2 0 2 3 2 1 1 0 2 3 0 2 2 2 2 2 0 1 2 2 0 2 3 1 3 3 3 3 0 2 3 2 0 2 3 2\n 0 1 0 2 3 0 2 2 2 2 2 0 1 2 2 0 2 3 1 3 3 3 3 0 2 3 2 0 2 3 2 3 1 0 2 3 0\n 2 2 2 2 2 0 2 2 2 0 2 3 1 3 3 3 3 0 2 3 2 0 2 3 2 3 1 0 2 3 0 2 2 2 0 2 0\n 1 2 2 0 2 3 1 3 3 3 3 0 2 3 2 0 2 3 2 3 1 0 2 3 0 1 2 2 2 2 0 1 2 2 0 2 3\n 1 3 3 3 3 0 2 3 2 0 2 3 2 3 1 0 2 3 0 2 2 2 2 2 0 1 2 2 0 2 3 1 3 3 3 3 0\n 2 3 2 0 2 3 2 3 1 0 2 3 0 2 2 2 2 2 0 1 2 2 0 3 1 2 0 0 2 0 1 2 0 3 1 1 0\n 3 3 3 2 0 3 1 3 0 3 0 3 1 3 1 2 3 0 0 0 3 2 3 1 3 0 2 3 0 0 0 2 2 2 3 3 1\n 0 2 0 2 2 0 0 3 1 3 2 3 2 3 0 1 0 1 3 2 1 2 0 2 0 2 0 1 2 0 3 0 0 1 0 2 0\n 0 1 0 1 3 2 3 0 3 0 3 0 0 3 2 3 0 2 0 3 0 0 3 0 3 2 3 0 3 0 0 3 3 3 0 3 0\n 1 2 0]",
         "558"
        ],
        [
         "593535",
         "chr10",
         "37263701",
         "37263822",
         "[3 1 1 0 3 3 1 1 0 3 3 1 1 0 1 3 1 1 0 1 3 1 1 0 1 3 1 1 0 1 3 1 1 0 1 3 1\n 1 0 1 3 1 1 0 1 3 1 1 0 1 3 1 1 0 1 3 1 1 0 1 3 1 1 0 1 3 1 1 0 3 3 1 1 0\n 3 3 1 1 0 3 3 1 1 0 3 3 1 1 0 1 3 1 1 0 3 3 1 1 0 3 3 1 3 0 3 3 1 3 0 3 3\n 1 3 0 3 3 2 3 0 0 1]",
         "[0 2 2 3 0 0 2 2 3 0 0 2 2 3 2 0 2 2 3 2 0 2 2 3 2 0 2 2 3 2 0 2 2 3 2 0 2\n 2 3 2 0 2 2 3 2 0 2 2 3 2 0 2 2 3 2 0 2 2 3 2 0 2 2 3 2 0 2 2 3 0 0 2 2 3\n 0 0 2 2 3 0 0 2 2 3 0 0 2 2 3 2 0 2 2 3 0 0 2 2 3 0 0 2 0 3 0 0 2 0 3 0 0\n 2 0 3 0 0 1 0 3 3 2]",
         "121"
        ],
        [
         "2156535",
         "chr14",
         "32201630",
         "32201982",
         "[1 1 1 2 0 3 0 1 3 1 0 1 2 1 2 2 2 0 1 2 1 1 2 2 1 1 0 0 0 3 1 0 2 1 2 3 3\n 1 2 0 2 3 0 0 1 1 1 2 1 3 1 1 3 1 1 2 2 1 3 1 1 2 0 0 2 0 0 2 1 1 0 2 1 3\n 0 0 1 1 1 2 1 3 2 2 3 2 2 0 3 3 3 2 3 3 2 1 3 0 1 3 3 1 1 3 1 1 2 1 1 0 1\n 1 3 3 1 1 0 3 2 0 2 2 3 1 2 1 0 2 1 0 0 0 1 2 2 1 2 2 3 2 2 2 1 3 1 2 1 1\n 0 1 1 0 1 1 0 1 1 3 1 0 2 2 1 1 2 2 2 2 0 1 2 3 0 3 2 1 3 1 2 2 1 1 2 3 2\n 2 1 1 2 1 2 0 1 0 0 2 1 0 0 1 0 2 1 2 2 2 0 0 2 0 1 1 1 2 1 2 3 3 2 1 3 1\n 1 3 2 1 1 0 1 1 3 3 1 0 1 1 0 1 2 1 3 2 0 1 1 3 3 1 1 2 2 2 1 2 1 1 2 2 1\n 3 1 1 1 2 3 2 0 0 2 3 0 3 1 2 1 0 1 3 3 1 1 2 1 3 3 3 0 1 2 2 1 3 2 3 2 3\n 2 1 2 2 1 1 1 2 2 0 0 2 3 2 2 2 0 0 2 1 2 1 2 0 2 0 1 2 2 1 3 2 1 3 3 3 1\n 1 2 2 3 2 2 3 2 2 2 0 0 0 2 3 2 0 2 1]",
         "[2 2 2 1 3 0 3 2 0 2 3 2 1 2 1 1 1 3 2 1 2 2 1 1 2 2 3 3 3 0 2 3 1 2 1 0 0\n 2 1 3 1 0 3 3 2 2 2 1 2 0 2 2 0 2 2 1 1 2 0 2 2 1 3 3 1 3 3 1 2 2 3 1 2 0\n 3 3 2 2 2 1 2 0 1 1 0 1 1 3 0 0 0 1 0 0 1 2 0 3 2 0 0 2 2 0 2 2 1 2 2 3 2\n 2 0 0 2 2 3 0 1 3 1 1 0 2 1 2 3 1 2 3 3 3 2 1 1 2 1 1 0 1 1 1 2 0 2 1 2 2\n 3 2 2 3 2 2 3 2 2 0 2 3 1 1 2 2 1 1 1 1 3 2 1 0 3 0 1 2 0 2 1 1 2 2 1 0 1\n 1 2 2 1 2 1 3 2 3 3 1 2 3 3 2 3 1 2 1 1 1 3 3 1 3 2 2 2 1 2 1 0 0 1 2 0 2\n 2 0 1 2 2 3 2 2 0 0 2 3 2 2 3 2 1 2 0 1 3 2 2 0 0 2 2 1 1 1 2 1 2 2 1 1 2\n 0 2 2 2 1 0 1 3 3 1 0 3 0 2 1 2 3 2 0 0 2 2 1 2 0 0 0 3 2 1 1 2 0 1 0 1 0\n 1 2 1 1 2 2 2 1 1 3 3 1 0 1 1 1 3 3 1 2 1 2 1 3 1 3 2 1 1 2 0 1 2 0 0 0 2\n 2 1 1 0 1 1 0 1 1 1 3 3 3 1 0 1 3 1 2]",
         "352"
        ],
        [
         "524948",
         "chr10",
         "8242421",
         "8242665",
         "[0 3 0 1 3 2 0 0 2 3 0 0 3 3 1 3 0 2 3 0 0 3 2 2 0 0 0 2 1 0 3 3 3 1 0 0 0\n 1 0 1 0 0 2 2 3 0 0 0 0 2 2 0 2 0 2 2 0 1 0 1 2 3 2 0 2 3 3 1 3 1 0 0 2 1\n 3 3 3 3 2 0 0 2 0 0 2 2 0 0 0 2 3 3 0 3 2 2 2 3 3 3 1 0 1 1 0 2 2 1 1 0 1\n 0 1 0 2 3 3 1 1 2 3 1 1 0 1 1 0 2 1 3 0 2 2 3 2 2 1 2 1 3 0 3 3 2 0 0 1 0\n 0 3 0 1 3 0 0 1 3 3 2 2 3 3 0 1 3 0 3 3 2 0 0 1 0 0 2 0 1 3 0 0 1 3 1 0 2\n 3 3 0 1 3 2 2 3 1 1 1 2 1 1 0 2 0 0 1 3 2 1 3 3 1 3 0 3 3 0 1 0 3 0 3 0 2\n 3 1 0 2 2 3 2 1 3 1 3 3 3 2 3 3 3 3 3 0 0 0]",
         "[3 0 3 2 0 1 3 3 1 0 3 3 0 0 2 0 3 1 0 3 3 0 1 1 3 3 3 1 2 3 0 0 0 2 3 3 3\n 2 3 2 3 3 1 1 0 3 3 3 3 1 1 3 1 3 1 1 3 2 3 2 1 0 1 3 1 0 0 2 0 2 3 3 1 2\n 0 0 0 0 1 3 3 1 3 3 1 1 3 3 3 1 0 0 3 0 1 1 1 0 0 0 2 3 2 2 3 1 1 2 2 3 2\n 3 2 3 1 0 0 2 2 1 0 2 2 3 2 2 3 1 2 0 3 1 1 0 1 1 2 1 2 0 3 0 0 1 3 3 2 3\n 3 0 3 2 0 3 3 2 0 0 1 1 0 0 3 2 0 3 0 0 1 3 3 2 3 3 1 3 2 0 3 3 2 0 2 3 1\n 0 0 3 2 0 1 1 0 2 2 2 1 2 2 3 1 3 3 2 0 1 2 0 0 2 0 3 0 0 3 2 3 0 3 0 3 1\n 0 2 3 1 1 0 1 2 0 2 0 0 0 1 0 0 0 0 0 3 3 3]",
         "244"
        ],
        [
         "6855480",
         "chr8",
         "103231165",
         "103231478",
         "[1 1 1 3 2 1 2 3 1 3 2 2 1 0 2 2 1 3 3 1 0 3 2 1 0 2 2 2 2 0 2 3 2 0 0 0 0\n 3 3 0 2 0 2 1 3 1 0 1 0 3 3 3 3 1 0 0 3 2 1 1 3 3 3 2 1 0 2 3 3 3 3 3 2 1\n 3 1 2 2 3 2 3 1 0 2 3 3 3 3 2 3 3 3 2 3 1 3 3 1 1 3 1 3 2 2 1 3 2 0 1 3 2\n 3 1 3 3 1 1 2 3 2 3 1 3 1 1 2 2 0 1 3 2 1 3 2 0 2 2 3 1 3 3 1 1 0 2 0 0 2\n 3 3 2 1 3 3 3 1 0 0 2 1 1 0 0 0 2 0 0 0 2 3 0 0 0 0 1 1 0 0 2 1 3 0 1 1 0\n 3 2 0 0 0 0 2 2 2 3 2 2 2 2 0 2 1 3 3 2 0 2 3 1 0 2 0 2 0 2 2 0 2 2 0 0 0\n 2 2 0 0 2 2 0 0 2 2 2 0 0 0 2 0 0 0 1 3 2 3 1 1 1 1 1 0 1 3 1 2 2 1 0 3 3\n 3 1 2 3 2 0 0 0 1 1 3 1 0 1 3 3 1 1 1 0 2 1 1 3 1 0 3 0 3 3 2 2 1 3 1 3 2\n 1 1 0 3 3 3 1 3 2 1 3 3 2 1 1 1 1]",
         "[2 2 2 0 1 2 1 0 2 0 1 1 2 3 1 1 2 0 0 2 3 0 1 2 3 1 1 1 1 3 1 0 1 3 3 3 3\n 0 0 3 1 3 1 2 0 2 3 2 3 0 0 0 0 2 3 3 0 1 2 2 0 0 0 1 2 3 1 0 0 0 0 0 1 2\n 0 2 1 1 0 1 0 2 3 1 0 0 0 0 1 0 0 0 1 0 2 0 0 2 2 0 2 0 1 1 2 0 1 3 2 0 1\n 0 2 0 0 2 2 1 0 1 0 2 0 2 2 1 1 3 2 0 1 2 0 1 3 1 1 0 2 0 0 2 2 3 1 3 3 1\n 0 0 1 2 0 0 0 2 3 3 1 2 2 3 3 3 1 3 3 3 1 0 3 3 3 3 2 2 3 3 1 2 0 3 2 2 3\n 0 1 3 3 3 3 1 1 1 0 1 1 1 1 3 1 2 0 0 1 3 1 0 2 3 1 3 1 3 1 1 3 1 1 3 3 3\n 1 1 3 3 1 1 3 3 1 1 1 3 3 3 1 3 3 3 2 0 1 0 2 2 2 2 2 3 2 0 2 1 1 2 3 0 0\n 0 2 1 0 1 3 3 3 2 2 0 2 3 2 0 0 2 2 2 3 1 2 2 0 2 3 0 3 0 0 1 1 2 0 2 0 1\n 2 2 3 0 0 0 2 0 1 2 0 0 1 2 2 2 2]",
         "313"
        ],
        [
         "2194196",
         "chr14",
         "48358832",
         "48359077",
         "[0 1 3 3 1 1 0 0 3 0 3 3 2 3 2 0 3 0 0 0 3 2 0 3 1 3 2 2 2 3 2 2 0 0 0 2 3\n 2 1 0 3 0 3 2 1 0 2 3 1 1 3 1 0 2 2 2 0 3 0 1 1 3 3 3 1 1 1 3 3 1 3 1 1 0\n 3 3 0 0 1 1 3 3 3 0 2 1 3 2 3 1 0 2 1 0 2 1 3 1 3 3 1 1 1 2 1 3 2 1 1 1 3\n 2 1 0 3 1 3 1 0 0 2 0 0 2 1 0 2 3 3 2 0 0 1 0 3 3 2 1 3 2 1 1 0 3 1 3 3 3\n 3 2 0 1 1 0 0 0 2 0 1 0 2 3 2 1 1 0 1 0 2 2 3 0 1 3 0 0 0 0 2 1 1 0 1 2 2\n 1 3 0 2 0 0 3 0 3 2 2 2 0 3 3 1 3 1 0 1 2 2 1 3 2 1 1 3 1 2 2 0 2 3 2 1 3\n 0 1 2 0 0 0 0 3 1 3 1 0 1 1 0 1 3 2 0 2 2 3 1]",
         "[3 2 0 0 2 2 3 3 0 3 0 0 1 0 1 3 0 3 3 3 0 1 3 0 2 0 1 1 1 0 1 1 3 3 3 1 0\n 1 2 3 0 3 0 1 2 3 1 0 2 2 0 2 3 1 1 1 3 0 3 2 2 0 0 0 2 2 2 0 0 2 0 2 2 3\n 0 0 3 3 2 2 0 0 0 3 1 2 0 1 0 2 3 1 2 3 1 2 0 2 0 0 2 2 2 1 2 0 1 2 2 2 0\n 1 2 3 0 2 0 2 3 3 1 3 3 1 2 3 1 0 0 1 3 3 2 3 0 0 1 2 0 1 2 2 3 0 2 0 0 0\n 0 1 3 2 2 3 3 3 1 3 2 3 1 0 1 2 2 3 2 3 1 1 0 3 2 0 3 3 3 3 1 2 2 3 2 1 1\n 2 0 3 1 3 3 0 3 0 1 1 1 3 0 0 2 0 2 3 2 1 1 2 0 1 2 2 0 2 1 1 3 1 0 1 2 0\n 3 2 1 3 3 3 3 0 2 0 2 3 2 2 3 2 0 1 3 1 1 0 2]",
         "245"
        ],
        [
         "2774523",
         "chr16",
         "23547867",
         "23548100",
         "[0 3 3 3 3 3 2 3 3 2 1 3 0 1 3 3 1 0 3 0 0 1 3 2 3 0 0 3 3 3 3 2 0 3 0 3 3\n 3 0 3 2 0 1 3 1 0 3 0 0 3 2 3 0 0 0 3 0 3 1 3 2 3 0 3 3 3 3 1 3 2 0 3 2 2\n 3 3 2 1 0 2 2 2 2 0 0 1 1 1 3 2 3 2 0 0 0 2 2 2 3 1 0 3 3 1 0 0 3 0 1 1 1\n 1 3 0 2 2 2 2 2 1 2 1 0 0 1 1 1 2 1 0 2 2 3 3 2 0 2 0 0 1 1 0 1 3 2 1 3 1\n 3 3 2 0 1 0 2 0 2 3 0 1 3 3 1 3 1 1 1 0 1 1 3 3 2 0 3 2 2 3 2 3 2 3 0 1 1\n 1 3 1 3 2 1 3 1 1 1 3 2 3 3 3 3 3 3 2 3 1 1 1 0 2 0 1 0 3 1 1 3 2 0 0 2 2\n 3 2 1 1 3 2 0 2 3 2 3]",
         "[3 0 0 0 0 0 1 0 0 1 2 0 3 2 0 0 2 3 0 3 3 2 0 1 0 3 3 0 0 0 0 1 3 0 3 0 0\n 0 3 0 1 3 2 0 2 3 0 3 3 0 1 0 3 3 3 0 3 0 2 0 1 0 3 0 0 0 0 2 0 1 3 0 1 1\n 0 0 1 2 3 1 1 1 1 3 3 2 2 2 0 1 0 1 3 3 3 1 1 1 0 2 3 0 0 2 3 3 0 3 2 2 2\n 2 0 3 1 1 1 1 1 2 1 2 3 3 2 2 2 1 2 3 1 1 0 0 1 3 1 3 3 2 2 3 2 0 1 2 0 2\n 0 0 1 3 2 3 1 3 1 0 3 2 0 0 2 0 2 2 2 3 2 2 0 0 1 3 0 1 1 0 1 0 1 0 3 2 2\n 2 0 2 0 1 2 0 2 2 2 0 1 0 0 0 0 0 0 1 0 2 2 2 3 1 3 2 3 0 2 2 0 1 3 3 1 1\n 0 1 2 2 0 1 3 1 0 1 0]",
         "233"
        ],
        [
         "2322829",
         "chr14",
         "84547606",
         "84547898",
         "[1 0 3 2 0 2 0 1 1 1 0 2 1 0 1 1 2 3 2 1 3 3 2 1 2 3 2 2 2 0 1 3 1 0 1 0 2\n 0 1 0 3 2 2 1 3 3 0 0 3 1 2 0 2 0 1 0 1 0 0 0 2 3 2 0 3 2 3 2 3 2 1 1 0 3\n 2 1 0 3 3 1 0 0 0 0 3 3 0 2 1 0 3 1 3 2 2 1 1 3 2 2 2 2 1 1 0 1 3 2 0 0 3\n 3 3 2 2 1 0 3 1 1 2 0 0 2 0 0 1 3 2 0 3 3 1 3 0 3 1 1 3 1 3 2 1 1 0 0 2 3\n 3 3 1 3 2 1 0 2 2 2 0 1 3 0 2 0 1 3 1 2 1 3 2 0 0 3 3 1 3 2 0 0 3 1 0 1 0\n 2 0 1 3 1 0 3 3 3 1 1 1 1 3 3 1 0 0 1 0 2 0 0 3 1 1 1 3 3 3 2 0 0 3 3 2 3\n 2 2 0 3 1 1 3 2 0 2 0 0 0 1 3 3 2 1 0 0 2 3 2 0 0 1 0 3 0 0 2 0 0 3 1 0 0\n 0 3 2 3 2 0 0 2 3 2 1 0 0 0 0 1 3 3 2 1 1 0 2 0 2 0 2 3 0 0 2 3 0]",
         "[2 3 0 1 3 1 3 2 2 2 3 1 2 3 2 2 1 0 1 2 0 0 1 2 1 0 1 1 1 3 2 0 2 3 2 3 1\n 3 2 3 0 1 1 2 0 0 3 3 0 2 1 3 1 3 2 3 2 3 3 3 1 0 1 3 0 1 0 1 0 1 2 2 3 0\n 1 2 3 0 0 2 3 3 3 3 0 0 3 1 2 3 0 2 0 1 1 2 2 0 1 1 1 1 2 2 3 2 0 1 3 3 0\n 0 0 1 1 2 3 0 2 2 1 3 3 1 3 3 2 0 1 3 0 0 2 0 3 0 2 2 0 2 0 1 2 2 3 3 1 0\n 0 0 2 0 1 2 3 1 1 1 3 2 0 3 1 3 2 0 2 1 2 0 1 3 3 0 0 2 0 1 3 3 0 2 3 2 3\n 1 3 2 0 2 3 0 0 0 2 2 2 2 0 0 2 3 3 2 3 1 3 3 0 2 2 2 0 0 0 1 3 3 0 0 1 0\n 1 1 3 0 2 2 0 1 3 1 3 3 3 2 0 0 1 2 3 3 1 0 1 3 3 2 3 0 3 3 1 3 3 0 2 3 3\n 3 0 1 0 1 3 3 1 0 1 2 3 3 3 3 2 0 0 1 2 2 3 1 3 1 3 1 0 3 3 1 0 3]",
         "292"
        ],
        [
         "2616720",
         "chr15",
         "86159729",
         "86159955",
         "[2 2 3 2 3 0 3 1 2 0 0 3 1 0 1 0 2 3 0 0 1 0 3 2 0 0 2 2 0 0 2 0 3 2 1 1 1\n 0 0 2 2 0 0 0 1 1 1 3 0 0 2 0 3 2 0 0 0 2 3 1 3 0 1 0 3 1 1 0 0 0 1 3 3 2\n 2 0 1 0 3 2 2 3 2 3 3 1 0 3 1 2 1 3 2 0 2 1 3 2 3 3 3 0 2 2 3 3 0 2 1 1 0\n 2 1 0 2 2 2 2 2 1 3 0 1 3 1 1 0 1 0 1 1 0 2 3 2 2 2 2 3 3 2 2 2 3 2 0 2 3\n 2 2 1 3 1 0 1 0 2 1 3 0 0 2 3 0 3 2 2 0 2 1 0 1 3 3 0 1 1 1 0 3 2 2 0 0 0\n 2 0 0 3 2 0 2 3 2 2 1 3 0 0 1 1 3 1 3 0 2 3 0 2 1 1 0 2 2 1 0 1 0 1 0 1 3\n 1 0 2 0]",
         "[1 1 0 1 0 3 0 2 1 3 3 0 2 3 2 3 1 0 3 3 2 3 0 1 3 3 1 1 3 3 1 3 0 1 2 2 2\n 3 3 1 1 3 3 3 2 2 2 0 3 3 1 3 0 1 3 3 3 1 0 2 0 3 2 3 0 2 2 3 3 3 2 0 0 1\n 1 3 2 3 0 1 1 0 1 0 0 2 3 0 2 1 2 0 1 3 1 2 0 1 0 0 0 3 1 1 0 0 3 1 2 2 3\n 1 2 3 1 1 1 1 1 2 0 3 2 0 2 2 3 2 3 2 2 3 1 0 1 1 1 1 0 0 1 1 1 0 1 3 1 0\n 1 1 2 0 2 3 2 3 1 2 0 3 3 1 0 3 0 1 1 3 1 2 3 2 0 0 3 2 2 2 3 0 1 1 3 3 3\n 1 3 3 0 1 3 1 0 1 1 2 0 3 3 2 2 0 2 0 3 1 0 3 1 2 2 3 1 1 2 3 2 3 2 3 2 0\n 2 3 1 3]",
         "226"
        ],
        [
         "3054181",
         "chr17",
         "27501749",
         "27502040",
         "[1 1 1 3 3 1 3 2 1 3 1 1 1 3 1 1 1 0 1 3 1 1 3 3 1 1 1 1 1 1 3 0 1 1 1 1 1\n 1 1 1 1 1 3 1 0 2 0 1 1 0 1 2 3 0 1 0 2 0 2 1 0 0 0 0 2 0 2 2 0 0 2 2 1 3\n 3 2 2 2 2 2 3 2 2 2 2 2 1 0 2 1 3 2 1 3 2 1 0 3 0 0 3 3 0 3 3 2 2 3 0 0 0\n 0 3 2 1 3 3 2 3 0 0 1 2 2 3 3 3 3 3 3 3 3 3 1 3 3 1 1 1 1 3 1 3 1 1 1 3 0\n 2 3 0 2 1 3 3 3 1 0 2 3 3 2 3 3 3 3 0 2 1 0 2 1 3 3 0 2 1 0 0 2 1 0 1 3 3\n 2 2 1 3 1 1 0 0 3 3 2 0 0 3 3 2 1 0 0 0 3 1 0 2 1 0 2 1 3 1 3 3 2 1 1 1 1\n 2 2 2 0 0 2 0 2 0 0 2 0 0 0 2 2 2 0 2 2 3 2 2 3 2 2 0 2 2 2 2 2 1 0 2 2 2\n 0 2 2 2 2 1 3 0 2 2 2 0 2 2 2 0 2 0 2 2 0 2 2 0 0 2 0 3 2 3 0 2]",
         "[2 2 2 0 0 2 0 1 2 0 2 2 2 0 2 2 2 3 2 0 2 2 0 0 2 2 2 2 2 2 0 3 2 2 2 2 2\n 2 2 2 2 2 0 2 3 1 3 2 2 3 2 1 0 3 2 3 1 3 1 2 3 3 3 3 1 3 1 1 3 3 1 1 2 0\n 0 1 1 1 1 1 0 1 1 1 1 1 2 3 1 2 0 1 2 0 1 2 3 0 3 3 0 0 3 0 0 1 1 0 3 3 3\n 3 0 1 2 0 0 1 0 3 3 2 1 1 0 0 0 0 0 0 0 0 0 2 0 0 2 2 2 2 0 2 0 2 2 2 0 3\n 1 0 3 1 2 0 0 0 2 3 1 0 0 1 0 0 0 0 3 1 2 3 1 2 0 0 3 1 2 3 3 1 2 3 2 0 0\n 1 1 2 0 2 2 3 3 0 0 1 3 3 0 0 1 2 3 3 3 0 2 3 1 2 3 1 2 0 2 0 0 1 2 2 2 2\n 1 1 1 3 3 1 3 1 3 3 1 3 3 3 1 1 1 3 1 1 0 1 1 0 1 1 3 1 1 1 1 1 2 3 1 1 1\n 3 1 1 1 1 2 0 3 1 1 1 3 1 1 1 3 1 3 1 1 3 1 1 3 3 1 3 0 1 0 3 1]",
         "291"
        ],
        [
         "7134673",
         "chr9",
         "54438242",
         "54438684",
         "[0 2 0 3 0 0 3 2 2 2 2 1 1 0 2 0 2 1 1 3 2 0 0 1 3 2 0 1 1 0 3 1 3 3 1 3 2\n 3 0 0 2 1 0 2 2 1 0 0 0 2 1 3 3 1 1 0 2 3 2 2 0 2 2 2 0 1 3 2 2 2 0 1 0 1\n 1 0 0 1 1 1 0 2 1 3 0 1 0 0 0 0 3 1 3 2 0 0 0 0 1 3 0 0 0 2 0 2 0 0 0 0 0\n 0 1 0 3 0 2 2 3 0 0 2 1 3 2 1 3 0 2 1 3 0 1 0 0 0 0 3 2 3 2 3 3 2 1 2 2 3\n 0 0 3 2 3 2 2 1 0 1 0 2 0 0 3 3 3 2 3 2 2 2 0 2 3 2 2 3 1 1 0 0 2 1 3 2 2\n 3 1 1 0 2 1 3 3 2 0 2 0 1 1 1 0 3 2 1 1 0 1 3 0 2 0 2 2 2 0 2 1 3 0 1 2 2\n 0 1 1 0 3 2 3 1 3 2 0 1 0 1 0 2 1 1 1 0 2 0 2 2 1 3 2 2 0 3 0 1 1 1 1 0 2\n 0 2 0 1 1 3 0 2 0 0 3 0 0 0 0 1 1 0 0 0 3 0 1 0 3 1 1 0 2 1 0 0 0 2 3 0 0\n 0 2 0 0 0 2 0 0 0 3 0 2 2 1 0 0 3 2 0 0 0 3 2 0 0 3 1 1 3 0 0 3 2 0 3 0 3\n 3 1 3 2 1 3 3 0 1 3 1 3 0 2 0 2 1 1 3 0 2 1 0 3 0 0 3 3 2 3 0 0 3 3 0 2 0\n 2 2 1 3 3 3 0 3 1 1 0 2 1 0 2 0 2 0 1 1 1 0 1 0 0 1 1 0 0 0 1 0 3 3 0 2 2\n 1 0 2 0 0 1 3 3 2 2 2 2 0 0 3 1 1 3 2 3 2 2 0 0 2 0 2 2 0 2 2 0 2 2 0]",
         "[3 1 3 0 3 3 0 1 1 1 1 2 2 3 1 3 1 2 2 0 1 3 3 2 0 1 3 2 2 3 0 2 0 0 2 0 1\n 0 3 3 1 2 3 1 1 2 3 3 3 1 2 0 0 2 2 3 1 0 1 1 3 1 1 1 3 2 0 1 1 1 3 2 3 2\n 2 3 3 2 2 2 3 1 2 0 3 2 3 3 3 3 0 2 0 1 3 3 3 3 2 0 3 3 3 1 3 1 3 3 3 3 3\n 3 2 3 0 3 1 1 0 3 3 1 2 0 1 2 0 3 1 2 0 3 2 3 3 3 3 0 1 0 1 0 0 1 2 1 1 0\n 3 3 0 1 0 1 1 2 3 2 3 1 3 3 0 0 0 1 0 1 1 1 3 1 0 1 1 0 2 2 3 3 1 2 0 1 1\n 0 2 2 3 1 2 0 0 1 3 1 3 2 2 2 3 0 1 2 2 3 2 0 3 1 3 1 1 1 3 1 2 0 3 2 1 1\n 3 2 2 3 0 1 0 2 0 1 3 2 3 2 3 1 2 2 2 3 1 3 1 1 2 0 1 1 3 0 3 2 2 2 2 3 1\n 3 1 3 2 2 0 3 1 3 3 0 3 3 3 3 2 2 3 3 3 0 3 2 3 0 2 2 3 1 2 3 3 3 1 0 3 3\n 3 1 3 3 3 1 3 3 3 0 3 1 1 2 3 3 0 1 3 3 3 0 1 3 3 0 2 2 0 3 3 0 1 3 0 3 0\n 0 2 0 1 2 0 0 3 2 0 2 0 3 1 3 1 2 2 0 3 1 2 3 0 3 3 0 0 1 0 3 3 0 0 3 1 3\n 1 1 2 0 0 0 3 0 2 2 3 1 2 3 1 3 1 3 2 2 2 3 2 3 3 2 2 3 3 3 2 3 0 0 3 1 1\n 2 3 1 3 3 2 0 0 1 1 1 1 3 3 0 2 2 0 1 0 1 1 3 3 1 3 1 1 3 1 1 3 1 1 3]",
         "442"
        ],
        [
         "5709611",
         "chr6",
         "3201173",
         "3201258",
         "[1 2 1 1 1 2 3 1 1 1 1 2 1 1 1 1 3 3 2 1 1 3 1 3 1 2 2 1 2 1 1 1 1 1 3 1 2\n 0 3 2 1 3 1 3 3 0 2 1 3 2 0 2 3 2 3 1 1 1 2 1 2 2 2 2 1 1 1 2 0 0 2 1 2 3\n 3 3 0 1 3 3 3 2 0 0 0]",
         "[2 1 2 2 2 1 0 2 2 2 2 1 2 2 2 2 0 0 1 2 2 0 2 0 2 1 1 2 1 2 2 2 2 2 0 2 1\n 3 0 1 2 0 2 0 0 3 1 2 0 1 3 1 0 1 0 2 2 2 1 2 1 1 1 1 2 2 2 1 3 3 1 2 1 0\n 0 0 3 2 0 0 0 1 3 3 3]",
         "85"
        ],
        [
         "4984109",
         "chr4",
         "111645886",
         "111646021",
         "[1 0 1 0 1 0 1 0 3 1 1 0 1 3 2 2 0 2 0 0 3 1 1 3 2 2 2 3 0 0 3 0 3 3 3 0 0\n 2 2 0 1 0 2 1 3 3 3 2 2 3 3 3 3 1 0 1 0 0 3 2 0 2 3 2 0 2 1 0 1 3 2 1 3 2\n 0 1 0 3 1 3 0 2 3 2 2 2 0 2 0 2 2 1 1 0 2 2 2 0 3 2 3 3 2 1 3 2 0 0 1 0 1\n 1 3 3 0 1 1 0 3 2 3 3 1 0 2 2 0 1 0 2 3 1 1 1 0]",
         "[2 3 2 3 2 3 2 3 0 2 2 3 2 0 1 1 3 1 3 3 0 2 2 0 1 1 1 0 3 3 0 3 0 0 0 3 3\n 1 1 3 2 3 1 2 0 0 0 1 1 0 0 0 0 2 3 2 3 3 0 1 3 1 0 1 3 1 2 3 2 0 1 2 0 1\n 3 2 3 0 2 0 3 1 0 1 1 1 3 1 3 1 1 2 2 3 1 1 1 3 0 1 0 0 1 2 0 1 3 3 2 3 2\n 2 0 0 3 2 2 3 0 1 0 0 2 3 1 1 3 2 3 1 0 2 2 2 3]",
         "135"
        ]
       ],
       "shape": {
        "columns": 6,
        "rows": 762439
       }
      },
      "text/html": [
       "<div>\n",
       "<style scoped>\n",
       "    .dataframe tbody tr th:only-of-type {\n",
       "        vertical-align: middle;\n",
       "    }\n",
       "\n",
       "    .dataframe tbody tr th {\n",
       "        vertical-align: top;\n",
       "    }\n",
       "\n",
       "    .dataframe thead th {\n",
       "        text-align: right;\n",
       "    }\n",
       "</style>\n",
       "<table border=\"1\" class=\"dataframe\">\n",
       "  <thead>\n",
       "    <tr style=\"text-align: right;\">\n",
       "      <th></th>\n",
       "      <th>chr</th>\n",
       "      <th>start</th>\n",
       "      <th>end</th>\n",
       "      <th>+ seq</th>\n",
       "      <th>- seq</th>\n",
       "      <th>peak_len</th>\n",
       "    </tr>\n",
       "  </thead>\n",
       "  <tbody>\n",
       "    <tr>\n",
       "      <th>3722124</th>\n",
       "      <td>chr19</td>\n",
       "      <td>56919658</td>\n",
       "      <td>56919882</td>\n",
       "      <td>[0, 2, 0, 0, 0, 0, 3, 0, 0, 2, 3, 3, 1, 3, 2, ...</td>\n",
       "      <td>[3, 1, 3, 3, 3, 3, 0, 3, 3, 1, 0, 0, 2, 0, 1, ...</td>\n",
       "      <td>224</td>\n",
       "    </tr>\n",
       "    <tr>\n",
       "      <th>319073</th>\n",
       "      <td>chr1</td>\n",
       "      <td>135699420</td>\n",
       "      <td>135699638</td>\n",
       "      <td>[2, 2, 1, 1, 2, 2, 1, 0, 3, 0, 3, 3, 0, 2, 0, ...</td>\n",
       "      <td>[1, 1, 2, 2, 1, 1, 2, 3, 0, 3, 0, 0, 3, 1, 3, ...</td>\n",
       "      <td>218</td>\n",
       "    </tr>\n",
       "    <tr>\n",
       "      <th>3495030</th>\n",
       "      <td>chr18</td>\n",
       "      <td>77986416</td>\n",
       "      <td>77986691</td>\n",
       "      <td>[3, 3, 3, 3, 3, 3, 1, 0, 0, 0, 2, 3, 1, 1, 1, ...</td>\n",
       "      <td>[0, 0, 0, 0, 0, 0, 2, 3, 3, 3, 1, 0, 2, 2, 2, ...</td>\n",
       "      <td>275</td>\n",
       "    </tr>\n",
       "    <tr>\n",
       "      <th>6967971</th>\n",
       "      <td>chr8</td>\n",
       "      <td>126065166</td>\n",
       "      <td>126065409</td>\n",
       "      <td>[0, 2, 1, 1, 0, 1, 0, 3, 2, 2, 3, 3, 3, 1, 3, ...</td>\n",
       "      <td>[3, 1, 2, 2, 3, 2, 3, 0, 1, 1, 0, 0, 0, 2, 0, ...</td>\n",
       "      <td>243</td>\n",
       "    </tr>\n",
       "    <tr>\n",
       "      <th>3962992</th>\n",
       "      <td>chr2</td>\n",
       "      <td>74683130</td>\n",
       "      <td>74683378</td>\n",
       "      <td>[1, 1, 2, 2, 2, 2, 2, 0, 2, 2, 1, 2, 2, 2, 2, ...</td>\n",
       "      <td>[2, 2, 1, 1, 1, 1, 1, 3, 1, 1, 2, 1, 1, 1, 1, ...</td>\n",
       "      <td>248</td>\n",
       "    </tr>\n",
       "    <tr>\n",
       "      <th>...</th>\n",
       "      <td>...</td>\n",
       "      <td>...</td>\n",
       "      <td>...</td>\n",
       "      <td>...</td>\n",
       "      <td>...</td>\n",
       "      <td>...</td>\n",
       "    </tr>\n",
       "    <tr>\n",
       "      <th>1857547</th>\n",
       "      <td>chr13</td>\n",
       "      <td>48965457</td>\n",
       "      <td>48965806</td>\n",
       "      <td>[0, 0, 3, 1, 3, 2, 0, 0, 2, 3, 0, 0, 3, 0, 3, ...</td>\n",
       "      <td>[3, 3, 0, 2, 0, 1, 3, 3, 1, 0, 3, 3, 0, 3, 0, ...</td>\n",
       "      <td>349</td>\n",
       "    </tr>\n",
       "    <tr>\n",
       "      <th>4541284</th>\n",
       "      <td>chr3</td>\n",
       "      <td>95450524</td>\n",
       "      <td>95450815</td>\n",
       "      <td>[1, 3, 0, 3, 0, 3, 2, 1, 0, 1, 0, 1, 0, 1, 3, ...</td>\n",
       "      <td>[2, 0, 3, 0, 3, 0, 1, 2, 3, 2, 3, 2, 3, 2, 0, ...</td>\n",
       "      <td>291</td>\n",
       "    </tr>\n",
       "    <tr>\n",
       "      <th>5816379</th>\n",
       "      <td>chr6</td>\n",
       "      <td>47787829</td>\n",
       "      <td>47788218</td>\n",
       "      <td>[3, 1, 1, 3, 3, 3, 0, 1, 3, 2, 3, 1, 3, 3, 0, ...</td>\n",
       "      <td>[0, 2, 2, 0, 0, 0, 3, 2, 0, 1, 0, 2, 0, 0, 3, ...</td>\n",
       "      <td>389</td>\n",
       "    </tr>\n",
       "    <tr>\n",
       "      <th>7165032</th>\n",
       "      <td>chr9</td>\n",
       "      <td>60243571</td>\n",
       "      <td>60243916</td>\n",
       "      <td>[0, 3, 3, 3, 1, 0, 0, 0, 0, 0, 3, 2, 1, 3, 3, ...</td>\n",
       "      <td>[3, 0, 0, 0, 2, 3, 3, 3, 3, 3, 0, 1, 2, 0, 0, ...</td>\n",
       "      <td>345</td>\n",
       "    </tr>\n",
       "    <tr>\n",
       "      <th>2999868</th>\n",
       "      <td>chr17</td>\n",
       "      <td>12996410</td>\n",
       "      <td>12996685</td>\n",
       "      <td>[3, 3, 2, 1, 1, 1, 0, 0, 1, 0, 0, 1, 0, 2, 1, ...</td>\n",
       "      <td>[0, 0, 1, 2, 2, 2, 3, 3, 2, 3, 3, 2, 3, 1, 2, ...</td>\n",
       "      <td>275</td>\n",
       "    </tr>\n",
       "  </tbody>\n",
       "</table>\n",
       "<p>762439 rows × 6 columns</p>\n",
       "</div>"
      ],
      "text/plain": [
       "           chr      start        end  \\\n",
       "3722124  chr19   56919658   56919882   \n",
       "319073    chr1  135699420  135699638   \n",
       "3495030  chr18   77986416   77986691   \n",
       "6967971   chr8  126065166  126065409   \n",
       "3962992   chr2   74683130   74683378   \n",
       "...        ...        ...        ...   \n",
       "1857547  chr13   48965457   48965806   \n",
       "4541284   chr3   95450524   95450815   \n",
       "5816379   chr6   47787829   47788218   \n",
       "7165032   chr9   60243571   60243916   \n",
       "2999868  chr17   12996410   12996685   \n",
       "\n",
       "                                                     + seq  \\\n",
       "3722124  [0, 2, 0, 0, 0, 0, 3, 0, 0, 2, 3, 3, 1, 3, 2, ...   \n",
       "319073   [2, 2, 1, 1, 2, 2, 1, 0, 3, 0, 3, 3, 0, 2, 0, ...   \n",
       "3495030  [3, 3, 3, 3, 3, 3, 1, 0, 0, 0, 2, 3, 1, 1, 1, ...   \n",
       "6967971  [0, 2, 1, 1, 0, 1, 0, 3, 2, 2, 3, 3, 3, 1, 3, ...   \n",
       "3962992  [1, 1, 2, 2, 2, 2, 2, 0, 2, 2, 1, 2, 2, 2, 2, ...   \n",
       "...                                                    ...   \n",
       "1857547  [0, 0, 3, 1, 3, 2, 0, 0, 2, 3, 0, 0, 3, 0, 3, ...   \n",
       "4541284  [1, 3, 0, 3, 0, 3, 2, 1, 0, 1, 0, 1, 0, 1, 3, ...   \n",
       "5816379  [3, 1, 1, 3, 3, 3, 0, 1, 3, 2, 3, 1, 3, 3, 0, ...   \n",
       "7165032  [0, 3, 3, 3, 1, 0, 0, 0, 0, 0, 3, 2, 1, 3, 3, ...   \n",
       "2999868  [3, 3, 2, 1, 1, 1, 0, 0, 1, 0, 0, 1, 0, 2, 1, ...   \n",
       "\n",
       "                                                     - seq  peak_len  \n",
       "3722124  [3, 1, 3, 3, 3, 3, 0, 3, 3, 1, 0, 0, 2, 0, 1, ...       224  \n",
       "319073   [1, 1, 2, 2, 1, 1, 2, 3, 0, 3, 0, 0, 3, 1, 3, ...       218  \n",
       "3495030  [0, 0, 0, 0, 0, 0, 2, 3, 3, 3, 1, 0, 2, 2, 2, ...       275  \n",
       "6967971  [3, 1, 2, 2, 3, 2, 3, 0, 1, 1, 0, 0, 0, 2, 0, ...       243  \n",
       "3962992  [2, 2, 1, 1, 1, 1, 1, 3, 1, 1, 2, 1, 1, 1, 1, ...       248  \n",
       "...                                                    ...       ...  \n",
       "1857547  [3, 3, 0, 2, 0, 1, 3, 3, 1, 0, 3, 3, 0, 3, 0, ...       349  \n",
       "4541284  [2, 0, 3, 0, 3, 0, 1, 2, 3, 2, 3, 2, 3, 2, 0, ...       291  \n",
       "5816379  [0, 2, 2, 0, 0, 0, 3, 2, 0, 1, 0, 2, 0, 0, 3, ...       389  \n",
       "7165032  [3, 0, 0, 0, 2, 3, 3, 3, 3, 3, 0, 1, 2, 0, 0, ...       345  \n",
       "2999868  [0, 0, 1, 2, 2, 2, 3, 3, 2, 3, 3, 2, 3, 1, 2, ...       275  \n",
       "\n",
       "[762439 rows x 6 columns]"
      ]
     },
     "execution_count": 104,
     "metadata": {},
     "output_type": "execute_result"
    }
   ],
   "source": [
    "chr_pos_to_seq_sample"
   ]
  },
  {
   "cell_type": "code",
   "execution_count": null,
   "metadata": {},
   "outputs": [],
   "source": [
    "chr_pos_to_seq_sample = chr_pos_to_seq.sample(frac=0.05)"
   ]
  },
  {
   "cell_type": "code",
   "execution_count": null,
   "metadata": {},
   "outputs": [
    {
     "data": {
      "application/vnd.microsoft.datawrangler.viewer.v0+json": {
       "columns": [
        {
         "name": "index",
         "rawType": "int64",
         "type": "integer"
        },
        {
         "name": "chr",
         "rawType": "object",
         "type": "string"
        },
        {
         "name": "start",
         "rawType": "int64",
         "type": "integer"
        },
        {
         "name": "end",
         "rawType": "int64",
         "type": "integer"
        },
        {
         "name": "+ seq",
         "rawType": "object",
         "type": "unknown"
        },
        {
         "name": "- seq",
         "rawType": "object",
         "type": "unknown"
        },
        {
         "name": "peak_len",
         "rawType": "int64",
         "type": "integer"
        }
       ],
       "ref": "6a372e52-3cd7-4ed8-9f1e-db6f1aa569ca",
       "rows": [
        [
         "266850",
         "chr1",
         "120120951",
         "120121405",
         "[0 3 0 1 3 2 2 3 2 0 2 2 3 2 0 3 0 1 2 2 0 3 2 1 1 2 0 0 0 2 1 2 1 2 2 2 0\n 2 1 0 0 2 1 3 1 0 2 0 0 2 1 0 2 1 0 2 1 0 0 3 1 0 0 2 3 1 0 1 0 2 0 2 1 2\n 1 0 1 1 0 2 1 3 0 2 1 2 1 1 3 3 3 0 0 0 0 2 1 0 1 0 0 1 1 1 1 2 2 1 2 3 3\n 1 1 0 0 1 3 2 0 2 1 3 1 2 2 2 1 2 0 2 1 2 2 1 0 2 1 0 2 1 1 0 0 3 1 0 2 0\n 0 2 3 1 2 2 0 3 1 3 2 1 3 3 3 1 2 2 2 2 2 1 2 3 2 3 1 1 0 3 1 1 3 0 2 1 2\n 2 0 2 1 2 1 3 1 1 0 0 1 1 1 3 3 1 1 1 2 2 0 1 1 1 0 0 2 0 2 2 2 0 2 3 3 3\n 0 3 3 2 1 2 1 0 1 2 1 2 1 2 2 2 2 0 2 2 0 2 1 1 2 1 2 2 2 2 1 0 1 2 3 3 2\n 2 2 0 2 1 0 2 2 3 2 2 2 0 1 2 1 2 3 3 3 1 2 3 3 3 3 3 3 3 3 3 3 3 3 3 3 3\n 1 1 2 3 2 2 2 2 2 0 0 2 2 2 0 1 2 2 0 1 2 2 2 0 1 0 3 3 1 3 1 1 2 3 1 0 2\n 2 2 1 0 2 3 3 2 2 2 1 0 2 2 0 2 1 3 0 2 1 0 2 2 1 0 1 3 2 0 2 0 0 1 2 1 2\n 3 2 0 0 0 3 2 2 2 2 3 2 1 3 2 1 2 2 2 0 2 2 0 2 0 2 1 0 2 0 0 0 3 1 0 2 3\n 0 3 2 0 3 3 1 3 3 3 1 1 1 3 3 3 0 0 1 3 1 3 1 0 3 2 1 2 2 0 3 3 2 2 0 0 0\n 2 0 2 2 1 1 2 2 0 0]",
         "[3 0 3 2 0 1 1 0 1 3 1 1 0 1 3 0 3 2 1 1 3 0 1 2 2 1 3 3 3 1 2 1 2 1 1 1 3\n 1 2 3 3 1 2 0 2 3 1 3 3 1 2 3 1 2 3 1 2 3 3 0 2 3 3 1 0 2 3 2 3 1 3 1 2 1\n 2 3 2 2 3 1 2 0 3 1 2 1 2 2 0 0 0 3 3 3 3 1 2 3 2 3 3 2 2 2 2 1 1 2 1 0 0\n 2 2 3 3 2 0 1 3 1 2 0 2 1 1 1 2 1 3 1 2 1 1 2 3 1 2 3 1 2 2 3 3 0 2 3 1 3\n 3 1 0 2 1 1 3 0 2 0 1 2 0 0 0 2 1 1 1 1 1 2 1 0 1 0 2 2 3 0 2 2 0 3 1 2 1\n 1 3 1 2 1 2 0 2 2 3 3 2 2 2 0 0 2 2 2 1 1 3 2 2 2 3 3 1 3 1 1 1 3 1 0 0 0\n 3 0 0 1 2 1 2 3 2 1 2 1 2 1 1 1 1 3 1 1 3 1 2 2 1 2 1 1 1 1 2 3 2 1 0 0 1\n 1 1 3 1 2 3 1 1 0 1 1 1 3 2 1 2 1 0 0 0 2 1 0 0 0 0 0 0 0 0 0 0 0 0 0 0 0\n 2 2 1 0 1 1 1 1 1 3 3 1 1 1 3 2 1 1 3 2 1 1 1 3 2 3 0 0 2 0 2 2 1 0 2 3 1\n 1 1 2 3 1 0 0 1 1 1 2 3 1 1 3 1 2 0 3 1 2 3 1 1 2 3 2 0 1 3 1 3 3 2 1 2 1\n 0 1 3 3 3 0 1 1 1 1 0 1 2 0 1 2 1 1 1 3 1 1 3 1 3 1 2 3 1 3 3 3 0 2 3 1 0\n 3 0 1 3 0 0 2 0 0 0 2 2 2 0 0 0 3 3 2 0 2 0 2 3 0 1 2 1 1 3 0 0 1 1 3 3 3\n 1 3 1 1 2 2 1 1 3 3]",
         "454"
        ],
        [
         "5142549",
         "chr4",
         "141858634",
         "141858846",
         "[3 1 3 2 2 2 2 0 1 0 3 3 2 3 0 2 3 0 0 0 0 3 0 0 0 2 0 2 3 3 0 3 1 2 0 2 1\n 3 3 1 0 1 0 0 2 1 0 2 3 2 0 1 0 1 2 1 3 2 0 0 1 0 3 3 2 1 0 3 0 0 1 2 2 3\n 2 2 1 1 1 1 2 2 3 2 2 1 1 0 3 3 1 0 1 3 3 0 2 0 1 3 2 2 2 3 2 0 1 2 3 1 0\n 1 0 2 3 3 3 1 0 1 0 0 1 0 1 0 2 1 0 0 1 2 2 0 1 0 1 2 1 0 1 0 3 0 1 0 1 0\n 1 0 1 2 3 2 0 2 1 0 0 2 1 0 1 0 3 2 2 0 2 1 3 0 3 0 2 0 2 2 0 0 1 2 2 1 0\n 1 2 2 2 3 3 3 1 0 1 3 2 3 2 2 1 1 3 2 2 2 2 0 2 3 1 1]",
         "[0 2 0 1 1 1 1 3 2 3 0 0 1 0 3 1 0 3 3 3 3 0 3 3 3 1 3 1 0 0 3 0 2 1 3 1 2\n 0 0 2 3 2 3 3 1 2 3 1 0 1 3 2 3 2 1 2 0 1 3 3 2 3 0 0 1 2 3 0 3 3 2 1 1 0\n 1 1 2 2 2 2 1 1 0 1 1 2 2 3 0 0 2 3 2 0 0 3 1 3 2 0 1 1 1 0 1 3 2 1 0 2 3\n 2 3 1 0 0 0 2 3 2 3 3 2 3 2 3 1 2 3 3 2 1 1 3 2 3 2 1 2 3 2 3 0 3 2 3 2 3\n 2 3 2 1 0 1 3 1 2 3 3 1 2 3 2 3 0 1 1 3 1 2 0 3 0 3 1 3 1 1 3 3 2 1 1 2 3\n 2 1 1 1 0 0 0 2 3 2 0 1 0 1 1 2 2 0 1 1 1 1 3 1 0 2 2]",
         "212"
        ],
        [
         "2077717",
         "chr14",
         "7901879",
         "7902070",
         "[1 1 0 2 2 2 1 0 0 1 0 3 2 1 0 2 2 3 3 1 3 0 2 3 2 0 1 3 3 0 3 2 2 3 2 2 1\n 2 0 3 1 1 1 0 3 3 1 1 3 0 0 0 0 2 3 1 1 3 3 3 1 0 1 3 2 3 2 2 2 1 2 3 3 2\n 1 3 2 1 2 1 1 0 1 3 2 2 0 3 1 3 2 0 2 1 0 0 2 0 3 0 0 0 0 0 3 3 0 0 3 2 2\n 0 1 3 2 2 0 0 0 0 1 0 2 3 0 0 2 3 2 3 1 2 0 0 3 2 0 2 2 3 1 0 2 0 1 2 0 1\n 1 0 2 1 0 0 1 3 2 3 2 0 1 3 2 1 3 0 3 3 0 3 3 0 2 0 3 3 1 1 1 3 3 1 0 0 0\n 0 2 0 3 2 1]",
         "[2 2 3 1 1 1 2 3 3 2 3 0 1 2 3 1 1 0 0 2 0 3 1 0 1 3 2 0 0 3 0 1 1 0 1 1 2\n 1 3 0 2 2 2 3 0 0 2 2 0 3 3 3 3 1 0 2 2 0 0 0 2 3 2 0 1 0 1 1 1 2 1 0 0 1\n 2 0 1 2 1 2 2 3 2 0 1 1 3 0 2 0 1 3 1 2 3 3 1 3 0 3 3 3 3 3 0 0 3 3 0 1 1\n 3 2 0 1 1 3 3 3 3 2 3 1 0 3 3 1 0 1 0 2 1 3 3 0 1 3 1 1 0 2 3 1 3 2 1 3 2\n 2 3 1 2 3 3 2 0 1 0 1 3 2 0 1 2 0 3 0 0 3 0 0 3 1 3 0 0 2 2 2 0 0 2 3 3 3\n 3 1 3 0 1 2]",
         "191"
        ],
        [
         "7249767",
         "chr9",
         "78845255",
         "78845622",
         "[3 2 0 1 3 3 1 3 3 2 0 0 1 3 2 2 2 2 3 1 0 2 2 1 0 3 3 0 3 3 0 3 2 0 3 3 3\n 3 3 3 0 0 2 1 3 2 3 3 3 0 0 0 2 2 3 2 3 2 3 2 2 2 3 2 2 3 3 0 3 1 0 2 1 2\n 3 1 0 1 3 1 1 3 1 0 3 1 0 1 1 3 2 1 1 1 1 3 3 1 1 0 3 1 1 1 0 0 0 2 1 3 0\n 0 1 0 3 3 3 1 1 3 2 3 1 0 1 0 1 1 1 3 1 0 2 0 0 1 0 2 2 3 2 0 0 2 1 0 1 0\n 2 2 0 3 2 3 2 2 2 2 3 2 2 2 2 2 0 2 2 2 2 1 0 1 1 1 1 2 2 3 2 3 3 3 0 1 3\n 3 2 3 3 3 1 2 0 3 1 0 3 3 0 2 1 3 2 2 1 3 0 2 2 0 0 2 3 2 3 0 1 0 2 2 0 1\n 1 1 3 2 2 2 0 2 2 3 2 0 1 3 2 0 2 0 1 0 3 3 3 2 1 1 0 2 0 1 3 1 3 1 1 0 2\n 0 3 2 3 2 1 2 0 2 0 2 3 1 1 3 1 3 1 0 1 1 1 1 3 2 1 1 3 3 0 2 0 0 2 2 0 0\n 0 0 2 2 1 1 1 1 3 1 3 2 2 0 0 1 3 2 2 2 1 1 0 3 2 3 3 1 0 1 0 2 1 3 3 1 3\n 2 1 0 2 1 3 2 1 3 2 0 2 1 1 1 3 0 2 2 2 2 1 3 2 2 0 2 0 2 0 2 1 3 1]",
         "[0 1 3 2 0 0 2 0 0 1 3 3 2 0 1 1 1 1 0 2 3 1 1 2 3 0 0 3 0 0 3 0 1 3 0 0 0\n 0 0 0 3 3 1 2 0 1 0 0 0 3 3 3 1 1 0 1 0 1 0 1 1 1 0 1 1 0 0 3 0 2 3 1 2 1\n 0 2 3 2 0 2 2 0 2 3 0 2 3 2 2 0 1 2 2 2 2 0 0 2 2 3 0 2 2 2 3 3 3 1 2 0 3\n 3 2 3 0 0 0 2 2 0 1 0 2 3 2 3 2 2 2 0 2 3 1 3 3 2 3 1 1 0 1 3 3 1 2 3 2 3\n 1 1 3 0 1 0 1 1 1 1 0 1 1 1 1 1 3 1 1 1 1 2 3 2 2 2 2 1 1 0 1 0 0 0 3 2 0\n 0 1 0 0 0 2 1 3 0 2 3 0 0 3 1 2 0 1 1 2 0 3 1 1 3 3 1 0 1 0 3 2 3 1 1 3 2\n 2 2 0 1 1 1 3 1 1 0 1 3 2 0 1 3 1 3 2 3 0 0 0 1 2 2 3 1 3 2 0 2 0 2 2 3 1\n 3 0 1 0 1 2 1 3 1 3 1 0 2 2 0 2 0 2 3 2 2 2 2 0 1 2 2 0 0 3 1 3 3 1 1 3 3\n 3 3 1 1 2 2 2 2 0 2 0 1 1 3 3 2 0 1 1 1 2 2 3 0 1 0 0 2 3 2 3 1 2 0 0 2 0\n 1 2 3 1 2 0 1 2 0 1 3 1 2 2 2 0 3 1 1 1 1 2 0 1 1 3 1 3 1 3 1 2 0 2]",
         "367"
        ],
        [
         "45188",
         "chr1",
         "30740921",
         "30741149",
         "[3 0 3 0 0 3 2 3 2 3 3 3 0 0 2 3 0 0 3 2 2 1 3 0 2 0 3 1 0 3 2 2 2 3 0 2 0\n 1 1 3 2 2 2 2 0 0 0 1 0 1 1 0 1 3 3 3 1 3 0 2 3 1 0 3 3 2 0 0 0 0 3 2 0 2\n 0 0 1 3 1 1 0 0 2 3 1 0 1 0 1 0 2 3 3 1 1 0 1 0 1 3 2 1 0 1 1 0 1 1 3 2 0\n 2 2 2 3 2 1 0 0 2 0 0 1 0 1 1 0 2 3 3 0 0 2 0 2 0 0 0 1 0 3 1 3 0 1 0 3 3\n 2 0 0 0 0 2 1 3 3 3 2 2 0 2 1 3 1 3 3 1 1 3 1 1 0 2 2 3 2 0 1 2 1 1 3 1 3\n 3 1 0 1 0 1 1 1 0 1 0 1 1 0 2 0 0 3 3 0 2 2 3 0 0 1 0 2 0 2 1 3 3 2 0 1 0\n 0 0 0 1 0 1]",
         "[0 3 0 3 3 0 1 0 1 0 0 0 3 3 1 0 3 3 0 1 1 2 0 3 1 3 0 2 3 0 1 1 1 0 3 1 3\n 2 2 0 1 1 1 1 3 3 3 2 3 2 2 3 2 0 0 0 2 0 3 1 0 2 3 0 0 1 3 3 3 3 0 1 3 1\n 3 3 2 0 2 2 3 3 1 0 2 3 2 3 2 3 1 0 0 2 2 3 2 3 2 0 1 2 3 2 2 3 2 2 0 1 3\n 1 1 1 0 1 2 3 3 1 3 3 2 3 2 2 3 1 0 0 3 3 1 3 1 3 3 3 2 3 0 2 0 3 2 3 0 0\n 1 3 3 3 3 1 2 0 0 0 1 1 3 1 2 0 2 0 0 2 2 0 2 2 3 1 1 0 1 3 2 1 2 2 0 2 0\n 0 2 3 2 3 2 2 2 3 2 3 2 2 3 1 3 3 0 0 3 1 1 0 3 3 2 3 1 3 1 2 0 0 1 3 2 3\n 3 3 3 2 3 2]",
         "228"
        ],
        [
         "4620173",
         "chr3",
         "120222848",
         "120222903",
         "[1 3 1 3 1 3 1 3 1 3 1 3 1 3 1 3 1 3 1 3 1 3 1 3 1 3 1 3 1 3 2 3 2 3 2 3 2\n 3 2 3 2 3 2 3 2 3 2 3 2 3 2 3 2 3 2]",
         "[2 0 2 0 2 0 2 0 2 0 2 0 2 0 2 0 2 0 2 0 2 0 2 0 2 0 2 0 2 0 1 0 1 0 1 0 1\n 0 1 0 1 0 1 0 1 0 1 0 1 0 1 0 1 0 1]",
         "55"
        ],
        [
         "3714012",
         "chr19",
         "55305044",
         "55305409",
         "[3 3 1 0 3 1 3 1 3 1 3 3 3 1 3 1 3 1 3 1 3 1 3 1 3 1 3 1 3 1 3 3 0 1 0 1 0\n 1 0 1 0 1 0 1 0 1 0 1 0 1 0 1 0 1 0 1 0 1 0 1 0 1 0 1 0 1 0 1 0 1 0 1 0 1\n 0 1 3 2 3 0 3 1 3 3 1 0 0 3 3 0 3 0 2 2 3 1 0 3 0 3 3 1 1 0 0 3 2 2 1 0 1\n 0 2 1 3 3 0 3 0 3 3 1 3 0 2 2 1 0 3 3 3 0 0 0 3 2 2 0 3 0 2 3 3 1 3 1 3 1\n 3 2 2 0 1 0 3 0 0 0 1 3 0 0 1 3 3 3 2 0 0 3 3 3 1 3 3 0 0 0 3 3 1 3 3 0 1\n 3 2 1 1 0 1 1 3 0 2 3 2 2 3 0 1 0 0 0 1 0 3 0 1 0 3 3 0 3 3 3 0 0 3 3 3 2\n 0 0 0 2 1 0 0 2 3 3 1 0 0 1 0 1 3 0 2 3 2 3 1 3 2 2 3 0 0 3 1 3 3 0 0 0 3\n 0 3 3 3 3 3 2 2 0 2 0 0 3 3 3 3 0 3 3 3 1 1 3 3 0 3 3 3 2 0 0 2 3 3 1 3 2\n 3 1 3 2 3 2 0 3 0 0 0 2 3 0 0 3 0 2 3 3 3 3 0 0 3 0 0 3 3 3 1 3 0 2 0 3 3\n 0 0 1 0 3 2 2 3 3 3 3 0 3 0 1 0 2 2 2 1 1 0 3 2 0 3 1 3 3 3 0 2]",
         "[0 0 2 3 0 2 0 2 0 2 0 0 0 2 0 2 0 2 0 2 0 2 0 2 0 2 0 2 0 2 0 0 3 2 3 2 3\n 2 3 2 3 2 3 2 3 2 3 2 3 2 3 2 3 2 3 2 3 2 3 2 3 2 3 2 3 2 3 2 3 2 3 2 3 2\n 3 2 0 1 0 3 0 2 0 0 2 3 3 0 0 3 0 3 1 1 0 2 3 0 3 0 0 2 2 3 3 0 1 1 2 3 2\n 3 1 2 0 0 3 0 3 0 0 2 0 3 1 1 2 3 0 0 0 3 3 3 0 1 1 3 0 3 1 0 0 2 0 2 0 2\n 0 1 1 3 2 3 0 3 3 3 2 0 3 3 2 0 0 0 1 3 3 0 0 0 2 0 0 3 3 3 0 0 2 0 0 3 2\n 0 1 2 2 3 2 2 0 3 1 0 1 1 0 3 2 3 3 3 2 3 0 3 2 3 0 0 3 0 0 0 3 3 0 0 0 1\n 3 3 3 1 2 3 3 1 0 0 2 3 3 2 3 2 0 3 1 0 1 0 2 0 1 1 0 3 3 0 2 0 0 3 3 3 0\n 3 0 0 0 0 0 1 1 3 1 3 3 0 0 0 0 3 0 0 0 2 2 0 0 3 0 0 0 1 3 3 1 0 0 2 0 1\n 0 2 0 1 0 1 3 0 3 3 3 1 0 3 3 0 3 1 0 0 0 0 3 3 0 3 3 0 0 0 2 0 3 1 3 0 0\n 3 3 2 3 0 1 1 0 0 0 0 3 0 3 2 3 1 1 1 2 2 3 0 1 3 0 2 0 0 0 3 1]",
         "365"
        ],
        [
         "5127282",
         "chr4",
         "139623002",
         "139623325",
         "[0 2 2 2 2 1 1 1 1 2 0 0 2 2 0 2 2 3 2 2 0 1 1 2 2 2 1 2 0 3 2 1 3 2 1 2 1\n 1 3 1 1 1 2 1 0 2 0 2 2 3 0 2 3 2 1 2 1 3 1 1 2 2 2 1 3 3 2 3 1 3 0 2 3 1\n 1 0 2 1 1 1 2 2 3 2 2 2 2 1 3 2 0 1 3 1 3 2 0 2 1 3 3 1 1 1 0 1 0 2 1 3 2\n 1 2 1 0 0 2 0 1 3 2 3 3 0 0 2 0 2 3 1 3 1 1 2 1 2 0 3 2 1 3 2 1 1 2 1 3 2\n 1 1 2 3 1 2 1 3 1 1 2 1 1 2 0 3 1 1 1 3 2 1 3 2 3 1 1 1 0 3 2 1 1 3 2 2 0\n 2 2 2 2 1 2 1 3 2 2 2 3 2 0 2 3 2 0 0 1 1 1 1 3 1 3 2 1 3 2 1 1 3 2 0 2 3\n 1 1 3 2 0 2 0 2 1 1 2 3 2 2 0 1 0 2 0 3 1 1 1 0 1 3 1 3 2 3 2 2 2 3 1 1 3\n 1 1 0 2 2 3 3 2 1 0 2 1 1 0 3 3 0 3 1 3 1 1 0 2 2 2 3 1 1 1 3 0 3 2 2 1 3\n 1 1 1 1 3 0 0 2 3 2 1 2 1 2 1 1 2 2 2 3 1 2 1 2 0 1 1]",
         "[3 1 1 1 1 2 2 2 2 1 3 3 1 1 3 1 1 0 1 1 3 2 2 1 1 1 2 1 3 0 1 2 0 1 2 1 2\n 2 0 2 2 2 1 2 3 1 3 1 1 0 3 1 0 1 2 1 2 0 2 2 1 1 1 2 0 0 1 0 2 0 3 1 0 2\n 2 3 1 2 2 2 1 1 0 1 1 1 1 2 0 1 3 2 0 2 0 1 3 1 2 0 0 2 2 2 3 2 3 1 2 0 1\n 2 1 2 3 3 1 3 2 0 1 0 0 3 3 1 3 1 0 2 0 2 2 1 2 1 3 0 1 2 0 1 2 2 1 2 0 1\n 2 2 1 0 2 1 2 0 2 2 1 2 2 1 3 0 2 2 2 0 1 2 0 1 0 2 2 2 3 0 1 2 2 0 1 1 3\n 1 1 1 1 2 1 2 0 1 1 1 0 1 3 1 0 1 3 3 2 2 2 2 0 2 0 1 2 0 1 2 2 0 1 3 1 0\n 2 2 0 1 3 1 3 1 2 2 1 0 1 1 3 2 3 1 3 0 2 2 2 3 2 0 2 0 1 0 1 1 1 0 2 2 0\n 2 2 3 1 1 0 0 1 2 3 1 2 2 3 0 0 3 0 2 0 2 2 3 1 1 1 0 2 2 2 0 3 0 1 1 2 0\n 2 2 2 2 0 3 3 1 0 1 2 1 2 1 2 2 1 1 1 0 2 1 2 1 3 2 2]",
         "323"
        ],
        [
         "6074841",
         "chr6",
         "129532933",
         "129533175",
         "[0 0 1 0 0 2 0 0 0 1 3 3 2 0 0 2 2 2 2 0 2 2 2 0 0 2 0 1 2 0 1 0 3 3 3 2 3\n 3 0 2 0 2 1 0 3 3 1 3 3 3 2 0 0 3 3 0 0 1 0 0 0 3 3 0 1 1 3 3 3 0 0 3 0 3\n 1 0 0 3 1 1 3 1 0 0 0 0 0 3 0 0 0 0 0 1 1 1 2 0 1 3 0 1 0 3 2 0 3 3 3 3 3\n 2 1 2 3 3 3 1 2 0 3 2 2 0 2 3 2 2 3 3 3 0 2 2 0 0 0 0 2 1 3 3 2 2 2 3 2 0\n 0 0 0 2 0 0 2 0 3 0 1 0 1 0 0 0 3 0 0 0 1 0 0 0 2 1 3 3 1 3 2 3 1 1 0 1 1\n 1 2 2 0 3 1 1 0 2 1 0 2 2 3 1 1 3 3 0 2 1 2 1 1 2 2 2 2 2 1 2 2 0 2 1 2 2\n 2 2 2 3 2 2 2 2 1 2 3 1 2 3 2 0 3 2 3 1]",
         "[3 3 2 3 3 1 3 3 3 2 0 0 1 3 3 1 1 1 1 3 1 1 1 3 3 1 3 2 1 3 2 3 0 0 0 1 0\n 0 3 1 3 1 2 3 0 0 2 0 0 0 1 3 3 0 0 3 3 2 3 3 3 0 0 3 2 2 0 0 0 3 3 0 3 0\n 2 3 3 0 2 2 0 2 3 3 3 3 3 0 3 3 3 3 3 2 2 2 1 3 2 0 3 2 3 0 1 3 0 0 0 0 0\n 1 2 1 0 0 0 2 1 3 0 1 1 3 1 0 1 1 0 0 0 3 1 1 3 3 3 3 1 2 0 0 1 1 1 0 1 3\n 3 3 3 1 3 3 1 3 0 3 2 3 2 3 3 3 0 3 3 3 2 3 3 3 1 2 0 0 2 0 1 0 2 2 3 2 2\n 2 1 1 3 0 2 2 3 1 2 3 1 1 0 2 2 0 0 3 1 2 1 2 2 1 1 1 1 1 2 1 1 3 1 2 1 1\n 1 1 1 0 1 1 1 1 2 1 0 2 1 0 1 3 0 1 0 2]",
         "242"
        ],
        [
         "7026750",
         "chr9",
         "22071119",
         "22071726",
         "[2 1 3 2 1 2 2 1 2 3 1 3 1 0 2 2 3 1 1 0 1 1 1 0 2 2 2 2 1 1 2 3 2 1 2 1 1\n 3 1 2 1 1 1 0 2 2 3 0 1 0 1 2 1 2 1 1 2 1 0 1 2 3 1 2 3 0 1 3 3 1 3 3 1 1\n 2 2 2 0 1 3 1 2 0 2 1 1 2 1 1 3 1 1 2 2 2 1 1 1 2 2 3 1 1 2 0 1 3 1 2 2 3\n 2 0 2 1 1 2 1 2 2 1 1 2 2 1 1 1 1 2 1 2 1 1 3 3 3 1 3 2 1 1 3 2 1 1 2 1 2\n 1 1 3 3 1 1 3 1 3 2 1 1 2 1 1 2 1 1 3 1 1 1 1 2 1 1 3 2 1 2 1 1 1 2 1 1 3\n 1 1 2 1 1 3 1 1 2 1 1 1 1 2 2 2 1 3 1 3 2 2 0 2 1 1 1 2 1 3 1 1 2 1 1 0 3\n 1 1 1 1 1 1 1 3 1 1 1 3 2 2 3 3 0 1 1 2 2 1 1 3 1 1 1 1 1 2 3 3 2 3 3 0 2\n 2 0 2 1 1 3 1 2 0 1 1 2 2 0 0 2 3 2 2 1 2 1 2 1 1 3 0 2 3 1 3 2 1 2 1 1 2\n 1 1 2 2 2 0 2 0 3 3 3 1 3 1 0 1 0 2 2 2 3 1 3 3 1 3 1 3 2 1 1 1 2 1 2 2 1\n 2 1 1 0 0 0 1 2 2 2 2 0 1 0 0 1 3 0 2 1 1 0 3 0 2 1 3 2 1 2 1 0 3 2 1 2 1\n 2 3 0 2 3 1 1 2 3 1 1 2 2 1 1 1 0 2 2 1 1 0 3 2 2 0 0 2 3 2 1 2 3 3 1 3 2\n 3 3 2 0 1 0 0 2 3 1 0 2 3 3 0 3 3 3 2 2 2 0 2 2 3 0 2 0 2 2 1 0 1 3 2 2 2\n 3 0 1 3 2 0 0 0 1 3 1 0 2 2 3 0 0 3 1 1 3 3 2 1 1 3 1 3 1 3 0 3 3 2 0 0 3\n 3 1 3 3 1 2 2 1 0 0 3 2 3 2 0 3 3 0 0 0 2 0 3 3 3 3 3 3 1 0 0 0 0 2 2 2 1\n 3 2 2 0 2 0 0 0 3 2 2 1 3 1 0 1 3 2 2 3 3 0 0 2 2 2 1 0 1 3 1 0 1 3 2 1 3\n 3 3 3 1 1 0 2 0 2 2 0 1 1 3 2 1 2 1 3 1 0 0 0 3 3 1 0 2 1 0 1 1 3 0 1 0 3\n 2 2 1 0 2 1 3 0 2 0 0 1 3 2 3]",
         "[1 2 0 1 2 1 1 2 1 0 2 0 2 3 1 1 0 2 2 3 2 2 2 3 1 1 1 1 2 2 1 0 1 2 1 2 2\n 0 2 1 2 2 2 3 1 1 0 3 2 3 2 1 2 1 2 2 1 2 3 2 1 0 2 1 0 3 2 0 0 2 0 0 2 2\n 1 1 1 3 2 0 2 1 3 1 2 2 1 2 2 0 2 2 1 1 1 2 2 2 1 1 0 2 2 1 3 2 0 2 1 1 0\n 1 3 1 2 2 1 2 1 1 2 2 1 1 2 2 2 2 1 2 1 2 2 0 0 0 2 0 1 2 2 0 1 2 2 1 2 1\n 2 2 0 0 2 2 0 2 0 1 2 2 1 2 2 1 2 2 0 2 2 2 2 1 2 2 0 1 2 1 2 2 2 1 2 2 0\n 2 2 1 2 2 0 2 2 1 2 2 2 2 1 1 1 2 0 2 0 1 1 3 1 2 2 2 1 2 0 2 2 1 2 2 3 0\n 2 2 2 2 2 2 2 0 2 2 2 0 1 1 0 0 3 2 2 1 1 2 2 0 2 2 2 2 2 1 0 0 1 0 0 3 1\n 1 3 1 2 2 0 2 1 3 2 2 1 1 3 3 1 0 1 1 2 1 2 1 2 2 0 3 1 0 2 0 1 2 1 2 2 1\n 2 2 1 1 1 3 1 3 0 0 0 2 0 2 3 2 3 1 1 1 0 2 0 0 2 0 2 0 1 2 2 2 1 2 1 1 2\n 1 2 2 3 3 3 2 1 1 1 1 3 2 3 3 2 0 3 1 2 2 3 0 3 1 2 0 1 2 1 2 3 0 1 2 1 2\n 1 0 3 1 0 2 2 1 0 2 2 1 1 2 2 2 3 1 1 2 2 3 0 1 1 3 3 1 0 1 2 1 0 0 2 0 1\n 0 0 1 3 2 3 3 1 0 2 3 1 0 0 3 0 0 0 1 1 1 3 1 1 0 3 1 3 1 1 2 3 2 0 1 1 1\n 0 3 2 0 1 3 3 3 2 0 2 3 1 1 0 3 3 0 2 2 0 0 1 2 2 0 2 0 2 0 3 0 0 1 3 3 0\n 0 2 0 0 2 1 1 2 3 3 0 1 0 1 3 0 0 3 3 3 1 3 0 0 0 0 0 0 2 3 3 3 3 1 1 1 2\n 0 1 1 3 1 3 3 3 0 1 1 2 0 2 3 2 0 1 1 0 0 3 3 1 1 1 2 3 2 0 2 3 2 0 1 2 0\n 0 0 0 2 2 3 1 3 1 1 3 2 2 0 1 2 1 2 0 2 3 3 3 0 0 2 3 1 2 3 2 2 0 3 2 3 0\n 1 1 2 3 1 2 0 3 1 3 3 2 0 1 0]",
         "607"
        ],
        [
         "7317912",
         "chr9",
         "105131760",
         "105131946",
         "[0 1 3 3 3 1 1 2 0 3 2 1 1 1 1 3 1 1 0 3 1 3 1 2 0 2 2 1 3 1 2 1 0 1 3 3 1\n 1 2 2 2 3 3 1 3 3 2 1 0 2 0 2 2 1 1 0 2 1 2 1 1 3 1 2 2 2 2 1 2 2 0 2 1 3\n 3 3 2 1 2 0 2 0 1 3 1 1 2 1 0 3 1 0 2 1 1 0 0 3 1 0 2 2 0 3 2 2 2 3 1 3 1\n 3 1 0 2 2 0 2 1 3 1 1 2 0 0 2 0 1 0 1 1 1 3 2 2 0 3 3 2 2 1 1 1 3 3 0 2 2\n 1 3 0 2 2 2 3 2 2 2 2 1 3 2 0 0 2 2 1 3 3 2 2 3 0 0 2 2 3 1 0 2 2 1 3 1 0\n 2]",
         "[3 2 0 0 0 2 2 1 3 0 1 2 2 2 2 0 2 2 3 0 2 0 2 1 3 1 1 2 0 2 1 2 3 2 0 0 2\n 2 1 1 1 0 0 2 0 0 1 2 3 1 3 1 1 2 2 3 1 2 1 2 2 0 2 1 1 1 1 2 1 1 3 1 2 0\n 0 0 1 2 1 3 1 3 2 0 2 2 1 2 3 0 2 3 1 2 2 3 3 0 2 3 1 1 3 0 1 1 1 0 2 0 2\n 0 2 3 1 1 3 1 2 0 2 2 1 3 3 1 3 2 3 2 2 2 0 1 1 3 0 0 1 1 2 2 2 0 0 3 1 1\n 2 0 3 1 1 1 0 1 1 1 1 2 0 1 3 3 1 1 2 0 0 1 1 0 3 3 1 1 0 2 3 1 1 2 0 2 3\n 1]",
         "186"
        ],
        [
         "1840898",
         "chr13",
         "44869581",
         "44869666",
         "[1 1 0 0 1 0 1 1 3 3 3 3 1 3 2 2 2 2 3 1 3 2 0 3 2 0 2 1 2 3 1 2 0 1 0 3 1\n 2 2 2 1 2 1 1 3 3 0 0 1 1 1 2 2 1 2 3 3 1 2 2 3 3 1 0 3 1 1 1 2 1 0 2 1 2\n 1 1 0 2 3 3 1 3 2 1 3]",
         "[2 2 3 3 2 3 2 2 0 0 0 0 2 0 1 1 1 1 0 2 0 1 3 0 1 3 1 2 1 0 2 1 3 2 3 0 2\n 1 1 1 2 1 2 2 0 0 3 3 2 2 2 1 1 2 1 0 0 2 1 1 0 0 2 3 0 2 2 2 1 2 3 1 2 1\n 2 2 3 1 0 0 2 0 1 2 0]",
         "85"
        ],
        [
         "6741505",
         "chr8",
         "68682672",
         "68683132",
         "[0 2 1 1 1 2 2 2 2 1 3 1 2 0 2 3 2 2 0 2 3 2 2 0 0 2 2 2 2 3 3 3 2 3 2 1 1\n 1 1 0 2 0 3 1 0 0 2 1 1 1 2 2 2 3 0 2 1 1 3 2 1 3 3 1 1 1 3 0 3 2 3 0 1 1\n 2 1 0 2 3 1 3 1 0 0 2 3 3 1 1 2 1 2 1 2 0 3 3 2 2 0 3 3 2 2 2 2 1 0 2 2 1\n 0 1 3 2 3 2 0 3 1 1 0 1 3 1 0 1 1 2 2 0 2 2 3 1 3 3 0 2 2 2 3 1 1 1 2 3 2\n 2 2 0 0 2 3 1 1 3 2 3 2 3 2 2 0 1 1 1 3 3 2 1 2 2 2 3 2 3 3 2 2 2 1 0 0 2\n 0 1 3 1 3 2 1 3 2 2 1 0 0 2 2 3 0 2 1 1 1 2 2 2 2 1 3 1 2 0 2 3 1 3 1 2 0\n 2 3 1 2 0 2 1 2 2 0 0 2 2 2 0 1 3 3 2 3 2 1 1 1 1 0 2 0 3 1 0 2 2 1 1 1 2\n 2 2 3 0 2 1 1 3 2 1 3 3 1 1 1 3 0 3 2 3 0 1 1 2 1 0 2 3 1 3 1 2 0 2 3 3 1\n 1 2 1 2 1 2 0 3 3 2 2 0 3 3 2 2 2 2 1 0 2 2 1 0 1 3 2 3 2 2 3 1 1 0 1 3 1\n 0 1 1 0 2 0 2 2 3 1 3 3 0 2 2 2 3 1 1 1 2 3 2 2 2 2 0 2 3 1 1 1 2 3 2 3 2\n 2 2 1 1 1 3 3 2 1 2 2 2 3 2 3 3 2 2 2 1 0 0 2 0 1 3 1 3 2 1 3 2 2 1 0 0 2\n 2 3 0 2 1 1 1 2 2 2 2 1 3 1 2 0 2 3 1 3 1 2 0 2 3 1 2 0 2 1 2 2 0 0 2 2 2\n 0 1 3 3 2 3 2 1 1 1 1 0 2 0 3 1]",
         "[3 1 2 2 2 1 1 1 1 2 0 2 1 3 1 0 1 1 3 1 0 1 1 3 3 1 1 1 1 0 0 0 1 0 1 2 2\n 2 2 3 1 3 0 2 3 3 1 2 2 2 1 1 1 0 3 1 2 2 0 1 2 0 0 2 2 2 0 3 0 1 0 3 2 2\n 1 2 3 1 0 2 0 2 3 3 1 0 0 2 2 1 2 1 2 1 3 0 0 1 1 3 0 0 1 1 1 1 2 3 1 1 2\n 3 2 0 1 0 1 3 0 2 2 3 2 0 2 3 2 2 1 1 3 1 1 0 2 0 0 3 1 1 1 0 2 2 2 1 0 1\n 1 1 3 3 1 0 2 2 0 1 0 1 0 1 1 3 2 2 2 0 0 1 2 1 1 1 0 1 0 0 1 1 1 2 3 3 1\n 3 2 0 2 0 1 2 0 1 1 2 3 3 1 1 0 3 1 2 2 2 1 1 1 1 2 0 2 1 3 1 0 2 0 2 1 3\n 1 0 2 1 3 1 2 1 1 3 3 1 1 1 3 2 0 0 1 0 1 2 2 2 2 3 1 3 0 2 3 1 1 2 2 2 1\n 1 1 0 3 1 2 2 0 1 2 0 0 2 2 2 0 3 0 1 0 3 2 2 1 2 3 1 0 2 0 2 1 3 1 0 0 2\n 2 1 2 1 2 1 3 0 0 1 1 3 0 0 1 1 1 1 2 3 1 1 2 3 2 0 1 0 1 1 0 2 2 3 2 0 2\n 3 2 2 3 1 3 1 1 0 2 0 0 3 1 1 1 0 2 2 2 1 0 1 1 1 1 3 1 0 2 2 2 1 0 1 0 1\n 1 1 2 2 2 0 0 1 2 1 1 1 0 1 0 0 1 1 1 2 3 3 1 3 2 0 2 0 1 2 0 1 1 2 3 3 1\n 1 0 3 1 2 2 2 1 1 1 1 2 0 2 1 3 1 0 2 0 2 1 3 1 0 2 1 3 1 2 1 1 3 3 1 1 1\n 3 2 0 0 1 0 1 2 2 2 2 3 1 3 0 2]",
         "460"
        ],
        [
         "7004845",
         "chr9",
         "14041829",
         "14042354",
         "[1 3 1 3 2 2 3 3 3 3 2 3 3 3 2 3 1 3 2 0 2 0 1 0 0 2 3 3 1 3 1 0 1 0 3 0 2\n 1 0 2 1 1 2 1 1 3 0 2 1 0 2 3 3 0 1 3 0 3 2 3 0 2 3 1 1 0 2 2 1 3 0 0 3 2\n 3 3 2 0 1 3 3 1 3 3 3 0 1 1 0 3 1 3 3 3 3 3 2 2 1 3 1 1 3 3 2 0 1 1 3 2 0\n 2 3 0 0 3 2 1 0 1 3 1 0 1 0 0 2 1 0 0 2 3 2 1 1 0 3 1 0 1 1 3 1 3 2 2 1 3\n 2 1 2 0 3 0 3 1 3 3 2 3 3 3 2 1 0 2 3 1 3 1 0 2 0 0 3 0 2 1 0 1 3 0 2 3 3\n 0 2 0 0 0 3 2 3 1 1 0 2 2 3 1 3 1 1 3 1 3 0 2 1 1 0 2 3 2 3 2 1 3 0 0 1 3\n 3 1 3 2 2 3 2 3 1 3 2 3 3 3 0 3 2 0 3 3 2 2 0 3 3 3 2 3 1 3 2 3 3 0 3 3 2\n 3 0 3 3 2 2 0 2 0 1 0 2 3 3 1 0 3 2 3 2 3 0 2 0 3 1 3 2 0 2 1 1 0 0 2 2 1\n 3 1 3 1 3 1 3 2 3 2 3 2 3 2 2 1 3 0 1 0 3 1 0 0 2 3 2 3 2 3 1 3 0 3 0 0 0\n 0 1 0 3 3 1 0 3 3 0 0 2 3 3 0 2 3 3 0 2 1 0 1 0 1 0 0 3 1 0 2 0 0 2 1 1 3\n 2 0 0 0 0 2 1 3 3 0 1 0 3 1 0 3 2 1 0 1 3 2 2 2 2 1 3 2 0 2 0 2 1 3 2 3 1\n 0 0 3 1 0 2 1 0 1 1 3 1 0 1 3 2 3 2 3 1 0 2 3 0 0 3 2 0 2 1 3 0 0 2 1 1 0\n 2 0 1 3 0 2 0 0 0 1 0 0 1 1 1 3 2 3 2 1 0 2 1 0 2 0 2 3 1 1 0 1 0 0 2 2 2\n 3 2 0 2 2 0 3 3 2 0 0 0 1 0 0 0 0 2 3 0 3 3 3 1 0 2 3 3 3 3 0 3 2 3 2 3 3\n 3 3 3 0 1 0 0]",
         "[2 0 2 0 1 1 0 0 0 0 1 0 0 0 1 0 2 0 1 3 1 3 2 3 3 1 0 0 2 0 2 3 2 3 0 3 1\n 2 3 1 2 2 1 2 2 0 3 1 2 3 1 0 0 3 2 0 3 0 1 0 3 1 0 2 2 3 1 1 2 0 3 3 0 1\n 0 0 1 3 2 0 0 2 0 0 0 3 2 2 3 0 2 0 0 0 0 0 1 1 2 0 2 2 0 0 1 3 2 2 0 1 3\n 1 0 3 3 0 1 2 3 2 0 2 3 2 3 3 1 2 3 3 1 0 1 2 2 3 0 2 3 2 2 0 2 0 1 1 2 0\n 1 2 1 3 0 3 0 2 0 0 1 0 0 0 1 2 3 1 0 2 0 2 3 1 3 3 0 3 1 2 3 2 0 3 1 0 0\n 3 1 3 3 3 0 1 0 2 2 3 1 1 0 2 0 2 2 0 2 0 3 1 2 2 3 1 0 1 0 1 2 0 3 3 2 0\n 0 2 0 1 1 0 1 0 2 0 1 0 0 0 3 0 1 3 0 0 1 1 3 0 0 0 1 0 2 0 1 0 0 3 0 0 1\n 0 3 0 0 1 1 3 1 3 2 3 1 0 0 2 3 0 1 0 1 0 3 1 3 0 2 0 1 3 1 2 2 3 3 1 1 2\n 0 2 0 2 0 2 0 1 0 1 0 1 0 1 1 2 0 3 2 3 0 2 3 3 1 0 1 0 1 0 2 0 3 0 3 3 3\n 3 2 3 0 0 2 3 0 0 3 3 1 0 0 3 1 0 0 3 1 2 3 2 3 2 3 3 0 2 3 1 3 3 1 2 2 0\n 1 3 3 3 3 1 2 0 0 3 2 3 0 2 3 0 1 2 3 2 0 1 1 1 1 2 0 1 3 1 3 1 2 0 1 0 2\n 3 3 0 2 3 1 2 3 2 2 0 2 3 2 0 1 0 1 0 2 3 1 0 3 3 0 1 3 1 2 0 3 3 1 2 2 3\n 1 3 2 0 3 1 3 3 3 2 3 3 2 2 2 0 1 0 1 2 3 1 2 3 1 3 1 0 2 2 3 2 3 3 1 1 1\n 0 1 3 1 1 3 0 0 1 3 3 3 2 3 3 3 3 1 0 3 0 0 0 2 3 1 0 0 0 0 3 0 1 0 1 0 0\n 0 0 0 3 2 3 3]",
         "525"
        ],
        [
         "131894",
         "chr1",
         "62929548",
         "62929831",
         "[3 0 2 2 2 0 1 0 0 2 0 2 1 2 3 3 2 1 3 1 0 3 3 2 0 0 3 0 0 0 2 0 0 2 1 3 2\n 3 2 0 0 0 2 2 0 2 0 2 0 1 0 2 0 2 0 3 0 0 2 1 1 3 3 3 1 1 1 0 1 1 1 0 2 2\n 0 1 1 3 1 2 2 0 1 1 0 2 3 1 1 3 3 1 3 2 1 1 3 1 0 2 2 3 3 1 1 3 2 1 1 3 1\n 3 3 1 1 1 3 2 2 2 2 0 0 1 3 1 0 2 1 1 0 2 2 1 1 0 1 0 2 2 1 0 1 3 3 1 2 0\n 2 2 2 2 2 2 0 1 0 2 1 2 1 1 0 1 1 3 3 2 3 2 2 2 1 3 0 3 3 3 2 3 3 1 1 1 2\n 2 3 3 2 0 2 0 0 2 1 1 1 3 1 0 0 3 2 0 2 2 3 1 3 3 3 3 2 1 3 3 3 3 3 0 1 3\n 0 1 1 3 3 2 0 0 1 0 1 0 1 0 3 3 3 3 3 3 3 3 3 0 3 1 0 0 0 0 2 0 2 0 0 0 0\n 3 0 1 0 2 2 0 1 2 3 1 3 2 0 0 2 3 0 3 3 3 3 3 3]",
         "[0 3 1 1 1 3 2 3 3 1 3 1 2 1 0 0 1 2 0 2 3 0 0 1 3 3 0 3 3 3 1 3 3 1 2 0 1\n 0 1 3 3 3 1 1 3 1 3 1 3 2 3 1 3 1 3 0 3 3 1 2 2 0 0 0 2 2 2 3 2 2 2 3 1 1\n 3 2 2 0 2 1 1 3 2 2 3 1 0 2 2 0 0 2 0 1 2 2 0 2 3 1 1 0 0 2 2 0 1 2 2 0 2\n 0 0 2 2 2 0 1 1 1 1 3 3 2 0 2 3 1 2 2 3 1 1 2 2 3 2 3 1 1 2 3 2 0 0 2 1 3\n 1 1 1 1 1 1 3 2 3 1 2 1 2 2 3 2 2 0 0 1 0 1 1 1 2 0 3 0 0 0 1 0 0 2 2 2 1\n 1 0 0 1 3 1 3 3 1 2 2 2 0 2 3 3 0 1 3 1 1 0 2 0 0 0 0 1 2 0 0 0 0 0 3 2 0\n 3 2 2 0 0 1 3 3 2 3 2 3 2 3 0 0 0 0 0 0 0 0 0 3 0 2 3 3 3 3 1 3 1 3 3 3 3\n 0 3 2 3 1 1 3 2 1 0 2 0 1 3 3 1 0 3 0 0 0 0 0 0]",
         "283"
        ],
        [
         "3608353",
         "chr19",
         "25373643",
         "25374049",
         "[2 3 2 3 3 1 1 0 1 0 0 2 1 1 0 1 0 3 0 1 1 1 3 3 1 0 2 2 0 2 3 1 1 1 0 3 3\n 3 3 0 0 3 0 0 2 1 0 3 3 3 3 0 3 1 3 3 3 3 0 0 1 3 3 3 3 3 2 3 3 3 0 3 3 3\n 3 3 0 3 2 3 2 3 2 2 0 3 2 3 3 3 3 2 1 3 3 2 1 0 3 2 3 0 3 2 0 1 3 2 3 2 3\n 0 1 1 0 1 0 3 2 1 0 3 2 1 0 2 3 0 1 1 1 0 1 0 2 0 2 2 1 1 0 2 0 0 2 0 2 2\n 2 1 2 3 3 2 2 3 1 1 1 1 3 1 2 2 1 1 3 0 2 0 0 3 3 0 3 0 2 0 3 2 0 3 3 2 3\n 2 0 2 1 1 0 3 3 2 3 2 3 2 2 2 3 0 1 3 2 2 2 0 0 3 1 0 0 0 1 1 3 2 3 2 1 1\n 1 3 1 3 2 2 0 0 2 0 0 1 0 3 1 1 0 2 3 0 0 0 1 3 3 0 0 1 1 3 1 3 2 0 2 1 1\n 0 3 1 3 1 3 1 1 0 2 1 1 1 3 2 2 3 3 0 3 1 0 3 3 3 3 0 3 1 0 3 1 0 3 3 3 0\n 0 3 3 0 2 0 0 0 0 3 0 3 2 2 3 1 3 1 0 2 0 3 1 0 3 1 0 2 1 0 3 3 3 0 0 3 2\n 2 3 0 3 2 3 1 3 3 0 1 0 1 3 0 2 2 3 2 0 3 2 3 1 3 1 3 2 0 3 3 3 1 0 2 1 1\n 3 3 0 0 2 0 0 0 3 1 1 3 0 2 1 0 0 2 2 2 2 3 2 0 0 0 3 1 0 2 2 3 3 0 2 1]",
         "[1 0 1 0 0 2 2 3 2 3 3 1 2 2 3 2 3 0 3 2 2 2 0 0 2 3 1 1 3 1 0 2 2 2 3 0 0\n 0 0 3 3 0 3 3 1 2 3 0 0 0 0 3 0 2 0 0 0 0 3 3 2 0 0 0 0 0 1 0 0 0 3 0 0 0\n 0 0 3 0 1 0 1 0 1 1 3 0 1 0 0 0 0 1 2 0 0 1 2 3 0 1 0 3 0 1 3 2 0 1 0 1 0\n 3 2 2 3 2 3 0 1 2 3 0 1 2 3 1 0 3 2 2 2 3 2 3 1 3 1 1 2 2 3 1 3 3 1 3 1 1\n 1 2 1 0 0 1 1 0 2 2 2 2 0 2 1 1 2 2 0 3 1 3 3 0 0 3 0 3 1 3 0 1 3 0 0 1 0\n 1 3 1 2 2 3 0 0 1 0 1 0 1 1 1 0 3 2 0 1 1 1 3 3 0 2 3 3 3 2 2 0 1 0 1 2 2\n 2 0 2 0 1 1 3 3 1 3 3 2 3 0 2 2 3 1 0 3 3 3 2 0 0 3 3 2 2 0 2 0 1 3 1 2 2\n 3 0 2 0 2 0 2 2 3 1 2 2 2 0 1 1 0 0 3 0 2 3 0 0 0 0 3 0 2 3 0 2 3 0 0 0 3\n 3 0 0 3 1 3 3 3 3 0 3 0 1 1 0 2 0 2 3 1 3 0 2 3 0 2 3 1 2 3 0 0 0 3 3 0 1\n 1 0 3 0 1 0 2 0 0 3 2 3 2 0 3 1 1 0 1 3 0 1 0 2 0 2 0 1 3 0 0 0 2 3 1 2 2\n 0 0 3 3 1 3 3 3 0 2 2 0 3 1 2 3 3 1 1 1 1 0 1 3 3 3 0 2 3 1 1 0 0 3 1 2]",
         "406"
        ],
        [
         "6343786",
         "chr7",
         "79246410",
         "79246585",
         "[2 3 0 2 1 1 2 2 2 2 1 1 0 3 2 3 2 0 3 1 2 1 2 1 0 2 1 3 2 1 3 1 2 0 1 1 3\n 0 0 2 1 2 2 1 0 2 2 1 3 3 1 1 2 3 3 1 1 3 2 0 1 2 1 1 0 3 3 2 1 1 3 1 1 1\n 3 2 2 1 1 3 1 0 2 2 2 3 2 2 1 2 1 3 2 1 3 1 0 1 3 1 3 1 1 0 0 1 1 3 1 1 1\n 3 2 1 3 2 1 3 1 3 2 1 3 2 2 2 0 0 0 0 1 0 2 0 2 2 2 0 0 2 3 3 3 1 1 1 0 2\n 3 0 2 0 1 3 0 3 1 1 3 0 0 0 0 2 1 2 2 0 2 3 2 0 0 0 0]",
         "[1 0 3 1 2 2 1 1 1 1 2 2 3 0 1 0 1 3 0 2 1 2 1 2 3 1 2 0 1 2 0 2 1 3 2 2 0\n 3 3 1 2 1 1 2 3 1 1 2 0 0 2 2 1 0 0 2 2 0 1 3 2 1 2 2 3 0 0 1 2 2 0 2 2 2\n 0 1 1 2 2 0 2 3 1 1 1 0 1 1 2 1 2 0 1 2 0 2 3 2 0 2 0 2 2 3 3 2 2 0 2 2 2\n 0 1 2 0 1 2 0 2 0 1 2 0 1 1 1 3 3 3 3 2 3 1 3 1 1 1 3 3 1 0 0 0 2 2 2 3 1\n 0 3 1 3 2 0 3 0 2 2 0 3 3 3 3 1 2 1 1 3 1 0 1 3 3 3 3]",
         "175"
        ],
        [
         "278096",
         "chr1",
         "126496771",
         "126497094",
         "[0 0 0 0 1 0 2 2 1 0 2 3 2 0 2 1 0 3 1 0 1 3 1 3 0 0 0 0 3 2 0 0 0 0 3 2 3\n 2 0 3 3 3 2 0 2 1 1 0 3 0 3 2 0 1 1 0 1 2 2 0 0 3 1 3 3 0 0 0 2 0 0 3 3 0\n 0 0 2 0 3 3 1 2 0 0 3 2 1 3 2 1 2 3 3 2 0 0 0 2 1 0 1 3 2 1 3 1 1 3 2 2 1\n 0 0 0 2 1 0 3 0 3 1 1 1 0 1 0 3 2 3 1 1 0 2 3 0 1 1 3 0 0 2 2 3 2 2 1 1 0\n 2 0 0 2 0 2 2 2 1 2 3 0 2 0 3 2 1 1 1 3 2 2 0 0 1 3 2 2 0 1 3 1 2 2 0 2 0\n 1 0 2 3 3 2 3 2 0 2 1 1 0 1 1 2 3 2 3 2 2 0 3 2 1 3 2 0 2 0 0 3 1 0 0 0 1\n 1 3 2 3 0 3 1 1 3 1 0 2 1 0 0 2 2 2 1 0 2 3 1 0 2 3 2 1 3 0 2 3 0 1 1 1 0\n 1 0 2 2 0 0 3 1 0 3 1 3 1 1 1 0 1 1 1 2 3 0 1 0 1 3 3 0 0 1 3 1 3 1 1 1 0\n 1 3 0 0 3 1 0 0 2 3 0 3 0 0 0 3 0 0 1 1 0 3 3 2 0 0 1]",
         "[3 3 3 3 2 3 1 1 2 3 1 0 1 3 1 2 3 0 2 3 2 0 2 0 3 3 3 3 0 1 3 3 3 3 0 1 0\n 1 3 0 0 0 1 3 1 2 2 3 0 3 0 1 3 2 2 3 2 1 1 3 3 0 2 0 0 3 3 3 1 3 3 0 0 3\n 3 3 1 3 0 0 2 1 3 3 0 1 2 0 1 2 1 0 0 1 3 3 3 1 2 3 2 0 1 2 0 2 2 0 1 1 2\n 3 3 3 1 2 3 0 3 0 2 2 2 3 2 3 0 1 0 2 2 3 1 0 3 2 2 0 3 3 1 1 0 1 1 2 2 3\n 1 3 3 1 3 1 1 1 2 1 0 3 1 3 0 1 2 2 2 0 1 1 3 3 2 0 1 1 3 2 0 2 1 1 3 1 3\n 2 3 1 0 0 1 0 1 3 1 2 2 3 2 2 1 0 1 0 1 1 3 0 1 2 0 1 3 1 3 3 0 2 3 3 3 2\n 2 0 1 0 3 0 2 2 0 2 3 1 2 3 3 1 1 1 2 3 1 0 2 3 1 0 1 2 0 3 1 0 3 2 2 2 3\n 2 3 1 1 3 3 0 2 3 0 2 0 2 2 2 3 2 2 2 1 0 3 2 3 2 0 0 3 3 2 0 2 0 2 2 2 3\n 2 0 3 3 0 2 3 3 1 0 3 0 3 3 3 0 3 3 2 2 3 0 0 1 3 3 2]",
         "323"
        ],
        [
         "1741532",
         "chr13",
         "9834324",
         "9834499",
         "[1 3 2 0 1 3 3 3 1 0 0 3 0 2 0 3 1 2 1 0 2 1 2 0 2 2 2 0 2 1 3 2 1 3 1 3 2\n 1 3 0 1 2 3 0 1 2 0 0 0 1 1 1 2 0 1 1 1 0 2 0 0 2 1 0 2 2 3 1 2 3 1 3 0 1\n 2 0 0 3 2 2 3 3 3 0 2 1 2 1 1 0 2 2 3 3 1 1 0 1 0 1 2 0 0 1 2 3 2 1 2 3 3\n 1 0 0 1 2 3 2 0 1 2 2 2 1 2 0 2 0 2 2 2 1 2 2 1 1 1 1 1 3 3 3 1 1 2 2 1 1\n 2 1 0 1 1 1 1 2 3 3 3 1 1 1 0 0 2 0 1 2 0 0 1 2 2 1 3]",
         "[2 0 1 3 2 0 0 0 2 3 3 0 3 1 3 0 2 1 2 3 1 2 1 3 1 1 1 3 1 2 0 1 2 0 2 0 1\n 2 0 3 2 1 0 3 2 1 3 3 3 2 2 2 1 3 2 2 2 3 1 3 3 1 2 3 1 1 0 2 1 0 2 0 3 2\n 1 3 3 0 1 1 0 0 0 3 1 2 1 2 2 3 1 1 0 0 2 2 3 2 3 2 1 3 3 2 1 0 1 2 1 0 0\n 2 3 3 2 1 0 1 3 2 1 1 1 2 1 3 1 3 1 1 1 2 1 1 2 2 2 2 2 0 0 0 2 2 1 1 2 2\n 1 2 3 2 2 2 2 1 0 0 0 2 2 2 3 3 1 3 2 1 3 3 2 1 1 2 0]",
         "175"
        ],
        [
         "7493226",
         "chrX",
         "59606655",
         "59606843",
         "[3 0 3 3 2 3 3 2 3 3 1 3 3 1 1 3 0 3 2 2 2 2 3 3 0 1 0 0 3 3 3 3 0 1 1 3 0\n 2 3 1 0 2 1 0 0 3 3 3 3 2 3 2 3 3 3 3 2 0 3 3 3 3 3 1 3 2 2 3 2 3 2 3 3 0\n 3 3 3 2 3 1 3 1 1 1 1 1 3 2 2 3 2 3 2 1 3 2 1 3 1 0 2 2 0 1 0 1 3 0 1 0 2\n 3 2 2 3 3 3 1 3 1 0 3 3 1 1 3 1 1 0 3 3 3 2 1 0 2 2 2 0 2 2 2 2 3 2 2 0 3\n 3 0 3 0 2 0 0 0 0 0 0 1 0 3 2 2 1 3 3 1 3 2 3 2 1 3 3 3 3 2 0 2 1 1 0 2 3\n 2 3 3]",
         "[0 3 0 0 1 0 0 1 0 0 2 0 0 2 2 0 3 0 1 1 1 1 0 0 3 2 3 3 0 0 0 0 3 2 2 0 3\n 1 0 2 3 1 2 3 3 0 0 0 0 1 0 1 0 0 0 0 1 3 0 0 0 0 0 2 0 1 1 0 1 0 1 0 0 3\n 0 0 0 1 0 2 0 2 2 2 2 2 0 1 1 0 1 0 1 2 0 1 2 0 2 3 1 1 3 2 3 2 0 3 2 3 1\n 0 1 1 0 0 0 2 0 2 3 0 0 2 2 0 2 2 3 0 0 0 1 2 3 1 1 1 3 1 1 1 1 0 1 1 3 0\n 0 3 0 3 1 3 3 3 3 3 3 2 3 0 1 1 2 0 0 2 0 1 0 1 2 0 0 0 0 1 3 1 2 2 3 1 0\n 1 0 0]",
         "188"
        ],
        [
         "7104539",
         "chr9",
         "46003690",
         "46004068",
         "[1 1 1 0 2 3 1 1 3 1 3 0 1 1 3 3 3 1 3 2 2 1 1 0 3 0 0 0 2 0 1 0 3 2 1 3 2\n 1 3 3 1 1 3 2 2 0 2 2 1 3 2 1 3 3 1 1 0 3 3 2 2 0 3 3 3 1 0 0 1 3 1 3 1 3\n 2 2 3 3 1 3 3 2 0 1 2 3 2 2 2 1 3 3 1 1 0 2 3 3 3 3 1 0 0 3 3 3 1 1 1 3 2\n 0 0 2 3 3 3 0 0 0 3 0 2 0 0 0 2 0 0 1 3 0 2 0 2 2 2 1 1 1 3 0 2 3 3 3 3 3\n 3 3 2 3 3 3 3 3 3 0 0 0 0 2 2 1 0 0 0 0 2 2 1 0 0 0 1 3 2 3 0 1 3 3 3 0 2\n 0 0 3 1 1 1 0 1 1 0 2 1 0 2 2 3 2 3 1 2 1 3 2 1 1 2 1 1 0 0 2 2 2 0 0 0 2\n 2 2 3 3 1 0 1 3 2 2 2 3 3 3 3 1 1 3 2 3 3 3 3 0 1 0 2 2 2 2 1 1 3 2 0 0 0\n 0 2 2 0 0 2 1 0 0 2 2 2 0 2 0 0 0 2 0 0 3 1 1 1 0 2 3 3 1 1 3 0 1 0 2 0 0\n 2 1 1 0 2 3 1 1 1 0 2 3 2 2 1 0 2 0 0 0 3 2 3 2 1 3 2 2 0 0 0 1 0 1 2 2 2\n 3 0 2 0 0 0 0 1 1 1 2 0 2 3 2 0 1 0 2 1 1 0 1 3 1 0 2 3 2 1 0 0 2 0 0 2 1\n 0 2 1 0 1 0 1 1]",
         "[2 2 2 3 1 0 2 2 0 2 0 3 2 2 0 0 0 2 0 1 1 2 2 3 0 3 3 3 1 3 2 3 0 1 2 0 1\n 2 0 0 2 2 0 1 1 3 1 1 2 0 1 2 0 0 2 2 3 0 0 1 1 3 0 0 0 2 3 3 2 0 2 0 2 0\n 1 1 0 0 2 0 0 1 3 2 1 0 1 1 1 2 0 0 2 2 3 1 0 0 0 0 2 3 3 0 0 0 2 2 2 0 1\n 3 3 1 0 0 0 3 3 3 0 3 1 3 3 3 1 3 3 2 0 3 1 3 1 1 1 2 2 2 0 3 1 0 0 0 0 0\n 0 0 1 0 0 0 0 0 0 3 3 3 3 1 1 2 3 3 3 3 1 1 2 3 3 3 2 0 1 0 3 2 0 0 0 3 1\n 3 3 0 2 2 2 3 2 2 3 1 2 3 1 1 0 1 0 2 1 2 0 1 2 2 1 2 2 3 3 1 1 1 3 3 3 1\n 1 1 0 0 2 3 2 0 1 1 1 0 0 0 0 2 2 0 1 0 0 0 0 3 2 3 1 1 1 1 2 2 0 1 3 3 3\n 3 1 1 3 3 1 2 3 3 1 1 1 3 1 3 3 3 1 3 3 0 2 2 2 3 1 0 0 2 2 0 3 2 3 1 3 3\n 1 2 2 3 1 0 2 2 2 3 1 0 1 1 2 3 1 3 3 3 0 1 0 1 2 0 1 1 3 3 3 2 3 2 1 1 1\n 0 3 1 3 3 3 3 2 2 2 1 3 1 0 1 3 2 3 1 2 2 3 2 0 2 3 1 0 1 2 3 3 1 3 3 1 2\n 3 1 2 3 2 3 2 2]",
         "378"
        ],
        [
         "1823460",
         "chr13",
         "40749133",
         "40749322",
         "[3 0 0 3 1 3 1 0 2 2 2 1 1 0 3 1 0 0 0 3 0 0 0 1 0 0 1 1 1 1 0 0 2 0 1 0 0\n 0 1 1 3 1 1 0 0 3 0 0 1 3 1 1 3 3 3 1 1 1 3 0 0 1 2 3 1 3 3 2 0 0 1 3 3 1\n 3 2 3 3 2 2 1 1 0 0 1 2 0 0 1 3 0 0 0 3 0 3 3 3 3 3 1 1 3 0 0 0 1 1 3 3 3\n 2 1 3 2 1 1 1 3 1 2 3 2 3 2 3 1 1 1 3 3 1 0 2 0 0 0 0 1 3 2 0 1 2 2 0 3 0\n 0 0 0 1 3 0 0 0 2 1 1 3 2 2 3 1 3 3 2 2 0 1 3 3 1 2 2 2 1 0 2 2 0 2 2 1 2\n 2 2 1 3]",
         "[0 3 3 0 2 0 2 3 1 1 1 2 2 3 0 2 3 3 3 0 3 3 3 2 3 3 2 2 2 2 3 3 1 3 2 3 3\n 3 2 2 0 2 2 3 3 0 3 3 2 0 2 2 0 0 0 2 2 2 0 3 3 2 1 0 2 0 0 1 3 3 2 0 0 2\n 0 1 0 0 1 1 2 2 3 3 2 1 3 3 2 0 3 3 3 0 3 0 0 0 0 0 2 2 0 3 3 3 2 2 0 0 0\n 1 2 0 1 2 2 2 0 2 1 0 1 0 1 0 2 2 2 0 0 2 3 1 3 3 3 3 2 0 1 3 2 1 1 3 0 3\n 3 3 3 2 0 3 3 3 1 2 2 0 1 1 0 2 0 0 1 1 3 2 0 0 2 1 1 1 2 3 1 1 3 1 1 2 1\n 1 1 2 0]",
         "189"
        ],
        [
         "4294818",
         "chr2",
         "173561878",
         "173562200",
         "[3 0 3 3 3 3 3 1 0 1 1 3 0 1 2 1 0 0 0 2 0 3 2 0 0 0 0 1 0 2 3 0 2 2 3 0 0\n 3 0 0 3 2 2 2 2 3 2 2 2 2 0 0 0 1 1 3 2 0 2 2 1 0 1 0 0 2 2 3 3 1 3 0 0 3\n 2 1 0 2 2 2 0 2 0 0 0 2 2 2 2 2 0 3 3 3 2 2 1 3 2 2 1 1 3 1 1 0 2 3 1 3 1\n 3 2 2 1 3 3 2 2 0 0 3 1 1 0 3 1 3 2 3 2 2 3 1 3 1 1 0 2 2 1 2 0 1 0 1 1 3\n 2 2 3 2 2 3 0 2 1 3 1 1 0 3 1 3 1 1 0 2 1 1 3 2 1 0 2 3 1 2 1 0 2 3 3 1 1\n 1 0 0 3 0 2 1 0 1 3 2 1 1 3 0 2 1 0 2 0 0 2 1 3 0 2 1 3 1 3 2 0 2 1 3 2 2\n 3 1 3 2 2 2 0 2 2 2 2 1 3 1 1 3 3 3 1 0 2 0 0 3 1 1 0 2 2 0 2 3 3 2 2 2 2\n 2 1 3 3 3 3 0 0 0 0 2 3 3 1 3 2 2 0 0 2 1 3 3 3 2 2 2 2 3 1 3 2 2 3 1 1 1\n 3 2 3 1 0 1 3 2 1 0 1 1 3 2 3 1 3 3 0 2 2 1 0 3 1 3]",
         "[0 3 0 0 0 0 0 2 3 2 2 0 3 2 1 2 3 3 3 1 3 0 1 3 3 3 3 2 3 1 0 3 1 1 0 3 3\n 0 3 3 0 1 1 1 1 0 1 1 1 1 3 3 3 2 2 0 1 3 1 1 2 3 2 3 3 1 1 0 0 2 0 3 3 0\n 1 2 3 1 1 1 3 1 3 3 3 1 1 1 1 1 3 0 0 0 1 1 2 0 1 1 2 2 0 2 2 3 1 0 2 0 2\n 0 1 1 2 0 0 1 1 3 3 0 2 2 3 0 2 0 1 0 1 1 0 2 0 2 2 3 1 1 2 1 3 2 3 2 2 0\n 1 1 0 1 1 0 3 1 2 0 2 2 3 0 2 0 2 2 3 1 2 2 0 1 2 3 1 0 2 1 2 3 1 0 0 2 2\n 2 3 3 0 3 1 2 3 2 0 1 2 2 0 3 1 2 3 1 3 3 1 2 0 3 1 2 0 2 0 1 3 1 2 0 1 1\n 0 2 0 1 1 1 3 1 1 1 1 2 0 2 2 0 0 0 2 3 1 3 3 0 2 2 3 1 1 3 1 0 0 1 1 1 1\n 1 2 0 0 0 0 3 3 3 3 1 0 0 2 0 1 1 3 3 1 2 0 0 0 1 1 1 1 0 2 0 1 1 0 2 2 2\n 0 1 0 2 3 2 0 1 2 3 2 2 0 1 0 2 0 0 3 1 1 2 3 0 2 0]",
         "322"
        ],
        [
         "5180668",
         "chr4",
         "151073369",
         "151073744",
         "[2 3 1 3 3 1 0 2 1 0 0 2 0 0 0 2 1 3 1 0 1 0 1 3 3 2 0 2 2 0 2 0 3 2 1 3 1\n 1 3 1 3 0 2 1 2 0 2 2 1 3 1 1 0 3 2 0 0 0 0 1 0 3 2 3 3 0 1 0 3 1 1 3 3 2\n 2 2 2 0 1 1 0 0 1 0 2 2 1 3 2 3 1 3 3 3 3 1 1 3 1 3 2 3 2 3 3 1 1 1 3 2 1\n 1 1 3 1 1 1 0 1 1 3 3 2 2 0 1 1 0 0 2 1 1 0 2 0 1 3 2 2 1 3 1 3 1 0 2 1 2\n 1 3 0 0 0 1 3 2 0 2 3 2 2 0 0 0 3 2 1 3 0 3 0 3 3 1 0 0 3 0 3 0 3 1 1 0 2\n 1 0 2 0 2 2 2 1 0 1 1 1 2 1 1 2 1 3 3 0 2 3 2 2 0 0 2 3 3 3 1 0 1 0 3 2 3\n 2 0 2 0 0 1 1 3 0 2 0 2 2 3 1 3 2 3 1 3 3 1 1 3 3 0 0 3 3 3 3 1 3 2 3 2 3\n 2 2 0 3 2 1 1 3 0 3 3 0 2 1 0 2 0 3 3 0 0 2 2 0 1 0 3 0 1 3 2 1 2 0 0 2 0\n 1 1 2 3 0 0 2 2 1 0 0 0 1 3 2 2 1 2 3 0 3 0 1 0 3 2 2 3 0 2 2 3 3 0 0 0 2\n 0 2 0 0 0 1 3 3 2 2 0 1 1 0 0 0 0 2 1 3 0 2 3 1 1 2 0 2 3 0 0 0 3 1 0 1 0\n 3 3 1 0 3]",
         "[1 0 2 0 0 2 3 1 2 3 3 1 3 3 3 1 2 0 2 3 2 3 2 0 0 1 3 1 1 3 1 3 0 1 2 0 2\n 2 0 2 0 3 1 2 1 3 1 1 2 0 2 2 3 0 1 3 3 3 3 2 3 0 1 0 0 3 2 3 0 2 2 0 0 1\n 1 1 1 3 2 2 3 3 2 3 1 1 2 0 1 0 2 0 0 0 0 2 2 0 2 0 1 0 1 0 0 2 2 2 0 1 2\n 2 2 0 2 2 2 3 2 2 0 0 1 1 3 2 2 3 3 1 2 2 3 1 3 2 0 1 1 2 0 2 0 2 3 1 2 1\n 2 0 3 3 3 2 0 1 3 1 0 1 1 3 3 3 0 1 2 0 3 0 3 0 0 2 3 3 0 3 0 3 0 2 2 3 1\n 2 3 1 3 1 1 1 2 3 2 2 2 1 2 2 1 2 0 0 3 1 0 1 1 3 3 1 0 0 0 2 3 2 3 0 1 0\n 1 3 1 3 3 2 2 0 3 1 3 1 1 0 2 0 1 0 2 0 0 2 2 0 0 3 3 0 0 0 0 2 0 1 0 1 0\n 1 1 3 0 1 2 2 0 3 0 0 3 1 2 3 1 3 0 0 3 3 1 1 3 2 3 0 3 2 0 1 2 1 3 3 1 3\n 2 2 1 0 3 3 1 1 2 3 3 3 2 0 1 1 2 1 0 3 0 3 2 3 0 1 1 0 3 1 1 0 0 3 3 3 1\n 3 1 3 3 3 2 0 0 1 1 3 2 2 3 3 3 3 1 2 0 3 1 0 2 2 1 3 1 0 3 3 3 0 2 3 2 3\n 0 0 2 3 0]",
         "375"
        ],
        [
         "7321952",
         "chr9",
         "106280505",
         "106280657",
         "[0 1 3 1 3 2 2 2 1 3 3 1 2 2 1 3 2 1 3 3 3 1 0 3 3 2 1 0 2 0 0 2 2 3 2 2 0\n 0 0 0 2 2 0 1 2 2 1 1 3 1 3 2 2 3 2 2 3 3 1 1 2 1 1 1 2 0 1 2 0 3 3 2 1 3\n 3 1 3 3 3 1 0 1 1 3 3 3 3 3 3 3 3 3 3 3 3 3 3 2 2 0 2 1 3 0 0 2 2 3 1 0 2\n 2 1 3 0 1 2 0 1 1 1 0 0 0 2 1 1 3 3 1 3 3 0 0 2 2 1 3 0 0 0 2 0 2 3 3 1 1\n 2 0 2 1]",
         "[3 2 0 2 0 1 1 1 2 0 0 2 1 1 2 0 1 2 0 0 0 2 3 0 0 1 2 3 1 3 3 1 1 0 1 1 3\n 3 3 3 1 1 3 2 1 1 2 2 0 2 0 1 1 0 1 1 0 0 2 2 1 2 2 2 1 3 2 1 3 0 0 1 2 0\n 0 2 0 0 0 2 3 2 2 0 0 0 0 0 0 0 0 0 0 0 0 0 0 1 1 3 1 2 0 3 3 1 1 0 2 3 1\n 1 2 0 3 2 1 3 2 2 2 3 3 3 1 2 2 0 0 2 0 0 3 3 1 1 2 0 3 3 3 1 3 1 0 0 2 2\n 1 3 1 2]",
         "152"
        ],
        [
         "3801969",
         "chr2",
         "25127188",
         "25127624",
         "[1 1 0 2 1 0 0 2 2 2 1 0 2 1 3 2 0 1 0 2 3 0 2 1 3 0 0 0 3 0 2 2 0 2 3 2 2\n 2 0 1 2 2 1 2 3 1 3 1 3 1 3 3 2 1 1 1 3 0 2 1 1 1 1 3 2 1 1 1 0 2 2 3 0 2\n 2 1 3 0 3 2 0 0 0 0 3 0 0 0 0 1 0 0 0 1 0 0 0 1 0 0 0 1 0 0 0 1 1 3 1 3 3\n 1 1 0 0 0 0 1 0 1 1 1 1 0 1 3 2 1 1 3 1 3 0 1 0 2 0 3 1 1 0 1 0 1 3 2 3 2\n 2 0 3 0 0 3 2 2 2 0 1 3 3 1 2 0 0 1 1 3 0 2 2 0 2 3 2 1 3 2 2 1 3 2 1 0 1\n 0 1 1 0 2 2 1 1 0 1 1 3 2 2 1 1 0 1 3 0 2 0 2 2 2 1 0 2 1 1 3 0 2 2 3 2 1\n 2 3 2 2 2 2 0 2 0 2 1 1 3 2 1 1 3 2 2 1 0 3 0 3 0 3 0 0 0 1 3 0 2 1 1 3 0\n 2 3 2 0 1 1 1 1 0 3 0 3 0 2 0 0 0 2 1 0 3 0 0 1 1 2 3 2 1 0 1 1 3 1 3 0 2\n 1 3 1 1 1 0 2 0 0 3 2 1 3 1 1 3 2 2 3 1 0 2 1 1 1 0 3 1 3 0 1 1 3 0 0 1 0\n 2 0 3 2 0 2 2 1 3 3 2 0 2 1 1 3 1 1 0 1 0 1 3 3 0 0 2 0 0 2 1 0 1 0 2 1 1\n 1 0 1 1 1 3 2 0 2 0 1 0 0 2 1 1 3 1 1 1 0 2 3 1 0 2 2 2 2 2 3 3 3 2 2 2 3\n 1 1 1 0 3 3 0 0 2 0 2 1 1 2 2 2 1 3 3 0 2 2 2 0 0 2 0 1 3]",
         "[2 2 3 1 2 3 3 1 1 1 2 3 1 2 0 1 3 2 3 1 0 3 1 2 0 3 3 3 0 3 1 1 3 1 0 1 1\n 1 3 2 1 1 2 1 0 2 0 2 0 2 0 0 1 2 2 2 0 3 1 2 2 2 2 0 1 2 2 2 3 1 1 0 3 1\n 1 2 0 3 0 1 3 3 3 3 0 3 3 3 3 2 3 3 3 2 3 3 3 2 3 3 3 2 3 3 3 2 2 0 2 0 0\n 2 2 3 3 3 3 2 3 2 2 2 2 3 2 0 1 2 2 0 2 0 3 2 3 1 3 0 2 2 3 2 3 2 0 1 0 1\n 1 3 0 3 3 0 1 1 1 3 2 0 0 2 1 3 3 2 2 0 3 1 1 3 1 0 1 2 0 1 1 2 0 1 2 3 2\n 3 2 2 3 1 1 2 2 3 2 2 0 1 1 2 2 3 2 0 3 1 3 1 1 1 2 3 1 2 2 0 3 1 1 0 1 2\n 1 0 1 1 1 1 3 1 3 1 2 2 0 1 2 2 0 1 1 2 3 0 3 0 3 0 3 3 3 2 0 3 1 2 2 0 3\n 1 0 1 3 2 2 2 2 3 0 3 0 3 1 3 3 3 1 2 3 0 3 3 2 2 1 0 1 2 3 2 2 0 2 0 3 1\n 2 0 2 2 2 3 1 3 3 0 1 2 0 2 2 0 1 1 0 2 3 1 2 2 2 3 0 2 0 3 2 2 0 3 3 2 3\n 1 3 0 1 3 1 1 2 0 0 1 3 1 2 2 0 2 2 3 2 3 2 0 0 3 3 1 3 3 1 2 3 2 3 1 2 2\n 2 3 2 2 2 0 1 3 1 3 2 3 3 1 2 2 0 2 2 2 3 1 0 2 3 1 1 1 1 1 0 0 0 1 1 1 0\n 2 2 2 3 0 0 3 3 1 3 1 2 2 1 1 1 2 0 0 3 1 1 1 3 3 1 3 2 0]",
         "436"
        ],
        [
         "2605619",
         "chr15",
         "84536070",
         "84536242",
         "[0 3 0 3 0 3 0 0 3 0 0 0 0 0 1 1 0 3 2 3 2 3 0 3 0 3 2 2 0 2 0 0 2 2 2 2 0\n 1 0 2 3 2 1 0 3 0 3 2 0 2 3 2 1 0 2 3 2 1 1 3 2 0 0 2 3 2 2 3 1 0 1 0 0 2\n 0 2 2 2 1 0 0 3 0 2 0 3 1 1 1 1 0 3 2 0 2 1 3 2 2 0 2 3 3 0 1 0 2 1 3 2 2\n 3 3 2 3 2 0 2 3 1 1 1 1 3 2 0 1 0 0 3 2 2 2 2 1 3 2 2 0 0 0 1 1 0 0 2 1 3\n 3 0 2 2 3 1 1 3 1 3 2 1 0 0 2 0 2 0 0 2 1 0 0 0]",
         "[3 0 3 0 3 0 3 3 0 3 3 3 3 3 2 2 3 0 1 0 1 0 3 0 3 0 1 1 3 1 3 3 1 1 1 1 3\n 2 3 1 0 1 2 3 0 3 0 1 3 1 0 1 2 3 1 0 1 2 2 0 1 3 3 1 0 1 1 0 2 3 2 3 3 1\n 3 1 1 1 2 3 3 0 3 1 3 0 2 2 2 2 3 0 1 3 1 2 0 1 1 3 1 0 0 3 2 3 1 2 0 1 1\n 0 0 1 0 1 3 1 0 2 2 2 2 0 1 3 2 3 3 0 1 1 1 1 2 0 1 1 3 3 3 2 2 3 3 1 2 0\n 0 3 1 1 0 2 2 0 2 0 1 2 3 3 1 3 1 3 3 1 2 3 3 3]",
         "172"
        ],
        [
         "952977",
         "chr11",
         "22512476",
         "22512804",
         "[2 1 1 0 2 2 1 0 3 2 2 0 2 1 3 2 1 1 2 2 0 1 1 1 3 2 3 3 1 2 1 1 0 2 1 2 1\n 1 3 2 0 2 1 0 0 1 1 3 1 0 2 1 1 3 1 0 1 1 2 3 2 3 3 1 2 2 1 2 0 1 3 1 1 0\n 2 1 1 2 1 0 1 1 2 2 2 1 1 0 2 0 2 3 1 1 0 2 3 2 0 3 2 1 2 2 1 1 2 2 3 2 0\n 2 3 2 2 1 2 0 2 2 2 1 2 1 0 2 2 1 1 1 0 1 2 1 2 2 2 2 2 3 2 3 2 2 1 3 1 2\n 1 2 2 2 1 2 2 2 0 2 2 1 1 2 1 0 1 0 2 2 1 1 2 3 2 1 1 1 2 2 2 3 2 0 0 0 2\n 0 3 2 2 1 3 2 1 3 1 1 2 2 1 3 3 1 0 2 1 1 0 2 2 2 1 3 1 3 2 3 2 1 1 1 1 2\n 2 2 0 2 0 0 0 1 1 0 1 2 2 1 1 1 3 2 1 2 2 1 2 2 0 1 1 1 2 2 2 0 2 0 1 1 0\n 1 2 1 2 1 3 3 1 1 2 1 1 2 1 1 2 1 0 2 1 3 0 1 3 2 1 0 1 1 1 2 2 3 2 2 1 2\n 1 2 2 3 1 2 1 1 2 0 2 1 2 2 0 3 1 0 2 2 0 3 2 1 2 2 0 3 1 0 2 2]",
         "[1 2 2 3 1 1 2 3 0 1 1 3 1 2 0 1 2 2 1 1 3 2 2 2 0 1 0 0 2 1 2 2 3 1 2 1 2\n 2 0 1 3 1 2 3 3 2 2 0 2 3 1 2 2 0 2 3 2 2 1 0 1 0 0 2 1 1 2 1 3 2 0 2 2 3\n 1 2 2 1 2 3 2 2 1 1 1 2 2 3 1 3 1 0 2 2 3 1 0 1 3 0 1 2 1 1 2 2 1 1 0 1 3\n 1 0 1 1 2 1 3 1 1 1 2 1 2 3 1 1 2 2 2 3 2 1 2 1 1 1 1 1 0 1 0 1 1 2 0 2 1\n 2 1 1 1 2 1 1 1 3 1 1 2 2 1 2 3 2 3 1 1 2 2 1 0 1 2 2 2 1 1 1 0 1 3 3 3 1\n 3 0 1 1 2 0 1 2 0 2 2 1 1 2 0 0 2 3 1 2 2 3 1 1 1 2 0 2 0 1 0 1 2 2 2 2 1\n 1 1 3 1 3 3 3 2 2 3 2 1 1 2 2 2 0 1 2 1 1 2 1 1 3 2 2 2 1 1 1 3 1 3 2 2 3\n 2 1 2 1 2 0 0 2 2 1 2 2 1 2 2 1 2 3 1 2 0 3 2 0 1 2 3 2 2 2 1 1 0 1 1 2 1\n 2 1 1 0 2 1 2 2 1 3 1 2 1 1 3 0 2 3 1 1 3 0 1 2 1 1 3 0 2 3 1 1]",
         "328"
        ],
        [
         "290726",
         "chr1",
         "131116064",
         "131116211",
         "[2 3 0 3 1 0 1 0 3 0 2 0 2 0 0 3 2 2 1 3 2 0 0 3 0 0 0 1 3 0 0 3 2 0 0 2 3\n 2 1 2 3 1 3 2 2 3 0 0 2 1 3 3 0 3 1 1 1 3 0 3 2 3 2 1 0 1 1 0 1 1 0 2 2 2\n 2 2 0 2 1 0 1 3 3 2 3 3 1 1 0 1 0 1 1 2 1 3 2 2 3 1 3 3 3 3 0 3 2 1 0 1 3\n 0 3 2 0 0 2 1 1 2 1 3 2 2 3 3 0 0 2 2 2 1 0 3 0 0 0 3 3 1 3 2 2 2 3 3 1]",
         "[1 0 3 0 2 3 2 3 0 3 1 3 1 3 3 0 1 1 2 0 1 3 3 0 3 3 3 2 0 3 3 0 1 3 3 1 0\n 1 2 1 0 2 0 1 1 0 3 3 1 2 0 0 3 0 2 2 2 0 3 0 1 0 1 2 3 2 2 3 2 2 3 1 1 1\n 1 1 3 1 2 3 2 0 0 1 0 0 2 2 3 2 3 2 2 1 2 0 1 1 0 2 0 0 0 0 3 0 1 2 3 2 0\n 3 0 1 3 3 1 2 2 1 2 0 1 1 0 0 3 3 1 1 1 2 3 0 3 3 3 0 0 2 0 1 1 1 0 0 2]",
         "147"
        ],
        [
         "6318570",
         "chr7",
         "69490875",
         "69491223",
         "[3 3 3 1 3 3 1 0 3 0 3 0 0 0 0 3 1 0 2 3 2 0 0 1 1 3 1 0 3 0 0 3 1 3 2 1 1\n 1 0 2 0 3 1 1 1 1 0 1 0 3 3 0 0 1 1 3 2 0 0 0 0 2 2 2 1 3 3 0 1 2 0 0 2 3\n 1 3 1 0 2 3 3 1 0 2 3 3 0 3 2 2 1 1 1 3 3 3 1 3 2 0 3 3 3 1 2 2 1 1 0 1 3\n 0 2 2 0 2 2 1 0 1 3 2 1 0 2 1 1 3 2 1 3 3 3 0 3 2 0 2 2 2 0 1 1 3 2 2 2 1\n 3 1 3 2 2 3 2 0 0 2 3 2 0 2 3 2 3 3 2 1 0 1 0 1 0 2 1 1 0 3 2 2 1 3 1 1 0\n 2 3 2 3 1 0 3 3 1 1 1 3 0 3 3 3 0 0 3 2 2 1 3 2 3 1 0 2 3 2 0 2 2 2 2 2 0\n 0 0 2 0 1 0 0 1 2 3 2 2 1 2 2 2 3 0 0 3 3 0 0 0 0 1 1 0 0 0 3 3 2 1 0 2 2\n 1 0 2 2 0 2 0 3 2 0 1 3 2 1 0 1 0 0 2 0 0 3 2 0 3 0 3 3 2 3 1 0 3 3 0 0 3\n 0 1 3 2 0 3 3 3 0 0 1 0 3 2 1 0 1 1 3 2 2 2 3 0 0 2 2 3 2 0 2 2 2 0 2 1 2\n 1 2 2 1 0 0 2 2 2 0 0 3 3 1 0]",
         "[0 0 0 2 0 0 2 3 0 3 0 3 3 3 3 0 2 3 1 0 1 3 3 2 2 0 2 3 0 3 3 0 2 0 1 2 2\n 2 3 1 3 0 2 2 2 2 3 2 3 0 0 3 3 2 2 0 1 3 3 3 3 1 1 1 2 0 0 3 2 1 3 3 1 0\n 2 0 2 3 1 0 0 2 3 1 0 0 3 0 1 1 2 2 2 0 0 0 2 0 1 3 0 0 0 2 1 1 2 2 3 2 0\n 3 1 1 3 1 1 2 3 2 0 1 2 3 1 2 2 0 1 2 0 0 0 3 0 1 3 1 1 1 3 2 2 0 1 1 1 2\n 0 2 0 1 1 0 1 3 3 1 0 1 3 1 0 1 0 0 1 2 3 2 3 2 3 1 2 2 3 0 1 1 2 0 2 2 3\n 1 0 1 0 2 3 0 0 2 2 2 0 3 0 0 0 3 3 0 1 1 2 0 1 0 2 3 1 0 1 3 1 1 1 1 1 3\n 3 3 1 3 2 3 3 2 1 0 1 1 2 1 1 1 0 3 3 0 0 3 3 3 3 2 2 3 3 3 0 0 1 2 3 1 1\n 2 3 1 1 3 1 3 0 1 3 2 0 1 2 3 2 3 3 1 3 3 0 1 3 0 3 0 0 1 0 2 3 0 0 3 3 0\n 3 2 0 1 3 0 0 0 3 3 2 3 0 1 2 3 2 2 0 1 1 1 0 3 3 1 1 0 1 3 1 1 1 3 1 2 1\n 2 1 1 2 3 3 1 1 1 3 3 0 0 2 3]",
         "348"
        ],
        [
         "2336071",
         "chr14",
         "98072620",
         "98072942",
         "[0 0 0 0 0 3 2 0 1 3 2 3 2 0 3 3 1 1 3 2 3 2 3 2 1 1 0 3 0 0 0 0 2 2 1 3 1\n 3 2 3 2 0 2 3 2 2 0 0 2 1 3 3 0 2 1 3 1 1 3 2 3 0 0 3 2 0 3 3 0 1 3 0 0 0\n 2 1 0 0 1 0 2 0 0 0 3 0 2 0 3 2 1 0 0 2 2 0 0 0 1 0 2 2 0 1 0 2 1 3 2 2 0\n 2 2 1 3 1 3 3 2 0 0 1 3 2 1 0 2 3 3 2 3 1 0 0 0 0 2 0 3 3 3 2 3 3 3 2 3 2\n 0 0 0 1 0 3 2 1 0 3 3 3 3 0 3 3 2 1 1 3 3 2 3 0 3 2 1 0 3 2 1 0 0 3 0 0 3\n 2 0 2 2 1 0 2 2 2 0 1 0 0 1 3 2 1 0 0 1 0 1 3 2 1 0 1 3 3 0 0 3 2 0 1 3 2\n 1 0 3 3 3 1 3 3 2 3 3 3 1 0 2 1 1 0 2 3 3 3 1 1 3 3 2 3 1 1 3 1 3 3 2 1 0\n 0 3 3 0 0 1 2 3 3 3 3 1 1 1 0 2 0 3 1 0 1 1 1 0 0 2 2 1 3 0 1 3 3 3 2 3 1\n 0 2 0 2 2 0 2 2 2 2 2 2 0 0 0 0 0 3 1 3 2 0 0 0 3 3]",
         "[3 3 3 3 3 0 1 3 2 0 1 0 1 3 0 0 2 2 0 1 0 1 0 1 2 2 3 0 3 3 3 3 1 1 2 0 2\n 0 1 0 1 3 1 0 1 1 3 3 1 2 0 0 3 1 2 0 2 2 0 1 0 3 3 0 1 3 0 0 3 2 0 3 3 3\n 1 2 3 3 2 3 1 3 3 3 0 3 1 3 0 1 2 3 3 1 1 3 3 3 2 3 1 1 3 2 3 1 2 0 1 1 3\n 1 1 2 0 2 0 0 1 3 3 2 0 1 2 3 1 0 0 1 0 2 3 3 3 3 1 3 0 0 0 1 0 0 0 1 0 1\n 3 3 3 2 3 0 1 2 3 0 0 0 0 3 0 0 1 2 2 0 0 1 0 3 0 1 2 3 0 1 2 3 3 0 3 3 0\n 1 3 1 1 2 3 1 1 1 3 2 3 3 2 0 1 2 3 3 2 3 2 0 1 2 3 2 0 0 3 3 0 1 3 2 0 1\n 2 3 0 0 0 2 0 0 1 0 0 0 2 3 1 2 2 3 1 0 0 0 2 2 0 0 1 0 2 2 0 2 0 0 1 2 3\n 3 0 0 3 3 2 1 0 0 0 0 2 2 2 3 1 3 0 2 3 2 2 2 3 3 1 1 2 0 3 2 0 0 0 1 0 2\n 3 1 3 1 1 3 1 1 1 1 1 1 3 3 3 3 3 0 2 0 1 3 3 3 0 0]",
         "322"
        ],
        [
         "1594379",
         "chr12",
         "80114895",
         "80115358",
         "[1 1 1 2 1 3 1 3 1 0 3 3 3 3 3 1 0 3 1 3 3 3 3 1 3 3 2 0 0 0 3 1 3 2 2 1 0\n 0 2 1 2 1 1 0 2 2 0 0 2 2 2 0 0 0 3 0 0 1 3 3 1 1 0 3 1 1 0 1 1 3 3 0 0 3\n 3 3 0 0 0 3 1 0 3 3 1 2 2 2 3 2 3 2 3 0 2 2 3 3 3 1 3 3 3 3 3 0 0 0 2 2 2\n 0 3 2 3 3 3 2 1 3 1 1 3 3 1 1 1 1 3 1 1 1 1 0 2 1 3 1 1 0 2 2 2 2 2 2 2 2\n 3 3 2 2 3 2 3 2 3 2 3 2 1 1 2 1 2 2 0 3 3 3 1 2 3 2 1 0 2 3 3 3 1 3 1 2 0\n 3 2 0 3 2 0 2 2 3 0 0 3 2 0 2 3 3 1 1 0 2 0 3 3 3 1 0 2 2 0 1 0 2 0 2 1 0\n 2 2 2 3 2 1 2 3 3 0 0 0 0 1 1 1 0 1 0 0 2 2 3 3 0 2 0 1 2 2 0 2 3 1 1 3 2\n 0 3 2 3 2 0 0 2 3 3 0 3 3 3 1 2 2 1 3 3 3 3 1 0 2 3 1 1 2 1 0 3 1 0 1 1 1\n 3 1 1 2 2 2 1 3 2 1 3 1 3 0 0 0 1 3 1 1 1 2 0 2 3 2 3 3 3 2 1 2 0 0 2 1 3\n 1 0 2 1 3 2 1 0 2 2 2 2 2 2 0 0 1 1 1 3 2 2 1 1 2 2 2 2 0 2 2 2 2 1 2 0 1\n 1 3 1 2 1 3 2 2 2 3 2 2 3 2 1 3 2 3 1 1 1 3 2 0 2 2 1 2 0 1 1 2 0 2 1 2 2\n 3 1 3 3 2 2 0 1 0 1 1 1 1 2 0 2 1 3 2 1 3 3 0 0 0 3 0 0 3 3 3 3 2 3 3 2 3\n 3 3 3 3 3 3 3 3 3 3 3 3 3 1 3 1 0 0 0]",
         "[2 2 2 1 2 0 2 0 2 3 0 0 0 0 0 2 3 0 2 0 0 0 0 2 0 0 1 3 3 3 0 2 0 1 1 2 3\n 3 1 2 1 2 2 3 1 1 3 3 1 1 1 3 3 3 0 3 3 2 0 0 2 2 3 0 2 2 3 2 2 0 0 3 3 0\n 0 0 3 3 3 0 2 3 0 0 2 1 1 1 0 1 0 1 0 3 1 1 0 0 0 2 0 0 0 0 0 3 3 3 1 1 1\n 3 0 1 0 0 0 1 2 0 2 2 0 0 2 2 2 2 0 2 2 2 2 3 1 2 0 2 2 3 1 1 1 1 1 1 1 1\n 0 0 1 1 0 1 0 1 0 1 0 1 2 2 1 2 1 1 3 0 0 0 2 1 0 1 2 3 1 0 0 0 2 0 2 1 3\n 0 1 3 0 1 3 1 1 0 3 3 0 1 3 1 0 0 2 2 3 1 3 0 0 0 2 3 1 1 3 2 3 1 3 1 2 3\n 1 1 1 0 1 2 1 0 0 3 3 3 3 2 2 2 3 2 3 3 1 1 0 0 3 1 3 2 1 1 3 1 0 2 2 0 1\n 3 0 1 0 1 3 3 1 0 0 3 0 0 0 2 1 1 2 0 0 0 0 2 3 1 0 2 2 1 2 3 0 2 3 2 2 2\n 0 2 2 1 1 1 2 0 1 2 0 2 0 3 3 3 2 0 2 2 2 1 3 1 0 1 0 0 0 1 2 1 3 3 1 2 0\n 2 3 1 2 0 1 2 3 1 1 1 1 1 1 3 3 2 2 2 0 1 1 2 2 1 1 1 1 3 1 1 1 1 2 1 3 2\n 2 0 2 1 2 0 1 1 1 0 1 1 0 1 2 0 1 0 2 2 2 0 1 3 1 1 2 1 3 2 2 1 3 1 2 1 1\n 0 2 0 0 1 1 3 2 3 2 2 2 2 1 3 1 2 0 1 2 0 0 3 3 3 0 3 3 0 0 0 0 1 0 0 1 0\n 0 0 0 0 0 0 0 0 0 0 0 0 0 2 0 2 3 3 3]",
         "463"
        ],
        [
         "2240606",
         "chr14",
         "59605778",
         "59605926",
         "[3 3 3 0 0 0 0 0 3 1 0 0 0 3 3 0 3 3 1 0 2 0 1 3 3 3 2 0 0 0 1 0 1 3 1 0 2\n 2 3 1 0 2 2 0 3 2 3 0 2 0 1 0 1 1 0 2 2 2 2 2 1 0 2 1 0 2 0 2 2 1 3 3 3 2\n 3 3 3 1 3 0 2 1 3 0 2 3 1 3 3 2 1 3 2 0 3 2 1 0 2 3 2 0 2 2 3 2 3 2 1 0 1\n 0 1 3 3 2 3 3 1 1 3 0 0 3 2 1 3 2 3 2 1 3 3 0 0 2 2 1 1 1 3 1 1 1 2 1 1 3]",
         "[0 0 0 3 3 3 3 3 0 2 3 3 3 0 0 3 0 0 2 3 1 3 2 0 0 0 1 3 3 3 2 3 2 0 2 3 1\n 1 0 2 3 1 1 3 0 1 0 3 1 3 2 3 2 2 3 1 1 1 1 1 2 3 1 2 3 1 3 1 1 2 0 0 0 1\n 0 0 0 2 0 3 1 2 0 3 1 0 2 0 0 1 2 0 1 3 0 1 2 3 1 0 1 3 1 1 0 1 0 1 2 3 2\n 3 2 0 0 1 0 0 2 2 0 3 3 0 1 2 0 1 0 1 2 0 0 3 3 1 1 2 2 2 0 2 2 2 1 2 2 0]",
         "148"
        ],
        [
         "281253",
         "chr1",
         "127496738",
         "127497051",
         "[3 2 2 0 2 1 0 0 3 3 0 0 3 2 0 2 3 3 0 3 1 0 1 0 2 0 0 2 2 3 2 2 2 2 2 2 2\n 0 2 2 2 0 0 2 2 2 2 0 2 2 2 2 0 2 2 2 2 3 2 3 2 0 0 2 1 0 3 2 0 1 1 3 3 0\n 2 1 3 2 3 3 1 1 3 0 2 2 2 0 2 2 3 2 2 0 2 2 3 2 2 3 1 3 1 0 1 1 3 3 2 1 3\n 2 1 1 3 2 2 1 3 1 3 2 0 0 0 2 2 3 2 0 2 2 2 2 1 0 2 0 0 2 3 3 1 1 1 1 1 0\n 3 2 3 0 2 1 1 0 1 3 0 2 0 3 2 3 1 2 0 3 0 3 0 2 3 3 1 1 0 1 3 2 0 0 1 1 0\n 2 1 1 1 3 1 0 2 3 1 2 2 3 1 0 2 1 0 1 1 0 1 2 2 0 1 0 2 1 1 1 3 2 3 3 1 3\n 2 1 3 2 2 1 1 0 0 1 3 1 0 1 1 3 1 1 3 3 0 2 1 1 3 0 0 1 1 1 3 3 1 1 2 2 0\n 2 2 3 2 0 1 1 3 3 2 2 1 3 3 1 1 1 3 3 2 1 1 3 3 3 2 1 1 3 2 2 1 3 1 1 3 2\n 0 3 2 2 2 1 3 3 1 3 1 3 3 3 1 0 1]",
         "[0 1 1 3 1 2 3 3 0 0 3 3 0 1 3 1 0 0 3 0 2 3 2 3 1 3 3 1 1 0 1 1 1 1 1 1 1\n 3 1 1 1 3 3 1 1 1 1 3 1 1 1 1 3 1 1 1 1 0 1 0 1 3 3 1 2 3 0 1 3 2 2 0 0 3\n 1 2 0 1 0 0 2 2 0 3 1 1 1 3 1 1 0 1 1 3 1 1 0 1 1 0 2 0 2 3 2 2 0 0 1 2 0\n 1 2 2 0 1 1 2 0 2 0 1 3 3 3 1 1 0 1 3 1 1 1 1 2 3 1 3 3 1 0 0 2 2 2 2 2 3\n 0 1 0 3 1 2 2 3 2 0 3 1 3 0 1 0 2 1 3 0 3 0 3 1 0 0 2 2 3 2 0 1 3 3 2 2 3\n 1 2 2 2 0 2 3 1 0 2 1 1 0 2 3 1 2 3 2 2 3 2 1 1 3 2 3 1 2 2 2 0 1 0 0 2 0\n 1 2 0 1 1 2 2 3 3 2 0 2 3 2 2 0 2 2 0 0 3 1 2 2 0 3 3 2 2 2 0 0 2 2 1 1 3\n 1 1 0 1 3 2 2 0 0 1 1 2 0 0 2 2 2 0 0 1 2 2 0 0 0 1 2 2 0 1 1 2 0 2 2 0 1\n 3 0 1 1 1 2 0 0 2 0 2 0 0 0 2 3 2]",
         "313"
        ],
        [
         "2103502",
         "chr14",
         "19585247",
         "19585522",
         "[2 0 2 3 2 1 0 2 1 3 1 1 0 3 2 2 1 2 1 2 2 3 2 2 1 2 0 2 1 2 1 3 1 2 2 1 3\n 1 1 3 1 2 0 2 1 1 3 3 3 2 1 3 2 1 1 3 1 1 1 0 3 2 2 1 1 1 1 0 2 0 0 3 1 1\n 2 1 1 0 1 1 1 1 0 1 1 1 1 3 1 3 1 1 3 2 3 1 3 1 3 2 1 1 3 1 1 2 0 3 1 1 1\n 1 3 1 1 1 1 3 3 3 3 1 3 1 1 1 2 1 1 2 3 1 3 2 1 1 1 1 3 3 1 1 1 1 0 2 1 2\n 0 1 1 1 1 3 0 1 1 2 2 1 1 2 2 1 2 2 1 1 1 2 2 0 0 3 2 1 0 3 2 3 2 0 1 1 1\n 1 1 1 1 3 2 1 1 0 2 2 1 1 0 3 0 3 0 3 2 2 3 2 1 2 2 0 0 0 2 2 0 0 0 2 1 0\n 2 1 1 0 1 1 2 2 2 1 2 2 3 1 0 1 0 2 2 1 0 1 1 3 2 2 3 2 2 3 2 2 3 2 1 0 2\n 1 3 0 0 0 0 2 0 2 2 0 0 2 1 3 3]",
         "[1 3 1 0 1 2 3 1 2 0 2 2 3 0 1 1 2 1 2 1 1 0 1 1 2 1 3 1 2 1 2 0 2 1 1 2 0\n 2 2 0 2 1 3 1 2 2 0 0 0 1 2 0 1 2 2 0 2 2 2 3 0 1 1 2 2 2 2 3 1 3 3 0 2 2\n 1 2 2 3 2 2 2 2 3 2 2 2 2 0 2 0 2 2 0 1 0 2 0 2 0 1 2 2 0 2 2 1 3 0 2 2 2\n 2 0 2 2 2 2 0 0 0 0 2 0 2 2 2 1 2 2 1 0 2 0 1 2 2 2 2 0 0 2 2 2 2 3 1 2 1\n 3 2 2 2 2 0 3 2 2 1 1 2 2 1 1 2 1 1 2 2 2 1 1 3 3 0 1 2 3 0 1 0 1 3 2 2 2\n 2 2 2 2 0 1 2 2 3 1 1 2 2 3 0 3 0 3 0 1 1 0 1 2 1 1 3 3 3 1 1 3 3 3 1 2 3\n 1 2 2 3 2 2 1 1 1 2 1 1 0 2 3 2 3 1 1 2 3 2 2 0 1 1 0 1 1 0 1 1 0 1 2 3 1\n 2 0 3 3 3 3 1 3 1 1 3 3 1 2 0 0]",
         "275"
        ],
        [
         "7217282",
         "chr9",
         "70201637",
         "70202143",
         "[1 3 3 2 3 1 2 3 2 3 1 3 1 0 1 3 0 3 2 3 0 0 1 1 1 0 2 2 1 3 2 3 1 1 3 3 2\n 0 0 1 3 1 0 1 0 2 0 2 0 3 1 1 0 3 3 3 2 1 1 3 1 3 2 1 3 3 0 1 0 2 0 2 3 0\n 1 1 2 2 2 0 3 3 0 0 0 0 3 1 1 0 2 2 3 1 2 0 3 3 3 0 2 3 3 3 3 1 3 3 2 0 3\n 3 3 2 2 0 0 3 2 2 1 3 1 0 2 3 3 3 0 2 3 3 3 3 2 2 0 2 0 1 3 3 1 3 0 0 3 2\n 2 0 2 1 3 0 0 2 0 0 2 2 3 3 2 3 0 2 2 2 0 0 2 0 3 3 0 0 0 3 2 3 2 0 3 1 1\n 3 2 1 3 0 0 3 2 1 1 3 0 2 3 0 0 0 3 2 3 2 0 1 1 0 1 0 2 0 1 0 1 1 3 2 3 2\n 0 0 2 0 1 0 2 0 0 2 1 0 2 2 2 1 1 2 2 2 2 0 0 3 3 0 0 0 1 2 2 2 0 1 0 2 3\n 3 1 0 1 0 3 2 0 3 2 3 2 0 1 0 0 2 1 1 3 2 3 3 3 1 1 3 2 3 2 1 0 3 1 3 2 3\n 3 2 1 0 2 2 1 3 3 3 1 1 1 1 3 2 0 2 3 0 0 1 3 3 3 1 3 3 0 0 0 0 1 3 3 3 2\n 3 3 2 3 2 0 0 3 2 1 1 1 2 3 2 0 0 2 3 2 3 3 1 3 3 3 2 0 3 2 1 3 2 3 3 2 1\n 1 0 3 2 2 0 0 0 1 3 2 0 3 3 3 3 1 3 0 2 1 1 3 0 0 3 1 3 3 0 3 3 3 3 0 0 3\n 0 0 2 0 3 3 0 2 2 2 2 1 3 0 1 3 3 3 0 0 0 1 1 1 3 2 1 1 1 1 0 1 0 0 0 0 0\n 3 2 3 0 3 3 0 2 1 2 0 2 2 0 1 3 3 2 3 0 3 3 0 0 0 0 3 1 2 1 3 0 3 3 3 2 3\n 3 3 0 3 0 3 0 0 3 0 3 0 3 3 3 3 1 0 3 0 0 0 1 0 3]",
         "[2 0 0 1 0 2 1 0 1 0 2 0 2 3 2 0 3 0 1 0 3 3 2 2 2 3 1 1 2 0 1 0 2 2 0 0 1\n 3 3 2 0 2 3 2 3 1 3 1 3 0 2 2 3 0 0 0 1 2 2 0 2 0 1 2 0 0 3 2 3 1 3 1 0 3\n 2 2 1 1 1 3 0 0 3 3 3 3 0 2 2 3 1 1 0 2 1 3 0 0 0 3 1 0 0 0 0 2 0 0 1 3 0\n 0 0 1 1 3 3 0 1 1 2 0 2 3 1 0 0 0 3 1 0 0 0 0 1 1 3 1 3 2 0 0 2 0 3 3 0 1\n 1 3 1 2 0 3 3 1 3 3 1 1 0 0 1 0 3 1 1 1 3 3 1 3 0 0 3 3 3 0 1 0 1 3 0 2 2\n 0 1 2 0 3 3 0 1 2 2 0 3 1 0 3 3 3 0 1 0 1 3 2 2 3 2 3 1 3 2 3 2 2 0 1 0 1\n 3 3 1 3 2 3 1 3 3 1 2 3 1 1 1 2 2 1 1 1 1 3 3 0 0 3 3 3 2 1 1 1 3 2 3 1 0\n 0 2 3 2 3 0 1 3 0 1 0 1 3 2 3 3 1 2 2 0 1 0 0 0 2 2 0 1 0 1 2 3 0 2 0 1 0\n 0 1 2 3 1 1 2 0 0 0 2 2 2 2 0 1 3 1 0 3 3 2 0 0 0 2 0 0 3 3 3 3 2 0 0 0 1\n 0 0 1 0 1 3 3 0 1 2 2 2 1 0 1 3 3 1 0 1 0 0 2 0 0 0 1 3 0 1 2 0 1 0 0 1 2\n 2 3 0 1 1 3 3 3 2 0 1 3 0 0 0 0 2 0 3 1 2 2 0 3 3 0 2 0 0 3 0 0 0 0 3 3 0\n 3 3 1 3 0 0 3 1 1 1 1 2 0 3 2 0 0 0 3 3 3 2 2 2 0 1 2 2 2 2 3 2 3 3 3 3 3\n 0 1 0 3 0 0 3 1 2 1 3 1 1 3 2 0 0 1 0 3 0 0 3 3 3 3 0 2 1 2 0 3 0 0 0 1 0\n 0 0 3 0 3 0 3 3 0 3 0 3 0 0 0 0 2 3 0 3 3 3 2 3 0]",
         "506"
        ],
        [
         "1416652",
         "chr12",
         "4732430",
         "4732618",
         "[3 2 2 1 3 1 3 2 1 2 3 2 2 1 1 0 1 0 1 0 2 3 1 1 1 1 3 3 1 3 1 1 1 0 1 3 1\n 0 1 3 2 1 1 2 1 0 2 0 2 0 0 2 1 0 2 0 1 0 1 3 1 3 3 1 3 2 2 1 1 1 3 2 1 3\n 1 0 2 0 0 1 3 2 2 2 0 1 3 3 2 1 1 2 3 3 2 0 1 1 1 1 0 2 1 1 3 2 2 2 0 0 2\n 1 0 2 3 0 1 3 2 2 0 2 0 1 3 3 3 2 3 2 1 3 3 1 1 3 2 0 3 1 0 0 0 2 2 0 2 1\n 0 2 2 0 2 0 1 0 2 0 2 3 3 1 1 0 2 0 1 1 2 3 3 0 1 1 3 1 1 1 1 3 3 3 1 3 0\n 1 1 3]",
         "[0 1 1 2 0 2 0 1 2 1 0 1 1 2 2 3 2 3 2 3 1 0 2 2 2 2 0 0 2 0 2 2 2 3 2 0 2\n 3 2 0 1 2 2 1 2 3 1 3 1 3 3 1 2 3 1 3 2 3 2 0 2 0 0 2 0 1 1 2 2 2 0 1 2 0\n 2 3 1 3 3 2 0 1 1 1 3 2 0 0 1 2 2 1 0 0 1 3 2 2 2 2 3 1 2 2 0 1 1 1 3 3 1\n 2 3 1 0 3 2 0 1 1 3 1 3 2 0 0 0 1 0 1 2 0 0 2 2 0 1 3 0 2 3 3 3 1 1 3 1 2\n 3 1 1 3 1 3 2 3 1 3 1 0 0 2 2 3 1 3 2 2 1 0 0 3 2 2 0 2 2 2 2 0 0 0 2 0 3\n 2 2 0]",
         "188"
        ],
        [
         "2666498",
         "chr15",
         "99128044",
         "99128139",
         "[2 3 1 3 3 0 2 3 1 3 3 3 0 3 1 0 2 3 0 0 1 1 3 0 2 2 1 3 2 2 1 3 3 2 3 2 0\n 1 1 3 0 3 3 2 3 2 3 0 0 1 1 1 1 0 2 3 3 0 2 1 1 3 3 3 2 0 0 2 3 0 0 0 2 3\n 3 1 3 3 3 3 2 1 1 3 1 0 2 0 1 3 1 1 1 0 2]",
         "[1 0 2 0 0 3 1 0 2 0 0 0 3 0 2 3 1 0 3 3 2 2 0 3 1 1 2 0 1 1 2 0 0 1 0 1 3\n 2 2 0 3 0 0 1 0 1 0 3 3 2 2 2 2 3 1 0 0 3 1 2 2 0 0 0 1 3 3 1 0 3 3 3 1 0\n 0 2 0 0 0 0 1 2 2 0 2 3 1 3 2 0 2 2 2 3 1]",
         "95"
        ],
        [
         "5835353",
         "chr6",
         "51612420",
         "51612635",
         "[1 1 3 1 1 2 2 2 3 2 2 1 0 2 1 0 2 2 0 3 1 3 2 0 0 0 2 2 1 3 2 0 2 2 0 2 1\n 0 2 1 0 3 2 3 0 2 3 3 1 1 0 1 2 3 3 1 1 1 0 2 1 3 2 1 0 3 0 2 0 3 2 2 2 0\n 0 1 1 1 3 1 3 3 3 0 0 2 2 1 3 2 0 2 2 3 1 2 3 2 3 2 1 1 1 3 1 1 2 2 2 2 3\n 2 2 3 2 0 1 1 3 2 2 2 1 0 3 0 2 2 1 0 2 2 0 1 1 1 2 1 2 1 1 0 3 1 0 2 2 2\n 3 3 1 0 0 2 2 3 3 0 2 2 0 0 1 0 1 3 2 1 3 1 3 1 0 3 2 0 2 0 2 1 2 2 0 2 1\n 2 3 1 0 2 2 1 0 1 2 2 2 0 2 0 1 0 1 2 2 1 2 2 0 2 1 1 3 2 2]",
         "[2 2 0 2 2 1 1 1 0 1 1 2 3 1 2 3 1 1 3 0 2 0 1 3 3 3 1 1 2 0 1 3 1 1 3 1 2\n 3 1 2 3 0 1 0 3 1 0 0 2 2 3 2 1 0 0 2 2 2 3 1 2 0 1 2 3 0 3 1 3 0 1 1 1 3\n 3 2 2 2 0 2 0 0 0 3 3 1 1 2 0 1 3 1 1 0 2 1 0 1 0 1 2 2 2 0 2 2 1 1 1 1 0\n 1 1 0 1 3 2 2 0 1 1 1 2 3 0 3 1 1 2 3 1 1 3 2 2 2 1 2 1 2 2 3 0 2 3 1 1 1\n 0 0 2 3 3 1 1 0 0 3 1 1 3 3 2 3 2 0 1 2 0 2 0 2 3 0 1 3 1 3 1 2 1 1 3 1 2\n 1 0 2 3 1 1 2 3 2 1 1 1 3 1 3 2 3 2 1 1 2 1 1 3 1 2 2 0 1 1]",
         "215"
        ],
        [
         "1103514",
         "chr11",
         "68417892",
         "68418281",
         "[2 2 0 0 3 3 2 2 3 0 0 0 2 1 1 3 3 1 1 3 1 3 2 2 3 1 1 0 3 2 3 2 1 2 2 0 3\n 2 3 3 2 0 1 0 2 3 1 3 2 3 2 1 0 2 0 0 0 1 3 0 2 1 0 0 1 1 0 1 0 2 1 3 3 1\n 1 3 2 1 3 1 1 1 0 3 0 3 2 0 1 3 2 1 3 0 1 1 3 0 0 2 0 1 3 2 1 3 1 1 1 1 0\n 1 3 0 0 2 0 1 1 3 2 1 3 2 0 3 1 1 2 1 1 3 1 1 3 2 1 0 1 1 1 3 1 0 1 0 0 3\n 0 2 0 1 1 1 0 1 2 2 0 0 1 3 3 1 1 3 2 2 3 2 2 3 3 2 1 0 3 0 2 1 3 2 1 3 2\n 3 1 2 3 1 1 0 1 1 0 2 0 2 2 2 1 2 3 0 1 0 3 1 1 1 2 1 1 1 0 1 3 2 1 1 0 2\n 1 3 3 3 3 3 1 3 2 3 1 1 2 3 2 3 2 1 1 0 1 3 2 2 0 3 3 0 3 3 1 1 1 3 3 3 1\n 0 0 0 2 1 1 3 1 1 0 1 0 3 1 3 2 3 1 3 3 1 3 3 3 1 3 3 0 2 1 3 2 2 2 0 3 0\n 2 3 0 3 3 3 0 1 3 3 2 3 2 3 3 1 3 1 3 0 1 1 3 1 3 3 0 3 1 3 3 1 1 1 0 2 0\n 1 0 1 0 3 2 0 3 3 2 3 2 3 3 3 3 1 0 0 2 3 0 0 3 3 0 3 1 3 3 1 3 0 2 3 3 3\n 3 0 3 3 2 2 3 3 1 3 0 2 3 3 3 3 0 3 3]",
         "[1 1 3 3 0 0 1 1 0 3 3 3 1 2 2 0 0 2 2 0 2 0 1 1 0 2 2 3 0 1 0 1 2 1 1 3 0\n 1 0 0 1 3 2 3 1 0 2 0 1 0 1 2 3 1 3 3 3 2 0 3 1 2 3 3 2 2 3 2 3 1 2 0 0 2\n 2 0 1 2 0 2 2 2 3 0 3 0 1 3 2 0 1 2 0 3 2 2 0 3 3 1 3 2 0 1 2 0 2 2 2 2 3\n 2 0 3 3 1 3 2 2 0 1 2 0 1 3 0 2 2 1 2 2 0 2 2 0 1 2 3 2 2 2 0 2 3 2 3 3 0\n 3 1 3 2 2 2 3 2 1 1 3 3 2 0 0 2 2 0 1 1 0 1 1 0 0 1 2 3 0 3 1 2 0 1 2 0 1\n 0 2 1 0 2 2 3 2 2 3 1 3 1 1 1 2 1 0 3 2 3 0 2 2 2 1 2 2 2 3 2 0 1 2 2 3 1\n 2 0 0 0 0 0 2 0 1 0 2 2 1 0 1 0 1 2 2 3 2 0 1 1 3 0 0 3 0 0 2 2 2 0 0 0 2\n 3 3 3 1 2 2 0 2 2 3 2 3 0 2 0 1 0 2 0 0 2 0 0 0 2 0 0 3 1 2 0 1 1 1 3 0 3\n 1 0 3 0 0 0 3 2 0 0 1 0 1 0 0 2 0 2 0 3 2 2 0 2 0 0 3 0 2 0 0 2 2 2 3 1 3\n 2 3 2 3 0 1 3 0 0 1 0 1 0 0 0 0 2 3 3 1 0 3 3 0 0 3 0 2 0 0 2 0 3 1 0 0 0\n 0 3 0 0 1 1 0 0 2 0 3 1 0 0 0 0 3 0 0]",
         "389"
        ],
        [
         "2910817",
         "chr16",
         "85129300",
         "85129588",
         "[0 1 0 2 3 0 0 2 3 1 0 1 0 2 3 0 1 1 3 3 3 0 1 0 2 3 0 3 0 2 1 1 0 3 2 3 1\n 1 0 2 1 1 3 2 0 2 3 3 1 1 0 2 1 1 3 0 2 0 0 2 2 0 3 1 3 2 3 3 0 1 0 0 0 0\n 2 3 2 0 2 3 0 2 0 2 0 0 2 2 2 2 2 0 2 2 2 2 0 2 2 2 2 0 0 0 3 0 0 1 1 2 1\n 3 1 3 1 0 1 0 2 0 1 3 3 0 0 3 2 3 0 2 2 3 0 2 3 3 3 3 1 0 1 0 1 1 3 2 2 0\n 0 0 1 3 1 2 3 1 0 3 3 1 3 3 3 2 2 0 2 3 1 0 1 3 3 2 1 3 2 0 1 0 3 0 2 1 3\n 3 1 0 0 0 3 3 0 1 0 0 1 3 1 0 2 1 2 1 3 1 3 3 0 2 0 0 2 1 3 3 3 3 1 1 3 2\n 2 1 1 3 1 3 2 3 2 2 0 3 2 1 1 0 3 2 1 3 1 3 2 1 0 0 0 3 2 0 2 2 2 1 1 0 1\n 0 1 0 2 2 3 2 3 3 1 3 1 1 0 2 1 3 2 0 1 1 1 1 0 0 0 0 1 3]",
         "[3 2 3 1 0 3 3 1 0 2 3 2 3 1 0 3 2 2 0 0 0 3 2 3 1 0 3 0 3 1 2 2 3 0 1 0 2\n 2 3 1 2 2 0 1 3 1 0 0 2 2 3 1 2 2 0 3 1 3 3 1 1 3 0 2 0 1 0 0 3 2 3 3 3 3\n 1 0 1 3 1 0 3 1 3 1 3 3 1 1 1 1 1 3 1 1 1 1 3 1 1 1 1 3 3 3 0 3 3 2 2 1 2\n 0 2 0 2 3 2 3 1 3 2 0 0 3 3 0 1 0 3 1 1 0 3 1 0 0 0 0 2 3 2 3 2 2 0 1 1 3\n 3 3 2 0 2 1 0 2 3 0 0 2 0 0 0 1 1 3 1 0 2 3 2 0 0 1 2 0 1 3 2 3 0 3 1 2 0\n 0 2 3 3 3 0 0 3 2 3 3 2 0 2 3 1 2 1 2 0 2 0 0 3 1 3 3 1 2 0 0 0 0 2 2 0 1\n 1 2 2 0 2 0 1 0 1 1 3 0 1 2 2 3 0 1 2 0 2 0 1 2 3 3 3 0 1 3 1 1 1 2 2 3 2\n 3 2 3 1 1 0 1 0 0 2 0 2 2 3 1 2 0 1 3 2 2 2 2 3 3 3 3 2 0]",
         "288"
        ],
        [
         "5138212",
         "chr4",
         "141267732",
         "141268085",
         "[2 2 1 3 1 3 0 2 0 2 1 0 3 2 0 2 2 1 0 1 0 1 0 2 2 2 1 1 1 1 0 1 2 0 0 1 3\n 2 3 2 3 3 1 3 3 3 2 3 3 2 2 0 3 1 1 1 3 1 1 3 2 1 1 3 3 1 1 1 3 1 3 1 3 1\n 3 3 1 1 3 3 3 1 1 1 1 0 2 1 3 1 3 1 0 0 3 1 1 3 2 1 1 1 3 3 1 3 1 3 1 1 3\n 3 1 1 1 3 1 1 1 3 1 3 1 3 1 1 0 2 3 1 1 3 1 1 0 3 2 1 3 3 1 3 2 1 1 1 3 1\n 3 0 1 1 1 0 1 1 1 0 1 3 3 2 3 2 3 1 3 3 3 1 3 3 1 3 1 3 2 2 2 1 0 2 3 3 0\n 0 0 2 0 1 3 1 0 2 3 3 1 3 3 0 0 3 1 3 1 2 2 2 0 1 3 3 3 2 3 2 2 1 3 1 1 1\n 3 1 3 0 1 3 2 2 2 3 0 1 0 1 0 2 2 2 0 0 2 3 2 1 0 2 2 3 2 1 3 1 1 0 2 0 1\n 3 2 3 1 2 2 2 0 2 0 0 3 3 2 2 3 2 3 1 2 2 3 2 2 0 2 2 1 0 2 3 2 2 2 2 2 0\n 3 3 1 3 1 1 3 2 0 0 2 0 0 0 0 2 1 1 3 2 0 2 0 2 0 2 2 2 3 2 3 2 0 2 3 3 2\n 2 0 0 1 2 0 1 3 2 1 3 3 3 2 0 2 0 0 1 0]",
         "[1 1 2 0 2 0 3 1 3 1 2 3 0 1 3 1 1 2 3 2 3 2 3 1 1 1 2 2 2 2 3 2 1 3 3 2 0\n 1 0 1 0 0 2 0 0 0 1 0 0 1 1 3 0 2 2 2 0 2 2 0 1 2 2 0 0 2 2 2 0 2 0 2 0 2\n 0 0 2 2 0 0 0 2 2 2 2 3 1 2 0 2 0 2 3 3 0 2 2 0 1 2 2 2 0 0 2 0 2 0 2 2 0\n 0 2 2 2 0 2 2 2 0 2 0 2 0 2 2 3 1 0 2 2 0 2 2 3 0 1 2 0 0 2 0 1 2 2 2 0 2\n 0 3 2 2 2 3 2 2 2 3 2 0 0 1 0 1 0 2 0 0 0 2 0 0 2 0 2 0 1 1 1 2 3 1 0 0 3\n 3 3 1 3 2 0 2 3 1 0 0 2 0 0 3 3 0 2 0 2 1 1 1 3 2 0 0 0 1 0 1 1 2 0 2 2 2\n 0 2 0 3 2 0 1 1 1 0 3 2 3 2 3 1 1 1 3 3 1 0 1 2 3 1 1 0 1 2 0 2 2 3 1 3 2\n 0 1 0 2 1 1 1 3 1 3 3 0 0 1 1 0 1 0 2 1 1 0 1 1 3 1 1 2 3 1 0 1 1 1 1 1 3\n 0 0 2 0 2 2 0 1 3 3 1 3 3 3 3 1 2 2 0 1 3 1 3 1 3 1 1 1 0 1 0 1 3 1 0 0 1\n 1 3 3 2 1 3 2 0 1 2 0 0 0 1 3 1 3 3 2 3]",
         "353"
        ],
        [
         "2677242",
         "chr15",
         "100637223",
         "100637511",
         "[2 1 0 1 0 3 3 1 1 3 2 0 0 1 0 1 1 3 1 0 2 3 0 2 3 1 2 2 3 3 3 1 1 3 1 0 3\n 1 1 1 3 0 0 0 0 3 2 2 2 2 0 1 3 2 0 0 0 2 3 2 2 1 0 0 3 3 1 1 1 2 3 0 0 2\n 2 1 1 2 3 3 3 3 0 1 0 2 1 1 3 3 2 2 3 1 1 3 0 2 1 1 1 2 0 2 2 1 0 0 2 1 2\n 1 1 3 3 2 0 3 3 3 0 0 0 3 0 3 3 1 0 3 1 0 2 3 2 1 3 2 3 0 1 3 3 3 0 2 1 0\n 2 1 0 2 3 3 2 2 0 1 3 1 0 1 2 3 1 0 2 3 2 0 1 0 2 2 0 0 0 3 2 1 3 1 1 1 0\n 0 0 3 3 0 0 1 3 0 2 0 2 2 0 0 1 3 1 2 3 3 2 0 1 3 0 0 2 0 2 2 1 0 0 3 0 0\n 3 3 1 3 0 3 0 3 0 0 1 0 2 2 1 3 1 3 2 2 0 2 2 3 2 2 3 1 1 1 2 1 3 2 3 2 3\n 0 0 2 1 3 0 2 1 2 1 0 2 2 3 3 0 1 3 3 1 3 2 0 3 3 1 3 3 3]",
         "[1 2 3 2 3 0 0 2 2 0 1 3 3 2 3 2 2 0 2 3 1 0 3 1 0 2 1 1 0 0 0 2 2 0 2 3 0\n 2 2 2 0 3 3 3 3 0 1 1 1 1 3 2 0 1 3 3 3 1 0 1 1 2 3 3 0 0 2 2 2 1 0 3 3 1\n 1 2 2 1 0 0 0 0 3 2 3 1 2 2 0 0 1 1 0 2 2 0 3 1 2 2 2 1 3 1 1 2 3 3 1 2 1\n 2 2 0 0 1 3 0 0 0 3 3 3 0 3 0 0 2 3 0 2 3 1 0 1 2 0 1 0 3 2 0 0 0 3 1 2 3\n 1 2 3 1 0 0 1 1 3 2 0 2 3 2 1 0 2 3 1 0 1 3 2 3 1 1 3 3 3 0 1 2 0 2 2 2 3\n 3 3 0 0 3 3 2 0 3 1 3 1 1 3 3 2 0 2 1 0 0 1 3 2 0 3 3 1 3 1 1 2 3 3 0 3 3\n 0 0 2 0 3 0 3 0 3 3 2 3 1 1 2 0 2 0 1 1 3 1 1 0 1 1 0 2 2 2 1 2 0 1 0 1 0\n 3 3 1 2 0 3 1 2 1 2 3 1 1 0 0 3 2 0 0 2 0 1 3 0 0 2 0 0 0]",
         "288"
        ],
        [
         "7118749",
         "chr9",
         "49662970",
         "49663146",
         "[0 1 3 3 2 1 1 3 2 2 2 2 3 0 1 3 3 2 0 3 2 1 3 1 3 1 3 2 0 0 3 0 3 3 3 3 2\n 2 1 3 1 0 0 2 3 1 3 3 1 1 0 1 1 0 2 2 2 2 2 0 2 1 0 2 2 2 1 1 0 1 1 0 1 1\n 1 1 0 2 0 2 2 3 1 0 1 2 3 2 0 3 2 3 0 0 0 0 1 1 3 1 0 2 2 3 2 0 3 2 3 1 0\n 0 0 0 2 0 2 2 0 3 2 0 1 1 0 0 2 3 3 1 1 3 0 0 0 1 0 3 0 2 2 2 2 1 0 0 2 2\n 2 0 2 2 2 3 0 0 2 2 2 0 3 3 3 0 0 0 3 1 1 0 0 0 1 3 2 2]",
         "[3 2 0 0 1 2 2 0 1 1 1 1 0 3 2 0 0 1 3 0 1 2 0 2 0 2 0 1 3 3 0 3 0 0 0 0 1\n 1 2 0 2 3 3 1 0 2 0 0 2 2 3 2 2 3 1 1 1 1 1 3 1 2 3 1 1 1 2 2 3 2 2 3 2 2\n 2 2 3 1 3 1 1 0 2 3 2 1 0 1 3 0 1 0 3 3 3 3 2 2 0 2 3 1 1 0 1 3 0 1 0 2 3\n 3 3 3 1 3 1 1 3 0 1 3 2 2 3 3 1 0 0 2 2 0 3 3 3 2 3 0 3 1 1 1 1 2 3 3 1 1\n 1 3 1 1 1 0 3 3 1 1 1 3 0 0 0 3 3 3 0 2 2 3 3 3 2 0 1 1]",
         "176"
        ],
        [
         "1290132",
         "chr11",
         "101867717",
         "101867842",
         "[0 0 0 3 2 1 3 3 3 1 1 3 1 3 2 1 1 3 2 2 2 0 2 3 3 1 0 0 2 1 0 3 3 1 0 3 2\n 0 2 2 0 0 0 0 0 0 0 0 0 0 0 3 1 0 0 2 0 2 2 2 0 3 3 3 3 0 0 0 0 3 0 0 0 2\n 1 1 1 0 3 2 1 3 1 3 1 3 2 1 0 2 2 1 3 2 3 1 3 2 1 3 1 3 2 0 2 1 1 0 2 1 2\n 1 0 2 1 1 2 3 2 2 2 2 3 2 0]",
         "[3 3 3 0 1 2 0 0 0 2 2 0 2 0 1 2 2 0 1 1 1 3 1 0 0 2 3 3 1 2 3 0 0 2 3 0 1\n 3 1 1 3 3 3 3 3 3 3 3 3 3 3 0 2 3 3 1 3 1 1 1 3 0 0 0 0 3 3 3 3 0 3 3 3 1\n 2 2 2 3 0 1 2 0 2 0 2 0 1 2 3 1 1 2 0 1 0 2 0 1 2 0 2 0 1 3 1 2 2 3 1 2 1\n 2 3 1 2 2 1 0 1 1 1 1 0 1 3]",
         "125"
        ],
        [
         "2236698",
         "chr14",
         "58034677",
         "58034971",
         "[0 0 2 2 3 0 3 0 3 0 1 3 1 0 1 3 0 2 0 2 3 0 0 1 0 0 3 2 2 1 1 3 3 0 0 0 3\n 0 3 0 3 3 1 0 1 0 2 2 0 3 3 3 2 2 2 0 1 0 1 3 2 2 3 3 1 0 2 1 0 0 0 2 0 2\n 2 2 3 0 0 0 3 3 0 2 2 3 3 2 2 2 3 0 2 3 0 1 1 2 2 1 3 1 3 1 3 1 1 0 1 0 1\n 2 0 2 2 2 0 2 1 1 3 0 2 0 3 3 1 1 3 1 2 3 3 3 0 3 0 3 3 3 3 1 3 0 3 1 1 2\n 3 2 0 0 1 2 1 0 0 3 3 3 2 3 0 3 3 3 3 1 0 3 1 3 3 2 1 1 0 1 0 0 0 3 3 0 0\n 0 1 0 3 2 0 2 3 2 0 1 3 3 1 3 2 3 3 3 3 0 3 1 0 3 3 3 1 0 2 2 2 3 3 3 0 3\n 3 3 1 0 3 2 3 0 2 3 3 3 3 2 0 3 2 2 3 3 1 1 0 3 2 0 1 2 3 3 1 1 0 0 0 1 0\n 2 3 3 0 1 2 3 1 3 3 3 3 3 1 3 3 3 3 2 2 2 0 3 3 3 3 2 2 2 0 3 2 1 1 0]",
         "[3 3 1 1 0 3 0 3 0 3 2 0 2 3 2 0 3 1 3 1 0 3 3 2 3 3 0 1 1 2 2 0 0 3 3 3 0\n 3 0 3 0 0 2 3 2 3 1 1 3 0 0 0 1 1 1 3 2 3 2 0 1 1 0 0 2 3 1 2 3 3 3 1 3 1\n 1 1 0 3 3 3 0 0 3 1 1 0 0 1 1 1 0 3 1 0 3 2 2 1 1 2 0 2 0 2 0 2 2 3 2 3 2\n 1 3 1 1 1 3 1 2 2 0 3 1 3 0 0 2 2 0 2 1 0 0 0 3 0 3 0 0 0 0 2 0 3 0 2 2 1\n 0 1 3 3 2 1 2 3 3 0 0 0 1 0 3 0 0 0 0 2 3 0 2 0 0 1 2 2 3 2 3 3 3 0 0 3 3\n 3 2 3 0 1 3 1 0 1 3 2 0 0 2 0 1 0 0 0 0 3 0 2 3 0 0 0 2 3 1 1 1 0 0 0 3 0\n 0 0 2 3 0 1 0 3 1 0 0 0 0 1 3 0 1 1 0 0 2 2 3 0 1 3 2 1 0 0 2 2 3 3 3 2 3\n 1 0 0 3 2 1 0 2 0 0 0 0 0 2 0 0 0 0 1 1 1 3 0 0 0 0 1 1 1 3 0 1 2 2 3]",
         "294"
        ],
        [
         "5415319",
         "chr5",
         "89204043",
         "89204443",
         "[1 0 2 2 0 0 2 1 3 1 1 0 1 1 1 1 2 0 2 1 0 0 2 1 0 2 2 3 3 3 1 0 2 2 1 3 2\n 2 2 2 2 0 2 2 2 2 0 2 0 1 3 0 1 0 3 1 3 1 1 3 1 1 1 3 0 3 3 0 3 3 0 0 1 0\n 0 0 0 3 0 0 0 0 0 3 0 0 0 0 0 0 0 0 0 0 2 0 0 0 0 0 2 1 3 2 2 1 1 3 2 0 2\n 2 2 2 2 2 0 0 0 0 3 3 0 3 1 3 0 3 2 1 3 1 0 0 3 0 2 3 3 1 3 2 1 1 3 2 2 0\n 0 3 1 3 0 2 2 2 1 3 0 0 0 2 0 0 0 0 0 0 1 3 3 2 1 3 3 1 0 1 3 2 2 2 0 3 3\n 1 3 3 3 0 0 1 1 3 3 3 1 3 3 0 3 2 2 3 0 0 0 1 3 2 3 0 3 1 3 2 2 1 3 3 0 0\n 2 0 1 3 2 3 1 1 3 3 3 1 3 0 2 3 0 0 0 1 0 0 1 3 2 0 0 0 2 2 1 1 3 2 2 0 2\n 1 3 2 1 0 2 0 1 3 1 3 2 0 1 3 3 3 0 3 0 0 3 2 1 3 0 0 3 3 0 2 3 0 1 3 3 2\n 2 3 0 2 2 3 0 0 1 3 3 3 1 3 0 2 3 3 2 0 0 3 3 3 3 0 0 2 3 0 2 2 2 1 2 3 3\n 2 2 0 0 1 3 1 3 2 2 1 3 0 0 2 3 3 3 2 0 1 3 2 0 0 1 2 0 3 2 3 2 0 0 0 0 3\n 0 2 1 0 1 3 0 0 2 3 3 2 0 0 3 3 1 1 3 1 1 2 1 0 3 3 3 3 3 2]",
         "[2 3 1 1 3 3 1 2 0 2 2 3 2 2 2 2 1 3 1 2 3 3 1 2 3 1 1 0 0 0 2 3 1 1 2 0 1\n 1 1 1 1 3 1 1 1 1 3 1 3 2 0 3 2 3 0 2 0 2 2 0 2 2 2 0 3 0 0 3 0 0 3 3 2 3\n 3 3 3 0 3 3 3 3 3 0 3 3 3 3 3 3 3 3 3 3 1 3 3 3 3 3 1 2 0 1 1 2 2 0 1 3 1\n 1 1 1 1 1 3 3 3 3 0 0 3 0 2 0 3 0 1 2 0 2 3 3 0 3 1 0 0 2 0 1 2 2 0 1 1 3\n 3 0 2 0 3 1 1 1 2 0 3 3 3 1 3 3 3 3 3 3 2 0 0 1 2 0 0 2 3 2 0 1 1 1 3 0 0\n 2 0 0 0 3 3 2 2 0 0 0 2 0 0 3 0 1 1 0 3 3 3 2 0 1 0 3 0 2 0 1 1 2 0 0 3 3\n 1 3 2 0 1 0 2 2 0 0 0 2 0 3 1 0 3 3 3 2 3 3 2 0 1 3 3 3 1 1 2 2 0 1 1 3 1\n 2 0 1 2 3 1 3 2 0 2 0 1 3 2 0 0 0 3 0 3 3 0 1 2 0 3 3 0 0 3 1 0 3 2 0 0 1\n 1 0 3 1 1 0 3 3 2 0 0 0 2 0 3 1 0 0 1 3 3 0 0 0 0 3 3 1 0 3 1 1 1 2 1 0 0\n 1 1 3 3 2 0 2 0 1 1 2 0 3 3 1 0 0 0 1 3 2 0 1 3 3 2 1 3 0 1 0 1 3 3 3 3 0\n 3 1 2 3 2 0 3 3 1 0 0 1 3 3 0 0 2 2 0 2 2 1 2 3 0 0 0 0 0 1]",
         "400"
        ],
        [
         "6717566",
         "chr8",
         "55407056",
         "55407267",
         "[0 3 3 3 0 2 2 3 3 0 1 0 1 3 3 2 2 2 0 3 2 1 3 2 2 1 3 3 0 1 3 0 0 0 0 1 3\n 1 3 3 3 3 0 3 0 2 3 1 0 3 2 2 0 3 3 3 3 1 0 1 3 3 1 1 0 1 3 0 2 0 3 2 3 1\n 0 2 3 2 3 1 3 2 0 3 0 0 3 3 1 3 1 3 2 2 1 0 0 0 2 3 1 3 3 0 2 2 1 3 0 2 1\n 3 3 3 3 1 3 3 0 0 0 3 3 3 3 0 1 3 3 1 3 0 3 3 0 0 3 3 3 3 2 3 3 3 3 2 2 0\n 3 3 0 3 3 2 3 3 3 2 1 3 3 2 3 3 3 3 2 3 0 0 2 2 0 0 0 3 0 0 2 1 1 1 0 0 1\n 0 3 2 2 2 0 0 0 0 3 0 2 0 2 2 0 0 2 0 3 0 2 0 2 2 0]",
         "[3 0 0 0 3 1 1 0 0 3 2 3 2 0 0 1 1 1 3 0 1 2 0 1 1 2 0 0 3 2 0 3 3 3 3 2 0\n 2 0 0 0 0 3 0 3 1 0 2 3 0 1 1 3 0 0 0 0 2 3 2 0 0 2 2 3 2 0 3 1 3 0 1 0 2\n 3 1 0 1 0 2 0 1 3 0 3 3 0 0 2 0 2 0 1 1 2 3 3 3 1 0 2 0 0 3 1 1 2 0 3 1 2\n 0 0 0 0 2 0 0 3 3 3 0 0 0 0 3 2 0 0 2 0 3 0 0 3 3 0 0 0 0 1 0 0 0 0 1 1 3\n 0 0 3 0 0 1 0 0 0 1 2 0 0 1 0 0 0 0 1 0 3 3 1 1 3 3 3 0 3 3 1 2 2 2 3 3 2\n 3 0 1 1 1 3 3 3 3 0 3 1 3 1 1 3 3 1 3 0 3 1 3 1 1 3]",
         "211"
        ],
        [
         "3592934",
         "chr19",
         "20426441",
         "20426736",
         "[2 0 0 0 1 1 1 2 2 3 1 3 1 2 0 0 0 0 0 1 1 0 0 0 0 1 1 0 0 0 1 1 0 0 2 0 1\n 0 0 0 0 1 0 0 0 0 1 0 0 0 0 2 0 0 0 0 0 1 0 0 3 2 3 3 3 3 3 3 0 3 1 3 3 1\n 1 3 1 3 2 2 2 3 0 2 0 0 2 3 3 0 3 3 0 1 1 0 0 0 3 1 3 1 1 1 0 1 2 1 0 0 2\n 2 3 3 2 2 3 3 3 1 0 2 2 3 3 0 2 0 0 1 3 3 2 0 3 1 3 1 3 3 1 1 2 2 2 3 0 1\n 0 1 0 3 1 3 1 3 2 0 2 3 1 1 3 3 3 3 1 0 0 3 0 2 0 0 2 3 0 0 1 1 3 2 0 1 0\n 1 3 3 2 0 0 2 2 3 2 2 2 0 2 3 2 1 1 3 3 3 3 2 3 2 2 0 3 2 2 0 3 3 3 2 1 0\n 2 3 2 0 3 1 1 1 0 2 2 2 1 3 3 3 3 3 2 3 3 3 2 3 3 3 2 2 3 3 3 3 2 3 3 3 3\n 1 0 1 0 2 2 3 2 2 2 0 2 2 1 0 1 0 3 3 2 3 1 3 2 0 0 2 0 2 0 1 0 0 0 0 2]",
         "[1 3 3 3 2 2 2 1 1 0 2 0 2 1 3 3 3 3 3 2 2 3 3 3 3 2 2 3 3 3 2 2 3 3 1 3 2\n 3 3 3 3 2 3 3 3 3 2 3 3 3 3 1 3 3 3 3 3 2 3 3 0 1 0 0 0 0 0 0 3 0 2 0 0 2\n 2 0 2 0 1 1 1 0 3 1 3 3 1 0 0 3 0 0 3 2 2 3 3 3 0 2 0 2 2 2 3 2 1 2 3 3 1\n 1 0 0 1 1 0 0 0 2 3 1 1 0 0 3 1 3 3 2 0 0 1 3 0 2 0 2 0 0 2 2 1 1 1 0 3 2\n 3 2 3 0 2 0 2 0 1 3 1 0 2 2 0 0 0 0 2 3 3 0 3 1 3 3 1 0 3 3 2 2 0 1 3 2 3\n 2 0 0 1 3 3 1 1 0 1 1 1 3 1 0 1 2 2 0 0 0 0 1 0 1 1 3 0 1 1 3 0 0 0 1 2 3\n 1 0 1 3 0 2 2 2 3 1 1 1 2 0 0 0 0 0 1 0 0 0 1 0 0 0 1 1 0 0 0 0 1 0 0 0 0\n 2 3 2 3 1 1 0 1 1 1 3 1 1 2 3 2 3 0 0 1 0 2 0 1 3 3 1 3 1 3 2 3 3 3 3 1]",
         "295"
        ],
        [
         "2024395",
         "chr13",
         "107021648",
         "107021898",
         "[0 1 1 2 2 0 3 2 2 1 3 1 1 1 1 0 0 3 2 2 1 1 3 1 3 2 2 1 3 2 1 1 0 2 3 1 2\n 2 2 3 1 3 1 3 1 2 2 3 2 1 1 2 0 1 0 3 1 1 1 1 2 0 3 1 3 3 1 0 1 2 1 3 0 1\n 1 0 1 1 1 3 3 3 1 1 0 1 2 1 1 0 1 1 2 0 2 2 1 0 2 0 2 0 1 1 2 2 3 0 0 0 0\n 2 2 1 0 2 0 2 3 0 2 0 2 2 1 0 2 1 2 1 2 0 2 2 1 0 1 2 2 2 1 0 0 1 1 1 3 0\n 0 1 2 2 0 2 3 1 1 1 1 3 2 2 2 2 2 2 0 2 0 2 2 0 1 1 2 1 2 0 0 1 1 1 2 2 2\n 0 2 1 2 2 1 3 1 1 1 2 1 1 1 3 2 1 2 2 1 1 2 2 2 2 1 1 1 1 2 1 0 1 3 2 1 0\n 2 1 2 2 1 2 1 1 1 2 2 2 1 2 2 0 1 1 1 1 0 1 2 1 1 1 2 1]",
         "[3 2 2 1 1 3 0 1 1 2 0 2 2 2 2 3 3 0 1 1 2 2 0 2 0 1 1 2 0 1 2 2 3 1 0 2 1\n 1 1 0 2 0 2 0 2 1 1 0 1 2 2 1 3 2 3 0 2 2 2 2 1 3 0 2 0 0 2 3 2 1 2 0 3 2\n 2 3 2 2 2 0 0 0 2 2 3 2 1 2 2 3 2 2 1 3 1 1 2 3 1 3 1 3 2 2 1 1 0 3 3 3 3\n 1 1 2 3 1 3 1 0 3 1 3 1 1 2 3 1 2 1 2 1 3 1 1 2 3 2 1 1 1 2 3 3 2 2 2 0 3\n 3 2 1 1 3 1 0 2 2 2 2 0 1 1 1 1 1 1 3 1 3 1 1 3 2 2 1 2 1 3 3 2 2 2 1 1 1\n 3 1 2 1 1 2 0 2 2 2 1 2 2 2 0 1 2 1 1 2 2 1 1 1 1 2 2 2 2 1 2 3 2 0 1 2 3\n 1 2 1 1 2 1 2 2 2 1 1 1 2 1 1 3 2 2 2 2 3 2 1 2 2 2 1 2]",
         "250"
        ]
       ],
       "shape": {
        "columns": 6,
        "rows": 381220
       }
      },
      "text/html": [
       "<div>\n",
       "<style scoped>\n",
       "    .dataframe tbody tr th:only-of-type {\n",
       "        vertical-align: middle;\n",
       "    }\n",
       "\n",
       "    .dataframe tbody tr th {\n",
       "        vertical-align: top;\n",
       "    }\n",
       "\n",
       "    .dataframe thead th {\n",
       "        text-align: right;\n",
       "    }\n",
       "</style>\n",
       "<table border=\"1\" class=\"dataframe\">\n",
       "  <thead>\n",
       "    <tr style=\"text-align: right;\">\n",
       "      <th></th>\n",
       "      <th>chr</th>\n",
       "      <th>start</th>\n",
       "      <th>end</th>\n",
       "      <th>+ seq</th>\n",
       "      <th>- seq</th>\n",
       "      <th>peak_len</th>\n",
       "    </tr>\n",
       "  </thead>\n",
       "  <tbody>\n",
       "    <tr>\n",
       "      <th>266850</th>\n",
       "      <td>chr1</td>\n",
       "      <td>120120951</td>\n",
       "      <td>120121405</td>\n",
       "      <td>[0, 3, 0, 1, 3, 2, 2, 3, 2, 0, 2, 2, 3, 2, 0, ...</td>\n",
       "      <td>[3, 0, 3, 2, 0, 1, 1, 0, 1, 3, 1, 1, 0, 1, 3, ...</td>\n",
       "      <td>454</td>\n",
       "    </tr>\n",
       "    <tr>\n",
       "      <th>5142549</th>\n",
       "      <td>chr4</td>\n",
       "      <td>141858634</td>\n",
       "      <td>141858846</td>\n",
       "      <td>[3, 1, 3, 2, 2, 2, 2, 0, 1, 0, 3, 3, 2, 3, 0, ...</td>\n",
       "      <td>[0, 2, 0, 1, 1, 1, 1, 3, 2, 3, 0, 0, 1, 0, 3, ...</td>\n",
       "      <td>212</td>\n",
       "    </tr>\n",
       "    <tr>\n",
       "      <th>2077717</th>\n",
       "      <td>chr14</td>\n",
       "      <td>7901879</td>\n",
       "      <td>7902070</td>\n",
       "      <td>[1, 1, 0, 2, 2, 2, 1, 0, 0, 1, 0, 3, 2, 1, 0, ...</td>\n",
       "      <td>[2, 2, 3, 1, 1, 1, 2, 3, 3, 2, 3, 0, 1, 2, 3, ...</td>\n",
       "      <td>191</td>\n",
       "    </tr>\n",
       "    <tr>\n",
       "      <th>7249767</th>\n",
       "      <td>chr9</td>\n",
       "      <td>78845255</td>\n",
       "      <td>78845622</td>\n",
       "      <td>[3, 2, 0, 1, 3, 3, 1, 3, 3, 2, 0, 0, 1, 3, 2, ...</td>\n",
       "      <td>[0, 1, 3, 2, 0, 0, 2, 0, 0, 1, 3, 3, 2, 0, 1, ...</td>\n",
       "      <td>367</td>\n",
       "    </tr>\n",
       "    <tr>\n",
       "      <th>45188</th>\n",
       "      <td>chr1</td>\n",
       "      <td>30740921</td>\n",
       "      <td>30741149</td>\n",
       "      <td>[3, 0, 3, 0, 0, 3, 2, 3, 2, 3, 3, 3, 0, 0, 2, ...</td>\n",
       "      <td>[0, 3, 0, 3, 3, 0, 1, 0, 1, 0, 0, 0, 3, 3, 1, ...</td>\n",
       "      <td>228</td>\n",
       "    </tr>\n",
       "    <tr>\n",
       "      <th>...</th>\n",
       "      <td>...</td>\n",
       "      <td>...</td>\n",
       "      <td>...</td>\n",
       "      <td>...</td>\n",
       "      <td>...</td>\n",
       "      <td>...</td>\n",
       "    </tr>\n",
       "    <tr>\n",
       "      <th>7308990</th>\n",
       "      <td>chr9</td>\n",
       "      <td>102714953</td>\n",
       "      <td>102715070</td>\n",
       "      <td>[2, 0, 3, 0, 1, 3, 0, 2, 3, 1, 2, 2, 1, 3, 3, ...</td>\n",
       "      <td>[1, 3, 0, 3, 2, 0, 3, 1, 0, 2, 1, 1, 2, 0, 0, ...</td>\n",
       "      <td>117</td>\n",
       "    </tr>\n",
       "    <tr>\n",
       "      <th>1280541</th>\n",
       "      <td>chr11</td>\n",
       "      <td>100744986</td>\n",
       "      <td>100745401</td>\n",
       "      <td>[3, 2, 0, 0, 3, 3, 2, 2, 3, 3, 2, 3, 0, 3, 2, ...</td>\n",
       "      <td>[0, 1, 3, 3, 0, 0, 1, 1, 0, 0, 1, 0, 3, 0, 1, ...</td>\n",
       "      <td>415</td>\n",
       "    </tr>\n",
       "    <tr>\n",
       "      <th>1036341</th>\n",
       "      <td>chr11</td>\n",
       "      <td>52765964</td>\n",
       "      <td>52766359</td>\n",
       "      <td>[0, 3, 2, 1, 3, 2, 3, 1, 1, 3, 3, 3, 2, 2, 3, ...</td>\n",
       "      <td>[3, 0, 1, 2, 0, 1, 0, 2, 2, 0, 0, 0, 1, 1, 0, ...</td>\n",
       "      <td>395</td>\n",
       "    </tr>\n",
       "    <tr>\n",
       "      <th>6421192</th>\n",
       "      <td>chr7</td>\n",
       "      <td>102076752</td>\n",
       "      <td>102077090</td>\n",
       "      <td>[0, 3, 0, 0, 3, 0, 0, 0, 3, 0, 0, 0, 3, 0, 0, ...</td>\n",
       "      <td>[3, 0, 3, 3, 0, 3, 3, 3, 0, 3, 3, 3, 0, 3, 3, ...</td>\n",
       "      <td>338</td>\n",
       "    </tr>\n",
       "    <tr>\n",
       "      <th>4893724</th>\n",
       "      <td>chr4</td>\n",
       "      <td>78211983</td>\n",
       "      <td>78212198</td>\n",
       "      <td>[2, 2, 1, 2, 1, 3, 1, 2, 1, 0, 1, 0, 1, 2, 2, ...</td>\n",
       "      <td>[1, 1, 2, 1, 2, 0, 2, 1, 2, 3, 2, 3, 2, 1, 1, ...</td>\n",
       "      <td>215</td>\n",
       "    </tr>\n",
       "  </tbody>\n",
       "</table>\n",
       "<p>381220 rows × 6 columns</p>\n",
       "</div>"
      ],
      "text/plain": [
       "           chr      start        end  \\\n",
       "266850    chr1  120120951  120121405   \n",
       "5142549   chr4  141858634  141858846   \n",
       "2077717  chr14    7901879    7902070   \n",
       "7249767   chr9   78845255   78845622   \n",
       "45188     chr1   30740921   30741149   \n",
       "...        ...        ...        ...   \n",
       "7308990   chr9  102714953  102715070   \n",
       "1280541  chr11  100744986  100745401   \n",
       "1036341  chr11   52765964   52766359   \n",
       "6421192   chr7  102076752  102077090   \n",
       "4893724   chr4   78211983   78212198   \n",
       "\n",
       "                                                     + seq  \\\n",
       "266850   [0, 3, 0, 1, 3, 2, 2, 3, 2, 0, 2, 2, 3, 2, 0, ...   \n",
       "5142549  [3, 1, 3, 2, 2, 2, 2, 0, 1, 0, 3, 3, 2, 3, 0, ...   \n",
       "2077717  [1, 1, 0, 2, 2, 2, 1, 0, 0, 1, 0, 3, 2, 1, 0, ...   \n",
       "7249767  [3, 2, 0, 1, 3, 3, 1, 3, 3, 2, 0, 0, 1, 3, 2, ...   \n",
       "45188    [3, 0, 3, 0, 0, 3, 2, 3, 2, 3, 3, 3, 0, 0, 2, ...   \n",
       "...                                                    ...   \n",
       "7308990  [2, 0, 3, 0, 1, 3, 0, 2, 3, 1, 2, 2, 1, 3, 3, ...   \n",
       "1280541  [3, 2, 0, 0, 3, 3, 2, 2, 3, 3, 2, 3, 0, 3, 2, ...   \n",
       "1036341  [0, 3, 2, 1, 3, 2, 3, 1, 1, 3, 3, 3, 2, 2, 3, ...   \n",
       "6421192  [0, 3, 0, 0, 3, 0, 0, 0, 3, 0, 0, 0, 3, 0, 0, ...   \n",
       "4893724  [2, 2, 1, 2, 1, 3, 1, 2, 1, 0, 1, 0, 1, 2, 2, ...   \n",
       "\n",
       "                                                     - seq  peak_len  \n",
       "266850   [3, 0, 3, 2, 0, 1, 1, 0, 1, 3, 1, 1, 0, 1, 3, ...       454  \n",
       "5142549  [0, 2, 0, 1, 1, 1, 1, 3, 2, 3, 0, 0, 1, 0, 3, ...       212  \n",
       "2077717  [2, 2, 3, 1, 1, 1, 2, 3, 3, 2, 3, 0, 1, 2, 3, ...       191  \n",
       "7249767  [0, 1, 3, 2, 0, 0, 2, 0, 0, 1, 3, 3, 2, 0, 1, ...       367  \n",
       "45188    [0, 3, 0, 3, 3, 0, 1, 0, 1, 0, 0, 0, 3, 3, 1, ...       228  \n",
       "...                                                    ...       ...  \n",
       "7308990  [1, 3, 0, 3, 2, 0, 3, 1, 0, 2, 1, 1, 2, 0, 0, ...       117  \n",
       "1280541  [0, 1, 3, 3, 0, 0, 1, 1, 0, 0, 1, 0, 3, 0, 1, ...       415  \n",
       "1036341  [3, 0, 1, 2, 0, 1, 0, 2, 2, 0, 0, 0, 1, 1, 0, ...       395  \n",
       "6421192  [3, 0, 3, 3, 0, 3, 3, 3, 0, 3, 3, 3, 0, 3, 3, ...       338  \n",
       "4893724  [1, 1, 2, 1, 2, 0, 2, 1, 2, 3, 2, 3, 2, 1, 1, ...       215  \n",
       "\n",
       "[381220 rows x 6 columns]"
      ]
     },
     "execution_count": 106,
     "metadata": {},
     "output_type": "execute_result"
    }
   ],
   "source": [
    "chr_pos_to_seq_sample"
   ]
  },
  {
   "cell_type": "code",
   "execution_count": null,
   "metadata": {},
   "outputs": [],
   "source": [
    "chr_pos_to_seq_sample.to_pickle(\"/gpfs/Labs/Uzun/SCRIPTS/PROJECTS/2024.SINGLE_CELL_GRN_INFERENCE.MOELLER/input/DS011_mESC/tmp/peak_sequences.pkl\")"
   ]
  },
  {
   "cell_type": "code",
   "execution_count": null,
   "metadata": {},
   "outputs": [],
   "source": [
    "chr_pos_to_seq_sample = chr_pos_to_seq.sample(frac=0.001)"
   ]
  },
  {
   "cell_type": "code",
   "execution_count": null,
   "metadata": {},
   "outputs": [
    {
     "data": {
      "application/vnd.microsoft.datawrangler.viewer.v0+json": {
       "columns": [
        {
         "name": "index",
         "rawType": "int64",
         "type": "integer"
        },
        {
         "name": "chr",
         "rawType": "object",
         "type": "string"
        },
        {
         "name": "start",
         "rawType": "int64",
         "type": "integer"
        },
        {
         "name": "end",
         "rawType": "int64",
         "type": "integer"
        },
        {
         "name": "+ seq",
         "rawType": "object",
         "type": "unknown"
        },
        {
         "name": "- seq",
         "rawType": "object",
         "type": "unknown"
        },
        {
         "name": "peak_len",
         "rawType": "int64",
         "type": "integer"
        }
       ],
       "ref": "69308141-7e0d-4395-895d-a75490dfcca2",
       "rows": [
        [
         "4919508",
         "chr4",
         "88763406",
         "88763801",
         "[1 3 2 3 0 1 2 1 2 0 0 2 2 2 2 1 1 1 2 2 2 0 2 0 2 0 2 2 1 0 2 2 0 2 0 1 0\n 1 3 1 1 1 3 2 1 1 3 2 1 1 1 2 2 0 2 3 1 2 1 2 1 2 1 3 2 0 0 1 2 2 2 2 1 2\n 0 0 1 2 2 1 1 3 1 1 2 1 0 2 2 1 2 1 1 1 2 1 3 2 1 3 2 1 1 1 3 1 1 2 2 3 2\n 2 1 1 1 2 1 2 1 1 1 3 1 3 2 1 3 2 1 3 2 1 3 1 1 3 2 2 1 1 3 1 0 2 0 0 2 3\n 1 2 1 2 3 1 1 0 2 3 2 3 1 1 0 2 1 2 1 0 2 1 2 1 0 2 2 1 0 2 3 1 0 2 0 2 0\n 2 1 0 0 2 0 2 1 1 0 2 0 0 2 1 3 1 2 2 0 2 3 2 0 0 1 3 0 3 3 0 0 0 2 1 0 2\n 1 0 0 0 1 3 1 1 0 2 2 1 3 1 0 0 3 2 2 2 0 0 2 2 1 2 2 1 1 3 3 2 1 1 1 3 1\n 2 1 2 1 3 1 1 1 1 1 3 2 1 0 2 2 1 1 0 2 1 1 1 1 2 1 0 0 3 1 2 3 1 0 2 2 1\n 3 3 1 0 2 1 0 3 2 1 3 2 1 1 3 2 3 2 1 0 3 1 3 0 3 3 1 1 3 2 2 3 2 2 2 0 2\n 2 2 2 3 2 0 3 2 1 3 2 0 2 1 3 2 1 0 2 1 1 1 0 2 1 1 0 2 1 3 1 0 1 3 3 2 0\n 3 3 1 3 2 2 3 0 0 0 3 1 3 2 2 2 0 2 1 1 3 2 1 0 1]",
         "[2 0 1 0 3 2 1 2 1 3 3 1 1 1 1 2 2 2 1 1 1 3 1 3 1 3 1 1 2 3 1 1 3 1 3 2 3\n 2 0 2 2 2 0 1 2 2 0 1 2 2 2 1 1 3 1 0 2 1 2 1 2 1 2 0 1 3 3 2 1 1 1 1 2 1\n 3 3 2 1 1 2 2 0 2 2 1 2 3 1 1 2 1 2 2 2 1 2 0 1 2 0 1 2 2 2 0 2 2 1 1 0 1\n 1 2 2 2 1 2 1 2 2 2 0 2 0 1 2 0 1 2 0 1 2 0 2 2 0 1 1 2 2 0 2 3 1 3 3 1 0\n 2 1 2 1 0 2 2 3 1 0 1 0 2 2 3 1 2 1 2 3 1 2 1 2 3 1 1 2 3 1 0 2 3 1 3 1 3\n 1 2 3 3 1 3 1 2 2 3 1 3 3 1 2 0 2 1 1 3 1 0 1 3 3 2 0 3 0 0 3 3 3 1 2 3 1\n 2 3 3 3 2 0 2 2 3 1 1 2 0 2 3 3 0 1 1 1 3 3 1 1 2 1 1 2 2 0 0 1 2 2 2 0 2\n 1 2 1 2 0 2 2 2 2 2 0 1 2 3 1 1 2 2 3 1 2 2 2 2 1 2 3 3 0 2 1 0 2 3 1 1 2\n 0 0 2 3 1 2 3 0 1 2 0 1 2 2 0 1 0 1 2 3 0 2 0 3 0 0 2 2 0 1 1 0 1 1 1 3 1\n 1 1 1 0 1 3 0 1 2 0 1 3 1 2 0 1 2 3 1 2 2 2 3 1 2 2 3 1 2 0 2 3 2 0 0 1 3\n 0 0 2 0 1 1 0 3 3 3 0 2 0 1 1 1 3 1 2 2 0 1 2 3 2]",
         "395"
        ],
        [
         "3554566",
         "chr19",
         "7020504",
         "7020645",
         "[0 1 0 3 1 0 0 1 1 1 0 0 0 2 1 3 2 0 3 1 0 2 0 0 3 2 1 0 2 2 3 0 2 2 3 1 0\n 3 1 0 2 3 3 2 3 3 2 0 2 1 2 0 1 0 1 3 3 1 1 0 1 1 3 0 2 3 2 2 1 1 0 1 1 1\n 3 2 0 1 0 0 0 2 1 0 0 0 1 0 2 1 3 1 0 1 3 1 3 3 1 0 2 1 2 0 1 1 3 3 3 1 3\n 3 3 1 0 0 2 2 1 1 0 3 1 0 0 2 0 0 0 0 2 2 1 3 3 3 2 3 2 3 3]",
         "[3 2 3 0 2 3 3 2 2 2 3 3 3 1 2 0 1 3 0 2 3 1 3 3 0 1 2 3 1 1 0 3 1 1 0 2 3\n 0 2 3 1 0 0 1 0 0 1 3 1 2 1 3 2 3 2 0 0 2 2 3 2 2 0 3 1 0 1 1 2 2 3 2 2 2\n 0 1 3 2 3 3 3 1 2 3 3 3 2 3 1 2 0 2 3 2 0 2 0 0 2 3 1 2 1 3 2 2 0 0 0 2 0\n 0 0 2 3 3 1 1 2 2 3 0 2 3 3 1 3 3 3 3 1 1 2 0 0 0 1 0 1 0 0]",
         "141"
        ],
        [
         "1575433",
         "chr12",
         "75596165",
         "75596570",
         "[1 0 0 3 2 1 1 1 1 3 3 3 1 3 1 3 1 3 1 1 3 0 3 3 2 3 1 0 0 3 0 3 1 0 1 1 2\n 2 2 1 2 2 1 3 2 0 2 3 1 1 0 3 2 2 1 0 1 0 2 2 1 2 1 0 0 1 1 2 0 0 1 1 3 1\n 1 3 2 2 1 3 0 2 1 0 2 0 2 1 1 1 2 1 1 3 1 1 2 0 1 2 1 1 1 2 1 1 1 0 1 3 2\n 2 0 2 0 1 3 3 1 0 0 0 1 2 2 2 0 0 2 1 2 0 2 0 1 3 3 1 0 3 3 2 2 1 1 2 2 1\n 2 1 2 1 2 1 1 3 3 1 0 1 3 1 1 1 0 2 2 1 1 0 2 1 0 1 2 3 3 1 2 2 1 3 2 0 2\n 0 2 1 3 2 2 3 1 2 2 2 2 0 3 3 2 2 1 2 2 1 2 1 2 2 2 2 2 2 2 1 2 2 2 2 0 0\n 0 1 0 2 2 0 2 2 2 3 2 3 2 0 0 2 2 2 0 1 2 2 2 2 1 1 1 3 1 2 0 3 3 2 2 2 1\n 2 0 2 2 1 2 1 2 2 2 2 2 0 1 1 1 2 2 0 3 2 1 3 0 1 1 2 3 2 0 2 1 3 1 2 2 2\n 1 2 0 1 1 2 2 2 1 1 2 1 1 2 3 3 3 1 1 2 1 1 0 2 2 2 1 2 1 1 3 2 0 0 2 3 2\n 2 2 2 2 3 0 1 3 2 1 2 2 1 2 3 1 3 2 1 3 0 2 2 1 1 3 2 0 2 2 0 2 0 2 1 3 1\n 2 2 1 2 2 2 1 2 1 2 1 1 1 2 0 2 0 1 3 2 2 0 2 1 3 3 1 1 2 1 1 0 2 2 1]",
         "[2 3 3 0 1 2 2 2 2 0 0 0 2 0 2 0 2 0 2 2 0 3 0 0 1 0 2 3 3 0 3 0 2 3 2 2 1\n 1 1 2 1 1 2 0 1 3 1 0 2 2 3 0 1 1 2 3 2 3 1 1 2 1 2 3 3 2 2 1 3 3 2 2 0 2\n 2 0 1 1 2 0 3 1 2 3 1 3 1 2 2 2 1 2 2 0 2 2 1 3 2 1 2 2 2 1 2 2 2 3 2 0 1\n 1 3 1 3 2 0 0 2 3 3 3 2 1 1 1 3 3 1 2 1 3 1 3 2 0 0 2 3 0 0 1 1 2 2 1 1 2\n 1 2 1 2 1 2 2 0 0 2 3 2 0 2 2 2 3 1 1 2 2 3 1 2 3 2 1 0 0 2 1 1 2 0 1 3 1\n 3 1 2 0 1 1 0 2 1 1 1 1 3 0 0 1 1 2 1 1 2 1 2 1 1 1 1 1 1 1 2 1 1 1 1 3 3\n 3 2 3 1 1 3 1 1 1 0 1 0 1 3 3 1 1 1 3 2 1 1 1 1 2 2 2 0 2 1 3 0 0 1 1 1 2\n 1 3 1 1 2 1 2 1 1 1 1 1 3 2 2 2 1 1 3 0 1 2 0 3 2 2 1 0 1 3 1 2 0 2 1 1 1\n 2 1 3 2 2 1 1 1 2 2 1 2 2 1 0 0 0 2 2 1 2 2 3 1 1 1 2 1 2 2 0 1 3 3 1 0 1\n 1 1 1 1 0 3 2 0 1 2 1 1 2 1 0 2 0 1 2 0 3 1 1 2 2 0 1 3 1 1 3 1 3 1 2 0 2\n 1 1 2 1 1 1 2 1 2 1 2 2 2 1 3 1 3 2 0 1 1 3 1 2 0 0 2 2 1 2 2 3 1 1 2]",
         "405"
        ],
        [
         "6264022",
         "chr7",
         "45561276",
         "45561669",
         "[1 2 1 1 3 2 1 1 0 2 0 0 3 3 2 0 3 2 0 2 1 3 3 1 0 2 0 3 3 1 0 2 3 2 0 0 0\n 2 0 1 1 3 3 0 3 1 3 3 0 0 0 0 1 2 2 3 0 2 0 1 0 2 2 1 3 3 3 2 2 2 2 0 2 0\n 1 2 2 1 3 1 0 1 1 3 2 3 3 0 0 2 0 2 1 0 3 3 2 2 0 1 2 1 3 3 1 0 2 2 0 2 0\n 0 1 1 3 2 2 2 2 3 1 3 0 2 3 1 1 1 0 2 0 0 1 3 1 3 1 1 2 3 3 3 3 3 2 0 2 2\n 0 3 1 3 2 0 3 2 1 1 1 3 1 3 3 1 3 2 2 1 1 3 2 1 0 1 0 2 2 1 0 1 3 2 1 0 1\n 0 1 0 3 2 3 2 2 3 3 1 1 1 0 2 0 1 0 3 0 1 0 3 2 1 0 2 2 2 0 0 0 0 1 0 1 1\n 1 0 3 2 1 0 3 0 3 0 0 0 1 3 0 0 0 0 3 0 0 0 2 0 3 2 3 2 0 2 3 1 2 1 3 3 2\n 1 0 3 1 1 1 0 1 2 1 2 1 0 0 1 0 1 0 0 0 1 0 3 3 3 2 2 2 0 2 0 0 1 1 3 2 2\n 3 3 1 2 2 2 3 3 0 2 0 2 3 0 0 0 1 3 2 2 0 0 3 0 0 2 0 3 0 2 0 0 2 1 3 2 2\n 2 3 3 0 2 2 3 2 2 3 2 0 0 0 2 1 0 2 2 2 2 1 1 1 3 1 3 2 1 0 2 1 3 2 1 1 3\n 0 2 0 2 3 1 0 1 0 3 1 2 2 2 0 2 0 3 3 2 3 1 0]",
         "[2 1 2 2 0 1 2 2 3 1 3 3 0 0 1 3 0 1 3 1 2 0 0 2 3 1 3 0 0 2 3 1 0 1 3 3 3\n 1 3 2 2 0 0 3 0 2 0 0 3 3 3 3 2 1 1 0 3 1 3 2 3 1 1 2 0 0 0 1 1 1 1 3 1 3\n 2 1 1 2 0 2 3 2 2 0 1 0 0 3 3 1 3 1 2 3 0 0 1 1 3 2 1 2 0 0 2 3 1 1 3 1 3\n 3 2 2 0 1 1 1 1 0 2 0 3 1 0 2 2 2 3 1 3 3 2 0 2 0 2 2 1 0 0 0 0 0 1 3 1 1\n 3 0 2 0 1 3 0 1 2 2 2 0 2 0 0 2 0 1 1 2 2 0 1 2 3 2 3 1 1 2 3 2 0 1 2 3 2\n 3 2 3 0 1 0 1 1 0 0 2 2 2 3 1 3 2 3 0 3 2 3 0 1 2 3 1 1 1 3 3 3 3 2 3 2 2\n 2 3 0 1 2 3 0 3 0 3 3 3 2 0 3 3 3 3 0 3 3 3 1 3 0 1 0 1 3 1 0 2 1 2 0 0 1\n 2 3 0 2 2 2 3 2 1 2 1 2 3 3 2 3 2 3 3 3 2 3 0 0 0 1 1 1 3 1 3 3 2 2 0 1 1\n 0 0 2 1 1 1 0 0 3 1 3 1 0 3 3 3 2 0 1 1 3 3 0 3 3 1 3 0 3 1 3 3 1 2 0 1 1\n 1 0 0 3 1 1 0 1 1 0 1 3 3 3 1 2 3 1 1 1 1 2 2 2 0 2 0 1 2 3 1 2 0 1 2 2 0\n 3 1 3 1 0 2 3 2 3 0 2 1 1 1 3 1 3 0 0 1 0 2 3]",
         "393"
        ],
        [
         "6483812",
         "chr7",
         "122623819",
         "122624055",
         "[0 0 2 0 1 2 3 3 3 1 1 1 0 2 2 2 1 0 2 3 3 0 2 3 1 3 0 2 3 2 2 3 3 0 0 2 0\n 2 1 0 1 0 2 3 2 3 3 2 1 3 1 3 3 2 3 0 2 0 0 2 0 1 1 1 0 3 2 3 3 1 3 2 3 3\n 1 1 1 0 3 3 2 3 2 1 3 1 0 3 1 0 2 2 3 1 0 1 1 3 2 3 2 1 1 3 1 1 0 2 1 1 1\n 1 0 2 2 0 2 0 3 1 3 2 2 1 3 1 1 1 1 1 3 3 1 3 2 2 1 1 3 1 1 0 3 0 2 2 1 0\n 1 1 3 2 1 0 1 3 3 0 0 2 3 2 1 0 1 0 3 0 1 1 3 2 1 1 0 1 0 1 0 3 2 1 0 1 1\n 3 0 0 3 3 3 0 0 0 0 3 0 0 0 3 2 3 0 0 2 3 1 3 3 3 0 1 0 0 0 0 0 3 0 0 0 3\n 3 3 1 3 3 0 2 2 1 3 2 3 0 0]",
         "[3 3 1 3 2 1 0 0 0 2 2 2 3 1 1 1 2 3 1 0 0 3 1 0 2 0 3 1 0 1 1 0 0 3 3 1 3\n 1 2 3 2 3 1 0 1 0 0 1 2 0 2 0 0 1 0 3 1 3 3 1 3 2 2 2 3 0 1 0 0 2 0 1 0 0\n 2 2 2 3 0 0 1 0 1 2 0 2 3 0 2 3 1 1 0 2 3 2 2 0 1 0 1 2 2 0 2 2 3 1 2 2 2\n 2 3 1 1 3 1 3 0 2 0 1 1 2 0 2 2 2 2 2 0 0 2 0 1 1 2 2 0 2 2 3 0 3 1 1 2 3\n 2 2 0 1 2 3 2 0 0 3 3 1 0 1 2 3 2 3 0 3 2 2 0 1 2 2 3 2 3 2 3 0 1 2 3 2 2\n 0 3 3 0 0 0 3 3 3 3 0 3 3 3 0 1 0 3 3 1 0 2 0 0 0 3 2 3 3 3 3 3 0 3 3 3 0\n 0 0 2 0 0 3 1 1 2 0 1 0 3 3]",
         "236"
        ],
        [
         "5507446",
         "chr5",
         "115158659",
         "115158779",
         "[3 3 3 2 3 1 1 1 1 2 2 2 3 2 2 0 2 1 0 3 1 2 2 2 2 1 1 1 2 3 1 3 1 3 1 1 1\n 3 3 2 2 0 3 2 1 1 0 3 2 3 2 0 0 1 0 2 2 3 2 2 1 2 2 2 0 1 0 1 2 1 2 0 2 3\n 1 1 1 2 1 2 0 2 2 0 3 0 1 2 2 3 1 1 1 1 0 1 1 2 3 1 0 1 1 1 1 3 3 0 2 1 0\n 2 2 1 2 1 3 3 2 2]",
         "[0 0 0 1 0 2 2 2 2 1 1 1 0 1 1 3 1 2 3 0 2 1 1 1 1 2 2 2 1 0 2 0 2 0 2 2 2\n 0 0 1 1 3 0 1 2 2 3 0 1 0 1 3 3 2 3 1 1 0 1 1 2 1 1 1 3 2 3 2 1 2 1 3 1 0\n 2 2 2 1 2 1 3 1 1 3 0 3 2 1 1 0 2 2 2 2 3 2 2 1 0 2 3 2 2 2 2 0 0 3 1 2 3\n 1 1 2 1 2 0 0 1 1]",
         "120"
        ],
        [
         "6233628",
         "chr7",
         "35747607",
         "35747813",
         "[1 3 1 1 3 1 3 2 1 3 3 3 2 0 1 3 2 3 3 1 3 3 1 1 3 2 1 3 3 1 3 2 3 1 1 1 1\n 1 3 1 0 3 1 0 0 0 2 3 3 0 0 2 3 3 1 1 2 3 2 0 1 2 1 1 2 0 3 2 1 3 2 2 0 3\n 3 1 1 1 0 2 2 1 0 2 2 0 0 2 0 3 0 0 3 1 2 1 3 3 0 1 3 2 0 2 1 0 1 1 2 3 0\n 0 3 3 2 2 0 3 1 3 1 3 0 2 2 3 1 3 1 0 3 2 2 0 0 3 1 1 2 1 3 2 0 0 1 0 2 2\n 0 3 3 0 1 3 1 0 2 1 2 2 3 2 2 2 1 3 1 3 2 2 1 3 3 3 0 1 1 1 2 2 1 1 1 2 1\n 1 3 1 0 0 3 1 1 0 3 3 1 3 1 1 0 1 2 1 0 3]",
         "[2 0 2 2 0 2 0 1 2 0 0 0 1 3 2 0 1 0 0 2 0 0 2 2 0 1 2 0 0 2 0 1 0 2 2 2 2\n 2 0 2 3 0 2 3 3 3 1 0 0 3 3 1 0 0 2 2 1 0 1 3 2 1 2 2 1 3 0 1 2 0 1 1 3 0\n 0 2 2 2 3 1 1 2 3 1 1 3 3 1 3 0 3 3 0 2 1 2 0 0 3 2 0 1 3 1 2 3 2 2 1 0 3\n 3 0 0 1 1 3 0 2 0 2 0 3 1 1 0 2 0 2 3 0 1 1 3 3 0 2 2 1 2 0 1 3 3 2 3 1 1\n 3 0 0 3 2 0 2 3 1 2 1 1 0 1 1 1 2 0 2 0 1 1 2 0 0 0 3 2 2 2 1 1 2 2 2 1 2\n 2 0 2 3 3 0 2 2 3 0 0 2 0 2 2 3 2 1 2 3 0]",
         "206"
        ],
        [
         "4462540",
         "chr3",
         "68488157",
         "68488723",
         "[2 2 2 0 2 2 2 0 1 1 0 2 1 1 1 3 1 1 3 2 1 3 2 3 1 0 3 2 0 1 3 3 1 0 2 0 2\n 1 1 0 0 1 3 1 3 1 1 0 2 1 1 3 2 1 3 2 1 1 3 2 1 1 0 1 0 0 1 0 0 2 2 2 2 1\n 0 0 0 2 2 2 2 3 1 2 2 2 2 3 2 2 2 2 1 0 2 0 1 2 1 2 2 1 0 3 1 3 3 3 3 2 0\n 3 0 0 2 2 0 0 2 2 3 2 0 3 0 0 0 0 0 2 0 1 3 2 0 2 0 2 0 1 0 3 3 0 3 3 3 2\n 1 0 3 3 1 1 0 3 3 3 1 1 1 0 3 1 3 3 3 3 1 3 0 2 2 0 3 2 0 0 0 3 1 1 0 3 0\n 2 2 2 3 1 3 1 3 0 2 0 1 3 2 2 0 0 2 0 0 2 1 1 3 2 3 3 3 3 1 3 3 1 1 0 2 0\n 1 0 3 3 0 0 0 1 1 0 0 1 1 1 1 3 0 1 3 0 3 3 3 2 1 1 0 0 0 3 2 1 1 3 3 1 0\n 0 1 0 2 2 1 0 2 3 1 1 2 1 1 1 3 1 3 3 3 1 0 3 1 3 2 1 0 0 0 3 3 2 3 2 2 3\n 1 0 3 0 0 0 2 3 3 2 3 3 3 0 2 0 2 0 1 3 2 2 2 1 3 2 2 0 0 0 1 0 0 2 0 3 1\n 1 0 2 0 3 2 3 3 1 3 0 1 2 3 1 3 0 2 2 0 1 0 1 3 3 3 2 3 1 1 3 0 1 0 2 0 2\n 1 2 2 3 3 1 0 2 3 0 3 1 1 1 1 0 2 0 2 1 3 0 1 0 1 0 1 0 2 2 3 2 0 3 2 0 0\n 0 1 0 2 1 0 2 0 0 1 0 3 1 3 2 3 2 3 1 1 3 2 3 2 3 2 3 2 0 1 3 3 2 1 0 3 2\n 2 0 0 3 3 1 0 1 0 1 0 0 3 0 0 0 2 0 3 2 0 0 0 1 0 0 2 1 1 1 3 3 1 2 0 3 0\n 2 1 1 0 1 1 3 1 1 2 3 2 3 3 0 2 3 0 3 0 2 1 0 2 1 1 0 1 0 0 3 0 3 0 0 0 2\n 0 0 1 0 3 3 1 0 2 3 2 3 1 0 2 2 2 1 3 0 0 3 3 0 3 3 3 2 0 0 1 3 0 2 1 3 3\n 0 2 0 2 0 0 0 3 3 3 1]",
         "[1 1 1 3 1 1 1 3 2 2 3 1 2 2 2 0 2 2 0 1 2 0 1 0 2 3 0 1 3 2 0 0 2 3 1 3 1\n 2 2 3 3 2 0 2 0 2 2 3 1 2 2 0 1 2 0 1 2 2 0 1 2 2 3 2 3 3 2 3 3 1 1 1 1 2\n 3 3 3 1 1 1 1 0 2 1 1 1 1 0 1 1 1 1 2 3 1 3 2 1 2 1 1 2 3 0 2 0 0 0 0 1 3\n 0 3 3 1 1 3 3 1 1 0 1 3 0 3 3 3 3 3 1 3 2 0 1 3 1 3 1 3 2 3 0 0 3 0 0 0 1\n 2 3 0 0 2 2 3 0 0 0 2 2 2 3 0 2 0 0 0 0 2 0 3 1 1 3 0 1 3 3 3 0 2 2 3 0 3\n 1 1 1 0 2 0 2 0 3 1 3 2 0 1 1 3 3 1 3 3 1 2 2 0 1 0 0 0 0 2 0 0 2 2 3 1 3\n 2 3 0 0 3 3 3 2 2 3 3 2 2 2 2 0 3 2 0 3 0 0 0 1 2 2 3 3 3 0 1 2 2 0 0 2 3\n 3 2 3 1 1 2 3 1 0 2 2 1 2 2 2 0 2 0 0 0 2 3 0 2 0 1 2 3 3 3 0 0 1 0 1 1 0\n 2 3 0 3 3 3 1 0 0 1 0 0 0 3 1 3 1 3 2 0 1 1 1 2 0 1 1 3 3 3 2 3 3 1 3 0 2\n 2 3 1 3 0 1 0 0 2 0 3 2 1 0 2 0 3 1 1 3 2 3 2 0 0 0 1 0 2 2 0 3 2 3 1 3 1\n 2 1 1 0 0 2 3 1 0 3 0 2 2 2 2 3 1 3 1 2 0 3 2 3 2 3 2 3 1 1 0 1 3 0 1 3 3\n 3 2 3 1 2 3 1 3 3 2 3 0 2 0 1 0 1 0 2 2 0 1 0 1 0 1 0 1 3 2 0 0 1 2 3 0 1\n 1 3 3 0 0 2 3 2 3 2 3 3 0 3 3 3 1 3 0 1 3 3 3 2 3 3 1 2 2 2 0 0 2 1 3 0 3\n 1 2 2 3 2 2 0 2 2 1 0 1 0 0 3 1 0 3 0 3 1 2 3 1 2 2 3 2 3 3 0 3 0 3 3 3 1\n 3 3 2 3 0 0 2 3 1 0 1 0 2 3 1 1 1 2 0 3 3 0 0 3 0 0 0 1 3 3 2 0 3 1 2 0 0\n 3 1 3 1 3 3 3 0 0 0 2]",
         "566"
        ],
        [
         "4722179",
         "chr3",
         "158210109",
         "158210428",
         "[0 3 3 3 3 0 0 1 3 3 3 3 0 3 3 3 0 3 3 0 3 3 3 0 3 2 3 2 3 0 3 2 2 2 3 2 3\n 3 1 0 0 1 3 3 2 1 0 3 2 3 0 3 2 3 0 3 2 3 1 3 2 3 2 1 0 1 1 0 1 0 3 0 3 0\n 3 2 1 0 2 3 2 3 1 3 0 3 0 2 0 2 2 1 1 0 2 0 0 2 2 2 2 2 1 0 3 1 0 2 0 3 1\n 1 1 1 3 2 2 0 0 1 3 2 2 0 2 3 3 0 0 2 2 0 1 0 2 3 3 0 0 3 2 0 2 1 1 3 1 0\n 0 3 2 3 2 2 0 3 3 0 3 2 1 1 0 2 3 3 2 0 0 1 1 3 2 2 2 3 1 1 3 1 3 2 2 0 0\n 2 0 2 1 0 2 3 1 0 3 3 0 1 1 3 3 3 0 0 2 3 2 1 3 2 0 2 1 1 0 2 1 1 1 0 0 2\n 3 2 2 1 0 3 1 0 2 1 0 3 3 3 2 0 0 0 2 1 1 0 0 2 2 1 0 1 3 0 1 3 2 3 3 3 3\n 0 0 0 1 0 1 0 2 2 1 2 3 2 0 0 1 1 1 3 1 0 1 3 2 3 2 2 3 3 1 3 3 1 0 1 0 1\n 3 1 0 1 1 1 3 3 1 1 3 3 1 1 3 1 1 1 3 1 1 1 3]",
         "[3 0 0 0 0 3 3 2 0 0 0 0 3 0 0 0 3 0 0 3 0 0 0 3 0 1 0 1 0 3 0 1 1 1 0 1 0\n 0 2 3 3 2 0 0 1 2 3 0 1 0 3 0 1 0 3 0 1 0 2 0 1 0 1 2 3 2 2 3 2 3 0 3 0 3\n 0 1 2 3 1 0 1 0 2 0 3 0 3 1 3 1 1 2 2 3 1 3 3 1 1 1 1 1 2 3 0 2 3 1 3 0 2\n 2 2 2 0 1 1 3 3 2 0 1 1 3 1 0 0 3 3 1 1 3 2 3 1 0 0 3 3 0 1 3 1 2 2 0 2 3\n 3 0 1 0 1 1 3 0 0 3 0 1 2 2 3 1 0 0 1 3 3 2 2 0 1 1 1 0 2 2 0 2 0 1 1 3 3\n 1 3 1 2 3 1 0 2 3 0 0 3 2 2 0 0 0 3 3 1 0 1 2 0 1 3 1 2 2 3 1 2 2 2 3 3 1\n 0 1 1 2 3 0 2 3 1 2 3 0 0 0 1 3 3 3 1 2 2 3 3 1 1 2 3 2 0 3 2 0 1 0 0 0 0\n 3 3 3 2 3 2 3 1 1 2 1 0 1 3 3 2 2 2 0 2 3 2 0 1 0 1 1 0 0 2 0 0 2 3 2 3 2\n 0 2 3 2 2 2 0 0 2 2 0 0 2 2 0 2 2 2 0 2 2 2 0]",
         "319"
        ],
        [
         "5409264",
         "chr5",
         "85994641",
         "85994868",
         "[3 2 1 0 0 3 2 0 0 3 2 0 0 3 2 3 1 0 2 2 2 3 3 0 0 3 3 2 1 0 1 3 3 1 3 0 1\n 3 3 3 0 2 2 1 0 0 0 0 2 0 0 0 0 2 1 0 0 2 1 0 0 2 1 0 0 0 0 0 1 3 3 3 3 3\n 1 3 3 3 3 3 1 1 3 3 0 2 0 0 0 3 1 3 3 2 3 3 1 3 2 1 1 0 3 1 3 3 2 3 2 2 3\n 3 3 0 0 3 3 1 3 1 0 1 0 1 3 2 1 0 0 3 2 3 2 3 3 0 1 3 2 3 0 0 0 0 3 2 3 2\n 3 3 3 1 3 0 3 0 0 0 0 2 1 3 2 2 2 0 2 2 3 2 3 0 1 2 3 3 2 3 0 3 0 2 1 3 0\n 3 2 3 3 0 2 3 3 3 0 1 0 0 3 0 3 3 3 2 3 0 3 2 3 0 0 0 3 3 3 2 3 0 3 2 3 2\n 3 0 3 2 1]",
         "[0 1 2 3 3 0 1 3 3 0 1 3 3 0 1 0 2 3 1 1 1 0 0 3 3 0 0 1 2 3 2 0 0 2 0 3 2\n 0 0 0 3 1 1 2 3 3 3 3 1 3 3 3 3 1 2 3 3 1 2 3 3 1 2 3 3 3 3 3 2 0 0 0 0 0\n 2 0 0 0 0 0 2 2 0 0 3 1 3 3 3 0 2 0 0 1 0 0 2 0 1 2 2 3 0 2 0 0 1 0 1 1 0\n 0 0 3 3 0 0 2 0 2 3 2 3 2 0 1 2 3 3 0 1 0 1 0 0 3 2 0 1 0 3 3 3 3 0 1 0 1\n 0 0 0 2 0 3 0 3 3 3 3 1 2 0 1 1 1 3 1 1 0 1 0 3 2 1 0 0 1 0 3 0 3 1 2 0 3\n 0 1 0 0 3 1 0 0 0 3 2 3 3 0 3 0 0 0 1 0 3 0 1 0 3 3 3 0 0 0 1 0 3 0 1 0 1\n 0 3 0 1 2]",
         "227"
        ],
        [
         "3454674",
         "chr18",
         "65934794",
         "65935296",
         "[3 2 2 2 0 2 1 0 2 1 3 0 2 2 0 2 1 2 2 3 2 3 2 2 0 1 0 2 1 2 2 2 0 1 1 1 2\n 1 0 2 3 3 3 2 3 1 1 1 3 1 3 2 0 1 0 2 1 2 0 2 2 1 3 2 0 0 3 3 3 1 1 2 3 3\n 3 2 2 1 1 3 1 3 3 3 1 2 0 0 2 0 2 3 0 2 2 1 2 1 2 0 2 3 2 3 1 1 1 2 1 1 1\n 0 0 2 2 1 3 2 2 1 3 2 2 1 2 2 1 3 3 2 1 0 2 1 0 2 2 2 1 3 0 2 1 0 0 0 2 0\n 0 0 0 2 3 3 1 2 2 1 1 0 1 1 0 2 2 1 3 2 2 2 1 3 2 2 2 3 2 1 0 1 0 1 0 2 2\n 2 1 3 1 2 1 0 2 1 0 0 1 3 1 1 2 1 0 2 1 2 1 1 3 1 3 0 2 0 2 2 2 1 3 3 2 1\n 1 0 2 2 2 1 3 3 3 1 1 2 0 3 2 2 1 1 3 2 2 0 3 2 3 2 1 3 1 3 3 3 2 2 1 1 3\n 3 1 0 2 2 1 2 1 0 2 0 2 1 2 2 1 2 0 3 2 1 3 2 1 3 2 3 3 2 1 2 1 2 2 2 3 0\n 1 2 1 1 3 1 3 3 1 1 0 2 1 2 0 2 0 0 1 3 3 2 3 1 1 1 1 2 0 0 3 2 1 1 2 2 1\n 2 1 2 1 0 2 2 2 2 3 0 1 2 1 2 2 2 1 2 2 3 2 2 1 1 1 2 0 2 1 3 2 1 3 2 1 0\n 2 0 1 1 3 2 2 0 1 1 1 0 2 2 2 2 1 2 1 2 2 0 2 3 3 1 0 2 2 0 0 2 2 2 1 2 2\n 3 2 2 3 2 2 1 2 3 2 3 0 2 1 3 2 2 1 1 2 2 2 0 2 0 1 1 1 3 2 1 1 1 1 2 2 1\n 2 2 1 1 1 2 0 0 3 1 1 1 2 2 1 0 2 2 1 3 1 3 2 1 0 2 1 2 1 3 2 3 2 2 1 2 1\n 1 3 1 1 3 1 1 2 2 2 1 0 2 1 2 2 3 2 2 1 1]",
         "[0 1 1 1 3 1 2 3 1 2 0 3 1 1 3 1 2 1 1 0 1 0 1 1 3 2 3 1 2 1 1 1 3 2 2 2 1\n 2 3 1 0 0 0 1 0 2 2 2 0 2 0 1 3 2 3 1 2 1 3 1 1 2 0 1 3 3 0 0 0 2 2 1 0 0\n 0 1 1 2 2 0 2 0 0 0 2 1 3 3 1 3 1 0 3 1 1 2 1 2 1 3 1 0 1 0 2 2 2 1 2 2 2\n 3 3 1 1 2 0 1 1 2 0 1 1 2 1 1 2 0 0 1 2 3 1 2 3 1 1 1 2 0 3 1 2 3 3 3 1 3\n 3 3 3 1 0 0 2 1 1 2 2 3 2 2 3 1 1 2 0 1 1 1 2 0 1 1 1 0 1 2 3 2 3 2 3 1 1\n 1 2 0 2 1 2 3 1 2 3 3 2 0 2 2 1 2 3 1 2 1 2 2 0 2 0 3 1 3 1 1 1 2 0 0 1 2\n 2 3 1 1 1 2 0 0 0 2 2 1 3 0 1 1 2 2 0 1 1 3 0 1 0 1 2 0 2 0 0 0 1 1 2 2 0\n 0 2 3 1 1 2 1 2 3 1 3 1 2 1 1 2 1 3 0 1 2 0 1 2 0 1 0 0 1 2 1 2 1 1 1 0 3\n 2 1 2 2 0 2 0 0 2 2 3 1 2 1 3 1 3 3 2 0 0 1 0 2 2 2 2 1 3 3 0 1 2 2 1 1 2\n 1 2 1 2 3 1 1 1 1 0 3 2 1 2 1 1 1 2 1 1 0 1 1 2 2 2 1 3 1 2 0 1 2 0 1 2 3\n 1 3 2 2 0 1 1 3 2 2 2 3 1 1 1 1 2 1 2 1 1 3 1 0 0 2 3 1 1 3 3 1 1 1 2 1 1\n 0 1 1 0 1 1 2 1 0 1 0 3 1 2 0 1 1 2 2 1 1 1 3 1 3 2 2 2 0 1 2 2 2 2 1 1 2\n 1 1 2 2 2 1 3 3 0 2 2 2 1 1 2 3 1 1 2 0 2 0 1 2 3 1 2 1 2 0 1 0 1 1 2 1 2\n 2 0 2 2 0 2 2 1 1 1 2 3 1 2 1 1 0 1 1 2 2]",
         "502"
        ],
        [
         "7465677",
         "chrX",
         "34178349",
         "34178582",
         "[3 1 0 2 1 3 1 3 0 1 1 3 1 3 3 2 2 1 3 2 0 2 1 0 3 2 0 0 2 2 1 3 1 0 0 0 2\n 2 2 0 1 1 1 3 3 0 1 1 0 0 2 0 0 2 1 0 1 3 2 3 3 2 1 3 3 1 3 2 1 1 0 1 1 1\n 0 1 2 3 2 1 3 0 3 1 1 3 0 0 2 3 0 2 0 1 1 2 2 3 1 3 1 0 2 3 2 0 3 1 1 1 0\n 0 2 0 3 1 1 3 0 2 2 3 2 3 2 1 3 0 2 2 2 3 1 2 2 1 1 1 0 2 2 3 1 0 3 2 1 1\n 1 0 0 2 0 3 2 2 3 2 3 2 2 2 2 1 3 2 1 0 2 1 1 0 1 1 0 2 0 0 2 2 0 0 3 1 1\n 3 0 2 0 1 3 1 3 0 2 3 3 2 2 1 0 2 2 2 3 3 1 1 3 3 3 3 3 1 1 1 3 2 3 3 1 1\n 3 2 1 3 2 2 1 0 1 0 0]",
         "[0 2 3 1 2 0 2 0 3 2 2 0 2 0 0 1 1 2 0 1 3 1 2 3 0 1 3 3 1 1 2 0 2 3 3 3 1\n 1 1 3 2 2 2 0 0 3 2 2 3 3 1 3 3 1 2 3 2 0 1 0 0 1 2 0 0 2 0 1 2 2 3 2 2 2\n 3 2 1 0 1 2 0 3 0 2 2 0 3 3 1 0 3 1 3 2 2 1 1 0 2 0 2 3 1 0 1 3 0 2 2 2 3\n 3 1 3 0 2 2 0 3 1 1 0 1 0 1 2 0 3 1 1 1 0 2 1 1 2 2 2 3 1 1 0 2 3 0 1 2 2\n 2 3 3 1 3 0 1 1 0 1 0 1 1 1 1 2 0 1 2 3 1 2 2 3 2 2 3 1 3 3 1 1 3 3 0 2 2\n 0 3 1 3 2 0 2 0 3 1 0 0 1 1 2 3 1 1 1 0 0 2 2 0 0 0 0 0 2 2 2 0 1 0 0 2 2\n 0 1 2 0 1 1 2 3 2 3 3]",
         "233"
        ],
        [
         "566420",
         "chr10",
         "23384768",
         "23384982",
         "[3 3 3 0 0 3 2 2 2 3 0 1 1 3 0 1 0 3 2 3 0 1 0 1 0 2 0 3 0 1 1 1 1 0 1 1 0\n 1 0 1 0 0 0 1 2 1 0 1 0 0 3 0 3 2 2 0 1 0 1 3 0 1 0 1 3 3 1 0 1 0 1 0 1 0\n 1 0 1 0 1 0 1 0 1 0 1 0 1 0 1 0 1 0 1 0 1 0 1 0 1 0 1 0 1 2 1 0 2 2 1 0 1\n 0 1 2 1 0 2 2 1 0 1 0 1 0 1 0 2 2 1 0 1 0 1 0 2 2 1 0 1 0 0 0 1 3 2 3 1 3\n 1 3 1 3 1 0 1 0 1 0 1 0 1 0 2 0 0 0 0 1 0 1 0 3 0 1 0 3 3 1 0 1 0 0 1 0 1\n 0 1 0 1 3 0 1 0 1 0 1 0 3 0 1 0 1 1 0 1 0 3 0 3 0 1 0 3 0]",
         "[0 0 0 3 3 0 1 1 1 0 3 2 2 0 3 2 3 0 1 0 3 2 3 2 3 1 3 0 3 2 2 2 2 3 2 2 3\n 2 3 2 3 3 3 2 1 2 3 2 3 3 0 3 0 1 1 3 2 3 2 0 3 2 3 2 0 0 2 3 2 3 2 3 2 3\n 2 3 2 3 2 3 2 3 2 3 2 3 2 3 2 3 2 3 2 3 2 3 2 3 2 3 2 3 2 1 2 3 1 1 2 3 2\n 3 2 1 2 3 1 1 2 3 2 3 2 3 2 3 1 1 2 3 2 3 2 3 1 1 2 3 2 3 3 3 2 0 1 0 2 0\n 2 0 2 0 2 3 2 3 2 3 2 3 2 3 1 3 3 3 3 2 3 2 3 0 3 2 3 0 0 2 3 2 3 3 2 3 2\n 3 2 3 2 0 3 2 3 2 3 2 3 0 3 2 3 2 2 3 2 3 0 3 0 3 2 3 0 3]",
         "214"
        ],
        [
         "1769646",
         "chr13",
         "21974151",
         "21974598",
         "[2 0 1 0 2 0 1 0 3 2 3 1 0 2 0 0 2 3 1 0 0 2 1 0 1 0 3 2 1 3 0 3 1 3 0 0 3\n 2 3 3 3 2 1 3 3 2 0 2 2 0 0 0 3 1 3 3 1 1 1 0 2 0 1 0 2 2 0 0 2 0 3 1 0 2\n 1 1 0 1 1 1 3 0 0 1 1 3 1 0 2 2 0 0 0 2 1 0 1 0 2 0 2 2 1 3 3 1 1 3 2 1 0\n 2 0 2 0 0 3 2 0 1 2 0 1 1 0 0 2 2 2 2 0 0 1 1 3 1 0 0 0 2 3 2 2 1 3 0 1 0\n 2 0 0 0 2 0 1 1 0 2 0 0 3 2 3 3 3 0 3 3 3 2 0 3 3 1 1 2 1 1 0 2 2 2 2 2 0\n 2 1 3 1 2 3 3 1 1 1 1 2 1 0 2 3 2 2 2 2 0 2 2 1 1 2 1 2 1 2 2 2 2 1 2 2 0\n 0 3 3 2 2 0 2 2 0 3 3 3 1 3 3 1 1 3 2 3 3 3 3 1 1 3 3 3 0 1 1 1 2 0 2 0 0\n 2 1 0 2 0 0 2 1 1 2 0 3 3 3 3 0 3 3 2 3 2 0 2 1 2 3 0 2 0 0 0 0 2 1 0 0 1\n 2 2 3 2 0 2 1 0 0 0 0 3 0 0 0 1 3 0 0 0 3 0 0 0 3 2 0 0 0 0 3 0 0 0 0 3 2\n 0 0 0 3 0 0 2 0 3 0 0 0 0 3 0 0 3 0 2 1 3 3 0 0 3 0 1 3 2 0 1 1 3 1 1 3 2\n 1 1 3 1 1 1 0 1 1 2 1 3 0 2 0 2 0 3 1 2 0 2 2 1 0 0 2 1 0 2 2 2 3 3 1 3 0\n 2 0 0 2 1 2 1 2 3 2 2 1 2 2 2 1 0 1 2 1 0 2 2 2 0 1 3 2 3 3 0 3 1 1 0 2 0\n 2 3 1]",
         "[1 3 2 3 1 3 2 3 0 1 0 2 3 1 3 3 1 0 2 3 3 1 2 3 2 3 0 1 2 0 3 0 2 0 3 3 0\n 1 0 0 0 1 2 0 0 1 3 1 1 3 3 3 0 2 0 0 2 2 2 3 1 3 2 3 1 1 3 3 1 3 0 2 3 1\n 2 2 3 2 2 2 0 3 3 2 2 0 2 3 1 1 3 3 3 1 2 3 2 3 1 3 1 1 2 0 0 2 2 0 1 2 3\n 1 3 1 3 3 0 1 3 2 1 3 2 2 3 3 1 1 1 1 3 3 2 2 0 2 3 3 3 1 0 1 1 2 0 3 2 3\n 1 3 3 3 1 3 2 2 3 1 3 3 0 1 0 0 0 3 0 0 0 1 3 0 0 2 2 1 2 2 3 1 1 1 1 1 3\n 1 2 0 2 1 0 0 2 2 2 2 1 2 3 1 0 1 1 1 1 3 1 1 2 2 1 2 1 2 1 1 1 1 2 1 1 3\n 3 0 0 1 1 3 1 1 3 0 0 0 2 0 0 2 2 0 1 0 0 0 0 2 2 0 0 0 3 2 2 2 1 3 1 3 3\n 1 2 3 1 3 3 1 2 2 1 3 0 0 0 0 3 0 0 1 0 1 3 1 2 1 0 3 1 3 3 3 3 1 2 3 3 2\n 1 1 0 1 3 1 2 3 3 3 3 0 3 3 3 2 0 3 3 3 0 3 3 3 0 1 3 3 3 3 0 3 3 3 3 0 1\n 3 3 3 0 3 3 1 3 0 3 3 3 3 0 3 3 0 3 1 2 0 0 3 3 0 3 2 0 1 3 2 2 0 2 2 0 1\n 2 2 0 2 2 2 3 2 2 1 2 0 3 1 3 1 3 0 2 1 3 1 1 2 3 3 1 2 3 1 1 1 0 0 2 0 3\n 1 3 3 1 2 1 2 1 0 1 1 2 1 1 1 2 3 2 1 2 3 1 1 1 3 2 0 1 0 0 3 0 2 2 3 1 3\n 1 0 2]",
         "447"
        ],
        [
         "1607174",
         "chr12",
         "83018050",
         "83018399",
         "[1 0 2 0 3 1 3 2 3 0 1 1 3 3 3 1 3 0 0 1 1 0 0 2 0 0 2 3 3 0 0 2 3 0 2 1 1\n 3 3 1 0 2 0 0 1 0 3 1 0 0 3 2 0 3 0 0 3 3 0 0 3 3 3 0 0 2 3 2 0 0 0 3 0 1\n 0 0 0 0 3 1 0 0 3 0 1 1 0 1 3 0 3 1 1 3 0 2 0 3 3 1 1 1 0 2 3 1 3 2 3 3 3\n 0 2 0 0 0 2 1 0 2 1 3 1 0 1 1 0 0 1 3 1 0 0 2 1 2 2 1 3 3 3 1 0 0 0 2 0 1\n 0 0 1 0 2 3 2 0 1 1 1 1 2 3 2 3 2 2 3 2 2 3 3 3 3 2 3 2 3 0 3 3 2 1 0 3 0\n 2 1 0 0 2 0 0 2 2 0 1 3 0 0 0 0 2 3 0 1 0 2 0 0 3 2 3 2 2 2 1 0 2 0 0 2 1\n 0 0 0 2 1 1 1 3 1 1 3 1 2 1 3 1 0 0 0 1 1 3 0 0 0 3 1 0 3 3 3 1 3 0 1 0 3\n 3 0 0 2 1 1 0 0 1 0 2 2 1 3 2 3 3 3 1 3 2 1 1 0 0 0 0 0 2 0 3 2 2 0 3 2 3\n 2 2 1 0 0 2 0 3 3 1 3 3 3 3 2 3 0 0 2 0 3 2 2 2 0 1 3 3 3 3 3 3 3 3 2 0 0\n 3 3 3 2 3 2 0 0 2 0 0 3 1 3 1 3]",
         "[2 3 1 3 0 2 0 1 0 3 2 2 0 0 0 2 0 3 3 2 2 3 3 1 3 3 1 0 0 3 3 1 0 3 1 2 2\n 0 0 2 3 1 3 3 2 3 0 2 3 3 0 1 3 0 3 3 0 0 3 3 0 0 0 3 3 1 0 1 3 3 3 0 3 2\n 3 3 3 3 0 2 3 3 0 3 2 2 3 2 0 3 0 2 2 0 3 1 3 0 0 2 2 2 3 1 0 2 0 1 0 0 0\n 3 1 3 3 3 1 2 3 1 2 0 2 3 2 2 3 3 2 0 2 3 3 1 2 1 1 2 0 0 0 2 3 3 3 1 3 2\n 3 3 2 3 1 0 1 3 2 2 2 2 1 0 1 0 1 1 0 1 1 0 0 0 0 1 0 1 0 3 0 0 1 2 3 0 3\n 1 2 3 3 1 3 3 1 1 3 2 0 3 3 3 3 1 0 3 2 3 1 3 3 0 1 0 1 1 1 2 3 1 3 3 1 2\n 3 3 3 1 2 2 2 0 2 2 0 2 1 2 0 2 3 3 3 2 2 0 3 3 3 0 2 3 0 0 0 2 0 3 2 3 0\n 0 3 3 1 2 2 3 3 2 3 1 1 2 0 1 0 0 0 2 0 1 2 2 3 3 3 3 3 1 3 0 1 1 3 0 1 0\n 1 1 2 3 3 1 3 0 0 2 0 0 0 0 1 0 3 3 1 3 0 1 1 1 3 2 0 0 0 0 0 0 0 0 1 3 3\n 0 0 0 1 0 1 3 3 1 3 3 0 2 0 2 0]",
         "349"
        ],
        [
         "3349946",
         "chr18",
         "34373159",
         "34373466",
         "[1 3 1 3 2 3 1 1 1 3 2 1 1 1 1 2 2 1 2 1 1 2 1 3 1 1 1 2 2 2 2 0 1 1 1 2 1\n 1 2 1 1 1 0 1 1 2 0 2 1 2 1 2 0 3 2 0 0 2 1 3 1 1 2 2 3 3 1 0 1 3 1 1 2 2\n 3 1 3 3 2 2 1 1 3 1 2 0 2 1 3 3 2 2 1 2 0 2 2 0 2 0 3 1 0 2 3 1 0 3 2 1 0\n 2 3 3 1 3 3 1 3 1 2 3 2 1 0 2 2 0 0 1 1 2 2 3 1 2 0 0 1 1 3 1 3 1 1 1 3 1\n 0 3 2 2 1 3 2 1 2 2 0 1 0 3 2 2 1 3 2 2 2 1 1 2 3 3 1 2 1 2 1 1 2 1 1 1 2\n 2 2 0 3 2 1 3 1 1 2 1 0 2 1 1 2 2 1 3 2 2 0 1 2 1 2 2 0 0 1 1 1 0 2 1 3 2\n 0 1 1 2 2 2 2 1 2 2 2 2 1 2 2 2 2 2 1 2 2 2 1 2 2 3 2 1 1 2 1 2 2 1 3 1 2\n 3 2 1 0 1 2 0 2 2 3 3 3 1 1 2 2 2 0 2 1 2 1 2 1 1 1 1 2 1 2 1 3 1 2 1 1 3\n 3 1 2 1 1 1 3 2 3 3 2]",
         "[2 0 2 0 1 0 2 2 2 0 1 2 2 2 2 1 1 2 1 2 2 1 2 0 2 2 2 1 1 1 1 3 2 2 2 1 2\n 2 1 2 2 2 3 2 2 1 3 1 2 1 2 1 3 0 1 3 3 1 2 0 2 2 1 1 0 0 2 3 2 0 2 2 1 1\n 0 2 0 0 1 1 2 2 0 2 1 3 1 2 0 0 1 1 2 1 3 1 1 3 1 3 0 2 3 1 0 2 3 0 1 2 3\n 1 0 0 2 0 0 2 0 2 1 0 1 2 3 1 1 3 3 2 2 1 1 0 2 1 3 3 2 2 0 2 0 2 2 2 0 2\n 3 0 1 1 2 0 1 2 1 1 3 2 3 0 1 1 2 0 1 1 1 2 2 1 0 0 2 1 2 1 2 2 1 2 2 2 1\n 1 1 3 0 1 2 0 2 2 1 2 3 1 2 2 1 1 2 0 1 1 3 2 1 2 1 1 3 3 2 2 2 3 1 2 0 1\n 3 2 2 1 1 1 1 2 1 1 1 1 2 1 1 1 1 1 2 1 1 1 2 1 1 0 1 2 2 1 2 1 1 2 0 2 1\n 0 1 2 3 2 1 3 1 1 0 0 0 2 2 1 1 1 3 1 2 1 2 1 2 2 2 2 1 2 1 2 0 2 1 2 2 0\n 0 2 1 2 2 2 0 1 0 0 1]",
         "307"
        ],
        [
         "6173257",
         "chr7",
         "19443313",
         "19443815",
         "[3 3 3 3 2 0 3 2 3 3 2 2 1 1 3 1 2 2 1 0 3 1 1 0 2 1 0 0 1 0 2 2 3 3 3 3 1\n 0 2 1 1 3 2 0 2 0 2 2 2 0 0 0 2 0 2 0 0 2 1 1 0 2 2 2 2 0 3 2 0 0 2 1 1 0\n 2 0 2 3 1 3 3 2 1 1 3 1 3 2 1 1 3 2 3 1 0 2 1 2 1 3 2 2 0 0 3 3 0 1 0 2 2\n 1 1 3 2 1 0 1 1 0 3 1 0 1 0 1 1 0 3 2 3 3 3 0 1 0 3 2 2 2 0 3 3 2 2 3 0 0\n 3 0 1 0 2 1 1 1 2 1 3 3 3 3 3 2 1 0 3 1 1 3 0 2 2 1 3 0 2 3 0 3 3 1 1 3 1\n 0 2 2 2 3 2 0 1 1 3 0 1 0 3 1 3 2 0 0 2 3 1 3 2 2 3 2 0 1 0 3 3 3 3 0 3 1\n 3 2 0 2 2 1 3 1 1 0 1 0 2 3 1 1 0 2 1 1 3 3 0 2 3 3 1 3 2 0 3 2 2 3 1 3 1\n 1 0 3 1 3 2 2 0 1 1 3 2 2 2 0 0 0 1 1 0 1 3 3 3 2 2 3 1 0 0 3 3 1 1 0 2 3\n 1 3 1 1 3 1 1 0 1 3 0 2 2 3 2 2 1 2 1 0 1 0 0 1 1 3 1 1 0 2 2 3 3 0 0 3 3\n 1 3 1 1 1 1 0 3 1 0 0 1 1 3 0 2 1 1 0 0 0 0 0 3 2 0 3 2 2 3 0 0 0 2 3 2 1\n 1 3 2 1 1 3 1 0 3 0 2 0 2 1 0 0 2 3 0 3 1 1 0 3 0 0 2 1 3 3 1 3 0 1 0 2 1\n 1 0 3 3 1 1 0 3 1 3 2 2 2 1 3 3 1 3 3 3 2 0 1 1 3 1 0 3 3 0 1 0 3 0 2 1 1\n 1 0 2 2 3 3 0 3 1 1 3 1 1 0 0 1 3 1 0 3 2 2 0 0 0 3 3 0 1 1 3 1 1 3 2 0 2\n 3 2 1 3 2 1 2 0 3 1 0 1 0 0 2 3 3 3 2 3 0]",
         "[0 0 0 0 1 3 0 1 0 0 1 1 2 2 0 2 1 1 2 3 0 2 2 3 1 2 3 3 2 3 1 1 0 0 0 0 2\n 3 1 2 2 0 1 3 1 3 1 1 1 3 3 3 1 3 1 3 3 1 2 2 3 1 1 1 1 3 0 1 3 3 1 2 2 3\n 1 3 1 0 2 0 0 1 2 2 0 2 0 1 2 2 0 1 0 2 3 1 2 1 2 0 1 1 3 3 0 0 3 2 3 1 1\n 2 2 0 1 2 3 2 2 3 0 2 3 2 3 2 2 3 0 1 0 0 0 3 2 3 0 1 1 1 3 0 0 1 1 0 3 3\n 0 3 2 3 1 2 2 2 1 2 0 0 0 0 0 1 2 3 0 2 2 0 3 1 1 2 0 3 1 0 3 0 0 2 2 0 2\n 3 1 1 1 0 1 3 2 2 0 3 2 3 0 2 0 1 3 3 1 0 2 0 1 1 0 1 3 2 3 0 0 0 0 3 0 2\n 0 1 3 1 1 2 0 2 2 3 2 3 1 0 2 2 3 1 2 2 0 0 3 1 0 0 2 0 1 3 0 1 1 0 2 0 2\n 2 3 0 2 0 1 1 3 2 2 0 1 1 1 3 3 3 2 2 3 2 0 0 0 1 1 0 2 3 3 0 0 2 2 3 1 0\n 2 0 2 2 0 2 2 3 2 0 3 1 1 0 1 1 2 1 2 3 2 3 3 2 2 0 2 2 3 1 1 0 0 3 3 0 0\n 2 0 2 2 2 2 3 0 2 3 3 2 2 0 3 1 2 2 3 3 3 3 3 0 1 3 0 1 1 0 3 3 3 1 0 1 2\n 2 0 1 2 2 0 2 3 0 3 1 3 1 2 3 3 1 0 3 0 2 2 3 0 3 3 1 2 0 0 2 0 3 2 3 1 2\n 2 3 0 0 2 2 3 0 2 0 1 1 1 2 0 0 2 0 0 0 1 3 2 2 0 2 3 0 0 3 2 3 0 3 1 2 2\n 2 3 1 1 0 0 3 0 2 2 0 2 2 3 3 2 0 2 3 0 1 1 3 3 3 0 0 3 2 2 0 2 2 0 1 3 1\n 0 1 2 0 1 2 1 3 0 2 3 2 3 3 1 0 0 0 1 0 3]",
         "502"
        ],
        [
         "2482927",
         "chr15",
         "50610671",
         "50610877",
         "[0 0 0 0 1 1 1 0 0 0 1 3 3 2 2 0 0 0 0 3 2 0 0 3 3 2 1 0 3 0 0 0 2 2 0 0 2\n 0 0 0 0 0 2 1 0 2 1 2 0 2 0 0 0 1 0 1 0 3 3 3 2 3 0 0 0 3 0 0 2 1 3 2 2 0\n 0 0 1 0 3 2 0 0 2 0 0 0 0 2 0 2 0 3 2 0 0 2 1 3 3 1 0 0 1 2 2 0 0 3 0 3 1\n 1 0 2 1 3 2 3 2 3 0 0 0 1 0 1 0 3 3 3 0 2 0 3 0 1 3 3 3 1 0 0 0 0 0 0 0 3\n 0 3 1 3 1 0 0 0 1 3 2 0 3 2 2 3 0 3 3 1 0 2 0 2 2 2 1 3 3 3 1 1 1 0 1 3 2\n 1 1 0 0 0 0 3 1 1 3 0 3 0 1 3 3 1 0 1 0 3]",
         "[3 3 3 3 2 2 2 3 3 3 2 0 0 1 1 3 3 3 3 0 1 3 3 0 0 1 2 3 0 3 3 3 1 1 3 3 1\n 3 3 3 3 3 1 2 3 1 2 1 3 1 3 3 3 2 3 2 3 0 0 0 1 0 3 3 3 0 3 3 1 2 0 1 1 3\n 3 3 2 3 0 1 3 3 1 3 3 3 3 1 3 1 3 0 1 3 3 1 2 0 0 2 3 3 2 1 1 3 3 0 3 0 2\n 2 3 1 2 0 1 0 1 0 3 3 3 2 3 2 3 0 0 0 3 1 3 0 3 2 0 0 0 2 3 3 3 3 3 3 3 0\n 3 0 2 0 2 3 3 3 2 0 1 3 0 1 1 0 3 0 0 2 3 1 3 1 1 1 2 0 0 0 2 2 2 3 2 0 1\n 2 2 3 3 3 3 0 2 2 0 3 0 3 2 0 0 2 3 2 3 0]",
         "206"
        ],
        [
         "7133477",
         "chr9",
         "53990969",
         "53991279",
         "[1 3 2 1 0 3 2 1 0 2 3 2 0 3 3 1 3 3 1 1 0 2 2 3 3 3 3 1 0 1 3 3 0 1 3 1 0\n 1 3 3 0 3 3 3 1 3 2 3 2 3 0 0 3 2 1 0 3 3 1 2 3 3 3 1 3 0 1 0 0 2 0 2 0 2\n 2 2 3 1 1 1 3 0 3 1 3 0 1 0 3 3 2 0 0 1 1 0 2 1 1 0 3 1 3 2 0 0 2 1 0 3 1\n 0 3 3 3 2 3 0 2 3 3 0 3 3 0 1 0 3 0 1 0 0 1 2 2 1 1 0 1 3 0 2 0 3 2 2 1 0\n 1 0 0 2 1 3 1 1 1 3 3 3 0 2 3 0 3 2 2 2 0 3 2 2 0 2 3 2 3 2 1 3 2 2 2 1 0\n 1 3 1 2 3 1 1 3 3 3 3 3 1 3 1 3 1 1 3 1 1 1 1 3 3 2 3 1 1 1 1 3 1 1 3 2 3\n 3 2 0 3 3 1 3 3 3 2 2 0 3 3 1 3 1 0 2 3 3 3 3 3 1 3 3 3 0 1 1 1 3 3 3 0 3\n 3 1 3 3 3 1 3 2 3 2 0 0 3 3 3 3 0 2 0 1 0 3 2 1 1 3 2 1 3 1 1 0 1 0 2 0 2\n 0 2 3 1 3 1 1 0 3 1 1 1 1 0]",
         "[2 0 1 2 3 0 1 2 3 1 0 1 3 0 0 2 0 0 2 2 3 1 1 0 0 0 0 2 3 2 0 0 3 2 0 2 3\n 2 0 0 3 0 0 0 2 0 1 0 1 0 3 3 0 1 2 3 0 0 2 1 0 0 0 2 0 3 2 3 3 1 3 1 3 1\n 1 1 0 2 2 2 0 3 0 2 0 3 2 3 0 0 1 3 3 2 2 3 1 2 2 3 0 2 0 1 3 3 1 2 3 0 2\n 3 0 0 0 1 0 3 1 0 0 3 0 0 3 2 3 0 3 2 3 3 2 1 1 2 2 3 2 0 3 1 3 0 1 1 2 3\n 2 3 3 1 2 0 2 2 2 0 0 0 3 1 0 3 0 1 1 1 3 0 1 1 3 1 0 1 0 1 2 0 1 1 1 2 3\n 2 0 2 1 0 2 2 0 0 0 0 0 2 0 2 0 2 2 0 2 2 2 2 0 0 1 0 2 2 2 2 0 2 2 0 1 0\n 0 1 3 0 0 2 0 0 0 1 1 3 0 0 2 0 2 3 1 0 0 0 0 0 2 0 0 0 3 2 2 2 0 0 0 3 0\n 0 2 0 0 0 2 0 1 0 1 3 3 0 0 0 0 3 1 3 2 3 0 1 2 2 0 1 2 0 2 2 3 2 3 1 3 1\n 3 1 0 2 0 2 2 3 0 2 2 2 2 3]",
         "310"
        ],
        [
         "4167413",
         "chr2",
         "147378956",
         "147379296",
         "[0 1 3 2 2 1 3 3 3 3 2 3 3 3 3 3 1 0 0 0 2 3 3 2 0 2 3 3 2 2 0 0 1 0 1 1 0\n 0 2 3 3 2 2 3 2 2 0 0 3 0 1 0 3 0 0 0 1 0 0 0 1 0 0 0 1 0 0 0 1 0 1 1 0 2\n 0 0 0 0 1 0 0 0 0 3 0 1 0 0 0 2 0 0 0 0 1 1 0 0 3 1 1 3 3 2 2 2 1 0 0 0 1\n 0 0 2 3 3 2 3 2 0 3 2 3 2 0 3 3 0 0 3 2 1 3 0 3 1 3 0 2 2 0 0 0 2 2 0 0 0\n 2 0 3 0 3 1 0 3 3 1 3 2 2 1 1 0 1 0 0 2 2 2 2 2 1 2 2 2 1 0 1 0 3 3 2 3 3\n 1 1 0 1 0 0 0 2 0 3 0 0 2 2 0 2 2 0 0 2 0 3 0 0 1 0 1 3 2 0 2 3 1 0 2 2 0\n 0 0 0 1 0 0 3 1 0 0 3 1 1 3 3 1 3 2 3 2 0 0 0 2 1 1 0 3 0 1 1 1 3 3 1 1 1\n 0 2 3 3 2 3 2 0 0 1 0 1 3 1 0 1 2 1 0 3 2 0 2 2 0 0 0 2 2 3 1 3 3 3 3 3 2\n 3 3 2 3 3 3 1 2 0 1 0 2 3 2 0 3 3 3 1 3 1 1 3 2 1 1 1 1 0 0 0 1 2 3 3 1 3\n 0 2 2 3 1 1 0]",
         "[3 2 0 1 1 2 0 0 0 0 1 0 0 0 0 0 2 3 3 3 1 0 0 1 3 1 0 0 1 1 3 3 2 3 2 2 3\n 3 1 0 0 1 1 0 1 1 3 3 0 3 2 3 0 3 3 3 2 3 3 3 2 3 3 3 2 3 3 3 2 3 2 2 3 1\n 3 3 3 3 2 3 3 3 3 0 3 2 3 3 3 1 3 3 3 3 2 2 3 3 0 2 2 0 0 1 1 1 2 3 3 3 2\n 3 3 1 0 0 1 0 1 3 0 1 0 1 3 0 0 3 3 0 1 2 0 3 0 2 0 3 1 1 3 3 3 1 1 3 3 3\n 1 3 0 3 0 2 3 0 0 2 0 1 1 2 2 3 2 3 3 1 1 1 1 1 2 1 1 1 2 3 2 3 0 0 1 0 0\n 2 2 3 2 3 3 3 1 3 0 3 3 1 1 3 1 1 3 3 1 3 0 3 3 2 3 2 0 1 3 1 0 2 3 1 1 3\n 3 3 3 2 3 3 0 2 3 3 0 2 2 0 0 2 0 1 0 1 3 3 3 1 2 2 3 0 3 2 2 2 0 0 2 2 2\n 3 1 0 0 1 0 1 3 3 2 3 2 0 2 3 2 1 2 3 0 1 3 1 1 3 3 3 1 1 0 2 0 0 0 0 0 1\n 0 0 1 0 0 0 2 1 3 2 3 1 0 1 3 0 0 0 2 0 2 2 0 1 2 2 2 2 3 3 3 2 1 0 0 2 0\n 3 1 1 0 2 2 3]",
         "340"
        ],
        [
         "3867144",
         "chr2",
         "34963594",
         "34963836",
         "[0 0 2 1 2 1 0 3 2 1 3 1 2 3 2 3 2 0 2 1 0 1 2 3 2 0 3 1 0 3 2 3 0 3 2 3 1\n 3 1 1 2 1 1 1 0 3 3 3 1 1 3 3 1 3 1 0 1 3 1 0 1 0 1 1 3 2 3 3 1 1 3 3 3 2\n 2 0 3 1 3 1 0 2 0 2 1 1 0 1 3 2 0 0 1 1 0 1 0 0 0 2 2 3 3 3 1 0 2 3 1 3 1\n 0 0 2 3 3 1 3 2 3 1 3 1 0 2 3 3 1 1 2 1 0 2 1 0 2 3 1 0 2 0 1 1 3 3 3 2 0\n 1 0 3 3 2 0 0 2 2 2 3 0 1 1 2 1 1 3 2 2 1 3 3 3 1 3 0 1 0 2 3 3 3 0 3 0 3\n 2 2 0 2 3 3 3 2 3 2 2 3 0 2 1 3 2 1 1 0 3 2 1 0 2 3 3 2 3 2 2 2 1 2 2 2 1\n 3 2 0 0 3 2 0 1 0 0 2 2 0 2 2 0 3 2 1 3]",
         "[3 3 1 2 1 2 3 0 1 2 0 2 1 0 1 0 1 3 1 2 3 2 1 0 1 3 0 2 3 0 1 0 3 0 1 0 2\n 0 2 2 1 2 2 2 3 0 0 0 2 2 0 0 2 0 2 3 2 0 2 3 2 3 2 2 0 1 0 0 2 2 0 0 0 1\n 1 3 0 2 0 2 3 1 3 1 2 2 3 2 0 1 3 3 2 2 3 2 3 3 3 1 1 0 0 0 2 3 1 0 2 0 2\n 3 3 1 0 0 2 0 1 0 2 0 2 3 1 0 0 2 2 1 2 3 1 2 3 1 0 2 3 1 3 2 2 0 0 0 1 3\n 2 3 0 0 1 3 3 1 1 1 0 3 2 2 1 2 2 0 1 1 2 0 0 0 2 0 3 2 3 1 0 0 0 3 0 3 0\n 1 1 3 1 0 0 0 1 0 1 1 0 3 1 2 0 1 2 2 3 0 1 2 3 1 0 0 1 0 1 1 1 2 1 1 1 2\n 0 1 3 3 0 1 3 2 3 3 1 1 3 1 1 3 0 1 2 0]",
         "242"
        ],
        [
         "1062930",
         "chr11",
         "58994297",
         "58994598",
         "[3 2 2 1 0 3 2 2 1 0 1 0 3 1 3 3 2 1 3 1 3 2 3 0 2 0 2 1 3 2 2 0 1 1 3 1 0\n 2 1 2 1 0 1 1 3 2 2 2 1 1 0 2 2 3 3 0 3 2 1 3 3 1 3 3 2 3 0 2 0 2 2 0 2 1\n 2 1 0 1 2 1 1 2 1 3 3 1 3 1 2 1 2 1 3 1 2 1 2 1 0 1 0 0 0 2 2 1 2 1 2 1 0\n 0 1 1 2 1 0 1 2 2 3 2 2 2 2 0 0 2 2 3 3 0 1 2 2 2 1 2 3 2 2 2 1 1 2 2 2 0\n 2 1 1 2 2 3 2 2 2 2 1 1 1 3 1 1 3 1 3 2 3 1 0 2 1 1 0 3 1 1 2 1 0 3 3 2 1\n 0 0 2 1 0 2 2 3 2 2 0 0 2 1 2 1 0 1 2 2 2 1 2 2 1 1 1 1 3 2 0 0 2 1 0 2 0\n 2 0 2 3 2 2 0 2 1 0 2 1 0 0 2 2 2 3 1 3 2 0 2 2 0 3 3 0 2 2 1 3 2 2 0 1 2\n 2 2 2 1 2 3 2 2 2 2 1 2 2 2 2 3 0 0 2 0 1 0 0 2 0 0 2 2 2 0 0 2 2 2 1 3 2\n 1 0 1 2 2]",
         "[0 1 1 2 3 0 1 1 2 3 2 3 0 2 0 0 1 2 0 2 0 1 0 3 1 3 1 2 0 1 1 3 2 2 0 2 3\n 1 2 1 2 3 2 2 0 1 1 1 2 2 3 1 1 0 0 3 0 1 2 0 0 2 0 0 1 0 3 1 3 1 1 3 1 2\n 1 2 3 2 1 2 2 1 2 0 0 2 0 2 1 2 1 2 0 2 1 2 1 2 3 2 3 3 3 1 1 2 1 2 1 2 3\n 3 2 2 1 2 3 2 1 1 0 1 1 1 1 3 3 1 1 0 0 3 2 1 1 1 2 1 0 1 1 1 2 2 1 1 1 3\n 1 2 2 1 1 0 1 1 1 1 2 2 2 0 2 2 0 2 0 1 0 2 3 1 2 2 3 0 2 2 1 2 3 0 0 1 2\n 3 3 1 2 3 1 1 0 1 1 3 3 1 2 1 2 3 2 1 1 1 2 1 1 2 2 2 2 0 1 3 3 1 2 3 1 3\n 1 3 1 0 1 1 3 1 2 3 1 2 3 3 1 1 1 0 2 0 1 3 1 1 3 0 0 3 1 1 2 0 1 1 3 2 1\n 1 1 1 2 1 0 1 1 1 1 2 1 1 1 1 0 3 3 1 3 2 3 3 1 3 3 1 1 1 3 3 1 1 1 2 0 1\n 2 3 2 1 1]",
         "301"
        ],
        [
         "3271703",
         "chr17",
         "88255744",
         "88256001",
         "[3 0 3 1 1 1 0 2 1 3 1 0 1 0 3 1 1 3 0 0 2 1 1 1 0 2 0 2 0 0 1 0 2 2 0 3 3\n 0 3 0 0 0 2 3 3 3 1 0 2 3 1 1 0 3 0 2 1 3 2 2 3 3 2 3 0 2 0 0 0 2 0 0 0 0\n 2 0 0 0 0 0 3 0 2 2 1 3 3 2 0 2 0 1 1 0 0 0 2 0 2 0 2 1 0 0 0 2 2 2 1 3 3\n 0 2 2 2 2 2 0 1 2 0 0 2 2 0 1 1 0 0 2 2 3 0 2 1 1 0 1 2 0 2 2 3 2 2 1 2 0\n 1 0 0 3 1 1 0 2 1 3 2 2 0 0 0 2 0 1 1 1 2 1 3 1 2 2 2 3 2 2 1 0 3 0 2 0 3\n 2 2 3 3 1 2 1 0 0 1 1 2 0 2 2 0 0 2 2 0 0 1 3 3 1 1 0 3 0 2 0 1 0 1 0 0 0\n 2 0 0 2 2 2 2 3 1 3 3 1 2 2 0 0 1 2 2 2 2 0 0 0 0 2 2 1 0 3 3 3 3 2 3]",
         "[0 3 0 2 2 2 3 1 2 0 2 3 2 3 0 2 2 0 3 3 1 2 2 2 3 1 3 1 3 3 2 3 1 1 3 0 0\n 3 0 3 3 3 1 0 0 0 2 3 1 0 2 2 3 0 3 1 2 0 1 1 0 0 1 0 3 1 3 3 3 1 3 3 3 3\n 1 3 3 3 3 3 0 3 1 1 2 0 0 1 3 1 3 2 2 3 3 3 1 3 1 3 1 2 3 3 3 1 1 1 2 0 0\n 3 1 1 1 1 1 3 2 1 3 3 1 1 3 2 2 3 3 1 1 0 3 1 2 2 3 2 1 3 1 1 0 1 1 2 1 3\n 2 3 3 0 2 2 3 1 2 0 1 1 3 3 3 1 3 2 2 2 1 2 0 2 1 1 1 0 1 1 2 3 0 3 1 3 0\n 1 1 0 0 2 1 2 3 3 2 2 1 3 1 1 3 3 1 1 3 3 2 0 0 2 2 3 0 3 1 3 2 3 2 3 3 3\n 1 3 3 1 1 1 1 0 2 0 0 2 1 1 3 3 2 1 1 1 1 3 3 3 3 1 1 2 3 0 0 0 0 1 0]",
         "257"
        ],
        [
         "6546559",
         "chr7",
         "138396201",
         "138396431",
         "[2 0 1 3 0 0 3 2 1 3 0 0 2 0 3 3 3 3 3 3 3 3 1 3 2 0 0 0 3 3 3 3 3 3 3 3 0\n 0 0 0 0 0 0 3 3 0 3 3 3 0 3 0 1 0 2 2 2 3 2 3 3 3 3 3 2 2 2 2 2 0 3 3 3 1\n 3 3 2 0 1 0 3 3 0 3 2 3 0 1 1 3 1 3 0 2 3 2 2 3 0 0 1 0 1 3 1 3 2 0 0 0 3\n 2 2 1 0 0 1 1 1 3 1 1 3 0 0 0 1 0 3 2 2 1 0 0 0 0 2 1 3 0 2 1 0 2 0 2 1 3\n 3 0 3 1 1 0 0 3 0 0 0 2 1 3 2 0 1 3 0 1 3 0 3 2 3 2 3 0 3 1 0 1 0 1 0 3 1\n 0 0 2 0 3 0 2 2 0 3 2 1 1 1 0 2 3 0 1 0 2 1 0 3 2 3 0 3 1 3 2 1 0 3 1 2 3\n 3 0 0 2 3 1 3 0]",
         "[1 3 2 0 3 3 0 1 2 0 3 3 1 3 0 0 0 0 0 0 0 0 2 0 1 3 3 3 0 0 0 0 0 0 0 0 3\n 3 3 3 3 3 3 0 0 3 0 0 0 3 0 3 2 3 1 1 1 0 1 0 0 0 0 0 1 1 1 1 1 3 0 0 0 2\n 0 0 1 3 2 3 0 0 3 0 1 0 3 2 2 0 2 0 3 1 0 1 1 0 3 3 2 3 2 0 2 0 1 3 3 3 0\n 1 1 2 3 3 2 2 2 0 2 2 0 3 3 3 2 3 0 1 1 2 3 3 3 3 1 2 0 3 1 2 3 1 3 1 2 0\n 0 3 0 2 2 3 3 0 3 3 3 1 2 0 1 3 2 0 3 2 0 3 0 1 0 1 0 3 0 2 3 2 3 2 3 0 2\n 3 3 1 3 0 3 1 1 3 0 1 2 2 2 3 1 0 3 2 3 1 2 3 0 1 0 3 0 2 0 1 2 3 0 2 1 0\n 0 3 3 1 0 2 0 3]",
         "230"
        ],
        [
         "4692749",
         "chr3",
         "146058317",
         "146058652",
         "[0 3 3 3 3 2 2 0 3 0 1 3 0 0 0 0 3 0 0 3 2 2 2 2 2 3 2 2 2 2 2 2 0 0 2 3 1\n 1 3 3 2 2 3 1 0 1 3 0 2 2 3 2 2 1 2 0 1 0 2 0 2 3 0 1 1 0 2 0 0 0 0 0 3 2\n 2 2 2 1 0 2 2 3 3 1 0 1 1 0 2 2 1 2 1 3 2 2 3 2 0 3 1 1 0 3 2 2 3 1 1 0 0\n 2 2 0 0 3 1 1 0 2 3 1 0 0 3 1 0 0 0 3 2 3 1 1 1 0 0 3 1 0 0 3 0 2 0 1 0 0\n 0 0 3 2 3 1 3 3 0 2 2 2 0 0 2 3 3 0 3 2 3 2 3 2 1 0 3 3 1 3 0 0 3 2 0 0 1\n 0 2 0 3 1 1 2 0 2 0 1 3 2 2 1 1 0 2 0 0 3 2 2 2 3 2 1 3 1 2 2 1 3 2 2 1 0\n 2 3 2 3 2 3 1 1 0 0 0 1 1 3 1 0 2 2 3 2 3 1 3 0 0 3 0 0 0 0 3 3 0 1 3 0 0\n 2 2 1 3 2 2 3 3 0 1 3 1 0 1 0 1 0 2 2 0 2 2 1 0 2 2 0 0 2 1 1 0 1 0 2 0 3\n 1 3 3 3 1 3 2 0 0 1 1 1 0 3 2 2 0 2 3 3 2 1 1 3 2 1 0 2 1 0 3 2 0 0 3 3 3\n 1 3]",
         "[3 0 0 0 0 1 1 3 0 3 2 0 3 3 3 3 0 3 3 0 1 1 1 1 1 0 1 1 1 1 1 1 3 3 1 0 2\n 2 0 0 1 1 0 2 3 2 0 3 1 1 0 1 1 2 1 3 2 3 1 3 1 0 3 2 2 3 1 3 3 3 3 3 0 1\n 1 1 1 2 3 1 1 0 0 2 3 2 2 3 1 1 2 1 2 0 1 1 0 1 3 0 2 2 3 0 1 1 0 2 2 3 3\n 1 1 3 3 0 2 2 3 1 0 2 3 3 0 2 3 3 3 0 1 0 2 2 2 3 3 0 2 3 3 0 3 1 3 2 3 3\n 3 3 0 1 0 2 0 0 3 1 1 1 3 3 1 0 0 3 0 1 0 1 0 1 2 3 0 0 2 0 3 3 0 1 3 3 2\n 3 1 3 0 2 2 1 3 1 3 2 0 1 1 2 2 3 1 3 3 0 1 1 1 0 1 2 0 2 1 1 2 0 1 1 2 3\n 1 0 1 0 1 0 2 2 3 3 3 2 2 0 2 3 1 1 0 1 0 2 0 3 3 0 3 3 3 3 0 0 3 2 0 3 3\n 1 1 2 0 1 1 0 0 3 2 0 2 3 2 3 2 3 1 1 3 1 1 2 3 1 1 3 3 1 2 2 3 2 3 1 3 0\n 2 0 0 0 2 0 1 3 3 2 2 2 3 0 1 1 3 1 0 0 1 2 2 0 1 2 3 1 2 3 0 1 3 3 0 0 0\n 2 0]",
         "335"
        ],
        [
         "4256494",
         "chr2",
         "166815757",
         "166815899",
         "[2 1 0 1 0 3 3 2 3 0 2 2 0 1 3 0 3 3 2 2 0 1 0 3 3 1 1 1 3 2 3 2 2 3 0 0 2\n 0 1 1 3 3 1 1 0 3 3 2 0 3 0 1 1 3 1 3 3 0 3 1 0 2 2 3 3 3 0 2 1 0 2 0 0 3\n 0 0 0 1 3 1 3 1 3 2 0 1 1 1 2 3 3 0 0 1 0 0 2 3 1 0 0 0 0 2 3 1 1 0 0 3 1\n 3 1 3 1 3 2 1 3 1 3 2 2 0 2 3 3 0 0 0 2 1 0 2 1 0 2 1 2 3 3 3]",
         "[1 2 3 2 3 0 0 1 0 3 1 1 3 2 0 3 0 0 1 1 3 2 3 0 0 2 2 2 0 1 0 1 1 0 3 3 1\n 3 2 2 0 0 2 2 3 0 0 1 3 0 3 2 2 0 2 0 0 3 0 2 3 1 1 0 0 0 3 1 2 3 1 3 3 0\n 3 3 3 2 0 2 0 2 0 1 3 2 2 2 1 0 0 3 3 2 3 3 1 0 2 3 3 3 3 1 0 2 2 3 3 0 2\n 0 2 0 2 0 1 2 0 2 0 1 1 3 1 0 0 3 3 3 1 2 3 1 2 3 1 2 1 0 0 0]",
         "142"
        ],
        [
         "6342102",
         "chr7",
         "78847211",
         "78847416",
         "[1 0 2 1 1 0 1 1 0 2 1 1 1 2 2 2 3 3 3 1 1 2 1 1 1 2 1 3 0 1 1 2 2 0 0 2 1\n 2 1 3 2 1 2 1 0 2 1 2 0 2 0 0 2 2 2 0 0 2 0 3 1 2 2 0 0 2 0 3 1 2 0 2 0 1\n 2 1 1 0 3 2 1 0 2 1 3 0 0 2 2 0 2 1 2 2 1 2 1 0 2 1 2 1 0 1 1 1 3 2 2 1 2\n 3 1 1 2 2 0 2 2 0 2 0 2 0 3 1 2 0 2 0 1 1 0 3 0 2 0 2 2 1 3 2 2 0 3 0 0 2\n 1 1 1 1 2 2 0 1 1 0 0 2 3 2 0 3 1 1 0 0 2 2 1 0 1 2 3 3 1 0 3 0 0 1 3 0 1\n 3 0 3 2 0 2 3 0 2 2 0 2 3 3 0 0 2 3 3 3]",
         "[2 3 1 2 2 3 2 2 3 1 2 2 2 1 1 1 0 0 0 2 2 1 2 2 2 1 2 0 3 2 2 1 1 3 3 1 2\n 1 2 0 1 2 1 2 3 1 2 1 3 1 3 3 1 1 1 3 3 1 3 0 2 1 1 3 3 1 3 0 2 1 3 1 3 2\n 1 2 2 3 0 1 2 3 1 2 0 3 3 1 1 3 1 2 1 1 2 1 2 3 1 2 1 2 3 2 2 2 0 1 1 2 1\n 0 2 2 1 1 3 1 1 3 1 3 1 3 0 2 1 3 1 3 2 2 3 0 3 1 3 1 1 2 0 1 1 3 0 3 3 1\n 2 2 2 2 1 1 3 2 2 3 3 1 0 1 3 0 2 2 3 3 1 1 2 3 2 1 0 0 2 3 0 3 3 2 0 3 2\n 0 3 0 1 3 1 0 3 1 1 3 1 0 0 3 3 1 0 0 0]",
         "205"
        ],
        [
         "66462",
         "chr1",
         "38011672",
         "38011933",
         "[0 2 3 0 0 2 3 0 2 0 1 1 0 3 3 3 2 1 3 3 0 2 2 0 1 1 3 3 3 2 2 3 0 0 2 3 2\n 0 3 1 3 1 1 1 3 0 1 0 2 0 0 2 2 1 3 3 3 2 3 1 3 0 2 2 0 2 3 1 2 1 3 2 3 2\n 2 3 3 0 0 2 3 3 1 3 0 2 2 0 0 3 1 0 0 0 1 1 1 2 2 0 2 2 1 3 1 0 1 0 1 0 1\n 0 1 3 2 2 1 0 0 2 1 2 0 2 1 3 3 0 3 1 2 1 3 2 0 2 1 3 2 1 0 1 1 1 1 2 3 2\n 1 1 3 0 2 3 3 1 3 2 3 1 0 3 2 1 3 3 3 1 1 1 3 3 2 1 3 0 2 0 2 0 3 2 2 2 2\n 3 2 3 2 1 3 0 1 3 3 2 2 0 2 2 0 2 3 2 0 3 2 1 3 3 3 2 3 0 2 3 1 0 2 1 0 3\n 3 3 1 1 3 2 0 3 3 2 2 1 3 3 3 3 1 3 3 3 0 2 3 2 3 0 2 3 2 0 1 3 2 0 2 0 2\n 3 1]",
         "[3 1 0 3 3 1 0 3 1 3 2 2 3 0 0 0 1 2 0 0 3 1 1 3 2 2 0 0 0 1 1 0 3 3 1 0 1\n 3 0 2 0 2 2 2 0 3 2 3 1 3 3 1 1 2 0 0 0 1 0 2 0 3 1 1 3 1 0 2 1 2 0 1 0 1\n 1 0 0 3 3 1 0 0 2 0 3 1 1 3 3 0 2 3 3 3 2 2 2 1 1 3 1 1 2 0 2 3 2 3 2 3 2\n 3 2 0 1 1 2 3 3 1 2 1 3 1 2 0 0 3 0 2 1 2 0 1 3 1 2 0 1 2 3 2 2 2 2 1 0 1\n 2 2 0 3 1 0 0 2 0 1 0 2 3 0 1 2 0 0 0 2 2 2 0 0 1 2 0 3 1 3 1 3 0 1 1 1 1\n 0 1 0 1 2 0 3 2 0 0 1 1 3 1 1 3 1 0 1 3 0 1 2 0 0 0 1 0 3 1 0 2 3 1 2 3 0\n 0 0 2 2 0 1 3 0 0 1 1 2 0 0 0 0 2 0 0 0 3 1 0 1 0 3 1 0 1 3 2 0 1 3 1 3 1\n 0 2]",
         "261"
        ],
        [
         "967302",
         "chr11",
         "29548199",
         "29548548",
         "[3 3 2 3 1 1 1 0 2 2 0 3 2 1 0 3 3 3 1 1 0 1 0 1 3 3 1 1 1 2 2 0 3 0 1 1 3\n 2 0 3 3 0 1 0 1 3 2 3 1 3 0 0 2 1 3 2 3 2 2 0 2 3 2 0 2 2 2 3 3 0 2 2 0 2\n 0 2 0 2 3 1 0 2 2 3 2 0 2 2 0 1 3 1 0 2 2 2 2 0 3 2 0 2 2 1 0 1 3 0 3 2 0\n 3 3 3 2 1 2 1 2 3 2 2 2 3 2 2 2 2 0 1 3 1 3 1 3 2 2 0 0 0 3 2 1 1 1 1 2 2\n 0 2 2 2 0 0 2 2 1 3 3 0 0 2 2 2 1 3 0 2 0 0 0 2 2 1 0 3 3 3 2 2 2 2 2 1 3\n 2 0 0 2 2 3 2 3 1 3 2 3 1 0 1 0 1 1 2 3 0 2 3 2 0 2 1 3 0 2 1 1 0 1 0 3 1\n 3 0 0 2 2 3 0 3 0 2 3 1 2 0 0 2 3 1 3 3 3 1 3 0 0 2 3 2 1 0 2 2 3 3 3 1 3\n 2 1 1 1 1 3 1 1 1 2 2 3 0 2 3 1 1 1 3 3 1 1 2 1 3 0 1 1 1 3 3 1 0 3 1 1 2\n 0 3 1 2 2 0 0 2 0 0 2 1 3 3 3 3 2 0 2 1 2 3 1 0 1 2 1 2 1 1 3 1 1 1 3 0 2\n 3 0 3 2 0 0 0 1 2 2 3 3 0 0 0 3]",
         "[0 0 1 0 2 2 2 3 1 1 3 0 1 2 3 0 0 0 2 2 3 2 3 2 0 0 2 2 2 1 1 3 0 3 2 2 0\n 1 3 0 0 3 2 3 2 0 1 0 2 0 3 3 1 2 0 1 0 1 1 3 1 0 1 3 1 1 1 0 0 3 1 1 3 1\n 3 1 3 1 0 2 3 1 1 0 1 3 1 1 3 2 0 2 3 1 1 1 1 3 0 1 3 1 1 2 3 2 0 3 0 1 3\n 0 0 0 1 2 1 2 1 0 1 1 1 0 1 1 1 1 3 2 0 2 0 2 0 1 1 3 3 3 0 1 2 2 2 2 1 1\n 3 1 1 1 3 3 1 1 2 0 0 3 3 1 1 1 2 0 3 1 3 3 3 1 1 2 3 0 0 0 1 1 1 1 1 2 0\n 1 3 3 1 1 0 1 0 2 0 1 0 2 3 2 3 2 2 1 0 3 1 0 1 3 1 2 0 3 1 2 2 3 2 3 0 2\n 0 3 3 1 1 0 3 0 3 1 0 2 1 3 3 1 0 2 0 0 0 2 0 3 3 1 0 1 2 3 1 1 0 0 0 2 0\n 1 2 2 2 2 0 2 2 2 1 1 0 3 1 0 2 2 2 0 0 2 2 1 2 0 3 2 2 2 0 0 2 3 0 2 2 1\n 3 0 2 1 1 3 3 1 3 3 1 2 0 0 0 0 1 3 1 2 1 0 2 3 2 1 2 1 2 2 0 2 2 2 0 3 1\n 0 3 0 1 3 3 3 2 1 1 0 0 3 3 3 0]",
         "349"
        ],
        [
         "4496190",
         "chr3",
         "85275242",
         "85275541",
         "[3 1 3 0 2 3 2 2 3 3 1 3 2 1 3 2 0 1 0 0 2 3 1 0 1 3 2 2 0 2 0 3 1 1 1 3 1\n 1 3 3 2 2 2 1 3 3 3 0 3 3 0 3 2 3 1 0 1 0 2 2 0 0 1 1 1 3 2 2 1 3 2 2 0 0\n 3 2 1 3 2 0 2 2 0 3 3 0 0 0 3 3 1 1 0 0 2 1 1 1 3 3 1 1 1 3 2 3 1 2 2 1 1\n 2 2 2 1 1 1 1 3 0 2 1 1 0 2 0 1 0 1 3 2 0 2 3 3 0 1 1 0 3 1 1 2 2 2 1 3 1\n 3 1 2 2 1 1 2 1 1 1 1 1 3 0 1 3 2 0 0 1 0 3 3 3 3 3 3 2 1 3 3 1 3 3 3 2 3\n 1 3 0 2 1 0 1 1 3 2 1 3 2 2 2 3 3 1 0 2 0 2 0 0 1 1 1 1 1 2 1 3 1 1 1 3 0\n 0 0 2 2 3 2 3 3 3 3 2 1 3 1 0 1 3 1 0 3 1 1 1 0 2 2 2 0 1 0 1 1 3 3 3 2 3\n 0 3 0 2 3 2 0 2 3 0 1 0 1 0 2 0 3 3 1 0 2 1 1 3 3 1 0 2 0 3 1 2 2 1 3 3 3\n 0 0 3]",
         "[0 2 0 3 1 0 1 1 0 0 2 0 1 2 0 1 3 2 3 3 1 0 2 3 2 0 1 1 3 1 3 0 2 2 2 0 2\n 2 0 0 1 1 1 2 0 0 0 3 0 0 3 0 1 0 2 3 2 3 1 1 3 3 2 2 2 0 1 1 2 0 1 1 3 3\n 0 1 2 0 1 3 1 1 3 0 0 3 3 3 0 0 2 2 3 3 1 2 2 2 0 0 2 2 2 0 1 0 2 1 1 2 2\n 1 1 1 2 2 2 2 0 3 1 2 2 3 1 3 2 3 2 0 1 3 1 0 0 3 2 2 3 0 2 2 1 1 1 2 0 2\n 0 2 1 1 2 2 1 2 2 2 2 2 0 3 2 0 1 3 3 2 3 0 0 0 0 0 0 1 2 0 0 2 0 0 0 1 0\n 2 0 3 1 2 3 2 2 0 1 2 0 1 1 1 0 0 2 3 1 3 1 3 3 2 2 2 2 2 1 2 0 2 2 2 0 3\n 3 3 1 1 0 1 0 0 0 0 1 2 0 2 3 2 0 2 3 0 2 2 2 3 1 1 1 3 2 3 2 2 0 0 0 1 0\n 3 0 3 1 0 1 3 1 0 3 2 3 2 3 1 3 0 0 2 3 1 2 2 0 0 2 3 1 3 0 2 1 1 2 0 0 0\n 3 3 0]",
         "299"
        ],
        [
         "2627490",
         "chr15",
         "89314609",
         "89314897",
         "[2 1 2 2 3 2 1 3 3 2 0 2 2 1 3 3 1 0 2 0 1 1 3 0 2 1 0 1 3 2 2 2 3 1 0 2 0\n 2 0 0 2 1 3 2 2 0 0 2 0 1 2 0 0 0 0 1 2 3 3 1 1 2 1 1 1 1 1 1 3 1 3 1 3 2\n 0 0 0 3 3 1 1 1 0 2 0 1 1 1 0 2 1 1 0 1 1 2 2 1 0 2 2 1 2 2 1 1 0 0 2 2 1\n 2 2 2 2 3 2 0 2 1 1 1 0 3 1 1 1 0 1 1 1 0 0 1 3 3 2 2 0 0 3 1 2 2 2 2 0 2\n 0 1 1 2 0 0 1 3 2 1 0 2 1 0 2 2 2 3 1 1 3 1 1 0 2 1 1 3 1 1 1 0 1 2 1 1 1\n 2 0 2 1 2 0 1 0 1 2 1 1 1 1 3 2 1 1 1 0 1 1 3 1 2 2 0 0 1 0 2 1 2 0 1 2 1\n 0 2 2 3 2 1 1 1 0 2 2 3 2 3 0 2 2 0 2 2 2 0 3 2 3 3 3 1 3 3 0 1 0 1 0 2 2\n 1 1 0 3 2 3 1 2 3 1 1 2 2 2 2 3 1 1 3 1 2 1 2 2 2 3 3 2 1]",
         "[1 2 1 1 0 1 2 0 0 1 3 1 1 2 0 0 2 3 1 3 2 2 0 3 1 2 3 2 0 1 1 1 0 2 3 1 3\n 1 3 3 1 2 0 1 1 3 3 1 3 2 1 3 3 3 3 2 1 0 0 2 2 1 2 2 2 2 2 2 0 2 0 2 0 1\n 3 3 3 0 0 2 2 2 3 1 3 2 2 2 3 1 2 2 3 2 2 1 1 2 3 1 1 2 1 1 2 2 3 3 1 1 2\n 1 1 1 1 0 1 3 1 2 2 2 3 0 2 2 2 3 2 2 2 3 3 2 0 0 1 1 3 3 0 2 1 1 1 1 3 1\n 3 2 2 1 3 3 2 0 1 2 3 1 2 3 1 1 1 0 2 2 0 2 2 3 1 2 2 0 2 2 2 3 2 1 2 2 2\n 1 3 1 2 1 3 2 3 2 1 2 2 2 2 0 1 2 2 2 3 2 2 0 2 1 1 3 3 2 3 1 2 1 3 2 1 2\n 3 1 1 0 1 2 2 2 3 1 1 0 1 0 3 1 1 3 1 1 1 3 0 1 0 0 0 2 0 0 3 2 3 2 3 1 1\n 2 2 3 0 1 0 2 1 0 2 2 1 1 1 1 0 2 2 0 2 1 2 1 1 1 0 0 1 2]",
         "288"
        ],
        [
         "441952",
         "chr1",
         "178527127",
         "178527469",
         "[0 3 0 3 0 3 3 2 3 0 3 0 3 0 3 0 3 0 1 0 3 0 3 0 3 0 2 0 3 0 3 0 3 3 1 2 3\n 2 3 0 3 2 3 0 3 3 3 0 3 3 3 0 3 0 2 0 0 0 1 3 1 0 3 2 2 0 0 3 3 3 3 0 1 0\n 1 3 3 0 0 0 3 3 3 3 0 3 2 1 0 3 3 3 1 0 1 3 2 3 0 3 2 3 0 2 0 3 3 3 3 0 1\n 0 3 1 0 0 1 3 1 3 1 3 3 2 0 2 2 0 2 1 1 2 1 1 0 3 1 3 0 3 0 0 0 0 3 3 3 1\n 0 1 1 0 0 1 0 2 0 2 2 2 1 2 1 3 1 1 2 0 2 1 1 1 0 3 1 0 0 0 1 2 1 1 2 2 2\n 2 0 1 1 2 0 0 2 0 3 0 3 3 3 3 2 0 2 0 3 2 1 0 1 0 3 1 0 2 0 3 1 3 1 0 2 2\n 2 1 3 1 0 3 1 0 3 3 1 3 3 1 0 2 2 0 1 2 0 0 3 1 2 3 2 1 0 2 1 3 1 1 2 1 0\n 0 3 2 2 1 3 1 3 1 1 1 3 3 1 2 0 1 0 1 1 1 1 0 1 1 3 3 3 1 1 1 0 1 3 3 1 2\n 2 2 1 3 3 1 0 1 2 2 2 1 3 1 2 3 1 1 0 3 3 3 1 0 1 1 3 2 2 1 1 0 1 0 3 2 1\n 3 2 1 3 3 3 2 0 2]",
         "[3 0 3 0 3 0 0 1 0 3 0 3 0 3 0 3 0 3 2 3 0 3 0 3 0 3 1 3 0 3 0 3 0 0 2 1 0\n 1 0 3 0 1 0 3 0 0 0 3 0 0 0 3 0 3 1 3 3 3 2 0 2 3 0 1 1 3 3 0 0 0 0 3 2 3\n 2 0 0 3 3 3 0 0 0 0 3 0 1 2 3 0 0 0 2 3 2 0 1 0 3 0 1 0 3 1 3 0 0 0 0 3 2\n 3 0 2 3 3 2 0 2 0 2 0 0 1 3 1 1 3 1 2 2 1 2 2 3 0 2 0 3 0 3 3 3 3 0 0 0 2\n 3 2 2 3 3 2 3 1 3 1 1 1 2 1 2 0 2 2 1 3 1 2 2 2 3 0 2 3 3 3 2 1 2 2 1 1 1\n 1 3 2 2 1 3 3 1 3 0 3 0 0 0 0 1 3 1 3 0 1 2 3 2 3 0 2 3 1 3 0 2 0 2 3 1 1\n 1 2 0 2 3 0 2 3 0 0 2 0 0 2 3 1 1 3 2 1 3 3 0 2 1 0 1 2 3 1 2 0 2 2 1 2 3\n 3 0 1 1 2 0 2 0 2 2 2 0 0 2 1 3 2 3 2 2 2 2 3 2 2 0 0 0 2 2 2 3 2 0 0 2 1\n 1 1 2 0 0 2 3 2 1 1 1 2 0 2 1 0 2 2 3 0 0 0 2 3 2 2 0 1 1 2 2 3 2 3 0 1 2\n 0 1 2 0 0 0 1 3 1]",
         "342"
        ],
        [
         "7164983",
         "chr9",
         "60243512",
         "60243846",
         "[3 2 2 3 3 0 0 2 3 2 2 1 2 1 1 3 2 1 3 3 1 1 3 3 0 2 0 2 2 2 0 0 3 2 2 2 2\n 1 0 2 0 2 2 0 3 2 2 1 3 3 3 2 0 0 1 0 3 0 1 0 3 3 3 1 0 0 0 0 0 3 2 1 3 3\n 3 1 1 1 0 0 0 2 0 0 2 0 2 1 0 1 0 2 1 3 3 0 3 3 0 0 3 2 0 1 1 1 3 3 3 0 0\n 0 0 3 2 0 0 0 0 1 0 0 0 1 0 0 0 1 0 0 0 0 0 0 0 0 1 1 0 0 0 1 0 0 0 1 0 0\n 1 0 0 0 1 0 0 0 0 2 3 1 0 2 2 1 3 2 2 1 2 1 0 2 3 3 1 3 2 0 0 0 0 1 3 2 1\n 1 0 2 1 0 2 2 2 2 2 1 1 1 0 0 1 0 2 3 2 0 1 1 0 3 0 1 3 2 2 2 2 1 2 3 2 0\n 2 1 3 0 2 2 3 2 3 3 3 3 2 1 3 3 3 0 1 0 2 1 0 1 3 2 3 3 2 3 3 3 1 2 3 3 1\n 3 2 3 3 3 3 1 1 3 2 1 3 3 2 2 2 0 2 1 3 2 2 0 2 2 2 1 0 0 2 1 3 2 2 2 3 1\n 0 0 2 0 2 1 3 3 2 2 0 1 0 2 1 3 1 0 3 1 0 3 2 3 3 1 3 2 2 3 3 1 3 2 0 0 1\n 0]",
         "[0 1 1 0 0 3 3 1 0 1 1 2 1 2 2 0 1 2 0 0 2 2 0 0 3 1 3 1 1 1 3 3 0 1 1 1 1\n 2 3 1 3 1 1 3 0 1 1 2 0 0 0 1 3 3 2 3 0 3 2 3 0 0 0 2 3 3 3 3 3 0 1 2 0 0\n 0 2 2 2 3 3 3 1 3 3 1 3 1 2 3 2 3 1 2 0 0 3 0 0 3 3 0 1 3 2 2 2 0 0 0 3 3\n 3 3 0 1 3 3 3 3 2 3 3 3 2 3 3 3 2 3 3 3 3 3 3 3 3 2 2 3 3 3 2 3 3 3 2 3 3\n 2 3 3 3 2 3 3 3 3 1 0 2 3 1 1 2 0 1 1 2 1 2 3 1 0 0 2 0 1 3 3 3 3 2 0 1 2\n 2 3 1 2 3 1 1 1 1 1 2 2 2 3 3 2 3 1 0 1 3 2 2 3 0 3 2 0 1 1 1 1 2 1 0 1 3\n 1 2 0 3 1 1 0 1 0 0 0 0 1 2 0 0 0 3 2 3 1 2 3 2 0 1 0 0 1 0 0 0 2 1 0 0 2\n 0 1 0 0 0 0 2 2 0 1 2 0 0 1 1 1 3 1 2 0 1 1 3 1 1 1 2 3 3 1 2 0 1 1 1 0 2\n 3 3 1 3 1 2 0 0 1 1 3 2 3 1 2 0 2 3 0 2 3 0 1 0 0 2 0 1 1 0 0 2 0 1 3 3 2\n 3]",
         "334"
        ],
        [
         "918663",
         "chr11",
         "6366008",
         "6366314",
         "[3 2 1 3 0 0 2 1 0 2 1 1 1 2 0 1 1 3 2 0 1 3 0 3 3 2 2 2 0 0 0 1 2 1 1 1 3\n 2 2 2 2 3 3 3 1 1 0 2 1 0 1 0 2 2 1 3 3 1 1 2 2 3 0 0 2 0 1 0 2 2 0 0 0 3\n 0 2 3 2 0 0 1 0 2 1 1 3 2 2 2 1 2 0 2 0 3 2 3 1 2 2 2 1 3 2 3 1 1 3 3 0 3\n 0 0 0 2 3 2 0 2 3 3 3 3 1 1 2 3 2 1 0 3 1 2 3 3 3 1 2 3 3 3 1 1 0 2 1 0 2\n 1 0 2 2 2 2 2 1 0 2 1 0 1 0 2 0 2 0 2 1 0 0 3 2 1 0 2 1 3 2 2 0 2 1 2 3 2\n 3 2 2 1 1 0 2 2 1 2 3 2 2 2 3 0 2 2 2 0 2 1 0 2 1 0 2 2 3 3 0 0 2 2 2 0 3\n 2 0 0 2 2 1 0 0 3 1 0 2 0 0 2 0 1 3 0 0 0 2 0 3 3 1 0 2 2 0 1 0 3 3 0 2 1\n 0 2 3 3 3 2 1 0 3 3 3 0 2 0 1 0 1 0 2 2 0 1 1 3 1 1 2 0 0 2 2 3 0 0 3 3 2\n 0 0 2 1 1 0 2 2 0 0]",
         "[0 1 2 0 3 3 1 2 3 1 2 2 2 1 3 2 2 0 1 3 2 0 3 0 0 1 1 1 3 3 3 2 1 2 2 2 0\n 1 1 1 1 0 0 0 2 2 3 1 2 3 2 3 1 1 2 0 0 2 2 1 1 0 3 3 1 3 2 3 1 1 3 3 3 0\n 3 1 0 1 3 3 2 3 1 2 2 0 1 1 1 2 1 3 1 3 0 1 0 2 1 1 1 2 0 1 0 2 2 0 0 3 0\n 3 3 3 1 0 1 3 1 0 0 0 0 2 2 1 0 1 2 3 0 2 1 0 0 0 2 1 0 0 0 2 2 3 1 2 3 1\n 2 3 1 1 1 1 1 2 3 1 2 3 2 3 1 3 1 3 1 2 3 3 0 1 2 3 1 2 0 1 1 3 1 2 1 0 1\n 0 1 1 2 2 3 1 1 2 1 0 1 1 1 0 3 1 1 1 3 1 2 3 1 2 3 1 1 0 0 3 3 1 1 1 3 0\n 1 3 3 1 1 2 3 3 0 2 3 1 3 3 1 3 2 0 3 3 3 1 3 0 0 2 3 1 1 3 2 3 0 0 3 1 2\n 3 1 0 0 0 1 2 3 0 0 0 3 1 3 2 3 2 3 1 1 3 2 2 0 2 2 1 3 3 1 1 0 3 3 0 0 1\n 3 3 1 2 2 3 1 1 3 3]",
         "306"
        ],
        [
         "5299004",
         "chr5",
         "34660228",
         "34661018",
         "[2 2 0 3 3 0 0 0 2 0 1 3 0 1 0 0 1 3 1 1 1 0 2 2 0 2 2 1 1 0 1 0 1 3 3 1 1\n 3 1 2 0 1 3 3 1 1 3 2 2 1 2 1 3 2 2 2 1 1 3 3 0 3 2 2 2 0 3 1 3 2 3 0 2 3\n 2 3 1 1 1 2 0 2 0 2 1 1 2 1 1 0 1 0 2 3 0 3 1 1 3 1 0 2 0 1 2 1 1 2 1 1 1\n 1 2 0 2 2 2 2 0 2 1 3 1 3 1 2 2 2 1 3 1 1 1 3 1 3 2 2 0 2 2 0 0 0 0 1 1 2\n 3 3 0 2 1 1 2 2 2 2 1 1 1 0 2 1 3 2 3 1 3 3 2 1 2 0 2 3 3 0 0 1 3 2 2 1 2\n 2 1 3 2 1 2 2 1 3 2 1 1 2 1 3 2 1 3 2 2 0 2 1 3 2 3 1 2 1 1 2 3 1 2 1 1 2\n 1 3 2 2 0 2 0 1 1 2 1 3 1 3 1 2 0 2 3 3 3 2 3 0 0 2 1 3 1 1 3 1 2 2 3 0 2\n 2 2 3 0 2 2 2 1 2 1 2 2 1 2 0 0 2 2 3 3 2 0 2 3 2 1 3 2 1 1 1 0 2 2 0 1 1\n 1 2 2 1 2 1 3 2 0 2 2 0 2 0 2 0 2 3 3 0 1 2 1 2 1 1 1 3 2 2 2 1 1 3 2 2 2\n 1 2 0 3 2 0 3 2 1 3 2 0 2 0 2 2 0 2 1 3 1 2 0 2 1 3 0 1 1 2 1 2 1 2 1 1 2\n 2 1 2 1 1 2 0 3 0 2 1 2 2 0 0 2 1 1 1 1 3 3 2 1 1 2 2 2 0 1 0 2 1 0 0 1 0\n 2 0 2 1 3 2 2 0 0 1 1 1 2 3 0 2 1 2 0 2 1 1 3 0 1 1 1 2 3 2 3 1 1 1 0 3 1\n 3 1 1 2 1 2 2 1 2 0 1 1 2 1 2 0 1 2 2 1 2 0 1 0 2 1 2 0 1 2 2 1 2 0 1 2 0\n 1 2 2 1 0 2 1 2 1 3 1 1 3 2 3 3 2 2 1 0 2 3 3 2 3 2 2 1 2 0 1 1 1 1 2 2 0\n 2 2 0 2 2 1 2 2 0 2 2 0 0 2 0 0 2 1 2 0 1 0 2 0 2 0 1 2 2 3 1 2 1 3 2 3 1\n 2 1 2 2 0 2 2 2 1 1 0 1 1 2 3 1 1 0 2 0 0 2 1 1 2 1 2 3 3 1 1 3 1 0 0 0 2\n 2 0 1 0 0 2 2 2 0 3 2 1 1 1 1 2 0 2 2 1 3 3 1 3 2 1 1 2 1 2 2 2 3 3 3 0 2\n 2 0 3 1 3 1 1 3 3 1 1 1 1 2 1 0 2 1 1 3 3 1 1 1 1 2 3 1 3 1 1 0 3 3 2 1 1\n 3 1 2 0 1 3 1 1 2 0 0 0 0 2 3 3 1 2 0 1 2 3 1 2 2 0 0 0 1 1 2 1 2 2 1 0 2\n 1 2 0 1 2 2 1 2 1 0 2 2 0 1 0 2 1 2 0 3 1 0 3 2 2 0 0 1 3 1 2 0 2 0 0 1 3\n 3 1 2 3 2 2 1 1 0 0 1 0 0 3 1 3 2 3 3 2 1 3 2 0 0 2 2 1 1 1 2 3 1 3 0 2 2\n 3 2 2 2 3 2 1 0 1 1 1 1 2]",
         "[1 1 3 0 0 3 3 3 1 3 2 0 3 2 3 3 2 0 2 2 2 3 1 1 3 1 1 2 2 3 2 3 2 0 0 2 2\n 0 2 1 3 2 0 0 2 2 0 1 1 2 1 2 0 1 1 1 2 2 0 0 3 0 1 1 1 3 0 2 0 1 0 3 1 0\n 1 0 2 2 2 1 3 1 3 1 2 2 1 2 2 3 2 3 1 0 3 0 2 2 0 2 3 1 3 2 1 2 2 1 2 2 2\n 2 1 3 1 1 1 1 3 1 2 0 2 0 2 1 1 1 2 0 2 2 2 0 2 0 1 1 3 1 1 3 3 3 3 2 2 1\n 0 0 3 1 2 2 1 1 1 1 2 2 2 3 1 2 0 1 0 2 0 0 1 2 1 3 1 0 0 3 3 2 0 1 1 2 1\n 1 2 0 1 2 1 1 2 0 1 2 2 1 2 0 1 2 0 1 1 3 1 2 0 1 0 2 1 2 2 1 0 2 1 2 2 1\n 2 0 1 1 3 1 3 2 2 1 2 0 2 0 2 1 3 1 0 0 0 1 0 3 3 1 2 0 2 2 0 2 1 1 0 3 1\n 1 1 0 3 1 1 1 2 1 2 1 1 2 1 3 3 1 1 0 0 1 3 1 0 1 2 0 1 2 2 2 3 1 1 3 2 2\n 2 1 1 2 1 2 0 1 3 1 1 3 1 3 1 3 1 0 0 3 2 1 2 1 2 2 2 0 1 1 1 2 2 0 1 1 1\n 2 1 3 0 1 3 0 1 2 0 1 3 1 3 1 1 3 1 2 0 2 1 3 1 2 0 3 2 2 1 2 1 2 1 2 2 1\n 1 2 1 2 2 1 3 0 3 1 2 1 1 3 3 1 2 2 2 2 0 0 1 2 2 1 1 1 3 2 3 1 2 3 3 2 3\n 1 3 1 2 0 1 1 3 3 2 2 2 1 0 3 1 2 1 3 1 2 2 0 3 2 2 2 1 0 1 0 2 2 2 3 0 2\n 0 2 2 1 2 1 1 2 1 3 2 2 1 2 1 3 2 1 1 2 1 3 2 3 1 2 1 3 2 1 1 2 1 3 2 1 3\n 2 1 1 2 3 1 2 1 2 0 2 2 0 1 0 0 1 1 2 3 1 0 0 1 0 1 1 2 1 3 2 2 2 2 1 1 3\n 1 1 3 1 1 2 1 1 3 1 1 3 3 1 3 3 1 2 1 3 2 3 1 3 1 3 2 1 1 0 2 1 2 0 1 0 2\n 1 2 1 1 3 1 1 1 2 2 3 2 2 1 0 2 2 3 1 3 3 1 2 2 1 2 1 0 0 2 2 0 2 3 3 3 1\n 1 3 2 3 3 1 1 1 3 0 1 2 2 2 2 1 3 1 1 2 0 0 2 0 1 2 2 1 2 1 1 1 0 0 0 3 1\n 1 3 0 2 0 2 2 0 0 2 2 2 2 1 2 3 1 2 2 0 0 2 2 2 2 1 0 2 0 2 2 3 0 0 1 2 2\n 0 2 1 3 2 0 2 2 1 3 3 3 3 1 0 0 2 1 3 2 1 0 2 1 1 3 3 3 2 2 1 2 1 1 2 3 1\n 2 1 3 2 1 1 2 1 2 3 1 1 3 2 3 1 2 1 3 0 2 3 0 1 1 3 3 2 0 2 1 3 1 3 3 2 0\n 0 2 1 0 1 1 2 2 3 3 2 3 3 0 2 0 1 0 0 1 2 0 1 3 3 1 1 2 2 2 1 0 2 0 3 1 1\n 0 1 1 1 0 1 2 3 2 2 2 2 1]",
         "790"
        ],
        [
         "292060",
         "chr1",
         "131276963",
         "131277129",
         "[0 0 2 1 3 2 0 1 0 1 0 2 3 2 3 2 2 2 0 2 2 0 0 2 2 2 1 1 1 3 2 2 2 3 1 0 2\n 1 0 0 0 2 2 3 1 0 2 2 1 0 2 0 3 1 1 0 2 3 1 0 1 0 1 3 0 1 1 0 1 0 0 0 3 1\n 3 1 1 0 2 2 0 3 3 2 1 0 0 1 0 3 2 0 2 1 1 3 2 2 0 2 1 1 1 3 1 0 1 1 1 1 3\n 3 1 3 1 3 2 1 3 3 3 3 2 3 2 2 1 1 1 1 3 2 0 1 3 3 1 1 3 0 1 3 2 1 3 2 0 2\n 0 0 1 3 0 0 1 0 3 1 0 2 2 1 1 0 1 1]",
         "[3 3 1 2 0 1 3 2 3 2 3 1 0 1 0 1 1 1 3 1 1 3 3 1 1 1 2 2 2 0 1 1 1 0 2 3 1\n 2 3 3 3 1 1 0 2 3 1 1 2 3 1 3 0 2 2 3 1 0 2 3 2 3 2 0 3 2 2 3 2 3 3 3 0 2\n 0 2 2 3 1 1 3 0 0 1 2 3 3 2 3 0 1 3 1 2 2 0 1 1 3 1 2 2 2 0 2 3 2 2 2 2 0\n 0 2 0 2 0 1 2 0 0 0 0 1 0 1 1 2 2 2 2 0 1 3 2 0 0 2 2 0 3 2 0 1 2 0 1 3 1\n 3 3 2 0 3 3 2 3 0 2 3 1 1 2 2 3 2 2]",
         "166"
        ],
        [
         "4937685",
         "chr4",
         "97777601",
         "97777825",
         "[2 2 1 2 2 1 2 2 1 1 2 3 2 1 2 2 3 2 1 2 2 3 2 1 0 2 0 0 1 2 1 2 2 1 2 1 0\n 2 2 1 2 2 2 1 2 1 2 1 2 2 2 1 0 2 1 3 1 2 1 2 2 2 1 0 1 1 1 2 2 1 1 2 2 1\n 1 2 2 1 2 1 2 2 2 0 2 1 2 2 2 0 0 0 2 2 2 3 2 1 2 1 3 0 3 2 1 1 3 3 3 0 0\n 1 2 1 1 1 2 1 2 3 0 1 0 2 3 0 2 0 1 0 2 3 0 3 0 2 3 2 2 0 2 3 2 3 0 2 2 2\n 0 0 0 1 3 1 3 0 2 2 1 2 2 2 2 3 3 0 0 0 2 3 3 1 0 2 1 2 1 2 3 2 2 0 2 1 2\n 2 1 0 0 2 0 2 1 2 1 3 2 2 1 3 2 1 3 2 1 0 2 3 3 2 0 2 1 1 2 0 2 3 3 2 2 0\n 0 0]",
         "[1 1 2 1 1 2 1 1 2 2 1 0 1 2 1 1 0 1 2 1 1 0 1 2 3 1 3 3 2 1 2 1 1 2 1 2 3\n 1 1 2 1 1 1 2 1 2 1 2 1 1 1 2 3 1 2 0 2 1 2 1 1 1 2 3 2 2 2 1 1 2 2 1 1 2\n 2 1 1 2 1 2 1 1 1 3 1 2 1 1 1 3 3 3 1 1 1 0 1 2 1 2 0 3 0 1 2 2 0 0 0 3 3\n 2 1 2 2 2 1 2 1 0 3 2 3 1 0 3 1 3 2 3 1 0 3 0 3 1 0 1 1 3 1 0 1 0 3 1 1 1\n 3 3 3 2 0 2 0 3 1 1 2 1 1 1 1 0 0 3 3 3 1 0 0 2 3 1 2 1 2 1 0 1 1 3 1 2 1\n 1 2 3 3 1 3 1 2 1 2 0 1 1 2 0 1 2 0 1 2 3 1 0 0 1 3 1 2 2 1 3 1 0 0 1 1 3\n 3 3]",
         "224"
        ],
        [
         "3781629",
         "chr2",
         "17950487",
         "17950663",
         "[1 1 1 3 2 1 1 3 1 1 1 3 2 1 1 3 1 1 1 3 2 1 1 3 1 1 1 3 2 1 1 3 1 1 1 3 2\n 1 1 3 1 1 1 3 2 1 1 3 1 1 1 3 2 1 1 3 1 1 1 3 2 1 1 3 2 1 1 3 2 1 1 3 2 1\n 1 3 2 1 1 3 2 1 1 3 2 1 1 3 2 1 1 3 2 1 1 3 3 1 3 0 3 1 1 3 2 1 1 3 1 1 1\n 3 1 1 1 3 1 1 1 3 2 1 1 3 2 1 1 3 1 1 1 3 2 1 1 3 2 1 1 3 2 1 1 3 1 1 1 3\n 2 1 1 3 2 1 1 3 2 1 1 3 2 1 1 3 2 1 1 3 2 1 1 3 2 1 1 3]",
         "[2 2 2 0 1 2 2 0 2 2 2 0 1 2 2 0 2 2 2 0 1 2 2 0 2 2 2 0 1 2 2 0 2 2 2 0 1\n 2 2 0 2 2 2 0 1 2 2 0 2 2 2 0 1 2 2 0 2 2 2 0 1 2 2 0 1 2 2 0 1 2 2 0 1 2\n 2 0 1 2 2 0 1 2 2 0 1 2 2 0 1 2 2 0 1 2 2 0 0 2 0 3 0 2 2 0 1 2 2 0 2 2 2\n 0 2 2 2 0 2 2 2 0 1 2 2 0 1 2 2 0 2 2 2 0 1 2 2 0 1 2 2 0 1 2 2 0 2 2 2 0\n 1 2 2 0 1 2 2 0 1 2 2 0 1 2 2 0 1 2 2 0 1 2 2 0 1 2 2 0]",
         "176"
        ],
        [
         "3311374",
         "chr18",
         "13896984",
         "13897123",
         "[2 2 0 3 2 2 0 0 2 0 3 2 2 0 3 3 1 3 0 1 0 2 3 3 0 3 0 1 3 3 1 0 1 3 1 0 3\n 2 0 2 1 0 3 3 1 0 1 0 1 0 3 0 1 0 1 0 1 0 1 0 1 0 1 0 1 0 1 0 1 0 1 0 1 0\n 1 0 1 0 1 0 1 0 1 0 1 0 1 0 1 0 1 0 1 3 1 0 1 0 1 3 1 0 1 0 1 0 1 0 1 3 1\n 0 1 0 3 2 1 0 1 3 2 0 2 2 1 0 2 2 2 0 3 2 2 0 0 3 1 3 1]",
         "[1 1 3 0 1 1 3 3 1 3 0 1 1 3 0 0 2 0 3 2 3 1 0 0 3 0 3 2 0 0 2 3 2 0 2 3 0\n 1 3 1 2 3 0 0 2 3 2 3 2 3 0 3 2 3 2 3 2 3 2 3 2 3 2 3 2 3 2 3 2 3 2 3 2 3\n 2 3 2 3 2 3 2 3 2 3 2 3 2 3 2 3 2 3 2 0 2 3 2 3 2 0 2 3 2 3 2 3 2 3 2 0 2\n 3 2 3 0 1 2 3 2 0 1 3 1 1 2 3 1 1 1 3 0 1 1 3 3 0 2 0 2]",
         "139"
        ],
        [
         "37515",
         "chr1",
         "24171496",
         "24171808",
         "[0 2 1 1 1 1 0 0 0 0 1 2 2 0 0 3 1 0 0 3 3 0 3 0 0 1 0 1 3 3 3 0 1 3 3 3 1\n 3 0 1 0 1 0 3 2 2 0 0 0 0 3 0 0 1 0 0 0 0 0 0 1 2 2 2 0 1 0 3 3 3 2 1 0 3\n 0 0 0 0 3 1 0 2 3 3 3 3 1 3 0 1 3 3 0 0 2 3 0 0 3 2 2 2 0 0 0 3 1 0 0 2 2\n 3 1 3 1 3 2 0 3 3 1 1 3 3 0 2 1 3 0 0 2 2 3 3 3 1 0 2 0 3 3 1 1 0 2 2 2 3\n 1 0 1 0 1 3 2 1 1 0 1 1 3 0 2 3 2 3 0 2 0 2 0 2 0 2 1 0 3 0 3 3 1 1 1 1 1\n 1 1 0 0 2 1 0 2 0 0 0 2 3 0 1 3 2 0 0 1 1 2 2 2 3 2 3 0 0 2 0 3 2 1 1 0 0\n 2 2 2 0 3 2 1 0 2 1 0 0 0 0 2 2 2 0 2 1 0 3 2 3 3 3 0 0 2 0 2 2 0 0 2 2 2\n 0 3 3 3 1 0 2 2 0 3 3 0 0 3 2 0 3 2 2 3 3 1 3 0 3 2 3 3 3 3 0 3 3 0 0 3 2\n 2 0 2 2 3 3 0 2 1 2 3 2 3 0 2 2]",
         "[3 1 2 2 2 2 3 3 3 3 2 1 1 3 3 0 2 3 3 0 0 3 0 3 3 2 3 2 0 0 0 3 2 0 0 0 2\n 0 3 2 3 2 3 0 1 1 3 3 3 3 0 3 3 2 3 3 3 3 3 3 2 1 1 1 3 2 3 0 0 0 1 2 3 0\n 3 3 3 3 0 2 3 1 0 0 0 0 2 0 3 2 0 0 3 3 1 0 3 3 0 1 1 1 3 3 3 0 2 3 3 1 1\n 0 2 0 2 0 1 3 0 0 2 2 0 0 3 1 2 0 3 3 1 1 0 0 0 2 3 1 3 0 0 2 2 3 1 1 1 0\n 2 3 2 3 2 0 1 2 2 3 2 2 0 3 1 0 1 0 3 1 3 1 3 1 3 1 2 3 0 3 0 0 2 2 2 2 2\n 2 2 3 3 1 2 3 1 3 3 3 1 0 3 2 0 1 3 3 2 2 1 1 1 0 1 0 3 3 1 3 0 1 2 2 3 3\n 1 1 1 3 0 1 2 3 1 2 3 3 3 3 1 1 1 3 1 2 3 0 1 0 0 0 3 3 1 3 1 1 3 3 1 1 1\n 3 0 0 0 2 3 1 1 3 0 0 3 3 0 1 3 0 1 1 0 0 2 0 3 0 1 0 0 0 0 3 0 0 3 3 0 1\n 1 3 1 1 0 0 3 1 2 1 0 1 0 3 1 1]",
         "312"
        ],
        [
         "3584167",
         "chr19",
         "16128810",
         "16128976",
         "[3 3 0 1 3 0 2 0 1 0 2 1 3 2 3 1 0 3 0 1 3 3 3 3 3 2 3 2 2 3 3 0 3 2 0 2 0\n 0 3 1 3 3 1 1 3 2 3 0 2 2 3 2 2 3 2 1 1 1 3 3 3 2 1 2 2 3 3 3 3 1 3 1 0 3\n 3 3 2 0 1 1 3 2 2 2 3 1 0 0 1 3 3 1 1 3 3 1 1 3 3 0 0 2 2 1 1 0 0 0 0 1 1\n 3 0 3 3 3 3 0 1 0 3 1 3 3 2 2 1 1 0 2 0 3 0 2 3 2 2 1 2 1 3 2 2 1 0 0 3 3\n 1 3 2 1 0 1 0 2 0 2 1 2 2 1 3 1 3 3]",
         "[0 0 3 2 0 3 1 3 2 3 1 2 0 1 0 2 3 0 3 2 0 0 0 0 0 1 0 1 1 0 0 3 0 1 3 1 3\n 3 0 2 0 0 2 2 0 1 0 3 1 1 0 1 1 0 1 2 2 2 0 0 0 1 2 1 1 0 0 0 0 2 0 2 3 0\n 0 0 1 3 2 2 0 1 1 1 0 2 3 3 2 0 0 2 2 0 0 2 2 0 0 3 3 1 1 2 2 3 3 3 3 2 2\n 0 3 0 0 0 0 3 2 3 0 2 0 0 1 1 2 2 3 1 3 0 3 1 0 1 1 2 1 2 0 1 1 2 3 3 0 0\n 2 0 1 2 3 2 3 1 3 1 2 1 1 2 0 2 0 0]",
         "166"
        ],
        [
         "1613136",
         "chr12",
         "84347148",
         "84347554",
         "[0 2 2 0 2 2 3 2 3 1 0 2 1 3 1 1 3 0 0 3 3 0 0 3 3 3 2 0 2 0 2 2 1 0 1 2 1\n 1 1 3 3 2 0 0 0 0 2 1 0 3 1 1 0 0 0 1 1 0 3 1 1 3 1 0 2 2 0 0 2 0 1 3 0 0\n 1 0 3 0 3 1 0 1 0 0 0 3 2 1 3 3 0 2 1 0 0 2 0 2 2 0 2 3 2 3 2 2 3 1 3 2 3\n 0 0 2 3 0 2 1 3 0 2 0 0 2 2 1 3 0 1 1 3 3 2 3 3 3 3 0 1 0 3 0 3 1 3 0 0 2\n 0 0 1 0 0 0 0 1 1 0 1 0 2 2 1 3 0 1 3 3 3 2 3 2 3 3 3 3 1 3 0 1 0 0 0 0 2\n 2 2 2 0 1 1 3 0 0 0 2 2 0 2 3 2 2 0 1 1 0 3 0 0 2 3 0 3 2 3 3 1 1 2 2 0 1\n 0 2 3 1 1 0 2 1 0 2 2 2 2 2 1 0 2 2 2 1 1 2 1 1 3 2 2 0 2 2 0 2 2 0 2 2 0\n 2 0 2 1 1 0 3 3 0 2 3 0 1 1 3 0 2 2 2 0 3 2 1 1 0 1 0 3 2 1 3 1 3 2 0 2 0\n 3 2 2 0 0 1 3 1 0 3 2 1 1 3 0 1 0 2 3 2 0 0 1 1 0 1 0 2 0 2 1 1 0 2 0 3 0\n 1 1 0 1 0 1 3 0 0 0 1 3 2 1 1 3 2 2 2 2 3 2 2 2 3 1 1 3 3 1 3 2 2 0 3 2 3\n 3 1 0 0 2 2 2 1 3 1 3 0 2 0 2 1 3 3 1 1 3 3 0 2 2 2 0 2 0 3 1 3 1 0 0 1]",
         "[3 1 1 3 1 1 0 1 0 2 3 1 2 0 2 2 0 3 3 0 0 3 3 0 0 0 1 3 1 3 1 1 2 3 2 1 2\n 2 2 0 0 1 3 3 3 3 1 2 3 0 2 2 3 3 3 2 2 3 0 2 2 0 2 3 1 1 3 3 1 3 2 0 3 3\n 2 3 0 3 0 2 3 2 3 3 3 0 1 2 0 0 3 1 2 3 3 1 3 1 1 3 1 0 1 0 1 1 0 2 0 1 0\n 3 3 1 0 3 1 2 0 3 1 3 3 1 1 2 0 3 2 2 0 0 1 0 0 0 0 3 2 3 0 3 0 2 0 3 3 1\n 3 3 2 3 3 3 3 2 2 3 2 3 1 1 2 0 3 2 0 0 0 1 0 1 0 0 0 0 2 0 3 2 3 3 3 3 1\n 1 1 1 3 2 2 0 3 3 3 1 1 3 1 0 1 1 3 2 2 3 0 3 3 1 0 3 0 1 0 0 2 2 1 1 3 2\n 3 1 0 2 2 3 1 2 3 1 1 1 1 1 2 3 1 1 1 2 2 1 2 2 0 1 1 3 1 1 3 1 1 3 1 1 3\n 1 3 1 2 2 3 0 0 3 1 0 3 2 2 0 3 1 1 1 3 0 1 2 2 3 2 3 0 1 2 0 2 0 1 3 1 3\n 0 1 1 3 3 2 0 2 3 0 1 2 2 0 3 2 3 1 0 1 3 3 2 2 3 2 3 1 3 1 2 2 3 1 3 0 3\n 2 2 3 2 3 2 0 3 3 3 2 0 1 2 2 0 1 1 1 1 0 1 1 1 0 2 2 0 0 2 0 1 1 3 0 1 0\n 0 2 3 3 1 1 1 2 0 2 0 3 1 3 1 2 0 0 2 2 0 0 3 1 1 1 3 1 3 0 2 0 2 3 3 2]",
         "406"
        ],
        [
         "4219345",
         "chr2",
         "158653076",
         "158653301",
         "[2 3 0 0 3 1 3 1 0 2 1 0 1 3 2 2 2 0 2 1 3 2 0 2 2 1 0 2 2 0 2 2 0 2 3 2 2\n 2 0 2 3 3 1 0 0 2 2 1 3 0 2 1 1 1 0 2 2 1 0 2 1 0 1 0 2 1 0 0 0 0 1 1 1 3\n 2 0 3 1 3 1 2 0 1 0 0 1 1 0 0 1 1 0 2 0 3 1 1 1 0 2 1 0 2 0 0 1 0 1 3 1 1\n 1 2 2 1 1 3 3 2 0 1 0 2 0 2 2 2 2 0 3 2 1 3 2 1 1 0 1 1 3 0 2 3 2 2 1 1 0\n 0 1 0 2 0 0 3 1 3 2 1 0 1 0 1 0 1 0 2 1 3 1 3 3 3 3 3 1 1 2 0 0 0 1 3 1 3\n 3 0 0 2 3 0 0 1 3 1 0 3 3 1 0 1 3 1 1 0 3 0 2 0 3 1 3 3 1 0 1 0 2 3 1 3 2\n 3 1 0]",
         "[1 0 3 3 0 2 0 2 3 1 2 3 2 0 1 1 1 3 1 2 0 1 3 1 1 2 3 1 1 3 1 1 3 1 0 1 1\n 1 3 1 0 0 2 3 3 1 1 2 0 3 1 2 2 2 3 1 1 2 3 1 2 3 2 3 1 2 3 3 3 3 2 2 2 0\n 1 3 0 2 0 2 1 3 2 3 3 2 2 3 3 2 2 3 1 3 0 2 2 2 3 1 2 3 1 3 3 2 3 2 0 2 2\n 2 1 1 2 2 0 0 1 3 2 3 1 3 1 1 1 1 3 0 1 2 0 1 2 2 3 2 2 0 3 1 0 1 1 2 2 3\n 3 2 3 1 3 3 0 2 0 1 2 3 2 3 2 3 2 3 1 2 0 2 0 0 0 0 0 2 2 1 3 3 3 2 0 2 0\n 0 3 3 1 0 3 3 2 0 2 3 0 0 2 3 2 0 2 2 3 0 3 1 3 0 2 0 0 2 3 2 3 1 0 2 0 1\n 0 2 3]",
         "225"
        ],
        [
         "4206914",
         "chr2",
         "156584199",
         "156584362",
         "[1 3 3 0 2 1 0 2 3 3 3 1 1 0 0 1 0 3 0 3 2 3 2 3 2 2 2 3 0 1 3 2 2 3 2 3 2\n 1 1 1 2 2 0 3 2 3 1 1 1 3 1 2 1 3 3 3 1 0 2 3 1 3 1 0 0 2 0 2 2 1 0 2 0 1\n 2 2 3 1 1 0 3 1 3 1 0 1 0 2 0 3 2 2 0 2 0 2 2 3 0 2 0 2 2 2 2 0 0 0 0 2 3\n 1 0 3 3 0 2 1 1 3 1 2 2 2 3 1 3 1 0 2 1 1 0 2 1 0 2 2 3 2 2 1 0 2 0 2 1 3\n 2 2 2 3 3 1 0 2 0 2 1 1 3 2 1]",
         "[2 0 0 3 1 2 3 1 0 0 0 2 2 3 3 2 3 0 3 0 1 0 1 0 1 1 1 0 3 2 0 1 1 0 1 0 1\n 2 2 2 1 1 3 0 1 0 2 2 2 0 2 1 2 0 0 0 2 3 1 0 2 0 2 3 3 1 3 1 1 2 3 1 3 2\n 1 1 0 2 2 3 0 2 0 2 3 2 3 1 3 0 1 1 3 1 3 1 1 0 3 1 3 1 1 1 1 3 3 3 3 1 0\n 2 3 0 0 3 1 2 2 0 2 1 1 1 0 2 0 2 3 1 2 2 3 1 2 3 1 1 0 1 1 2 3 1 3 1 2 0\n 1 1 1 0 0 2 3 1 3 1 2 2 0 1 2]",
         "163"
        ],
        [
         "6300592",
         "chr7",
         "64530059",
         "64530412",
         "[3 1 1 0 2 1 1 1 1 3 1 3 3 1 0 3 2 3 2 1 3 3 2 3 2 0 0 2 0 0 2 0 2 1 0 3 1\n 0 3 3 3 0 0 3 2 0 0 0 3 3 0 0 1 1 0 2 1 1 0 0 1 1 3 0 2 3 3 3 0 2 1 1 3 0\n 1 3 0 2 2 3 1 3 1 3 3 3 0 2 2 0 3 2 2 3 3 2 3 0 3 1 0 2 1 3 3 2 2 3 1 1 1\n 3 3 2 0 2 2 2 1 3 2 2 3 3 2 2 3 0 2 2 3 2 3 3 2 3 3 3 3 0 0 0 3 3 1 0 1 0\n 3 1 3 3 1 1 0 0 3 3 0 2 3 2 2 2 2 0 3 1 0 0 1 0 2 2 2 0 1 0 2 0 3 2 2 1 3\n 1 3 2 3 2 1 3 2 1 1 1 0 1 3 2 1 3 2 2 2 1 0 0 0 3 0 3 2 0 2 0 3 3 0 0 3 1\n 3 3 1 1 3 0 1 3 2 1 0 3 2 2 3 3 3 0 0 0 1 3 1 0 1 3 2 0 2 3 1 0 2 0 0 2 3\n 1 3 2 0 3 0 2 0 0 0 2 2 0 2 0 2 2 0 0 2 1 3 2 2 1 1 3 0 2 0 2 2 3 2 3 2 2\n 2 1 3 1 2 1 3 3 0 2 0 2 1 3 3 3 3 0 3 3 3 3 0 3 1 0 0 0 0 3 3 1 3 0 3 1 3\n 0 1 3 0 2 0 0 0 3 1 3 2 1 2 1 0 3 3 2 3]",
         "[0 2 2 3 1 2 2 2 2 0 2 0 0 2 3 0 1 0 1 2 0 0 1 0 1 3 3 1 3 3 1 3 1 2 3 0 2\n 3 0 0 0 3 3 0 1 3 3 3 0 0 3 3 2 2 3 1 2 2 3 3 2 2 0 3 1 0 0 0 3 1 2 2 0 3\n 2 0 3 1 1 0 2 0 2 0 0 0 3 1 1 3 0 1 1 0 0 1 0 3 0 2 3 1 2 0 0 1 1 0 2 2 2\n 0 0 1 3 1 1 1 2 0 1 1 0 0 1 1 0 3 1 1 0 1 0 0 1 0 0 0 0 3 3 3 0 0 2 3 2 3\n 0 2 0 0 2 2 3 3 0 0 3 1 0 1 1 1 1 3 0 2 3 3 2 3 1 1 1 3 2 3 1 3 0 1 1 2 0\n 2 0 1 0 1 2 0 1 2 2 2 3 2 0 1 2 0 1 1 1 2 3 3 3 0 3 0 1 3 1 3 0 0 3 3 0 2\n 0 0 2 2 0 3 2 0 1 2 3 0 1 1 0 0 0 3 3 3 2 0 2 3 2 0 1 3 1 0 2 3 1 3 3 1 0\n 2 0 1 3 0 3 1 3 3 3 1 1 3 1 3 1 1 3 3 1 2 0 1 1 2 2 0 3 1 3 1 1 0 1 0 1 1\n 1 2 0 2 1 2 0 0 3 1 3 1 2 0 0 0 0 3 0 0 0 0 3 0 2 3 3 3 3 0 0 2 0 3 0 2 0\n 3 2 0 3 1 3 3 3 0 2 0 1 2 1 2 3 0 0 1 0]",
         "353"
        ],
        [
         "6524746",
         "chr7",
         "132282113",
         "132282567",
         "[0 2 0 1 3 1 1 0 0 0 2 2 3 1 3 2 1 2 3 2 0 1 0 1 0 0 1 0 2 0 1 2 0 3 3 3 3\n 1 3 3 3 3 3 1 3 2 0 2 1 1 1 0 2 3 0 3 2 3 1 3 0 1 0 2 2 2 2 0 0 0 1 3 1 3\n 3 3 3 0 2 0 0 1 0 1 3 1 2 3 3 3 3 2 3 3 0 3 3 3 1 3 2 2 3 2 2 3 0 0 3 3 1\n 0 0 0 3 1 0 1 1 2 2 2 0 1 0 1 0 2 2 1 3 1 3 3 1 1 0 3 3 1 0 0 2 3 1 3 2 3\n 1 3 0 2 3 0 0 1 3 0 3 1 3 2 1 1 0 3 1 1 1 0 1 3 1 0 2 2 3 2 0 0 0 1 1 3 0\n 1 0 2 2 1 3 3 1 0 0 2 1 3 2 3 2 1 3 3 1 0 2 0 2 1 3 2 2 1 1 1 0 1 1 0 0 0\n 0 3 0 2 1 3 1 3 2 2 2 2 0 0 1 0 3 0 2 3 2 0 1 3 2 0 2 2 1 0 3 2 0 0 3 3 1\n 1 1 0 2 2 2 2 0 2 1 0 3 2 3 0 2 0 1 1 1 0 2 2 2 3 3 3 3 1 0 2 3 2 3 1 0 1\n 1 0 2 0 0 0 1 0 2 3 2 0 0 0 2 2 0 0 2 0 0 0 3 2 0 3 3 0 1 3 2 2 3 0 1 0 2\n 3 2 3 1 0 2 1 1 0 3 2 3 2 3 2 2 2 0 2 2 1 1 0 1 0 3 0 1 2 0 1 3 2 3 1 1 3\n 3 0 0 3 0 2 3 0 0 1 1 1 3 1 1 0 0 0 2 3 1 0 0 3 0 3 2 1 0 2 0 2 1 1 3 1 0\n 0 0 2 3 0 1 0 3 2 3 2 2 2 0 0 0 1 3 0 0 2 2 1 0 1 0 2 0 0 2 2 2 3 3 0 3 0\n 1 0 1 0 1 0 1 3 1 0]",
         "[3 1 3 2 0 2 2 3 3 3 1 1 0 2 0 1 2 1 0 1 3 2 3 2 3 3 2 3 1 3 2 1 3 0 0 0 0\n 2 0 0 0 0 0 2 0 1 3 1 2 2 2 3 1 0 3 0 1 0 2 0 3 2 3 1 1 1 1 3 3 3 2 0 2 0\n 0 0 0 3 1 3 3 2 3 2 0 2 1 0 0 0 0 1 0 0 3 0 0 0 2 0 1 1 0 1 1 0 3 3 0 0 2\n 3 3 3 0 2 3 2 2 1 1 1 3 2 3 2 3 1 1 2 0 2 0 0 2 2 3 0 0 2 3 3 1 0 2 0 1 0\n 2 0 3 1 0 3 3 2 0 3 0 2 0 1 2 2 3 0 2 2 2 3 2 0 2 3 1 1 0 1 3 3 3 2 2 0 3\n 2 3 1 1 2 0 0 2 3 3 1 2 0 1 0 1 2 0 0 2 3 1 3 1 2 0 1 1 2 2 2 3 2 2 3 3 3\n 3 0 3 1 2 0 2 0 1 1 1 1 3 3 2 3 0 3 1 0 1 3 2 0 1 3 1 1 2 3 0 1 3 3 0 0 2\n 2 2 3 1 1 1 1 3 1 2 3 0 1 0 3 1 3 2 2 2 3 1 1 1 0 0 0 0 2 3 1 0 1 0 2 3 2\n 2 3 1 3 3 3 2 3 1 0 1 3 3 3 1 1 3 3 1 3 3 3 0 1 3 0 0 3 2 0 1 1 0 3 2 3 1\n 0 1 0 2 3 1 2 2 3 0 1 0 1 0 1 1 1 3 1 1 2 2 3 2 3 0 3 2 1 3 2 0 1 0 2 2 0\n 0 3 3 0 3 1 0 3 3 2 2 2 0 2 2 3 3 3 1 0 2 3 3 0 3 0 1 2 3 1 3 1 2 2 0 2 3\n 3 3 1 0 3 2 3 0 1 0 1 1 1 3 3 3 2 0 3 3 1 1 2 3 2 3 1 3 3 1 1 1 0 0 3 0 3\n 2 3 2 3 2 3 2 0 2 3]",
         "454"
        ],
        [
         "6246192",
         "chr7",
         "40786833",
         "40787182",
         "[1 2 0 3 0 2 0 0 0 0 0 2 1 0 3 1 3 1 3 3 3 0 2 1 0 3 3 0 3 3 0 3 3 3 3 3 0\n 0 2 0 3 3 3 0 3 3 3 3 0 3 1 0 3 0 3 2 3 2 1 0 3 2 0 2 3 2 3 3 3 0 3 2 3 2\n 3 2 3 3 3 3 0 0 3 2 0 2 1 0 3 1 0 3 2 3 2 2 0 3 2 3 0 0 3 0 2 1 1 0 0 2 1\n 0 3 2 1 1 0 2 0 0 2 0 2 2 2 1 0 3 1 0 2 0 3 1 1 1 1 3 2 2 0 0 3 3 0 2 0 0\n 3 3 0 1 0 0 0 3 2 2 3 3 3 3 3 2 0 2 2 1 1 0 1 1 0 3 2 3 2 2 2 2 3 3 2 2 2\n 0 1 1 1 3 0 0 1 1 1 3 3 2 3 1 1 3 1 3 2 1 0 0 2 0 2 1 0 2 1 1 0 0 3 3 1 3\n 1 0 3 0 1 2 3 2 1 3 2 0 2 3 1 0 3 1 3 1 3 2 1 0 2 1 1 1 1 1 3 2 2 2 2 2 1\n 0 2 3 0 2 3 1 1 3 0 0 1 0 0 3 2 1 3 3 0 3 2 2 3 0 0 3 0 0 0 3 2 1 1 3 0 3\n 0 1 3 3 3 3 0 3 3 0 0 2 2 0 3 2 3 1 0 0 0 1 0 1 0 0 0 3 2 0 0 3 0 1 3 3 2\n 2 2 0 0 0 0 0 0 0 0 0 0 1 3 0 0]",
         "[2 1 3 0 3 1 3 3 3 3 3 1 2 3 0 2 0 2 0 0 0 3 1 2 3 0 0 3 0 0 3 0 0 0 0 0 3\n 3 1 3 0 0 0 3 0 0 0 0 3 0 2 3 0 3 0 1 0 1 2 3 0 1 3 1 0 1 0 0 0 3 0 1 0 1\n 0 1 0 0 0 0 3 3 0 1 3 1 2 3 0 2 3 0 1 0 1 1 3 0 1 0 3 3 0 3 1 2 2 3 3 1 2\n 3 0 1 2 2 3 1 3 3 1 3 1 1 1 2 3 0 2 3 1 3 0 2 2 2 2 0 1 1 3 3 0 0 3 1 3 3\n 0 0 3 2 3 3 3 0 1 1 0 0 0 0 0 1 3 1 1 2 2 3 2 2 3 0 1 0 1 1 1 1 0 0 1 1 1\n 3 2 2 2 0 3 3 2 2 2 0 0 1 0 2 2 0 2 0 1 2 3 3 1 3 1 2 3 1 2 2 3 3 0 0 2 0\n 2 3 0 3 2 1 0 1 2 0 1 3 1 0 2 3 0 2 0 2 0 1 2 3 1 2 2 2 2 2 0 1 1 1 1 1 2\n 3 1 0 3 1 0 2 2 0 3 3 2 3 3 0 1 2 0 0 3 0 1 1 0 3 3 0 3 3 3 0 1 2 2 0 3 0\n 3 2 0 0 0 0 3 0 0 3 3 1 1 3 0 1 0 2 3 3 3 2 3 2 3 3 3 0 1 3 3 0 3 2 0 0 1\n 1 1 3 3 3 3 3 3 3 3 3 3 2 0 3 3]",
         "349"
        ],
        [
         "314069",
         "chr1",
         "134851384",
         "134851764",
         "[0 3 0 3 3 0 1 0 0 1 3 0 2 0 2 0 0 3 0 3 2 0 2 1 0 1 1 1 0 1 3 2 2 2 2 0 1\n 1 0 1 0 3 2 2 0 3 0 3 1 1 0 2 2 2 0 1 3 2 1 2 1 0 2 0 0 1 3 2 3 0 1 1 1 0\n 3 1 3 1 3 1 0 1 0 2 1 0 1 1 0 2 0 2 1 3 1 3 2 2 0 2 0 2 1 3 2 2 1 1 1 1 0\n 1 1 3 1 3 1 0 1 3 2 2 1 0 2 3 0 0 1 0 1 3 1 3 2 2 0 2 0 2 1 2 2 2 1 3 2 3\n 2 3 2 1 1 3 3 3 1 3 1 0 2 2 1 3 0 1 0 1 0 2 3 2 2 0 0 2 3 2 2 1 1 1 3 2 1\n 0 3 1 3 3 2 3 2 3 2 2 0 1 0 2 1 0 1 0 2 1 0 2 0 2 1 3 2 0 0 1 1 3 2 2 3 2\n 2 3 2 2 3 2 2 3 0 1 0 2 2 3 2 0 2 1 1 0 2 1 1 3 3 2 0 2 2 2 1 1 0 2 0 2 3\n 2 3 0 2 0 2 0 2 1 3 0 1 1 3 3 2 0 1 0 1 1 2 2 3 0 2 1 0 3 2 0 2 1 0 3 2 2\n 2 2 2 3 2 0 3 0 1 1 1 3 1 0 1 1 3 2 3 1 0 3 1 0 1 1 3 2 1 1 2 1 2 2 3 1 2\n 2 2 0 2 0 2 1 0 2 2 1 1 1 3 2 1 0 1 1 3 3 2 1 1 3 2 0 1 1 0 2 1 0 1 0 2 3\n 0 0 2 2 1 3 2 2 1 1]",
         "[3 0 3 0 0 3 2 3 3 2 0 3 1 3 1 3 3 0 3 0 1 3 1 2 3 2 2 2 3 2 0 1 1 1 1 3 2\n 2 3 2 3 0 1 1 3 0 3 0 2 2 3 1 1 1 3 2 0 1 2 1 2 3 1 3 3 2 0 1 0 3 2 2 2 3\n 0 2 0 2 0 2 3 2 3 1 2 3 2 2 3 1 3 1 2 0 2 0 1 1 3 1 3 1 2 0 1 1 2 2 2 2 3\n 2 2 0 2 0 2 3 2 0 1 1 2 3 1 0 3 3 2 3 2 0 2 0 1 1 3 1 3 1 2 1 1 1 2 0 1 0\n 1 0 1 2 2 0 0 0 2 0 2 3 1 1 2 0 3 2 3 2 3 1 0 1 1 3 3 1 0 1 1 2 2 2 0 1 2\n 3 0 2 0 0 1 0 1 0 1 1 3 2 3 1 2 3 2 3 1 2 3 1 3 1 2 0 1 3 3 2 2 0 1 1 0 1\n 1 0 1 1 0 1 1 0 3 2 3 1 1 0 1 3 1 2 2 3 1 2 2 0 0 1 3 1 1 1 2 2 3 1 3 1 0\n 1 0 3 1 3 1 3 1 2 0 3 2 2 0 0 1 3 2 3 2 2 1 1 0 3 1 2 3 0 1 3 1 2 3 0 1 1\n 1 1 1 0 1 3 0 3 2 2 2 0 2 3 2 2 0 1 0 2 3 0 2 3 2 2 0 1 2 2 1 2 1 1 0 2 1\n 1 1 3 1 3 1 2 3 1 1 2 2 2 0 1 2 3 2 2 0 0 1 2 2 0 1 3 2 2 3 1 2 3 2 3 1 0\n 3 3 1 1 2 0 1 1 2 2]",
         "380"
        ],
        [
         "1309398",
         "chr11",
         "104510637",
         "104510982",
         "[2 2 1 1 0 1 3 3 3 1 1 3 2 2 0 3 3 1 3 3 2 1 0 1 2 3 1 2 2 1 0 2 2 1 1 1 3\n 3 0 0 2 3 3 3 1 0 3 3 3 3 3 1 3 1 1 3 2 1 1 1 3 2 3 2 0 3 3 1 3 1 3 1 1 3\n 1 3 1 3 3 3 1 3 1 1 1 0 2 1 1 1 1 3 3 2 1 1 3 2 3 2 2 0 0 3 1 3 0 0 0 0 2\n 3 1 1 3 2 1 1 3 1 3 2 3 1 3 3 1 1 0 2 1 1 1 0 2 1 1 0 3 3 2 2 0 3 2 3 0 3\n 2 2 1 0 0 3 3 1 3 3 3 0 3 3 0 3 1 0 0 1 3 2 0 0 2 1 1 0 2 1 0 2 2 2 2 2 1\n 0 2 3 2 0 1 3 1 3 1 0 2 2 2 1 3 2 2 0 0 2 1 0 1 0 2 1 3 3 3 3 3 2 2 2 0 2\n 1 1 0 0 0 0 3 0 0 2 0 1 0 0 2 1 0 3 3 0 2 0 0 3 1 3 0 3 1 3 1 0 1 3 3 3 3\n 3 1 3 2 3 1 1 0 0 0 3 3 0 0 0 0 0 0 1 0 0 0 1 1 1 0 0 0 0 0 1 1 3 1 3 3 1\n 3 1 3 3 0 2 0 3 0 3 0 0 0 3 3 2 0 0 1 0 3 0 0 1 1 0 3 0 0 1 0 0 3 3 2 3 0\n 3 0 2 0 3 0 0 1 0 0 0 1]",
         "[1 1 2 2 3 2 0 0 0 2 2 0 1 1 3 0 0 2 0 0 1 2 3 2 1 0 2 1 1 2 3 1 1 2 2 2 0\n 0 3 3 1 0 0 0 2 3 0 0 0 0 0 2 0 2 2 0 1 2 2 2 0 1 0 1 3 0 0 2 0 2 0 2 2 0\n 2 0 2 0 0 0 2 0 2 2 2 3 1 2 2 2 2 0 0 1 2 2 0 1 0 1 1 3 3 0 2 0 3 3 3 3 1\n 0 2 2 0 1 2 2 0 2 0 1 0 2 0 0 2 2 3 1 2 2 2 3 1 2 2 3 0 0 1 1 3 0 1 0 3 0\n 1 1 2 3 3 0 0 2 0 0 0 3 0 0 3 0 2 3 3 2 0 1 3 3 1 2 2 3 1 2 3 1 1 1 1 1 2\n 3 1 0 1 3 2 0 2 0 2 3 1 1 1 2 0 1 1 3 3 1 2 3 2 3 1 2 0 0 0 0 0 1 1 1 3 1\n 2 2 3 3 3 3 0 3 3 1 3 2 3 3 1 2 3 0 0 3 1 3 3 0 2 0 3 0 2 0 2 3 2 0 0 0 0\n 0 2 0 1 0 2 2 3 3 3 0 0 3 3 3 3 3 3 2 3 3 3 2 2 2 3 3 3 3 3 2 2 0 2 0 0 2\n 0 2 0 0 3 1 3 0 3 0 3 3 3 0 0 1 3 3 2 3 0 3 3 2 2 3 0 3 3 2 3 3 0 0 1 0 3\n 0 3 1 3 0 3 3 2 3 3 3 2]",
         "345"
        ],
        [
         "7224532",
         "chr9",
         "71777480",
         "71777646",
         "[2 3 0 2 0 2 2 0 3 1 0 2 2 3 3 1 0 2 3 3 1 1 1 0 2 1 0 3 1 1 0 1 0 3 0 2 1\n 0 0 1 3 1 0 1 0 0 1 1 0 3 1 3 0 3 0 2 1 3 1 0 0 2 3 3 3 1 0 2 0 3 2 1 1 1\n 3 1 3 0 1 3 2 2 3 1 3 1 1 0 3 2 2 2 0 0 1 3 2 1 0 1 2 1 0 1 3 3 2 2 3 2 1\n 0 1 0 3 0 2 1 3 1 3 1 0 0 3 2 1 0 2 0 3 3 0 3 3 1 1 3 2 2 2 2 3 2 2 3 3 0\n 2 1 1 0 1 1 3 2 0 0 1 0 1 0 2 1 0 2]",
         "[1 0 3 1 3 1 1 3 0 2 3 1 1 0 0 2 3 1 0 0 2 2 2 3 1 2 3 0 2 2 3 2 3 0 3 1 2\n 3 3 2 0 2 3 2 3 3 2 2 3 0 2 0 3 0 3 1 2 0 2 3 3 1 0 0 0 2 3 1 3 0 1 2 2 2\n 0 2 0 3 2 0 1 1 0 2 0 2 2 3 0 1 1 1 3 3 2 0 1 2 3 2 1 2 3 2 0 0 1 1 0 1 2\n 3 2 3 0 3 1 2 0 2 0 2 3 3 0 1 2 3 1 3 0 0 3 0 0 2 2 0 1 1 1 1 0 1 1 0 0 3\n 1 2 2 3 2 2 0 1 3 3 2 3 2 3 1 2 3 1]",
         "166"
        ]
       ],
       "shape": {
        "columns": 6,
        "rows": 7624
       }
      },
      "text/html": [
       "<div>\n",
       "<style scoped>\n",
       "    .dataframe tbody tr th:only-of-type {\n",
       "        vertical-align: middle;\n",
       "    }\n",
       "\n",
       "    .dataframe tbody tr th {\n",
       "        vertical-align: top;\n",
       "    }\n",
       "\n",
       "    .dataframe thead th {\n",
       "        text-align: right;\n",
       "    }\n",
       "</style>\n",
       "<table border=\"1\" class=\"dataframe\">\n",
       "  <thead>\n",
       "    <tr style=\"text-align: right;\">\n",
       "      <th></th>\n",
       "      <th>chr</th>\n",
       "      <th>start</th>\n",
       "      <th>end</th>\n",
       "      <th>+ seq</th>\n",
       "      <th>- seq</th>\n",
       "      <th>peak_len</th>\n",
       "    </tr>\n",
       "  </thead>\n",
       "  <tbody>\n",
       "    <tr>\n",
       "      <th>4919508</th>\n",
       "      <td>chr4</td>\n",
       "      <td>88763406</td>\n",
       "      <td>88763801</td>\n",
       "      <td>[1, 3, 2, 3, 0, 1, 2, 1, 2, 0, 0, 2, 2, 2, 2, ...</td>\n",
       "      <td>[2, 0, 1, 0, 3, 2, 1, 2, 1, 3, 3, 1, 1, 1, 1, ...</td>\n",
       "      <td>395</td>\n",
       "    </tr>\n",
       "    <tr>\n",
       "      <th>3554566</th>\n",
       "      <td>chr19</td>\n",
       "      <td>7020504</td>\n",
       "      <td>7020645</td>\n",
       "      <td>[0, 1, 0, 3, 1, 0, 0, 1, 1, 1, 0, 0, 0, 2, 1, ...</td>\n",
       "      <td>[3, 2, 3, 0, 2, 3, 3, 2, 2, 2, 3, 3, 3, 1, 2, ...</td>\n",
       "      <td>141</td>\n",
       "    </tr>\n",
       "    <tr>\n",
       "      <th>1575433</th>\n",
       "      <td>chr12</td>\n",
       "      <td>75596165</td>\n",
       "      <td>75596570</td>\n",
       "      <td>[1, 0, 0, 3, 2, 1, 1, 1, 1, 3, 3, 3, 1, 3, 1, ...</td>\n",
       "      <td>[2, 3, 3, 0, 1, 2, 2, 2, 2, 0, 0, 0, 2, 0, 2, ...</td>\n",
       "      <td>405</td>\n",
       "    </tr>\n",
       "    <tr>\n",
       "      <th>6264022</th>\n",
       "      <td>chr7</td>\n",
       "      <td>45561276</td>\n",
       "      <td>45561669</td>\n",
       "      <td>[1, 2, 1, 1, 3, 2, 1, 1, 0, 2, 0, 0, 3, 3, 2, ...</td>\n",
       "      <td>[2, 1, 2, 2, 0, 1, 2, 2, 3, 1, 3, 3, 0, 0, 1, ...</td>\n",
       "      <td>393</td>\n",
       "    </tr>\n",
       "    <tr>\n",
       "      <th>6483812</th>\n",
       "      <td>chr7</td>\n",
       "      <td>122623819</td>\n",
       "      <td>122624055</td>\n",
       "      <td>[0, 0, 2, 0, 1, 2, 3, 3, 3, 1, 1, 1, 0, 2, 2, ...</td>\n",
       "      <td>[3, 3, 1, 3, 2, 1, 0, 0, 0, 2, 2, 2, 3, 1, 1, ...</td>\n",
       "      <td>236</td>\n",
       "    </tr>\n",
       "    <tr>\n",
       "      <th>...</th>\n",
       "      <td>...</td>\n",
       "      <td>...</td>\n",
       "      <td>...</td>\n",
       "      <td>...</td>\n",
       "      <td>...</td>\n",
       "      <td>...</td>\n",
       "    </tr>\n",
       "    <tr>\n",
       "      <th>5162398</th>\n",
       "      <td>chr4</td>\n",
       "      <td>148626601</td>\n",
       "      <td>148627169</td>\n",
       "      <td>[1, 3, 1, 1, 1, 1, 2, 1, 2, 2, 1, 2, 1, 0, 2, ...</td>\n",
       "      <td>[2, 0, 2, 2, 2, 2, 1, 2, 1, 1, 2, 1, 2, 3, 1, ...</td>\n",
       "      <td>568</td>\n",
       "    </tr>\n",
       "    <tr>\n",
       "      <th>7220415</th>\n",
       "      <td>chr9</td>\n",
       "      <td>71074009</td>\n",
       "      <td>71074259</td>\n",
       "      <td>[3, 0, 0, 3, 3, 0, 0, 3, 2, 2, 2, 2, 2, 2, 0, ...</td>\n",
       "      <td>[0, 3, 3, 0, 0, 3, 3, 0, 1, 1, 1, 1, 1, 1, 3, ...</td>\n",
       "      <td>250</td>\n",
       "    </tr>\n",
       "    <tr>\n",
       "      <th>6186468</th>\n",
       "      <td>chr7</td>\n",
       "      <td>25133143</td>\n",
       "      <td>25133473</td>\n",
       "      <td>[1, 0, 2, 0, 2, 0, 1, 0, 2, 1, 3, 0, 2, 0, 0, ...</td>\n",
       "      <td>[2, 3, 1, 3, 1, 3, 2, 3, 1, 2, 0, 3, 1, 3, 3, ...</td>\n",
       "      <td>330</td>\n",
       "    </tr>\n",
       "    <tr>\n",
       "      <th>3611240</th>\n",
       "      <td>chr19</td>\n",
       "      <td>26213590</td>\n",
       "      <td>26213841</td>\n",
       "      <td>[0, 3, 3, 0, 3, 1, 3, 3, 0, 2, 3, 3, 1, 3, 1, ...</td>\n",
       "      <td>[3, 0, 0, 3, 0, 2, 0, 0, 3, 1, 0, 0, 2, 0, 2, ...</td>\n",
       "      <td>251</td>\n",
       "    </tr>\n",
       "    <tr>\n",
       "      <th>6040449</th>\n",
       "      <td>chr6</td>\n",
       "      <td>121622673</td>\n",
       "      <td>121622936</td>\n",
       "      <td>[0, 3, 3, 2, 2, 1, 3, 3, 0, 3, 1, 3, 2, 1, 0, ...</td>\n",
       "      <td>[3, 0, 0, 1, 1, 2, 0, 0, 3, 0, 2, 0, 1, 2, 3, ...</td>\n",
       "      <td>263</td>\n",
       "    </tr>\n",
       "  </tbody>\n",
       "</table>\n",
       "<p>7624 rows × 6 columns</p>\n",
       "</div>"
      ],
      "text/plain": [
       "           chr      start        end  \\\n",
       "4919508   chr4   88763406   88763801   \n",
       "3554566  chr19    7020504    7020645   \n",
       "1575433  chr12   75596165   75596570   \n",
       "6264022   chr7   45561276   45561669   \n",
       "6483812   chr7  122623819  122624055   \n",
       "...        ...        ...        ...   \n",
       "5162398   chr4  148626601  148627169   \n",
       "7220415   chr9   71074009   71074259   \n",
       "6186468   chr7   25133143   25133473   \n",
       "3611240  chr19   26213590   26213841   \n",
       "6040449   chr6  121622673  121622936   \n",
       "\n",
       "                                                     + seq  \\\n",
       "4919508  [1, 3, 2, 3, 0, 1, 2, 1, 2, 0, 0, 2, 2, 2, 2, ...   \n",
       "3554566  [0, 1, 0, 3, 1, 0, 0, 1, 1, 1, 0, 0, 0, 2, 1, ...   \n",
       "1575433  [1, 0, 0, 3, 2, 1, 1, 1, 1, 3, 3, 3, 1, 3, 1, ...   \n",
       "6264022  [1, 2, 1, 1, 3, 2, 1, 1, 0, 2, 0, 0, 3, 3, 2, ...   \n",
       "6483812  [0, 0, 2, 0, 1, 2, 3, 3, 3, 1, 1, 1, 0, 2, 2, ...   \n",
       "...                                                    ...   \n",
       "5162398  [1, 3, 1, 1, 1, 1, 2, 1, 2, 2, 1, 2, 1, 0, 2, ...   \n",
       "7220415  [3, 0, 0, 3, 3, 0, 0, 3, 2, 2, 2, 2, 2, 2, 0, ...   \n",
       "6186468  [1, 0, 2, 0, 2, 0, 1, 0, 2, 1, 3, 0, 2, 0, 0, ...   \n",
       "3611240  [0, 3, 3, 0, 3, 1, 3, 3, 0, 2, 3, 3, 1, 3, 1, ...   \n",
       "6040449  [0, 3, 3, 2, 2, 1, 3, 3, 0, 3, 1, 3, 2, 1, 0, ...   \n",
       "\n",
       "                                                     - seq  peak_len  \n",
       "4919508  [2, 0, 1, 0, 3, 2, 1, 2, 1, 3, 3, 1, 1, 1, 1, ...       395  \n",
       "3554566  [3, 2, 3, 0, 2, 3, 3, 2, 2, 2, 3, 3, 3, 1, 2, ...       141  \n",
       "1575433  [2, 3, 3, 0, 1, 2, 2, 2, 2, 0, 0, 0, 2, 0, 2, ...       405  \n",
       "6264022  [2, 1, 2, 2, 0, 1, 2, 2, 3, 1, 3, 3, 0, 0, 1, ...       393  \n",
       "6483812  [3, 3, 1, 3, 2, 1, 0, 0, 0, 2, 2, 2, 3, 1, 1, ...       236  \n",
       "...                                                    ...       ...  \n",
       "5162398  [2, 0, 2, 2, 2, 2, 1, 2, 1, 1, 2, 1, 2, 3, 1, ...       568  \n",
       "7220415  [0, 3, 3, 0, 0, 3, 3, 0, 1, 1, 1, 1, 1, 1, 3, ...       250  \n",
       "6186468  [2, 3, 1, 3, 1, 3, 2, 3, 1, 2, 0, 3, 1, 3, 3, ...       330  \n",
       "3611240  [3, 0, 0, 3, 0, 2, 0, 0, 3, 1, 0, 0, 2, 0, 2, ...       251  \n",
       "6040449  [3, 0, 0, 1, 1, 2, 0, 0, 3, 0, 2, 0, 1, 2, 3, ...       263  \n",
       "\n",
       "[7624 rows x 6 columns]"
      ]
     },
     "execution_count": 110,
     "metadata": {},
     "output_type": "execute_result"
    }
   ],
   "source": [
    "chr_pos_to_seq_sample"
   ]
  },
  {
   "cell_type": "code",
   "execution_count": null,
   "metadata": {},
   "outputs": [],
   "source": [
    "chr_pos_to_seq_sample.to_pickle(\"/gpfs/Labs/Uzun/SCRIPTS/PROJECTS/2024.SINGLE_CELL_GRN_INFERENCE.MOELLER/input/DS011_mESC/tmp/peak_sequences.pkl\")"
   ]
  },
  {
   "cell_type": "code",
   "execution_count": null,
   "metadata": {},
   "outputs": [],
   "source": [
    "sliding_window_df = pd.read_parquet(\"/gpfs/Labs/Uzun/SCRIPTS/PROJECTS/2024.SINGLE_CELL_GRN_INFERENCE.MOELLER/input/DS011_mESC/sliding_window_tf_to_peak_score.parquet\", engine=\"pyarrow\")"
   ]
  },
  {
   "cell_type": "code",
   "execution_count": null,
   "metadata": {},
   "outputs": [
    {
     "data": {
      "application/vnd.microsoft.datawrangler.viewer.v0+json": {
       "columns": [
        {
         "name": "__null_dask_index__",
         "rawType": "int64",
         "type": "integer"
        },
        {
         "name": "peak_id",
         "rawType": "string",
         "type": "string"
        },
        {
         "name": "source_id",
         "rawType": "string",
         "type": "string"
        },
        {
         "name": "sliding_window_score",
         "rawType": "float64",
         "type": "float"
        }
       ],
       "ref": "9538fe31-bb52-4813-9635-c938eea5fb2b",
       "rows": [
        [
         "0",
         "chr4:88763406-88763801",
         "Ahctf1",
         "0.43138353949606123"
        ],
        [
         "1",
         "chr19:7020504-7020645",
         "Ahctf1",
         "0.1968227733346912"
        ],
        [
         "2",
         "chr12:75596165-75596570",
         "Ahctf1",
         "0.4255701224682397"
        ],
        [
         "3",
         "chr7:45561276-45561669",
         "Ahctf1",
         "0.4947375266213573"
        ],
        [
         "4",
         "chr7:122623819-122624055",
         "Ahctf1",
         "0.3227691646349654"
        ]
       ],
       "shape": {
        "columns": 3,
        "rows": 5
       }
      },
      "text/html": [
       "<div>\n",
       "<style scoped>\n",
       "    .dataframe tbody tr th:only-of-type {\n",
       "        vertical-align: middle;\n",
       "    }\n",
       "\n",
       "    .dataframe tbody tr th {\n",
       "        vertical-align: top;\n",
       "    }\n",
       "\n",
       "    .dataframe thead th {\n",
       "        text-align: right;\n",
       "    }\n",
       "</style>\n",
       "<table border=\"1\" class=\"dataframe\">\n",
       "  <thead>\n",
       "    <tr style=\"text-align: right;\">\n",
       "      <th></th>\n",
       "      <th>peak_id</th>\n",
       "      <th>source_id</th>\n",
       "      <th>sliding_window_score</th>\n",
       "    </tr>\n",
       "    <tr>\n",
       "      <th>__null_dask_index__</th>\n",
       "      <th></th>\n",
       "      <th></th>\n",
       "      <th></th>\n",
       "    </tr>\n",
       "  </thead>\n",
       "  <tbody>\n",
       "    <tr>\n",
       "      <th>0</th>\n",
       "      <td>chr4:88763406-88763801</td>\n",
       "      <td>Ahctf1</td>\n",
       "      <td>0.431384</td>\n",
       "    </tr>\n",
       "    <tr>\n",
       "      <th>1</th>\n",
       "      <td>chr19:7020504-7020645</td>\n",
       "      <td>Ahctf1</td>\n",
       "      <td>0.196823</td>\n",
       "    </tr>\n",
       "    <tr>\n",
       "      <th>2</th>\n",
       "      <td>chr12:75596165-75596570</td>\n",
       "      <td>Ahctf1</td>\n",
       "      <td>0.425570</td>\n",
       "    </tr>\n",
       "    <tr>\n",
       "      <th>3</th>\n",
       "      <td>chr7:45561276-45561669</td>\n",
       "      <td>Ahctf1</td>\n",
       "      <td>0.494738</td>\n",
       "    </tr>\n",
       "    <tr>\n",
       "      <th>4</th>\n",
       "      <td>chr7:122623819-122624055</td>\n",
       "      <td>Ahctf1</td>\n",
       "      <td>0.322769</td>\n",
       "    </tr>\n",
       "  </tbody>\n",
       "</table>\n",
       "</div>"
      ],
      "text/plain": [
       "                                      peak_id source_id  sliding_window_score\n",
       "__null_dask_index__                                                          \n",
       "0                      chr4:88763406-88763801    Ahctf1              0.431384\n",
       "1                       chr19:7020504-7020645    Ahctf1              0.196823\n",
       "2                     chr12:75596165-75596570    Ahctf1              0.425570\n",
       "3                      chr7:45561276-45561669    Ahctf1              0.494738\n",
       "4                    chr7:122623819-122624055    Ahctf1              0.322769"
      ]
     },
     "execution_count": 113,
     "metadata": {},
     "output_type": "execute_result"
    }
   ],
   "source": [
    "sliding_window_df.head()"
   ]
  },
  {
   "cell_type": "code",
   "execution_count": null,
   "metadata": {},
   "outputs": [
    {
     "data": {
      "application/vnd.microsoft.datawrangler.viewer.v0+json": {
       "columns": [
        {
         "name": "index",
         "rawType": "int64",
         "type": "integer"
        },
        {
         "name": "__null_dask_index__",
         "rawType": "int64",
         "type": "integer"
        },
        {
         "name": "peak_id",
         "rawType": "string",
         "type": "string"
        },
        {
         "name": "source_id",
         "rawType": "string",
         "type": "string"
        },
        {
         "name": "sliding_window_score",
         "rawType": "float64",
         "type": "float"
        }
       ],
       "ref": "a5ab8d70-a48e-48e1-aef5-8f0e4c325bbb",
       "rows": [
        [
         "0",
         "0",
         "chr4:88763406-88763801",
         "Ahctf1",
         "0.43138353949606123"
        ],
        [
         "1",
         "1",
         "chr19:7020504-7020645",
         "Ahctf1",
         "0.1968227733346912"
        ],
        [
         "2",
         "2",
         "chr12:75596165-75596570",
         "Ahctf1",
         "0.4255701224682397"
        ],
        [
         "3",
         "3",
         "chr7:45561276-45561669",
         "Ahctf1",
         "0.4947375266213573"
        ],
        [
         "4",
         "4",
         "chr7:122623819-122624055",
         "Ahctf1",
         "0.3227691646349654"
        ],
        [
         "5",
         "5",
         "chr5:115158659-115158779",
         "Ahctf1",
         "0.13892495683097747"
        ],
        [
         "6",
         "6",
         "chr7:35747607-35747813",
         "Ahctf1",
         "0.27002015768674914"
        ],
        [
         "7",
         "7",
         "chr3:68488157-68488723",
         "Ahctf1",
         "0.6856171250199082"
        ],
        [
         "8",
         "8",
         "chr3:158210109-158210428",
         "Ahctf1",
         "0.4237722161178561"
        ],
        [
         "9",
         "9",
         "chr5:85994641-85994868",
         "Ahctf1",
         "0.3452302206574056"
        ],
        [
         "10",
         "10",
         "chr18:65934794-65935296",
         "Ahctf1",
         "0.5187914222371941"
        ],
        [
         "11",
         "11",
         "chrX:34178349-34178582",
         "Ahctf1",
         "0.2964642950078468"
        ],
        [
         "12",
         "12",
         "chr10:23384768-23384982",
         "Ahctf1",
         "0.2935900825713878"
        ],
        [
         "13",
         "13",
         "chr13:21974151-21974598",
         "Ahctf1",
         "0.5559316964008815"
        ],
        [
         "14",
         "14",
         "chr12:83018050-83018399",
         "Ahctf1",
         "0.4832028851809024"
        ],
        [
         "15",
         "15",
         "chr18:34373159-34373466",
         "Ahctf1",
         "0.31973544861329006"
        ],
        [
         "16",
         "16",
         "chr7:19443313-19443815",
         "Ahctf1",
         "0.6073233183653579"
        ],
        [
         "17",
         "17",
         "chr15:50610671-50610877",
         "Ahctf1",
         "0.3107419027370732"
        ],
        [
         "18",
         "18",
         "chr9:53990969-53991279",
         "Ahctf1",
         "0.41961199626121354"
        ],
        [
         "19",
         "19",
         "chr2:147378956-147379296",
         "Ahctf1",
         "0.4649684540962315"
        ],
        [
         "20",
         "20",
         "chr2:34963594-34963836",
         "Ahctf1",
         "0.31931653132341287"
        ],
        [
         "21",
         "21",
         "chr11:58994297-58994598",
         "Ahctf1",
         "0.3382939862581261"
        ],
        [
         "22",
         "22",
         "chr17:88255744-88256001",
         "Ahctf1",
         "0.3393497936638183"
        ],
        [
         "23",
         "23",
         "chr7:138396201-138396431",
         "Ahctf1",
         "0.3426974947673722"
        ],
        [
         "24",
         "24",
         "chr3:146058317-146058652",
         "Ahctf1",
         "0.43575675601139574"
        ],
        [
         "25",
         "25",
         "chr2:166815757-166815899",
         "Ahctf1",
         "0.20732690084863223"
        ],
        [
         "26",
         "26",
         "chr7:78847211-78847416",
         "Ahctf1",
         "0.2532383153671295"
        ],
        [
         "27",
         "27",
         "chr1:38011672-38011933",
         "Ahctf1",
         "0.34619995716001944"
        ],
        [
         "28",
         "28",
         "chr11:29548199-29548548",
         "Ahctf1",
         "0.43265674867624443"
        ],
        [
         "29",
         "29",
         "chr3:85275242-85275541",
         "Ahctf1",
         "0.3800122797126717"
        ],
        [
         "30",
         "30",
         "chr15:89314609-89314897",
         "Ahctf1",
         "0.32905488556938844"
        ],
        [
         "31",
         "31",
         "chr1:178527127-178527469",
         "Ahctf1",
         "0.45909155373199656"
        ],
        [
         "32",
         "32",
         "chr9:60243512-60243846",
         "Ahctf1",
         "0.44146823418153597"
        ],
        [
         "33",
         "33",
         "chr11:6366008-6366314",
         "Ahctf1",
         "0.38569297633524036"
        ],
        [
         "34",
         "34",
         "chr5:34660228-34661018",
         "Ahctf1",
         "0.7658929250743625"
        ],
        [
         "35",
         "35",
         "chr1:131276963-131277129",
         "Ahctf1",
         "0.21450261361084907"
        ],
        [
         "36",
         "36",
         "chr4:97777601-97777825",
         "Ahctf1",
         "0.25307809737371734"
        ],
        [
         "37",
         "37",
         "chr2:17950487-17950663",
         "Ahctf1",
         "0.19053303962826681"
        ],
        [
         "38",
         "38",
         "chr18:13896984-13897123",
         "Ahctf1",
         "0.19681533792577224"
        ],
        [
         "39",
         "39",
         "chr1:24171496-24171808",
         "Ahctf1",
         "0.4337512078651897"
        ],
        [
         "40",
         "40",
         "chr19:16128810-16128976",
         "Ahctf1",
         "0.23282869249533836"
        ],
        [
         "41",
         "41",
         "chr12:84347148-84347554",
         "Ahctf1",
         "0.5108810500331128"
        ],
        [
         "42",
         "42",
         "chr2:158653076-158653301",
         "Ahctf1",
         "0.29278490637195786"
        ],
        [
         "43",
         "43",
         "chr2:156584199-156584362",
         "Ahctf1",
         "0.21014070527402434"
        ],
        [
         "44",
         "44",
         "chr7:64530059-64530412",
         "Ahctf1",
         "0.4717561522749821"
        ],
        [
         "45",
         "45",
         "chr7:132282113-132282567",
         "Ahctf1",
         "0.5717088943448848"
        ],
        [
         "46",
         "46",
         "chr7:40786833-40787182",
         "Ahctf1",
         "0.4823274156078494"
        ],
        [
         "47",
         "47",
         "chr1:134851384-134851764",
         "Ahctf1",
         "0.4445077754299921"
        ],
        [
         "48",
         "48",
         "chr11:104510637-104510982",
         "Ahctf1",
         "0.4649956894468422"
        ],
        [
         "49",
         "49",
         "chr9:71777480-71777646",
         "Ahctf1",
         "0.2257981251478425"
        ]
       ],
       "shape": {
        "columns": 4,
        "rows": 21142112
       }
      },
      "text/html": [
       "<div>\n",
       "<style scoped>\n",
       "    .dataframe tbody tr th:only-of-type {\n",
       "        vertical-align: middle;\n",
       "    }\n",
       "\n",
       "    .dataframe tbody tr th {\n",
       "        vertical-align: top;\n",
       "    }\n",
       "\n",
       "    .dataframe thead th {\n",
       "        text-align: right;\n",
       "    }\n",
       "</style>\n",
       "<table border=\"1\" class=\"dataframe\">\n",
       "  <thead>\n",
       "    <tr style=\"text-align: right;\">\n",
       "      <th></th>\n",
       "      <th>__null_dask_index__</th>\n",
       "      <th>peak_id</th>\n",
       "      <th>source_id</th>\n",
       "      <th>sliding_window_score</th>\n",
       "    </tr>\n",
       "  </thead>\n",
       "  <tbody>\n",
       "    <tr>\n",
       "      <th>0</th>\n",
       "      <td>0</td>\n",
       "      <td>chr4:88763406-88763801</td>\n",
       "      <td>Ahctf1</td>\n",
       "      <td>0.431384</td>\n",
       "    </tr>\n",
       "    <tr>\n",
       "      <th>1</th>\n",
       "      <td>1</td>\n",
       "      <td>chr19:7020504-7020645</td>\n",
       "      <td>Ahctf1</td>\n",
       "      <td>0.196823</td>\n",
       "    </tr>\n",
       "    <tr>\n",
       "      <th>2</th>\n",
       "      <td>2</td>\n",
       "      <td>chr12:75596165-75596570</td>\n",
       "      <td>Ahctf1</td>\n",
       "      <td>0.425570</td>\n",
       "    </tr>\n",
       "    <tr>\n",
       "      <th>3</th>\n",
       "      <td>3</td>\n",
       "      <td>chr7:45561276-45561669</td>\n",
       "      <td>Ahctf1</td>\n",
       "      <td>0.494738</td>\n",
       "    </tr>\n",
       "    <tr>\n",
       "      <th>4</th>\n",
       "      <td>4</td>\n",
       "      <td>chr7:122623819-122624055</td>\n",
       "      <td>Ahctf1</td>\n",
       "      <td>0.322769</td>\n",
       "    </tr>\n",
       "    <tr>\n",
       "      <th>...</th>\n",
       "      <td>...</td>\n",
       "      <td>...</td>\n",
       "      <td>...</td>\n",
       "      <td>...</td>\n",
       "    </tr>\n",
       "    <tr>\n",
       "      <th>21142107</th>\n",
       "      <td>7619</td>\n",
       "      <td>chr4:148626601-148627169</td>\n",
       "      <td>Dnajc21</td>\n",
       "      <td>0.940842</td>\n",
       "    </tr>\n",
       "    <tr>\n",
       "      <th>21142108</th>\n",
       "      <td>7620</td>\n",
       "      <td>chr9:71074009-71074259</td>\n",
       "      <td>Dnajc21</td>\n",
       "      <td>0.474462</td>\n",
       "    </tr>\n",
       "    <tr>\n",
       "      <th>21142109</th>\n",
       "      <td>7621</td>\n",
       "      <td>chr7:25133143-25133473</td>\n",
       "      <td>Dnajc21</td>\n",
       "      <td>0.617293</td>\n",
       "    </tr>\n",
       "    <tr>\n",
       "      <th>21142110</th>\n",
       "      <td>7622</td>\n",
       "      <td>chr19:26213590-26213841</td>\n",
       "      <td>Dnajc21</td>\n",
       "      <td>0.473546</td>\n",
       "    </tr>\n",
       "    <tr>\n",
       "      <th>21142111</th>\n",
       "      <td>7623</td>\n",
       "      <td>chr6:121622673-121622936</td>\n",
       "      <td>Dnajc21</td>\n",
       "      <td>0.494234</td>\n",
       "    </tr>\n",
       "  </tbody>\n",
       "</table>\n",
       "<p>21142112 rows × 4 columns</p>\n",
       "</div>"
      ],
      "text/plain": [
       "          __null_dask_index__                   peak_id source_id  \\\n",
       "0                           0    chr4:88763406-88763801    Ahctf1   \n",
       "1                           1     chr19:7020504-7020645    Ahctf1   \n",
       "2                           2   chr12:75596165-75596570    Ahctf1   \n",
       "3                           3    chr7:45561276-45561669    Ahctf1   \n",
       "4                           4  chr7:122623819-122624055    Ahctf1   \n",
       "...                       ...                       ...       ...   \n",
       "21142107                 7619  chr4:148626601-148627169   Dnajc21   \n",
       "21142108                 7620    chr9:71074009-71074259   Dnajc21   \n",
       "21142109                 7621    chr7:25133143-25133473   Dnajc21   \n",
       "21142110                 7622   chr19:26213590-26213841   Dnajc21   \n",
       "21142111                 7623  chr6:121622673-121622936   Dnajc21   \n",
       "\n",
       "          sliding_window_score  \n",
       "0                     0.431384  \n",
       "1                     0.196823  \n",
       "2                     0.425570  \n",
       "3                     0.494738  \n",
       "4                     0.322769  \n",
       "...                        ...  \n",
       "21142107              0.940842  \n",
       "21142108              0.474462  \n",
       "21142109              0.617293  \n",
       "21142110              0.473546  \n",
       "21142111              0.494234  \n",
       "\n",
       "[21142112 rows x 4 columns]"
      ]
     },
     "execution_count": 114,
     "metadata": {},
     "output_type": "execute_result"
    }
   ],
   "source": [
    "sliding_window_df.reset_index()"
   ]
  },
  {
   "cell_type": "code",
   "execution_count": null,
   "metadata": {},
   "outputs": [],
   "source": [
    "sliding_window_df = sliding_window_df[[\"peak_id\", \"source_id\", \"sliding_window_score\"]]"
   ]
  },
  {
   "cell_type": "code",
   "execution_count": null,
   "metadata": {},
   "outputs": [],
   "source": [
    "peak_bed_sub = peak_bed_final[peak_bed_final[\"gene_id\"].isin(sliding_window_df[\"peak_id\"])]"
   ]
  },
  {
   "cell_type": "code",
   "execution_count": null,
   "metadata": {},
   "outputs": [
    {
     "data": {
      "application/vnd.microsoft.datawrangler.viewer.v0+json": {
       "columns": [
        {
         "name": "index",
         "rawType": "int64",
         "type": "integer"
        },
        {
         "name": "gene_id",
         "rawType": "object",
         "type": "string"
        },
        {
         "name": "peak_id",
         "rawType": "object",
         "type": "string"
        }
       ],
       "ref": "552c24d5-0d2d-464d-957c-4c84e41179dd",
       "rows": [
        [
         "1",
         "Smad4",
         "chr1:3003564-3003922"
        ],
        [
         "2",
         "Ctcf",
         "chr1:3012605-3012815"
        ],
        [
         "3",
         "Ctcf",
         "chr1:3012635-3012824"
        ],
        [
         "4",
         "Epitope",
         "chr1:3031387-3031654"
        ],
        [
         "5",
         "Smad4",
         "chr1:3031454-3031677"
        ],
        [
         "6",
         "Epitope",
         "chr1:3037813-3037977"
        ],
        [
         "7",
         "Epitope",
         "chr1:3037831-3038014"
        ],
        [
         "8",
         "Creb1",
         "chr1:3042056-3042107"
        ],
        [
         "9",
         "Chd4",
         "chr1:3042840-3042993"
        ],
        [
         "10",
         "Hand2",
         "chr1:3042840-3043210"
        ],
        [
         "11",
         "Chd4",
         "chr1:3042845-3042974"
        ],
        [
         "12",
         "Klf1",
         "chr1:3042893-3043261"
        ],
        [
         "13",
         "Chd4",
         "chr1:3043042-3043236"
        ],
        [
         "14",
         "Hira",
         "chr1:3043048-3043364"
        ],
        [
         "15",
         "Chd4",
         "chr1:3043056-3043246"
        ],
        [
         "16",
         "Chd4",
         "chr1:3043095-3043239"
        ],
        [
         "17",
         "Smad1",
         "chr1:3048848-3049240"
        ],
        [
         "18",
         "Smad1",
         "chr1:3048884-3049204"
        ],
        [
         "19",
         "Smad1",
         "chr1:3048892-3049123"
        ],
        [
         "20",
         "Smad1",
         "chr1:3048924-3049137"
        ],
        [
         "21",
         "Smad1",
         "chr1:3048985-3049197"
        ],
        [
         "22",
         "Epitope",
         "chr1:3050139-3050342"
        ],
        [
         "23",
         "Epitope",
         "chr1:3050160-3050251"
        ],
        [
         "24",
         "Isl1",
         "chr1:3050169-3050323"
        ],
        [
         "25",
         "Smarca4",
         "chr1:3050170-3050252"
        ],
        [
         "26",
         "Prdm13",
         "chr1:3051439-3051494"
        ],
        [
         "27",
         "Hoxa13",
         "chr1:3054989-3055130"
        ],
        [
         "28",
         "Hoxa13",
         "chr1:3055034-3055478"
        ],
        [
         "29",
         "Hoxa13",
         "chr1:3055062-3055329"
        ],
        [
         "30",
         "Cebpa",
         "chr1:3059708-3059807"
        ],
        [
         "31",
         "Epitope",
         "chr1:3062849-3063111"
        ],
        [
         "32",
         "Hnf1b",
         "chr1:3063257-3063401"
        ],
        [
         "33",
         "Pax5",
         "chr1:3068096-3068380"
        ],
        [
         "34",
         "Gata6",
         "chr1:3072534-3072701"
        ],
        [
         "35",
         "Gata1",
         "chr1:3077207-3077399"
        ],
        [
         "36",
         "Smarca4",
         "chr1:3083162-3083320"
        ],
        [
         "37",
         "Epitope",
         "chr1:3083182-3083313"
        ],
        [
         "38",
         "Isl1",
         "chr1:3083187-3083305"
        ],
        [
         "39",
         "Epitope",
         "chr1:3083189-3083280"
        ],
        [
         "40",
         "Pax5",
         "chr1:3091675-3091891"
        ],
        [
         "41",
         "Ncor2",
         "chr1:3094752-3095214"
        ],
        [
         "42",
         "Cebpa",
         "chr1:3094760-3094900"
        ],
        [
         "43",
         "Ncor2",
         "chr1:3094784-3095161"
        ],
        [
         "44",
         "Ncor2",
         "chr1:3094789-3095260"
        ],
        [
         "45",
         "Ncor2",
         "chr1:3094795-3095175"
        ],
        [
         "46",
         "Ncor2",
         "chr1:3094799-3095182"
        ],
        [
         "47",
         "Ncor2",
         "chr1:3094823-3095143"
        ],
        [
         "48",
         "Neurog2",
         "chr1:3094824-3095063"
        ],
        [
         "49",
         "Ncor2",
         "chr1:3094827-3095149"
        ],
        [
         "50",
         "Ncor2",
         "chr1:3094854-3095103"
        ]
       ],
       "shape": {
        "columns": 2,
        "rows": 7624391
       }
      },
      "text/html": [
       "<div>\n",
       "<style scoped>\n",
       "    .dataframe tbody tr th:only-of-type {\n",
       "        vertical-align: middle;\n",
       "    }\n",
       "\n",
       "    .dataframe tbody tr th {\n",
       "        vertical-align: top;\n",
       "    }\n",
       "\n",
       "    .dataframe thead th {\n",
       "        text-align: right;\n",
       "    }\n",
       "</style>\n",
       "<table border=\"1\" class=\"dataframe\">\n",
       "  <thead>\n",
       "    <tr style=\"text-align: right;\">\n",
       "      <th></th>\n",
       "      <th>gene_id</th>\n",
       "      <th>peak_id</th>\n",
       "    </tr>\n",
       "  </thead>\n",
       "  <tbody>\n",
       "    <tr>\n",
       "      <th>1</th>\n",
       "      <td>Smad4</td>\n",
       "      <td>chr1:3003564-3003922</td>\n",
       "    </tr>\n",
       "    <tr>\n",
       "      <th>2</th>\n",
       "      <td>Ctcf</td>\n",
       "      <td>chr1:3012605-3012815</td>\n",
       "    </tr>\n",
       "    <tr>\n",
       "      <th>3</th>\n",
       "      <td>Ctcf</td>\n",
       "      <td>chr1:3012635-3012824</td>\n",
       "    </tr>\n",
       "    <tr>\n",
       "      <th>4</th>\n",
       "      <td>Epitope</td>\n",
       "      <td>chr1:3031387-3031654</td>\n",
       "    </tr>\n",
       "    <tr>\n",
       "      <th>5</th>\n",
       "      <td>Smad4</td>\n",
       "      <td>chr1:3031454-3031677</td>\n",
       "    </tr>\n",
       "    <tr>\n",
       "      <th>...</th>\n",
       "      <td>...</td>\n",
       "      <td>...</td>\n",
       "    </tr>\n",
       "    <tr>\n",
       "      <th>7624387</th>\n",
       "      <td>Rest</td>\n",
       "      <td>chrY_JH584303_random:135985-136047</td>\n",
       "    </tr>\n",
       "    <tr>\n",
       "      <th>7624388</th>\n",
       "      <td>Rest</td>\n",
       "      <td>chrY_JH584303_random:135985-136048</td>\n",
       "    </tr>\n",
       "    <tr>\n",
       "      <th>7624389</th>\n",
       "      <td>Rest</td>\n",
       "      <td>chrY_JH584303_random:135986-136045</td>\n",
       "    </tr>\n",
       "    <tr>\n",
       "      <th>7624390</th>\n",
       "      <td>Rest</td>\n",
       "      <td>chrY_JH584303_random:135989-136043</td>\n",
       "    </tr>\n",
       "    <tr>\n",
       "      <th>7624391</th>\n",
       "      <td>Rest</td>\n",
       "      <td>chrY_JH584303_random:135989-136046</td>\n",
       "    </tr>\n",
       "  </tbody>\n",
       "</table>\n",
       "<p>7624391 rows × 2 columns</p>\n",
       "</div>"
      ],
      "text/plain": [
       "         gene_id                             peak_id\n",
       "1          Smad4                chr1:3003564-3003922\n",
       "2           Ctcf                chr1:3012605-3012815\n",
       "3           Ctcf                chr1:3012635-3012824\n",
       "4        Epitope                chr1:3031387-3031654\n",
       "5          Smad4                chr1:3031454-3031677\n",
       "...          ...                                 ...\n",
       "7624387     Rest  chrY_JH584303_random:135985-136047\n",
       "7624388     Rest  chrY_JH584303_random:135985-136048\n",
       "7624389     Rest  chrY_JH584303_random:135986-136045\n",
       "7624390     Rest  chrY_JH584303_random:135989-136043\n",
       "7624391     Rest  chrY_JH584303_random:135989-136046\n",
       "\n",
       "[7624391 rows x 2 columns]"
      ]
     },
     "execution_count": 124,
     "metadata": {},
     "output_type": "execute_result"
    }
   ],
   "source": [
    "peak_bed_final"
   ]
  },
  {
   "cell_type": "code",
   "execution_count": null,
   "metadata": {},
   "outputs": [],
   "source": [
    "peak_bed_sub = peak_bed_final[peak_bed_final[\"peak_id\"].isin(sliding_window_df[\"peak_id\"])]"
   ]
  },
  {
   "cell_type": "code",
   "execution_count": null,
   "metadata": {},
   "outputs": [
    {
     "data": {
      "application/vnd.microsoft.datawrangler.viewer.v0+json": {
       "columns": [
        {
         "name": "index",
         "rawType": "int64",
         "type": "integer"
        },
        {
         "name": "gene_id",
         "rawType": "object",
         "type": "string"
        },
        {
         "name": "peak_id",
         "rawType": "object",
         "type": "string"
        }
       ],
       "ref": "6af85e9a-9aa3-4356-893e-d9a5bc933b0d",
       "rows": [
        [
         "30",
         "Cebpa",
         "chr1:3059708-3059807"
        ],
        [
         "43",
         "Ncor2",
         "chr1:3094784-3095161"
        ],
        [
         "50",
         "Ncor2",
         "chr1:3094854-3095103"
        ],
        [
         "63",
         "Ncor2",
         "chr1:3113649-3113870"
        ],
        [
         "96",
         "Ncor2",
         "chr1:3120165-3120649"
        ],
        [
         "114",
         "Hoxa13",
         "chr1:3139162-3139303"
        ],
        [
         "126",
         "Ptf1a",
         "chr1:3139200-3139307"
        ],
        [
         "128",
         "Hoxa13",
         "chr1:3151585-3152119"
        ],
        [
         "141",
         "Epitope",
         "chr1:3191769-3191996"
        ],
        [
         "145",
         "Epitope",
         "chr1:3196231-3196380"
        ],
        [
         "148",
         "Ncor2",
         "chr1:3198099-3198727"
        ],
        [
         "174",
         "Kdm6b",
         "chr1:3292591-3292851"
        ],
        [
         "238",
         "Tcf7l2",
         "chr1:3400037-3400283"
        ],
        [
         "257",
         "Epitope",
         "chr1:3433833-3434227"
        ],
        [
         "272",
         "Six2",
         "chr1:3433940-3434089"
        ],
        [
         "288",
         "Kdm5c",
         "chr1:3452506-3452596"
        ],
        [
         "289",
         "Kdm5c",
         "chr1:3452506-3452596"
        ],
        [
         "311",
         "Hnf4a",
         "chr1:3514981-3515170"
        ],
        [
         "324",
         "Ctcf",
         "chr1:3549395-3549689"
        ],
        [
         "398",
         "Rnf2",
         "chr1:3670760-3672088"
        ],
        [
         "447",
         "Pbx1",
         "chr1:3671577-3672040"
        ],
        [
         "448",
         "Smad1",
         "chr1:3671618-3671797"
        ],
        [
         "468",
         "Ncor2",
         "chr1:3671700-3671976"
        ],
        [
         "471",
         "Prdm13",
         "chr1:3671739-3671943"
        ],
        [
         "480",
         "Smad1",
         "chr1:3671886-3672144"
        ],
        [
         "481",
         "Nr2f2",
         "chr1:3671893-3672090"
        ],
        [
         "490",
         "Smarca4",
         "chr1:3673075-3673157"
        ],
        [
         "494",
         "Hmga2",
         "chr1:3706543-3706864"
        ],
        [
         "509",
         "Smad4",
         "chr1:3771958-3772208"
        ],
        [
         "517",
         "Tcf3",
         "chr1:3822702-3822753"
        ],
        [
         "550",
         "Ncor2",
         "chr1:3900406-3900642"
        ],
        [
         "584",
         "Tal1",
         "chr1:3955296-3955384"
        ],
        [
         "593",
         "Twist1",
         "chr1:3996922-3997199"
        ],
        [
         "612",
         "Smad4",
         "chr1:4085073-4085778"
        ],
        [
         "620",
         "Hmga2",
         "chr1:4100636-4100829"
        ],
        [
         "629",
         "Smad4",
         "chr1:4132254-4132472"
        ],
        [
         "657",
         "Ctcf",
         "chr1:4142579-4142831"
        ],
        [
         "683",
         "Ctcf",
         "chr1:4142646-4142878"
        ],
        [
         "686",
         "Ctcf",
         "chr1:4142658-4142818"
        ],
        [
         "762",
         "Hmga2",
         "chr1:4231077-4231875"
        ],
        [
         "768",
         "Epitope",
         "chr1:4249787-4249921"
        ],
        [
         "776",
         "Smarca4",
         "chr1:4249862-4249917"
        ],
        [
         "780",
         "Epitope",
         "chr1:4257754-4257881"
        ],
        [
         "807",
         "Isl1",
         "chr1:4285048-4285104"
        ],
        [
         "814",
         "Hmga2",
         "chr1:4311950-4312258"
        ],
        [
         "820",
         "Isl1",
         "chr1:4329619-4329675"
        ],
        [
         "833",
         "Ctcf",
         "chr1:4332439-4332902"
        ],
        [
         "885",
         "Ctcf",
         "chr1:4332543-4332760"
        ],
        [
         "897",
         "Ctcf",
         "chr1:4332555-4332834"
        ],
        [
         "907",
         "Rad21",
         "chr1:4332565-4332767"
        ]
       ],
       "shape": {
        "columns": 2,
        "rows": 400246
       }
      },
      "text/html": [
       "<div>\n",
       "<style scoped>\n",
       "    .dataframe tbody tr th:only-of-type {\n",
       "        vertical-align: middle;\n",
       "    }\n",
       "\n",
       "    .dataframe tbody tr th {\n",
       "        vertical-align: top;\n",
       "    }\n",
       "\n",
       "    .dataframe thead th {\n",
       "        text-align: right;\n",
       "    }\n",
       "</style>\n",
       "<table border=\"1\" class=\"dataframe\">\n",
       "  <thead>\n",
       "    <tr style=\"text-align: right;\">\n",
       "      <th></th>\n",
       "      <th>gene_id</th>\n",
       "      <th>peak_id</th>\n",
       "    </tr>\n",
       "  </thead>\n",
       "  <tbody>\n",
       "    <tr>\n",
       "      <th>30</th>\n",
       "      <td>Cebpa</td>\n",
       "      <td>chr1:3059708-3059807</td>\n",
       "    </tr>\n",
       "    <tr>\n",
       "      <th>43</th>\n",
       "      <td>Ncor2</td>\n",
       "      <td>chr1:3094784-3095161</td>\n",
       "    </tr>\n",
       "    <tr>\n",
       "      <th>50</th>\n",
       "      <td>Ncor2</td>\n",
       "      <td>chr1:3094854-3095103</td>\n",
       "    </tr>\n",
       "    <tr>\n",
       "      <th>63</th>\n",
       "      <td>Ncor2</td>\n",
       "      <td>chr1:3113649-3113870</td>\n",
       "    </tr>\n",
       "    <tr>\n",
       "      <th>96</th>\n",
       "      <td>Ncor2</td>\n",
       "      <td>chr1:3120165-3120649</td>\n",
       "    </tr>\n",
       "    <tr>\n",
       "      <th>...</th>\n",
       "      <td>...</td>\n",
       "      <td>...</td>\n",
       "    </tr>\n",
       "    <tr>\n",
       "      <th>7624325</th>\n",
       "      <td>Rest</td>\n",
       "      <td>chrY_JH584301_random:56821-56874</td>\n",
       "    </tr>\n",
       "    <tr>\n",
       "      <th>7624328</th>\n",
       "      <td>Rest</td>\n",
       "      <td>chrY_JH584301_random:56826-56874</td>\n",
       "    </tr>\n",
       "    <tr>\n",
       "      <th>7624342</th>\n",
       "      <td>Epitope</td>\n",
       "      <td>chrY_JH584301_random:130529-130620</td>\n",
       "    </tr>\n",
       "    <tr>\n",
       "      <th>7624360</th>\n",
       "      <td>Atrx</td>\n",
       "      <td>chrY_JH584301_random:206615-206677</td>\n",
       "    </tr>\n",
       "    <tr>\n",
       "      <th>7624374</th>\n",
       "      <td>Rest</td>\n",
       "      <td>chrY_JH584302_random:139711-139760</td>\n",
       "    </tr>\n",
       "  </tbody>\n",
       "</table>\n",
       "<p>400246 rows × 2 columns</p>\n",
       "</div>"
      ],
      "text/plain": [
       "         gene_id                             peak_id\n",
       "30         Cebpa                chr1:3059708-3059807\n",
       "43         Ncor2                chr1:3094784-3095161\n",
       "50         Ncor2                chr1:3094854-3095103\n",
       "63         Ncor2                chr1:3113649-3113870\n",
       "96         Ncor2                chr1:3120165-3120649\n",
       "...          ...                                 ...\n",
       "7624325     Rest    chrY_JH584301_random:56821-56874\n",
       "7624328     Rest    chrY_JH584301_random:56826-56874\n",
       "7624342  Epitope  chrY_JH584301_random:130529-130620\n",
       "7624360     Atrx  chrY_JH584301_random:206615-206677\n",
       "7624374     Rest  chrY_JH584302_random:139711-139760\n",
       "\n",
       "[400246 rows x 2 columns]"
      ]
     },
     "execution_count": 126,
     "metadata": {},
     "output_type": "execute_result"
    }
   ],
   "source": [
    "peak_bed_sub"
   ]
  },
  {
   "cell_type": "code",
   "execution_count": null,
   "metadata": {},
   "outputs": [],
   "source": [
    "merged_df = pd.merge(peak_bed_sub, sliding_window_df, on=\"peak_id\", how=\"inner\")"
   ]
  },
  {
   "cell_type": "code",
   "execution_count": null,
   "metadata": {},
   "outputs": [
    {
     "data": {
      "application/vnd.microsoft.datawrangler.viewer.v0+json": {
       "columns": [
        {
         "name": "index",
         "rawType": "int64",
         "type": "integer"
        },
        {
         "name": "gene_id",
         "rawType": "object",
         "type": "string"
        },
        {
         "name": "peak_id",
         "rawType": "object",
         "type": "string"
        },
        {
         "name": "source_id",
         "rawType": "string",
         "type": "string"
        },
        {
         "name": "sliding_window_score",
         "rawType": "float64",
         "type": "float"
        }
       ],
       "ref": "719a0701-d8a1-4e6d-b3b4-f072b292f95b",
       "rows": [
        [
         "0",
         "Cebpa",
         "chr1:3059708-3059807",
         "Arid5a",
         "0.17238591156130945"
        ],
        [
         "1",
         "Cebpa",
         "chr1:3059708-3059807",
         "Ebf4",
         "0.0"
        ],
        [
         "2",
         "Cebpa",
         "chr1:3059708-3059807",
         "Egr1",
         "0.21833520466210007"
        ],
        [
         "3",
         "Cebpa",
         "chr1:3059708-3059807",
         "Elf2",
         "0.23655181758874888"
        ],
        [
         "4",
         "Cebpa",
         "chr1:3059708-3059807",
         "Emx2",
         "0.1647898249718065"
        ],
        [
         "5",
         "Cebpa",
         "chr1:3059708-3059807",
         "Foxj3",
         "0.11959787544135035"
        ],
        [
         "6",
         "Cebpa",
         "chr1:3059708-3059807",
         "Foxl1",
         "0.173960953306971"
        ],
        [
         "7",
         "Cebpa",
         "chr1:3059708-3059807",
         "Atf6",
         "0.15641022571988475"
        ],
        [
         "8",
         "Cebpa",
         "chr1:3059708-3059807",
         "Atf6b",
         "0.15641022571988475"
        ],
        [
         "9",
         "Cebpa",
         "chr1:3059708-3059807",
         "Atoh7",
         "0.16128762255839812"
        ],
        [
         "10",
         "Cebpa",
         "chr1:3059708-3059807",
         "Hoxd3",
         "0.15009177009458377"
        ],
        [
         "11",
         "Cebpa",
         "chr1:3059708-3059807",
         "Hoxd9",
         "0.1513283704191662"
        ],
        [
         "12",
         "Cebpa",
         "chr1:3059708-3059807",
         "Hoxd11",
         "0.1624163903520742"
        ],
        [
         "13",
         "Cebpa",
         "chr1:3059708-3059807",
         "Lhx3",
         "0.16325060072028785"
        ],
        [
         "14",
         "Cebpa",
         "chr1:3059708-3059807",
         "Lin54",
         "0.19227690883958476"
        ],
        [
         "15",
         "Cebpa",
         "chr1:3059708-3059807",
         "Neurod2",
         "0.1571828079446495"
        ],
        [
         "16",
         "Cebpa",
         "chr1:3059708-3059807",
         "Nfat5",
         "0.1621941597127125"
        ],
        [
         "17",
         "Cebpa",
         "chr1:3059708-3059807",
         "Nfib",
         "0.14534149341405084"
        ],
        [
         "18",
         "Cebpa",
         "chr1:3059708-3059807",
         "Nkx2-9",
         "0.18667452325680803"
        ],
        [
         "19",
         "Cebpa",
         "chr1:3059708-3059807",
         "Alx4",
         "0.14291059631700415"
        ],
        [
         "20",
         "Cebpa",
         "chr1:3059708-3059807",
         "Cdx2",
         "0.16914837783922332"
        ],
        [
         "21",
         "Cebpa",
         "chr1:3059708-3059807",
         "Pitx1",
         "0.16247765318760207"
        ],
        [
         "22",
         "Cebpa",
         "chr1:3059708-3059807",
         "Pitx2",
         "0.13447353373212662"
        ],
        [
         "23",
         "Cebpa",
         "chr1:3059708-3059807",
         "Cebpb",
         "0.17569141452056874"
        ],
        [
         "24",
         "Cebpa",
         "chr1:3059708-3059807",
         "Rfx3",
         "0.1822239118876552"
        ],
        [
         "25",
         "Cebpa",
         "chr1:3059708-3059807",
         "Scrt1",
         "0.20319318709248987"
        ],
        [
         "26",
         "Cebpa",
         "chr1:3059708-3059807",
         "Scrt2",
         "0.20319318709248987"
        ],
        [
         "27",
         "Cebpa",
         "chr1:3059708-3059807",
         "T",
         "0.3423525534088425"
        ],
        [
         "28",
         "Cebpa",
         "chr1:3059708-3059807",
         "Tbx19",
         "0.3423525534088425"
        ],
        [
         "29",
         "Cebpa",
         "chr1:3059708-3059807",
         "Crx",
         "0.14935510237465222"
        ],
        [
         "30",
         "Cebpa",
         "chr1:3059708-3059807",
         "Vdr",
         "0.26090218812110655"
        ],
        [
         "31",
         "Cebpa",
         "chr1:3059708-3059807",
         "Zbtb18",
         "0.0"
        ],
        [
         "32",
         "Cebpa",
         "chr1:3059708-3059807",
         "Arid3a",
         "0.08278281324255413"
        ],
        [
         "33",
         "Cebpa",
         "chr1:3059708-3059807",
         "Zfp182",
         "0.0"
        ],
        [
         "34",
         "Cebpa",
         "chr1:3059708-3059807",
         "Zfp282",
         "0.08447129806385653"
        ],
        [
         "35",
         "Cebpa",
         "chr1:3059708-3059807",
         "Zfp653",
         "0.3637050990072558"
        ],
        [
         "36",
         "Cebpa",
         "chr1:3059708-3059807",
         "Zfp692",
         "0.20518317522554372"
        ],
        [
         "37",
         "Cebpa",
         "chr1:3059708-3059807",
         "Zfp787",
         "0.30010778036458596"
        ],
        [
         "38",
         "Ncor2",
         "chr1:3094784-3095161",
         "Arid5a",
         "0.6147296036219958"
        ],
        [
         "39",
         "Ncor2",
         "chr1:3094784-3095161",
         "Ebf4",
         "0.0"
        ],
        [
         "40",
         "Ncor2",
         "chr1:3094784-3095161",
         "Egr1",
         "0.6832921928477474"
        ],
        [
         "41",
         "Ncor2",
         "chr1:3094784-3095161",
         "Elf2",
         "0.7652803426209237"
        ],
        [
         "42",
         "Ncor2",
         "chr1:3094784-3095161",
         "Emx2",
         "0.5710983274957929"
        ],
        [
         "43",
         "Ncor2",
         "chr1:3094784-3095161",
         "Foxj3",
         "0.4378369769623927"
        ],
        [
         "44",
         "Ncor2",
         "chr1:3094784-3095161",
         "Foxl1",
         "0.605870284744647"
        ],
        [
         "45",
         "Ncor2",
         "chr1:3094784-3095161",
         "Atf6",
         "0.5286358968931439"
        ],
        [
         "46",
         "Ncor2",
         "chr1:3094784-3095161",
         "Atf6b",
         "0.5286358968931439"
        ],
        [
         "47",
         "Ncor2",
         "chr1:3094784-3095161",
         "Atoh7",
         "0.547925452937556"
        ],
        [
         "48",
         "Ncor2",
         "chr1:3094784-3095161",
         "Hoxd3",
         "0.5228474082127216"
        ],
        [
         "49",
         "Ncor2",
         "chr1:3094784-3095161",
         "Hoxd9",
         "0.5322517402374091"
        ]
       ],
       "shape": {
        "columns": 4,
        "rows": 21845747
       }
      },
      "text/html": [
       "<div>\n",
       "<style scoped>\n",
       "    .dataframe tbody tr th:only-of-type {\n",
       "        vertical-align: middle;\n",
       "    }\n",
       "\n",
       "    .dataframe tbody tr th {\n",
       "        vertical-align: top;\n",
       "    }\n",
       "\n",
       "    .dataframe thead th {\n",
       "        text-align: right;\n",
       "    }\n",
       "</style>\n",
       "<table border=\"1\" class=\"dataframe\">\n",
       "  <thead>\n",
       "    <tr style=\"text-align: right;\">\n",
       "      <th></th>\n",
       "      <th>gene_id</th>\n",
       "      <th>peak_id</th>\n",
       "      <th>source_id</th>\n",
       "      <th>sliding_window_score</th>\n",
       "    </tr>\n",
       "  </thead>\n",
       "  <tbody>\n",
       "    <tr>\n",
       "      <th>0</th>\n",
       "      <td>Cebpa</td>\n",
       "      <td>chr1:3059708-3059807</td>\n",
       "      <td>Arid5a</td>\n",
       "      <td>0.172386</td>\n",
       "    </tr>\n",
       "    <tr>\n",
       "      <th>1</th>\n",
       "      <td>Cebpa</td>\n",
       "      <td>chr1:3059708-3059807</td>\n",
       "      <td>Ebf4</td>\n",
       "      <td>0.000000</td>\n",
       "    </tr>\n",
       "    <tr>\n",
       "      <th>2</th>\n",
       "      <td>Cebpa</td>\n",
       "      <td>chr1:3059708-3059807</td>\n",
       "      <td>Egr1</td>\n",
       "      <td>0.218335</td>\n",
       "    </tr>\n",
       "    <tr>\n",
       "      <th>3</th>\n",
       "      <td>Cebpa</td>\n",
       "      <td>chr1:3059708-3059807</td>\n",
       "      <td>Elf2</td>\n",
       "      <td>0.236552</td>\n",
       "    </tr>\n",
       "    <tr>\n",
       "      <th>4</th>\n",
       "      <td>Cebpa</td>\n",
       "      <td>chr1:3059708-3059807</td>\n",
       "      <td>Emx2</td>\n",
       "      <td>0.164790</td>\n",
       "    </tr>\n",
       "    <tr>\n",
       "      <th>...</th>\n",
       "      <td>...</td>\n",
       "      <td>...</td>\n",
       "      <td>...</td>\n",
       "      <td>...</td>\n",
       "    </tr>\n",
       "    <tr>\n",
       "      <th>21845742</th>\n",
       "      <td>Rest</td>\n",
       "      <td>chrY_JH584302_random:139711-139760</td>\n",
       "      <td>Zfp182</td>\n",
       "      <td>0.000000</td>\n",
       "    </tr>\n",
       "    <tr>\n",
       "      <th>21845743</th>\n",
       "      <td>Rest</td>\n",
       "      <td>chrY_JH584302_random:139711-139760</td>\n",
       "      <td>Zfp282</td>\n",
       "      <td>0.041938</td>\n",
       "    </tr>\n",
       "    <tr>\n",
       "      <th>21845744</th>\n",
       "      <td>Rest</td>\n",
       "      <td>chrY_JH584302_random:139711-139760</td>\n",
       "      <td>Zfp653</td>\n",
       "      <td>0.166139</td>\n",
       "    </tr>\n",
       "    <tr>\n",
       "      <th>21845745</th>\n",
       "      <td>Rest</td>\n",
       "      <td>chrY_JH584302_random:139711-139760</td>\n",
       "      <td>Zfp692</td>\n",
       "      <td>0.100401</td>\n",
       "    </tr>\n",
       "    <tr>\n",
       "      <th>21845746</th>\n",
       "      <td>Rest</td>\n",
       "      <td>chrY_JH584302_random:139711-139760</td>\n",
       "      <td>Zfp787</td>\n",
       "      <td>0.141668</td>\n",
       "    </tr>\n",
       "  </tbody>\n",
       "</table>\n",
       "<p>21845747 rows × 4 columns</p>\n",
       "</div>"
      ],
      "text/plain": [
       "         gene_id                             peak_id source_id  \\\n",
       "0          Cebpa                chr1:3059708-3059807    Arid5a   \n",
       "1          Cebpa                chr1:3059708-3059807      Ebf4   \n",
       "2          Cebpa                chr1:3059708-3059807      Egr1   \n",
       "3          Cebpa                chr1:3059708-3059807      Elf2   \n",
       "4          Cebpa                chr1:3059708-3059807      Emx2   \n",
       "...          ...                                 ...       ...   \n",
       "21845742    Rest  chrY_JH584302_random:139711-139760    Zfp182   \n",
       "21845743    Rest  chrY_JH584302_random:139711-139760    Zfp282   \n",
       "21845744    Rest  chrY_JH584302_random:139711-139760    Zfp653   \n",
       "21845745    Rest  chrY_JH584302_random:139711-139760    Zfp692   \n",
       "21845746    Rest  chrY_JH584302_random:139711-139760    Zfp787   \n",
       "\n",
       "          sliding_window_score  \n",
       "0                     0.172386  \n",
       "1                     0.000000  \n",
       "2                     0.218335  \n",
       "3                     0.236552  \n",
       "4                     0.164790  \n",
       "...                        ...  \n",
       "21845742              0.000000  \n",
       "21845743              0.041938  \n",
       "21845744              0.166139  \n",
       "21845745              0.100401  \n",
       "21845746              0.141668  \n",
       "\n",
       "[21845747 rows x 4 columns]"
      ]
     },
     "execution_count": 128,
     "metadata": {},
     "output_type": "execute_result"
    }
   ],
   "source": [
    "merged_df"
   ]
  },
  {
   "cell_type": "code",
   "execution_count": null,
   "metadata": {},
   "outputs": [],
   "source": [
    "merged_df = merged_df.rename(columns={\"gene_id\": \"chip_gene\", \"source_id\": \"sliding_window_gene\"})"
   ]
  },
  {
   "cell_type": "code",
   "execution_count": null,
   "metadata": {},
   "outputs": [],
   "source": [
    "merged_df = merged_df[[\"chip_gene\", \"sliding_window_gene\", \"peak_id\", \"sliding_window_score\"]]"
   ]
  },
  {
   "cell_type": "code",
   "execution_count": null,
   "metadata": {},
   "outputs": [
    {
     "data": {
      "application/vnd.microsoft.datawrangler.viewer.v0+json": {
       "columns": [
        {
         "name": "index",
         "rawType": "int64",
         "type": "integer"
        },
        {
         "name": "chip_gene",
         "rawType": "object",
         "type": "string"
        },
        {
         "name": "sliding_window_gene",
         "rawType": "string",
         "type": "string"
        },
        {
         "name": "peak_id",
         "rawType": "object",
         "type": "string"
        },
        {
         "name": "sliding_window_score",
         "rawType": "float64",
         "type": "float"
        }
       ],
       "ref": "862ac599-c8e0-4afe-b63d-a906be08c5b7",
       "rows": [
        [
         "0",
         "Cebpa",
         "Arid5a",
         "chr1:3059708-3059807",
         "0.17238591156130945"
        ],
        [
         "1",
         "Cebpa",
         "Ebf4",
         "chr1:3059708-3059807",
         "0.0"
        ],
        [
         "2",
         "Cebpa",
         "Egr1",
         "chr1:3059708-3059807",
         "0.21833520466210007"
        ],
        [
         "3",
         "Cebpa",
         "Elf2",
         "chr1:3059708-3059807",
         "0.23655181758874888"
        ],
        [
         "4",
         "Cebpa",
         "Emx2",
         "chr1:3059708-3059807",
         "0.1647898249718065"
        ],
        [
         "5",
         "Cebpa",
         "Foxj3",
         "chr1:3059708-3059807",
         "0.11959787544135035"
        ],
        [
         "6",
         "Cebpa",
         "Foxl1",
         "chr1:3059708-3059807",
         "0.173960953306971"
        ],
        [
         "7",
         "Cebpa",
         "Atf6",
         "chr1:3059708-3059807",
         "0.15641022571988475"
        ],
        [
         "8",
         "Cebpa",
         "Atf6b",
         "chr1:3059708-3059807",
         "0.15641022571988475"
        ],
        [
         "9",
         "Cebpa",
         "Atoh7",
         "chr1:3059708-3059807",
         "0.16128762255839812"
        ],
        [
         "10",
         "Cebpa",
         "Hoxd3",
         "chr1:3059708-3059807",
         "0.15009177009458377"
        ],
        [
         "11",
         "Cebpa",
         "Hoxd9",
         "chr1:3059708-3059807",
         "0.1513283704191662"
        ],
        [
         "12",
         "Cebpa",
         "Hoxd11",
         "chr1:3059708-3059807",
         "0.1624163903520742"
        ],
        [
         "13",
         "Cebpa",
         "Lhx3",
         "chr1:3059708-3059807",
         "0.16325060072028785"
        ],
        [
         "14",
         "Cebpa",
         "Lin54",
         "chr1:3059708-3059807",
         "0.19227690883958476"
        ],
        [
         "15",
         "Cebpa",
         "Neurod2",
         "chr1:3059708-3059807",
         "0.1571828079446495"
        ],
        [
         "16",
         "Cebpa",
         "Nfat5",
         "chr1:3059708-3059807",
         "0.1621941597127125"
        ],
        [
         "17",
         "Cebpa",
         "Nfib",
         "chr1:3059708-3059807",
         "0.14534149341405084"
        ],
        [
         "18",
         "Cebpa",
         "Nkx2-9",
         "chr1:3059708-3059807",
         "0.18667452325680803"
        ],
        [
         "19",
         "Cebpa",
         "Alx4",
         "chr1:3059708-3059807",
         "0.14291059631700415"
        ],
        [
         "20",
         "Cebpa",
         "Cdx2",
         "chr1:3059708-3059807",
         "0.16914837783922332"
        ],
        [
         "21",
         "Cebpa",
         "Pitx1",
         "chr1:3059708-3059807",
         "0.16247765318760207"
        ],
        [
         "22",
         "Cebpa",
         "Pitx2",
         "chr1:3059708-3059807",
         "0.13447353373212662"
        ],
        [
         "23",
         "Cebpa",
         "Cebpb",
         "chr1:3059708-3059807",
         "0.17569141452056874"
        ],
        [
         "24",
         "Cebpa",
         "Rfx3",
         "chr1:3059708-3059807",
         "0.1822239118876552"
        ],
        [
         "25",
         "Cebpa",
         "Scrt1",
         "chr1:3059708-3059807",
         "0.20319318709248987"
        ],
        [
         "26",
         "Cebpa",
         "Scrt2",
         "chr1:3059708-3059807",
         "0.20319318709248987"
        ],
        [
         "27",
         "Cebpa",
         "T",
         "chr1:3059708-3059807",
         "0.3423525534088425"
        ],
        [
         "28",
         "Cebpa",
         "Tbx19",
         "chr1:3059708-3059807",
         "0.3423525534088425"
        ],
        [
         "29",
         "Cebpa",
         "Crx",
         "chr1:3059708-3059807",
         "0.14935510237465222"
        ],
        [
         "30",
         "Cebpa",
         "Vdr",
         "chr1:3059708-3059807",
         "0.26090218812110655"
        ],
        [
         "31",
         "Cebpa",
         "Zbtb18",
         "chr1:3059708-3059807",
         "0.0"
        ],
        [
         "32",
         "Cebpa",
         "Arid3a",
         "chr1:3059708-3059807",
         "0.08278281324255413"
        ],
        [
         "33",
         "Cebpa",
         "Zfp182",
         "chr1:3059708-3059807",
         "0.0"
        ],
        [
         "34",
         "Cebpa",
         "Zfp282",
         "chr1:3059708-3059807",
         "0.08447129806385653"
        ],
        [
         "35",
         "Cebpa",
         "Zfp653",
         "chr1:3059708-3059807",
         "0.3637050990072558"
        ],
        [
         "36",
         "Cebpa",
         "Zfp692",
         "chr1:3059708-3059807",
         "0.20518317522554372"
        ],
        [
         "37",
         "Cebpa",
         "Zfp787",
         "chr1:3059708-3059807",
         "0.30010778036458596"
        ],
        [
         "38",
         "Ncor2",
         "Arid5a",
         "chr1:3094784-3095161",
         "0.6147296036219958"
        ],
        [
         "39",
         "Ncor2",
         "Ebf4",
         "chr1:3094784-3095161",
         "0.0"
        ],
        [
         "40",
         "Ncor2",
         "Egr1",
         "chr1:3094784-3095161",
         "0.6832921928477474"
        ],
        [
         "41",
         "Ncor2",
         "Elf2",
         "chr1:3094784-3095161",
         "0.7652803426209237"
        ],
        [
         "42",
         "Ncor2",
         "Emx2",
         "chr1:3094784-3095161",
         "0.5710983274957929"
        ],
        [
         "43",
         "Ncor2",
         "Foxj3",
         "chr1:3094784-3095161",
         "0.4378369769623927"
        ],
        [
         "44",
         "Ncor2",
         "Foxl1",
         "chr1:3094784-3095161",
         "0.605870284744647"
        ],
        [
         "45",
         "Ncor2",
         "Atf6",
         "chr1:3094784-3095161",
         "0.5286358968931439"
        ],
        [
         "46",
         "Ncor2",
         "Atf6b",
         "chr1:3094784-3095161",
         "0.5286358968931439"
        ],
        [
         "47",
         "Ncor2",
         "Atoh7",
         "chr1:3094784-3095161",
         "0.547925452937556"
        ],
        [
         "48",
         "Ncor2",
         "Hoxd3",
         "chr1:3094784-3095161",
         "0.5228474082127216"
        ],
        [
         "49",
         "Ncor2",
         "Hoxd9",
         "chr1:3094784-3095161",
         "0.5322517402374091"
        ]
       ],
       "shape": {
        "columns": 4,
        "rows": 21845747
       }
      },
      "text/html": [
       "<div>\n",
       "<style scoped>\n",
       "    .dataframe tbody tr th:only-of-type {\n",
       "        vertical-align: middle;\n",
       "    }\n",
       "\n",
       "    .dataframe tbody tr th {\n",
       "        vertical-align: top;\n",
       "    }\n",
       "\n",
       "    .dataframe thead th {\n",
       "        text-align: right;\n",
       "    }\n",
       "</style>\n",
       "<table border=\"1\" class=\"dataframe\">\n",
       "  <thead>\n",
       "    <tr style=\"text-align: right;\">\n",
       "      <th></th>\n",
       "      <th>chip_gene</th>\n",
       "      <th>sliding_window_gene</th>\n",
       "      <th>peak_id</th>\n",
       "      <th>sliding_window_score</th>\n",
       "    </tr>\n",
       "  </thead>\n",
       "  <tbody>\n",
       "    <tr>\n",
       "      <th>0</th>\n",
       "      <td>Cebpa</td>\n",
       "      <td>Arid5a</td>\n",
       "      <td>chr1:3059708-3059807</td>\n",
       "      <td>0.172386</td>\n",
       "    </tr>\n",
       "    <tr>\n",
       "      <th>1</th>\n",
       "      <td>Cebpa</td>\n",
       "      <td>Ebf4</td>\n",
       "      <td>chr1:3059708-3059807</td>\n",
       "      <td>0.000000</td>\n",
       "    </tr>\n",
       "    <tr>\n",
       "      <th>2</th>\n",
       "      <td>Cebpa</td>\n",
       "      <td>Egr1</td>\n",
       "      <td>chr1:3059708-3059807</td>\n",
       "      <td>0.218335</td>\n",
       "    </tr>\n",
       "    <tr>\n",
       "      <th>3</th>\n",
       "      <td>Cebpa</td>\n",
       "      <td>Elf2</td>\n",
       "      <td>chr1:3059708-3059807</td>\n",
       "      <td>0.236552</td>\n",
       "    </tr>\n",
       "    <tr>\n",
       "      <th>4</th>\n",
       "      <td>Cebpa</td>\n",
       "      <td>Emx2</td>\n",
       "      <td>chr1:3059708-3059807</td>\n",
       "      <td>0.164790</td>\n",
       "    </tr>\n",
       "    <tr>\n",
       "      <th>...</th>\n",
       "      <td>...</td>\n",
       "      <td>...</td>\n",
       "      <td>...</td>\n",
       "      <td>...</td>\n",
       "    </tr>\n",
       "    <tr>\n",
       "      <th>21845742</th>\n",
       "      <td>Rest</td>\n",
       "      <td>Zfp182</td>\n",
       "      <td>chrY_JH584302_random:139711-139760</td>\n",
       "      <td>0.000000</td>\n",
       "    </tr>\n",
       "    <tr>\n",
       "      <th>21845743</th>\n",
       "      <td>Rest</td>\n",
       "      <td>Zfp282</td>\n",
       "      <td>chrY_JH584302_random:139711-139760</td>\n",
       "      <td>0.041938</td>\n",
       "    </tr>\n",
       "    <tr>\n",
       "      <th>21845744</th>\n",
       "      <td>Rest</td>\n",
       "      <td>Zfp653</td>\n",
       "      <td>chrY_JH584302_random:139711-139760</td>\n",
       "      <td>0.166139</td>\n",
       "    </tr>\n",
       "    <tr>\n",
       "      <th>21845745</th>\n",
       "      <td>Rest</td>\n",
       "      <td>Zfp692</td>\n",
       "      <td>chrY_JH584302_random:139711-139760</td>\n",
       "      <td>0.100401</td>\n",
       "    </tr>\n",
       "    <tr>\n",
       "      <th>21845746</th>\n",
       "      <td>Rest</td>\n",
       "      <td>Zfp787</td>\n",
       "      <td>chrY_JH584302_random:139711-139760</td>\n",
       "      <td>0.141668</td>\n",
       "    </tr>\n",
       "  </tbody>\n",
       "</table>\n",
       "<p>21845747 rows × 4 columns</p>\n",
       "</div>"
      ],
      "text/plain": [
       "         chip_gene sliding_window_gene                             peak_id  \\\n",
       "0            Cebpa              Arid5a                chr1:3059708-3059807   \n",
       "1            Cebpa                Ebf4                chr1:3059708-3059807   \n",
       "2            Cebpa                Egr1                chr1:3059708-3059807   \n",
       "3            Cebpa                Elf2                chr1:3059708-3059807   \n",
       "4            Cebpa                Emx2                chr1:3059708-3059807   \n",
       "...            ...                 ...                                 ...   \n",
       "21845742      Rest              Zfp182  chrY_JH584302_random:139711-139760   \n",
       "21845743      Rest              Zfp282  chrY_JH584302_random:139711-139760   \n",
       "21845744      Rest              Zfp653  chrY_JH584302_random:139711-139760   \n",
       "21845745      Rest              Zfp692  chrY_JH584302_random:139711-139760   \n",
       "21845746      Rest              Zfp787  chrY_JH584302_random:139711-139760   \n",
       "\n",
       "          sliding_window_score  \n",
       "0                     0.172386  \n",
       "1                     0.000000  \n",
       "2                     0.218335  \n",
       "3                     0.236552  \n",
       "4                     0.164790  \n",
       "...                        ...  \n",
       "21845742              0.000000  \n",
       "21845743              0.041938  \n",
       "21845744              0.166139  \n",
       "21845745              0.100401  \n",
       "21845746              0.141668  \n",
       "\n",
       "[21845747 rows x 4 columns]"
      ]
     },
     "execution_count": 131,
     "metadata": {},
     "output_type": "execute_result"
    }
   ],
   "source": [
    "merged_df"
   ]
  },
  {
   "cell_type": "code",
   "execution_count": null,
   "metadata": {},
   "outputs": [],
   "source": [
    "merged_df.to_csv(\"chipseq_sliding_window_merged.csv\", header=True, index=False)"
   ]
  },
  {
   "cell_type": "code",
   "execution_count": null,
   "metadata": {},
   "outputs": [],
   "source": [
    "import pandas as pd\n",
    "import seaborn as sns\n",
    "import matplotlib.pyplot as plt"
   ]
  },
  {
   "cell_type": "code",
   "execution_count": null,
   "metadata": {},
   "outputs": [],
   "source": [
    "df = pd.read_csv(\"chipseq_sliding_window_merged.csv\", header=0, index_col=None)"
   ]
  },
  {
   "cell_type": "code",
   "execution_count": null,
   "metadata": {},
   "outputs": [],
   "source": [
    "correct_predictions = df[df[\"chip_gene\"] == df[\"sliding_window_gene\"]]\n",
    "incorrect_predictions = df[df[\"chip_gene\"] != df[\"sliding_window_gene\"]]"
   ]
  },
  {
   "cell_type": "code",
   "execution_count": null,
   "metadata": {},
   "outputs": [],
   "source": [
    "correct_prediction_scores = correct_predictions[\"sliding_window_score\"].sample(min(len(correct_predictions), len(incorrect_predictions)))\n",
    "incorrect_prediction_scores = incorrect_predictions[\"sliding_window_score\"].sample(min(len(correct_predictions), len(incorrect_predictions)))"
   ]
  },
  {
   "cell_type": "code",
   "execution_count": null,
   "metadata": {},
   "outputs": [],
   "source": [
    "correct_prediction_scores = correct_prediction_scores.rename(\"Correct Predictions\")\n",
    "incorrect_prediction_scores = incorrect_prediction_scores.rename(\"Inorrect Predictions\")"
   ]
  },
  {
   "cell_type": "code",
   "execution_count": null,
   "metadata": {},
   "outputs": [],
   "source": [
    "correct_prediction_scores = correct_prediction_scores.reset_index(drop=True)\n",
    "incorrect_prediction_scores = incorrect_prediction_scores.reset_index(drop=True)"
   ]
  },
  {
   "cell_type": "code",
   "execution_count": null,
   "metadata": {},
   "outputs": [],
   "source": [
    "pred_df = pd.merge(correct_prediction_scores, incorrect_prediction_scores, left_index=True, right_index=True)"
   ]
  },
  {
   "cell_type": "code",
   "execution_count": null,
   "metadata": {},
   "outputs": [],
   "source": [
    "pred_df = pred_df.rename(columns={\"Inorrect Predictions\":\"Incorrect Predictions\"})"
   ]
  },
  {
   "cell_type": "code",
   "execution_count": null,
   "metadata": {},
   "outputs": [
    {
     "data": {
      "text/plain": [
       "Text(0.5, 1.0, 'Sliding Window Scores for ChIP-seq TF Binding Predictions')"
      ]
     },
     "execution_count": 22,
     "metadata": {},
     "output_type": "execute_result"
    },
    {
     "data": {
      "image/png": "[encoded data removed]",
      "text/plain": [
       "<Figure size 640x480 with 1 Axes>"
      ]
     },
     "metadata": {},
     "output_type": "display_data"
    }
   ],
   "source": [
    "fig = plt.Figure()\n",
    "a = sns.boxplot(data=pred_df)\n",
    "a.set_ylabel(\"Sliding Window Score\")\n",
    "a.set_title(\"Sliding Window Scores for ChIP-seq TF Binding Predictions\")"
   ]
  },
  {
   "cell_type": "code",
   "execution_count": null,
   "metadata": {},
   "outputs": [],
   "source": [
    "pred_df = pd.merge(correct_prediction_scores, incorrect_prediction_scores, left_index=True, right_index=True)"
   ]
  },
  {
   "cell_type": "code",
   "execution_count": null,
   "metadata": {},
   "outputs": [],
   "source": [
    "pred_df = pred_df.rename(columns={\"Inorrect Predictions\":\"Incorrect Predictions\"})"
   ]
  },
  {
   "cell_type": "code",
   "execution_count": null,
   "metadata": {},
   "outputs": [],
   "source": [
    "pred_df = pred_df.rename(columns={\n",
    "    \"Correct TF Binding\":\"Correct TF Binding Location\",\n",
    "    \"Incorrect TF Binding\":\"Incorrect TF Binding Location\"\n",
    "    })"
   ]
  },
  {
   "cell_type": "code",
   "execution_count": null,
   "metadata": {},
   "outputs": [],
   "source": [
    "fig.savefig(\"/gpfs/Labs/Uzun/SCRIPTS/PROJECTS/2024.SINGLE_CELL_GRN_INFERENCE.MOELLER/dev/notebooks/figures/chipseq_sliding_window_boxplot.png\", dpi=200)"
   ]
  }
 ],
 "metadata": {
  "language_info": {
   "codemirror_mode": {
    "name": "ipython",
    "version": 3
   },
   "file_extension": ".py",
   "mimetype": "text/x-python",
   "name": "python",
   "nbconvert_exporter": "python",
   "pygments_lexer": "ipython3",
   "version": 3
  }
 },
 "nbformat": 4,
 "nbformat_minor": 2
}
