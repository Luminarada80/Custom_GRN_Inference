{
 "cells": [
  {
   "cell_type": "markdown",
   "id": "bea27171",
   "metadata": {},
   "source": [
    "## Map the ChIP-Atlas TF-peak file to nearest TSS and see if it overlaps with the BEELINE ground truth\n",
    "\n",
    "The BEELINE paper says that it used TF-TG annotations from ChIP-Atlas for their mESC ChIP-seq dataset. However, they do not specify what files they downloaded or how they mapped peak to target genes. We are validating our TF-peak scoring methods using ChIP-seq TF-peak binding data from ChIP-Atlas, and want to see if the dataset we downloaded matches the BEELINE ground truth.\n",
    "\n",
    "### ChIP-Atlas data\n",
    "\n",
    "The ChIP-Atlas dataset we are using can be downloaded from:\n",
    "\n",
    "`wget https://chip-atlas.dbcls.jp/data/mm10/assembled/Oth.Emb.05.AllAg.AllCell.bed`\n",
    "\n",
    "This file corresponds to the following settings in the Peak Browser:\n",
    "- Species -> M. musculus (mm10)\n",
    "- Track type class -> ChIP: TFs and others\n",
    "- Cell type class -> Embryo\n",
    "- Threshold for Significance -> 50\n",
    "- Track type -> All\n",
    "- Cell type -> all\n",
    "\n",
    "### BEELINE Networks\n",
    "\n",
    "The BEELINE paper's supplementary table 4 contains information about the networks used for their ground truth. The mESC dataset contains the following entry:\n",
    "\n",
    "| Source | #TFs | #Genes (incl. TFs) | #Edges | Density | Gene expression dataset |\n",
    "|:------:|:----:|:------------------:|:------:|:-------:|:-----------------------:|\n",
    "|mESC, ESCAPE+ ChIP-Atlas | 247 | 25,703 | 6,348,394 | 0.154 | mESC, Hayashi et al.^{2} |\n",
    "\n",
    "2. Hayashi, T. et al. Single-cell full-length total RNA sequencing uncovers dynamics of recursive splicing and enhancer RNAs. Nat. Commun. 9, 619 (2018).\n",
    "\n",
    "I am also going to re-download the ground truth network from the BEELINE paper to ensure that our RN111 ground truth file and their file are the same.\n",
    "\n",
    "The `BEELINE-Networks.zip` file containing the `mESC-ChIP-seq-network.csv` file can be downloaded from `https://zenodo.org/records/3701939/files/BEELINE-Networks.zip?download=1`\n",
    "\n",
    "### Downloading the BEELINE ChIP-seq network for mESC"
   ]
  },
  {
   "cell_type": "code",
   "execution_count": null,
   "id": "25b40c91",
   "metadata": {
    "vscode": {
     "languageId": "shellscript"
    }
   },
   "outputs": [],
   "source": [
    "GROUND_TRUTH_DIR=\"/gpfs/Labs/Uzun/SCRIPTS/PROJECTS/2024.SINGLE_CELL_GRN_INFERENCE.MOELLER/ground_truth_files\"\n",
    "\n",
    "!wget \"https://zenodo.org/records/3701939/files/BEELINE-Networks.zip?download=1\" -O \"$GROUND_TRUTH_DIR/beeline_networks.zip\"\n",
    "!unzip \"$GROUND_TRUTH_DIR/beeline_networks.zip\" -d \"$GROUND_TRUTH_DIR/beeline_networks\"\n",
    "!mv \"$GROUND_TRUTH_DIR/beeline_networks/Networks/mouse/mESC-ChIP-seq-network.csv\" \"$GROUND_TRUTH_DIR/mESC_beeline_ChIP-seq.csv\"\n",
    "!rm -rf \"$GROUND_TRUTH_DIR/beeline_networks\"\n",
    "!rm \"$GROUND_TRUTH_DIR/beeline_networks.zip\""
   ]
  },
  {
   "cell_type": "code",
   "execution_count": null,
   "id": "7e6e9bef",
   "metadata": {},
   "outputs": [],
   "source": [
    "import os\n",
    "import pandas as pd\n",
    "import csv\n",
    "import pybedtools\n",
    "\n",
    "ground_truth_dir = \"/gpfs/Labs/Uzun/SCRIPTS/PROJECTS/2024.SINGLE_CELL_GRN_INFERENCE.MOELLER/ground_truth_files\"\n",
    "\n",
    "mesc_rn111_path = \"/gpfs/Labs/Uzun/DATA/PROJECTS/2024.SC_MO_TRN_DB.MIRA/REPOSITORY/CURRENT/REFERENCE_NETWORKS/RN111_ChIPSeq_BEELINE_Mouse_ESC.tsv\"\n",
    "chip_atlas_bed_file = os.path.join(ground_truth_dir, \"Oth.Emb.05.AllAg.AllCell.bed\")\n",
    "chip_atlas_path = os.path.join(ground_truth_dir, \"chipatlas_mESC.csv\")\n",
    "beeline_path = os.path.join(ground_truth_dir, \"mESC_beeline_ChIP-seq.csv\")"
   ]
  },
  {
   "cell_type": "markdown",
   "id": "dccbab46",
   "metadata": {},
   "source": [
    "## Comparing BEELINE to mESC RN111"
   ]
  },
  {
   "cell_type": "code",
   "execution_count": null,
   "id": "3169a13b",
   "metadata": {},
   "outputs": [],
   "source": [
    "mesc_rn111 = pd.read_csv(mesc_rn111_path, sep='\\t', quoting=csv.QUOTE_NONE, on_bad_lines='skip', header=0)\n",
    "mesc_rn111 = mesc_rn111.rename(columns={\"Source\": \"source_id\", \"Target\": \"target_id\"})\n",
    "mesc_rn111 = mesc_rn111[[\"source_id\", \"target_id\"]]\n",
    "mesc_rn111.head()"
   ]
  },
  {
   "cell_type": "code",
   "execution_count": null,
   "id": "10e44a29",
   "metadata": {},
   "outputs": [],
   "source": [
    "beeline = pd.read_csv(beeline_path)\n",
    "beeline = beeline.rename(columns={\"Gene1\": \"source_id\", \"Gene2\": \"target_id\"})\n",
    "beeline.head()"
   ]
  },
  {
   "cell_type": "code",
   "execution_count": null,
   "id": "0f673f0c",
   "metadata": {},
   "outputs": [],
   "source": [
    "merged_df = pd.merge(beeline, mesc_rn111, on=[\"source_id\", \"target_id\"], how=\"outer\", indicator=True)\n",
    "beeline_only = len(merged_df[merged_df[\"_merge\"] == \"left_only\"])\n",
    "rn111_only = len(merged_df[merged_df[\"_merge\"] == \"right_only\"])\n",
    "both = len(merged_df[merged_df[\"_merge\"] == \"both\"])\n",
    "print(f\"Edges only in BEELINE {beeline_only}\")\n",
    "print(f\"Edges only in RN111 {rn111_only}\")\n",
    "print(f\"Edges present in both {both}\")"
   ]
  },
  {
   "cell_type": "markdown",
   "id": "adc9b11d",
   "metadata": {},
   "source": [
    "7 of the edges were not found in both datasets. However, looking more closely this is because the BEELINE dataset had multiple gene names separated by a comma and they were mis-handled when the gene names were standardized"
   ]
  },
  {
   "cell_type": "code",
   "execution_count": null,
   "id": "f4edca9d",
   "metadata": {},
   "outputs": [],
   "source": [
    "merged_df[merged_df[\"_merge\"] == \"left_only\"]"
   ]
  },
  {
   "cell_type": "code",
   "execution_count": null,
   "id": "5d79e096",
   "metadata": {},
   "outputs": [],
   "source": [
    "merged_df[merged_df[\"_merge\"] == \"right_only\"]"
   ]
  },
  {
   "cell_type": "markdown",
   "id": "0698d6c6",
   "metadata": {},
   "source": [
    "All of edges are the same between BEELINE and RN111.\n",
    "\n",
    "## Comparing ChIP-Atlas to BEELINE"
   ]
  },
  {
   "cell_type": "markdown",
   "id": "64900890",
   "metadata": {},
   "source": [
    "First, we need to map the peaks in the ChIP-Atlas bed file to the nearest gene TSS for each peak.\n",
    "\n",
    "The mm10 tss_reference_file can be downloaded from here:\n",
    "\n",
    "[RefGenie mm10 TSS annotation file](http://awspds.refgenie.databio.org/refgenomes.databio.org/0f10d83b1050c08dd53189986f60970b92a315aa7a16a6f1/ensembl_gtf__default/0f10d83b1050c08dd53189986f60970b92a315aa7a16a6f1_ensembl_gene_body.bed)"
   ]
  },
  {
   "cell_type": "code",
   "execution_count": null,
   "id": "475bb9ed",
   "metadata": {},
   "outputs": [],
   "source": [
    "\n",
    "chip_bed = pybedtools.BedTool(chip_atlas_bed_file)\n",
    "tss_bed = pybedtools.BedTool(\"/gpfs/Labs/Uzun/SCRIPTS/PROJECTS/2024.SINGLE_CELL_GRN_INFERENCE.MOELLER/data/genome_annotation/mm10/mm10_TSS.bed\")\n",
    "chip_closest_tss = chip_bed.closest(tss_bed, d=True)"
   ]
  },
  {
   "cell_type": "markdown",
   "id": "63f7e2ba",
   "metadata": {},
   "source": [
    "We need to extract the TF name from the index and the TG name from the `tss_gene` column"
   ]
  },
  {
   "cell_type": "code",
   "execution_count": null,
   "id": "f3313f54",
   "metadata": {},
   "outputs": [],
   "source": [
    "raw_chip_closest_tss_df = chip_closest_tss.to_dataframe(\n",
    "    names=[\"peak_chr\", \"peak_start\", \"peak_end\", \"peak_gene\",\n",
    "           \"tss_chr\", \"tss_start\", \"tss_end\", \"tss_gene\", \"strand\", \"strand2\", \"distance\"]\n",
    ")\n",
    "\n",
    "raw_chip_closest_tss_df = raw_chip_closest_tss_df.reset_index()\n",
    "raw_chip_closest_tss_df[\"source_id\"] = (\n",
    "    raw_chip_closest_tss_df[\"level_3\"]\n",
    "    .str.extract(r'Name=([^%]+)')\n",
    ")"
   ]
  },
  {
   "cell_type": "code",
   "execution_count": null,
   "id": "ee5a8eba",
   "metadata": {},
   "outputs": [],
   "source": [
    "raw_chip_closest_tss_df[\"source_id\"] = raw_chip_closest_tss_df[\"source_id\"].str.upper()\n",
    "raw_chip_closest_tss_df[\"target_id\"] = raw_chip_closest_tss_df[\"tss_gene\"].str.upper()\n",
    "\n",
    "chip_closest_tss_df = raw_chip_closest_tss_df[[\"source_id\", \"target_id\"]]\n",
    "chip_closest_tss_df"
   ]
  },
  {
   "cell_type": "markdown",
   "id": "ee7c9832",
   "metadata": {},
   "source": [
    "We next need to filter both the BEELINE and ChIP-Atlas dataset for edges containing genes that are present in both datasets. This filtering helps us to compare the *connections* between shared genes, as we cannot determine whether genes unique to one dataset would have the same edges if that gene were present in the other dataset."
   ]
  },
  {
   "cell_type": "code",
   "execution_count": null,
   "id": "2d2a3c24",
   "metadata": {},
   "outputs": [],
   "source": [
    "valid_targets = set(beeline[\"target_id\"]) & set(chip_closest_tss_df[\"target_id\"])\n",
    "valid_sources = set(beeline[\"source_id\"]) & set(chip_closest_tss_df[\"source_id\"])\n",
    "\n",
    "beeline_shared_genes = beeline[\n",
    "    beeline[\"source_id\"].isin(valid_sources) &\n",
    "    beeline[\"target_id\"].isin(valid_targets)\n",
    "]\n",
    "\n",
    "chip_shared_genes = chip_closest_tss_df[\n",
    "    chip_closest_tss_df[\"source_id\"].isin(valid_sources) &\n",
    "    chip_closest_tss_df[\"target_id\"].isin(valid_targets)\n",
    "]\n",
    "\n",
    "# The distance column will keep duplicate edges with different peak to TSS distances\n",
    "chip_shared_genes = chip_shared_genes.drop(columns=\"distance\").drop_duplicates()"
   ]
  },
  {
   "cell_type": "code",
   "execution_count": null,
   "id": "e14d0717",
   "metadata": {},
   "outputs": [],
   "source": [
    "merged_df = pd.merge(\n",
    "    beeline_shared_genes, \n",
    "    chip_shared_genes, \n",
    "    on=[\"source_id\", \"target_id\"], \n",
    "    how=\"outer\", \n",
    "    indicator=True\n",
    "    )\n",
    "\n",
    "beeline_only = merged_df[merged_df[\"_merge\"] == \"left_only\"]\n",
    "chip_atlas_only = merged_df[merged_df[\"_merge\"] == \"right_only\"]\n",
    "both = merged_df[merged_df[\"_merge\"] == \"both\"]\n",
    "\n",
    "print(f\"Edges only in BEELINE {len(beeline_only):,}\")\n",
    "print(f\"Edges only in ChIP-Atlas {len(chip_atlas_only):,}\")\n",
    "print(f\"Edges present in both {len(both):,}\")"
   ]
  },
  {
   "cell_type": "markdown",
   "id": "3fda1ff6",
   "metadata": {},
   "source": [
    "### Comparing Peak to TSS Distance for Shared vs ChIP-Atlas Only Edges\n",
    "\n",
    "Since there is little overlap, do we see a difference in the groups based on distance to TSS? First, lets re-create the merged_df without dropping the distance column from ChIP-Atlas."
   ]
  },
  {
   "cell_type": "code",
   "execution_count": null,
   "id": "e69b5bf1",
   "metadata": {},
   "outputs": [],
   "source": [
    "beeline_shared_genes = beeline[\n",
    "    beeline[\"source_id\"].isin(valid_sources) &\n",
    "    beeline[\"target_id\"].isin(valid_targets)\n",
    "]\n",
    "\n",
    "chip_shared_genes = chip_closest_tss_df[\n",
    "    chip_closest_tss_df[\"source_id\"].isin(valid_sources) &\n",
    "    chip_closest_tss_df[\"target_id\"].isin(valid_targets)\n",
    "]\n",
    "\n",
    "merged_df = pd.merge(\n",
    "    beeline_shared_genes, \n",
    "    chip_shared_genes, \n",
    "    on=[\"source_id\", \"target_id\"], \n",
    "    how=\"outer\", \n",
    "    indicator=True\n",
    "    )\n",
    "\n",
    "beeline_only = merged_df[merged_df[\"_merge\"] == \"left_only\"]\n",
    "chip_atlas_only = merged_df[merged_df[\"_merge\"] == \"right_only\"]\n",
    "both = merged_df[merged_df[\"_merge\"] == \"both\"]\n",
    "\n",
    "print(f\"Edges only in BEELINE {len(beeline_only):,}\")\n",
    "print(f\"Edges only in ChIP-Atlas {len(chip_atlas_only):,}\")\n",
    "print(f\"Edges present in both {len(both):,}\")"
   ]
  },
  {
   "cell_type": "code",
   "execution_count": null,
   "id": "637cf273",
   "metadata": {},
   "outputs": [],
   "source": [
    "shared_edge_distance = both[\"distance\"].rename(\"Edge in ChIP-Atlas and BEELINE\").reset_index(drop=True)\n",
    "chip_atlas_only_distance = chip_atlas_only[\"distance\"].rename(\"Edge in ChIP-Atlas Only\").reset_index(drop=True)\n",
    "tss_distance_by_shared_edge_df = pd.merge(\n",
    "    shared_edge_distance,\n",
    "    chip_atlas_only_distance,\n",
    "    left_index=True,\n",
    "    right_index=True\n",
    ")"
   ]
  },
  {
   "cell_type": "code",
   "execution_count": null,
   "id": "bd9dad8f",
   "metadata": {},
   "outputs": [],
   "source": [
    "import seaborn as sns\n",
    "import matplotlib.pyplot as plt\n",
    "\n",
    "fig = plt.Figure()\n",
    "a = sns.boxplot(data=tss_distance_by_shared_edge_df, log_scale=True, showfliers=False)\n",
    "a.set_ylabel(\"Peak to TSS Distance\")\n",
    "a.set_title(\"ChIP-Atlas Peak to TSS Distance\")"
   ]
  },
  {
   "cell_type": "code",
   "execution_count": null,
   "id": "a173f014",
   "metadata": {},
   "outputs": [],
   "source": [
    "plt.figure(figsize=(10,8))\n",
    "plt.hist(\n",
    "    tss_distance_by_shared_edge_df[\"Edge in ChIP-Atlas and BEELINE\"],\n",
    "    bins=150,\n",
    "    alpha=0.7,\n",
    "    color='#4195df',\n",
    "    label=\"Edge in ChIP-Atlas and BEELINE\",\n",
    "    log=True\n",
    ")\n",
    "plt.hist(\n",
    "    tss_distance_by_shared_edge_df[\"Edge in ChIP-Atlas Only\"],\n",
    "    bins=150,\n",
    "    alpha=0.7,\n",
    "    color='#dc8634',\n",
    "    label=\"Edge in ChIP-Atlas Only\",\n",
    "    log=True\n",
    ")\n",
    "plt.title(\"ChIP-Atlas Peak to TSS Distance\", fontsize=16)\n",
    "plt.xlabel(\"Peak to TSS Distance\", fontsize=14)\n",
    "plt.ylabel(\"Frequency\", fontsize=14)\n",
    "plt.xticks(fontsize=12)\n",
    "plt.yticks(fontsize=12)\n",
    "plt.legend(bbox_to_anchor=(1.05, 1), loc='upper left', borderaxespad=0., fontsize=14)"
   ]
  },
  {
   "cell_type": "markdown",
   "id": "001e6c80",
   "metadata": {},
   "source": [
    "Peak to TSS distance does not seem to be different between the shared edges and edges only in ChIP-Atlas."
   ]
  }
 ],
 "metadata": {
  "kernelspec": {
   "display_name": "my_env",
   "language": "python",
   "name": "python3"
  },
  "language_info": {
   "codemirror_mode": {
    "name": "ipython",
    "version": 3
   },
   "file_extension": ".py",
   "mimetype": "text/x-python",
   "name": "python",
   "nbconvert_exporter": "python",
   "pygments_lexer": "ipython3",
   "version": "3.9.18"
  }
 },
 "nbformat": 4,
 "nbformat_minor": 5
}
