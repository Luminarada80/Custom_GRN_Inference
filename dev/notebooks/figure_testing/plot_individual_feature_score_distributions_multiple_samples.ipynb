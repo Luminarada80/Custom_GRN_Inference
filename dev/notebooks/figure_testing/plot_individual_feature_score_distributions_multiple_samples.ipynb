{
 "cells": [
  {
   "cell_type": "code",
   "execution_count": null,
   "metadata": {},
   "outputs": [],
   "source": [
    "import pandas as pd\n",
    "import numpy as np\n",
    "import dask.dataframe as dd\n",
    "import matplotlib.pyplot as plt\n",
    "import math\n",
    "import seaborn as sns\n",
    "import os\n",
    "\n",
    "def plot_feature_score_histograms(\n",
    "    features,\n",
    "    inferred_network1,\n",
    "    inferred_network2,\n",
    "    label1_name,\n",
    "    label2_name\n",
    "):\n",
    "    print(\"\\tPlotting feature score histograms\")\n",
    "    \n",
    "    # materialize only needed columns\n",
    "    if isinstance(inferred_network1, dd.DataFrame):\n",
    "        print(\"\\tConverting feature columns from Dask to pandas for plotting\")\n",
    "        inferred_network1 = inferred_network1[features].compute()\n",
    "    if isinstance(inferred_network2, dd.DataFrame):\n",
    "        inferred_network2 = inferred_network2[features].compute()\n",
    "\n",
    "    ncols = 4\n",
    "    nrows = math.ceil(len(features) / ncols)\n",
    "    fig, axes = plt.subplots(nrows, ncols, figsize=(5 * ncols, 4 * nrows), squeeze=False)\n",
    "\n",
    "    # flatten axes for easy indexing\n",
    "    axes_flat = axes.flat\n",
    "\n",
    "    for ax, feature in zip(axes_flat, features):\n",
    "        # draw into this axis explicitly:\n",
    "        sns.histplot(\n",
    "            inferred_network1[feature].dropna(),\n",
    "            bins=50, alpha=0.7,\n",
    "            color='#1682b1', edgecolor=\"#032b5f\",\n",
    "            stat='proportion',\n",
    "            label=label1_name,\n",
    "            ax=ax\n",
    "        )\n",
    "        sns.histplot(\n",
    "            inferred_network2[feature].dropna(),\n",
    "            bins=50, alpha=0.7,\n",
    "            color=\"#cb5f17\", edgecolor=\"#b13301\",\n",
    "            stat='proportion',\n",
    "            label=label2_name,\n",
    "            ax=ax\n",
    "        )\n",
    "\n",
    "        # set titles/labels on the same ax\n",
    "        ax.set_title(feature, fontsize=14)\n",
    "        ax.set_xlabel(feature, fontsize=14)\n",
    "        ax.set_ylabel(\"Proportion\", fontsize=14)\n",
    "        ax.set_xlim(0, 1)\n",
    "        ax.tick_params(axis='both', labelsize=12)\n",
    "\n",
    "    # turn off any leftover empty subplots\n",
    "    for ax in axes_flat[len(features):]:\n",
    "        ax.set_visible(False)\n",
    "\n",
    "    # figure-level legend\n",
    "    handles, labels = axes[0,0].get_legend_handles_labels()\n",
    "    fig.legend(\n",
    "        handles, labels,\n",
    "        loc=\"lower center\",\n",
    "        ncol=2,\n",
    "        fontsize=14,\n",
    "        bbox_to_anchor=(0.5, -0.02)\n",
    "    )\n",
    "    fig.tight_layout(rect=[0, 0.05, 1, 1])\n",
    "    plt.show()"
   ]
  },
  {
   "cell_type": "code",
   "execution_count": null,
   "metadata": {},
   "outputs": [],
   "source": [
    "def load_and_merge_score_datasets(output_dir):\n",
    "    peak_to_gene_corr_df = pd.read_parquet(os.path.join(output_dir, \"peak_to_gene_correlation.parquet\"))\n",
    "    cicero_score_df = pd.read_parquet(os.path.join(output_dir, \"cicero_peak_to_tg_scores.parquet\"))\n",
    "\n",
    "    merged_df = pd.merge(peak_to_gene_corr_df, cicero_score_df, on=[\"peak_id\", \"target_id\"], how=\"outer\")\n",
    "\n",
    "    return merged_df"
   ]
  },
  {
   "cell_type": "code",
   "execution_count": null,
   "metadata": {},
   "outputs": [],
   "source": [
    "ds011_output_dir = \"/gpfs/Labs/Uzun/SCRIPTS/PROJECTS/2024.SINGLE_CELL_GRN_INFERENCE.MOELLER/output/DS011_mESC/DS011_mESC_sample1\"\n",
    "mesc_output_dir = \"/gpfs/Labs/Uzun/SCRIPTS/PROJECTS/2024.SINGLE_CELL_GRN_INFERENCE.MOELLER/output/mESC/filtered_L2_E7.5_rep2\""
   ]
  },
  {
   "cell_type": "code",
   "execution_count": null,
   "metadata": {},
   "outputs": [],
   "source": [
    "ds011_df = load_and_merge_score_datasets(ds011_output_dir)"
   ]
  },
  {
   "cell_type": "code",
   "execution_count": null,
   "metadata": {},
   "outputs": [],
   "source": [
    "mesc_df = load_and_merge_score_datasets(mesc_output_dir)"
   ]
  },
  {
   "cell_type": "code",
   "execution_count": null,
   "metadata": {},
   "outputs": [],
   "source": [
    "feature_names = ['TSS_dist_score', 'correlation', 'cicero_score']\n",
    "plot_feature_score_histograms(feature_names, mesc_df, ds011_df, \"filtered_L2_E7.5_rep2\", \"DS011_mESC_sample1\")"
   ]
  },
  {
   "cell_type": "code",
   "execution_count": null,
   "metadata": {},
   "outputs": [],
   "source": []
  }
 ],
 "metadata": {
  "kernelspec": {
   "display_name": "my_env",
   "language": "python",
   "name": "python3"
  },
  "language_info": {
   "codemirror_mode": {
    "name": "ipython",
    "version": 3
   },
   "file_extension": ".py",
   "mimetype": "text/x-python",
   "name": "python",
   "nbconvert_exporter": "python",
   "pygments_lexer": "ipython3",
   "version": "3.9.18"
  }
 },
 "nbformat": 4,
 "nbformat_minor": 2
}
